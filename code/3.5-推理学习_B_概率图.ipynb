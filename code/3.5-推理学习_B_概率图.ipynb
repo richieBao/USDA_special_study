{
 "cells": [
  {
   "cell_type": "markdown",
   "id": "c7d32e6e-36b0-4856-b0a9-c4cc34ea43f2",
   "metadata": {},
   "source": [
    "> Created on Mon May  8 08:34:55 2023 @author: Richie Bao-caDesign设计(cadesign.cn)"
   ]
  },
  {
   "cell_type": "markdown",
   "id": "22a1d979-1820-4e84-91d5-470d332ff994",
   "metadata": {},
   "source": [
    "# 3.5-B 推理学习：概率图——贝叶斯网络\n",
    "\n",
    "概率图（probabilistic graphical model，PGM）是一种概率模型，其中图作为一个数据结构表示随机变量间的条件依赖关系和概率分布，在应用图论的知识解决概率论相关问题同时，且能够可视化随机变量的关系从而易于理解模型结构。概率图已经发展成熟，并广泛应用到各个领域，其中系统的经典论著有*Probabilistic Graphical Models : Principles and Techniques（概率图模型原理与技术）（2009）*<sup>[1]</sup>。为了避免概率图中繁琐的计算，使用 Python 解决 PGM 问题的库也得以发展，如下表：\n",
    "\n",
    "| 序号  | Python 库  | 库的基本情况  | 备注  |\n",
    "|---|---|---|---|\n",
    "| 1  | [pgmpy](https://github.com/pgmpy/pgmpy)<sup>①</sup>  | 持续更新，是；</br>使用者 $\\geq $ 598人；</br>贡献者 $\\geq $ 100人  | 专著，*Mastering Probabilistic Graphical Models Using Python : Master Probabilistic Graphical Models by Learning through Real-World Problems and Illustrative Code Examples in Python*<sup>[2]</sup> ；</br>[在线手册](https://pgmpy.org/)<sup>②</sup> |\n",
    "| 2  | [pomegranate](https://github.com/jmschrei/pomegranate) <sup>③</sup> | 持续更新，是；</br>使用者 $\\geq $ 891人；</br>贡献者 $\\geq $ 64人 | [在线手册](https://github.com/jmschrei/pomegranate/tree/master/docs/tutorials) <sup>④</sup> |\n",
    "| 3  | [PGM_PyLib](https://github.com/jona2510/PGM_PyLib)<sup>⑤</sup>  | 持续更新，否 | 专著，*Probabilistic Graphical Models : Principles and Applications*<sup>[3]</sup>  |\n",
    "| 4  | [PyGModels](https://github.com/D-K-E/graphical-models/) <sup>⑥</sup> | 持续更新，否  | [在线手册](https://d-k-e.github.io/graphical-models/html/index.html)<sup>⑦</sup>  |\n",
    "| 5  | [pyGMs](https://github.com/ihler/pyGMs) <sup>⑧</sup> |  持续更新，否  | /  |\n",
    "| 6  | [pgmPy](https://github.com/indapa/pgmPy) <sup>⑨</sup> | 持续更新，否  | [课程](https://www.coursera.org/learn/probabilistic-graphical-models)<sup>⑩</sup>  |\n",
    "| 7  | [pgm](https://github.com/paulorauber/pgm) <sup>⑪</sup> | 持续更新，否  | /  |\n",
    "\n",
    "\n",
    "从上述 PGM 相关库的比较，目前仍在持续更新的有`pgmpy`和`pomegranate`两个库，且使用者和贡献者人数相对较多，具有在线手册或者已经出版的研究专著，因此在下述的 PGM 阐述上主要基于`pgmpy`实现，并参考 PGM 主要的论著及`pgmpy`库的手册进行解释。\n",
    "\n",
    "## 3.5.1 基于概率模型的分类器\n",
    "\n",
    "对于多维随机变量，且之间相互独立，如果可以由已知样本（特征）和对应的事件（分类）得每一随机变量的概率密度函数（边缘密度函数）或联合分布律，并以观测到的随机变量为条件计算后验分布，则可以用这个后验分布预测新样本的分类。例如对鸢尾花（iris）数据集，分布用[Skearn（scikit-learn）](https://scikit-learn.org/stable/modules/naive_bayes.html)<sup>⑫</sup>的`GaussianNB`方法，和自定义高斯朴素贝叶斯分类器阐述连续型随机变量概率模型的构建；并将鸢尾花数据集连续型随机变量转化为离散型随机变量，构建用于离散型随机变量分类的概率模型。\n",
    "\n",
    "### 3.5.1.1 连续型随机变量分类器\n",
    "\n",
    "`Sklearn`的`Naive Bayes`（朴素贝叶斯）目前集成了\"Gaussian Naive Bayes\"、\"Multinomial Naive Bayes\"、\"Complement Naive Bayes\"、\"Bernoulli Naive Bayes\"和\"Categorical Naive Bayes\"等算法。下面应用`GaussianNB`试验。\n",
    "\n",
    "#### 1）`scikit-learn`的`GaussianNB`\n",
    "\n",
    "\n"
   ]
  },
  {
   "cell_type": "code",
   "execution_count": 29,
   "id": "df654cdd-07ba-45a5-8978-e4f4522be054",
   "metadata": {
    "tags": []
   },
   "outputs": [],
   "source": [
    "import daft\n",
    "from pgmpy.factors.discrete import TabularCPD\n",
    "from pgmpy.models import BayesianModel\n",
    "\n",
    "from sklearn.datasets import load_iris\n",
    "from sklearn.model_selection import train_test_split\n",
    "from sklearn.naive_bayes import GaussianNB\n",
    "from sklearn import tree\n",
    "from sklearn import preprocessing\n",
    "\n",
    "import numpy as np\n",
    "from scipy.special import logsumexp\n",
    "import pandas as pd\n",
    "from scipy.stats import norm\n",
    "\n",
    "from sympy.stats import P, E, variance, Die, Normal,density\n",
    "from sympy import simplify,Symbol,lambdify"
   ]
  },
  {
   "cell_type": "markdown",
   "id": "542cfde5-6508-4ab3-896f-72d01c3bd011",
   "metadata": {},
   "source": [
    "读取鸢尾花数据集，打印查看数据集情况。总共有4个特征列（'sepal length (cm)', 'sepal width (cm)', 'petal length (cm)', 'petal width (cm)'），每一特征对应一个随机变量，为多维随机变量。数据含3种分类结果（'setosa' 'versicolor' 'virginica'），分别对应标签0、1和2。"
   ]
  },
  {
   "cell_type": "code",
   "execution_count": 41,
   "id": "c3bf7701-7a68-4c7e-b89a-b2d8edcb225b",
   "metadata": {
    "tags": []
   },
   "outputs": [
    {
     "name": "stdout",
     "output_type": "stream",
     "text": [
      "---feature names:\n",
      "['sepal length (cm)', 'sepal width (cm)', 'petal length (cm)', 'petal width (cm)'];\n",
      "---target names['setosa' 'versicolor' 'virginica']\n",
      "---data[:3]:\n",
      "[[5.1 3.5 1.4 0.2]\n",
      " [4.9 3.  1.4 0.2]\n",
      " [4.7 3.2 1.3 0.2]];\n",
      "---target:\n",
      "[0 0 0 0 0 0 0 0 0 0 0 0 0 0 0 0 0 0 0 0 0 0 0 0 0 0 0 0 0 0 0 0 0 0 0 0 0\n",
      " 0 0 0 0 0 0 0 0 0 0 0 0 0 1 1 1 1 1 1 1 1 1 1 1 1 1 1 1 1 1 1 1 1 1 1 1 1\n",
      " 1 1 1 1 1 1 1 1 1 1 1 1 1 1 1 1 1 1 1 1 1 1 1 1 1 1 2 2 2 2 2 2 2 2 2 2 2\n",
      " 2 2 2 2 2 2 2 2 2 2 2 2 2 2 2 2 2 2 2 2 2 2 2 2 2 2 2 2 2 2 2 2 2 2 2 2 2\n",
      " 2 2]\n"
     ]
    }
   ],
   "source": [
    "iris=load_iris()\n",
    "print(f'---feature names:\\n{iris.feature_names};\\n---target names{iris.target_names}\\n---data[:3]:\\n{iris.data[:3]};\\n---target:\\n{iris.target}')"
   ]
  },
  {
   "cell_type": "markdown",
   "id": "7998c4c4-3296-4e88-b707-035dfb81beac",
   "metadata": {},
   "source": [
    "直接使用集成的`GaussianNB`算法估计概率模型，并用该模型测试数据集75个观测样本，正确率为$(75-4)/75=0.946$。"
   ]
  },
  {
   "cell_type": "code",
   "execution_count": 44,
   "id": "15748ee6-d30a-4b40-8c3f-8655381f16c0",
   "metadata": {
    "tags": []
   },
   "outputs": [
    {
     "name": "stdout",
     "output_type": "stream",
     "text": [
      "Number of mislabeled points out of a total 75 points : 4\n"
     ]
    }
   ],
   "source": [
    "X, y=load_iris(return_X_y=True)\n",
    "X_train, X_test, y_train, y_test=train_test_split(X, y, test_size=0.5, random_state=0)\n",
    "gnb=GaussianNB()\n",
    "y_pred=gnb.fit(X_train, y_train).predict(X_test)\n",
    "print(\"Number of mislabeled points out of a total %d points : %d\" % (X_test.shape[0], (y_test != y_pred).sum()))"
   ]
  },
  {
   "cell_type": "markdown",
   "id": "cdeff780-88bf-48e0-8c15-70e9fc3884ae",
   "metadata": {},
   "source": [
    "使用集成封装后的方法不能够直接观察计算的过程，因此提取`GaussianNB`方法的主要代码行，整理如下。其中`update_mean_variance`方法用于计算用于高斯分布的样本特征均值和方差。`joint_log_likelihood`方法用于构建联合对数概率估计（joint log probability estimates）。\n",
    "\n",
    "> `GaussianNB`方法位于`Sklearn`包的`naive_bayes.py`模块下。"
   ]
  },
  {
   "cell_type": "code",
   "execution_count": 58,
   "id": "10bfbe1c-a8e0-437e-8c1f-6d4cc9a13574",
   "metadata": {
    "tags": []
   },
   "outputs": [],
   "source": [
    "def update_mean_variance(n_past, mu, var, X):\n",
    "    if X.shape[0] == 0:\n",
    "        return mu, var\n",
    "    \n",
    "    n_new=X.shape[0]\n",
    "    new_var=np.var(X, axis=0)\n",
    "    new_mu=np.mean(X, axis=0)\n",
    "    \n",
    "    if n_past == 0:\n",
    "        return new_mu, new_var    \n",
    "    \n",
    "    n_total=float(n_past + n_new)\n",
    "    total_mu=(n_new * new_mu + n_past * mu) / n_total\n",
    "    old_ssd=n_past * var\n",
    "    new_ssd=n_new * new_var\n",
    "    total_ssd=old_ssd + new_ssd + (n_new * n_past / n_total) * (mu - new_mu) ** 2\n",
    "    total_var=total_ssd / n_total\n",
    "    \n",
    "    return total_mu, total_var\n",
    "\n",
    "def joint_log_likelihood(X,classes_,class_prior_,var_,theta_):\n",
    "    joint_log_likelihood = []\n",
    "    for i in range(np.size(classes_)):\n",
    "        jointi = np.log(class_prior_[i])\n",
    "        n_ij = -0.5 * np.sum(np.log(2.0 * np.pi * var_[i, :]))\n",
    "        n_ij -= 0.5 * np.sum(((X - theta_[i, :]) ** 2) / (var_[i, :]), 1)\n",
    "        joint_log_likelihood.append(jointi + n_ij)\n",
    "    \n",
    "    joint_log_likelihood = np.array(joint_log_likelihood).T\n",
    "    return joint_log_likelihood"
   ]
  },
  {
   "cell_type": "code",
   "execution_count": 67,
   "id": "687500d3-24e8-464f-84c2-460d3d45e46c",
   "metadata": {
    "tags": []
   },
   "outputs": [
    {
     "name": "stdout",
     "output_type": "stream",
     "text": [
      "[[   0.8762294   -32.51665712  -73.95573104]\n",
      " [-556.7018906    -5.71630183   -3.68412747]\n",
      " [-119.04667384   -5.66092211  -28.96539079]]\n",
      "[0 2 1 0 1 2 1 0 2 2 2 2 0 0 2 2 0 2 0 2 2 0 0 2 0 0 0 1 2 2 0 0 0 1 1 0 0\n",
      " 1 0 2 1 2 1 0 2 0 2 0 0 2 0 2 1 1 1 2 2 1 2 0 1 2 2 0 1 1 2 1 0 0 0 2 1 2\n",
      " 0]\n"
     ]
    }
   ],
   "source": [
    "X=X_train\n",
    "y=y_train\n",
    "\n",
    "_, n_features=X.shape\n",
    "labelbin=preprocessing.LabelBinarizer()\n",
    "Y=labelbin.fit_transform(y)\n",
    "classes_=labelbin.classes_\n",
    "n_classes=Y.shape[1]\n",
    "class_log_prior_=np.full(n_classes, -np.log(n_classes))\n",
    "\n",
    "unique_y=np.unique(y)\n",
    "\n",
    "class_count_=np.zeros(n_classes, dtype=np.float64)\n",
    "theta_=np.zeros((n_classes, n_features))\n",
    "var_ = np.zeros((n_classes, n_features))\n",
    "\n",
    "var_smoothing=1e-9\n",
    "epsilon_=var_smoothing * np.var(X, axis=0).max()\n",
    "\n",
    "for y_i in unique_y:\n",
    "    i=classes_.searchsorted(y_i)\n",
    "    X_i=X[y == y_i, :]\n",
    "    N_i=X_i.shape[0]\n",
    "    \n",
    "    new_theta, new_sigma=update_mean_variance(class_count_[i],theta_[i, :],var_[i, :],X_i)\n",
    "    theta_[i, :]=new_theta\n",
    "    var_[i, :]=new_sigma\n",
    "    class_count_[i] += N_i\n",
    "    \n",
    "var_[:, :] += epsilon_\n",
    "\n",
    "class_prior_=class_count_ / class_count_.sum()\n",
    "jll=joint_log_likelihood(X,classes_,class_prior_,var_,theta_)\n",
    "print(jll[:3])\n",
    "predicted_y=classes_[np.argmax(jll, axis=1)]\n",
    "print(predicted_y)"
   ]
  },
  {
   "cell_type": "markdown",
   "id": "e1c92f88-c348-4689-9127-072781de1874",
   "metadata": {},
   "source": [
    "#### 2） 自定义高斯朴素贝叶斯分类器\n",
    "\n",
    "朴素（简单）贝叶斯分类器（Naive Bayes Classifier，NBC）是基于给定类变量（分类$y$）的所有属性（对应特征的随机变量$(X_1,X_2,\\cdots,X_n)$）都是独立的假设，有$P(y \\mid x_1, \\dots, x_n) = \\frac{P(y) P(x_1, \\dots, x_n \\mid y)}{P(x_1, \\dots, x_n)}$，及$P(x_i | y, x_1, \\dots, x_{i-1}, x_{i+1}, \\dots, x_n) = P(x_i | y)$，可以推导出$P(y \\mid x_1, \\dots, x_n) = \\frac{P(y) \\prod_{i=1}^{n} P(x_i \\mid y)} {P(x_1, \\dots, x_n)}$。因为$(P(x_1, \\dots, x_n)$作为常数输入，所以分类规则为：$\\begin{aligned}P(y \\mid x_1, \\dots, x_n) \\propto P(y) \\prod_{i=1}^{n} P(x_i \\mid y)\\\\\\Downarrow\\\\\\hat{y} = \\arg\\max_y P(y) \\prod_{i=1}^{n} P(x_i \\mid y),\\end{aligned}$。可以使用最大后验概率（ Maximum A Posteriori，MAP）估计$P(y)$和$P(x_i \\mid y)$。不同类的朴素贝叶斯分类器的差异主要在于对$P(x_i \\mid y)$的定义<sup>[4]</sup>。\n",
    "\n",
    "虽然朴素贝叶斯的假设过于简化，但在现实世界的许多情况下运行良好；且可以用少量的训练数据来估计必要的参数。\n",
    "    \n",
    "定义高斯朴素贝叶斯分类器`Gaussian_naive_bayes_classifier`类。为了简化代码书写，更清晰的表述分类器的算法机制，对随机变量概率密度函数（使用高斯分布）的定义，使用了`SymPy`库直接书写；并使用`pandas`的`DataFrame`数据结构，尽量一一对应不同变量之间的对应关系，便于理解。"
   ]
  },
  {
   "cell_type": "code",
   "execution_count": 68,
   "id": "b48181c2-ee23-4184-a628-b0a81e4a2304",
   "metadata": {
    "tags": []
   },
   "outputs": [
    {
     "name": "stdout",
     "output_type": "stream",
     "text": [
      "Number of mislabeled points out of a total 75 points : 2\n",
      "Number of mislabeled points out of a total 75 points : 5\n"
     ]
    },
    {
     "data": {
      "text/html": [
       "<div>\n",
       "<style scoped>\n",
       "    .dataframe tbody tr th:only-of-type {\n",
       "        vertical-align: middle;\n",
       "    }\n",
       "\n",
       "    .dataframe tbody tr th {\n",
       "        vertical-align: top;\n",
       "    }\n",
       "\n",
       "    .dataframe thead th {\n",
       "        text-align: right;\n",
       "    }\n",
       "</style>\n",
       "<table border=\"1\" class=\"dataframe\">\n",
       "  <thead>\n",
       "    <tr style=\"text-align: right;\">\n",
       "      <th></th>\n",
       "      <th>0</th>\n",
       "      <th>1</th>\n",
       "      <th>2</th>\n",
       "      <th>p_max_target</th>\n",
       "      <th>target</th>\n",
       "      <th>correct</th>\n",
       "    </tr>\n",
       "  </thead>\n",
       "  <tbody>\n",
       "    <tr>\n",
       "      <th>0</th>\n",
       "      <td>3.99493353970977e-289</td>\n",
       "      <td>1.05404275436796e-6</td>\n",
       "      <td>0.0449990901096858</td>\n",
       "      <td>2</td>\n",
       "      <td>2</td>\n",
       "      <td>True</td>\n",
       "    </tr>\n",
       "    <tr>\n",
       "      <th>1</th>\n",
       "      <td>4.56660272749500e-102</td>\n",
       "      <td>0.119858087756389</td>\n",
       "      <td>4.33560630854775e-10</td>\n",
       "      <td>1</td>\n",
       "      <td>1</td>\n",
       "      <td>True</td>\n",
       "    </tr>\n",
       "    <tr>\n",
       "      <th>2</th>\n",
       "      <td>0.312501002072666</td>\n",
       "      <td>6.15924326913282e-18</td>\n",
       "      <td>1.25771736578052e-32</td>\n",
       "      <td>0</td>\n",
       "      <td>0</td>\n",
       "      <td>True</td>\n",
       "    </tr>\n",
       "    <tr>\n",
       "      <th>3</th>\n",
       "      <td>1.89560807069258e-374</td>\n",
       "      <td>6.83814201533865e-7</td>\n",
       "      <td>0.136003790622231</td>\n",
       "      <td>2</td>\n",
       "      <td>2</td>\n",
       "      <td>True</td>\n",
       "    </tr>\n",
       "    <tr>\n",
       "      <th>4</th>\n",
       "      <td>14.7330640043679</td>\n",
       "      <td>1.04705609546837e-13</td>\n",
       "      <td>1.51596858717064e-30</td>\n",
       "      <td>0</td>\n",
       "      <td>0</td>\n",
       "      <td>True</td>\n",
       "    </tr>\n",
       "  </tbody>\n",
       "</table>\n",
       "</div>"
      ],
      "text/plain": [
       "                       0                     1                     2  \\\n",
       "0  3.99493353970977e-289   1.05404275436796e-6    0.0449990901096858   \n",
       "1  4.56660272749500e-102     0.119858087756389  4.33560630854775e-10   \n",
       "2      0.312501002072666  6.15924326913282e-18  1.25771736578052e-32   \n",
       "3  1.89560807069258e-374   6.83814201533865e-7     0.136003790622231   \n",
       "4       14.7330640043679  1.04705609546837e-13  1.51596858717064e-30   \n",
       "\n",
       "   p_max_target  target  correct  \n",
       "0             2       2     True  \n",
       "1             1       1     True  \n",
       "2             0       0     True  \n",
       "3             2       2     True  \n",
       "4             0       0     True  "
      ]
     },
     "execution_count": 68,
     "metadata": {},
     "output_type": "execute_result"
    }
   ],
   "source": [
    "class Gaussian_naive_bayes_classifier:   \n",
    "    '''\n",
    "    高斯朴素贝叶斯分类器。使用到SymPy库计算\n",
    "    '''\n",
    "\n",
    "    def fit(self,X, y,feature_names):     \n",
    "        '''\n",
    "        由已知样本数据，构建各随机变量边缘概率密集函数，预测新样本类别函数和计算精度\n",
    "\n",
    "        Parameters\n",
    "        ----------\n",
    "        X : array\n",
    "            样本特征.\n",
    "        y : array\n",
    "            分类标签.\n",
    "        feature_names : List[string]\n",
    "            特征名称列表.\n",
    "\n",
    "        Returns\n",
    "        -------\n",
    "        Class\n",
    "            类的属性值.\n",
    "\n",
    "        '''\n",
    "        self.feature_names=feature_names\n",
    "        \n",
    "        df=pd.DataFrame(X,columns=feature_names)\n",
    "        df['target']=y       \n",
    "        mean_std=df.groupby(by=['target']).agg([\"mean\",\"std\"])     \n",
    "        self.norms=mean_std.apply(self.norm_func,args=(feature_names,), axis=1, result_type='expand')  \n",
    "        joint_prob=self.job_prob_func(df)     \n",
    "        self.mislabeled(joint_prob,X,y)\n",
    "        \n",
    "        return self\n",
    "        \n",
    "    def norm_func(self,row,feature_names):\n",
    "        '''\n",
    "        由已知样本数据计算的均值和标注差，构建各随机变量边缘概率密集函数（假设服从正态分布）。用于DataFrame.apply()方法\n",
    "\n",
    "        Parameters\n",
    "        ----------\n",
    "        row : Series\n",
    "            由已知样本数据计算的均值和标注差.\n",
    "        feature_names : List[string]\n",
    "            特征名称列表.\n",
    "\n",
    "        Returns\n",
    "        -------\n",
    "        Series\n",
    "            随机变量的边缘密度函数.\n",
    "\n",
    "        '''\n",
    "        norms_lst=[]\n",
    "        for feature_name in feature_names:\n",
    "            dens=density(Normal('X',row[feature_name]['mean'],row[feature_name]['std']))\n",
    "            norms_lst.append(dens)\n",
    "\n",
    "        return pd.Series(norms_lst,index=feature_names)        \n",
    "        \n",
    "    def prob_prod(self,row,norms_df):\n",
    "        '''\n",
    "        假设随机变量相互独立，由边缘密度函数计算给定特征值的概率。用于DataFrame.apply()方法\n",
    "\n",
    "        Parameters\n",
    "        ----------\n",
    "        row : Series\n",
    "            特征值.\n",
    "        norms_df : DataFrame\n",
    "            随机变量的边缘密度函数.\n",
    "\n",
    "        Returns\n",
    "        -------\n",
    "        Series\n",
    "            概率值.\n",
    "\n",
    "        '''\n",
    "        p_prods=[]\n",
    "        idxes=[]\n",
    "        for idx,norms_target in norms_df.iterrows():\n",
    "            norms_target_lst=norms_target.values    \n",
    "            p_prod=np.prod([norm(x).evalf() for norm,x in zip(norms_target_lst,row)])\n",
    "            p_prods.append(p_prod)\n",
    "            idxes.append(idx)\n",
    "        return pd.Series(p_prods,index=idxes)   \n",
    "    \n",
    "    def job_prob_func(self,df):\n",
    "        '''\n",
    "        联合概率\n",
    "\n",
    "        Parameters\n",
    "        ----------\n",
    "        df : DataFrame\n",
    "            特征值.\n",
    "\n",
    "        Returns\n",
    "        -------\n",
    "        joint_prob : DataFrame\n",
    "            各个样本对应分类的概率.\n",
    "\n",
    "        '''\n",
    "        joint_prob=df.apply(self.prob_prod,args=(self.norms,),axis=1)\n",
    "        joint_prob['p_max_target']=joint_prob.apply(lambda row:row.astype(float).idxmax(),axis=1)        \n",
    "        \n",
    "        return joint_prob\n",
    "    \n",
    "    def predict(self,X):\n",
    "        '''\n",
    "        根据构建的后验分布（预测模型）预测新样本数据的分类\n",
    "\n",
    "        Parameters\n",
    "        ----------\n",
    "        X : array\n",
    "            样本特征值.\n",
    "\n",
    "        Returns\n",
    "        -------\n",
    "        joint_prob_predicted : DataFrame\n",
    "            预测分类结果和概率.\n",
    "\n",
    "        '''\n",
    "        df=pd.DataFrame(X,columns=self.feature_names)\n",
    "        joint_prob_predicted=self.job_prob_func(df)      \n",
    "        \n",
    "        return joint_prob_predicted\n",
    "    \n",
    "    def mislabeled(self,joint_prob,X,y):\n",
    "        '''\n",
    "        计算分类精度\n",
    "\n",
    "        Parameters\n",
    "        ----------\n",
    "        joint_prob : DataFrame\n",
    "            预测分类结果数据.\n",
    "        X : array\n",
    "            样本特征值.\n",
    "        y : array\n",
    "            样本分类值.\n",
    "\n",
    "        Returns\n",
    "        -------\n",
    "        None.\n",
    "\n",
    "        '''\n",
    "        joint_prob['target']=y\n",
    "        joint_prob['correct']=joint_prob.apply(lambda row:row.p_max_target==row.target,axis=1) \n",
    "        print(\"Number of mislabeled points out of a total %d points : %d\" % (X.shape[0],X.shape[0]-joint_prob['correct'].sum()))          \n",
    "        \n",
    "\n",
    "iris_classification=Gaussian_naive_bayes_classifier()\n",
    "iris_classification.fit(X_train,y_train,['sepal_length','sepal_width','petal_length','petal_width'])\n",
    "test_predicted=iris_classification.predict(X_test)\n",
    "iris_classification.mislabeled(test_predicted,X_test,y_test)\n",
    "test_predicted.head()"
   ]
  },
  {
   "cell_type": "markdown",
   "id": "8fe478d7-dfa8-4901-8448-7098525ae921",
   "metadata": {},
   "source": [
    "打印随机变量的边缘密度函数，即$P(x_i \\mid y)$，由`SymPy`方式表示。"
   ]
  },
  {
   "cell_type": "code",
   "execution_count": 35,
   "id": "3edbea39-f823-4799-ab3b-95213f39d5a9",
   "metadata": {
    "tags": []
   },
   "outputs": [
    {
     "data": {
      "text/html": [
       "<div>\n",
       "<style scoped>\n",
       "    .dataframe tbody tr th:only-of-type {\n",
       "        vertical-align: middle;\n",
       "    }\n",
       "\n",
       "    .dataframe tbody tr th {\n",
       "        vertical-align: top;\n",
       "    }\n",
       "\n",
       "    .dataframe thead th {\n",
       "        text-align: right;\n",
       "    }\n",
       "</style>\n",
       "<table border=\"1\" class=\"dataframe\">\n",
       "  <thead>\n",
       "    <tr style=\"text-align: right;\">\n",
       "      <th></th>\n",
       "      <th>sepal_length</th>\n",
       "      <th>sepal_width</th>\n",
       "      <th>petal_length</th>\n",
       "      <th>petal_width</th>\n",
       "    </tr>\n",
       "    <tr>\n",
       "      <th>target</th>\n",
       "      <th></th>\n",
       "      <th></th>\n",
       "      <th></th>\n",
       "      <th></th>\n",
       "    </tr>\n",
       "  </thead>\n",
       "  <tbody>\n",
       "    <tr>\n",
       "      <th>0</th>\n",
       "      <td>NormalDistribution(4.97586206896552, 0.3269503...</td>\n",
       "      <td>NormalDistribution(3.35862068965517, 0.3698621...</td>\n",
       "      <td>NormalDistribution(1.44827586206897, 0.1298919...</td>\n",
       "      <td>NormalDistribution(0.23448275862069, 0.0936401...</td>\n",
       "    </tr>\n",
       "    <tr>\n",
       "      <th>1</th>\n",
       "      <td>NormalDistribution(5.935, 0.5193872908483)</td>\n",
       "      <td>NormalDistribution(2.71, 0.295403381657585)</td>\n",
       "      <td>NormalDistribution(4.185, 0.518372960633355)</td>\n",
       "      <td>NormalDistribution(1.3, 0.220047841688072)</td>\n",
       "    </tr>\n",
       "    <tr>\n",
       "      <th>2</th>\n",
       "      <td>NormalDistribution(6.77692307692308, 0.6358035...</td>\n",
       "      <td>NormalDistribution(3.09230769230769, 0.3248668...</td>\n",
       "      <td>NormalDistribution(5.73461538461538, 0.5705732...</td>\n",
       "      <td>NormalDistribution(2.10769230769231, 0.2225723...</td>\n",
       "    </tr>\n",
       "  </tbody>\n",
       "</table>\n",
       "</div>"
      ],
      "text/plain": [
       "                                             sepal_length  \\\n",
       "target                                                      \n",
       "0       NormalDistribution(4.97586206896552, 0.3269503...   \n",
       "1              NormalDistribution(5.935, 0.5193872908483)   \n",
       "2       NormalDistribution(6.77692307692308, 0.6358035...   \n",
       "\n",
       "                                              sepal_width  \\\n",
       "target                                                      \n",
       "0       NormalDistribution(3.35862068965517, 0.3698621...   \n",
       "1             NormalDistribution(2.71, 0.295403381657585)   \n",
       "2       NormalDistribution(3.09230769230769, 0.3248668...   \n",
       "\n",
       "                                             petal_length  \\\n",
       "target                                                      \n",
       "0       NormalDistribution(1.44827586206897, 0.1298919...   \n",
       "1            NormalDistribution(4.185, 0.518372960633355)   \n",
       "2       NormalDistribution(5.73461538461538, 0.5705732...   \n",
       "\n",
       "                                              petal_width  \n",
       "target                                                     \n",
       "0       NormalDistribution(0.23448275862069, 0.0936401...  \n",
       "1              NormalDistribution(1.3, 0.220047841688072)  \n",
       "2       NormalDistribution(2.10769230769231, 0.2225723...  "
      ]
     },
     "execution_count": 35,
     "metadata": {},
     "output_type": "execute_result"
    }
   ],
   "source": [
    "iris_classification.norms"
   ]
  },
  {
   "cell_type": "markdown",
   "id": "81a55f1d-cbb3-4511-85dd-409aaa6df24b",
   "metadata": {},
   "source": [
    "### 3.5.1.2 离散型随机变量分类器\n",
    "\n",
    "仍然使用鸢尾花数据集，但是需要将特征值转化为整数形式，构成离散型随机变量的输入。通过`self.joint_prob=Xy.groupby(by=Xy.columns.tolist()).size() / len(Xy)`代码计算多维随机变量的联合分布律，结果如`iris_classification_discrete.joint_prob`所示，并通过已知分类计算后验概率，则可以通过后验概率推断新样本对应的分类值，即将离散型样本特征值对应到联合分布律，结果可能有对应不同分类结果的多个概率值，其中最大概率对应的分类即为估计的分类结果。\n",
    "\n",
    "从测试数据集的预测结果来看，正确率为$(30-2)/30=0.933$。"
   ]
  },
  {
   "cell_type": "code",
   "execution_count": 93,
   "id": "77e854fa-81c1-4567-9629-926d7f9e32df",
   "metadata": {
    "tags": []
   },
   "outputs": [
    {
     "data": {
      "text/html": [
       "<div>\n",
       "<style scoped>\n",
       "    .dataframe tbody tr th:only-of-type {\n",
       "        vertical-align: middle;\n",
       "    }\n",
       "\n",
       "    .dataframe tbody tr th {\n",
       "        vertical-align: top;\n",
       "    }\n",
       "\n",
       "    .dataframe thead th {\n",
       "        text-align: right;\n",
       "    }\n",
       "</style>\n",
       "<table border=\"1\" class=\"dataframe\">\n",
       "  <thead>\n",
       "    <tr style=\"text-align: right;\">\n",
       "      <th></th>\n",
       "      <th>sepal_length</th>\n",
       "      <th>sepal_width</th>\n",
       "      <th>petal_length</th>\n",
       "      <th>petal_width</th>\n",
       "      <th>type</th>\n",
       "    </tr>\n",
       "  </thead>\n",
       "  <tbody>\n",
       "    <tr>\n",
       "      <th>86</th>\n",
       "      <td>7</td>\n",
       "      <td>3</td>\n",
       "      <td>5</td>\n",
       "      <td>2</td>\n",
       "      <td>1</td>\n",
       "    </tr>\n",
       "    <tr>\n",
       "      <th>78</th>\n",
       "      <td>6</td>\n",
       "      <td>3</td>\n",
       "      <td>4</td>\n",
       "      <td>2</td>\n",
       "      <td>1</td>\n",
       "    </tr>\n",
       "    <tr>\n",
       "      <th>61</th>\n",
       "      <td>6</td>\n",
       "      <td>3</td>\n",
       "      <td>4</td>\n",
       "      <td>2</td>\n",
       "      <td>1</td>\n",
       "    </tr>\n",
       "    <tr>\n",
       "      <th>89</th>\n",
       "      <td>6</td>\n",
       "      <td>2</td>\n",
       "      <td>4</td>\n",
       "      <td>1</td>\n",
       "      <td>1</td>\n",
       "    </tr>\n",
       "    <tr>\n",
       "      <th>138</th>\n",
       "      <td>6</td>\n",
       "      <td>3</td>\n",
       "      <td>5</td>\n",
       "      <td>2</td>\n",
       "      <td>2</td>\n",
       "    </tr>\n",
       "    <tr>\n",
       "      <th>...</th>\n",
       "      <td>...</td>\n",
       "      <td>...</td>\n",
       "      <td>...</td>\n",
       "      <td>...</td>\n",
       "      <td>...</td>\n",
       "    </tr>\n",
       "    <tr>\n",
       "      <th>90</th>\n",
       "      <td>6</td>\n",
       "      <td>3</td>\n",
       "      <td>4</td>\n",
       "      <td>1</td>\n",
       "      <td>1</td>\n",
       "    </tr>\n",
       "    <tr>\n",
       "      <th>38</th>\n",
       "      <td>4</td>\n",
       "      <td>3</td>\n",
       "      <td>1</td>\n",
       "      <td>0</td>\n",
       "      <td>0</td>\n",
       "    </tr>\n",
       "    <tr>\n",
       "      <th>121</th>\n",
       "      <td>6</td>\n",
       "      <td>3</td>\n",
       "      <td>5</td>\n",
       "      <td>2</td>\n",
       "      <td>2</td>\n",
       "    </tr>\n",
       "    <tr>\n",
       "      <th>54</th>\n",
       "      <td>6</td>\n",
       "      <td>3</td>\n",
       "      <td>5</td>\n",
       "      <td>2</td>\n",
       "      <td>1</td>\n",
       "    </tr>\n",
       "    <tr>\n",
       "      <th>84</th>\n",
       "      <td>5</td>\n",
       "      <td>3</td>\n",
       "      <td>4</td>\n",
       "      <td>2</td>\n",
       "      <td>1</td>\n",
       "    </tr>\n",
       "  </tbody>\n",
       "</table>\n",
       "<p>120 rows × 5 columns</p>\n",
       "</div>"
      ],
      "text/plain": [
       "     sepal_length  sepal_width  petal_length  petal_width  type\n",
       "86              7            3             5            2     1\n",
       "78              6            3             4            2     1\n",
       "61              6            3             4            2     1\n",
       "89              6            2             4            1     1\n",
       "138             6            3             5            2     2\n",
       "..            ...          ...           ...          ...   ...\n",
       "90              6            3             4            1     1\n",
       "38              4            3             1            0     0\n",
       "121             6            3             5            2     2\n",
       "54              6            3             5            2     1\n",
       "84              5            3             4            2     1\n",
       "\n",
       "[120 rows x 5 columns]"
      ]
     },
     "execution_count": 93,
     "metadata": {},
     "output_type": "execute_result"
    }
   ],
   "source": [
    "mini_iris = np.round(iris.data[:, :]).astype(int)\n",
    "data = pd.DataFrame(mini_iris, columns=['sepal_length','sepal_width','petal_length','petal_width'])\n",
    "data['type'] = iris.target\n",
    "\n",
    "#Shuffle data\n",
    "data = data.iloc[np.random.permutation(len(data))]\n",
    "X_train, X_test=data[:120], data[120:]\n",
    "X_train"
   ]
  },
  {
   "cell_type": "code",
   "execution_count": 94,
   "id": "6c14ba0a-fdb0-4619-8090-b165a62eae40",
   "metadata": {
    "tags": []
   },
   "outputs": [
    {
     "name": "stdout",
     "output_type": "stream",
     "text": [
      "Number of mislabeled points out of a total 30 points : 2\n"
     ]
    }
   ],
   "source": [
    "class Discrete_probabilisitic_model_classifier:\n",
    "    '''\n",
    "    定义多维离散型随机变量分类器概率模型\n",
    "    '''    \n",
    "    def fit(self,Xy):\n",
    "        self.joint_prob=Xy.groupby(by=Xy.columns.tolist()).size() / len(Xy)\n",
    "        \n",
    "        return self\n",
    "    \n",
    "    def predict(self,X):\n",
    "        predicted_values = []\n",
    "        for idx,row in X.iterrows():   \n",
    "            try:\n",
    "                for i,v in enumerate(row):\n",
    "                    if i==0:\n",
    "                        multiIndex_val=self.joint_prob[v]\n",
    "                    else:\n",
    "                        multiIndex_val=multiIndex_val[v]\n",
    "                        \n",
    "                predicted_values.append(multiIndex_val.idxmax())\n",
    "            except:\n",
    "                predicted_values.append(-1)\n",
    "                \n",
    "        return predicted_values\n",
    "    \n",
    "    def mislabeled(self,y_,y):\n",
    "        y_y=zip(y_,y)\n",
    "        mislabeled_num=sum([i[0]!=i[1] for i in y_y])\n",
    "        print(\"Number of mislabeled points out of a total %d points : %d\" % (len(y_),mislabeled_num))   \n",
    "\n",
    "iris_classification_discrete=Discrete_probabilisitic_model_classifier()\n",
    "iris_classification_discrete.fit(X_train)\n",
    "predicted_values=iris_classification_discrete.predict(X_test[['sepal_length','sepal_width','petal_length','petal_width']])\n",
    "iris_classification_discrete.mislabeled(predicted_values,X_test.type.to_numpy())"
   ]
  },
  {
   "cell_type": "code",
   "execution_count": 95,
   "id": "647d62d0-ae65-418e-a376-2c62a59ddeb1",
   "metadata": {
    "tags": []
   },
   "outputs": [
    {
     "data": {
      "text/plain": [
       "sepal_length  sepal_width  petal_length  petal_width  type\n",
       "4             2            1             0            0       0.008333\n",
       "              3            1             0            0       0.025000\n",
       "5             2            3             1            1       0.025000\n",
       "                           4             1            1       0.008333\n",
       "                                         2            2       0.008333\n",
       "              3            1             0            0       0.041667\n",
       "                           2             0            0       0.075000\n",
       "                           4             1            1       0.008333\n",
       "                                         2            1       0.008333\n",
       "              4            1             0            0       0.058333\n",
       "                           2             0            0       0.058333\n",
       "                                         1            0       0.008333\n",
       "6             2            4             1            1       0.033333\n",
       "                                         2            1       0.008333\n",
       "                           5             2            1       0.008333\n",
       "                                                      2       0.016667\n",
       "              3            4             1            1       0.116667\n",
       "                                         2            1       0.041667\n",
       "                           5             1            1       0.008333\n",
       "                                         2            1       0.025000\n",
       "                                                      2       0.108333\n",
       "                           6             1            2       0.008333\n",
       "                                         2            2       0.041667\n",
       "              4            1             0            0       0.016667\n",
       "                           2             0            0       0.016667\n",
       "7             3            4             1            1       0.016667\n",
       "                           5             1            1       0.016667\n",
       "                                         2            1       0.025000\n",
       "                                                      2       0.025000\n",
       "                           6             2            2       0.075000\n",
       "              4            6             2            2       0.008333\n",
       "8             3            6             2            2       0.008333\n",
       "                           7             2            2       0.025000\n",
       "              4            6             2            2       0.008333\n",
       "                           7             2            2       0.008333\n",
       "dtype: float64"
      ]
     },
     "execution_count": 95,
     "metadata": {},
     "output_type": "execute_result"
    }
   ],
   "source": [
    "iris_classification_discrete.joint_prob"
   ]
  },
  {
   "cell_type": "markdown",
   "id": "2b723874-8e26-4e83-8f56-748e7b643069",
   "metadata": {},
   "source": [
    "## 3.5.2  离散型贝叶斯网络——表征（Representation）与推理（Inference）\n",
    "\n",
    "从前文基于概率模型构建的分类器可以得知，联合概率分布与每个随机变量的状态（样本点）基数（cardinality）成指数关系，如果每个具有10个状态的10个随机变量，其联合分布的大小将为$10^{10}$，因此具有大量特征和状态基数的复杂问题简单的应用概率会由于计算限制，使得推理变得困难。因此，引入概率图模型（Proababilistic Graphical Models，PGM），结合概率论和图论，通过利用随机变量之间的（条件）独立性紧凑的表征联合概率分布的技术。使用图可以简明地表示一组变量之间的依赖关系和独立性，从而能够进行有效的推理。每个图模型的特征在于图结构，例如为有向图、无向图或二者兼有，及图相关联的一组参数，例如对应每个节点（表示随机变量）的（条件）概率分布表（Conditional probability distribution，CPD）。\n",
    "\n",
    "问题描述：这里参考[InVEST（Integrated Valuation of Ecosystem Services and Tradeoffs）](https://naturalcapitalproject.stanford.edu/software/invest)<sup>⑬</sup>中生境质量、生境风险评估与碳储存和封存构建了一个假设的简化问题模型，用于阐述 PGM 的贝叶斯网络（Bayesian Network，BN）。这个问题包含5个随机变量，\n",
    "\n",
    "* 生境威胁（Threat，TH），对栖息地构成威胁的影响大小，假设包含3个状态为：$Val(TH)=\\{strong, moderate,weak\\}$；\n",
    "* 生境类型（Habitat，HA），即土地利用和覆盖类型（LULC）是否适合生物繁衍，假设包含2个状态为：$Val(HA)=\\{suitable, not suitable\\}$;\n",
    "* 碳储存（Carbon Storage，CS），适合生物栖息的生境通常具有良好的自然环境，往往也具有更高的碳储存水平，例如森林在碳库（carbon pools）中含有最多的碳，假设包含3个状态为：$Val(CS)=\\{rich, average,poor\\}$；\n",
    "* 生境质量（Habitat Quality，HQ），为生物多样性的一种反映，假设包含2个状态为：$Val(HQ)=\\{good, bad$\\}；\n",
    "* 生境风险（Habitat Risk，HR），评估人类活动对生境和物种造成的累积风险，假设包含2个状态为：$Val(HR)=\\{high, low\\}$。\n",
    "\n",
    "那么问题是，如果已知任何一个或多个随机变量的状态，如何估计其它随机变量的状态概率从而推断出最可能的状态，例如，已知生境威胁为`'weak'`，生境类型为`'suitable'`，那么如何估计生境质量的状态概率，即为`'good'`和`'bad'`的概率，从而推断对应最大概率的状态即为在给定条件下最可能的状态；又或者，已知生境质量和生境风险评估，估计生境威胁或者生境类型状态等。\n",
    "\n",
    "### 3.5.2.1 表征\n",
    "\n",
    "PGM 以图为结构，以 CPDs为节点（随机变量）参数，因此为了以一种易于图示理解的方式构建 PGM，\n",
    "\n",
    "1. 首先用[daft](https://docs.daft-pgm.org/en/latest/)<sup>⑭ </sup>库根据问题设计构建图，表达随机变量和随机变量之间的关系影响；\n",
    "2. 根据图，使用[pgmpy](https://pgmpy.org/index.html)<sup>①</sup>库建立各个随机变量的 CPDs；\n",
    "3. 将`daft`设计的图转化为`pgmpy`库的图模型结构，并将 CPDs 链接到图上，完成 PGM的构建。\n",
    "\n",
    "使用`daft`库的目的是因为目前`pgmpy`库还未包含打印可视化图的方法，但是可以直接用该库提供的`BayesianNetwork`等方法构建图模型（不能直接可视化图，可通过`to_daft`方法转化为`daft`库支持的数据结构后可视化）。构建完 BN（PGM） 后就可以用`pgmpy`库提供的各类方法进行推断与学习。"
   ]
  },
  {
   "cell_type": "code",
   "execution_count": 3,
   "id": "03d731a5-9026-440a-b298-beea44955f81",
   "metadata": {},
   "outputs": [],
   "source": [
    "# IPython extension to reload modules before executing user code.\n",
    "%load_ext autoreload \n",
    "# Reload all modules (except those excluded by %aimport) every time before executing the Python code typed.\n",
    "%autoreload 2 \n",
    "import usda.pgm as usda_pgm\n",
    "\n",
    "import daft\n",
    "from pgmpy.models import BayesianNetwork\n",
    "from pgmpy.factors.discrete import TabularCPD\n",
    "from pgmpy.inference import VariableElimination,BeliefPropagation\n",
    "\n",
    "import copy\n",
    "import matplotlib.pyplot as plt"
   ]
  },
  {
   "cell_type": "markdown",
   "id": "e6b28383-dd7b-416f-b7cf-049c1d1a9de5",
   "metadata": {},
   "source": [
    "#### 1）定义图\n",
    "\n",
    "BN 将$n$个（离散型）随机变量$X_1,X_2, \\cdots, X_n$的联合分布表示为有向无环图（Directed Acyclic Graph，DAG）$G$和一组（条件）概率分布（CPDs）。图$G$中的节点（node/vertice，顶点）代表随机变量，例如上述问题描述中的生境威胁（TH）、生境类型（HA）、碳储存（CS）、生境质量（HQ）和生境风险（HR），可记作$V(G)=\\{TH,HA,CS,HQ,HR\\}$。边（edge）代表随机变量间的相关性（dependencies）(直接影响，节点及其邻接父节点的依赖关系)，例如生境质量（HQ）依赖于生境威胁（TH）和生境类型（HA），因此构建有向边$TH  \\rightarrow  HQ$和$HA  \\rightarrow  HQ$；碳储存（CS）依赖于生境类型（HA），因此有$HA \\rightarrow  CS$；生境风险（HR）依赖于生境威胁（TH）和生境质量（HQ），因此有$TH \\rightarrow  HR$和$HQ \\rightarrow  HR$，上述所有边可记作$E(G)=\\{TH-HQ,HA-HQ,HA-CS,TH-HR,HQ-HR\\}$。\n",
    "\n",
    "图$G$以因式分解（Factorization）的方式紧凑的表示了随机变量联合分布的数据结构骨架；也可理解为关于随机变量联合分布的一系列条件独立性假设的紧凑表示。"
   ]
  },
  {
   "cell_type": "code",
   "execution_count": 2,
   "id": "39adfac7-7eb7-43e9-be35-c53116d6b129",
   "metadata": {},
   "outputs": [
    {
     "data": {
      "image/png": "[encoded data removed]",
      "text/plain": [
       "<Figure size 464.567x464.567 with 1 Axes>"
      ]
     },
     "metadata": {},
     "output_type": "display_data"
    }
   ],
   "source": [
    "pgm_habitat=daft.PGM(grid_unit=4.0, node_unit=3)\n",
    "\n",
    "pgm_habitat.add_node(daft.Node('HA', r\"Habitat(HA)\", 3, 3))\n",
    "pgm_habitat.add_node(daft.Node('TH', r\"Threat(TH)\", 1, 3))\n",
    "pgm_habitat.add_node(daft.Node('CS', r\"Carbon Storage(CS)\", 3, 2))\n",
    "pgm_habitat.add_node(daft.Node('HQ', r\"Habitat Quality(HQ)\", 2, 2))\n",
    "pgm_habitat.add_node(daft.Node('HR', r\"Habitat Risk Assessment(HR)\", 1, 1))\n",
    "\n",
    "pgm_habitat.add_edge('TH','HQ')\n",
    "pgm_habitat.add_edge('HA','HQ')\n",
    "pgm_habitat.add_edge('HA','CS')\n",
    "pgm_habitat.add_edge('TH','HR')\n",
    "pgm_habitat.add_edge('HQ','HR')\n",
    "\n",
    "pgm_habitat.render();"
   ]
  },
  {
   "cell_type": "markdown",
   "id": "ce8e9ba7-e57a-4e59-850b-aaeb28e6e652",
   "metadata": {},
   "source": [
    "#### 2）因子分解\n",
    "\n",
    "一般来讲，BN 中的每一个随机变量$X$都关联着一个 CPD，在已知其父节点每种可能状态的条件下，用来指明$X$状态的一个分布，记为$P(node \\mid Par(node))$，式中，$Par(node)$为图中节点$node$的父节点，例如随机变量$HQ$依赖于$TH$和$HA$，其 CPD 表示为$P(HQ \\mid TH,HA)$，对应着一个条件分布律（表）为变量`cpd_hq_sn`。对没有父节点的节点，例如$TH$和$HA$，其CPD以空集$Ø$为条件，实际上即为边缘分布$P(TH)$和$P(HA)$。对应各随机变量节点的 CPDs 图如下：\n",
    "\n",
    "<img src=\"../imgs/3_5_b/3_5_b_01.jpg\" height='auto' width=800 title=\"caDesign\"> \n",
    "\n",
    "对于上述 BN（PGM）所有随机变量（属性、特征）的联合概率分布，考虑到随机变量之间的相互独立性，可以得到$P(TH,HA,HQ,CS,HR)=P(TH)P(HA)P(HQ \\mid TH,HA)P(CS \\mid HA)P(HR \\mid TH,HQ)$，即对于 BN 的随机变量$\\{X_1,X_2,\\cdots,X_n\\}$有联合概率分布$P\\left(X_1, X_2, \\ldots, X_n\\right)=\\prod_{i=1}^n P\\left(X_i \\mid \\operatorname{Par}\\left(X_i\\right)\\right)$，该公式为**贝叶斯网的链式法则**。可以表述为基于随机变量的独立性假设，PGM 分布$P$根据图$G$的因子分解（factorization），对应公式为$P\\left(X_1, X_2, \\ldots, X_n\\right)=\\prod_{i=1}^n P\\left(X_i \\mid \\operatorname{Par}_G\\left(X_i\\right)\\right)$。\n",
    "\n",
    "* 定义参数：条件概率分布\n",
    "\n",
    "使用`pgmpy`库的`TabularCPD`方法建立随机变量的 CPDs。"
   ]
  },
  {
   "cell_type": "code",
   "execution_count": 3,
   "id": "021076be-b081-4011-96ed-ca61def9a0cd",
   "metadata": {},
   "outputs": [
    {
     "name": "stdout",
     "output_type": "stream",
     "text": [
      "# Habitat\n",
      "+------------------+-----+\n",
      "| HA(suitable)     | 0.6 |\n",
      "+------------------+-----+\n",
      "| HA(not suitable) | 0.4 |\n",
      "+------------------+-----+\n",
      "# Threat\n",
      "+--------------+-----+\n",
      "| TH(strong)   | 0.5 |\n",
      "+--------------+-----+\n",
      "| TH(moderate) | 0.3 |\n",
      "+--------------+-----+\n",
      "| TH(weak)     | 0.2 |\n",
      "+--------------+-----+\n",
      "# Carbon Storage\n",
      "+-------------+--------------+------------------+\n",
      "| HA          | HA(suitable) | HA(not suitable) |\n",
      "+-------------+--------------+------------------+\n",
      "| CS(rich)    | 0.7          | 0.3              |\n",
      "+-------------+--------------+------------------+\n",
      "| CS(average) | 0.2          | 0.3              |\n",
      "+-------------+--------------+------------------+\n",
      "| CS(poor)    | 0.1          | 0.4              |\n",
      "+-------------+--------------+------------------+\n",
      "# Habitat Quality\n",
      "+----------+--------------+--------------+-----+------------------+------------------+\n",
      "| HA       | HA(suitable) | HA(suitable) | ... | HA(not suitable) | HA(not suitable) |\n",
      "+----------+--------------+--------------+-----+------------------+------------------+\n",
      "| TH       | TH(strong)   | TH(moderate) | ... | TH(moderate)     | TH(weak)         |\n",
      "+----------+--------------+--------------+-----+------------------+------------------+\n",
      "| HQ(good) | 0.2          | 0.4          | ... | 0.3              | 0.4              |\n",
      "+----------+--------------+--------------+-----+------------------+------------------+\n",
      "| HQ(bad)  | 0.8          | 0.6          | ... | 0.7              | 0.6              |\n",
      "+----------+--------------+--------------+-----+------------------+------------------+\n",
      "# Habitat Risk Assessment\n",
      "+----------+------------+------------+--------------+--------------+----------+----------+\n",
      "| TH       | TH(strong) | TH(strong) | TH(moderate) | TH(moderate) | TH(weak) | TH(weak) |\n",
      "+----------+------------+------------+--------------+--------------+----------+----------+\n",
      "| HQ       | HQ(good)   | HQ(bad)    | HQ(good)     | HQ(bad)      | HQ(good) | HQ(bad)  |\n",
      "+----------+------------+------------+--------------+--------------+----------+----------+\n",
      "| HR(high) | 0.9        | 0.6        | 0.6          | 0.5          | 0.4      | 0.1      |\n",
      "+----------+------------+------------+--------------+--------------+----------+----------+\n",
      "| HR(low)  | 0.1        | 0.4        | 0.4          | 0.5          | 0.6      | 0.9      |\n",
      "+----------+------------+------------+--------------+--------------+----------+----------+\n"
     ]
    }
   ],
   "source": [
    "cpd_ha_sn=TabularCPD(variable='HA', variable_card=2, values=[[0.6], [0.4]], state_names={'HA': ['suitable', 'not suitable']})\n",
    "cpd_th_sn=TabularCPD(variable='TH', variable_card=3, values=[[0.5], [0.3],[0.2]], state_names={'TH': ['strong', 'moderate','weak']})\n",
    "\n",
    "cpd_cs_sn=TabularCPD(variable='CS', variable_card=3, \n",
    "                      values=[[0.7,0.3],\n",
    "                              [0.2,0.3],\n",
    "                              [0.1,0.4]],\n",
    "                      evidence=['HA'],\n",
    "                      evidence_card=[2],\n",
    "                      state_names={'CS': ['rich', 'average','poor'],\n",
    "                                   'HA':  ['suitable', 'not suitable']})\n",
    "\n",
    "cpd_hq_sn=TabularCPD(variable='HQ', variable_card=2, \n",
    "                      values=[[0.2,0.4,0.9,0.3,0.3,0.4],\n",
    "                              [0.8,0.6,0.1,0.7,0.7,0.6]],\n",
    "                      evidence=['HA', 'TH'],\n",
    "                      evidence_card=[2, 3],\n",
    "                      state_names={'HQ': ['good', 'bad'],\n",
    "                                   'HA': ['suitable', 'not suitable'],\n",
    "                                   'TH': ['strong', 'moderate','weak']})\n",
    "cpd_hr_sn=TabularCPD(variable='HR', variable_card=2,\n",
    "                      values=[[0.9,0.6,0.6,0.5,0.4,0.1],\n",
    "                              [0.1,0.4,0.4,0.5,0.6,0.9]],\n",
    "                      evidence=['TH','HQ'],\n",
    "                      evidence_card=[3,2],\n",
    "                      state_names={'HR': ['high', 'low'],                                   \n",
    "                                   'TH': ['strong', 'moderate','weak'],\n",
    "                                   'HQ': ['good', 'bad']}) \n",
    "\n",
    "\n",
    "print(f'# Habitat\\n{cpd_ha_sn}')\n",
    "print(f'# Threat\\n{cpd_th_sn}')\n",
    "print(f'# Carbon Storage\\n{cpd_cs_sn}')\n",
    "print(f'# Habitat Quality\\n{cpd_hq_sn}')\n",
    "print(f'# Habitat Risk Assessment\\n{cpd_hr_sn}')"
   ]
  },
  {
   "cell_type": "markdown",
   "id": "996156d0-4744-4407-a9f5-7466fd08ca2d",
   "metadata": {},
   "source": [
    "* 链接图和条件概率分布\n",
    "\n",
    "转化`daft`库构建的图为`pgmpy`库的形式，并将`pgmpy`库建立的 CPDs 链接到该图上，完成 BN（PGM）的构建。可以通过`check_mode`方法检验构建的 PGM 是否正确，如果提示随机变量的边缘分布不为1等情况，则需要对假设的概率数值进行调整，直至检查返回`True`，表明构建的 PGM 成立。"
   ]
  },
  {
   "cell_type": "code",
   "execution_count": 4,
   "id": "8b4cf94f-e6d7-43f1-b6d2-54b78e0e1b56",
   "metadata": {
    "tags": []
   },
   "outputs": [
    {
     "data": {
      "text/plain": [
       "True"
      ]
     },
     "execution_count": 4,
     "metadata": {},
     "output_type": "execute_result"
    }
   ],
   "source": [
    "bn_habitat=usda_pgm.convert_pgm_to_pgmpy(pgm_habitat)\n",
    "bn_habitat.add_cpds(cpd_ha_sn,cpd_th_sn,cpd_cs_sn,cpd_hq_sn,cpd_hr_sn)\n",
    "bn_habitat.check_model()"
   ]
  },
  {
   "cell_type": "markdown",
   "id": "e23c2003-7ef6-4e1f-8a0c-654ede16439a",
   "metadata": {},
   "source": [
    "建立 PGM 后可以读取计算相关信息，例如随机变量的 CPDs，状态基数等。"
   ]
  },
  {
   "cell_type": "code",
   "execution_count": 10,
   "id": "2b5e9406-11eb-4615-8049-48ebe2cbb36d",
   "metadata": {
    "tags": []
   },
   "outputs": [
    {
     "name": "stdout",
     "output_type": "stream",
     "text": [
      "[<TabularCPD representing P(HA:2) at 0x10bcceb5970>, <TabularCPD representing P(TH:3) at 0x10bf64e1a30>, <TabularCPD representing P(CS:3 | HA:2) at 0x10bcceb59a0>, <TabularCPD representing P(HQ:2 | HA:2, TH:3) at 0x10bf64e1d00>, <TabularCPD representing P(HR:2 | TH:3, HQ:2) at 0x10bcceb5a00>]\n",
      "+------------------+-----+\n",
      "| HA(suitable)     | 0.6 |\n",
      "+------------------+-----+\n",
      "| HA(not suitable) | 0.4 |\n",
      "+------------------+-----+\n",
      "3\n"
     ]
    }
   ],
   "source": [
    "print(bn_habitat.get_cpds())\n",
    "print(bn_habitat.get_cpds('HA'))\n",
    "print(bn_habitat.get_cardinality('TH'))"
   ]
  },
  {
   "cell_type": "markdown",
   "id": "77a76bfd-2c01-47b6-9915-8730cb1665d9",
   "metadata": {},
   "source": [
    "#### 3）图中的独立性\n",
    "\n",
    "依赖性（Dependencies）和独立性（independencies）是分布的两个主要性质，对理解分布的特征非常重要，并可从根本上降低推断的计算成本。BN 网络结构隐含的独立性可以分为两类：\n",
    "\n",
    "**局部独立性（Local Independencies）**：图中任何变量都独立于给定其父类的非后代，公式可写为$ (X \\perp NonDesc(X) | Pa(X) $；\n",
    "\n",
    "**全局独立性（Global Independencies）**：为讨论 BN 中的全局独立性，需要查看各种可能的网络结构，如下内容。\n",
    "\n",
    "* D-分离（D-separation）\n",
    "\n",
    "**直接连接（Direct connection）**：当任意图（网络结构）$G$的随机变量（节点）$X$和$Y$有边$X  \\rightarrow  Y（E(G)=XY）$（如下图）时，不论图中其它随机变量的证据（ evidence）如何，都可以构建$X$和$Y$相互关联的分布。例如，生境威胁（$TH$）和生境风险（$HR$）为$TH \\rightarrow HR$，如果增加威胁的程度（概率），例如为`strong（0.5）`，那么生境风险评估变高的概率也会增加。"
   ]
  },
  {
   "cell_type": "code",
   "execution_count": 20,
   "id": "a305818b-8ce8-43e9-9f87-b184e1658437",
   "metadata": {
    "tags": []
   },
   "outputs": [
    {
     "data": {
      "image/png": "[encoded data removed]",
      "text/plain": [
       "<Figure size 212.598x55.1181 with 1 Axes>"
      ]
     },
     "metadata": {},
     "output_type": "display_data"
    },
    {
     "data": {
      "image/png": "[encoded data removed]",
      "text/plain": [
       "<Figure size 212.598x55.1181 with 1 Axes>"
      ]
     },
     "metadata": {},
     "output_type": "display_data"
    }
   ],
   "source": [
    "pgm_=daft.PGM()\n",
    "pgm_.add_node(daft.Node('X', r\"X\", 1, 1))\n",
    "pgm_.add_node(daft.Node('Y', r\"Y\", 3, 1))\n",
    "\n",
    "pgm_xy=copy.deepcopy(pgm_)\n",
    "pgm_xy.add_edge('X', 'Y')\n",
    "pgm_xy.render();\n",
    "\n",
    "#----------------------------------------------\n",
    "pgm_yx=copy.deepcopy(pgm_)\n",
    "pgm_yx.add_edge('Y', 'X')\n",
    "pgm_yx.render();"
   ]
  },
  {
   "cell_type": "markdown",
   "id": "5a53147a-8f99-4e1b-9517-49bcdc5da0f0",
   "metadata": {},
   "source": [
    "在给定$TH$为状态`weak`和`strong`时，$HR$状态概率有相应变化。"
   ]
  },
  {
   "cell_type": "code",
   "execution_count": 88,
   "id": "03193066-b2e9-410c-90c4-eeb41f11014c",
   "metadata": {
    "tags": []
   },
   "outputs": [
    {
     "name": "stdout",
     "output_type": "stream",
     "text": [
      "+----------+-----------+\n",
      "| HR       |   phi(HR) |\n",
      "+==========+===========+\n",
      "| HR(high) |    0.3100 |\n",
      "+----------+-----------+\n",
      "| HR(low)  |    0.6900 |\n",
      "+----------+-----------+\n",
      "//////////////////////////////\n",
      "+----------+-----------+\n",
      "| HR       |   phi(HR) |\n",
      "+==========+===========+\n",
      "| HR(high) |    0.6720 |\n",
      "+----------+-----------+\n",
      "| HR(low)  |    0.3280 |\n",
      "+----------+-----------+\n"
     ]
    }
   ],
   "source": [
    "infer_habitat=VariableElimination(bn_habitat)\n",
    "\n",
    "print(infer_habitat.query(['HR'], evidence={'TH': 'weak'}))\n",
    "print('/'*30)\n",
    "print(infer_habitat.query(['HR'], evidence={'TH': 'strong'}))"
   ]
  },
  {
   "cell_type": "markdown",
   "id": "97b8d01a-229f-435e-b014-bf1834a75907",
   "metadata": {},
   "source": [
    "在给定$HR$为状态`high`和`low`时，$TH$状态概率也有相应变化。"
   ]
  },
  {
   "cell_type": "code",
   "execution_count": 87,
   "id": "b1c8291f-bbb6-4d67-a8b0-9f8dea46406b",
   "metadata": {
    "tags": []
   },
   "outputs": [
    {
     "name": "stdout",
     "output_type": "stream",
     "text": [
      "+--------------+-----------+\n",
      "| TH           |   phi(TH) |\n",
      "+==============+===========+\n",
      "| TH(strong)   |    0.6013 |\n",
      "+--------------+-----------+\n",
      "| TH(moderate) |    0.2878 |\n",
      "+--------------+-----------+\n",
      "| TH(weak)     |    0.1110 |\n",
      "+--------------+-----------+\n",
      "//////////////////////////////\n",
      "+--------------+-----------+\n",
      "| TH           |   phi(TH) |\n",
      "+==============+===========+\n",
      "| TH(strong)   |    0.3717 |\n",
      "+--------------+-----------+\n",
      "| TH(moderate) |    0.3155 |\n",
      "+--------------+-----------+\n",
      "| TH(weak)     |    0.3128 |\n",
      "+--------------+-----------+\n"
     ]
    }
   ],
   "source": [
    "print(infer_habitat.query(['TH'], evidence={'HR': 'high'}))\n",
    "print('/'*30)\n",
    "print(infer_habitat.query(['TH'], evidence={'HR': 'low'}))"
   ]
  },
  {
   "cell_type": "markdown",
   "id": "f1b54e5a-5367-4483-a5cb-8c6a4f5ee5d4",
   "metadata": {},
   "source": [
    "当图中一个影响（influence）能够沿迹（trail）从一个节点流动到另一个节点，称为有效迹（active trail），可以使用`is_dconnected`方法判断，例如，对于直接连接的$HR$和$TH$，其判断结果为`True`，为有效迹。"
   ]
  },
  {
   "cell_type": "code",
   "execution_count": 10,
   "id": "3533265a-a58d-4ac6-a449-daa5d00a896e",
   "metadata": {
    "tags": []
   },
   "outputs": [
    {
     "name": "stdout",
     "output_type": "stream",
     "text": [
      "True\n",
      "True\n"
     ]
    }
   ],
   "source": [
    "print(bn_habitat.is_dconnected('HR','TH'))\n",
    "print(bn_habitat.is_dconnected('TH','HR'))"
   ]
  },
  {
   "cell_type": "markdown",
   "id": "20a1e921-63cd-406e-9bed-ca5de88ea502",
   "metadata": {},
   "source": [
    "（补充）途径（Walk）、路（Paths）和迹（Trails）\n",
    "\n",
    "图$G$中长度为$k$的**途径**是一个非空的顶点（节点）和边交错序列$v_0e_0v_1e_1 \\cdots e_{k-1}v_k$，使得对于所有$i<k$均有$e_i=\\{v_i,v_{i+1}\\}$。若$v_0=v_k$，则称此途径是**闭合的（closed）**。如果途径中的顶点互不相同（除收尾顶点），则为$G$中的一条**路**；如果途径中的边互不相同，则为$G$中的一条**迹**。例如下图的哥尼斯堡七桥（Seven Bridges of Königsberg）中$B,e_1,A,e_2,C,e_6,D,e_7,B$为一个路，而$B,e_1,A,e_2,C,e_3,A,e_4,B$则为一个迹。"
   ]
  },
  {
   "cell_type": "code",
   "execution_count": 76,
   "id": "e85d772f-cb58-4866-af56-6e3dbe777c59",
   "metadata": {
    "tags": []
   },
   "outputs": [
    {
     "data": {
      "image/png": "[encoded data removed]",
      "text/plain": [
       "<Figure size 300x300 with 1 Axes>"
      ]
     },
     "metadata": {},
     "output_type": "display_data"
    }
   ],
   "source": [
    "import networkx as nx\n",
    "plt.figure(1,figsize=(3,3)) \n",
    "\n",
    "G = nx.DiGraph()\n",
    "G.add_edge(\"A\", \"B\", label='$e_1$')\n",
    "G.add_edge(\"B\", \"A\", label='$e_4$')\n",
    "G.add_edge(\"A\", \"C\", label='$e_2$')\n",
    "G.add_edge(\"C\", \"A\", label='$e_3$')\n",
    "G.add_edge(\"A\", \"D\", label='$e_5$')\n",
    "G.add_edge(\"B\", \"D\", label='$e_7$')\n",
    "G.add_edge(\"C\", \"D\", label='$e_6$')\n",
    "\n",
    "positions = {\"A\": (0, 0), \"B\": (1, -2), \"C\": (1, 2), \"D\": (2, 0)}\n",
    "\n",
    "edge_labels = nx.get_edge_attributes(G, \"label\")\n",
    "\n",
    "nx.draw_networkx_nodes(G, pos=positions, node_size=500)\n",
    "nx.draw_networkx_labels(G, pos=positions, font_color=\"w\")\n",
    "nx.draw_networkx_edges(\n",
    "    G, pos=positions, edgelist=[(\"A\", \"D\"), (\"B\", \"D\"), (\"C\", \"D\")], arrowstyle=\"-\"\n",
    ")\n",
    "nx.draw_networkx_edges(\n",
    "    G,\n",
    "    pos=positions,\n",
    "    edgelist=[(\"A\", \"B\"), (\"B\", \"A\"), (\"C\", \"A\"), (\"A\", \"C\")],\n",
    "    arrowstyle=\"-\",\n",
    "    connectionstyle=\"arc3,rad=0.2\",\n",
    ")\n",
    "nx.draw_networkx_edge_labels(G, pos=positions, edge_labels=edge_labels, label_pos=0.2);"
   ]
  },
  {
   "cell_type": "markdown",
   "id": "858a03a1-b6b7-48a0-81d5-12178acbd4e3",
   "metadata": {},
   "source": [
    "**间接连接（Indirect connection）**：如果$X$与$Y$不直接相连，但它们之间在图中存在一条迹，例如存在一条经过$Z$的迹，有如下4种情况，因果链（因果作用和证据作用），共同的原因和共同的租用。\n",
    "\n",
    "1. 间接的因果作用（Indirect causal effect）（图 Causal）：以上述生境问题为例，对于迹$HA \\rightarrow HQ \\rightarrow HR$，如果观察到生境类型（$HA$）适合生物生存，为状态`suitable`，那么倾向于相信生境质量（$HQ$）状态`good`的概率会提高，生境风险（HR）的等级随之会相应提升，状态`high`的概率增加。即，后续事件的概率对于生境类型的观测值有较强的依赖，可以相信$X$通过$Z$可以作用于$Y$。但是，如果观察到$Z$，即观察到生境质量，那么生境类型不再对生境风险产生影响，为$HA \\bot HR \\mid HQ$，因此如果观察到$Z$，那么$X$不会通过$Z$作用于$Y$。"
   ]
  },
  {
   "cell_type": "code",
   "execution_count": 77,
   "id": "c4dd7d20-6c75-4df4-bd98-28f8f06945f5",
   "metadata": {
    "tags": []
   },
   "outputs": [
    {
     "data": {
      "image/png": "[encoded data removed]",
      "text/plain": [
       "<Figure size 59.0551x232.283 with 1 Axes>"
      ]
     },
     "metadata": {},
     "output_type": "display_data"
    }
   ],
   "source": [
    "pgm_=daft.PGM()\n",
    "\n",
    "pgm_.add_node(daft.Node('X', r\"X\", 1, 3))\n",
    "pgm_.add_node(daft.Node('Z', r\"Z\", 1, 2))\n",
    "pgm_.add_node(daft.Node('Y', r\"Y\", 1, 1))\n",
    "\n",
    "#----------------------------------------------\n",
    "pgm_causal=copy.deepcopy(pgm_)\n",
    "pgm_causal.add_edge('X', 'Z')\n",
    "pgm_causal.add_edge('Z', 'Y')\n",
    "pgm_causal.add_text(0.7,3.5,label='Causal')\n",
    "pgm_causal.render();"
   ]
  },
  {
   "cell_type": "markdown",
   "id": "d0daf63c-558e-45f1-95c6-f04204c53242",
   "metadata": {},
   "source": [
    "观测到$HA$状态为`suitable`，推断$HR$的概率。"
   ]
  },
  {
   "cell_type": "code",
   "execution_count": 103,
   "id": "4a2e920b-3618-4f2b-85f4-a03c842ea20d",
   "metadata": {
    "tags": []
   },
   "outputs": [
    {
     "name": "stdout",
     "output_type": "stream",
     "text": [
      "+----------+-----------+\n",
      "| HR       |   phi(HR) |\n",
      "+==========+===========+\n",
      "| HR(high) |    0.5660 |\n",
      "+----------+-----------+\n",
      "| HR(low)  |    0.4340 |\n",
      "+----------+-----------+\n"
     ]
    }
   ],
   "source": [
    "print(infer_habitat.query(['HR'], evidence={'HA': 'suitable'}))"
   ]
  },
  {
   "cell_type": "markdown",
   "id": "1bbe9850-de71-4cc1-9abc-dcee69d0c796",
   "metadata": {},
   "source": [
    "观测到$HQ$的状态为`bad`，推断$HR$的概率。"
   ]
  },
  {
   "cell_type": "code",
   "execution_count": 104,
   "id": "d54e4fd2-2e99-4bfa-bdff-6ea89ecc989a",
   "metadata": {
    "tags": []
   },
   "outputs": [
    {
     "name": "stdout",
     "output_type": "stream",
     "text": [
      "+----------+-----------+\n",
      "| HR       |   phi(HR) |\n",
      "+==========+===========+\n",
      "| HR(high) |    0.5222 |\n",
      "+----------+-----------+\n",
      "| HR(low)  |    0.4778 |\n",
      "+----------+-----------+\n"
     ]
    }
   ],
   "source": [
    "print(infer_habitat.query(['HR'], evidence={'HQ': 'bad'}))"
   ]
  },
  {
   "cell_type": "markdown",
   "id": "c49dfdf5-5aba-4848-93a8-a6a885fc2744",
   "metadata": {},
   "source": [
    "2. 间接的证据作用（Indirect evidential effect）(图 Evidential)：仍然对于迹$HA \\rightarrow HQ \\rightarrow HR$，如果观察到$HR$状态为`high`，那么相信$HA$的`suitable`状态的概率会增加。同样，一旦观察到$HQ$，$HR$将不会对$HA$提高额外的信息。因此，对于情形$Y \\rightarrow Z \\rightarrow A$的分析与关于$X$可以通过$Z$来影响$Y$这一因果情形的分析一致，但仅限于没有观测到$Z$的情况。即$Y$可以通过$Z$为$X$提供额外的信息（影响$X$），但仅限于没有观测到$Z$的情形。因为独立性是一个对称的概念，因此如果$(X \\bot Y)$不成立，那么$(Y \\bot X)$也不成立。"
   ]
  },
  {
   "cell_type": "code",
   "execution_count": 102,
   "id": "49467eda-08b8-4660-88c0-7bec3b9198d5",
   "metadata": {
    "tags": []
   },
   "outputs": [
    {
     "data": {
      "image/png": "[encoded data removed]",
      "text/plain": [
       "<Figure size 66.9291x232.283 with 1 Axes>"
      ]
     },
     "metadata": {},
     "output_type": "display_data"
    }
   ],
   "source": [
    "#----------------------------------------------\n",
    "pgm_evidential=copy.deepcopy(pgm_)\n",
    "pgm_evidential.add_edge('Y', 'Z')\n",
    "pgm_evidential.add_edge('Z', 'X')\n",
    "pgm_evidential.add_text(0.6,3.5,label='Evidential')\n",
    "pgm_evidential.render();"
   ]
  },
  {
   "cell_type": "markdown",
   "id": "d64867cf-c918-42aa-ad6a-522e863cc022",
   "metadata": {},
   "source": [
    "观测到$HR$的状态为`high`，推断$HA$的概率。"
   ]
  },
  {
   "cell_type": "code",
   "execution_count": 105,
   "id": "d6fbabe7-1c61-4b75-ac8c-5e75b4f14202",
   "metadata": {
    "tags": []
   },
   "outputs": [
    {
     "name": "stdout",
     "output_type": "stream",
     "text": [
      "+------------------+-----------+\n",
      "| HA               |   phi(HA) |\n",
      "+==================+===========+\n",
      "| HA(suitable)     |    0.6077 |\n",
      "+------------------+-----------+\n",
      "| HA(not suitable) |    0.3923 |\n",
      "+------------------+-----------+\n"
     ]
    }
   ],
   "source": [
    "print(infer_habitat.query(['HA'], evidence={'HR': 'high'}))"
   ]
  },
  {
   "cell_type": "markdown",
   "id": "58391c00-97f3-4cca-a6ee-e1d10b1ec30b",
   "metadata": {},
   "source": [
    "3. 共同的原因（Common cause）（图Common Cause）：以上述生境问题为例，对于迹$HQ \\leftarrow HA \\rightarrow CS$，生境类型$HA$是生境质量$HQ$和碳储存$CS$的父节点。$HQ$和$CS$在这个模型中相互关联，如果观察到生境质量较好，则提供了有关$HA$生境类型的信息，那么可以推测$HA$较为适合生物栖息，具有较好的生态系统，例如茂密的森林，进一步可以辅助推断碳储存的状态概率，趋向于较为丰富的碳储量。然而，一旦观察到$HA$，$HQ$和$CS$之间的关联就会消失，$HQ$不再提供有关$CS$的任何信息。即对于迹$X \\leftarrow Z \\rightarrow Y$，$X$可以通过$Z$影响$Y$，但仅限于没有观测到$Z$的情形。"
   ]
  },
  {
   "cell_type": "code",
   "execution_count": 106,
   "id": "8b83ab75-74ba-4712-a79d-40347b14e6d1",
   "metadata": {
    "tags": []
   },
   "outputs": [
    {
     "data": {
      "image/png": "[encoded data removed]",
      "text/plain": [
       "<Figure size 137.795x153.543 with 1 Axes>"
      ]
     },
     "metadata": {},
     "output_type": "display_data"
    }
   ],
   "source": [
    "#----------------------------------------------\n",
    "pgm_=daft.PGM()\n",
    "\n",
    "pgm_.add_node(daft.Node('X', r\"X\", 1, 2))\n",
    "pgm_.add_node(daft.Node('Z', r\"Z\", 1.5, 1))\n",
    "pgm_.add_node(daft.Node('Y', r\"Y\", 2, 2))\n",
    "\n",
    "pgm_common_cause=copy.deepcopy(pgm_)\n",
    "pgm_common_cause.add_edge('Z', 'X')\n",
    "pgm_common_cause.add_edge('Z', 'Y')\n",
    "pgm_common_cause.add_text(0.7,2.5,label='Common Cause')\n",
    "pgm_common_cause.render();"
   ]
  },
  {
   "cell_type": "markdown",
   "id": "43eb6bbd-926c-47d7-8eaf-516647fded04",
   "metadata": {},
   "source": [
    "观测到$HQ$的状态为`good`，推断$CS$的概率。"
   ]
  },
  {
   "cell_type": "code",
   "execution_count": 108,
   "id": "e125f8b6-407c-483c-9182-ff494187e831",
   "metadata": {
    "tags": []
   },
   "outputs": [
    {
     "name": "stdout",
     "output_type": "stream",
     "text": [
      "+-------------+-----------+\n",
      "| CS          |   phi(CS) |\n",
      "+=============+===========+\n",
      "| CS(rich)    |    0.5609 |\n",
      "+-------------+-----------+\n",
      "| CS(average) |    0.2348 |\n",
      "+-------------+-----------+\n",
      "| CS(poor)    |    0.2043 |\n",
      "+-------------+-----------+\n"
     ]
    }
   ],
   "source": [
    "print(infer_habitat.query(['CS'], evidence={'HQ': 'good'}))"
   ]
  },
  {
   "cell_type": "markdown",
   "id": "a707e275-ae45-4166-8b9c-b68a9d398717",
   "metadata": {},
   "source": [
    "4. 共同的作用（Common effect ）(图Common Evidence)：对于上述3种情况，$X$可以通过$Z$来影响$Y$当且仅当没有观测到$Z$。但是，对于迹$X \\rightarrow Z \\leftarrow Y$，例如对于上述生境问题，有$TH \\rightarrow HQ \\leftarrow HA$，$TH$和$HA$都是$HQ$的父节点，当没有观测到$HQ$时，根据网络结构的局部独立性，$TH$和$HA$相互独立。因此，如果没有观测到$Z$，影响将无法沿着迹$X \\rightarrow Z \\leftarrow Y$流动。"
   ]
  },
  {
   "cell_type": "code",
   "execution_count": 109,
   "id": "a014854b-463c-46f9-9b0f-4156ec2c62d6",
   "metadata": {},
   "outputs": [
    {
     "data": {
      "image/png": "[encoded data removed]",
      "text/plain": [
       "<Figure size 145.669x153.543 with 1 Axes>"
      ]
     },
     "metadata": {},
     "output_type": "display_data"
    }
   ],
   "source": [
    "#----------------------------------------------\n",
    "pgm_common_evidence=copy.deepcopy(pgm_)\n",
    "pgm_common_evidence.add_edge('X', 'Z')\n",
    "pgm_common_evidence.add_edge('Y', 'Z')\n",
    "pgm_common_evidence.add_text(0.6,2.5,label='Common Evidence')\n",
    "pgm_common_evidence.render();"
   ]
  },
  {
   "cell_type": "markdown",
   "id": "175d86e9-9302-4ed8-8024-0ae8465a9b95",
   "metadata": {},
   "source": [
    "通过`is_dconnected`方法得出$HA$和$TH$并不是有效迹，如果观测到$TH$状态为`strong`，可以发现$HA$的状态概率并没有发生变化；但是如果观测到$HQ$，可以发现此时$HA$和$TH$转变成有效迹，当同时观测到`HQ`的状态为`good`时，估计的$HA$状态概率发生了变化。"
   ]
  },
  {
   "cell_type": "code",
   "execution_count": 117,
   "id": "22833b69-c472-46b9-9fef-e4f903a66338",
   "metadata": {
    "tags": []
   },
   "outputs": [
    {
     "name": "stdout",
     "output_type": "stream",
     "text": [
      "False\n",
      "+------------------+-----------+\n",
      "| HA               |   phi(HA) |\n",
      "+==================+===========+\n",
      "| HA(suitable)     |    0.6000 |\n",
      "+------------------+-----------+\n",
      "| HA(not suitable) |    0.4000 |\n",
      "+------------------+-----------+\n",
      "True\n",
      "+------------------+-----------+\n",
      "| HA               |   phi(HA) |\n",
      "+==================+===========+\n",
      "| HA(suitable)     |    0.5000 |\n",
      "+------------------+-----------+\n",
      "| HA(not suitable) |    0.5000 |\n",
      "+------------------+-----------+\n"
     ]
    }
   ],
   "source": [
    "print(bn_habitat.is_dconnected('HA','TH'))\n",
    "print(infer_habitat.query(['HA'], evidence={'TH':'strong'}))\n",
    "print(bn_habitat.is_dconnected('HA','TH',observed='HQ'))\n",
    "print(infer_habitat.query(['HA'], evidence={'TH':'strong','HQ': 'good'}))"
   ]
  },
  {
   "cell_type": "markdown",
   "id": "5ea80c67-c5f1-4893-82d8-9574bea782c1",
   "metadata": {},
   "source": [
    "当影响经过$Z$可以从$X$流向$Y$时，迹$X \\rightleftharpoons Z \\rightleftharpoons Y$是有效的（active）。对有效双边迹的分析结果总结如下：\n",
    "\n",
    "* **因果迹**$X \\rightarrow Z \\rightarrow Y$：有效当且仅当没有观测到$Z$；\n",
    "* **证据迹**$X \\leftarrow Z \\leftarrow Y$：有效当且仅当没有观测到$Z$；\n",
    "* **共同的原因**$X \\leftarrow Z \\rightarrow Y$：有效当且仅当没有观测到$Z$；\n",
    "* **共同的作用**$X \\rightarrow Z \\leftarrow Y$：有效当且仅当观察到$Z$或者$Z$的一个后代。形如$X \\rightarrow Z \\leftarrow Y$的结构称为一个**v-结构（v-structure）**。\n",
    "\n",
    "将概率影响看作图中的流动非常有用，从上述网络结构可知，何时影响可以从$X$流经$Y$，然后影响到关于$Y$的置信度（beliefs）。\n",
    "\n",
    "推演到一般情况，考虑迹比较长的情形，$X_1  \\rightleftharpoons  \\ldots   \\rightleftharpoons X_n$。直观上，对于从$X_1$流动到$X_n$的影响，需要流经这条迹上的每个单元点。即，如果每条双边迹$X_{i-1}  \\rightleftharpoons  X_i   \\rightleftharpoons X_{i+1}$都允许影响流过，那么$X_1$可以影响到$X_n$。\n",
    "\n",
    "定义：另$G$是一个贝叶斯网结构，且$X_1  \\rightleftharpoons  \\ldots   \\rightleftharpoons X_n$是$G$中的一条迹。另$Z$是观测变量的一个子集，在给定$Z$的条件下，假如，\n",
    "\n",
    "* 一旦有一个v-结构$X_{i-1} \\rightarrow X_i \\leftarrow X_{i+1}$，则$X_i$或其一个后代在$Z$中；\n",
    "* 迹上的其它节点都不在$Z$中，\n",
    "\n",
    "那么迹$X_1  \\rightleftharpoons  \\ldots   \\rightleftharpoons X_n$是**有效迹**。\n",
    "\n",
    "> 如果$X_1$或$X_n$在$Z$中，那么迹不是有效迹。\n",
    "\n",
    "**d-分离（d-separation）** 提供在有向图节点之间分离的一个概念。\n",
    "\n",
    "定义：令$\\boldsymbol X,\\boldsymbol Y,\\boldsymbol Z$是图$G$的三个节点集。在给定$\\boldsymbol Z$的条件下，加入任意节点$X \\in \\boldsymbol X$与$Y \\in \\boldsymbol Y$之间不存在有效迹，那么$\\boldsymbol X$与$\\boldsymbol Y$在给定$\\boldsymbol Z$时是**d-分离**的，记作$d-sep_G(\\boldsymbol X;\\boldsymbol Y \\mid \\boldsymbol Z)$。与d-分离相对应的独立性的集合用$\\mathcal{I}(\\mathcal{G})$表示：$\\mathcal{I}(\\mathcal{G})=\\left\\{(X \\perp Y \\mid Z): \\mathrm{d}-\\operatorname{sep}_{\\mathcal{G}}(\\boldsymbol{X} ; \\boldsymbol{Y} \\mid \\boldsymbol{Z})\\right\\}$。这个集合称为**全局马尔可夫独立性（global Markov independencies）**。\n",
    "\n",
    "`local_independencies`方法返回随机变量的独立性实例，包含每个随机变量的局部独立性。例如下述结果中，给定$HA$时，$CS$和$TH,HQ,HR$相互独立。"
   ]
  },
  {
   "cell_type": "code",
   "execution_count": 120,
   "id": "8bb5f8df-3e75-443a-96e9-82de8d234f4f",
   "metadata": {
    "tags": []
   },
   "outputs": [
    {
     "name": "stdout",
     "output_type": "stream",
     "text": [
      "(HA ⟂ TH)\n",
      "(TH ⟂ CS, HA)\n",
      "(CS ⟂ TH, HQ, HR | HA)\n",
      "(HQ ⟂ CS | TH, HA)\n",
      "(HR ⟂ CS, HA | TH, HQ)\n"
     ]
    }
   ],
   "source": [
    "rvs_habitat=['HA','TH','CS','HQ','HR']\n",
    "print(bn_habitat.local_independencies(rvs_habitat))"
   ]
  },
  {
   "cell_type": "markdown",
   "id": "f65df690-6603-47cb-b1b0-eeaceb47d896",
   "metadata": {
    "tags": []
   },
   "source": [
    "`get_independencies`方法通过检查d-分离计算有向无环图（ Directed Acyclic Graph，DAG）中的独立性。"
   ]
  },
  {
   "cell_type": "code",
   "execution_count": 121,
   "id": "d97dd044-b1ed-4864-bed6-7ea7225d34f9",
   "metadata": {},
   "outputs": [
    {
     "name": "stdout",
     "output_type": "stream",
     "text": [
      "(TH ⟂ CS, HA)\n",
      "(TH ⟂ HA | CS)\n",
      "(TH ⟂ CS | HA)\n",
      "(TH ⟂ CS | HR, HA)\n",
      "(TH ⟂ CS | HQ, HA)\n",
      "(TH ⟂ CS | HR, HQ, HA)\n",
      "(HR ⟂ CS | HA)\n",
      "(HR ⟂ CS, HA | TH, HQ)\n",
      "(HR ⟂ CS | TH, HA)\n",
      "(HR ⟂ CS | HQ, HA)\n",
      "(HR ⟂ HA | TH, CS, HQ)\n",
      "(HR ⟂ CS | TH, HQ, HA)\n",
      "(HA ⟂ TH)\n",
      "(HA ⟂ TH | CS)\n",
      "(HA ⟂ HR | TH, HQ)\n",
      "(HA ⟂ HR | TH, CS, HQ)\n",
      "(CS ⟂ TH)\n",
      "(CS ⟂ TH, HQ, HR | HA)\n",
      "(CS ⟂ HR | TH, HQ)\n",
      "(CS ⟂ HR, HQ | TH, HA)\n",
      "(CS ⟂ TH, HR | HQ, HA)\n",
      "(CS ⟂ TH, HQ | HR, HA)\n",
      "(CS ⟂ HR | TH, HQ, HA)\n",
      "(CS ⟂ HQ | TH, HA, HR)\n",
      "(CS ⟂ TH | HR, HQ, HA)\n",
      "(HQ ⟂ CS | HA)\n",
      "(HQ ⟂ CS | TH, HA)\n",
      "(HQ ⟂ CS | HR, HA)\n",
      "(HQ ⟂ CS | TH, HA, HR)\n"
     ]
    }
   ],
   "source": [
    "print(bn_habitat.get_independencies())"
   ]
  },
  {
   "cell_type": "markdown",
   "id": "7edfda95-78ad-4a2d-bd66-14a3bd006a4a",
   "metadata": {},
   "source": [
    "对于网络结构中的任意两个变量$A$和$B$，如果$A$的任何变化影响$B$的值，那么说$A$和$B$之间存在有效迹。`pgmpy`库提供的`active_trail_nodes`方法，根据提供的节点返回一组受该节点变化影响的节点集合。例如，当未有观测到的节点状态时，$CS$的任何变化将会影响到$HQ,HA,HR$等节点；如果观测到$HA$，那么$CS$的任何变化将不会影响到其它任何网络结构中的节点。"
   ]
  },
  {
   "cell_type": "code",
   "execution_count": 127,
   "id": "84a7e1e5-ec8f-41ae-ba23-9b156781ddfd",
   "metadata": {},
   "outputs": [
    {
     "name": "stdout",
     "output_type": "stream",
     "text": [
      "{'CS': {'CS', 'HQ', 'HA', 'HR'}}\n",
      "{'CS': {'CS'}}\n"
     ]
    }
   ],
   "source": [
    "print(bn_habitat.active_trail_nodes('CS'))\n",
    "print(bn_habitat.active_trail_nodes('CS',observed='HA'))"
   ]
  },
  {
   "cell_type": "markdown",
   "id": "7737b168-bbe8-4744-a81d-bd585e65a5e5",
   "metadata": {},
   "source": [
    "### 3.5.2.2 推理\n",
    "\n",
    "在阐述*图中的独立性*时，已经使用了`infer_habitat=VariableElimination(bn_habitat)`语句和`infer_habitat.query()`方法实现了相关推理，条件概率的概率查询（conditional probability query）$P(\\boldsymbol{Y} \\mid \\boldsymbol{E}=\\boldsymbol{e})$。条件概率查询适用于许多有用的推理模型，包括解释、预测、因果性推理等。根据条件概率的定义$P(\\boldsymbol{Y} \\mid \\boldsymbol{E}=\\boldsymbol{e})=\\frac{P(\\boldsymbol{Y}, \\boldsymbol{e})}{P(\\boldsymbol{e})}$，式中，分子的每个实例是一个概率表达式$P(y,e)$，可以通过对联合分布中的所有表值求和计算，这些表值对应于$y,e$的一致赋值。即，令$\\boldsymbol{W}=\\mathcal{X}-\\boldsymbol{Y}-\\boldsymbol{E} $为既不是查询（query）也不知证据（ evidence）的随机变量，那么$P(\\boldsymbol{y}, \\boldsymbol{e})=\\sum_{\\boldsymbol{w}} P(\\boldsymbol{y}, \\boldsymbol{e}, \\boldsymbol{w})$。因为$\\boldsymbol{Y},\\boldsymbol{E},\\boldsymbol{W}$是网络结构中所有随机变量，和式中的每一项$P(\\boldsymbol{y}, \\boldsymbol{e}, \\boldsymbol{w})$为联合分布中的一个表值。概率$ P(\\boldsymbol{e})$可以通过对联合分布求和直接计算，$P(\\boldsymbol{e})=\\sum_{\\boldsymbol{y}} P(\\boldsymbol{y}, \\boldsymbol{e})$。\n",
    "\n",
    "上述在给定联合分布时找到随机变量的条件分布计算中，会出现一个指数级的大表，并已证明，对于推理任务，指数爆炸（exponential blowup）问题在最坏情况下几乎肯定是不可避免地。然而在现实生活中，并不总是遇到最坏的情况，通过用于推理任务的的各种算法可以减小计算量，例如`pgmpy`库提供的`VariableElimination`变量消除算法，`BeliefPropagation`置信传播算法等。\n",
    "\n",
    "下述事例使用 Daphne Koller 给出的学生示例模型<sup>[1]</sup>，结合`pgmpy`提供基于 Python 的推理算法，重述学生示例模型推理模式部分。\n",
    "\n",
    "直接使用`pgmpy`构建 BN 模型，通过`to_daft`方法转化为`daft`库的图结构后打印查看图。该学生 BN 模型包含有5个随机变量，\n",
    "\n",
    "1. 学生的智商（$I$），状态值有$Val(I)=\\{Dumb, Intelligent\\}$；\n",
    "2. 课程的难度（$D$），状态值有$Val(D)=\\{Easy, Hard\\}$；\n",
    "3. 考试的成绩（$G$），状态值有$Val(G)=\\{A,B,C\\}$；\n",
    "4. 学生的SAT成绩（$S$）状态值有$Val(S)=\\{Bad, Good\\}$；\n",
    "5. 推荐信的质量（$L$）状态值有$Val(L)=\\{Bad, Good\\}$。"
   ]
  },
  {
   "cell_type": "code",
   "execution_count": 4,
   "id": "b33da446-5586-4e13-9800-197e6ed3f92d",
   "metadata": {},
   "outputs": [
    {
     "data": {
      "text/plain": [
       "True"
      ]
     },
     "execution_count": 4,
     "metadata": {},
     "output_type": "execute_result"
    }
   ],
   "source": [
    "model=BayesianNetwork([('D', 'G'), ('I', 'G'), ('G', 'L'), ('I', 'S')])\n",
    "\n",
    "cpd_d_sn = TabularCPD(variable='D', variable_card=2, values=[[0.6], [0.4]], state_names={'D': ['Easy', 'Hard']})\n",
    "cpd_i_sn = TabularCPD(variable='I', variable_card=2, values=[[0.7], [0.3]], state_names={'I': ['Dumb', 'Intelligent']})\n",
    "cpd_g_sn = TabularCPD(variable='G', variable_card=3, \n",
    "                      values=[[0.3, 0.05, 0.9,  0.5],\n",
    "                              [0.4, 0.25, 0.08, 0.3],\n",
    "                              [0.3, 0.7,  0.02, 0.2]],\n",
    "                      evidence=['I', 'D'],\n",
    "                      evidence_card=[2, 2],\n",
    "                      state_names={'G': ['A', 'B', 'C'],\n",
    "                                   'I': ['Dumb', 'Intelligent'],\n",
    "                                   'D': ['Easy', 'Hard']})\n",
    "\n",
    "cpd_l_sn = TabularCPD(variable='L', variable_card=2, \n",
    "                      values=[[0.1, 0.4, 0.99],\n",
    "                              [0.9, 0.6, 0.01]],\n",
    "                      evidence=['G'],\n",
    "                      evidence_card=[3],\n",
    "                      state_names={'L': ['Bad', 'Good'],\n",
    "                                   'G': ['A', 'B', 'C']})\n",
    "\n",
    "cpd_s_sn = TabularCPD(variable='S', variable_card=2,\n",
    "                      values=[[0.95, 0.2],\n",
    "                              [0.05, 0.8]],\n",
    "                      evidence=['I'],\n",
    "                      evidence_card=[2],\n",
    "                      state_names={'S': ['Bad', 'Good'],\n",
    "                                   'I': ['Dumb', 'Intelligent']})\n",
    "\n",
    "model.add_cpds(cpd_d_sn, cpd_i_sn, cpd_g_sn, cpd_l_sn, cpd_s_sn)\n",
    "model.check_model()"
   ]
  },
  {
   "cell_type": "markdown",
   "id": "5dfaea3b-9b7b-4140-b894-22d7adf129ef",
   "metadata": {},
   "source": [
    "转化为`daft`图结构，打印查看。"
   ]
  },
  {
   "cell_type": "code",
   "execution_count": 9,
   "id": "07cbf5ce-80dd-43ae-8de8-3c960e56f25f",
   "metadata": {},
   "outputs": [
    {
     "data": {
      "image/png": "[encoded data removed]",
      "text/plain": [
       "<Figure size 212.598x212.598 with 1 Axes>"
      ]
     },
     "metadata": {},
     "output_type": "display_data"
    }
   ],
   "source": [
    "model_daft=model.to_daft(node_pos={'D':(1,3),'I':(2.5,3),'G':(2,2),'S':(3,2),'L':(2,1)})\n",
    "model_daft.render(dpi=100);"
   ]
  },
  {
   "cell_type": "markdown",
   "id": "a473a977-f981-4917-85aa-e983f6c6ca7f",
   "metadata": {
    "tags": []
   },
   "source": [
    "将 CPDs 和图$G$的随机变量节点对应起来，方便查看。\n",
    "\n",
    "<img src=\"../imgs/3_5_b/3_5_b_02.jpg\" height='auto' width=800 title=\"caDesign\"> "
   ]
  },
  {
   "cell_type": "markdown",
   "id": "a5afa61d-c663-460a-9b80-ba72f05ce1a4",
   "metadata": {},
   "source": [
    "在给定任意观测值$\\boldsymbol{e}$时，联合分布$P_{\\mathcal{B}}$具体指定了任意事件$\\boldsymbol y$的概率$P_B(\\boldsymbol{Y}=\\boldsymbol{y} \\mid \\boldsymbol{E}=\\boldsymbol{e})$：关于事件$\\boldsymbol{E}=\\boldsymbol{e}$，通过在联合分布上消除与观测$\\boldsymbol{e}$不一致的表值，调节事件$\\boldsymbol{E}=\\boldsymbol{e}$的联合分布，并将结果表值重新归一化，使其总和为1。事件$\\boldsymbol y$的概率可以通过累加与$\\boldsymbol y$一致的结果后验分布中的所有表值的概率得到。\n",
    "\n",
    "例如以学生 George 为例，用上述模型对 George 推理。如果要询问 George 有多大可能从课程 Econ101 的教授那里获得一封好的推荐信$(l^{Good})$。在对 George 和 Econ101 其它情况一无所知的条件下，这一概率为$P_{\\mathcal{B}^{student}}(l^{good}) \\approx  0.502$。"
   ]
  },
  {
   "cell_type": "code",
   "execution_count": 15,
   "id": "862f0a5f-8739-4b7d-bf9e-e242da021168",
   "metadata": {},
   "outputs": [
    {
     "name": "stdout",
     "output_type": "stream",
     "text": [
      "+---------+----------+\n",
      "| L       |   phi(L) |\n",
      "+=========+==========+\n",
      "| L(Bad)  |   0.4977 |\n",
      "+---------+----------+\n",
      "| L(Good) |   0.5023 |\n",
      "+---------+----------+\n"
     ]
    }
   ],
   "source": [
    "infer_student=VariableElimination(model)\n",
    "print(infer_student.query(['L']))"
   ]
  },
  {
   "cell_type": "markdown",
   "id": "75b859e8-d2dc-4118-b2d4-acae2a8f04b7",
   "metadata": {},
   "source": [
    "现在了解到 George 不太聪明$(i^{Dumb})$，他从教课程 Econ101 的教授那里获得一封好的推荐信的概率降至到大约$P_{\\mathcal{B}^{student}}(l^{good} \\mid i^{Dumb}) \\approx  0.389$。"
   ]
  },
  {
   "cell_type": "code",
   "execution_count": 142,
   "id": "330bf046-0f84-4524-b43c-093264c4ad9e",
   "metadata": {},
   "outputs": [
    {
     "name": "stdout",
     "output_type": "stream",
     "text": [
      "+---------+----------+\n",
      "| L       |   phi(L) |\n",
      "+=========+==========+\n",
      "| L(Bad)  |   0.6114 |\n",
      "+---------+----------+\n",
      "| L(Good) |   0.3886 |\n",
      "+---------+----------+\n"
     ]
    }
   ],
   "source": [
    "print(infer_student.query(['L'],evidence={'I':'Dumb'}))"
   ]
  },
  {
   "cell_type": "markdown",
   "id": "a982015c-8cd5-4149-9e10-bf5d585189f1",
   "metadata": {},
   "source": [
    "进一步得知 Econ101 是一门简单的课程$(d^{Easy})$，此时 George 从教授那里获得一封好的推荐信的概率为$P_{\\mathcal{B}^{student}}(l^{good} \\mid i^{Dumb},d^{Easy}) \\approx  0.513$。这类可以预测已知各种因素（例如， George的智商）对“下游”的影响实例，为**因果推理（causal reasoning）或预测（prediction）**。"
   ]
  },
  {
   "cell_type": "code",
   "execution_count": 143,
   "id": "29a8c6c6-7567-406d-b6f3-b305467815b1",
   "metadata": {},
   "outputs": [
    {
     "name": "stdout",
     "output_type": "stream",
     "text": [
      "+---------+----------+\n",
      "| L       |   phi(L) |\n",
      "+=========+==========+\n",
      "| L(Bad)  |   0.4870 |\n",
      "+---------+----------+\n",
      "| L(Good) |   0.5130 |\n",
      "+---------+----------+\n"
     ]
    }
   ],
   "source": [
    "print(infer_student.query(['L'],evidence={'I':'Dumb','D':'Easy'}))"
   ]
  },
  {
   "cell_type": "markdown",
   "id": "d4a69014-d5b5-4ac4-9416-023a1133ac78",
   "metadata": {},
   "source": [
    "现在考虑 Acme 咨询公司的一个招聘官，他试图根据前面的模型决定是否雇佣 George。先验知识是，招聘官相信 George 有0.3的可能性为高智商。他有 George 特定课程 Econ101 的成绩记录并看到 George 的成绩为$(g^{C})$，此时，George 有高智商的概率突然降至约$P_{\\mathcal{B}^{student}}(l^{good} \\mid g^{C}) \\approx  0.079$。"
   ]
  },
  {
   "cell_type": "code",
   "execution_count": 145,
   "id": "c93b2eab-2fee-41d1-9cf3-c9b6f5215340",
   "metadata": {},
   "outputs": [
    {
     "name": "stdout",
     "output_type": "stream",
     "text": [
      "+----------------+----------+\n",
      "| I              |   phi(I) |\n",
      "+================+==========+\n",
      "| I(Dumb)        |   0.9211 |\n",
      "+----------------+----------+\n",
      "| I(Intelligent) |   0.0789 |\n",
      "+----------------+----------+\n"
     ]
    }
   ],
   "source": [
    "print(infer_student.query(['I'],evidence={'G':'C'}))"
   ]
  },
  {
   "cell_type": "markdown",
   "id": "7c1479ac-b81b-4824-b522-7d78f9dca383",
   "metadata": {},
   "source": [
    "注意到此时课程难度的概率也从0.4上升为0.629。"
   ]
  },
  {
   "cell_type": "code",
   "execution_count": 146,
   "id": "5ea8b987-4691-492a-bef1-e4adadd087c6",
   "metadata": {},
   "outputs": [
    {
     "name": "stdout",
     "output_type": "stream",
     "text": [
      "+---------+----------+\n",
      "| D       |   phi(D) |\n",
      "+=========+==========+\n",
      "| D(Easy) |   0.3707 |\n",
      "+---------+----------+\n",
      "| D(Hard) |   0.6293 |\n",
      "+---------+----------+\n"
     ]
    }
   ],
   "source": [
    "print(infer_student.query(['D'],evidence={'G':'C'}))"
   ]
  },
  {
   "cell_type": "markdown",
   "id": "94c9d062-ce1e-4840-8cba-a0971d606714",
   "metadata": {},
   "source": [
    "现在假定招聘官丢失了 George 的成绩单，关于 George 的信息只剩下来自 Econ101 课程教授的推荐信，不过这封推荐信不是一封好的推荐信，此时，George 有高智商的概率依然会降低，为$P_{\\mathcal{B}^{student}}(l^{good} \\mid l^{Bad}) \\approx  0.14$。"
   ]
  },
  {
   "cell_type": "code",
   "execution_count": 147,
   "id": "89cc538e-3e4b-4e4c-a854-4bf551f203d6",
   "metadata": {
    "tags": []
   },
   "outputs": [
    {
     "name": "stdout",
     "output_type": "stream",
     "text": [
      "+----------------+----------+\n",
      "| I              |   phi(I) |\n",
      "+================+==========+\n",
      "| I(Dumb)        |   0.8600 |\n",
      "+----------------+----------+\n",
      "| I(Intelligent) |   0.1400 |\n",
      "+----------------+----------+\n"
     ]
    }
   ],
   "source": [
    "print(infer_student.query(['I'],evidence={'L':'Bad'}))"
   ]
  },
  {
   "cell_type": "markdown",
   "id": "ea572cce-73ee-4514-8456-d5ca1cb6f1d0",
   "metadata": {},
   "source": [
    "注意到，如果招聘官既有成绩单又有推荐信，George 有高智商的概率和只有成绩单时的概率一样，$P_{\\mathcal{B}^{student}}(l^{good} \\mid g^{C},l^{Bad}) \\approx  0.079$。这类从结果推理原因的查询，是**证据推理（evidential reasoning）或解释（ explanation）**。"
   ]
  },
  {
   "cell_type": "code",
   "execution_count": 148,
   "id": "4b261ef8-d4b3-43cd-9c3b-540ad18abcca",
   "metadata": {
    "tags": []
   },
   "outputs": [
    {
     "name": "stdout",
     "output_type": "stream",
     "text": [
      "+----------------+----------+\n",
      "| I              |   phi(I) |\n",
      "+================+==========+\n",
      "| I(Dumb)        |   0.9211 |\n",
      "+----------------+----------+\n",
      "| I(Intelligent) |   0.0789 |\n",
      "+----------------+----------+\n"
     ]
    }
   ],
   "source": [
    "print(infer_student.query(['I'],evidence={'L':'Bad','G':'C'}))"
   ]
  },
  {
   "cell_type": "markdown",
   "id": "ab0bc0a9-1dad-4290-ac8d-32fc636efeaf",
   "metadata": {},
   "source": [
    "最后，George 向招聘官提交了他的 SAT 成绩，令人惊讶的是，他的 SAT 成绩很高。George 有高智商的概率戏剧性的从0.079直线上升至$P_{\\mathcal{B}^{student}}(l^{good} \\mid g^{C},l^{Bad},S^{Good}) \\approx  0.578$。"
   ]
  },
  {
   "cell_type": "code",
   "execution_count": 149,
   "id": "792dc8d1-da7d-4019-a92a-54e9f40ce7e6",
   "metadata": {
    "tags": []
   },
   "outputs": [
    {
     "name": "stdout",
     "output_type": "stream",
     "text": [
      "+----------------+----------+\n",
      "| I              |   phi(I) |\n",
      "+================+==========+\n",
      "| I(Dumb)        |   0.4217 |\n",
      "+----------------+----------+\n",
      "| I(Intelligent) |   0.5783 |\n",
      "+----------------+----------+\n"
     ]
    }
   ],
   "source": [
    "print(infer_student.query(['I'],evidence={'L':'Bad','G':'C','S':'Good'}))"
   ]
  },
  {
   "cell_type": "markdown",
   "id": "16007c3b-5fcd-49f8-9f6b-5f0ca59ec24f",
   "metadata": {
    "tags": []
   },
   "source": [
    "直观上，与不好的考试成绩相比，SAT 高分更有价值的原因是低智商的学生 SAT 考试中获得高分的可能性非常低；相反，高智商的学生仍然可能获得$C$。而聪明的学生在难度高的课程中也更有可能获得$C$。事实上，可以看到，Econ101 是一门有难度的课程的概率已经从之前的0.629提高到了现在的$P_{\\mathcal{B}^{student}}(D_{Hard} \\mid g^{C},l^{Bad},S^{Good}) \\approx  0.76$。\n",
    "\n",
    "实际上，关于成绩$G$的变量，存在有一个因果因素，智商$I$为另一个变量课程难度$D$提供了信息。"
   ]
  },
  {
   "cell_type": "code",
   "execution_count": 16,
   "id": "9eb54f57-4df6-4bfa-b851-7ea04f7f5b3b",
   "metadata": {
    "tags": []
   },
   "outputs": [
    {
     "name": "stdout",
     "output_type": "stream",
     "text": [
      "+---------+----------+\n",
      "| D       |   phi(D) |\n",
      "+=========+==========+\n",
      "| D(Easy) |   0.2404 |\n",
      "+---------+----------+\n",
      "| D(Hard) |   0.7596 |\n",
      "+---------+----------+\n"
     ]
    }
   ],
   "source": [
    "print(infer_student.query(['D'],evidence={'L':'Bad','G':'C','S':'Good'}))"
   ]
  },
  {
   "cell_type": "markdown",
   "id": "e6a35c3f-ec90-4746-9770-4b34aba7c345",
   "metadata": {},
   "source": [
    "一方面，$P_{\\mathcal{B}^{student}}(l^{good} \\mid g^{C}) \\approx  0.079$；另一方面，如果发现 Econ101 是一门难度高的课程，$P_{\\mathcal{B}^{student}}(l^{good} \\mid g^{C},d^{Hard}) \\approx  0.11$。因此关于 George 在课程 Econ101 中的成绩，实际上给出部分解释。"
   ]
  },
  {
   "cell_type": "code",
   "execution_count": 156,
   "id": "9b0eba3f-a72d-4d6b-9888-5c6e5f6b828e",
   "metadata": {
    "tags": []
   },
   "outputs": [
    {
     "name": "stdout",
     "output_type": "stream",
     "text": [
      "+----------------+----------+\n",
      "| I              |   phi(I) |\n",
      "+================+==========+\n",
      "| I(Dumb)        |   0.8909 |\n",
      "+----------------+----------+\n",
      "| I(Intelligent) |   0.1091 |\n",
      "+----------------+----------+\n"
     ]
    }
   ],
   "source": [
    "print(infer_student.query(['I'],evidence={'G':'C','D':'Hard'}))"
   ]
  },
  {
   "cell_type": "markdown",
   "id": "b3d03e50-9aa6-4364-a33c-85ce64c0f8fd",
   "metadata": {},
   "source": [
    "又如果，George 在课程 Econ101 中的成绩是$B$，则$P_{\\mathcal{B}^{student}}(l^{good} \\mid g^{B}) \\approx  0.175$。"
   ]
  },
  {
   "cell_type": "code",
   "execution_count": 157,
   "id": "0274b4e5-3e90-4d72-82dc-310f04ff63c0",
   "metadata": {
    "tags": []
   },
   "outputs": [
    {
     "name": "stdout",
     "output_type": "stream",
     "text": [
      "+----------------+----------+\n",
      "| I              |   phi(I) |\n",
      "+================+==========+\n",
      "| I(Dumb)        |   0.8252 |\n",
      "+----------------+----------+\n",
      "| I(Intelligent) |   0.1748 |\n",
      "+----------------+----------+\n"
     ]
    }
   ],
   "source": [
    "print(infer_student.query(['I'],evidence={'G':'B'}))"
   ]
  },
  {
   "cell_type": "markdown",
   "id": "429b175d-7f90-43e1-91d8-73db99e8a834",
   "metadata": {},
   "source": [
    "另一方面，如果 Econ101 比较难，那么$P_{\\mathcal{B}^{student}}(l^{good} \\mid g^{B},d^{Hard}) \\approx  0.34$。实际上，已经通过课程的难度**解释消除（explained away）**了成绩低这一事件带来的影响。解释消除称为**因果间推理（ intercausal reasoning）**一般推理模式的一个示例。"
   ]
  },
  {
   "cell_type": "code",
   "execution_count": 158,
   "id": "3a3ac44c-0a29-47e7-a7fa-4426bfd1ef99",
   "metadata": {
    "tags": []
   },
   "outputs": [
    {
     "name": "stdout",
     "output_type": "stream",
     "text": [
      "+----------------+----------+\n",
      "| I              |   phi(I) |\n",
      "+================+==========+\n",
      "| I(Dumb)        |   0.6604 |\n",
      "+----------------+----------+\n",
      "| I(Intelligent) |   0.3396 |\n",
      "+----------------+----------+\n"
     ]
    }
   ],
   "source": [
    "print(infer_student.query(['I'],evidence={'G':'B','D':'Hard'}))"
   ]
  },
  {
   "cell_type": "markdown",
   "id": "b5f498d7-a0aa-4540-8036-0d62e88d3dd5",
   "metadata": {},
   "source": [
    "`query`方法返回为变量状态概率，而`map_query`方法直接返回具有最大概率的状态。例如下述条件概率查询有$P(I^{Intelligent})=0.892$，因此返回变量$I$的状态为$Intelligent$。"
   ]
  },
  {
   "cell_type": "code",
   "execution_count": 24,
   "id": "5f0d2281-ab2d-4977-9262-8b5166133ddf",
   "metadata": {
    "tags": []
   },
   "outputs": [
    {
     "data": {
      "application/vnd.jupyter.widget-view+json": {
       "model_id": "375aeb931da24d558c90e07a69e8cb01",
       "version_major": 2,
       "version_minor": 0
      },
      "text/plain": [
       "0it [00:00, ?it/s]"
      ]
     },
     "metadata": {},
     "output_type": "display_data"
    },
    {
     "data": {
      "application/vnd.jupyter.widget-view+json": {
       "model_id": "5abfa6795481492896d45909cd761500",
       "version_major": 2,
       "version_minor": 0
      },
      "text/plain": [
       "0it [00:00, ?it/s]"
      ]
     },
     "metadata": {},
     "output_type": "display_data"
    },
    {
     "name": "stdout",
     "output_type": "stream",
     "text": [
      "{'I': 'Intelligent'}\n",
      "+----------------+----------+\n",
      "| I              |   phi(I) |\n",
      "+================+==========+\n",
      "| I(Dumb)        |   0.1084 |\n",
      "+----------------+----------+\n",
      "| I(Intelligent) |   0.8916 |\n",
      "+----------------+----------+\n"
     ]
    }
   ],
   "source": [
    "print(infer_student.map_query(['I'],evidence={'G':'B','D':'Hard','S':'Good'}))\n",
    "print(infer_student.query(['I'],evidence={'G':'B','D':'Hard','S':'Good'}))"
   ]
  },
  {
   "cell_type": "markdown",
   "id": "4ba021c5-a5f5-41b2-9353-fa5ef8c75a6e",
   "metadata": {},
   "source": [
    "## 3.5.3  连续型贝叶斯网络\n",
    "\n",
    "许多情形下，需要在某个连续空间中取值，例如位置、温度、压力及气体浓度等，显然，这些情况都无法用表的形式来表示。一种解决策略是离散所有的连续变量，不过，为了得到合理准确的模型，通常需要非常精细的离散化操作，这使得变量的离散值数量庞大；且离散化连续变量常常会丢失许多刻画其特征的结构，例如连续变量“邻近的”离散值相关联概率之间成立的某种关系等。实际上，贝叶斯网络的简洁表示并未限制随机变量只为离散型，其仅有的要求是对$Pa_X$的每一个赋值$pa_X$，有$CPD \\ P(X \\mid Pa_X)$表示$X$上的一个分布，$X$可以是连续的，但 CPD 需要在值的一个连续统（ continuum）上表示分布；可能还存在$X$的一些连续的父节点，所以 CPD 还需要表示不同概率分布的一个连续统。\n",
    "\n",
    "> 或描述为，对于随机变量$X$的 CPD，每一赋值$y_1 \\in Val(Y_1), y_2 \\in Val(Y_2), \\cdots, y_n \\in val(Y_n)$，有$P(X | Y_1, Y_2, \\cdots Y_n)$表示$X$上的一个分布。\n",
    "\n",
    "### 3.5.3.1 连续型随机变量的表示——`ContinuousFactor`方法\n",
    "\n",
    "`pgmpy`库提供了`ContinuousFactor`方法来表征连续型随机变量$X$的分布，输入参数`variables`为定义分布的变量；`pdf`为分布的概率密度函数。"
   ]
  },
  {
   "cell_type": "code",
   "execution_count": 3,
   "id": "ca58b83d-3f4f-4cf1-988c-a2d9fb9f32ec",
   "metadata": {
    "tags": []
   },
   "outputs": [],
   "source": [
    "%load_ext autoreload \n",
    "%autoreload 2 \n",
    "import usda.data_visual as usda_vis\n",
    "import usda.pgm as usda_pgm\n",
    "\n",
    "import numpy as np\n",
    "from scipy.special import beta\n",
    "from scipy.stats import multivariate_normal\n",
    "from pgmpy.factors.continuous import ContinuousFactor\n",
    "from pgmpy.factors.distributions import GaussianDistribution as JGD\n",
    "from pgmpy.factors.continuous import CanonicalDistribution\n",
    "from pgmpy.factors.continuous import LinearGaussianCPD\n",
    "from pgmpy.models import LinearGaussianBayesianNetwork\n",
    "\n",
    "import matplotlib.pyplot as plt\n",
    "import matplotlib as mpl"
   ]
  },
  {
   "cell_type": "code",
   "execution_count": 1,
   "id": "62e7cab9-16f5-4fc0-b542-5c6ea7df564f",
   "metadata": {
    "tags": []
   },
   "outputs": [],
   "source": [
    "from datascience import *\n",
    "from prob140 import *\n",
    "%matplotlib inline\n",
    "import matplotlib.pyplot as plt\n",
    "import numpy as np\n",
    "plt.style.use('fivethirtyeight')"
   ]
  },
  {
   "cell_type": "code",
   "execution_count": 4,
   "id": "30fe0b00-33a7-4bda-9e75-6aa1a7397d6e",
   "metadata": {
    "tags": []
   },
   "outputs": [
    {
     "name": "stdout",
     "output_type": "stream",
     "text": [
      "Help on function __init__ in module pgmpy.factors.continuous.ContinuousFactor:\n",
      "\n",
      "__init__(self, variables, pdf, *args, **kwargs)\n",
      "    Parameters\n",
      "    ----------\n",
      "    variables: list or array-like\n",
      "        The variables for which the distribution is defined.\n",
      "    \n",
      "    pdf: function\n",
      "        The probability density function of the distribution.\n",
      "    \n",
      "    Examples\n",
      "    --------\n",
      "    >>> import numpy as np\n",
      "    >>> from scipy.special import beta\n",
      "    >>> from pgmpy.factors.continuous import ContinuousFactor\n",
      "    # Two variable dirichlet distribution with alpha = (1,2)\n",
      "    >>> def dirichlet_pdf(x, y):\n",
      "    ...     return (np.power(x, 1) * np.power(y, 2)) / beta(x, y)\n",
      "    >>> dirichlet_factor = ContinuousFactor(['x', 'y'], dirichlet_pdf)\n",
      "    >>> dirichlet_factor.scope()\n",
      "    ['x', 'y']\n",
      "    >>> dirichlet_factor.assignment(5,6)\n",
      "    226800.0\n",
      "\n"
     ]
    }
   ],
   "source": [
    "help(ContinuousFactor.__init__)"
   ]
  },
  {
   "cell_type": "markdown",
   "id": "ef31c07f-7199-426d-bc10-0447e4e123b6",
   "metadata": {},
   "source": [
    "* 示例分布-1\n",
    "\n",
    "定义 pdf 为函数`drichlet_pdf`，包含2个变量$X,Y$，并打印查看分布图形。"
   ]
  },
  {
   "cell_type": "code",
   "execution_count": 4,
   "id": "4c782ee6-45de-484d-bfc7-a6c03f05bf62",
   "metadata": {
    "tags": []
   },
   "outputs": [
    {
     "data": {
      "application/vnd.jupyter.widget-view+json": {
       "model_id": "de6d4ec94c254650935b314d61a7a0d4",
       "version_major": 2,
       "version_minor": 0
      },
      "text/plain": [
       "interactive(children=(FloatSlider(value=20.0, description='elevation', max=90.0, step=1.0), FloatSlider(value=…"
      ]
     },
     "metadata": {},
     "output_type": "display_data"
    }
   ],
   "source": [
    "def drichlet_pdf(x, y):\n",
    "     return (np.power(x, 1)*np.power(y, 2))/beta(x, y)\n",
    "    \n",
    "Plot_3d(x_limits=(0,1), y_limits=(0,1), f=drichlet_pdf, cstride=4, rstride=4,interactive=True)  "
   ]
  },
  {
   "cell_type": "markdown",
   "id": "1cea2fb4-c518-4e5e-a1c5-28a8cb445643",
   "metadata": {},
   "source": [
    "使用`ContinuousFactor`方法表征分布。可以通过`assignment`方式传入变量取值计算概率。"
   ]
  },
  {
   "cell_type": "code",
   "execution_count": 5,
   "id": "b71c6737-8655-4de9-b982-879593e4483a",
   "metadata": {
    "tags": []
   },
   "outputs": [
    {
     "name": "stdout",
     "output_type": "stream",
     "text": [
      "['x', 'y'] 0.594569360493 5.0723727439e-05\n"
     ]
    }
   ],
   "source": [
    "drichlet_factor = ContinuousFactor(['x', 'y'], drichlet_pdf) \n",
    "print(drichlet_factor.scope(),drichlet_factor.assignment(0.9,0.9),drichlet_factor.assignment(0.1,0.1))"
   ]
  },
  {
   "cell_type": "markdown",
   "id": "c318693c-ffdf-464a-b6fd-baff4c40f7fb",
   "metadata": {},
   "source": [
    "* 示例分布-2\n",
    "\n",
    "使用`reduce`方式可以指定待消减的随机变量一个值后，消减该变量。例如对含有3个变量的分布$y$指定0.8值消减后，转变为仅含有$x,z$的2个变量的分布。"
   ]
  },
  {
   "cell_type": "code",
   "execution_count": 6,
   "id": "373e2b90-bd95-4eab-bf3e-0a8aeb795911",
   "metadata": {
    "tags": []
   },
   "outputs": [
    {
     "name": "stdout",
     "output_type": "stream",
     "text": [
      "['x', 'y', 'z'] 0.270012958213\n"
     ]
    }
   ],
   "source": [
    "def custom_pdf(x, y, z):\n",
    "    return z*(np.power(x, 1)*np.power(y, 2))/beta(x, y)\n",
    "\n",
    "custom_factor = ContinuousFactor(['x', 'y', 'z'], custom_pdf)\n",
    "print(custom_factor.scope(),custom_factor.assignment(0.8, 0.8, 0.8)) "
   ]
  },
  {
   "cell_type": "code",
   "execution_count": 7,
   "id": "09f75cd4-8e99-4dcf-bc74-54115fb62ab4",
   "metadata": {
    "tags": []
   },
   "outputs": [
    {
     "name": "stdout",
     "output_type": "stream",
     "text": [
      "['x', 'z'] 0.270012958213\n"
     ]
    }
   ],
   "source": [
    "custom_factor.reduce([('y', 0.8)])\n",
    "print(custom_factor.scope(),custom_factor.assignment(0.8,0.8)) "
   ]
  },
  {
   "cell_type": "code",
   "execution_count": 8,
   "id": "5740d3d3-159f-413c-a02c-633ff771dce6",
   "metadata": {
    "tags": []
   },
   "outputs": [
    {
     "data": {
      "application/vnd.jupyter.widget-view+json": {
       "model_id": "86df45568e9a4dbfa052d6c563112a3d",
       "version_major": 2,
       "version_minor": 0
      },
      "text/plain": [
       "interactive(children=(FloatSlider(value=20.0, description='elevation', max=90.0, step=1.0), FloatSlider(value=…"
      ]
     },
     "metadata": {},
     "output_type": "display_data"
    }
   ],
   "source": [
    "Plot_3d(x_limits=(0,1), y_limits=(0,1), f=custom_factor.pdf, cstride=4, rstride=4,interactive=True)  "
   ]
  },
  {
   "cell_type": "markdown",
   "id": "6e4485b4-ddf4-43e6-a383-732ba199bca4",
   "metadata": {},
   "source": [
    "* 示例分布-3\n",
    "\n",
    "使用`SciPy`库的`multivariate_normal`方法建立多个随机变量的多元正态分布，输入参数`mean`为分布的均值；`cov`为对称正定（半正定）协方差矩阵（Symmetric positive (semi)definite covariance matrix）。\n",
    "\n",
    "> 关于*正定（半正定）协方差矩阵*参考本章最后部分。"
   ]
  },
  {
   "cell_type": "code",
   "execution_count": 10,
   "id": "78279506-510d-45d2-8b0b-8d9513420f1f",
   "metadata": {
    "tags": []
   },
   "outputs": [
    {
     "name": "stdout",
     "output_type": "stream",
     "text": [
      "Help on method pdf in module scipy.stats._multivariate:\n",
      "\n",
      "pdf(x, mean=None, cov=1, allow_singular=False) method of scipy.stats._multivariate.multivariate_normal_gen instance\n",
      "    Multivariate normal probability density function.\n",
      "    \n",
      "    Parameters\n",
      "    ----------\n",
      "    x : array_like\n",
      "        Quantiles, with the last axis of `x` denoting the components.\n",
      "    mean : array_like, default: ``[0]``\n",
      "        Mean of the distribution.\n",
      "    cov : array_like, default: ``[1]``\n",
      "        Symmetric positive (semi)definite covariance matrix of the distribution.\n",
      "    allow_singular : bool, default: ``False``\n",
      "        Whether to allow a singular covariance matrix.\n",
      "    \n",
      "    Returns\n",
      "    -------\n",
      "    pdf : ndarray or scalar\n",
      "        Probability density function evaluated at `x`\n",
      "    \n",
      "    Notes\n",
      "    -----\n",
      "    Setting the parameter `mean` to `None` is equivalent to having `mean`\n",
      "    be the zero-vector. The parameter `cov` can be a scalar, in which case\n",
      "    the covariance matrix is the identity times that value, a vector of\n",
      "    diagonal entries for the covariance matrix, or a two-dimensional\n",
      "    array_like.\n",
      "\n"
     ]
    }
   ],
   "source": [
    "help(multivariate_normal.pdf)"
   ]
  },
  {
   "cell_type": "code",
   "execution_count": 9,
   "id": "2551b151-30f9-4d7e-964b-b667745f650e",
   "metadata": {
    "tags": []
   },
   "outputs": [
    {
     "name": "stdout",
     "output_type": "stream",
     "text": [
      "['x1', 'x2'] 0.12394999431\n"
     ]
    }
   ],
   "source": [
    "std_normal_pdf = lambda *x: multivariate_normal.pdf(x, [0, 0], [[1, 0], [0, 1]])\n",
    "std_normal = ContinuousFactor(['x1', 'x2'], std_normal_pdf)\n",
    "print(std_normal.scope(),std_normal.assignment([0.5, 0.5]))"
   ]
  },
  {
   "cell_type": "code",
   "execution_count": 14,
   "id": "0b107562-1dea-4336-8ebf-4697df4c1d98",
   "metadata": {
    "scrolled": true,
    "tags": []
   },
   "outputs": [
    {
     "data": {
      "application/vnd.jupyter.widget-view+json": {
       "model_id": "6950eaaf2fd54147b4c3189f3d3a1a99",
       "version_major": 2,
       "version_minor": 0
      },
      "text/plain": [
       "interactive(children=(FloatSlider(value=20.0, description='elevation', max=90.0, step=1.0), FloatSlider(value=…"
      ]
     },
     "metadata": {},
     "output_type": "display_data"
    }
   ],
   "source": [
    "Plot_3d(x_limits=(-5,5), y_limits=(-5,5), f=std_normal.pdf, cstride=4, rstride=4,interactive=True)  "
   ]
  },
  {
   "cell_type": "code",
   "execution_count": 15,
   "id": "7388ce13",
   "metadata": {},
   "outputs": [
    {
     "data": {
      "application/vnd.jupyter.widget-view+json": {
       "model_id": "40b3afe3ac3548e1b3ea7e57dd8d4f84",
       "version_major": 2,
       "version_minor": 0
      },
      "text/plain": [
       "interactive(children=(FloatSlider(value=20.0, description='elevation', max=90.0, step=1.0), FloatSlider(value=…"
      ]
     },
     "metadata": {},
     "output_type": "display_data"
    }
   ],
   "source": [
    "Plot_3d(x_limits=(-5,5), y_limits=(-5,5), f=std_normal.pdf, cstride=4, rstride=4,interactive=True)  "
   ]
  },
  {
   "cell_type": "markdown",
   "id": "a900c9e3-393c-446d-9fcc-3585df90a36d",
   "metadata": {},
   "source": [
    "计算服从正态分布的二维随机变量$(X1,X2)$中关于$X2$的边缘概率分布。"
   ]
  },
  {
   "cell_type": "code",
   "execution_count": 65,
   "id": "02ea473b-3658-49bb-9c39-9444c7b1427b",
   "metadata": {
    "tags": []
   },
   "outputs": [
    {
     "name": "stdout",
     "output_type": "stream",
     "text": [
      "['x1'] 0.35206532676429947\n"
     ]
    }
   ],
   "source": [
    "std_normal.marginalize(['x2'])\n",
    "print(std_normal.scope(), std_normal.assignment(0.5))"
   ]
  },
  {
   "cell_type": "code",
   "execution_count": 84,
   "id": "b8484aa1-30c9-4aa5-9a71-60c7754393c0",
   "metadata": {
    "tags": []
   },
   "outputs": [
    {
     "data": {
      "image/png": "[encoded data removed]",
      "text/plain": [
       "<Figure size 500x500 with 1 Axes>"
      ]
     },
     "metadata": {},
     "output_type": "display_data"
    }
   ],
   "source": [
    "mpl.rcParams.update(mpl.rcParamsDefault)\n",
    "fig, ax=plt.subplots(1, 1,figsize=(5,5))\n",
    "x=np.arange(0,1+0.1,0.1)\n",
    "\n",
    "ax.plot(x, list(map(std_normal.pdf,x)), 'k-', ms=8)\n",
    "usda_vis.plot_style_axis_A(ax)\n",
    "plt.show()"
   ]
  },
  {
   "cell_type": "markdown",
   "id": "1b1a8dc6-6855-45f8-96de-da106598f22e",
   "metadata": {},
   "source": [
    "* 示例分布-4\n",
    "\n",
    "`ContinuousFactor`类含有对分布执行乘除等计算。"
   ]
  },
  {
   "cell_type": "code",
   "execution_count": 11,
   "id": "f3ddeeef-bc54-4ae8-8f53-9f1e3cb34528",
   "metadata": {
    "tags": []
   },
   "outputs": [
    {
     "name": "stdout",
     "output_type": "stream",
     "text": [
      "['x2', 'x1'] 0.0370008053775\n",
      "['x1', 'x2'] 0.333224602892\n"
     ]
    }
   ],
   "source": [
    "sn_pdf1 = lambda x: multivariate_normal.pdf([x], [0], [[1]])\n",
    "sn_pdf2 = lambda x1,x2: multivariate_normal.pdf([x1, x2], [0, 0], [[1, 0], [0, 1]])\n",
    "sn1 = ContinuousFactor(['x2'], sn_pdf1)\n",
    "sn2 = ContinuousFactor(['x1', 'x2'], sn_pdf2)\n",
    "sn3 = sn1 * sn2\n",
    "sn4 = sn2 / sn1\n",
    "print(sn3.scope(),sn3.assignment(0.6, 0.6))\n",
    "print(sn4.scope(), sn4.assignment(0.6, 0.6))"
   ]
  },
  {
   "cell_type": "code",
   "execution_count": 12,
   "id": "b874a482-6381-4f00-8340-ce9c75166377",
   "metadata": {
    "tags": []
   },
   "outputs": [
    {
     "data": {
      "application/vnd.jupyter.widget-view+json": {
       "model_id": "134ca595e0c04934b9f89296811b2682",
       "version_major": 2,
       "version_minor": 0
      },
      "text/plain": [
       "interactive(children=(FloatSlider(value=20.0, description='elevation', max=90.0, step=1.0), FloatSlider(value=…"
      ]
     },
     "metadata": {},
     "output_type": "display_data"
    }
   ],
   "source": [
    "Plot_3d(x_limits=(-3,3), y_limits=(-3,3), f=sn3.pdf, cstride=4, rstride=4,interactive=True) "
   ]
  },
  {
   "cell_type": "code",
   "execution_count": 13,
   "id": "af0cb582-82b6-499d-b389-2e602fcb4b19",
   "metadata": {
    "tags": []
   },
   "outputs": [
    {
     "data": {
      "application/vnd.jupyter.widget-view+json": {
       "model_id": "cb293d91b6a64f88b778a91bab45bf5c",
       "version_major": 2,
       "version_minor": 0
      },
      "text/plain": [
       "interactive(children=(FloatSlider(value=20.0, description='elevation', max=90.0, step=1.0), FloatSlider(value=…"
      ]
     },
     "metadata": {},
     "output_type": "display_data"
    }
   ],
   "source": [
    "Plot_3d(x_limits=(-3,3), y_limits=(-3,3), f=sn4.pdf, cstride=4, rstride=4,interactive=True) "
   ]
  },
  {
   "cell_type": "markdown",
   "id": "dcbd9bdd-2d00-4e1f-9586-51fc7859b02a",
   "metadata": {},
   "source": [
    "### 3.5.3.2 多元高斯分布和CPD\n",
    "\n",
    "#### 1）多元高斯分布\n",
    "\n",
    "连续型变量的参数化空间在本质上是无界的，其中多元高斯分布类是简单的一种分布子类，具有很强的假设，例如分布偏离其均值的指数式衰减，及变量之间线性的交互作用等。在*概率论基础*部分阐述了一维和二维正态（高斯）分布，前文的示例分布3和4也使用`SciPy`库提供的方法建立二元和多元高斯分布。根据均值和方差这两个参数定义单变量高斯分布，对多个随机变量$X_1, \\cdots, X_n$的多元高斯分布，则由$n$维的均值向量（ mean vector）$\\mu$，及$n \\times n$对称协方差矩阵（covariance matrix）$\\sum$定义，密度函数定义如下：$p(x)=\\frac{1}{(2 \\pi)^{n / 2}|\\Sigma|^{1 / 2}} \\exp \\left[-\\frac{1}{2}(x-\\mu)^{\\mathrm{T}} \\Sigma^{-1}(x-\\mu)\\right]$，式中$\\mid \\sum \\mid$是$\\sum$的行列式。\n",
    "\n",
    "\n",
    "把标准高斯分布的概念推广到多维情况，将其定义为一个均值向量为0，协方差矩阵为对角线元素是1，其余元素是0的单位矩阵$I$的高斯分布。多维标准高斯分布仅是每一维上独立标准高斯分布的乘积。为了使这个等式导出定义明确积分为1的密度函数，矩阵$\\sum$必须是正定的：对于任意满足$x  \\neq 0$的$x \\in \\boldsymbol{R}^n$（$n$列向量），有$x^{\\top} \\Sigma x>0$。由于正定矩阵是非奇异的，因此其行列式大于0，这与该定义的必要条件一致。将多元高斯分布推广为半正定协方差矩阵的情况：对于任意的$x \\in \\boldsymbol{R}^n$，有$x^{\\top} \\Sigma x \\geqslant 0$，其允许一些应用中的协方差矩阵是奇异的。\n",
    "\n",
    "例如考虑三个随机变量上的一个特殊联合分布$p(X_1,X_2,X_3)$，均值向量$\\mu$和协方差矩阵$\\sum$为：$$ \\mu=\\left(\\begin{array}{r}1 \\\\-3 \\\\4\\end{array}\\right), \\quad \\Sigma=\\left(\\begin{array}{rrr}4 & 2 & -2 \\\\2 & 5 & -5 \\\\-2 & -5 & 8\\end{array}\\right)$$。使用`pgmpy`库提供的`GaussianDistribution`（`JGD`）方法实现。"
   ]
  },
  {
   "cell_type": "code",
   "execution_count": 16,
   "id": "b8ced9bd-85d2-4db4-9531-d1932e2635de",
   "metadata": {
    "tags": []
   },
   "outputs": [
    {
     "name": "stdout",
     "output_type": "stream",
     "text": [
      "['x1', 'x2', 'x3']\n",
      "[[ 1.]\n",
      " [-3.]\n",
      " [ 4.]]\n",
      "[[ 4.  2. -2.]\n",
      " [ 2.  5. -5.]\n",
      " [-2. -5.  8.]]\n",
      "0.00153154445492\n"
     ]
    }
   ],
   "source": [
    "cov=np.array([[4, 2, -2], \n",
    "              [2, 5, -5], \n",
    "              [-2, -5, 8]])\n",
    "dis = JGD(['x1', 'x2', 'x3'], np.array([[1], [-3], [4]]),cov)\n",
    "print(dis.variables)\n",
    "print(dis.mean)\n",
    "print(dis.covariance)\n",
    "print(dis.pdf([0.5,0.5,0.5]))"
   ]
  },
  {
   "cell_type": "markdown",
   "id": "69a7e193-eedb-4ed6-9839-e07188aabe09",
   "metadata": {},
   "source": [
    "检查协方差矩阵是否是正定/半正定矩阵。"
   ]
  },
  {
   "cell_type": "code",
   "execution_count": 47,
   "id": "8ef7803c-4986-4b74-8198-c6fa0f84d9ff",
   "metadata": {
    "tags": []
   },
   "outputs": [
    {
     "data": {
      "text/plain": [
       "{'Positive Definite': True,\n",
       " 'Positive Semi-Definite': True,\n",
       " 'Symmetric': True,\n",
       " 'Positive Determinant': True,\n",
       " 'Eigen Values, Positivity': True}"
      ]
     },
     "execution_count": 47,
     "metadata": {},
     "output_type": "execute_result"
    }
   ],
   "source": [
    "usda_pgm.covariance_test(cov,[0,1])"
   ]
  },
  {
   "cell_type": "markdown",
   "id": "7419f75f-40de-414c-823a-609f479e6661",
   "metadata": {},
   "source": [
    "同`ContinuousFactor`类，由`GaussianDistribution`定义的高斯分布同样也含有边缘（高斯）分布（marginalize）、消减（reduce）、标准化（normalize）、乘除（product and divide）等运算。"
   ]
  },
  {
   "cell_type": "code",
   "execution_count": 17,
   "id": "d93e36b2-a1f4-4e92-82c8-56d148cba0f5",
   "metadata": {
    "tags": []
   },
   "outputs": [
    {
     "name": "stdout",
     "output_type": "stream",
     "text": [
      "['x1', 'x2', 'x3', 'x4']\n",
      "[[ 1.88888889]\n",
      " [-0.77777778]\n",
      " [ 0.44444444]\n",
      " [ 2.        ]]\n",
      "[[ 3.55555556  0.88888889 -0.22222222  0.        ]\n",
      " [ 0.88888889  2.22222222 -0.55555556  0.        ]\n",
      " [-0.22222222 -0.55555556  0.88888889  0.        ]\n",
      " [ 0.          0.          0.          1.        ]]\n"
     ]
    }
   ],
   "source": [
    "dis1 = JGD(['x1', 'x2', 'x3'], np.array([[1], [-3], [4]]),np.array([[4, 2, -2], [2, 5, -5], [-2, -5, 8]]))\n",
    "dis2 = JGD(['x3', 'x4'], [0, 2], [[1, 0], [0, 1]])\n",
    "dis3 = dis1 * dis2\n",
    "print(dis3.variables)\n",
    "print(dis3.mean)\n",
    "print(dis3.covariance)"
   ]
  },
  {
   "cell_type": "code",
   "execution_count": 18,
   "id": "5850df26-cf4d-421b-85e4-168b3925bfd3",
   "metadata": {
    "tags": []
   },
   "outputs": [
    {
     "data": {
      "application/vnd.jupyter.widget-view+json": {
       "model_id": "bed24d2d5c1a4964a13b2479212685d6",
       "version_major": 2,
       "version_minor": 0
      },
      "text/plain": [
       "interactive(children=(FloatSlider(value=20.0, description='elevation', max=90.0, step=1.0), FloatSlider(value=…"
      ]
     },
     "metadata": {},
     "output_type": "display_data"
    }
   ],
   "source": [
    "dis2.normalize(inplace=True)\n",
    "Plot_3d(x_limits=(-5,5), y_limits=(-5,5), f=dis2.pdf, cstride=4, rstride=4,interactive=True) "
   ]
  },
  {
   "cell_type": "markdown",
   "id": "0c24afb3-07ca-455e-a5a3-cd66d9c63fc4",
   "metadata": {},
   "source": [
    "#### 2）高斯密度的信息形式和`CanonicalDistribution`\n",
    "\n",
    "由于正定矩阵是可逆的，如果高斯分布根据协方差矩阵的逆矩阵$J=\\Sigma^{-1}$定义，$J$称为**信息矩阵**（information matrix）或**精度矩阵**（ precision matrix）。这种表示可以为高斯密度导出另一种形式，上述密度函数的指数有：$-\\frac{1}{2}(x-\\mu)^{\\mathrm{T}} \\Sigma^{-1}(x-\\mu)=-\\frac{1}{2}(x-\\mu)^{\\mathrm{T}} J(x-\\mu) \\\\ =-\\frac{1}{2}\\left[x^{\\mathrm{\\top}} J x-2 x^{\\mathrm{T}} J \\mu+\\mu^{\\mathrm{\\top}} J \\mu\\right]$，式中最后一项是常数，所以，$p(x) \\propto \\exp \\left[-\\frac{1}{2} \\boldsymbol{x}^{\\top} J \\boldsymbol{x}+(J \\boldsymbol{\\mu})^{\\top} \\boldsymbol{x}\\right]$。该高斯密度公式通常称为**信息形式**（information form），并且向量$h=J \\mu$称为**位势向量**（ potential vector）。因为$\\sum$正定当且仅当$\\Sigma^{-1}$正定，所以信息形式定义了一个有效的高斯密度，当且仅当信息矩阵对称且正定。\n",
    "\n",
    "根据高斯密度的信息形式，`pgmpy`提供了`CanonicalDistribution`方法以信息形式表述高斯密度分布。其输入参数`K`即`J`，为协方差矩阵的逆矩阵；`h`即位势向量；`g`为常数。"
   ]
  },
  {
   "cell_type": "code",
   "execution_count": 82,
   "id": "e45ce0bb-d199-4b38-bc73-bbf9b7fd1014",
   "metadata": {},
   "outputs": [
    {
     "name": "stdout",
     "output_type": "stream",
     "text": [
      "Help on function __init__ in module pgmpy.factors.distributions.CanonicalDistribution:\n",
      "\n",
      "__init__(self, variables, K, h, g)\n",
      "    Parameters\n",
      "    ----------\n",
      "    variables: list or array-like\n",
      "    The variables for wich the distribution is defined.\n",
      "    \n",
      "    K: n x n, 2-d array-like\n",
      "    \n",
      "    h : n x 1, array-like\n",
      "    \n",
      "    g : int, float\n",
      "    \n",
      "    pdf: function\n",
      "    The probability density function of the distribution.\n",
      "    \n",
      "    The terms K, h and g are defined parameters for canonical\n",
      "    factors representation.\n",
      "    \n",
      "    Examples\n",
      "    --------\n",
      "    >>> from pgmpy.factors.continuous import CanonicalDistribution\n",
      "    >>> phi = CanonicalDistribution(['X', 'Y'], np.array([[1, -1], [-1, 1]]),\n",
      "                              np.array([[1], [-1]]), -3)\n",
      "    >>> phi.variables\n",
      "    ['X', 'Y']\n",
      "    \n",
      "    >>> phi.K\n",
      "    array([[1, -1],\n",
      "           [-1, 1]])\n",
      "    \n",
      "    >>> phi.h\n",
      "    array([[1],\n",
      "           [-1]])\n",
      "    \n",
      "    >>> phi.g\n",
      "    -3\n",
      "\n"
     ]
    }
   ],
   "source": [
    "help(CanonicalDistribution.__init__)"
   ]
  },
  {
   "cell_type": "code",
   "execution_count": 83,
   "id": "da0137fe-a218-4363-be1d-fae347655e89",
   "metadata": {
    "tags": []
   },
   "outputs": [
    {
     "name": "stdout",
     "output_type": "stream",
     "text": [
      "['x1', 'x2', 'x3'] \n",
      "--- [[ 6.]\n",
      " [ 3.]\n",
      " [-1.]] \n",
      "--- [[ 4. -3.  0.]\n",
      " [-3.  8. -2.]\n",
      " [ 0. -2.  4.]] \n",
      "--- -1\n"
     ]
    }
   ],
   "source": [
    "phi1 = CanonicalDistribution(['x1', 'x2', 'x3'],np.array([[1, -1, 0], [-1, 4, -2], [0, -2, 4]]),np.array([[1], [4], [-1]]), -2)\n",
    "phi2 = CanonicalDistribution(['x1', 'x2'], np.array([[3, -2], [-2, 4]]),np.array([[5], [-1]]), 1)\n",
    "\n",
    "phi3 = phi1 * phi2\n",
    "print(phi3.variables,'\\n---',phi3.h,'\\n---',phi3.K,'\\n---',phi3.g)      "
   ]
  },
  {
   "cell_type": "markdown",
   "id": "ec3f7351-9301-44f8-b060-5d1a0ec1b1cd",
   "metadata": {},
   "source": [
    "用`to_joint_gaussian`方法可以将高斯密度的信息形式转换回一般定义形式。"
   ]
  },
  {
   "cell_type": "code",
   "execution_count": 109,
   "id": "3a38740a-d174-4c83-bb33-6acfcb629b34",
   "metadata": {
    "tags": []
   },
   "outputs": [
    {
     "name": "stdout",
     "output_type": "stream",
     "text": [
      "['x1', 'x2']\n",
      "[[ 0.5    0.25 ]\n",
      " [ 0.25   0.375]]\n",
      "[[ 2.25 ]\n",
      " [ 0.875]]\n"
     ]
    }
   ],
   "source": [
    "phi = CanonicalDistribution(['x1', 'x2'], np.array([[3, -2], [-2, 4]]),np.array([[5], [-1]]), 1)\n",
    "jgd = phi.to_joint_gaussian()\n",
    "print(jgd.variables)\n",
    "print(jgd.covariance)\n",
    "print(jgd.mean)"
   ]
  },
  {
   "cell_type": "markdown",
   "id": "3e352c69-ad5e-4988-bb59-02b81918348f",
   "metadata": {},
   "source": [
    "#### 3）二元高斯分布参数的矩阵表示\n",
    "\n",
    "二元高斯分布的均值向量和协方差矩阵分别对应正态分布的一阶矩和二阶矩，用矩阵的符号表示有，$\\mu=E[X]$，$\\Sigma=E\\left[X X^{\\top}\\right]-E[X] E[X]^{\\top}$。这种表示在单变量的层次上分解，有$\\mu_i$是$X_i$的均值，$\\sum_{i,i}$是$X_i$的方差，且$\\sum_{i,j}=\\sum_{j,i},i \\neq j$是$X_i$和$X_j$之间的协方差：$\\operatorname{Cov}\\left[X_i ; X_j\\right]=\\boldsymbol{E}\\left[X_i X_j\\right]-\\boldsymbol{E}\\left[X_i\\right] \\boldsymbol{E}\\left[X_j\\right]$。"
   ]
  },
  {
   "cell_type": "markdown",
   "id": "be2b434e-3306-4106-a5b2-76adc00c744e",
   "metadata": {
    "tags": []
   },
   "source": [
    "#### 4）高斯分布的独立性\n",
    "\n",
    "对于多元高斯分布，独立性可以根据分布的参数直接确定。\n",
    "\n",
    "定理：另$\\boldsymbol{X}=X_1, \\cdots, X_n $有联合正态分布$\\mathcal{N}(\\mu ; \\Sigma)$，那么$X_i$和$X_j$相互独立，当且仅当$ \\Sigma_{i, j}=0 $。\n",
    "\n",
    "用信息矩阵方式表述。\n",
    "\n",
    "定理：考虑高斯分布$p\\left(X_1, \\cdots, X_n\\right)=\\mathcal{N}(\\mu ; \\Sigma)$，且令$J=\\Sigma^{-1}$为其信息矩阵，则$J_{i, j}=0$，当且仅当$p \\mid=\\left(X_i \\perp X_j \\mid \\mathcal{X}-\\left\\{X_i, X_i\\right\\}\\right.$。\n",
    "\n"
   ]
  },
  {
   "cell_type": "markdown",
   "id": "19d6c4f3-f594-4891-a50f-33403cc21cf9",
   "metadata": {},
   "source": [
    "#### 5）线性高斯模型和CPD\n",
    "\n",
    "考虑连续变量$Y$关于连续型父节点$X$的依赖，可以把对$Y$的分布构建为其参数取决于$X$值的高斯模型，一般的方式是决定$Y$的均值是$X$的线性函数，且$Y$的方差不依赖于$X$，例如$p(Y \\mid x)=\\mathcal{N}(-2 x+0.9 ; 1)$。这类独立性称为线性高斯（Linear Gaussian）模型。\n",
    "\n",
    "定义：另$Y$有连续型父节点$X_1,\\cdots,X_k$的连续型变量，假如存在参数$\\beta_0, \\ldots , \\beta_k $和$\\sigma^2$，使得$P\\left(Y \\mid x_1, \\cdots, x_k\\right)=\\mathcal{N}\\left(\\beta_0+\\beta_1 x_1+\\cdots+\\beta_k x_k ; \\sigma^2\\right) $，则称$Y$有一个线性高斯模型。该模型可以用向量表示为$P(Y \\mid x)=\\mathcal{N}\\left(\\beta_0+\\beta^{\\top} \\boldsymbol{x} ; \\sigma^2\\right) $。\n",
    "\n",
    "用`LinearGaussianCPD`方法定义线性高斯模型（CPD）。"
   ]
  },
  {
   "cell_type": "code",
   "execution_count": 85,
   "id": "8e5dad02-e937-468f-b6aa-8ba1d2e44ff2",
   "metadata": {
    "tags": []
   },
   "outputs": [
    {
     "name": "stdout",
     "output_type": "stream",
     "text": [
      "Help on function __init__ in module pgmpy.factors.continuous.LinearGaussianCPD:\n",
      "\n",
      "__init__(self, variable, evidence_mean, evidence_variance, evidence=[], beta=None)\n",
      "    Parameters\n",
      "    ----------\n",
      "    \n",
      "    variable: any hashable python object\n",
      "        The variable whose CPD is defined.\n",
      "    \n",
      "    evidence_mean: Mean vector (numpy array) of the joint distribution, X\n",
      "    \n",
      "    evidence_variance: int, float\n",
      "        The variance of the multivariate gaussian, X = ['x1', 'x2', ..., 'xn']\n",
      "    \n",
      "    evidence: iterable of any hashable python objects\n",
      "        An iterable of the parents of the variable. None if there are no parents.\n",
      "    \n",
      "    beta (optional): iterable of int or float\n",
      "        An iterable representing the coefficient vector of the linear equation.\n",
      "        The first term represents the constant term in the linear equation.\n",
      "    \n",
      "    \n",
      "    Examples\n",
      "    --------\n",
      "    \n",
      "    # For P(Y| X1, X2, X3) = N(-2x1 + 3x2 + 7x3 + 0.2; 9.6)\n",
      "    \n",
      "    >>> cpd = LinearGaussianCPD('Y',  [0.2, -2, 3, 7], 9.6, ['X1', 'X2', 'X3'])\n",
      "    >>> cpd.variable\n",
      "    'Y'\n",
      "    >>> cpd.evidence\n",
      "    ['x1', 'x2', 'x3']\n",
      "    >>> cpd.beta_vector\n",
      "    [0.2, -2, 3, 7]\n",
      "\n"
     ]
    }
   ],
   "source": [
    "help(LinearGaussianCPD.__init__)"
   ]
  },
  {
   "cell_type": "code",
   "execution_count": 19,
   "id": "01ffbb14-c3c9-45be-bd44-eb22b769cb43",
   "metadata": {
    "tags": []
   },
   "outputs": [
    {
     "name": "stdout",
     "output_type": "stream",
     "text": [
      "P(Y | X1, X2, X3) = N(-2*X1 + 3*X2 + 7*X3 + 0.2; 9.6)\n"
     ]
    }
   ],
   "source": [
    "cpd = LinearGaussianCPD('Y',  [0.2, -2, 3, 7], 9.6, ['X1', 'X2', 'X3'])\n",
    "print(cpd)"
   ]
  },
  {
   "cell_type": "code",
   "execution_count": 20,
   "id": "a5d35824-07c8-492c-b4a8-810e118470f9",
   "metadata": {
    "tags": []
   },
   "outputs": [
    {
     "data": {
      "application/vnd.jupyter.widget-view+json": {
       "model_id": "5896823dbad749ba8054ffa7454dbe1d",
       "version_major": 2,
       "version_minor": 0
      },
      "text/plain": [
       "interactive(children=(FloatSlider(value=20.0, description='elevation', max=90.0, step=1.0), FloatSlider(value=…"
      ]
     },
     "metadata": {},
     "output_type": "display_data"
    }
   ],
   "source": [
    "Plot_3d(x_limits=(-25,25), y_limits=(0,1), f=cpd.pdf, cstride=4, rstride=4,interactive=True) "
   ]
  },
  {
   "cell_type": "markdown",
   "id": "806f4b54-fae5-4204-a9ce-312733bfd391",
   "metadata": {},
   "source": [
    "### 3.5.3.3 高斯贝叶斯网\n",
    "\n",
    "基于线性高斯模型用贝叶斯网定义连续的联合分布。\n",
    "\n",
    "定义：**高斯贝叶斯网**定义为其所有变量都是连续的，且其中的所有 CPD 都是线性高斯的贝叶斯网。\n",
    "\n",
    "定理：令$Y$是其父节点$X_1,\\cdots,X_k$的线性高斯$p(Y \\mid \\boldsymbol{x})=\\mathcal{N}\\left(\\boldsymbol{\\beta}_0+\\boldsymbol{\\beta}^{\\top} \\boldsymbol{x} ; \\sigma^2\\right)$，假设$X_1,\\cdots,X_k$是具有分布$\\mathcal{N}(\\mu ; \\Sigma) $的联合高斯，则：\n",
    "\n",
    "* $Y$的分布是一个正态分布$p(Y)=\\mathcal{N}\\left(\\mu_Y ; \\sigma_Y^2\\right)$，式中，$\\mu_\\gamma=\\beta_0+\\beta^{\\mathrm{T}} \\mu$；$ \\sigma_Y^2=\\sigma^2+\\beta^{\\top} \\Sigma \\beta$；\n",
    "\n",
    "* $\\{X,Y\\}$上的联合分布是一个正态分布，其中$\\operatorname{Cov}\\left[X_i ; Y\\right]=\\sum_{j=1}^k \\beta_j \\Sigma_{i, j}$。\n",
    "\n",
    "例如，对于线性高斯网$X_1 \\rightarrow X_2 \\rightarrow X_3$，有$p\\left(X_1\\right)=\\mathcal{N}(1 ; 4) \\\\ p\\left(X_2 \\mid X_1\\right)=\\mathcal{N}\\left(0.5 X_1-3.5 ; 4\\right) \\\\ P\\left(X_3 \\mid X_2\\right)=\\mathcal{N}\\left(-X_2+1 ; 3\\right)$，根据上述定理，可以计算高斯分布$P\\left(X_1, X_2, X_3\\right)$。对于均值有，$ \\mu_2=0.5 \\mu_1-3.5=0.5 \\cdot 1-3.5=-3 \\\\ \\mu_3=(-1) \\mu_2+1=(-1) \\cdot(-3)+1=4$\n",
    "\n",
    "$X_2$和$X_3$的方差计算为：$\\Sigma_{22}=4+(1 / 2)^2 \\cdot 4=5 \\\\ \\Sigma_{33}=3+(-1)^2 \\cdot 5=8$，可以看到变量的方差是两项和：源自自身高斯噪声（Gaussian noise）参数的方差和源自由依赖性强度加权其父节点变量的方差。协方差的计算结果如下：$\\Sigma_{12}=(1 / 2) \\cdot 4=2 \\\\ \\Sigma_{23}=(-1) \\cdot \\Sigma_{22}=-5 \\\\ \\Sigma_{13}=(-1) \\cdot \\Sigma_{12}=-2$\n",
    "\n",
    "上述计算过程，可以由`pgmpy`库的`LinearGaussianBayesianNetwork`方法建立高斯贝叶斯网（高斯 BN），通过`to_joint_gaussian`方法得到联合高斯分布$ P\\left(X_1, X_2, X_3\\right)$后计算。"
   ]
  },
  {
   "cell_type": "code",
   "execution_count": 98,
   "id": "97893892-db8e-451f-9742-c74bc737087a",
   "metadata": {
    "tags": []
   },
   "outputs": [
    {
     "name": "stdout",
     "output_type": "stream",
     "text": [
      "['x1', 'x2', 'x3']\n",
      "[[ 1.]\n",
      " [-3.]\n",
      " [ 4.]]\n",
      "[[ 4.  2. -2.]\n",
      " [ 2.  5. -5.]\n",
      " [-2. -5.  8.]]\n",
      "P(x1) = N(1; 4)\n",
      "P(x2 | x1) = N(0.5*x1 + -3.5; 4)\n",
      "P(x3 | x2) = N(-1*x2 + 1; 3)\n"
     ]
    }
   ],
   "source": [
    "model = LinearGaussianBayesianNetwork([('x1', 'x2'), ('x2', 'x3')])\n",
    "cpd1 = LinearGaussianCPD('x1', [1], 4)\n",
    "cpd2 = LinearGaussianCPD('x2', [-3.5, 0.5], 4, ['x1'])\n",
    "cpd3 = LinearGaussianCPD('x3', [1, -1], 3, ['x2'])\n",
    "\n",
    "cpd1.variables = [*cpd1.evidence, cpd1.variable]\n",
    "cpd2.variables = [*cpd2.evidence, cpd2.variable]\n",
    "cpd3.variables = [*cpd3.evidence, cpd3.variable]\n",
    "model.add_cpds(cpd1, cpd2, cpd3)\n",
    "jgd = model.to_joint_gaussian()\n",
    "print(jgd.variables)\n",
    "print(jgd.mean)\n",
    "print(jgd.covariance)\n",
    "\n",
    "for i in model.cpds:\n",
    "    print(i)"
   ]
  },
  {
   "cell_type": "markdown",
   "id": "f0f63bc1-366a-4f4b-842a-7f458f372727",
   "metadata": {},
   "source": [
    "## 3.5.4 学习（Learning）\n",
    "\n",
    "前文叙述的贝叶斯网络（BN）直接构建（含结构（图）和参数（CPD））后再进行推理分析的方式，实际上并不实用。原因是参数的配置（CPDs）由人工完成并不现实，一方面由各个领域专家参与相关模型的参数评估不容易实现，也会耗费过多的时间成本，且配置的参数需要通过不断的测试验证，其准确性不容易达到；另外，可能由于情况的变化，模型往往需要重新设计，这也为直接建立结构和参数的模型带来困难。然而由于数据的不断积累，从数据中学习模型的结构和参数成为可能，此类建立模型的方法称为**模型学习（model learning）**。\n",
    "\n",
    "模型学习涉及两个方面：\n",
    "\n",
    "1. 参数估计（Parameter Estimation）：给定一组数据样本和一个可以捕获变量之间依赖关系的 DAG，估计各个变量的（条件）概率分布（CPDs）。一般包括最大似然估计（Maximum Likelihood Estimation，MLE）和贝叶斯参数估计（Bayesian Parameter Estimation）等方法；\n",
    "2. 结构学习（Structure Learning）：给定一组数据样本，估计一个可以捕获变量之间依赖关系的 DAG 及变量之间的（条件）概率分布。一般包括基于得分（Score-based）的结构估计，基于约束（Constrain-based）的结构估计（PC）和混合（Hybrid）结构估计（MMHC）。\n",
    "\n",
    "### 3.5.4.1 参数估计<sup>[5,2,1]</sup>\n",
    "\n",
    "数据集$\\mathcal{X} \\triangleq\\left\\{x_i\\right\\}_{i=1}^{|X|}$，为随机变量（random variable, r.v.）$X$的一系列独立同分布（independent and identically distribute，i.i.d）的实现。参数$\\vartheta$依赖于所考虑的一个分布，例如，高斯分布$\\vartheta \\sim \\operatorname{N}\\left\\{\\mu, \\sigma^2\\right\\}$等。对于这些数据（$\\mathcal{X}$）和参数（$\\vartheta$），根据贝叶斯公式：$P(A \\mid B)=\\frac{P(B \\mid A) P(A)}{P(B)}$，式中，$A$和$B$为随机事件，且$P(B) \\neq 0$：\n",
    "\n",
    "* $P(A \\mid B)$为条件概率（ conditional probability），在事件$B$发生条件下事件$A$发生的概率，也称为给定$B$事件下事件$A$的后验概率（posterior probability）；\n",
    "* $P(B \\mid A)$同为条件概率，在事件$A$发生条件下事件$B$发生的概率，因为$P(B \\mid A)=L(A \\mid B)$，也被解释为固定给定的$B$，对于$A$的似然（likelihood）；\n",
    "* $P(A)$和$P(B)$是不给定任何条件下，观测到的事件$A$和$B$各自的概率，也称为先验概率（prior probability）和边缘概率（marginal probability）。\n",
    "\n",
    "有$p(\\vartheta \\mid \\mathcal{X})=\\frac{p(\\mathcal{X} \\mid \\vartheta) \\cdot p(\\vartheta)}{p(\\mathcal{X})}$，因此用术语表述有：$\\text { posterior }=\\frac{\\text { likelihood } \\cdot \\text { prior }}{\\text { evidence }}$。\n",
    "\n",
    "下述试验中，提供了两个案例，分布对应两组数据，一组来自于 Heinrich, G 论文不均匀硬币抛掷试验，`coin_data`，仅包含一个随机变量$tossing$，含两个状态，正面`head`用1表示，反面`tail`用0表示；另一组来自于`pgmpy`库说明文件中水果味道的数据，`fruit_data`，包含有3个随机变量$(fruit,size,tasty)$，每个随机变量各包含两个状态，分别为`banana,apple`，`large,small`和`yes,no`。"
   ]
  },
  {
   "cell_type": "code",
   "execution_count": 163,
   "id": "b3b12886-109f-4bda-918a-a3e64905f7f6",
   "metadata": {
    "tags": []
   },
   "outputs": [
    {
     "name": "stdout",
     "output_type": "stream",
     "text": [
      "The autoreload extension is already loaded. To reload it, use:\n",
      "  %reload_ext autoreload\n"
     ]
    }
   ],
   "source": [
    "%load_ext autoreload \n",
    "%autoreload 2 \n",
    "import usda.data_visual as usda_vis\n",
    "import usda.pgm as usda_pgm\n",
    "\n",
    "import daft\n",
    "from pgmpy.models import BayesianNetwork\n",
    "from pgmpy.factors.discrete import TabularCPD\n",
    "from pgmpy.inference import VariableElimination,BeliefPropagation\n",
    "from pgmpy.estimators import ParameterEstimator,MaximumLikelihoodEstimator,BayesianEstimator\n",
    "\n",
    "import pandas as pd\n",
    "from scipy.stats import bernoulli,beta,binom\n",
    "import matplotlib.pyplot as plt\n",
    "import numpy as np\n",
    "from IPython.display import display\n",
    "from sklearn import preprocessing\n",
    "\n",
    "import sympy\n",
    "from sympy import Symbol, simplify, pprint, factor,solve,log\n",
    "from sympy.stats import Beta, density, E, variance"
   ]
  },
  {
   "cell_type": "code",
   "execution_count": 6,
   "id": "a56f79b1-0bf0-470d-95d8-befaa6d7d018",
   "metadata": {
    "tags": []
   },
   "outputs": [
    {
     "name": "stdout",
     "output_type": "stream",
     "text": [
      "    tossing\n",
      "0         1\n",
      "1         1\n",
      "2         0\n",
      "3         0\n",
      "4         1\n",
      "5         0\n",
      "6         0\n",
      "7         1\n",
      "8         1\n",
      "9         1\n",
      "10        1\n",
      "11        0\n",
      "12        1\n",
      "13        1\n",
      "14        1\n",
      "15        0\n",
      "16        0\n",
      "17        1\n",
      "18        0\n",
      "19        1\n",
      "--------------------------------------------------\n",
      "     fruit tasty   size\n",
      "0   banana   yes  large\n",
      "1    apple    no  large\n",
      "2   banana   yes  large\n",
      "3    apple   yes  small\n",
      "4   banana   yes  large\n",
      "5    apple   yes  large\n",
      "6   banana   yes  large\n",
      "7    apple   yes  small\n",
      "8    apple   yes  large\n",
      "9    apple   yes  large\n",
      "10  banana   yes  large\n",
      "11  banana    no  large\n",
      "12   apple    no  small\n",
      "13  banana    no  small\n"
     ]
    }
   ],
   "source": [
    "coin_data=pd.DataFrame(bernoulli.rvs(0.5, size=20),columns=['tossing'])\n",
    "print(coin_data)\n",
    "\n",
    "print('-'*50)\n",
    "fruit_data = pd.DataFrame(data={'fruit': [\"banana\", \"apple\", \"banana\", \"apple\", \"banana\",\"apple\", \"banana\", \n",
    "                                    \"apple\", \"apple\", \"apple\", \"banana\", \"banana\", \"apple\", \"banana\",], \n",
    "                          'tasty': [\"yes\", \"no\", \"yes\", \"yes\", \"yes\", \"yes\", \"yes\", \n",
    "                                    \"yes\", \"yes\", \"yes\", \"yes\", \"no\", \"no\", \"no\"], \n",
    "                          'size': [\"large\", \"large\", \"large\", \"small\", \"large\", \"large\", \"large\",\n",
    "                                    \"small\", \"large\", \"large\", \"large\", \"large\", \"small\", \"small\"]})\n",
    "print(fruit_data)"
   ]
  },
  {
   "cell_type": "markdown",
   "id": "664430bc-c3d9-4ed3-ad90-87d342073435",
   "metadata": {},
   "source": [
    "#### 1）最大似然估计（MLE）\n",
    "\n",
    "MLE 试图找到使得似然最大化的参数，有$L(\\vartheta \\mid \\mathcal{X}) \\triangleq p(\\mathcal{X} \\mid \\vartheta)=\\bigcap_{x \\in \\mathcal{X}}\\{X=x \\mid \\vartheta\\}=\\prod_{x \\in \\mathcal{X}} p(x \\mid \\vartheta)$，即从随机变量$X$中观测到的事件数据集$\\mathcal{X}$的联合概率。因为似然函数和似然函数的对数最大化（达到最大值）所对应的参数$\\vartheta$相同（可以查看*2.6.2 逻辑回归二分类到 SoftMax 回归多分类*部分的图表），且与原始似然函数相比，似然函数的对数求导更容易，因此$\\mathcal{L} \\triangleq \\log L$，MLE 可写为：$\\hat{\\vartheta}_{\\mathrm{ML}}=\\underset{\\vartheta}{\\operatorname{argmax}} \\mathcal{L}(\\vartheta \\mid \\mathcal{X})=\\underset{\\vartheta}{\\operatorname{argmax}} \\sum_{x \\in \\mathcal{X}} \\log p(x \\mid \\vartheta)$。对参数估计就是对似然函数$L(\\vartheta \\mid \\mathcal{X})$求导，有$ \\frac{\\partial \\mathcal{L}(\\vartheta \\mid \\mathcal{X})}{\\partial \\vartheta_k} \\stackrel{!}{=} 0 \\quad \\forall \\vartheta_k \\in \\vartheta$。\n",
    "\n",
    "根据已知数据集$\\mathcal{X}$估计参数后，可以预测一个新观测值$\\tilde{x}$的概率，有$p(\\tilde{x} \\mid \\mathcal{X})  =\\int_{\\vartheta \\in \\Theta} p(\\tilde{x} \\mid \\vartheta) p(\\vartheta \\mid \\mathcal{X}) \\mathrm{d} \\vartheta \\\\  \\approx \\int_{\\vartheta \\in \\Theta} p\\left(\\tilde{x} \\mid \\hat{\\vartheta}_{\\mathrm{ML}}\\right) p(\\vartheta \\mid \\mathcal{X}) \\mathrm{d} \\vartheta=p\\left(\\tilde{x} \\mid \\hat{\\vartheta}_{\\mathrm{ML}}\\right)$。\n",
    "\n",
    "不均匀硬币抛掷试验（伯努利试验），估计未知参数$p$。由伯努利分布（伯努利密度函数），对于随机变量$C$有，$p(C=c \\mid p)=p^c(1-p)^{1-c} \\triangleq \\operatorname{Bern}(c \\mid p)$，式中，定义$c=1$为正面`head`，$c=0$为背面`tail`。对参数$p$构建 MLE，为数据$\\mathcal{X}$的一个函数，有$\\mathcal{L}=\\log \\prod_{i=1}^N p\\left(C=c_i \\mid p\\right)=\\sum_{i=1}^N \\log p\\left(C=c_i \\mid p\\right) \\\\ =n^{(1)} \\log p(C=1 \\mid p)+n^{(0)} \\log p(C=0 \\mid p) \\\\ =n^{(1)} \\log p+n^{(0)} \\log (1-p) $，式中，$n^{(c)} $为伯努利试验结果事件$c$，正面或背面的次数。对参数$p$微分得到，$\\frac{\\partial \\mathcal{L}}{\\partial p}=\\frac{n^{(1)}}{p}-\\frac{n^{(0)}}{1-p} \\stackrel{!}{=} 0 \\Leftrightarrow \\quad \\hat{p}_{\\mathrm{ML}}=\\frac{n^{(1)}}{n^{(1)}+n^{(0)}}=\\frac{n^{(1)}}{N}$。\n",
    "\n",
    "例如，对于数据集`coin_data`，通过直接计算频率，及应用`pgmpy`库分别计算，计算结果同，正面朝上的概率（参数）为0.598。"
   ]
  },
  {
   "cell_type": "code",
   "execution_count": 172,
   "id": "c9df9f15-a3c6-485e-b11c-4b8f20b65ed4",
   "metadata": {
    "tags": []
   },
   "outputs": [
    {
     "name": "stdout",
     "output_type": "stream",
     "text": [
      "tossing\n",
      "1          0.6\n",
      "0          0.4\n",
      "dtype: float64\n",
      "+------------+-----+\n",
      "| tossing(0) | 0.4 |\n",
      "+------------+-----+\n",
      "| tossing(1) | 0.6 |\n",
      "+------------+-----+\n"
     ]
    }
   ],
   "source": [
    "print(coin_data.value_counts(normalize =True))\n",
    "\n",
    "coin_bn=BayesianNetwork()\n",
    "coin_bn.add_node('tossing')\n",
    "coin_bn.fit(coin_data, estimator=MaximumLikelihoodEstimator) # `BayesianNetwork`类内置的`fit`方法提供了参数估计方便的操作模式。\n",
    "print(coin_bn.cpds[0])"
   ]
  },
  {
   "cell_type": "markdown",
   "id": "9d4f5974-c7cf-46cb-8d18-035e0786c80c",
   "metadata": {},
   "source": [
    "对于水果味道观测试验，定义贝叶斯网络（BN），含有3个随机变量（节点）$(fruit,tasty,size)$，有边$fruit \\rightarrow tasty, size \\rightarrow tasty$，为v-结构。且已知数据`data`，估计参数，即 CPDs。为了理解给定的数据，根据父节点$fruit,size$计算子节点$tasty$对应的数量，可知共有`apple`7个，`banana`7个，总共14个$fruit$；其中对于$fruit$状态`apple`，当$size$状态为`large`时，对于$tasty$状态为`yes`有3个，`no`的有1个，其它情况以此类推。"
   ]
  },
  {
   "cell_type": "code",
   "execution_count": 10,
   "id": "f3de2961-b327-4299-9fbc-72923a605e8b",
   "metadata": {
    "tags": []
   },
   "outputs": [
    {
     "data": {
      "image/png": "[encoded data removed]",
      "text/plain": [
       "<Figure size 212.598x133.858 with 1 Axes>"
      ]
     },
     "metadata": {},
     "output_type": "display_data"
    }
   ],
   "source": [
    "fruit_bn = BayesianNetwork([('fruit', 'tasty'), ('size', 'tasty')])\n",
    "fruit_bn_daft=fruit_bn.to_daft(node_pos={'fruit':(1,2),'size':(3,2),'tasty':(2,1)})\n",
    "fruit_bn_daft.render(dpi=100);"
   ]
  },
  {
   "cell_type": "code",
   "execution_count": 57,
   "id": "44a61e46-d0d9-4d36-80ee-e0a3b43f51ba",
   "metadata": {
    "tags": []
   },
   "outputs": [
    {
     "name": "stdout",
     "output_type": "stream",
     "text": [
      "\n",
      "         fruit\n",
      "apple       7\n",
      "banana      7\n",
      "\n",
      " fruit apple       banana      \n",
      "size  large small  large small\n",
      "tasty                         \n",
      "no      1.0   1.0    1.0   1.0\n",
      "yes     3.0   2.0    5.0   0.0\n"
     ]
    }
   ],
   "source": [
    "fruit_bn_pe=ParameterEstimator(fruit_bn, fruit_data)\n",
    "print(\"\\n\", fruit_bn_pe.state_counts('fruit'))  # unconditional\n",
    "print(\"\\n\", fruit_bn_pe.state_counts('tasty'))  # conditional on fruit and size"
   ]
  },
  {
   "cell_type": "markdown",
   "id": "fc5d0730-dbbc-4453-ab40-ba87da83c390",
   "metadata": {},
   "source": [
    "用`MaximumLikelihoodEstimator`方法根据定义的图$G$结构和反映随机变量间关系的数据`fruit_data`，直接计算 BN 的 CPDs 如下。"
   ]
  },
  {
   "cell_type": "code",
   "execution_count": 58,
   "id": "b685df96-feb2-4eca-b753-34d52b21ab00",
   "metadata": {
    "tags": []
   },
   "outputs": [
    {
     "name": "stdout",
     "output_type": "stream",
     "text": [
      "+---------------+-----+\n",
      "| fruit(apple)  | 0.5 |\n",
      "+---------------+-----+\n",
      "| fruit(banana) | 0.5 |\n",
      "+---------------+-----+\n",
      "//////////////////////////////////////////////////\n",
      "+---------------+-----+\n",
      "| fruit(apple)  | 0.5 |\n",
      "+---------------+-----+\n",
      "| fruit(banana) | 0.5 |\n",
      "+---------------+-----+\n",
      "+------------+--------------+--------------------+---------------------+---------------+\n",
      "| fruit      | fruit(apple) | fruit(apple)       | fruit(banana)       | fruit(banana) |\n",
      "+------------+--------------+--------------------+---------------------+---------------+\n",
      "| size       | size(large)  | size(small)        | size(large)         | size(small)   |\n",
      "+------------+--------------+--------------------+---------------------+---------------+\n",
      "| tasty(no)  | 0.25         | 0.3333333333333333 | 0.16666666666666666 | 1.0           |\n",
      "+------------+--------------+--------------------+---------------------+---------------+\n",
      "| tasty(yes) | 0.75         | 0.6666666666666666 | 0.8333333333333334  | 0.0           |\n",
      "+------------+--------------+--------------------+---------------------+---------------+\n",
      "+-------------+----------+\n",
      "| size(large) | 0.714286 |\n",
      "+-------------+----------+\n",
      "| size(small) | 0.285714 |\n",
      "+-------------+----------+\n"
     ]
    }
   ],
   "source": [
    "fruit_bn_fitted = MaximumLikelihoodEstimator(fruit_bn, fruit_data)\n",
    "print(fruit_bn_fitted.estimate_cpd('fruit')) \n",
    "print('/'*50)\n",
    "for cpd in fruit_bn_fitted.get_parameters():\n",
    "    print(cpd)"
   ]
  },
  {
   "cell_type": "markdown",
   "id": "3fe0fb6b-25bb-4fb5-a98b-dba3cedb9361",
   "metadata": {},
   "source": [
    "#### 2）最大后验估计（Maximum a posteriori estimation，MAP(E)）\n",
    "\n",
    "MAP 类似于 MLE，但允许通过使用先验分布（prior distribution）$p(\\vartheta)$对参数进行加权，为给定数据$\\mathcal{X}$条件下最大化参数后验的目标，$\\hat{\\vartheta}_{\\mathrm{MAP}}=\\underset{\\vartheta}{\\operatorname{argmax}} p(\\vartheta \\mid \\mathcal{X})$。通过贝叶斯公式，有$\\hat{\\vartheta}_{\\mathrm{MAP}}=\\underset{\\vartheta}{\\operatorname{argmax}} \\frac{p(\\mathcal{X} \\mid \\vartheta) p(\\vartheta)}{p(\\mathcal{X})} \\quad \\mid p(\\mathcal{X}) \\neq f(\\vartheta) \\\\ =\\underset{\\vartheta}{\\operatorname{argmax}} p(\\mathcal{X} \\mid \\vartheta) p(\\vartheta)=\\underset{\\vartheta}{\\operatorname{argmax}}\\{\\mathcal{L}(\\vartheta \\mid \\mathcal{X})+\\log p(\\vartheta)\\} \\\\ =\\underset{\\vartheta}{\\operatorname{argmax}}\\left\\{\\sum_{x \\in \\mathcal{X}} \\log p(x \\mid \\vartheta)+\\log p(\\vartheta)\\right\\}$。\n",
    "\n",
    "一个先验分布$p(\\vartheta)$被加到似然项$p(x \\mid \\vartheta)$上，通过这额外的先验知识平衡数据集的观测结果，避免 MLE 这一简单模型的过拟合现象。对$p(\\vartheta)$的数据建模延续贝叶斯方法，将$\\vartheta$看作随机变量，有$ p(\\vartheta):=p(\\vartheta \\mid \\alpha) $，式中，$\\alpha$为超参数（hyperparameters）。$p(\\vartheta)$表达了对参数$\\vartheta$预期值的一个信念（belief）。\n",
    "\n",
    "MAP 通过最大化$\\mathcal{L}(\\vartheta \\mid \\mathcal{X})+\\log p(\\vartheta)$估计参数$\\vartheta$。参数估计后，同 MLE，可以计算给定观测值$\\tilde{x}$的概率，$p(\\tilde{x} \\mid X) \\approx \\int_{\\vartheta \\in \\Theta} p\\left(\\tilde{x} \\mid \\hat{\\vartheta}_{\\mathrm{MAP}}\\right) p(\\vartheta \\mid X) \\mathrm{d} \\vartheta=p\\left(\\tilde{x} \\mid \\hat{\\vartheta}_{\\mathrm{MAP}}\\right)$，式中，$\\Theta$为参数空间。\n",
    "\n",
    "返回硬币抛掷试验。因为我们根据经验相信在抛掷硬币时，有0.5的几率为正面，0.5的几率为背面，选择 Beta 分布定义$\\vartheta$的先验分布$p(\\vartheta)$有，$p(p \\mid \\alpha, \\beta)=\\frac{1}{\\mathrm{~B}(\\alpha, \\beta)} p^{\\alpha-1}(1-p)^{\\beta-1} \\triangleq \\operatorname{Beta}(p \\mid \\alpha, \\beta)$，式中，$\\mathrm{B}(\\alpha, \\beta)=\\frac{\\Gamma(\\alpha) \\Gamma(\\beta)}{\\Gamma(\\alpha+\\beta)}$。对于 Beta 的概率密度函数（PDF）可书写为：$f(x, a, b) = \\frac{\\Gamma(a+b) x^{a-1} (1-x)^{b-1}}{\\Gamma(a) \\Gamma(b)}, 0 \\leq x  \\leq 1,a>0,b>0$，式中，$\\Gamma$为伽马函数（gamma function ），定义为，$\\Gamma(z) = \\int_0^\\infty t^{z-1} e^{-t} dt,\\Re(z)>0$。\n",
    "\n",
    "使用`SciPy`库，给定不同的$a,b$值，打印观察 PDF 曲线。因为相信一半的几率正面朝上，因此配置超参数$\\alpha = \\beta=5$（对应$a,b$），其 PDF 曲线最大值位于0.5处，即预先相信正面朝上为0.5概率的可能性最大。最大值为0.5的 Beta 密度函数并不唯一，只要满足$a,b$值相同，其差异是曲线的强度（峰度）变化。一般而言，对于少量样本数据使用峰度偏小的分布曲线，而大量样本数据使用峰度偏大的分布曲线。"
   ]
  },
  {
   "cell_type": "code",
   "execution_count": 15,
   "id": "3a51d163-249a-4e1f-825b-b919ccafe7c5",
   "metadata": {
    "tags": []
   },
   "outputs": [
    {
     "data": {
      "image/png": "[encoded data removed]",
      "text/plain": [
       "<Figure size 500x500 with 1 Axes>"
      ]
     },
     "metadata": {},
     "output_type": "display_data"
    }
   ],
   "source": [
    "fig, ax=plt.subplots(1, 1,figsize=(5,5))\n",
    "\n",
    "ab_lst=[(1/3,1),(1,3),(10,30),(2,6),(20,20),(4,4),(2/3,2/3),(2,1),(1,1),(5,5)]\n",
    "x = np.linspace(0, 1, 100)\n",
    "\n",
    "for a,b in ab_lst:\n",
    "    ax.plot(x, beta.pdf(x, a, b), lw=3, alpha=0.6, label=f'({a:.2f},{b:.2f})')\n",
    "\n",
    "usda_vis.plot_style_axis_A(ax)\n",
    "plt.legend(loc='upper right',frameon=False)\n",
    "plt.show()"
   ]
  },
  {
   "cell_type": "markdown",
   "id": "bf6c38a2-ee78-461a-99e8-718d9377a4c5",
   "metadata": {
    "tags": []
   },
   "source": [
    "推导增加所估计参数的先验分布后，找到 MAP 最大化的参数为，$\\frac{\\partial}{\\partial p} \\mathcal{L}+\\log p(p)=\\frac{n^{(1)}}{p}-\\frac{n^{(0)}}{1-p}+\\frac{\\alpha-1}{p}-\\frac{\\beta-1}{1-p} \\stackrel{!}{=} 0 \\\\ \\Leftrightarrow \\quad \\hat{p}_{\\mathrm{MAP}}=\\frac{n^{(1)}+\\alpha-1}{n^{(1)}+n^{(0)}+\\alpha+\\beta-2}=\\frac{n^{(1)}+4}{n^{(1)}+n^{(0)}+8}$。依据该公式，MAP 参数估计的结果为0.571，相对于 MLE 的0.6结果，估计的参数受到先验信念（prior belief）的影响，趋向于$p(\\vartheta)$分布最大值对应的$\\vartheta$参数值（该试验中为0.5）。"
   ]
  },
  {
   "cell_type": "code",
   "execution_count": 227,
   "id": "fa4484bd-c36b-4441-99f6-1d740e08b7a2",
   "metadata": {
    "tags": []
   },
   "outputs": [
    {
     "name": "stdout",
     "output_type": "stream",
     "text": [
      "12 8\n",
      "0.5714285714285714\n"
     ]
    }
   ],
   "source": [
    "head_num,tail_num=coin_data.value_counts()\n",
    "print(head_num,tail_num)\n",
    "tossing_map_theta=(head_num+4)/(head_num+tail_num+8)\n",
    "print(tossing_map_theta)"
   ]
  },
  {
   "cell_type": "markdown",
   "id": "4da8a3a7-b5a1-4f1f-bcfe-ad59e4471430",
   "metadata": {},
   "source": [
    "#### 3）贝叶斯参数估计（Bayesian Parameter Estimation，BPE）\n",
    "\n",
    "贝叶斯参数估计（BPE）通过允许参数集$\\vartheta$服从一定的的概率分布，而不是直接进行参数值估计来拓展 MAP 的方法。MLE 和 MAP 都求出了参数$\\vartheta$的值，BPE 则根据参数的先验分布$p(\\vartheta)$和观察到的随机变量数据集$\\mathcal{X}$，求取参数$\\vartheta$的后验分布$p(\\vartheta \\mid X)$，然后求出$\\vartheta$的期望值作为最终值。同时定义了一个参数的方差量来评估参数估计的质量或置信度（conﬁdence）。依据贝叶斯公式计算后验分布有，$p(\\vartheta \\mid X)=\\frac{p(\\mathcal{X} \\mid \\vartheta) \\cdot p(\\vartheta)}{p(\\mathcal{X})}$。因为并不求后验分布的最大化值，因此需要计算式中的$p(\\mathcal{X})$项，由全概率公式展开可得$p(\\mathcal{X})=\\int_{\\vartheta \\in \\Theta} p(\\mathcal{X} \\mid \\vartheta) p(\\vartheta) \\mathrm{d} \\vartheta$。当观测到新的数据$\\tilde{x}$，后验概率$p(\\vartheta \\mid X)$自动随之调整。用 BPE 预测新观测到的数据$\\tilde{x}$的概率，有$p(\\tilde{x} \\mid \\mathcal{X})=\\int_{\\vartheta \\in \\Theta} p(\\tilde{x} \\mid \\vartheta) p(\\vartheta \\mid \\mathcal{X}) \\mathrm{d} \\vartheta \\\\ =\\int_{\\vartheta \\in \\Theta} p(\\tilde{x} \\mid \\vartheta) \\frac{p(\\mathcal{X} \\mid \\vartheta) p(\\vartheta)}{p(\\mathcal{X})} \\mathrm{d} \\vartheta$，式中，后验概率$p(\\vartheta \\mid X)$替换了参数值$\\vartheta$的显示计算（explicit calculation）。通过对$\\vartheta$积分，先验信念（prior belief）自动的合并到预测中，而预测自身是$\\tilde{x}$的一个分布。\n",
    "\n",
    "继续硬币抛掷的试验，有$p(p \\mid C, \\alpha, \\beta)  =\\frac{\\prod_{i=1}^N p\\left(C=c_i \\mid p\\right) p(p \\mid \\alpha, \\beta)}{\\int_0^1 \\prod_{i=1}^N p\\left(C=c_i \\mid p\\right) p(p \\mid \\alpha, \\beta) \\mathrm{d} p} \\\\ =\\frac{p^{n^{(1)}}(1-p)^{n^{(0)}} \\frac{1}{\\mathrm{~B}(\\alpha, \\beta)} p^{\\alpha-1}(1-p)^{\\beta-1}}{Z} \\\\ =\\frac{p^{\\left[n^{(1)}+\\alpha\\right]-1}(1-p)^{\\left[n^{(0)}+\\beta\\right]-1}}{\\mathrm{~B}\\left(n^{(1)}+\\alpha, n^{(0)}+\\beta\\right)} \\\\ =\\operatorname{Beta}\\left(p \\mid n^{(1)}+\\alpha, n^{(0)}+\\beta\\right)$。对于$\\operatorname{Beta}(\\alpha,\\beta)$分布有均值，$\\langle p \\mid \\alpha, \\beta\\rangle  =\\alpha(\\alpha+\\beta)^{-1}$；方差$\\mathrm{~V}\\{p \\mid \\alpha, \\beta\\}  =\\alpha \\beta(\\alpha+\\beta+1)^{-1}(\\alpha+\\beta)^{-2}$，因此有$\\langle p \\mid C\\rangle =\\frac{n^{(1)}+\\alpha}{n^{(1)}+n^{(0)}+\\alpha+\\beta}=\\frac{n^{(1)}+5}{N+10} \\\\ \\mathrm{~V}\\{p \\mid C\\}  =\\frac{\\left(n^{(1)}+\\alpha\\right)\\left(n^{(0)}+\\beta\\right)}{(N+\\alpha+\\beta+1)(N+\\alpha+\\beta)^2}=\\frac{\\left(n^{(1)}+5\\right)\\left(n^{(0)}+5\\right)}{(N+11)(N+10)^2}$。\n",
    "\n",
    "下述代码试验，包含使用`pgmpy`库提供的`BayesianEstimator`方法和`fit`参数`estimator=BayesianEstimator`传入的方式。同时在图表打印时，给出了部分公式计算的方式。"
   ]
  },
  {
   "cell_type": "code",
   "execution_count": 242,
   "id": "5e5705ef-6584-4287-a6c0-865c36189f24",
   "metadata": {},
   "outputs": [
    {
     "name": "stdout",
     "output_type": "stream",
     "text": [
      "+------------+----------+\n",
      "| tossing(0) | 0.433333 |\n",
      "+------------+----------+\n",
      "| tossing(1) | 0.566667 |\n",
      "+------------+----------+\n"
     ]
    }
   ],
   "source": [
    "coin_be=BayesianEstimator(coin_bn, coin_data)\n",
    "coin_be_p=coin_be.estimate_cpd('tossing', prior_type='BDeu', equivalent_sample_size=10)\n",
    "print(coin_be_p)"
   ]
  },
  {
   "cell_type": "code",
   "execution_count": 270,
   "id": "feeb884d-dc01-4f60-a4b1-1a9f32b3b764",
   "metadata": {},
   "outputs": [
    {
     "name": "stdout",
     "output_type": "stream",
     "text": [
      "prior density:\n"
     ]
    },
    {
     "data": {
      "text/latex": [
       "$\\displaystyle \\begin{cases} 0 & \\text{for}\\: p > 1 \\\\\\frac{p^{\\alpha - 1} \\left(1 - p\\right)^{\\beta - 1} \\Gamma\\left(\\alpha + \\beta\\right)}{\\Gamma\\left(\\alpha\\right) \\Gamma\\left(\\beta\\right)} & \\text{otherwise} \\end{cases}$"
      ],
      "text/plain": [
       "Piecewise((0, p > 1), (p**(alpha - 1)*(1 - p)**(beta - 1)*gamma(alpha + beta)/(gamma(alpha)*gamma(beta)), True))"
      ]
     },
     "metadata": {},
     "output_type": "display_data"
    },
    {
     "name": "stdout",
     "output_type": "stream",
     "text": [
      "Likelihood density:\n"
     ]
    },
    {
     "data": {
      "text/latex": [
       "$\\displaystyle p^{12} \\left(1 - p\\right)^{8}$"
      ],
      "text/plain": [
       "p**12*(1 - p)**8"
      ]
     },
     "metadata": {},
     "output_type": "display_data"
    },
    {
     "name": "stdout",
     "output_type": "stream",
     "text": [
      "posterior density:\n"
     ]
    },
    {
     "data": {
      "text/latex": [
       "$\\displaystyle p^{12} \\left(1 - p\\right)^{8} \\left(\\begin{cases} 0 & \\text{for}\\: p > 1 \\\\\\frac{p^{\\alpha - 1} \\left(1 - p\\right)^{\\beta - 1} \\Gamma\\left(\\alpha + \\beta\\right)}{\\Gamma\\left(\\alpha\\right) \\Gamma\\left(\\beta\\right)} & \\text{otherwise} \\end{cases}\\right)$"
      ],
      "text/plain": [
       "p**12*(1 - p)**8*Piecewise((0, p > 1), (p**(alpha - 1)*(1 - p)**(beta - 1)*gamma(alpha + beta)/(gamma(alpha)*gamma(beta)), True))"
      ]
     },
     "metadata": {},
     "output_type": "display_data"
    },
    {
     "data": {
      "image/png": "[encoded data removed]",
      "text/plain": [
       "<Figure size 2000x500 with 1 Axes>"
      ]
     },
     "metadata": {},
     "output_type": "display_data"
    }
   ],
   "source": [
    "fig, ax=plt.subplots(1, 1,figsize=(5*4,5))\n",
    "x = np.linspace(0, 1, 100)\n",
    "\n",
    "alpha_, beta_=sympy.symbols('alpha beta', positive=True)\n",
    "x_, p_=sympy.symbols('x p', positive=True)\n",
    "\n",
    "# prior\n",
    "beta_dis=sympy.Piecewise(\n",
    "    (0, p_ < 0),\n",
    "    (0, p_ > 1),\n",
    "    (p_**(alpha_-1)*(1-p_)**(beta_-1)/(sympy.gamma(alpha_)*sympy.gamma(beta_)/sympy.gamma(alpha_+beta_)), True))\n",
    "print('prior density:')\n",
    "display(beta_dis)\n",
    "beta_dis_=sympy.lambdify([p_,alpha_,beta_],beta_dis,\"numpy\")\n",
    "a,b=5,5\n",
    "ax.plot(x,preprocessing.normalize([beta_dis_(x, a, b)])[0], lw=3, alpha=0.9, label=f'prior (norm)',color='khaki') \n",
    "ax.axvline(x=0.5,color='khaki', linestyle=\"--\",label='$\\\\hat{\\\\vartheta}$=0.5')\n",
    "\n",
    "# likelihood (normalized)\n",
    "pmf=p_**x_*(1-p_)**(1-x_)\n",
    "L=np.prod([pmf.subs(x_, i) for i in coin_data['tossing']])\n",
    "L_=sympy.lambdify(p_,L,\"numpy\")\n",
    "print('Likelihood density:')\n",
    "display(L)\n",
    "ax.plot(x,preprocessing.normalize([L_(x)])[0], lw=3, alpha=0.6, label=f'likelihood (norm)',color='teal') \n",
    "ax.axvline(x=coin_bn.get_state_probability({'tossing':1}),color='teal', linestyle=\"--\",label='$P_{{MLE}}$={}'.format(coin_bn.get_state_probability({'tossing':1})))\n",
    "\n",
    "# posterior\n",
    "posterior=L*beta_dis \n",
    "print('posterior density:')\n",
    "display(posterior)\n",
    "posterior_=sympy.lambdify([p_,alpha_,beta_],posterior,\"numpy\")\n",
    "ax.plot(x,preprocessing.normalize([posterior_(x,a,b)])[0], lw=7, alpha=0.6, label=f'posterior (norm)',color='orangered')\n",
    "ax.axvline(x=tossing_map_theta,color='orangered', linestyle=\"--\",label='$P_{{MAP}}$={:.3f}'.format(tossing_map_theta))\n",
    "\n",
    "# Bayesian Parameter Estimation\n",
    "ax.axvline(x=coin_be_p.values[1],color='k', linestyle=\"--\",label='$P_{{BPE}}$={:.3f}'.format(coin_be_p.values[1]))\n",
    "ax.plot(x,preprocessing.normalize([beta_dis_(x, a+head_num, b+tail_num)])[0], lw=1, alpha=0.9, label=f'$P(p \\\\mid C, \\\\alpha, \\\\beta)$ (norm)',color='k') \n",
    "\n",
    "usda_vis.plot_style_axis_A(ax)\n",
    "plt.legend(loc='right',frameon=False,bbox_to_anchor=(1, 0.8))\n",
    "plt.show()"
   ]
  },
  {
   "cell_type": "markdown",
   "id": "13c86a79-3f59-41fc-b13a-d0d6391ef50e",
   "metadata": {},
   "source": [
    "对水果味道的试验，从上述 MLE 的表现来看，存在对数据过度拟合的问题。例如其中对于$fruit$的状态`banana`，当$size$的状态为`small`时，$tasty$状态`yes`的概率为0。这里，只观测到了香蕉为小个时的1个样本为好吃，因为样本量少，这很难确定小个香蕉是否不好吃。如果观测到的数据不能代表变量的潜在分布，则 MLE 估计的结果往往并不理想。\n",
    "\n",
    "在估计 BN 参数时，缺乏数据往往是常见的一个问题；另，如果一个变量节点有3个父节点，每个父节点各含有10个状态，那么状态统计为$10^3=1000$，这使得 MLE 对于学习 BN 的参数非常的不稳定。而为减少 MLE 过度拟合，使用贝叶斯参数估计实现。"
   ]
  },
  {
   "cell_type": "code",
   "execution_count": 11,
   "id": "be9d74d0-bf7c-4db9-ad71-d8734f7226c1",
   "metadata": {},
   "outputs": [
    {
     "name": "stdout",
     "output_type": "stream",
     "text": [
      "+---------------+-----+\n",
      "| fruit(apple)  | 0.5 |\n",
      "+---------------+-----+\n",
      "| fruit(banana) | 0.5 |\n",
      "+---------------+-----+\n",
      "+------------+---------------------+---------------------+---------------------+--------------------+\n",
      "| fruit      | fruit(apple)        | fruit(apple)        | fruit(banana)       | fruit(banana)      |\n",
      "+------------+---------------------+---------------------+---------------------+--------------------+\n",
      "| size       | size(large)         | size(small)         | size(large)         | size(small)        |\n",
      "+------------+---------------------+---------------------+---------------------+--------------------+\n",
      "| tasty(no)  | 0.30952380952380953 | 0.38235294117647056 | 0.22413793103448276 | 0.7222222222222222 |\n",
      "+------------+---------------------+---------------------+---------------------+--------------------+\n",
      "| tasty(yes) | 0.6904761904761905  | 0.6176470588235294  | 0.7758620689655172  | 0.2777777777777778 |\n",
      "+------------+---------------------+---------------------+---------------------+--------------------+\n",
      "+-------------+----------+\n",
      "| size(large) | 0.657895 |\n",
      "+-------------+----------+\n",
      "| size(small) | 0.342105 |\n",
      "+-------------+----------+\n"
     ]
    }
   ],
   "source": [
    "fruit_bn.fit(fruit_data, estimator=BayesianEstimator, prior_type=\"BDeu\") # default equivalent_sample_size=5\n",
    "for cpd in fruit_bn.get_cpds():\n",
    "    print(cpd)"
   ]
  },
  {
   "cell_type": "markdown",
   "id": "eb822c99-84da-4b0d-8ac8-024a6d37b6c8",
   "metadata": {},
   "source": [
    "### 3.5.4.2 结构学习\n",
    "\n",
    "#### 1）基于得分（Score-based）的结构估计\n",
    "\n",
    "* 得分函数（Scoring functions）\n",
    "\n",
    "基于得分的方法是把结构学习问题作为一个优化问题来解决，而衡量模型和数据之间拟合度的常用得分函数有 BDeu 或 K2 等贝叶斯狄利克雷分数（Bayesian Dirichlet scores）和 BIC (也称为 MDL)等贝叶斯信息准则（ Bayesian Information Criterion）等。基于数据集对每个候选结构打分，得分高的结构为最优结构。下述案例生成了一个假的数据集，包含三个随机变量$(X,Y,Z)$，因为$Z=X+Y$，因此可知结构为$X \\rightarrow Z \\leftarrow Y$的 v-结构。为了验证`BDeu`、`K2`和`BIC`得分函数，假设模型`model1`符合 v-结构；而模型`model2`为$X \\leftarrow Z \\rightarrow Y$。从计算结果得知`model1`的各得分均高于`model2`，因此估计$X \\rightarrow Z \\leftarrow Y$为最优结构。"
   ]
  },
  {
   "cell_type": "code",
   "execution_count": null,
   "id": "8cbe68c5-c665-41b6-8fb2-05d6ea617de8",
   "metadata": {
    "tags": []
   },
   "outputs": [],
   "source": [
    "import pandas as pd\n",
    "import numpy as np\n",
    "from pgmpy.estimators import BDeuScore, K2Score, BicScore,ExhaustiveSearch,HillClimbSearch,PC,MmhcEstimator\n",
    "from pgmpy.estimators.CITests import chi_square\n",
    "from pgmpy.models import BayesianNetwork\n",
    "\n",
    "import warnings\n",
    "warnings.filterwarnings('ignore')"
   ]
  },
  {
   "cell_type": "code",
   "execution_count": null,
   "id": "d642d801-4e04-42b8-ae01-bf9065c20483",
   "metadata": {
    "tags": []
   },
   "outputs": [
    {
     "name": "stdout",
     "output_type": "stream",
     "text": [
      "model1:\n",
      "BDeuScore=\t-13938.698111661924\n",
      "K2Score=\t-14329.548959442178\n",
      "BicScore=\t-14294.73527862384\n",
      "model2:\n",
      "BDeuScore=\t-20909.028603685794\n",
      "K2Score=\t-20935.843622693803\n",
      "BicScore=\t-20953.069518357206\n"
     ]
    }
   ],
   "source": [
    "# create random data sample with 3 variables, where Z is dependent on X, Y:\n",
    "data = pd.DataFrame(np.random.randint(0, 4, size=(5000, 2)), columns=list('XY'))\n",
    "data['Z'] = data['X'] + data['Y']\n",
    "\n",
    "bdeu = BDeuScore(data, equivalent_sample_size=5)\n",
    "k2 = K2Score(data)\n",
    "bic = BicScore(data)\n",
    "\n",
    "model1 = BayesianNetwork([('X', 'Z'), ('Y', 'Z')])  # X -> Z <- Y\n",
    "model2 = BayesianNetwork([('X', 'Z'), ('X', 'Y')])  # Y <- X -> Z\n",
    "\n",
    "print(f'model1:\\nBDeuScore=\\t{bdeu.score(model1)}\\nK2Score=\\t{k2.score(model1)}\\nBicScore=\\t{bic.score(model1)}')\n",
    "print(f'model2:\\nBDeuScore=\\t{bdeu.score(model2)}\\nK2Score=\\t{k2.score(model2)}\\nBicScore=\\t{bic.score(model2)}')"
   ]
  },
  {
   "cell_type": "markdown",
   "id": "d2c6672c-e560-425f-abcb-07157ff6e7d7",
   "metadata": {},
   "source": [
    "分解分数，即给出待估计变量的潜在父变量情况下的得分。例如下述示例，给出了随机变量$Z$潜在不同父变量的得分，可知当父变量为$X,Y$时有最高得分。"
   ]
  },
  {
   "cell_type": "code",
   "execution_count": null,
   "id": "b84074a4-7e1f-469e-989d-1bd65cd49b5c",
   "metadata": {
    "tags": []
   },
   "outputs": [
    {
     "name": "stdout",
     "output_type": "stream",
     "text": [
      "-9209.01947362572\n",
      "-6991.892692505713\n",
      "-57.120667260368634\n"
     ]
    }
   ],
   "source": [
    "print(bdeu.local_score('Z', parents=[]))\n",
    "print(bdeu.local_score('Z', parents=['X']))\n",
    "print(bdeu.local_score('Z', parents=['X', 'Y']))"
   ]
  },
  {
   "cell_type": "markdown",
   "id": "8297db7d-cd46-4cf6-83e0-25815165df0a",
   "metadata": {},
   "source": [
    "* 结构搜索（Search strategies）\n",
    "\n",
    "在随机变量的数量上，DAG 的搜索空间是超指数的（super-exponential）。对于少量变量节点的情况可以用穷举（完全）搜索`ExhaustiveSearch`返回得分最高的一个；对于含有大量节点的问题，如果使用穷举法，计算成本较高，因此通常使用启发式搜索策略（heuristic search strategies）估计最优结构。\n",
    "\n",
    "对于只有3个变量的贝叶斯网络结构估计，使用穷举法总共估计有25个 DAGs，其中$X \\rightarrow Z \\leftarrow Y$的结构得分最高。"
   ]
  },
  {
   "cell_type": "code",
   "execution_count": null,
   "id": "95ae5e12-f411-4c84-b6ae-186a8f4b86ab",
   "metadata": {
    "tags": []
   },
   "outputs": [
    {
     "name": "stdout",
     "output_type": "stream",
     "text": [
      "25\n",
      "[('X', 'Z'), ('Y', 'Z')]\n",
      "\n",
      "All DAGs by score:\n",
      "-14294.73527862384 [('X', 'Z'), ('Y', 'Z')]\n",
      "-14330.662857922875 [('Y', 'X'), ('Z', 'X'), ('Z', 'Y')]\n",
      "-14330.662857922875 [('X', 'Z'), ('Y', 'Z'), ('Y', 'X')]\n",
      "-14330.662857922875 [('X', 'Y'), ('Z', 'X'), ('Z', 'Y')]\n",
      "-14330.662857922875 [('X', 'Y'), ('X', 'Z'), ('Z', 'Y')]\n",
      "-14330.662857922875 [('X', 'Y'), ('X', 'Z'), ('Y', 'Z')]\n",
      "-14330.662857922876 [('Y', 'Z'), ('Y', 'X'), ('Z', 'X')]\n",
      "-16511.124417627434 [('X', 'Y'), ('Z', 'Y')]\n",
      "-16513.616802541135 [('Y', 'X'), ('Z', 'X')]\n",
      "-18734.18799443991 [('Z', 'X'), ('Z', 'Y')]\n",
      "-18734.18799443991 [('X', 'Z'), ('Z', 'Y')]\n",
      "-18734.187994439915 [('Y', 'Z'), ('Z', 'X')]\n",
      "-20914.64955414447 [('Z', 'Y')]\n",
      "-20914.649554144475 [('Y', 'Z')]\n",
      "-20917.141939058172 [('Z', 'X')]\n",
      "-20917.141939058172 [('X', 'Z')]\n",
      "-20950.577133443505 [('Y', 'X'), ('Z', 'Y')]\n",
      "-20950.57713344351 [('X', 'Y'), ('Y', 'Z')]\n",
      "-20950.577133443512 [('Y', 'Z'), ('Y', 'X')]\n",
      "-20953.069518357206 [('X', 'Y'), ('Z', 'X')]\n",
      "-20953.069518357206 [('X', 'Y'), ('X', 'Z')]\n",
      "-20953.06951835721 [('X', 'Z'), ('Y', 'X')]\n",
      "-23097.60349876273 []\n",
      "-23133.531078061766 [('Y', 'X')]\n",
      "-23133.531078061766 [('X', 'Y')]\n"
     ]
    }
   ],
   "source": [
    "es = ExhaustiveSearch(data, scoring_method=bic)\n",
    "best_model = es.estimate()\n",
    "print(len(list(es.all_dags())))\n",
    "print(best_model.edges())\n",
    "\n",
    "print(\"\\nAll DAGs by score:\")\n",
    "for score, dag in reversed(es.all_scores()):\n",
    "    print(score, dag.edges())"
   ]
  },
  {
   "cell_type": "markdown",
   "id": "448e0517-1126-4749-b7f1-0e1dc9ba2127",
   "metadata": {
    "tags": []
   },
   "source": [
    "如果包含较多的变量节点，则最好使用启发式搜索。例如生成有8个特征列的数据集，其中$A := B+C$，$H=G-A$，应用爬山算法（hill climbing）计算，从下述结果可以观察到$A,B,C$之间，$A,G,H$之间出现有向边，而其它随机变量不具有相关性，相互独立，节点之间无边连接。"
   ]
  },
  {
   "cell_type": "code",
   "execution_count": null,
   "id": "30bc4f80-d3bb-48df-909f-608aa54520a5",
   "metadata": {
    "tags": []
   },
   "outputs": [
    {
     "data": {
      "application/vnd.jupyter.widget-view+json": {
       "model_id": "",
       "version_major": 2,
       "version_minor": 0
      },
      "text/plain": [
       "  0%|          | 0/1000000 [00:00<?, ?it/s]"
      ]
     },
     "metadata": {},
     "output_type": "display_data"
    },
    {
     "name": "stdout",
     "output_type": "stream",
     "text": [
      "[('A', 'H'), ('A', 'B'), ('A', 'C'), ('C', 'B'), ('G', 'H')]\n"
     ]
    },
    {
     "data": {
      "image/png": "[encoded data removed]",
      "text/plain": [
       "<Figure size 212.598x212.598 with 1 Axes>"
      ]
     },
     "metadata": {},
     "output_type": "display_data"
    }
   ],
   "source": [
    "# create some data with dependencies\n",
    "data = pd.DataFrame(np.random.randint(0, 3, size=(2500, 8)), columns=list('ABCDEFGH'))\n",
    "data['A'] += data['B'] + data['C']\n",
    "data['H'] = data['G'] - data['A']\n",
    "\n",
    "hc = HillClimbSearch(data)\n",
    "best_model = hc.estimate(scoring_method=BicScore(data))\n",
    "print(best_model.edges())\n",
    "model_daft=best_model.to_daft()\n",
    "model_daft.render(dpi=100);"
   ]
  },
  {
   "cell_type": "markdown",
   "id": "546e8e5a-423d-4cf6-96a5-4f4748cf24bf",
   "metadata": {},
   "source": [
    "#### 2）基于约束（Constrain-based）的结构估计\n",
    "\n",
    "从数据集中构建 DAG 的一种非常直接的方式是：使用假设检验识别数据集中特征变量的独立性；根据确定的独立性构建 DAG。\n",
    "\n",
    "* （有条件）独立性检验（（Conditional） Independence Tests）\n",
    "\n",
    "数据集中特征变量的独立性测试可以使用 chi2 条件独立性测试`chi_square`方法识别。例如构建有$A := B+C$，$H=G-A,E \\propto F$关系，下述判断结果满足上述关系，例如$B,H$之间并不独立，因为$B,H$之间存在一个节点$A$，使得$B,H$节点间存在有效迹，节点$B$的影响可以流动到节点$A$；但是如果给定节点$A$，则$B$和$H$之间独立。"
   ]
  },
  {
   "cell_type": "code",
   "execution_count": null,
   "id": "f25fd4cc-f93b-45aa-ab5d-b133066dd72b",
   "metadata": {
    "tags": []
   },
   "outputs": [
    {
     "name": "stdout",
     "output_type": "stream",
     "text": [
      "False\n",
      "True\n",
      "False\n",
      "True\n",
      "False\n"
     ]
    }
   ],
   "source": [
    "data = pd.DataFrame(np.random.randint(0, 3, size=(2500, 8)), columns=list('ABCDEFGH'))\n",
    "data['A'] += data['B'] + data['C']\n",
    "data['H'] = data['G'] - data['A']\n",
    "data['E'] *= data['F']\n",
    "\n",
    "print(chi_square(X='B', Y='H', Z=[], data=data, significance_level=0.05))          # dependent\n",
    "print(chi_square(X='B', Y='E', Z=[], data=data, significance_level=0.05))          # independent\n",
    "print(chi_square(X='B', Y='H', Z=['A'], data=data, significance_level=0.05))       # independent\n",
    "print(chi_square(X='A', Y='G', Z=[], data=data, significance_level=0.05))          # independent\n",
    "print(chi_square(X='A', Y='G', Z=['H'], data=data, significance_level=0.05))       # dependent"
   ]
  },
  {
   "cell_type": "markdown",
   "id": "a4034815-42d3-47ee-a47b-bcabac86bd68",
   "metadata": {
    "tags": []
   },
   "source": [
    "* DAG（模式）构建（DAG (pattern) construction）\n",
    "\n",
    "借助数据集中特征变量的独立性测试方法，可以分3步从数据集中构建 DAG：\n",
    "\n",
    "1. 使用`build_skeleton`方法构建一个无向骨架（基本结构）（undirected skeleton）；\n",
    "2. 使用`skeleton_to_pdag`方法定向强制的边获得部分有向无环图（partially directed acyclid graph，PDAG）（DAGs 的 I-等阶类（ I-equivalence class））；\n",
    "3. 基于 PDAG，使用`to_dag`方法保守的定向剩余的边构建 DAG。\n",
    "\n",
    "步骤1和2使用了称为 PC 的算法<sup>[6]</sup>。"
   ]
  },
  {
   "cell_type": "code",
   "execution_count": null,
   "id": "0089e78f-2ea1-4d5e-95e3-4c7d71e85228",
   "metadata": {
    "tags": []
   },
   "outputs": [
    {
     "data": {
      "application/vnd.jupyter.widget-view+json": {
       "model_id": "",
       "version_major": 2,
       "version_minor": 0
      },
      "text/plain": [
       "  0%|          | 0/5 [00:00<?, ?it/s]"
      ]
     },
     "metadata": {},
     "output_type": "display_data"
    },
    {
     "name": "stdout",
     "output_type": "stream",
     "text": [
      "Undirected edges:  [('A', 'B'), ('A', 'C'), ('A', 'H'), ('E', 'F'), ('G', 'H')]\n",
      "PDAG edges:        [('G', 'H'), ('C', 'A'), ('A', 'H'), ('B', 'A'), ('F', 'E'), ('E', 'F')]\n",
      "DAG edges:         [('G', 'H'), ('C', 'A'), ('A', 'H'), ('B', 'A'), ('F', 'E')]\n"
     ]
    }
   ],
   "source": [
    "est = PC(data)\n",
    "skel, seperating_sets = est.build_skeleton(significance_level=0.01)\n",
    "print(\"Undirected edges: \", skel.edges())\n",
    "\n",
    "pdag = est.skeleton_to_pdag(skel, seperating_sets)\n",
    "print(\"PDAG edges:       \", pdag.edges())\n",
    "\n",
    "model = pdag.to_dag()\n",
    "print(\"DAG edges:        \", model.edges())"
   ]
  },
  {
   "cell_type": "markdown",
   "id": "3aaa8d8d-f54d-4dc7-9b32-1a7f05c64914",
   "metadata": {},
   "source": [
    "`estimate`方法可以将上述3个步骤书写为一行代码。"
   ]
  },
  {
   "cell_type": "code",
   "execution_count": null,
   "id": "faec1db7-bb84-4cdb-9d39-ac91d21be4bf",
   "metadata": {
    "tags": []
   },
   "outputs": [
    {
     "data": {
      "application/vnd.jupyter.widget-view+json": {
       "model_id": "",
       "version_major": 2,
       "version_minor": 0
      },
      "text/plain": [
       "  0%|          | 0/5 [00:00<?, ?it/s]"
      ]
     },
     "metadata": {},
     "output_type": "display_data"
    },
    {
     "name": "stdout",
     "output_type": "stream",
     "text": [
      "[('G', 'H'), ('C', 'A'), ('A', 'H'), ('B', 'A'), ('F', 'E')]\n"
     ]
    }
   ],
   "source": [
    "print(est.estimate(significance_level=0.01).edges())"
   ]
  },
  {
   "cell_type": "markdown",
   "id": "e8104fb3-68ef-4ecf-abcc-770beaeae0a1",
   "metadata": {},
   "source": [
    "#### 3）混合（Hybrid）结构设计\n",
    "\n",
    "MMHC（Max-Min Hill-Climbing）算法<sup>[7]</sup>结合了基于约束和基于得分的方法，含有两个步骤：\n",
    "\n",
    "1. 使用基于约束的结构估计从数据集中学习无向图的基本结构；\n",
    "2. 使用基于得分的结构估计定向边。"
   ]
  },
  {
   "cell_type": "code",
   "execution_count": null,
   "id": "7298b08b-f9d9-4433-a9ec-e43a983d38f4",
   "metadata": {
    "tags": []
   },
   "outputs": [
    {
     "name": "stdout",
     "output_type": "stream",
     "text": [
      "Part 1) Skeleton:  [('A', 'C'), ('A', 'B'), ('A', 'H'), ('A', 'E'), ('A', 'F'), ('B', 'G'), ('C', 'H'), ('C', 'D'), ('C', 'F'), ('E', 'F'), ('E', 'G'), ('G', 'H')]\n"
     ]
    },
    {
     "data": {
      "application/vnd.jupyter.widget-view+json": {
       "model_id": "",
       "version_major": 2,
       "version_minor": 0
      },
      "text/plain": [
       "  0%|          | 0/1000000 [00:00<?, ?it/s]"
      ]
     },
     "metadata": {},
     "output_type": "display_data"
    },
    {
     "name": "stdout",
     "output_type": "stream",
     "text": [
      "Part 2) Model:     [('A', 'H'), ('B', 'A'), ('C', 'A'), ('F', 'E'), ('G', 'H')]\n"
     ]
    }
   ],
   "source": [
    "data = pd.DataFrame(np.random.randint(0, 3, size=(2500, 8)), columns=list('ABCDEFGH'))\n",
    "data['A'] += data['B'] + data['C']\n",
    "data['H'] = data['G'] - data['A']\n",
    "data['E'] *= data['F']\n",
    "\n",
    "mmhc = MmhcEstimator(data)\n",
    "skeleton = mmhc.mmpc()\n",
    "print(\"Part 1) Skeleton: \", skeleton.edges())\n",
    "\n",
    "# use hill climb search to orient the edges:\n",
    "hc = HillClimbSearch(data)\n",
    "model = hc.estimate(tabu_length=10, white_list=skeleton.to_directed().edges(), scoring_method=BDeuScore(data))\n",
    "print(\"Part 2) Model:    \", model.edges())"
   ]
  },
  {
   "cell_type": "code",
   "execution_count": null,
   "id": "f651b839-7e2c-4db0-8a9b-56011599ae54",
   "metadata": {},
   "outputs": [
    {
     "data": {
      "image/png": "[encoded data removed]",
      "text/plain": [
       "<Figure size 212.598x212.598 with 1 Axes>"
      ]
     },
     "metadata": {},
     "output_type": "display_data"
    }
   ],
   "source": [
    "model_daft=model.to_daft()\n",
    "model_daft.render(dpi=100);"
   ]
  },
  {
   "cell_type": "markdown",
   "id": "d213048d-e045-47ff-9fd4-54da5c6f6925",
   "metadata": {},
   "source": [
    "可以分步骤计算，也可以用`MmhcEstimator.estimate()`方法合并为一个步骤计算。"
   ]
  },
  {
   "cell_type": "code",
   "execution_count": null,
   "id": "00c18763-9d18-4c8a-ba21-55e63f9cdc13",
   "metadata": {},
   "outputs": [
    {
     "data": {
      "application/vnd.jupyter.widget-view+json": {
       "model_id": "",
       "version_major": 2,
       "version_minor": 0
      },
      "text/plain": [
       "  0%|          | 0/1000000 [00:00<?, ?it/s]"
      ]
     },
     "metadata": {},
     "output_type": "display_data"
    },
    {
     "name": "stdout",
     "output_type": "stream",
     "text": [
      "[('X', 'sum'), ('Y', 'sum'), ('Z', 'sum'), ('W', 'sum')]\n"
     ]
    }
   ],
   "source": [
    "data = pd.DataFrame(np.random.randint(0, 2, size=(2500, 4)), columns=list('XYZW'))\n",
    "data['sum'] = data.sum(axis=1)\n",
    "est = MmhcEstimator(data)\n",
    "model = est.estimate()\n",
    "print(model.edges())"
   ]
  },
  {
   "cell_type": "code",
   "execution_count": null,
   "id": "be26b1d3-67f7-48b5-915f-adf57f2f8c17",
   "metadata": {},
   "outputs": [
    {
     "data": {
      "image/png": "[encoded data removed]",
      "text/plain": [
       "<Figure size 197.56x204.891 with 1 Axes>"
      ]
     },
     "metadata": {},
     "output_type": "display_data"
    }
   ],
   "source": [
    "model_daft=model.to_daft()\n",
    "model_daft.render(dpi=100);"
   ]
  },
  {
   "cell_type": "markdown",
   "id": "33777051-b0c7-416d-ad2f-0171d74e812e",
   "metadata": {
    "tags": []
   },
   "source": [
    "### 附：正定（半正定）(Positive (Semi)-Definite)协方差矩阵<sup>[8]</sup>\n",
    "\n",
    "协方差（covariance）表示特征向量之间的关系，正协方差表示特征值一起同向变化；负协方差表示特征反向变化。对于两个随机变量有$Cov(x, y) = E[x - \\mu_x][y - \\mu_y]^T $；对于一个随机向量有$Cov(x) = E[x - \\mu][x - \\mu]^T $，式中均值$\\mu = \\frac{1}{n}\\sum_{i=1}^n x_i$；对于有$n$个观测值（样本）的$m$个随机特征向量，协方差矩阵为$Cov_{ij} = E[x_i - \\mu_i][x_j - \\mu_j] = \\sigma_{ij},x_i \\in \\mathbb{R}^{m\\times n}$。\n",
    "\n",
    "为了方便观察和分类协方差矩阵的变化趋势关系，结合二阶函数几何形态的凹凸性分类有，\n",
    "\n",
    "1. 如果一个矩阵是正定的（positive definite），它有一个绝对最小值，且在所有轴上都达到了最小值。如果一个$n \\times n$对称矩阵（symmetric matrix）$M$是正定的，满足$x^TMx \\gt 0 , x \\in \\mathbb{R}^{1 \\times n}$；\n",
    "2. 如果一个矩阵是半正定的（positive semi-definite），它至少在一个轴向量上有一个极小值。如果一个$n \\times n$对称矩阵（symmetric matrix）$M$是半正定的，满足$x^TMx \\geq 0,x \\in \\mathbb{R}^{n}$；\n",
    "3. 如果一个矩阵是负定的（negative definite ），它有一个绝对最大值，且在所有轴上都达到了最大值；\n",
    "4. 如果一个矩阵是半负定的（negative semi-definite），它至少在一个轴向量上有一个极大值；\n",
    "5. 如果一个矩阵是无限的（indfinite），它有一个鞍点。"
   ]
  },
  {
   "cell_type": "code",
   "execution_count": 21,
   "id": "bac6186e-beca-4d2c-9281-c060a6182cde",
   "metadata": {
    "tags": []
   },
   "outputs": [],
   "source": [
    "from datascience import *\n",
    "from prob140 import *\n",
    "%matplotlib inline\n",
    "import matplotlib.pyplot as plt\n",
    "import numpy as np\n",
    "plt.style.use('fivethirtyeight')"
   ]
  },
  {
   "cell_type": "code",
   "execution_count": 22,
   "id": "4ee8c621-eae3-450a-8c94-6e127b0e9a5e",
   "metadata": {
    "tags": []
   },
   "outputs": [
    {
     "name": "stdout",
     "output_type": "stream",
     "text": [
      "The autoreload extension is already loaded. To reload it, use:\n",
      "  %reload_ext autoreload\n"
     ]
    }
   ],
   "source": [
    "%load_ext autoreload \n",
    "%autoreload 2 \n",
    "import usda.data_visual as usda_vis\n",
    "import usda.pgm as usda_pgm"
   ]
  },
  {
   "cell_type": "markdown",
   "id": "d70b8146-e62f-481e-8515-ddcd054ce991",
   "metadata": {},
   "source": [
    "* 正定的（positive definite）"
   ]
  },
  {
   "cell_type": "code",
   "execution_count": 23,
   "id": "9898e6e0-08b8-4df6-8ab8-283e30c0ba67",
   "metadata": {
    "tags": []
   },
   "outputs": [
    {
     "data": {
      "application/vnd.jupyter.widget-view+json": {
       "model_id": "f23b80b9d5c54077a728707a644b9160",
       "version_major": 2,
       "version_minor": 0
      },
      "text/plain": [
       "interactive(children=(FloatSlider(value=20.0, description='elevation', max=90.0, step=1.0), FloatSlider(value=…"
      ]
     },
     "metadata": {},
     "output_type": "display_data"
    }
   ],
   "source": [
    "def quadratic_form_positive_definite(x,y):\n",
    "    return x**2+y**2\n",
    "\n",
    "Plot_3d(x_limits=(-2,2), y_limits=(-2,2), f=quadratic_form_positive_definite, cstride=4, rstride=4,interactive=True)   "
   ]
  },
  {
   "cell_type": "markdown",
   "id": "7f1626e3-0a47-48d0-ba21-eced6cd523bc",
   "metadata": {},
   "source": [
    "* 半正定的（positive semi-definite）"
   ]
  },
  {
   "cell_type": "code",
   "execution_count": 24,
   "id": "2afb8685-bb34-45dc-9c12-4d4b615068d4",
   "metadata": {
    "tags": []
   },
   "outputs": [
    {
     "data": {
      "application/vnd.jupyter.widget-view+json": {
       "model_id": "b94fe44a2c824b38aae486ab2e1fe2f0",
       "version_major": 2,
       "version_minor": 0
      },
      "text/plain": [
       "interactive(children=(FloatSlider(value=20.0, description='elevation', max=90.0, step=1.0), FloatSlider(value=…"
      ]
     },
     "metadata": {},
     "output_type": "display_data"
    }
   ],
   "source": [
    "def quadratic_form_positive_semi_definite(x,y):\n",
    "    return x**2\n",
    "\n",
    "Plot_3d(x_limits=(-2,2), y_limits=(-2,2),f=quadratic_form_positive_semi_definite, cstride=4, rstride=4,interactive=True)   "
   ]
  },
  {
   "cell_type": "markdown",
   "id": "d7ac60df-a677-4a0d-81a0-efb424bee3d9",
   "metadata": {},
   "source": [
    "* 负定的（negative definite ）"
   ]
  },
  {
   "cell_type": "code",
   "execution_count": 25,
   "id": "cbc5b181-26d5-4dad-ac29-fd901f6fab90",
   "metadata": {
    "tags": []
   },
   "outputs": [
    {
     "data": {
      "application/vnd.jupyter.widget-view+json": {
       "model_id": "0169736e871046e9841d9cb1977d4fa5",
       "version_major": 2,
       "version_minor": 0
      },
      "text/plain": [
       "interactive(children=(FloatSlider(value=20.0, description='elevation', max=90.0, step=1.0), FloatSlider(value=…"
      ]
     },
     "metadata": {},
     "output_type": "display_data"
    }
   ],
   "source": [
    "def quadratic_form_negative_definite(x,y):\n",
    "    return -x**2-y**2\n",
    "\n",
    "Plot_3d(x_limits=(-2,2), y_limits=(-2,2), f=quadratic_form_negative_definite, cstride=4, rstride=4,interactive=True)   "
   ]
  },
  {
   "cell_type": "markdown",
   "id": "7c18a710-b4ba-4167-b761-a70a93d15f23",
   "metadata": {},
   "source": [
    "* 半负定的（negative semi-definite）"
   ]
  },
  {
   "cell_type": "code",
   "execution_count": 26,
   "id": "2ad4a34d-1c15-400b-85d0-171d9cc944c0",
   "metadata": {
    "tags": []
   },
   "outputs": [
    {
     "data": {
      "application/vnd.jupyter.widget-view+json": {
       "model_id": "09f1e392f2b54787ac3ffe9c94dac40a",
       "version_major": 2,
       "version_minor": 0
      },
      "text/plain": [
       "interactive(children=(FloatSlider(value=20.0, description='elevation', max=90.0, step=1.0), FloatSlider(value=…"
      ]
     },
     "metadata": {},
     "output_type": "display_data"
    }
   ],
   "source": [
    "def quadratic_form_negative_semi_definite(x,y):\n",
    "    return -x**2\n",
    "\n",
    "Plot_3d(x_limits=(-2,2), y_limits=(-2,2),f=quadratic_form_negative_semi_definite, cstride=4, rstride=4,interactive=True) "
   ]
  },
  {
   "cell_type": "markdown",
   "id": "2a8cdaf9-58a0-42ff-9f8f-bf8fd44aecdc",
   "metadata": {},
   "source": [
    "* 无限的（indfinite）"
   ]
  },
  {
   "cell_type": "code",
   "execution_count": 27,
   "id": "bad60dcc-3b66-414e-bd3f-0832c9175ec0",
   "metadata": {
    "tags": []
   },
   "outputs": [
    {
     "data": {
      "application/vnd.jupyter.widget-view+json": {
       "model_id": "c6e7f6999c5048649c44a9b92643178f",
       "version_major": 2,
       "version_minor": 0
      },
      "text/plain": [
       "interactive(children=(FloatSlider(value=20.0, description='elevation', max=90.0, step=1.0), FloatSlider(value=…"
      ]
     },
     "metadata": {},
     "output_type": "display_data"
    }
   ],
   "source": [
    "def quadratic_form_indefinite(x,y):\n",
    "    return x**2-y**2\n",
    "\n",
    "Plot_3d(x_limits=(-2,2), y_limits=(-2,2),f=quadratic_form_indefinite, cstride=4, rstride=4,interactive=True) "
   ]
  },
  {
   "cell_type": "markdown",
   "id": "0ee69f6b-392a-43e8-a7f2-a5b84e48c07f",
   "metadata": {},
   "source": [
    "使用`covariance_test`方法判断协方差矩阵的类别，包括是否是正定、半正定的，是否为对称矩阵，是否为正行列式（Positive Determinant）及特征值（Eigen Values）是否为正。"
   ]
  },
  {
   "cell_type": "code",
   "execution_count": 73,
   "id": "374d37f8-6c13-4222-a368-e8e2d4c6611a",
   "metadata": {
    "tags": []
   },
   "outputs": [
    {
     "data": {
      "text/plain": [
       "{'Positive Definite': True,\n",
       " 'Positive Semi-Definite': True,\n",
       " 'Symmetric': True,\n",
       " 'Positive Determinant': True,\n",
       " 'Eigen Values, Positivity': True}"
      ]
     },
     "execution_count": 73,
     "metadata": {},
     "output_type": "execute_result"
    }
   ],
   "source": [
    "cov=np.array([[4, 2, -2], \n",
    "              [2, 5, -5], \n",
    "              [-2, -5, 8]])\n",
    "usda_pgm.covariance_test(cov,[0,1])"
   ]
  },
  {
   "cell_type": "markdown",
   "id": "ead31cdd-2dc3-4e41-9bf9-8c287af2acce",
   "metadata": {},
   "source": [
    "---"
   ]
  },
  {
   "cell_type": "markdown",
   "id": "bca703ce-b33e-46af-9e2a-9f236236ba71",
   "metadata": {},
   "source": [
    "注释（Notes）：\n",
    "\n",
    "① pgmpy库， （<https://github.com/pgmpy/pgmpy>）。\n",
    "\n",
    "② pgmpy在线手册，（<https://pgmpy.org/>）。\n",
    "\n",
    "③ pomegranate库，（<https://github.com/jmschrei/pomegranate>）。\n",
    "\n",
    "④ pomegranate在线手册，（<https://github.com/jmschrei/pomegranate/tree/master/docs/tutorials>）。\n",
    "\n",
    "⑤ PGM_PyLib库，（<https://github.com/jona2510/PGM_PyLib>）。\n",
    "\n",
    "⑥ PyGModels库，（<https://github.com/D-K-E/graphical-models/>）。\n",
    "\n",
    "⑦ PyGModels在线手册，（<https://d-k-e.github.io/graphical-models/html/index.html>）。\n",
    "\n",
    "⑧ pyGMs库，（<https://github.com/ihler/pyGMs>）。\n",
    "\n",
    "⑨ pgmPy库，（<https://github.com/indapa/pgmPy>）。\n",
    "\n",
    "⑩ pgmPy课程，（<https://www.coursera.org/learn/probabilistic-graphical-models>）。\n",
    "\n",
    "⑪ pgm库，（<https://github.com/paulorauber/pgm>）。\n",
    "\n",
    "⑫ Skearn（scikit-learn）的GaussianNB类，（<https://scikit-learn.org/stable/modules/naive_bayes.html)>）。\n",
    "\n",
    "⑬ InVEST（Integrated Valuation of Ecosystem Services and Tradeoffs），（<https://naturalcapitalproject.stanford.edu/software/invest>）。\n",
    "\n",
    "⑭ daft库，（<https://docs.daft-pgm.org/en/latest/>）。"
   ]
  },
  {
   "cell_type": "markdown",
   "id": "067aa280-04b4-41f7-ba2f-6cbf65e0829d",
   "metadata": {},
   "source": [
    "参考文献（References）:\n",
    "\n",
    "[1] Koller D, Friedman N. Probabilistic Graphical Models : Principles and Techniques / Daphne Koller and Nir Friedman. MIT Press; 2009.（[美]Daphne Koller [以色列]Nir Friedman 著, 王飞跃、韩素青 译出版社:清华大学出版社出版时间:2015.03）\n",
    "\n",
    "[2] Ankan A, Panda A. Mastering Probabilistic Graphical Models Using Python : Master Probabilistic Graphical Models by Learning through Real-World Problems and Illustrative Code Examples in Python / Ankur Ankan, Abinash Panda. 1st edition. Packt Publishing; 2015.\n",
    "\n",
    "[3] Sucar LE. Probabilistic Graphical Models : Principles and Applications / Luis Enrique Sucar. Second edition. Springer; 2021. doi:10.1007/978-3-030-61943-5.\n",
    "\n",
    "[4] Naive Bayes, <https://scikit-learn.org/stable/modules/naive_bayes.html>.\n",
    "\n",
    "[5] Heinrich, G. Parameter estimation for text analysis.(2008).\n",
    "\n",
    "[6] Neapolitan, R. E. Learning Bayesian Networks. (Pearson Prentice Hall, 2004).\n",
    "\n",
    "[7] Tsamardinos, I., Brown, L. E. & Aliferis, C. F. The max-min hill-climbing Bayesian network structure learning algorithm. Mach Learn 65, 31–78 (2006).\n",
    "\n",
    "[8] Why Covariance Matrix Should Be Positive Semi-Definite, Tests Using Breast Cancer Dataset，<https://gowrishankar.info/blog/why-covariance-matrix-should-be-positive-semi-definite-tests-using-breast-cancer-dataset/>."
   ]
  }
 ],
 "metadata": {
  "kernelspec": {
   "display_name": "Python 3 (ipykernel)",
   "language": "python",
   "name": "python3"
  },
  "language_info": {
   "codemirror_mode": {
    "name": "ipython",
    "version": 3
   },
   "file_extension": ".py",
   "mimetype": "text/x-python",
   "name": "python",
   "nbconvert_exporter": "python",
   "pygments_lexer": "ipython3",
   "version": "3.9.16"
  }
 },
 "nbformat": 4,
 "nbformat_minor": 5
}
