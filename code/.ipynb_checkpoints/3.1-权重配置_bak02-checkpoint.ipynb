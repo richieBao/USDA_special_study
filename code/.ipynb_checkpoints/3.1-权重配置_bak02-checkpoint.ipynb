{
 "cells": [
  {
   "cell_type": "markdown",
   "id": "643afa91-70f2-4b71-a0eb-2c0d7b972374",
   "metadata": {},
   "source": [
    "Created on Mon Feb 20 15:44:40 2023 @author: Richie Bao-caDesign设计(cadesign.cn)"
   ]
  },
  {
   "cell_type": "markdown",
   "id": "cce3813e-847f-4ed2-ab3f-2dba595b2165",
   "metadata": {},
   "source": [
    "# 3.1 权重秩序\n",
    "\n",
    "## 3.1.1 多准则决策法 \n",
    "\n",
    "多准则决策法，Multiple Criteria Decision-Making（MCDM）也称之为 Multi-Criteria Decision Analysis（MCDA），Multi-attribute Decision-Making（MADM），或multi-object decision-making（MODM）（多目标决策法），是关于在同时考虑多个准则（criteria）/目标（objectives）下对备选方案（alternatives）进行排名（rank）或选择时做出决策。当准则越复杂， 备选方案增多时，确定哪个为最优方案的难度就越大。MCDM经过几十年的发展，各类算法涌现，已经成为解决现实问题的强大工具，可以帮助寻找最能满足要求众多相互冲突目标的决策<sup>[Gal, T., Stewart, T.J. and Hanne, T. (1999) Multicriteria decision making: Advances in MCDM models, algorithms, theory, and applications. Boston, MA: Kluwer academic. ]</sup>。MCDM被广泛应用于数学、经济学、管理学和工程领域等众多学科，服务于商业、非营利组织、政府、卫生、教育和个人决策等。MCDM（离散型，discrete）问题可以表述为一个矩阵，$\\begin{aligned} & \\begin{array}{llll} \\hspace{35pt} c_1 & \\hspace{8pt} c_2 & \\hspace{5pt} \\cdots &  \\hspace{5pt} c_n\\end{array} \\\\ & A=\\begin{array}{c}a_1 \\\\ a_2 \\\\ \\vdots \\\\ a_m\\end{array}\\left(\\begin{array}{cccc}p_{11} & p_{12} & \\cdots & p_{1 n} \\\\ p_{21} & p_{22} & \\cdots & p_{2 n} \\\\ \\vdots & \\vdots & \\ddots & \\vdots \\\\ p_{m 1} & p_{m 2} & \\cdots & p_{m n}\\end{array}\\right) \\\\ & \\end{aligned}$，式中$\\{ a_{1},a_{2}, \\ldots ,a_{m}  \\}$为备选方案（feasible alternatives，actions，stimuli）；$\\{ c_{1},c_{2}, \\ldots ,c_{n}  \\}$为决策准则（decision-making criterion）；$p_{ij} $为第$i$个备选方案对应到第$j$个决策准则的得分。其目标是从备选方案中寻找到最好（最可取、最重要的）的选择，即具有最佳整体价值（综合评价指数）的方案。计算第$i$个备选方案综合评价指数$V_{i} $的方法有很多算法，一般形式可以对决策准则赋予权重值$w_{j}(w_{j} \\geq 0, \\sum w_{j}=1  ) $，则$V_{i} $可以用一个简单的加权值函数得到，这是大多数 MCDM 方法的基础模型，公式为：$V_{i}= \\sum_{j=1}^n  w_{j} p_{ij}$。上述流程最为重要的部分是决策准则权重$w=\\{ w_{1},w_{1}, \\ldots ,w_{n} \\}$的确定<sup>[Rezaei, J. Best-worst multi-criteria decision-making method. Omega (United Kingdom) 53, 49–57 (2015).]</sup>。\n",
    "\n",
    "从上述对MCDM的描述及公式的表述，可以发现规划中的很多地理空间问题都可以转换为MCDM问题，例如其中的备选方案可以为城市的行政分区、子流域、样方、采样点、乃至栅格单元等；而决策准则为各类评价指标（体系），例如生态敏感性评价指标（压力层面的人口密度指数、建设用地占比、农业用地占比、污水排放率、废弃排放量、粉尘排放量、灾害易发度和地形坡度；状态层面的土地胁迫指数、生境质量指数、土地利用类型、水网密度指数、年降雨量、年总气温、植被覆盖度和经济发达指数；及响应层面的造林面积、生活污水处理率、工业SO<sub>2</sub>去除量和固体废物利用率等），采样熵值权重法和PCA权重法计算<sup>[黎家琦,武雪玲,唐诗怡.压力-状态-响应模型下的生态敏感性分析算法[J].测绘科学,2020,45(11):75-83+106.DOI:10.16251/j.cnki.1009-2307.2020.11.012.]</sup>；生态脆弱性评价指标（生态敏感性层面的景观破碎度、地形指数、土壤侵蚀量；生态恢复力层面的蔓延度、归一化植被指数、生物丰度等；生态压力度层面的人类活动强度和土地利用程度等），应用了熵权法计算<sup>[张金茜,李红瑛,曹二佳,巩杰.多尺度流域生态脆弱性评价及其空间关联性——以甘肃白龙江流域为例[J].应用生态学报,2018,29(09):2897-2906.DOI:10.13287/j.1001-9332.201809.008.]</sup>；景观感知决定因素（环境价值、文化价值、美学价值和个人经历或回忆等）<sup>[Solecka, I., Rinne, T., Caracciolo Martins, R., Kytta, M. & Albert, C. Important places in landscape – investigating the determinants of perceived landscape value in the suburban area of Wrocław, Poland. Landsc Urban Plan 218, 104289 (2022).]</sup>；热脆弱性指数（Heat Vulnerability Index，HVI）（涉及人口密度、小于5岁儿童人口比例、大于65，大于85的老人人口比例、大于65独居老人人口比例、小于5岁低于贫困线家庭的儿童人口比例、大于65岁低于贫困线家庭的老人人口比例、树冠覆盖率和早于1980年建成的建筑比例等），使用熵权法和TOPSIS（Technique for Order of Preference by Similarity to Ideal Solution ）算法计算<sup>[Boroushaki, S. Entropy-Based Weights for MultiCriteria Spatial Decision-Making. Yearbook of the Association of Pacific Coast Geographers 79, 168–187 (2017).]</sup>；生态系统服务评估和权衡（Integrated Valuation of Ecosystem Services and Tradeoffs，[InVEST](https://naturalcapitalproject.stanford.edu/software/invest)）中的很多模型也可以从MCDM角度思考，例如生物多样指数（涉及到当前土地利用/土地覆盖类型、威胁影响距离、威胁地图、栖息地适宜性和栖息地对威胁的敏感性等）。\n",
    "\n",
    "就MCMD问题，当前形成有多个[软件工具](https://en.wikipedia.org/wiki/Decision-making_software#Comparison_of_decision-making_software)，Valdecy Pereira则将其集成到了Python库中，构建了[pyDecision](https://github.com/Valdecy/pyDecision)包，包括40余种算法。对MCMD的解释，首先再现Soheil Boroushaki基于熵值权重法和改进的TOPSIS算法的MCDA计算<sup>[]</sup>；并将其应用于城市环境传感器AoT污染气体浓度数据测量点污染度指数评估中；再引入解释`pyDecision`集成的各类算法。"
   ]
  },
  {
   "cell_type": "code",
   "execution_count": 1,
   "id": "6f4b76e8-7c66-4dc4-8fc9-39e4131e3f87",
   "metadata": {},
   "outputs": [],
   "source": [
    "# IPython extension to reload modules before executing user code.\n",
    "%load_ext autoreload \n",
    "# Reload all modules (except those excluded by %aimport) every time before executing the Python code typed.\n",
    "%autoreload 2 \n",
    "\n",
    "from usda import datasets as usda_datasets\n",
    "from usda import weight as usda_weight\n",
    "from usda import database as usda_database\n",
    "from usda import utils as usda_utils\n",
    "from usda import data_visualization as usda_vis\n",
    "from usda.database import postSQL2gpd,gpd2postSQL\n",
    "\n",
    "import pandas as pd\n",
    "import numpy as np\n",
    "import matplotlib.pyplot as plt\n",
    "import pyDecision.algorithm as da\n",
    "\n",
    "np.set_printoptions(linewidth=np.inf)"
   ]
  },
  {
   "cell_type": "markdown",
   "id": "856d8438-155d-4590-abbd-62ca8905854d",
   "metadata": {},
   "source": [
    "### 3.1.1.1 再现熵值权重法和改进的TOPSIS算法\n",
    "\n",
    "#### 1)  熵值权重法\n",
    "\n",
    "对于MCDM问题矩阵$A$，包含一定数量的信息，可以用于探索决策准则之间对备选方案综合评价指数影响的程度，即计算决策准则权重。权重的主观方法是由决策者、规划者、利益相关者根据经验或调查配置权重值，而客观方法则可以根据矩阵$A$决策准则中包含的信息量评估权重值。信息论（information theory）中香农的熵概念（Shannon’s entropy concept）已广泛应用于工程、信息科学和管理领域，用于衡量MCDM问题中包含的信息量，计算决策准则（例如各类指标）的信息量。\n",
    "\n",
    "将Soheil Boroushaki构建的示范数据矩阵写入到`USDA`库中，可以通过`usda_datasets.load_evaluation_criteria_raw_values()`方法调入，该数据用DataFrame格式表述，列为决策准则（criteria），包括坡度（slope）（度）、到水体距离（distance2water）（英里）、高程（elevation）（尺）和到人口中心的距离（distance2population）（英里）；行为备选方案（alternative），对应地理空间的位置区域，索引值为0、1、2和3。"
   ]
  },
  {
   "cell_type": "code",
   "execution_count": 4,
   "id": "69894406-49a8-494f-948f-a93a0b5c0104",
   "metadata": {},
   "outputs": [
    {
     "data": {
      "text/html": [
       "<div>\n",
       "<style scoped>\n",
       "    .dataframe tbody tr th:only-of-type {\n",
       "        vertical-align: middle;\n",
       "    }\n",
       "\n",
       "    .dataframe tbody tr th {\n",
       "        vertical-align: top;\n",
       "    }\n",
       "\n",
       "    .dataframe thead th {\n",
       "        text-align: right;\n",
       "    }\n",
       "</style>\n",
       "<table border=\"1\" class=\"dataframe\">\n",
       "  <thead>\n",
       "    <tr style=\"text-align: right;\">\n",
       "      <th></th>\n",
       "      <th>slope</th>\n",
       "      <th>distance2water</th>\n",
       "      <th>elevation</th>\n",
       "      <th>distance2population</th>\n",
       "    </tr>\n",
       "  </thead>\n",
       "  <tbody>\n",
       "    <tr>\n",
       "      <th>0</th>\n",
       "      <td>9</td>\n",
       "      <td>2.2</td>\n",
       "      <td>5700</td>\n",
       "      <td>1.2</td>\n",
       "    </tr>\n",
       "    <tr>\n",
       "      <th>1</th>\n",
       "      <td>20</td>\n",
       "      <td>3.2</td>\n",
       "      <td>3100</td>\n",
       "      <td>1.3</td>\n",
       "    </tr>\n",
       "    <tr>\n",
       "      <th>2</th>\n",
       "      <td>10</td>\n",
       "      <td>2.0</td>\n",
       "      <td>4900</td>\n",
       "      <td>1.2</td>\n",
       "    </tr>\n",
       "    <tr>\n",
       "      <th>3</th>\n",
       "      <td>16</td>\n",
       "      <td>3.5</td>\n",
       "      <td>3600</td>\n",
       "      <td>1.4</td>\n",
       "    </tr>\n",
       "  </tbody>\n",
       "</table>\n",
       "</div>"
      ],
      "text/plain": [
       "   slope  distance2water  elevation  distance2population\n",
       "0      9             2.2       5700                  1.2\n",
       "1     20             3.2       3100                  1.3\n",
       "2     10             2.0       4900                  1.2\n",
       "3     16             3.5       3600                  1.4"
      ]
     },
     "execution_count": 4,
     "metadata": {},
     "output_type": "execute_result"
    }
   ],
   "source": [
    "evaluation_criteria_raw_values_df=usda_datasets.load_evaluation_criteria_raw_values().data\n",
    "evaluation_criteria_raw_values_df"
   ]
  },
  {
   "cell_type": "markdown",
   "id": "01b2044c-90b9-4758-9847-e208b37401b8",
   "metadata": {},
   "source": [
    "信息熵的计算公式为：$E_j=\\left\\{\\begin{array}{cc}-\\frac{\\sum_{i=1}^m p_{i j} \\cdot \\ln \\left(p_{i j}\\right)}{\\ln (m)} & , p_{i j} \\neq 0 \\\\ 0 & , p_{i j}=0\\end{array}\\right.$，式中：$p_{i j}=\\frac{a_{i j}}{\\sum_{i=1}^m a_{i j}}$，$a_{i j}$为原始决策准则值，$p_{i j}$为原始决策准则值$a_{i j}$占各自决策准则列之和的比例，定义`df_Pij()`方法实现计算。由信息熵计算决策准则的权重值，公式为：$w_j=\\frac{1-E_j}{\\sum_{i=1}^m\\left(1-E_j\\right)}$，定义`entropy_weight()`方法，实现权重值计算，输入矩阵为原始决策准则值，$p_{i j}$直接在该函数内部实现。"
   ]
  },
  {
   "cell_type": "code",
   "execution_count": 5,
   "id": "4991444e-eb39-4a30-b461-d096859fd5f2",
   "metadata": {},
   "outputs": [
    {
     "data": {
      "text/html": [
       "<div>\n",
       "<style scoped>\n",
       "    .dataframe tbody tr th:only-of-type {\n",
       "        vertical-align: middle;\n",
       "    }\n",
       "\n",
       "    .dataframe tbody tr th {\n",
       "        vertical-align: top;\n",
       "    }\n",
       "\n",
       "    .dataframe thead th {\n",
       "        text-align: right;\n",
       "    }\n",
       "</style>\n",
       "<table border=\"1\" class=\"dataframe\">\n",
       "  <thead>\n",
       "    <tr style=\"text-align: right;\">\n",
       "      <th></th>\n",
       "      <th>slope</th>\n",
       "      <th>distance2water</th>\n",
       "      <th>elevation</th>\n",
       "      <th>distance2population</th>\n",
       "    </tr>\n",
       "  </thead>\n",
       "  <tbody>\n",
       "    <tr>\n",
       "      <th>0</th>\n",
       "      <td>0.163636</td>\n",
       "      <td>0.201835</td>\n",
       "      <td>0.329480</td>\n",
       "      <td>0.235294</td>\n",
       "    </tr>\n",
       "    <tr>\n",
       "      <th>1</th>\n",
       "      <td>0.363636</td>\n",
       "      <td>0.293578</td>\n",
       "      <td>0.179191</td>\n",
       "      <td>0.254902</td>\n",
       "    </tr>\n",
       "    <tr>\n",
       "      <th>2</th>\n",
       "      <td>0.181818</td>\n",
       "      <td>0.183486</td>\n",
       "      <td>0.283237</td>\n",
       "      <td>0.235294</td>\n",
       "    </tr>\n",
       "    <tr>\n",
       "      <th>3</th>\n",
       "      <td>0.290909</td>\n",
       "      <td>0.321101</td>\n",
       "      <td>0.208092</td>\n",
       "      <td>0.274510</td>\n",
       "    </tr>\n",
       "  </tbody>\n",
       "</table>\n",
       "</div>"
      ],
      "text/plain": [
       "      slope  distance2water  elevation  distance2population\n",
       "0  0.163636        0.201835   0.329480             0.235294\n",
       "1  0.363636        0.293578   0.179191             0.254902\n",
       "2  0.181818        0.183486   0.283237             0.235294\n",
       "3  0.290909        0.321101   0.208092             0.274510"
      ]
     },
     "execution_count": 5,
     "metadata": {},
     "output_type": "execute_result"
    }
   ],
   "source": [
    "df_Pij=usda_weight.df_Pij(evaluation_criteria_raw_values_df)\n",
    "df_Pij"
   ]
  },
  {
   "cell_type": "markdown",
   "id": "e2b17056-a53d-4ffa-98e0-5dd84b781730",
   "metadata": {},
   "source": [
    "`Ej`列为信息熵，`Wj`列为权重值。其中`slope`具有相对最小的信息熵，表明`slope`决策准则值在备选方案（地理空间区域）中分布相对不均匀，权重值相对较高；而对于`distance2population`决策准则值在备选方案中分布相对均匀，权重值则相对较低。"
   ]
  },
  {
   "cell_type": "code",
   "execution_count": 6,
   "id": "c3ad5a18-e962-48e1-ac14-b98088d170a8",
   "metadata": {
    "tags": []
   },
   "outputs": [
    {
     "data": {
      "text/html": [
       "<div>\n",
       "<style scoped>\n",
       "    .dataframe tbody tr th:only-of-type {\n",
       "        vertical-align: middle;\n",
       "    }\n",
       "\n",
       "    .dataframe tbody tr th {\n",
       "        vertical-align: top;\n",
       "    }\n",
       "\n",
       "    .dataframe thead th {\n",
       "        text-align: right;\n",
       "    }\n",
       "</style>\n",
       "<table border=\"1\" class=\"dataframe\">\n",
       "  <thead>\n",
       "    <tr style=\"text-align: right;\">\n",
       "      <th></th>\n",
       "      <th>Ej</th>\n",
       "      <th>1-Ej</th>\n",
       "      <th>Wj</th>\n",
       "    </tr>\n",
       "  </thead>\n",
       "  <tbody>\n",
       "    <tr>\n",
       "      <th>slope</th>\n",
       "      <td>0.961706</td>\n",
       "      <td>0.038294</td>\n",
       "      <td>0.477279</td>\n",
       "    </tr>\n",
       "    <tr>\n",
       "      <th>distance2water</th>\n",
       "      <td>0.980097</td>\n",
       "      <td>0.019903</td>\n",
       "      <td>0.248060</td>\n",
       "    </tr>\n",
       "    <tr>\n",
       "      <th>elevation</th>\n",
       "      <td>0.979473</td>\n",
       "      <td>0.020527</td>\n",
       "      <td>0.255832</td>\n",
       "    </tr>\n",
       "    <tr>\n",
       "      <th>distance2population</th>\n",
       "      <td>0.998489</td>\n",
       "      <td>0.001511</td>\n",
       "      <td>0.018829</td>\n",
       "    </tr>\n",
       "  </tbody>\n",
       "</table>\n",
       "</div>"
      ],
      "text/plain": [
       "                           Ej      1-Ej        Wj\n",
       "slope                0.961706  0.038294  0.477279\n",
       "distance2water       0.980097  0.019903  0.248060\n",
       "elevation            0.979473  0.020527  0.255832\n",
       "distance2population  0.998489  0.001511  0.018829"
      ]
     },
     "execution_count": 6,
     "metadata": {},
     "output_type": "execute_result"
    }
   ],
   "source": [
    "entropy_weight_df=usda_weight.entropy_weight(evaluation_criteria_raw_values_df)\n",
    "entropy_weight_df"
   ]
  },
  {
   "cell_type": "markdown",
   "id": "b4181600-744f-4977-91e0-e742e668a163",
   "metadata": {},
   "source": [
    "#### 2)  TOPSIS（理想解法） \n",
    "\n",
    "决策规则（ecision rule）可以定义为通过规范化具有权重的决策准则，计算每个备选方案的综合性指标，进行排序，选择最佳方案的过程。MCDM的决策规则包含有加权线性组合（weighted linear combination，WLC）、加权求和/布尔叠加法（weighted summation/Boolean overlay methods）、层次分析法（Analytic Hierarchy Process，AHP），理想/参考点法（ideal/reference point methods）和排序法（outranking methods）等众多算法<sup>[Malczewski, J. GIS-based multicriteria decision analysis: A survey of the literature. International Journal of Geographical Information Science 20, 703–726 (2006).][Malczewski, J. & Rinner, C. Advances in Geographic Information Science Multicriteria Decision Analysis in Geographic Information Science. http://www.springer.com/series/7712.]</sup>。TOPSIS (Technique for Order Performance by Similarity to Ideal Solution)算法的基本原理是折衷的解决方案必须同时靠近正理想解（positive ideal solution，PIS）而远离负理想解（ negative ideal solution，NIS）。正理想解表示一个假设的备选方案，其由每个决策准则的最理想的规范化属性值组成；而负理想解表示的假设备选方案由每个决策准则的最差性能的规范化属性值组成。TOPSIS的基本假设是决策准则（评估标注）值得单调递增或递减，因此识别一组决策准则值的最大值和最小值，可以很容易确定每个准则的正理想和负理想解。TOPSIS 结合到正理想解和负理想解的距离来衡量每个备选位置与正理想解的相对接近程度，然后，备选方案将根据这一综合衡量标准进行排名<sup>Hwang, C.-L., and K. Yoon. 1981. Multiple Attribute Decision Making. Methods and Applications A State-of-the-Art Survey. Berlin: Springer-Verlag. </sup>。\n",
    "\n",
    "首先通过将决策矩阵$A$中的每个决策准则值$a_{i j}$标准化为无量纲的$v_{i j}$来构建归一化决策矩阵，以便比较不同的属性，其公式为： $v_{i j}=\\frac{a_{i j}}{\\sqrt{\\sum_{i=1}^m a_{i j}^2}}$，定义`df_standardized_evaluation()`方法实现。"
   ]
  },
  {
   "cell_type": "code",
   "execution_count": 7,
   "id": "2715b8a2-489d-4d60-99d0-b88592afc545",
   "metadata": {
    "tags": []
   },
   "outputs": [
    {
     "data": {
      "text/html": [
       "<div>\n",
       "<style scoped>\n",
       "    .dataframe tbody tr th:only-of-type {\n",
       "        vertical-align: middle;\n",
       "    }\n",
       "\n",
       "    .dataframe tbody tr th {\n",
       "        vertical-align: top;\n",
       "    }\n",
       "\n",
       "    .dataframe thead th {\n",
       "        text-align: right;\n",
       "    }\n",
       "</style>\n",
       "<table border=\"1\" class=\"dataframe\">\n",
       "  <thead>\n",
       "    <tr style=\"text-align: right;\">\n",
       "      <th></th>\n",
       "      <th>slope</th>\n",
       "      <th>distance2water</th>\n",
       "      <th>elevation</th>\n",
       "      <th>distance2population</th>\n",
       "    </tr>\n",
       "  </thead>\n",
       "  <tbody>\n",
       "    <tr>\n",
       "      <th>0</th>\n",
       "      <td>0.311086</td>\n",
       "      <td>0.393045</td>\n",
       "      <td>0.641016</td>\n",
       "      <td>0.469596</td>\n",
       "    </tr>\n",
       "    <tr>\n",
       "      <th>1</th>\n",
       "      <td>0.691301</td>\n",
       "      <td>0.571702</td>\n",
       "      <td>0.348623</td>\n",
       "      <td>0.508729</td>\n",
       "    </tr>\n",
       "    <tr>\n",
       "      <th>2</th>\n",
       "      <td>0.345651</td>\n",
       "      <td>0.357314</td>\n",
       "      <td>0.551049</td>\n",
       "      <td>0.469596</td>\n",
       "    </tr>\n",
       "    <tr>\n",
       "      <th>3</th>\n",
       "      <td>0.553041</td>\n",
       "      <td>0.625299</td>\n",
       "      <td>0.404852</td>\n",
       "      <td>0.547862</td>\n",
       "    </tr>\n",
       "  </tbody>\n",
       "</table>\n",
       "</div>"
      ],
      "text/plain": [
       "      slope  distance2water  elevation  distance2population\n",
       "0  0.311086        0.393045   0.641016             0.469596\n",
       "1  0.691301        0.571702   0.348623             0.508729\n",
       "2  0.345651        0.357314   0.551049             0.469596\n",
       "3  0.553041        0.625299   0.404852             0.547862"
      ]
     },
     "execution_count": 7,
     "metadata": {},
     "output_type": "execute_result"
    }
   ],
   "source": [
    "standardized_evaluation_criteria_df=usda_weight.df_standardized_evaluation(evaluation_criteria_raw_values_df)\n",
    "standardized_evaluation_criteria_df"
   ]
  },
  {
   "cell_type": "markdown",
   "id": "dc486974-720b-49ce-88a2-9734d1a86a8a",
   "metadata": {},
   "source": [
    "然后，确定正理想解（$V^{+}(PIS)$）和负理想解（$ V^{-}(NIS)$），其公式为：$\\begin{aligned} & V^{+}=\\left\\{v_1^{+}, v_2^{+}, \\ldots, v_n^{+}\\right\\}=\\left\\{\\left(\\max _i v_{i j} \\mid j \\in J\\right),\\left(\\min _i v_{i j} \\mid j \\in J^{\\prime}\\right), i=1,2, \\ldots, m\\right\\} \\\\ & V^{-}=\\left\\{v_1^{-}, v_2^{-}, \\ldots, v_n^{-}\\right\\}=\\left\\{\\left(\\min _i v_{i j} \\mid j \\in J\\right),\\left(\\max _i v_{i j} \\mid j \\in J^{\\prime}\\right), i=1,2, \\ldots, m\\right\\}\\end{aligned}$，式中，$J$与收益、最大化或正向评估标准化相关；而$J' $与成本、最小化或反向评估标准相关联。定义`PIS_NIS()`方法实现，对于每个决策准则方向的确定（值越大越好，约趋向正理想解，还是正好相反；负理想解同，通常与正理想解相反），通过传入`pis`参数确定，该参数的形式设计为一个字典，以决策准则（列名）为键，值为1或者0，为1时表明正理想解越大越好；为0时表明正理想解越小越好。负理想解与正理想解相反（由程序内部判断）。例如，对于`slope`决策准则为值越低越好，因此正理想解为0.311为最小值，而负理想解为最大值0.691；对于`distance2population`决策准则值则越大越好，因此正理想解为0.547，而负理想解为0.469。"
   ]
  },
  {
   "cell_type": "code",
   "execution_count": 8,
   "id": "1dbd5d10-8340-4d70-bcef-5e984601e2a3",
   "metadata": {
    "tags": []
   },
   "outputs": [
    {
     "data": {
      "text/html": [
       "<div>\n",
       "<style scoped>\n",
       "    .dataframe tbody tr th:only-of-type {\n",
       "        vertical-align: middle;\n",
       "    }\n",
       "\n",
       "    .dataframe tbody tr th {\n",
       "        vertical-align: top;\n",
       "    }\n",
       "\n",
       "    .dataframe thead th {\n",
       "        text-align: right;\n",
       "    }\n",
       "</style>\n",
       "<table border=\"1\" class=\"dataframe\">\n",
       "  <thead>\n",
       "    <tr style=\"text-align: right;\">\n",
       "      <th></th>\n",
       "      <th>slope</th>\n",
       "      <th>distance2water</th>\n",
       "      <th>elevation</th>\n",
       "      <th>distance2population</th>\n",
       "    </tr>\n",
       "  </thead>\n",
       "  <tbody>\n",
       "    <tr>\n",
       "      <th>V+</th>\n",
       "      <td>0.311086</td>\n",
       "      <td>0.357314</td>\n",
       "      <td>0.348623</td>\n",
       "      <td>0.547862</td>\n",
       "    </tr>\n",
       "    <tr>\n",
       "      <th>V-</th>\n",
       "      <td>0.691301</td>\n",
       "      <td>0.625299</td>\n",
       "      <td>0.641016</td>\n",
       "      <td>0.469596</td>\n",
       "    </tr>\n",
       "  </tbody>\n",
       "</table>\n",
       "</div>"
      ],
      "text/plain": [
       "       slope  distance2water  elevation  distance2population\n",
       "V+  0.311086        0.357314   0.348623             0.547862\n",
       "V-  0.691301        0.625299   0.641016             0.469596"
      ]
     },
     "execution_count": 8,
     "metadata": {},
     "output_type": "execute_result"
    }
   ],
   "source": [
    "pis_nis=usda_weight.PIS_NIS(standardized_evaluation_criteria_df,pis={'slope':0,'distance2water':0,'elevation':0,'distance2population':1})  \n",
    "pis_nis"
   ]
  },
  {
   "cell_type": "markdown",
   "id": "657309cc-8ae5-4597-a543-95700cea9c37",
   "metadata": {},
   "source": [
    "进而，计算各备选方案到正负理想解的距离（$S_i^{+}$和$S_i^{-}$），公式为：$\\begin{aligned} & S_i^{+}=\\left[\\sum_{j=1}^n w_j^p \\cdot\\left(\\left|v_{i j}-v_{i j}^{+}\\right|\\right)^p\\right]^{\\frac{1}{p}} \\\\ & S_i^{-}=\\left[\\sum_{j=1}^n w_j^p \\cdot\\left(\\left|v_{i j}-v_{i j}^{-}\\right|\\right)^p\\right]^{\\frac{1}{p}}\\end{aligned}$，式中，$ w_j$为前文计算的决策准则信息熵权重值，$p$本次实验配置值为2，为欧氏距离度量。\n",
    "\n",
    "最后，计算各备选方案的排序指标值（即综合评价指数）$C_i^{+}$，为到正理想解的相对接近度（ relative closeness），公式为： $C_i^{+}=\\frac{S_i^{-}}{S_i^{+}+S_i^{-}}$。\n",
    "\n",
    "定义`closeness_pis_nis()`方法实现TOPSIS算法，包括决策矩阵标准化、确定正负理想解及距离计算和综合评价指数计算过程。计算结果显示，备选方案2为最优解，是最适合的选择区域。"
   ]
  },
  {
   "cell_type": "code",
   "execution_count": 106,
   "id": "f1ba5b3b-3f33-422f-858a-8c75b8d1400c",
   "metadata": {
    "tags": []
   },
   "outputs": [
    {
     "data": {
      "text/html": [
       "<div>\n",
       "<style scoped>\n",
       "    .dataframe tbody tr th:only-of-type {\n",
       "        vertical-align: middle;\n",
       "    }\n",
       "\n",
       "    .dataframe tbody tr th {\n",
       "        vertical-align: top;\n",
       "    }\n",
       "\n",
       "    .dataframe thead th {\n",
       "        text-align: right;\n",
       "    }\n",
       "</style>\n",
       "<table border=\"1\" class=\"dataframe\">\n",
       "  <thead>\n",
       "    <tr style=\"text-align: right;\">\n",
       "      <th></th>\n",
       "      <th>Si+</th>\n",
       "      <th>Si-</th>\n",
       "      <th>Ci+</th>\n",
       "      <th>Rank</th>\n",
       "    </tr>\n",
       "  </thead>\n",
       "  <tbody>\n",
       "    <tr>\n",
       "      <th>0</th>\n",
       "      <td>0.075341</td>\n",
       "      <td>0.190395</td>\n",
       "      <td>0.716481</td>\n",
       "      <td>2.0</td>\n",
       "    </tr>\n",
       "    <tr>\n",
       "      <th>1</th>\n",
       "      <td>0.189103</td>\n",
       "      <td>0.075979</td>\n",
       "      <td>0.286626</td>\n",
       "      <td>4.0</td>\n",
       "    </tr>\n",
       "    <tr>\n",
       "      <th>2</th>\n",
       "      <td>0.054371</td>\n",
       "      <td>0.179345</td>\n",
       "      <td>0.767362</td>\n",
       "      <td>1.0</td>\n",
       "    </tr>\n",
       "    <tr>\n",
       "      <th>3</th>\n",
       "      <td>0.134021</td>\n",
       "      <td>0.089482</td>\n",
       "      <td>0.400361</td>\n",
       "      <td>3.0</td>\n",
       "    </tr>\n",
       "  </tbody>\n",
       "</table>\n",
       "</div>"
      ],
      "text/plain": [
       "        Si+       Si-       Ci+  Rank\n",
       "0  0.075341  0.190395  0.716481   2.0\n",
       "1  0.189103  0.075979  0.286626   4.0\n",
       "2  0.054371  0.179345  0.767362   1.0\n",
       "3  0.134021  0.089482  0.400361   3.0"
      ]
     },
     "execution_count": 106,
     "metadata": {},
     "output_type": "execute_result"
    }
   ],
   "source": [
    "separation_measure_df=usda_weight.closeness_pis_nis(standardized_evaluation_criteria_df,pis={'slope':0,'distance2water':0,'elevation':0,'distance2population':1},Wj=entropy_weight_df['Wj'])\n",
    "separation_measure_df"
   ]
  },
  {
   "cell_type": "markdown",
   "id": "a3e2d70e-3e44-46ea-9464-af474312f50f",
   "metadata": {},
   "source": [
    "### 3.1.1.2 污染气体浓度数据测量点污染浓度综合指数评估\n",
    "\n",
    "使用“2.7.1 城市环境传感器AoT（SAGE）数据预处理” 一章中处理后的数据，就污染气体（CO, H2S, NO2, O3, SO2, oxidizing_gases和reducing_gases）浓度值评估不同测量点位污染的综合指数，最优解的测量点位应该是各类污染气体浓度值相对最低的区域。\n",
    "\n",
    "参数管理使用`AttrDict()方法`（具体查看“Cityscapes数据集——参数管理”一节），将该方法写入到`USDA`库中，方便调用。"
   ]
  },
  {
   "cell_type": "code",
   "execution_count": 10,
   "id": "a4f16ef3-dc91-441e-ad53-f625a50a6e42",
   "metadata": {
    "tags": []
   },
   "outputs": [],
   "source": [
    "__C=usda_utils.AttrDict() \n",
    "args=__C\n",
    "\n",
    "__C.db=usda_utils.AttrDict() \n",
    "__C.db.UN='postgres'\n",
    "__C.db.PW='123456'\n",
    "__C.db.DB='AoT_20220831'\n",
    "__C.db.GC='geometry' \n",
    "__C.db.db_info=dict(geom_col=args.db.GC,myusername=args.db.UN,mypassword=args.db.PW,mydatabase=args.db.DB)"
   ]
  },
  {
   "cell_type": "code",
   "execution_count": 11,
   "id": "b78c3f01-9bc0-4552-905d-a0e9dee49150",
   "metadata": {
    "tags": []
   },
   "outputs": [
    {
     "name": "stdout",
     "output_type": "stream",
     "text": [
      "__________________________________________________\n",
      "The data has been read from PostgreSQL database. The table name is concentration.\n"
     ]
    }
   ],
   "source": [
    "gas_concentration_gdf=postSQL2gpd(table_name=\"concentration\",**args.db.db_info)"
   ]
  },
  {
   "cell_type": "code",
   "execution_count": 13,
   "id": "d34550ec-c69d-4fec-8c16-f835e9a8ab01",
   "metadata": {
    "tags": []
   },
   "outputs": [
    {
     "data": {
      "text/html": [
       "<div>\n",
       "<style scoped>\n",
       "    .dataframe tbody tr th:only-of-type {\n",
       "        vertical-align: middle;\n",
       "    }\n",
       "\n",
       "    .dataframe tbody tr th {\n",
       "        vertical-align: top;\n",
       "    }\n",
       "\n",
       "    .dataframe thead th {\n",
       "        text-align: right;\n",
       "    }\n",
       "</style>\n",
       "<table border=\"1\" class=\"dataframe\">\n",
       "  <thead>\n",
       "    <tr style=\"text-align: right;\">\n",
       "      <th></th>\n",
       "      <th>timestamp</th>\n",
       "      <th>node_id</th>\n",
       "      <th>subsystem</th>\n",
       "      <th>sensor</th>\n",
       "      <th>parameter</th>\n",
       "      <th>value_hrf_sum</th>\n",
       "      <th>value_hrf_count</th>\n",
       "      <th>value_hrf_average</th>\n",
       "      <th>value_hrf_min</th>\n",
       "      <th>value_hrf_max</th>\n",
       "      <th>project_id</th>\n",
       "      <th>vsn</th>\n",
       "      <th>address</th>\n",
       "      <th>lat</th>\n",
       "      <th>lon</th>\n",
       "      <th>description</th>\n",
       "      <th>start_timestamp</th>\n",
       "      <th>end_timestamp</th>\n",
       "      <th>geometry</th>\n",
       "      <th>ts</th>\n",
       "    </tr>\n",
       "  </thead>\n",
       "  <tbody>\n",
       "    <tr>\n",
       "      <th>0</th>\n",
       "      <td>2020/01/01 00:30:00</td>\n",
       "      <td>001e0610ee43</td>\n",
       "      <td>chemsense</td>\n",
       "      <td>co</td>\n",
       "      <td>concentration</td>\n",
       "      <td>6.383</td>\n",
       "      <td>77</td>\n",
       "      <td>0.083</td>\n",
       "      <td>0.001</td>\n",
       "      <td>0.281</td>\n",
       "      <td>AoT_Chicago</td>\n",
       "      <td>08B</td>\n",
       "      <td>UChicago Chicago IL</td>\n",
       "      <td>41.788608</td>\n",
       "      <td>-87.598713</td>\n",
       "      <td>AoT Chicago (S) [C] {UChicago}</td>\n",
       "      <td>2018/02/23 00:00:00</td>\n",
       "      <td>None</td>\n",
       "      <td>POINT (450252.141 4626479.257)</td>\n",
       "      <td>2020-01-01 00:30:00</td>\n",
       "    </tr>\n",
       "    <tr>\n",
       "      <th>1</th>\n",
       "      <td>2020/01/01 00:30:00</td>\n",
       "      <td>001e061183f5</td>\n",
       "      <td>chemsense</td>\n",
       "      <td>co</td>\n",
       "      <td>concentration</td>\n",
       "      <td>7.711</td>\n",
       "      <td>53</td>\n",
       "      <td>0.145</td>\n",
       "      <td>0.009</td>\n",
       "      <td>0.457</td>\n",
       "      <td>AoT_Chicago</td>\n",
       "      <td>0BF</td>\n",
       "      <td>111th &amp; Michigan Ave Chicago IL</td>\n",
       "      <td>41.692703</td>\n",
       "      <td>-87.621020</td>\n",
       "      <td>AoT Chicago (S) [CP]</td>\n",
       "      <td>2019/06/24 00:00:00</td>\n",
       "      <td>None</td>\n",
       "      <td>POINT (448321.777 4615844.593)</td>\n",
       "      <td>2020-01-01 00:30:00</td>\n",
       "    </tr>\n",
       "    <tr>\n",
       "      <th>2</th>\n",
       "      <td>2020/01/01 00:30:00</td>\n",
       "      <td>001e061183f5</td>\n",
       "      <td>chemsense</td>\n",
       "      <td>h2s</td>\n",
       "      <td>concentration</td>\n",
       "      <td>223.790</td>\n",
       "      <td>143</td>\n",
       "      <td>1.565</td>\n",
       "      <td>1.244</td>\n",
       "      <td>1.929</td>\n",
       "      <td>AoT_Chicago</td>\n",
       "      <td>0BF</td>\n",
       "      <td>111th &amp; Michigan Ave Chicago IL</td>\n",
       "      <td>41.692703</td>\n",
       "      <td>-87.621020</td>\n",
       "      <td>AoT Chicago (S) [CP]</td>\n",
       "      <td>2019/06/24 00:00:00</td>\n",
       "      <td>None</td>\n",
       "      <td>POINT (448321.777 4615844.593)</td>\n",
       "      <td>2020-01-01 00:30:00</td>\n",
       "    </tr>\n",
       "  </tbody>\n",
       "</table>\n",
       "</div>"
      ],
      "text/plain": [
       "             timestamp       node_id  subsystem sensor      parameter  \\\n",
       "0  2020/01/01 00:30:00  001e0610ee43  chemsense     co  concentration   \n",
       "1  2020/01/01 00:30:00  001e061183f5  chemsense     co  concentration   \n",
       "2  2020/01/01 00:30:00  001e061183f5  chemsense    h2s  concentration   \n",
       "\n",
       "   value_hrf_sum  value_hrf_count  value_hrf_average  value_hrf_min  \\\n",
       "0          6.383               77              0.083          0.001   \n",
       "1          7.711               53              0.145          0.009   \n",
       "2        223.790              143              1.565          1.244   \n",
       "\n",
       "   value_hrf_max   project_id  vsn                          address  \\\n",
       "0          0.281  AoT_Chicago  08B              UChicago Chicago IL   \n",
       "1          0.457  AoT_Chicago  0BF  111th & Michigan Ave Chicago IL   \n",
       "2          1.929  AoT_Chicago  0BF  111th & Michigan Ave Chicago IL   \n",
       "\n",
       "         lat        lon                     description      start_timestamp  \\\n",
       "0  41.788608 -87.598713  AoT Chicago (S) [C] {UChicago}  2018/02/23 00:00:00   \n",
       "1  41.692703 -87.621020            AoT Chicago (S) [CP]  2019/06/24 00:00:00   \n",
       "2  41.692703 -87.621020            AoT Chicago (S) [CP]  2019/06/24 00:00:00   \n",
       "\n",
       "  end_timestamp                        geometry                  ts  \n",
       "0          None  POINT (450252.141 4626479.257) 2020-01-01 00:30:00  \n",
       "1          None  POINT (448321.777 4615844.593) 2020-01-01 00:30:00  \n",
       "2          None  POINT (448321.777 4615844.593) 2020-01-01 00:30:00  "
      ]
     },
     "execution_count": 13,
     "metadata": {},
     "output_type": "execute_result"
    }
   ],
   "source": [
    "gas_concentration_gdf.head(3)"
   ]
  },
  {
   "cell_type": "markdown",
   "id": "1b0bacd3-9004-4cf3-a392-3a27be8299cf",
   "metadata": {},
   "source": [
    "计算读取的`gas_concentration_gdf`时间序列数据为各个测量点位各类污染气体的年均值，以各类气体污染浓度为决策准则，以测量点位（`node_id`）为备选方案。"
   ]
  },
  {
   "cell_type": "code",
   "execution_count": 15,
   "id": "8b991a23-5738-4077-8dda-4e402bdd0ed9",
   "metadata": {
    "tags": []
   },
   "outputs": [
    {
     "name": "stdout",
     "output_type": "stream",
     "text": [
      "(17, 8)\n"
     ]
    },
    {
     "data": {
      "text/html": [
       "<div>\n",
       "<style scoped>\n",
       "    .dataframe tbody tr th:only-of-type {\n",
       "        vertical-align: middle;\n",
       "    }\n",
       "\n",
       "    .dataframe tbody tr th {\n",
       "        vertical-align: top;\n",
       "    }\n",
       "\n",
       "    .dataframe thead th {\n",
       "        text-align: right;\n",
       "    }\n",
       "</style>\n",
       "<table border=\"1\" class=\"dataframe\">\n",
       "  <thead>\n",
       "    <tr style=\"text-align: right;\">\n",
       "      <th></th>\n",
       "      <th>co</th>\n",
       "      <th>h2s</th>\n",
       "      <th>no2</th>\n",
       "      <th>o3</th>\n",
       "      <th>oxidizing_gases</th>\n",
       "      <th>reducing_gases</th>\n",
       "      <th>so2</th>\n",
       "      <th>geometry</th>\n",
       "    </tr>\n",
       "    <tr>\n",
       "      <th>node_id</th>\n",
       "      <th></th>\n",
       "      <th></th>\n",
       "      <th></th>\n",
       "      <th></th>\n",
       "      <th></th>\n",
       "      <th></th>\n",
       "      <th></th>\n",
       "      <th></th>\n",
       "    </tr>\n",
       "  </thead>\n",
       "  <tbody>\n",
       "    <tr>\n",
       "      <th>001e0610ee43</th>\n",
       "      <td>0.100156</td>\n",
       "      <td>0.016942</td>\n",
       "      <td>0.005921</td>\n",
       "      <td>0.002911</td>\n",
       "      <td>0.100419</td>\n",
       "      <td>0.023512</td>\n",
       "      <td>0.155692</td>\n",
       "      <td>POINT (450252.141 4626479.257)</td>\n",
       "    </tr>\n",
       "    <tr>\n",
       "      <th>001e06113107</th>\n",
       "      <td>1.381645</td>\n",
       "      <td>0.042800</td>\n",
       "      <td>0.005717</td>\n",
       "      <td>0.002976</td>\n",
       "      <td>0.715194</td>\n",
       "      <td>0.088307</td>\n",
       "      <td>0.304424</td>\n",
       "      <td>POINT (440722.179 4622392.015)</td>\n",
       "    </tr>\n",
       "    <tr>\n",
       "      <th>001e06117b41</th>\n",
       "      <td>0.191377</td>\n",
       "      <td>0.349793</td>\n",
       "      <td>0.014280</td>\n",
       "      <td>0.004547</td>\n",
       "      <td>1.306005</td>\n",
       "      <td>0.419687</td>\n",
       "      <td>0.547236</td>\n",
       "      <td>POINT (448297.079 4626171.925)</td>\n",
       "    </tr>\n",
       "  </tbody>\n",
       "</table>\n",
       "</div>"
      ],
      "text/plain": [
       "                    co       h2s       no2        o3  oxidizing_gases  \\\n",
       "node_id                                                                 \n",
       "001e0610ee43  0.100156  0.016942  0.005921  0.002911         0.100419   \n",
       "001e06113107  1.381645  0.042800  0.005717  0.002976         0.715194   \n",
       "001e06117b41  0.191377  0.349793  0.014280  0.004547         1.306005   \n",
       "\n",
       "              reducing_gases       so2                        geometry  \n",
       "node_id                                                                 \n",
       "001e0610ee43        0.023512  0.155692  POINT (450252.141 4626479.257)  \n",
       "001e06113107        0.088307  0.304424  POINT (440722.179 4622392.015)  \n",
       "001e06117b41        0.419687  0.547236  POINT (448297.079 4626171.925)  "
      ]
     },
     "execution_count": 15,
     "metadata": {},
     "output_type": "execute_result"
    }
   ],
   "source": [
    "gas_grouped=gas_concentration_gdf.groupby(['node_id','sensor']).agg({'value_hrf_average':'mean','geometry':'first'})\n",
    "gas_grouuped_val=gas_grouped['value_hrf_average'].unstack(level=1)\n",
    "gas_grouuped_val.dropna(axis=0,how='any',inplace=True)\n",
    "\n",
    "gas_grouped_geometry=gas_grouped['geometry']\n",
    "gas_grouped_geometry_series=gas_grouped_geometry[~gas_grouped_geometry.index.get_level_values(0).duplicated(keep='last')].droplevel(level=1)\n",
    "\n",
    "gas_concentration_grouuped_gdf=gas_grouuped_val.join(gas_grouped_geometry_series).set_geometry('geometry',crs=gas_concentration_gdf.crs)\n",
    "print(gas_concentration_grouuped_gdf.shape)\n",
    "gas_concentration_grouuped_gdf.head(3)"
   ]
  },
  {
   "cell_type": "markdown",
   "id": "4af428ac-5587-487d-9543-d18e6f5feab6",
   "metadata": {},
   "source": [
    "读取芝加哥城的行政区划数据，方便测量单位分布位置的查看。"
   ]
  },
  {
   "cell_type": "code",
   "execution_count": 16,
   "id": "74b06dde-817b-49f9-abce-fd6c02467dfd",
   "metadata": {
    "tags": []
   },
   "outputs": [
    {
     "name": "stdout",
     "output_type": "stream",
     "text": [
      "__________________________________________________\n",
      "The data has been read from PostgreSQL database. The table name is chicago_community_areas.\n"
     ]
    }
   ],
   "source": [
    "chicago_community_areas=postSQL2gpd(table_name='chicago_community_areas',**args.db.db_info)  "
   ]
  },
  {
   "cell_type": "markdown",
   "id": "d05ed5ca-b889-4ddb-8562-22ef5cdf6bd1",
   "metadata": {},
   "source": [
    "应用上述定义的熵值权重法和TOPSIS算法，计算污染气体浓度下的MCDM问题。从计算结果来看，测量点位`001e0611856d`为最优方案，各类气体污染浓度相对较小。"
   ]
  },
  {
   "cell_type": "code",
   "execution_count": 231,
   "id": "dcd8398b-5be9-41f6-a2f5-709e9af9e714",
   "metadata": {
    "tags": []
   },
   "outputs": [
    {
     "data": {
      "text/html": [
       "<div>\n",
       "<style scoped>\n",
       "    .dataframe tbody tr th:only-of-type {\n",
       "        vertical-align: middle;\n",
       "    }\n",
       "\n",
       "    .dataframe tbody tr th {\n",
       "        vertical-align: top;\n",
       "    }\n",
       "\n",
       "    .dataframe thead th {\n",
       "        text-align: right;\n",
       "    }\n",
       "</style>\n",
       "<table border=\"1\" class=\"dataframe\">\n",
       "  <thead>\n",
       "    <tr style=\"text-align: right;\">\n",
       "      <th></th>\n",
       "      <th>Si+</th>\n",
       "      <th>Si-</th>\n",
       "      <th>Ci+</th>\n",
       "      <th>Rank</th>\n",
       "      <th>node_id</th>\n",
       "    </tr>\n",
       "  </thead>\n",
       "  <tbody>\n",
       "    <tr>\n",
       "      <th>0</th>\n",
       "      <td>0.003842</td>\n",
       "      <td>0.426265</td>\n",
       "      <td>0.991068</td>\n",
       "      <td>2.0</td>\n",
       "      <td>001e0610ee43</td>\n",
       "    </tr>\n",
       "    <tr>\n",
       "      <th>1</th>\n",
       "      <td>0.009027</td>\n",
       "      <td>0.420979</td>\n",
       "      <td>0.979008</td>\n",
       "      <td>4.0</td>\n",
       "      <td>001e06113107</td>\n",
       "    </tr>\n",
       "    <tr>\n",
       "      <th>2</th>\n",
       "      <td>0.025925</td>\n",
       "      <td>0.415602</td>\n",
       "      <td>0.941282</td>\n",
       "      <td>14.0</td>\n",
       "      <td>001e06117b41</td>\n",
       "    </tr>\n",
       "    <tr>\n",
       "      <th>3</th>\n",
       "      <td>0.016292</td>\n",
       "      <td>0.415278</td>\n",
       "      <td>0.962251</td>\n",
       "      <td>11.0</td>\n",
       "      <td>001e06117b44</td>\n",
       "    </tr>\n",
       "    <tr>\n",
       "      <th>4</th>\n",
       "      <td>0.008117</td>\n",
       "      <td>0.421103</td>\n",
       "      <td>0.981090</td>\n",
       "      <td>3.0</td>\n",
       "      <td>001e0611804d</td>\n",
       "    </tr>\n",
       "    <tr>\n",
       "      <th>5</th>\n",
       "      <td>0.020310</td>\n",
       "      <td>0.416891</td>\n",
       "      <td>0.953546</td>\n",
       "      <td>13.0</td>\n",
       "      <td>001e06118182</td>\n",
       "    </tr>\n",
       "    <tr>\n",
       "      <th>6</th>\n",
       "      <td>0.012700</td>\n",
       "      <td>0.424827</td>\n",
       "      <td>0.970974</td>\n",
       "      <td>8.0</td>\n",
       "      <td>001e06118295</td>\n",
       "    </tr>\n",
       "    <tr>\n",
       "      <th>7</th>\n",
       "      <td>0.012010</td>\n",
       "      <td>0.420971</td>\n",
       "      <td>0.972261</td>\n",
       "      <td>7.0</td>\n",
       "      <td>001e061182a2</td>\n",
       "    </tr>\n",
       "    <tr>\n",
       "      <th>8</th>\n",
       "      <td>0.016872</td>\n",
       "      <td>0.421351</td>\n",
       "      <td>0.961500</td>\n",
       "      <td>12.0</td>\n",
       "      <td>001e061182a7</td>\n",
       "    </tr>\n",
       "    <tr>\n",
       "      <th>9</th>\n",
       "      <td>0.009138</td>\n",
       "      <td>0.424579</td>\n",
       "      <td>0.978931</td>\n",
       "      <td>5.0</td>\n",
       "      <td>001e061183bf</td>\n",
       "    </tr>\n",
       "    <tr>\n",
       "      <th>10</th>\n",
       "      <td>0.038781</td>\n",
       "      <td>0.407858</td>\n",
       "      <td>0.913172</td>\n",
       "      <td>15.0</td>\n",
       "      <td>001e061183f3</td>\n",
       "    </tr>\n",
       "    <tr>\n",
       "      <th>11</th>\n",
       "      <td>0.316724</td>\n",
       "      <td>0.272641</td>\n",
       "      <td>0.462601</td>\n",
       "      <td>17.0</td>\n",
       "      <td>001e061183f5</td>\n",
       "    </tr>\n",
       "    <tr>\n",
       "      <th>12</th>\n",
       "      <td>0.014791</td>\n",
       "      <td>0.424615</td>\n",
       "      <td>0.966340</td>\n",
       "      <td>9.0</td>\n",
       "      <td>001e06118433</td>\n",
       "    </tr>\n",
       "    <tr>\n",
       "      <th>13</th>\n",
       "      <td>0.296861</td>\n",
       "      <td>0.279669</td>\n",
       "      <td>0.485090</td>\n",
       "      <td>16.0</td>\n",
       "      <td>001e061184a3</td>\n",
       "    </tr>\n",
       "    <tr>\n",
       "      <th>14</th>\n",
       "      <td>0.014759</td>\n",
       "      <td>0.422157</td>\n",
       "      <td>0.966221</td>\n",
       "      <td>10.0</td>\n",
       "      <td>001e06118501</td>\n",
       "    </tr>\n",
       "    <tr>\n",
       "      <th>15</th>\n",
       "      <td>0.011269</td>\n",
       "      <td>0.422414</td>\n",
       "      <td>0.974015</td>\n",
       "      <td>6.0</td>\n",
       "      <td>001e0611850f</td>\n",
       "    </tr>\n",
       "    <tr>\n",
       "      <th>16</th>\n",
       "      <td>0.002697</td>\n",
       "      <td>0.425934</td>\n",
       "      <td>0.993708</td>\n",
       "      <td>1.0</td>\n",
       "      <td>001e0611856d</td>\n",
       "    </tr>\n",
       "  </tbody>\n",
       "</table>\n",
       "</div>"
      ],
      "text/plain": [
       "         Si+       Si-       Ci+  Rank       node_id\n",
       "0   0.003842  0.426265  0.991068   2.0  001e0610ee43\n",
       "1   0.009027  0.420979  0.979008   4.0  001e06113107\n",
       "2   0.025925  0.415602  0.941282  14.0  001e06117b41\n",
       "3   0.016292  0.415278  0.962251  11.0  001e06117b44\n",
       "4   0.008117  0.421103  0.981090   3.0  001e0611804d\n",
       "5   0.020310  0.416891  0.953546  13.0  001e06118182\n",
       "6   0.012700  0.424827  0.970974   8.0  001e06118295\n",
       "7   0.012010  0.420971  0.972261   7.0  001e061182a2\n",
       "8   0.016872  0.421351  0.961500  12.0  001e061182a7\n",
       "9   0.009138  0.424579  0.978931   5.0  001e061183bf\n",
       "10  0.038781  0.407858  0.913172  15.0  001e061183f3\n",
       "11  0.316724  0.272641  0.462601  17.0  001e061183f5\n",
       "12  0.014791  0.424615  0.966340   9.0  001e06118433\n",
       "13  0.296861  0.279669  0.485090  16.0  001e061184a3\n",
       "14  0.014759  0.422157  0.966221  10.0  001e06118501\n",
       "15  0.011269  0.422414  0.974015   6.0  001e0611850f\n",
       "16  0.002697  0.425934  0.993708   1.0  001e0611856d"
      ]
     },
     "execution_count": 231,
     "metadata": {},
     "output_type": "execute_result"
    }
   ],
   "source": [
    "entropy_weight_gas_grouuped_val=usda_weight.entropy_weight(gas_grouuped_val)\n",
    "standardized_evaluation_criteria_gas_grouuped_val=usda_weight.df_standardized_evaluation(gas_grouuped_val)\n",
    "pis={col:0 for col in gas_grouuped_val.columns}\n",
    "separation_measure_gas_grouuped=usda_weight.closeness_pis_nis(standardized_evaluation_criteria_gas_grouuped_val,pis=pis,Wj=entropy_weight_gas_grouuped_val['Wj'])\n",
    "separation_measure_gas_grouuped['node_id']=gas_grouuped_val.index\n",
    "separation_measure_gas_grouuped"
   ]
  },
  {
   "cell_type": "markdown",
   "id": "18f1addf-56a8-4743-810a-49bbc6e4700d",
   "metadata": {},
   "source": [
    "打印测量点位，并标识污染浓度综合指数（距理想解的排序）。"
   ]
  },
  {
   "cell_type": "code",
   "execution_count": 235,
   "id": "9ef086fa-bb1a-4337-afd0-578841c9984d",
   "metadata": {
    "tags": []
   },
   "outputs": [
    {
     "data": {
      "image/png": "[encoded data removed]",
      "text/plain": [
       "<Figure size 700x1500 with 1 Axes>"
      ]
     },
     "metadata": {},
     "output_type": "display_data"
    }
   ],
   "source": [
    "fig, ax=plt.subplots(figsize=(7,15))\n",
    "chicago_community_areas.plot(ax=ax,color='white', edgecolor='gray')\n",
    "gas_concentration_grouuped_gdf.plot(ax=ax,markersize=30,legend=True,legend_kwds={'loc': 'lower left'},c='r')\n",
    "\n",
    "for x, y, label in zip(gas_concentration_grouuped_gdf.geometry.x, gas_concentration_grouuped_gdf.geometry.y,separation_measure_gas_grouuped.Rank.astype(int)):\n",
    "    ax.annotate(label, xy=(x, y), xytext=(3, 3), textcoords=\"offset points\",fontsize=7)\n",
    "\n",
    "ax.axis('off')\n",
    "plt.show()"
   ]
  },
  {
   "cell_type": "markdown",
   "id": "35d6d2e1-8c82-457f-afba-772e3f76df12",
   "metadata": {},
   "source": [
    "为了查看第1排名（最优方案）和最后排名测量点的场地环境情况，可以下载街道全景图（Street View panorama），一种方式是从[Google Developers Console_Street View Static API](https://console.cloud.google.com/apis/dashboard?pli=1&project=gsv-streetscape) 支付下载；或者从[istreetview](https://istreetview.com/)通过节点坐标获取全景图索引（PanoID），然后用[Street View Download 360](https://svd360.istreetview.com/)辅助工具下载。将下载的等量矩形投影图转换为球面全景图查看，使用[mayavi](https://docs.enthought.com/mayavi/mayavi/)库定义`sphere_panorama_label()`方法实现。\n",
    "\n",
    "在进一步的分析中，可以结合土地利用、土地覆盖数据，全景图语义分割后视域指标（绿视率等）、分析与测量点位污染浓度综合指数的关系。"
   ]
  },
  {
   "cell_type": "code",
   "execution_count": 247,
   "id": "45a12cb2-d9a4-4cfd-9042-ed2a2eea2295",
   "metadata": {
    "tags": []
   },
   "outputs": [],
   "source": [
    "pano_1_fn='../data/panorama_AoT/001e0611856d.jpg'\n",
    "# pano_17_fn='../data/panorama_AoT/001e061183f5.jpg'\n",
    "usda_vis.sphere_panorama_label(pano_17_fn)"
   ]
  },
  {
   "cell_type": "markdown",
   "id": "d211e2d6-f890-4e90-b666-778a8aa55bdd",
   "metadata": {},
   "source": [
    "<img src=\"../imgs/3_1/3_1_01_s.gif\" height='auto' width=500 title=\"caDesign\"><img src=\"../imgs/3_1/3_1_02_s.gif\" height='auto' width=500 title=\"caDesign\">"
   ]
  },
  {
   "cell_type": "markdown",
   "id": "da605876-5997-4650-8837-5e76c7b0a93a",
   "metadata": {},
   "source": [
    "## 3.1.2 MCDM算法集成——pyDecision\n",
    "\n",
    "Valdecy Pereira在构建`pyDecision`Python工具包时，对MCDM众多算法均给出了[Colab Demo](https://github.com/Valdecy/pyDecision)代码操作案例，方便快速的学习和应用对应算法于实际的实验研究中；同时给出了算法的出处（研究论文），方便查看和理解具体算法的计算过程。下表引入了对各类算法的简要说明：\n",
    "\n",
    "| 序号  | 算法名  | 论文名  |所引论文发表时间  |潜在问题   |\n",
    "|---|---|---|---|---|\n",
    "|  1 |AHP（Analytic Hierarchy Process），层次分析法   |How to make a decision: The Analytic Hierarchy Process<sup>[Saaty, T. L. & Katz, J. M. How to make a decision: The Analytic Hierarchy Process. European Journal of Operational Research vol. 48 (1990).]</sup>   |  1990 |1. 断矩阵一致性检验缺乏科学依据且过程繁琐； </br>2. 1-9标度不能反映人的主观判断的模糊性 |\n",
    "|  2 |F-AHP （Fuzzy analytic hierarchy process） ，模糊层次分析法  | A fuzzy AHP approach for supplier selection problem: a case study in a gearmotor company  <sup>[Ayhan, M. B. A Fuzzy Ahp Approach For Supplier Selection Problem: A Case Study In A Gearmotor Company. International Journal of Managing Value and Supply Chains 4, 11–23 (2013).]</sup>  | 2013  | Saaty, T. L.对F-AHP有效性的讨论<sup>[Saaty, T. L. There is no mathematical validity for using fuzzy number crunching in the analytic hierarchy process. J Syst Sci Syst Eng 15, 457–464 (2006).][Saaty, T. L. & Tran, L. T. On the invalidity of fuzzifying numerical judgments in the Analytic Hierarchy Process. Math Comput Model 46, 962–975 (2007).][Saaty, T. L. & Tran, L. T. Fuzzy Judgments and Fuzzy Sets. International Journal of Strategic Decision Sciences 1, 23–40 (2010).]</sup>：</br>1.缺乏数理有效性；</br>2. 模糊化判断矩阵意义不大；</br>3.改善一致性但没有考虑结果的有效性    |\n",
    "|  3 | ARAS （Additive Ratio Assessment ）  | A new additive ratio assessment (ARAS) method in multicriteria decision‐making<sup>[Zavadskas, E. K. & Turskis, Z. A new additive ratio assessment (ARAS) method in multicriteria decision-making. Technological and Economic Development of Economy 16, 159–172 (2010).]</sup>  | 2010  | 考虑决策矩阵测量值标准化和决策准则优化方向的较为常规综合评价指标计算方法  |\n",
    "|  4 |  Borda | Mémoire sur les élections au scrutin *（投票选举简介）<sup>[Par M. SUR LES ÉLECTIONS AU SCRUTIN *. Des sciences (1781).]</sup>  | 1781  |  / |\n",
    "|  5 |  BWM（Best-worst multi-criteria decision-making method），最优最劣法 |  Best-worst multi-criteria decision-making method<sup>Rezaei, J. Best-worst multi-criteria decision-making method. Omega (United Kingdom) 53, 49–57 (2015).</sup> |  2015 |   |\n",
    "|  6 |   |   |   |   |\n",
    "|  7 |   |   |   |   |\n",
    "|  8 |   |   |   |   |\n",
    "|  9 |   |   |   |   |\n",
    "|  10 |   |   |   |   |\n",
    "|   |   |   |   |   |\n",
    "|   |   |   |   |   |\n",
    "|   |   |   |   |   |\n",
    "|   |   |   |   |   |\n"
   ]
  },
  {
   "cell_type": "markdown",
   "id": "5749557c-4217-42d1-90ed-c86e95f1e6ea",
   "metadata": {
    "tags": []
   },
   "source": [
    "### 3.1.2.1   再现 AHP 算法\n",
    "\n",
    "再现Thomas L. Saaty在论文中给出的第一个案例（购房选择问题），阐释AHP算法。为了方便应用 AHP 算法，定义`AHP`类可以方便构建判断矩阵，计算权重矩阵和一致性指数，及总的得分。\n",
    "\n",
    "对于这个购房选择问题，包括8个决策准则，由变量`criteria`给出；3个备选方案，由变量`alternatives`给出。首先是要构建两类两两比较矩阵（判断矩阵），一个是决策准则对于分析目标的重要性排序，为决策准则之间的两两比较；另一个是对于每一个决策准则，例如对于`size_of_house`而言，3个备选方案比较这一`size_of_house`这一决策准则，哪个备选方案的房子相对会大一些。为了方便和规范比较方式和比较值，作者给出了度量标度，如表：\n",
    "\n",
    "|标度（Intensity of importance on an absolute scale）   |  定义（Definition）  | 解释（Explanation）  |\n",
    "|---|---|---|\n",
    "| 1  |  Equal importance（同样重要性）   |  Two activities contribute equally to the objective  |\n",
    "| 3  |  Moderate importance of one over another（一个因素比另一个因素稍微重要）   |  Experience and judgment strongly favor one activity over another  |\n",
    "| 5  | Essential or strong importance（一个因素比另一个因素明显重要）    | Experience and judgement strongly favor one activity over another  |\n",
    "| 7  |  Very strong importance（一个因素比另一个因素强烈重要） | An activity is strongly favored and its dominance demonstrated in practice   |\n",
    "| 9  |  Extreme importance（一个因素比另一个因素极端重要） | The evidence favoring one activity over another is of tile highest possible order of affirmation   |\n",
    "| 2，4，6，8  |Intermediate values between the two adjacent judgments（上述两相邻判断的中值）    |  When compromise is needed  |\n",
    "| 倒数（Reciprocals）   |   | If activity i has one of the above numbers assigned to it when compared with activity j, then j has the reciprocal value when compared with i （如果因素 i 与因素 j 相比分配了上述数字之一，则 j 与 i 相比为倒数），例如$a_{ij}=3 $，则$a_{ji}=1/3 $  |\n",
    "| 有理数（Rationals ）  |  Ratios arising from the scale  |  If consistency were to be forced by obtaining n numerical values to span the matrix  |\n",
    "\n",
    "\n",
    "为了方便判断矩阵的输入，定义了`criteria_pairs_lst()`和`alternative_pairs()`方法生成`criteria_pairs_lst`和`alternative_pairs_lst`类属性，可以查看对于定义的类`AHP`两两比较输入的顺序。输入时为字符串形式输入，是为了应用`fractions`库提供的`Fraction`方法显示为分数形式，而不是浮点数。因为判断矩阵为正互反矩阵（reciprocal matrix），如$A=(a_{ij}),  a_{ij}= w_{i}/ w_{j};i,j=1, \\ldots ,n$，有$a_{ij} \\times a_{ji}=1$，因此倒数部分可以书写代码自动生成。"
   ]
  },
  {
   "cell_type": "code",
   "execution_count": 3,
   "id": "831c226c-3652-4d27-a042-1de974cbc9b4",
   "metadata": {
    "tags": []
   },
   "outputs": [],
   "source": [
    "criteria=['size_of_house','location_to_bus_line','neighborhood','age_of_house','yard_space','modern_facilities','general_condition','financing_available']\n",
    "alternatives=['A','B','C']      \n",
    "\n",
    "choosing_best_house=usda_weight.AHP(criteria,alternatives)  "
   ]
  },
  {
   "cell_type": "code",
   "execution_count": 4,
   "id": "e97adc43-1c1e-4d9c-b538-3f6e64c2fb1a",
   "metadata": {
    "tags": []
   },
   "outputs": [
    {
     "data": {
      "text/plain": [
       "[('size_of_house', 'location_to_bus_line'),\n",
       " ('size_of_house', 'neighborhood'),\n",
       " ('size_of_house', 'age_of_house'),\n",
       " ('size_of_house', 'yard_space'),\n",
       " ('size_of_house', 'modern_facilities'),\n",
       " ('size_of_house', 'general_condition'),\n",
       " ('size_of_house', 'financing_available'),\n",
       " ('location_to_bus_line', 'neighborhood'),\n",
       " ('location_to_bus_line', 'age_of_house'),\n",
       " ('location_to_bus_line', 'yard_space'),\n",
       " ('location_to_bus_line', 'modern_facilities'),\n",
       " ('location_to_bus_line', 'general_condition'),\n",
       " ('location_to_bus_line', 'financing_available'),\n",
       " ('neighborhood', 'age_of_house'),\n",
       " ('neighborhood', 'yard_space'),\n",
       " ('neighborhood', 'modern_facilities'),\n",
       " ('neighborhood', 'general_condition'),\n",
       " ('neighborhood', 'financing_available'),\n",
       " ('age_of_house', 'yard_space'),\n",
       " ('age_of_house', 'modern_facilities'),\n",
       " ('age_of_house', 'general_condition'),\n",
       " ('age_of_house', 'financing_available'),\n",
       " ('yard_space', 'modern_facilities'),\n",
       " ('yard_space', 'general_condition'),\n",
       " ('yard_space', 'financing_available'),\n",
       " ('modern_facilities', 'general_condition'),\n",
       " ('modern_facilities', 'financing_available'),\n",
       " ('general_condition', 'financing_available')]"
      ]
     },
     "execution_count": 4,
     "metadata": {},
     "output_type": "execute_result"
    }
   ],
   "source": [
    "choosing_best_house.criteria_pairs_lst"
   ]
  },
  {
   "cell_type": "markdown",
   "id": "e558662c-bf07-453f-b0d7-829bac558785",
   "metadata": {},
   "source": [
    "按照上述`criteria_pairs_lst`对顺序确定两两比较的标度，通过`pairwise_comparison_matrix()`方法构建决策准则自身之间的比较矩阵，其中参数`alternatives_criteria`为确定生成两类判断矩阵的哪类。"
   ]
  },
  {
   "cell_type": "code",
   "execution_count": 5,
   "id": "f4b3de60-19e1-42a6-a9a3-2727ad86acce",
   "metadata": {
    "tags": []
   },
   "outputs": [
    {
     "data": {
      "text/html": [
       "<div>\n",
       "<style scoped>\n",
       "    .dataframe tbody tr th:only-of-type {\n",
       "        vertical-align: middle;\n",
       "    }\n",
       "\n",
       "    .dataframe tbody tr th {\n",
       "        vertical-align: top;\n",
       "    }\n",
       "\n",
       "    .dataframe thead th {\n",
       "        text-align: right;\n",
       "    }\n",
       "</style>\n",
       "<table border=\"1\" class=\"dataframe\">\n",
       "  <thead>\n",
       "    <tr style=\"text-align: right;\">\n",
       "      <th></th>\n",
       "      <th>size_of_house</th>\n",
       "      <th>location_to_bus_line</th>\n",
       "      <th>neighborhood</th>\n",
       "      <th>age_of_house</th>\n",
       "      <th>yard_space</th>\n",
       "      <th>modern_facilities</th>\n",
       "      <th>general_condition</th>\n",
       "      <th>financing_available</th>\n",
       "    </tr>\n",
       "  </thead>\n",
       "  <tbody>\n",
       "    <tr>\n",
       "      <th>size_of_house</th>\n",
       "      <td>1</td>\n",
       "      <td>5</td>\n",
       "      <td>3</td>\n",
       "      <td>7</td>\n",
       "      <td>6</td>\n",
       "      <td>6</td>\n",
       "      <td>1/3</td>\n",
       "      <td>1/4</td>\n",
       "    </tr>\n",
       "    <tr>\n",
       "      <th>location_to_bus_line</th>\n",
       "      <td>1/5</td>\n",
       "      <td>1</td>\n",
       "      <td>1/3</td>\n",
       "      <td>5</td>\n",
       "      <td>3</td>\n",
       "      <td>3</td>\n",
       "      <td>1/5</td>\n",
       "      <td>1/7</td>\n",
       "    </tr>\n",
       "    <tr>\n",
       "      <th>neighborhood</th>\n",
       "      <td>1/3</td>\n",
       "      <td>3</td>\n",
       "      <td>1</td>\n",
       "      <td>6</td>\n",
       "      <td>3</td>\n",
       "      <td>4</td>\n",
       "      <td>6</td>\n",
       "      <td>1/5</td>\n",
       "    </tr>\n",
       "    <tr>\n",
       "      <th>age_of_house</th>\n",
       "      <td>1/7</td>\n",
       "      <td>1/5</td>\n",
       "      <td>1/6</td>\n",
       "      <td>1</td>\n",
       "      <td>1/3</td>\n",
       "      <td>1/4</td>\n",
       "      <td>1/7</td>\n",
       "      <td>1/8</td>\n",
       "    </tr>\n",
       "    <tr>\n",
       "      <th>yard_space</th>\n",
       "      <td>1/6</td>\n",
       "      <td>1/3</td>\n",
       "      <td>1/3</td>\n",
       "      <td>3</td>\n",
       "      <td>1</td>\n",
       "      <td>1/2</td>\n",
       "      <td>1/5</td>\n",
       "      <td>1/6</td>\n",
       "    </tr>\n",
       "    <tr>\n",
       "      <th>modern_facilities</th>\n",
       "      <td>1/6</td>\n",
       "      <td>1/3</td>\n",
       "      <td>1/4</td>\n",
       "      <td>4</td>\n",
       "      <td>2</td>\n",
       "      <td>1</td>\n",
       "      <td>1/5</td>\n",
       "      <td>1/6</td>\n",
       "    </tr>\n",
       "    <tr>\n",
       "      <th>general_condition</th>\n",
       "      <td>3</td>\n",
       "      <td>5</td>\n",
       "      <td>1/6</td>\n",
       "      <td>7</td>\n",
       "      <td>5</td>\n",
       "      <td>5</td>\n",
       "      <td>1</td>\n",
       "      <td>1/2</td>\n",
       "    </tr>\n",
       "    <tr>\n",
       "      <th>financing_available</th>\n",
       "      <td>4</td>\n",
       "      <td>7</td>\n",
       "      <td>5</td>\n",
       "      <td>8</td>\n",
       "      <td>6</td>\n",
       "      <td>6</td>\n",
       "      <td>2</td>\n",
       "      <td>1</td>\n",
       "    </tr>\n",
       "  </tbody>\n",
       "</table>\n",
       "</div>"
      ],
      "text/plain": [
       "                     size_of_house location_to_bus_line neighborhood  \\\n",
       "size_of_house                    1                    5            3   \n",
       "location_to_bus_line           1/5                    1          1/3   \n",
       "neighborhood                   1/3                    3            1   \n",
       "age_of_house                   1/7                  1/5          1/6   \n",
       "yard_space                     1/6                  1/3          1/3   \n",
       "modern_facilities              1/6                  1/3          1/4   \n",
       "general_condition                3                    5          1/6   \n",
       "financing_available              4                    7            5   \n",
       "\n",
       "                     age_of_house yard_space modern_facilities  \\\n",
       "size_of_house                   7          6                 6   \n",
       "location_to_bus_line            5          3                 3   \n",
       "neighborhood                    6          3                 4   \n",
       "age_of_house                    1        1/3               1/4   \n",
       "yard_space                      3          1               1/2   \n",
       "modern_facilities               4          2                 1   \n",
       "general_condition               7          5                 5   \n",
       "financing_available             8          6                 6   \n",
       "\n",
       "                     general_condition financing_available  \n",
       "size_of_house                      1/3                 1/4  \n",
       "location_to_bus_line               1/5                 1/7  \n",
       "neighborhood                         6                 1/5  \n",
       "age_of_house                       1/7                 1/8  \n",
       "yard_space                         1/5                 1/6  \n",
       "modern_facilities                  1/5                 1/6  \n",
       "general_condition                    1                 1/2  \n",
       "financing_available                  2                   1  "
      ]
     },
     "execution_count": 5,
     "metadata": {},
     "output_type": "execute_result"
    }
   ],
   "source": [
    "criteria_pairwise_vals=['5','3','7','6','6','1/3','1/4','1/3','5','3','3','1/5','1/7','6','3','4','6','1/5','1/3','1/4','1/7','1/8','1/2','1/5','1/6','1/5','1/6','1/2']\n",
    "criteria_global_pairwise_comparison_matrix=choosing_best_house.pairwise_comparison_matrix(criteria_pairwise_vals,alternatives_criteria='A')\n",
    "criteria_global_pairwise_comparison_matrix"
   ]
  },
  {
   "cell_type": "markdown",
   "id": "6dbbebc9-ed4f-4f93-b80d-d9e925c257fb",
   "metadata": {},
   "source": [
    "假设一个判断矩阵为：$\\begin{aligned} & \\begin{array}{llll} \\hspace{18pt} A & \\hspace{4pt} B &  \\hspace{1pt} C\\end{array} \\\\ & \\begin{array}{c}A\\\\ B \\\\ C\\end{array}\\left(\\begin{array}{cccc}1 & 2  & 1 \\\\ 1/2 &1&2 & \\\\1 & 1/2 &1\\end{array}\\right)  \\end{aligned}$，其中$A>B$，且$A=C$，但$B>C$产生了矛盾，因此提出对于一个正互反矩阵如果没有上述矛盾则称之为一致矩阵（consistent matrix），一致矩阵是正互反矩阵的特例。对于一致矩阵有$a_{ij}  \\times a_{jk} =a_{ik}(i,j,k=1, \\ldots ,n)$，且矩阵各行（各列）之间成倍数关系，例如对于上述假设矩阵$a_{AB}  \\times a_{BC}=a_{AC} $，即$2 \\times 2=4$。在构造判断矩阵时，难免会出现类似上述的矛盾，因此需要检验构造的判断矩阵和一致矩阵是否有太大差别，只要该矩阵向一致性矩阵靠拢，这个差距参数一致性比例（Consistency Ratio，CR）不高于10%，则可以接受这个权重估计。对于CR公式为：$CR= \\frac{CI}{RI} \\\\ CI= \\frac{  \\lambda  _{max} - n}{n-1} $，式中，$CI$为一致性指数（Consistency Index）；$RI$为平均随机一致性指标（Random Index），表示大量随机生成的同阶矩阵平均CI，视为RI的预期，因此CR是矩阵的一致性指标与预期的比率。当CR越大，判断矩阵越偏离一致矩阵；反之，值越小则越趋近于一致矩阵<sup>[Donegan, H. A. & Dodd, F. J. A NOTE ON SAATY’S RANDOM INDEXES. Mathl. Comput. Modelling vol. 15 (1991).]</sup>。对于$RI$可以查表获得，对于1至16阶矩阵，其$RI$对应值为$[0, 0, 0, 0.58, 0.9, 1.12, 1.24, 1.32, 1.41, 1.45, 1.49, 1.51, 1.48, 1.56, 1.57, 1.59]$，可以用于计算决策准则数最多为16个，应用AHP于MCDM问题。对于$\\lambda  _{max}$为矩阵最大特征值（principal eigenvalue ），$n$为矩阵的阶（order）。$n$阶一致矩阵，因为各行成比例且不是零矩阵，其秩$r(A)=1$，并当且仅当 $ \\lambda _{max}=n $ ，因此定义CI为$ ( \\lambda _{max}-n ) / ( n - 1)$，即判断矩阵越不一致时，最大特征值$\\lambda _{max}$与$n$的差距就越大。\n",
    "\n",
    "权重值的计算包括算术平均法求权重和几何平均法求权重，有`weight()`方法的`wd`参数判断。假设判断矩阵为$A=\\left[\\begin{array}{cccc}a_{11} & \\mathrm{a}_{12} & \\cdots & \\mathrm{a}_{1 \\mathrm{n}} \\\\ \\mathrm{a}_{21} & \\mathrm{a}_{22} & \\cdots & \\mathrm{a}_{2 \\mathrm{n}} \\\\ \\vdots & \\vdots & \\ddots & \\vdots \\\\ \\mathrm{a}_{\\mathrm{n} 1} & \\mathrm{a}_{\\mathrm{n} 2} & \\cdots & \\mathrm{a}_{\\mathrm{nn}}\\end{array}\\right]$，算术平均法求权重的公式为：$\\omega_{\\mathrm{i}}=\\frac{1}{\\mathrm{n}} \\sum_{\\mathrm{j}=1}^{\\mathrm{n}} \\frac{\\mathrm{a}_{\\mathrm{ij}}}{\\sum_{\\mathrm{k}=1}^{\\mathrm{n}} \\mathrm{a}_{\\mathrm{kj}}},(\\mathrm{i}=1,2, \\cdots, \\mathrm{n})$，即判断矩阵按列归一化（每个元素除以其所在列的和）后，按行求和，并除以矩阵的阶$n$；几何平均法求权重公式为：$\\omega_{\\mathrm{i}}=\\frac{\\left(\\prod_{\\mathrm{j}=1}^{\\mathrm{n}} \\mathrm{a}_{\\mathrm{ij}}\\right)^{\\frac{1}{\\mathrm{n}}}}{\\sum_{\\mathrm{k}=1}^{\\mathrm{n}}\\left(\\prod_{\\mathrm{j}=1}^{\\mathrm{n}} \\mathrm{a}_{\\mathrm{kj}}\\right)^{\\frac{1}{\\mathrm{n}}}},(\\mathrm{i}=1,2, \\cdots, \\mathrm{n})$，即将矩阵按行相乘得到一个新的列向量后开$n$次方，并进行归一化得到权重值。\n",
    "\n",
    "迁移`pyDecision`库中`ahp`方法为`USDA`库类`AHP`中的函数，直接调用该方法计算权重和CI值及CR值，返回值仅包含CR值。计算结果如下，CR值约为0.163，作者给出的结果为0.169，实际超出了0.1的阈值界限。"
   ]
  },
  {
   "cell_type": "code",
   "execution_count": 6,
   "id": "74810a7d-b7ca-4a17-9213-54bc0121db73",
   "metadata": {
    "tags": []
   },
   "outputs": [
    {
     "name": "stdout",
     "output_type": "stream",
     "text": [
      "[0.1743749238483884 0.06608449083968755 0.17015215186835408 0.01889929722237991 0.0352504763592837 0.04445701659354435 0.1784887930700104 0.3122928501983515] \n",
      " 0.16395000832304404\n"
     ]
    }
   ],
   "source": [
    "gp_weight,gp_cr=choosing_best_house.weight(criteria_global_pairwise_comparison_matrix)\n",
    "print(gp_weight,'\\n',gp_cr)"
   ]
  },
  {
   "cell_type": "markdown",
   "id": "14a8303a-b6c3-470e-999c-1dfb4dca70b5",
   "metadata": {},
   "source": [
    "同样的方法批量构建每一决策准则不同备选方案的判断矩阵，并计算权重值和CI值。"
   ]
  },
  {
   "cell_type": "code",
   "execution_count": 143,
   "id": "a1f4107f-b1b2-448c-90bf-13563b2b3279",
   "metadata": {
    "tags": []
   },
   "outputs": [
    {
     "data": {
      "text/plain": [
       "[('A', 'B'), ('A', 'C'), ('B', 'C')]"
      ]
     },
     "execution_count": 143,
     "metadata": {},
     "output_type": "execute_result"
    }
   ],
   "source": [
    "choosing_best_house.alternative_pairs_lst"
   ]
  },
  {
   "cell_type": "code",
   "execution_count": 137,
   "id": "1fb7f9ee-45e6-4514-b2c0-daefbdfa8b99",
   "metadata": {
    "tags": []
   },
   "outputs": [
    {
     "data": {
      "text/plain": [
       "{'size_of_house':      A    B  C\n",
       " A    1    6  8\n",
       " B  1/6    1  4\n",
       " C  1/8  1/4  1,\n",
       " 'location_to_bus_line':      A  B    C\n",
       " A    1  7  1/5\n",
       " B  1/7  1  1/8\n",
       " C    5  8    1,\n",
       " 'neighborhood':      A  B    C\n",
       " A    1  8    6\n",
       " B  1/8  1  1/4\n",
       " C  1/6  4    1,\n",
       " 'age_of_house':    A  B  C\n",
       " A  1  1  1\n",
       " B  1  1  1\n",
       " C  1  1  1,\n",
       " 'yard_space':      A  B    C\n",
       " A    1  5    4\n",
       " B  1/5  1  1/3\n",
       " C  1/4  3    1,\n",
       " 'modern_facilities':      A  B    C\n",
       " A    1  8    6\n",
       " B  1/8  1  1/5\n",
       " C  1/6  5    1,\n",
       " 'general_condition':    A    B    C\n",
       " A  1  1/2  1/2\n",
       " B  2    1    1\n",
       " C  2    1    1,\n",
       " 'financing_available':    A    B    C\n",
       " A  1  1/7  1/5\n",
       " B  7    1    3\n",
       " C  5  1/3    1}"
      ]
     },
     "execution_count": 137,
     "metadata": {},
     "output_type": "execute_result"
    }
   ],
   "source": [
    "local_pairwise_vals_dict=dict(size_of_house=['6','8','4'], \n",
    "                              location_to_bus_line=['7','1/5','1/8'], \n",
    "                              neighborhood=['8','6','1/4'],\t\n",
    "                              age_of_house=['1','1','1'],\t\n",
    "                              yard_space=['5','4','1/3'],\t\n",
    "                              modern_facilities=['8','6','1/5'],\t\n",
    "                              general_condition=['1/2','1/2','1'],\t\n",
    "                              financing_available=['1/7','1/5','3'])\n",
    "local_pairwise_matrix_dict={}\n",
    "for k,v in local_pairwise_vals_dict.items():\n",
    "    local_pairwise_matrix_dict[k]=choosing_best_house.pairwise_comparison_matrix(v,alternatives_criteria='C')\n",
    "local_pairwise_matrix_dict"
   ]
  },
  {
   "cell_type": "code",
   "execution_count": 138,
   "id": "5b2d2598-416f-4835-b774-7279f6125881",
   "metadata": {
    "tags": []
   },
   "outputs": [
    {
     "data": {
      "text/plain": [
       "{'size_of_house': {'weight': array([0.7390547902227547, 0.19155186674652747, 0.06939334303071788], dtype=object),\n",
       "  'rc': 0.12062025335167682},\n",
       " 'location_to_bus_line': {'weight': array([0.25041136463361124, 0.06003181219833261, 0.6895568231680563], dtype=object),\n",
       "  'rc': 0.2220676402473212},\n",
       " 'neighborhood': {'weight': array([0.7390547902227547, 0.06939334303071788, 0.19155186674652747], dtype=object),\n",
       "  'rc': 0.12062025335167682},\n",
       " 'age_of_house': {'weight': array([0.3333333333333333, 0.3333333333333333, 0.3333333333333333], dtype=object),\n",
       "  'rc': 0.0},\n",
       " 'yard_space': {'weight': array([0.6650702426564495, 0.10384738186462324, 0.2310823754789272], dtype=object),\n",
       "  'rc': 0.07495638655172662},\n",
       " 'modern_facilities': {'weight': array([0.7263184843830004, 0.0653268475849121, 0.20835466803208738], dtype=object),\n",
       "  'rc': 0.17731739051985576},\n",
       " 'general_condition': {'weight': array([0.20000000000000004, 0.4000000000000001, 0.4000000000000001], dtype=object),\n",
       "  'rc': 0.0},\n",
       " 'financing_available': {'weight': array([0.07377210603017055, 0.6433888691953209, 0.2828390247745087], dtype=object),\n",
       "  'rc': 0.056475713035283204}}"
      ]
     },
     "execution_count": 138,
     "metadata": {},
     "output_type": "execute_result"
    }
   ],
   "source": [
    "local_weight_rc_dict={}\n",
    "for k,v in local_pairwise_matrix_dict.items():\n",
    "    local_weight_rc_dict[k]={k:v for k,v in zip(['weight','rc'],choosing_best_house.weight(v))}\n",
    "    \n",
    "local_weight_rc_dict    "
   ]
  },
  {
   "cell_type": "markdown",
   "id": "a04f9e7e-07e9-446c-8e7c-962a64187f37",
   "metadata": {},
   "source": [
    "最后建立`weight_matrix()`方法汇总决策准则之间和各准则对备选方案之间的权重值，并计算最后基于决策准则的备选方案得分`global_priority`。从计算结果得知，备选方案A得分最高，为购房选择问题的最优答案。"
   ]
  },
  {
   "cell_type": "code",
   "execution_count": 139,
   "id": "0de91231-1e13-4aee-bf5c-e40acd0db076",
   "metadata": {
    "tags": []
   },
   "outputs": [
    {
     "data": {
      "text/html": [
       "<div>\n",
       "<style scoped>\n",
       "    .dataframe tbody tr th:only-of-type {\n",
       "        vertical-align: middle;\n",
       "    }\n",
       "\n",
       "    .dataframe tbody tr th {\n",
       "        vertical-align: top;\n",
       "    }\n",
       "\n",
       "    .dataframe thead th {\n",
       "        text-align: right;\n",
       "    }\n",
       "</style>\n",
       "<table border=\"1\" class=\"dataframe\">\n",
       "  <thead>\n",
       "    <tr style=\"text-align: right;\">\n",
       "      <th></th>\n",
       "      <th>size_of_house</th>\n",
       "      <th>location_to_bus_line</th>\n",
       "      <th>neighborhood</th>\n",
       "      <th>age_of_house</th>\n",
       "      <th>yard_space</th>\n",
       "      <th>modern_facilities</th>\n",
       "      <th>general_condition</th>\n",
       "      <th>financing_available</th>\n",
       "      <th>global_priority</th>\n",
       "    </tr>\n",
       "  </thead>\n",
       "  <tbody>\n",
       "    <tr>\n",
       "      <th>Wj</th>\n",
       "      <td>0.174375</td>\n",
       "      <td>0.066084</td>\n",
       "      <td>0.170152</td>\n",
       "      <td>0.018899</td>\n",
       "      <td>0.03525</td>\n",
       "      <td>0.044457</td>\n",
       "      <td>0.178489</td>\n",
       "      <td>0.312293</td>\n",
       "      <td>NaN</td>\n",
       "    </tr>\n",
       "    <tr>\n",
       "      <th>A</th>\n",
       "      <td>0.739055</td>\n",
       "      <td>0.250411</td>\n",
       "      <td>0.739055</td>\n",
       "      <td>0.333333</td>\n",
       "      <td>0.66507</td>\n",
       "      <td>0.726318</td>\n",
       "      <td>0.2</td>\n",
       "      <td>0.073772</td>\n",
       "      <td>0.391943</td>\n",
       "    </tr>\n",
       "    <tr>\n",
       "      <th>B</th>\n",
       "      <td>0.191552</td>\n",
       "      <td>0.060032</td>\n",
       "      <td>0.069393</td>\n",
       "      <td>0.333333</td>\n",
       "      <td>0.103847</td>\n",
       "      <td>0.065327</td>\n",
       "      <td>0.4</td>\n",
       "      <td>0.643389</td>\n",
       "      <td>0.334362</td>\n",
       "    </tr>\n",
       "    <tr>\n",
       "      <th>C</th>\n",
       "      <td>0.069393</td>\n",
       "      <td>0.689557</td>\n",
       "      <td>0.191552</td>\n",
       "      <td>0.333333</td>\n",
       "      <td>0.231082</td>\n",
       "      <td>0.208355</td>\n",
       "      <td>0.4</td>\n",
       "      <td>0.282839</td>\n",
       "      <td>0.273695</td>\n",
       "    </tr>\n",
       "  </tbody>\n",
       "</table>\n",
       "</div>"
      ],
      "text/plain": [
       "   size_of_house location_to_bus_line neighborhood age_of_house yard_space  \\\n",
       "Wj      0.174375             0.066084     0.170152     0.018899    0.03525   \n",
       "A       0.739055             0.250411     0.739055     0.333333    0.66507   \n",
       "B       0.191552             0.060032     0.069393     0.333333   0.103847   \n",
       "C       0.069393             0.689557     0.191552     0.333333   0.231082   \n",
       "\n",
       "   modern_facilities general_condition financing_available global_priority  \n",
       "Wj          0.044457          0.178489            0.312293             NaN  \n",
       "A           0.726318               0.2            0.073772        0.391943  \n",
       "B           0.065327               0.4            0.643389        0.334362  \n",
       "C           0.208355               0.4            0.282839        0.273695  "
      ]
     },
     "execution_count": 139,
     "metadata": {},
     "output_type": "execute_result"
    }
   ],
   "source": [
    "weight_A=choosing_best_house.weight_matrix(gp_weight,local_weight_rc_dict)\n",
    "weight_A"
   ]
  },
  {
   "cell_type": "markdown",
   "id": "3b71265a-9534-4d94-b69a-09d0fe015527",
   "metadata": {},
   "source": [
    "### 3.1.2.2   再现 F-AHP 算法\n",
    "\n",
    "再现Ayhan, M. B.在论文中给出的案例（最佳供应商选择问题），阐释F-AHP算法。为了方便应用 F-AHP 算法，定义`F_AHP`类可以方便构建判断矩阵，计算权重矩阵和一致性指数，及总的得分。\n",
    "\n",
    "对于这个最佳供应商选择问题，包括5个决策准则，由变量criteria给出；3个备选方案，由变量alternatives给出。F-AHP 方法与 AHP 最大的差异是判断矩阵的构建使用的是三角模糊数（triangular fuzzy number，TFN）。对 TFN 的理解可以从对论域、模糊集、隶属函数等概念的理解引入。论域是论题所包括同类事物的非空总和，是将讨论的对象限制在一定范围内，用$U$表示。模糊集合是用来表达模糊性概念的集合，又称为模糊集（或模糊子集）。对于普通集合$A$，元素$x$ 要么属于集合$A$，要么不属于，表达为：$ \\mu _{A}(X)= \\begin{cases}1 & x  \\in  A\\\\0 & x  \\notin A\\end{cases} $；对于模糊集合$ \\widetilde{A} $，在论域$U$内，对任意$x \\in U$，$x$常以某个程度，例如$\\mu ( \\mu  \\in [0,1])$属于$ \\widetilde{A} $，而非$x \\in  \\widetilde{A} $或$x \\notin  \\widetilde{A} $。全体模糊集用$F(U)$表示。设论域$U$，如果存在$ \\mu _{A} (x):U \\rightarrow [0,1]$，则称$ \\mu _{A} (x)$为$x(x \\in A)$的隶属度，从而一般称$ \\mu _{A} (x)$为$ \\widetilde{A} $的隶属函数。论域$U$中元素$x$与$ \\widetilde{A} $的关系由隶属度$ \\mu _{A} (x)$给出，不是简单的二值，属于或不属于的关系，而是多大程度上属于；$U$上所有模糊子集的集合称为模糊幂集，记作$F(U)$。例如对于空气质量指数（Air quality index，AQI），如果值小于50被认为健康，而高于150则为不健康，在好与不好之间包括有一个断点值为100划分为2个分段，如果位于50和100则为适中，位于100和150为对敏感人群不健康，AQI的隶属函数为：$u_A(x)= \\begin{cases}0, & x<50 \\\\ 2\\left(\\frac{x-50}{100}\\right)^2, & 50 \\leq x<100\\\\ 1-2\\left(\\frac{x-150}{100}\\right)^2, & 100 \\leq x<150\\\\ 1, & 150 \\leq x\\end{cases}$，取AQI值分别为60、100和125，则$ \\mu _{A} (x)$分别等于0.02、0.5和0.875，表明对于AQI值为60、100和125分别以0.02、0.5和0.875程度属于不健康空气。该例中的论域$U$是AQI，$A$是不健康空气对应的模糊集。\n",
    "\n",
    "对于任意一个模糊集，都对应一个隶属函数，确定隶属函数通常参考概率论中的分布函数，称为模糊分布函数，例如正态分布、梯形分布、K次抛物线分布、柯西（Cauchy）分布和S型函数（sigmoid function）分布等。这些函数论域为实数，带有参数，值域为[0,1]。在AHP中，两两比较判断矩阵通常没有考虑人的判断模糊性，仅为隶属于给定的标度，因此引入模糊数，使用TFN形式的三值判断（三角模糊数），最低可能值（smallest possible value，记作$l$）、最可能值（most promising value，记作$m$）和最高可能值（largest possible value ，记作$u$）。当$l=m=u$时，为一个非模糊数。每个 TFN 在其左侧和右侧都有线性表示，因此其隶属函数可以定义为<sup>[Kahraman, C., Cebeci, U. & Ruan, D. Multi-attribute comparison of catering service companies using fuzzy AHP: The case of Turkey. Int J Prod Econ 87, 171–184 (2004).]</sup>：$ \\mu (x \\mid \\tilde{M})= \\begin{cases}0, & x<l, \\\\ (x-l) /(m-l), & l \\leqslant x \\leqslant m \\\\ (u-x) /(u-m), & m \\leqslant x \\leqslant u \\\\ 0, & x>u .\\end{cases}$，一个模糊数总是可以由其对应的每个隶属度的左右表示给出：$\\begin{aligned} \\tilde{M} & =\\left(M^{l(y)}, M^{r(y)}\\right) \\\\ & =(l+(m-l) y, u+(m-u) y), \\quad y \\in[0,1]\\end{aligned}$，式中，$l(y)$和$r(y)$分别表示模糊数的左侧表示和右侧表示。对于TFN的模糊集$\\tilde{M} $，如图<sup>[]</sup>表示：\n",
    "\n",
    "<img src=\"../imgs/3_1/3_1_03.png\" height='auto' width=500 title=\"caDesign\">\n",
    "\n",
    "从上图可知，当$x=m$时，$x$完全属于$\\tilde{M} $，$l$和$u$分别为下界和上界。在$l$和$u$以外的完全不属于模糊数$\\tilde{M} $。\n",
    "\n",
    "判断矩阵中为了考虑人的模糊性，使用TFN，作者同样给出了度量标度，如表：\n",
    "\n",
    "| Saaty scale（标度）  | Definition （定义） | Fuzzy Triangular Scale  （TFN） |\n",
    "|---|---|---|\n",
    "| 1  |   Equally important (Eq. Imp.) （同等重要） | (1, 1, 1)   |\n",
    "| 3  | Weakly important (W. Imp.)  （稍微重要） | (2, 3, 4)   |\n",
    "| 5  |  Fairly important (F. Imp.) （重要）  |   (4, 5, 6)  |\n",
    "| 7  | Strongly important (S. Imp.) （明显重要）  |   (6, 7, 8)  |\n",
    "| 9  | Absolutely important (A. Imp.)  （非常重要） |  (9, 9, 9)  |\n",
    "| 2  | The intermittent values between two adjacent scales  （中间重要性） | (1, 2, 3)   |\n",
    "| 4  | \"  | (3, 4, 5)   |\n",
    "| 5  | \"  | (5, 6, 7)   |\n",
    "| 6  |  \" |  (7, 8, 9)  |\n",
    "\n",
    "第1步，定义决策准则之间的判断矩阵。基于TFN的判断矩阵可以表达为：$\\widetilde{A}^k=\\left[\\begin{array}{cccc}\\widetilde{d}_{11}^k & \\tilde{d}_{12}^k & \\ldots & \\widetilde{d}_{1 n}^k \\\\ \\widetilde{d}_{21}^k & \\ldots & \\ldots & \\widetilde{d}_{2 n}^k \\\\ \\ldots & \\ldots &  \\ddots  & \\ldots \\\\ \\widetilde{d}_{n 1}^k & \\tilde{d}_{n 2}^k & \\ldots & \\tilde{d}_{n n}^k\\end{array}\\right]$，式中，$\\widetilde{ d^{k}_{ij} } $表示为第$k^{th} $决策者对第$i^{th} $对$j^{th} $决策准则的判断，并对各个决策者的判断取均值，为：$\\tilde{d}_{i j}=\\frac{\\sum_{k=1}^K \\widetilde{d}_{i j}^k}{K}$，得$\\tilde{A}=\\left[\\begin{array}{ccc}\\widetilde{d_{11}} & \\cdots & \\widetilde{d_{1 n}} \\\\ \\vdots & \\ddots & \\vdots \\\\ \\widetilde{d_{n 1}} & \\cdots & \\widetilde{d_{n n}}\\end{array}\\right]$。\n",
    "\n",
    "定义`pairwise_comparison_TFN_matrix()`方法实现基于TFN判断矩阵的构建。"
   ]
  },
  {
   "cell_type": "code",
   "execution_count": 90,
   "id": "d61edac1-9db4-4f40-8b4e-d0386cf2d7ac",
   "metadata": {},
   "outputs": [],
   "source": [
    "criteria=['quality','origin','cost','delivery','after_sales']\n",
    "alternatives=['A1','A2','A3']      \n",
    "\n",
    "best_supplier=usda_weight.F_AHP(criteria,alternatives)"
   ]
  },
  {
   "cell_type": "code",
   "execution_count": 91,
   "id": "db58a97a-92ec-457d-bff0-bc0034e77443",
   "metadata": {},
   "outputs": [
    {
     "data": {
      "text/plain": [
       "[('quality', 'origin'),\n",
       " ('quality', 'cost'),\n",
       " ('quality', 'delivery'),\n",
       " ('quality', 'after_sales'),\n",
       " ('origin', 'cost'),\n",
       " ('origin', 'delivery'),\n",
       " ('origin', 'after_sales'),\n",
       " ('cost', 'delivery'),\n",
       " ('cost', 'after_sales'),\n",
       " ('delivery', 'after_sales')]"
      ]
     },
     "execution_count": 91,
     "metadata": {},
     "output_type": "execute_result"
    }
   ],
   "source": [
    "best_supplier.criteria_pairs_lst"
   ]
  },
  {
   "cell_type": "code",
   "execution_count": 92,
   "id": "3b723d89-e391-4f19-9569-e6b924bce956",
   "metadata": {},
   "outputs": [
    {
     "data": {
      "text/html": [
       "<div>\n",
       "<style scoped>\n",
       "    .dataframe tbody tr th:only-of-type {\n",
       "        vertical-align: middle;\n",
       "    }\n",
       "\n",
       "    .dataframe tbody tr th {\n",
       "        vertical-align: top;\n",
       "    }\n",
       "\n",
       "    .dataframe thead th {\n",
       "        text-align: right;\n",
       "    }\n",
       "</style>\n",
       "<table border=\"1\" class=\"dataframe\">\n",
       "  <thead>\n",
       "    <tr style=\"text-align: right;\">\n",
       "      <th></th>\n",
       "      <th>quality</th>\n",
       "      <th>origin</th>\n",
       "      <th>cost</th>\n",
       "      <th>delivery</th>\n",
       "      <th>after_sales</th>\n",
       "    </tr>\n",
       "  </thead>\n",
       "  <tbody>\n",
       "    <tr>\n",
       "      <th>quality</th>\n",
       "      <td>(1, 1, 1)</td>\n",
       "      <td>(1, 1, 1)</td>\n",
       "      <td>(4, 5, 6)</td>\n",
       "      <td>(6, 7, 8)</td>\n",
       "      <td>(4, 5, 6)</td>\n",
       "    </tr>\n",
       "    <tr>\n",
       "      <th>origin</th>\n",
       "      <td>(1, 1, 1)</td>\n",
       "      <td>(1, 1, 1)</td>\n",
       "      <td>(4, 5, 6)</td>\n",
       "      <td>(6, 7, 8)</td>\n",
       "      <td>(6, 7, 8)</td>\n",
       "    </tr>\n",
       "    <tr>\n",
       "      <th>cost</th>\n",
       "      <td>(1/6, 1/5, 1/4)</td>\n",
       "      <td>(1/6, 1/5, 1/4)</td>\n",
       "      <td>(1, 1, 1)</td>\n",
       "      <td>(1/4, 1/3, 1/2)</td>\n",
       "      <td>(2, 3, 4)</td>\n",
       "    </tr>\n",
       "    <tr>\n",
       "      <th>delivery</th>\n",
       "      <td>(1/8, 1/7, 1/6)</td>\n",
       "      <td>(1/8, 1/7, 1/6)</td>\n",
       "      <td>(2, 3, 4)</td>\n",
       "      <td>(1, 1, 1)</td>\n",
       "      <td>(1/6, 1/5, 1/4)</td>\n",
       "    </tr>\n",
       "    <tr>\n",
       "      <th>after_sales</th>\n",
       "      <td>(1/6, 1/5, 1/4)</td>\n",
       "      <td>(1/8, 1/7, 1/6)</td>\n",
       "      <td>(1/4, 1/3, 1/2)</td>\n",
       "      <td>(4, 5, 6)</td>\n",
       "      <td>(1, 1, 1)</td>\n",
       "    </tr>\n",
       "  </tbody>\n",
       "</table>\n",
       "</div>"
      ],
      "text/plain": [
       "                     quality           origin             cost  \\\n",
       "quality            (1, 1, 1)        (1, 1, 1)        (4, 5, 6)   \n",
       "origin             (1, 1, 1)        (1, 1, 1)        (4, 5, 6)   \n",
       "cost         (1/6, 1/5, 1/4)  (1/6, 1/5, 1/4)        (1, 1, 1)   \n",
       "delivery     (1/8, 1/7, 1/6)  (1/8, 1/7, 1/6)        (2, 3, 4)   \n",
       "after_sales  (1/6, 1/5, 1/4)  (1/8, 1/7, 1/6)  (1/4, 1/3, 1/2)   \n",
       "\n",
       "                    delivery      after_sales  \n",
       "quality            (6, 7, 8)        (4, 5, 6)  \n",
       "origin             (6, 7, 8)        (6, 7, 8)  \n",
       "cost         (1/4, 1/3, 1/2)        (2, 3, 4)  \n",
       "delivery           (1, 1, 1)  (1/6, 1/5, 1/4)  \n",
       "after_sales        (4, 5, 6)        (1, 1, 1)  "
      ]
     },
     "execution_count": 92,
     "metadata": {},
     "output_type": "execute_result"
    }
   ],
   "source": [
    "criteria_pairwise_TFN=[('1','1','1'),('4','5','6'),('6','7','8'),('4','5','6'),('4','5','6'),('6','7','8'),('6','7','8'),('1/4','1/3','1/2'),('2','3','4'),('1/6','1/5','1/4')]\n",
    "criteria_pairwise_comparison_TFN_matrix=best_supplier.pairwise_comparison_TFN_matrix(criteria_pairwise_TFN,alternatives_criteria='C')\n",
    "criteria_pairwise_comparison_TFN_matrix"
   ]
  },
  {
   "cell_type": "markdown",
   "id": "ee8f4df8-37d1-40ec-8906-c5a7aa786a64",
   "metadata": {},
   "source": [
    "第2步，计算决策准则之间的权重和一致性比例CR值。采用几何平均法求权重，首先计算每个决策准则模糊判断矩阵的几何平均值，公式为：$\\widetilde{r}_i=\\left(\\prod_{j=1}^n \\widetilde{d}_{i j}\\right)^{1 / n}, \\quad i=1,2, \\ldots, n$；进而计算每个$\\widetilde{r}_i$的向量和及其-1次幂，并递增排序（reverse）（TFN形式）；计算第$i$个决策准则的模糊权重$ \\widetilde{ W_{i} } $，为各$\\widetilde{ r_{i} } $之积，公式为：$\\begin{aligned} \\widetilde{w}_i & =\\widetilde{r}_i \\otimes\\left(\\widetilde{r}_1 \\oplus \\widetilde{r}_2 \\oplus \\ldots \\oplus \\widetilde{r}_n\\right)^{-1} \\\\ & =\\left(l w_i, m w_i, u w_i\\right)\\end{aligned}$；将模糊数转换为常规数值，使用Chou 和 Chang 提出的面积中心法去模糊化<sup>[Chou, S. W. & Chang, Y. C. The implementation factors that influence the ERP (enterprise resource planning) benefits. Decis Support Syst 46, 149–157 (2008).]</sup>，公式为：$M_i=\\frac{l w_i+m w_i+u w_i}{3}$；最后标准化权重，公式为：$N_i=\\frac{M_i}{\\sum_{i=1}^n M_i}$。\n",
    "\n",
    "对于F-AHP算法直接迁移`pyDecision`库中`fuzzy_ahp_method`方法为`USDA`库类`F_AHP中`的函数进行计算。"
   ]
  },
  {
   "cell_type": "code",
   "execution_count": 93,
   "id": "e748bfbc-4726-40bf-838f-e8b7d5adeb6a",
   "metadata": {},
   "outputs": [
    {
     "name": "stdout",
     "output_type": "stream",
     "text": [
      "[(0.30387157227617195, 0.3849442719555282, 0.4827648944504069), (0.3295401422029697, 0.41174038735956564, 0.5113560858232844), (0.051852455454028286, 0.07197841021214509, 0.10262169573734545), (0.04261628425875972, 0.05680430962243532, 0.07596205129037176), (0.05623252420717982, 0.07453262085032564, 0.10262169573734545)] \n",
      " [0.3905269128940357, 0.4175455384619399, 0.07548418713450628, 0.0584608817238556, 0.07779561359828364] \n",
      " [0.3829396778153188, 0.40943338011437996, 0.07401766522882969, 0.057325092005137, 0.07628418483633463] \n",
      " 0.25672257239611473\n"
     ]
    }
   ],
   "source": [
    "fuzzy_weights, defuzzified_weights, normalized_weights, cr=best_supplier.weight(criteria_pairwise_comparison_TFN_matrix)\n",
    "print(f_w,'\\n', d_w,'\\n', n_w,'\\n' ,cr)"
   ]
  },
  {
   "cell_type": "markdown",
   "id": "3b679039-8c40-4fc1-a36b-c183dd448d38",
   "metadata": {},
   "source": [
    "第3步，同样的方式计算每一决策准则不同备选方案的模糊判断矩阵，并计算权重值和CI值。因为作者仅给出了`quality`决策准则模糊矩阵，其它准则不同于该文实验参数，因此算法再现结果不同于原文实验。"
   ]
  },
  {
   "cell_type": "code",
   "execution_count": 94,
   "id": "66803b11-2f14-4007-a581-26cc7ed7b89d",
   "metadata": {},
   "outputs": [
    {
     "data": {
      "text/plain": [
       "[('A1', 'A2'), ('A1', 'A3'), ('A2', 'A3')]"
      ]
     },
     "execution_count": 94,
     "metadata": {},
     "output_type": "execute_result"
    }
   ],
   "source": [
    "best_supplier.alternative_pairs_lst"
   ]
  },
  {
   "cell_type": "code",
   "execution_count": 95,
   "id": "4bd991f5-3903-423c-bcad-81d6371b9bf2",
   "metadata": {},
   "outputs": [
    {
     "data": {
      "text/plain": [
       "{'quality':            A1               A2               A3\n",
       " A1  (1, 1, 1)  (1/6, 1/5, 1/4)  (1/9, 1/9, 1/9)\n",
       " A2  (4, 5, 6)        (1, 1, 1)  (1/4, 1/3, 1/2)\n",
       " A3  (9, 9, 9)        (2, 3, 4)        (1, 1, 1),\n",
       " 'origin':                  A1               A2         A3\n",
       " A1        (1, 1, 1)        (2, 3, 4)  (6, 7, 8)\n",
       " A2  (1/4, 1/3, 1/2)        (1, 1, 1)  (4, 5, 6)\n",
       " A3  (1/8, 1/7, 1/6)  (1/6, 1/5, 1/4)  (1, 1, 1),\n",
       " 'cost':                  A1         A2               A3\n",
       " A1        (1, 1, 1)  (4, 5, 6)  (1/6, 1/5, 1/4)\n",
       " A2  (1/6, 1/5, 1/4)  (1, 1, 1)  (1/4, 1/3, 1/2)\n",
       " A3        (4, 5, 6)  (2, 3, 4)        (1, 1, 1),\n",
       " 'delivery':                  A1         A2               A3\n",
       " A1        (1, 1, 1)  (9, 9, 9)        (6, 7, 8)\n",
       " A2  (1/9, 1/9, 1/9)  (1, 1, 1)  (1/8, 1/7, 1/7)\n",
       " A3  (1/8, 1/7, 1/6)  (7, 7, 8)        (1, 1, 1),\n",
       " 'after_sales':            A1               A2               A3\n",
       " A1  (1, 1, 1)  (1/8, 1/7, 1/6)  (1/4, 1/3, 1/2)\n",
       " A2  (6, 7, 8)        (1, 1, 1)        (2, 3, 4)\n",
       " A3  (2, 3, 4)  (1/4, 1/3, 1/2)        (1, 1, 1)}"
      ]
     },
     "execution_count": 95,
     "metadata": {},
     "output_type": "execute_result"
    }
   ],
   "source": [
    "alternatives_vals_dict=dict(quality=[('1/6','1/5','1/4'),('1/9','1/9','1/9'),('1/4','1/3','1/2')],\n",
    "                            origin=[('2','3','4'),('6','7','8'),('4','5','6')],\n",
    "                            cost=[('4','5','6'),('1/6','1/5','1/4'),('1/4','1/3','1/2')],\n",
    "                            delivery=[('9','9','9'),('6','7','8'),('1/8','1/7','1/7')],\n",
    "                            after_sales=[('1/8','1/7','1/6'),('1/4','1/3','1/2'),('2','3','4')])\n",
    "alternatives_matrix_dict={}\n",
    "for k,v in alternatives_vals_dict.items():\n",
    "    alternatives_matrix_dict[k]=best_supplier.pairwise_comparison_TFN_matrix(v,alternatives_criteria='A')\n",
    "alternatives_matrix_dict"
   ]
  },
  {
   "cell_type": "code",
   "execution_count": 96,
   "id": "0d6da290-3fd8-4de5-9969-4f1285301df2",
   "metadata": {},
   "outputs": [
    {
     "data": {
      "text/plain": [
       "{'quality': {'fuzzy_weights': [(0.052420300418135744,\n",
       "    0.06294120510225566,\n",
       "    0.07794836695752445),\n",
       "   (0.1981363198158667, 0.2654333418834977, 0.3712059591227326),\n",
       "   (0.5192640550376543, 0.6716254530142467, 0.8498494966569238)],\n",
       "  'defuzzified_weights': [0.06443662415930529,\n",
       "   0.27825854027403235,\n",
       "   0.6802463349029416],\n",
       "  'normalized_weights': [0.06299150459837054,\n",
       "   0.2720180386215403,\n",
       "   0.6649904567800892],\n",
       "  'cr': 0.038802175909399925},\n",
       " 'origin': {'fuzzy_weights': [(0.46123125532773124,\n",
       "    0.6491180046313251,\n",
       "    0.8906502333108046),\n",
       "   (0.20146130719005298, 0.27895456548641834, 0.4046047199899532),\n",
       "   (0.05543421498406391, 0.07192742988225646, 0.09725683059164322)],\n",
       "  'defuzzified_weights': [0.6669998310899535,\n",
       "   0.2950068642221415,\n",
       "   0.07487282515265453],\n",
       "  'normalized_weights': [0.643276116391026,\n",
       "   0.28451411991425357,\n",
       "   0.07220976369472036],\n",
       "  'cr': 0.07101595764337375},\n",
       " 'cost': {'fuzzy_weights': [(0.19287686201378226,\n",
       "    0.258284994374495,\n",
       "    0.355472493169515),\n",
       "   (0.07654323341525081, 0.10472943388074786, 0.15526691289199787),\n",
       "   (0.44157778201234055, 0.636985571744757, 0.8957345536057669)],\n",
       "  'defuzzified_weights': [0.2688781165192641,\n",
       "   0.11217986006266552,\n",
       "   0.6580993024542882],\n",
       "  'normalized_weights': [0.25874631486837024,\n",
       "   0.10795272508383758,\n",
       "   0.6333009600477921],\n",
       "  'cr': 0.4768968318277456},\n",
       " 'delivery': {'fuzzy_weights': [(0.6857178581616268,\n",
       "    0.7607597376820608,\n",
       "    0.8359451389785031),\n",
       "   (0.04360838881170998, 0.04804930980478052, 0.050499463168466624),\n",
       "   (0.17352027382598298, 0.19119095251315868, 0.22116336550036308)],\n",
       "  'defuzzified_weights': [0.7608075782740635,\n",
       "   0.04738572059498571,\n",
       "   0.19529153061316826],\n",
       "  'normalized_weights': [0.7581655007845295,\n",
       "   0.0472211628943469,\n",
       "   0.1946133363211237],\n",
       "  'cr': 0.2922872691708499},\n",
       " 'after_sales': {'fuzzy_weights': [(0.0646575791757096,\n",
       "    0.08794620881905604,\n",
       "    0.1285391955362206),\n",
       "   (0.4699624744114258, 0.6694168694489877, 0.9342848767797738),\n",
       "   (0.1629268900774419, 0.24263692173195622, 0.3707711990595482)],\n",
       "  'defuzzified_weights': [0.09371432784366207,\n",
       "   0.6912214068800623,\n",
       "   0.25877833695631547],\n",
       "  'normalized_weights': [0.08978927312229538,\n",
       "   0.6622708514099278,\n",
       "   0.24793987546777696],\n",
       "  'cr': 0.030424894517038763}}"
      ]
     },
     "execution_count": 96,
     "metadata": {},
     "output_type": "execute_result"
    }
   ],
   "source": [
    "alternatives_weight_cr_dict={}\n",
    "for k,v in alternatives_matrix_dict.items():\n",
    "    alternatives_weight_cr_dict[k]={k:v for k,v in zip(['fuzzy_weights', 'defuzzified_weights', 'normalized_weights', 'cr'],best_supplier.weight(v))}\n",
    "    \n",
    "alternatives_weight_cr_dict"
   ]
  },
  {
   "cell_type": "markdown",
   "id": "886a5b56-ccb4-4c8f-bda0-d6e18c470314",
   "metadata": {},
   "source": [
    "第4步，计算最后基于决策准则的备选方案得分。"
   ]
  },
  {
   "cell_type": "code",
   "execution_count": 97,
   "id": "77d93805-a1bd-4d4c-bdc2-c7d45ed368d9",
   "metadata": {},
   "outputs": [
    {
     "data": {
      "text/html": [
       "<div>\n",
       "<style scoped>\n",
       "    .dataframe tbody tr th:only-of-type {\n",
       "        vertical-align: middle;\n",
       "    }\n",
       "\n",
       "    .dataframe tbody tr th {\n",
       "        vertical-align: top;\n",
       "    }\n",
       "\n",
       "    .dataframe thead th {\n",
       "        text-align: right;\n",
       "    }\n",
       "</style>\n",
       "<table border=\"1\" class=\"dataframe\">\n",
       "  <thead>\n",
       "    <tr style=\"text-align: right;\">\n",
       "      <th></th>\n",
       "      <th>quality</th>\n",
       "      <th>origin</th>\n",
       "      <th>cost</th>\n",
       "      <th>delivery</th>\n",
       "      <th>after_sales</th>\n",
       "      <th>global_priority</th>\n",
       "    </tr>\n",
       "  </thead>\n",
       "  <tbody>\n",
       "    <tr>\n",
       "      <th>Wj</th>\n",
       "      <td>0.382940</td>\n",
       "      <td>0.409433</td>\n",
       "      <td>0.074018</td>\n",
       "      <td>0.057325</td>\n",
       "      <td>0.076284</td>\n",
       "      <td>NaN</td>\n",
       "    </tr>\n",
       "    <tr>\n",
       "      <th>A1</th>\n",
       "      <td>0.062992</td>\n",
       "      <td>0.643276</td>\n",
       "      <td>0.258746</td>\n",
       "      <td>0.758166</td>\n",
       "      <td>0.089789</td>\n",
       "      <td>0.356964</td>\n",
       "    </tr>\n",
       "    <tr>\n",
       "      <th>A2</th>\n",
       "      <td>0.272018</td>\n",
       "      <td>0.284514</td>\n",
       "      <td>0.107953</td>\n",
       "      <td>0.047221</td>\n",
       "      <td>0.662271</td>\n",
       "      <td>0.281874</td>\n",
       "    </tr>\n",
       "    <tr>\n",
       "      <th>A3</th>\n",
       "      <td>0.664990</td>\n",
       "      <td>0.072210</td>\n",
       "      <td>0.633301</td>\n",
       "      <td>0.194613</td>\n",
       "      <td>0.247940</td>\n",
       "      <td>0.361162</td>\n",
       "    </tr>\n",
       "  </tbody>\n",
       "</table>\n",
       "</div>"
      ],
      "text/plain": [
       "     quality    origin      cost  delivery  after_sales  global_priority\n",
       "Wj  0.382940  0.409433  0.074018  0.057325     0.076284              NaN\n",
       "A1  0.062992  0.643276  0.258746  0.758166     0.089789         0.356964\n",
       "A2  0.272018  0.284514  0.107953  0.047221     0.662271         0.281874\n",
       "A3  0.664990  0.072210  0.633301  0.194613     0.247940         0.361162"
      ]
     },
     "execution_count": 97,
     "metadata": {},
     "output_type": "execute_result"
    }
   ],
   "source": [
    "local_w_stack=np.stack([v['normalized_weights'] for v in alternatives_weight_cr_dict.values()],axis=-1)\n",
    "weight_A=best_supplier.weight_matrix(normalized_weights,local_w_stack)\n",
    "weight_A"
   ]
  },
  {
   "cell_type": "markdown",
   "id": "eb44a803-8e99-42bf-b4c3-6efd8634ab1d",
   "metadata": {},
   "source": [
    "### 3.1.2.3   再现 ARAS 算法\n",
    "\n",
    "再现Zavadskas, E. K.等人在论文中给出的案例（办公室微气候评估），阐释 ARAS 算法。直接迁移`pyDecision`库提供的`aras_method`方法。\n",
    "\n",
    "ARAS 算法基本同于一般基于权重计算得分的方法，其中决策准则权重值文中为专家打分获得；类似TOPSIS算法，考虑到决策准则的优化方向，即测量值是越大越好，还是越小越好；决策矩阵测量值根据决策准则优化方向计算方式有所调整。具体流程如下：\n",
    "\n",
    "第1步，构建决策矩阵（decision-making matrix，DMM），公式为： $X=\\left[\\begin{array}{ccccc}x_{01} & \\cdots & x_{0 j} & \\cdots & x_{0 n} \\\\ \\vdots & \\ddots & \\vdots & \\ddots & \\vdots \\\\ x_{i 1} & \\cdots & x_{i j} & \\cdots & x_{i n} \\\\ \\vdots & \\ddots & \\vdots & \\ddots & \\vdots \\\\ x_{m 1} & \\cdots & x_{m j} & \\cdots & x_{m n}\\end{array}\\right] ; \\quad i=\\overline{0, m} ; j=\\overline{1, n}$，式中，$m$为备选方案索引，$n$为决策准则索引，$x_{i j}$为第$j$个决策准则值下第$i$个备选方案的测量值。$x_{0 j}$为第$j$个决策准则的优化值，如果不知优化值，则可以通过下述方式确定，$\\begin{aligned} & x_{0 j}=\\max _i x_{i j}, \\text { if } \\max _i x_{i j} \\text { is preferable } ; \\\\ & x_{0 j}=\\min _i x_{i j}^* \\text {, if } \\min _i x_{i j}^* \\text { is preferable. }\\end{aligned}$。\n",
    "\n",
    "第2步，为了比较不同单位（unit）、不同尺度(dimentions)的决策准则测量值，需要标准化为无量纲（dimensionless）的决策矩阵。优选值为最大值（maxima）的标准化公式为：$\\bar{x}_{i j}=\\frac{x_{i j}}{\\sum_{i=0}^m x_{i j}}$；优选值为最小值（minima）的标准化公式为：$x_{i j}=\\frac{1}{x_{i j}^*} ; \\bar{x}_{i j}=\\frac{x_{i j}}{\\sum_{i=0}^m x_{i j}}$。标准化后的决策矩阵可以表示为：$\\bar{X}=\\left[\\begin{array}{ccccc}\\bar{x}_{01} & \\ldots & \\bar{x}_{0 j} & \\ldots & \\bar{x}_{0 n} \\\\ \\vdots & \\ddots & \\vdots & \\ddots & \\vdots \\\\ \\bar{x}_{i 1} & \\ldots & \\bar{x}_{i j} & \\ldots & \\bar{x}_{i n} \\\\ \\vdots & \\ddots & \\vdots & \\ddots & \\vdots \\\\ \\bar{x}_{m 1} & \\ldots & \\bar{x}_{m j} & \\ldots & \\bar{x}_{m n}\\end{array}\\right] ; i=\\overline{0, m} ; j=\\overline{1, n}$。\n",
    "\n",
    "第3步，定义归一化加权决策矩阵。决策准则的权重满足$0< w_{j} <1$，且$ \\sum_{j=1}^n w_j=1 $。归一化加权矩阵计算公式为：$\\hat{x}_{i j}=\\bar{x}_{i j} w_j ; i=\\overline{0, m}$，式中，$ w_j$为第$j$个决策准则的权重值；归一化加权矩阵表示为：$\\begin{aligned}  \\hat{X}=\\left[\\begin{array}{ccccc}\\hat{x}_{01} & \\cdots & \\hat{x}_{0 j} & \\cdots & \\hat{x}_{0 n} \\\\ \\vdots & \\ddots & \\vdots & \\ddots & \\vdots \\\\ \\hat{x}_{i 1} & \\cdots & \\hat{x}_{i j} & \\cdots & \\hat{x}_{i n} \\\\ \\vdots & \\ddots & \\vdots & \\ddots & \\vdots \\\\ \\hat{x}_{m 1} & \\cdots & \\hat{x}_{m j} & \\cdots & \\hat{x}_{m n}\\end{array}\\right] ; i=\\overline{0, m} ; j=\\overline{1, n} \\text {. } \\\\ & \\end{aligned}$。\n",
    "\n",
    "第4步，确定最优解。对每一备选方案对应的决策准则归一化加权值求和，即$S_i=\\sum_{j=1}^n \\hat{x}_{i j} ; i=\\overline{0, m}$，$S_i$为备选方案得分。备选方案的效用度（degree of the alternative utility），可以通过$K_i=\\frac{S_i}{S_0} ; i=\\overline{0, m}$计算，式中，$S_0$为理想情况下得分值最高备选方案的值，通过与最高值比较确定效用度。\n",
    "\n",
    "将办公室微气候评估数据写入到`USDA`数据集模块`datasets`下方便调用。读取该数据，包括分析所用的测量值决策矩阵、决策准则权重值和优化方向列表。"
   ]
  },
  {
   "cell_type": "code",
   "execution_count": 3,
   "id": "816fb29d-3fc8-4f85-a61d-c1af06b3cd48",
   "metadata": {},
   "outputs": [
    {
     "data": {
      "text/plain": [
       "{'data':     amount _of_air_per_head  relative_air_humidity  air_temperature  \\\n",
       " 1                       7.6                   46.0             18.0   \n",
       " 2                       5.5                   32.0             21.0   \n",
       " 3                       5.3                   32.0             21.0   \n",
       " 4                       5.7                   37.0             19.0   \n",
       " 5                       4.2                   38.0             19.0   \n",
       " 6                       4.4                   38.0             19.0   \n",
       " 7                       3.9                   42.0             16.0   \n",
       " 8                       7.9                   44.0             20.0   \n",
       " 9                       8.1                   44.0             20.0   \n",
       " 10                      4.5                   46.0             18.0   \n",
       " 11                      5.7                   48.0             20.0   \n",
       " 12                      5.2                   48.0             20.0   \n",
       " 13                      7.1                   49.0             19.0   \n",
       " 14                      6.9                   50.0             16.0   \n",
       " \n",
       "     illumination_during_work_hours  rate_of_air_flow  dew_point  \n",
       " 1                            390.0              0.10       11.0  \n",
       " 2                            360.0              0.05       11.0  \n",
       " 3                            290.0              0.05       11.0  \n",
       " 4                            270.0              0.05        9.0  \n",
       " 5                            240.0              0.10        8.0  \n",
       " 6                            260.0              0.10        8.0  \n",
       " 7                            270.0              0.10        5.0  \n",
       " 8                            400.0              0.05        6.0  \n",
       " 9                            380.0              0.05        6.0  \n",
       " 10                           320.0              0.10        7.0  \n",
       " 11                           320.0              0.05       11.0  \n",
       " 12                           310.0              0.05       11.0  \n",
       " 13                           280.0              0.10       12.0  \n",
       " 14                           250.0              0.05       10.0  ,\n",
       " 'name': 'microclimate_in_office_rooms.pickle',\n",
       " 'measurement_units': ['m3/h', '%', '°C', 'lx', 'm/s', '°C'],\n",
       " 'optimisation_direction': ['max', 'max', 'max', 'max', 'min', 'min'],\n",
       " 'weight_of_criteria': [0.21, 0.16, 0.26, 0.17, 0.12, 0.08],\n",
       " 'optimal_value': [15, 50, 24.5, 400, 0.05, 5]}"
      ]
     },
     "execution_count": 3,
     "metadata": {},
     "output_type": "execute_result"
    }
   ],
   "source": [
    "microclimate_in_office_rooms=usda_datasets.load_microclimate_in_office_rooms()\n",
    "microclimate_in_office_rooms"
   ]
  },
  {
   "cell_type": "markdown",
   "id": "6100b06f-39d9-4310-b3ad-11d1f6969957",
   "metadata": {},
   "source": [
    "从计算结果可以得知索引值为8的备选方案为最高得分，并可以配置`graph`参数打印排序图表。"
   ]
  },
  {
   "cell_type": "code",
   "execution_count": 9,
   "id": "2dca4ad6-7c08-442e-b28b-bdc1fe52c163",
   "metadata": {},
   "outputs": [
    {
     "name": "stdout",
     "output_type": "stream",
     "text": [
      "a1: 0.821\n",
      "a2: 0.8\n",
      "a3: 0.764\n",
      "a4: 0.771\n",
      "a5: 0.666\n",
      "a6: 0.68\n",
      "a7: 0.688\n",
      "a8: 0.949\n",
      "a9: 0.945\n",
      "a10: 0.731\n",
      "a11: 0.825\n",
      "a12: 0.807\n",
      "a13: 0.776\n",
      "a14: 0.796\n"
     ]
    },
    {
     "data": {
      "image/png": "[encoded data removed]",
      "text/plain": [
       "<Figure size 640x480 with 1 Axes>"
      ]
     },
     "metadata": {},
     "output_type": "display_data"
    }
   ],
   "source": [
    "rank=usda_weight.aras_method(microclimate_in_office_rooms.data, microclimate_in_office_rooms.weight_of_criteria, microclimate_in_office_rooms.optimisation_direction, graph=True)"
   ]
  },
  {
   "cell_type": "code",
   "execution_count": 10,
   "id": "6cbc7c1d-0042-4fc7-b917-f97b63d0fccc",
   "metadata": {},
   "outputs": [
    {
     "data": {
      "text/plain": [
       "array([[ 8.        ,  0.94850216],\n",
       "       [ 9.        ,  0.94548367],\n",
       "       [11.        ,  0.82549096],\n",
       "       [ 1.        ,  0.82104672],\n",
       "       [12.        ,  0.80717434],\n",
       "       [ 2.        ,  0.80024248],\n",
       "       [14.        ,  0.79601395],\n",
       "       [13.        ,  0.77558685],\n",
       "       [ 4.        ,  0.77056324],\n",
       "       [ 3.        ,  0.76446671],\n",
       "       [10.        ,  0.73067136],\n",
       "       [ 7.        ,  0.68789147],\n",
       "       [ 6.        ,  0.67985115],\n",
       "       [ 5.        ,  0.66562774]])"
      ]
     },
     "execution_count": 10,
     "metadata": {},
     "output_type": "execute_result"
    }
   ],
   "source": [
    "rank"
   ]
  },
  {
   "cell_type": "markdown",
   "id": "a90d6b47-e5e0-43e3-ab7e-36e1491bade4",
   "metadata": {},
   "source": [
    "### 3.1.2.4 再现 BWM 算法（基于GWO优化算法）\n",
    "\n",
    "AHP和F-AHP需要给出判断矩阵，并通过参考CR值，不断调整修正判断矩阵的标度使其趋于一致矩阵，即在一致性检验过程中一致性比率CR值应满足要求。这个调整过程相对繁琐，也不容易使得每项决策准则之间和对于各个准则备选方案之间的判断矩阵修正到满足要求。而 BWM 方法并不需要对决策准则两两比较构建判断矩阵，而类似TOPSIS算法考虑最佳（Best）（正理想值） 和最差（Worst）（负理想值），将各个决策准则与最佳和最差的准则比较作为输入值。以作者给出的第1个案例解释 BWM 算法，该案例表述为公司要选择一种将其产品运输到市场的一种运输方式，涉及3个决策准则，为负载的灵活性$C_{1} $、可达性$C_{2} $和成本$C_{3} $。最佳和最差成对比较向量的值选择1-9之间的数，确定成本（$C_{3} $）为最佳准则，与最佳决策准则的成对比较（判断）向量为：$A_{B}=( a_{B1},a_{B2}, \\ldots ,a_{Bn} ) =(8,2,1)$，式中，$a_{Bj}$为最佳决策准则对准则$j$的比较偏好（preference）；确定负载的灵活性（$C_{1} $）为最差准则，与最差决策准则的成对比较（判断）向量为：$A_{W}=( a_{1W},a_{2W}, \\ldots ,a_{nW} ) =(1,5,8)$，式中$a_{jW}$为决策准则$j$对最差准则的比较偏好。如果决策准则的实际权重表示为$w_{j} $，那么理论上会有$\\frac{w_{B} }{w_{j} }=a_{Bj}  ; \\frac{w_{j} }{w_{W} }=a_{jW}$。但是在实际构建判断向量时，会产生误差，因此有：$\\begin{aligned} & \\left|\\frac{\\omega_B}{\\omega_j}-a_{B j}\\right| \\leq \\xi \\quad ,\\forall j \\\\ & \\left|\\frac{\\omega_j}{\\omega_W}-a_{j W}\\right| \\leq \\xi, \\forall j \\\\ & \\sum_j \\omega_j=1;\\omega_j \\geq 0 ,  \\forall j \\end{aligned}$，式中，$\\xi$表示为误差。对应到案例，则有$\\begin{aligned} & \\left|\\frac{w_3}{w_1}-8\\right| \\leq \\xi \\\\ & \\left|\\frac{w_3}{w_2}-2\\right| \\leq \\xi \\\\ & \\left|\\frac{w_2}{w_1}-5\\right| \\leq \\xi \\\\ & w_1+w_2+w_3=1 \\\\ & w_1, w_2, w_3 \\geq 0\\end{aligned}$。对上述公式求解即可得到最优的决策准则权重$( w^{*}_{1},w^{*}_{2}, \\ldots ,w^{*}_{n} )$和误差$\\xi^{*} $。求解的方法使用 GWO（Grey Wolf Optimizer） 优化算法，为一种元启发式算法（meta-heuristic）<sup>Mirjalili, S., Mirjalili, S. M. & Lewis, A. Grey Wolf Optimizer. Advances in Engineering Software 69, 46–61 (2014).</sup>。\n",
    "\n",
    "GWO 优化算法求解 BWM时，依据上述求解公式， 对于给定的c，可得$  \\triangle w=  |  w_{B}- w_{j} a_{Bj}  | $，即求解$w_{j}$使得$ \\triangle w$趋近于0；同样，对于给定的$A_{W}$，有$ \\triangle w=  |  w_{j}- w_{W} a_{jW}  | $，即求解$w_{j}$使得$ \\triangle w$趋近于0。将上述两种情况合并，权重更新时，选择$ \\triangle w$为最小值对应的权重值更新，即为最优解。对应的代码为：\n",
    "\n",
    "```python\n",
    "def target_function(variables):\n",
    "    eps       = [float('+inf')]\n",
    "    for pair in pairs_b:\n",
    "        i, j = pair\n",
    "        diff = abs(variables[i] - variables[j]*mic[j])\n",
    "        if ( i != j):\n",
    "            eps.append(diff)\n",
    "    for pair in pairs_w:\n",
    "        i, j = pair\n",
    "        diff = abs(variables[i] - variables[j]*lic[j])\n",
    "        if ( i != j):\n",
    "            eps.append(diff)\n",
    "    if ( np.sum(variables) == 0):\n",
    "        eps = float('+inf')\n",
    "    else:\n",
    "        eps = max(eps[1:])\n",
    "    return eps\n",
    "```\n",
    "\n",
    "对于$A_{B}$，对应`diff = abs(variables[i] - variables[j]*mic[j])`；对于$A_{W}$，对应`diff = abs(variables[i] - variables[j]*lic[j])`。\n",
    "\n",
    "\n",
    "依据 GWO 的等级制度思想，从每行为一组权重向量，初始化数量由参数`size`确定的权重集群（矩阵）（灰狼群）中，依据$ \\triangle w$值（值越小越好），提取前三等级的权重组（行），并依次用alpha（$\\alpha$）、beta（$\\beta$）和delta（$\\delta$） 表示，剩下未提取的权重行则为omega（$\\omega$）。每一次迭代时都会根据最新的$ \\triangle w$值更新$\\alpha$、$\\beta$和$\\delta$，对应代码行为：\n",
    "\n",
    "```python\n",
    "def update_pack(position, alpha, beta, delta):\n",
    "    updated_position = np.copy(position)\n",
    "    for i in range(0, position.shape[0]):\n",
    "        if (updated_position[i,-1] < alpha[0,-1]):\n",
    "            alpha[0,:] = np.copy(updated_position[i,:])\n",
    "        if (updated_position[i,-1] > alpha[0,-1] and updated_position[i,-1] < beta[0,-1]):\n",
    "            beta[0,:] = np.copy(updated_position[i,:])\n",
    "        if (updated_position[i,-1] > alpha[0,-1] and updated_position[i,-1] > beta[0,-1]  and updated_position[i,-1] < delta[0,-1]):\n",
    "            delta[0,:] = np.copy(updated_position[i,:])\n",
    "    return alpha, beta, delta\n",
    "```\n",
    "\n",
    "逐行逐列（各行各个决策准则权重值）更新权重集群时，是同时考虑$\\alpha$、$\\beta$和$\\delta$3个等级，根据 GWO 模拟包围和狩猎行为变化更新权重集群（灰狼），使之趋于最优解（猎物）。对于包围猎物的行为，论文中定义公式为：$\\begin{aligned} & \\vec{D}=\\left|\\vec{C} \\cdot \\vec{X}_p(t)-\\vec{X}(t)\\right| \\\\ & \\vec{X}(t+1)=\\vec{X}_p(t)-\\vec{A} \\cdot \\vec{D}\\end{aligned}$，式中，$t$为当前的迭代次数，$\\vec{C}$和$\\vec{A}$是向量（权重值）系数，$\\vec{X}_p$为$\\alpha$、$\\beta$和$\\delta$当前迭代次数下的权重值，$\\vec{X}$为更新后的权重值。对于$\\vec{C}$和$\\vec{A}$，计算公式为：$\\begin{aligned} & \\vec{A}=2 \\vec{a} \\cdot \\vec{r}_1-\\vec{a} \\\\ & \\vec{C}=2 \\cdot \\vec{r}_2\\end{aligned}$，式中，$\\vec{a}$为收敛因子，随着迭代次数的增加从2线性的减少至0，$\\vec{r}_1$和$\\vec{r}_2$为[0,1]的随机数。对于狩猎行为，论文中定义的公式为： $\\begin{aligned} & \\vec{D}_\\alpha=\\left|\\vec{C}_1 \\cdot \\vec{X}_\\alpha-\\vec{X}\\right|, \\vec{D}_\\beta=\\left|\\vec{C}_2 \\cdot \\vec{X}_\\beta-\\vec{X}\\right|, \\vec{D}_\\delta=\\left|\\vec{C}_3 \\cdot \\vec{X}_\\delta-\\vec{X}\\right| \\\\ & \\vec{X}_1=\\vec{X}_\\alpha-\\vec{A}_1 \\cdot\\left(\\vec{D}_\\alpha\\right), \\vec{X}_2=\\vec{X}_\\beta-\\vec{A}_2 \\cdot\\left(\\vec{D}_\\beta\\right), \\vec{X}_3=\\vec{X}_\\delta-\\vec{A}_3 \\cdot\\left(\\vec{D}_\\delta\\right) \\\\ & \\vec{X}(t+1)=\\frac{\\vec{X}_1+\\vec{X}_2+\\vec{X}_3}{3}\\end{aligned}$，是分别计算$\\alpha$、$\\beta$和$\\delta$3个等级包围猎物的行为，求其均值为更新的权重值。进而可以根据更新的权重值计算当前的$ \\triangle w$值。对应的代码行为：\n",
    "\n",
    "```python\n",
    "def update_position(position, alpha, beta, delta, a_linear_component = 2, min_values = [-5,-5], max_values = [5,5], target_function = target_function):\n",
    "    updated_position = np.copy(position)\n",
    "    for i in range(0, updated_position.shape[0]):\n",
    "        for j in range (0, len(min_values)):   \n",
    "            r1_alpha              = int.from_bytes(os.urandom(8), byteorder = \"big\") / ((1 << 64) - 1)\n",
    "            r2_alpha              = int.from_bytes(os.urandom(8), byteorder = \"big\") / ((1 << 64) - 1)\n",
    "            a_alpha               = 2*a_linear_component*r1_alpha - a_linear_component\n",
    "            c_alpha               = 2*r2_alpha      \n",
    "            distance_alpha        = abs(c_alpha*alpha[0,j] - position[i,j]) \n",
    "            x1                    = alpha[0,j] - a_alpha*distance_alpha   \n",
    "            r1_beta               = int.from_bytes(os.urandom(8), byteorder = \"big\") / ((1 << 64) - 1)\n",
    "            r2_beta               = int.from_bytes(os.urandom(8), byteorder = \"big\") / ((1 << 64) - 1)\n",
    "            a_beta                = 2*a_linear_component*r1_beta - a_linear_component\n",
    "            c_beta                = 2*r2_beta            \n",
    "            distance_beta         = abs(c_beta*beta[0,j] - position[i,j]) \n",
    "            x2                    = beta[0,j] - a_beta*distance_beta                          \n",
    "            r1_delta              = int.from_bytes(os.urandom(8), byteorder = \"big\") / ((1 << 64) - 1)\n",
    "            r2_delta              = int.from_bytes(os.urandom(8), byteorder = \"big\") / ((1 << 64) - 1)\n",
    "            a_delta               = 2*a_linear_component*r1_delta - a_linear_component\n",
    "            c_delta               = 2*r2_delta            \n",
    "            distance_delta        = abs(c_delta*delta[0,j] - position[i,j]) \n",
    "            x3                    = delta[0,j] - a_delta*distance_delta                                 \n",
    "            updated_position[i,j] = np.clip(((x1 + x2 + x3)/3),min_values[j],max_values[j])     \n",
    "        updated_position[i,-1] = target_function(updated_position[i,0:updated_position.shape[1]-1])\n",
    "    return updated_position\n",
    "```"
   ]
  },
  {
   "cell_type": "markdown",
   "id": "1a35bd26-50c1-41eb-9596-c6bfb77ad3c2",
   "metadata": {},
   "source": [
    "BWM 给出了一致性比例计算的方法。对于一致矩阵有$a_{ik} \\times  a_{kj}=a_{ij}, \\forall i,j$，实际给出的判断向量往往产生非一致性问题，即$a_{Bj} \\times  a_{jW} \\neq a_{BW}$，当且仅当$a_{Bj} =a_{jW} = a_{BW}$时，误差达到最大，由$(w _{B}/w _{j})  \\times (w _{j}/w _{W})=(w _{B}/w _{W})$，考虑最大误差发生时有：$\\left(a_{B j}-\\xi\\right) \\times\\left(a_{j W}-\\xi\\right)=\\left(a_{B W}+\\xi\\right)$，即，$\\left(a_{B W}-\\xi\\right) \\times\\left(a_{BW}-\\xi\\right)=\\left(a_{B W}+\\xi\\right) \\Rightarrow \\xi^2-\\left(1+2 a_{B W}\\right) \\xi+\\left(a_{B W}{ }^2-a_{B W}\\right)=0$。求解不同的$a_{BW} \\in \\{1,2, \\ldots ,9\\} $，可以找到最大可能的$\\xi$（max $\\xi$），其表为：\n",
    "\n",
    "| $a_{BW}$  | 1  | 2  | 3  | 4  | 5  | 6  | 7  |  8 | 9  |\n",
    "|---|---|---|---|---|---|---|---|---|---|\n",
    "| Consistency index（CI） （max $\\xi$） | 0.00  |  0.44  |  1.00   | 1.63   |  2.30   |   3.00  |   3.73  |  4.47   | 5.23  |\n",
    "\n",
    "一致性比率（CR）则为：$CR= \\frac{ \\xi^{*} }{CI} $\n",
    "\n",
    "应用基于 GWO 优化算法求解 BWM的方法，再现论文案例1，其计算结果为0.100、0.250和0.649，对应论文中的结果0.0714、0.3387和0.5899，重要性排序保持一致。"
   ]
  },
  {
   "cell_type": "code",
   "execution_count": 41,
   "id": "f16173b5-c57b-42e6-86dd-e4f4849c4df2",
   "metadata": {},
   "outputs": [
    {
     "name": "stdout",
     "output_type": "stream",
     "text": [
      "Iteration =  0  f(x) =  inf\n",
      "Iteration =  50  f(x) =  0.015477062414798246\n",
      "Iteration =  100  f(x) =  0.015112102494579303\n",
      "Iteration =  150  f(x) =  0.015112102494579303\n",
      "Iteration =  200  f(x) =  0.015020926002282144\n",
      "[0.10000609 0.24996459 0.65002932]\n"
     ]
    }
   ],
   "source": [
    "mic=np.array([8,2,1]) # Most Important Criteria\n",
    "lic=np.array([1,5,8]) # Least Important Criteria\n",
    "\n",
    "weights=usda_weight.bw_method(mic, lic, size=50, iterations=200,verbose=50)\n",
    "print(weights)"
   ]
  },
  {
   "cell_type": "markdown",
   "id": "d1e04555-9583-44cf-8b09-dbcf3b109cfb",
   "metadata": {},
   "source": []
  },
  {
   "cell_type": "code",
   "execution_count": null,
   "id": "f7c0c4b7-f92b-4fba-948d-08911696b317",
   "metadata": {},
   "outputs": [],
   "source": []
  },
  {
   "cell_type": "code",
   "execution_count": null,
   "id": "e2b78b7e-6819-4c3e-89dc-5a7c75b158a7",
   "metadata": {},
   "outputs": [],
   "source": []
  },
  {
   "cell_type": "code",
   "execution_count": null,
   "id": "208bd343-f488-4221-be01-5ca5b12b05b4",
   "metadata": {},
   "outputs": [],
   "source": []
  },
  {
   "cell_type": "code",
   "execution_count": null,
   "id": "3d165788-fe6f-4340-b9aa-4e54e7c5b895",
   "metadata": {},
   "outputs": [],
   "source": []
  },
  {
   "cell_type": "code",
   "execution_count": null,
   "id": "e4348881-4962-4c3e-b378-7c5ac03deead",
   "metadata": {},
   "outputs": [],
   "source": []
  },
  {
   "cell_type": "markdown",
   "id": "c235b2fc-d34a-4877-8975-d96e260d2ab9",
   "metadata": {},
   "source": [
    "## 权重和聚类\n",
    "\n",
    "## 粗糙集理论\n",
    "\n",
    "TOPSIS（理想解法）<https://blog.csdn.net/m0_64087341/article/details/127172309> 是一种有效的多指标评价方法。(对属性进行向量规范化)\n",
    "\n",
    "\n",
    "+ 45 algorithms（name and abs, explain, reference, ?equation）, correlation analysis, explain MADM-MCDM Multi-Criteria Decision Analysis/ Multi-Criteria Decision-Making，--> rank\n",
    "\n",
    "1. Best-worst multi-criteria decision-making method （BWM）"
   ]
  },
  {
   "cell_type": "code",
   "execution_count": null,
   "id": "72ee6862-5d4d-4aac-a816-cbd04fc16f21",
   "metadata": {},
   "outputs": [],
   "source": []
  },
  {
   "cell_type": "code",
   "execution_count": null,
   "id": "393fcf83-a44a-494b-988a-ca7ee7eb8fd1",
   "metadata": {},
   "outputs": [],
   "source": []
  },
  {
   "cell_type": "code",
   "execution_count": null,
   "id": "1ce1064c-0522-4a3e-8d8b-a9dabc181737",
   "metadata": {},
   "outputs": [],
   "source": []
  },
  {
   "cell_type": "code",
   "execution_count": null,
   "id": "e46bf34a-5a56-49cc-b2f7-650360647913",
   "metadata": {},
   "outputs": [],
   "source": []
  },
  {
   "cell_type": "code",
   "execution_count": null,
   "id": "d2570e7b-7637-49c2-8e4e-2383f5f9d0e6",
   "metadata": {},
   "outputs": [],
   "source": []
  },
  {
   "cell_type": "code",
   "execution_count": null,
   "id": "b57f314e-9fe9-48c0-a1b8-05c43d4d940d",
   "metadata": {},
   "outputs": [],
   "source": []
  },
  {
   "cell_type": "code",
   "execution_count": null,
   "id": "a45fce65-2aa8-46a3-a070-b65946fb567b",
   "metadata": {},
   "outputs": [],
   "source": []
  },
  {
   "cell_type": "code",
   "execution_count": null,
   "id": "9e56d7bf-c360-4a63-9b75-4ba997dee3d9",
   "metadata": {
    "tags": []
   },
   "outputs": [],
   "source": []
  },
  {
   "cell_type": "code",
   "execution_count": null,
   "id": "dff288a3-9462-4e30-9d75-75b57999bd57",
   "metadata": {},
   "outputs": [],
   "source": []
  },
  {
   "cell_type": "code",
   "execution_count": null,
   "id": "c3d59b07-6c6e-46fd-858b-818538cb6ab1",
   "metadata": {},
   "outputs": [],
   "source": []
  },
  {
   "cell_type": "code",
   "execution_count": null,
   "id": "5ba635a5-dcc0-4ce6-82a8-d2af05911a41",
   "metadata": {},
   "outputs": [],
   "source": []
  },
  {
   "cell_type": "code",
   "execution_count": null,
   "id": "88976b22-36e9-4624-8bbd-c3f6db933b5b",
   "metadata": {},
   "outputs": [],
   "source": []
  },
  {
   "cell_type": "code",
   "execution_count": null,
   "id": "25b3d338-dc50-42d0-94da-ca505ec969dd",
   "metadata": {},
   "outputs": [],
   "source": []
  }
 ],
 "metadata": {
  "kernelspec": {
   "display_name": "Python 3 (ipykernel)",
   "language": "python",
   "name": "python3"
  },
  "language_info": {
   "codemirror_mode": {
    "name": "ipython",
    "version": 3
   },
   "file_extension": ".py",
   "mimetype": "text/x-python",
   "name": "python",
   "nbconvert_exporter": "python",
   "pygments_lexer": "ipython3",
   "version": "3.9.16"
  }
 },
 "nbformat": 4,
 "nbformat_minor": 5
}
