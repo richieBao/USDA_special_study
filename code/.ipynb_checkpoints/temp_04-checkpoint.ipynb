{
 "cells": [
  {
   "cell_type": "code",
   "execution_count": 21,
   "id": "79dd7a17-d25a-4cba-ac5e-4133088c030f",
   "metadata": {
    "tags": []
   },
   "outputs": [],
   "source": [
    "from fastai import *\n",
    "from fastai.vision import *\n",
    "import requests\n",
    "from bs4 import BeautifulSoup\n",
    "\n",
    "from pathlib import Path\n",
    "import os"
   ]
  },
  {
   "cell_type": "code",
   "execution_count": 22,
   "id": "18bb8e48-d490-46c1-bfa7-4dd3cb5b3074",
   "metadata": {
    "tags": []
   },
   "outputs": [],
   "source": [
    "path = Path(r'I:\\data\\Mars')\n",
    "large_fnames = os.listdir(path/'full_size')"
   ]
  },
  {
   "cell_type": "code",
   "execution_count": 24,
   "id": "f78bfd04-1630-4866-8cdb-756ed7dbd411",
   "metadata": {
    "tags": []
   },
   "outputs": [
    {
     "name": "stdout",
     "output_type": "stream",
     "text": [
      "0\n",
      "1000\n"
     ]
    }
   ],
   "source": [
    "for f, fname in enumerate(large_fnames):\n",
    "    \n",
    "    if f%1000 == 0:\n",
    "        print(f)\n",
    "    \n",
    "    im_id = fname.split('_RGB')[0]\n",
    "    \n",
    "    im = open_image(path/'full_size'/fname)\n",
    "    im = im.rotate(180) # rotation helps avoid single color channel artifacts at the top of many images\n",
    "    data = im.data\n",
    "    if data.shape[2] >= 512:\n",
    "        patches = data.unfold(1, 512, 512).unfold(2, 512, 512)\n",
    "\n",
    "        for i in range(patches.shape[1]):\n",
    "            for j in range(patches.shape[2]):\n",
    "                patch_fname = im_id + '_' + str(i) + '_' + str(j) + '.jpg'\n",
    "                pil_im = PIL.Image.fromarray(image2np(patches[:, i, j, :, :]*255).astype('uint8'))\n",
    "                pil_im.save(path/'image_patches'/patch_fname, quality=95)\n",
    "    else:\n",
    "        print('thin image') # some images are less than 512 on the thinnest side - these are discarded"
   ]
  },
  {
   "cell_type": "code",
   "execution_count": 25,
   "id": "ebf35f1d-92bd-4609-8e4f-0ad81c6be339",
   "metadata": {},
   "outputs": [],
   "source": [
    "patch_fnames = os.listdir(path/'image_patches')\n",
    "\n",
    "size=[4,8,16,32,64,128,256,512]\n",
    "for s in size:\n",
    "    p_path=os.path.join(path,f'patches_{s}')\n",
    "    if not os.path.exists(p_path):\n",
    "        os.makedirs(p_path)  "
   ]
  },
  {
   "cell_type": "code",
   "execution_count": 20,
   "id": "8f501ec2-3a6c-49af-9c40-338d002428e4",
   "metadata": {},
   "outputs": [
    {
     "name": "stdout",
     "output_type": "stream",
     "text": [
      "0\n",
      "1000\n"
     ]
    }
   ],
   "source": [
    "# code to resize patches\n",
    "for f, filename in enumerate(patch_fnames):\n",
    "    if f%1000 == 0:\n",
    "        print(f)\n",
    "    \n",
    "    ims = [open_image(path/'image_patches'/filename) for i in range(6)]\n",
    "    \n",
    "    im1 = ims[0].resize((3,256,256))\n",
    "    im2 = ims[1].resize((3,128,128))    \n",
    "    im3 = ims[2].resize((3,64,64))\n",
    "    im4 = ims[3].resize((3,32,32))\n",
    "    im5 = ims[4].resize((3,16,16))\n",
    "    im6 = ims[5].resize((3,8,8))\n",
    "    im7 = ims[6].resize((3,4,4))\n",
    "    \n",
    "    PIL.Image.fromarray(image2np(im1.data*255).astype(np.uint8)).save(path/'patches_256'/filename, quality=95)\n",
    "    PIL.Image.fromarray(image2np(im2.data*255).astype(np.uint8)).save(path/'patches_128'/filename, quality=95)\n",
    "    PIL.Image.fromarray(image2np(im3.data*255).astype(np.uint8)).save(path/'patches_64'/filename, quality=95)\n",
    "    PIL.Image.fromarray(image2np(im4.data*255).astype(np.uint8)).save(path/'patches_32'/filename, quality=95)\n",
    "    PIL.Image.fromarray(image2np(im5.data*255).astype(np.uint8)).save(path/'patches_16'/filename, quality=95)\n",
    "    PIL.Image.fromarray(image2np(im6.data*255).astype(np.uint8)).save(path/'patches_8'/filename, quality=95)\n",
    "    PIL.Image.fromarray(image2np(im7.data*255).astype(np.uint8)).save(path/'patches_8'/filename, quality=95)"
   ]
  },
  {
   "cell_type": "code",
   "execution_count": null,
   "id": "a7ce8371-bbf0-41e0-b65d-dd9388cfdbe1",
   "metadata": {},
   "outputs": [],
   "source": []
  }
 ],
 "metadata": {
  "kernelspec": {
   "display_name": "Python 3 (ipykernel)",
   "language": "python",
   "name": "python3"
  },
  "language_info": {
   "codemirror_mode": {
    "name": "ipython",
    "version": 3
   },
   "file_extension": ".py",
   "mimetype": "text/x-python",
   "name": "python",
   "nbconvert_exporter": "python",
   "pygments_lexer": "ipython3",
   "version": "3.9.16"
  }
 },
 "nbformat": 4,
 "nbformat_minor": 5
}
