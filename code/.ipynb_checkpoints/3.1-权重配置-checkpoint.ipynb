{
 "cells": [
  {
   "cell_type": "markdown",
   "id": "643afa91-70f2-4b71-a0eb-2c0d7b972374",
   "metadata": {},
   "source": [
    "Created on Mon Feb 20 15:44:40 2023 @author: Richie Bao-caDesign设计(cadesign.cn)"
   ]
  },
  {
   "cell_type": "markdown",
   "id": "cce3813e-847f-4ed2-ab3f-2dba595b2165",
   "metadata": {},
   "source": [
    "# 3.1 权重秩序\n",
    "\n",
    "## 3.1.1 多准则决策法 \n",
    "\n",
    "多准则决策法，Multiple Criteria Decision-Making（MCDM）也称之为 Multi-Criteria Decision Analysis（MCDA），Multi-attribute Decision-Making（MADM），或multi-object decision-making（MODM）（多目标决策法），是关于在同时考虑多个准则（criteria）/目标（objectives）下对备选方案（alternatives）进行排名（rank）或选择时做出决策。当准则越复杂， 备选方案增多时，确定哪个为最优方案的难度就越大。MCDM经过几十年的发展，各类算法涌现，已经成为解决现实问题的强大工具，可以帮助寻找最能满足要求众多相互冲突目标的决策<sup>[Gal, T., Stewart, T.J. and Hanne, T. (1999) Multicriteria decision making: Advances in MCDM models, algorithms, theory, and applications. Boston, MA: Kluwer academic. ]</sup>。MCDM被广泛应用于数学、经济学、管理学和工程领域等众多学科，服务于商业、非营利组织、政府、卫生、教育和个人决策等。MCDM（离散型，discrete）问题可以表述为一个矩阵，$\\begin{aligned} & \\begin{array}{llll} \\hspace{35pt} c_1 & \\hspace{8pt} c_2 & \\hspace{5pt} \\cdots &  \\hspace{5pt} c_n\\end{array} \\\\ & A=\\begin{array}{c}a_1 \\\\ a_2 \\\\ \\vdots \\\\ a_m\\end{array}\\left(\\begin{array}{cccc}p_{11} & p_{12} & \\cdots & p_{1 n} \\\\ p_{21} & p_{22} & \\cdots & p_{2 n} \\\\ \\vdots & \\vdots & \\ddots & \\vdots \\\\ p_{m 1} & p_{m 2} & \\cdots & p_{m n}\\end{array}\\right) \\\\ & \\end{aligned}$，式中$\\{ a_{1},a_{2}, \\ldots ,a_{m}  \\}$为备选方案（feasible alternatives，actions，stimuli）；$\\{ c_{1},c_{2}, \\ldots ,c_{n}  \\}$为决策准则（decision-making criterion）；$p_{ij} $为第$i$个备选方案对应到第$j$个决策准则的得分。其目标是从备选方案中寻找到最好（最可取、最重要的）的选择，即具有最佳整体价值（综合评价指数）的方案。计算第$i$个备选方案综合评价指数$V_{i} $的方法有很多算法，一般形式可以对决策准则赋予权重值$w_{j}(w_{j} \\geq 0, \\sum w_{j}=1  ) $，则$V_{i} $可以用一个简单的加权值函数得到，这是大多数 MCDM 方法的基础模型，公式为：$V_{i}= \\sum_{j=1}^n  w_{j} p_{ij}$。上述流程最为重要的部分是决策准则权重$w=\\{ w_{1},w_{1}, \\ldots ,w_{n} \\}$的确定<sup>[Rezaei, J. Best-worst multi-criteria decision-making method. Omega (United Kingdom) 53, 49–57 (2015).]</sup>。\n",
    "\n",
    "从上述对MCDM的描述及公式的表述，可以发现规划中的很多地理空间问题都可以转换为MCDM问题，例如其中的备选方案可以为城市的行政分区、子流域、样方、采样点、乃至栅格单元等；而决策准则为各类评价指标（体系），例如生态敏感性评价指标（压力层面的人口密度指数、建设用地占比、农业用地占比、污水排放率、废弃排放量、粉尘排放量、灾害易发度和地形坡度；状态层面的土地胁迫指数、生境质量指数、土地利用类型、水网密度指数、年降雨量、年总气温、植被覆盖度和经济发达指数；及响应层面的造林面积、生活污水处理率、工业SO<sub>2</sub>去除量和固体废物利用率等），采样熵值权重法和PCA权重法计算<sup>[黎家琦,武雪玲,唐诗怡.压力-状态-响应模型下的生态敏感性分析算法[J].测绘科学,2020,45(11):75-83+106.DOI:10.16251/j.cnki.1009-2307.2020.11.012.]</sup>；生态脆弱性评价指标（生态敏感性层面的景观破碎度、地形指数、土壤侵蚀量；生态恢复力层面的蔓延度、归一化植被指数、生物丰度等；生态压力度层面的人类活动强度和土地利用程度等），应用了熵权法计算<sup>[张金茜,李红瑛,曹二佳,巩杰.多尺度流域生态脆弱性评价及其空间关联性——以甘肃白龙江流域为例[J].应用生态学报,2018,29(09):2897-2906.DOI:10.13287/j.1001-9332.201809.008.]</sup>；景观感知决定因素（环境价值、文化价值、美学价值和个人经历或回忆等）<sup>[Solecka, I., Rinne, T., Caracciolo Martins, R., Kytta, M. & Albert, C. Important places in landscape – investigating the determinants of perceived landscape value in the suburban area of Wrocław, Poland. Landsc Urban Plan 218, 104289 (2022).]</sup>；热脆弱性指数（Heat Vulnerability Index，HVI）（涉及人口密度、小于5岁儿童人口比例、大于65，大于85的老人人口比例、大于65独居老人人口比例、小于5岁低于贫困线家庭的儿童人口比例、大于65岁低于贫困线家庭的老人人口比例、树冠覆盖率和早于1980年建成的建筑比例等），使用熵权法和TOPSIS（Technique for Order of Preference by Similarity to Ideal Solution ）算法计算<sup>[Boroushaki, S. Entropy-Based Weights for MultiCriteria Spatial Decision-Making. Yearbook of the Association of Pacific Coast Geographers 79, 168–187 (2017).]</sup>；生态系统服务评估和权衡（Integrated Valuation of Ecosystem Services and Tradeoffs，[InVEST](https://naturalcapitalproject.stanford.edu/software/invest)）中的很多模型也可以从MCDM角度思考，例如生物多样指数（涉及到当前土地利用/土地覆盖类型、威胁影响距离、威胁地图、栖息地适宜性和栖息地对威胁的敏感性等）。\n",
    "\n",
    "就MCMD问题，当前形成有多个[软件工具](https://en.wikipedia.org/wiki/Decision-making_software#Comparison_of_decision-making_software)，Valdecy Pereira则将其集成到了Python库中，构建了[pyDecision](https://github.com/Valdecy/pyDecision)包，包括40余种算法。对MCMD的解释，首先再现Soheil Boroushaki基于熵值权重法和改进的TOPSIS算法的MCDA计算<sup>[]</sup>；并将其应用于城市环境传感器AoT污染气体浓度数据测量点污染度指数评估中；再引入解释`pyDecision`集成的各类算法。"
   ]
  },
  {
   "cell_type": "code",
   "execution_count": 77,
   "id": "6f4b76e8-7c66-4dc4-8fc9-39e4131e3f87",
   "metadata": {},
   "outputs": [
    {
     "name": "stdout",
     "output_type": "stream",
     "text": [
      "The autoreload extension is already loaded. To reload it, use:\n",
      "  %reload_ext autoreload\n"
     ]
    }
   ],
   "source": [
    "# IPython extension to reload modules before executing user code.\n",
    "%load_ext autoreload \n",
    "# Reload all modules (except those excluded by %aimport) every time before executing the Python code typed.\n",
    "%autoreload 2 \n",
    "\n",
    "from usda import datasets as usda_datasets\n",
    "from usda import weight as usda_weight\n",
    "from usda import database as usda_database\n",
    "from usda import utils as usda_utils\n",
    "from usda import data_visualization as usda_vis\n",
    "from usda.database import postSQL2gpd,gpd2postSQL\n",
    "\n",
    "import pandas as pd\n",
    "import numpy as np\n",
    "import matplotlib.pyplot as plt\n",
    "import pyDecision.algorithm as da\n",
    "\n",
    "np.set_printoptions(linewidth=np.inf)"
   ]
  },
  {
   "cell_type": "markdown",
   "id": "856d8438-155d-4590-abbd-62ca8905854d",
   "metadata": {},
   "source": [
    "### 3.1.1.1 再现熵值权重法和改进的TOPSIS算法\n",
    "\n",
    "#### 1)  熵值权重法\n",
    "\n",
    "对于MCDM问题矩阵$A$，包含一定数量的信息，可以用于探索决策准则之间对备选方案综合评价指数影响的程度，即计算决策准则权重。权重的主观方法是由决策者、规划者、利益相关者根据经验或调查配置权重值，而客观方法则可以根据矩阵$A$决策准则中包含的信息量评估权重值。信息论（information theory）中香农的熵概念（Shannon’s entropy concept）已广泛应用于工程、信息科学和管理领域，用于衡量MCDM问题中包含的信息量，计算决策准则（例如各类指标）的信息量。\n",
    "\n",
    "将Soheil Boroushaki构建的示范数据矩阵写入到`USDA`库中，可以通过`usda_datasets.load_evaluation_criteria_raw_values()`方法调入，该数据用DataFrame格式表述，列为决策准则（criteria），包括坡度（slope）（度）、到水体距离（distance2water）（英里）、高程（elevation）（尺）和到人口中心的距离（distance2population）（英里）；行为备选方案（alternative），对应地理空间的位置区域，索引值为0、1、2和3。"
   ]
  },
  {
   "cell_type": "code",
   "execution_count": 4,
   "id": "69894406-49a8-494f-948f-a93a0b5c0104",
   "metadata": {},
   "outputs": [
    {
     "data": {
      "text/html": [
       "<div>\n",
       "<style scoped>\n",
       "    .dataframe tbody tr th:only-of-type {\n",
       "        vertical-align: middle;\n",
       "    }\n",
       "\n",
       "    .dataframe tbody tr th {\n",
       "        vertical-align: top;\n",
       "    }\n",
       "\n",
       "    .dataframe thead th {\n",
       "        text-align: right;\n",
       "    }\n",
       "</style>\n",
       "<table border=\"1\" class=\"dataframe\">\n",
       "  <thead>\n",
       "    <tr style=\"text-align: right;\">\n",
       "      <th></th>\n",
       "      <th>slope</th>\n",
       "      <th>distance2water</th>\n",
       "      <th>elevation</th>\n",
       "      <th>distance2population</th>\n",
       "    </tr>\n",
       "  </thead>\n",
       "  <tbody>\n",
       "    <tr>\n",
       "      <th>0</th>\n",
       "      <td>9</td>\n",
       "      <td>2.2</td>\n",
       "      <td>5700</td>\n",
       "      <td>1.2</td>\n",
       "    </tr>\n",
       "    <tr>\n",
       "      <th>1</th>\n",
       "      <td>20</td>\n",
       "      <td>3.2</td>\n",
       "      <td>3100</td>\n",
       "      <td>1.3</td>\n",
       "    </tr>\n",
       "    <tr>\n",
       "      <th>2</th>\n",
       "      <td>10</td>\n",
       "      <td>2.0</td>\n",
       "      <td>4900</td>\n",
       "      <td>1.2</td>\n",
       "    </tr>\n",
       "    <tr>\n",
       "      <th>3</th>\n",
       "      <td>16</td>\n",
       "      <td>3.5</td>\n",
       "      <td>3600</td>\n",
       "      <td>1.4</td>\n",
       "    </tr>\n",
       "  </tbody>\n",
       "</table>\n",
       "</div>"
      ],
      "text/plain": [
       "   slope  distance2water  elevation  distance2population\n",
       "0      9             2.2       5700                  1.2\n",
       "1     20             3.2       3100                  1.3\n",
       "2     10             2.0       4900                  1.2\n",
       "3     16             3.5       3600                  1.4"
      ]
     },
     "execution_count": 4,
     "metadata": {},
     "output_type": "execute_result"
    }
   ],
   "source": [
    "evaluation_criteria_raw_values_df=usda_datasets.load_evaluation_criteria_raw_values().data\n",
    "evaluation_criteria_raw_values_df"
   ]
  },
  {
   "cell_type": "markdown",
   "id": "01b2044c-90b9-4758-9847-e208b37401b8",
   "metadata": {},
   "source": [
    "信息熵的计算公式为：$E_j=\\left\\{\\begin{array}{cc}-\\frac{\\sum_{i=1}^m p_{i j} \\cdot \\ln \\left(p_{i j}\\right)}{\\ln (m)} & , p_{i j} \\neq 0 \\\\ 0 & , p_{i j}=0\\end{array}\\right.$，式中：$p_{i j}=\\frac{a_{i j}}{\\sum_{i=1}^m a_{i j}}$，$a_{i j}$为原始决策准则值，$p_{i j}$为原始决策准则值$a_{i j}$占各自决策准则列之和的比例，定义`df_Pij()`方法实现计算。由信息熵计算决策准则的权重值，公式为：$w_j=\\frac{1-E_j}{\\sum_{i=1}^m\\left(1-E_j\\right)}$，定义`entropy_weight()`方法，实现权重值计算，输入矩阵为原始决策准则值，$p_{i j}$直接在该函数内部实现。"
   ]
  },
  {
   "cell_type": "code",
   "execution_count": 5,
   "id": "4991444e-eb39-4a30-b461-d096859fd5f2",
   "metadata": {},
   "outputs": [
    {
     "data": {
      "text/html": [
       "<div>\n",
       "<style scoped>\n",
       "    .dataframe tbody tr th:only-of-type {\n",
       "        vertical-align: middle;\n",
       "    }\n",
       "\n",
       "    .dataframe tbody tr th {\n",
       "        vertical-align: top;\n",
       "    }\n",
       "\n",
       "    .dataframe thead th {\n",
       "        text-align: right;\n",
       "    }\n",
       "</style>\n",
       "<table border=\"1\" class=\"dataframe\">\n",
       "  <thead>\n",
       "    <tr style=\"text-align: right;\">\n",
       "      <th></th>\n",
       "      <th>slope</th>\n",
       "      <th>distance2water</th>\n",
       "      <th>elevation</th>\n",
       "      <th>distance2population</th>\n",
       "    </tr>\n",
       "  </thead>\n",
       "  <tbody>\n",
       "    <tr>\n",
       "      <th>0</th>\n",
       "      <td>0.163636</td>\n",
       "      <td>0.201835</td>\n",
       "      <td>0.329480</td>\n",
       "      <td>0.235294</td>\n",
       "    </tr>\n",
       "    <tr>\n",
       "      <th>1</th>\n",
       "      <td>0.363636</td>\n",
       "      <td>0.293578</td>\n",
       "      <td>0.179191</td>\n",
       "      <td>0.254902</td>\n",
       "    </tr>\n",
       "    <tr>\n",
       "      <th>2</th>\n",
       "      <td>0.181818</td>\n",
       "      <td>0.183486</td>\n",
       "      <td>0.283237</td>\n",
       "      <td>0.235294</td>\n",
       "    </tr>\n",
       "    <tr>\n",
       "      <th>3</th>\n",
       "      <td>0.290909</td>\n",
       "      <td>0.321101</td>\n",
       "      <td>0.208092</td>\n",
       "      <td>0.274510</td>\n",
       "    </tr>\n",
       "  </tbody>\n",
       "</table>\n",
       "</div>"
      ],
      "text/plain": [
       "      slope  distance2water  elevation  distance2population\n",
       "0  0.163636        0.201835   0.329480             0.235294\n",
       "1  0.363636        0.293578   0.179191             0.254902\n",
       "2  0.181818        0.183486   0.283237             0.235294\n",
       "3  0.290909        0.321101   0.208092             0.274510"
      ]
     },
     "execution_count": 5,
     "metadata": {},
     "output_type": "execute_result"
    }
   ],
   "source": [
    "df_Pij=usda_weight.df_Pij(evaluation_criteria_raw_values_df)\n",
    "df_Pij"
   ]
  },
  {
   "cell_type": "markdown",
   "id": "e2b17056-a53d-4ffa-98e0-5dd84b781730",
   "metadata": {},
   "source": [
    "`Ej`列为信息熵，`Wj`列为权重值。其中`slope`具有相对最小的信息熵，表明`slope`决策准则值在备选方案（地理空间区域）中分布相对不均匀，权重值相对较高；而对于`distance2population`决策准则值在备选方案中分布相对均匀，权重值则相对较低。"
   ]
  },
  {
   "cell_type": "code",
   "execution_count": 6,
   "id": "c3ad5a18-e962-48e1-ac14-b98088d170a8",
   "metadata": {
    "tags": []
   },
   "outputs": [
    {
     "data": {
      "text/html": [
       "<div>\n",
       "<style scoped>\n",
       "    .dataframe tbody tr th:only-of-type {\n",
       "        vertical-align: middle;\n",
       "    }\n",
       "\n",
       "    .dataframe tbody tr th {\n",
       "        vertical-align: top;\n",
       "    }\n",
       "\n",
       "    .dataframe thead th {\n",
       "        text-align: right;\n",
       "    }\n",
       "</style>\n",
       "<table border=\"1\" class=\"dataframe\">\n",
       "  <thead>\n",
       "    <tr style=\"text-align: right;\">\n",
       "      <th></th>\n",
       "      <th>Ej</th>\n",
       "      <th>1-Ej</th>\n",
       "      <th>Wj</th>\n",
       "    </tr>\n",
       "  </thead>\n",
       "  <tbody>\n",
       "    <tr>\n",
       "      <th>slope</th>\n",
       "      <td>0.961706</td>\n",
       "      <td>0.038294</td>\n",
       "      <td>0.477279</td>\n",
       "    </tr>\n",
       "    <tr>\n",
       "      <th>distance2water</th>\n",
       "      <td>0.980097</td>\n",
       "      <td>0.019903</td>\n",
       "      <td>0.248060</td>\n",
       "    </tr>\n",
       "    <tr>\n",
       "      <th>elevation</th>\n",
       "      <td>0.979473</td>\n",
       "      <td>0.020527</td>\n",
       "      <td>0.255832</td>\n",
       "    </tr>\n",
       "    <tr>\n",
       "      <th>distance2population</th>\n",
       "      <td>0.998489</td>\n",
       "      <td>0.001511</td>\n",
       "      <td>0.018829</td>\n",
       "    </tr>\n",
       "  </tbody>\n",
       "</table>\n",
       "</div>"
      ],
      "text/plain": [
       "                           Ej      1-Ej        Wj\n",
       "slope                0.961706  0.038294  0.477279\n",
       "distance2water       0.980097  0.019903  0.248060\n",
       "elevation            0.979473  0.020527  0.255832\n",
       "distance2population  0.998489  0.001511  0.018829"
      ]
     },
     "execution_count": 6,
     "metadata": {},
     "output_type": "execute_result"
    }
   ],
   "source": [
    "entropy_weight_df=usda_weight.entropy_weight(evaluation_criteria_raw_values_df)\n",
    "entropy_weight_df"
   ]
  },
  {
   "cell_type": "markdown",
   "id": "b4181600-744f-4977-91e0-e742e668a163",
   "metadata": {},
   "source": [
    "#### 2)  TOPSIS（理想解法） \n",
    "\n",
    "决策规则（ecision rule）可以定义为通过规范化具有权重的决策准则，计算每个备选方案的综合性指标，进行排序，选择最佳方案的过程。MCDM的决策规则包含有加权线性组合（weighted linear combination，WLC）、加权求和/布尔叠加法（weighted summation/Boolean overlay methods）、层次分析法（Analytic Hierarchy Process，AHP），理想/参考点法（ideal/reference point methods）和排序法（outranking methods）等众多算法<sup>[Malczewski, J. GIS-based multicriteria decision analysis: A survey of the literature. International Journal of Geographical Information Science 20, 703–726 (2006).][Malczewski, J. & Rinner, C. Advances in Geographic Information Science Multicriteria Decision Analysis in Geographic Information Science. http://www.springer.com/series/7712.]</sup>。TOPSIS (Technique for Order Performance by Similarity to Ideal Solution)算法的基本原理是折衷的解决方案必须同时靠近正理想解（positive ideal solution，PIS）而远离负理想解（ negative ideal solution，NIS）。正理想解表示一个假设的备选方案，其由每个决策准则的最理想的规范化属性值组成；而负理想解表示的假设备选方案由每个决策准则的最差性能的规范化属性值组成。TOPSIS的基本假设是决策准则（评估标注）值得单调递增或递减，因此识别一组决策准则值的最大值和最小值，可以很容易确定每个准则的正理想和负理想解。TOPSIS 结合到正理想解和负理想解的距离来衡量每个备选位置与正理想解的相对接近程度，然后，备选方案将根据这一综合衡量标准进行排名<sup>Hwang, C.-L., and K. Yoon. 1981. Multiple Attribute Decision Making. Methods and Applications A State-of-the-Art Survey. Berlin: Springer-Verlag. </sup>。\n",
    "\n",
    "首先通过将决策矩阵$A$中的每个决策准则值$a_{i j}$标准化为无量纲的$v_{i j}$来构建归一化决策矩阵，以便比较不同的属性，其公式为： $v_{i j}=\\frac{a_{i j}}{\\sqrt{\\sum_{i=1}^m a_{i j}^2}}$，定义`df_standardized_evaluation()`方法实现。"
   ]
  },
  {
   "cell_type": "code",
   "execution_count": 7,
   "id": "2715b8a2-489d-4d60-99d0-b88592afc545",
   "metadata": {
    "tags": []
   },
   "outputs": [
    {
     "data": {
      "text/html": [
       "<div>\n",
       "<style scoped>\n",
       "    .dataframe tbody tr th:only-of-type {\n",
       "        vertical-align: middle;\n",
       "    }\n",
       "\n",
       "    .dataframe tbody tr th {\n",
       "        vertical-align: top;\n",
       "    }\n",
       "\n",
       "    .dataframe thead th {\n",
       "        text-align: right;\n",
       "    }\n",
       "</style>\n",
       "<table border=\"1\" class=\"dataframe\">\n",
       "  <thead>\n",
       "    <tr style=\"text-align: right;\">\n",
       "      <th></th>\n",
       "      <th>slope</th>\n",
       "      <th>distance2water</th>\n",
       "      <th>elevation</th>\n",
       "      <th>distance2population</th>\n",
       "    </tr>\n",
       "  </thead>\n",
       "  <tbody>\n",
       "    <tr>\n",
       "      <th>0</th>\n",
       "      <td>0.311086</td>\n",
       "      <td>0.393045</td>\n",
       "      <td>0.641016</td>\n",
       "      <td>0.469596</td>\n",
       "    </tr>\n",
       "    <tr>\n",
       "      <th>1</th>\n",
       "      <td>0.691301</td>\n",
       "      <td>0.571702</td>\n",
       "      <td>0.348623</td>\n",
       "      <td>0.508729</td>\n",
       "    </tr>\n",
       "    <tr>\n",
       "      <th>2</th>\n",
       "      <td>0.345651</td>\n",
       "      <td>0.357314</td>\n",
       "      <td>0.551049</td>\n",
       "      <td>0.469596</td>\n",
       "    </tr>\n",
       "    <tr>\n",
       "      <th>3</th>\n",
       "      <td>0.553041</td>\n",
       "      <td>0.625299</td>\n",
       "      <td>0.404852</td>\n",
       "      <td>0.547862</td>\n",
       "    </tr>\n",
       "  </tbody>\n",
       "</table>\n",
       "</div>"
      ],
      "text/plain": [
       "      slope  distance2water  elevation  distance2population\n",
       "0  0.311086        0.393045   0.641016             0.469596\n",
       "1  0.691301        0.571702   0.348623             0.508729\n",
       "2  0.345651        0.357314   0.551049             0.469596\n",
       "3  0.553041        0.625299   0.404852             0.547862"
      ]
     },
     "execution_count": 7,
     "metadata": {},
     "output_type": "execute_result"
    }
   ],
   "source": [
    "standardized_evaluation_criteria_df=usda_weight.df_standardized_evaluation(evaluation_criteria_raw_values_df)\n",
    "standardized_evaluation_criteria_df"
   ]
  },
  {
   "cell_type": "markdown",
   "id": "dc486974-720b-49ce-88a2-9734d1a86a8a",
   "metadata": {},
   "source": [
    "然后，确定正理想解（$V^{+}(PIS)$）和负理想解（$ V^{-}(NIS)$），其公式为：$\\begin{aligned} & V^{+}=\\left\\{v_1^{+}, v_2^{+}, \\ldots, v_n^{+}\\right\\}=\\left\\{\\left(\\max _i v_{i j} \\mid j \\in J\\right),\\left(\\min _i v_{i j} \\mid j \\in J^{\\prime}\\right), i=1,2, \\ldots, m\\right\\} \\\\ & V^{-}=\\left\\{v_1^{-}, v_2^{-}, \\ldots, v_n^{-}\\right\\}=\\left\\{\\left(\\min _i v_{i j} \\mid j \\in J\\right),\\left(\\max _i v_{i j} \\mid j \\in J^{\\prime}\\right), i=1,2, \\ldots, m\\right\\}\\end{aligned}$，式中，$J$与收益、最大化或正向评估标准化相关；而$J' $与成本、最小化或反向评估标准相关联。定义`PIS_NIS()`方法实现，对于每个决策准则方向的确定（值越大越好，约趋向正理想解，还是正好相反；负理想解同，通常与正理想解相反），通过传入`pis`参数确定，该参数的形式设计为一个字典，以决策准则（列名）为键，值为1或者0，为1时表明正理想解越大越好；为0时表明正理想解越小越好。负理想解与正理想解相反（由程序内部判断）。例如，对于`slope`决策准则为值越低越好，因此正理想解为0.311为最小值，而负理想解为最大值0.691；对于`distance2population`决策准则值则越大越好，因此正理想解为0.547，而负理想解为0.469。"
   ]
  },
  {
   "cell_type": "code",
   "execution_count": 8,
   "id": "1dbd5d10-8340-4d70-bcef-5e984601e2a3",
   "metadata": {
    "tags": []
   },
   "outputs": [
    {
     "data": {
      "text/html": [
       "<div>\n",
       "<style scoped>\n",
       "    .dataframe tbody tr th:only-of-type {\n",
       "        vertical-align: middle;\n",
       "    }\n",
       "\n",
       "    .dataframe tbody tr th {\n",
       "        vertical-align: top;\n",
       "    }\n",
       "\n",
       "    .dataframe thead th {\n",
       "        text-align: right;\n",
       "    }\n",
       "</style>\n",
       "<table border=\"1\" class=\"dataframe\">\n",
       "  <thead>\n",
       "    <tr style=\"text-align: right;\">\n",
       "      <th></th>\n",
       "      <th>slope</th>\n",
       "      <th>distance2water</th>\n",
       "      <th>elevation</th>\n",
       "      <th>distance2population</th>\n",
       "    </tr>\n",
       "  </thead>\n",
       "  <tbody>\n",
       "    <tr>\n",
       "      <th>V+</th>\n",
       "      <td>0.311086</td>\n",
       "      <td>0.357314</td>\n",
       "      <td>0.348623</td>\n",
       "      <td>0.547862</td>\n",
       "    </tr>\n",
       "    <tr>\n",
       "      <th>V-</th>\n",
       "      <td>0.691301</td>\n",
       "      <td>0.625299</td>\n",
       "      <td>0.641016</td>\n",
       "      <td>0.469596</td>\n",
       "    </tr>\n",
       "  </tbody>\n",
       "</table>\n",
       "</div>"
      ],
      "text/plain": [
       "       slope  distance2water  elevation  distance2population\n",
       "V+  0.311086        0.357314   0.348623             0.547862\n",
       "V-  0.691301        0.625299   0.641016             0.469596"
      ]
     },
     "execution_count": 8,
     "metadata": {},
     "output_type": "execute_result"
    }
   ],
   "source": [
    "pis_nis=usda_weight.PIS_NIS(standardized_evaluation_criteria_df,pis={'slope':0,'distance2water':0,'elevation':0,'distance2population':1})  \n",
    "pis_nis"
   ]
  },
  {
   "cell_type": "markdown",
   "id": "657309cc-8ae5-4597-a543-95700cea9c37",
   "metadata": {},
   "source": [
    "进而，计算各备选方案到正负理想解的距离（$S_i^{+}$和$S_i^{-}$），公式为：$\\begin{aligned} & S_i^{+}=\\left[\\sum_{j=1}^n w_j^p \\cdot\\left(\\left|v_{i j}-v_{i j}^{+}\\right|\\right)^p\\right]^{\\frac{1}{p}} \\\\ & S_i^{-}=\\left[\\sum_{j=1}^n w_j^p \\cdot\\left(\\left|v_{i j}-v_{i j}^{-}\\right|\\right)^p\\right]^{\\frac{1}{p}}\\end{aligned}$，式中，$ w_j$为前文计算的决策准则信息熵权重值，$p$本次实验配置值为2，为欧氏距离度量。\n",
    "\n",
    "最后，计算各备选方案的排序指标值（即综合评价指数）$C_i^{+}$，为到正理想解的相对接近度（ relative closeness），公式为： $C_i^{+}=\\frac{S_i^{-}}{S_i^{+}+S_i^{-}}$。\n",
    "\n",
    "定义`closeness_pis_nis()`方法实现TOPSIS算法，包括决策矩阵标准化、确定正负理想解及距离计算和综合评价指数计算过程。计算结果显示，备选方案2为最优解，是最适合的选择区域。"
   ]
  },
  {
   "cell_type": "code",
   "execution_count": 106,
   "id": "f1ba5b3b-3f33-422f-858a-8c75b8d1400c",
   "metadata": {
    "tags": []
   },
   "outputs": [
    {
     "data": {
      "text/html": [
       "<div>\n",
       "<style scoped>\n",
       "    .dataframe tbody tr th:only-of-type {\n",
       "        vertical-align: middle;\n",
       "    }\n",
       "\n",
       "    .dataframe tbody tr th {\n",
       "        vertical-align: top;\n",
       "    }\n",
       "\n",
       "    .dataframe thead th {\n",
       "        text-align: right;\n",
       "    }\n",
       "</style>\n",
       "<table border=\"1\" class=\"dataframe\">\n",
       "  <thead>\n",
       "    <tr style=\"text-align: right;\">\n",
       "      <th></th>\n",
       "      <th>Si+</th>\n",
       "      <th>Si-</th>\n",
       "      <th>Ci+</th>\n",
       "      <th>Rank</th>\n",
       "    </tr>\n",
       "  </thead>\n",
       "  <tbody>\n",
       "    <tr>\n",
       "      <th>0</th>\n",
       "      <td>0.075341</td>\n",
       "      <td>0.190395</td>\n",
       "      <td>0.716481</td>\n",
       "      <td>2.0</td>\n",
       "    </tr>\n",
       "    <tr>\n",
       "      <th>1</th>\n",
       "      <td>0.189103</td>\n",
       "      <td>0.075979</td>\n",
       "      <td>0.286626</td>\n",
       "      <td>4.0</td>\n",
       "    </tr>\n",
       "    <tr>\n",
       "      <th>2</th>\n",
       "      <td>0.054371</td>\n",
       "      <td>0.179345</td>\n",
       "      <td>0.767362</td>\n",
       "      <td>1.0</td>\n",
       "    </tr>\n",
       "    <tr>\n",
       "      <th>3</th>\n",
       "      <td>0.134021</td>\n",
       "      <td>0.089482</td>\n",
       "      <td>0.400361</td>\n",
       "      <td>3.0</td>\n",
       "    </tr>\n",
       "  </tbody>\n",
       "</table>\n",
       "</div>"
      ],
      "text/plain": [
       "        Si+       Si-       Ci+  Rank\n",
       "0  0.075341  0.190395  0.716481   2.0\n",
       "1  0.189103  0.075979  0.286626   4.0\n",
       "2  0.054371  0.179345  0.767362   1.0\n",
       "3  0.134021  0.089482  0.400361   3.0"
      ]
     },
     "execution_count": 106,
     "metadata": {},
     "output_type": "execute_result"
    }
   ],
   "source": [
    "separation_measure_df=usda_weight.closeness_pis_nis(standardized_evaluation_criteria_df,pis={'slope':0,'distance2water':0,'elevation':0,'distance2population':1},Wj=entropy_weight_df['Wj'])\n",
    "separation_measure_df"
   ]
  },
  {
   "cell_type": "markdown",
   "id": "a3e2d70e-3e44-46ea-9464-af474312f50f",
   "metadata": {},
   "source": [
    "### 3.1.1.2 污染气体浓度数据测量点污染浓度综合指数评估\n",
    "\n",
    "使用“2.7.1 城市环境传感器AoT（SAGE）数据预处理” 一章中处理后的数据，就污染气体（CO, H2S, NO2, O3, SO2, oxidizing_gases和reducing_gases）浓度值评估不同测量点位污染的综合指数，最优解的测量点位应该是各类污染气体浓度值相对最低的区域。\n",
    "\n",
    "参数管理使用`AttrDict()方法`（具体查看“Cityscapes数据集——参数管理”一节），将该方法写入到`USDA`库中，方便调用。"
   ]
  },
  {
   "cell_type": "code",
   "execution_count": 10,
   "id": "a4f16ef3-dc91-441e-ad53-f625a50a6e42",
   "metadata": {
    "tags": []
   },
   "outputs": [],
   "source": [
    "__C=usda_utils.AttrDict() \n",
    "args=__C\n",
    "\n",
    "__C.db=usda_utils.AttrDict() \n",
    "__C.db.UN='postgres'\n",
    "__C.db.PW='123456'\n",
    "__C.db.DB='AoT_20220831'\n",
    "__C.db.GC='geometry' \n",
    "__C.db.db_info=dict(geom_col=args.db.GC,myusername=args.db.UN,mypassword=args.db.PW,mydatabase=args.db.DB)"
   ]
  },
  {
   "cell_type": "code",
   "execution_count": 11,
   "id": "b78c3f01-9bc0-4552-905d-a0e9dee49150",
   "metadata": {
    "tags": []
   },
   "outputs": [
    {
     "name": "stdout",
     "output_type": "stream",
     "text": [
      "__________________________________________________\n",
      "The data has been read from PostgreSQL database. The table name is concentration.\n"
     ]
    }
   ],
   "source": [
    "gas_concentration_gdf=postSQL2gpd(table_name=\"concentration\",**args.db.db_info)"
   ]
  },
  {
   "cell_type": "code",
   "execution_count": 13,
   "id": "d34550ec-c69d-4fec-8c16-f835e9a8ab01",
   "metadata": {
    "tags": []
   },
   "outputs": [
    {
     "data": {
      "text/html": [
       "<div>\n",
       "<style scoped>\n",
       "    .dataframe tbody tr th:only-of-type {\n",
       "        vertical-align: middle;\n",
       "    }\n",
       "\n",
       "    .dataframe tbody tr th {\n",
       "        vertical-align: top;\n",
       "    }\n",
       "\n",
       "    .dataframe thead th {\n",
       "        text-align: right;\n",
       "    }\n",
       "</style>\n",
       "<table border=\"1\" class=\"dataframe\">\n",
       "  <thead>\n",
       "    <tr style=\"text-align: right;\">\n",
       "      <th></th>\n",
       "      <th>timestamp</th>\n",
       "      <th>node_id</th>\n",
       "      <th>subsystem</th>\n",
       "      <th>sensor</th>\n",
       "      <th>parameter</th>\n",
       "      <th>value_hrf_sum</th>\n",
       "      <th>value_hrf_count</th>\n",
       "      <th>value_hrf_average</th>\n",
       "      <th>value_hrf_min</th>\n",
       "      <th>value_hrf_max</th>\n",
       "      <th>project_id</th>\n",
       "      <th>vsn</th>\n",
       "      <th>address</th>\n",
       "      <th>lat</th>\n",
       "      <th>lon</th>\n",
       "      <th>description</th>\n",
       "      <th>start_timestamp</th>\n",
       "      <th>end_timestamp</th>\n",
       "      <th>geometry</th>\n",
       "      <th>ts</th>\n",
       "    </tr>\n",
       "  </thead>\n",
       "  <tbody>\n",
       "    <tr>\n",
       "      <th>0</th>\n",
       "      <td>2020/01/01 00:30:00</td>\n",
       "      <td>001e0610ee43</td>\n",
       "      <td>chemsense</td>\n",
       "      <td>co</td>\n",
       "      <td>concentration</td>\n",
       "      <td>6.383</td>\n",
       "      <td>77</td>\n",
       "      <td>0.083</td>\n",
       "      <td>0.001</td>\n",
       "      <td>0.281</td>\n",
       "      <td>AoT_Chicago</td>\n",
       "      <td>08B</td>\n",
       "      <td>UChicago Chicago IL</td>\n",
       "      <td>41.788608</td>\n",
       "      <td>-87.598713</td>\n",
       "      <td>AoT Chicago (S) [C] {UChicago}</td>\n",
       "      <td>2018/02/23 00:00:00</td>\n",
       "      <td>None</td>\n",
       "      <td>POINT (450252.141 4626479.257)</td>\n",
       "      <td>2020-01-01 00:30:00</td>\n",
       "    </tr>\n",
       "    <tr>\n",
       "      <th>1</th>\n",
       "      <td>2020/01/01 00:30:00</td>\n",
       "      <td>001e061183f5</td>\n",
       "      <td>chemsense</td>\n",
       "      <td>co</td>\n",
       "      <td>concentration</td>\n",
       "      <td>7.711</td>\n",
       "      <td>53</td>\n",
       "      <td>0.145</td>\n",
       "      <td>0.009</td>\n",
       "      <td>0.457</td>\n",
       "      <td>AoT_Chicago</td>\n",
       "      <td>0BF</td>\n",
       "      <td>111th &amp; Michigan Ave Chicago IL</td>\n",
       "      <td>41.692703</td>\n",
       "      <td>-87.621020</td>\n",
       "      <td>AoT Chicago (S) [CP]</td>\n",
       "      <td>2019/06/24 00:00:00</td>\n",
       "      <td>None</td>\n",
       "      <td>POINT (448321.777 4615844.593)</td>\n",
       "      <td>2020-01-01 00:30:00</td>\n",
       "    </tr>\n",
       "    <tr>\n",
       "      <th>2</th>\n",
       "      <td>2020/01/01 00:30:00</td>\n",
       "      <td>001e061183f5</td>\n",
       "      <td>chemsense</td>\n",
       "      <td>h2s</td>\n",
       "      <td>concentration</td>\n",
       "      <td>223.790</td>\n",
       "      <td>143</td>\n",
       "      <td>1.565</td>\n",
       "      <td>1.244</td>\n",
       "      <td>1.929</td>\n",
       "      <td>AoT_Chicago</td>\n",
       "      <td>0BF</td>\n",
       "      <td>111th &amp; Michigan Ave Chicago IL</td>\n",
       "      <td>41.692703</td>\n",
       "      <td>-87.621020</td>\n",
       "      <td>AoT Chicago (S) [CP]</td>\n",
       "      <td>2019/06/24 00:00:00</td>\n",
       "      <td>None</td>\n",
       "      <td>POINT (448321.777 4615844.593)</td>\n",
       "      <td>2020-01-01 00:30:00</td>\n",
       "    </tr>\n",
       "  </tbody>\n",
       "</table>\n",
       "</div>"
      ],
      "text/plain": [
       "             timestamp       node_id  subsystem sensor      parameter  \\\n",
       "0  2020/01/01 00:30:00  001e0610ee43  chemsense     co  concentration   \n",
       "1  2020/01/01 00:30:00  001e061183f5  chemsense     co  concentration   \n",
       "2  2020/01/01 00:30:00  001e061183f5  chemsense    h2s  concentration   \n",
       "\n",
       "   value_hrf_sum  value_hrf_count  value_hrf_average  value_hrf_min  \\\n",
       "0          6.383               77              0.083          0.001   \n",
       "1          7.711               53              0.145          0.009   \n",
       "2        223.790              143              1.565          1.244   \n",
       "\n",
       "   value_hrf_max   project_id  vsn                          address  \\\n",
       "0          0.281  AoT_Chicago  08B              UChicago Chicago IL   \n",
       "1          0.457  AoT_Chicago  0BF  111th & Michigan Ave Chicago IL   \n",
       "2          1.929  AoT_Chicago  0BF  111th & Michigan Ave Chicago IL   \n",
       "\n",
       "         lat        lon                     description      start_timestamp  \\\n",
       "0  41.788608 -87.598713  AoT Chicago (S) [C] {UChicago}  2018/02/23 00:00:00   \n",
       "1  41.692703 -87.621020            AoT Chicago (S) [CP]  2019/06/24 00:00:00   \n",
       "2  41.692703 -87.621020            AoT Chicago (S) [CP]  2019/06/24 00:00:00   \n",
       "\n",
       "  end_timestamp                        geometry                  ts  \n",
       "0          None  POINT (450252.141 4626479.257) 2020-01-01 00:30:00  \n",
       "1          None  POINT (448321.777 4615844.593) 2020-01-01 00:30:00  \n",
       "2          None  POINT (448321.777 4615844.593) 2020-01-01 00:30:00  "
      ]
     },
     "execution_count": 13,
     "metadata": {},
     "output_type": "execute_result"
    }
   ],
   "source": [
    "gas_concentration_gdf.head(3)"
   ]
  },
  {
   "cell_type": "markdown",
   "id": "1b0bacd3-9004-4cf3-a392-3a27be8299cf",
   "metadata": {},
   "source": [
    "计算读取的`gas_concentration_gdf`时间序列数据为各个测量点位各类污染气体的年均值，以各类气体污染浓度为决策准则，以测量点位（`node_id`）为备选方案。"
   ]
  },
  {
   "cell_type": "code",
   "execution_count": 15,
   "id": "8b991a23-5738-4077-8dda-4e402bdd0ed9",
   "metadata": {
    "tags": []
   },
   "outputs": [
    {
     "name": "stdout",
     "output_type": "stream",
     "text": [
      "(17, 8)\n"
     ]
    },
    {
     "data": {
      "text/html": [
       "<div>\n",
       "<style scoped>\n",
       "    .dataframe tbody tr th:only-of-type {\n",
       "        vertical-align: middle;\n",
       "    }\n",
       "\n",
       "    .dataframe tbody tr th {\n",
       "        vertical-align: top;\n",
       "    }\n",
       "\n",
       "    .dataframe thead th {\n",
       "        text-align: right;\n",
       "    }\n",
       "</style>\n",
       "<table border=\"1\" class=\"dataframe\">\n",
       "  <thead>\n",
       "    <tr style=\"text-align: right;\">\n",
       "      <th></th>\n",
       "      <th>co</th>\n",
       "      <th>h2s</th>\n",
       "      <th>no2</th>\n",
       "      <th>o3</th>\n",
       "      <th>oxidizing_gases</th>\n",
       "      <th>reducing_gases</th>\n",
       "      <th>so2</th>\n",
       "      <th>geometry</th>\n",
       "    </tr>\n",
       "    <tr>\n",
       "      <th>node_id</th>\n",
       "      <th></th>\n",
       "      <th></th>\n",
       "      <th></th>\n",
       "      <th></th>\n",
       "      <th></th>\n",
       "      <th></th>\n",
       "      <th></th>\n",
       "      <th></th>\n",
       "    </tr>\n",
       "  </thead>\n",
       "  <tbody>\n",
       "    <tr>\n",
       "      <th>001e0610ee43</th>\n",
       "      <td>0.100156</td>\n",
       "      <td>0.016942</td>\n",
       "      <td>0.005921</td>\n",
       "      <td>0.002911</td>\n",
       "      <td>0.100419</td>\n",
       "      <td>0.023512</td>\n",
       "      <td>0.155692</td>\n",
       "      <td>POINT (450252.141 4626479.257)</td>\n",
       "    </tr>\n",
       "    <tr>\n",
       "      <th>001e06113107</th>\n",
       "      <td>1.381645</td>\n",
       "      <td>0.042800</td>\n",
       "      <td>0.005717</td>\n",
       "      <td>0.002976</td>\n",
       "      <td>0.715194</td>\n",
       "      <td>0.088307</td>\n",
       "      <td>0.304424</td>\n",
       "      <td>POINT (440722.179 4622392.015)</td>\n",
       "    </tr>\n",
       "    <tr>\n",
       "      <th>001e06117b41</th>\n",
       "      <td>0.191377</td>\n",
       "      <td>0.349793</td>\n",
       "      <td>0.014280</td>\n",
       "      <td>0.004547</td>\n",
       "      <td>1.306005</td>\n",
       "      <td>0.419687</td>\n",
       "      <td>0.547236</td>\n",
       "      <td>POINT (448297.079 4626171.925)</td>\n",
       "    </tr>\n",
       "  </tbody>\n",
       "</table>\n",
       "</div>"
      ],
      "text/plain": [
       "                    co       h2s       no2        o3  oxidizing_gases  \\\n",
       "node_id                                                                 \n",
       "001e0610ee43  0.100156  0.016942  0.005921  0.002911         0.100419   \n",
       "001e06113107  1.381645  0.042800  0.005717  0.002976         0.715194   \n",
       "001e06117b41  0.191377  0.349793  0.014280  0.004547         1.306005   \n",
       "\n",
       "              reducing_gases       so2                        geometry  \n",
       "node_id                                                                 \n",
       "001e0610ee43        0.023512  0.155692  POINT (450252.141 4626479.257)  \n",
       "001e06113107        0.088307  0.304424  POINT (440722.179 4622392.015)  \n",
       "001e06117b41        0.419687  0.547236  POINT (448297.079 4626171.925)  "
      ]
     },
     "execution_count": 15,
     "metadata": {},
     "output_type": "execute_result"
    }
   ],
   "source": [
    "gas_grouped=gas_concentration_gdf.groupby(['node_id','sensor']).agg({'value_hrf_average':'mean','geometry':'first'})\n",
    "gas_grouuped_val=gas_grouped['value_hrf_average'].unstack(level=1)\n",
    "gas_grouuped_val.dropna(axis=0,how='any',inplace=True)\n",
    "\n",
    "gas_grouped_geometry=gas_grouped['geometry']\n",
    "gas_grouped_geometry_series=gas_grouped_geometry[~gas_grouped_geometry.index.get_level_values(0).duplicated(keep='last')].droplevel(level=1)\n",
    "\n",
    "gas_concentration_grouuped_gdf=gas_grouuped_val.join(gas_grouped_geometry_series).set_geometry('geometry',crs=gas_concentration_gdf.crs)\n",
    "print(gas_concentration_grouuped_gdf.shape)\n",
    "gas_concentration_grouuped_gdf.head(3)"
   ]
  },
  {
   "cell_type": "markdown",
   "id": "4af428ac-5587-487d-9543-d18e6f5feab6",
   "metadata": {},
   "source": [
    "读取芝加哥城的行政区划数据，方便测量单位分布位置的查看。"
   ]
  },
  {
   "cell_type": "code",
   "execution_count": 16,
   "id": "74b06dde-817b-49f9-abce-fd6c02467dfd",
   "metadata": {
    "tags": []
   },
   "outputs": [
    {
     "name": "stdout",
     "output_type": "stream",
     "text": [
      "__________________________________________________\n",
      "The data has been read from PostgreSQL database. The table name is chicago_community_areas.\n"
     ]
    }
   ],
   "source": [
    "chicago_community_areas=postSQL2gpd(table_name='chicago_community_areas',**args.db.db_info)  "
   ]
  },
  {
   "cell_type": "markdown",
   "id": "d05ed5ca-b889-4ddb-8562-22ef5cdf6bd1",
   "metadata": {},
   "source": [
    "应用上述定义的熵值权重法和TOPSIS算法，计算污染气体浓度下的MCDM问题。从计算结果来看，测量点位`001e0611856d`为最优方案，各类气体污染浓度相对较小。"
   ]
  },
  {
   "cell_type": "code",
   "execution_count": 231,
   "id": "dcd8398b-5be9-41f6-a2f5-709e9af9e714",
   "metadata": {
    "tags": []
   },
   "outputs": [
    {
     "data": {
      "text/html": [
       "<div>\n",
       "<style scoped>\n",
       "    .dataframe tbody tr th:only-of-type {\n",
       "        vertical-align: middle;\n",
       "    }\n",
       "\n",
       "    .dataframe tbody tr th {\n",
       "        vertical-align: top;\n",
       "    }\n",
       "\n",
       "    .dataframe thead th {\n",
       "        text-align: right;\n",
       "    }\n",
       "</style>\n",
       "<table border=\"1\" class=\"dataframe\">\n",
       "  <thead>\n",
       "    <tr style=\"text-align: right;\">\n",
       "      <th></th>\n",
       "      <th>Si+</th>\n",
       "      <th>Si-</th>\n",
       "      <th>Ci+</th>\n",
       "      <th>Rank</th>\n",
       "      <th>node_id</th>\n",
       "    </tr>\n",
       "  </thead>\n",
       "  <tbody>\n",
       "    <tr>\n",
       "      <th>0</th>\n",
       "      <td>0.003842</td>\n",
       "      <td>0.426265</td>\n",
       "      <td>0.991068</td>\n",
       "      <td>2.0</td>\n",
       "      <td>001e0610ee43</td>\n",
       "    </tr>\n",
       "    <tr>\n",
       "      <th>1</th>\n",
       "      <td>0.009027</td>\n",
       "      <td>0.420979</td>\n",
       "      <td>0.979008</td>\n",
       "      <td>4.0</td>\n",
       "      <td>001e06113107</td>\n",
       "    </tr>\n",
       "    <tr>\n",
       "      <th>2</th>\n",
       "      <td>0.025925</td>\n",
       "      <td>0.415602</td>\n",
       "      <td>0.941282</td>\n",
       "      <td>14.0</td>\n",
       "      <td>001e06117b41</td>\n",
       "    </tr>\n",
       "    <tr>\n",
       "      <th>3</th>\n",
       "      <td>0.016292</td>\n",
       "      <td>0.415278</td>\n",
       "      <td>0.962251</td>\n",
       "      <td>11.0</td>\n",
       "      <td>001e06117b44</td>\n",
       "    </tr>\n",
       "    <tr>\n",
       "      <th>4</th>\n",
       "      <td>0.008117</td>\n",
       "      <td>0.421103</td>\n",
       "      <td>0.981090</td>\n",
       "      <td>3.0</td>\n",
       "      <td>001e0611804d</td>\n",
       "    </tr>\n",
       "    <tr>\n",
       "      <th>5</th>\n",
       "      <td>0.020310</td>\n",
       "      <td>0.416891</td>\n",
       "      <td>0.953546</td>\n",
       "      <td>13.0</td>\n",
       "      <td>001e06118182</td>\n",
       "    </tr>\n",
       "    <tr>\n",
       "      <th>6</th>\n",
       "      <td>0.012700</td>\n",
       "      <td>0.424827</td>\n",
       "      <td>0.970974</td>\n",
       "      <td>8.0</td>\n",
       "      <td>001e06118295</td>\n",
       "    </tr>\n",
       "    <tr>\n",
       "      <th>7</th>\n",
       "      <td>0.012010</td>\n",
       "      <td>0.420971</td>\n",
       "      <td>0.972261</td>\n",
       "      <td>7.0</td>\n",
       "      <td>001e061182a2</td>\n",
       "    </tr>\n",
       "    <tr>\n",
       "      <th>8</th>\n",
       "      <td>0.016872</td>\n",
       "      <td>0.421351</td>\n",
       "      <td>0.961500</td>\n",
       "      <td>12.0</td>\n",
       "      <td>001e061182a7</td>\n",
       "    </tr>\n",
       "    <tr>\n",
       "      <th>9</th>\n",
       "      <td>0.009138</td>\n",
       "      <td>0.424579</td>\n",
       "      <td>0.978931</td>\n",
       "      <td>5.0</td>\n",
       "      <td>001e061183bf</td>\n",
       "    </tr>\n",
       "    <tr>\n",
       "      <th>10</th>\n",
       "      <td>0.038781</td>\n",
       "      <td>0.407858</td>\n",
       "      <td>0.913172</td>\n",
       "      <td>15.0</td>\n",
       "      <td>001e061183f3</td>\n",
       "    </tr>\n",
       "    <tr>\n",
       "      <th>11</th>\n",
       "      <td>0.316724</td>\n",
       "      <td>0.272641</td>\n",
       "      <td>0.462601</td>\n",
       "      <td>17.0</td>\n",
       "      <td>001e061183f5</td>\n",
       "    </tr>\n",
       "    <tr>\n",
       "      <th>12</th>\n",
       "      <td>0.014791</td>\n",
       "      <td>0.424615</td>\n",
       "      <td>0.966340</td>\n",
       "      <td>9.0</td>\n",
       "      <td>001e06118433</td>\n",
       "    </tr>\n",
       "    <tr>\n",
       "      <th>13</th>\n",
       "      <td>0.296861</td>\n",
       "      <td>0.279669</td>\n",
       "      <td>0.485090</td>\n",
       "      <td>16.0</td>\n",
       "      <td>001e061184a3</td>\n",
       "    </tr>\n",
       "    <tr>\n",
       "      <th>14</th>\n",
       "      <td>0.014759</td>\n",
       "      <td>0.422157</td>\n",
       "      <td>0.966221</td>\n",
       "      <td>10.0</td>\n",
       "      <td>001e06118501</td>\n",
       "    </tr>\n",
       "    <tr>\n",
       "      <th>15</th>\n",
       "      <td>0.011269</td>\n",
       "      <td>0.422414</td>\n",
       "      <td>0.974015</td>\n",
       "      <td>6.0</td>\n",
       "      <td>001e0611850f</td>\n",
       "    </tr>\n",
       "    <tr>\n",
       "      <th>16</th>\n",
       "      <td>0.002697</td>\n",
       "      <td>0.425934</td>\n",
       "      <td>0.993708</td>\n",
       "      <td>1.0</td>\n",
       "      <td>001e0611856d</td>\n",
       "    </tr>\n",
       "  </tbody>\n",
       "</table>\n",
       "</div>"
      ],
      "text/plain": [
       "         Si+       Si-       Ci+  Rank       node_id\n",
       "0   0.003842  0.426265  0.991068   2.0  001e0610ee43\n",
       "1   0.009027  0.420979  0.979008   4.0  001e06113107\n",
       "2   0.025925  0.415602  0.941282  14.0  001e06117b41\n",
       "3   0.016292  0.415278  0.962251  11.0  001e06117b44\n",
       "4   0.008117  0.421103  0.981090   3.0  001e0611804d\n",
       "5   0.020310  0.416891  0.953546  13.0  001e06118182\n",
       "6   0.012700  0.424827  0.970974   8.0  001e06118295\n",
       "7   0.012010  0.420971  0.972261   7.0  001e061182a2\n",
       "8   0.016872  0.421351  0.961500  12.0  001e061182a7\n",
       "9   0.009138  0.424579  0.978931   5.0  001e061183bf\n",
       "10  0.038781  0.407858  0.913172  15.0  001e061183f3\n",
       "11  0.316724  0.272641  0.462601  17.0  001e061183f5\n",
       "12  0.014791  0.424615  0.966340   9.0  001e06118433\n",
       "13  0.296861  0.279669  0.485090  16.0  001e061184a3\n",
       "14  0.014759  0.422157  0.966221  10.0  001e06118501\n",
       "15  0.011269  0.422414  0.974015   6.0  001e0611850f\n",
       "16  0.002697  0.425934  0.993708   1.0  001e0611856d"
      ]
     },
     "execution_count": 231,
     "metadata": {},
     "output_type": "execute_result"
    }
   ],
   "source": [
    "entropy_weight_gas_grouuped_val=usda_weight.entropy_weight(gas_grouuped_val)\n",
    "standardized_evaluation_criteria_gas_grouuped_val=usda_weight.df_standardized_evaluation(gas_grouuped_val)\n",
    "pis={col:0 for col in gas_grouuped_val.columns}\n",
    "separation_measure_gas_grouuped=usda_weight.closeness_pis_nis(standardized_evaluation_criteria_gas_grouuped_val,pis=pis,Wj=entropy_weight_gas_grouuped_val['Wj'])\n",
    "separation_measure_gas_grouuped['node_id']=gas_grouuped_val.index\n",
    "separation_measure_gas_grouuped"
   ]
  },
  {
   "cell_type": "markdown",
   "id": "18f1addf-56a8-4743-810a-49bbc6e4700d",
   "metadata": {},
   "source": [
    "打印测量点位，并标识污染浓度综合指数（距理想解的排序）。"
   ]
  },
  {
   "cell_type": "code",
   "execution_count": 235,
   "id": "9ef086fa-bb1a-4337-afd0-578841c9984d",
   "metadata": {
    "tags": []
   },
   "outputs": [
    {
     "data": {
      "image/png": "[encoded data removed]",
      "text/plain": [
       "<Figure size 700x1500 with 1 Axes>"
      ]
     },
     "metadata": {},
     "output_type": "display_data"
    }
   ],
   "source": [
    "fig, ax=plt.subplots(figsize=(7,15))\n",
    "chicago_community_areas.plot(ax=ax,color='white', edgecolor='gray')\n",
    "gas_concentration_grouuped_gdf.plot(ax=ax,markersize=30,legend=True,legend_kwds={'loc': 'lower left'},c='r')\n",
    "\n",
    "for x, y, label in zip(gas_concentration_grouuped_gdf.geometry.x, gas_concentration_grouuped_gdf.geometry.y,separation_measure_gas_grouuped.Rank.astype(int)):\n",
    "    ax.annotate(label, xy=(x, y), xytext=(3, 3), textcoords=\"offset points\",fontsize=7)\n",
    "\n",
    "ax.axis('off')\n",
    "plt.show()"
   ]
  },
  {
   "cell_type": "markdown",
   "id": "35d6d2e1-8c82-457f-afba-772e3f76df12",
   "metadata": {},
   "source": [
    "为了查看第1排名（最优方案）和最后排名测量点的场地环境情况，可以下载街道全景图（Street View panorama），一种方式是从[Google Developers Console_Street View Static API](https://console.cloud.google.com/apis/dashboard?pli=1&project=gsv-streetscape) 支付下载；或者从[istreetview](https://istreetview.com/)通过节点坐标获取全景图索引（PanoID），然后用[Street View Download 360](https://svd360.istreetview.com/)辅助工具下载。将下载的等量矩形投影图转换为球面全景图查看，使用[mayavi](https://docs.enthought.com/mayavi/mayavi/)库定义`sphere_panorama_label()`方法实现。\n",
    "\n",
    "在进一步的分析中，可以结合土地利用、土地覆盖数据，全景图语义分割后视域指标（绿视率等）、分析与测量点位污染浓度综合指数的关系。"
   ]
  },
  {
   "cell_type": "code",
   "execution_count": 247,
   "id": "45a12cb2-d9a4-4cfd-9042-ed2a2eea2295",
   "metadata": {
    "tags": []
   },
   "outputs": [],
   "source": [
    "pano_1_fn='../data/panorama_AoT/001e0611856d.jpg'\n",
    "# pano_17_fn='../data/panorama_AoT/001e061183f5.jpg'\n",
    "usda_vis.sphere_panorama_label(pano_17_fn)"
   ]
  },
  {
   "cell_type": "markdown",
   "id": "d211e2d6-f890-4e90-b666-778a8aa55bdd",
   "metadata": {},
   "source": [
    "<img src=\"../imgs/3_1/3_1_01_s.gif\" height='auto' width=500 title=\"caDesign\"><img src=\"../imgs/3_1/3_1_02_s.gif\" height='auto' width=500 title=\"caDesign\">"
   ]
  },
  {
   "cell_type": "markdown",
   "id": "da605876-5997-4650-8837-5e76c7b0a93a",
   "metadata": {},
   "source": [
    "## 3.1.2 MCDM算法集成——pyDecision\n",
    "\n",
    "Valdecy Pereira在构建`pyDecision`Python工具包时，对MCDM众多算法均给出了[Colab Demo](https://github.com/Valdecy/pyDecision)代码操作案例，方便快速的学习和应用对应算法于实际的实验研究中；同时给出了算法的出处（研究论文），方便查看和理解具体算法的计算过程。下表引入了对各类算法的简要说明：\n",
    "\n",
    "| 序号  | 算法名  | 说明  |时间  |备注   |\n",
    "|---|---|---|---|---|\n",
    "|  1 |AHP（Analytic Hierarchy Process），层次分析法   |   |   |   |\n",
    "|  2 | Fuzzy AHP   |   |   |   |\n",
    "|  3 | ARAS   |   |   |   |\n",
    "|  4 |  Borda |   |   |   |\n",
    "|  5 |   |   |   |   |\n",
    "|  6 |   |   |   |   |\n",
    "|  7 |   |   |   |   |\n",
    "|  8 |   |   |   |   |\n",
    "|  9 |   |   |   |   |\n",
    "|  10 |   |   |   |   |\n",
    "|   |   |   |   |   |\n",
    "|   |   |   |   |   |\n",
    "|   |   |   |   |   |\n",
    "|   |   |   |   |   |\n"
   ]
  },
  {
   "cell_type": "markdown",
   "id": "5749557c-4217-42d1-90ed-c86e95f1e6ea",
   "metadata": {
    "tags": []
   },
   "source": [
    "### 3.1.2.1   再现 AHP 算法\n",
    "\n",
    "再现Thomas L. Saaty在论文中给出的第一个案例（购房选择问题），阐释AHP算法。为了方便应用 AHP 算法，定义`AHP`类可以方便构建判断矩阵，计算权重矩阵和一致性指数，及总的得分。\n",
    "\n",
    "对于这个购房选择问题，包括8个决策准则，由变量`criteria`给出；3个备选方案，由变量`alternatives`给出。首先是要构建两类两两比较矩阵（判断矩阵），一个是决策准则对于分析目标的重要性排序，为决策准则之间的两两比较；另一个是对于每一个决策准则，例如对于`size_of_house`而言，3个备选方案比较这一`size_of_house`这一决策准则，哪个备选方案的房子相对会大一些。为了方便和规范比较方式和比较值，作者给出了度量标度，如表：\n",
    "\n",
    "|标度（Intensity of importance on an absolute scale）   |  定义（Definition）  | 解释（Explanation）  |\n",
    "|---|---|---|\n",
    "| 1  |  Equal importance（同样重要性）   |  Two activities contribute equally to the objective  |\n",
    "| 3  |  Moderate importance of one over another（一个因素比另一个因素稍微重要）   |  Experience and judgment strongly favor one activity over another  |\n",
    "| 5  | Essential or strong importance（一个因素比另一个因素明显重要）    | Experience and judgement strongly favor one activity over another  |\n",
    "| 7  |  Very strong importance（一个因素比另一个因素强烈重要） | An activity is strongly favored and its dominance demonstrated in practice   |\n",
    "| 9  |  Extreme importance（一个因素比另一个因素极端重要） | The evidence favoring one activity over another is of tile highest possible order of affirmation   |\n",
    "| 2，4，6，8  |Intermediate values between the two adjacent judgments（上述两相邻判断的中值）    |  When compromise is needed  |\n",
    "| 倒数（Reciprocals）   |   | If activity i has one of the above numbers assigned to it when compared with activity j, then j has the reciprocal value when compared with i （如果因素 i 与因素 j 相比分配了上述数字之一，则 j 与 i 相比为倒数），例如$a_{ij}=3 $，则$a_{ji}=1/3 $  |\n",
    "| 有理数（Rationals ）  |  Ratios arising from the scale  |  If consistency were to be forced by obtaining n numerical values to span the matrix  |\n",
    "\n",
    "\n",
    "为了方便判断矩阵的输入，定义了`criteria_pairs_lst()`和`alternative_pairs()`方法生成`criteria_pairs_lst`和`alternative_pairs_lst`类属性，可以查看对于定义的类`AHP`两两比较输入的顺序。输入时为字符串形式输入，是为了应用`fractions`库提供的`Fraction`方法显示为分数形式，而不是浮点数。因为判断矩阵为正互反矩阵（reciprocal matrix），如$A=(a_{ij}),  a_{ij}= w_{i}/ w_{j};i,j=1, \\ldots ,n$，有$a_{ij} \\times a_{ji}=1$，因此倒数部分可以书写代码自动生成。"
   ]
  },
  {
   "cell_type": "code",
   "execution_count": 133,
   "id": "831c226c-3652-4d27-a042-1de974cbc9b4",
   "metadata": {
    "tags": []
   },
   "outputs": [],
   "source": [
    "criteria=['size_of_house','location_to_bus_line','neighborhood','age_of_house','yard_space','modern_facilities','general_condition','financing_available']\n",
    "alternatives=['A','B','C']      \n",
    "\n",
    "choosing_best_house=usda_weight.AHP(criteria,alternatives)  "
   ]
  },
  {
   "cell_type": "code",
   "execution_count": 134,
   "id": "e97adc43-1c1e-4d9c-b538-3f6e64c2fb1a",
   "metadata": {
    "tags": []
   },
   "outputs": [
    {
     "data": {
      "text/plain": [
       "[('size_of_house', 'location_to_bus_line'),\n",
       " ('size_of_house', 'neighborhood'),\n",
       " ('size_of_house', 'age_of_house'),\n",
       " ('size_of_house', 'yard_space'),\n",
       " ('size_of_house', 'modern_facilities'),\n",
       " ('size_of_house', 'general_condition'),\n",
       " ('size_of_house', 'financing_available'),\n",
       " ('location_to_bus_line', 'neighborhood'),\n",
       " ('location_to_bus_line', 'age_of_house'),\n",
       " ('location_to_bus_line', 'yard_space'),\n",
       " ('location_to_bus_line', 'modern_facilities'),\n",
       " ('location_to_bus_line', 'general_condition'),\n",
       " ('location_to_bus_line', 'financing_available'),\n",
       " ('neighborhood', 'age_of_house'),\n",
       " ('neighborhood', 'yard_space'),\n",
       " ('neighborhood', 'modern_facilities'),\n",
       " ('neighborhood', 'general_condition'),\n",
       " ('neighborhood', 'financing_available'),\n",
       " ('age_of_house', 'yard_space'),\n",
       " ('age_of_house', 'modern_facilities'),\n",
       " ('age_of_house', 'general_condition'),\n",
       " ('age_of_house', 'financing_available'),\n",
       " ('yard_space', 'modern_facilities'),\n",
       " ('yard_space', 'general_condition'),\n",
       " ('yard_space', 'financing_available'),\n",
       " ('modern_facilities', 'general_condition'),\n",
       " ('modern_facilities', 'financing_available'),\n",
       " ('general_condition', 'financing_available')]"
      ]
     },
     "execution_count": 134,
     "metadata": {},
     "output_type": "execute_result"
    }
   ],
   "source": [
    "choosing_best_house.criteria_pairs_lst"
   ]
  },
  {
   "cell_type": "markdown",
   "id": "e558662c-bf07-453f-b0d7-829bac558785",
   "metadata": {},
   "source": [
    "按照上述`criteria_pairs_lst`对顺序确定两两比较的标度，通过`pairwise_comparison_matrix()`方法构建决策准则自身之间的比较矩阵，其中参数`alternatives_criteria`为确定生成两类判断矩阵的哪类。"
   ]
  },
  {
   "cell_type": "code",
   "execution_count": 135,
   "id": "f4b3de60-19e1-42a6-a9a3-2727ad86acce",
   "metadata": {
    "tags": []
   },
   "outputs": [
    {
     "data": {
      "text/html": [
       "<div>\n",
       "<style scoped>\n",
       "    .dataframe tbody tr th:only-of-type {\n",
       "        vertical-align: middle;\n",
       "    }\n",
       "\n",
       "    .dataframe tbody tr th {\n",
       "        vertical-align: top;\n",
       "    }\n",
       "\n",
       "    .dataframe thead th {\n",
       "        text-align: right;\n",
       "    }\n",
       "</style>\n",
       "<table border=\"1\" class=\"dataframe\">\n",
       "  <thead>\n",
       "    <tr style=\"text-align: right;\">\n",
       "      <th></th>\n",
       "      <th>size_of_house</th>\n",
       "      <th>location_to_bus_line</th>\n",
       "      <th>neighborhood</th>\n",
       "      <th>age_of_house</th>\n",
       "      <th>yard_space</th>\n",
       "      <th>modern_facilities</th>\n",
       "      <th>general_condition</th>\n",
       "      <th>financing_available</th>\n",
       "    </tr>\n",
       "  </thead>\n",
       "  <tbody>\n",
       "    <tr>\n",
       "      <th>size_of_house</th>\n",
       "      <td>1</td>\n",
       "      <td>5</td>\n",
       "      <td>3</td>\n",
       "      <td>7</td>\n",
       "      <td>6</td>\n",
       "      <td>6</td>\n",
       "      <td>1/3</td>\n",
       "      <td>1/4</td>\n",
       "    </tr>\n",
       "    <tr>\n",
       "      <th>location_to_bus_line</th>\n",
       "      <td>1/5</td>\n",
       "      <td>1</td>\n",
       "      <td>1/3</td>\n",
       "      <td>5</td>\n",
       "      <td>3</td>\n",
       "      <td>3</td>\n",
       "      <td>1/5</td>\n",
       "      <td>1/7</td>\n",
       "    </tr>\n",
       "    <tr>\n",
       "      <th>neighborhood</th>\n",
       "      <td>1/3</td>\n",
       "      <td>3</td>\n",
       "      <td>1</td>\n",
       "      <td>6</td>\n",
       "      <td>3</td>\n",
       "      <td>4</td>\n",
       "      <td>6</td>\n",
       "      <td>1/5</td>\n",
       "    </tr>\n",
       "    <tr>\n",
       "      <th>age_of_house</th>\n",
       "      <td>1/7</td>\n",
       "      <td>1/5</td>\n",
       "      <td>1/6</td>\n",
       "      <td>1</td>\n",
       "      <td>1/3</td>\n",
       "      <td>1/4</td>\n",
       "      <td>1/7</td>\n",
       "      <td>1/8</td>\n",
       "    </tr>\n",
       "    <tr>\n",
       "      <th>yard_space</th>\n",
       "      <td>1/6</td>\n",
       "      <td>1/3</td>\n",
       "      <td>1/3</td>\n",
       "      <td>3</td>\n",
       "      <td>1</td>\n",
       "      <td>1/2</td>\n",
       "      <td>1/5</td>\n",
       "      <td>1/6</td>\n",
       "    </tr>\n",
       "    <tr>\n",
       "      <th>modern_facilities</th>\n",
       "      <td>1/6</td>\n",
       "      <td>1/3</td>\n",
       "      <td>1/4</td>\n",
       "      <td>4</td>\n",
       "      <td>2</td>\n",
       "      <td>1</td>\n",
       "      <td>1/5</td>\n",
       "      <td>1/6</td>\n",
       "    </tr>\n",
       "    <tr>\n",
       "      <th>general_condition</th>\n",
       "      <td>3</td>\n",
       "      <td>5</td>\n",
       "      <td>1/6</td>\n",
       "      <td>7</td>\n",
       "      <td>5</td>\n",
       "      <td>5</td>\n",
       "      <td>1</td>\n",
       "      <td>1/2</td>\n",
       "    </tr>\n",
       "    <tr>\n",
       "      <th>financing_available</th>\n",
       "      <td>4</td>\n",
       "      <td>7</td>\n",
       "      <td>5</td>\n",
       "      <td>8</td>\n",
       "      <td>6</td>\n",
       "      <td>6</td>\n",
       "      <td>2</td>\n",
       "      <td>1</td>\n",
       "    </tr>\n",
       "  </tbody>\n",
       "</table>\n",
       "</div>"
      ],
      "text/plain": [
       "                     size_of_house location_to_bus_line neighborhood  \\\n",
       "size_of_house                    1                    5            3   \n",
       "location_to_bus_line           1/5                    1          1/3   \n",
       "neighborhood                   1/3                    3            1   \n",
       "age_of_house                   1/7                  1/5          1/6   \n",
       "yard_space                     1/6                  1/3          1/3   \n",
       "modern_facilities              1/6                  1/3          1/4   \n",
       "general_condition                3                    5          1/6   \n",
       "financing_available              4                    7            5   \n",
       "\n",
       "                     age_of_house yard_space modern_facilities  \\\n",
       "size_of_house                   7          6                 6   \n",
       "location_to_bus_line            5          3                 3   \n",
       "neighborhood                    6          3                 4   \n",
       "age_of_house                    1        1/3               1/4   \n",
       "yard_space                      3          1               1/2   \n",
       "modern_facilities               4          2                 1   \n",
       "general_condition               7          5                 5   \n",
       "financing_available             8          6                 6   \n",
       "\n",
       "                     general_condition financing_available  \n",
       "size_of_house                      1/3                 1/4  \n",
       "location_to_bus_line               1/5                 1/7  \n",
       "neighborhood                         6                 1/5  \n",
       "age_of_house                       1/7                 1/8  \n",
       "yard_space                         1/5                 1/6  \n",
       "modern_facilities                  1/5                 1/6  \n",
       "general_condition                    1                 1/2  \n",
       "financing_available                  2                   1  "
      ]
     },
     "execution_count": 135,
     "metadata": {},
     "output_type": "execute_result"
    }
   ],
   "source": [
    "criteria_pairwise_vals=['5','3','7','6','6','1/3','1/4','1/3','5','3','3','1/5','1/7','6','3','4','6','1/5','1/3','1/4','1/7','1/8','1/2','1/5','1/6','1/5','1/6','1/2']\n",
    "criteria_global_pairwise_comparison_matrix=choosing_best_house.pairwise_comparison_matrix(criteria_pairwise_vals,alternatives_criteria='A')\n",
    "criteria_global_pairwise_comparison_matrix"
   ]
  },
  {
   "cell_type": "markdown",
   "id": "6dbbebc9-ed4f-4f93-b80d-d9e925c257fb",
   "metadata": {},
   "source": [
    "假设一个判断矩阵为：$\\begin{aligned} & \\begin{array}{llll} \\hspace{18pt} A & \\hspace{4pt} B &  \\hspace{1pt} C\\end{array} \\\\ & \\begin{array}{c}A\\\\ B \\\\ C\\end{array}\\left(\\begin{array}{cccc}1 & 2  & 1 \\\\ 1/2 &1&2 & \\\\1 & 1/2 &1\\end{array}\\right)  \\end{aligned}$，其中$A>B$，且$A=C$，但$B>C$产生了矛盾，因此提出对于一个正互反矩阵如果没有上述矛盾则称之为一致矩阵（consistent matrix），一致矩阵是正互反矩阵的特例。对于一致矩阵有$a_{ij}  \\times a_{jk} =a_{ik}(i,j,k=1, \\ldots ,n)$，且矩阵各行（各列）之间成倍数关系。。在构造判断矩阵时，难免会出现类似上述的矛盾，只要该矩阵向一致性矩阵靠拢，这个差距参数一致性比例（Consistency Ratio，CR）不高于10%，则可以接受这个权重估计。"
   ]
  },
  {
   "cell_type": "code",
   "execution_count": 136,
   "id": "74810a7d-b7ca-4a17-9213-54bc0121db73",
   "metadata": {
    "tags": []
   },
   "outputs": [
    {
     "name": "stdout",
     "output_type": "stream",
     "text": [
      "[0.1743749238483884 0.06608449083968755 0.17015215186835408 0.01889929722237991 0.0352504763592837 0.04445701659354435 0.1784887930700104 0.3122928501983515] \n",
      " 0.16395000832304404\n"
     ]
    }
   ],
   "source": [
    "gp_weight,gp_rc=choosing_best_house.weight(criteria_global_pairwise_comparison_matrix)\n",
    "print(gp_weight,'\\n',gp_rc)"
   ]
  },
  {
   "cell_type": "code",
   "execution_count": 143,
   "id": "a1f4107f-b1b2-448c-90bf-13563b2b3279",
   "metadata": {
    "tags": []
   },
   "outputs": [
    {
     "data": {
      "text/plain": [
       "[('A', 'B'), ('A', 'C'), ('B', 'C')]"
      ]
     },
     "execution_count": 143,
     "metadata": {},
     "output_type": "execute_result"
    }
   ],
   "source": [
    "choosing_best_house.alternative_pairs_lst"
   ]
  },
  {
   "cell_type": "code",
   "execution_count": 137,
   "id": "1fb7f9ee-45e6-4514-b2c0-daefbdfa8b99",
   "metadata": {
    "tags": []
   },
   "outputs": [
    {
     "data": {
      "text/plain": [
       "{'size_of_house':      A    B  C\n",
       " A    1    6  8\n",
       " B  1/6    1  4\n",
       " C  1/8  1/4  1,\n",
       " 'location_to_bus_line':      A  B    C\n",
       " A    1  7  1/5\n",
       " B  1/7  1  1/8\n",
       " C    5  8    1,\n",
       " 'neighborhood':      A  B    C\n",
       " A    1  8    6\n",
       " B  1/8  1  1/4\n",
       " C  1/6  4    1,\n",
       " 'age_of_house':    A  B  C\n",
       " A  1  1  1\n",
       " B  1  1  1\n",
       " C  1  1  1,\n",
       " 'yard_space':      A  B    C\n",
       " A    1  5    4\n",
       " B  1/5  1  1/3\n",
       " C  1/4  3    1,\n",
       " 'modern_facilities':      A  B    C\n",
       " A    1  8    6\n",
       " B  1/8  1  1/5\n",
       " C  1/6  5    1,\n",
       " 'general_condition':    A    B    C\n",
       " A  1  1/2  1/2\n",
       " B  2    1    1\n",
       " C  2    1    1,\n",
       " 'financing_available':    A    B    C\n",
       " A  1  1/7  1/5\n",
       " B  7    1    3\n",
       " C  5  1/3    1}"
      ]
     },
     "execution_count": 137,
     "metadata": {},
     "output_type": "execute_result"
    }
   ],
   "source": [
    "local_pairwise_vals_dict=dict(size_of_house=['6','8','4'], \n",
    "                              location_to_bus_line=['7','1/5','1/8'], \n",
    "                              neighborhood=['8','6','1/4'],\t\n",
    "                              age_of_house=['1','1','1'],\t\n",
    "                              yard_space=['5','4','1/3'],\t\n",
    "                              modern_facilities=['8','6','1/5'],\t\n",
    "                              general_condition=['1/2','1/2','1'],\t\n",
    "                              financing_available=['1/7','1/5','3'])\n",
    "local_pairwise_matrix_dict={}\n",
    "for k,v in local_pairwise_vals_dict.items():\n",
    "    local_pairwise_matrix_dict[k]=choosing_best_house.pairwise_comparison_matrix(v,alternatives_criteria='C')\n",
    "local_pairwise_matrix_dict"
   ]
  },
  {
   "cell_type": "code",
   "execution_count": 138,
   "id": "5b2d2598-416f-4835-b774-7279f6125881",
   "metadata": {
    "tags": []
   },
   "outputs": [
    {
     "data": {
      "text/plain": [
       "{'size_of_house': {'weight': array([0.7390547902227547, 0.19155186674652747, 0.06939334303071788], dtype=object),\n",
       "  'rc': 0.12062025335167682},\n",
       " 'location_to_bus_line': {'weight': array([0.25041136463361124, 0.06003181219833261, 0.6895568231680563], dtype=object),\n",
       "  'rc': 0.2220676402473212},\n",
       " 'neighborhood': {'weight': array([0.7390547902227547, 0.06939334303071788, 0.19155186674652747], dtype=object),\n",
       "  'rc': 0.12062025335167682},\n",
       " 'age_of_house': {'weight': array([0.3333333333333333, 0.3333333333333333, 0.3333333333333333], dtype=object),\n",
       "  'rc': 0.0},\n",
       " 'yard_space': {'weight': array([0.6650702426564495, 0.10384738186462324, 0.2310823754789272], dtype=object),\n",
       "  'rc': 0.07495638655172662},\n",
       " 'modern_facilities': {'weight': array([0.7263184843830004, 0.0653268475849121, 0.20835466803208738], dtype=object),\n",
       "  'rc': 0.17731739051985576},\n",
       " 'general_condition': {'weight': array([0.20000000000000004, 0.4000000000000001, 0.4000000000000001], dtype=object),\n",
       "  'rc': 0.0},\n",
       " 'financing_available': {'weight': array([0.07377210603017055, 0.6433888691953209, 0.2828390247745087], dtype=object),\n",
       "  'rc': 0.056475713035283204}}"
      ]
     },
     "execution_count": 138,
     "metadata": {},
     "output_type": "execute_result"
    }
   ],
   "source": [
    "local_weight_rc_dict={}\n",
    "for k,v in local_pairwise_matrix_dict.items():\n",
    "    local_weight_rc_dict[k]={k:v for k,v in zip(['weight','rc'],choosing_best_house.weight(v))}\n",
    "    \n",
    "local_weight_rc_dict    "
   ]
  },
  {
   "cell_type": "code",
   "execution_count": 139,
   "id": "0de91231-1e13-4aee-bf5c-e40acd0db076",
   "metadata": {
    "tags": []
   },
   "outputs": [
    {
     "data": {
      "text/html": [
       "<div>\n",
       "<style scoped>\n",
       "    .dataframe tbody tr th:only-of-type {\n",
       "        vertical-align: middle;\n",
       "    }\n",
       "\n",
       "    .dataframe tbody tr th {\n",
       "        vertical-align: top;\n",
       "    }\n",
       "\n",
       "    .dataframe thead th {\n",
       "        text-align: right;\n",
       "    }\n",
       "</style>\n",
       "<table border=\"1\" class=\"dataframe\">\n",
       "  <thead>\n",
       "    <tr style=\"text-align: right;\">\n",
       "      <th></th>\n",
       "      <th>size_of_house</th>\n",
       "      <th>location_to_bus_line</th>\n",
       "      <th>neighborhood</th>\n",
       "      <th>age_of_house</th>\n",
       "      <th>yard_space</th>\n",
       "      <th>modern_facilities</th>\n",
       "      <th>general_condition</th>\n",
       "      <th>financing_available</th>\n",
       "      <th>global_priority</th>\n",
       "    </tr>\n",
       "  </thead>\n",
       "  <tbody>\n",
       "    <tr>\n",
       "      <th>Wj</th>\n",
       "      <td>0.174375</td>\n",
       "      <td>0.066084</td>\n",
       "      <td>0.170152</td>\n",
       "      <td>0.018899</td>\n",
       "      <td>0.03525</td>\n",
       "      <td>0.044457</td>\n",
       "      <td>0.178489</td>\n",
       "      <td>0.312293</td>\n",
       "      <td>NaN</td>\n",
       "    </tr>\n",
       "    <tr>\n",
       "      <th>A</th>\n",
       "      <td>0.739055</td>\n",
       "      <td>0.250411</td>\n",
       "      <td>0.739055</td>\n",
       "      <td>0.333333</td>\n",
       "      <td>0.66507</td>\n",
       "      <td>0.726318</td>\n",
       "      <td>0.2</td>\n",
       "      <td>0.073772</td>\n",
       "      <td>0.391943</td>\n",
       "    </tr>\n",
       "    <tr>\n",
       "      <th>B</th>\n",
       "      <td>0.191552</td>\n",
       "      <td>0.060032</td>\n",
       "      <td>0.069393</td>\n",
       "      <td>0.333333</td>\n",
       "      <td>0.103847</td>\n",
       "      <td>0.065327</td>\n",
       "      <td>0.4</td>\n",
       "      <td>0.643389</td>\n",
       "      <td>0.334362</td>\n",
       "    </tr>\n",
       "    <tr>\n",
       "      <th>C</th>\n",
       "      <td>0.069393</td>\n",
       "      <td>0.689557</td>\n",
       "      <td>0.191552</td>\n",
       "      <td>0.333333</td>\n",
       "      <td>0.231082</td>\n",
       "      <td>0.208355</td>\n",
       "      <td>0.4</td>\n",
       "      <td>0.282839</td>\n",
       "      <td>0.273695</td>\n",
       "    </tr>\n",
       "  </tbody>\n",
       "</table>\n",
       "</div>"
      ],
      "text/plain": [
       "   size_of_house location_to_bus_line neighborhood age_of_house yard_space  \\\n",
       "Wj      0.174375             0.066084     0.170152     0.018899    0.03525   \n",
       "A       0.739055             0.250411     0.739055     0.333333    0.66507   \n",
       "B       0.191552             0.060032     0.069393     0.333333   0.103847   \n",
       "C       0.069393             0.689557     0.191552     0.333333   0.231082   \n",
       "\n",
       "   modern_facilities general_condition financing_available global_priority  \n",
       "Wj          0.044457          0.178489            0.312293             NaN  \n",
       "A           0.726318               0.2            0.073772        0.391943  \n",
       "B           0.065327               0.4            0.643389        0.334362  \n",
       "C           0.208355               0.4            0.282839        0.273695  "
      ]
     },
     "execution_count": 139,
     "metadata": {},
     "output_type": "execute_result"
    }
   ],
   "source": [
    "weight_A=choosing_best_house.weight_matrix(gp_weight,local_weight_rc_dict)\n",
    "weight_A"
   ]
  },
  {
   "cell_type": "code",
   "execution_count": null,
   "id": "9a3df410-c5b2-4f88-8ed0-a4c499e28ae4",
   "metadata": {},
   "outputs": [],
   "source": []
  },
  {
   "cell_type": "code",
   "execution_count": null,
   "id": "1eee7a85-507f-46b1-8775-56f85298c5f4",
   "metadata": {},
   "outputs": [],
   "source": []
  },
  {
   "cell_type": "code",
   "execution_count": null,
   "id": "d61edac1-9db4-4f40-8b4e-d0386cf2d7ac",
   "metadata": {},
   "outputs": [],
   "source": []
  },
  {
   "cell_type": "code",
   "execution_count": null,
   "id": "db58a97a-92ec-457d-bff0-bc0034e77443",
   "metadata": {},
   "outputs": [],
   "source": []
  },
  {
   "cell_type": "code",
   "execution_count": null,
   "id": "3b723d89-e391-4f19-9569-e6b924bce956",
   "metadata": {},
   "outputs": [],
   "source": []
  },
  {
   "cell_type": "code",
   "execution_count": null,
   "id": "e748bfbc-4726-40bf-838f-e8b7d5adeb6a",
   "metadata": {},
   "outputs": [],
   "source": []
  },
  {
   "cell_type": "code",
   "execution_count": null,
   "id": "66803b11-2f14-4007-a581-26cc7ed7b89d",
   "metadata": {},
   "outputs": [],
   "source": []
  },
  {
   "cell_type": "code",
   "execution_count": 144,
   "id": "c184bc44-93bf-4546-ad24-1e281fff1ba9",
   "metadata": {
    "tags": []
   },
   "outputs": [
    {
     "data": {
      "text/plain": [
       "array([0.  , 0.  , 0.  , 0.58, 0.9 , 1.12, 1.24, 1.32, 1.41, 1.45, 1.49, 1.51, 1.48, 1.56, 1.57, 1.59])"
      ]
     },
     "execution_count": 144,
     "metadata": {},
     "output_type": "execute_result"
    }
   ],
   "source": [
    "inc_rat  = np.array([0, 0, 0, 0.58, 0.9, 1.12, 1.24, 1.32, 1.41, 1.45, 1.49, 1.51, 1.48, 1.56, 1.57, 1.59])\n",
    "inc_rat"
   ]
  },
  {
   "cell_type": "code",
   "execution_count": 148,
   "id": "69442d71-382f-4894-8f15-5f724c2838b0",
   "metadata": {
    "tags": []
   },
   "outputs": [
    {
     "data": {
      "text/plain": [
       "1.59"
      ]
     },
     "execution_count": 148,
     "metadata": {},
     "output_type": "execute_result"
    }
   ],
   "source": [
    "inc_rat[15]"
   ]
  },
  {
   "cell_type": "code",
   "execution_count": null,
   "id": "4bd991f5-3903-423c-bcad-81d6371b9bf2",
   "metadata": {},
   "outputs": [],
   "source": []
  },
  {
   "cell_type": "code",
   "execution_count": null,
   "id": "b7af14e1-2133-4df3-af47-b551c6d58d76",
   "metadata": {},
   "outputs": [],
   "source": []
  },
  {
   "cell_type": "code",
   "execution_count": null,
   "id": "0d6da290-3fd8-4de5-9969-4f1285301df2",
   "metadata": {},
   "outputs": [],
   "source": []
  },
  {
   "cell_type": "code",
   "execution_count": null,
   "id": "77d93805-a1bd-4d4c-bdc2-c7d45ed368d9",
   "metadata": {},
   "outputs": [],
   "source": []
  },
  {
   "cell_type": "code",
   "execution_count": null,
   "id": "d985f707-5c36-434e-bdf3-86ad607e8c83",
   "metadata": {},
   "outputs": [],
   "source": []
  },
  {
   "cell_type": "code",
   "execution_count": null,
   "id": "816fb29d-3fc8-4f85-a61d-c1af06b3cd48",
   "metadata": {},
   "outputs": [],
   "source": []
  },
  {
   "cell_type": "code",
   "execution_count": null,
   "id": "da0fc0ac-c465-4aee-a8da-79b3be0c441d",
   "metadata": {},
   "outputs": [],
   "source": []
  },
  {
   "cell_type": "code",
   "execution_count": null,
   "id": "2dca4ad6-7c08-442e-b28b-bdc1fe52c163",
   "metadata": {},
   "outputs": [],
   "source": []
  },
  {
   "cell_type": "code",
   "execution_count": 152,
   "id": "db4eae10-3a9c-460a-a009-42d7b0f4271a",
   "metadata": {
    "tags": []
   },
   "outputs": [
    {
     "data": {
      "text/plain": [
       "array([[ 3, 15],\n",
       "       [ 7,  5]])"
      ]
     },
     "execution_count": 152,
     "metadata": {},
     "output_type": "execute_result"
    }
   ],
   "source": [
    "a=np.array([[3,15],[7,5]])\n",
    "a"
   ]
  },
  {
   "cell_type": "code",
   "execution_count": 153,
   "id": "07eebe3b-0397-4baa-b27b-e7d47c85e15f",
   "metadata": {
    "tags": []
   },
   "outputs": [
    {
     "data": {
      "text/plain": [
       "array([[0.3 , 0.75],\n",
       "       [0.7 , 0.25]])"
      ]
     },
     "execution_count": 153,
     "metadata": {},
     "output_type": "execute_result"
    }
   ],
   "source": [
    "a/np.sum(a,axis=0)"
   ]
  },
  {
   "cell_type": "code",
   "execution_count": 161,
   "id": "26733b72-d14b-4042-b6ac-467e2029a52c",
   "metadata": {
    "tags": []
   },
   "outputs": [
    {
     "data": {
      "text/plain": [
       "array([0.525, 0.475])"
      ]
     },
     "execution_count": 161,
     "metadata": {},
     "output_type": "execute_result"
    }
   ],
   "source": [
    "np.sum(a/np.sum(a,axis=0),axis=1)/2"
   ]
  },
  {
   "cell_type": "code",
   "execution_count": 160,
   "id": "fc3a0bfe-5a78-447c-bf07-fc42a6c8aba4",
   "metadata": {
    "tags": []
   },
   "outputs": [
    {
     "data": {
      "text/plain": [
       "array([0.525, 0.475])"
      ]
     },
     "execution_count": 160,
     "metadata": {},
     "output_type": "execute_result"
    }
   ],
   "source": [
    " np.mean(a/np.sum(a, axis = 0), axis = 1)"
   ]
  },
  {
   "cell_type": "code",
   "execution_count": null,
   "id": "6cbc7c1d-0042-4fc7-b917-f97b63d0fccc",
   "metadata": {},
   "outputs": [],
   "source": []
  },
  {
   "cell_type": "markdown",
   "id": "75eaef8a-6c23-4e9b-ad0e-a0bb296a82ab",
   "metadata": {},
   "source": [
    "#### 2) 再现 Fuzzy AHP 算法  "
   ]
  },
  {
   "cell_type": "code",
   "execution_count": null,
   "id": "67e1b953-9300-4a14-8d7d-6028fa2145aa",
   "metadata": {},
   "outputs": [],
   "source": []
  },
  {
   "cell_type": "code",
   "execution_count": null,
   "id": "f16173b5-c57b-42e6-86dd-e4f4849c4df2",
   "metadata": {},
   "outputs": [],
   "source": []
  },
  {
   "cell_type": "code",
   "execution_count": null,
   "id": "579aca01-9e36-42fb-96ed-887919233ce9",
   "metadata": {},
   "outputs": [],
   "source": []
  },
  {
   "cell_type": "code",
   "execution_count": null,
   "id": "cb58b8f1-8618-46c3-8761-393c3b48ce2c",
   "metadata": {},
   "outputs": [],
   "source": []
  },
  {
   "cell_type": "code",
   "execution_count": 28,
   "id": "b0b1c537-c3bc-45ee-88c4-1a23deee6464",
   "metadata": {
    "tags": []
   },
   "outputs": [
    {
     "data": {
      "text/html": [
       "<div>\n",
       "<style scoped>\n",
       "    .dataframe tbody tr th:only-of-type {\n",
       "        vertical-align: middle;\n",
       "    }\n",
       "\n",
       "    .dataframe tbody tr th {\n",
       "        vertical-align: top;\n",
       "    }\n",
       "\n",
       "    .dataframe thead th {\n",
       "        text-align: right;\n",
       "    }\n",
       "</style>\n",
       "<table border=\"1\" class=\"dataframe\">\n",
       "  <thead>\n",
       "    <tr style=\"text-align: right;\">\n",
       "      <th></th>\n",
       "      <th>C1</th>\n",
       "      <th>C2</th>\n",
       "      <th>C3</th>\n",
       "      <th>C4</th>\n",
       "      <th>C5</th>\n",
       "      <th>C6</th>\n",
       "      <th>C7</th>\n",
       "      <th>C8</th>\n",
       "      <th>C9</th>\n",
       "      <th>C10</th>\n",
       "      <th>C11</th>\n",
       "      <th>C12</th>\n",
       "    </tr>\n",
       "  </thead>\n",
       "  <tbody>\n",
       "    <tr>\n",
       "      <th>Natural_gas</th>\n",
       "      <td>156.00</td>\n",
       "      <td>0.0</td>\n",
       "      <td>0.0</td>\n",
       "      <td>0.0003</td>\n",
       "      <td>1.600</td>\n",
       "      <td>499.0</td>\n",
       "      <td>0.11</td>\n",
       "      <td>0.0721</td>\n",
       "      <td>30.34</td>\n",
       "      <td>49.0</td>\n",
       "      <td>85.0</td>\n",
       "      <td>30.0</td>\n",
       "    </tr>\n",
       "    <tr>\n",
       "      <th>Coal</th>\n",
       "      <td>92.50</td>\n",
       "      <td>0.0</td>\n",
       "      <td>0.0</td>\n",
       "      <td>0.0004</td>\n",
       "      <td>1.600</td>\n",
       "      <td>888.0</td>\n",
       "      <td>0.11</td>\n",
       "      <td>0.1200</td>\n",
       "      <td>37.20</td>\n",
       "      <td>38.5</td>\n",
       "      <td>85.0</td>\n",
       "      <td>40.0</td>\n",
       "    </tr>\n",
       "    <tr>\n",
       "      <th>Hydro</th>\n",
       "      <td>41.34</td>\n",
       "      <td>7.3</td>\n",
       "      <td>2.3</td>\n",
       "      <td>0.0040</td>\n",
       "      <td>20.000</td>\n",
       "      <td>26.0</td>\n",
       "      <td>0.27</td>\n",
       "      <td>0.0027</td>\n",
       "      <td>19.70</td>\n",
       "      <td>90.0</td>\n",
       "      <td>35.0</td>\n",
       "      <td>80.0</td>\n",
       "    </tr>\n",
       "    <tr>\n",
       "      <th>Wind_onshore</th>\n",
       "      <td>73.19</td>\n",
       "      <td>7.3</td>\n",
       "      <td>3.7</td>\n",
       "      <td>0.0150</td>\n",
       "      <td>0.001</td>\n",
       "      <td>26.0</td>\n",
       "      <td>0.17</td>\n",
       "      <td>0.0019</td>\n",
       "      <td>6.54</td>\n",
       "      <td>34.0</td>\n",
       "      <td>33.0</td>\n",
       "      <td>25.0</td>\n",
       "    </tr>\n",
       "    <tr>\n",
       "      <th>Geothermal</th>\n",
       "      <td>116.33</td>\n",
       "      <td>10.5</td>\n",
       "      <td>2.7</td>\n",
       "      <td>0.0500</td>\n",
       "      <td>156.000</td>\n",
       "      <td>170.0</td>\n",
       "      <td>0.25</td>\n",
       "      <td>0.0017</td>\n",
       "      <td>2.44</td>\n",
       "      <td>15.0</td>\n",
       "      <td>90.0</td>\n",
       "      <td>40.0</td>\n",
       "    </tr>\n",
       "    <tr>\n",
       "      <th>SolorPV</th>\n",
       "      <td>160.00</td>\n",
       "      <td>13.3</td>\n",
       "      <td>6.7</td>\n",
       "      <td>0.0003</td>\n",
       "      <td>0.010</td>\n",
       "      <td>85.0</td>\n",
       "      <td>0.87</td>\n",
       "      <td>0.0002</td>\n",
       "      <td>2.56</td>\n",
       "      <td>13.0</td>\n",
       "      <td>18.0</td>\n",
       "      <td>25.0</td>\n",
       "    </tr>\n",
       "  </tbody>\n",
       "</table>\n",
       "</div>"
      ],
      "text/plain": [
       "                  C1    C2   C3      C4       C5     C6    C7      C8     C9  \\\n",
       "Natural_gas   156.00   0.0  0.0  0.0003    1.600  499.0  0.11  0.0721  30.34   \n",
       "Coal           92.50   0.0  0.0  0.0004    1.600  888.0  0.11  0.1200  37.20   \n",
       "Hydro          41.34   7.3  2.3  0.0040   20.000   26.0  0.27  0.0027  19.70   \n",
       "Wind_onshore   73.19   7.3  3.7  0.0150    0.001   26.0  0.17  0.0019   6.54   \n",
       "Geothermal    116.33  10.5  2.7  0.0500  156.000  170.0  0.25  0.0017   2.44   \n",
       "SolorPV       160.00  13.3  6.7  0.0003    0.010   85.0  0.87  0.0002   2.56   \n",
       "\n",
       "               C10   C11   C12  \n",
       "Natural_gas   49.0  85.0  30.0  \n",
       "Coal          38.5  85.0  40.0  \n",
       "Hydro         90.0  35.0  80.0  \n",
       "Wind_onshore  34.0  33.0  25.0  \n",
       "Geothermal    15.0  90.0  40.0  \n",
       "SolorPV       13.0  18.0  25.0  "
      ]
     },
     "execution_count": 28,
     "metadata": {},
     "output_type": "execute_result"
    }
   ],
   "source": [
    "sa4gtech=usda_datasets.load_sustainability_attributes4electricity_generation_tech().data    \n",
    "A=sa4gtech.to_numpy()\n",
    "sa4gtech"
   ]
  },
  {
   "cell_type": "code",
   "execution_count": 162,
   "id": "3aeca731-1510-4cf0-9e83-67057b944f25",
   "metadata": {
    "tags": []
   },
   "outputs": [
    {
     "ename": "NameError",
     "evalue": "name 'A' is not defined",
     "output_type": "error",
     "traceback": [
      "\u001b[1;31m---------------------------------------------------------------------------\u001b[0m",
      "\u001b[1;31mNameError\u001b[0m                                 Traceback (most recent call last)",
      "Cell \u001b[1;32mIn[162], line 1\u001b[0m\n\u001b[1;32m----> 1\u001b[0m weights_AHP, rc_AHP\u001b[38;5;241m=\u001b[39mda\u001b[38;5;241m.\u001b[39mahp_method(\u001b[43mA\u001b[49m, wd\u001b[38;5;241m=\u001b[39m\u001b[38;5;124m'\u001b[39m\u001b[38;5;124mg\u001b[39m\u001b[38;5;124m'\u001b[39m)\n\u001b[0;32m      2\u001b[0m weights_AHP\n",
      "\u001b[1;31mNameError\u001b[0m: name 'A' is not defined"
     ]
    }
   ],
   "source": [
    "weights_AHP, rc_AHP=da.ahp_method(A, wd='g')\n",
    "weights_AHP"
   ]
  },
  {
   "cell_type": "code",
   "execution_count": null,
   "id": "9ca5e9f5-c496-488e-952b-1eb18c4220bb",
   "metadata": {},
   "outputs": [],
   "source": []
  },
  {
   "cell_type": "code",
   "execution_count": null,
   "id": "ce44603c-ceb5-41b9-8cf9-a1e2bbe6e6cb",
   "metadata": {},
   "outputs": [],
   "source": []
  },
  {
   "cell_type": "code",
   "execution_count": null,
   "id": "ae0d2d1c-61ee-48e0-aaa7-00dc005e312f",
   "metadata": {},
   "outputs": [],
   "source": []
  },
  {
   "cell_type": "code",
   "execution_count": null,
   "id": "06c40c8f-a6d4-4beb-b72a-002fc17754d7",
   "metadata": {},
   "outputs": [],
   "source": []
  },
  {
   "cell_type": "code",
   "execution_count": 31,
   "id": "0d49923b-af95-479f-976f-3ec5bf943bed",
   "metadata": {
    "tags": []
   },
   "outputs": [
    {
     "name": "stdout",
     "output_type": "stream",
     "text": [
      "[[1.5600e+02 0.0000e+00 0.0000e+00 3.0000e-04 1.6000e+00 4.9900e+02\n",
      "  1.1000e-01 7.2100e-02 3.0340e+01 4.9000e+01 8.5000e+01 3.0000e+01]\n",
      " [9.2500e+01 0.0000e+00 0.0000e+00 4.0000e-04 1.6000e+00 8.8800e+02\n",
      "  1.1000e-01 1.2000e-01 3.7200e+01 3.8500e+01 8.5000e+01 4.0000e+01]\n",
      " [4.1340e+01 7.3000e+00 2.3000e+00 4.0000e-03 2.0000e+01 2.6000e+01\n",
      "  2.7000e-01 2.7000e-03 1.9700e+01 9.0000e+01 3.5000e+01 8.0000e+01]\n",
      " [7.3190e+01 7.3000e+00 3.7000e+00 1.5000e-02 1.0000e-03 2.6000e+01\n",
      "  1.7000e-01 1.9000e-03 6.5400e+00 3.4000e+01 3.3000e+01 2.5000e+01]\n",
      " [1.1633e+02 1.0500e+01 2.7000e+00 5.0000e-02 1.5600e+02 1.7000e+02\n",
      "  2.5000e-01 1.7000e-03 2.4400e+00 1.5000e+01 9.0000e+01 4.0000e+01]\n",
      " [1.6000e+02 1.3300e+01 6.7000e+00 3.0000e-04 1.0000e-02 8.5000e+01\n",
      "  8.7000e-01 2.0000e-04 2.5600e+00 1.3000e+01 1.8000e+01 2.5000e+01]]\n"
     ]
    }
   ],
   "source": [
    "print(A)"
   ]
  },
  {
   "cell_type": "raw",
   "id": "cb78aabf-6b29-42c9-9d9d-910c9797c97f",
   "metadata": {},
   "source": []
  },
  {
   "cell_type": "code",
   "execution_count": null,
   "id": "1ae460bc-1f66-4640-80f5-e5366b81e50d",
   "metadata": {},
   "outputs": [],
   "source": []
  },
  {
   "cell_type": "code",
   "execution_count": null,
   "id": "eca673f1-ad3c-47b9-932b-6e4d9d48cd86",
   "metadata": {},
   "outputs": [],
   "source": []
  },
  {
   "cell_type": "code",
   "execution_count": null,
   "id": "041d732f-9fba-4e51-9a96-79c86518afaa",
   "metadata": {},
   "outputs": [],
   "source": []
  },
  {
   "cell_type": "code",
   "execution_count": null,
   "id": "f7c0c4b7-f92b-4fba-948d-08911696b317",
   "metadata": {},
   "outputs": [],
   "source": []
  },
  {
   "cell_type": "code",
   "execution_count": null,
   "id": "e2b78b7e-6819-4c3e-89dc-5a7c75b158a7",
   "metadata": {},
   "outputs": [],
   "source": []
  },
  {
   "cell_type": "code",
   "execution_count": null,
   "id": "208bd343-f488-4221-be01-5ca5b12b05b4",
   "metadata": {},
   "outputs": [],
   "source": []
  },
  {
   "cell_type": "code",
   "execution_count": null,
   "id": "3d165788-fe6f-4340-b9aa-4e54e7c5b895",
   "metadata": {},
   "outputs": [],
   "source": []
  },
  {
   "cell_type": "code",
   "execution_count": null,
   "id": "e4348881-4962-4c3e-b378-7c5ac03deead",
   "metadata": {},
   "outputs": [],
   "source": []
  },
  {
   "cell_type": "markdown",
   "id": "c235b2fc-d34a-4877-8975-d96e260d2ab9",
   "metadata": {},
   "source": [
    "## 权重和聚类\n",
    "\n",
    "## 粗糙集理论\n",
    "\n",
    "TOPSIS（理想解法）<https://blog.csdn.net/m0_64087341/article/details/127172309> 是一种有效的多指标评价方法。(对属性进行向量规范化)\n",
    "\n",
    "\n",
    "+ 45 algorithms（name and abs, explain, reference, ?equation）, correlation analysis, explain MADM-MCDM Multi-Criteria Decision Analysis/ Multi-Criteria Decision-Making，--> rank\n",
    "\n",
    "1. Best-worst multi-criteria decision-making method （BWM）"
   ]
  },
  {
   "cell_type": "code",
   "execution_count": null,
   "id": "72ee6862-5d4d-4aac-a816-cbd04fc16f21",
   "metadata": {},
   "outputs": [],
   "source": []
  },
  {
   "cell_type": "code",
   "execution_count": null,
   "id": "393fcf83-a44a-494b-988a-ca7ee7eb8fd1",
   "metadata": {},
   "outputs": [],
   "source": []
  },
  {
   "cell_type": "code",
   "execution_count": null,
   "id": "1ce1064c-0522-4a3e-8d8b-a9dabc181737",
   "metadata": {},
   "outputs": [],
   "source": []
  },
  {
   "cell_type": "code",
   "execution_count": null,
   "id": "e46bf34a-5a56-49cc-b2f7-650360647913",
   "metadata": {},
   "outputs": [],
   "source": []
  },
  {
   "cell_type": "code",
   "execution_count": null,
   "id": "d2570e7b-7637-49c2-8e4e-2383f5f9d0e6",
   "metadata": {},
   "outputs": [],
   "source": []
  },
  {
   "cell_type": "code",
   "execution_count": null,
   "id": "b57f314e-9fe9-48c0-a1b8-05c43d4d940d",
   "metadata": {},
   "outputs": [],
   "source": []
  },
  {
   "cell_type": "code",
   "execution_count": null,
   "id": "a45fce65-2aa8-46a3-a070-b65946fb567b",
   "metadata": {},
   "outputs": [],
   "source": []
  },
  {
   "cell_type": "code",
   "execution_count": null,
   "id": "9e56d7bf-c360-4a63-9b75-4ba997dee3d9",
   "metadata": {
    "tags": []
   },
   "outputs": [],
   "source": []
  },
  {
   "cell_type": "code",
   "execution_count": null,
   "id": "dff288a3-9462-4e30-9d75-75b57999bd57",
   "metadata": {},
   "outputs": [],
   "source": []
  },
  {
   "cell_type": "code",
   "execution_count": null,
   "id": "c3d59b07-6c6e-46fd-858b-818538cb6ab1",
   "metadata": {},
   "outputs": [],
   "source": []
  },
  {
   "cell_type": "code",
   "execution_count": null,
   "id": "5ba635a5-dcc0-4ce6-82a8-d2af05911a41",
   "metadata": {},
   "outputs": [],
   "source": []
  },
  {
   "cell_type": "code",
   "execution_count": null,
   "id": "88976b22-36e9-4624-8bbd-c3f6db933b5b",
   "metadata": {},
   "outputs": [],
   "source": []
  },
  {
   "cell_type": "code",
   "execution_count": null,
   "id": "25b3d338-dc50-42d0-94da-ca505ec969dd",
   "metadata": {},
   "outputs": [],
   "source": []
  }
 ],
 "metadata": {
  "kernelspec": {
   "display_name": "Python 3 (ipykernel)",
   "language": "python",
   "name": "python3"
  },
  "language_info": {
   "codemirror_mode": {
    "name": "ipython",
    "version": 3
   },
   "file_extension": ".py",
   "mimetype": "text/x-python",
   "name": "python",
   "nbconvert_exporter": "python",
   "pygments_lexer": "ipython3",
   "version": "3.9.16"
  }
 },
 "nbformat": 4,
 "nbformat_minor": 5
}
