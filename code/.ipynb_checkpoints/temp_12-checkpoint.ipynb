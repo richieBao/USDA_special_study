{
 "cells": [
  {
   "cell_type": "markdown",
   "id": "c361a16f-f0b3-4c96-9f1e-864bbdeff7bf",
   "metadata": {},
   "source": [
    "### 3.6.2.1 词向量（Word Embeddings）\n",
    "\n",
    "#### 1) 文本矢量化\n",
    "\n",
    "对文本数据分类、情感分析、文本生成和不同语言的翻译时，所用到的文本数据集并不能直接输入到模型进行训练，除常规数据预处理外，需要解析原始文本为小的语句块，分解为单词、句子等，称为标记化（tokenization）。标记化有助于理解语境（上下文），通过分析单词的顺序解释文本的含义；并将单词编码为整数或浮点值，称为特征提取或矢量化（vectorization）。标记化和矢量化文本数据有多种方式，基于频数的矢量化有词频向量（word count vectors）、TF-IDF向量、共现（Co-Occurrence）矩阵和哈希向量（Hashing vectors）等<sup>[Brownlee, J. (2017). Deep Learning for Natural Language Processing: Develop Deep Learning Models for your Natural Language Problems (1.1). Independently Published.]</sup>。可用[sklearn](https://scikit-learn.org/stable/)库提供的相应方法计算，如下示例。"
   ]
  },
  {
   "cell_type": "code",
   "execution_count": 71,
   "id": "a61f89e1-cebb-4290-a675-6d54983596c9",
   "metadata": {},
   "outputs": [
    {
     "name": "stdout",
     "output_type": "stream",
     "text": [
      "The autoreload extension is already loaded. To reload it, use:\n",
      "  %reload_ext autoreload\n"
     ]
    }
   ],
   "source": [
    "%load_ext autoreload \n",
    "%autoreload 2 \n",
    "import usda.models as usda_models\n",
    "\n",
    "from sklearn.feature_extraction.text import CountVectorizer, TfidfVectorizer, HashingVectorizer\n",
    "from gensim.utils import tokenize"
   ]
  },
  {
   "cell_type": "markdown",
   "id": "35bc55ca-60fa-4ccb-adbf-f2f7a544f1bd",
   "metadata": {},
   "source": [
    "**A: 词频向量**\n",
    "\n",
    "词频向量构建方式如下图，提取输入文本的唯一一个或多个（n 元语法）单词/字符作为词汇表（标记化），根据词汇表列表对位索引计数或统计词频（矢量化）。\n",
    "\n",
    "<img src=\"../imgs/3_6/3_6_08.jpg\" height='auto' width=600 title=\"caDesign\"> \n",
    "\n",
    "* n-gram （n-元语法）\n",
    "\n",
    "参数`ngram_range`是指从文本中提取单词或者字符的上下边界，例如`(1,1)`意味仅含一元语法（unigrams），`(1,2)`意味包含一元语法和二元语法（bigrams），`(2,2)`则仅包含二元语法，依次类推到多元语法，例如三元语法（trigram）。\n",
    "\n",
    "仅含一元语法。"
   ]
  },
  {
   "cell_type": "code",
   "execution_count": 37,
   "id": "9d2dd65b-bfd4-4c08-be6c-308ae504b24d",
   "metadata": {},
   "outputs": [
    {
     "name": "stdout",
     "output_type": "stream",
     "text": [
      "------------volcab\n",
      "{'this': 8, 'is': 3, 'the': 6, 'first': 2, 'document': 1, 'second': 5, 'and': 0, 'third': 7, 'one': 4}                                                 \n",
      "------------feature\n",
      "['and' 'document' 'first' 'is' 'one' 'second' 'the' 'third' 'this']                                                 \n",
      "------------stop words\n",
      "None                                                 \n",
      "------------array\n",
      "[[0 1 1 1 0 0 1 0 1]\n",
      " [0 2 0 1 0 1 1 0 1]\n",
      " [1 0 0 1 1 0 1 1 1]]\n"
     ]
    }
   ],
   "source": [
    "countVectorizer_print=lambda vectorizer,X: print(f'------------volcab\\n{vectorizer.vocabulary_}\\\n",
    "                                                 \\n------------feature\\n{vectorizer.get_feature_names_out()}\\\n",
    "                                                 \\n------------stop words\\n{vectorizer.get_stop_words()}\\\n",
    "                                                 \\n------------array\\n{X.toarray()}')\n",
    "\n",
    "corpus=['This is the first document.', \n",
    "       'This document is the second document.',\n",
    "       'And this is the third one.']\n",
    "vectorizer=CountVectorizer(analyzer='word')\n",
    "X=vectorizer.fit_transform(corpus)\n",
    "countVectorizer_print(vectorizer,X)"
   ]
  },
  {
   "cell_type": "markdown",
   "id": "1198b3bf-47dd-4046-b147-57a88d1e5023",
   "metadata": {},
   "source": [
    "含一元和二元语法。"
   ]
  },
  {
   "cell_type": "code",
   "execution_count": 3,
   "id": "4123649c-8f05-4ee5-a3aa-d83d588b882c",
   "metadata": {},
   "outputs": [
    {
     "name": "stdout",
     "output_type": "stream",
     "text": [
      "------------volcab\n",
      "{'this': 17, 'is': 6, 'the': 11, 'first': 4, 'document': 2, 'this is': 19, 'is the': 7, 'the first': 12, 'first document': 5, 'second': 9, 'this document': 18, 'document is': 3, 'the second': 13, 'second document': 10, 'and': 0, 'third': 15, 'one': 8, 'and this': 1, 'the third': 14, 'third one': 16}                                                 \n",
      "------------feature\n",
      "['and' 'and this' 'document' 'document is' 'first' 'first document' 'is'\n",
      " 'is the' 'one' 'second' 'second document' 'the' 'the first' 'the second'\n",
      " 'the third' 'third' 'third one' 'this' 'this document' 'this is']                                                 \n",
      "------------stop words\n",
      "None                                                 \n",
      "------------array\n",
      "[[0 0 1 0 1 1 1 1 0 0 0 1 1 0 0 0 0 1 0 1]\n",
      " [0 0 2 1 0 0 1 1 0 1 1 1 0 1 0 0 0 1 1 0]\n",
      " [1 1 0 0 0 0 1 1 1 0 0 1 0 0 1 1 1 1 0 1]]\n"
     ]
    }
   ],
   "source": [
    "vectorizer=CountVectorizer(analyzer='word',ngram_range=(1, 2))\n",
    "X=vectorizer.fit_transform(corpus)\n",
    "countVectorizer_print(vectorizer,X)"
   ]
  },
  {
   "cell_type": "markdown",
   "id": "55f045fa-6e4a-4ac2-bcb8-c17eefa9390e",
   "metadata": {},
   "source": [
    "仅含二元语法。"
   ]
  },
  {
   "cell_type": "code",
   "execution_count": 4,
   "id": "7cb8fe96-76da-4c34-924f-cbbc2e8abc48",
   "metadata": {},
   "outputs": [
    {
     "name": "stdout",
     "output_type": "stream",
     "text": [
      "------------volcab\n",
      "{'this is': 10, 'is the': 3, 'the first': 5, 'first document': 2, 'this document': 9, 'document is': 1, 'the second': 6, 'second document': 4, 'and this': 0, 'the third': 7, 'third one': 8}                                                 \n",
      "------------feature\n",
      "['and this' 'document is' 'first document' 'is the' 'second document'\n",
      " 'the first' 'the second' 'the third' 'third one' 'this document'\n",
      " 'this is']                                                 \n",
      "------------stop words\n",
      "None                                                 \n",
      "------------array\n",
      "[[0 0 1 1 0 1 0 0 0 0 1]\n",
      " [0 1 0 1 1 0 1 0 0 1 0]\n",
      " [1 0 0 1 0 0 0 1 1 0 1]]\n"
     ]
    }
   ],
   "source": [
    "vectorizer=CountVectorizer(analyzer='word',ngram_range=(2, 2))\n",
    "X=vectorizer.fit_transform(corpus)\n",
    "countVectorizer_print(vectorizer,X)"
   ]
  },
  {
   "cell_type": "markdown",
   "id": "89b97a73-510b-4232-aa46-352ba13e887a",
   "metadata": {},
   "source": [
    "* 过滤掉停用词（Stop Words）\n",
    "\n",
    "停用词是那些对短语（phrase）的深层含义没有帮助的词，为最常见的单词，例如the、a、is 等。因此对于一些模型，例如文档分类等，则删除这些停顿词有益于模型训练。可以用`Sklearn`库提供的`get_stop_words`方法查看停用词，也可以用[NLTK](https://www.nltk.org/)库`stopwords`方法查看。"
   ]
  },
  {
   "cell_type": "code",
   "execution_count": 65,
   "id": "2160f40e-22ba-4398-b65f-4b38dcd86aa1",
   "metadata": {},
   "outputs": [
    {
     "name": "stdout",
     "output_type": "stream",
     "text": [
      "------------volcab\n",
      "{'best': 1, 'know': 7, 'better': 2, 'maya': 12, 'angelou': 0, 'time': 17, 'limited': 10, 'don': 3, 'waste': 19, 'living': 11, 'life': 9, 'steve': 16, 'jobs': 6, 'pushed': 14, 'problems': 13, 'led': 8, 'dreams': 4, 'ralph': 15, 'waldo': 18, 'emerson': 5}                                                 \n",
      "------------feature\n",
      "['angelou' 'best' 'better' 'don' 'dreams' 'emerson' 'jobs' 'know' 'led'\n",
      " 'life' 'limited' 'living' 'maya' 'problems' 'pushed' 'ralph' 'steve'\n",
      " 'time' 'waldo' 'waste']                                                 \n",
      "------------stop words\n",
      "frozenset({'anyway', 'both', 'hereupon', 'too', 'had', 'further', 'side', 'although', 'against', 'describe', 'cry', 'but', 'seeming', 'still', 'full', 'twelve', 'ten', 'its', 'hers', 'hence', 'along', 're', 'system', 'back', 'off', 'without', 'itself', 'beside', 'over', 'own', 'therefore', 'where', 'herself', 'nevertheless', 'about', 'from', 'somewhere', 'next', 'am', 'whoever', 'nowhere', 'latter', 'nobody', 'thick', 'anywhere', 'yourself', 'show', 'who', 'why', 'between', 'though', 'have', 'give', 'herein', 'whence', 'couldnt', 'mill', 'de', 'toward', 'whereupon', 'them', 'wherein', 'can', 'move', 'amoungst', 'four', 'she', 'as', 'often', 'put', 'for', 'an', 'down', 'ever', 'twenty', 'take', 'many', 'do', 'would', 'which', 'must', 'fifty', 'whatever', 'wherever', 'whole', 'hereby', 'something', 'amount', 'hundred', 'please', 'six', 'noone', 'there', 'what', 'with', 'when', 'cant', 'nor', 'also', 'con', 'he', 'all', 'in', 'seem', 'across', 'serious', 'will', 'and', 'through', 'first', 'whom', 'those', 'anyone', 'indeed', 'while', 'here', 'moreover', 'somehow', 'such', 'well', 'ours', 'mine', 'our', 'of', 'the', 'co', 'thus', 'should', 'within', 'beforehand', 'last', 'find', 'other', 'before', 'per', 'someone', 'whereafter', 'detail', 'less', 'everywhere', 'their', 'empty', 'throughout', 'mostly', 'bill', 'most', 'latterly', 'is', 'thereupon', 'after', 'became', 'everyone', 'being', 'top', 'few', 'onto', 'eight', 'at', 'only', 'to', 'whenever', 'former', 'together', 'out', 'until', 'several', 'anyhow', 'third', 'fifteen', 'therein', 'towards', 'get', 'forty', 'least', 'become', 'or', 'sixty', 'five', 'sometime', 'that', 'more', 'whither', 'no', 'thin', 'everything', 'has', 'may', 'almost', 'ourselves', 'by', 'been', 'among', 'they', 'eleven', 'this', 'namely', 'under', 'are', 'was', 'see', 'could', 'even', 'these', 'alone', 'part', 'sometimes', 'front', 'below', 'her', 'than', 'because', 'so', 'call', 'beyond', 'you', 'myself', 'once', 'anything', 'always', 'into', 'sincere', 'yours', 'during', 'nothing', 'amongst', 'if', 'except', 'formerly', 'already', 'three', 'some', 'un', 'seems', 'never', 'thence', 'cannot', 'due', 'fill', 'however', 'one', 'ltd', 'it', 'him', 'were', 'his', 'others', 'another', 'same', 'your', 'either', 'interest', 'yet', 'whether', 'how', 'then', 'much', 'go', 'i', 'nine', 'very', 'fire', 'around', 'etc', 'whereas', 'thereafter', 'thru', 'else', 'upon', 'since', 'whose', 'ie', 'themselves', 'becomes', 'again', 'becoming', 'whereby', 'my', 'bottom', 'hasnt', 'any', 'we', 'meanwhile', 'inc', 'himself', 'a', 'neither', 'otherwise', 'via', 'name', 'each', 'eg', 'us', 'not', 'above', 'might', 'on', 'enough', 'besides', 'yourselves', 'elsewhere', 'every', 'be', 'made', 'hereafter', 'now', 'keep', 'seemed', 'up', 'rather', 'afterwards', 'found', 'two', 'me', 'done', 'behind', 'perhaps', 'none', 'thereby'})                                                 \n",
      "------------array\n",
      "[[1 1 3 0 0 0 0 2 0 0 0 0 1 0 0 0 0 0 0 0]\n",
      " [0 0 0 1 0 0 1 0 0 1 1 1 0 0 0 0 1 1 0 1]\n",
      " [0 0 0 1 1 1 0 0 1 0 0 0 0 1 1 1 0 0 1 0]]\n"
     ]
    }
   ],
   "source": [
    "corpus_motto=['Do the best you can until you know better. Then when you know better, do better.— Maya Angelou', \n",
    "      'Your time is limited so don’t waste it living someone else’s life. – Steve Jobs',\n",
    "      'Don’t be pushed by your problems. Be led by your dreams. – Ralph Waldo Emerson']\n",
    "vectorizer=CountVectorizer(analyzer='word',ngram_range=(1, 1),stop_words='english')\n",
    "X=vectorizer.fit_transform(corpus_motto)\n",
    "countVectorizer_print(vectorizer,X)"
   ]
  },
  {
   "cell_type": "markdown",
   "id": "57e4fd96-b865-4f98-ab12-7040772ded60",
   "metadata": {},
   "source": [
    "用`NLTK`库查看停用词。"
   ]
  },
  {
   "cell_type": "code",
   "execution_count": 81,
   "id": "453076bd-5c23-4dc1-be1a-e897dfa65e22",
   "metadata": {},
   "outputs": [
    {
     "name": "stdout",
     "output_type": "stream",
     "text": [
      "['i', 'me', 'my', 'myself', 'we', 'our', 'ours', 'ourselves', 'you', \"you're\", \"you've\", \"you'll\", \"you'd\", 'your', 'yours', 'yourself', 'yourselves', 'he', 'him', 'his', 'himself', 'she', \"she's\", 'her', 'hers', 'herself', 'it', \"it's\", 'its', 'itself', 'they', 'them', 'their', 'theirs', 'themselves', 'what', 'which', 'who', 'whom', 'this', 'that', \"that'll\", 'these', 'those', 'am', 'is', 'are', 'was', 'were', 'be', 'been', 'being', 'have', 'has', 'had', 'having', 'do', 'does', 'did', 'doing', 'a', 'an', 'the', 'and', 'but', 'if', 'or', 'because', 'as', 'until', 'while', 'of', 'at', 'by', 'for', 'with', 'about', 'against', 'between', 'into', 'through', 'during', 'before', 'after', 'above', 'below', 'to', 'from', 'up', 'down', 'in', 'out', 'on', 'off', 'over', 'under', 'again', 'further', 'then', 'once', 'here', 'there', 'when', 'where', 'why', 'how', 'all', 'any', 'both', 'each', 'few', 'more', 'most', 'other', 'some', 'such', 'no', 'nor', 'not', 'only', 'own', 'same', 'so', 'than', 'too', 'very', 's', 't', 'can', 'will', 'just', 'don', \"don't\", 'should', \"should've\", 'now', 'd', 'll', 'm', 'o', 're', 've', 'y', 'ain', 'aren', \"aren't\", 'couldn', \"couldn't\", 'didn', \"didn't\", 'doesn', \"doesn't\", 'hadn', \"hadn't\", 'hasn', \"hasn't\", 'haven', \"haven't\", 'isn', \"isn't\", 'ma', 'mightn', \"mightn't\", 'mustn', \"mustn't\", 'needn', \"needn't\", 'shan', \"shan't\", 'shouldn', \"shouldn't\", 'wasn', \"wasn't\", 'weren', \"weren't\", 'won', \"won't\", 'wouldn', \"wouldn't\"]\n"
     ]
    },
    {
     "name": "stderr",
     "output_type": "stream",
     "text": [
      "[nltk_data] Downloading package stopwords to\n",
      "[nltk_data]     C:\\Users\\richi\\AppData\\Roaming\\nltk_data...\n",
      "[nltk_data]   Package stopwords is already up-to-date!\n"
     ]
    }
   ],
   "source": [
    "from nltk.corpus import stopwords\n",
    "import nltk\n",
    "nltk.download('stopwords')\n",
    "\n",
    "stop_words=stopwords.words('english')\n",
    "print(stop_words)"
   ]
  },
  {
   "cell_type": "markdown",
   "id": "0596448f-8cf5-4a97-aef4-2869894b048d",
   "metadata": {},
   "source": [
    "**B: TF-IDF向量**\n",
    "\n",
    "如果不过滤掉停用词，那么在计数向量的方法中，像 the、is、will等词出现的次数较多，且在编码向量中没有太大的意义，而TF-IDF（term Frequency - Inverse Document Frequency ）向量方法，一种用于信息检索与数据挖掘的常用加权技术，能够改善上述情况。其中 TF（词频） 表示为给定字词$t$在文档$d$中出现的频数，可表示为$tf(t,d)$；IDF 为逆文本频率指数，减小跨文档出现次数较多的字词影响，可表示为$idf(t)=log[n/(df(t)+1)]$，（在`Sklearn`库中，为$idf(t)=log[n/df(t)]+1$，如果配置参数`smooth_idf=True`，则为$idf(t)=log[(1+n)/(1+df(t))]+1$），式中，$n$为文档总数，$df(t)$为字词$t$在一个文档中的频数。将上述两部分相乘，得$tf-idf(t,d)=tf(t,d) \\times idf(t)$。\n",
    "\n",
    "下述示例中可以看到词`countvectorizer`和`Tf-idf`的值为0.6330，而 this、is、about 等词值为0.448，要小于前者。"
   ]
  },
  {
   "cell_type": "code",
   "execution_count": 80,
   "id": "04b2ca8b-f77c-4f46-8ec8-dd0c63f6c738",
   "metadata": {},
   "outputs": [
    {
     "name": "stdout",
     "output_type": "stream",
     "text": [
      "['about' 'countvectorizer' 'is' 'tf-idf' 'this']\n",
      "[[0.44832087 0.63009934 0.44832087 0.         0.44832087]\n",
      " [0.44832087 0.         0.44832087 0.63009934 0.44832087]]\n"
     ]
    }
   ],
   "source": [
    "corpus_vector=['This is about CountVectorizer',\n",
    "        'This is about Tf-idf']\n",
    "vectorizer=TfidfVectorizer(analyzer='word',token_pattern=r\"(?u)\\S\\S+\")\n",
    "X=vectorizer.fit_transform(corpus_vector)\n",
    "print(vectorizer.get_feature_names_out())\n",
    "print(X.toarray())"
   ]
  },
  {
   "cell_type": "markdown",
   "id": "cf886b4d-0cbc-48c2-bef3-3fddaaeb45d7",
   "metadata": {},
   "source": [
    "**C: 共现（Co-Occurrence）矩阵**\n",
    "\n",
    "相似的词往往会一起出现，并会有相似的语境，例如'Apple is a fruit'和'Mango is a fruit'等，因此统计给定语境窗口（Context Window），元素（字词，短语、句子，任何感兴趣的语言单元）共同出现的次数可以表述语料库元素间的关系。定义`build_co_occurrence_matrix()`函数计算共现矩阵。配置参数`window_size=10`，大于单个句子的最大长度，是以整个句子为最小的语境窗口进行统计。"
   ]
  },
  {
   "cell_type": "code",
   "execution_count": 69,
   "id": "2617d855-7c1c-41d2-a3f1-66df7ce23003",
   "metadata": {},
   "outputs": [
    {
     "data": {
      "text/html": [
       "<div>\n",
       "<style scoped>\n",
       "    .dataframe tbody tr th:only-of-type {\n",
       "        vertical-align: middle;\n",
       "    }\n",
       "\n",
       "    .dataframe tbody tr th {\n",
       "        vertical-align: top;\n",
       "    }\n",
       "\n",
       "    .dataframe thead th {\n",
       "        text-align: right;\n",
       "    }\n",
       "</style>\n",
       "<table border=\"1\" class=\"dataframe\">\n",
       "  <thead>\n",
       "    <tr style=\"text-align: right;\">\n",
       "      <th></th>\n",
       "      <th>a</th>\n",
       "      <th>Apple</th>\n",
       "      <th>fruit</th>\n",
       "      <th>sour</th>\n",
       "      <th>Mango</th>\n",
       "      <th>and</th>\n",
       "      <th>tastes</th>\n",
       "      <th>sweet</th>\n",
       "      <th>is</th>\n",
       "    </tr>\n",
       "  </thead>\n",
       "  <tbody>\n",
       "    <tr>\n",
       "      <th>a</th>\n",
       "      <td>0</td>\n",
       "      <td>1</td>\n",
       "      <td>2</td>\n",
       "      <td>0</td>\n",
       "      <td>1</td>\n",
       "      <td>0</td>\n",
       "      <td>0</td>\n",
       "      <td>0</td>\n",
       "      <td>2</td>\n",
       "    </tr>\n",
       "    <tr>\n",
       "      <th>Apple</th>\n",
       "      <td>1</td>\n",
       "      <td>0</td>\n",
       "      <td>1</td>\n",
       "      <td>0</td>\n",
       "      <td>0</td>\n",
       "      <td>0</td>\n",
       "      <td>0</td>\n",
       "      <td>0</td>\n",
       "      <td>1</td>\n",
       "    </tr>\n",
       "    <tr>\n",
       "      <th>fruit</th>\n",
       "      <td>2</td>\n",
       "      <td>1</td>\n",
       "      <td>0</td>\n",
       "      <td>0</td>\n",
       "      <td>1</td>\n",
       "      <td>0</td>\n",
       "      <td>0</td>\n",
       "      <td>0</td>\n",
       "      <td>2</td>\n",
       "    </tr>\n",
       "    <tr>\n",
       "      <th>sour</th>\n",
       "      <td>0</td>\n",
       "      <td>0</td>\n",
       "      <td>0</td>\n",
       "      <td>0</td>\n",
       "      <td>1</td>\n",
       "      <td>1</td>\n",
       "      <td>1</td>\n",
       "      <td>1</td>\n",
       "      <td>0</td>\n",
       "    </tr>\n",
       "    <tr>\n",
       "      <th>Mango</th>\n",
       "      <td>1</td>\n",
       "      <td>0</td>\n",
       "      <td>1</td>\n",
       "      <td>1</td>\n",
       "      <td>0</td>\n",
       "      <td>1</td>\n",
       "      <td>1</td>\n",
       "      <td>1</td>\n",
       "      <td>1</td>\n",
       "    </tr>\n",
       "    <tr>\n",
       "      <th>and</th>\n",
       "      <td>0</td>\n",
       "      <td>0</td>\n",
       "      <td>0</td>\n",
       "      <td>1</td>\n",
       "      <td>1</td>\n",
       "      <td>0</td>\n",
       "      <td>1</td>\n",
       "      <td>1</td>\n",
       "      <td>0</td>\n",
       "    </tr>\n",
       "    <tr>\n",
       "      <th>tastes</th>\n",
       "      <td>0</td>\n",
       "      <td>0</td>\n",
       "      <td>0</td>\n",
       "      <td>1</td>\n",
       "      <td>1</td>\n",
       "      <td>1</td>\n",
       "      <td>0</td>\n",
       "      <td>1</td>\n",
       "      <td>0</td>\n",
       "    </tr>\n",
       "    <tr>\n",
       "      <th>sweet</th>\n",
       "      <td>0</td>\n",
       "      <td>0</td>\n",
       "      <td>0</td>\n",
       "      <td>1</td>\n",
       "      <td>1</td>\n",
       "      <td>1</td>\n",
       "      <td>1</td>\n",
       "      <td>0</td>\n",
       "      <td>0</td>\n",
       "    </tr>\n",
       "    <tr>\n",
       "      <th>is</th>\n",
       "      <td>2</td>\n",
       "      <td>1</td>\n",
       "      <td>2</td>\n",
       "      <td>0</td>\n",
       "      <td>1</td>\n",
       "      <td>0</td>\n",
       "      <td>0</td>\n",
       "      <td>0</td>\n",
       "      <td>0</td>\n",
       "    </tr>\n",
       "  </tbody>\n",
       "</table>\n",
       "</div>"
      ],
      "text/plain": [
       "        a  Apple  fruit  sour  Mango  and  tastes  sweet  is\n",
       "a       0      1      2     0      1    0       0      0   2\n",
       "Apple   1      0      1     0      0    0       0      0   1\n",
       "fruit   2      1      0     0      1    0       0      0   2\n",
       "sour    0      0      0     0      1    1       1      1   0\n",
       "Mango   1      0      1     1      0    1       1      1   1\n",
       "and     0      0      0     1      1    0       1      1   0\n",
       "tastes  0      0      0     1      1    1       0      1   0\n",
       "sweet   0      0      0     1      1    1       1      0   0\n",
       "is      2      1      2     0      1    0       0      0   0"
      ]
     },
     "execution_count": 69,
     "metadata": {},
     "output_type": "execute_result"
    }
   ],
   "source": [
    "corpus_fruit=['Apple is a fruit','Mango is a fruit','Mango tastes sweet and sour']\n",
    "coo_dict,coo_df=usda_models.build_co_occurrence_matrix(corpus_fruit,window_size=10)\n",
    "coo_df"
   ]
  },
  {
   "cell_type": "markdown",
   "id": "95558541-6fd5-47fe-9868-ee60c70d6f47",
   "metadata": {},
   "source": [
    "**D: 哈希/散列向量（Hashing vectors）**\n",
    "\n",
    "词频向量、TF-IDF权重向量和共现矩阵等方法随着语料库的扩大，词汇表可能变得非常大，这将需要大量的向量来编码文档，对计算机的内存和算力提出要求。解决上述问题的一种途径是使用哈希向量映射或降维。\n",
    "\n",
    "* 哈希函数（Hash function）<sup>[Hashing in Data Structure: What, Types, and Functions, <https://www.knowledgehut.com/blog/programming/hashing-in-data-structure>][Hash function (Wikipedia), <https://en.wikipedia.org/wiki/Hash_function>]</sup>\n",
    "\n",
    "哈希函数是可以把任意大小的数据映射到固定大小值的函数（有些哈希函数也支持可变长度的输出）。哈希函数返回的值称为哈希值（hash values）、哈希码（hash codes）、摘要（digests）或简称哈希（hashes）。这些值通常用于索引一个称为哈希表（hash table）的固定大小的表。使用哈希函数对哈希表进行索引称为哈希（hashing）或者分散存储寻址（scatter storage addressing）。在数据存储和检索等应用程序中，哈希函数及其关联的哈希表可以在每次检索时以很小且几乎恒定的时长访问数据；并且所需的存储空间仅略大于数据或者记录本身所需要的总空间。哈希是一种高效计算和空间存储的数据访问形式，避免了无序列表和结构化树的非恒定访问时长，及直接访问大型或具有可变长度键状态空间时对存储空间成指数级的需求。\n",
    "\n",
    "<img src=\"../imgs/3_6/3_6_09.jpg\" height='auto' width=400 title=\"caDesign\"> \n",
    "\n",
    "上图 A 和 B 例举了两种哈希函数形式，其中 A 为一个余数表示；B 为键的长度表示。哈希函数的形式（算法）有多种，但都有一个相同的原则，将数据映射到一个可以索引数组的值。一些流行的哈希算法有SHA-1、MD5和Murmur Hash等。在图 C 中，一个哈希函数将键（人名）映射到0到15的一个整数形式，且有两个键映射到同一个哈希值02的位置上，该种情况适合于某些应用场景，达到合并降维的目的。\n",
    "\n",
    "`HashingVectorizer`方法即为哈希向量，在第一个示例代码中，词汇表有8个词，配置输出矩阵特征列的数量参数`n_features=10`，不会发生映射碰撞/冲突（ collision），为哈希映射；第二个示例代码中，有29个词，同样配置`n_features=10`，则有部分特征发生了合并降维。\n",
    "\n",
    "---哈希映射"
   ]
  },
  {
   "cell_type": "code",
   "execution_count": 91,
   "id": "f5fc21b3-e7ff-40bd-9b96-8554421ffb80",
   "metadata": {},
   "outputs": [
    {
     "name": "stdout",
     "output_type": "stream",
     "text": [
      "[['Apple', 'fruit'], ['Mango', 'fruit'], ['Mango', 'tastes', 'sweet', 'sour']]\n",
      "<class 'scipy.sparse._csr.csr_matrix'>\n",
      "  (0, 0)\t1.0\n",
      "  (0, 3)\t1.0\n",
      "  (1, 1)\t1.0\n",
      "  (1, 3)\t1.0\n",
      "  (2, 0)\t1.0\n",
      "  (2, 1)\t1.0\n",
      "  (2, 4)\t-2.0\n",
      "[[ 1.  0.  0.  1.  0.  0.  0.  0.  0.  0.]\n",
      " [ 0.  1.  0.  1.  0.  0.  0.  0.  0.  0.]\n",
      " [ 1.  1.  0.  0. -2.  0.  0.  0.  0.  0.]]\n"
     ]
    }
   ],
   "source": [
    "corpus2tokens=lambda corpus: [[word for word in tokenize(sentence) if word not in stopwords.words('english')] for sentence in corpus]\n",
    "\n",
    "vectorizer=HashingVectorizer(n_features=10,stop_words='english',norm=None)\n",
    "X=vectorizer.fit_transform(corpus_fruit)\n",
    "print(corpus2tokens(corpus_fruit))\n",
    "print(f'{type(X)}\\n{X}\\n{X.toarray()}')"
   ]
  },
  {
   "cell_type": "markdown",
   "id": "cde23dbd-8d38-423f-83a9-aba02ce10fef",
   "metadata": {},
   "source": [
    "---哈希合并"
   ]
  },
  {
   "cell_type": "code",
   "execution_count": 92,
   "id": "04494586-4550-41ba-a404-976f8c79e36d",
   "metadata": {},
   "outputs": [
    {
     "name": "stdout",
     "output_type": "stream",
     "text": [
      "[['Do', 'best', 'know', 'better', 'Then', 'know', 'better', 'better', 'Maya', 'Angelou'], ['Your', 'time', 'limited', 'waste', 'living', 'someone', 'else', 'life', 'Steve', 'Jobs'], ['Don', 'pushed', 'problems', 'Be', 'led', 'dreams', 'Ralph', 'Waldo', 'Emerson']]\n",
      "<class 'scipy.sparse._csr.csr_matrix'>\n",
      "  (0, 1)\t-0.23570226039551587\n",
      "  (0, 4)\t-0.47140452079103173\n",
      "  (0, 7)\t-0.47140452079103173\n",
      "  (0, 8)\t-0.7071067811865476\n",
      "  (1, 1)\t-0.4082482904638631\n",
      "  (1, 2)\t-0.4082482904638631\n",
      "  (1, 3)\t-0.4082482904638631\n",
      "  (1, 4)\t-0.4082482904638631\n",
      "  (1, 6)\t0.4082482904638631\n",
      "  (1, 8)\t0.4082482904638631\n",
      "  (2, 0)\t0.6324555320336759\n",
      "  (2, 3)\t0.6324555320336759\n",
      "  (2, 5)\t0.0\n",
      "  (2, 6)\t0.31622776601683794\n",
      "  (2, 7)\t0.31622776601683794\n",
      "[[ 0.         -0.23570226  0.          0.         -0.47140452  0.\n",
      "   0.         -0.47140452 -0.70710678  0.        ]\n",
      " [ 0.         -0.40824829 -0.40824829 -0.40824829 -0.40824829  0.\n",
      "   0.40824829  0.          0.40824829  0.        ]\n",
      " [ 0.63245553  0.          0.          0.63245553  0.          0.\n",
      "   0.31622777  0.31622777  0.          0.        ]]\n"
     ]
    }
   ],
   "source": [
    "vectorizer=HashingVectorizer(n_features=10,stop_words='english',norm='l2')\n",
    "X=vectorizer.fit_transform(corpus_motto)\n",
    "print(corpus2tokens(corpus_motto))\n",
    "print(f'{type(X)}\\n{X}\\n{X.toarray()}')"
   ]
  },
  {
   "cell_type": "markdown",
   "id": "4a69f21d-f3c4-491f-9dcd-d0ba6da0774b",
   "metadata": {},
   "source": [
    "#### 2) Word2Vec"
   ]
  },
  {
   "cell_type": "code",
   "execution_count": null,
   "id": "3a42d5c6-9dc3-4442-ab8b-9b6cdaa0807f",
   "metadata": {},
   "outputs": [],
   "source": []
  },
  {
   "cell_type": "code",
   "execution_count": null,
   "id": "a2742e56-f8f0-4a89-9866-6d3e36ad1384",
   "metadata": {},
   "outputs": [],
   "source": []
  },
  {
   "cell_type": "code",
   "execution_count": null,
   "id": "15d04959-d046-41a4-8460-f147e86a2226",
   "metadata": {},
   "outputs": [],
   "source": []
  },
  {
   "cell_type": "code",
   "execution_count": null,
   "id": "0ba289dc-056a-4128-b43e-84d01402762e",
   "metadata": {},
   "outputs": [],
   "source": []
  },
  {
   "cell_type": "code",
   "execution_count": null,
   "id": "3e9ca007-90c5-42a7-afc6-5154dd82fc57",
   "metadata": {},
   "outputs": [],
   "source": []
  },
  {
   "cell_type": "code",
   "execution_count": null,
   "id": "3c553a42-c37e-436e-8121-a6889f01017b",
   "metadata": {},
   "outputs": [],
   "source": []
  },
  {
   "cell_type": "code",
   "execution_count": null,
   "id": "921b1ad0-f255-45f9-aa66-48ce60b97811",
   "metadata": {},
   "outputs": [],
   "source": []
  },
  {
   "cell_type": "code",
   "execution_count": 88,
   "id": "d48b8c75-ba00-4b89-8aa1-6af6630b31b8",
   "metadata": {},
   "outputs": [],
   "source": [
    "from gensim.test.utils import common_texts\n",
    "from gensim.models import Word2Vec\n",
    "from gensim.models.phrases import Phrases, Phraser\n",
    "\n",
    "import pandas as pd\n",
    "import spacy\n",
    "import re\n",
    "from time import time\n",
    "from collections import defaultdict\n",
    "import itertools\n",
    "import multiprocessing"
   ]
  },
  {
   "cell_type": "code",
   "execution_count": 21,
   "id": "ca3ccb3c-859b-49b5-9daa-aa5817ebdd3a",
   "metadata": {},
   "outputs": [
    {
     "name": "stdout",
     "output_type": "stream",
     "text": [
      "raw_character_text    17814\n",
      "spoken_words          26459\n",
      "dtype: int64\n",
      "--------------------------------------------------\n",
      "raw_character_text    0\n",
      "spoken_words          0\n",
      "dtype: int64\n"
     ]
    },
    {
     "data": {
      "text/html": [
       "<div>\n",
       "<style scoped>\n",
       "    .dataframe tbody tr th:only-of-type {\n",
       "        vertical-align: middle;\n",
       "    }\n",
       "\n",
       "    .dataframe tbody tr th {\n",
       "        vertical-align: top;\n",
       "    }\n",
       "\n",
       "    .dataframe thead th {\n",
       "        text-align: right;\n",
       "    }\n",
       "</style>\n",
       "<table border=\"1\" class=\"dataframe\">\n",
       "  <thead>\n",
       "    <tr style=\"text-align: right;\">\n",
       "      <th></th>\n",
       "      <th>raw_character_text</th>\n",
       "      <th>spoken_words</th>\n",
       "    </tr>\n",
       "  </thead>\n",
       "  <tbody>\n",
       "    <tr>\n",
       "      <th>131848</th>\n",
       "      <td>Miss Hoover</td>\n",
       "      <td>I'm back.</td>\n",
       "    </tr>\n",
       "    <tr>\n",
       "      <th>131849</th>\n",
       "      <td>Miss Hoover</td>\n",
       "      <td>You see, class, my Lyme disease turned out to ...</td>\n",
       "    </tr>\n",
       "    <tr>\n",
       "      <th>131850</th>\n",
       "      <td>Miss Hoover</td>\n",
       "      <td>Psy-cho-so-ma-tic.</td>\n",
       "    </tr>\n",
       "    <tr>\n",
       "      <th>131851</th>\n",
       "      <td>Ralph Wiggum</td>\n",
       "      <td>Does that mean you were crazy?</td>\n",
       "    </tr>\n",
       "    <tr>\n",
       "      <th>131852</th>\n",
       "      <td>JANEY</td>\n",
       "      <td>No, that means she was faking it.</td>\n",
       "    </tr>\n",
       "  </tbody>\n",
       "</table>\n",
       "</div>"
      ],
      "text/plain": [
       "       raw_character_text                                       spoken_words\n",
       "131848        Miss Hoover                                          I'm back.\n",
       "131849        Miss Hoover  You see, class, my Lyme disease turned out to ...\n",
       "131850        Miss Hoover                                 Psy-cho-so-ma-tic.\n",
       "131851       Ralph Wiggum                     Does that mean you were crazy?\n",
       "131852              JANEY                  No, that means she was faking it."
      ]
     },
     "execution_count": 21,
     "metadata": {},
     "output_type": "execute_result"
    }
   ],
   "source": [
    "df=pd.read_csv('I:/data/simpsons_dataset.csv')\n",
    "print(df.isnull().sum())\n",
    "df=df.dropna().reset_index(drop=True)\n",
    "print('-'*50)\n",
    "print(df.isnull().sum())\n",
    "df.tail()"
   ]
  },
  {
   "cell_type": "code",
   "execution_count": 34,
   "id": "d1f740fd-6a88-4ba8-bf67-dac4fff2e866",
   "metadata": {},
   "outputs": [
    {
     "name": "stdout",
     "output_type": "stream",
     "text": [
      "[('This', 'DET'), ('is', 'AUX'), ('a', 'DET'), ('sentence', 'NOUN'), ('.', 'PUNCT')]\n"
     ]
    }
   ],
   "source": [
    "nlp=spacy.load('en_core_web_sm', disable=['ner', 'parser']) # disabling Named Entity Recognition for speed\n",
    "doc=nlp(\"This is a sentence.\")\n",
    "print([(w.text, w.pos_) for w in doc])"
   ]
  },
  {
   "cell_type": "code",
   "execution_count": 42,
   "id": "95fef3c2-4723-4022-8156-b84f0384e382",
   "metadata": {},
   "outputs": [],
   "source": [
    "def cleaning(doc):\n",
    "    # Lemmatizes and removes stopwords\n",
    "    # doc needs to be a spacy Doc object\n",
    "    txt = [token.lemma_ for token in doc if not token.is_stop]\n",
    "    # Word2Vec uses context words to learn the vector representation of a target word,\n",
    "    # if a sentence is only one or two words long,\n",
    "    # the benefit for the training is very small\n",
    "    if len(txt) > 2:\n",
    "        return ' '.join(txt)\n",
    "\n",
    "brief_cleaning = (re.sub(\"[^A-Za-z']+\", ' ', str(row)).lower() for row in df['spoken_words']) # Removes non-alphabetic characters\n",
    "t = time()\n",
    "txt = [cleaning(doc) for doc in nlp.pipe(brief_cleaning, batch_size=5000,n_process=-1)] # Taking advantage of spaCy .pipe() attribute to speed-up the cleaning process:\n",
    "print('Time to clean up everything: {} mins'.format(round((time() - t) / 60, 2)))"
   ]
  },
  {
   "cell_type": "code",
   "execution_count": 48,
   "id": "9551481d-8623-4b03-adf2-5b14045b9aec",
   "metadata": {},
   "outputs": [
    {
     "name": "stdout",
     "output_type": "stream",
     "text": [
      "(85955, 1)\n"
     ]
    },
    {
     "data": {
      "text/plain": [
       "<bound method NDFrame.head of                                                     clean\n",
       "0       actually little disease magazine news show nat...\n",
       "2             know sure like talk touch lesson plan teach\n",
       "3                                         life worth live\n",
       "4       poll open end recess case decide thought final...\n",
       "7                                     victory party slide\n",
       "...                                                   ...\n",
       "131829           oh mom wonderful find favorite dish help\n",
       "131835                                      dye shoe pink\n",
       "131846  mr bergstrom request pleasure company mr bergs...\n",
       "131849                            class lyme disease turn\n",
       "131850                                     psy cho ma tic\n",
       "\n",
       "[85955 rows x 1 columns]>"
      ]
     },
     "execution_count": 48,
     "metadata": {},
     "output_type": "execute_result"
    }
   ],
   "source": [
    "df_clean = pd.DataFrame({'clean': txt})\n",
    "df_clean = df_clean.dropna().drop_duplicates()\n",
    "print(df_clean.shape)\n",
    "df_clean.head"
   ]
  },
  {
   "cell_type": "code",
   "execution_count": 58,
   "id": "9b0b132b-e474-4689-9737-bbd751f73925",
   "metadata": {},
   "outputs": [
    {
     "name": "stdout",
     "output_type": "stream",
     "text": [
      "[['actually', 'little', 'disease', 'magazine', 'news', 'show', 'natural', 'think'], ['know', 'sure', 'like', 'talk', 'touch', 'lesson', 'plan', 'teach']]\n"
     ]
    }
   ],
   "source": [
    "sentence_list = [row.split() for row in df_clean['clean']]\n",
    "print(sentence_list[:2])"
   ]
  },
  {
   "cell_type": "code",
   "execution_count": 65,
   "id": "bfd5e139-7a0c-4aac-89dd-f36cfb741937",
   "metadata": {},
   "outputs": [],
   "source": [
    "phrases = Phrases(sentence_list, min_count=30, progress_per=10000) # Creates the relevant phrases from the list of sentences.\n",
    "bigram = Phraser(phrases)\n",
    "sentences = bigram[sentence_list]"
   ]
  },
  {
   "cell_type": "code",
   "execution_count": 87,
   "id": "b50b15ea-6ee4-470e-aecf-dc7c6cbd115e",
   "metadata": {},
   "outputs": [
    {
     "name": "stdout",
     "output_type": "stream",
     "text": [
      "29694\n",
      "['oh', 'like', 'know', 'get', 'hey', 'think', 'come', 'right', 'look', 'want']\n"
     ]
    }
   ],
   "source": [
    "word_freq = defaultdict(int)\n",
    "for s in sentences:\n",
    "    for i in s:\n",
    "        word_freq[i] += 1\n",
    "print(len(word_freq))\n",
    "print(sorted(word_freq, key=word_freq.get, reverse=True)[:10])"
   ]
  },
  {
   "cell_type": "code",
   "execution_count": 89,
   "id": "e34a7f54-287e-4d36-ab4b-81ac2f612e55",
   "metadata": {},
   "outputs": [
    {
     "name": "stdout",
     "output_type": "stream",
     "text": [
      "16\n"
     ]
    }
   ],
   "source": [
    "cores = multiprocessing.cpu_count() # Count the number of cores in a computer\n",
    "print(cores)"
   ]
  },
  {
   "cell_type": "code",
   "execution_count": 92,
   "id": "2063028f-0269-4fd6-aa54-d50e258c29ca",
   "metadata": {},
   "outputs": [
    {
     "name": "stdout",
     "output_type": "stream",
     "text": [
      "Time to build vocab: 0.02 mins\n"
     ]
    }
   ],
   "source": [
    "w2v_model = Word2Vec(min_count=20,\n",
    "                     window=2,\n",
    "                     vector_size=300,\n",
    "                     sample=6e-5, \n",
    "                     alpha=0.03, \n",
    "                     min_alpha=0.0007, \n",
    "                     negative=20,\n",
    "                     workers=cores-1)\n",
    "t = time()\n",
    "w2v_model.build_vocab(sentences, progress_per=10000)\n",
    "print('Time to build vocab: {} mins'.format(round((time() - t) / 60, 2)))"
   ]
  },
  {
   "cell_type": "code",
   "execution_count": 122,
   "id": "ee2e414d-21d4-4c2d-95d5-24dbc2cb49f0",
   "metadata": {},
   "outputs": [
    {
     "name": "stdout",
     "output_type": "stream",
     "text": [
      "Word2Vec<vocab=3325, vector_size=300, alpha=0.03>\n"
     ]
    }
   ],
   "source": [
    "print(w2v_model)"
   ]
  },
  {
   "cell_type": "code",
   "execution_count": 93,
   "id": "da8f39ac-ec73-4efa-b44a-17dd1dcec824",
   "metadata": {},
   "outputs": [
    {
     "name": "stdout",
     "output_type": "stream",
     "text": [
      "Time to train the model: 0.79 mins\n"
     ]
    }
   ],
   "source": [
    "t = time()\n",
    "w2v_model.train(sentences, total_examples=w2v_model.corpus_count, epochs=30, report_delay=1)\n",
    "print('Time to train the model: {} mins'.format(round((time() - t) / 60, 2)))"
   ]
  },
  {
   "cell_type": "code",
   "execution_count": 120,
   "id": "e81a4dfd-07d7-4832-811c-4cc2818386f7",
   "metadata": {},
   "outputs": [
    {
     "name": "stdout",
     "output_type": "stream",
     "text": [
      "(300,)\n"
     ]
    }
   ],
   "source": [
    "homer_vec=w2v_model.wv['homer']\n",
    "print(homer_vec.shape)"
   ]
  },
  {
   "cell_type": "code",
   "execution_count": 95,
   "id": "fd5a4cb5-aec5-48c0-b816-589385e31732",
   "metadata": {},
   "outputs": [
    {
     "data": {
      "text/plain": [
       "[('marge', 0.7355347275733948),\n",
       " ('depressed', 0.7141615152359009),\n",
       " ('humiliate', 0.6873793601989746),\n",
       " ('snuggle', 0.6819668412208557),\n",
       " ('gee', 0.6782217025756836),\n",
       " ('sweetheart', 0.66474449634552),\n",
       " ('bartender', 0.663604736328125),\n",
       " ('fault', 0.6616469621658325),\n",
       " ('homie', 0.6606897115707397),\n",
       " ('shoulda', 0.6588218212127686)]"
      ]
     },
     "execution_count": 95,
     "metadata": {},
     "output_type": "execute_result"
    }
   ],
   "source": [
    "w2v_model.wv.most_similar(positive=[\"homer\"])"
   ]
  },
  {
   "cell_type": "code",
   "execution_count": 96,
   "id": "46f84df6-0488-4790-9e2b-6c568ce94e6e",
   "metadata": {},
   "outputs": [
    {
     "data": {
      "text/plain": [
       "[('recent', 0.7089737057685852),\n",
       " ('council', 0.6968816518783569),\n",
       " ('select', 0.6941899061203003),\n",
       " ('congratulation', 0.6917170286178589),\n",
       " ('committee', 0.6820352077484131),\n",
       " ('united_states', 0.6738993525505066),\n",
       " ('robert', 0.6703823804855347),\n",
       " ('kennedy', 0.6681831479072571),\n",
       " ('honor', 0.6656380891799927),\n",
       " ('governor', 0.6653748154640198)]"
      ]
     },
     "execution_count": 96,
     "metadata": {},
     "output_type": "execute_result"
    }
   ],
   "source": [
    "w2v_model.wv.most_similar(positive=[\"homer_simpson\"])"
   ]
  },
  {
   "cell_type": "code",
   "execution_count": 97,
   "id": "71e6200d-9a25-44ac-bb6e-24108fed0f36",
   "metadata": {},
   "outputs": [
    {
     "data": {
      "text/plain": [
       "[('homie', 0.7545922994613647),\n",
       " ('homer', 0.73553466796875),\n",
       " ('humiliate', 0.7287976741790771),\n",
       " ('becky', 0.7098789215087891),\n",
       " ('darling', 0.6999627351760864),\n",
       " ('snuggle', 0.6878070831298828),\n",
       " ('grownup', 0.6835185289382935),\n",
       " ('badly', 0.6811258792877197),\n",
       " ('depressed', 0.6801363229751587),\n",
       " ('ashamed', 0.6799259185791016)]"
      ]
     },
     "execution_count": 97,
     "metadata": {},
     "output_type": "execute_result"
    }
   ],
   "source": [
    "w2v_model.wv.most_similar(positive=[\"marge\"])"
   ]
  },
  {
   "cell_type": "code",
   "execution_count": 98,
   "id": "be7e0704-4ac2-4ee9-b62c-33c9bf497915",
   "metadata": {},
   "outputs": [
    {
     "data": {
      "text/plain": [
       "[('lisa', 0.7947835922241211),\n",
       " ('hearing', 0.7434296011924744),\n",
       " ('pay_attention', 0.7235042452812195),\n",
       " ('babysitter', 0.7206709384918213),\n",
       " ('convince', 0.712300717830658),\n",
       " ('homework', 0.7090826630592346),\n",
       " ('exploit', 0.7075273990631104),\n",
       " ('milhouse', 0.7056649923324585),\n",
       " ('embarrassing', 0.7054269909858704),\n",
       " ('creepy', 0.7046061158180237)]"
      ]
     },
     "execution_count": 98,
     "metadata": {},
     "output_type": "execute_result"
    }
   ],
   "source": [
    "w2v_model.wv.most_similar(positive=[\"bart\"])"
   ]
  },
  {
   "cell_type": "code",
   "execution_count": 102,
   "id": "843f2f85-a5f5-443c-b2de-a38c38d7c30b",
   "metadata": {},
   "outputs": [
    {
     "data": {
      "text/plain": [
       "0.6769715"
      ]
     },
     "execution_count": 102,
     "metadata": {},
     "output_type": "execute_result"
    }
   ],
   "source": [
    "w2v_model.wv.similarity('maggie', 'baby')"
   ]
  },
  {
   "cell_type": "code",
   "execution_count": 103,
   "id": "e5b831bb-b092-457e-8b27-9d320440976b",
   "metadata": {},
   "outputs": [
    {
     "data": {
      "text/plain": [
       "0.57096916"
      ]
     },
     "execution_count": 103,
     "metadata": {},
     "output_type": "execute_result"
    }
   ],
   "source": [
    "w2v_model.wv.similarity('bart', 'nelson')"
   ]
  },
  {
   "cell_type": "code",
   "execution_count": 104,
   "id": "8f892c59-ec3d-4101-a9c9-ad4725f0e79b",
   "metadata": {},
   "outputs": [
    {
     "data": {
      "text/plain": [
       "'milhouse'"
      ]
     },
     "execution_count": 104,
     "metadata": {},
     "output_type": "execute_result"
    }
   ],
   "source": [
    "w2v_model.wv.doesnt_match(['jimbo', 'milhouse', 'kearney'])"
   ]
  },
  {
   "cell_type": "code",
   "execution_count": 105,
   "id": "9335f43e-acb0-49f9-87f3-e5327c8cdb43",
   "metadata": {},
   "outputs": [
    {
     "data": {
      "text/plain": [
       "'nelson'"
      ]
     },
     "execution_count": 105,
     "metadata": {},
     "output_type": "execute_result"
    }
   ],
   "source": [
    "w2v_model.wv.doesnt_match([\"nelson\", \"bart\", \"milhouse\"])"
   ]
  },
  {
   "cell_type": "code",
   "execution_count": 106,
   "id": "14e620f7-620d-46ad-8370-1cc957c7cb6b",
   "metadata": {},
   "outputs": [
    {
     "data": {
      "text/plain": [
       "'homer'"
      ]
     },
     "execution_count": 106,
     "metadata": {},
     "output_type": "execute_result"
    }
   ],
   "source": [
    "w2v_model.wv.doesnt_match(['homer', 'patty', 'selma'])"
   ]
  },
  {
   "cell_type": "code",
   "execution_count": 107,
   "id": "a06a69c0-5f27-4dc3-be6f-be0f1b7cfc4a",
   "metadata": {},
   "outputs": [
    {
     "data": {
      "text/plain": [
       "[('married', 0.5705246925354004),\n",
       " ('attract', 0.5683621168136597),\n",
       " ('reason', 0.5510749816894531)]"
      ]
     },
     "execution_count": 107,
     "metadata": {},
     "output_type": "execute_result"
    }
   ],
   "source": [
    "w2v_model.wv.most_similar(positive=[\"woman\", \"homer\"], negative=[\"marge\"], topn=3)"
   ]
  },
  {
   "cell_type": "code",
   "execution_count": 108,
   "id": "88d84256-36e8-4b9e-be0d-75e4ca63197c",
   "metadata": {},
   "outputs": [
    {
     "data": {
      "text/plain": [
       "[('lisa', 0.6590096950531006),\n",
       " ('parent', 0.6311227083206177),\n",
       " ('concerned', 0.6046618223190308)]"
      ]
     },
     "execution_count": 108,
     "metadata": {},
     "output_type": "execute_result"
    }
   ],
   "source": [
    "w2v_model.wv.most_similar(positive=[\"woman\", \"bart\"], negative=[\"man\"], topn=3)"
   ]
  },
  {
   "cell_type": "code",
   "execution_count": 118,
   "id": "85aac0c7-298f-4362-9ac8-ff05c1503941",
   "metadata": {},
   "outputs": [
    {
     "data": {
      "text/plain": [
       "[('queen', 0.5655935406684875),\n",
       " ('sprinkle', 0.5297269821166992),\n",
       " ('arthur', 0.5137786865234375)]"
      ]
     },
     "execution_count": 118,
     "metadata": {},
     "output_type": "execute_result"
    }
   ],
   "source": [
    "w2v_model.wv.most_similar(positive=[\"king\", \"man\"], negative=[\"woman\"], topn=3)"
   ]
  },
  {
   "cell_type": "code",
   "execution_count": 109,
   "id": "bd521f3f-77a8-4061-a301-72f259ae10d2",
   "metadata": {},
   "outputs": [],
   "source": [
    "import numpy as np\n",
    "import matplotlib.pyplot as plt\n",
    "%matplotlib inline\n",
    " \n",
    "import seaborn as sns\n",
    "sns.set_style(\"darkgrid\")\n",
    "\n",
    "from sklearn.decomposition import PCA\n",
    "from sklearn.manifold import TSNE"
   ]
  },
  {
   "cell_type": "code",
   "execution_count": 114,
   "id": "a8a567ac-7aa2-4dd1-87c5-024656d5c000",
   "metadata": {},
   "outputs": [],
   "source": [
    "def tsnescatterplot(model, word, list_names):\n",
    "    \"\"\" Plot in seaborn the results from the t-SNE dimensionality reduction algorithm of the vectors of a query word,\n",
    "    its list of most similar words, and a list of words.\n",
    "    \"\"\"\n",
    "    arrays = np.empty((0, 300), dtype='f')\n",
    "    word_labels = [word]\n",
    "    color_list  = ['red']\n",
    "\n",
    "    # adds the vector of the query word\n",
    "    arrays = np.append(arrays, model.wv.__getitem__([word]), axis=0)\n",
    "    \n",
    "    # gets list of most similar words\n",
    "    close_words = model.wv.most_similar([word])\n",
    "    \n",
    "    # adds the vector for each of the closest words to the array\n",
    "    for wrd_score in close_words:\n",
    "        wrd_vector = model.wv.__getitem__([wrd_score[0]])\n",
    "        word_labels.append(wrd_score[0])\n",
    "        color_list.append('blue')\n",
    "        arrays = np.append(arrays, wrd_vector, axis=0)\n",
    "    \n",
    "    # adds the vector for each of the words from list_names to the array\n",
    "    for wrd in list_names:\n",
    "        wrd_vector = model.wv.__getitem__([wrd])\n",
    "        word_labels.append(wrd)\n",
    "        color_list.append('green')\n",
    "        arrays = np.append(arrays, wrd_vector, axis=0)\n",
    "        \n",
    "    # Reduces the dimensionality from 300 to 50 dimensions with PCA\n",
    "    reduc = PCA(n_components=19).fit_transform(arrays)\n",
    "    \n",
    "    # Finds t-SNE coordinates for 2 dimensions\n",
    "    np.set_printoptions(suppress=True)\n",
    "    \n",
    "    Y = TSNE(n_components=2, random_state=0, perplexity=15).fit_transform(reduc)\n",
    "    \n",
    "    # Sets everything up to plot\n",
    "    df = pd.DataFrame({'x': [x for x in Y[:, 0]],\n",
    "                       'y': [y for y in Y[:, 1]],\n",
    "                       'words': word_labels,\n",
    "                       'color': color_list})\n",
    "    \n",
    "    fig, _ = plt.subplots()\n",
    "    fig.set_size_inches(9, 9)\n",
    "    \n",
    "    # Basic plot\n",
    "    p1 = sns.regplot(data=df,\n",
    "                     x=\"x\",\n",
    "                     y=\"y\",\n",
    "                     fit_reg=False,\n",
    "                     marker=\"o\",\n",
    "                     scatter_kws={'s': 40,\n",
    "                                  'facecolors': df['color']\n",
    "                                 }\n",
    "                    )\n",
    "    \n",
    "    # Adds annotations one by one with a loop\n",
    "    for line in range(0, df.shape[0]):\n",
    "         p1.text(df[\"x\"][line],\n",
    "                 df['y'][line],\n",
    "                 '  ' + df[\"words\"][line].title(),\n",
    "                 horizontalalignment='left',\n",
    "                 verticalalignment='bottom', size='medium',\n",
    "                 color=df['color'][line],\n",
    "                 weight='normal'\n",
    "                ).set_size(15)\n",
    "\n",
    "    \n",
    "    plt.xlim(Y[:, 0].min()-50, Y[:, 0].max()+50)\n",
    "    plt.ylim(Y[:, 1].min()-50, Y[:, 1].max()+50)\n",
    "            \n",
    "    plt.title('t-SNE visualization for {}'.format(word.title()))"
   ]
  },
  {
   "cell_type": "code",
   "execution_count": 115,
   "id": "482dfed4-3648-4542-a9d1-cc375b5ffdb7",
   "metadata": {},
   "outputs": [
    {
     "data": {
      "image/png": "[encoded data removed]",
      "text/plain": [
       "<Figure size 900x900 with 1 Axes>"
      ]
     },
     "metadata": {},
     "output_type": "display_data"
    }
   ],
   "source": [
    "tsnescatterplot(w2v_model, 'homer', ['dog', 'bird', 'ah', 'maude', 'bob', 'mel', 'apu', 'duff'])"
   ]
  },
  {
   "cell_type": "code",
   "execution_count": 116,
   "id": "03615205-7dc6-45a8-b039-a225ded216b1",
   "metadata": {},
   "outputs": [
    {
     "data": {
      "image/png": "[encoded data removed]",
      "text/plain": [
       "<Figure size 900x900 with 1 Axes>"
      ]
     },
     "metadata": {},
     "output_type": "display_data"
    }
   ],
   "source": [
    "tsnescatterplot(w2v_model, 'maggie', [i[0] for i in w2v_model.wv.most_similar(negative=[\"maggie\"])])"
   ]
  },
  {
   "cell_type": "code",
   "execution_count": 117,
   "id": "9a47e7ea-10a4-4f85-ad13-efd619de6584",
   "metadata": {},
   "outputs": [
    {
     "data": {
      "image/png": "[encoded data removed]",
      "text/plain": [
       "<Figure size 900x900 with 1 Axes>"
      ]
     },
     "metadata": {},
     "output_type": "display_data"
    }
   ],
   "source": [
    "tsnescatterplot(w2v_model, \"mr_burn\", [t[0] for t in w2v_model.wv.most_similar(positive=[\"mr_burn\"], topn=20)][10:])"
   ]
  },
  {
   "cell_type": "code",
   "execution_count": null,
   "id": "427ccb65-3f2d-486e-bd6a-94841d766fcc",
   "metadata": {},
   "outputs": [],
   "source": []
  }
 ],
 "metadata": {
  "kernelspec": {
   "display_name": "Python 3 (ipykernel)",
   "language": "python",
   "name": "python3"
  },
  "language_info": {
   "codemirror_mode": {
    "name": "ipython",
    "version": 3
   },
   "file_extension": ".py",
   "mimetype": "text/x-python",
   "name": "python",
   "nbconvert_exporter": "python",
   "pygments_lexer": "ipython3",
   "version": "3.10.11"
  }
 },
 "nbformat": 4,
 "nbformat_minor": 5
}
