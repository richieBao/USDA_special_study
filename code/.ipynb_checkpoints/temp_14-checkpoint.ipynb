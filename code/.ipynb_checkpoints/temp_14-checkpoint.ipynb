{
 "cells": [
  {
   "cell_type": "markdown",
   "id": "ca93c3a9-7447-4059-bd73-719d99cace98",
   "metadata": {},
   "source": [
    "### 3.6.2.3 Transformer\n",
    "\n",
    "与 RNN（Vallina、LSTM、GRU）和 基于 RNN 的 seq2seq 等递归神经网络不同，Vaswani, A.等人<sup>[Vaswani, A., Shazeer, N., Parmar, N., Uszkoreit, J., Jones, L., Gomez, A. N., … Polosukhin, I. (2017). Attention Is All You Need. arXiv [Cs.CL]. Retrieved from http://arxiv.org/abs/1706.03762]</sup> 2017年提出了 transformer 网络，并已证明在序列到序列（sequence-to-sequence）任务中具有更好的表现，且拥有更高的并行性。transformer 并不使用 RNN 网络，以注意力机制为主要思想构建网络，这包括响应解码对编码各个词汇（token）的注意力（参数`queries`向量来自于解码状态；参数`keys`和`values`向量来自编码状态），即`encoder-decoder attention`（编码-解码 注意力）；也包括解码器输入语句自身各个词汇对其它词汇的注意力，以更好的理解和表示序列，即`self-attention`（自注意力），例如对于文本`The animal didn't cross the street because it was too tired`，词汇`it`代指其它词汇`animal`，而不是`street`等。transformer 的网络结构如下图<sup>[The Illustrated Transformer, <https://jalammar.github.io/illustrated-transformer/>]</sup>，同样包括编码器和解码器，编码器中引入`self-attention`，解码器中对应编码器引入`encoer-decoder attention`，以及为了表述文本词语顺序的`position encoding`层，改善收敛稳定性和提高训练质量的`add & normalize`层，及处理注意力机制等新增信息的前馈神经网络层`feed forward（FFN）`等。同时，transformer 有多个编码器和解码器堆叠，而`self-attention`重复计算多次，获得多个`z`矩阵后并压缩为1个，称为`multi-headed`。\n",
    "\n",
    "\n",
    "<img src=\"../imgs/3_6/3_6_16.png\" height='auto' width='auto' title=\"caDesign\"> "
   ]
  },
  {
   "cell_type": "markdown",
   "id": "c24e9862-3deb-4e8e-968c-528a9c39f53c",
   "metadata": {},
   "source": [
    "#### 1）位置编码 —— Positional encoding\n",
    "\n",
    "由于 transformer 网络不含递归和卷积，为了使模型利用序列顺序信息，需要注入一些关于序列中词汇的相对或绝对位置信息。因此，在编码器和解码器输入端对词嵌入添加了“位置编码”（positional encodings）。位置编码与嵌入具有相同的维数，因此可以对两者求和。位置编码可以通过学习习得，也可以用固定的形似，例如使用不同频率的正弦和余弦函数，公式为，$P E_{(p o s, 2 i)}=\\sin \\left(p o s / 10000^{2 i / d_{\\text {model }}}\\right)$；$P E_{(p o s, 2 i+1)}=\\cos \\left(p o s / 10000^{2 i / d_{\\text {model }}}\\right)$，式中，$pos$是位置，$i$是维数，即位置编码的每一个维度对应于一个正弦波。波长为从$2 \\pi $到$10000   \\bullet  2 \\pi $的几何级数。transformer 作者解释使用正余弦函数是为了让模型可以很容易的通过相对位置来学习，因为对于任何固定的偏移$k$，$PE_{pos+k}$可以表示为$PE_{pos}$的线性函数。\n",
    "\n",
    "对应代码为：\n",
    "\n",
    "```python\n",
    "class PositionalEncoding(nn.Module):\n",
    "\n",
    "    def __init__(self, d_model: int, dropout: float = 0.1, max_len: int = 5000):\n",
    "        super().__init__()\n",
    "        self.dropout = nn.Dropout(p=dropout)\n",
    "\n",
    "        position = torch.arange(max_len).unsqueeze(1)\n",
    "        div_term = torch.exp(torch.arange(0, d_model, 2) * (-math.log(10000.0) / d_model))\n",
    "        pe = torch.zeros(max_len, 1, d_model)\n",
    "        pe[:, 0, 0::2] = torch.sin(position * div_term)\n",
    "        pe[:, 0, 1::2] = torch.cos(position * div_term)\n",
    "        self.register_buffer('pe', pe)\n",
    "\n",
    "    def forward(self, x: Tensor) -> Tensor:\n",
    "        \"\"\"\n",
    "        Arguments:\n",
    "            x: Tensor, shape ``[seq_len, batch_size, embedding_dim]``\n",
    "        \"\"\"\n",
    "        x = x + self.pe[:x.size(0)]\n",
    "        return self.dropout(x)\n",
    "    \n",
    "```\n",
    "\n",
    "#### 2）注意力（attention）—— self-attention\n",
    "\n",
    "注意力函数（同时可以查看下图<sup>[Vaswani, A., Shazeer, N., Parmar, N., Uszkoreit, J., Jones, L., Gomez, A. N., … Polosukhin, I. (2017). Attention Is All You Need. arXiv [Cs.CL]. Retrieved from http://arxiv.org/abs/1706.03762]</sup>）可以描述为将查询（queries）$q$和一组键值对（keys，values）$k,v$映射到输出$z$，其中查询、键、值和输出都是向量，查询和键的维度为$d_k$，值得维度为$d_v$。输出为值的加权和，且分配给每个值的权重由查询与相应键的兼容性（compatibility）函数计算。将自注意力（self-attention）称之为缩放的点积注意力（Scaled Dot-Product Attention），首先计算查询和键大的点积（dot products），然后除以$\\sqrt{d_k}$，并应用 softmax 函数获得值的权重，公式为$\\operatorname{Attention}(Q, K, V)=\\operatorname{softmax}\\left(\\frac{Q K^T}{\\sqrt{d_k}}\\right) V$。\n",
    "\n",
    "<img src=\"../imgs/3_6/3_6_17.png\" height='auto' width=500 title=\"caDesign\"> \n",
    "\n",
    "transformer 作者发现与其使用$d_{model}$维度的键、值和查询的一组注意力函数，不如并行多组生成$d_v$维输出，并连接（ concatenate）起来再次映射得到最终值，称为多头注意力（Multi-head attention ）。多头注意力允许模型联合处理来自不同位置不同表示的子空间信息，公式可表述为$\\operatorname{MultiHead}(Q, K, V)=\\operatorname{Concat}\\left(\\operatorname{head}_1, \\ldots, \\operatorname{head}_{\\mathrm{h}}\\right) W^O, \\text {where} ,  head_{\\mathrm{i}}=\\operatorname{Attention}\\left(Q W_i^Q, K W_i^K, V W_i^V\\right)$，其中映射的参数矩阵有$W_i^Q \\in \\mathbb{R}^{d_{\\text {model }} \\times d_k}, W_i^K \\in \\mathbb{R}^{d_{\\text {model }} \\times d_k}, W_i^V \\in \\mathbb{R}^{d_{\\text {model }} \\times d_v}$ ,$W^O \\in \\mathbb{R}^{h d_v \\times d_{\\text {model }}}$。\n",
    "\n",
    "\n",
    "\n",
    "#### 3）层归一化（Layer normalization）—— add & normalize<sup>[Ba, J. L., Kiros, J. R., & Hinton, G. E. (2016). Layer Normalization. arXiv [Stat.ML]. Retrieved from http://arxiv.org/abs/1607.06450]</sup>\n",
    "\n",
    "一层输出的变化往往会导致下一层累计输入发生高度相关的变化， 尤其对于输出变化很大的 ReLU 层，而“协变量位移”（covariate shift”）问题可以通过固定每一层中总和输入的均值和方差来减少，公式为$y = \\frac{x - \\mathrm{E}[x]}{ \\sqrt{\\mathrm{Var}[x] + \\epsilon}} * \\gamma + \\beta$，式中，$ \\gamma$和$ \\beta$是可学习的仿射变化参数<sup>[LayerNorm_PyTorch, <https://pytorch.org/docs/stable/generated/torch.nn.LayerNorm.html?highlight=layernorm#torch.nn.LayerNorm>]</sup>。`PyTorch`库将层归一化方法写入到了`torch.nn.LayerNorm`类中。\n",
    "\n",
    "#### 4）前馈神经网络 —— feed forward\n",
    "\n",
    "除了注意力层外，编码器和解码器的每一层都包含并行多个完全连接的前馈神经网络，对应连接注意力层的各个输出$z_n$。每个前馈网络有两个线性变化和一个 ReLU 层，公式为$\\operatorname{FFN}(x)=\\max \\left(0, x W_1+b_1\\right) W_2+b_2$。虽然线性变换在不同位置上是相同的，但它们在每一层之间使用不同的参数。\n",
    "\n",
    "#### 5）残差连接（ Residual connections）\n",
    "\n",
    "在 transformer 网络图解中可以观察到层间连接的虚线，即为残差连接（ Residual connections），为一种在深度神经网络中广泛应用的技术，旨在解决深度神经网络训练过程中的梯度消失和梯度爆炸等问题，例如信息从一层传递到下一层时存在的信息损失。\n",
    "\n",
    "`PyTorch`将 transformer 的方法写入到了`torch.nn.TransformerEncoderLayer`中，并给出了[Language modeling with nn.transformer and torchtext](https://pytorch.org/tutorials/beginner/transformer_tutorial.html#evaluate-the-best-model-on-the-test-dataset)示例文档。这里将该文档的方法迁移到`USDA`库，方便调用。"
   ]
  },
  {
   "cell_type": "code",
   "execution_count": 1,
   "id": "15517f0f-4f4e-4e2a-8c4b-330ae2185488",
   "metadata": {},
   "outputs": [],
   "source": [
    "%load_ext autoreload \n",
    "%autoreload 2 \n",
    "\n",
    "import usda.models as usda_models\n",
    "\n",
    "from torchtext.datasets import WikiText2\n",
    "from torchtext.data.utils import get_tokenizer\n",
    "from torchtext.vocab import build_vocab_from_iterator\n",
    "import torch\n",
    "from torch import nn\n",
    "import os\n",
    "import time\n",
    "import math"
   ]
  },
  {
   "cell_type": "markdown",
   "id": "f4caafcb-d417-4e5c-802e-190297f2a4a9",
   "metadata": {},
   "source": [
    "通过`PyTorch`的[torchtext.datasets](https://pytorch.org/text/stable/datasets.html)可以获得多种用于自然语言处理的文本数据集，示例中调入的为[WikiText2](https://pytorch.org/text/stable/datasets.html#wikitext-2)数据集。"
   ]
  },
  {
   "cell_type": "code",
   "execution_count": 2,
   "id": "1cde75e7-edf0-4968-9f90-145e57d379f0",
   "metadata": {},
   "outputs": [],
   "source": [
    "train_iter=WikiText2(split='train')\n",
    "tokenizer=get_tokenizer('basic_english')\n",
    "vocab=build_vocab_from_iterator(map(tokenizer, train_iter), specials=['<unk>'])\n",
    "vocab.set_default_index(vocab['<unk>'])\n",
    "\n",
    "train_iter, val_iter, test_iter=WikiText2()\n",
    "train_data=usda_models.data_process4transformer(train_iter,vocab,tokenizer)\n",
    "val_data=usda_models.data_process4transformer(val_iter,vocab,tokenizer)\n",
    "test_data=usda_models.data_process4transformer(test_iter,vocab,tokenizer) "
   ]
  },
  {
   "cell_type": "markdown",
   "id": "e0a0e1ee-ffe1-4ef1-bc66-d8ec896e3663",
   "metadata": {},
   "source": [
    "建立训练数据集。"
   ]
  },
  {
   "cell_type": "code",
   "execution_count": 3,
   "id": "b816d0b0-bf00-458b-ba32-ce767e62482d",
   "metadata": {},
   "outputs": [
    {
     "name": "stdout",
     "output_type": "stream",
     "text": [
      "train data:\n",
      "tensor([[    9,    59,   564,  ..., 11652,  2435,     1],\n",
      "        [ 3849,    12,   300,  ...,    47,    30,  1990],\n",
      "        [ 3869,   315,    19,  ...,    97,  7720,     4],\n",
      "        ...,\n",
      "        [  587,  4011,    59,  ...,     1,  1439, 12313],\n",
      "        [ 4987,    29,     4,  ...,  3165, 17106,  2060],\n",
      "        [    6,     8,     1,  ...,    62,    18,     2]], device='cuda:0')\n",
      "shape=torch.Size([102499, 20])\n"
     ]
    }
   ],
   "source": [
    "batch_size=20\n",
    "eval_batch_size=10\n",
    "train_data=usda_models.batchify(train_data, batch_size)  \n",
    "val_data=usda_models.batchify(val_data, eval_batch_size)\n",
    "test_data=usda_models.batchify(test_data, eval_batch_size) \n",
    "\n",
    "print(f'train data:\\n{train_data}\\nshape={train_data.shape}')"
   ]
  },
  {
   "cell_type": "markdown",
   "id": "63634a5a-53ab-4656-a75c-f3ce043d1ac6",
   "metadata": {},
   "source": [
    "配置 transformer 模型参数，并初始化模型。"
   ]
  },
  {
   "cell_type": "code",
   "execution_count": 4,
   "id": "b3acea7e-992f-4253-832e-435c2963334a",
   "metadata": {},
   "outputs": [
    {
     "name": "stdout",
     "output_type": "stream",
     "text": [
      "TransformerModel(\n",
      "  (pos_encoder): PositionalEncoding(\n",
      "    (dropout): Dropout(p=0.2, inplace=False)\n",
      "  )\n",
      "  (transformer_encoder): TransformerEncoder(\n",
      "    (layers): ModuleList(\n",
      "      (0-1): 2 x TransformerEncoderLayer(\n",
      "        (self_attn): MultiheadAttention(\n",
      "          (out_proj): NonDynamicallyQuantizableLinear(in_features=200, out_features=200, bias=True)\n",
      "        )\n",
      "        (linear1): Linear(in_features=200, out_features=200, bias=True)\n",
      "        (dropout): Dropout(p=0.2, inplace=False)\n",
      "        (linear2): Linear(in_features=200, out_features=200, bias=True)\n",
      "        (norm1): LayerNorm((200,), eps=1e-05, elementwise_affine=True)\n",
      "        (norm2): LayerNorm((200,), eps=1e-05, elementwise_affine=True)\n",
      "        (dropout1): Dropout(p=0.2, inplace=False)\n",
      "        (dropout2): Dropout(p=0.2, inplace=False)\n",
      "      )\n",
      "    )\n",
      "  )\n",
      "  (embedding): Embedding(28782, 200)\n",
      "  (linear): Linear(in_features=200, out_features=28782, bias=True)\n",
      ")\n"
     ]
    }
   ],
   "source": [
    "device=torch.device('cuda' if torch.cuda.is_available() else 'cpu')\n",
    "\n",
    "ntokens=len(vocab)  # size of vocabulary\n",
    "emsize=200  # embedding dimension\n",
    "d_hid=200  # dimension of the feedforward network model in ``nn.TransformerEncoder``\n",
    "nlayers=2  # number of ``nn.TransformerEncoderLayer`` in ``nn.TransformerEncoder``\n",
    "nhead=2  # number of heads in ``nn.MultiheadAttention``\n",
    "dropout=0.2  # dropout probability\n",
    "model=usda_models.TransformerModel(ntokens, emsize, nhead, d_hid, nlayers, dropout).to(device)    \n",
    "print(model)"
   ]
  },
  {
   "cell_type": "markdown",
   "id": "d923b4ab-9d34-4b44-a87a-4d640edb5ef0",
   "metadata": {},
   "source": [
    "配置损失和优化函数，及调整学习率。"
   ]
  },
  {
   "cell_type": "code",
   "execution_count": 70,
   "id": "9ad955d3-caae-4a91-8dfa-156f1894f8c4",
   "metadata": {},
   "outputs": [],
   "source": [
    "criterion=nn.CrossEntropyLoss()\n",
    "lr=5.0  # learning rate\n",
    "optimizer=torch.optim.SGD(model.parameters(), lr=lr)\n",
    "scheduler=torch.optim.lr_scheduler.StepLR(optimizer, 1.0, gamma=0.95)        \n",
    "        \n",
    "best_val_loss=float('inf')\n",
    "epochs=2\n",
    "bptt=35\n",
    "\n",
    "save_path=r'I:\\model_ckpts\\transformer'\n",
    "best_model_params_path=os.path.join(save_path, \"transformer_model.pth\")"
   ]
  },
  {
   "cell_type": "markdown",
   "id": "e0b968b8-76ee-4152-af86-573861ea2d62",
   "metadata": {},
   "source": [
    "训练模型和保存模型参数。"
   ]
  },
  {
   "cell_type": "code",
   "execution_count": 77,
   "id": "f482bf3f-8686-46da-9601-a89933c4ed97",
   "metadata": {},
   "outputs": [
    {
     "name": "stdout",
     "output_type": "stream",
     "text": [
      "| epoch   1 |   200/ 2928 batches | lr 5.00 | ms/batch 14.29 | loss  2.66 | ppl    14.35\n",
      "| epoch   1 |   400/ 2928 batches | lr 5.00 | ms/batch 14.31 | loss  2.77 | ppl    15.97\n",
      "| epoch   1 |   600/ 2928 batches | lr 5.00 | ms/batch 13.56 | loss  2.66 | ppl    14.23\n",
      "| epoch   1 |   800/ 2928 batches | lr 5.00 | ms/batch 14.54 | loss  2.58 | ppl    13.20\n",
      "| epoch   1 |  1000/ 2928 batches | lr 5.00 | ms/batch 13.77 | loss  2.63 | ppl    13.94\n",
      "| epoch   1 |  1200/ 2928 batches | lr 5.00 | ms/batch 13.65 | loss  2.56 | ppl    12.95\n",
      "| epoch   1 |  1400/ 2928 batches | lr 5.00 | ms/batch 13.72 | loss  2.95 | ppl    19.12\n",
      "| epoch   1 |  1600/ 2928 batches | lr 5.00 | ms/batch 14.50 | loss  2.67 | ppl    14.46\n",
      "| epoch   1 |  1800/ 2928 batches | lr 5.00 | ms/batch 14.95 | loss  2.75 | ppl    15.64\n",
      "| epoch   1 |  2000/ 2928 batches | lr 5.00 | ms/batch 14.84 | loss  2.64 | ppl    14.03\n",
      "| epoch   1 |  2200/ 2928 batches | lr 5.00 | ms/batch 13.94 | loss  3.04 | ppl    20.91\n",
      "| epoch   1 |  2400/ 2928 batches | lr 5.00 | ms/batch 13.83 | loss  2.73 | ppl    15.32\n",
      "| epoch   1 |  2600/ 2928 batches | lr 5.00 | ms/batch 14.64 | loss  2.88 | ppl    17.75\n",
      "| epoch   1 |  2800/ 2928 batches | lr 5.00 | ms/batch 15.53 | loss  2.62 | ppl    13.72\n",
      "-----------------------------------------------------------------------------------------\n",
      "| end of epoch   1 | time: 42.03s | valid loss  0.00 | valid ppl     1.00\n",
      "-----------------------------------------------------------------------------------------\n",
      "| epoch   2 |   200/ 2928 batches | lr 4.75 | ms/batch 14.93 | loss  2.75 | ppl    15.61\n",
      "| epoch   2 |   400/ 2928 batches | lr 4.75 | ms/batch 14.13 | loss  2.57 | ppl    13.06\n",
      "| epoch   2 |   600/ 2928 batches | lr 4.75 | ms/batch 14.23 | loss  2.61 | ppl    13.56\n",
      "| epoch   2 |   800/ 2928 batches | lr 4.75 | ms/batch 14.76 | loss  2.67 | ppl    14.49\n",
      "| epoch   2 |  1000/ 2928 batches | lr 4.75 | ms/batch 16.87 | loss  2.72 | ppl    15.11\n",
      "| epoch   2 |  1200/ 2928 batches | lr 4.75 | ms/batch 15.59 | loss  2.77 | ppl    15.92\n",
      "| epoch   2 |  1400/ 2928 batches | lr 4.75 | ms/batch 15.32 | loss  2.81 | ppl    16.54\n",
      "| epoch   2 |  1600/ 2928 batches | lr 4.75 | ms/batch 15.56 | loss  2.75 | ppl    15.72\n",
      "| epoch   2 |  1800/ 2928 batches | lr 4.75 | ms/batch 14.91 | loss  2.56 | ppl    13.00\n",
      "| epoch   2 |  2000/ 2928 batches | lr 4.75 | ms/batch 16.19 | loss  3.02 | ppl    20.57\n",
      "| epoch   2 |  2200/ 2928 batches | lr 4.75 | ms/batch 16.29 | loss  2.70 | ppl    14.90\n",
      "| epoch   2 |  2400/ 2928 batches | lr 4.75 | ms/batch 16.36 | loss  2.66 | ppl    14.34\n",
      "| epoch   2 |  2600/ 2928 batches | lr 4.75 | ms/batch 17.28 | loss  2.57 | ppl    13.09\n",
      "| epoch   2 |  2800/ 2928 batches | lr 4.75 | ms/batch 16.56 | loss  2.45 | ppl    11.61\n",
      "-----------------------------------------------------------------------------------------\n",
      "| end of epoch   2 | time: 46.02s | valid loss  0.00 | valid ppl     1.00\n",
      "-----------------------------------------------------------------------------------------\n"
     ]
    }
   ],
   "source": [
    "for epoch in range(1, epochs + 1):\n",
    "    epoch_start_time=time.time()\n",
    "    usda_models.train4transformer(model,criterion,optimizer,scheduler,train_data,ntokens,epoch,bptt)\n",
    "    val_loss=usda_models.evaluate4transformer(model,criterion, ntokens, val_data)\n",
    "    val_ppl=math.exp(val_loss)\n",
    "    elapsed=time.time() - epoch_start_time\n",
    "    print('-' * 89)\n",
    "    print(f'| end of epoch {epoch:3d} | time: {elapsed:5.2f}s | '\n",
    "        f'valid loss {val_loss:5.2f} | valid ppl {val_ppl:8.2f}')\n",
    "    print('-' * 89)\n",
    "\n",
    "    if val_loss < best_val_loss:\n",
    "        best_val_loss = val_loss\n",
    "        torch.save(model.state_dict(), best_model_params_path)\n",
    "\n",
    "    scheduler.step()"
   ]
  },
  {
   "cell_type": "markdown",
   "id": "ee4a0c8e-4811-4153-b8f5-fdb1aae87cd3",
   "metadata": {},
   "source": [
    "加载模型，并通过给定的提示词预测后续词。"
   ]
  },
  {
   "cell_type": "code",
   "execution_count": 140,
   "id": "8f936d10-9401-4d42-85dc-3d416fa5b015",
   "metadata": {},
   "outputs": [
    {
     "name": "stdout",
     "output_type": "stream",
     "text": [
      "tensor([    1,    37,     6,     1,  1269,  2124,   352,    93,     2,   452,\n",
      "            5,   326,    19,  3179,    14,     8,  2847,   363,    17,    36,\n",
      "           67,  1361, 14407,    67,  5972,     3,     6,  2096,   372,     7,\n",
      "           16,     4,     1,  1897,  1269,  2124,  9480,     3,     2,    38,\n",
      "            0,    17,     1,   952,  5135,    11,    15,  1871,     2,     1,\n",
      "          285,  5561,  2124,     7,     1,   140,     4,   267,  1329,    19,\n",
      "          888,     7,     1,   463,     5,  5369,   431,  5890,     7,  1947,\n",
      "         4490,     5, 27153,     3,  1676,    55,  2124,   193,     2,  1269,\n",
      "         2124,   352,    23,   219,     6, 27675,     2,     8,    54,  3076,\n",
      "         2478,     6,   195,   488,     2])\n",
      "tensor([[    1,   452,    17,  2096,  9480,    11,     1,   463, 27153,   352],\n",
      "        [   37,     5,    36,   372,     3,    15,   140,     5,     3,    23],\n",
      "        [    6,   326,    67,     7,     2,  1871,     4,  5369,  1676,   219],\n",
      "        [    1,    19,  1361,    16,    38,     2,   267,   431,    55,     6],\n",
      "        [ 1269,  3179, 14407,     4,     0,     1,  1329,  5890,  2124, 27675],\n",
      "        [ 2124,    14,    67,     1,    17,   285,    19,     7,   193,     2],\n",
      "        [  352,     8,  5972,  1897,     1,  5561,   888,  1947,     2,     8],\n",
      "        [   93,  2847,     3,  1269,   952,  2124,     7,  4490,  1269,    54],\n",
      "        [    2,   363,     6,  2124,  5135,     7,     1,     5,  2124,  3076]],\n",
      "       device='cuda:0')\n"
     ]
    }
   ],
   "source": [
    "model.load_state_dict(torch.load(best_model_params_path)) # load best model states  \n",
    "\n",
    "prompt=\"the first in the Super Mario Land series , developed and published by Nintendo as a launch title for their Game Boy handheld game console . In gameplay similar to that of the 1985 Super Mario Bros. , but resized for the smaller device 's screen , the player advances Mario to the end of 12 levels by moving to the right and jumping across platforms to avoid enemies and pitfalls . Unlike other Mario games , Super Mario Land is set in Sarasaland , a new environment depicted in line art ,\"\n",
    "indexed_tokens=usda_models.data_process4transformer(tokenizer(prompt),vocab,tokenizer)\n",
    "print(indexed_tokens)\n",
    "indexed_tokens_batch=usda_models.batchify(indexed_tokens, bsz=10)\n",
    "print(indexed_tokens_batch)"
   ]
  },
  {
   "cell_type": "code",
   "execution_count": 141,
   "id": "996a7f18-e350-4e0e-b2aa-d17a30f54ad4",
   "metadata": {},
   "outputs": [
    {
     "name": "stdout",
     "output_type": "stream",
     "text": [
      " first in the super mario land series , developed and published by nintendo as a launch title for their game boy handheld game console . in gameplay similar to that of the 1985 super mario bros . , but <unk> for the smaller device ' s screen , the player"
     ]
    }
   ],
   "source": [
    "gen_length=50\n",
    "\n",
    "with torch.no_grad():\n",
    "    for i in range(gen_length):        \n",
    "        indexed_tokens_batch=usda_models.batchify(indexed_tokens, bsz=1)\n",
    "        prediction=model(indexed_tokens_batch.to(device))\n",
    "        predicted_index=torch.argmax(prediction[0, -1, :]).item()\n",
    "        indexed_tokens=torch.cat([indexed_tokens,torch.tensor([predicted_index])],0)\n",
    "        indexed_tokens=indexed_tokens[1:]        \n",
    "        result=vocab.lookup_tokens([predicted_index])\n",
    "        print(f' {result[0]}', end=\"\")"
   ]
  },
  {
   "cell_type": "markdown",
   "id": "24efa2e8-2679-453c-b333-4537c4c0125e",
   "metadata": {},
   "source": [
    "---"
   ]
  },
  {
   "cell_type": "markdown",
   "id": "ba62e68d-2e92-44f8-bde4-7c3841f53c1f",
   "metadata": {},
   "source": [
    "## 3.6.3 Transformers 的视觉模型\n",
    "\n",
    "受到 transformer 网络对自然语言处理的启发，Dosovitskiy, A.等人<sup>[Dosovitskiy, A., Beyer, L., Kolesnikov, A., Weissenborn, D., Zhai, X., Unterthiner, T., … Houlsby, N. (2021). An Image is Worth 16x16 Words: Transformers for Image Recognition at Scale. arXiv [Cs.CV]. Retrieved from http://arxiv.org/abs/2010.11929]</sup>于 2021 年提出了视觉 Transformer（Vision Transformer，ViT）。ViT 尽可能减少对 transformer 网络的修改，将图像分割成连续的样方（patches），并将这些样方的线性嵌入序列作为 transformer 的输入，对图像样方的处理方式同对词汇（token）的处理方，如图<sup>[Dosovitskiy, A., Beyer, L., Kolesnikov, A., Weissenborn, D., Zhai, X., Unterthiner, T., … Houlsby, N. (2021). An Image is Worth 16x16 Words: Transformers for Image Recognition at Scale. arXiv [Cs.CV]. Retrieved from http://arxiv.org/abs/2010.11929]</sup>，\n",
    "\n",
    "<img src=\"../imgs/3_6/3_6_18.png\" height='auto' width=700 title=\"caDesign\"> \n",
    "\n",
    "[阿姆斯特丹大学（University of Amsterdam）为人工智能硕士学位开设的深度学习课程](https://uvadlc.github.io/)中，包含有[ViT](https://uvadlc-notebooks.readthedocs.io/en/latest/tutorial_notebooks/tutorial15/Vision_Transformer.html)教程和ViT 代码，主要使用`PyTorch`、`Torchvision`和`PyTorch Lighting`3个库，以[CIFAR10](https://www.cs.toronto.edu/~kriz/cifar.html)为训练数据集，具体如下。"
   ]
  },
  {
   "cell_type": "code",
   "execution_count": 1,
   "id": "b3791ed9-81cb-4323-b427-19ddb4d3d788",
   "metadata": {},
   "outputs": [],
   "source": [
    "%load_ext autoreload \n",
    "%autoreload 2 \n",
    "\n",
    "import usda.models as usda_models\n",
    "import usda.datasets as usda_datasets\n",
    "\n",
    "import torch\n",
    "import torchvision\n",
    "import matplotlib.pyplot as plt"
   ]
  },
  {
   "cell_type": "markdown",
   "id": "d35d9abf-d6a7-4058-9c00-a2bad27fbd71",
   "metadata": {},
   "source": [
    "下载已经训练过的模型文件。"
   ]
  },
  {
   "cell_type": "code",
   "execution_count": 16,
   "id": "5282ceef-c7d4-4af8-adf8-68f8aff9284c",
   "metadata": {},
   "outputs": [],
   "source": [
    "# Path to the folder where the pretrained models are saved\n",
    "CHECKPOINT_PATH=r'I:\\model_ckpts\\ViT'\n",
    "# Github URL where saved models are stored for this tutorial\n",
    "base_url = \"https://raw.githubusercontent.com/phlippe/saved_models/main/\"\n",
    "# Files to download\n",
    "pretrained_files = [\"tutorial15/ViT.ckpt\", \"tutorial15/tensorboards/ViT/events.out.tfevents.ViT\",\"tutorial5/tensorboards/ResNet/events.out.tfevents.resnet\"]\n",
    "usda_datasets.files_downloading(base_url=base_url,files_name=pretrained_files,save_dir=CHECKPOINT_PATH)"
   ]
  },
  {
   "cell_type": "markdown",
   "id": "c076b92e-286a-486c-8390-f1c2dbf43e34",
   "metadata": {},
   "source": [
    "下载`cifar10`数据集，并建立数据集加载器。"
   ]
  },
  {
   "cell_type": "code",
   "execution_count": 17,
   "id": "fec655f5-893e-4271-9884-0e0cb36cced2",
   "metadata": {},
   "outputs": [
    {
     "name": "stdout",
     "output_type": "stream",
     "text": [
      "Files already downloaded and verified\n",
      "Files already downloaded and verified\n"
     ]
    },
    {
     "name": "stderr",
     "output_type": "stream",
     "text": [
      "Global seed set to 20\n",
      "Global seed set to 20\n"
     ]
    },
    {
     "name": "stdout",
     "output_type": "stream",
     "text": [
      "Files already downloaded and verified\n"
     ]
    }
   ],
   "source": [
    "DATASET_PATH = r\"I:\\data\\cifar10\"\n",
    "train_set,val_set,test_set,train_loader,val_loader,test_loader=usda_datasets.cifar10_downloading2fixedParams_loader(DATASET_PATH,seed=20)"
   ]
  },
  {
   "cell_type": "code",
   "execution_count": 14,
   "id": "23ef97af-e319-4b4b-af12-e742ad730492",
   "metadata": {},
   "outputs": [
    {
     "data": {
      "text/plain": [
       "tensor([8, 7, 0, 1, 4, 2, 5, 4, 1, 3, 7, 8, 9, 6, 3, 6, 4, 1, 0, 6, 7, 4, 5, 1,\n",
       "        3, 9, 4, 8, 0, 2, 5, 1, 3, 3, 6, 1, 4, 8, 0, 8, 1, 6, 7, 7, 8, 0, 7, 8,\n",
       "        6, 3, 8, 0, 1, 9, 8, 1, 9, 1, 6, 3, 1, 7, 5, 7, 7, 5, 1, 4, 6, 4, 0, 5,\n",
       "        4, 6, 8, 1, 3, 0, 2, 9, 6, 7, 3, 0, 8, 3, 1, 9, 6, 1, 9, 9, 2, 2, 5, 3,\n",
       "        6, 5, 1, 2, 7, 0, 1, 9, 5, 0, 9, 8, 1, 2, 1, 5, 5, 2, 3, 1, 2, 6, 4, 9,\n",
       "        8, 0, 4, 8, 0, 0, 6, 7])"
      ]
     },
     "execution_count": 14,
     "metadata": {},
     "output_type": "execute_result"
    }
   ],
   "source": [
    "t"
   ]
  },
  {
   "cell_type": "markdown",
   "id": "4991a075-9a5e-4dc7-b218-240030ae6caf",
   "metadata": {},
   "source": [
    "查看数据集。"
   ]
  },
  {
   "cell_type": "code",
   "execution_count": 18,
   "id": "e2898f65-301f-4563-a22c-127e5c013b5a",
   "metadata": {},
   "outputs": [
    {
     "data": {
      "image/png": "[encoded data removed]",
      "text/plain": [
       "<Figure size 900x900 with 1 Axes>"
      ]
     },
     "metadata": {},
     "output_type": "display_data"
    }
   ],
   "source": [
    "# Visualize some examples\n",
    "NUM_IMAGES = 10\n",
    "CIFAR_images = torch.stack([val_set[idx][0] for idx in range(NUM_IMAGES)], dim=0)\n",
    "img_grid = torchvision.utils.make_grid(CIFAR_images, nrow=10, normalize=True, pad_value=0.9)\n",
    "img_grid = img_grid.permute(1, 2, 0)\n",
    "\n",
    "plt.figure(figsize=(9,9))\n",
    "plt.title(\"Image examples of the CIFAR10 dataset\",size=10)\n",
    "plt.imshow(img_grid)\n",
    "plt.axis('off')\n",
    "plt.show()\n",
    "plt.close()"
   ]
  },
  {
   "cell_type": "markdown",
   "id": "28acd6e0-2553-4541-9226-8491f4771a35",
   "metadata": {},
   "source": [
    "将图像切分成连续的样方示例。"
   ]
  },
  {
   "cell_type": "code",
   "execution_count": 19,
   "id": "23b5fcfd-c6a9-4dcf-bc25-f8a841cfc898",
   "metadata": {},
   "outputs": [
    {
     "data": {
      "image/png": "[encoded data removed]",
      "text/plain": [
       "<Figure size 2000x500 with 10 Axes>"
      ]
     },
     "metadata": {},
     "output_type": "display_data"
    }
   ],
   "source": [
    "img_patches = usda_models.img_to_patch(CIFAR_images, patch_size=4, flatten_channels=False)\n",
    "\n",
    "fig, ax = plt.subplots(CIFAR_images.shape[0], 1, figsize=(20,5))\n",
    "fig.suptitle(\"Images as input sequences of patches\")\n",
    "for i in range(CIFAR_images.shape[0]):\n",
    "    img_grid = torchvision.utils.make_grid(img_patches[i], nrow=64, normalize=True, pad_value=0.9)\n",
    "    img_grid = img_grid.permute(1, 2, 0)\n",
    "    ax[i].imshow(img_grid)\n",
    "    ax[i].axis('off')\n",
    "plt.show()\n",
    "plt.close()"
   ]
  },
  {
   "cell_type": "markdown",
   "id": "5dee8424-415e-4139-b663-d5f062e20626",
   "metadata": {},
   "source": [
    "训练模型。"
   ]
  },
  {
   "cell_type": "code",
   "execution_count": 20,
   "id": "a6efb45f-a745-4f72-9821-496c1551aca7",
   "metadata": {},
   "outputs": [
    {
     "name": "stdout",
     "output_type": "stream",
     "text": [
      "Device: cuda:0\n"
     ]
    },
    {
     "name": "stderr",
     "output_type": "stream",
     "text": [
      "GPU available: True (cuda), used: True\n",
      "TPU available: False, using: 0 TPU cores\n",
      "IPU available: False, using: 0 IPUs\n",
      "HPU available: False, using: 0 HPUs\n"
     ]
    },
    {
     "name": "stdout",
     "output_type": "stream",
     "text": [
      "Found pretrained model at I:\\model_ckpts\\ViT\\ViT.ckpt, loading...\n"
     ]
    },
    {
     "name": "stderr",
     "output_type": "stream",
     "text": [
      "Lightning automatically upgraded your loaded checkpoint from v1.6.4 to v2.0.4. To apply the upgrade to your files permanently, run `python -m pytorch_lightning.utilities.upgrade_checkpoint --file I:\\model_ckpts\\ViT\\ViT.ckpt`\n",
      "LOCAL_RANK: 0 - CUDA_VISIBLE_DEVICES: [0]\n"
     ]
    },
    {
     "name": "stdout",
     "output_type": "stream",
     "text": [
      "Testing DataLoader 0: 100%|██████████████████████████████████████████████████| 40/40 [00:02<00:00, 16.72it/s]\n"
     ]
    },
    {
     "name": "stderr",
     "output_type": "stream",
     "text": [
      "LOCAL_RANK: 0 - CUDA_VISIBLE_DEVICES: [0]\n"
     ]
    },
    {
     "name": "stdout",
     "output_type": "stream",
     "text": [
      "Testing DataLoader 0: 100%|██████████████████████████████████████████████████| 79/79 [00:01<00:00, 40.99it/s]\n",
      "ViT results {'test': 0.7713000178337097, 'val': 0.9805999994277954}\n"
     ]
    }
   ],
   "source": [
    "device = torch.device(\"cuda:0\") if torch.cuda.is_available() else torch.device(\"cpu\")\n",
    "print(\"Device:\", device)\n",
    "model, results = usda_models.train_model4ViT(\n",
    "    CHECKPOINT_PATH=CHECKPOINT_PATH,\n",
    "    device=device,\n",
    "    train_loader=train_loader,\n",
    "    val_loader=val_loader,\n",
    "    test_loader=test_loader,\n",
    "    model_kwargs={\n",
    "    'embed_dim': 256,\n",
    "    'hidden_dim': 512,\n",
    "    'num_heads': 8,\n",
    "    'num_layers': 6,\n",
    "    'patch_size': 4,\n",
    "    'num_channels': 3,\n",
    "    'num_patches': 64,\n",
    "    'num_classes': 10,\n",
    "    'dropout': 0.2,\n",
    "    },\n",
    "    lr=3e-4)\n",
    "print(\"ViT results\", results)"
   ]
  },
  {
   "cell_type": "markdown",
   "id": "e1e7e664-34d6-4954-b2f7-b13d4212d11e",
   "metadata": {},
   "source": [
    "用`tensorboard`查看和分析训练过程参数和结果。"
   ]
  },
  {
   "cell_type": "code",
   "execution_count": 53,
   "id": "1851d651-c96a-477d-b0cf-bc948d0103e1",
   "metadata": {
    "scrolled": true
   },
   "outputs": [
    {
     "name": "stdout",
     "output_type": "stream",
     "text": [
      "The tensorboard extension is already loaded. To reload it, use:\n",
      "  %reload_ext tensorboard\n"
     ]
    },
    {
     "data": {
      "text/plain": [
       "Reusing TensorBoard on port 8893 (pid 2648), started 0:35:10 ago. (Use '!kill 2648' to kill it.)"
      ]
     },
     "metadata": {},
     "output_type": "display_data"
    },
    {
     "data": {
      "text/html": [
       "\n",
       "      <iframe id=\"tensorboard-frame-e1454c40c439f34a\" width=\"100%\" height=\"800\" frameborder=\"0\">\n",
       "      </iframe>\n",
       "      <script>\n",
       "        (function() {\n",
       "          const frame = document.getElementById(\"tensorboard-frame-e1454c40c439f34a\");\n",
       "          const url = new URL(\"/\", window.location);\n",
       "          const port = 8893;\n",
       "          if (port) {\n",
       "            url.port = port;\n",
       "          }\n",
       "          frame.src = url;\n",
       "        })();\n",
       "      </script>\n",
       "    "
      ],
      "text/plain": [
       "<IPython.core.display.HTML object>"
      ]
     },
     "metadata": {},
     "output_type": "display_data"
    }
   ],
   "source": [
    "# Opens tensorboard in notebook. Adjust the path to your CHECKPOINT_PATH!\n",
    "%load_ext tensorboard\n",
    "%tensorboard --logdir=\"I:\\model_ckpts\\ViT\\tensorboards\" --port=8893"
   ]
  },
  {
   "cell_type": "code",
   "execution_count": 54,
   "id": "7105f9d8-cac2-46c2-9003-d471ec2fc2d0",
   "metadata": {},
   "outputs": [
    {
     "name": "stdout",
     "output_type": "stream",
     "text": [
      "The tensorboard extension is already loaded. To reload it, use:\n",
      "  %reload_ext tensorboard\n"
     ]
    },
    {
     "data": {
      "text/plain": [
       "Reusing TensorBoard on port 8893 (pid 2648), started 0:35:21 ago. (Use '!kill 2648' to kill it.)"
      ]
     },
     "metadata": {},
     "output_type": "display_data"
    },
    {
     "data": {
      "text/html": [
       "\n",
       "      <iframe id=\"tensorboard-frame-26b563b1e794ee14\" width=\"100%\" height=\"800\" frameborder=\"0\">\n",
       "      </iframe>\n",
       "      <script>\n",
       "        (function() {\n",
       "          const frame = document.getElementById(\"tensorboard-frame-26b563b1e794ee14\");\n",
       "          const url = new URL(\"/\", window.location);\n",
       "          const port = 8893;\n",
       "          if (port) {\n",
       "            url.port = port;\n",
       "          }\n",
       "          frame.src = url;\n",
       "        })();\n",
       "      </script>\n",
       "    "
      ],
      "text/plain": [
       "<IPython.core.display.HTML object>"
      ]
     },
     "metadata": {},
     "output_type": "display_data"
    }
   ],
   "source": [
    "# Opens tensorboard in notebook. Adjust the path to your CHECKPOINT_PATH!\n",
    "%load_ext tensorboard\n",
    "%tensorboard --logdir=\"I:\\model_ckpts\\ViT\\tensorboards\" --port=8893"
   ]
  },
  {
   "cell_type": "markdown",
   "id": "a658860f-b111-41c2-94b3-38621de08e5e",
   "metadata": {},
   "source": [
    "---"
   ]
  },
  {
   "cell_type": "markdown",
   "id": "8dfe8629-2a96-4c89-966d-8f0ef04dce19",
   "metadata": {},
   "source": [
    "### 3.6.2.4 GPT\n",
    "\n",
    "生成预训练的 transformers 模型 （Generative pre-trained transformers，GPT），是一种大型语言模型（large language model，LLM）和生成式人工智能的重要框架。第一个 GPT 由[OpenAI](https://openai.com/)于2018年发布。GPT 模型是基于 transformer 架构的人工神经网络，在未标记文本的大型数据集上进行训练，能够生成新颖类似人类的语言内容。截至 2023 年，大部分 LLM 均具有这些特征，因此有时被广泛称之为 GPT。OpenAI 已经发布了非常有影响力的 GPT 基础模型，并被顺序编号，组成 \"GPT-n\"系列。因为不断增加的训练参数规模和不断的训练，GPT 系列中的每一个都较之之前版本更具有能力。其中 GPT-4 于2023年3月发布<sup>[Generative pre-trained transformer (Wikipedia), <https://en.wikipedia.org/wiki/Generative_pre-trained_transformer#Multimodality>]</sup>。\n",
    "\n",
    "python库[transformers](https://pypi.org/project/transformers/) ，提供了数千个预先训练的模型，可以在文本、视觉和音频等不同模式上执行任务。在文本上，可用于100多种语言的文本分类、信息提取、问题回答、生成摘要、翻译和文本生成等任务；在图像上，可用于图像分类、目标检测和分割等任务；在音频上，可用于语音识别和音频分类等任务。其中包括预训练的[GPT-2模型](https://huggingface.co/gpt2?text=A+long+time+ago%2C)，由 Radford, A.等人<sup>[Radford, A., Wu, J., Child, R., Luan, D., Amodei, D., Sutskever, I., & Others. (2019). Language models are unsupervised multitask learners. OpenAI Blog, 1(8), 9.]</sup>在2019年提出，关于GPT-2预训练模型的相关信息也可以从 OpenAI [Better language models and their implications](https://openai.com/research/better-language-models)一文中获取。\n",
    "\n",
    "GPT-2 是一个 transformer 模型，以自监督（self-supervised）方式在非常大的英语数据集语料库上进行训练。这意味着它仅以原始文本进行预训练，没有任何标记，即输入为一定长度的连续文本序列，输出为输入的下一个单词或短语，从而训练模型文本生成的能力<sup>[GPT-2 (Hugging Face), <https://huggingface.co/gpt2?text=A+long+time+ago%2C>.]</sup>。\n",
    "\n",
    "下述代码<sup>[GPT-2 (Hugging Face), <https://huggingface.co/gpt2?text=A+long+time+ago%2C>.]</sup>是下载 GPT-2，并生成文本的试验。"
   ]
  },
  {
   "cell_type": "code",
   "execution_count": 56,
   "id": "e8c3458e-1d8b-4090-9d5d-65946863b0ef",
   "metadata": {},
   "outputs": [
    {
     "name": "stderr",
     "output_type": "stream",
     "text": [
      "Downloading (…)lve/main/config.json: 100%|███████████████████████████████████| 665/665 [00:00<00:00, 665kB/s]\n",
      "Downloading model.safetensors: 100%|██████████████████████████████████████| 548M/548M [01:31<00:00, 5.98MB/s]\n",
      "Downloading (…)neration_config.json: 100%|███████████████████████████████████| 124/124 [00:00<00:00, 129kB/s]\n",
      "Downloading (…)olve/main/vocab.json: 100%|██████████████████████████████| 1.04M/1.04M [00:00<00:00, 1.35MB/s]\n",
      "Downloading (…)olve/main/merges.txt: 100%|█████████████████████████████████| 456k/456k [00:00<00:00, 655kB/s]\n",
      "Downloading (…)/main/tokenizer.json: 100%|██████████████████████████████| 1.36M/1.36M [00:00<00:00, 4.13MB/s]\n",
      "Xformers is not installed correctly. If you want to use memory_efficient_attention to accelerate training use the following command to install Xformers\n",
      "pip install xformers.\n",
      "Setting `pad_token_id` to `eos_token_id`:50256 for open-end generation.\n"
     ]
    },
    {
     "data": {
      "text/plain": [
       "[{'generated_text': \"Hello, I'm a language model, but what I'm really doing is making a human-readable document. There are other languages, but those are\"},\n",
       " {'generated_text': \"Hello, I'm a language model, not a syntax model. That's why I like it. I've done a lot of programming projects.\\n\"},\n",
       " {'generated_text': \"Hello, I'm a language model, and I'll do it in no time!\\n\\nOne of the things we learned from talking to my friend\"},\n",
       " {'generated_text': \"Hello, I'm a language model, not a command line tool.\\n\\nIf my code is simple enough:\\n\\nif (use (string\"},\n",
       " {'generated_text': \"Hello, I'm a language model, I've been using Language in all my work. Just a small example, let's see a simplified example.\"}]"
      ]
     },
     "execution_count": 56,
     "metadata": {},
     "output_type": "execute_result"
    }
   ],
   "source": [
    "from transformers import pipeline, set_seed\n",
    "generator = pipeline('text-generation', model='gpt2')\n",
    "set_seed(42)\n",
    "generator(\"Hello, I'm a language model,\", max_length=30, num_return_sequences=5)"
   ]
  },
  {
   "cell_type": "code",
   "execution_count": 57,
   "id": "f92d8f84-0ea8-4ae8-8ab6-113c57774b86",
   "metadata": {},
   "outputs": [],
   "source": [
    "from transformers import GPT2Tokenizer, GPT2Model\n",
    "tokenizer = GPT2Tokenizer.from_pretrained('gpt2')\n",
    "model = GPT2Model.from_pretrained('gpt2')\n",
    "text = \"Replace me by any text you'd like.\"\n",
    "encoded_input = tokenizer(text, return_tensors='pt')\n",
    "output = model(**encoded_input)"
   ]
  },
  {
   "cell_type": "code",
   "execution_count": 58,
   "id": "4314ac9a-99c4-424f-b48f-e89b4083a255",
   "metadata": {},
   "outputs": [
    {
     "name": "stderr",
     "output_type": "stream",
     "text": [
      "Setting `pad_token_id` to `eos_token_id`:50256 for open-end generation.\n",
      "Setting `pad_token_id` to `eos_token_id`:50256 for open-end generation.\n"
     ]
    },
    {
     "data": {
      "text/plain": [
       "[{'generated_text': 'The Black man worked as a clerk for the bank'},\n",
       " {'generated_text': 'The Black man worked as a cop, or would'},\n",
       " {'generated_text': 'The Black man worked as a construction worker for 18'},\n",
       " {'generated_text': 'The Black man worked as a lab technician for a'},\n",
       " {'generated_text': 'The Black man worked as a prostitute, according to'}]"
      ]
     },
     "execution_count": 58,
     "metadata": {},
     "output_type": "execute_result"
    }
   ],
   "source": [
    "from transformers import pipeline, set_seed\n",
    "generator = pipeline('text-generation', model='gpt2')\n",
    "set_seed(42)\n",
    "generator(\"The White man worked as a\", max_length=10, num_return_sequences=5)\n",
    "\n",
    "set_seed(42)\n",
    "generator(\"The Black man worked as a\", max_length=10, num_return_sequences=5)"
   ]
  },
  {
   "cell_type": "code",
   "execution_count": 59,
   "id": "a4d6c227-90da-4bc7-9a78-0546a0af22d5",
   "metadata": {
    "scrolled": true
   },
   "outputs": [
    {
     "name": "stderr",
     "output_type": "stream",
     "text": [
      "Setting `pad_token_id` to `eos_token_id`:50256 for open-end generation.\n"
     ]
    },
    {
     "data": {
      "text/plain": [
       "[{'generated_text': \"Who am I?\\n\\nIn my face I see a beautiful, beautiful-looking man, a man who doesn't look like me but appears to have been raised with strong ideals. I have this notion that I can become the man I am because of my parents, my grandfather, my father.\\n\\nI try to think as hard as I can to think that I can make it. As this realization passes by, I know that no matter what, I will succeed and succeed again—even\"},\n",
       " {'generated_text': 'Who am I?\\n\\nDo I understand or understand how I am done with this game?\\n\\nWhat kind of game is it based on?\\n\\nWhat is the plot summary?\\n\\nWhat level will my character be?\\n\\nWhat will their relationship between two groups be?\\n\\nHow does this character interact with other people?\\n\\nWhat type of character is this?\\n\\nWhat role are they playing?\\n\\nWhat role will I play?\\n\\nWho is your party'},\n",
       " {'generated_text': 'Who am I?\\n\\nYour father says, \"You know, it\\'s impossible for me to have it so easy for this person.\"\\n\\nThey feel sorry for each other until they\\'re unable to take the money to care for family. Then their lives become unbearable because they cannot find a job, work or even get on a new car.\\n\\nThe result is severe unemployment (30% unemployment rates) and a sense of insecurity and loneliness.\\n\\nThese are only the first symptoms of'},\n",
       " {'generated_text': 'Who am I? What am I?\"\\n\\nThe first time she saw him was on the sidelines, after they\\'d lost to the Celtics, and she\\'d seen his head shaking and shaking. She\\'d learned to feel things, but she\\'d seen more emotion. He was quiet and not afraid, not threatening. And if he told her about his life and his work, she\\'d understand what he wanted to accomplish.\\n\\n\"It won\\'t go away,\" she said at last this year\\'s'},\n",
       " {'generated_text': \"Who am I? The truth of my life. The fact that I am still alive and still speaking. What I can do for our good and our enemies, that I may be able to do for our own good and our common friend, that would not have happened without me. What I can make of a friend who is dying. Why do I have that power to live and change this world without his or her help? Because that's the answer I want.\\n\\nThe question is: can\"}]"
      ]
     },
     "execution_count": 59,
     "metadata": {},
     "output_type": "execute_result"
    }
   ],
   "source": [
    "generator(\"Who am I?\", max_length=100, num_return_sequences=5)"
   ]
  },
  {
   "cell_type": "code",
   "execution_count": null,
   "id": "403ef0e3-cf4f-48f7-b19c-bd39598c0a53",
   "metadata": {},
   "outputs": [],
   "source": []
  },
  {
   "cell_type": "code",
   "execution_count": null,
   "id": "8ed63d56-4397-45e2-92fe-7a803ff6960e",
   "metadata": {},
   "outputs": [],
   "source": []
  },
  {
   "cell_type": "code",
   "execution_count": null,
   "id": "590cc224-cfa1-43b5-b1d8-ee479cb5eba4",
   "metadata": {},
   "outputs": [],
   "source": []
  },
  {
   "cell_type": "code",
   "execution_count": null,
   "id": "8d97935d-768a-4ecc-abb0-e15211379331",
   "metadata": {},
   "outputs": [],
   "source": []
  },
  {
   "cell_type": "code",
   "execution_count": null,
   "id": "b0387935-a3da-4d7b-8590-67742b5791dd",
   "metadata": {},
   "outputs": [],
   "source": []
  },
  {
   "cell_type": "code",
   "execution_count": null,
   "id": "05a72c45-398c-404e-84b3-6d843b506cb4",
   "metadata": {},
   "outputs": [],
   "source": []
  },
  {
   "cell_type": "code",
   "execution_count": null,
   "id": "99bb9d2d-5d23-454a-a322-4bbcd1acdb2b",
   "metadata": {},
   "outputs": [],
   "source": []
  },
  {
   "cell_type": "code",
   "execution_count": 8,
   "id": "224b0396-8179-4281-b06a-e7d912799aa4",
   "metadata": {},
   "outputs": [
    {
     "data": {
      "text/plain": [
       "torch.Size([3, 32, 32])"
      ]
     },
     "execution_count": 8,
     "metadata": {},
     "output_type": "execute_result"
    }
   ],
   "source": [
    "train_set[0][0].shape"
   ]
  },
  {
   "cell_type": "code",
   "execution_count": 7,
   "id": "4d0a1a50-7fb6-42ed-bcb7-a180417f326a",
   "metadata": {},
   "outputs": [
    {
     "data": {
      "text/plain": [
       "9"
      ]
     },
     "execution_count": 7,
     "metadata": {},
     "output_type": "execute_result"
    }
   ],
   "source": [
    "train_set[0][1]"
   ]
  },
  {
   "cell_type": "code",
   "execution_count": 9,
   "id": "effbe7c1-b54d-49f4-b31a-811fb64fe939",
   "metadata": {},
   "outputs": [],
   "source": [
    "for x,y in train_loader:\n",
    "    a=x\n",
    "    b=y\n",
    "    break"
   ]
  },
  {
   "cell_type": "code",
   "execution_count": 11,
   "id": "7b3c7a53-6a0d-4e1f-a4e4-3d10d14cd04b",
   "metadata": {},
   "outputs": [
    {
     "data": {
      "text/plain": [
       "torch.Size([128, 3, 32, 32])"
      ]
     },
     "execution_count": 11,
     "metadata": {},
     "output_type": "execute_result"
    }
   ],
   "source": [
    "a.shape"
   ]
  },
  {
   "cell_type": "code",
   "execution_count": 12,
   "id": "606e180d-de35-4191-bbc3-80d8baf6a975",
   "metadata": {},
   "outputs": [
    {
     "data": {
      "text/plain": [
       "tensor([0, 8, 1, 9, 8, 9, 3, 7, 6, 9, 3, 1, 2, 4, 1, 3, 1, 5, 7, 8, 1, 6, 4, 3,\n",
       "        1, 3, 5, 3, 3, 4, 2, 4, 4, 0, 2, 6, 2, 7, 9, 1, 8, 9, 0, 1, 7, 8, 9, 2,\n",
       "        7, 3, 7, 5, 9, 1, 8, 0, 3, 3, 4, 8, 3, 9, 5, 9, 4, 6, 2, 7, 7, 2, 3, 8,\n",
       "        2, 3, 8, 3, 2, 7, 4, 4, 5, 3, 0, 8, 5, 7, 0, 3, 1, 2, 4, 2, 5, 5, 4, 6,\n",
       "        5, 8, 9, 2, 8, 5, 0, 9, 2, 9, 2, 2, 9, 0, 1, 9, 9, 2, 2, 2, 8, 9, 9, 8,\n",
       "        6, 2, 6, 6, 9, 5, 7, 9])"
      ]
     },
     "execution_count": 12,
     "metadata": {},
     "output_type": "execute_result"
    }
   ],
   "source": [
    "b"
   ]
  },
  {
   "cell_type": "code",
   "execution_count": 6,
   "id": "ae6f9a95-baf2-4abe-9094-1686a549eb1c",
   "metadata": {
    "tags": []
   },
   "outputs": [
    {
     "data": {
      "application/vnd.plotly.v1+json": {
       "config": {
        "plotlyServerURL": "https://plot.ly"
       },
       "data": [
        {
         "customdata": [
          [
           "Washington",
           63269
          ],
          [
           "California",
           72326
          ],
          [
           "Ohio",
           390113
          ],
          [
           "Massachusetts",
           182544
          ],
          [
           "South Carolina",
           133358
          ],
          [
           "Connecticut",
           109676
          ],
          [
           "Minnesota",
           65453
          ],
          [
           "Michigan",
           73006
          ],
          [
           "Louisiana",
           124276
          ],
          [
           "Idaho",
           214237
          ],
          [
           "Indiana",
           51265
          ],
          [
           "California",
           82882
          ],
          [
           "Georgia",
           59089
          ],
          [
           "Colorado",
           48608
          ],
          [
           "Florida",
           102436
          ],
          [
           "Massachusetts",
           42544
          ],
          [
           "Illinois",
           199963
          ],
          [
           "Virginia",
           47673
          ],
          [
           "Florida",
           50213
          ],
          [
           "California",
           91739
          ],
          [
           "Texas",
           239538
          ],
          [
           "Kansas",
           181260
          ],
          [
           "Mississippi",
           172638
          ],
          [
           "North Carolina",
           73209
          ],
          [
           "Florida",
           62316
          ],
          [
           "Missouri",
           467007
          ],
          [
           "California",
           42448
          ],
          [
           "Minnesota",
           61434
          ],
          [
           "Texas",
           58043
          ],
          [
           "New Mexico",
           48611
          ],
          [
           "Alabama",
           201332
          ],
          [
           "Utah",
           48913
          ],
          [
           "Massachusetts",
           39083
          ],
          [
           "Pennsylvania",
           118577
          ],
          [
           "South Carolina",
           74885
          ],
          [
           "Georgia",
           202824
          ],
          [
           "New York",
           258959
          ],
          [
           "Wisconsin",
           39834
          ],
          [
           "Texas",
           67317
          ],
          [
           "Ohio",
           38355
          ],
          [
           "California",
           479686
          ],
          [
           "Arkansas",
           87650
          ],
          [
           "Rhode Island",
           47149
          ],
          [
           "Iowa",
           41776
          ],
          [
           "New York",
           68224
          ],
          [
           "Colorado",
           147214
          ],
          [
           "Nevada",
           270811
          ],
          [
           "California",
           48508
          ],
          [
           "Connecticut",
           126456
          ],
          [
           "Indiana",
           82575
          ],
          [
           "Tennessee",
           52962
          ],
          [
           "Washington",
           210721
          ],
          [
           "Washington",
           76762
          ],
          [
           "Pennsylvania",
           1553165
          ],
          [
           "Washington",
           82631
          ],
          [
           "California",
           127763
          ],
          [
           "Wisconsin",
           51522
          ],
          [
           "Iowa",
           61969
          ],
          [
           "Florida",
           42757
          ],
          [
           "Texas",
           1257676
          ],
          [
           "California",
           107100
          ],
          [
           "Michigan",
           131224
          ],
          [
           "Florida",
           78041
          ],
          [
           "Indiana",
           83891
          ],
          [
           "Wyoming",
           62448
          ],
          [
           "California",
           107479
          ],
          [
           "Kansas",
           50344
          ],
          [
           "Indiana",
           56540
          ],
          [
           "Mississippi",
           50997
          ],
          [
           "California",
           80988
          ],
          [
           "Maryland",
           65690
          ],
          [
           "California",
           56707
          ],
          [
           "Maryland",
           66893
          ],
          [
           "North Carolina",
           89130
          ],
          [
           "Illinois",
           43849
          ],
          [
           "Wisconsin",
           60697
          ],
          [
           "Colorado",
           127359
          ],
          [
           "Iowa",
           61255
          ],
          [
           "Massachusetts",
           88697
          ],
          [
           "California",
           61170
          ],
          [
           "California",
           256780
          ],
          [
           "Florida",
           126604
          ],
          [
           "North Carolina",
           83506
          ],
          [
           "Georgia",
           53438
          ],
          [
           "Florida",
           45587
          ],
          [
           "North Dakota",
           54932
          ],
          [
           "Ohio",
           39325
          ],
          [
           "Illinois",
           144864
          ],
          [
           "Florida",
           146526
          ],
          [
           "Arkansas",
           60112
          ],
          [
           "Louisiana",
           378715
          ],
          [
           "Washington",
           59097
          ],
          [
           "Illinois",
           57073
          ],
          [
           "Idaho",
           48957
          ],
          [
           "Oregon",
           609456
          ],
          [
           "California",
           125880
          ],
          [
           "Washington",
           49858
          ],
          [
           "Missouri",
           67569
          ],
          [
           "Wisconsin",
           71016
          ],
          [
           "Arizona",
           68667
          ],
          [
           "Washington",
           38609
          ],
          [
           "New York",
           65902
          ],
          [
           "Colorado",
           649495
          ],
          [
           "Illinois",
           117006
          ],
          [
           "California",
           40584
          ],
          [
           "California",
           201175
          ],
          [
           "Ohio",
           55870
          ],
          [
           "Michigan",
           37313
          ],
          [
           "Arizona",
           52844
          ],
          [
           "Arkansas",
           66075
          ],
          [
           "Nevada",
           233294
          ],
          [
           "Colorado",
           44275
          ],
          [
           "Arizona",
           40590
          ],
          [
           "California",
           52105
          ],
          [
           "Texas",
           37442
          ],
          [
           "Maine",
           66318
          ],
          [
           "Minnesota",
           78373
          ],
          [
           "Connecticut",
           55046
          ],
          [
           "California",
           43363
          ],
          [
           "Texas",
           39458
          ],
          [
           "Michigan",
           99763
          ],
          [
           "California",
           66695
          ],
          [
           "Arizona",
           56683
          ],
          [
           "California",
           40963
          ],
          [
           "California",
           83539
          ],
          [
           "Arizona",
           226918
          ],
          [
           "Ohio",
           822553
          ],
          [
           "Pennsylvania",
           59325
          ],
          [
           "Nebraska",
           268738
          ],
          [
           "New Jersey",
           84349
          ],
          [
           "Massachusetts",
           645966
          ],
          [
           "California",
           51074
          ],
          [
           "Minnesota",
           110742
          ],
          [
           "Missouri",
           52363
          ],
          [
           "Maryland",
           38722
          ],
          [
           "North Carolina",
           59635
          ],
          [
           "Indiana",
           47135
          ],
          [
           "California",
           39389
          ],
          [
           "Illinois",
           37240
          ],
          [
           "Montana",
           69122
          ],
          [
           "California",
           99769
          ],
          [
           "Texas",
           100065
          ],
          [
           "Arizona",
           229972
          ],
          [
           "Wisconsin",
           39309
          ],
          [
           "North Carolina",
           431746
          ],
          [
           "California",
           139969
          ],
          [
           "California",
           66900
          ],
          [
           "Washington",
           39056
          ],
          [
           "California",
           55174
          ],
          [
           "Arizona",
           38290
          ],
          [
           "Florida",
           186411
          ],
          [
           "Texas",
           63032
          ],
          [
           "Virginia",
           43609
          ],
          [
           "Texas",
           1409019
          ],
          [
           "Connecticut",
           125017
          ],
          [
           "Iowa",
           68366
          ],
          [
           "New York",
           46444
          ],
          [
           "Idaho",
           83596
          ],
          [
           "Wisconsin",
           42970
          ],
          [
           "Texas",
           75418
          ],
          [
           "North Carolina",
           151088
          ],
          [
           "Massachusetts",
           55419
          ],
          [
           "Oklahoma",
           398121
          ],
          [
           "Texas",
           81050
          ],
          [
           "Ohio",
           49267
          ],
          [
           "Massachusetts",
           60509
          ],
          [
           "Texas",
           92020
          ],
          [
           "Arizona",
           526116
          ],
          [
           "Tennessee",
           68886
          ],
          [
           "Minnesota",
           39167
          ],
          [
           "Florida",
           842583
          ],
          [
           "New Jersey",
           39551
          ],
          [
           "Pennsylvania",
           100671
          ],
          [
           "California",
           81102
          ],
          [
           "Texas",
           120099
          ],
          [
           "California",
           67032
          ],
          [
           "South Carolina",
           61397
          ],
          [
           "North Carolina",
           50458
          ],
          [
           "Michigan",
           60070
          ],
          [
           "Pennsylvania",
           49188
          ],
          [
           "California",
           108817
          ],
          [
           "California",
           224922
          ],
          [
           "Colorado",
           108249
          ],
          [
           "Massachusetts",
           37670
          ],
          [
           "Illinois",
           42895
          ],
          [
           "Minnesota",
           400070
          ],
          [
           "Tennessee",
           58226
          ],
          [
           "Texas",
           104898
          ],
          [
           "Texas",
           70185
          ],
          [
           "Missouri",
           318416
          ],
          [
           "Texas",
           73790
          ],
          [
           "New Mexico",
           556495
          ],
          [
           "Georgia",
           119980
          ],
          [
           "Utah",
           59366
          ],
          [
           "Nevada",
           226877
          ],
          [
           "California",
           151348
          ],
          [
           "California",
           55191
          ],
          [
           "Ohio",
           37490
          ],
          [
           "Kansas",
           90811
          ],
          [
           "Texas",
           123933
          ],
          [
           "Oklahoma",
           610613
          ],
          [
           "Arizona",
           41627
          ],
          [
           "Arizona",
           457587
          ],
          [
           "Connecticut",
           87776
          ],
          [
           "Michigan",
           50233
          ],
          [
           "Wisconsin",
           37999
          ],
          [
           "Texas",
           40922
          ],
          [
           "Indiana",
           47989
          ],
          [
           "California",
           78327
          ],
          [
           "Minnesota",
           66297
          ],
          [
           "New Jersey",
           70868
          ],
          [
           "California",
           148738
          ],
          [
           "California",
           42443
          ],
          [
           "California",
           116768
          ],
          [
           "California",
           65040
          ],
          [
           "Oklahoma",
           97151
          ],
          [
           "Wisconsin",
           67545
          ],
          [
           "Arizona",
           45508
          ],
          [
           "Texas",
           51483
          ],
          [
           "Indiana",
           256496
          ],
          [
           "Washington",
           54790
          ],
          [
           "Massachusetts",
           57170
          ],
          [
           "California",
           61653
          ],
          [
           "New York",
           98424
          ],
          [
           "California",
           104739
          ],
          [
           "Michigan",
           61817
          ],
          [
           "Virginia",
           78014
          ],
          [
           "Maryland",
           56759
          ],
          [
           "Connecticut",
           83684
          ],
          [
           "Virginia",
           44349
          ],
          [
           "Florida",
           49631
          ],
          [
           "Idaho",
           46402
          ],
          [
           "California",
           115708
          ],
          [
           "Illinois",
           40388
          ],
          [
           "California",
           43341
          ],
          [
           "Arizona",
           72864
          ],
          [
           "New Jersey",
           145948
          ],
          [
           "Oregon",
           160614
          ],
          [
           "Florida",
           65173
          ],
          [
           "Michigan",
           50303
          ],
          [
           "Texas",
           181860
          ],
          [
           "Texas",
           68609
          ],
          [
           "Texas",
           50195
          ],
          [
           "Minnesota",
           49376
          ],
          [
           "Michigan",
           688701
          ],
          [
           "Ohio",
           42635
          ],
          [
           "Texas",
           60872
          ],
          [
           "New York",
           210358
          ],
          [
           "Alabama",
           212113
          ],
          [
           "Texas",
           885400
          ],
          [
           "California",
           90412
          ],
          [
           "Illinois",
           37385
          ],
          [
           "New Mexico",
           91956
          ],
          [
           "Illinois",
           54664
          ],
          [
           "Illinois",
           39650
          ],
          [
           "Minnesota",
           62103
          ],
          [
           "California",
           101128
          ],
          [
           "Florida",
           255483
          ],
          [
           "Wyoming",
           59628
          ],
          [
           "Texas",
           48592
          ],
          [
           "North Carolina",
           112067
          ],
          [
           "Florida",
           49998
          ],
          [
           "Florida",
           43250
          ],
          [
           "Kansas",
           148483
          ],
          [
           "Massachusetts",
           40383
          ],
          [
           "Illinois",
           38015
          ],
          [
           "Massachusetts",
           87971
          ],
          [
           "Florida",
           61007
          ],
          [
           "Connecticut",
           40347
          ],
          [
           "New Jersey",
           278427
          ],
          [
           "Louisiana",
           48426
          ],
          [
           "Minnesota",
           60407
          ],
          [
           "Texas",
           65665
          ],
          [
           "California",
           43509
          ],
          [
           "Texas",
           123099
          ],
          [
           "Texas",
           48733
          ],
          [
           "Indiana",
           53665
          ],
          [
           "California",
           155662
          ],
          [
           "Florida",
           111378
          ],
          [
           "West Virginia",
           49177
          ],
          [
           "Texas",
           248142
          ],
          [
           "Florida",
           77508
          ],
          [
           "Texas",
           43580
          ],
          [
           "Florida",
           104898
          ],
          [
           "North Carolina",
           49628
          ],
          [
           "Utah",
           43023
          ],
          [
           "California",
           46714
          ],
          [
           "Ohio",
           80429
          ],
          [
           "South Dakota",
           70812
          ],
          [
           "California",
           42889
          ],
          [
           "Colorado",
           49799
          ],
          [
           "Massachusetts",
           153703
          ],
          [
           "Colorado",
           152061
          ],
          [
           "California",
           87965
          ],
          [
           "California",
           96929
          ],
          [
           "New York",
           199766
          ],
          [
           "Ohio",
           297517
          ],
          [
           "Maryland",
           40612
          ],
          [
           "Florida",
           56002
          ],
          [
           "New Jersey",
           68247
          ],
          [
           "Ohio",
           282313
          ],
          [
           "Arizona",
           45129
          ],
          [
           "Virginia",
           182020
          ],
          [
           "Indiana",
           78967
          ],
          [
           "Illinois",
           41778
          ],
          [
           "Texas",
           83860
          ],
          [
           "Alabama",
           186254
          ],
          [
           "California",
           63338
          ],
          [
           "Washington",
           40727
          ],
          [
           "Texas",
           39605
          ],
          [
           "North Carolina",
           56954
          ],
          [
           "Michigan",
           59887
          ],
          [
           "California",
           59834
          ],
          [
           "California",
           151574
          ],
          [
           "New York",
           49468
          ],
          [
           "Nevada",
           93282
          ],
          [
           "California",
           54686
          ],
          [
           "California",
           49087
          ],
          [
           "Ohio",
           65184
          ],
          [
           "Alabama",
           45799
          ],
          [
           "California",
           69999
          ],
          [
           "Missouri",
           38816
          ],
          [
           "Idaho",
           86518
          ],
          [
           "District of Columbia",
           646449
          ],
          [
           "Illinois",
           53648
          ],
          [
           "Texas",
           38071
          ],
          [
           "California",
           101910
          ],
          [
           "North Dakota",
           113658
          ],
          [
           "Illinois",
           116513
          ],
          [
           "Nebraska",
           434353
          ],
          [
           "California",
           49228
          ],
          [
           "Kansas",
           56143
          ],
          [
           "California",
           46281
          ],
          [
           "California",
           1355896
          ],
          [
           "California",
           171990
          ],
          [
           "Massachusetts",
           108861
          ],
          [
           "Oklahoma",
           103500
          ],
          [
           "Washington",
           124435
          ],
          [
           "Tennessee",
           634464
          ],
          [
           "New Jersey",
           44113
          ],
          [
           "Colorado",
           59471
          ],
          [
           "North Carolina",
           245475
          ],
          [
           "Kansas",
           386552
          ],
          [
           "California",
           52977
          ],
          [
           "Minnesota",
           58562
          ],
          [
           "Illinois",
           45556
          ],
          [
           "Texas",
           37093
          ],
          [
           "Wisconsin",
           37159
          ],
          [
           "California",
           147559
          ],
          [
           "California",
           62864
          ],
          [
           "Wisconsin",
           99889
          ],
          [
           "Pennsylvania",
           41757
          ],
          [
           "Ohio",
           46454
          ],
          [
           "Illinois",
           40915
          ],
          [
           "Florida",
           104410
          ],
          [
           "Texas",
           97492
          ],
          [
           "Illinois",
           78902
          ],
          [
           "California",
           84691
          ],
          [
           "South Carolina",
           37647
          ],
          [
           "New Hampshire",
           87137
          ],
          [
           "Georgia",
           89981
          ],
          [
           "New York",
           55361
          ],
          [
           "New Jersey",
           76903
          ],
          [
           "California",
           50508
          ],
          [
           "Illinois",
           40351
          ],
          [
           "Virginia",
           230571
          ],
          [
           "Ohio",
           43607
          ],
          [
           "California",
           66086
          ],
          [
           "Michigan",
           37213
          ],
          [
           "New Jersey",
           127558
          ],
          [
           "Alaska",
           300950
          ],
          [
           "North Dakota",
           46321
          ],
          [
           "Florida",
           96830
          ],
          [
           "Texas",
           136639
          ],
          [
           "Texas",
           148559
          ],
          [
           "Texas",
           137147
          ],
          [
           "Ohio",
           41512
          ],
          [
           "California",
           406253
          ],
          [
           "California",
           77846
          ],
          [
           "California",
           57525
          ],
          [
           "Texas",
           196429
          ],
          [
           "Utah",
           116288
          ],
          [
           "Georgia",
           447841
          ],
          [
           "California",
           61085
          ],
          [
           "Ohio",
           44730
          ],
          [
           "California",
           63105
          ],
          [
           "Illinois",
           74710
          ],
          [
           "Rhode Island",
           41026
          ],
          [
           "Alabama",
           194899
          ],
          [
           "California",
           118837
          ],
          [
           "California",
           57639
          ],
          [
           "Tennessee",
           47333
          ],
          [
           "Missouri",
           43330
          ],
          [
           "Texas",
           81443
          ],
          [
           "Arizona",
           249146
          ],
          [
           "Colorado",
           111707
          ],
          [
           "California",
           84577
          ],
          [
           "Indiana",
           56895
          ],
          [
           "Florida",
           43286
          ],
          [
           "Indiana",
           843393
          ],
          [
           "Florida",
           71097
          ],
          [
           "Arizona",
           37130
          ],
          [
           "Illinois",
           54771
          ],
          [
           "Rhode Island",
           80566
          ],
          [
           "Indiana",
           70373
          ],
          [
           "Kansas",
           131885
          ],
          [
           "Georgia",
           82788
          ],
          [
           "North Carolina",
           279639
          ],
          [
           "Michigan",
           75548
          ],
          [
           "Oregon",
           50444
          ],
          [
           "North Carolina",
           69079
          ],
          [
           "California",
           85285
          ],
          [
           "Alabama",
           95334
          ],
          [
           "Iowa",
           51567
          ],
          [
           "California",
           86199
          ],
          [
           "Alabama",
           84126
          ],
          [
           "Florida",
           64072
          ],
          [
           "Florida",
           60202
          ],
          [
           "Arizona",
           39383
          ],
          [
           "Florida",
           68388
          ],
          [
           "Michigan",
           82821
          ],
          [
           "New York",
           79446
          ],
          [
           "California",
           298118
          ],
          [
           "Michigan",
           58946
          ],
          [
           "Florida",
           44206
          ],
          [
           "California",
           64652
          ],
          [
           "Washington",
           91113
          ],
          [
           "California",
           112174
          ],
          [
           "Texas",
           183372
          ],
          [
           "Virginia",
           96205
          ],
          [
           "Washington",
           44919
          ],
          [
           "North Carolina",
           42214
          ],
          [
           "Iowa",
           82459
          ],
          [
           "California",
           61588
          ],
          [
           "Utah",
           36956
          ],
          [
           "California",
           58879
          ],
          [
           "Minnesota",
           62603
          ],
          [
           "Arizona",
           162592
          ],
          [
           "Arizona",
           168228
          ],
          [
           "Delaware",
           71525
          ],
          [
           "Utah",
           60519
          ],
          [
           "Michigan",
           82578
          ],
          [
           "Texas",
           143484
          ],
          [
           "North Carolina",
           51510
          ],
          [
           "Texas",
           234566
          ],
          [
           "California",
           107571
          ],
          [
           "North Dakota",
           67034
          ],
          [
           "Nevada",
           54080
          ],
          [
           "Oklahoma",
           38863
          ],
          [
           "Georgia",
           197350
          ],
          [
           "North Carolina",
           204408
          ],
          [
           "Georgia",
           76185
          ],
          [
           "New Jersey",
           44412
          ],
          [
           "California",
           44096
          ],
          [
           "California",
           56449
          ],
          [
           "Alabama",
           55816
          ],
          [
           "Tennessee",
           173366
          ],
          [
           "Indiana",
           45929
          ],
          [
           "Illinois",
           41679
          ],
          [
           "California",
           76635
          ],
          [
           "Florida",
           91026
          ],
          [
           "Tennessee",
           67685
          ],
          [
           "Texas",
           54135
          ],
          [
           "California",
           46377
          ],
          [
           "Texas",
           40714
          ],
          [
           "California",
           87273
          ],
          [
           "Utah",
           40921
          ],
          [
           "Washington",
           93257
          ],
          [
           "Ohio",
           143355
          ],
          [
           "Mississippi",
           71012
          ],
          [
           "California",
           469428
          ],
          [
           "California",
           88077
          ],
          [
           "Mississippi",
           47556
          ],
          [
           "Oregon",
           159190
          ],
          [
           "California",
           53243
          ],
          [
           "California",
           63495
          ],
          [
           "California",
           74110
          ],
          [
           "Washington",
           105370
          ],
          [
           "Kansas",
           41889
          ],
          [
           "California",
           109320
          ],
          [
           "Arizona",
           78822
          ],
          [
           "Ohio",
           48139
          ],
          [
           "Michigan",
           51848
          ],
          [
           "Minnesota",
           86319
          ],
          [
           "Illinois",
           38877
          ],
          [
           "Oregon",
           93542
          ],
          [
           "Louisiana",
           66975
          ],
          [
           "New Mexico",
           39508
          ],
          [
           "New York",
           49974
          ],
          [
           "California",
           69783
          ],
          [
           "Illinois",
           58918
          ],
          [
           "California",
           52206
          ],
          [
           "Massachusetts",
           56069
          ],
          [
           "California",
           38027
          ],
          [
           "Tennessee",
           65123
          ],
          [
           "Georgia",
           142772
          ],
          [
           "Ohio",
           40768
          ],
          [
           "Washington",
           167405
          ],
          [
           "Florida",
           90116
          ],
          [
           "Indiana",
           70316
          ],
          [
           "Utah",
           54382
          ],
          [
           "California",
           837442
          ],
          [
           "California",
           203003
          ],
          [
           "Texas",
           136791
          ],
          [
           "California",
           76572
          ],
          [
           "California",
           49417
          ],
          [
           "Ohio",
           38142
          ],
          [
           "New Jersey",
           55831
          ],
          [
           "Virginia",
           246139
          ],
          [
           "Oregon",
           97368
          ],
          [
           "California",
           45851
          ],
          [
           "Florida",
           52703
          ],
          [
           "Ohio",
           62258
          ],
          [
           "South Carolina",
           37792
          ],
          [
           "California",
           213708
          ],
          [
           "Georgia",
           40059
          ],
          [
           "California",
           121096
          ],
          [
           "Indiana",
           78450
          ],
          [
           "Arizona",
           50111
          ],
          [
           "California",
           40836
          ],
          [
           "Iowa",
           58253
          ],
          [
           "New York",
           144669
          ],
          [
           "Tennessee",
           142357
          ],
          [
           "Florida",
           100710
          ],
          [
           "New York",
           37659
          ],
          [
           "Delaware",
           37366
          ],
          [
           "Minnesota",
           39398
          ],
          [
           "California",
           39428
          ],
          [
           "Illinois",
           69350
          ],
          [
           "Washington",
           652405
          ],
          [
           "Kentucky",
           40956
          ],
          [
           "California",
           161007
          ],
          [
           "Louisiana",
           200327
          ],
          [
           "Utah",
           84249
          ],
          [
           "Virginia",
           51395
          ],
          [
           "California",
           111542
          ],
          [
           "California",
           139731
          ],
          [
           "Massachusetts",
           77657
          ],
          [
           "Oregon",
           37610
          ],
          [
           "California",
           59440
          ],
          [
           "Ohio",
           59357
          ],
          [
           "California",
           79068
          ],
          [
           "Colorado",
           345803
          ],
          [
           "Minnesota",
           86128
          ],
          [
           "Virginia",
           98465
          ],
          [
           "Oregon",
           81236
          ],
          [
           "California",
           70924
          ],
          [
           "Massachusetts",
           62227
          ],
          [
           "Florida",
           68190
          ],
          [
           "Florida",
           352957
          ],
          [
           "California",
           75413
          ],
          [
           "Virginia",
           42907
          ],
          [
           "Wisconsin",
           36888
          ],
          [
           "Florida",
           90268
          ],
          [
           "Colorado",
           439886
          ],
          [
           "California",
           204933
          ],
          [
           "Michigan",
           192294
          ],
          [
           "Illinois",
           52066
          ],
          [
           "Florida",
           53326
          ],
          [
           "California",
           98030
          ],
          [
           "California",
           77593
          ],
          [
           "Colorado",
           103166
          ],
          [
           "New Mexico",
           69976
          ],
          [
           "California",
           43092
          ],
          [
           "Massachusetts",
           39414
          ],
          [
           "California",
           316619
          ],
          [
           "California",
           157161
          ],
          [
           "California",
           54194
          ],
          [
           "Utah",
           70790
          ],
          [
           "Illinois",
           73936
          ],
          [
           "California",
           96346
          ],
          [
           "Illinois",
           45417
          ],
          [
           "California",
           45237
          ],
          [
           "California",
           73098
          ],
          [
           "Arizona",
           39791
          ],
          [
           "New Mexico",
           101324
          ],
          [
           "Montana",
           39860
          ],
          [
           "Illinois",
           74907
          ],
          [
           "Michigan",
           134873
          ],
          [
           "Missouri",
           54842
          ],
          [
           "Iowa",
           61792
          ],
          [
           "Arizona",
           123546
          ],
          [
           "Texas",
           104475
          ],
          [
           "Michigan",
           42181
          ],
          [
           "Texas",
           54076
          ],
          [
           "Pennsylvania",
           41108
          ],
          [
           "Wisconsin",
           73596
          ],
          [
           "Kansas",
           64323
          ],
          [
           "Ohio",
           46979
          ],
          [
           "California",
           85156
          ],
          [
           "North Carolina",
           792862
          ],
          [
           "Kentucky",
           58416
          ],
          [
           "Florida",
           58298
          ],
          [
           "California",
           41398
          ],
          [
           "Illinois",
           2718782
          ],
          [
           "Montana",
           109059
          ],
          [
           "Wisconsin",
           47134
          ],
          [
           "Illinois",
           43907
          ],
          [
           "Connecticut",
           130660
          ],
          [
           "Pennsylvania",
           43935
          ],
          [
           "Tennessee",
           183270
          ],
          [
           "Ohio",
           53956
          ],
          [
           "Massachusetts",
           44641
          ],
          [
           "Utah",
           48612
          ],
          [
           "California",
           76419
          ],
          [
           "California",
           71948
          ],
          [
           "Minnesota",
           39765
          ],
          [
           "Oregon",
           77677
          ],
          [
           "Tennessee",
           117044
          ],
          [
           "California",
           65416
          ],
          [
           "Connecticut",
           40999
          ],
          [
           "Iowa",
           40566
          ],
          [
           "Tennessee",
           39375
          ],
          [
           "Pennsylvania",
           75806
          ],
          [
           "Alabama",
           58582
          ],
          [
           "Virginia",
           41705
          ],
          [
           "California",
           94275
          ],
          [
           "California",
           92472
          ],
          [
           "Virginia",
           85728
          ],
          [
           "Michigan",
           72952
          ],
          [
           "California",
           39331
          ],
          [
           "West Virginia",
           50821
          ],
          [
           "California",
           52403
          ],
          [
           "Florida",
           40918
          ],
          [
           "South Carolina",
           127999
          ],
          [
           "North Carolina",
           44359
          ],
          [
           "California",
           159503
          ],
          [
           "California",
           59738
          ],
          [
           "Missouri",
           93184
          ],
          [
           "Florida",
           78740
          ],
          [
           "Utah",
           90231
          ],
          [
           "Arkansas",
           40167
          ],
          [
           "California",
           179590
          ],
          [
           "Florida",
           42150
          ],
          [
           "Texas",
           63279
          ],
          [
           "Tennessee",
           653450
          ],
          [
           "Texas",
           228653
          ],
          [
           "Virginia",
           148892
          ],
          [
           "California",
           92147
          ],
          [
           "Massachusetts",
           40249
          ],
          [
           "Georgia",
           47591
          ],
          [
           "Illinois",
           65176
          ],
          [
           "New Jersey",
           41664
          ],
          [
           "Pennsylvania",
           75018
          ],
          [
           "Missouri",
           77147
          ],
          [
           "California",
           67815
          ],
          [
           "Texas",
           2195914
          ],
          [
           "California",
           106780
          ],
          [
           "Michigan",
           117025
          ],
          [
           "Texas",
           117796
          ],
          [
           "Michigan",
           48554
          ],
          [
           "California",
           56105
          ],
          [
           "Florida",
           63155
          ],
          [
           "Nebraska",
           53663
          ],
          [
           "Florida",
           162329
          ],
          [
           "Arkansas",
           75229
          ],
          [
           "California",
           203007
          ],
          [
           "Texas",
           110720
          ],
          [
           "Oklahoma",
           47186
          ],
          [
           "Massachusetts",
           94089
          ],
          [
           "New Jersey",
           65028
          ],
          [
           "California",
           54980
          ],
          [
           "Illinois",
           43116
          ],
          [
           "Mississippi",
           40921
          ],
          [
           "Tennessee",
           42774
          ],
          [
           "New Jersey",
           257342
          ],
          [
           "Minnesota",
           294873
          ],
          [
           "Florida",
           86290
          ],
          [
           "New York",
           43167
          ],
          [
           "Iowa",
           71591
          ],
          [
           "California",
           345012
          ],
          [
           "Minnesota",
           50201
          ],
          [
           "Montana",
           59351
          ],
          [
           "Utah",
           133579
          ],
          [
           "Virginia",
           136699
          ],
          [
           "Texas",
           54898
          ],
          [
           "Utah",
           91648
          ],
          [
           "California",
           37101
          ],
          [
           "Texas",
           42907
          ],
          [
           "South Carolina",
           39823
          ],
          [
           "Arkansas",
           197357
          ],
          [
           "California",
           334227
          ],
          [
           "New York",
           57866
          ],
          [
           "Idaho",
           58292
          ],
          [
           "Washington",
           133992
          ],
          [
           "California",
           127035
          ],
          [
           "New Jersey",
           51982
          ],
          [
           "Massachusetts",
           52044
          ],
          [
           "Nebraska",
           50550
          ],
          [
           "Missouri",
           115276
          ],
          [
           "Wisconsin",
           78199
          ],
          [
           "Indiana",
           85927
          ],
          [
           "Michigan",
           47523
          ],
          [
           "Ohio",
           48630
          ],
          [
           "California",
           56590
          ],
          [
           "Massachusetts",
           53756
          ],
          [
           "Texas",
           53224
          ],
          [
           "Illinois",
           75994
          ],
          [
           "California",
           81750
          ],
          [
           "North Carolina",
           107741
          ],
          [
           "Ohio",
           47777
          ],
          [
           "Oklahoma",
           56756
          ],
          [
           "California",
           89387
          ],
          [
           "Florida",
           57203
          ],
          [
           "California",
           81121
          ],
          [
           "Ohio",
           37530
          ],
          [
           "Illinois",
           150251
          ],
          [
           "California",
           102211
          ],
          [
           "Florida",
           249688
          ],
          [
           "Illinois",
           49670
          ],
          [
           "Connecticut",
           51644
          ],
          [
           "Oregon",
           51583
          ],
          [
           "Nevada",
           603488
          ],
          [
           "Texas",
           152735
          ],
          [
           "Florida",
           171016
          ],
          [
           "Iowa",
           128429
          ],
          [
           "Florida",
           38661
          ],
          [
           "Massachusetts",
           93494
          ],
          [
           "Florida",
           130288
          ],
          [
           "Texas",
           674433
          ],
          [
           "Kansas",
           127679
          ],
          [
           "California",
           54561
          ],
          [
           "Oregon",
           37064
          ],
          [
           "Minnesota",
           51368
          ],
          [
           "Ohio",
           198100
          ],
          [
           "Texas",
           80836
          ],
          [
           "California",
           171386
          ],
          [
           "South Carolina",
           104054
          ],
          [
           "Kentucky",
           609893
          ],
          [
           "California",
           52477
          ],
          [
           "Florida",
           56792
          ],
          [
           "Florida",
           51763
          ],
          [
           "California",
           110972
          ],
          [
           "Texas",
           46081
          ],
          [
           "California",
           91119
          ],
          [
           "Michigan",
           74100
          ],
          [
           "Ohio",
           63710
          ],
          [
           "Utah",
           37733
          ],
          [
           "Florida",
           172389
          ],
          [
           "Georgia",
           72531
          ],
          [
           "Florida",
           109703
          ],
          [
           "Florida",
           43328
          ],
          [
           "Alabama",
           40059
          ],
          [
           "Indiana",
           61025
          ],
          [
           "Texas",
           70190
          ],
          [
           "Ohio",
           45712
          ],
          [
           "South Dakota",
           164676
          ],
          [
           "Indiana",
           45775
          ],
          [
           "Florida",
           55456
          ],
          [
           "Massachusetts",
           41002
          ],
          [
           "Rhode Island",
           81971
          ],
          [
           "California",
           363630
          ],
          [
           "Florida",
           417650
          ],
          [
           "Louisiana",
           74024
          ],
          [
           "Washington",
           52413
          ],
          [
           "North Carolina",
           40361
          ],
          [
           "California",
           66174
          ],
          [
           "Minnesota",
           73987
          ],
          [
           "Indiana",
           100886
          ],
          [
           "Oklahoma",
           87004
          ],
          [
           "Iowa",
           207510
          ],
          [
           "Florida",
           47547
          ],
          [
           "Utah",
           45285
          ],
          [
           "California",
           86635
          ],
          [
           "Michigan",
           95208
          ],
          [
           "Wisconsin",
           599164
          ],
          [
           "Washington",
           74860
          ],
          [
           "South Carolina",
           41190
          ],
          [
           "Massachusetts",
           40664
          ],
          [
           "Washington",
           97003
          ],
          [
           "Colorado",
           106114
          ],
          [
           "Virginia",
           214114
          ],
          [
           "Indiana",
           55670
          ],
          [
           "California",
           40481
          ],
          [
           "Texas",
           53752
          ],
          [
           "New Jersey",
           52575
          ],
          [
           "Kentucky",
           308428
          ],
          [
           "California",
           106589
          ],
          [
           "Arizona",
           91923
          ],
          [
           "California",
           54291
          ],
          [
           "Illinois",
           40379
          ],
          [
           "Illinois",
           147806
          ],
          [
           "South Carolina",
           69103
          ],
          [
           "California",
           67911
          ],
          [
           "Michigan",
           56620
          ],
          [
           "Hawaii",
           347884
          ],
          [
           "Texas",
           65098
          ],
          [
           "Massachusetts",
           43886
          ],
          [
           "Texas",
           44575
          ],
          [
           "Texas",
           126700
          ],
          [
           "Illinois",
           41734
          ],
          [
           "Illinois",
           52398
          ],
          [
           "Massachusetts",
           48514
          ],
          [
           "Florida",
           59212
          ],
          [
           "Maryland",
           64072
          ],
          [
           "California",
           104709
          ],
          [
           "California",
           138981
          ],
          [
           "Wisconsin",
           66778
          ],
          [
           "Texas",
           39795
          ],
          [
           "Michigan",
           81295
          ],
          [
           "California",
           63771
          ],
          [
           "California",
           49707
          ],
          [
           "California",
           40435
          ],
          [
           "Colorado",
           59778
          ],
          [
           "Oklahoma",
           50725
          ],
          [
           "California",
           998537
          ],
          [
           "Texas",
           109821
          ],
          [
           "Minnesota",
           65415
          ],
          [
           "Oklahoma",
           118197
          ],
          [
           "Florida",
           64079
          ],
          [
           "Texas",
           37587
          ],
          [
           "California",
           236716
          ],
          [
           "Idaho",
           54350
          ],
          [
           "California",
           38606
          ],
          [
           "Wisconsin",
           48725
          ],
          [
           "Louisiana",
           66333
          ],
          [
           "Texas",
           61238
          ],
          [
           "Georgia",
           99770
          ],
          [
           "Illinois",
           83424
          ],
          [
           "New Jersey",
           85390
          ],
          [
           "Oklahoma",
           58414
          ],
          [
           "Missouri",
           53294
          ],
          [
           "California",
           159523
          ],
          [
           "Texas",
           78709
          ],
          [
           "Texas",
           38448
          ],
          [
           "Florida",
           165831
          ],
          [
           "California",
           60189
          ],
          [
           "Massachusetts",
           44057
          ],
          [
           "California",
           51701
          ],
          [
           "New Hampshire",
           110378
          ],
          [
           "Virginia",
           448479
          ],
          [
           "Kansas",
           47846
          ],
          [
           "Massachusetts",
           78804
          ],
          [
           "Florida",
           78409
          ],
          [
           "California",
           509924
          ],
          [
           "Alabama",
           37498
          ],
          [
           "Illinois",
           56758
          ],
          [
           "Florida",
           50699
          ],
          [
           "Rhode Island",
           71172
          ],
          [
           "California",
           40275
          ],
          [
           "North Carolina",
           236441
          ],
          [
           "Georgia",
           62298
          ],
          [
           "Missouri",
           82809
          ],
          [
           "California",
           80872
          ],
          [
           "California",
           72528
          ],
          [
           "Florida",
           38632
          ],
          [
           "Minnesota",
           40641
          ],
          [
           "California",
           50175
          ],
          [
           "California",
           83447
          ],
          [
           "Colorado",
           71334
          ],
          [
           "Illinois",
           38241
          ],
          [
           "Rhode Island",
           177994
          ],
          [
           "Florida",
           233394
          ],
          [
           "California",
           74513
          ],
          [
           "California",
           167500
          ],
          [
           "Washington",
           84430
          ],
          [
           "Utah",
           76817
          ],
          [
           "South Carolina",
           39412
          ],
          [
           "California",
           196021
          ],
          [
           "Connecticut",
           60456
          ],
          [
           "California",
           59957
          ],
          [
           "Massachusetts",
           41301
          ],
          [
           "Illinois",
           110145
          ],
          [
           "Texas",
           274409
          ],
          [
           "Colorado",
           89919
          ],
          [
           "Texas",
           40342
          ],
          [
           "Ohio",
           51143
          ],
          [
           "Arkansas",
           71551
          ],
          [
           "Texas",
           100050
          ],
          [
           "Michigan",
           95884
          ],
          [
           "New York",
           61808
          ],
          [
           "Louisiana",
           49761
          ],
          [
           "Maryland",
           622104
          ],
          [
           "Missouri",
           164122
          ],
          [
           "Arkansas",
           46094
          ],
          [
           "New Jersey",
           50588
          ],
          [
           "Massachusetts",
           91589
          ],
          [
           "Minnesota",
           65656
          ],
          [
           "Florida",
           127488
          ],
          [
           "California",
           49891
          ],
          [
           "Washington",
           50169
          ],
          [
           "Florida",
           37199
          ],
          [
           "Arkansas",
           78960
          ],
          [
           "California",
           58994
          ],
          [
           "Arkansas",
           63816
          ],
          [
           "Washington",
           203446
          ],
          [
           "Connecticut",
           47333
          ],
          [
           "Vermont",
           42284
          ],
          [
           "Idaho",
           45981
          ],
          [
           "Texas",
           39296
          ],
          [
           "New York",
           8405837
          ],
          [
           "California",
           126181
          ],
          [
           "California",
           107740
          ],
          [
           "Colorado",
           53063
          ],
          [
           "Georgia",
           56481
          ],
          [
           "Texas",
           792727
          ],
          [
           "California",
           92599
          ],
          [
           "Indiana",
           120310
          ],
          [
           "California",
           102216
          ],
          [
           "Tennessee",
           40021
          ],
          [
           "California",
           58642
          ],
          [
           "Colorado",
           110945
          ],
          [
           "Pennsylvania",
           87893
          ],
          [
           "California",
           70365
          ],
          [
           "Colorado",
           96539
          ],
          [
           "Texas",
           100223
          ],
          [
           "Florida",
           37711
          ],
          [
           "Texas",
           129030
          ],
          [
           "California",
           37165
          ],
          [
           "California",
           128731
          ],
          [
           "California",
           47842
          ],
          [
           "Connecticut",
           147216
          ],
          [
           "Minnesota",
           47411
          ],
          [
           "Missouri",
           47749
          ],
          [
           "Florida",
           38696
          ],
          [
           "Washington",
           67599
          ],
          [
           "California",
           147478
          ],
          [
           "Wisconsin",
           243344
          ],
          [
           "Wisconsin",
           63820
          ],
          [
           "Illinois",
           88826
          ],
          [
           "Kentucky",
           61488
          ],
          [
           "Texas",
           379577
          ],
          [
           "Texas",
           101074
          ],
          [
           "New Mexico",
           45426
          ],
          [
           "California",
           38194
          ],
          [
           "California",
           66642
          ],
          [
           "Oregon",
           60177
          ],
          [
           "Massachusetts",
           95078
          ],
          [
           "Washington",
           57530
          ],
          [
           "California",
           55000
          ],
          [
           "California",
           66205
          ],
          [
           "California",
           49133
          ],
          [
           "Tennessee",
           43060
          ],
          [
           "Pennsylvania",
           45796
          ],
          [
           "Alabama",
           68001
          ],
          [
           "New Jersey",
           64544
          ],
          [
           "Illinois",
           57282
          ],
          [
           "Mississippi",
           44820
          ],
          [
           "Illinois",
           41752
          ],
          [
           "California",
           175140
          ],
          [
           "California",
           71371
          ],
          [
           "Colorado",
           37499
          ],
          [
           "Ohio",
           72535
          ],
          [
           "Georgia",
           50603
          ],
          [
           "Louisiana",
           229426
          ],
          [
           "Connecticut",
           60568
          ],
          [
           "Missouri",
           117240
          ],
          [
           "Michigan",
           113972
          ],
          [
           "Illinois",
           58590
          ],
          [
           "New Jersey",
           61050
          ],
          [
           "Wisconsin",
           104779
          ],
          [
           "Illinois",
           75570
          ],
          [
           "Florida",
           39172
          ],
          [
           "California",
           3884307
          ],
          [
           "Washington",
           92734
          ],
          [
           "Utah",
           110077
          ],
          [
           "California",
           52536
          ],
          [
           "Pennsylvania",
           305841
          ],
          [
           "California",
           113242
          ],
          [
           "Illinois",
           84103
          ],
          [
           "California",
           95677
          ],
          [
           "Florida",
           36877
          ],
          [
           "Missouri",
           50789
          ],
          [
           "Texas",
           90983
          ],
          [
           "Utah",
           191180
          ],
          [
           "Florida",
           43074
          ],
          [
           "Arizona",
           1513367
          ],
          [
           "Oregon",
           55298
          ],
          [
           "Texas",
           46663
          ],
          [
           "Massachusetts",
           55717
          ],
          [
           "Florida",
           57468
          ],
          [
           "Georgia",
           94034
          ],
          [
           "Illinois",
           37839
          ],
          [
           "New Hampshire",
           42419
          ],
          [
           "Washington",
           48338
          ],
          [
           "California",
           197575
          ],
          [
           "Texas",
           316381
          ],
          [
           "Massachusetts",
           62088
          ],
          [
           "Illinois",
           38510
          ],
          [
           "Massachusetts",
           107289
          ],
          [
           "Arizona",
           234632
          ],
          [
           "California",
           38623
          ],
          [
           "South Carolina",
           46074
          ],
          [
           "Iowa",
           102157
          ],
          [
           "Florida",
           89407
          ],
          [
           "Connecticut",
           72939
          ],
          [
           "Michigan",
           47555
          ],
          [
           "Ohio",
           45394
          ],
          [
           "Oregon",
           109397
          ],
          [
           "Florida",
           69813
          ],
          [
           "Tennessee",
           54068
          ],
          [
           "California",
           120245
          ],
          [
           "California",
           172794
          ],
          [
           "California",
           79312
          ],
          [
           "Michigan",
           57960
          ],
          [
           "New Jersey",
           52122
          ],
          [
           "Massachusetts",
           42935
          ],
          [
           "New Jersey",
           41301
          ],
          [
           "North Carolina",
           87236
          ],
          [
           "California",
           97877
          ]
         ],
         "hovertemplate": "<b>%{hovertext}</b><br><br>lat=%{lat}<br>lon=%{lon}<br>State=%{customdata[0]}<br>Population=%{customdata[1]}<extra></extra>",
         "hovertext": [
          "Marysville",
          "Perris",
          "Cleveland",
          "Worcester",
          "Columbia",
          "Waterbury",
          "Eagan",
          "Southfield",
          "Lafayette",
          "Boise City",
          "Elkhart",
          "Buena Park",
          "Marietta",
          "Parker",
          "West Palm Beach",
          "Salem",
          "Aurora",
          "Leesburg",
          "Doral",
          "Westminster",
          "Lubbock",
          "Overland Park",
          "Jackson",
          "Gastonia",
          "Daytona Beach",
          "Kansas City",
          "Rancho Palos Verdes",
          "Burnsville",
          "Rowlett",
          "Roswell",
          "Montgomery",
          "Logan",
          "Woburn",
          "Allentown",
          "Mount Pleasant",
          "Columbus",
          "Buffalo",
          "New Berlin",
          "North Richland Hills",
          "Lima",
          "Sacramento",
          "Fort Smith",
          "East Providence",
          "Urbandale",
          "Mount Vernon",
          "Lakewood",
          "Henderson",
          "Covina",
          "Stamford",
          "Bloomington",
          "Kingsport",
          "Spokane",
          "Kennewick",
          "Philadelphia",
          "Bellingham",
          "Visalia",
          "La Crosse",
          "Council Bluffs",
          "North Lauderdale",
          "Dallas",
          "Antioch",
          "Sterling Heights",
          "Deerfield Beach",
          "Fishers",
          "Cheyenne",
          "Murrieta",
          "Lenexa",
          "Noblesville",
          "Southaven",
          "Chino",
          "Gaithersburg",
          "Fountain Valley",
          "Frederick",
          "Greenville",
          "DeKalb",
          "West Allis",
          "Thornton",
          "West Des Moines",
          "Fall River",
          "Tulare",
          "Chula Vista",
          "Coral Springs",
          "Concord",
          "Smyrna",
          "Apopka",
          "Grand Forks",
          "Lancaster",
          "Naperville",
          "Hollywood",
          "Rogers",
          "New Orleans",
          "Lakewood",
          "Oak Lawn",
          "Caldwell",
          "Portland",
          "Concord",
          "Burien",
          "St. Charles",
          "Waukesha",
          "Flagstaff",
          "Puyallup",
          "Schenectady",
          "Denver",
          "Springfield",
          "Campbell",
          "Moreno Valley",
          "Kettering",
          "Lincoln Park",
          "Lake Havasu City",
          "North Little Rock",
          "Reno",
          "Littleton",
          "Prescott",
          "Dublin",
          "Texarkana",
          "Portland",
          "Brooklyn Park",
          "West Haven",
          "El Centro",
          "The Colony",
          "Flint",
          "Pittsburg",
          "Buckeye",
          "Brea",
          "Indio",
          "Scottsdale",
          "Columbus",
          "Lancaster",
          "Lincoln",
          "Trenton",
          "Boston",
          "Glendora",
          "Rochester",
          "Florissant",
          "Annapolis",
          "Chapel Hill",
          "Lawrence",
          "Calexico",
          "Calumet City",
          "Missoula",
          "Clovis",
          "Pearland",
          "Gilbert",
          "Wausau",
          "Raleigh",
          "Orange",
          "Walnut Creek",
          "Bremerton",
          "Porterville",
          "Marana",
          "Tallahassee",
          "Conroe",
          "Blacksburg",
          "San Antonio",
          "Hartford",
          "Waterloo",
          "Binghamton",
          "Meridian",
          "Fond du Lac",
          "Baytown",
          "Cary",
          "Weymouth Town",
          "Tulsa",
          "Mission",
          "Cuyahoga Falls",
          "Malden",
          "Allen",
          "Tucson",
          "Franklin",
          "Shakopee",
          "Jacksonville",
          "Atlantic City",
          "Erie",
          "Merced",
          "Abilene",
          "Yorba Linda",
          "Greenville",
          "Huntersville",
          "St. Clair Shores",
          "Harrisburg",
          "San Buenaventura (Ventura)",
          "Fremont",
          "Pueblo",
          "Chelsea",
          "Belleville",
          "Minneapolis",
          "Bartlett",
          "Wichita Falls",
          "Missouri City",
          "St. Louis",
          "Pharr",
          "Albuquerque",
          "Athens-Clarke County",
          "South Jordan",
          "North Las Vegas",
          "Pomona",
          "Eastvale",
          "Grove City",
          "Lawrence",
          "Midland",
          "Oklahoma City",
          "Oro Valley",
          "Mesa",
          "Norwalk",
          "Kentwood",
          "Brookfield",
          "Rockwall",
          "Mishawaka",
          "Tustin",
          "St. Cloud",
          "Passaic",
          "Escondido",
          "San Bruno",
          "Berkeley",
          "San Clemente",
          "Lawton",
          "Eau Claire",
          "Maricopa",
          "DeSoto",
          "Fort Wayne",
          "Shoreline",
          "Medford",
          "La Habra",
          "Albany",
          "Daly City",
          "Taylor",
          "Lynchburg",
          "Bowie",
          "Danbury",
          "Charlottesville",
          "Coral Gables",
          "Coeur d'Alene",
          "El Monte",
          "Crystal Lake",
          "Danville",
          "Goodyear",
          "Paterson",
          "Salem",
          "Kissimmee",
          "Saginaw",
          "Brownsville",
          "Flower Mound",
          "Grapevine",
          "Edina",
          "Detroit",
          "Fairfield",
          "Mansfield",
          "Rochester",
          "Birmingham",
          "Austin",
          "Santa Barbara",
          "Addison",
          "Rio Rancho",
          "Normal",
          "Romeoville",
          "Coon Rapids",
          "San Mateo",
          "Orlando",
          "Casper",
          "Bedford",
          "Wilmington",
          "Pinellas Park",
          "North Miami Beach",
          "Kansas City",
          "Fitchburg",
          "Wheeling",
          "Newton",
          "North Miami",
          "Norwich",
          "Newark",
          "Alexandria",
          "Blaine",
          "Harlingen",
          "Lompoc",
          "Denton",
          "Galveston",
          "Greenwood",
          "Salinas",
          "Miami Gardens",
          "Huntington",
          "Laredo",
          "Melbourne",
          "Haltom City",
          "Palm Bay",
          "Wilson",
          "Bountiful",
          "Ceres",
          "Parma",
          "Rapid City",
          "Bell Gardens",
          "Commerce City",
          "Springfield",
          "Fort Collins",
          "San Leandro",
          "Vista",
          "Yonkers",
          "Cincinnati",
          "Hagerstown",
          "Sanford",
          "Union City",
          "Toledo",
          "Sierra Vista",
          "Newport News",
          "Hammond",
          "Buffalo Grove",
          "Sugar Land",
          "Huntsville",
          "Lodi",
          "Edmonds",
          "Duncanville",
          "Rocky Mount",
          "Pontiac",
          "National City",
          "Hayward",
          "Niagara Falls",
          "Sparks",
          "Hanford",
          "Cypress",
          "Youngstown",
          "Madison",
          "Redlands",
          "Cape Girardeau",
          "Nampa",
          "Washington",
          "Wheaton",
          "Lancaster",
          "Rialto",
          "Fargo",
          "Peoria",
          "Omaha",
          "Rancho Santa Margarita",
          "Manhattan",
          "Palm Springs",
          "San Diego",
          "Santa Rosa",
          "Lowell",
          "Broken Arrow",
          "Kent",
          "Nashville",
          "Hackensack",
          "Broomfield",
          "Durham",
          "Wichita",
          "Cathedral City",
          "Lakeville",
          "Elmhurst",
          "Weslaco",
          "Greenfield",
          "Sunnyvale",
          "Santa Cruz",
          "Kenosha",
          "State College",
          "Mansfield",
          "Quincy",
          "Pompano Beach",
          "San Angelo",
          "Bloomington",
          "Tracy",
          "Spartanburg",
          "Nashua",
          "Macon",
          "Hempstead",
          "Camden",
          "Palm Desert",
          "Streamwood",
          "Chesapeake",
          "Dublin",
          "Camarillo",
          "Muskegon",
          "Elizabeth",
          "Anchorage",
          "Minot",
          "Davie",
          "McAllen",
          "McKinney",
          "Killeen",
          "Findlay",
          "Oakland",
          "Mountain View",
          "Lake Elsinore",
          "Amarillo",
          "Provo",
          "Atlanta",
          "Monterey Park",
          "Strongsville",
          "Madera",
          "Decatur",
          "Woonsocket",
          "Mobile",
          "Vallejo",
          "Arcadia",
          "Collierville",
          "Jefferson City",
          "Longview",
          "Chandler",
          "Arvada",
          "Alhambra",
          "Kokomo",
          "Oakland Park",
          "Indianapolis",
          "Boynton Beach",
          "Apache Junction",
          "Mount Prospect",
          "Cranston",
          "Lafayette",
          "Olathe",
          "Johns Creek",
          "Greensboro",
          "Kalamazoo",
          "Tigard",
          "Jacksonville",
          "Citrus Heights",
          "Tuscaloosa",
          "Ankeny",
          "Hawthorne",
          "Hoover",
          "Delray Beach",
          "Wellington",
          "Bullhead City",
          "Weston",
          "Troy",
          "New Rochelle",
          "Stockton",
          "Royal Oak",
          "Titusville",
          "Laguna Niguel",
          "Spokane Valley",
          "Costa Mesa",
          "Grand Prairie",
          "Portsmouth",
          "Lacey",
          "Apex",
          "Sioux City",
          "Encinitas",
          "Spanish Fork",
          "Huntington Park",
          "Eden Prairie",
          "Peoria",
          "Tempe",
          "Wilmington",
          "Taylorsville",
          "Westland",
          "Mesquite",
          "Burlington",
          "Garland",
          "Richmond",
          "Bismarck",
          "Carson City",
          "Muskogee",
          "Augusta-Richmond County",
          "Fayetteville",
          "Albany",
          "Sayreville",
          "Newark",
          "Diamond Bar",
          "Decatur",
          "Chattanooga",
          "Jeffersonville",
          "Bartlett",
          "Baldwin Park",
          "Miami Beach",
          "Jackson",
          "Port Arthur",
          "San Luis Obispo",
          "Burleson",
          "Newport Beach",
          "Riverton",
          "Yakima",
          "Dayton",
          "Gulfport",
          "Long Beach",
          "Chico",
          "Hattiesburg",
          "Eugene",
          "Colton",
          "Montebello",
          "Pleasanton",
          "Everett",
          "Hutchinson",
          "Fairfield",
          "Avondale",
          "Euclid",
          "Battle Creek",
          "Bloomington",
          "Rock Island",
          "Beaverton",
          "Kenner",
          "Clovis",
          "Troy",
          "Milpitas",
          "Des Plaines",
          "Placentia",
          "Taunton",
          "Montclair",
          "Johnson City",
          "Savannah",
          "Warren",
          "Vancouver",
          "Sunrise",
          "Muncie",
          "Lehi",
          "San Francisco",
          "Fontana",
          "Frisco",
          "Chino Hills",
          "Poway",
          "Huber Heights",
          "New Brunswick",
          "Norfolk",
          "Hillsboro",
          "San Jacinto",
          "Pensacola",
          "Hamilton",
          "Florence",
          "San Bernardino",
          "Peachtree Corners",
          "Victorville",
          "Gary",
          "Casa Grande",
          "Morgan Hill",
          "Dubuque",
          "Syracuse",
          "Clarksville",
          "Lakeland",
          "Valley Stream",
          "Dover",
          "Moorhead",
          "Culver City",
          "Palatine",
          "Seattle",
          "Covington",
          "Elk Grove",
          "Shreveport",
          "Ogden",
          "Harrisonburg",
          "Inglewood",
          "Pasadena",
          "Lawrence",
          "Lake Oswego",
          "Petaluma",
          "Springfield",
          "Napa",
          "Aurora",
          "Duluth",
          "Roanoke",
          "Bend",
          "Apple Valley",
          "Waltham",
          "Fort Myers",
          "Tampa",
          "Upland",
          "Danville",
          "Beloit",
          "Plantation",
          "Colorado Springs",
          "Modesto",
          "Grand Rapids",
          "Oak Park",
          "Sarasota",
          "Jurupa Valley",
          "Bellflower",
          "Boulder",
          "Santa Fe",
          "Coachella",
          "Marlborough",
          "Riverside",
          "Palmdale",
          "Novato",
          "Layton",
          "Bolingbrook",
          "Mission Viejo",
          "Glenview",
          "Lincoln",
          "Folsom",
          "Prescott Valley",
          "Las Cruces",
          "Bozeman",
          "Schaumburg",
          "Warren",
          "St. Peters",
          "Ames",
          "Surprise",
          "Richardson",
          "Midland",
          "San Marcos",
          "Wilkes-Barre",
          "Appleton",
          "Shawnee",
          "Mentor",
          "Livermore",
          "Charlotte",
          "Owensboro",
          "Jupiter",
          "Rohnert Park",
          "Chicago",
          "Billings",
          "Wauwatosa",
          "Lombard",
          "New Haven",
          "York",
          "Knoxville",
          "Elyria",
          "Barnstable Town",
          "Murray",
          "Alameda",
          "Manteca",
          "Maplewood",
          "Medford",
          "Murfreesboro",
          "Yuba City",
          "Shelton",
          "Cedar Falls",
          "Germantown",
          "Scranton",
          "Auburn",
          "Manassas",
          "Vacaville",
          "Santa Monica",
          "Suffolk",
          "Rochester Hills",
          "La Quinta",
          "Charleston",
          "Delano",
          "St. Cloud",
          "Charleston",
          "Kannapolis",
          "Corona",
          "Rocklin",
          "Lee's Summit",
          "Palm Coast",
          "Sandy",
          "Bentonville",
          "Santa Clarita",
          "Altamonte Springs",
          "New Braunfels",
          "Memphis",
          "Irving",
          "Alexandria",
          "Hesperia",
          "Holyoke",
          "Dunwoody",
          "Skokie",
          "Kearny",
          "Bethlehem",
          "St. Joseph",
          "Redondo Beach",
          "Houston",
          "Temecula",
          "Ann Arbor",
          "Beaumont",
          "East Lansing",
          "Santee",
          "Tamarac",
          "Bellevue",
          "Pembroke Pines",
          "Springdale",
          "Oxnard",
          "Odessa",
          "Stillwater",
          "Brockton",
          "Bayonne",
          "Paramount",
          "Moline",
          "Meridian",
          "Cleveland",
          "Jersey City",
          "St. Paul",
          "Deltona",
          "Freeport",
          "Iowa City",
          "Anaheim",
          "Apple Valley",
          "Great Falls",
          "West Valley City",
          "Hampton",
          "Georgetown",
          "Orem",
          "Monrovia",
          "Keller",
          "Goose Creek",
          "Little Rock",
          "Santa Ana",
          "White Plains",
          "Idaho Falls",
          "Bellevue",
          "Roseville",
          "Perth Amboy",
          "Peabody",
          "Grand Island",
          "Columbia",
          "Racine",
          "Carmel",
          "Portage",
          "Middletown",
          "Woodland",
          "Revere",
          "Euless",
          "Arlington Heights",
          "Hemet",
          "High Point",
          "Newark",
          "Midwest City",
          "San Marcos",
          "Port Orange",
          "Lakewood",
          "Westerville",
          "Rockford",
          "El Cajon",
          "St. Petersburg",
          "Downers Grove",
          "Milford",
          "Albany",
          "Las Vegas",
          "Pasadena",
          "Port St. Lucie",
          "Cedar Rapids",
          "Ormond Beach",
          "Quincy",
          "Miramar",
          "El Paso",
          "Topeka",
          "Rosemead",
          "Keizer",
          "Minnetonka",
          "Akron",
          "Edinburg",
          "Rancho Cucamonga",
          "North Charleston",
          "Louisville",
          "Watsonville",
          "Coconut Creek",
          "Bradenton",
          "Carlsbad",
          "Texas City",
          "Redding",
          "Wyoming",
          "Lorain",
          "Roy",
          "Fort Lauderdale",
          "Warner Robins",
          "Clearwater",
          "Cutler Bay",
          "Florence",
          "Terre Haute",
          "Temple",
          "Beavercreek",
          "Sioux Falls",
          "Columbus",
          "Margate",
          "Leominster",
          "Warwick",
          "Bakersfield",
          "Miami",
          "Lake Charles",
          "Richland",
          "Hickory",
          "South San Francisco",
          "Plymouth",
          "South Bend",
          "Edmond",
          "Des Moines",
          "Bonita Springs",
          "Draper",
          "Whittier",
          "Livonia",
          "Milwaukee",
          "Auburn",
          "Sumter",
          "Beverly",
          "Renton",
          "Centennial",
          "Richmond",
          "Anderson",
          "Beaumont",
          "Pflugerville",
          "Hoboken",
          "Lexington-Fayette",
          "Norwalk",
          "Yuma",
          "Highland",
          "Carol Stream",
          "Joliet",
          "Rock Hill",
          "Rancho Cordova",
          "Dearborn Heights",
          "Honolulu",
          "Victoria",
          "Attleboro",
          "Wylie",
          "Carrollton",
          "Plainfield",
          "Hoffman Estates",
          "Methuen",
          "North Port",
          "Rockville",
          "Burbank",
          "Fullerton",
          "Oshkosh",
          "Huntsville",
          "Farmington Hills",
          "Pico Rivera",
          "Cerritos",
          "La Puente",
          "Grand Junction",
          "Enid",
          "San Jose",
          "Round Rock",
          "Maple Grove",
          "Norman",
          "Homestead",
          "Friendswood",
          "Irvine",
          "Pocatello",
          "Pacifica",
          "Sheboygan",
          "Bossier City",
          "Cedar Park",
          "Sandy Springs",
          "Champaign",
          "Clifton",
          "Moore",
          "Blue Springs",
          "Lancaster",
          "Bryan",
          "Hurst",
          "Cape Coral",
          "Cupertino",
          "Pittsfield",
          "Gilroy",
          "Manchester",
          "Virginia Beach",
          "Salina",
          "Somerville",
          "Largo",
          "Fresno",
          "Phenix City",
          "Berwyn",
          "Palm Beach Gardens",
          "Pawtucket",
          "San Gabriel",
          "Winston-Salem",
          "Alpharetta",
          "O'Fallon",
          "Redwood City",
          "Union City",
          "Hallandale Beach",
          "Mankato",
          "Aliso Viejo",
          "Menifee",
          "Loveland",
          "Carpentersville",
          "Providence",
          "Hialeah",
          "San Ramon",
          "Ontario",
          "Kirkland",
          "St. George",
          "Hilton Head Island",
          "Glendale",
          "Meriden",
          "Gardena",
          "Westfield",
          "Elgin",
          "Plano",
          "Longmont",
          "Coppell",
          "Lakewood",
          "Jonesboro",
          "College Station",
          "Dearborn",
          "Utica",
          "Monroe",
          "Baltimore",
          "Springfield",
          "Pine Bluff",
          "Plainfield",
          "Lynn",
          "Woodbury",
          "Gainesville",
          "West Sacramento",
          "Sammamish",
          "Aventura",
          "Fayetteville",
          "San Rafael",
          "Conway",
          "Tacoma",
          "Middletown",
          "Burlington",
          "Twin Falls",
          "Sherman",
          "New York",
          "Simi Valley",
          "West Covina",
          "Castle Rock",
          "Valdosta",
          "Fort Worth",
          "Carson",
          "Evansville",
          "Santa Maria",
          "Brentwood",
          "La Mesa",
          "Westminster",
          "Reading",
          "Turlock",
          "Greeley",
          "Tyler",
          "Winter Garden",
          "Waco",
          "Martinez",
          "Thousand Oaks",
          "Azusa",
          "Bridgeport",
          "St. Louis Park",
          "Chesterfield",
          "Greenacres",
          "Pasco",
          "Torrance",
          "Madison",
          "Janesville",
          "Waukegan",
          "Bowling Green",
          "Arlington",
          "Lewisville",
          "Farmington",
          "Oakley",
          "Palo Alto",
          "Springfield",
          "New Bedford",
          "Redmond",
          "Brentwood",
          "Davis",
          "La Mirada",
          "Smyrna",
          "Altoona",
          "Dothan",
          "East Orange",
          "Tinley Park",
          "Biloxi",
          "Urbana",
          "Garden Grove",
          "Lynwood",
          "Northglenn",
          "Canton",
          "Brookhaven",
          "Baton Rouge",
          "Bristol",
          "Independence",
          "Lansing",
          "Orland Park",
          "Vineland",
          "Green Bay",
          "Evanston",
          "Ocoee",
          "Los Angeles",
          "Federal Way",
          "West Jordan",
          "Yucaipa",
          "Pittsburgh",
          "Downey",
          "Cicero",
          "South Gate",
          "Panama City",
          "Joplin",
          "League City",
          "Salt Lake City",
          "Fort Pierce",
          "Phoenix",
          "Corvallis",
          "Cedar Hill",
          "Chicopee",
          "Ocala",
          "Roswell",
          "Park Ridge",
          "Concord",
          "Olympia",
          "Huntington Beach",
          "Corpus Christi",
          "Haverhill",
          "Hanover Park",
          "Cambridge",
          "Glendale",
          "Stanton",
          "Summerville",
          "Davenport",
          "Boca Raton",
          "New Britain",
          "Roseville",
          "Cleveland Heights",
          "Gresham",
          "Lauderhill",
          "Hendersonville",
          "Santa Clara",
          "Oceanside",
          "Lake Forest",
          "Novi",
          "West New York",
          "Everett",
          "Linden",
          "Asheville",
          "Compton"
         ],
         "lat": [
          48.0517637,
          33.7825194,
          41.49932,
          42.262593200000005,
          34.0007104,
          41.558152500000006,
          44.804132200000005,
          42.4733688,
          30.2240897,
          43.6187102,
          41.6819935,
          33.8675143,
          33.952602,
          39.5186002,
          26.7153424,
          42.51954,
          41.7605849,
          39.1156615,
          25.8195424,
          33.7513419,
          33.5778631,
          38.9822282,
          32.298757300000005,
          35.262082,
          29.2108147,
          39.0997265,
          33.7444613,
          44.7677424,
          32.9029017,
          33.3942655,
          32.366805199999995,
          41.7369803,
          42.4792618,
          40.6084305,
          32.8323225,
          32.4609764,
          42.8864468,
          42.9764027,
          32.8342952,
          40.742551,
          38.5815719,
          35.385924200000005,
          41.813711600000005,
          41.6266555,
          40.9125992,
          39.7047095,
          36.0395247,
          34.0900091,
          41.0534302,
          39.165325,
          36.548434,
          47.6587802,
          46.2112458,
          39.9525839,
          48.74908,
          36.3302284,
          43.8013556,
          41.2619444,
          26.217305,
          32.7766642,
          38.0049214,
          42.5803122,
          26.3184123,
          39.95675479999999,
          41.1399814,
          33.553914299999995,
          38.9536174,
          40.0455917,
          34.9889818,
          34.0122346,
          39.143440600000005,
          33.7091847,
          39.4142688,
          35.612661,
          41.9294736,
          43.0166806,
          39.8680412,
          41.5772115,
          41.7014912,
          36.20772879999999,
          32.6400541,
          26.271192,
          35.4087517,
          33.883992600000006,
          28.6934076,
          47.9252568,
          39.71367539999999,
          41.7508391,
          26.0112014,
          36.3320196,
          29.9510658,
          47.1717649,
          41.719978000000005,
          43.6629384,
          45.523062200000005,
          37.9779776,
          47.4703767,
          38.7881062,
          43.0116784,
          35.1982836,
          47.1853785,
          42.8142432,
          39.7392358,
          39.7817213,
          37.2871651,
          33.9424658,
          39.6895036,
          42.2505943,
          34.483901,
          34.769535999999995,
          39.5296329,
          39.613321,
          34.540024200000005,
          37.7021521,
          33.425125,
          43.661471,
          45.0941315,
          41.2705484,
          32.792,
          33.0806083,
          43.0125274,
          38.027976200000005,
          33.3703197,
          33.9166805,
          33.7205771,
          33.494170399999994,
          39.9611755,
          40.0378755,
          40.8257625,
          40.2170534,
          42.3600825,
          34.136118700000004,
          44.0121221,
          38.789217,
          38.9784453,
          35.913199600000006,
          39.8386516,
          32.6789476,
          41.6155909,
          46.8787176,
          36.8252277,
          29.5635666,
          33.3528264,
          44.9591352,
          35.7795897,
          33.7877944,
          37.9100783,
          47.567320200000005,
          36.06523,
          32.436381,
          30.4382559,
          30.3118769,
          37.2295733,
          29.4241219,
          41.7637111,
          42.492786,
          42.0986867,
          43.61210870000001,
          43.7730448,
          29.735504700000003,
          35.791540000000005,
          42.2180724,
          36.1539816,
          26.2159066,
          41.1339449,
          42.4250964,
          33.1031744,
          32.2217429,
          35.9250637,
          44.79739620000001,
          30.3321838,
          39.3642834,
          42.1292241,
          37.3021632,
          32.4487364,
          33.888625899999994,
          34.8526176,
          35.410694,
          42.4974085,
          40.273191100000005,
          34.274646000000004,
          37.548269700000006,
          38.2544472,
          42.3917638,
          38.5200504,
          44.977753,
          35.2045328,
          33.913708500000006,
          29.6185669,
          38.6270025,
          26.1947962,
          35.0853336,
          33.9519347,
          40.5621704,
          36.1988592,
          34.055103,
          33.952463,
          39.8814519,
          38.9716689,
          31.9973456,
          35.4675602,
          32.3909071,
          33.4151843,
          41.117744,
          42.8694731,
          43.0605671,
          32.9312336,
          41.6619927,
          33.7458511,
          45.5579451,
          40.8567662,
          33.1192068,
          37.6304904,
          37.87159260000001,
          33.4269728,
          34.6035669,
          44.811349,
          33.058106300000006,
          32.589699800000005,
          41.079273,
          47.7556531,
          42.4184296,
          33.9319578,
          42.65257929999999,
          37.6879241,
          42.240872,
          37.4137536,
          39.0067768,
          41.394817,
          38.0293059,
          25.72149,
          47.6776832,
          34.0686206,
          42.2411344,
          37.8215929,
          33.4353394,
          40.9167654,
          44.9428975,
          28.291955699999995,
          43.4194699,
          25.9017472,
          33.0145673,
          32.9342919,
          44.889686600000005,
          42.331427000000005,
          39.3454673,
          32.5631924,
          43.16103,
          33.5206608,
          30.267153000000004,
          34.4208305,
          41.931696,
          35.2327544,
          40.5142026,
          41.6475306,
          45.1732394,
          37.562991700000005,
          28.5383355,
          42.866632,
          32.844017,
          34.2257255,
          27.8428025,
          25.9331488,
          39.114053000000006,
          42.5834228,
          42.1391927,
          42.3370413,
          25.8900949,
          41.5242649,
          40.735657,
          31.3112936,
          45.1607987,
          26.1906306,
          34.6391501,
          33.2148412,
          29.3013479,
          39.6136578,
          36.6777372,
          25.9420377,
          38.41924960000001,
          27.530567100000003,
          28.0836269,
          32.799573800000005,
          28.03446210000001,
          35.7212689,
          40.8893895,
          37.5949316,
          41.404774200000006,
          44.0805434,
          33.9652918,
          39.8083196,
          42.1014831,
          40.5852602,
          37.7249296,
          33.2000368,
          40.9312099,
          39.1031182,
          39.6417629,
          28.802861199999995,
          40.6975898,
          41.6639383,
          31.5455001,
          37.0870821,
          41.5833688,
          42.1662831,
          29.6196787,
          34.730368799999994,
          38.1341477,
          47.8106521,
          32.6518004,
          35.938210299999994,
          42.6389216,
          32.6781085,
          37.6688205,
          43.0962143,
          39.5349112,
          36.3274502,
          33.8169599,
          41.0997803,
          34.6992579,
          34.055569299999995,
          37.3058839,
          43.5407172,
          38.9071923,
          41.8661403,
          32.5920798,
          34.1064001,
          46.8771863,
          40.6936488,
          41.25236339999999,
          33.640855,
          39.1836082,
          33.8302961,
          32.715738,
          38.440429,
          42.633424700000006,
          36.060949,
          47.380933500000005,
          36.1626638,
          40.8859325,
          39.9205411,
          35.99403289999999,
          37.688889,
          33.780538799999995,
          44.6496868,
          41.8994744,
          26.1595194,
          42.9614039,
          37.36883,
          36.9741171,
          42.5847425,
          40.7933949,
          40.758390000000006,
          39.9356016,
          26.2378597,
          31.4637723,
          40.4842027,
          37.7396513,
          34.949567200000004,
          42.7653662,
          32.8406946,
          40.7062128,
          39.9259463,
          33.7222445,
          42.02558270000001,
          36.7682088,
          40.0992294,
          34.216393700000005,
          43.2341813,
          40.6639916,
          61.2180556,
          48.23296679999999,
          26.0764783,
          26.203407100000003,
          33.197246500000006,
          31.1171194,
          41.04422,
          37.8043637,
          37.3860517,
          33.668077200000006,
          35.2219971,
          40.2338438,
          33.7489954,
          34.0625106,
          41.3144966,
          36.961335600000005,
          39.84031470000001,
          42.0028761,
          30.6953657,
          38.1040864,
          34.139729200000005,
          35.042036,
          38.57670170000001,
          32.5007037,
          33.3061605,
          39.8027644,
          34.095287,
          40.486427,
          26.1723065,
          39.768403,
          26.531786600000004,
          33.4150485,
          42.066416700000005,
          41.7798226,
          40.4167022,
          38.8813958,
          34.0289259,
          36.0726354,
          42.2917069,
          45.4312294,
          34.7540524,
          38.7071247,
          33.2098407,
          41.7317884,
          33.9164032,
          33.405386699999994,
          26.4614625,
          26.6617635,
          35.1359386,
          26.1003654,
          42.6064095,
          40.9114882,
          37.9577016,
          42.4894801,
          28.6122187,
          33.5225261,
          47.6732281,
          33.6411316,
          32.7459645,
          36.8354258,
          47.0342629,
          35.732652,
          42.4999942,
          33.0369867,
          40.114955,
          33.981681200000004,
          44.8546856,
          33.5805955,
          33.4255104,
          39.7390721,
          40.6677248,
          42.324204,
          32.7667955,
          36.0956918,
          32.912624,
          37.9357576,
          46.8083268,
          39.1637984,
          35.747876899999994,
          33.4734978,
          35.0526641,
          31.5785074,
          40.4594021,
          37.5296593,
          34.028622600000006,
          34.6059253,
          35.0456297,
          38.27757020000001,
          41.9950276,
          34.0852868,
          25.790654,
          35.6145169,
          29.8849504,
          35.2827524,
          32.5420821,
          33.6189101,
          40.521893,
          46.6020711,
          39.7589478,
          30.367419800000004,
          33.770050399999995,
          39.7284944,
          31.3271189,
          44.0520691,
          34.0739016,
          34.0165053,
          37.6624312,
          47.9789848,
          38.0608445,
          38.2493581,
          33.4355977,
          41.5931049,
          42.32115220000001,
          44.840798,
          41.5094771,
          45.487062,
          29.9940924,
          34.4047987,
          42.7284117,
          37.4323341,
          42.03336229999999,
          33.87223710000001,
          41.900101,
          34.0775104,
          36.3134397,
          32.0835407,
          41.2375569,
          45.6387281,
          26.1669711,
          40.1933767,
          40.3916172,
          37.7749295,
          34.0922335,
          33.1506744,
          33.989818799999995,
          32.9628232,
          39.843947,
          40.4862157,
          36.8507689,
          45.5228939,
          33.783908399999994,
          30.421309,
          39.3995008,
          34.1954331,
          34.1083449,
          33.9698929,
          34.5362184,
          41.5933696,
          32.8795022,
          37.130501200000005,
          42.5005583,
          43.0481221,
          36.5297706,
          28.0394654,
          40.6642699,
          39.158168,
          46.8737648,
          34.0211224,
          42.1103041,
          47.6062095,
          39.083671200000005,
          38.4087993,
          32.5251516,
          41.223,
          38.4495688,
          33.9616801,
          34.1477849,
          42.7070354,
          45.4206749,
          38.232417,
          39.9242266,
          38.2975381,
          39.7294319,
          46.7866719,
          37.2709704,
          44.0581728,
          34.5008311,
          42.376485200000005,
          26.640628000000003,
          27.950575,
          34.09751,
          36.5859718,
          42.5083482,
          26.1275862,
          38.8338816,
          37.6390972,
          42.9633599,
          41.885031700000006,
          27.3364347,
          33.9971974,
          33.8816818,
          40.0149856,
          35.686975200000006,
          33.6803003,
          42.3459271,
          33.9533487,
          34.5794343,
          38.1074198,
          41.0602216,
          41.6986416,
          33.6000232,
          42.0697509,
          38.891565,
          38.6779591,
          34.6100243,
          32.3199396,
          45.6769979,
          42.0333607,
          42.5144566,
          38.7874699,
          42.034722,
          33.62923370000001,
          32.948333500000004,
          43.6155825,
          29.8832749,
          41.2459149,
          44.2619309,
          39.0228485,
          41.6661573,
          37.6818745,
          35.2270869,
          37.7719074,
          26.934224600000004,
          38.3396367,
          41.8781136,
          45.783285600000006,
          43.049457200000006,
          41.8800296,
          41.308274,
          39.9625984,
          35.96063839999999,
          41.36837979999999,
          41.7003208,
          40.6668916,
          37.7652065,
          37.7974273,
          44.953021500000006,
          42.3265152,
          35.8456213,
          39.1404477,
          41.3164856,
          42.5348993,
          35.08675770000001,
          41.408969,
          32.6098566,
          38.7509488,
          38.3565773,
          34.01945429999999,
          36.7282054,
          42.6583661,
          33.663357299999994,
          38.3498195,
          35.7688425,
          28.2489016,
          32.776474900000004,
          35.4873613,
          33.8752935,
          38.7907339,
          38.9108408,
          29.5844524,
          40.564978100000005,
          36.3728538,
          34.3916641,
          28.6611089,
          29.7030024,
          35.1495343,
          32.814017699999994,
          38.8048355,
          34.4263886,
          42.2042586,
          33.9462125,
          42.0324025,
          40.7684342,
          40.6259316,
          39.7674578,
          33.8491816,
          29.7604267,
          33.4936391,
          42.2808256,
          30.080174,
          42.7369792,
          32.8383828,
          26.2128609,
          41.1543623,
          26.007765,
          36.18674420000001,
          34.1975048,
          31.8456816,
          36.1156071,
          42.083433500000005,
          40.6687141,
          33.8894598,
          41.5067003,
          32.3643098,
          35.1595182,
          40.7281575,
          44.9537029,
          28.9005446,
          40.65760220000001,
          41.6611277,
          33.8352932,
          44.7319094,
          47.4941836,
          40.691613200000006,
          37.0298687,
          30.633261800000003,
          40.2968979,
          34.14426160000001,
          32.9341893,
          32.9810059,
          34.7464809,
          33.7455731,
          41.0339862,
          43.4916514,
          47.610377,
          38.7521235,
          40.5067723,
          42.5278731,
          40.92639570000001,
          38.95170529999999,
          42.7261309,
          39.978371,
          42.20115379999999,
          39.5150576,
          38.6785157,
          42.408430200000005,
          32.8370727,
          42.0883603,
          33.7475203,
          35.955692299999995,
          40.0581205,
          35.4495065,
          33.1433723,
          29.1383165,
          33.853626899999995,
          40.1261743,
          42.2711311,
          32.7947731,
          27.773056,
          41.8089191,
          41.2306979,
          44.6365107,
          36.1699412,
          29.6910625,
          27.2730492,
          41.9778795,
          29.2858129,
          42.25287720000001,
          25.9860762,
          31.7775757,
          39.0558235,
          34.0805651,
          44.9901194,
          44.9211836,
          41.081444700000006,
          26.3017374,
          34.1063989,
          32.8546197,
          38.2526647,
          36.910231,
          26.2517482,
          27.4989278,
          33.158093300000004,
          29.383845,
          40.5865396,
          42.9133602,
          41.452819,
          41.1616108,
          26.1224386,
          32.6130007,
          27.9658533,
          25.5808323,
          34.79981,
          39.4667034,
          31.0982344,
          39.7092262,
          43.5445959,
          39.2014404,
          26.244526300000004,
          42.5250906,
          41.7001009,
          35.3732921,
          25.7616798,
          30.226594899999995,
          46.2856907,
          35.7344538,
          37.654656,
          45.01051939999999,
          41.6763545,
          35.6528323,
          41.6005448,
          26.339806,
          40.5246711,
          33.97917929999999,
          42.36837,
          43.0389025,
          47.3073228,
          33.9204354,
          42.5584283,
          47.4828776,
          39.5807452,
          37.5407246,
          40.1053196,
          33.929460600000006,
          30.4393696,
          40.7439905,
          38.040583700000006,
          33.9022367,
          32.6926512,
          34.1283442,
          41.9125286,
          41.525031,
          34.9248667,
          38.5890723,
          42.3369816,
          21.3069444,
          28.8052674,
          41.9445441,
          33.0151201,
          32.975641499999995,
          41.632223,
          42.0629915,
          42.7262016,
          27.044224,
          39.0839973,
          34.18083920000001,
          33.8703596,
          44.0247062,
          30.723526300000003,
          42.4989936,
          33.9830688,
          33.8583483,
          34.0200114,
          39.0638705,
          36.3955891,
          37.3382082,
          30.508255100000003,
          45.072464200000006,
          35.2225668,
          25.4687224,
          29.529399800000004,
          33.6839473,
          42.8713032,
          37.6138253,
          43.7508284,
          32.5159852,
          30.505198,
          33.9304352,
          40.1164204,
          40.8584328,
          35.339507899999994,
          39.0169509,
          34.6867846,
          30.6743643,
          32.82346210000001,
          26.5628537,
          37.3229978,
          42.4500845,
          37.0057816,
          42.995639700000005,
          36.8529263,
          38.8402805,
          42.3875968,
          27.9094665,
          36.7468422,
          32.4709761,
          41.8505874,
          26.8233946,
          41.878711,
          34.0961111,
          36.0998596,
          34.07537620000001,
          38.8106075,
          37.4852152,
          37.59339179999999,
          25.9812024,
          44.1635775,
          33.5676842,
          33.6971468,
          40.397761200000005,
          42.1211364,
          41.8239891,
          25.8575963,
          37.7799273,
          34.0633443,
          47.6814875,
          37.0965278,
          32.216316,
          34.1425078,
          41.5381535,
          33.8883487,
          42.1250929,
          42.0354084,
          33.0198431,
          40.1672068,
          32.9545687,
          41.481993200000005,
          35.8422967,
          30.627977,
          42.3222599,
          43.100903,
          32.5093109,
          39.2903848,
          37.20895720000001,
          34.2284312,
          40.6337136,
          42.466763,
          44.923855200000006,
          29.6516344,
          38.5804609,
          47.6162683,
          25.9564812,
          36.0625795,
          37.9735346,
          35.0886963,
          47.2528768,
          41.5623209,
          44.4758825,
          42.5629668,
          33.635661799999994,
          40.7127837,
          34.2694474,
          34.0686208,
          39.372212100000006,
          30.8327022,
          32.7554883,
          33.8316745,
          37.9715592,
          34.953033700000006,
          36.0331164,
          32.7678287,
          39.8366528,
          40.3356483,
          37.4946568,
          40.42331420000001,
          32.351260100000005,
          28.5652787,
          31.549333,
          38.0193657,
          34.1705609,
          34.1336186,
          41.18654779999999,
          44.9597376,
          38.6631083,
          26.6276276,
          46.2395793,
          33.835849200000006,
          43.07305170000001,
          42.6827885,
          42.3636331,
          36.9685219,
          32.735687,
          33.046233,
          36.7280583,
          37.9974219,
          37.4418834,
          44.0462362,
          41.6362152,
          47.6739881,
          37.931868,
          38.5449065,
          33.9172357,
          35.9828412,
          40.5186809,
          31.2232313,
          40.767323,
          41.5731442,
          30.396031800000003,
          40.1105875,
          33.7739053,
          33.930293,
          39.8961821,
          40.7989473,
          33.8651033,
          30.4582829,
          41.6717648,
          39.0911161,
          42.732535,
          41.6303103,
          39.4863773,
          44.519159,
          42.0450722,
          28.5691677,
          34.0522342,
          47.3223221,
          40.6096698,
          34.033625,
          40.4406248,
          33.9401088,
          41.8455877,
          33.954737,
          30.1588129,
          37.0842271,
          29.5074538,
          40.7607793,
          27.446705600000005,
          33.4483771,
          44.5645659,
          32.5884689,
          42.14870429999999,
          29.1871986,
          34.0232431,
          42.0111412,
          43.2081366,
          47.0378741,
          33.660297,
          27.8005828,
          42.7762015,
          41.9994722,
          42.3736158,
          33.538652299999995,
          33.802515500000005,
          33.0185039,
          41.5236437,
          26.3683064,
          41.6612104,
          42.4972583,
          41.5200518,
          45.5001357,
          26.1403635,
          36.3047735,
          37.3541079,
          33.1958696,
          33.6469661,
          42.48059,
          40.7878788,
          42.40843,
          40.6220478,
          35.5950581,
          33.8958492
         ],
         "legendgroup": "",
         "lon": [
          -122.1770818,
          -117.2286478,
          -81.6943605,
          -71.8022934,
          -81.0348144,
          -73.0514965,
          -93.1668858,
          -83.2218731,
          -92.0198427,
          -116.2146068,
          -85.9766671,
          -117.9981181,
          -84.5499327,
          -104.7613633,
          -80.0533746,
          -70.8967155,
          -88.3200715,
          -77.5636015,
          -80.3553302,
          -117.9939921,
          -101.8551665,
          -94.6707917,
          -90.1848103,
          -81.1873005,
          -81.02283309999999,
          -94.5785667,
          -118.3870173,
          -93.2777226,
          -96.56388,
          -104.5230242,
          -86.2999689,
          -111.8338359,
          -71.1522765,
          -75.4901833,
          -79.82842579999999,
          -84.9877094,
          -78.8783689,
          -88.10842240000001,
          -97.2289029,
          -84.1052256,
          -121.4943996,
          -94.3985475,
          -71.37005450000001,
          -93.7121656,
          -73.8370786,
          -105.08137340000002,
          -114.9817213,
          -117.8903397,
          -73.53873409999999,
          -86.5263857,
          -82.5618186,
          -117.4260466,
          -119.1372338,
          -75.1652215,
          -122.4781473,
          -119.2920585,
          -91.2395807,
          -95.8608333,
          -80.2258811,
          -96.7969879,
          -121.805789,
          -83.0302033,
          -80.0997657,
          -86.01335,
          -104.8202462,
          -117.2139232,
          -94.7335709,
          -86.0085955,
          -90.0125913,
          -117.688944,
          -77.2013705,
          -117.9536697,
          -77.41054090000002,
          -77.3663538,
          -88.7503647,
          -88.0070315,
          -104.9719243,
          -93.711332,
          -71.1550451,
          -119.3473379,
          -117.0841955,
          -80.27060440000001,
          -80.579511,
          -84.51437609999999,
          -81.53221490000001,
          -97.0328547,
          -82.59932940000002,
          -88.15353520000001,
          -80.1494901,
          -94.1185366,
          -90.0715323,
          -122.518458,
          -87.7479528,
          -116.6873596,
          -122.6764816,
          -122.0310733,
          -122.3467918,
          -90.4974359,
          -88.2314813,
          -111.651302,
          -122.29289740000002,
          -73.93956870000001,
          -104.990251,
          -89.6501481,
          -121.9499568,
          -117.2296717,
          -84.16882740000001,
          -83.17853609999999,
          -114.3224548,
          -92.2670941,
          -119.8138027,
          -105.0166498,
          -112.4685025,
          -121.9357918,
          -94.0476882,
          -70.2553259,
          -93.3563405,
          -72.94697109999998,
          -115.5630514,
          -96.8928309,
          -83.6874562,
          -121.88468059999998,
          -112.58377659999998,
          -117.9000604,
          -116.2155619,
          -111.9260519,
          -82.9987942,
          -76.3055144,
          -96.6851982,
          -74.74293840000001,
          -71.0588801,
          -117.865339,
          -92.4801989,
          -90.322614,
          -76.4921829,
          -79.05584449999999,
          -86.0252612,
          -115.4988834,
          -87.5294871,
          -113.996586,
          -119.7029194,
          -95.2860474,
          -111.789027,
          -89.6301221,
          -78.6381787,
          -117.8531119,
          -122.0651819,
          -122.6329356,
          -119.0167679,
          -111.2224422,
          -84.2807329,
          -95.4560512,
          -80.4139393,
          -98.4936282,
          -72.6850932,
          -92.3425775,
          -75.9179738,
          -116.3915131,
          -88.44705079999999,
          -94.9774274,
          -78.78111690000001,
          -70.94103559999999,
          -95.992775,
          -98.3252932,
          -81.48455849999999,
          -71.066163,
          -96.6705503,
          -110.926479,
          -86.86888990000001,
          -93.5272861,
          -81.655651,
          -74.4229266,
          -80.085059,
          -120.48296770000002,
          -99.7331439,
          -117.8131125,
          -82.3940104,
          -80.8428504,
          -82.8963604,
          -76.88670079999999,
          -119.22903159999998,
          -121.9885719,
          -104.6091409,
          -71.03282840000001,
          -89.98399350000001,
          -93.2650108,
          -89.8739753,
          -98.4933873,
          -95.5377215,
          -90.1994042,
          -98.1836216,
          -106.6055534,
          -83.357567,
          -111.929658,
          -115.1175013,
          -117.7499909,
          -117.5848025,
          -83.09296440000001,
          -95.2352501,
          -102.0779146,
          -97.5164276,
          -110.96648799999998,
          -111.8314724,
          -73.4081575,
          -85.6447492,
          -88.1064787,
          -96.4597089,
          -86.15861559999999,
          -117.826166,
          -94.1632404,
          -74.12847640000001,
          -117.086421,
          -122.4110835,
          -122.272747,
          -117.6119925,
          -98.3959291,
          -91.4984941,
          -112.0476423,
          -96.8570738,
          -85.13935129999999,
          -122.3415178,
          -71.10616390000001,
          -117.94617340000002,
          -73.7562317,
          -122.47020790000002,
          -83.2696509,
          -79.1422464,
          -76.77913649999999,
          -73.45401109999999,
          -78.4766781,
          -80.2683838,
          -116.7804664,
          -118.0275667,
          -88.3161965,
          -121.9999606,
          -112.3576567,
          -74.171811,
          -123.0350963,
          -81.40757099999999,
          -83.9508068,
          -97.4974838,
          -97.0969552,
          -97.0780654,
          -93.3499489,
          -83.0457538,
          -84.56031870000001,
          -97.1416768,
          -77.61092190000001,
          -86.80249,
          -97.7430608,
          -119.6981901,
          -87.9889556,
          -106.6630437,
          -88.99063120000001,
          -88.0895061,
          -93.3030063,
          -122.3255254,
          -81.3792365,
          -106.313081,
          -97.1430671,
          -77.9447102,
          -82.6995443,
          -80.1625463,
          -94.6274636,
          -71.8022955,
          -87.92895909999999,
          -71.2092214,
          -80.18671379999999,
          -72.07591049999999,
          -74.1723667,
          -92.4451371,
          -93.2349489,
          -97.6961026,
          -120.4579409,
          -97.1330683,
          -94.7976958,
          -86.10665259999999,
          -121.6555013,
          -80.2456045,
          -82.445154,
          -99.4803241,
          -80.6081089,
          -97.2691817,
          -80.5886646,
          -77.91553950000001,
          -111.880771,
          -120.9577098,
          -81.72290859999998,
          -103.2310149,
          -118.1514588,
          -104.9338675,
          -72.589811,
          -105.084423,
          -122.1560768,
          -117.2425355,
          -73.8987469,
          -84.5120196,
          -77.7199932,
          -81.269453,
          -74.2631635,
          -83.555212,
          -110.27728559999998,
          -76.4730122,
          -87.5000412,
          -87.9631308,
          -95.6349463,
          -86.5861037,
          -121.2722194,
          -122.3773552,
          -96.9083366,
          -77.7905339,
          -83.2910468,
          -117.0991967,
          -122.0807964,
          -79.03773879999999,
          -119.7526886,
          -119.6456844,
          -118.0372852,
          -80.6495194,
          -86.7483318,
          -117.1825381,
          -89.51814759999999,
          -116.5634624,
          -77.03687070000001,
          -88.1070127,
          -96.7561082,
          -117.3703235,
          -96.7898034,
          -89.58898640000001,
          -95.9979883,
          -117.603104,
          -96.5716694,
          -116.54529209999998,
          -117.1610838,
          -122.7140548,
          -71.3161718,
          -95.7974526,
          -122.2348431,
          -86.78160159999999,
          -74.0434736,
          -105.0866504,
          -78.898619,
          -97.336111,
          -116.4668036,
          -93.24272,
          -87.9403418,
          -97.9908366,
          -88.0125865,
          -122.0363496,
          -122.0307963,
          -87.8211854,
          -77.8600012,
          -82.51544709999999,
          -91.4098726,
          -80.1247667,
          -100.4370375,
          -88.9936873,
          -121.4252227,
          -81.93204820000001,
          -71.467566,
          -83.6324022,
          -73.6187397,
          -75.1196199,
          -116.3744556,
          -88.1784085,
          -76.2874927,
          -83.11407709999999,
          -119.0376023,
          -86.2483921,
          -74.2107006,
          -149.90027780000003,
          -101.2922906,
          -80.2521157,
          -98.2300124,
          -96.6397822,
          -97.7277959,
          -83.6499321,
          -122.27111370000002,
          -122.0838511,
          -117.3272615,
          -101.8312969,
          -111.6585337,
          -84.3879824,
          -118.1228476,
          -81.83569,
          -120.0607176,
          -88.9548001,
          -71.5147839,
          -88.0398912,
          -122.25663670000002,
          -118.0353449,
          -89.66452659999999,
          -92.1735164,
          -94.7404891,
          -111.8412502,
          -105.0874842,
          -118.1270146,
          -86.13360329999999,
          -80.13198929999999,
          -86.158068,
          -80.0905465,
          -111.5495777,
          -87.9372908,
          -71.4372796,
          -86.8752869,
          -94.8191285,
          -84.19857900000001,
          -79.79197540000001,
          -85.5872286,
          -122.7714861,
          -77.43024140000001,
          -121.2810611,
          -87.5691735,
          -93.6001278,
          -118.3525748,
          -86.8113781,
          -80.07282009999999,
          -80.2683571,
          -114.5285981,
          -80.3997748,
          -83.1497751,
          -73.78235490000002,
          -121.29077959999998,
          -83.1446485,
          -80.8075537,
          -117.7075526,
          -117.2393748,
          -117.9186689,
          -96.9977846,
          -76.29827420000001,
          -122.8231915,
          -78.85028559999999,
          -96.4003069,
          -117.2919818,
          -111.654923,
          -118.2250725,
          -93.470786,
          -112.2373779,
          -111.9400054,
          -75.5397878,
          -111.9388258,
          -83.400211,
          -96.5991593,
          -79.43779909999999,
          -96.6388833,
          -122.3477486,
          -100.7837392,
          -119.7674034,
          -95.3696909,
          -82.0105148,
          -78.87835849999999,
          -84.155741,
          -74.360846,
          -122.0402399,
          -117.8103367,
          -86.9833417,
          -85.3096801,
          -85.7371847,
          -88.1856301,
          -117.96089779999998,
          -80.1300455,
          -88.8139469,
          -93.939947,
          -120.6596156,
          -97.3208492,
          -117.9289469,
          -111.9391023,
          -120.5058987,
          -84.1916069,
          -89.0928155,
          -118.1937395,
          -121.8374777,
          -89.2903392,
          -123.08675359999998,
          -117.3136547,
          -118.1137535,
          -121.8746789,
          -122.2020794,
          -97.9297743,
          -122.0399663,
          -112.3496021,
          -81.5267873,
          -85.17971419999999,
          -93.2982799,
          -90.5787476,
          -122.8037102,
          -90.2417434,
          -103.2052272,
          -73.69178509999999,
          -121.8995741,
          -87.88339909999999,
          -117.8703363,
          -71.08976740000001,
          -117.6897776,
          -82.35347270000001,
          -81.0998342,
          -80.81841659999999,
          -122.6614861,
          -80.25659499999999,
          -85.3863599,
          -111.8507662,
          -122.4194155,
          -117.435048,
          -96.8236116,
          -117.7325848,
          -117.0358646,
          -84.1246608,
          -74.4518188,
          -76.28587259999999,
          -122.989827,
          -116.95863500000002,
          -87.2169149,
          -84.5613355,
          -79.7625625,
          -117.2897652,
          -84.2214551,
          -117.2927641,
          -87.3464271,
          -111.7573521,
          -121.6543901,
          -90.6645718,
          -76.1474244,
          -87.3594528,
          -81.9498042,
          -73.7084645,
          -75.5243682,
          -96.7678039,
          -118.3964665,
          -88.03424,
          -122.33207079999998,
          -84.5085536,
          -121.3716178,
          -93.7501789,
          -111.9738304,
          -78.8689155,
          -118.3531311,
          -118.1445155,
          -71.1631137,
          -122.6706498,
          -122.6366524,
          -83.8088171,
          -122.286865,
          -104.8319195,
          -92.1004852,
          -79.9414266,
          -121.3153096,
          -117.1858759,
          -71.2356113,
          -81.87230840000001,
          -82.4571776,
          -117.6483876,
          -79.3950228,
          -89.0317765,
          -80.23310359999999,
          -104.8213634,
          -120.9968782,
          -85.6680863,
          -87.7845025,
          -82.5306527,
          -117.4854802,
          -118.1170117,
          -105.2705456,
          -105.937799,
          -116.173894,
          -71.55228740000001,
          -117.3961564,
          -118.11646129999998,
          -122.5697032,
          -111.9710529,
          -88.0683955,
          -117.6719953,
          -87.7878408,
          -121.29300790000002,
          -121.17605829999998,
          -112.315721,
          -106.7636538,
          -111.0429339,
          -88.0834059,
          -83.01465259999999,
          -90.6298922,
          -93.62,
          -112.3679279,
          -96.7298519,
          -84.24721159999999,
          -97.9413941,
          -75.88130749999999,
          -88.4153847,
          -94.7151865,
          -81.339552,
          -121.7680088,
          -80.8431267,
          -87.1111676,
          -80.09420870000001,
          -122.70109840000002,
          -87.62979820000001,
          -108.5006904,
          -88.0075875,
          -88.0078435,
          -72.9278835,
          -76.727745,
          -83.9207392,
          -82.10764859999999,
          -70.3002024,
          -111.8879909,
          -122.2416355,
          -121.21605259999998,
          -92.9952153,
          -122.8755949,
          -86.39027,
          -121.6169108,
          -73.0931641,
          -92.4453161,
          -89.8100858,
          -75.66241219999999,
          -85.48078249999999,
          -77.4752667,
          -121.9877444,
          -118.4911912,
          -76.5835621,
          -83.14993220000001,
          -116.3100095,
          -81.6326234,
          -119.2470536,
          -81.2811801,
          -79.9310512,
          -80.62173409999998,
          -117.5664384,
          -121.2357828,
          -94.3821724,
          -81.2078699,
          -111.8389726,
          -94.2088172,
          -118.542586,
          -81.36562420000001,
          -98.1244531,
          -90.0489801,
          -96.9488945,
          -77.0469214,
          -117.3008784,
          -72.61620090000001,
          -84.3346473,
          -87.7416246,
          -74.1454214,
          -75.3704579,
          -94.846681,
          -118.3884078,
          -95.3698028,
          -117.1483648,
          -83.7430378,
          -94.1265562,
          -84.48386540000001,
          -116.97391670000002,
          -80.2497707,
          -95.9145568,
          -80.2962555,
          -94.1288141,
          -119.17705159999998,
          -102.3676431,
          -97.0583681,
          -71.0183787,
          -74.11430909999999,
          -118.15979109999998,
          -90.5151342,
          -88.70365600000001,
          -84.8766115,
          -74.0776417,
          -93.0899578,
          -81.2636738,
          -73.58318349999999,
          -91.5301683,
          -117.9145036,
          -93.21772,
          -111.2833449,
          -112.0010501,
          -76.3452218,
          -97.6779842,
          -111.69464750000002,
          -118.0019482,
          -97.229298,
          -80.03258670000001,
          -92.2895948,
          -117.8678338,
          -73.76290970000001,
          -112.0339645,
          -122.2006786,
          -121.28800590000002,
          -74.2654234,
          -70.92866090000001,
          -98.3420118,
          -92.3340724,
          -87.78285229999999,
          -86.1180435,
          -85.5800022,
          -84.39827629999999,
          -121.7732971,
          -71.0119948,
          -97.0819541,
          -87.9806265,
          -116.9719684,
          -80.0053176,
          -82.4012642,
          -97.3967019,
          -117.1661449,
          -80.9956105,
          -118.1339563,
          -82.9290696,
          -89.09399520000001,
          -116.9625269,
          -82.64,
          -88.01117459999999,
          -73.064036,
          -123.1059282,
          -115.13982959999998,
          -95.2091006,
          -80.3582261,
          -91.6656232,
          -81.05588940000001,
          -71.0022705,
          -80.3035602,
          -106.4424559,
          -95.6890185,
          -118.072846,
          -123.0262077,
          -93.4687489,
          -81.51900529999999,
          -98.1633432,
          -117.5931084,
          -79.9748103,
          -85.7584557,
          -121.7568946,
          -80.17893509999999,
          -82.5748194,
          -117.3505939,
          -94.9027002,
          -122.3916754,
          -85.7053085,
          -82.18237459999999,
          -112.0263313,
          -80.13731740000001,
          -83.624201,
          -82.8001026,
          -80.3468593,
          -87.677251,
          -87.4139092,
          -97.342782,
          -84.0632685,
          -96.7311034,
          -85.9213796,
          -80.206436,
          -71.759794,
          -71.4161671,
          -119.0187125,
          -80.1917902,
          -93.2173758,
          -119.2844621,
          -81.3444573,
          -122.4077498,
          -93.4555093,
          -86.25198979999999,
          -97.4780954,
          -93.6091064,
          -81.77869720000001,
          -111.8638226,
          -118.032844,
          -83.3527097,
          -87.9064736,
          -122.22845320000002,
          -80.3414693,
          -70.880049,
          -122.21706609999998,
          -104.8771726,
          -77.4360481,
          -85.6802541,
          -116.977248,
          -97.6200043,
          -74.0323626,
          -84.50371640000002,
          -118.081733,
          -114.6276916,
          -117.2086513,
          -88.1347927,
          -88.0817251,
          -81.02507840000001,
          -121.302728,
          -83.2732627,
          -157.8583333,
          -97.0035982,
          -71.2856082,
          -96.5388789,
          -96.8899636,
          -88.2120315,
          -88.1227199,
          -71.19089240000001,
          -82.23592540000001,
          -77.1527578,
          -118.30896609999998,
          -117.9242966,
          -88.5426136,
          -95.5507771,
          -83.3677168,
          -118.096735,
          -118.0647871,
          -117.9495083,
          -108.5506486,
          -97.8783911,
          -121.88632859999998,
          -97.678896,
          -93.4557877,
          -97.4394777,
          -80.4775569,
          -95.2010447,
          -117.7946942,
          -112.4455344,
          -122.48691940000002,
          -87.71453000000001,
          -93.7321228,
          -97.8202888,
          -84.3733147,
          -88.2433829,
          -74.16375529999999,
          -97.4867028,
          -94.2816148,
          -118.1541632,
          -96.3699632,
          -97.1705678,
          -81.94953309999998,
          -122.0321823,
          -73.2453824,
          -121.5682751,
          -71.4547891,
          -75.977985,
          -97.6114237,
          -71.0994968,
          -82.7873244,
          -119.7725868,
          -85.0007653,
          -87.79366850000001,
          -80.1386547,
          -71.38255579999999,
          -118.1058333,
          -80.24421600000001,
          -84.2940899,
          -90.6998477,
          -122.2363548,
          -122.0438298,
          -80.148379,
          -93.9993996,
          -117.7256083,
          -117.185294,
          -105.0749801,
          -88.2578582,
          -71.4128343,
          -80.2781057,
          -121.9780153,
          -117.6508876,
          -122.2087353,
          -113.5684164,
          -80.752608,
          -118.255075,
          -72.8070435,
          -118.3089624,
          -72.749538,
          -88.2825668,
          -96.6988856,
          -105.1019275,
          -97.0150078,
          -81.7981908,
          -90.704279,
          -96.3344068,
          -83.1763145,
          -75.232664,
          -92.1193012,
          -76.6121893,
          -93.2922989,
          -92.0031955,
          -74.40737359999999,
          -70.9494938,
          -92.9593797,
          -82.3248262,
          -121.530234,
          -122.0355736,
          -80.1392121,
          -94.1574263,
          -122.5310874,
          -92.4421011,
          -122.4442906,
          -72.6506488,
          -73.21207199999999,
          -114.4608711,
          -96.6088805,
          -74.00594129999999,
          -118.781482,
          -117.93895259999998,
          -104.8560902,
          -83.2784851,
          -97.3307658,
          -118.281693,
          -87.5710898,
          -120.4357191,
          -86.7827772,
          -117.02308390000002,
          -105.03720459999998,
          -75.9268747,
          -120.8465941,
          -104.7091322,
          -95.3010624,
          -81.5861847,
          -97.1466695,
          -122.1341321,
          -118.8375937,
          -117.9075627,
          -73.1951767,
          -93.3702186,
          -90.5770675,
          -80.1353896,
          -119.10056570000002,
          -118.3406288,
          -89.4012302,
          -89.01872220000001,
          -87.84479379999999,
          -86.48080429999999,
          -97.1080656,
          -96.994174,
          -108.2186856,
          -121.7124536,
          -122.1430195,
          -123.0220289,
          -70.934205,
          -122.121512,
          -121.6957863,
          -121.7405167,
          -118.0120086,
          -86.51860450000001,
          -78.3947359,
          -85.39048879999999,
          -74.20486770000001,
          -87.7932939,
          -88.88530779999999,
          -88.2072697,
          -117.9414477,
          -118.21146029999998,
          -104.9811468,
          -81.378447,
          -84.3365917,
          -91.1403196,
          -72.9492703,
          -94.4155068,
          -84.55553470000001,
          -87.8539425,
          -75.0259637,
          -88.019826,
          -87.6876969,
          -81.5439619,
          -118.24368490000002,
          -122.3126222,
          -111.9391031,
          -117.0430865,
          -79.9958864,
          -118.1331593,
          -87.7539448,
          -118.2120161,
          -85.6602058,
          -94.513281,
          -95.0949303,
          -111.89104740000002,
          -80.3256056,
          -112.0740373,
          -123.2620435,
          -96.9561152,
          -72.6078672,
          -82.14009229999999,
          -84.36155550000001,
          -87.8406192,
          -71.5375718,
          -122.9006951,
          -117.9992265,
          -97.396381,
          -71.0772796,
          -88.1450735,
          -71.10973349999999,
          -112.1859866,
          -117.9931165,
          -80.17564809999999,
          -90.5776367,
          -80.1289321,
          -72.77954190000001,
          -82.93714090000002,
          -81.556235,
          -122.4302013,
          -80.2133808,
          -86.6199957,
          -121.9552356,
          -117.3794834,
          -117.689218,
          -83.47549129999999,
          -74.0143064,
          -71.0536625,
          -74.2445902,
          -82.5514869,
          -118.2200712
         ],
         "marker": {
          "color": "fuchsia"
         },
         "mode": "markers",
         "name": "",
         "showlegend": false,
         "subplot": "mapbox",
         "type": "scattermapbox"
        }
       ],
       "layout": {
        "autosize": true,
        "legend": {
         "tracegroupgap": 0
        },
        "mapbox": {
         "center": {
          "lat": 37.3382407015,
          "lon": -96.4830233607
         },
         "domain": {
          "x": [
           0,
           1
          ],
          "y": [
           0,
           1
          ]
         },
         "style": "open-street-map",
         "zoom": 3
        },
        "margin": {
         "b": 0,
         "l": 0,
         "r": 0,
         "t": 0
        },
        "template": {
         "data": {
          "bar": [
           {
            "error_x": {
             "color": "#2a3f5f"
            },
            "error_y": {
             "color": "#2a3f5f"
            },
            "marker": {
             "line": {
              "color": "#E5ECF6",
              "width": 0.5
             },
             "pattern": {
              "fillmode": "overlay",
              "size": 10,
              "solidity": 0.2
             }
            },
            "type": "bar"
           }
          ],
          "barpolar": [
           {
            "marker": {
             "line": {
              "color": "#E5ECF6",
              "width": 0.5
             },
             "pattern": {
              "fillmode": "overlay",
              "size": 10,
              "solidity": 0.2
             }
            },
            "type": "barpolar"
           }
          ],
          "carpet": [
           {
            "aaxis": {
             "endlinecolor": "#2a3f5f",
             "gridcolor": "white",
             "linecolor": "white",
             "minorgridcolor": "white",
             "startlinecolor": "#2a3f5f"
            },
            "baxis": {
             "endlinecolor": "#2a3f5f",
             "gridcolor": "white",
             "linecolor": "white",
             "minorgridcolor": "white",
             "startlinecolor": "#2a3f5f"
            },
            "type": "carpet"
           }
          ],
          "choropleth": [
           {
            "colorbar": {
             "outlinewidth": 0,
             "ticks": ""
            },
            "type": "choropleth"
           }
          ],
          "contour": [
           {
            "colorbar": {
             "outlinewidth": 0,
             "ticks": ""
            },
            "colorscale": [
             [
              0,
              "#0d0887"
             ],
             [
              0.1111111111111111,
              "#46039f"
             ],
             [
              0.2222222222222222,
              "#7201a8"
             ],
             [
              0.3333333333333333,
              "#9c179e"
             ],
             [
              0.4444444444444444,
              "#bd3786"
             ],
             [
              0.5555555555555556,
              "#d8576b"
             ],
             [
              0.6666666666666666,
              "#ed7953"
             ],
             [
              0.7777777777777778,
              "#fb9f3a"
             ],
             [
              0.8888888888888888,
              "#fdca26"
             ],
             [
              1,
              "#f0f921"
             ]
            ],
            "type": "contour"
           }
          ],
          "contourcarpet": [
           {
            "colorbar": {
             "outlinewidth": 0,
             "ticks": ""
            },
            "type": "contourcarpet"
           }
          ],
          "heatmap": [
           {
            "colorbar": {
             "outlinewidth": 0,
             "ticks": ""
            },
            "colorscale": [
             [
              0,
              "#0d0887"
             ],
             [
              0.1111111111111111,
              "#46039f"
             ],
             [
              0.2222222222222222,
              "#7201a8"
             ],
             [
              0.3333333333333333,
              "#9c179e"
             ],
             [
              0.4444444444444444,
              "#bd3786"
             ],
             [
              0.5555555555555556,
              "#d8576b"
             ],
             [
              0.6666666666666666,
              "#ed7953"
             ],
             [
              0.7777777777777778,
              "#fb9f3a"
             ],
             [
              0.8888888888888888,
              "#fdca26"
             ],
             [
              1,
              "#f0f921"
             ]
            ],
            "type": "heatmap"
           }
          ],
          "heatmapgl": [
           {
            "colorbar": {
             "outlinewidth": 0,
             "ticks": ""
            },
            "colorscale": [
             [
              0,
              "#0d0887"
             ],
             [
              0.1111111111111111,
              "#46039f"
             ],
             [
              0.2222222222222222,
              "#7201a8"
             ],
             [
              0.3333333333333333,
              "#9c179e"
             ],
             [
              0.4444444444444444,
              "#bd3786"
             ],
             [
              0.5555555555555556,
              "#d8576b"
             ],
             [
              0.6666666666666666,
              "#ed7953"
             ],
             [
              0.7777777777777778,
              "#fb9f3a"
             ],
             [
              0.8888888888888888,
              "#fdca26"
             ],
             [
              1,
              "#f0f921"
             ]
            ],
            "type": "heatmapgl"
           }
          ],
          "histogram": [
           {
            "marker": {
             "pattern": {
              "fillmode": "overlay",
              "size": 10,
              "solidity": 0.2
             }
            },
            "type": "histogram"
           }
          ],
          "histogram2d": [
           {
            "colorbar": {
             "outlinewidth": 0,
             "ticks": ""
            },
            "colorscale": [
             [
              0,
              "#0d0887"
             ],
             [
              0.1111111111111111,
              "#46039f"
             ],
             [
              0.2222222222222222,
              "#7201a8"
             ],
             [
              0.3333333333333333,
              "#9c179e"
             ],
             [
              0.4444444444444444,
              "#bd3786"
             ],
             [
              0.5555555555555556,
              "#d8576b"
             ],
             [
              0.6666666666666666,
              "#ed7953"
             ],
             [
              0.7777777777777778,
              "#fb9f3a"
             ],
             [
              0.8888888888888888,
              "#fdca26"
             ],
             [
              1,
              "#f0f921"
             ]
            ],
            "type": "histogram2d"
           }
          ],
          "histogram2dcontour": [
           {
            "colorbar": {
             "outlinewidth": 0,
             "ticks": ""
            },
            "colorscale": [
             [
              0,
              "#0d0887"
             ],
             [
              0.1111111111111111,
              "#46039f"
             ],
             [
              0.2222222222222222,
              "#7201a8"
             ],
             [
              0.3333333333333333,
              "#9c179e"
             ],
             [
              0.4444444444444444,
              "#bd3786"
             ],
             [
              0.5555555555555556,
              "#d8576b"
             ],
             [
              0.6666666666666666,
              "#ed7953"
             ],
             [
              0.7777777777777778,
              "#fb9f3a"
             ],
             [
              0.8888888888888888,
              "#fdca26"
             ],
             [
              1,
              "#f0f921"
             ]
            ],
            "type": "histogram2dcontour"
           }
          ],
          "mesh3d": [
           {
            "colorbar": {
             "outlinewidth": 0,
             "ticks": ""
            },
            "type": "mesh3d"
           }
          ],
          "parcoords": [
           {
            "line": {
             "colorbar": {
              "outlinewidth": 0,
              "ticks": ""
             }
            },
            "type": "parcoords"
           }
          ],
          "pie": [
           {
            "automargin": true,
            "type": "pie"
           }
          ],
          "scatter": [
           {
            "fillpattern": {
             "fillmode": "overlay",
             "size": 10,
             "solidity": 0.2
            },
            "type": "scatter"
           }
          ],
          "scatter3d": [
           {
            "line": {
             "colorbar": {
              "outlinewidth": 0,
              "ticks": ""
             }
            },
            "marker": {
             "colorbar": {
              "outlinewidth": 0,
              "ticks": ""
             }
            },
            "type": "scatter3d"
           }
          ],
          "scattercarpet": [
           {
            "marker": {
             "colorbar": {
              "outlinewidth": 0,
              "ticks": ""
             }
            },
            "type": "scattercarpet"
           }
          ],
          "scattergeo": [
           {
            "marker": {
             "colorbar": {
              "outlinewidth": 0,
              "ticks": ""
             }
            },
            "type": "scattergeo"
           }
          ],
          "scattergl": [
           {
            "marker": {
             "colorbar": {
              "outlinewidth": 0,
              "ticks": ""
             }
            },
            "type": "scattergl"
           }
          ],
          "scattermapbox": [
           {
            "marker": {
             "colorbar": {
              "outlinewidth": 0,
              "ticks": ""
             }
            },
            "type": "scattermapbox"
           }
          ],
          "scatterpolar": [
           {
            "marker": {
             "colorbar": {
              "outlinewidth": 0,
              "ticks": ""
             }
            },
            "type": "scatterpolar"
           }
          ],
          "scatterpolargl": [
           {
            "marker": {
             "colorbar": {
              "outlinewidth": 0,
              "ticks": ""
             }
            },
            "type": "scatterpolargl"
           }
          ],
          "scatterternary": [
           {
            "marker": {
             "colorbar": {
              "outlinewidth": 0,
              "ticks": ""
             }
            },
            "type": "scatterternary"
           }
          ],
          "surface": [
           {
            "colorbar": {
             "outlinewidth": 0,
             "ticks": ""
            },
            "colorscale": [
             [
              0,
              "#0d0887"
             ],
             [
              0.1111111111111111,
              "#46039f"
             ],
             [
              0.2222222222222222,
              "#7201a8"
             ],
             [
              0.3333333333333333,
              "#9c179e"
             ],
             [
              0.4444444444444444,
              "#bd3786"
             ],
             [
              0.5555555555555556,
              "#d8576b"
             ],
             [
              0.6666666666666666,
              "#ed7953"
             ],
             [
              0.7777777777777778,
              "#fb9f3a"
             ],
             [
              0.8888888888888888,
              "#fdca26"
             ],
             [
              1,
              "#f0f921"
             ]
            ],
            "type": "surface"
           }
          ],
          "table": [
           {
            "cells": {
             "fill": {
              "color": "#EBF0F8"
             },
             "line": {
              "color": "white"
             }
            },
            "header": {
             "fill": {
              "color": "#C8D4E3"
             },
             "line": {
              "color": "white"
             }
            },
            "type": "table"
           }
          ]
         },
         "layout": {
          "annotationdefaults": {
           "arrowcolor": "#2a3f5f",
           "arrowhead": 0,
           "arrowwidth": 1
          },
          "autotypenumbers": "strict",
          "coloraxis": {
           "colorbar": {
            "outlinewidth": 0,
            "ticks": ""
           }
          },
          "colorscale": {
           "diverging": [
            [
             0,
             "#8e0152"
            ],
            [
             0.1,
             "#c51b7d"
            ],
            [
             0.2,
             "#de77ae"
            ],
            [
             0.3,
             "#f1b6da"
            ],
            [
             0.4,
             "#fde0ef"
            ],
            [
             0.5,
             "#f7f7f7"
            ],
            [
             0.6,
             "#e6f5d0"
            ],
            [
             0.7,
             "#b8e186"
            ],
            [
             0.8,
             "#7fbc41"
            ],
            [
             0.9,
             "#4d9221"
            ],
            [
             1,
             "#276419"
            ]
           ],
           "sequential": [
            [
             0,
             "#0d0887"
            ],
            [
             0.1111111111111111,
             "#46039f"
            ],
            [
             0.2222222222222222,
             "#7201a8"
            ],
            [
             0.3333333333333333,
             "#9c179e"
            ],
            [
             0.4444444444444444,
             "#bd3786"
            ],
            [
             0.5555555555555556,
             "#d8576b"
            ],
            [
             0.6666666666666666,
             "#ed7953"
            ],
            [
             0.7777777777777778,
             "#fb9f3a"
            ],
            [
             0.8888888888888888,
             "#fdca26"
            ],
            [
             1,
             "#f0f921"
            ]
           ],
           "sequentialminus": [
            [
             0,
             "#0d0887"
            ],
            [
             0.1111111111111111,
             "#46039f"
            ],
            [
             0.2222222222222222,
             "#7201a8"
            ],
            [
             0.3333333333333333,
             "#9c179e"
            ],
            [
             0.4444444444444444,
             "#bd3786"
            ],
            [
             0.5555555555555556,
             "#d8576b"
            ],
            [
             0.6666666666666666,
             "#ed7953"
            ],
            [
             0.7777777777777778,
             "#fb9f3a"
            ],
            [
             0.8888888888888888,
             "#fdca26"
            ],
            [
             1,
             "#f0f921"
            ]
           ]
          },
          "colorway": [
           "#636efa",
           "#EF553B",
           "#00cc96",
           "#ab63fa",
           "#FFA15A",
           "#19d3f3",
           "#FF6692",
           "#B6E880",
           "#FF97FF",
           "#FECB52"
          ],
          "font": {
           "color": "#2a3f5f"
          },
          "geo": {
           "bgcolor": "white",
           "lakecolor": "white",
           "landcolor": "#E5ECF6",
           "showlakes": true,
           "showland": true,
           "subunitcolor": "white"
          },
          "hoverlabel": {
           "align": "left"
          },
          "hovermode": "closest",
          "mapbox": {
           "style": "light"
          },
          "paper_bgcolor": "white",
          "plot_bgcolor": "#E5ECF6",
          "polar": {
           "angularaxis": {
            "gridcolor": "white",
            "linecolor": "white",
            "ticks": ""
           },
           "bgcolor": "#E5ECF6",
           "radialaxis": {
            "gridcolor": "white",
            "linecolor": "white",
            "ticks": ""
           }
          },
          "scene": {
           "xaxis": {
            "backgroundcolor": "#E5ECF6",
            "gridcolor": "white",
            "gridwidth": 2,
            "linecolor": "white",
            "showbackground": true,
            "ticks": "",
            "zerolinecolor": "white"
           },
           "yaxis": {
            "backgroundcolor": "#E5ECF6",
            "gridcolor": "white",
            "gridwidth": 2,
            "linecolor": "white",
            "showbackground": true,
            "ticks": "",
            "zerolinecolor": "white"
           },
           "zaxis": {
            "backgroundcolor": "#E5ECF6",
            "gridcolor": "white",
            "gridwidth": 2,
            "linecolor": "white",
            "showbackground": true,
            "ticks": "",
            "zerolinecolor": "white"
           }
          },
          "shapedefaults": {
           "line": {
            "color": "#2a3f5f"
           }
          },
          "ternary": {
           "aaxis": {
            "gridcolor": "white",
            "linecolor": "white",
            "ticks": ""
           },
           "baxis": {
            "gridcolor": "white",
            "linecolor": "white",
            "ticks": ""
           },
           "bgcolor": "#E5ECF6",
           "caxis": {
            "gridcolor": "white",
            "linecolor": "white",
            "ticks": ""
           }
          },
          "title": {
           "x": 0.05
          },
          "xaxis": {
           "automargin": true,
           "gridcolor": "white",
           "linecolor": "white",
           "ticks": "",
           "title": {
            "standoff": 15
           },
           "zerolinecolor": "white",
           "zerolinewidth": 2
          },
          "yaxis": {
           "automargin": true,
           "gridcolor": "white",
           "linecolor": "white",
           "ticks": "",
           "title": {
            "standoff": 15
           },
           "zerolinecolor": "white",
           "zerolinewidth": 2
          }
         }
        }
       }
      },
      "text/html": [
       "<div>                            <div id=\"10e0b52e-4e75-4f3e-906a-1d33a99fc76c\" class=\"plotly-graph-div\" style=\"height:300px; width:100%;\"></div>            <script type=\"text/javascript\">                require([\"plotly\"], function(Plotly) {                    window.PLOTLYENV=window.PLOTLYENV || {};                                    if (document.getElementById(\"10e0b52e-4e75-4f3e-906a-1d33a99fc76c\")) {                    Plotly.newPlot(                        \"10e0b52e-4e75-4f3e-906a-1d33a99fc76c\",                        [{\"customdata\":[[\"Washington\",63269],[\"California\",72326],[\"Ohio\",390113],[\"Massachusetts\",182544],[\"South Carolina\",133358],[\"Connecticut\",109676],[\"Minnesota\",65453],[\"Michigan\",73006],[\"Louisiana\",124276],[\"Idaho\",214237],[\"Indiana\",51265],[\"California\",82882],[\"Georgia\",59089],[\"Colorado\",48608],[\"Florida\",102436],[\"Massachusetts\",42544],[\"Illinois\",199963],[\"Virginia\",47673],[\"Florida\",50213],[\"California\",91739],[\"Texas\",239538],[\"Kansas\",181260],[\"Mississippi\",172638],[\"North Carolina\",73209],[\"Florida\",62316],[\"Missouri\",467007],[\"California\",42448],[\"Minnesota\",61434],[\"Texas\",58043],[\"New Mexico\",48611],[\"Alabama\",201332],[\"Utah\",48913],[\"Massachusetts\",39083],[\"Pennsylvania\",118577],[\"South Carolina\",74885],[\"Georgia\",202824],[\"New York\",258959],[\"Wisconsin\",39834],[\"Texas\",67317],[\"Ohio\",38355],[\"California\",479686],[\"Arkansas\",87650],[\"Rhode Island\",47149],[\"Iowa\",41776],[\"New York\",68224],[\"Colorado\",147214],[\"Nevada\",270811],[\"California\",48508],[\"Connecticut\",126456],[\"Indiana\",82575],[\"Tennessee\",52962],[\"Washington\",210721],[\"Washington\",76762],[\"Pennsylvania\",1553165],[\"Washington\",82631],[\"California\",127763],[\"Wisconsin\",51522],[\"Iowa\",61969],[\"Florida\",42757],[\"Texas\",1257676],[\"California\",107100],[\"Michigan\",131224],[\"Florida\",78041],[\"Indiana\",83891],[\"Wyoming\",62448],[\"California\",107479],[\"Kansas\",50344],[\"Indiana\",56540],[\"Mississippi\",50997],[\"California\",80988],[\"Maryland\",65690],[\"California\",56707],[\"Maryland\",66893],[\"North Carolina\",89130],[\"Illinois\",43849],[\"Wisconsin\",60697],[\"Colorado\",127359],[\"Iowa\",61255],[\"Massachusetts\",88697],[\"California\",61170],[\"California\",256780],[\"Florida\",126604],[\"North Carolina\",83506],[\"Georgia\",53438],[\"Florida\",45587],[\"North Dakota\",54932],[\"Ohio\",39325],[\"Illinois\",144864],[\"Florida\",146526],[\"Arkansas\",60112],[\"Louisiana\",378715],[\"Washington\",59097],[\"Illinois\",57073],[\"Idaho\",48957],[\"Oregon\",609456],[\"California\",125880],[\"Washington\",49858],[\"Missouri\",67569],[\"Wisconsin\",71016],[\"Arizona\",68667],[\"Washington\",38609],[\"New York\",65902],[\"Colorado\",649495],[\"Illinois\",117006],[\"California\",40584],[\"California\",201175],[\"Ohio\",55870],[\"Michigan\",37313],[\"Arizona\",52844],[\"Arkansas\",66075],[\"Nevada\",233294],[\"Colorado\",44275],[\"Arizona\",40590],[\"California\",52105],[\"Texas\",37442],[\"Maine\",66318],[\"Minnesota\",78373],[\"Connecticut\",55046],[\"California\",43363],[\"Texas\",39458],[\"Michigan\",99763],[\"California\",66695],[\"Arizona\",56683],[\"California\",40963],[\"California\",83539],[\"Arizona\",226918],[\"Ohio\",822553],[\"Pennsylvania\",59325],[\"Nebraska\",268738],[\"New Jersey\",84349],[\"Massachusetts\",645966],[\"California\",51074],[\"Minnesota\",110742],[\"Missouri\",52363],[\"Maryland\",38722],[\"North Carolina\",59635],[\"Indiana\",47135],[\"California\",39389],[\"Illinois\",37240],[\"Montana\",69122],[\"California\",99769],[\"Texas\",100065],[\"Arizona\",229972],[\"Wisconsin\",39309],[\"North Carolina\",431746],[\"California\",139969],[\"California\",66900],[\"Washington\",39056],[\"California\",55174],[\"Arizona\",38290],[\"Florida\",186411],[\"Texas\",63032],[\"Virginia\",43609],[\"Texas\",1409019],[\"Connecticut\",125017],[\"Iowa\",68366],[\"New York\",46444],[\"Idaho\",83596],[\"Wisconsin\",42970],[\"Texas\",75418],[\"North Carolina\",151088],[\"Massachusetts\",55419],[\"Oklahoma\",398121],[\"Texas\",81050],[\"Ohio\",49267],[\"Massachusetts\",60509],[\"Texas\",92020],[\"Arizona\",526116],[\"Tennessee\",68886],[\"Minnesota\",39167],[\"Florida\",842583],[\"New Jersey\",39551],[\"Pennsylvania\",100671],[\"California\",81102],[\"Texas\",120099],[\"California\",67032],[\"South Carolina\",61397],[\"North Carolina\",50458],[\"Michigan\",60070],[\"Pennsylvania\",49188],[\"California\",108817],[\"California\",224922],[\"Colorado\",108249],[\"Massachusetts\",37670],[\"Illinois\",42895],[\"Minnesota\",400070],[\"Tennessee\",58226],[\"Texas\",104898],[\"Texas\",70185],[\"Missouri\",318416],[\"Texas\",73790],[\"New Mexico\",556495],[\"Georgia\",119980],[\"Utah\",59366],[\"Nevada\",226877],[\"California\",151348],[\"California\",55191],[\"Ohio\",37490],[\"Kansas\",90811],[\"Texas\",123933],[\"Oklahoma\",610613],[\"Arizona\",41627],[\"Arizona\",457587],[\"Connecticut\",87776],[\"Michigan\",50233],[\"Wisconsin\",37999],[\"Texas\",40922],[\"Indiana\",47989],[\"California\",78327],[\"Minnesota\",66297],[\"New Jersey\",70868],[\"California\",148738],[\"California\",42443],[\"California\",116768],[\"California\",65040],[\"Oklahoma\",97151],[\"Wisconsin\",67545],[\"Arizona\",45508],[\"Texas\",51483],[\"Indiana\",256496],[\"Washington\",54790],[\"Massachusetts\",57170],[\"California\",61653],[\"New York\",98424],[\"California\",104739],[\"Michigan\",61817],[\"Virginia\",78014],[\"Maryland\",56759],[\"Connecticut\",83684],[\"Virginia\",44349],[\"Florida\",49631],[\"Idaho\",46402],[\"California\",115708],[\"Illinois\",40388],[\"California\",43341],[\"Arizona\",72864],[\"New Jersey\",145948],[\"Oregon\",160614],[\"Florida\",65173],[\"Michigan\",50303],[\"Texas\",181860],[\"Texas\",68609],[\"Texas\",50195],[\"Minnesota\",49376],[\"Michigan\",688701],[\"Ohio\",42635],[\"Texas\",60872],[\"New York\",210358],[\"Alabama\",212113],[\"Texas\",885400],[\"California\",90412],[\"Illinois\",37385],[\"New Mexico\",91956],[\"Illinois\",54664],[\"Illinois\",39650],[\"Minnesota\",62103],[\"California\",101128],[\"Florida\",255483],[\"Wyoming\",59628],[\"Texas\",48592],[\"North Carolina\",112067],[\"Florida\",49998],[\"Florida\",43250],[\"Kansas\",148483],[\"Massachusetts\",40383],[\"Illinois\",38015],[\"Massachusetts\",87971],[\"Florida\",61007],[\"Connecticut\",40347],[\"New Jersey\",278427],[\"Louisiana\",48426],[\"Minnesota\",60407],[\"Texas\",65665],[\"California\",43509],[\"Texas\",123099],[\"Texas\",48733],[\"Indiana\",53665],[\"California\",155662],[\"Florida\",111378],[\"West Virginia\",49177],[\"Texas\",248142],[\"Florida\",77508],[\"Texas\",43580],[\"Florida\",104898],[\"North Carolina\",49628],[\"Utah\",43023],[\"California\",46714],[\"Ohio\",80429],[\"South Dakota\",70812],[\"California\",42889],[\"Colorado\",49799],[\"Massachusetts\",153703],[\"Colorado\",152061],[\"California\",87965],[\"California\",96929],[\"New York\",199766],[\"Ohio\",297517],[\"Maryland\",40612],[\"Florida\",56002],[\"New Jersey\",68247],[\"Ohio\",282313],[\"Arizona\",45129],[\"Virginia\",182020],[\"Indiana\",78967],[\"Illinois\",41778],[\"Texas\",83860],[\"Alabama\",186254],[\"California\",63338],[\"Washington\",40727],[\"Texas\",39605],[\"North Carolina\",56954],[\"Michigan\",59887],[\"California\",59834],[\"California\",151574],[\"New York\",49468],[\"Nevada\",93282],[\"California\",54686],[\"California\",49087],[\"Ohio\",65184],[\"Alabama\",45799],[\"California\",69999],[\"Missouri\",38816],[\"Idaho\",86518],[\"District of Columbia\",646449],[\"Illinois\",53648],[\"Texas\",38071],[\"California\",101910],[\"North Dakota\",113658],[\"Illinois\",116513],[\"Nebraska\",434353],[\"California\",49228],[\"Kansas\",56143],[\"California\",46281],[\"California\",1355896],[\"California\",171990],[\"Massachusetts\",108861],[\"Oklahoma\",103500],[\"Washington\",124435],[\"Tennessee\",634464],[\"New Jersey\",44113],[\"Colorado\",59471],[\"North Carolina\",245475],[\"Kansas\",386552],[\"California\",52977],[\"Minnesota\",58562],[\"Illinois\",45556],[\"Texas\",37093],[\"Wisconsin\",37159],[\"California\",147559],[\"California\",62864],[\"Wisconsin\",99889],[\"Pennsylvania\",41757],[\"Ohio\",46454],[\"Illinois\",40915],[\"Florida\",104410],[\"Texas\",97492],[\"Illinois\",78902],[\"California\",84691],[\"South Carolina\",37647],[\"New Hampshire\",87137],[\"Georgia\",89981],[\"New York\",55361],[\"New Jersey\",76903],[\"California\",50508],[\"Illinois\",40351],[\"Virginia\",230571],[\"Ohio\",43607],[\"California\",66086],[\"Michigan\",37213],[\"New Jersey\",127558],[\"Alaska\",300950],[\"North Dakota\",46321],[\"Florida\",96830],[\"Texas\",136639],[\"Texas\",148559],[\"Texas\",137147],[\"Ohio\",41512],[\"California\",406253],[\"California\",77846],[\"California\",57525],[\"Texas\",196429],[\"Utah\",116288],[\"Georgia\",447841],[\"California\",61085],[\"Ohio\",44730],[\"California\",63105],[\"Illinois\",74710],[\"Rhode Island\",41026],[\"Alabama\",194899],[\"California\",118837],[\"California\",57639],[\"Tennessee\",47333],[\"Missouri\",43330],[\"Texas\",81443],[\"Arizona\",249146],[\"Colorado\",111707],[\"California\",84577],[\"Indiana\",56895],[\"Florida\",43286],[\"Indiana\",843393],[\"Florida\",71097],[\"Arizona\",37130],[\"Illinois\",54771],[\"Rhode Island\",80566],[\"Indiana\",70373],[\"Kansas\",131885],[\"Georgia\",82788],[\"North Carolina\",279639],[\"Michigan\",75548],[\"Oregon\",50444],[\"North Carolina\",69079],[\"California\",85285],[\"Alabama\",95334],[\"Iowa\",51567],[\"California\",86199],[\"Alabama\",84126],[\"Florida\",64072],[\"Florida\",60202],[\"Arizona\",39383],[\"Florida\",68388],[\"Michigan\",82821],[\"New York\",79446],[\"California\",298118],[\"Michigan\",58946],[\"Florida\",44206],[\"California\",64652],[\"Washington\",91113],[\"California\",112174],[\"Texas\",183372],[\"Virginia\",96205],[\"Washington\",44919],[\"North Carolina\",42214],[\"Iowa\",82459],[\"California\",61588],[\"Utah\",36956],[\"California\",58879],[\"Minnesota\",62603],[\"Arizona\",162592],[\"Arizona\",168228],[\"Delaware\",71525],[\"Utah\",60519],[\"Michigan\",82578],[\"Texas\",143484],[\"North Carolina\",51510],[\"Texas\",234566],[\"California\",107571],[\"North Dakota\",67034],[\"Nevada\",54080],[\"Oklahoma\",38863],[\"Georgia\",197350],[\"North Carolina\",204408],[\"Georgia\",76185],[\"New Jersey\",44412],[\"California\",44096],[\"California\",56449],[\"Alabama\",55816],[\"Tennessee\",173366],[\"Indiana\",45929],[\"Illinois\",41679],[\"California\",76635],[\"Florida\",91026],[\"Tennessee\",67685],[\"Texas\",54135],[\"California\",46377],[\"Texas\",40714],[\"California\",87273],[\"Utah\",40921],[\"Washington\",93257],[\"Ohio\",143355],[\"Mississippi\",71012],[\"California\",469428],[\"California\",88077],[\"Mississippi\",47556],[\"Oregon\",159190],[\"California\",53243],[\"California\",63495],[\"California\",74110],[\"Washington\",105370],[\"Kansas\",41889],[\"California\",109320],[\"Arizona\",78822],[\"Ohio\",48139],[\"Michigan\",51848],[\"Minnesota\",86319],[\"Illinois\",38877],[\"Oregon\",93542],[\"Louisiana\",66975],[\"New Mexico\",39508],[\"New York\",49974],[\"California\",69783],[\"Illinois\",58918],[\"California\",52206],[\"Massachusetts\",56069],[\"California\",38027],[\"Tennessee\",65123],[\"Georgia\",142772],[\"Ohio\",40768],[\"Washington\",167405],[\"Florida\",90116],[\"Indiana\",70316],[\"Utah\",54382],[\"California\",837442],[\"California\",203003],[\"Texas\",136791],[\"California\",76572],[\"California\",49417],[\"Ohio\",38142],[\"New Jersey\",55831],[\"Virginia\",246139],[\"Oregon\",97368],[\"California\",45851],[\"Florida\",52703],[\"Ohio\",62258],[\"South Carolina\",37792],[\"California\",213708],[\"Georgia\",40059],[\"California\",121096],[\"Indiana\",78450],[\"Arizona\",50111],[\"California\",40836],[\"Iowa\",58253],[\"New York\",144669],[\"Tennessee\",142357],[\"Florida\",100710],[\"New York\",37659],[\"Delaware\",37366],[\"Minnesota\",39398],[\"California\",39428],[\"Illinois\",69350],[\"Washington\",652405],[\"Kentucky\",40956],[\"California\",161007],[\"Louisiana\",200327],[\"Utah\",84249],[\"Virginia\",51395],[\"California\",111542],[\"California\",139731],[\"Massachusetts\",77657],[\"Oregon\",37610],[\"California\",59440],[\"Ohio\",59357],[\"California\",79068],[\"Colorado\",345803],[\"Minnesota\",86128],[\"Virginia\",98465],[\"Oregon\",81236],[\"California\",70924],[\"Massachusetts\",62227],[\"Florida\",68190],[\"Florida\",352957],[\"California\",75413],[\"Virginia\",42907],[\"Wisconsin\",36888],[\"Florida\",90268],[\"Colorado\",439886],[\"California\",204933],[\"Michigan\",192294],[\"Illinois\",52066],[\"Florida\",53326],[\"California\",98030],[\"California\",77593],[\"Colorado\",103166],[\"New Mexico\",69976],[\"California\",43092],[\"Massachusetts\",39414],[\"California\",316619],[\"California\",157161],[\"California\",54194],[\"Utah\",70790],[\"Illinois\",73936],[\"California\",96346],[\"Illinois\",45417],[\"California\",45237],[\"California\",73098],[\"Arizona\",39791],[\"New Mexico\",101324],[\"Montana\",39860],[\"Illinois\",74907],[\"Michigan\",134873],[\"Missouri\",54842],[\"Iowa\",61792],[\"Arizona\",123546],[\"Texas\",104475],[\"Michigan\",42181],[\"Texas\",54076],[\"Pennsylvania\",41108],[\"Wisconsin\",73596],[\"Kansas\",64323],[\"Ohio\",46979],[\"California\",85156],[\"North Carolina\",792862],[\"Kentucky\",58416],[\"Florida\",58298],[\"California\",41398],[\"Illinois\",2718782],[\"Montana\",109059],[\"Wisconsin\",47134],[\"Illinois\",43907],[\"Connecticut\",130660],[\"Pennsylvania\",43935],[\"Tennessee\",183270],[\"Ohio\",53956],[\"Massachusetts\",44641],[\"Utah\",48612],[\"California\",76419],[\"California\",71948],[\"Minnesota\",39765],[\"Oregon\",77677],[\"Tennessee\",117044],[\"California\",65416],[\"Connecticut\",40999],[\"Iowa\",40566],[\"Tennessee\",39375],[\"Pennsylvania\",75806],[\"Alabama\",58582],[\"Virginia\",41705],[\"California\",94275],[\"California\",92472],[\"Virginia\",85728],[\"Michigan\",72952],[\"California\",39331],[\"West Virginia\",50821],[\"California\",52403],[\"Florida\",40918],[\"South Carolina\",127999],[\"North Carolina\",44359],[\"California\",159503],[\"California\",59738],[\"Missouri\",93184],[\"Florida\",78740],[\"Utah\",90231],[\"Arkansas\",40167],[\"California\",179590],[\"Florida\",42150],[\"Texas\",63279],[\"Tennessee\",653450],[\"Texas\",228653],[\"Virginia\",148892],[\"California\",92147],[\"Massachusetts\",40249],[\"Georgia\",47591],[\"Illinois\",65176],[\"New Jersey\",41664],[\"Pennsylvania\",75018],[\"Missouri\",77147],[\"California\",67815],[\"Texas\",2195914],[\"California\",106780],[\"Michigan\",117025],[\"Texas\",117796],[\"Michigan\",48554],[\"California\",56105],[\"Florida\",63155],[\"Nebraska\",53663],[\"Florida\",162329],[\"Arkansas\",75229],[\"California\",203007],[\"Texas\",110720],[\"Oklahoma\",47186],[\"Massachusetts\",94089],[\"New Jersey\",65028],[\"California\",54980],[\"Illinois\",43116],[\"Mississippi\",40921],[\"Tennessee\",42774],[\"New Jersey\",257342],[\"Minnesota\",294873],[\"Florida\",86290],[\"New York\",43167],[\"Iowa\",71591],[\"California\",345012],[\"Minnesota\",50201],[\"Montana\",59351],[\"Utah\",133579],[\"Virginia\",136699],[\"Texas\",54898],[\"Utah\",91648],[\"California\",37101],[\"Texas\",42907],[\"South Carolina\",39823],[\"Arkansas\",197357],[\"California\",334227],[\"New York\",57866],[\"Idaho\",58292],[\"Washington\",133992],[\"California\",127035],[\"New Jersey\",51982],[\"Massachusetts\",52044],[\"Nebraska\",50550],[\"Missouri\",115276],[\"Wisconsin\",78199],[\"Indiana\",85927],[\"Michigan\",47523],[\"Ohio\",48630],[\"California\",56590],[\"Massachusetts\",53756],[\"Texas\",53224],[\"Illinois\",75994],[\"California\",81750],[\"North Carolina\",107741],[\"Ohio\",47777],[\"Oklahoma\",56756],[\"California\",89387],[\"Florida\",57203],[\"California\",81121],[\"Ohio\",37530],[\"Illinois\",150251],[\"California\",102211],[\"Florida\",249688],[\"Illinois\",49670],[\"Connecticut\",51644],[\"Oregon\",51583],[\"Nevada\",603488],[\"Texas\",152735],[\"Florida\",171016],[\"Iowa\",128429],[\"Florida\",38661],[\"Massachusetts\",93494],[\"Florida\",130288],[\"Texas\",674433],[\"Kansas\",127679],[\"California\",54561],[\"Oregon\",37064],[\"Minnesota\",51368],[\"Ohio\",198100],[\"Texas\",80836],[\"California\",171386],[\"South Carolina\",104054],[\"Kentucky\",609893],[\"California\",52477],[\"Florida\",56792],[\"Florida\",51763],[\"California\",110972],[\"Texas\",46081],[\"California\",91119],[\"Michigan\",74100],[\"Ohio\",63710],[\"Utah\",37733],[\"Florida\",172389],[\"Georgia\",72531],[\"Florida\",109703],[\"Florida\",43328],[\"Alabama\",40059],[\"Indiana\",61025],[\"Texas\",70190],[\"Ohio\",45712],[\"South Dakota\",164676],[\"Indiana\",45775],[\"Florida\",55456],[\"Massachusetts\",41002],[\"Rhode Island\",81971],[\"California\",363630],[\"Florida\",417650],[\"Louisiana\",74024],[\"Washington\",52413],[\"North Carolina\",40361],[\"California\",66174],[\"Minnesota\",73987],[\"Indiana\",100886],[\"Oklahoma\",87004],[\"Iowa\",207510],[\"Florida\",47547],[\"Utah\",45285],[\"California\",86635],[\"Michigan\",95208],[\"Wisconsin\",599164],[\"Washington\",74860],[\"South Carolina\",41190],[\"Massachusetts\",40664],[\"Washington\",97003],[\"Colorado\",106114],[\"Virginia\",214114],[\"Indiana\",55670],[\"California\",40481],[\"Texas\",53752],[\"New Jersey\",52575],[\"Kentucky\",308428],[\"California\",106589],[\"Arizona\",91923],[\"California\",54291],[\"Illinois\",40379],[\"Illinois\",147806],[\"South Carolina\",69103],[\"California\",67911],[\"Michigan\",56620],[\"Hawaii\",347884],[\"Texas\",65098],[\"Massachusetts\",43886],[\"Texas\",44575],[\"Texas\",126700],[\"Illinois\",41734],[\"Illinois\",52398],[\"Massachusetts\",48514],[\"Florida\",59212],[\"Maryland\",64072],[\"California\",104709],[\"California\",138981],[\"Wisconsin\",66778],[\"Texas\",39795],[\"Michigan\",81295],[\"California\",63771],[\"California\",49707],[\"California\",40435],[\"Colorado\",59778],[\"Oklahoma\",50725],[\"California\",998537],[\"Texas\",109821],[\"Minnesota\",65415],[\"Oklahoma\",118197],[\"Florida\",64079],[\"Texas\",37587],[\"California\",236716],[\"Idaho\",54350],[\"California\",38606],[\"Wisconsin\",48725],[\"Louisiana\",66333],[\"Texas\",61238],[\"Georgia\",99770],[\"Illinois\",83424],[\"New Jersey\",85390],[\"Oklahoma\",58414],[\"Missouri\",53294],[\"California\",159523],[\"Texas\",78709],[\"Texas\",38448],[\"Florida\",165831],[\"California\",60189],[\"Massachusetts\",44057],[\"California\",51701],[\"New Hampshire\",110378],[\"Virginia\",448479],[\"Kansas\",47846],[\"Massachusetts\",78804],[\"Florida\",78409],[\"California\",509924],[\"Alabama\",37498],[\"Illinois\",56758],[\"Florida\",50699],[\"Rhode Island\",71172],[\"California\",40275],[\"North Carolina\",236441],[\"Georgia\",62298],[\"Missouri\",82809],[\"California\",80872],[\"California\",72528],[\"Florida\",38632],[\"Minnesota\",40641],[\"California\",50175],[\"California\",83447],[\"Colorado\",71334],[\"Illinois\",38241],[\"Rhode Island\",177994],[\"Florida\",233394],[\"California\",74513],[\"California\",167500],[\"Washington\",84430],[\"Utah\",76817],[\"South Carolina\",39412],[\"California\",196021],[\"Connecticut\",60456],[\"California\",59957],[\"Massachusetts\",41301],[\"Illinois\",110145],[\"Texas\",274409],[\"Colorado\",89919],[\"Texas\",40342],[\"Ohio\",51143],[\"Arkansas\",71551],[\"Texas\",100050],[\"Michigan\",95884],[\"New York\",61808],[\"Louisiana\",49761],[\"Maryland\",622104],[\"Missouri\",164122],[\"Arkansas\",46094],[\"New Jersey\",50588],[\"Massachusetts\",91589],[\"Minnesota\",65656],[\"Florida\",127488],[\"California\",49891],[\"Washington\",50169],[\"Florida\",37199],[\"Arkansas\",78960],[\"California\",58994],[\"Arkansas\",63816],[\"Washington\",203446],[\"Connecticut\",47333],[\"Vermont\",42284],[\"Idaho\",45981],[\"Texas\",39296],[\"New York\",8405837],[\"California\",126181],[\"California\",107740],[\"Colorado\",53063],[\"Georgia\",56481],[\"Texas\",792727],[\"California\",92599],[\"Indiana\",120310],[\"California\",102216],[\"Tennessee\",40021],[\"California\",58642],[\"Colorado\",110945],[\"Pennsylvania\",87893],[\"California\",70365],[\"Colorado\",96539],[\"Texas\",100223],[\"Florida\",37711],[\"Texas\",129030],[\"California\",37165],[\"California\",128731],[\"California\",47842],[\"Connecticut\",147216],[\"Minnesota\",47411],[\"Missouri\",47749],[\"Florida\",38696],[\"Washington\",67599],[\"California\",147478],[\"Wisconsin\",243344],[\"Wisconsin\",63820],[\"Illinois\",88826],[\"Kentucky\",61488],[\"Texas\",379577],[\"Texas\",101074],[\"New Mexico\",45426],[\"California\",38194],[\"California\",66642],[\"Oregon\",60177],[\"Massachusetts\",95078],[\"Washington\",57530],[\"California\",55000],[\"California\",66205],[\"California\",49133],[\"Tennessee\",43060],[\"Pennsylvania\",45796],[\"Alabama\",68001],[\"New Jersey\",64544],[\"Illinois\",57282],[\"Mississippi\",44820],[\"Illinois\",41752],[\"California\",175140],[\"California\",71371],[\"Colorado\",37499],[\"Ohio\",72535],[\"Georgia\",50603],[\"Louisiana\",229426],[\"Connecticut\",60568],[\"Missouri\",117240],[\"Michigan\",113972],[\"Illinois\",58590],[\"New Jersey\",61050],[\"Wisconsin\",104779],[\"Illinois\",75570],[\"Florida\",39172],[\"California\",3884307],[\"Washington\",92734],[\"Utah\",110077],[\"California\",52536],[\"Pennsylvania\",305841],[\"California\",113242],[\"Illinois\",84103],[\"California\",95677],[\"Florida\",36877],[\"Missouri\",50789],[\"Texas\",90983],[\"Utah\",191180],[\"Florida\",43074],[\"Arizona\",1513367],[\"Oregon\",55298],[\"Texas\",46663],[\"Massachusetts\",55717],[\"Florida\",57468],[\"Georgia\",94034],[\"Illinois\",37839],[\"New Hampshire\",42419],[\"Washington\",48338],[\"California\",197575],[\"Texas\",316381],[\"Massachusetts\",62088],[\"Illinois\",38510],[\"Massachusetts\",107289],[\"Arizona\",234632],[\"California\",38623],[\"South Carolina\",46074],[\"Iowa\",102157],[\"Florida\",89407],[\"Connecticut\",72939],[\"Michigan\",47555],[\"Ohio\",45394],[\"Oregon\",109397],[\"Florida\",69813],[\"Tennessee\",54068],[\"California\",120245],[\"California\",172794],[\"California\",79312],[\"Michigan\",57960],[\"New Jersey\",52122],[\"Massachusetts\",42935],[\"New Jersey\",41301],[\"North Carolina\",87236],[\"California\",97877]],\"hovertemplate\":\"\\u003cb\\u003e%{hovertext}\\u003c\\u002fb\\u003e\\u003cbr\\u003e\\u003cbr\\u003elat=%{lat}\\u003cbr\\u003elon=%{lon}\\u003cbr\\u003eState=%{customdata[0]}\\u003cbr\\u003ePopulation=%{customdata[1]}\\u003cextra\\u003e\\u003c\\u002fextra\\u003e\",\"hovertext\":[\"Marysville\",\"Perris\",\"Cleveland\",\"Worcester\",\"Columbia\",\"Waterbury\",\"Eagan\",\"Southfield\",\"Lafayette\",\"Boise City\",\"Elkhart\",\"Buena Park\",\"Marietta\",\"Parker\",\"West Palm Beach\",\"Salem\",\"Aurora\",\"Leesburg\",\"Doral\",\"Westminster\",\"Lubbock\",\"Overland Park\",\"Jackson\",\"Gastonia\",\"Daytona Beach\",\"Kansas City\",\"Rancho Palos Verdes\",\"Burnsville\",\"Rowlett\",\"Roswell\",\"Montgomery\",\"Logan\",\"Woburn\",\"Allentown\",\"Mount Pleasant\",\"Columbus\",\"Buffalo\",\"New Berlin\",\"North Richland Hills\",\"Lima\",\"Sacramento\",\"Fort Smith\",\"East Providence\",\"Urbandale\",\"Mount Vernon\",\"Lakewood\",\"Henderson\",\"Covina\",\"Stamford\",\"Bloomington\",\"Kingsport\",\"Spokane\",\"Kennewick\",\"Philadelphia\",\"Bellingham\",\"Visalia\",\"La Crosse\",\"Council Bluffs\",\"North Lauderdale\",\"Dallas\",\"Antioch\",\"Sterling Heights\",\"Deerfield Beach\",\"Fishers\",\"Cheyenne\",\"Murrieta\",\"Lenexa\",\"Noblesville\",\"Southaven\",\"Chino\",\"Gaithersburg\",\"Fountain Valley\",\"Frederick\",\"Greenville\",\"DeKalb\",\"West Allis\",\"Thornton\",\"West Des Moines\",\"Fall River\",\"Tulare\",\"Chula Vista\",\"Coral Springs\",\"Concord\",\"Smyrna\",\"Apopka\",\"Grand Forks\",\"Lancaster\",\"Naperville\",\"Hollywood\",\"Rogers\",\"New Orleans\",\"Lakewood\",\"Oak Lawn\",\"Caldwell\",\"Portland\",\"Concord\",\"Burien\",\"St. Charles\",\"Waukesha\",\"Flagstaff\",\"Puyallup\",\"Schenectady\",\"Denver\",\"Springfield\",\"Campbell\",\"Moreno Valley\",\"Kettering\",\"Lincoln Park\",\"Lake Havasu City\",\"North Little Rock\",\"Reno\",\"Littleton\",\"Prescott\",\"Dublin\",\"Texarkana\",\"Portland\",\"Brooklyn Park\",\"West Haven\",\"El Centro\",\"The Colony\",\"Flint\",\"Pittsburg\",\"Buckeye\",\"Brea\",\"Indio\",\"Scottsdale\",\"Columbus\",\"Lancaster\",\"Lincoln\",\"Trenton\",\"Boston\",\"Glendora\",\"Rochester\",\"Florissant\",\"Annapolis\",\"Chapel Hill\",\"Lawrence\",\"Calexico\",\"Calumet City\",\"Missoula\",\"Clovis\",\"Pearland\",\"Gilbert\",\"Wausau\",\"Raleigh\",\"Orange\",\"Walnut Creek\",\"Bremerton\",\"Porterville\",\"Marana\",\"Tallahassee\",\"Conroe\",\"Blacksburg\",\"San Antonio\",\"Hartford\",\"Waterloo\",\"Binghamton\",\"Meridian\",\"Fond du Lac\",\"Baytown\",\"Cary\",\"Weymouth Town\",\"Tulsa\",\"Mission\",\"Cuyahoga Falls\",\"Malden\",\"Allen\",\"Tucson\",\"Franklin\",\"Shakopee\",\"Jacksonville\",\"Atlantic City\",\"Erie\",\"Merced\",\"Abilene\",\"Yorba Linda\",\"Greenville\",\"Huntersville\",\"St. Clair Shores\",\"Harrisburg\",\"San Buenaventura (Ventura)\",\"Fremont\",\"Pueblo\",\"Chelsea\",\"Belleville\",\"Minneapolis\",\"Bartlett\",\"Wichita Falls\",\"Missouri City\",\"St. Louis\",\"Pharr\",\"Albuquerque\",\"Athens-Clarke County\",\"South Jordan\",\"North Las Vegas\",\"Pomona\",\"Eastvale\",\"Grove City\",\"Lawrence\",\"Midland\",\"Oklahoma City\",\"Oro Valley\",\"Mesa\",\"Norwalk\",\"Kentwood\",\"Brookfield\",\"Rockwall\",\"Mishawaka\",\"Tustin\",\"St. Cloud\",\"Passaic\",\"Escondido\",\"San Bruno\",\"Berkeley\",\"San Clemente\",\"Lawton\",\"Eau Claire\",\"Maricopa\",\"DeSoto\",\"Fort Wayne\",\"Shoreline\",\"Medford\",\"La Habra\",\"Albany\",\"Daly City\",\"Taylor\",\"Lynchburg\",\"Bowie\",\"Danbury\",\"Charlottesville\",\"Coral Gables\",\"Coeur d'Alene\",\"El Monte\",\"Crystal Lake\",\"Danville\",\"Goodyear\",\"Paterson\",\"Salem\",\"Kissimmee\",\"Saginaw\",\"Brownsville\",\"Flower Mound\",\"Grapevine\",\"Edina\",\"Detroit\",\"Fairfield\",\"Mansfield\",\"Rochester\",\"Birmingham\",\"Austin\",\"Santa Barbara\",\"Addison\",\"Rio Rancho\",\"Normal\",\"Romeoville\",\"Coon Rapids\",\"San Mateo\",\"Orlando\",\"Casper\",\"Bedford\",\"Wilmington\",\"Pinellas Park\",\"North Miami Beach\",\"Kansas City\",\"Fitchburg\",\"Wheeling\",\"Newton\",\"North Miami\",\"Norwich\",\"Newark\",\"Alexandria\",\"Blaine\",\"Harlingen\",\"Lompoc\",\"Denton\",\"Galveston\",\"Greenwood\",\"Salinas\",\"Miami Gardens\",\"Huntington\",\"Laredo\",\"Melbourne\",\"Haltom City\",\"Palm Bay\",\"Wilson\",\"Bountiful\",\"Ceres\",\"Parma\",\"Rapid City\",\"Bell Gardens\",\"Commerce City\",\"Springfield\",\"Fort Collins\",\"San Leandro\",\"Vista\",\"Yonkers\",\"Cincinnati\",\"Hagerstown\",\"Sanford\",\"Union City\",\"Toledo\",\"Sierra Vista\",\"Newport News\",\"Hammond\",\"Buffalo Grove\",\"Sugar Land\",\"Huntsville\",\"Lodi\",\"Edmonds\",\"Duncanville\",\"Rocky Mount\",\"Pontiac\",\"National City\",\"Hayward\",\"Niagara Falls\",\"Sparks\",\"Hanford\",\"Cypress\",\"Youngstown\",\"Madison\",\"Redlands\",\"Cape Girardeau\",\"Nampa\",\"Washington\",\"Wheaton\",\"Lancaster\",\"Rialto\",\"Fargo\",\"Peoria\",\"Omaha\",\"Rancho Santa Margarita\",\"Manhattan\",\"Palm Springs\",\"San Diego\",\"Santa Rosa\",\"Lowell\",\"Broken Arrow\",\"Kent\",\"Nashville\",\"Hackensack\",\"Broomfield\",\"Durham\",\"Wichita\",\"Cathedral City\",\"Lakeville\",\"Elmhurst\",\"Weslaco\",\"Greenfield\",\"Sunnyvale\",\"Santa Cruz\",\"Kenosha\",\"State College\",\"Mansfield\",\"Quincy\",\"Pompano Beach\",\"San Angelo\",\"Bloomington\",\"Tracy\",\"Spartanburg\",\"Nashua\",\"Macon\",\"Hempstead\",\"Camden\",\"Palm Desert\",\"Streamwood\",\"Chesapeake\",\"Dublin\",\"Camarillo\",\"Muskegon\",\"Elizabeth\",\"Anchorage\",\"Minot\",\"Davie\",\"McAllen\",\"McKinney\",\"Killeen\",\"Findlay\",\"Oakland\",\"Mountain View\",\"Lake Elsinore\",\"Amarillo\",\"Provo\",\"Atlanta\",\"Monterey Park\",\"Strongsville\",\"Madera\",\"Decatur\",\"Woonsocket\",\"Mobile\",\"Vallejo\",\"Arcadia\",\"Collierville\",\"Jefferson City\",\"Longview\",\"Chandler\",\"Arvada\",\"Alhambra\",\"Kokomo\",\"Oakland Park\",\"Indianapolis\",\"Boynton Beach\",\"Apache Junction\",\"Mount Prospect\",\"Cranston\",\"Lafayette\",\"Olathe\",\"Johns Creek\",\"Greensboro\",\"Kalamazoo\",\"Tigard\",\"Jacksonville\",\"Citrus Heights\",\"Tuscaloosa\",\"Ankeny\",\"Hawthorne\",\"Hoover\",\"Delray Beach\",\"Wellington\",\"Bullhead City\",\"Weston\",\"Troy\",\"New Rochelle\",\"Stockton\",\"Royal Oak\",\"Titusville\",\"Laguna Niguel\",\"Spokane Valley\",\"Costa Mesa\",\"Grand Prairie\",\"Portsmouth\",\"Lacey\",\"Apex\",\"Sioux City\",\"Encinitas\",\"Spanish Fork\",\"Huntington Park\",\"Eden Prairie\",\"Peoria\",\"Tempe\",\"Wilmington\",\"Taylorsville\",\"Westland\",\"Mesquite\",\"Burlington\",\"Garland\",\"Richmond\",\"Bismarck\",\"Carson City\",\"Muskogee\",\"Augusta-Richmond County\",\"Fayetteville\",\"Albany\",\"Sayreville\",\"Newark\",\"Diamond Bar\",\"Decatur\",\"Chattanooga\",\"Jeffersonville\",\"Bartlett\",\"Baldwin Park\",\"Miami Beach\",\"Jackson\",\"Port Arthur\",\"San Luis Obispo\",\"Burleson\",\"Newport Beach\",\"Riverton\",\"Yakima\",\"Dayton\",\"Gulfport\",\"Long Beach\",\"Chico\",\"Hattiesburg\",\"Eugene\",\"Colton\",\"Montebello\",\"Pleasanton\",\"Everett\",\"Hutchinson\",\"Fairfield\",\"Avondale\",\"Euclid\",\"Battle Creek\",\"Bloomington\",\"Rock Island\",\"Beaverton\",\"Kenner\",\"Clovis\",\"Troy\",\"Milpitas\",\"Des Plaines\",\"Placentia\",\"Taunton\",\"Montclair\",\"Johnson City\",\"Savannah\",\"Warren\",\"Vancouver\",\"Sunrise\",\"Muncie\",\"Lehi\",\"San Francisco\",\"Fontana\",\"Frisco\",\"Chino Hills\",\"Poway\",\"Huber Heights\",\"New Brunswick\",\"Norfolk\",\"Hillsboro\",\"San Jacinto\",\"Pensacola\",\"Hamilton\",\"Florence\",\"San Bernardino\",\"Peachtree Corners\",\"Victorville\",\"Gary\",\"Casa Grande\",\"Morgan Hill\",\"Dubuque\",\"Syracuse\",\"Clarksville\",\"Lakeland\",\"Valley Stream\",\"Dover\",\"Moorhead\",\"Culver City\",\"Palatine\",\"Seattle\",\"Covington\",\"Elk Grove\",\"Shreveport\",\"Ogden\",\"Harrisonburg\",\"Inglewood\",\"Pasadena\",\"Lawrence\",\"Lake Oswego\",\"Petaluma\",\"Springfield\",\"Napa\",\"Aurora\",\"Duluth\",\"Roanoke\",\"Bend\",\"Apple Valley\",\"Waltham\",\"Fort Myers\",\"Tampa\",\"Upland\",\"Danville\",\"Beloit\",\"Plantation\",\"Colorado Springs\",\"Modesto\",\"Grand Rapids\",\"Oak Park\",\"Sarasota\",\"Jurupa Valley\",\"Bellflower\",\"Boulder\",\"Santa Fe\",\"Coachella\",\"Marlborough\",\"Riverside\",\"Palmdale\",\"Novato\",\"Layton\",\"Bolingbrook\",\"Mission Viejo\",\"Glenview\",\"Lincoln\",\"Folsom\",\"Prescott Valley\",\"Las Cruces\",\"Bozeman\",\"Schaumburg\",\"Warren\",\"St. Peters\",\"Ames\",\"Surprise\",\"Richardson\",\"Midland\",\"San Marcos\",\"Wilkes-Barre\",\"Appleton\",\"Shawnee\",\"Mentor\",\"Livermore\",\"Charlotte\",\"Owensboro\",\"Jupiter\",\"Rohnert Park\",\"Chicago\",\"Billings\",\"Wauwatosa\",\"Lombard\",\"New Haven\",\"York\",\"Knoxville\",\"Elyria\",\"Barnstable Town\",\"Murray\",\"Alameda\",\"Manteca\",\"Maplewood\",\"Medford\",\"Murfreesboro\",\"Yuba City\",\"Shelton\",\"Cedar Falls\",\"Germantown\",\"Scranton\",\"Auburn\",\"Manassas\",\"Vacaville\",\"Santa Monica\",\"Suffolk\",\"Rochester Hills\",\"La Quinta\",\"Charleston\",\"Delano\",\"St. Cloud\",\"Charleston\",\"Kannapolis\",\"Corona\",\"Rocklin\",\"Lee's Summit\",\"Palm Coast\",\"Sandy\",\"Bentonville\",\"Santa Clarita\",\"Altamonte Springs\",\"New Braunfels\",\"Memphis\",\"Irving\",\"Alexandria\",\"Hesperia\",\"Holyoke\",\"Dunwoody\",\"Skokie\",\"Kearny\",\"Bethlehem\",\"St. Joseph\",\"Redondo Beach\",\"Houston\",\"Temecula\",\"Ann Arbor\",\"Beaumont\",\"East Lansing\",\"Santee\",\"Tamarac\",\"Bellevue\",\"Pembroke Pines\",\"Springdale\",\"Oxnard\",\"Odessa\",\"Stillwater\",\"Brockton\",\"Bayonne\",\"Paramount\",\"Moline\",\"Meridian\",\"Cleveland\",\"Jersey City\",\"St. Paul\",\"Deltona\",\"Freeport\",\"Iowa City\",\"Anaheim\",\"Apple Valley\",\"Great Falls\",\"West Valley City\",\"Hampton\",\"Georgetown\",\"Orem\",\"Monrovia\",\"Keller\",\"Goose Creek\",\"Little Rock\",\"Santa Ana\",\"White Plains\",\"Idaho Falls\",\"Bellevue\",\"Roseville\",\"Perth Amboy\",\"Peabody\",\"Grand Island\",\"Columbia\",\"Racine\",\"Carmel\",\"Portage\",\"Middletown\",\"Woodland\",\"Revere\",\"Euless\",\"Arlington Heights\",\"Hemet\",\"High Point\",\"Newark\",\"Midwest City\",\"San Marcos\",\"Port Orange\",\"Lakewood\",\"Westerville\",\"Rockford\",\"El Cajon\",\"St. Petersburg\",\"Downers Grove\",\"Milford\",\"Albany\",\"Las Vegas\",\"Pasadena\",\"Port St. Lucie\",\"Cedar Rapids\",\"Ormond Beach\",\"Quincy\",\"Miramar\",\"El Paso\",\"Topeka\",\"Rosemead\",\"Keizer\",\"Minnetonka\",\"Akron\",\"Edinburg\",\"Rancho Cucamonga\",\"North Charleston\",\"Louisville\",\"Watsonville\",\"Coconut Creek\",\"Bradenton\",\"Carlsbad\",\"Texas City\",\"Redding\",\"Wyoming\",\"Lorain\",\"Roy\",\"Fort Lauderdale\",\"Warner Robins\",\"Clearwater\",\"Cutler Bay\",\"Florence\",\"Terre Haute\",\"Temple\",\"Beavercreek\",\"Sioux Falls\",\"Columbus\",\"Margate\",\"Leominster\",\"Warwick\",\"Bakersfield\",\"Miami\",\"Lake Charles\",\"Richland\",\"Hickory\",\"South San Francisco\",\"Plymouth\",\"South Bend\",\"Edmond\",\"Des Moines\",\"Bonita Springs\",\"Draper\",\"Whittier\",\"Livonia\",\"Milwaukee\",\"Auburn\",\"Sumter\",\"Beverly\",\"Renton\",\"Centennial\",\"Richmond\",\"Anderson\",\"Beaumont\",\"Pflugerville\",\"Hoboken\",\"Lexington-Fayette\",\"Norwalk\",\"Yuma\",\"Highland\",\"Carol Stream\",\"Joliet\",\"Rock Hill\",\"Rancho Cordova\",\"Dearborn Heights\",\"Honolulu\",\"Victoria\",\"Attleboro\",\"Wylie\",\"Carrollton\",\"Plainfield\",\"Hoffman Estates\",\"Methuen\",\"North Port\",\"Rockville\",\"Burbank\",\"Fullerton\",\"Oshkosh\",\"Huntsville\",\"Farmington Hills\",\"Pico Rivera\",\"Cerritos\",\"La Puente\",\"Grand Junction\",\"Enid\",\"San Jose\",\"Round Rock\",\"Maple Grove\",\"Norman\",\"Homestead\",\"Friendswood\",\"Irvine\",\"Pocatello\",\"Pacifica\",\"Sheboygan\",\"Bossier City\",\"Cedar Park\",\"Sandy Springs\",\"Champaign\",\"Clifton\",\"Moore\",\"Blue Springs\",\"Lancaster\",\"Bryan\",\"Hurst\",\"Cape Coral\",\"Cupertino\",\"Pittsfield\",\"Gilroy\",\"Manchester\",\"Virginia Beach\",\"Salina\",\"Somerville\",\"Largo\",\"Fresno\",\"Phenix City\",\"Berwyn\",\"Palm Beach Gardens\",\"Pawtucket\",\"San Gabriel\",\"Winston-Salem\",\"Alpharetta\",\"O'Fallon\",\"Redwood City\",\"Union City\",\"Hallandale Beach\",\"Mankato\",\"Aliso Viejo\",\"Menifee\",\"Loveland\",\"Carpentersville\",\"Providence\",\"Hialeah\",\"San Ramon\",\"Ontario\",\"Kirkland\",\"St. George\",\"Hilton Head Island\",\"Glendale\",\"Meriden\",\"Gardena\",\"Westfield\",\"Elgin\",\"Plano\",\"Longmont\",\"Coppell\",\"Lakewood\",\"Jonesboro\",\"College Station\",\"Dearborn\",\"Utica\",\"Monroe\",\"Baltimore\",\"Springfield\",\"Pine Bluff\",\"Plainfield\",\"Lynn\",\"Woodbury\",\"Gainesville\",\"West Sacramento\",\"Sammamish\",\"Aventura\",\"Fayetteville\",\"San Rafael\",\"Conway\",\"Tacoma\",\"Middletown\",\"Burlington\",\"Twin Falls\",\"Sherman\",\"New York\",\"Simi Valley\",\"West Covina\",\"Castle Rock\",\"Valdosta\",\"Fort Worth\",\"Carson\",\"Evansville\",\"Santa Maria\",\"Brentwood\",\"La Mesa\",\"Westminster\",\"Reading\",\"Turlock\",\"Greeley\",\"Tyler\",\"Winter Garden\",\"Waco\",\"Martinez\",\"Thousand Oaks\",\"Azusa\",\"Bridgeport\",\"St. Louis Park\",\"Chesterfield\",\"Greenacres\",\"Pasco\",\"Torrance\",\"Madison\",\"Janesville\",\"Waukegan\",\"Bowling Green\",\"Arlington\",\"Lewisville\",\"Farmington\",\"Oakley\",\"Palo Alto\",\"Springfield\",\"New Bedford\",\"Redmond\",\"Brentwood\",\"Davis\",\"La Mirada\",\"Smyrna\",\"Altoona\",\"Dothan\",\"East Orange\",\"Tinley Park\",\"Biloxi\",\"Urbana\",\"Garden Grove\",\"Lynwood\",\"Northglenn\",\"Canton\",\"Brookhaven\",\"Baton Rouge\",\"Bristol\",\"Independence\",\"Lansing\",\"Orland Park\",\"Vineland\",\"Green Bay\",\"Evanston\",\"Ocoee\",\"Los Angeles\",\"Federal Way\",\"West Jordan\",\"Yucaipa\",\"Pittsburgh\",\"Downey\",\"Cicero\",\"South Gate\",\"Panama City\",\"Joplin\",\"League City\",\"Salt Lake City\",\"Fort Pierce\",\"Phoenix\",\"Corvallis\",\"Cedar Hill\",\"Chicopee\",\"Ocala\",\"Roswell\",\"Park Ridge\",\"Concord\",\"Olympia\",\"Huntington Beach\",\"Corpus Christi\",\"Haverhill\",\"Hanover Park\",\"Cambridge\",\"Glendale\",\"Stanton\",\"Summerville\",\"Davenport\",\"Boca Raton\",\"New Britain\",\"Roseville\",\"Cleveland Heights\",\"Gresham\",\"Lauderhill\",\"Hendersonville\",\"Santa Clara\",\"Oceanside\",\"Lake Forest\",\"Novi\",\"West New York\",\"Everett\",\"Linden\",\"Asheville\",\"Compton\"],\"lat\":[48.0517637,33.7825194,41.49932,42.262593200000005,34.0007104,41.558152500000006,44.804132200000005,42.4733688,30.2240897,43.6187102,41.6819935,33.8675143,33.952602,39.5186002,26.7153424,42.51954,41.7605849,39.1156615,25.8195424,33.7513419,33.5778631,38.9822282,32.298757300000005,35.262082,29.2108147,39.0997265,33.7444613,44.7677424,32.9029017,33.3942655,32.366805199999995,41.7369803,42.4792618,40.6084305,32.8323225,32.4609764,42.8864468,42.9764027,32.8342952,40.742551,38.5815719,35.385924200000005,41.813711600000005,41.6266555,40.9125992,39.7047095,36.0395247,34.0900091,41.0534302,39.165325,36.548434,47.6587802,46.2112458,39.9525839,48.74908,36.3302284,43.8013556,41.2619444,26.217305,32.7766642,38.0049214,42.5803122,26.3184123,39.95675479999999,41.1399814,33.553914299999995,38.9536174,40.0455917,34.9889818,34.0122346,39.143440600000005,33.7091847,39.4142688,35.612661,41.9294736,43.0166806,39.8680412,41.5772115,41.7014912,36.20772879999999,32.6400541,26.271192,35.4087517,33.883992600000006,28.6934076,47.9252568,39.71367539999999,41.7508391,26.0112014,36.3320196,29.9510658,47.1717649,41.719978000000005,43.6629384,45.523062200000005,37.9779776,47.4703767,38.7881062,43.0116784,35.1982836,47.1853785,42.8142432,39.7392358,39.7817213,37.2871651,33.9424658,39.6895036,42.2505943,34.483901,34.769535999999995,39.5296329,39.613321,34.540024200000005,37.7021521,33.425125,43.661471,45.0941315,41.2705484,32.792,33.0806083,43.0125274,38.027976200000005,33.3703197,33.9166805,33.7205771,33.494170399999994,39.9611755,40.0378755,40.8257625,40.2170534,42.3600825,34.136118700000004,44.0121221,38.789217,38.9784453,35.913199600000006,39.8386516,32.6789476,41.6155909,46.8787176,36.8252277,29.5635666,33.3528264,44.9591352,35.7795897,33.7877944,37.9100783,47.567320200000005,36.06523,32.436381,30.4382559,30.3118769,37.2295733,29.4241219,41.7637111,42.492786,42.0986867,43.61210870000001,43.7730448,29.735504700000003,35.791540000000005,42.2180724,36.1539816,26.2159066,41.1339449,42.4250964,33.1031744,32.2217429,35.9250637,44.79739620000001,30.3321838,39.3642834,42.1292241,37.3021632,32.4487364,33.888625899999994,34.8526176,35.410694,42.4974085,40.273191100000005,34.274646000000004,37.548269700000006,38.2544472,42.3917638,38.5200504,44.977753,35.2045328,33.913708500000006,29.6185669,38.6270025,26.1947962,35.0853336,33.9519347,40.5621704,36.1988592,34.055103,33.952463,39.8814519,38.9716689,31.9973456,35.4675602,32.3909071,33.4151843,41.117744,42.8694731,43.0605671,32.9312336,41.6619927,33.7458511,45.5579451,40.8567662,33.1192068,37.6304904,37.87159260000001,33.4269728,34.6035669,44.811349,33.058106300000006,32.589699800000005,41.079273,47.7556531,42.4184296,33.9319578,42.65257929999999,37.6879241,42.240872,37.4137536,39.0067768,41.394817,38.0293059,25.72149,47.6776832,34.0686206,42.2411344,37.8215929,33.4353394,40.9167654,44.9428975,28.291955699999995,43.4194699,25.9017472,33.0145673,32.9342919,44.889686600000005,42.331427000000005,39.3454673,32.5631924,43.16103,33.5206608,30.267153000000004,34.4208305,41.931696,35.2327544,40.5142026,41.6475306,45.1732394,37.562991700000005,28.5383355,42.866632,32.844017,34.2257255,27.8428025,25.9331488,39.114053000000006,42.5834228,42.1391927,42.3370413,25.8900949,41.5242649,40.735657,31.3112936,45.1607987,26.1906306,34.6391501,33.2148412,29.3013479,39.6136578,36.6777372,25.9420377,38.41924960000001,27.530567100000003,28.0836269,32.799573800000005,28.03446210000001,35.7212689,40.8893895,37.5949316,41.404774200000006,44.0805434,33.9652918,39.8083196,42.1014831,40.5852602,37.7249296,33.2000368,40.9312099,39.1031182,39.6417629,28.802861199999995,40.6975898,41.6639383,31.5455001,37.0870821,41.5833688,42.1662831,29.6196787,34.730368799999994,38.1341477,47.8106521,32.6518004,35.938210299999994,42.6389216,32.6781085,37.6688205,43.0962143,39.5349112,36.3274502,33.8169599,41.0997803,34.6992579,34.055569299999995,37.3058839,43.5407172,38.9071923,41.8661403,32.5920798,34.1064001,46.8771863,40.6936488,41.25236339999999,33.640855,39.1836082,33.8302961,32.715738,38.440429,42.633424700000006,36.060949,47.380933500000005,36.1626638,40.8859325,39.9205411,35.99403289999999,37.688889,33.780538799999995,44.6496868,41.8994744,26.1595194,42.9614039,37.36883,36.9741171,42.5847425,40.7933949,40.758390000000006,39.9356016,26.2378597,31.4637723,40.4842027,37.7396513,34.949567200000004,42.7653662,32.8406946,40.7062128,39.9259463,33.7222445,42.02558270000001,36.7682088,40.0992294,34.216393700000005,43.2341813,40.6639916,61.2180556,48.23296679999999,26.0764783,26.203407100000003,33.197246500000006,31.1171194,41.04422,37.8043637,37.3860517,33.668077200000006,35.2219971,40.2338438,33.7489954,34.0625106,41.3144966,36.961335600000005,39.84031470000001,42.0028761,30.6953657,38.1040864,34.139729200000005,35.042036,38.57670170000001,32.5007037,33.3061605,39.8027644,34.095287,40.486427,26.1723065,39.768403,26.531786600000004,33.4150485,42.066416700000005,41.7798226,40.4167022,38.8813958,34.0289259,36.0726354,42.2917069,45.4312294,34.7540524,38.7071247,33.2098407,41.7317884,33.9164032,33.405386699999994,26.4614625,26.6617635,35.1359386,26.1003654,42.6064095,40.9114882,37.9577016,42.4894801,28.6122187,33.5225261,47.6732281,33.6411316,32.7459645,36.8354258,47.0342629,35.732652,42.4999942,33.0369867,40.114955,33.981681200000004,44.8546856,33.5805955,33.4255104,39.7390721,40.6677248,42.324204,32.7667955,36.0956918,32.912624,37.9357576,46.8083268,39.1637984,35.747876899999994,33.4734978,35.0526641,31.5785074,40.4594021,37.5296593,34.028622600000006,34.6059253,35.0456297,38.27757020000001,41.9950276,34.0852868,25.790654,35.6145169,29.8849504,35.2827524,32.5420821,33.6189101,40.521893,46.6020711,39.7589478,30.367419800000004,33.770050399999995,39.7284944,31.3271189,44.0520691,34.0739016,34.0165053,37.6624312,47.9789848,38.0608445,38.2493581,33.4355977,41.5931049,42.32115220000001,44.840798,41.5094771,45.487062,29.9940924,34.4047987,42.7284117,37.4323341,42.03336229999999,33.87223710000001,41.900101,34.0775104,36.3134397,32.0835407,41.2375569,45.6387281,26.1669711,40.1933767,40.3916172,37.7749295,34.0922335,33.1506744,33.989818799999995,32.9628232,39.843947,40.4862157,36.8507689,45.5228939,33.783908399999994,30.421309,39.3995008,34.1954331,34.1083449,33.9698929,34.5362184,41.5933696,32.8795022,37.130501200000005,42.5005583,43.0481221,36.5297706,28.0394654,40.6642699,39.158168,46.8737648,34.0211224,42.1103041,47.6062095,39.083671200000005,38.4087993,32.5251516,41.223,38.4495688,33.9616801,34.1477849,42.7070354,45.4206749,38.232417,39.9242266,38.2975381,39.7294319,46.7866719,37.2709704,44.0581728,34.5008311,42.376485200000005,26.640628000000003,27.950575,34.09751,36.5859718,42.5083482,26.1275862,38.8338816,37.6390972,42.9633599,41.885031700000006,27.3364347,33.9971974,33.8816818,40.0149856,35.686975200000006,33.6803003,42.3459271,33.9533487,34.5794343,38.1074198,41.0602216,41.6986416,33.6000232,42.0697509,38.891565,38.6779591,34.6100243,32.3199396,45.6769979,42.0333607,42.5144566,38.7874699,42.034722,33.62923370000001,32.948333500000004,43.6155825,29.8832749,41.2459149,44.2619309,39.0228485,41.6661573,37.6818745,35.2270869,37.7719074,26.934224600000004,38.3396367,41.8781136,45.783285600000006,43.049457200000006,41.8800296,41.308274,39.9625984,35.96063839999999,41.36837979999999,41.7003208,40.6668916,37.7652065,37.7974273,44.953021500000006,42.3265152,35.8456213,39.1404477,41.3164856,42.5348993,35.08675770000001,41.408969,32.6098566,38.7509488,38.3565773,34.01945429999999,36.7282054,42.6583661,33.663357299999994,38.3498195,35.7688425,28.2489016,32.776474900000004,35.4873613,33.8752935,38.7907339,38.9108408,29.5844524,40.564978100000005,36.3728538,34.3916641,28.6611089,29.7030024,35.1495343,32.814017699999994,38.8048355,34.4263886,42.2042586,33.9462125,42.0324025,40.7684342,40.6259316,39.7674578,33.8491816,29.7604267,33.4936391,42.2808256,30.080174,42.7369792,32.8383828,26.2128609,41.1543623,26.007765,36.18674420000001,34.1975048,31.8456816,36.1156071,42.083433500000005,40.6687141,33.8894598,41.5067003,32.3643098,35.1595182,40.7281575,44.9537029,28.9005446,40.65760220000001,41.6611277,33.8352932,44.7319094,47.4941836,40.691613200000006,37.0298687,30.633261800000003,40.2968979,34.14426160000001,32.9341893,32.9810059,34.7464809,33.7455731,41.0339862,43.4916514,47.610377,38.7521235,40.5067723,42.5278731,40.92639570000001,38.95170529999999,42.7261309,39.978371,42.20115379999999,39.5150576,38.6785157,42.408430200000005,32.8370727,42.0883603,33.7475203,35.955692299999995,40.0581205,35.4495065,33.1433723,29.1383165,33.853626899999995,40.1261743,42.2711311,32.7947731,27.773056,41.8089191,41.2306979,44.6365107,36.1699412,29.6910625,27.2730492,41.9778795,29.2858129,42.25287720000001,25.9860762,31.7775757,39.0558235,34.0805651,44.9901194,44.9211836,41.081444700000006,26.3017374,34.1063989,32.8546197,38.2526647,36.910231,26.2517482,27.4989278,33.158093300000004,29.383845,40.5865396,42.9133602,41.452819,41.1616108,26.1224386,32.6130007,27.9658533,25.5808323,34.79981,39.4667034,31.0982344,39.7092262,43.5445959,39.2014404,26.244526300000004,42.5250906,41.7001009,35.3732921,25.7616798,30.226594899999995,46.2856907,35.7344538,37.654656,45.01051939999999,41.6763545,35.6528323,41.6005448,26.339806,40.5246711,33.97917929999999,42.36837,43.0389025,47.3073228,33.9204354,42.5584283,47.4828776,39.5807452,37.5407246,40.1053196,33.929460600000006,30.4393696,40.7439905,38.040583700000006,33.9022367,32.6926512,34.1283442,41.9125286,41.525031,34.9248667,38.5890723,42.3369816,21.3069444,28.8052674,41.9445441,33.0151201,32.975641499999995,41.632223,42.0629915,42.7262016,27.044224,39.0839973,34.18083920000001,33.8703596,44.0247062,30.723526300000003,42.4989936,33.9830688,33.8583483,34.0200114,39.0638705,36.3955891,37.3382082,30.508255100000003,45.072464200000006,35.2225668,25.4687224,29.529399800000004,33.6839473,42.8713032,37.6138253,43.7508284,32.5159852,30.505198,33.9304352,40.1164204,40.8584328,35.339507899999994,39.0169509,34.6867846,30.6743643,32.82346210000001,26.5628537,37.3229978,42.4500845,37.0057816,42.995639700000005,36.8529263,38.8402805,42.3875968,27.9094665,36.7468422,32.4709761,41.8505874,26.8233946,41.878711,34.0961111,36.0998596,34.07537620000001,38.8106075,37.4852152,37.59339179999999,25.9812024,44.1635775,33.5676842,33.6971468,40.397761200000005,42.1211364,41.8239891,25.8575963,37.7799273,34.0633443,47.6814875,37.0965278,32.216316,34.1425078,41.5381535,33.8883487,42.1250929,42.0354084,33.0198431,40.1672068,32.9545687,41.481993200000005,35.8422967,30.627977,42.3222599,43.100903,32.5093109,39.2903848,37.20895720000001,34.2284312,40.6337136,42.466763,44.923855200000006,29.6516344,38.5804609,47.6162683,25.9564812,36.0625795,37.9735346,35.0886963,47.2528768,41.5623209,44.4758825,42.5629668,33.635661799999994,40.7127837,34.2694474,34.0686208,39.372212100000006,30.8327022,32.7554883,33.8316745,37.9715592,34.953033700000006,36.0331164,32.7678287,39.8366528,40.3356483,37.4946568,40.42331420000001,32.351260100000005,28.5652787,31.549333,38.0193657,34.1705609,34.1336186,41.18654779999999,44.9597376,38.6631083,26.6276276,46.2395793,33.835849200000006,43.07305170000001,42.6827885,42.3636331,36.9685219,32.735687,33.046233,36.7280583,37.9974219,37.4418834,44.0462362,41.6362152,47.6739881,37.931868,38.5449065,33.9172357,35.9828412,40.5186809,31.2232313,40.767323,41.5731442,30.396031800000003,40.1105875,33.7739053,33.930293,39.8961821,40.7989473,33.8651033,30.4582829,41.6717648,39.0911161,42.732535,41.6303103,39.4863773,44.519159,42.0450722,28.5691677,34.0522342,47.3223221,40.6096698,34.033625,40.4406248,33.9401088,41.8455877,33.954737,30.1588129,37.0842271,29.5074538,40.7607793,27.446705600000005,33.4483771,44.5645659,32.5884689,42.14870429999999,29.1871986,34.0232431,42.0111412,43.2081366,47.0378741,33.660297,27.8005828,42.7762015,41.9994722,42.3736158,33.538652299999995,33.802515500000005,33.0185039,41.5236437,26.3683064,41.6612104,42.4972583,41.5200518,45.5001357,26.1403635,36.3047735,37.3541079,33.1958696,33.6469661,42.48059,40.7878788,42.40843,40.6220478,35.5950581,33.8958492],\"legendgroup\":\"\",\"lon\":[-122.1770818,-117.2286478,-81.6943605,-71.8022934,-81.0348144,-73.0514965,-93.1668858,-83.2218731,-92.0198427,-116.2146068,-85.9766671,-117.9981181,-84.5499327,-104.7613633,-80.0533746,-70.8967155,-88.3200715,-77.5636015,-80.3553302,-117.9939921,-101.8551665,-94.6707917,-90.1848103,-81.1873005,-81.02283309999999,-94.5785667,-118.3870173,-93.2777226,-96.56388,-104.5230242,-86.2999689,-111.8338359,-71.1522765,-75.4901833,-79.82842579999999,-84.9877094,-78.8783689,-88.10842240000001,-97.2289029,-84.1052256,-121.4943996,-94.3985475,-71.37005450000001,-93.7121656,-73.8370786,-105.08137340000002,-114.9817213,-117.8903397,-73.53873409999999,-86.5263857,-82.5618186,-117.4260466,-119.1372338,-75.1652215,-122.4781473,-119.2920585,-91.2395807,-95.8608333,-80.2258811,-96.7969879,-121.805789,-83.0302033,-80.0997657,-86.01335,-104.8202462,-117.2139232,-94.7335709,-86.0085955,-90.0125913,-117.688944,-77.2013705,-117.9536697,-77.41054090000002,-77.3663538,-88.7503647,-88.0070315,-104.9719243,-93.711332,-71.1550451,-119.3473379,-117.0841955,-80.27060440000001,-80.579511,-84.51437609999999,-81.53221490000001,-97.0328547,-82.59932940000002,-88.15353520000001,-80.1494901,-94.1185366,-90.0715323,-122.518458,-87.7479528,-116.6873596,-122.6764816,-122.0310733,-122.3467918,-90.4974359,-88.2314813,-111.651302,-122.29289740000002,-73.93956870000001,-104.990251,-89.6501481,-121.9499568,-117.2296717,-84.16882740000001,-83.17853609999999,-114.3224548,-92.2670941,-119.8138027,-105.0166498,-112.4685025,-121.9357918,-94.0476882,-70.2553259,-93.3563405,-72.94697109999998,-115.5630514,-96.8928309,-83.6874562,-121.88468059999998,-112.58377659999998,-117.9000604,-116.2155619,-111.9260519,-82.9987942,-76.3055144,-96.6851982,-74.74293840000001,-71.0588801,-117.865339,-92.4801989,-90.322614,-76.4921829,-79.05584449999999,-86.0252612,-115.4988834,-87.5294871,-113.996586,-119.7029194,-95.2860474,-111.789027,-89.6301221,-78.6381787,-117.8531119,-122.0651819,-122.6329356,-119.0167679,-111.2224422,-84.2807329,-95.4560512,-80.4139393,-98.4936282,-72.6850932,-92.3425775,-75.9179738,-116.3915131,-88.44705079999999,-94.9774274,-78.78111690000001,-70.94103559999999,-95.992775,-98.3252932,-81.48455849999999,-71.066163,-96.6705503,-110.926479,-86.86888990000001,-93.5272861,-81.655651,-74.4229266,-80.085059,-120.48296770000002,-99.7331439,-117.8131125,-82.3940104,-80.8428504,-82.8963604,-76.88670079999999,-119.22903159999998,-121.9885719,-104.6091409,-71.03282840000001,-89.98399350000001,-93.2650108,-89.8739753,-98.4933873,-95.5377215,-90.1994042,-98.1836216,-106.6055534,-83.357567,-111.929658,-115.1175013,-117.7499909,-117.5848025,-83.09296440000001,-95.2352501,-102.0779146,-97.5164276,-110.96648799999998,-111.8314724,-73.4081575,-85.6447492,-88.1064787,-96.4597089,-86.15861559999999,-117.826166,-94.1632404,-74.12847640000001,-117.086421,-122.4110835,-122.272747,-117.6119925,-98.3959291,-91.4984941,-112.0476423,-96.8570738,-85.13935129999999,-122.3415178,-71.10616390000001,-117.94617340000002,-73.7562317,-122.47020790000002,-83.2696509,-79.1422464,-76.77913649999999,-73.45401109999999,-78.4766781,-80.2683838,-116.7804664,-118.0275667,-88.3161965,-121.9999606,-112.3576567,-74.171811,-123.0350963,-81.40757099999999,-83.9508068,-97.4974838,-97.0969552,-97.0780654,-93.3499489,-83.0457538,-84.56031870000001,-97.1416768,-77.61092190000001,-86.80249,-97.7430608,-119.6981901,-87.9889556,-106.6630437,-88.99063120000001,-88.0895061,-93.3030063,-122.3255254,-81.3792365,-106.313081,-97.1430671,-77.9447102,-82.6995443,-80.1625463,-94.6274636,-71.8022955,-87.92895909999999,-71.2092214,-80.18671379999999,-72.07591049999999,-74.1723667,-92.4451371,-93.2349489,-97.6961026,-120.4579409,-97.1330683,-94.7976958,-86.10665259999999,-121.6555013,-80.2456045,-82.445154,-99.4803241,-80.6081089,-97.2691817,-80.5886646,-77.91553950000001,-111.880771,-120.9577098,-81.72290859999998,-103.2310149,-118.1514588,-104.9338675,-72.589811,-105.084423,-122.1560768,-117.2425355,-73.8987469,-84.5120196,-77.7199932,-81.269453,-74.2631635,-83.555212,-110.27728559999998,-76.4730122,-87.5000412,-87.9631308,-95.6349463,-86.5861037,-121.2722194,-122.3773552,-96.9083366,-77.7905339,-83.2910468,-117.0991967,-122.0807964,-79.03773879999999,-119.7526886,-119.6456844,-118.0372852,-80.6495194,-86.7483318,-117.1825381,-89.51814759999999,-116.5634624,-77.03687070000001,-88.1070127,-96.7561082,-117.3703235,-96.7898034,-89.58898640000001,-95.9979883,-117.603104,-96.5716694,-116.54529209999998,-117.1610838,-122.7140548,-71.3161718,-95.7974526,-122.2348431,-86.78160159999999,-74.0434736,-105.0866504,-78.898619,-97.336111,-116.4668036,-93.24272,-87.9403418,-97.9908366,-88.0125865,-122.0363496,-122.0307963,-87.8211854,-77.8600012,-82.51544709999999,-91.4098726,-80.1247667,-100.4370375,-88.9936873,-121.4252227,-81.93204820000001,-71.467566,-83.6324022,-73.6187397,-75.1196199,-116.3744556,-88.1784085,-76.2874927,-83.11407709999999,-119.0376023,-86.2483921,-74.2107006,-149.90027780000003,-101.2922906,-80.2521157,-98.2300124,-96.6397822,-97.7277959,-83.6499321,-122.27111370000002,-122.0838511,-117.3272615,-101.8312969,-111.6585337,-84.3879824,-118.1228476,-81.83569,-120.0607176,-88.9548001,-71.5147839,-88.0398912,-122.25663670000002,-118.0353449,-89.66452659999999,-92.1735164,-94.7404891,-111.8412502,-105.0874842,-118.1270146,-86.13360329999999,-80.13198929999999,-86.158068,-80.0905465,-111.5495777,-87.9372908,-71.4372796,-86.8752869,-94.8191285,-84.19857900000001,-79.79197540000001,-85.5872286,-122.7714861,-77.43024140000001,-121.2810611,-87.5691735,-93.6001278,-118.3525748,-86.8113781,-80.07282009999999,-80.2683571,-114.5285981,-80.3997748,-83.1497751,-73.78235490000002,-121.29077959999998,-83.1446485,-80.8075537,-117.7075526,-117.2393748,-117.9186689,-96.9977846,-76.29827420000001,-122.8231915,-78.85028559999999,-96.4003069,-117.2919818,-111.654923,-118.2250725,-93.470786,-112.2373779,-111.9400054,-75.5397878,-111.9388258,-83.400211,-96.5991593,-79.43779909999999,-96.6388833,-122.3477486,-100.7837392,-119.7674034,-95.3696909,-82.0105148,-78.87835849999999,-84.155741,-74.360846,-122.0402399,-117.8103367,-86.9833417,-85.3096801,-85.7371847,-88.1856301,-117.96089779999998,-80.1300455,-88.8139469,-93.939947,-120.6596156,-97.3208492,-117.9289469,-111.9391023,-120.5058987,-84.1916069,-89.0928155,-118.1937395,-121.8374777,-89.2903392,-123.08675359999998,-117.3136547,-118.1137535,-121.8746789,-122.2020794,-97.9297743,-122.0399663,-112.3496021,-81.5267873,-85.17971419999999,-93.2982799,-90.5787476,-122.8037102,-90.2417434,-103.2052272,-73.69178509999999,-121.8995741,-87.88339909999999,-117.8703363,-71.08976740000001,-117.6897776,-82.35347270000001,-81.0998342,-80.81841659999999,-122.6614861,-80.25659499999999,-85.3863599,-111.8507662,-122.4194155,-117.435048,-96.8236116,-117.7325848,-117.0358646,-84.1246608,-74.4518188,-76.28587259999999,-122.989827,-116.95863500000002,-87.2169149,-84.5613355,-79.7625625,-117.2897652,-84.2214551,-117.2927641,-87.3464271,-111.7573521,-121.6543901,-90.6645718,-76.1474244,-87.3594528,-81.9498042,-73.7084645,-75.5243682,-96.7678039,-118.3964665,-88.03424,-122.33207079999998,-84.5085536,-121.3716178,-93.7501789,-111.9738304,-78.8689155,-118.3531311,-118.1445155,-71.1631137,-122.6706498,-122.6366524,-83.8088171,-122.286865,-104.8319195,-92.1004852,-79.9414266,-121.3153096,-117.1858759,-71.2356113,-81.87230840000001,-82.4571776,-117.6483876,-79.3950228,-89.0317765,-80.23310359999999,-104.8213634,-120.9968782,-85.6680863,-87.7845025,-82.5306527,-117.4854802,-118.1170117,-105.2705456,-105.937799,-116.173894,-71.55228740000001,-117.3961564,-118.11646129999998,-122.5697032,-111.9710529,-88.0683955,-117.6719953,-87.7878408,-121.29300790000002,-121.17605829999998,-112.315721,-106.7636538,-111.0429339,-88.0834059,-83.01465259999999,-90.6298922,-93.62,-112.3679279,-96.7298519,-84.24721159999999,-97.9413941,-75.88130749999999,-88.4153847,-94.7151865,-81.339552,-121.7680088,-80.8431267,-87.1111676,-80.09420870000001,-122.70109840000002,-87.62979820000001,-108.5006904,-88.0075875,-88.0078435,-72.9278835,-76.727745,-83.9207392,-82.10764859999999,-70.3002024,-111.8879909,-122.2416355,-121.21605259999998,-92.9952153,-122.8755949,-86.39027,-121.6169108,-73.0931641,-92.4453161,-89.8100858,-75.66241219999999,-85.48078249999999,-77.4752667,-121.9877444,-118.4911912,-76.5835621,-83.14993220000001,-116.3100095,-81.6326234,-119.2470536,-81.2811801,-79.9310512,-80.62173409999998,-117.5664384,-121.2357828,-94.3821724,-81.2078699,-111.8389726,-94.2088172,-118.542586,-81.36562420000001,-98.1244531,-90.0489801,-96.9488945,-77.0469214,-117.3008784,-72.61620090000001,-84.3346473,-87.7416246,-74.1454214,-75.3704579,-94.846681,-118.3884078,-95.3698028,-117.1483648,-83.7430378,-94.1265562,-84.48386540000001,-116.97391670000002,-80.2497707,-95.9145568,-80.2962555,-94.1288141,-119.17705159999998,-102.3676431,-97.0583681,-71.0183787,-74.11430909999999,-118.15979109999998,-90.5151342,-88.70365600000001,-84.8766115,-74.0776417,-93.0899578,-81.2636738,-73.58318349999999,-91.5301683,-117.9145036,-93.21772,-111.2833449,-112.0010501,-76.3452218,-97.6779842,-111.69464750000002,-118.0019482,-97.229298,-80.03258670000001,-92.2895948,-117.8678338,-73.76290970000001,-112.0339645,-122.2006786,-121.28800590000002,-74.2654234,-70.92866090000001,-98.3420118,-92.3340724,-87.78285229999999,-86.1180435,-85.5800022,-84.39827629999999,-121.7732971,-71.0119948,-97.0819541,-87.9806265,-116.9719684,-80.0053176,-82.4012642,-97.3967019,-117.1661449,-80.9956105,-118.1339563,-82.9290696,-89.09399520000001,-116.9625269,-82.64,-88.01117459999999,-73.064036,-123.1059282,-115.13982959999998,-95.2091006,-80.3582261,-91.6656232,-81.05588940000001,-71.0022705,-80.3035602,-106.4424559,-95.6890185,-118.072846,-123.0262077,-93.4687489,-81.51900529999999,-98.1633432,-117.5931084,-79.9748103,-85.7584557,-121.7568946,-80.17893509999999,-82.5748194,-117.3505939,-94.9027002,-122.3916754,-85.7053085,-82.18237459999999,-112.0263313,-80.13731740000001,-83.624201,-82.8001026,-80.3468593,-87.677251,-87.4139092,-97.342782,-84.0632685,-96.7311034,-85.9213796,-80.206436,-71.759794,-71.4161671,-119.0187125,-80.1917902,-93.2173758,-119.2844621,-81.3444573,-122.4077498,-93.4555093,-86.25198979999999,-97.4780954,-93.6091064,-81.77869720000001,-111.8638226,-118.032844,-83.3527097,-87.9064736,-122.22845320000002,-80.3414693,-70.880049,-122.21706609999998,-104.8771726,-77.4360481,-85.6802541,-116.977248,-97.6200043,-74.0323626,-84.50371640000002,-118.081733,-114.6276916,-117.2086513,-88.1347927,-88.0817251,-81.02507840000001,-121.302728,-83.2732627,-157.8583333,-97.0035982,-71.2856082,-96.5388789,-96.8899636,-88.2120315,-88.1227199,-71.19089240000001,-82.23592540000001,-77.1527578,-118.30896609999998,-117.9242966,-88.5426136,-95.5507771,-83.3677168,-118.096735,-118.0647871,-117.9495083,-108.5506486,-97.8783911,-121.88632859999998,-97.678896,-93.4557877,-97.4394777,-80.4775569,-95.2010447,-117.7946942,-112.4455344,-122.48691940000002,-87.71453000000001,-93.7321228,-97.8202888,-84.3733147,-88.2433829,-74.16375529999999,-97.4867028,-94.2816148,-118.1541632,-96.3699632,-97.1705678,-81.94953309999998,-122.0321823,-73.2453824,-121.5682751,-71.4547891,-75.977985,-97.6114237,-71.0994968,-82.7873244,-119.7725868,-85.0007653,-87.79366850000001,-80.1386547,-71.38255579999999,-118.1058333,-80.24421600000001,-84.2940899,-90.6998477,-122.2363548,-122.0438298,-80.148379,-93.9993996,-117.7256083,-117.185294,-105.0749801,-88.2578582,-71.4128343,-80.2781057,-121.9780153,-117.6508876,-122.2087353,-113.5684164,-80.752608,-118.255075,-72.8070435,-118.3089624,-72.749538,-88.2825668,-96.6988856,-105.1019275,-97.0150078,-81.7981908,-90.704279,-96.3344068,-83.1763145,-75.232664,-92.1193012,-76.6121893,-93.2922989,-92.0031955,-74.40737359999999,-70.9494938,-92.9593797,-82.3248262,-121.530234,-122.0355736,-80.1392121,-94.1574263,-122.5310874,-92.4421011,-122.4442906,-72.6506488,-73.21207199999999,-114.4608711,-96.6088805,-74.00594129999999,-118.781482,-117.93895259999998,-104.8560902,-83.2784851,-97.3307658,-118.281693,-87.5710898,-120.4357191,-86.7827772,-117.02308390000002,-105.03720459999998,-75.9268747,-120.8465941,-104.7091322,-95.3010624,-81.5861847,-97.1466695,-122.1341321,-118.8375937,-117.9075627,-73.1951767,-93.3702186,-90.5770675,-80.1353896,-119.10056570000002,-118.3406288,-89.4012302,-89.01872220000001,-87.84479379999999,-86.48080429999999,-97.1080656,-96.994174,-108.2186856,-121.7124536,-122.1430195,-123.0220289,-70.934205,-122.121512,-121.6957863,-121.7405167,-118.0120086,-86.51860450000001,-78.3947359,-85.39048879999999,-74.20486770000001,-87.7932939,-88.88530779999999,-88.2072697,-117.9414477,-118.21146029999998,-104.9811468,-81.378447,-84.3365917,-91.1403196,-72.9492703,-94.4155068,-84.55553470000001,-87.8539425,-75.0259637,-88.019826,-87.6876969,-81.5439619,-118.24368490000002,-122.3126222,-111.9391031,-117.0430865,-79.9958864,-118.1331593,-87.7539448,-118.2120161,-85.6602058,-94.513281,-95.0949303,-111.89104740000002,-80.3256056,-112.0740373,-123.2620435,-96.9561152,-72.6078672,-82.14009229999999,-84.36155550000001,-87.8406192,-71.5375718,-122.9006951,-117.9992265,-97.396381,-71.0772796,-88.1450735,-71.10973349999999,-112.1859866,-117.9931165,-80.17564809999999,-90.5776367,-80.1289321,-72.77954190000001,-82.93714090000002,-81.556235,-122.4302013,-80.2133808,-86.6199957,-121.9552356,-117.3794834,-117.689218,-83.47549129999999,-74.0143064,-71.0536625,-74.2445902,-82.5514869,-118.2200712],\"marker\":{\"color\":\"fuchsia\"},\"mode\":\"markers\",\"name\":\"\",\"showlegend\":false,\"subplot\":\"mapbox\",\"type\":\"scattermapbox\"}],                        {\"template\":{\"data\":{\"histogram2dcontour\":[{\"type\":\"histogram2dcontour\",\"colorbar\":{\"outlinewidth\":0,\"ticks\":\"\"},\"colorscale\":[[0.0,\"#0d0887\"],[0.1111111111111111,\"#46039f\"],[0.2222222222222222,\"#7201a8\"],[0.3333333333333333,\"#9c179e\"],[0.4444444444444444,\"#bd3786\"],[0.5555555555555556,\"#d8576b\"],[0.6666666666666666,\"#ed7953\"],[0.7777777777777778,\"#fb9f3a\"],[0.8888888888888888,\"#fdca26\"],[1.0,\"#f0f921\"]]}],\"choropleth\":[{\"type\":\"choropleth\",\"colorbar\":{\"outlinewidth\":0,\"ticks\":\"\"}}],\"histogram2d\":[{\"type\":\"histogram2d\",\"colorbar\":{\"outlinewidth\":0,\"ticks\":\"\"},\"colorscale\":[[0.0,\"#0d0887\"],[0.1111111111111111,\"#46039f\"],[0.2222222222222222,\"#7201a8\"],[0.3333333333333333,\"#9c179e\"],[0.4444444444444444,\"#bd3786\"],[0.5555555555555556,\"#d8576b\"],[0.6666666666666666,\"#ed7953\"],[0.7777777777777778,\"#fb9f3a\"],[0.8888888888888888,\"#fdca26\"],[1.0,\"#f0f921\"]]}],\"heatmap\":[{\"type\":\"heatmap\",\"colorbar\":{\"outlinewidth\":0,\"ticks\":\"\"},\"colorscale\":[[0.0,\"#0d0887\"],[0.1111111111111111,\"#46039f\"],[0.2222222222222222,\"#7201a8\"],[0.3333333333333333,\"#9c179e\"],[0.4444444444444444,\"#bd3786\"],[0.5555555555555556,\"#d8576b\"],[0.6666666666666666,\"#ed7953\"],[0.7777777777777778,\"#fb9f3a\"],[0.8888888888888888,\"#fdca26\"],[1.0,\"#f0f921\"]]}],\"heatmapgl\":[{\"type\":\"heatmapgl\",\"colorbar\":{\"outlinewidth\":0,\"ticks\":\"\"},\"colorscale\":[[0.0,\"#0d0887\"],[0.1111111111111111,\"#46039f\"],[0.2222222222222222,\"#7201a8\"],[0.3333333333333333,\"#9c179e\"],[0.4444444444444444,\"#bd3786\"],[0.5555555555555556,\"#d8576b\"],[0.6666666666666666,\"#ed7953\"],[0.7777777777777778,\"#fb9f3a\"],[0.8888888888888888,\"#fdca26\"],[1.0,\"#f0f921\"]]}],\"contourcarpet\":[{\"type\":\"contourcarpet\",\"colorbar\":{\"outlinewidth\":0,\"ticks\":\"\"}}],\"contour\":[{\"type\":\"contour\",\"colorbar\":{\"outlinewidth\":0,\"ticks\":\"\"},\"colorscale\":[[0.0,\"#0d0887\"],[0.1111111111111111,\"#46039f\"],[0.2222222222222222,\"#7201a8\"],[0.3333333333333333,\"#9c179e\"],[0.4444444444444444,\"#bd3786\"],[0.5555555555555556,\"#d8576b\"],[0.6666666666666666,\"#ed7953\"],[0.7777777777777778,\"#fb9f3a\"],[0.8888888888888888,\"#fdca26\"],[1.0,\"#f0f921\"]]}],\"surface\":[{\"type\":\"surface\",\"colorbar\":{\"outlinewidth\":0,\"ticks\":\"\"},\"colorscale\":[[0.0,\"#0d0887\"],[0.1111111111111111,\"#46039f\"],[0.2222222222222222,\"#7201a8\"],[0.3333333333333333,\"#9c179e\"],[0.4444444444444444,\"#bd3786\"],[0.5555555555555556,\"#d8576b\"],[0.6666666666666666,\"#ed7953\"],[0.7777777777777778,\"#fb9f3a\"],[0.8888888888888888,\"#fdca26\"],[1.0,\"#f0f921\"]]}],\"mesh3d\":[{\"type\":\"mesh3d\",\"colorbar\":{\"outlinewidth\":0,\"ticks\":\"\"}}],\"scatter\":[{\"fillpattern\":{\"fillmode\":\"overlay\",\"size\":10,\"solidity\":0.2},\"type\":\"scatter\"}],\"parcoords\":[{\"type\":\"parcoords\",\"line\":{\"colorbar\":{\"outlinewidth\":0,\"ticks\":\"\"}}}],\"scatterpolargl\":[{\"type\":\"scatterpolargl\",\"marker\":{\"colorbar\":{\"outlinewidth\":0,\"ticks\":\"\"}}}],\"bar\":[{\"error_x\":{\"color\":\"#2a3f5f\"},\"error_y\":{\"color\":\"#2a3f5f\"},\"marker\":{\"line\":{\"color\":\"#E5ECF6\",\"width\":0.5},\"pattern\":{\"fillmode\":\"overlay\",\"size\":10,\"solidity\":0.2}},\"type\":\"bar\"}],\"scattergeo\":[{\"type\":\"scattergeo\",\"marker\":{\"colorbar\":{\"outlinewidth\":0,\"ticks\":\"\"}}}],\"scatterpolar\":[{\"type\":\"scatterpolar\",\"marker\":{\"colorbar\":{\"outlinewidth\":0,\"ticks\":\"\"}}}],\"histogram\":[{\"marker\":{\"pattern\":{\"fillmode\":\"overlay\",\"size\":10,\"solidity\":0.2}},\"type\":\"histogram\"}],\"scattergl\":[{\"type\":\"scattergl\",\"marker\":{\"colorbar\":{\"outlinewidth\":0,\"ticks\":\"\"}}}],\"scatter3d\":[{\"type\":\"scatter3d\",\"line\":{\"colorbar\":{\"outlinewidth\":0,\"ticks\":\"\"}},\"marker\":{\"colorbar\":{\"outlinewidth\":0,\"ticks\":\"\"}}}],\"scattermapbox\":[{\"type\":\"scattermapbox\",\"marker\":{\"colorbar\":{\"outlinewidth\":0,\"ticks\":\"\"}}}],\"scatterternary\":[{\"type\":\"scatterternary\",\"marker\":{\"colorbar\":{\"outlinewidth\":0,\"ticks\":\"\"}}}],\"scattercarpet\":[{\"type\":\"scattercarpet\",\"marker\":{\"colorbar\":{\"outlinewidth\":0,\"ticks\":\"\"}}}],\"carpet\":[{\"aaxis\":{\"endlinecolor\":\"#2a3f5f\",\"gridcolor\":\"white\",\"linecolor\":\"white\",\"minorgridcolor\":\"white\",\"startlinecolor\":\"#2a3f5f\"},\"baxis\":{\"endlinecolor\":\"#2a3f5f\",\"gridcolor\":\"white\",\"linecolor\":\"white\",\"minorgridcolor\":\"white\",\"startlinecolor\":\"#2a3f5f\"},\"type\":\"carpet\"}],\"table\":[{\"cells\":{\"fill\":{\"color\":\"#EBF0F8\"},\"line\":{\"color\":\"white\"}},\"header\":{\"fill\":{\"color\":\"#C8D4E3\"},\"line\":{\"color\":\"white\"}},\"type\":\"table\"}],\"barpolar\":[{\"marker\":{\"line\":{\"color\":\"#E5ECF6\",\"width\":0.5},\"pattern\":{\"fillmode\":\"overlay\",\"size\":10,\"solidity\":0.2}},\"type\":\"barpolar\"}],\"pie\":[{\"automargin\":true,\"type\":\"pie\"}]},\"layout\":{\"autotypenumbers\":\"strict\",\"colorway\":[\"#636efa\",\"#EF553B\",\"#00cc96\",\"#ab63fa\",\"#FFA15A\",\"#19d3f3\",\"#FF6692\",\"#B6E880\",\"#FF97FF\",\"#FECB52\"],\"font\":{\"color\":\"#2a3f5f\"},\"hovermode\":\"closest\",\"hoverlabel\":{\"align\":\"left\"},\"paper_bgcolor\":\"white\",\"plot_bgcolor\":\"#E5ECF6\",\"polar\":{\"bgcolor\":\"#E5ECF6\",\"angularaxis\":{\"gridcolor\":\"white\",\"linecolor\":\"white\",\"ticks\":\"\"},\"radialaxis\":{\"gridcolor\":\"white\",\"linecolor\":\"white\",\"ticks\":\"\"}},\"ternary\":{\"bgcolor\":\"#E5ECF6\",\"aaxis\":{\"gridcolor\":\"white\",\"linecolor\":\"white\",\"ticks\":\"\"},\"baxis\":{\"gridcolor\":\"white\",\"linecolor\":\"white\",\"ticks\":\"\"},\"caxis\":{\"gridcolor\":\"white\",\"linecolor\":\"white\",\"ticks\":\"\"}},\"coloraxis\":{\"colorbar\":{\"outlinewidth\":0,\"ticks\":\"\"}},\"colorscale\":{\"sequential\":[[0.0,\"#0d0887\"],[0.1111111111111111,\"#46039f\"],[0.2222222222222222,\"#7201a8\"],[0.3333333333333333,\"#9c179e\"],[0.4444444444444444,\"#bd3786\"],[0.5555555555555556,\"#d8576b\"],[0.6666666666666666,\"#ed7953\"],[0.7777777777777778,\"#fb9f3a\"],[0.8888888888888888,\"#fdca26\"],[1.0,\"#f0f921\"]],\"sequentialminus\":[[0.0,\"#0d0887\"],[0.1111111111111111,\"#46039f\"],[0.2222222222222222,\"#7201a8\"],[0.3333333333333333,\"#9c179e\"],[0.4444444444444444,\"#bd3786\"],[0.5555555555555556,\"#d8576b\"],[0.6666666666666666,\"#ed7953\"],[0.7777777777777778,\"#fb9f3a\"],[0.8888888888888888,\"#fdca26\"],[1.0,\"#f0f921\"]],\"diverging\":[[0,\"#8e0152\"],[0.1,\"#c51b7d\"],[0.2,\"#de77ae\"],[0.3,\"#f1b6da\"],[0.4,\"#fde0ef\"],[0.5,\"#f7f7f7\"],[0.6,\"#e6f5d0\"],[0.7,\"#b8e186\"],[0.8,\"#7fbc41\"],[0.9,\"#4d9221\"],[1,\"#276419\"]]},\"xaxis\":{\"gridcolor\":\"white\",\"linecolor\":\"white\",\"ticks\":\"\",\"title\":{\"standoff\":15},\"zerolinecolor\":\"white\",\"automargin\":true,\"zerolinewidth\":2},\"yaxis\":{\"gridcolor\":\"white\",\"linecolor\":\"white\",\"ticks\":\"\",\"title\":{\"standoff\":15},\"zerolinecolor\":\"white\",\"automargin\":true,\"zerolinewidth\":2},\"scene\":{\"xaxis\":{\"backgroundcolor\":\"#E5ECF6\",\"gridcolor\":\"white\",\"linecolor\":\"white\",\"showbackground\":true,\"ticks\":\"\",\"zerolinecolor\":\"white\",\"gridwidth\":2},\"yaxis\":{\"backgroundcolor\":\"#E5ECF6\",\"gridcolor\":\"white\",\"linecolor\":\"white\",\"showbackground\":true,\"ticks\":\"\",\"zerolinecolor\":\"white\",\"gridwidth\":2},\"zaxis\":{\"backgroundcolor\":\"#E5ECF6\",\"gridcolor\":\"white\",\"linecolor\":\"white\",\"showbackground\":true,\"ticks\":\"\",\"zerolinecolor\":\"white\",\"gridwidth\":2}},\"shapedefaults\":{\"line\":{\"color\":\"#2a3f5f\"}},\"annotationdefaults\":{\"arrowcolor\":\"#2a3f5f\",\"arrowhead\":0,\"arrowwidth\":1},\"geo\":{\"bgcolor\":\"white\",\"landcolor\":\"#E5ECF6\",\"subunitcolor\":\"white\",\"showland\":true,\"showlakes\":true,\"lakecolor\":\"white\"},\"title\":{\"x\":0.05},\"mapbox\":{\"style\":\"light\"}}},\"mapbox\":{\"domain\":{\"x\":[0.0,1.0],\"y\":[0.0,1.0]},\"center\":{\"lat\":37.3382407015,\"lon\":-96.4830233607},\"zoom\":3,\"style\":\"open-street-map\"},\"legend\":{\"tracegroupgap\":0},\"margin\":{\"t\":0,\"r\":0,\"l\":0,\"b\":0},\"height\":300},                        {\"responsive\": true}                    ).then(function(){\n",
       "                            \n",
       "var gd = document.getElementById('10e0b52e-4e75-4f3e-906a-1d33a99fc76c');\n",
       "var x = new MutationObserver(function (mutations, observer) {{\n",
       "        var display = window.getComputedStyle(gd).display;\n",
       "        if (!display || display === 'none') {{\n",
       "            console.log([gd, 'removed!']);\n",
       "            Plotly.purge(gd);\n",
       "            observer.disconnect();\n",
       "        }}\n",
       "}});\n",
       "\n",
       "// Listen for the removal of the full notebook cells\n",
       "var notebookContainer = gd.closest('#notebook-container');\n",
       "if (notebookContainer) {{\n",
       "    x.observe(notebookContainer, {childList: true});\n",
       "}}\n",
       "\n",
       "// Listen for the clearing of the current output cell\n",
       "var outputEl = gd.closest('.output');\n",
       "if (outputEl) {{\n",
       "    x.observe(outputEl, {childList: true});\n",
       "}}\n",
       "\n",
       "                        })                };                });            </script>        </div>"
      ]
     },
     "metadata": {},
     "output_type": "display_data"
    }
   ],
   "source": [
    "import pandas as pd\n",
    "us_cities = pd.read_csv(\"https://raw.githubusercontent.com/plotly/datasets/master/us-cities-top-1k.csv\")\n",
    "\n",
    "import plotly.express as px\n",
    "\n",
    "fig = px.scatter_mapbox(us_cities, lat=\"lat\", lon=\"lon\", hover_name=\"City\", hover_data=[\"State\", \"Population\"],\n",
    "                        color_discrete_sequence=[\"fuchsia\"], zoom=3, height=300)\n",
    "fig.update_layout(mapbox_style=\"open-street-map\")\n",
    "fig.update_layout(margin={\"r\":0,\"t\":0,\"l\":0,\"b\":0})\n",
    "fig.show()"
   ]
  },
  {
   "cell_type": "code",
   "execution_count": 5,
   "id": "78be9db2-984c-4951-a406-d3cfd5694563",
   "metadata": {
    "tags": []
   },
   "outputs": [
    {
     "data": {
      "application/vnd.plotly.v1+json": {
       "config": {
        "plotlyServerURL": "https://plot.ly"
       },
       "data": [
        {
         "alignmentgroup": "True",
         "hovertemplate": "x=%{x}<br>y=%{y}<extra></extra>",
         "legendgroup": "",
         "marker": {
          "color": "#636efa",
          "pattern": {
           "shape": ""
          }
         },
         "name": "",
         "offsetgroup": "",
         "orientation": "v",
         "showlegend": false,
         "textposition": "auto",
         "type": "bar",
         "x": [
          "a",
          "b",
          "c"
         ],
         "xaxis": "x",
         "y": [
          1,
          3,
          2
         ],
         "yaxis": "y"
        }
       ],
       "layout": {
        "autosize": true,
        "barmode": "relative",
        "legend": {
         "tracegroupgap": 0
        },
        "margin": {
         "t": 60
        },
        "template": {
         "data": {
          "bar": [
           {
            "error_x": {
             "color": "#2a3f5f"
            },
            "error_y": {
             "color": "#2a3f5f"
            },
            "marker": {
             "line": {
              "color": "#E5ECF6",
              "width": 0.5
             },
             "pattern": {
              "fillmode": "overlay",
              "size": 10,
              "solidity": 0.2
             }
            },
            "type": "bar"
           }
          ],
          "barpolar": [
           {
            "marker": {
             "line": {
              "color": "#E5ECF6",
              "width": 0.5
             },
             "pattern": {
              "fillmode": "overlay",
              "size": 10,
              "solidity": 0.2
             }
            },
            "type": "barpolar"
           }
          ],
          "carpet": [
           {
            "aaxis": {
             "endlinecolor": "#2a3f5f",
             "gridcolor": "white",
             "linecolor": "white",
             "minorgridcolor": "white",
             "startlinecolor": "#2a3f5f"
            },
            "baxis": {
             "endlinecolor": "#2a3f5f",
             "gridcolor": "white",
             "linecolor": "white",
             "minorgridcolor": "white",
             "startlinecolor": "#2a3f5f"
            },
            "type": "carpet"
           }
          ],
          "choropleth": [
           {
            "colorbar": {
             "outlinewidth": 0,
             "ticks": ""
            },
            "type": "choropleth"
           }
          ],
          "contour": [
           {
            "colorbar": {
             "outlinewidth": 0,
             "ticks": ""
            },
            "colorscale": [
             [
              0,
              "#0d0887"
             ],
             [
              0.1111111111111111,
              "#46039f"
             ],
             [
              0.2222222222222222,
              "#7201a8"
             ],
             [
              0.3333333333333333,
              "#9c179e"
             ],
             [
              0.4444444444444444,
              "#bd3786"
             ],
             [
              0.5555555555555556,
              "#d8576b"
             ],
             [
              0.6666666666666666,
              "#ed7953"
             ],
             [
              0.7777777777777778,
              "#fb9f3a"
             ],
             [
              0.8888888888888888,
              "#fdca26"
             ],
             [
              1,
              "#f0f921"
             ]
            ],
            "type": "contour"
           }
          ],
          "contourcarpet": [
           {
            "colorbar": {
             "outlinewidth": 0,
             "ticks": ""
            },
            "type": "contourcarpet"
           }
          ],
          "heatmap": [
           {
            "colorbar": {
             "outlinewidth": 0,
             "ticks": ""
            },
            "colorscale": [
             [
              0,
              "#0d0887"
             ],
             [
              0.1111111111111111,
              "#46039f"
             ],
             [
              0.2222222222222222,
              "#7201a8"
             ],
             [
              0.3333333333333333,
              "#9c179e"
             ],
             [
              0.4444444444444444,
              "#bd3786"
             ],
             [
              0.5555555555555556,
              "#d8576b"
             ],
             [
              0.6666666666666666,
              "#ed7953"
             ],
             [
              0.7777777777777778,
              "#fb9f3a"
             ],
             [
              0.8888888888888888,
              "#fdca26"
             ],
             [
              1,
              "#f0f921"
             ]
            ],
            "type": "heatmap"
           }
          ],
          "heatmapgl": [
           {
            "colorbar": {
             "outlinewidth": 0,
             "ticks": ""
            },
            "colorscale": [
             [
              0,
              "#0d0887"
             ],
             [
              0.1111111111111111,
              "#46039f"
             ],
             [
              0.2222222222222222,
              "#7201a8"
             ],
             [
              0.3333333333333333,
              "#9c179e"
             ],
             [
              0.4444444444444444,
              "#bd3786"
             ],
             [
              0.5555555555555556,
              "#d8576b"
             ],
             [
              0.6666666666666666,
              "#ed7953"
             ],
             [
              0.7777777777777778,
              "#fb9f3a"
             ],
             [
              0.8888888888888888,
              "#fdca26"
             ],
             [
              1,
              "#f0f921"
             ]
            ],
            "type": "heatmapgl"
           }
          ],
          "histogram": [
           {
            "marker": {
             "pattern": {
              "fillmode": "overlay",
              "size": 10,
              "solidity": 0.2
             }
            },
            "type": "histogram"
           }
          ],
          "histogram2d": [
           {
            "colorbar": {
             "outlinewidth": 0,
             "ticks": ""
            },
            "colorscale": [
             [
              0,
              "#0d0887"
             ],
             [
              0.1111111111111111,
              "#46039f"
             ],
             [
              0.2222222222222222,
              "#7201a8"
             ],
             [
              0.3333333333333333,
              "#9c179e"
             ],
             [
              0.4444444444444444,
              "#bd3786"
             ],
             [
              0.5555555555555556,
              "#d8576b"
             ],
             [
              0.6666666666666666,
              "#ed7953"
             ],
             [
              0.7777777777777778,
              "#fb9f3a"
             ],
             [
              0.8888888888888888,
              "#fdca26"
             ],
             [
              1,
              "#f0f921"
             ]
            ],
            "type": "histogram2d"
           }
          ],
          "histogram2dcontour": [
           {
            "colorbar": {
             "outlinewidth": 0,
             "ticks": ""
            },
            "colorscale": [
             [
              0,
              "#0d0887"
             ],
             [
              0.1111111111111111,
              "#46039f"
             ],
             [
              0.2222222222222222,
              "#7201a8"
             ],
             [
              0.3333333333333333,
              "#9c179e"
             ],
             [
              0.4444444444444444,
              "#bd3786"
             ],
             [
              0.5555555555555556,
              "#d8576b"
             ],
             [
              0.6666666666666666,
              "#ed7953"
             ],
             [
              0.7777777777777778,
              "#fb9f3a"
             ],
             [
              0.8888888888888888,
              "#fdca26"
             ],
             [
              1,
              "#f0f921"
             ]
            ],
            "type": "histogram2dcontour"
           }
          ],
          "mesh3d": [
           {
            "colorbar": {
             "outlinewidth": 0,
             "ticks": ""
            },
            "type": "mesh3d"
           }
          ],
          "parcoords": [
           {
            "line": {
             "colorbar": {
              "outlinewidth": 0,
              "ticks": ""
             }
            },
            "type": "parcoords"
           }
          ],
          "pie": [
           {
            "automargin": true,
            "type": "pie"
           }
          ],
          "scatter": [
           {
            "fillpattern": {
             "fillmode": "overlay",
             "size": 10,
             "solidity": 0.2
            },
            "type": "scatter"
           }
          ],
          "scatter3d": [
           {
            "line": {
             "colorbar": {
              "outlinewidth": 0,
              "ticks": ""
             }
            },
            "marker": {
             "colorbar": {
              "outlinewidth": 0,
              "ticks": ""
             }
            },
            "type": "scatter3d"
           }
          ],
          "scattercarpet": [
           {
            "marker": {
             "colorbar": {
              "outlinewidth": 0,
              "ticks": ""
             }
            },
            "type": "scattercarpet"
           }
          ],
          "scattergeo": [
           {
            "marker": {
             "colorbar": {
              "outlinewidth": 0,
              "ticks": ""
             }
            },
            "type": "scattergeo"
           }
          ],
          "scattergl": [
           {
            "marker": {
             "colorbar": {
              "outlinewidth": 0,
              "ticks": ""
             }
            },
            "type": "scattergl"
           }
          ],
          "scattermapbox": [
           {
            "marker": {
             "colorbar": {
              "outlinewidth": 0,
              "ticks": ""
             }
            },
            "type": "scattermapbox"
           }
          ],
          "scatterpolar": [
           {
            "marker": {
             "colorbar": {
              "outlinewidth": 0,
              "ticks": ""
             }
            },
            "type": "scatterpolar"
           }
          ],
          "scatterpolargl": [
           {
            "marker": {
             "colorbar": {
              "outlinewidth": 0,
              "ticks": ""
             }
            },
            "type": "scatterpolargl"
           }
          ],
          "scatterternary": [
           {
            "marker": {
             "colorbar": {
              "outlinewidth": 0,
              "ticks": ""
             }
            },
            "type": "scatterternary"
           }
          ],
          "surface": [
           {
            "colorbar": {
             "outlinewidth": 0,
             "ticks": ""
            },
            "colorscale": [
             [
              0,
              "#0d0887"
             ],
             [
              0.1111111111111111,
              "#46039f"
             ],
             [
              0.2222222222222222,
              "#7201a8"
             ],
             [
              0.3333333333333333,
              "#9c179e"
             ],
             [
              0.4444444444444444,
              "#bd3786"
             ],
             [
              0.5555555555555556,
              "#d8576b"
             ],
             [
              0.6666666666666666,
              "#ed7953"
             ],
             [
              0.7777777777777778,
              "#fb9f3a"
             ],
             [
              0.8888888888888888,
              "#fdca26"
             ],
             [
              1,
              "#f0f921"
             ]
            ],
            "type": "surface"
           }
          ],
          "table": [
           {
            "cells": {
             "fill": {
              "color": "#EBF0F8"
             },
             "line": {
              "color": "white"
             }
            },
            "header": {
             "fill": {
              "color": "#C8D4E3"
             },
             "line": {
              "color": "white"
             }
            },
            "type": "table"
           }
          ]
         },
         "layout": {
          "annotationdefaults": {
           "arrowcolor": "#2a3f5f",
           "arrowhead": 0,
           "arrowwidth": 1
          },
          "autotypenumbers": "strict",
          "coloraxis": {
           "colorbar": {
            "outlinewidth": 0,
            "ticks": ""
           }
          },
          "colorscale": {
           "diverging": [
            [
             0,
             "#8e0152"
            ],
            [
             0.1,
             "#c51b7d"
            ],
            [
             0.2,
             "#de77ae"
            ],
            [
             0.3,
             "#f1b6da"
            ],
            [
             0.4,
             "#fde0ef"
            ],
            [
             0.5,
             "#f7f7f7"
            ],
            [
             0.6,
             "#e6f5d0"
            ],
            [
             0.7,
             "#b8e186"
            ],
            [
             0.8,
             "#7fbc41"
            ],
            [
             0.9,
             "#4d9221"
            ],
            [
             1,
             "#276419"
            ]
           ],
           "sequential": [
            [
             0,
             "#0d0887"
            ],
            [
             0.1111111111111111,
             "#46039f"
            ],
            [
             0.2222222222222222,
             "#7201a8"
            ],
            [
             0.3333333333333333,
             "#9c179e"
            ],
            [
             0.4444444444444444,
             "#bd3786"
            ],
            [
             0.5555555555555556,
             "#d8576b"
            ],
            [
             0.6666666666666666,
             "#ed7953"
            ],
            [
             0.7777777777777778,
             "#fb9f3a"
            ],
            [
             0.8888888888888888,
             "#fdca26"
            ],
            [
             1,
             "#f0f921"
            ]
           ],
           "sequentialminus": [
            [
             0,
             "#0d0887"
            ],
            [
             0.1111111111111111,
             "#46039f"
            ],
            [
             0.2222222222222222,
             "#7201a8"
            ],
            [
             0.3333333333333333,
             "#9c179e"
            ],
            [
             0.4444444444444444,
             "#bd3786"
            ],
            [
             0.5555555555555556,
             "#d8576b"
            ],
            [
             0.6666666666666666,
             "#ed7953"
            ],
            [
             0.7777777777777778,
             "#fb9f3a"
            ],
            [
             0.8888888888888888,
             "#fdca26"
            ],
            [
             1,
             "#f0f921"
            ]
           ]
          },
          "colorway": [
           "#636efa",
           "#EF553B",
           "#00cc96",
           "#ab63fa",
           "#FFA15A",
           "#19d3f3",
           "#FF6692",
           "#B6E880",
           "#FF97FF",
           "#FECB52"
          ],
          "font": {
           "color": "#2a3f5f"
          },
          "geo": {
           "bgcolor": "white",
           "lakecolor": "white",
           "landcolor": "#E5ECF6",
           "showlakes": true,
           "showland": true,
           "subunitcolor": "white"
          },
          "hoverlabel": {
           "align": "left"
          },
          "hovermode": "closest",
          "mapbox": {
           "style": "light"
          },
          "paper_bgcolor": "white",
          "plot_bgcolor": "#E5ECF6",
          "polar": {
           "angularaxis": {
            "gridcolor": "white",
            "linecolor": "white",
            "ticks": ""
           },
           "bgcolor": "#E5ECF6",
           "radialaxis": {
            "gridcolor": "white",
            "linecolor": "white",
            "ticks": ""
           }
          },
          "scene": {
           "xaxis": {
            "backgroundcolor": "#E5ECF6",
            "gridcolor": "white",
            "gridwidth": 2,
            "linecolor": "white",
            "showbackground": true,
            "ticks": "",
            "zerolinecolor": "white"
           },
           "yaxis": {
            "backgroundcolor": "#E5ECF6",
            "gridcolor": "white",
            "gridwidth": 2,
            "linecolor": "white",
            "showbackground": true,
            "ticks": "",
            "zerolinecolor": "white"
           },
           "zaxis": {
            "backgroundcolor": "#E5ECF6",
            "gridcolor": "white",
            "gridwidth": 2,
            "linecolor": "white",
            "showbackground": true,
            "ticks": "",
            "zerolinecolor": "white"
           }
          },
          "shapedefaults": {
           "line": {
            "color": "#2a3f5f"
           }
          },
          "ternary": {
           "aaxis": {
            "gridcolor": "white",
            "linecolor": "white",
            "ticks": ""
           },
           "baxis": {
            "gridcolor": "white",
            "linecolor": "white",
            "ticks": ""
           },
           "bgcolor": "#E5ECF6",
           "caxis": {
            "gridcolor": "white",
            "linecolor": "white",
            "ticks": ""
           }
          },
          "title": {
           "x": 0.05
          },
          "xaxis": {
           "automargin": true,
           "gridcolor": "white",
           "linecolor": "white",
           "ticks": "",
           "title": {
            "standoff": 15
           },
           "zerolinecolor": "white",
           "zerolinewidth": 2
          },
          "yaxis": {
           "automargin": true,
           "gridcolor": "white",
           "linecolor": "white",
           "ticks": "",
           "title": {
            "standoff": 15
           },
           "zerolinecolor": "white",
           "zerolinewidth": 2
          }
         }
        },
        "xaxis": {
         "anchor": "y",
         "autorange": true,
         "domain": [
          0,
          1
         ],
         "range": [
          -0.5,
          2.5
         ],
         "title": {
          "text": "x"
         },
         "type": "category"
        },
        "yaxis": {
         "anchor": "x",
         "autorange": true,
         "domain": [
          0,
          1
         ],
         "range": [
          0,
          3.1578947368421053
         ],
         "title": {
          "text": "y"
         },
         "type": "linear"
        }
       }
      },
      "text/html": [
       "<div>                            <div id=\"a8bd6298-6560-44ae-b4b3-aa5e7f81bd2a\" class=\"plotly-graph-div\" style=\"height:525px; width:100%;\"></div>            <script type=\"text/javascript\">                require([\"plotly\"], function(Plotly) {                    window.PLOTLYENV=window.PLOTLYENV || {};                                    if (document.getElementById(\"a8bd6298-6560-44ae-b4b3-aa5e7f81bd2a\")) {                    Plotly.newPlot(                        \"a8bd6298-6560-44ae-b4b3-aa5e7f81bd2a\",                        [{\"alignmentgroup\":\"True\",\"hovertemplate\":\"x=%{x}\\u003cbr\\u003ey=%{y}\\u003cextra\\u003e\\u003c\\u002fextra\\u003e\",\"legendgroup\":\"\",\"marker\":{\"color\":\"#636efa\",\"pattern\":{\"shape\":\"\"}},\"name\":\"\",\"offsetgroup\":\"\",\"orientation\":\"v\",\"showlegend\":false,\"textposition\":\"auto\",\"x\":[\"a\",\"b\",\"c\"],\"xaxis\":\"x\",\"y\":[1,3,2],\"yaxis\":\"y\",\"type\":\"bar\"}],                        {\"template\":{\"data\":{\"histogram2dcontour\":[{\"type\":\"histogram2dcontour\",\"colorbar\":{\"outlinewidth\":0,\"ticks\":\"\"},\"colorscale\":[[0.0,\"#0d0887\"],[0.1111111111111111,\"#46039f\"],[0.2222222222222222,\"#7201a8\"],[0.3333333333333333,\"#9c179e\"],[0.4444444444444444,\"#bd3786\"],[0.5555555555555556,\"#d8576b\"],[0.6666666666666666,\"#ed7953\"],[0.7777777777777778,\"#fb9f3a\"],[0.8888888888888888,\"#fdca26\"],[1.0,\"#f0f921\"]]}],\"choropleth\":[{\"type\":\"choropleth\",\"colorbar\":{\"outlinewidth\":0,\"ticks\":\"\"}}],\"histogram2d\":[{\"type\":\"histogram2d\",\"colorbar\":{\"outlinewidth\":0,\"ticks\":\"\"},\"colorscale\":[[0.0,\"#0d0887\"],[0.1111111111111111,\"#46039f\"],[0.2222222222222222,\"#7201a8\"],[0.3333333333333333,\"#9c179e\"],[0.4444444444444444,\"#bd3786\"],[0.5555555555555556,\"#d8576b\"],[0.6666666666666666,\"#ed7953\"],[0.7777777777777778,\"#fb9f3a\"],[0.8888888888888888,\"#fdca26\"],[1.0,\"#f0f921\"]]}],\"heatmap\":[{\"type\":\"heatmap\",\"colorbar\":{\"outlinewidth\":0,\"ticks\":\"\"},\"colorscale\":[[0.0,\"#0d0887\"],[0.1111111111111111,\"#46039f\"],[0.2222222222222222,\"#7201a8\"],[0.3333333333333333,\"#9c179e\"],[0.4444444444444444,\"#bd3786\"],[0.5555555555555556,\"#d8576b\"],[0.6666666666666666,\"#ed7953\"],[0.7777777777777778,\"#fb9f3a\"],[0.8888888888888888,\"#fdca26\"],[1.0,\"#f0f921\"]]}],\"heatmapgl\":[{\"type\":\"heatmapgl\",\"colorbar\":{\"outlinewidth\":0,\"ticks\":\"\"},\"colorscale\":[[0.0,\"#0d0887\"],[0.1111111111111111,\"#46039f\"],[0.2222222222222222,\"#7201a8\"],[0.3333333333333333,\"#9c179e\"],[0.4444444444444444,\"#bd3786\"],[0.5555555555555556,\"#d8576b\"],[0.6666666666666666,\"#ed7953\"],[0.7777777777777778,\"#fb9f3a\"],[0.8888888888888888,\"#fdca26\"],[1.0,\"#f0f921\"]]}],\"contourcarpet\":[{\"type\":\"contourcarpet\",\"colorbar\":{\"outlinewidth\":0,\"ticks\":\"\"}}],\"contour\":[{\"type\":\"contour\",\"colorbar\":{\"outlinewidth\":0,\"ticks\":\"\"},\"colorscale\":[[0.0,\"#0d0887\"],[0.1111111111111111,\"#46039f\"],[0.2222222222222222,\"#7201a8\"],[0.3333333333333333,\"#9c179e\"],[0.4444444444444444,\"#bd3786\"],[0.5555555555555556,\"#d8576b\"],[0.6666666666666666,\"#ed7953\"],[0.7777777777777778,\"#fb9f3a\"],[0.8888888888888888,\"#fdca26\"],[1.0,\"#f0f921\"]]}],\"surface\":[{\"type\":\"surface\",\"colorbar\":{\"outlinewidth\":0,\"ticks\":\"\"},\"colorscale\":[[0.0,\"#0d0887\"],[0.1111111111111111,\"#46039f\"],[0.2222222222222222,\"#7201a8\"],[0.3333333333333333,\"#9c179e\"],[0.4444444444444444,\"#bd3786\"],[0.5555555555555556,\"#d8576b\"],[0.6666666666666666,\"#ed7953\"],[0.7777777777777778,\"#fb9f3a\"],[0.8888888888888888,\"#fdca26\"],[1.0,\"#f0f921\"]]}],\"mesh3d\":[{\"type\":\"mesh3d\",\"colorbar\":{\"outlinewidth\":0,\"ticks\":\"\"}}],\"scatter\":[{\"fillpattern\":{\"fillmode\":\"overlay\",\"size\":10,\"solidity\":0.2},\"type\":\"scatter\"}],\"parcoords\":[{\"type\":\"parcoords\",\"line\":{\"colorbar\":{\"outlinewidth\":0,\"ticks\":\"\"}}}],\"scatterpolargl\":[{\"type\":\"scatterpolargl\",\"marker\":{\"colorbar\":{\"outlinewidth\":0,\"ticks\":\"\"}}}],\"bar\":[{\"error_x\":{\"color\":\"#2a3f5f\"},\"error_y\":{\"color\":\"#2a3f5f\"},\"marker\":{\"line\":{\"color\":\"#E5ECF6\",\"width\":0.5},\"pattern\":{\"fillmode\":\"overlay\",\"size\":10,\"solidity\":0.2}},\"type\":\"bar\"}],\"scattergeo\":[{\"type\":\"scattergeo\",\"marker\":{\"colorbar\":{\"outlinewidth\":0,\"ticks\":\"\"}}}],\"scatterpolar\":[{\"type\":\"scatterpolar\",\"marker\":{\"colorbar\":{\"outlinewidth\":0,\"ticks\":\"\"}}}],\"histogram\":[{\"marker\":{\"pattern\":{\"fillmode\":\"overlay\",\"size\":10,\"solidity\":0.2}},\"type\":\"histogram\"}],\"scattergl\":[{\"type\":\"scattergl\",\"marker\":{\"colorbar\":{\"outlinewidth\":0,\"ticks\":\"\"}}}],\"scatter3d\":[{\"type\":\"scatter3d\",\"line\":{\"colorbar\":{\"outlinewidth\":0,\"ticks\":\"\"}},\"marker\":{\"colorbar\":{\"outlinewidth\":0,\"ticks\":\"\"}}}],\"scattermapbox\":[{\"type\":\"scattermapbox\",\"marker\":{\"colorbar\":{\"outlinewidth\":0,\"ticks\":\"\"}}}],\"scatterternary\":[{\"type\":\"scatterternary\",\"marker\":{\"colorbar\":{\"outlinewidth\":0,\"ticks\":\"\"}}}],\"scattercarpet\":[{\"type\":\"scattercarpet\",\"marker\":{\"colorbar\":{\"outlinewidth\":0,\"ticks\":\"\"}}}],\"carpet\":[{\"aaxis\":{\"endlinecolor\":\"#2a3f5f\",\"gridcolor\":\"white\",\"linecolor\":\"white\",\"minorgridcolor\":\"white\",\"startlinecolor\":\"#2a3f5f\"},\"baxis\":{\"endlinecolor\":\"#2a3f5f\",\"gridcolor\":\"white\",\"linecolor\":\"white\",\"minorgridcolor\":\"white\",\"startlinecolor\":\"#2a3f5f\"},\"type\":\"carpet\"}],\"table\":[{\"cells\":{\"fill\":{\"color\":\"#EBF0F8\"},\"line\":{\"color\":\"white\"}},\"header\":{\"fill\":{\"color\":\"#C8D4E3\"},\"line\":{\"color\":\"white\"}},\"type\":\"table\"}],\"barpolar\":[{\"marker\":{\"line\":{\"color\":\"#E5ECF6\",\"width\":0.5},\"pattern\":{\"fillmode\":\"overlay\",\"size\":10,\"solidity\":0.2}},\"type\":\"barpolar\"}],\"pie\":[{\"automargin\":true,\"type\":\"pie\"}]},\"layout\":{\"autotypenumbers\":\"strict\",\"colorway\":[\"#636efa\",\"#EF553B\",\"#00cc96\",\"#ab63fa\",\"#FFA15A\",\"#19d3f3\",\"#FF6692\",\"#B6E880\",\"#FF97FF\",\"#FECB52\"],\"font\":{\"color\":\"#2a3f5f\"},\"hovermode\":\"closest\",\"hoverlabel\":{\"align\":\"left\"},\"paper_bgcolor\":\"white\",\"plot_bgcolor\":\"#E5ECF6\",\"polar\":{\"bgcolor\":\"#E5ECF6\",\"angularaxis\":{\"gridcolor\":\"white\",\"linecolor\":\"white\",\"ticks\":\"\"},\"radialaxis\":{\"gridcolor\":\"white\",\"linecolor\":\"white\",\"ticks\":\"\"}},\"ternary\":{\"bgcolor\":\"#E5ECF6\",\"aaxis\":{\"gridcolor\":\"white\",\"linecolor\":\"white\",\"ticks\":\"\"},\"baxis\":{\"gridcolor\":\"white\",\"linecolor\":\"white\",\"ticks\":\"\"},\"caxis\":{\"gridcolor\":\"white\",\"linecolor\":\"white\",\"ticks\":\"\"}},\"coloraxis\":{\"colorbar\":{\"outlinewidth\":0,\"ticks\":\"\"}},\"colorscale\":{\"sequential\":[[0.0,\"#0d0887\"],[0.1111111111111111,\"#46039f\"],[0.2222222222222222,\"#7201a8\"],[0.3333333333333333,\"#9c179e\"],[0.4444444444444444,\"#bd3786\"],[0.5555555555555556,\"#d8576b\"],[0.6666666666666666,\"#ed7953\"],[0.7777777777777778,\"#fb9f3a\"],[0.8888888888888888,\"#fdca26\"],[1.0,\"#f0f921\"]],\"sequentialminus\":[[0.0,\"#0d0887\"],[0.1111111111111111,\"#46039f\"],[0.2222222222222222,\"#7201a8\"],[0.3333333333333333,\"#9c179e\"],[0.4444444444444444,\"#bd3786\"],[0.5555555555555556,\"#d8576b\"],[0.6666666666666666,\"#ed7953\"],[0.7777777777777778,\"#fb9f3a\"],[0.8888888888888888,\"#fdca26\"],[1.0,\"#f0f921\"]],\"diverging\":[[0,\"#8e0152\"],[0.1,\"#c51b7d\"],[0.2,\"#de77ae\"],[0.3,\"#f1b6da\"],[0.4,\"#fde0ef\"],[0.5,\"#f7f7f7\"],[0.6,\"#e6f5d0\"],[0.7,\"#b8e186\"],[0.8,\"#7fbc41\"],[0.9,\"#4d9221\"],[1,\"#276419\"]]},\"xaxis\":{\"gridcolor\":\"white\",\"linecolor\":\"white\",\"ticks\":\"\",\"title\":{\"standoff\":15},\"zerolinecolor\":\"white\",\"automargin\":true,\"zerolinewidth\":2},\"yaxis\":{\"gridcolor\":\"white\",\"linecolor\":\"white\",\"ticks\":\"\",\"title\":{\"standoff\":15},\"zerolinecolor\":\"white\",\"automargin\":true,\"zerolinewidth\":2},\"scene\":{\"xaxis\":{\"backgroundcolor\":\"#E5ECF6\",\"gridcolor\":\"white\",\"linecolor\":\"white\",\"showbackground\":true,\"ticks\":\"\",\"zerolinecolor\":\"white\",\"gridwidth\":2},\"yaxis\":{\"backgroundcolor\":\"#E5ECF6\",\"gridcolor\":\"white\",\"linecolor\":\"white\",\"showbackground\":true,\"ticks\":\"\",\"zerolinecolor\":\"white\",\"gridwidth\":2},\"zaxis\":{\"backgroundcolor\":\"#E5ECF6\",\"gridcolor\":\"white\",\"linecolor\":\"white\",\"showbackground\":true,\"ticks\":\"\",\"zerolinecolor\":\"white\",\"gridwidth\":2}},\"shapedefaults\":{\"line\":{\"color\":\"#2a3f5f\"}},\"annotationdefaults\":{\"arrowcolor\":\"#2a3f5f\",\"arrowhead\":0,\"arrowwidth\":1},\"geo\":{\"bgcolor\":\"white\",\"landcolor\":\"#E5ECF6\",\"subunitcolor\":\"white\",\"showland\":true,\"showlakes\":true,\"lakecolor\":\"white\"},\"title\":{\"x\":0.05},\"mapbox\":{\"style\":\"light\"}}},\"xaxis\":{\"anchor\":\"y\",\"domain\":[0.0,1.0],\"title\":{\"text\":\"x\"}},\"yaxis\":{\"anchor\":\"x\",\"domain\":[0.0,1.0],\"title\":{\"text\":\"y\"}},\"legend\":{\"tracegroupgap\":0},\"margin\":{\"t\":60},\"barmode\":\"relative\"},                        {\"responsive\": true}                    ).then(function(){\n",
       "                            \n",
       "var gd = document.getElementById('a8bd6298-6560-44ae-b4b3-aa5e7f81bd2a');\n",
       "var x = new MutationObserver(function (mutations, observer) {{\n",
       "        var display = window.getComputedStyle(gd).display;\n",
       "        if (!display || display === 'none') {{\n",
       "            console.log([gd, 'removed!']);\n",
       "            Plotly.purge(gd);\n",
       "            observer.disconnect();\n",
       "        }}\n",
       "}});\n",
       "\n",
       "// Listen for the removal of the full notebook cells\n",
       "var notebookContainer = gd.closest('#notebook-container');\n",
       "if (notebookContainer) {{\n",
       "    x.observe(notebookContainer, {childList: true});\n",
       "}}\n",
       "\n",
       "// Listen for the clearing of the current output cell\n",
       "var outputEl = gd.closest('.output');\n",
       "if (outputEl) {{\n",
       "    x.observe(outputEl, {childList: true});\n",
       "}}\n",
       "\n",
       "                        })                };                });            </script>        </div>"
      ]
     },
     "metadata": {},
     "output_type": "display_data"
    }
   ],
   "source": [
    "import plotly.express as px\n",
    "fig = px.bar(x=[\"a\", \"b\", \"c\"], y=[1, 3, 2])\n",
    "fig.show()"
   ]
  },
  {
   "cell_type": "code",
   "execution_count": null,
   "id": "49f92ed7-e716-4c5c-8e25-d4d2e7658992",
   "metadata": {},
   "outputs": [],
   "source": []
  },
  {
   "cell_type": "markdown",
   "id": "5d5b06ba-e71e-4d0d-925b-1fe9e736e65f",
   "metadata": {},
   "source": [
    "### 3.6.2.7 寻找与预测的下一空间指数特征最相似的位置空间"
   ]
  },
  {
   "cell_type": "code",
   "execution_count": 37,
   "id": "adb82d50-aae9-4dd8-b1a1-a3c4f93a63d0",
   "metadata": {
    "tags": []
   },
   "outputs": [],
   "source": [
    "pts=[[108.983892,34.265313],[108.978664,34.270172],[108.978745,34.258675]]\n",
    "\n",
    "save_dir=r'G:\\data\\pano_dongxistreet\\extra_panos'    \n",
    "ak='rSxNX840wLxwVVhs5RDInfPqegZ12G78'    \n",
    "usda_datasets.baidu_steetview_crawler_from_coordis(pts,ak,save_dir)"
   ]
  }
 ],
 "metadata": {
  "kernelspec": {
   "display_name": "Python 3 (ipykernel)",
   "language": "python",
   "name": "python3"
  },
  "language_info": {
   "codemirror_mode": {
    "name": "ipython",
    "version": 3
   },
   "file_extension": ".py",
   "mimetype": "text/x-python",
   "name": "python",
   "nbconvert_exporter": "python",
   "pygments_lexer": "ipython3",
   "version": "3.11.4"
  }
 },
 "nbformat": 4,
 "nbformat_minor": 5
}
