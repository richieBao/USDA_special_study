{
 "cells": [
  {
   "cell_type": "markdown",
   "id": "643afa91-70f2-4b71-a0eb-2c0d7b972374",
   "metadata": {},
   "source": [
    "Created on Mon Feb 20 15:44:40 2023 @author: Richie Bao-caDesign设计(cadesign.cn)"
   ]
  },
  {
   "cell_type": "markdown",
   "id": "cce3813e-847f-4ed2-ab3f-2dba595b2165",
   "metadata": {},
   "source": [
    "# 3.1 权重决策\n",
    "\n",
    "## 3.1.1 多准则决策法 \n",
    "\n",
    "多准则决策法，Multiple Criteria Decision-Making（MCDM）也称之为 Multi-Criteria Decision Analysis（MCDA），Multi-attribute Decision-Making（MADM），或multi-object decision-making（MODM）（多目标决策法），是关于在同时考虑多个准则（criteria）/目标（objectives）下对备选方案（alternatives）进行排名（rank）或选择时做出决策。当准则越复杂， 备选方案增多时，确定哪个为最优方案的难度就越大。MCDM经过几十年的发展，各类算法涌现，已经成为解决现实问题的强大工具，可以帮助寻找最能满足要求众多相互冲突目标的决策<sup>[Gal, T., Stewart, T.J. and Hanne, T. (1999) Multicriteria decision making: Advances in MCDM models, algorithms, theory, and applications. Boston, MA: Kluwer academic. ]</sup>。MCDM被广泛应用于数学、经济学、管理学和工程领域等众多学科，服务于商业、非营利组织、政府、卫生、教育和个人决策等。MCDM（离散型，discrete）问题可以表述为一个矩阵，$\\begin{aligned} & \\begin{array}{llll} \\hspace{35pt} c_1 & \\hspace{8pt} c_2 & \\hspace{5pt} \\cdots &  \\hspace{5pt} c_n\\end{array} \\\\ & A=\\begin{array}{c}a_1 \\\\ a_2 \\\\ \\vdots \\\\ a_m\\end{array}\\left(\\begin{array}{cccc}p_{11} & p_{12} & \\cdots & p_{1 n} \\\\ p_{21} & p_{22} & \\cdots & p_{2 n} \\\\ \\vdots & \\vdots & \\ddots & \\vdots \\\\ p_{m 1} & p_{m 2} & \\cdots & p_{m n}\\end{array}\\right) \\\\ & \\end{aligned}$，式中$\\{ a_{1},a_{2}, \\ldots ,a_{m}  \\}$为备选方案（feasible alternatives，actions，stimuli）；$\\{ c_{1},c_{2}, \\ldots ,c_{n}  \\}$为决策准则（decision-making criterion）；$p_{ij} $为第$i$个备选方案对应到第$j$个决策准则的得分。其目标是从备选方案中寻找到最好（最可取、最重要的）的选择，即具有最佳整体价值（综合评价指数）的方案。计算第$i$个备选方案综合评价指数$V_{i} $的方法有很多算法，一般形式可以对决策准则赋予权重值$w_{j}(w_{j} \\geq 0, \\sum w_{j}=1  ) $，则$V_{i} $可以用一个简单的加权值函数得到，这是大多数 MCDM 方法的基础模型，公式为：$V_{i}= \\sum_{j=1}^n  w_{j} p_{ij}$。上述流程最为重要的部分是决策准则权重$w=\\{ w_{1},w_{1}, \\ldots ,w_{n} \\}$的确定<sup>[Rezaei, J. Best-worst multi-criteria decision-making method. Omega (United Kingdom) 53, 49–57 (2015).]</sup>。\n",
    "\n",
    "从上述对MCDM的描述及公式的表述，可以发现规划中的很多地理空间问题都可以转换为MCDM问题，例如其中的备选方案可以为城市的行政分区、子流域、样方、采样点、乃至栅格单元等；而决策准则为各类评价指标（体系），例如生态敏感性评价指标（压力层面的人口密度指数、建设用地占比、农业用地占比、污水排放率、废弃排放量、粉尘排放量、灾害易发度和地形坡度；状态层面的土地胁迫指数、生境质量指数、土地利用类型、水网密度指数、年降雨量、年总气温、植被覆盖度和经济发达指数；及响应层面的造林面积、生活污水处理率、工业SO<sub>2</sub>去除量和固体废物利用率等），采样熵值权重法和PCA权重法计算<sup>[黎家琦,武雪玲,唐诗怡.压力-状态-响应模型下的生态敏感性分析算法[J].测绘科学,2020,45(11):75-83+106.DOI:10.16251/j.cnki.1009-2307.2020.11.012.]</sup>；生态脆弱性评价指标（生态敏感性层面的景观破碎度、地形指数、土壤侵蚀量；生态恢复力层面的蔓延度、归一化植被指数、生物丰度等；生态压力度层面的人类活动强度和土地利用程度等），应用了熵权法计算<sup>[张金茜,李红瑛,曹二佳,巩杰.多尺度流域生态脆弱性评价及其空间关联性——以甘肃白龙江流域为例[J].应用生态学报,2018,29(09):2897-2906.DOI:10.13287/j.1001-9332.201809.008.]</sup>；景观感知决定因素（环境价值、文化价值、美学价值和个人经历或回忆等）<sup>[Solecka, I., Rinne, T., Caracciolo Martins, R., Kytta, M. & Albert, C. Important places in landscape – investigating the determinants of perceived landscape value in the suburban area of Wrocław, Poland. Landsc Urban Plan 218, 104289 (2022).]</sup>；热脆弱性指数（Heat Vulnerability Index，HVI）（涉及人口密度、小于5岁儿童人口比例、大于65，大于85的老人人口比例、大于65独居老人人口比例、小于5岁低于贫困线家庭的儿童人口比例、大于65岁低于贫困线家庭的老人人口比例、树冠覆盖率和早于1980年建成的建筑比例等），使用熵权法和TOPSIS（Technique for Order of Preference by Similarity to Ideal Solution ）算法计算<sup>[Boroushaki, S. Entropy-Based Weights for MultiCriteria Spatial Decision-Making. Yearbook of the Association of Pacific Coast Geographers 79, 168–187 (2017).]</sup>；生态系统服务评估和权衡（Integrated Valuation of Ecosystem Services and Tradeoffs，[InVEST](https://naturalcapitalproject.stanford.edu/software/invest)）中的很多模型也可以从MCDM角度思考，例如生物多样指数（涉及到当前土地利用/土地覆盖类型、威胁影响距离、威胁地图、栖息地适宜性和栖息地对威胁的敏感性等）。\n",
    "\n",
    "就MCMD问题，当前形成有多个[软件工具](https://en.wikipedia.org/wiki/Decision-making_software#Comparison_of_decision-making_software)，Valdecy Pereira则将其集成到了Python库中，构建了[pyDecision](https://github.com/Valdecy/pyDecision)包，包括40余种算法。对MCMD的解释，首先再现Soheil Boroushaki基于熵值权重法和改进的TOPSIS算法的MCDA计算<sup>[]</sup>；并将其应用于城市环境传感器AoT污染气体浓度数据测量点污染度指数评估中；再引入解释`pyDecision`集成的各类算法。"
   ]
  },
  {
   "cell_type": "code",
   "execution_count": 1,
   "id": "6f4b76e8-7c66-4dc4-8fc9-39e4131e3f87",
   "metadata": {},
   "outputs": [],
   "source": [
    "# IPython extension to reload modules before executing user code.\n",
    "%load_ext autoreload \n",
    "# Reload all modules (except those excluded by %aimport) every time before executing the Python code typed.\n",
    "%autoreload 2 \n",
    "\n",
    "from usda import datasets as usda_datasets\n",
    "from usda import weight as usda_weight\n",
    "from usda import database as usda_database\n",
    "from usda import utils as usda_utils\n",
    "from usda import data_visualization as usda_vis\n",
    "from usda.database import postSQL2gpd,gpd2postSQL\n",
    "\n",
    "import pandas as pd\n",
    "import numpy as np\n",
    "import matplotlib.pyplot as plt\n",
    "import pyDecision.algorithm as da\n",
    "\n",
    "np.set_printoptions(linewidth=np.inf)"
   ]
  },
  {
   "cell_type": "markdown",
   "id": "856d8438-155d-4590-abbd-62ca8905854d",
   "metadata": {},
   "source": [
    "### 3.1.1.1 再现熵值权重法和改进的TOPSIS算法\n",
    "\n",
    "#### 1)  熵值权重法\n",
    "\n",
    "对于MCDM问题矩阵$A$，包含一定数量的信息，可以用于探索决策准则之间对备选方案综合评价指数影响的程度，即计算决策准则权重。权重的主观方法是由决策者、规划者、利益相关者根据经验或调查配置权重值，而客观方法则可以根据矩阵$A$决策准则中包含的信息量评估权重值。信息论（information theory）中香农的熵概念（Shannon’s entropy concept）已广泛应用于工程、信息科学和管理领域，用于衡量MCDM问题中包含的信息量，计算决策准则（例如各类指标）的信息量。\n",
    "\n",
    "将Soheil Boroushaki构建的示范数据矩阵写入到`USDA`库中，可以通过`usda_datasets.load_evaluation_criteria_raw_values()`方法调入，该数据用DataFrame格式表述，列为决策准则（criteria），包括坡度（slope）（度）、到水体距离（distance2water）（英里）、高程（elevation）（尺）和到人口中心的距离（distance2population）（英里）；行为备选方案（alternative），对应地理空间的位置区域，索引值为0、1、2和3。"
   ]
  },
  {
   "cell_type": "code",
   "execution_count": 4,
   "id": "69894406-49a8-494f-948f-a93a0b5c0104",
   "metadata": {},
   "outputs": [
    {
     "data": {
      "text/html": [
       "<div>\n",
       "<style scoped>\n",
       "    .dataframe tbody tr th:only-of-type {\n",
       "        vertical-align: middle;\n",
       "    }\n",
       "\n",
       "    .dataframe tbody tr th {\n",
       "        vertical-align: top;\n",
       "    }\n",
       "\n",
       "    .dataframe thead th {\n",
       "        text-align: right;\n",
       "    }\n",
       "</style>\n",
       "<table border=\"1\" class=\"dataframe\">\n",
       "  <thead>\n",
       "    <tr style=\"text-align: right;\">\n",
       "      <th></th>\n",
       "      <th>slope</th>\n",
       "      <th>distance2water</th>\n",
       "      <th>elevation</th>\n",
       "      <th>distance2population</th>\n",
       "    </tr>\n",
       "  </thead>\n",
       "  <tbody>\n",
       "    <tr>\n",
       "      <th>0</th>\n",
       "      <td>9</td>\n",
       "      <td>2.2</td>\n",
       "      <td>5700</td>\n",
       "      <td>1.2</td>\n",
       "    </tr>\n",
       "    <tr>\n",
       "      <th>1</th>\n",
       "      <td>20</td>\n",
       "      <td>3.2</td>\n",
       "      <td>3100</td>\n",
       "      <td>1.3</td>\n",
       "    </tr>\n",
       "    <tr>\n",
       "      <th>2</th>\n",
       "      <td>10</td>\n",
       "      <td>2.0</td>\n",
       "      <td>4900</td>\n",
       "      <td>1.2</td>\n",
       "    </tr>\n",
       "    <tr>\n",
       "      <th>3</th>\n",
       "      <td>16</td>\n",
       "      <td>3.5</td>\n",
       "      <td>3600</td>\n",
       "      <td>1.4</td>\n",
       "    </tr>\n",
       "  </tbody>\n",
       "</table>\n",
       "</div>"
      ],
      "text/plain": [
       "   slope  distance2water  elevation  distance2population\n",
       "0      9             2.2       5700                  1.2\n",
       "1     20             3.2       3100                  1.3\n",
       "2     10             2.0       4900                  1.2\n",
       "3     16             3.5       3600                  1.4"
      ]
     },
     "execution_count": 4,
     "metadata": {},
     "output_type": "execute_result"
    }
   ],
   "source": [
    "evaluation_criteria_raw_values_df=usda_datasets.load_evaluation_criteria_raw_values().data\n",
    "evaluation_criteria_raw_values_df"
   ]
  },
  {
   "cell_type": "markdown",
   "id": "01b2044c-90b9-4758-9847-e208b37401b8",
   "metadata": {},
   "source": [
    "信息熵的计算公式为：$E_j=\\left\\{\\begin{array}{cc}-\\frac{\\sum_{i=1}^m p_{i j} \\cdot \\ln \\left(p_{i j}\\right)}{\\ln (m)} & , p_{i j} \\neq 0 \\\\ 0 & , p_{i j}=0\\end{array}\\right.$，式中：$p_{i j}=\\frac{a_{i j}}{\\sum_{i=1}^m a_{i j}}$，$a_{i j}$为原始决策准则值，$p_{i j}$为原始决策准则值$a_{i j}$占各自决策准则列之和的比例，定义`df_Pij()`方法实现计算。由信息熵计算决策准则的权重值，公式为：$w_j=\\frac{1-E_j}{\\sum_{i=1}^m\\left(1-E_j\\right)}$，定义`entropy_weight()`方法，实现权重值计算，输入矩阵为原始决策准则值，$p_{i j}$直接在该函数内部实现。"
   ]
  },
  {
   "cell_type": "code",
   "execution_count": 5,
   "id": "4991444e-eb39-4a30-b461-d096859fd5f2",
   "metadata": {},
   "outputs": [
    {
     "data": {
      "text/html": [
       "<div>\n",
       "<style scoped>\n",
       "    .dataframe tbody tr th:only-of-type {\n",
       "        vertical-align: middle;\n",
       "    }\n",
       "\n",
       "    .dataframe tbody tr th {\n",
       "        vertical-align: top;\n",
       "    }\n",
       "\n",
       "    .dataframe thead th {\n",
       "        text-align: right;\n",
       "    }\n",
       "</style>\n",
       "<table border=\"1\" class=\"dataframe\">\n",
       "  <thead>\n",
       "    <tr style=\"text-align: right;\">\n",
       "      <th></th>\n",
       "      <th>slope</th>\n",
       "      <th>distance2water</th>\n",
       "      <th>elevation</th>\n",
       "      <th>distance2population</th>\n",
       "    </tr>\n",
       "  </thead>\n",
       "  <tbody>\n",
       "    <tr>\n",
       "      <th>0</th>\n",
       "      <td>0.163636</td>\n",
       "      <td>0.201835</td>\n",
       "      <td>0.329480</td>\n",
       "      <td>0.235294</td>\n",
       "    </tr>\n",
       "    <tr>\n",
       "      <th>1</th>\n",
       "      <td>0.363636</td>\n",
       "      <td>0.293578</td>\n",
       "      <td>0.179191</td>\n",
       "      <td>0.254902</td>\n",
       "    </tr>\n",
       "    <tr>\n",
       "      <th>2</th>\n",
       "      <td>0.181818</td>\n",
       "      <td>0.183486</td>\n",
       "      <td>0.283237</td>\n",
       "      <td>0.235294</td>\n",
       "    </tr>\n",
       "    <tr>\n",
       "      <th>3</th>\n",
       "      <td>0.290909</td>\n",
       "      <td>0.321101</td>\n",
       "      <td>0.208092</td>\n",
       "      <td>0.274510</td>\n",
       "    </tr>\n",
       "  </tbody>\n",
       "</table>\n",
       "</div>"
      ],
      "text/plain": [
       "      slope  distance2water  elevation  distance2population\n",
       "0  0.163636        0.201835   0.329480             0.235294\n",
       "1  0.363636        0.293578   0.179191             0.254902\n",
       "2  0.181818        0.183486   0.283237             0.235294\n",
       "3  0.290909        0.321101   0.208092             0.274510"
      ]
     },
     "execution_count": 5,
     "metadata": {},
     "output_type": "execute_result"
    }
   ],
   "source": [
    "df_Pij=usda_weight.df_Pij(evaluation_criteria_raw_values_df)\n",
    "df_Pij"
   ]
  },
  {
   "cell_type": "markdown",
   "id": "e2b17056-a53d-4ffa-98e0-5dd84b781730",
   "metadata": {},
   "source": [
    "`Ej`列为信息熵，`Wj`列为权重值。其中`slope`具有相对最小的信息熵，表明`slope`决策准则值在备选方案（地理空间区域）中分布相对不均匀，权重值相对较高；而对于`distance2population`决策准则值在备选方案中分布相对均匀，权重值则相对较低。"
   ]
  },
  {
   "cell_type": "code",
   "execution_count": 6,
   "id": "c3ad5a18-e962-48e1-ac14-b98088d170a8",
   "metadata": {
    "tags": []
   },
   "outputs": [
    {
     "data": {
      "text/html": [
       "<div>\n",
       "<style scoped>\n",
       "    .dataframe tbody tr th:only-of-type {\n",
       "        vertical-align: middle;\n",
       "    }\n",
       "\n",
       "    .dataframe tbody tr th {\n",
       "        vertical-align: top;\n",
       "    }\n",
       "\n",
       "    .dataframe thead th {\n",
       "        text-align: right;\n",
       "    }\n",
       "</style>\n",
       "<table border=\"1\" class=\"dataframe\">\n",
       "  <thead>\n",
       "    <tr style=\"text-align: right;\">\n",
       "      <th></th>\n",
       "      <th>Ej</th>\n",
       "      <th>1-Ej</th>\n",
       "      <th>Wj</th>\n",
       "    </tr>\n",
       "  </thead>\n",
       "  <tbody>\n",
       "    <tr>\n",
       "      <th>slope</th>\n",
       "      <td>0.961706</td>\n",
       "      <td>0.038294</td>\n",
       "      <td>0.477279</td>\n",
       "    </tr>\n",
       "    <tr>\n",
       "      <th>distance2water</th>\n",
       "      <td>0.980097</td>\n",
       "      <td>0.019903</td>\n",
       "      <td>0.248060</td>\n",
       "    </tr>\n",
       "    <tr>\n",
       "      <th>elevation</th>\n",
       "      <td>0.979473</td>\n",
       "      <td>0.020527</td>\n",
       "      <td>0.255832</td>\n",
       "    </tr>\n",
       "    <tr>\n",
       "      <th>distance2population</th>\n",
       "      <td>0.998489</td>\n",
       "      <td>0.001511</td>\n",
       "      <td>0.018829</td>\n",
       "    </tr>\n",
       "  </tbody>\n",
       "</table>\n",
       "</div>"
      ],
      "text/plain": [
       "                           Ej      1-Ej        Wj\n",
       "slope                0.961706  0.038294  0.477279\n",
       "distance2water       0.980097  0.019903  0.248060\n",
       "elevation            0.979473  0.020527  0.255832\n",
       "distance2population  0.998489  0.001511  0.018829"
      ]
     },
     "execution_count": 6,
     "metadata": {},
     "output_type": "execute_result"
    }
   ],
   "source": [
    "entropy_weight_df=usda_weight.entropy_weight(evaluation_criteria_raw_values_df)\n",
    "entropy_weight_df"
   ]
  },
  {
   "cell_type": "markdown",
   "id": "b4181600-744f-4977-91e0-e742e668a163",
   "metadata": {},
   "source": [
    "#### 2)  TOPSIS（理想解法） \n",
    "\n",
    "决策规则（ecision rule）可以定义为通过规范化具有权重的决策准则，计算每个备选方案的综合性指标，进行排序，选择最佳方案的过程。MCDM的决策规则包含有加权线性组合（weighted linear combination，WLC）、加权求和/布尔叠加法（weighted summation/Boolean overlay methods）、层次分析法（Analytic Hierarchy Process，AHP），理想/参考点法（ideal/reference point methods）和排序法（outranking methods）等众多算法<sup>[Malczewski, J. GIS-based multicriteria decision analysis: A survey of the literature. International Journal of Geographical Information Science 20, 703–726 (2006).][Malczewski, J. & Rinner, C. Advances in Geographic Information Science Multicriteria Decision Analysis in Geographic Information Science. http://www.springer.com/series/7712.]</sup>。TOPSIS (Technique for Order Performance by Similarity to Ideal Solution)算法的基本原理是折衷的解决方案必须同时靠近正理想解（positive ideal solution，PIS）而远离负理想解（ negative ideal solution，NIS）。正理想解表示一个假设的备选方案，其由每个决策准则的最理想的规范化属性值组成；而负理想解表示的假设备选方案由每个决策准则的最差性能的规范化属性值组成。TOPSIS的基本假设是决策准则（评估标注）值得单调递增或递减，因此识别一组决策准则值的最大值和最小值，可以很容易确定每个准则的正理想和负理想解。TOPSIS 结合到正理想解和负理想解的距离来衡量每个备选位置与正理想解的相对接近程度，然后，备选方案将根据这一综合衡量标准进行排名<sup>Hwang, C.-L., and K. Yoon. 1981. Multiple Attribute Decision Making. Methods and Applications A State-of-the-Art Survey. Berlin: Springer-Verlag. </sup>。\n",
    "\n",
    "首先通过将决策矩阵$A$中的每个决策准则值$a_{i j}$标准化为无量纲的$v_{i j}$来构建归一化决策矩阵，以便比较不同的属性，其公式为： $v_{i j}=\\frac{a_{i j}}{\\sqrt{\\sum_{i=1}^m a_{i j}^2}}$，定义`df_standardized_evaluation()`方法实现。"
   ]
  },
  {
   "cell_type": "code",
   "execution_count": 7,
   "id": "2715b8a2-489d-4d60-99d0-b88592afc545",
   "metadata": {
    "tags": []
   },
   "outputs": [
    {
     "data": {
      "text/html": [
       "<div>\n",
       "<style scoped>\n",
       "    .dataframe tbody tr th:only-of-type {\n",
       "        vertical-align: middle;\n",
       "    }\n",
       "\n",
       "    .dataframe tbody tr th {\n",
       "        vertical-align: top;\n",
       "    }\n",
       "\n",
       "    .dataframe thead th {\n",
       "        text-align: right;\n",
       "    }\n",
       "</style>\n",
       "<table border=\"1\" class=\"dataframe\">\n",
       "  <thead>\n",
       "    <tr style=\"text-align: right;\">\n",
       "      <th></th>\n",
       "      <th>slope</th>\n",
       "      <th>distance2water</th>\n",
       "      <th>elevation</th>\n",
       "      <th>distance2population</th>\n",
       "    </tr>\n",
       "  </thead>\n",
       "  <tbody>\n",
       "    <tr>\n",
       "      <th>0</th>\n",
       "      <td>0.311086</td>\n",
       "      <td>0.393045</td>\n",
       "      <td>0.641016</td>\n",
       "      <td>0.469596</td>\n",
       "    </tr>\n",
       "    <tr>\n",
       "      <th>1</th>\n",
       "      <td>0.691301</td>\n",
       "      <td>0.571702</td>\n",
       "      <td>0.348623</td>\n",
       "      <td>0.508729</td>\n",
       "    </tr>\n",
       "    <tr>\n",
       "      <th>2</th>\n",
       "      <td>0.345651</td>\n",
       "      <td>0.357314</td>\n",
       "      <td>0.551049</td>\n",
       "      <td>0.469596</td>\n",
       "    </tr>\n",
       "    <tr>\n",
       "      <th>3</th>\n",
       "      <td>0.553041</td>\n",
       "      <td>0.625299</td>\n",
       "      <td>0.404852</td>\n",
       "      <td>0.547862</td>\n",
       "    </tr>\n",
       "  </tbody>\n",
       "</table>\n",
       "</div>"
      ],
      "text/plain": [
       "      slope  distance2water  elevation  distance2population\n",
       "0  0.311086        0.393045   0.641016             0.469596\n",
       "1  0.691301        0.571702   0.348623             0.508729\n",
       "2  0.345651        0.357314   0.551049             0.469596\n",
       "3  0.553041        0.625299   0.404852             0.547862"
      ]
     },
     "execution_count": 7,
     "metadata": {},
     "output_type": "execute_result"
    }
   ],
   "source": [
    "standardized_evaluation_criteria_df=usda_weight.df_standardized_evaluation(evaluation_criteria_raw_values_df)\n",
    "standardized_evaluation_criteria_df"
   ]
  },
  {
   "cell_type": "markdown",
   "id": "dc486974-720b-49ce-88a2-9734d1a86a8a",
   "metadata": {},
   "source": [
    "然后，确定正理想解（$V^{+}(PIS)$）和负理想解（$ V^{-}(NIS)$），其公式为：$\\begin{aligned} & V^{+}=\\left\\{v_1^{+}, v_2^{+}, \\ldots, v_n^{+}\\right\\}=\\left\\{\\left(\\max _i v_{i j} \\mid j \\in J\\right),\\left(\\min _i v_{i j} \\mid j \\in J^{\\prime}\\right), i=1,2, \\ldots, m\\right\\} \\\\ & V^{-}=\\left\\{v_1^{-}, v_2^{-}, \\ldots, v_n^{-}\\right\\}=\\left\\{\\left(\\min _i v_{i j} \\mid j \\in J\\right),\\left(\\max _i v_{i j} \\mid j \\in J^{\\prime}\\right), i=1,2, \\ldots, m\\right\\}\\end{aligned}$，式中，$J$与收益、最大化或正向评估标准化相关；而$J' $与成本、最小化或反向评估标准相关联。定义`PIS_NIS()`方法实现，对于每个决策准则方向的确定（值越大越好，约趋向正理想解，还是正好相反；负理想解同，通常与正理想解相反），通过传入`pis`参数确定，该参数的形式设计为一个字典，以决策准则（列名）为键，值为1或者0，为1时表明正理想解越大越好；为0时表明正理想解越小越好。负理想解与正理想解相反（由程序内部判断）。例如，对于`slope`决策准则为值越低越好，因此正理想解为0.311为最小值，而负理想解为最大值0.691；对于`distance2population`决策准则值则越大越好，因此正理想解为0.547，而负理想解为0.469。"
   ]
  },
  {
   "cell_type": "code",
   "execution_count": 8,
   "id": "1dbd5d10-8340-4d70-bcef-5e984601e2a3",
   "metadata": {
    "tags": []
   },
   "outputs": [
    {
     "data": {
      "text/html": [
       "<div>\n",
       "<style scoped>\n",
       "    .dataframe tbody tr th:only-of-type {\n",
       "        vertical-align: middle;\n",
       "    }\n",
       "\n",
       "    .dataframe tbody tr th {\n",
       "        vertical-align: top;\n",
       "    }\n",
       "\n",
       "    .dataframe thead th {\n",
       "        text-align: right;\n",
       "    }\n",
       "</style>\n",
       "<table border=\"1\" class=\"dataframe\">\n",
       "  <thead>\n",
       "    <tr style=\"text-align: right;\">\n",
       "      <th></th>\n",
       "      <th>slope</th>\n",
       "      <th>distance2water</th>\n",
       "      <th>elevation</th>\n",
       "      <th>distance2population</th>\n",
       "    </tr>\n",
       "  </thead>\n",
       "  <tbody>\n",
       "    <tr>\n",
       "      <th>V+</th>\n",
       "      <td>0.311086</td>\n",
       "      <td>0.357314</td>\n",
       "      <td>0.348623</td>\n",
       "      <td>0.547862</td>\n",
       "    </tr>\n",
       "    <tr>\n",
       "      <th>V-</th>\n",
       "      <td>0.691301</td>\n",
       "      <td>0.625299</td>\n",
       "      <td>0.641016</td>\n",
       "      <td>0.469596</td>\n",
       "    </tr>\n",
       "  </tbody>\n",
       "</table>\n",
       "</div>"
      ],
      "text/plain": [
       "       slope  distance2water  elevation  distance2population\n",
       "V+  0.311086        0.357314   0.348623             0.547862\n",
       "V-  0.691301        0.625299   0.641016             0.469596"
      ]
     },
     "execution_count": 8,
     "metadata": {},
     "output_type": "execute_result"
    }
   ],
   "source": [
    "pis_nis=usda_weight.PIS_NIS(standardized_evaluation_criteria_df,pis={'slope':0,'distance2water':0,'elevation':0,'distance2population':1})  \n",
    "pis_nis"
   ]
  },
  {
   "cell_type": "markdown",
   "id": "657309cc-8ae5-4597-a543-95700cea9c37",
   "metadata": {},
   "source": [
    "进而，计算各备选方案到正负理想解的距离（$S_i^{+}$和$S_i^{-}$），公式为：$\\begin{aligned} & S_i^{+}=\\left[\\sum_{j=1}^n w_j^p \\cdot\\left(\\left|v_{i j}-v_{i j}^{+}\\right|\\right)^p\\right]^{\\frac{1}{p}} \\\\ & S_i^{-}=\\left[\\sum_{j=1}^n w_j^p \\cdot\\left(\\left|v_{i j}-v_{i j}^{-}\\right|\\right)^p\\right]^{\\frac{1}{p}}\\end{aligned}$，式中，$ w_j$为前文计算的决策准则信息熵权重值，$p$本次实验配置值为2，为欧氏距离度量。\n",
    "\n",
    "最后，计算各备选方案的排序指标值（即综合评价指数）$C_i^{+}$，为到正理想解的相对接近度（ relative closeness），公式为： $C_i^{+}=\\frac{S_i^{-}}{S_i^{+}+S_i^{-}}$。\n",
    "\n",
    "定义`closeness_pis_nis()`方法实现TOPSIS算法，包括决策矩阵标准化、确定正负理想解及距离计算和综合评价指数计算过程。计算结果显示，备选方案2为最优解，是最适合的选择区域。"
   ]
  },
  {
   "cell_type": "code",
   "execution_count": 106,
   "id": "f1ba5b3b-3f33-422f-858a-8c75b8d1400c",
   "metadata": {
    "tags": []
   },
   "outputs": [
    {
     "data": {
      "text/html": [
       "<div>\n",
       "<style scoped>\n",
       "    .dataframe tbody tr th:only-of-type {\n",
       "        vertical-align: middle;\n",
       "    }\n",
       "\n",
       "    .dataframe tbody tr th {\n",
       "        vertical-align: top;\n",
       "    }\n",
       "\n",
       "    .dataframe thead th {\n",
       "        text-align: right;\n",
       "    }\n",
       "</style>\n",
       "<table border=\"1\" class=\"dataframe\">\n",
       "  <thead>\n",
       "    <tr style=\"text-align: right;\">\n",
       "      <th></th>\n",
       "      <th>Si+</th>\n",
       "      <th>Si-</th>\n",
       "      <th>Ci+</th>\n",
       "      <th>Rank</th>\n",
       "    </tr>\n",
       "  </thead>\n",
       "  <tbody>\n",
       "    <tr>\n",
       "      <th>0</th>\n",
       "      <td>0.075341</td>\n",
       "      <td>0.190395</td>\n",
       "      <td>0.716481</td>\n",
       "      <td>2.0</td>\n",
       "    </tr>\n",
       "    <tr>\n",
       "      <th>1</th>\n",
       "      <td>0.189103</td>\n",
       "      <td>0.075979</td>\n",
       "      <td>0.286626</td>\n",
       "      <td>4.0</td>\n",
       "    </tr>\n",
       "    <tr>\n",
       "      <th>2</th>\n",
       "      <td>0.054371</td>\n",
       "      <td>0.179345</td>\n",
       "      <td>0.767362</td>\n",
       "      <td>1.0</td>\n",
       "    </tr>\n",
       "    <tr>\n",
       "      <th>3</th>\n",
       "      <td>0.134021</td>\n",
       "      <td>0.089482</td>\n",
       "      <td>0.400361</td>\n",
       "      <td>3.0</td>\n",
       "    </tr>\n",
       "  </tbody>\n",
       "</table>\n",
       "</div>"
      ],
      "text/plain": [
       "        Si+       Si-       Ci+  Rank\n",
       "0  0.075341  0.190395  0.716481   2.0\n",
       "1  0.189103  0.075979  0.286626   4.0\n",
       "2  0.054371  0.179345  0.767362   1.0\n",
       "3  0.134021  0.089482  0.400361   3.0"
      ]
     },
     "execution_count": 106,
     "metadata": {},
     "output_type": "execute_result"
    }
   ],
   "source": [
    "separation_measure_df=usda_weight.closeness_pis_nis(standardized_evaluation_criteria_df,pis={'slope':0,'distance2water':0,'elevation':0,'distance2population':1},Wj=entropy_weight_df['Wj'])\n",
    "separation_measure_df"
   ]
  },
  {
   "cell_type": "markdown",
   "id": "a3e2d70e-3e44-46ea-9464-af474312f50f",
   "metadata": {},
   "source": [
    "### 3.1.1.2 污染气体浓度数据测量点污染浓度综合指数评估\n",
    "\n",
    "使用“2.7.1 城市环境传感器AoT（SAGE）数据预处理” 一章中处理后的数据，就污染气体（CO, H2S, NO2, O3, SO2, oxidizing_gases和reducing_gases）浓度值评估不同测量点位污染的综合指数，最优解的测量点位应该是各类污染气体浓度值相对最低的区域。\n",
    "\n",
    "参数管理使用`AttrDict()方法`（具体查看“Cityscapes数据集——参数管理”一节），将该方法写入到`USDA`库中，方便调用。"
   ]
  },
  {
   "cell_type": "code",
   "execution_count": 10,
   "id": "a4f16ef3-dc91-441e-ad53-f625a50a6e42",
   "metadata": {
    "tags": []
   },
   "outputs": [],
   "source": [
    "__C=usda_utils.AttrDict() \n",
    "args=__C\n",
    "\n",
    "__C.db=usda_utils.AttrDict() \n",
    "__C.db.UN='postgres'\n",
    "__C.db.PW='123456'\n",
    "__C.db.DB='AoT_20220831'\n",
    "__C.db.GC='geometry' \n",
    "__C.db.db_info=dict(geom_col=args.db.GC,myusername=args.db.UN,mypassword=args.db.PW,mydatabase=args.db.DB)"
   ]
  },
  {
   "cell_type": "code",
   "execution_count": 11,
   "id": "b78c3f01-9bc0-4552-905d-a0e9dee49150",
   "metadata": {
    "tags": []
   },
   "outputs": [
    {
     "name": "stdout",
     "output_type": "stream",
     "text": [
      "__________________________________________________\n",
      "The data has been read from PostgreSQL database. The table name is concentration.\n"
     ]
    }
   ],
   "source": [
    "gas_concentration_gdf=postSQL2gpd(table_name=\"concentration\",**args.db.db_info)"
   ]
  },
  {
   "cell_type": "code",
   "execution_count": 13,
   "id": "d34550ec-c69d-4fec-8c16-f835e9a8ab01",
   "metadata": {
    "tags": []
   },
   "outputs": [
    {
     "data": {
      "text/html": [
       "<div>\n",
       "<style scoped>\n",
       "    .dataframe tbody tr th:only-of-type {\n",
       "        vertical-align: middle;\n",
       "    }\n",
       "\n",
       "    .dataframe tbody tr th {\n",
       "        vertical-align: top;\n",
       "    }\n",
       "\n",
       "    .dataframe thead th {\n",
       "        text-align: right;\n",
       "    }\n",
       "</style>\n",
       "<table border=\"1\" class=\"dataframe\">\n",
       "  <thead>\n",
       "    <tr style=\"text-align: right;\">\n",
       "      <th></th>\n",
       "      <th>timestamp</th>\n",
       "      <th>node_id</th>\n",
       "      <th>subsystem</th>\n",
       "      <th>sensor</th>\n",
       "      <th>parameter</th>\n",
       "      <th>value_hrf_sum</th>\n",
       "      <th>value_hrf_count</th>\n",
       "      <th>value_hrf_average</th>\n",
       "      <th>value_hrf_min</th>\n",
       "      <th>value_hrf_max</th>\n",
       "      <th>project_id</th>\n",
       "      <th>vsn</th>\n",
       "      <th>address</th>\n",
       "      <th>lat</th>\n",
       "      <th>lon</th>\n",
       "      <th>description</th>\n",
       "      <th>start_timestamp</th>\n",
       "      <th>end_timestamp</th>\n",
       "      <th>geometry</th>\n",
       "      <th>ts</th>\n",
       "    </tr>\n",
       "  </thead>\n",
       "  <tbody>\n",
       "    <tr>\n",
       "      <th>0</th>\n",
       "      <td>2020/01/01 00:30:00</td>\n",
       "      <td>001e0610ee43</td>\n",
       "      <td>chemsense</td>\n",
       "      <td>co</td>\n",
       "      <td>concentration</td>\n",
       "      <td>6.383</td>\n",
       "      <td>77</td>\n",
       "      <td>0.083</td>\n",
       "      <td>0.001</td>\n",
       "      <td>0.281</td>\n",
       "      <td>AoT_Chicago</td>\n",
       "      <td>08B</td>\n",
       "      <td>UChicago Chicago IL</td>\n",
       "      <td>41.788608</td>\n",
       "      <td>-87.598713</td>\n",
       "      <td>AoT Chicago (S) [C] {UChicago}</td>\n",
       "      <td>2018/02/23 00:00:00</td>\n",
       "      <td>None</td>\n",
       "      <td>POINT (450252.141 4626479.257)</td>\n",
       "      <td>2020-01-01 00:30:00</td>\n",
       "    </tr>\n",
       "    <tr>\n",
       "      <th>1</th>\n",
       "      <td>2020/01/01 00:30:00</td>\n",
       "      <td>001e061183f5</td>\n",
       "      <td>chemsense</td>\n",
       "      <td>co</td>\n",
       "      <td>concentration</td>\n",
       "      <td>7.711</td>\n",
       "      <td>53</td>\n",
       "      <td>0.145</td>\n",
       "      <td>0.009</td>\n",
       "      <td>0.457</td>\n",
       "      <td>AoT_Chicago</td>\n",
       "      <td>0BF</td>\n",
       "      <td>111th &amp; Michigan Ave Chicago IL</td>\n",
       "      <td>41.692703</td>\n",
       "      <td>-87.621020</td>\n",
       "      <td>AoT Chicago (S) [CP]</td>\n",
       "      <td>2019/06/24 00:00:00</td>\n",
       "      <td>None</td>\n",
       "      <td>POINT (448321.777 4615844.593)</td>\n",
       "      <td>2020-01-01 00:30:00</td>\n",
       "    </tr>\n",
       "    <tr>\n",
       "      <th>2</th>\n",
       "      <td>2020/01/01 00:30:00</td>\n",
       "      <td>001e061183f5</td>\n",
       "      <td>chemsense</td>\n",
       "      <td>h2s</td>\n",
       "      <td>concentration</td>\n",
       "      <td>223.790</td>\n",
       "      <td>143</td>\n",
       "      <td>1.565</td>\n",
       "      <td>1.244</td>\n",
       "      <td>1.929</td>\n",
       "      <td>AoT_Chicago</td>\n",
       "      <td>0BF</td>\n",
       "      <td>111th &amp; Michigan Ave Chicago IL</td>\n",
       "      <td>41.692703</td>\n",
       "      <td>-87.621020</td>\n",
       "      <td>AoT Chicago (S) [CP]</td>\n",
       "      <td>2019/06/24 00:00:00</td>\n",
       "      <td>None</td>\n",
       "      <td>POINT (448321.777 4615844.593)</td>\n",
       "      <td>2020-01-01 00:30:00</td>\n",
       "    </tr>\n",
       "  </tbody>\n",
       "</table>\n",
       "</div>"
      ],
      "text/plain": [
       "             timestamp       node_id  subsystem sensor      parameter  \\\n",
       "0  2020/01/01 00:30:00  001e0610ee43  chemsense     co  concentration   \n",
       "1  2020/01/01 00:30:00  001e061183f5  chemsense     co  concentration   \n",
       "2  2020/01/01 00:30:00  001e061183f5  chemsense    h2s  concentration   \n",
       "\n",
       "   value_hrf_sum  value_hrf_count  value_hrf_average  value_hrf_min  \\\n",
       "0          6.383               77              0.083          0.001   \n",
       "1          7.711               53              0.145          0.009   \n",
       "2        223.790              143              1.565          1.244   \n",
       "\n",
       "   value_hrf_max   project_id  vsn                          address  \\\n",
       "0          0.281  AoT_Chicago  08B              UChicago Chicago IL   \n",
       "1          0.457  AoT_Chicago  0BF  111th & Michigan Ave Chicago IL   \n",
       "2          1.929  AoT_Chicago  0BF  111th & Michigan Ave Chicago IL   \n",
       "\n",
       "         lat        lon                     description      start_timestamp  \\\n",
       "0  41.788608 -87.598713  AoT Chicago (S) [C] {UChicago}  2018/02/23 00:00:00   \n",
       "1  41.692703 -87.621020            AoT Chicago (S) [CP]  2019/06/24 00:00:00   \n",
       "2  41.692703 -87.621020            AoT Chicago (S) [CP]  2019/06/24 00:00:00   \n",
       "\n",
       "  end_timestamp                        geometry                  ts  \n",
       "0          None  POINT (450252.141 4626479.257) 2020-01-01 00:30:00  \n",
       "1          None  POINT (448321.777 4615844.593) 2020-01-01 00:30:00  \n",
       "2          None  POINT (448321.777 4615844.593) 2020-01-01 00:30:00  "
      ]
     },
     "execution_count": 13,
     "metadata": {},
     "output_type": "execute_result"
    }
   ],
   "source": [
    "gas_concentration_gdf.head(3)"
   ]
  },
  {
   "cell_type": "markdown",
   "id": "1b0bacd3-9004-4cf3-a392-3a27be8299cf",
   "metadata": {},
   "source": [
    "计算读取的`gas_concentration_gdf`时间序列数据为各个测量点位各类污染气体的年均值，以各类气体污染浓度为决策准则，以测量点位（`node_id`）为备选方案。"
   ]
  },
  {
   "cell_type": "code",
   "execution_count": 15,
   "id": "8b991a23-5738-4077-8dda-4e402bdd0ed9",
   "metadata": {
    "tags": []
   },
   "outputs": [
    {
     "name": "stdout",
     "output_type": "stream",
     "text": [
      "(17, 8)\n"
     ]
    },
    {
     "data": {
      "text/html": [
       "<div>\n",
       "<style scoped>\n",
       "    .dataframe tbody tr th:only-of-type {\n",
       "        vertical-align: middle;\n",
       "    }\n",
       "\n",
       "    .dataframe tbody tr th {\n",
       "        vertical-align: top;\n",
       "    }\n",
       "\n",
       "    .dataframe thead th {\n",
       "        text-align: right;\n",
       "    }\n",
       "</style>\n",
       "<table border=\"1\" class=\"dataframe\">\n",
       "  <thead>\n",
       "    <tr style=\"text-align: right;\">\n",
       "      <th></th>\n",
       "      <th>co</th>\n",
       "      <th>h2s</th>\n",
       "      <th>no2</th>\n",
       "      <th>o3</th>\n",
       "      <th>oxidizing_gases</th>\n",
       "      <th>reducing_gases</th>\n",
       "      <th>so2</th>\n",
       "      <th>geometry</th>\n",
       "    </tr>\n",
       "    <tr>\n",
       "      <th>node_id</th>\n",
       "      <th></th>\n",
       "      <th></th>\n",
       "      <th></th>\n",
       "      <th></th>\n",
       "      <th></th>\n",
       "      <th></th>\n",
       "      <th></th>\n",
       "      <th></th>\n",
       "    </tr>\n",
       "  </thead>\n",
       "  <tbody>\n",
       "    <tr>\n",
       "      <th>001e0610ee43</th>\n",
       "      <td>0.100156</td>\n",
       "      <td>0.016942</td>\n",
       "      <td>0.005921</td>\n",
       "      <td>0.002911</td>\n",
       "      <td>0.100419</td>\n",
       "      <td>0.023512</td>\n",
       "      <td>0.155692</td>\n",
       "      <td>POINT (450252.141 4626479.257)</td>\n",
       "    </tr>\n",
       "    <tr>\n",
       "      <th>001e06113107</th>\n",
       "      <td>1.381645</td>\n",
       "      <td>0.042800</td>\n",
       "      <td>0.005717</td>\n",
       "      <td>0.002976</td>\n",
       "      <td>0.715194</td>\n",
       "      <td>0.088307</td>\n",
       "      <td>0.304424</td>\n",
       "      <td>POINT (440722.179 4622392.015)</td>\n",
       "    </tr>\n",
       "    <tr>\n",
       "      <th>001e06117b41</th>\n",
       "      <td>0.191377</td>\n",
       "      <td>0.349793</td>\n",
       "      <td>0.014280</td>\n",
       "      <td>0.004547</td>\n",
       "      <td>1.306005</td>\n",
       "      <td>0.419687</td>\n",
       "      <td>0.547236</td>\n",
       "      <td>POINT (448297.079 4626171.925)</td>\n",
       "    </tr>\n",
       "  </tbody>\n",
       "</table>\n",
       "</div>"
      ],
      "text/plain": [
       "                    co       h2s       no2        o3  oxidizing_gases  \\\n",
       "node_id                                                                 \n",
       "001e0610ee43  0.100156  0.016942  0.005921  0.002911         0.100419   \n",
       "001e06113107  1.381645  0.042800  0.005717  0.002976         0.715194   \n",
       "001e06117b41  0.191377  0.349793  0.014280  0.004547         1.306005   \n",
       "\n",
       "              reducing_gases       so2                        geometry  \n",
       "node_id                                                                 \n",
       "001e0610ee43        0.023512  0.155692  POINT (450252.141 4626479.257)  \n",
       "001e06113107        0.088307  0.304424  POINT (440722.179 4622392.015)  \n",
       "001e06117b41        0.419687  0.547236  POINT (448297.079 4626171.925)  "
      ]
     },
     "execution_count": 15,
     "metadata": {},
     "output_type": "execute_result"
    }
   ],
   "source": [
    "gas_grouped=gas_concentration_gdf.groupby(['node_id','sensor']).agg({'value_hrf_average':'mean','geometry':'first'})\n",
    "gas_grouuped_val=gas_grouped['value_hrf_average'].unstack(level=1)\n",
    "gas_grouuped_val.dropna(axis=0,how='any',inplace=True)\n",
    "\n",
    "gas_grouped_geometry=gas_grouped['geometry']\n",
    "gas_grouped_geometry_series=gas_grouped_geometry[~gas_grouped_geometry.index.get_level_values(0).duplicated(keep='last')].droplevel(level=1)\n",
    "\n",
    "gas_concentration_grouuped_gdf=gas_grouuped_val.join(gas_grouped_geometry_series).set_geometry('geometry',crs=gas_concentration_gdf.crs)\n",
    "print(gas_concentration_grouuped_gdf.shape)\n",
    "gas_concentration_grouuped_gdf.head(3)"
   ]
  },
  {
   "cell_type": "markdown",
   "id": "4af428ac-5587-487d-9543-d18e6f5feab6",
   "metadata": {},
   "source": [
    "读取芝加哥城的行政区划数据，方便测量单位分布位置的查看。"
   ]
  },
  {
   "cell_type": "code",
   "execution_count": 16,
   "id": "74b06dde-817b-49f9-abce-fd6c02467dfd",
   "metadata": {
    "tags": []
   },
   "outputs": [
    {
     "name": "stdout",
     "output_type": "stream",
     "text": [
      "__________________________________________________\n",
      "The data has been read from PostgreSQL database. The table name is chicago_community_areas.\n"
     ]
    }
   ],
   "source": [
    "chicago_community_areas=postSQL2gpd(table_name='chicago_community_areas',**args.db.db_info)  "
   ]
  },
  {
   "cell_type": "markdown",
   "id": "d05ed5ca-b889-4ddb-8562-22ef5cdf6bd1",
   "metadata": {},
   "source": [
    "应用上述定义的熵值权重法和TOPSIS算法，计算污染气体浓度下的MCDM问题。从计算结果来看，测量点位`001e0611856d`为最优方案，各类气体污染浓度相对较小。"
   ]
  },
  {
   "cell_type": "code",
   "execution_count": 231,
   "id": "dcd8398b-5be9-41f6-a2f5-709e9af9e714",
   "metadata": {
    "tags": []
   },
   "outputs": [
    {
     "data": {
      "text/html": [
       "<div>\n",
       "<style scoped>\n",
       "    .dataframe tbody tr th:only-of-type {\n",
       "        vertical-align: middle;\n",
       "    }\n",
       "\n",
       "    .dataframe tbody tr th {\n",
       "        vertical-align: top;\n",
       "    }\n",
       "\n",
       "    .dataframe thead th {\n",
       "        text-align: right;\n",
       "    }\n",
       "</style>\n",
       "<table border=\"1\" class=\"dataframe\">\n",
       "  <thead>\n",
       "    <tr style=\"text-align: right;\">\n",
       "      <th></th>\n",
       "      <th>Si+</th>\n",
       "      <th>Si-</th>\n",
       "      <th>Ci+</th>\n",
       "      <th>Rank</th>\n",
       "      <th>node_id</th>\n",
       "    </tr>\n",
       "  </thead>\n",
       "  <tbody>\n",
       "    <tr>\n",
       "      <th>0</th>\n",
       "      <td>0.003842</td>\n",
       "      <td>0.426265</td>\n",
       "      <td>0.991068</td>\n",
       "      <td>2.0</td>\n",
       "      <td>001e0610ee43</td>\n",
       "    </tr>\n",
       "    <tr>\n",
       "      <th>1</th>\n",
       "      <td>0.009027</td>\n",
       "      <td>0.420979</td>\n",
       "      <td>0.979008</td>\n",
       "      <td>4.0</td>\n",
       "      <td>001e06113107</td>\n",
       "    </tr>\n",
       "    <tr>\n",
       "      <th>2</th>\n",
       "      <td>0.025925</td>\n",
       "      <td>0.415602</td>\n",
       "      <td>0.941282</td>\n",
       "      <td>14.0</td>\n",
       "      <td>001e06117b41</td>\n",
       "    </tr>\n",
       "    <tr>\n",
       "      <th>3</th>\n",
       "      <td>0.016292</td>\n",
       "      <td>0.415278</td>\n",
       "      <td>0.962251</td>\n",
       "      <td>11.0</td>\n",
       "      <td>001e06117b44</td>\n",
       "    </tr>\n",
       "    <tr>\n",
       "      <th>4</th>\n",
       "      <td>0.008117</td>\n",
       "      <td>0.421103</td>\n",
       "      <td>0.981090</td>\n",
       "      <td>3.0</td>\n",
       "      <td>001e0611804d</td>\n",
       "    </tr>\n",
       "    <tr>\n",
       "      <th>5</th>\n",
       "      <td>0.020310</td>\n",
       "      <td>0.416891</td>\n",
       "      <td>0.953546</td>\n",
       "      <td>13.0</td>\n",
       "      <td>001e06118182</td>\n",
       "    </tr>\n",
       "    <tr>\n",
       "      <th>6</th>\n",
       "      <td>0.012700</td>\n",
       "      <td>0.424827</td>\n",
       "      <td>0.970974</td>\n",
       "      <td>8.0</td>\n",
       "      <td>001e06118295</td>\n",
       "    </tr>\n",
       "    <tr>\n",
       "      <th>7</th>\n",
       "      <td>0.012010</td>\n",
       "      <td>0.420971</td>\n",
       "      <td>0.972261</td>\n",
       "      <td>7.0</td>\n",
       "      <td>001e061182a2</td>\n",
       "    </tr>\n",
       "    <tr>\n",
       "      <th>8</th>\n",
       "      <td>0.016872</td>\n",
       "      <td>0.421351</td>\n",
       "      <td>0.961500</td>\n",
       "      <td>12.0</td>\n",
       "      <td>001e061182a7</td>\n",
       "    </tr>\n",
       "    <tr>\n",
       "      <th>9</th>\n",
       "      <td>0.009138</td>\n",
       "      <td>0.424579</td>\n",
       "      <td>0.978931</td>\n",
       "      <td>5.0</td>\n",
       "      <td>001e061183bf</td>\n",
       "    </tr>\n",
       "    <tr>\n",
       "      <th>10</th>\n",
       "      <td>0.038781</td>\n",
       "      <td>0.407858</td>\n",
       "      <td>0.913172</td>\n",
       "      <td>15.0</td>\n",
       "      <td>001e061183f3</td>\n",
       "    </tr>\n",
       "    <tr>\n",
       "      <th>11</th>\n",
       "      <td>0.316724</td>\n",
       "      <td>0.272641</td>\n",
       "      <td>0.462601</td>\n",
       "      <td>17.0</td>\n",
       "      <td>001e061183f5</td>\n",
       "    </tr>\n",
       "    <tr>\n",
       "      <th>12</th>\n",
       "      <td>0.014791</td>\n",
       "      <td>0.424615</td>\n",
       "      <td>0.966340</td>\n",
       "      <td>9.0</td>\n",
       "      <td>001e06118433</td>\n",
       "    </tr>\n",
       "    <tr>\n",
       "      <th>13</th>\n",
       "      <td>0.296861</td>\n",
       "      <td>0.279669</td>\n",
       "      <td>0.485090</td>\n",
       "      <td>16.0</td>\n",
       "      <td>001e061184a3</td>\n",
       "    </tr>\n",
       "    <tr>\n",
       "      <th>14</th>\n",
       "      <td>0.014759</td>\n",
       "      <td>0.422157</td>\n",
       "      <td>0.966221</td>\n",
       "      <td>10.0</td>\n",
       "      <td>001e06118501</td>\n",
       "    </tr>\n",
       "    <tr>\n",
       "      <th>15</th>\n",
       "      <td>0.011269</td>\n",
       "      <td>0.422414</td>\n",
       "      <td>0.974015</td>\n",
       "      <td>6.0</td>\n",
       "      <td>001e0611850f</td>\n",
       "    </tr>\n",
       "    <tr>\n",
       "      <th>16</th>\n",
       "      <td>0.002697</td>\n",
       "      <td>0.425934</td>\n",
       "      <td>0.993708</td>\n",
       "      <td>1.0</td>\n",
       "      <td>001e0611856d</td>\n",
       "    </tr>\n",
       "  </tbody>\n",
       "</table>\n",
       "</div>"
      ],
      "text/plain": [
       "         Si+       Si-       Ci+  Rank       node_id\n",
       "0   0.003842  0.426265  0.991068   2.0  001e0610ee43\n",
       "1   0.009027  0.420979  0.979008   4.0  001e06113107\n",
       "2   0.025925  0.415602  0.941282  14.0  001e06117b41\n",
       "3   0.016292  0.415278  0.962251  11.0  001e06117b44\n",
       "4   0.008117  0.421103  0.981090   3.0  001e0611804d\n",
       "5   0.020310  0.416891  0.953546  13.0  001e06118182\n",
       "6   0.012700  0.424827  0.970974   8.0  001e06118295\n",
       "7   0.012010  0.420971  0.972261   7.0  001e061182a2\n",
       "8   0.016872  0.421351  0.961500  12.0  001e061182a7\n",
       "9   0.009138  0.424579  0.978931   5.0  001e061183bf\n",
       "10  0.038781  0.407858  0.913172  15.0  001e061183f3\n",
       "11  0.316724  0.272641  0.462601  17.0  001e061183f5\n",
       "12  0.014791  0.424615  0.966340   9.0  001e06118433\n",
       "13  0.296861  0.279669  0.485090  16.0  001e061184a3\n",
       "14  0.014759  0.422157  0.966221  10.0  001e06118501\n",
       "15  0.011269  0.422414  0.974015   6.0  001e0611850f\n",
       "16  0.002697  0.425934  0.993708   1.0  001e0611856d"
      ]
     },
     "execution_count": 231,
     "metadata": {},
     "output_type": "execute_result"
    }
   ],
   "source": [
    "entropy_weight_gas_grouuped_val=usda_weight.entropy_weight(gas_grouuped_val)\n",
    "standardized_evaluation_criteria_gas_grouuped_val=usda_weight.df_standardized_evaluation(gas_grouuped_val)\n",
    "pis={col:0 for col in gas_grouuped_val.columns}\n",
    "separation_measure_gas_grouuped=usda_weight.closeness_pis_nis(standardized_evaluation_criteria_gas_grouuped_val,pis=pis,Wj=entropy_weight_gas_grouuped_val['Wj'])\n",
    "separation_measure_gas_grouuped['node_id']=gas_grouuped_val.index\n",
    "separation_measure_gas_grouuped"
   ]
  },
  {
   "cell_type": "markdown",
   "id": "18f1addf-56a8-4743-810a-49bbc6e4700d",
   "metadata": {},
   "source": [
    "打印测量点位，并标识污染浓度综合指数（距理想解的排序）。"
   ]
  },
  {
   "cell_type": "code",
   "execution_count": 235,
   "id": "9ef086fa-bb1a-4337-afd0-578841c9984d",
   "metadata": {
    "tags": []
   },
   "outputs": [
    {
     "data": {
      "image/png": "[encoded data removed]",
      "text/plain": [
       "<Figure size 700x1500 with 1 Axes>"
      ]
     },
     "metadata": {},
     "output_type": "display_data"
    }
   ],
   "source": [
    "fig, ax=plt.subplots(figsize=(7,15))\n",
    "chicago_community_areas.plot(ax=ax,color='white', edgecolor='gray')\n",
    "gas_concentration_grouuped_gdf.plot(ax=ax,markersize=30,legend=True,legend_kwds={'loc': 'lower left'},c='r')\n",
    "\n",
    "for x, y, label in zip(gas_concentration_grouuped_gdf.geometry.x, gas_concentration_grouuped_gdf.geometry.y,separation_measure_gas_grouuped.Rank.astype(int)):\n",
    "    ax.annotate(label, xy=(x, y), xytext=(3, 3), textcoords=\"offset points\",fontsize=7)\n",
    "\n",
    "ax.axis('off')\n",
    "plt.show()"
   ]
  },
  {
   "cell_type": "markdown",
   "id": "35d6d2e1-8c82-457f-afba-772e3f76df12",
   "metadata": {},
   "source": [
    "为了查看第1排名（最优方案）和最后排名测量点的场地环境情况，可以下载街道全景图（Street View panorama），一种方式是从[Google Developers Console_Street View Static API](https://console.cloud.google.com/apis/dashboard?pli=1&project=gsv-streetscape) 支付下载；或者从[istreetview](https://istreetview.com/)通过节点坐标获取全景图索引（PanoID），然后用[Street View Download 360](https://svd360.istreetview.com/)辅助工具下载。将下载的等量矩形投影图转换为球面全景图查看，使用[mayavi](https://docs.enthought.com/mayavi/mayavi/)库定义`sphere_panorama_label()`方法实现。\n",
    "\n",
    "在进一步的分析中，可以结合土地利用、土地覆盖数据，全景图语义分割后视域指标（绿视率等）、分析与测量点位污染浓度综合指数的关系。"
   ]
  },
  {
   "cell_type": "code",
   "execution_count": 247,
   "id": "45a12cb2-d9a4-4cfd-9042-ed2a2eea2295",
   "metadata": {
    "tags": []
   },
   "outputs": [],
   "source": [
    "pano_1_fn='../data/panorama_AoT/001e0611856d.jpg'\n",
    "# pano_17_fn='../data/panorama_AoT/001e061183f5.jpg'\n",
    "usda_vis.sphere_panorama_label(pano_17_fn)"
   ]
  },
  {
   "cell_type": "markdown",
   "id": "d211e2d6-f890-4e90-b666-778a8aa55bdd",
   "metadata": {},
   "source": [
    "<img src=\"../imgs/3_1/3_1_01_s.gif\" height='auto' width=500 title=\"caDesign\"><img src=\"../imgs/3_1/3_1_02_s.gif\" height='auto' width=500 title=\"caDesign\">"
   ]
  },
  {
   "cell_type": "markdown",
   "id": "da605876-5997-4650-8837-5e76c7b0a93a",
   "metadata": {},
   "source": [
    "## 3.1.2 MCDM算法集成\n",
    "\n",
    "Valdecy Pereira在构建`pyDecision`Python工具包时，对MCDM众多算法均给出了[Colab Demo](https://github.com/Valdecy/pyDecision)代码操作案例，方便快速的学习和应用对应算法于实际的实验研究中；同时给出了算法的出处（研究论文），方便查看和理解具体算法的计算过程。下表引入了对各类算法的简要说明：\n",
    "\n",
    "| 序号  | 算法名  | 参考论文  | 输入条件 |备注   |\n",
    "|---|---|---|---|---|\n",
    "|  1 |AHP（Analytic Hierarchy Process），层次分析法   |How to make a decision: The Analytic Hierarchy Process<sup>[Saaty, T. L. & Katz, J. M. How to make a decision: The Analytic Hierarchy Process. European Journal of Operational Research vol. 48 (1990).]</sup>   |  判断矩阵 ||\n",
    "|  2 |F-AHP （Fuzzy analytic hierarchy process） ，模糊层次分析法  | A fuzzy AHP approach for supplier selection problem: a case study in a gearmotor company  <sup>[Ayhan, M. B. A Fuzzy Ahp Approach For Supplier Selection Problem: A Case Study In A Gearmotor Company. International Journal of Managing Value and Supply Chains 4, 11–23 (2013).]</sup>  | 判断矩阵（模糊数）  |   |\n",
    "|  3 | ARAS （Additive Ratio Assessment ）  | A new additive ratio assessment (ARAS) method in multicriteria decision‐making<sup>[Zavadskas, E. K. & Turskis, Z. A new additive ratio assessment (ARAS) method in multicriteria decision-making. Technological and Economic Development of Economy 16, 159–172 (2010).]</sup>  | 1.准则权重</br>2.准则类型</br>3.决策矩阵  | |\n",
    "|  4 |  Borda | Mémoire sur les élections au scrutin *（投票选举简介）<sup>[Par M. SUR LES ÉLECTIONS AU SCRUTIN *. Des sciences (1781).]</sup>  | 1.准则类型</br>2.判断矩阵 |   |\n",
    "|  5 |  BWM（Best-worst multi-criteria decision-making method），最优最劣法 |  Best-worst multi-criteria decision-making method<sup>Rezaei, J. Best-worst multi-criteria decision-making method. Omega (United Kingdom) 53, 49–57 (2015).</sup> |1.最佳准则比较向量</br>2.最差准则比较向量  |   |\n",
    "|  6 | CODAS （Combinative distance-based assessment），基于组合距离评估 | A new combinative distance-based assessment (codas) method for multi-criteria decision-making<sup>Keshavarz-Ghorabaee, M., Zavadskas, E., Turskis, Z., & Antucheviciene, J. (2016). A new combinative distance-based assessment (CODAS) method for multi-criteria decision-making. Economic Computation and Economic Cybernetics Studies and Research / Academy of Economic Studies, 50, 25–44.</sup>| 1.准则权重</br>2.准则类型</br>3.决策矩阵  |   |\n",
    "|  7 |  COPRAS（COmplex PRoportional ASsessment），复杂比例评估 | A complex proportional assessment method for group decision making in an interval-valued intuitionistic fuzzy environment<sup>Razavi Hajiagha, S. H., Hashemi, S. S. & Zavadskas, E. K. A complex proportional assessment method for group decision making in an interval-valued intuitionistic fuzzy environment. Technological and Economic Development of Economy 19, 22–37 (2013).</sup>  |   1.准则权重</br>2.准则类型</br>3.决策矩阵 |   |\n",
    "|  8 | CRITIC（CRiteria Importance Through Intercriteria Correlation），基于准则间相关性权重法  | Determining objective weights in multiple criteria problems: the critic method <sup>Diakoulaki,~’~:, D., Mavrotas, G. & Papayannakis, L. DETERMINING OBJECTIVE WEIGHTS IN MULTIPLE CRITERIA PROBLEMS: THE CRITIC METHOD. Computers Ops Res vol. 22 (1995).</sup> |  1.准则类型</br>2.决策矩阵   |   |\n",
    "|  9 | DEMATEL（Decision making trial and evaluation laboratory），决策实验室法   | DEMATEL Technique: A Systematic Review of the State-of-the-Art Literature on Methodologies and Applications  |  |   |\n",
    "|  10 | Fuzzy DEMATEL   |   |   |   |\n",
    "|  11 |  EDAS  |   |   |   |\n",
    "| 12  |  Fuzzy EDAS |   |   |   |\n",
    "| 13  | ELECTRE I  |   |   |   |\n",
    "| 14  |  ELECTRE I_s |   |   |   |\n",
    "| 15  | ELECTRE I_v   |   |   |   |\n",
    "| 16  |  ELECTRE II |   |   |   |\n",
    "| 17  |  ELECTRE III |   |   |   |\n",
    "| 18  | ELECTRE IV  |   |   |   |\n",
    "| 19  |  ELECTRE Tri-B |   |   |   |\n",
    "| 20  | GRA  |   |   |   |\n",
    "|  21 |  IDOCRIW （Integrated Determination of Objective CRIteria Weights） |   |   |   |\n",
    "|  22 |  MABAC  |   |   |   |\n",
    "| 23  | MAUT  |   |   |   |\n",
    "| 24  |  MOORA |   |   |   |\n",
    "| 25  | MOOSRA  |   |   |   |\n",
    "| 26  |  MULTIMOORA |   |   |   |\n",
    "| 27  |  PROMETHEE I  |   |   |   |\n",
    "| 28  |  PROMETHEE II |   |   |   |\n",
    "| 29  |  PROMETHEE III |   |   |   |\n",
    "|  30 | PROMETHEE IV   |   |   |   |\n",
    "| 31  | PROMETHEE V   |   |   |   |\n",
    "|  32 |  PROMETHEE VI |   |   |   |\n",
    "| 33  |  PROMETHEE Gaia |   |   |   |\n",
    "| 34  | SAW   |   |   |   |\n",
    "| 35  |  SMART |   |   |   |\n",
    "| 36  | TOPSIS  |   |   |   |\n",
    "| 37  | Fuzzy TOPSIS  |   |   |   |\n",
    "| 38  | VIKOR  |   |   |   |\n",
    "| 39  | Fuzzy VIKOR |   |   |   |\n",
    "| 40  | WINGS   |   |   |   |\n",
    "| 41  | WSM, WPM, WASPAS  |   |   |   |"
   ]
  },
  {
   "cell_type": "markdown",
   "id": "5749557c-4217-42d1-90ed-c86e95f1e6ea",
   "metadata": {
    "tags": []
   },
   "source": [
    "### 3.1.2.1   再现 AHP 算法\n",
    "\n",
    "再现Thomas L. Saaty在论文中给出的第一个案例（购房选择问题），阐释AHP算法。为了方便应用 AHP 算法，定义`AHP`类可以方便构建判断矩阵，计算权重矩阵和一致性指数，及总的得分。\n",
    "\n",
    "对于这个购房选择问题，包括8个决策准则，由变量`criteria`给出；3个备选方案，由变量`alternatives`给出。首先是要构建两类两两比较矩阵（判断矩阵），一个是决策准则对于分析目标的重要性排序，为决策准则之间的两两比较；另一个是对于每一个决策准则，例如对于`size_of_house`而言，3个备选方案比较这一`size_of_house`这一决策准则，哪个备选方案的房子相对会大一些。为了方便和规范比较方式和比较值，作者给出了度量标度，如表：\n",
    "\n",
    "|标度（Intensity of importance on an absolute scale）   |  定义（Definition）  | 解释（Explanation）  |\n",
    "|---|---|---|\n",
    "| 1  |  Equal importance（同样重要性）   |  Two activities contribute equally to the objective  |\n",
    "| 3  |  Moderate importance of one over another（一个因素比另一个因素稍微重要）   |  Experience and judgment strongly favor one activity over another  |\n",
    "| 5  | Essential or strong importance（一个因素比另一个因素明显重要）    | Experience and judgement strongly favor one activity over another  |\n",
    "| 7  |  Very strong importance（一个因素比另一个因素强烈重要） | An activity is strongly favored and its dominance demonstrated in practice   |\n",
    "| 9  |  Extreme importance（一个因素比另一个因素极端重要） | The evidence favoring one activity over another is of tile highest possible order of affirmation   |\n",
    "| 2，4，6，8  |Intermediate values between the two adjacent judgments（上述两相邻判断的中值）    |  When compromise is needed  |\n",
    "| 倒数（Reciprocals）   |   | If activity i has one of the above numbers assigned to it when compared with activity j, then j has the reciprocal value when compared with i （如果因素 i 与因素 j 相比分配了上述数字之一，则 j 与 i 相比为倒数），例如$a_{ij}=3 $，则$a_{ji}=1/3 $  |\n",
    "| 有理数（Rationals ）  |  Ratios arising from the scale  |  If consistency were to be forced by obtaining n numerical values to span the matrix  |\n",
    "\n",
    "\n",
    "为了方便判断矩阵的输入，定义了`criteria_pairs_lst()`和`alternative_pairs()`方法生成`criteria_pairs_lst`和`alternative_pairs_lst`类属性，可以查看对于定义的类`AHP`两两比较输入的顺序。输入时为字符串形式输入，是为了应用`fractions`库提供的`Fraction`方法显示为分数形式，而不是浮点数。因为判断矩阵为正互反矩阵（reciprocal matrix），如$A=(a_{ij}),  a_{ij}= w_{i}/ w_{j};i,j=1, \\ldots ,n$，有$a_{ij} \\times a_{ji}=1$，因此倒数部分可以书写代码自动生成。"
   ]
  },
  {
   "cell_type": "code",
   "execution_count": 3,
   "id": "831c226c-3652-4d27-a042-1de974cbc9b4",
   "metadata": {
    "tags": []
   },
   "outputs": [],
   "source": [
    "criteria=['size_of_house','location_to_bus_line','neighborhood','age_of_house','yard_space','modern_facilities','general_condition','financing_available']\n",
    "alternatives=['A','B','C']      \n",
    "\n",
    "choosing_best_house=usda_weight.AHP(criteria,alternatives)  "
   ]
  },
  {
   "cell_type": "code",
   "execution_count": 4,
   "id": "e97adc43-1c1e-4d9c-b538-3f6e64c2fb1a",
   "metadata": {
    "tags": []
   },
   "outputs": [
    {
     "data": {
      "text/plain": [
       "[('size_of_house', 'location_to_bus_line'),\n",
       " ('size_of_house', 'neighborhood'),\n",
       " ('size_of_house', 'age_of_house'),\n",
       " ('size_of_house', 'yard_space'),\n",
       " ('size_of_house', 'modern_facilities'),\n",
       " ('size_of_house', 'general_condition'),\n",
       " ('size_of_house', 'financing_available'),\n",
       " ('location_to_bus_line', 'neighborhood'),\n",
       " ('location_to_bus_line', 'age_of_house'),\n",
       " ('location_to_bus_line', 'yard_space'),\n",
       " ('location_to_bus_line', 'modern_facilities'),\n",
       " ('location_to_bus_line', 'general_condition'),\n",
       " ('location_to_bus_line', 'financing_available'),\n",
       " ('neighborhood', 'age_of_house'),\n",
       " ('neighborhood', 'yard_space'),\n",
       " ('neighborhood', 'modern_facilities'),\n",
       " ('neighborhood', 'general_condition'),\n",
       " ('neighborhood', 'financing_available'),\n",
       " ('age_of_house', 'yard_space'),\n",
       " ('age_of_house', 'modern_facilities'),\n",
       " ('age_of_house', 'general_condition'),\n",
       " ('age_of_house', 'financing_available'),\n",
       " ('yard_space', 'modern_facilities'),\n",
       " ('yard_space', 'general_condition'),\n",
       " ('yard_space', 'financing_available'),\n",
       " ('modern_facilities', 'general_condition'),\n",
       " ('modern_facilities', 'financing_available'),\n",
       " ('general_condition', 'financing_available')]"
      ]
     },
     "execution_count": 4,
     "metadata": {},
     "output_type": "execute_result"
    }
   ],
   "source": [
    "choosing_best_house.criteria_pairs_lst"
   ]
  },
  {
   "cell_type": "markdown",
   "id": "e558662c-bf07-453f-b0d7-829bac558785",
   "metadata": {},
   "source": [
    "按照上述`criteria_pairs_lst`对顺序确定两两比较的标度，通过`pairwise_comparison_matrix()`方法构建决策准则自身之间的比较矩阵，其中参数`alternatives_criteria`为确定生成两类判断矩阵的哪类。"
   ]
  },
  {
   "cell_type": "code",
   "execution_count": 5,
   "id": "f4b3de60-19e1-42a6-a9a3-2727ad86acce",
   "metadata": {
    "tags": []
   },
   "outputs": [
    {
     "data": {
      "text/html": [
       "<div>\n",
       "<style scoped>\n",
       "    .dataframe tbody tr th:only-of-type {\n",
       "        vertical-align: middle;\n",
       "    }\n",
       "\n",
       "    .dataframe tbody tr th {\n",
       "        vertical-align: top;\n",
       "    }\n",
       "\n",
       "    .dataframe thead th {\n",
       "        text-align: right;\n",
       "    }\n",
       "</style>\n",
       "<table border=\"1\" class=\"dataframe\">\n",
       "  <thead>\n",
       "    <tr style=\"text-align: right;\">\n",
       "      <th></th>\n",
       "      <th>size_of_house</th>\n",
       "      <th>location_to_bus_line</th>\n",
       "      <th>neighborhood</th>\n",
       "      <th>age_of_house</th>\n",
       "      <th>yard_space</th>\n",
       "      <th>modern_facilities</th>\n",
       "      <th>general_condition</th>\n",
       "      <th>financing_available</th>\n",
       "    </tr>\n",
       "  </thead>\n",
       "  <tbody>\n",
       "    <tr>\n",
       "      <th>size_of_house</th>\n",
       "      <td>1</td>\n",
       "      <td>5</td>\n",
       "      <td>3</td>\n",
       "      <td>7</td>\n",
       "      <td>6</td>\n",
       "      <td>6</td>\n",
       "      <td>1/3</td>\n",
       "      <td>1/4</td>\n",
       "    </tr>\n",
       "    <tr>\n",
       "      <th>location_to_bus_line</th>\n",
       "      <td>1/5</td>\n",
       "      <td>1</td>\n",
       "      <td>1/3</td>\n",
       "      <td>5</td>\n",
       "      <td>3</td>\n",
       "      <td>3</td>\n",
       "      <td>1/5</td>\n",
       "      <td>1/7</td>\n",
       "    </tr>\n",
       "    <tr>\n",
       "      <th>neighborhood</th>\n",
       "      <td>1/3</td>\n",
       "      <td>3</td>\n",
       "      <td>1</td>\n",
       "      <td>6</td>\n",
       "      <td>3</td>\n",
       "      <td>4</td>\n",
       "      <td>6</td>\n",
       "      <td>1/5</td>\n",
       "    </tr>\n",
       "    <tr>\n",
       "      <th>age_of_house</th>\n",
       "      <td>1/7</td>\n",
       "      <td>1/5</td>\n",
       "      <td>1/6</td>\n",
       "      <td>1</td>\n",
       "      <td>1/3</td>\n",
       "      <td>1/4</td>\n",
       "      <td>1/7</td>\n",
       "      <td>1/8</td>\n",
       "    </tr>\n",
       "    <tr>\n",
       "      <th>yard_space</th>\n",
       "      <td>1/6</td>\n",
       "      <td>1/3</td>\n",
       "      <td>1/3</td>\n",
       "      <td>3</td>\n",
       "      <td>1</td>\n",
       "      <td>1/2</td>\n",
       "      <td>1/5</td>\n",
       "      <td>1/6</td>\n",
       "    </tr>\n",
       "    <tr>\n",
       "      <th>modern_facilities</th>\n",
       "      <td>1/6</td>\n",
       "      <td>1/3</td>\n",
       "      <td>1/4</td>\n",
       "      <td>4</td>\n",
       "      <td>2</td>\n",
       "      <td>1</td>\n",
       "      <td>1/5</td>\n",
       "      <td>1/6</td>\n",
       "    </tr>\n",
       "    <tr>\n",
       "      <th>general_condition</th>\n",
       "      <td>3</td>\n",
       "      <td>5</td>\n",
       "      <td>1/6</td>\n",
       "      <td>7</td>\n",
       "      <td>5</td>\n",
       "      <td>5</td>\n",
       "      <td>1</td>\n",
       "      <td>1/2</td>\n",
       "    </tr>\n",
       "    <tr>\n",
       "      <th>financing_available</th>\n",
       "      <td>4</td>\n",
       "      <td>7</td>\n",
       "      <td>5</td>\n",
       "      <td>8</td>\n",
       "      <td>6</td>\n",
       "      <td>6</td>\n",
       "      <td>2</td>\n",
       "      <td>1</td>\n",
       "    </tr>\n",
       "  </tbody>\n",
       "</table>\n",
       "</div>"
      ],
      "text/plain": [
       "                     size_of_house location_to_bus_line neighborhood  \\\n",
       "size_of_house                    1                    5            3   \n",
       "location_to_bus_line           1/5                    1          1/3   \n",
       "neighborhood                   1/3                    3            1   \n",
       "age_of_house                   1/7                  1/5          1/6   \n",
       "yard_space                     1/6                  1/3          1/3   \n",
       "modern_facilities              1/6                  1/3          1/4   \n",
       "general_condition                3                    5          1/6   \n",
       "financing_available              4                    7            5   \n",
       "\n",
       "                     age_of_house yard_space modern_facilities  \\\n",
       "size_of_house                   7          6                 6   \n",
       "location_to_bus_line            5          3                 3   \n",
       "neighborhood                    6          3                 4   \n",
       "age_of_house                    1        1/3               1/4   \n",
       "yard_space                      3          1               1/2   \n",
       "modern_facilities               4          2                 1   \n",
       "general_condition               7          5                 5   \n",
       "financing_available             8          6                 6   \n",
       "\n",
       "                     general_condition financing_available  \n",
       "size_of_house                      1/3                 1/4  \n",
       "location_to_bus_line               1/5                 1/7  \n",
       "neighborhood                         6                 1/5  \n",
       "age_of_house                       1/7                 1/8  \n",
       "yard_space                         1/5                 1/6  \n",
       "modern_facilities                  1/5                 1/6  \n",
       "general_condition                    1                 1/2  \n",
       "financing_available                  2                   1  "
      ]
     },
     "execution_count": 5,
     "metadata": {},
     "output_type": "execute_result"
    }
   ],
   "source": [
    "criteria_pairwise_vals=['5','3','7','6','6','1/3','1/4','1/3','5','3','3','1/5','1/7','6','3','4','6','1/5','1/3','1/4','1/7','1/8','1/2','1/5','1/6','1/5','1/6','1/2']\n",
    "criteria_global_pairwise_comparison_matrix=choosing_best_house.pairwise_comparison_matrix(criteria_pairwise_vals,alternatives_criteria='A')\n",
    "criteria_global_pairwise_comparison_matrix"
   ]
  },
  {
   "cell_type": "markdown",
   "id": "6dbbebc9-ed4f-4f93-b80d-d9e925c257fb",
   "metadata": {},
   "source": [
    "假设一个判断矩阵为：$\\begin{aligned} & \\begin{array}{llll} \\hspace{18pt} A & \\hspace{4pt} B &  \\hspace{1pt} C\\end{array} \\\\ & \\begin{array}{c}A\\\\ B \\\\ C\\end{array}\\left(\\begin{array}{cccc}1 & 2  & 1 \\\\ 1/2 &1&2 & \\\\1 & 1/2 &1\\end{array}\\right)  \\end{aligned}$，其中$A>B$，且$A=C$，但$B>C$产生了矛盾，因此提出对于一个正互反矩阵如果没有上述矛盾则称之为一致矩阵（consistent matrix），一致矩阵是正互反矩阵的特例。对于一致矩阵有$a_{ij}  \\times a_{jk} =a_{ik}(i,j,k=1, \\ldots ,n)$，且矩阵各行（各列）之间成倍数关系，例如对于上述假设矩阵$a_{AB}  \\times a_{BC}=a_{AC} $，即$2 \\times 2=4$。在构造判断矩阵时，难免会出现类似上述的矛盾，因此需要检验构造的判断矩阵和一致矩阵是否有太大差别，只要该矩阵向一致性矩阵靠拢，这个差距参数一致性比例（Consistency Ratio，CR）不高于10%，则可以接受这个权重估计。对于CR公式为：$CR= \\frac{CI}{RI} \\\\ CI= \\frac{  \\lambda  _{max} - n}{n-1} $，式中，$CI$为一致性指数（Consistency Index）；$RI$为平均随机一致性指标（Random Index），表示大量随机生成的同阶矩阵平均CI，视为RI的预期，因此CR是矩阵的一致性指标与预期的比率。当CR越大，判断矩阵越偏离一致矩阵；反之，值越小则越趋近于一致矩阵<sup>[Donegan, H. A. & Dodd, F. J. A NOTE ON SAATY’S RANDOM INDEXES. Mathl. Comput. Modelling vol. 15 (1991).]</sup>。对于$RI$可以查表获得，对于1至16阶矩阵，其$RI$对应值为$[0, 0, 0, 0.58, 0.9, 1.12, 1.24, 1.32, 1.41, 1.45, 1.49, 1.51, 1.48, 1.56, 1.57, 1.59]$，可以用于计算决策准则数最多为16个，应用AHP于MCDM问题。对于$\\lambda  _{max}$为矩阵最大特征值（principal eigenvalue ），$n$为矩阵的阶（order）。$n$阶一致矩阵，因为各行成比例且不是零矩阵，其秩$r(A)=1$，并当且仅当 $ \\lambda _{max}=n $ ，因此定义CI为$ ( \\lambda _{max}-n ) / ( n - 1)$，即判断矩阵越不一致时，最大特征值$\\lambda _{max}$与$n$的差距就越大。\n",
    "\n",
    "权重值的计算包括算术平均法求权重和几何平均法求权重，有`weight()`方法的`wd`参数判断。假设判断矩阵为$A=\\left[\\begin{array}{cccc}a_{11} & \\mathrm{a}_{12} & \\cdots & \\mathrm{a}_{1 \\mathrm{n}} \\\\ \\mathrm{a}_{21} & \\mathrm{a}_{22} & \\cdots & \\mathrm{a}_{2 \\mathrm{n}} \\\\ \\vdots & \\vdots & \\ddots & \\vdots \\\\ \\mathrm{a}_{\\mathrm{n} 1} & \\mathrm{a}_{\\mathrm{n} 2} & \\cdots & \\mathrm{a}_{\\mathrm{nn}}\\end{array}\\right]$，算术平均法求权重的公式为：$\\omega_{\\mathrm{i}}=\\frac{1}{\\mathrm{n}} \\sum_{\\mathrm{j}=1}^{\\mathrm{n}} \\frac{\\mathrm{a}_{\\mathrm{ij}}}{\\sum_{\\mathrm{k}=1}^{\\mathrm{n}} \\mathrm{a}_{\\mathrm{kj}}},(\\mathrm{i}=1,2, \\cdots, \\mathrm{n})$，即判断矩阵按列归一化（每个元素除以其所在列的和）后，按行求和，并除以矩阵的阶$n$；几何平均法求权重公式为：$\\omega_{\\mathrm{i}}=\\frac{\\left(\\prod_{\\mathrm{j}=1}^{\\mathrm{n}} \\mathrm{a}_{\\mathrm{ij}}\\right)^{\\frac{1}{\\mathrm{n}}}}{\\sum_{\\mathrm{k}=1}^{\\mathrm{n}}\\left(\\prod_{\\mathrm{j}=1}^{\\mathrm{n}} \\mathrm{a}_{\\mathrm{kj}}\\right)^{\\frac{1}{\\mathrm{n}}}},(\\mathrm{i}=1,2, \\cdots, \\mathrm{n})$，即将矩阵按行相乘得到一个新的列向量后开$n$次方，并进行归一化得到权重值。\n",
    "\n",
    "迁移`pyDecision`库中`ahp`方法为`USDA`库类`AHP`中的函数，直接调用该方法计算权重和CI值及CR值，返回值仅包含CR值。计算结果如下，CR值约为0.163，作者给出的结果为0.169，实际超出了0.1的阈值界限。"
   ]
  },
  {
   "cell_type": "code",
   "execution_count": 6,
   "id": "74810a7d-b7ca-4a17-9213-54bc0121db73",
   "metadata": {
    "tags": []
   },
   "outputs": [
    {
     "name": "stdout",
     "output_type": "stream",
     "text": [
      "[0.1743749238483884 0.06608449083968755 0.17015215186835408 0.01889929722237991 0.0352504763592837 0.04445701659354435 0.1784887930700104 0.3122928501983515] \n",
      " 0.16395000832304404\n"
     ]
    }
   ],
   "source": [
    "gp_weight,gp_cr=choosing_best_house.weight(criteria_global_pairwise_comparison_matrix)\n",
    "print(gp_weight,'\\n',gp_cr)"
   ]
  },
  {
   "cell_type": "markdown",
   "id": "14a8303a-b6c3-470e-999c-1dfb4dca70b5",
   "metadata": {},
   "source": [
    "同样的方法批量构建每一决策准则不同备选方案的判断矩阵，并计算权重值和CI值。"
   ]
  },
  {
   "cell_type": "code",
   "execution_count": 143,
   "id": "a1f4107f-b1b2-448c-90bf-13563b2b3279",
   "metadata": {
    "tags": []
   },
   "outputs": [
    {
     "data": {
      "text/plain": [
       "[('A', 'B'), ('A', 'C'), ('B', 'C')]"
      ]
     },
     "execution_count": 143,
     "metadata": {},
     "output_type": "execute_result"
    }
   ],
   "source": [
    "choosing_best_house.alternative_pairs_lst"
   ]
  },
  {
   "cell_type": "code",
   "execution_count": 137,
   "id": "1fb7f9ee-45e6-4514-b2c0-daefbdfa8b99",
   "metadata": {
    "tags": []
   },
   "outputs": [
    {
     "data": {
      "text/plain": [
       "{'size_of_house':      A    B  C\n",
       " A    1    6  8\n",
       " B  1/6    1  4\n",
       " C  1/8  1/4  1,\n",
       " 'location_to_bus_line':      A  B    C\n",
       " A    1  7  1/5\n",
       " B  1/7  1  1/8\n",
       " C    5  8    1,\n",
       " 'neighborhood':      A  B    C\n",
       " A    1  8    6\n",
       " B  1/8  1  1/4\n",
       " C  1/6  4    1,\n",
       " 'age_of_house':    A  B  C\n",
       " A  1  1  1\n",
       " B  1  1  1\n",
       " C  1  1  1,\n",
       " 'yard_space':      A  B    C\n",
       " A    1  5    4\n",
       " B  1/5  1  1/3\n",
       " C  1/4  3    1,\n",
       " 'modern_facilities':      A  B    C\n",
       " A    1  8    6\n",
       " B  1/8  1  1/5\n",
       " C  1/6  5    1,\n",
       " 'general_condition':    A    B    C\n",
       " A  1  1/2  1/2\n",
       " B  2    1    1\n",
       " C  2    1    1,\n",
       " 'financing_available':    A    B    C\n",
       " A  1  1/7  1/5\n",
       " B  7    1    3\n",
       " C  5  1/3    1}"
      ]
     },
     "execution_count": 137,
     "metadata": {},
     "output_type": "execute_result"
    }
   ],
   "source": [
    "local_pairwise_vals_dict=dict(size_of_house=['6','8','4'], \n",
    "                              location_to_bus_line=['7','1/5','1/8'], \n",
    "                              neighborhood=['8','6','1/4'],\t\n",
    "                              age_of_house=['1','1','1'],\t\n",
    "                              yard_space=['5','4','1/3'],\t\n",
    "                              modern_facilities=['8','6','1/5'],\t\n",
    "                              general_condition=['1/2','1/2','1'],\t\n",
    "                              financing_available=['1/7','1/5','3'])\n",
    "local_pairwise_matrix_dict={}\n",
    "for k,v in local_pairwise_vals_dict.items():\n",
    "    local_pairwise_matrix_dict[k]=choosing_best_house.pairwise_comparison_matrix(v,alternatives_criteria='C')\n",
    "local_pairwise_matrix_dict"
   ]
  },
  {
   "cell_type": "code",
   "execution_count": 138,
   "id": "5b2d2598-416f-4835-b774-7279f6125881",
   "metadata": {
    "tags": []
   },
   "outputs": [
    {
     "data": {
      "text/plain": [
       "{'size_of_house': {'weight': array([0.7390547902227547, 0.19155186674652747, 0.06939334303071788], dtype=object),\n",
       "  'rc': 0.12062025335167682},\n",
       " 'location_to_bus_line': {'weight': array([0.25041136463361124, 0.06003181219833261, 0.6895568231680563], dtype=object),\n",
       "  'rc': 0.2220676402473212},\n",
       " 'neighborhood': {'weight': array([0.7390547902227547, 0.06939334303071788, 0.19155186674652747], dtype=object),\n",
       "  'rc': 0.12062025335167682},\n",
       " 'age_of_house': {'weight': array([0.3333333333333333, 0.3333333333333333, 0.3333333333333333], dtype=object),\n",
       "  'rc': 0.0},\n",
       " 'yard_space': {'weight': array([0.6650702426564495, 0.10384738186462324, 0.2310823754789272], dtype=object),\n",
       "  'rc': 0.07495638655172662},\n",
       " 'modern_facilities': {'weight': array([0.7263184843830004, 0.0653268475849121, 0.20835466803208738], dtype=object),\n",
       "  'rc': 0.17731739051985576},\n",
       " 'general_condition': {'weight': array([0.20000000000000004, 0.4000000000000001, 0.4000000000000001], dtype=object),\n",
       "  'rc': 0.0},\n",
       " 'financing_available': {'weight': array([0.07377210603017055, 0.6433888691953209, 0.2828390247745087], dtype=object),\n",
       "  'rc': 0.056475713035283204}}"
      ]
     },
     "execution_count": 138,
     "metadata": {},
     "output_type": "execute_result"
    }
   ],
   "source": [
    "local_weight_rc_dict={}\n",
    "for k,v in local_pairwise_matrix_dict.items():\n",
    "    local_weight_rc_dict[k]={k:v for k,v in zip(['weight','rc'],choosing_best_house.weight(v))}\n",
    "    \n",
    "local_weight_rc_dict    "
   ]
  },
  {
   "cell_type": "markdown",
   "id": "a04f9e7e-07e9-446c-8e7c-962a64187f37",
   "metadata": {},
   "source": [
    "最后建立`weight_matrix()`方法汇总决策准则之间和各准则对备选方案之间的权重值，并计算最后基于决策准则的备选方案得分`global_priority`。从计算结果得知，备选方案A得分最高，为购房选择问题的最优答案。"
   ]
  },
  {
   "cell_type": "code",
   "execution_count": 139,
   "id": "0de91231-1e13-4aee-bf5c-e40acd0db076",
   "metadata": {
    "tags": []
   },
   "outputs": [
    {
     "data": {
      "text/html": [
       "<div>\n",
       "<style scoped>\n",
       "    .dataframe tbody tr th:only-of-type {\n",
       "        vertical-align: middle;\n",
       "    }\n",
       "\n",
       "    .dataframe tbody tr th {\n",
       "        vertical-align: top;\n",
       "    }\n",
       "\n",
       "    .dataframe thead th {\n",
       "        text-align: right;\n",
       "    }\n",
       "</style>\n",
       "<table border=\"1\" class=\"dataframe\">\n",
       "  <thead>\n",
       "    <tr style=\"text-align: right;\">\n",
       "      <th></th>\n",
       "      <th>size_of_house</th>\n",
       "      <th>location_to_bus_line</th>\n",
       "      <th>neighborhood</th>\n",
       "      <th>age_of_house</th>\n",
       "      <th>yard_space</th>\n",
       "      <th>modern_facilities</th>\n",
       "      <th>general_condition</th>\n",
       "      <th>financing_available</th>\n",
       "      <th>global_priority</th>\n",
       "    </tr>\n",
       "  </thead>\n",
       "  <tbody>\n",
       "    <tr>\n",
       "      <th>Wj</th>\n",
       "      <td>0.174375</td>\n",
       "      <td>0.066084</td>\n",
       "      <td>0.170152</td>\n",
       "      <td>0.018899</td>\n",
       "      <td>0.03525</td>\n",
       "      <td>0.044457</td>\n",
       "      <td>0.178489</td>\n",
       "      <td>0.312293</td>\n",
       "      <td>NaN</td>\n",
       "    </tr>\n",
       "    <tr>\n",
       "      <th>A</th>\n",
       "      <td>0.739055</td>\n",
       "      <td>0.250411</td>\n",
       "      <td>0.739055</td>\n",
       "      <td>0.333333</td>\n",
       "      <td>0.66507</td>\n",
       "      <td>0.726318</td>\n",
       "      <td>0.2</td>\n",
       "      <td>0.073772</td>\n",
       "      <td>0.391943</td>\n",
       "    </tr>\n",
       "    <tr>\n",
       "      <th>B</th>\n",
       "      <td>0.191552</td>\n",
       "      <td>0.060032</td>\n",
       "      <td>0.069393</td>\n",
       "      <td>0.333333</td>\n",
       "      <td>0.103847</td>\n",
       "      <td>0.065327</td>\n",
       "      <td>0.4</td>\n",
       "      <td>0.643389</td>\n",
       "      <td>0.334362</td>\n",
       "    </tr>\n",
       "    <tr>\n",
       "      <th>C</th>\n",
       "      <td>0.069393</td>\n",
       "      <td>0.689557</td>\n",
       "      <td>0.191552</td>\n",
       "      <td>0.333333</td>\n",
       "      <td>0.231082</td>\n",
       "      <td>0.208355</td>\n",
       "      <td>0.4</td>\n",
       "      <td>0.282839</td>\n",
       "      <td>0.273695</td>\n",
       "    </tr>\n",
       "  </tbody>\n",
       "</table>\n",
       "</div>"
      ],
      "text/plain": [
       "   size_of_house location_to_bus_line neighborhood age_of_house yard_space  \\\n",
       "Wj      0.174375             0.066084     0.170152     0.018899    0.03525   \n",
       "A       0.739055             0.250411     0.739055     0.333333    0.66507   \n",
       "B       0.191552             0.060032     0.069393     0.333333   0.103847   \n",
       "C       0.069393             0.689557     0.191552     0.333333   0.231082   \n",
       "\n",
       "   modern_facilities general_condition financing_available global_priority  \n",
       "Wj          0.044457          0.178489            0.312293             NaN  \n",
       "A           0.726318               0.2            0.073772        0.391943  \n",
       "B           0.065327               0.4            0.643389        0.334362  \n",
       "C           0.208355               0.4            0.282839        0.273695  "
      ]
     },
     "execution_count": 139,
     "metadata": {},
     "output_type": "execute_result"
    }
   ],
   "source": [
    "weight_A=choosing_best_house.weight_matrix(gp_weight,local_weight_rc_dict)\n",
    "weight_A"
   ]
  },
  {
   "cell_type": "markdown",
   "id": "3b71265a-9534-4d94-b69a-09d0fe015527",
   "metadata": {},
   "source": [
    "### 3.1.2.2   再现 F-AHP 算法\n",
    "\n",
    "再现Ayhan, M. B.在论文中给出的案例（最佳供应商选择问题），阐释F-AHP算法。为了方便应用 F-AHP 算法，定义`F_AHP`类可以方便构建判断矩阵，计算权重矩阵和一致性指数，及总的得分。\n",
    "\n",
    "对于这个最佳供应商选择问题，包括5个决策准则，由变量criteria给出；3个备选方案，由变量alternatives给出。F-AHP 方法与 AHP 最大的差异是判断矩阵的构建使用的是三角模糊数（triangular fuzzy number，TFN）。对 TFN 的理解可以从对论域、模糊集、隶属函数等概念的理解引入。论域是论题所包括同类事物的非空总和，是将讨论的对象限制在一定范围内，用$U$表示。模糊集合是用来表达模糊性概念的集合，又称为模糊集（或模糊子集）。对于普通集合$A$，元素$x$ 要么属于集合$A$，要么不属于，表达为：$ \\mu _{A}(X)= \\begin{cases}1 & x  \\in  A\\\\0 & x  \\notin A\\end{cases} $；对于模糊集合$ \\widetilde{A} $，在论域$U$内，对任意$x \\in U$，$x$常以某个程度，例如$\\mu ( \\mu  \\in [0,1])$属于$ \\widetilde{A} $，而非$x \\in  \\widetilde{A} $或$x \\notin  \\widetilde{A} $。全体模糊集用$F(U)$表示。设论域$U$，如果存在$ \\mu _{A} (x):U \\rightarrow [0,1]$，则称$ \\mu _{A} (x)$为$x(x \\in A)$的隶属度，从而一般称$ \\mu _{A} (x)$为$ \\widetilde{A} $的隶属函数。论域$U$中元素$x$与$ \\widetilde{A} $的关系由隶属度$ \\mu _{A} (x)$给出，不是简单的二值，属于或不属于的关系，而是多大程度上属于；$U$上所有模糊子集的集合称为模糊幂集，记作$F(U)$。例如对于空气质量指数（Air quality index，AQI），如果值小于50被认为健康，而高于150则为不健康，在好与不好之间包括有一个断点值为100划分为2个分段，如果位于50和100则为适中，位于100和150为对敏感人群不健康，AQI的隶属函数为：$u_A(x)= \\begin{cases}0, & x<50 \\\\ 2\\left(\\frac{x-50}{100}\\right)^2, & 50 \\leq x<100\\\\ 1-2\\left(\\frac{x-150}{100}\\right)^2, & 100 \\leq x<150\\\\ 1, & 150 \\leq x\\end{cases}$，取AQI值分别为60、100和125，则$ \\mu _{A} (x)$分别等于0.02、0.5和0.875，表明对于AQI值为60、100和125分别以0.02、0.5和0.875程度属于不健康空气。该例中的论域$U$是AQI，$A$是不健康空气对应的模糊集。\n",
    "\n",
    "对于任意一个模糊集，都对应一个隶属函数，确定隶属函数通常参考概率论中的分布函数，称为模糊分布函数，例如正态分布、梯形分布、K次抛物线分布、柯西（Cauchy）分布和S型函数（sigmoid function）分布等。这些函数论域为实数，带有参数，值域为[0,1]。在AHP中，两两比较判断矩阵通常没有考虑人的判断模糊性，仅为隶属于给定的标度，因此引入模糊数，使用TFN形式的三值判断（三角模糊数），最低可能值（smallest possible value，记作$l$）、最可能值（most promising value，记作$m$）和最高可能值（largest possible value ，记作$u$）。当$l=m=u$时，为一个非模糊数。每个 TFN 在其左侧和右侧都有线性表示，因此其隶属函数可以定义为<sup>[Kahraman, C., Cebeci, U. & Ruan, D. Multi-attribute comparison of catering service companies using fuzzy AHP: The case of Turkey. Int J Prod Econ 87, 171–184 (2004).]</sup>：$ \\mu (x \\mid \\tilde{M})= \\begin{cases}0, & x<l, \\\\ (x-l) /(m-l), & l \\leqslant x \\leqslant m \\\\ (u-x) /(u-m), & m \\leqslant x \\leqslant u \\\\ 0, & x>u .\\end{cases}$，一个模糊数总是可以由其对应的每个隶属度的左右表示给出：$\\begin{aligned} \\tilde{M} & =\\left(M^{l(y)}, M^{r(y)}\\right) \\\\ & =(l+(m-l) y, u+(m-u) y), \\quad y \\in[0,1]\\end{aligned}$，式中，$l(y)$和$r(y)$分别表示模糊数的左侧表示和右侧表示。对于TFN的模糊集$\\tilde{M} $，如图<sup>[]</sup>表示：\n",
    "\n",
    "<img src=\"../imgs/3_1/3_1_03.png\" height='auto' width=500 title=\"caDesign\">\n",
    "\n",
    "从上图可知，当$x=m$时，$x$完全属于$\\tilde{M} $，$l$和$u$分别为下界和上界。在$l$和$u$以外的完全不属于模糊数$\\tilde{M} $。\n",
    "\n",
    "判断矩阵中为了考虑人的模糊性，使用TFN，作者同样给出了度量标度，如表：\n",
    "\n",
    "| Saaty scale（标度）  | Definition （定义） | Fuzzy Triangular Scale  （TFN） |\n",
    "|---|---|---|\n",
    "| 1  |   Equally important (Eq. Imp.) （同等重要） | (1, 1, 1)   |\n",
    "| 3  | Weakly important (W. Imp.)  （稍微重要） | (2, 3, 4)   |\n",
    "| 5  |  Fairly important (F. Imp.) （重要）  |   (4, 5, 6)  |\n",
    "| 7  | Strongly important (S. Imp.) （明显重要）  |   (6, 7, 8)  |\n",
    "| 9  | Absolutely important (A. Imp.)  （非常重要） |  (9, 9, 9)  |\n",
    "| 2  | The intermittent values between two adjacent scales  （中间重要性） | (1, 2, 3)   |\n",
    "| 4  | \"  | (3, 4, 5)   |\n",
    "| 5  | \"  | (5, 6, 7)   |\n",
    "| 6  |  \" |  (7, 8, 9)  |\n",
    "\n",
    "第1步，定义决策准则之间的判断矩阵。基于TFN的判断矩阵可以表达为：$\\widetilde{A}^k=\\left[\\begin{array}{cccc}\\widetilde{d}_{11}^k & \\tilde{d}_{12}^k & \\ldots & \\widetilde{d}_{1 n}^k \\\\ \\widetilde{d}_{21}^k & \\ldots & \\ldots & \\widetilde{d}_{2 n}^k \\\\ \\ldots & \\ldots &  \\ddots  & \\ldots \\\\ \\widetilde{d}_{n 1}^k & \\tilde{d}_{n 2}^k & \\ldots & \\tilde{d}_{n n}^k\\end{array}\\right]$，式中，$\\widetilde{ d^{k}_{ij} } $表示为第$k^{th} $决策者对第$i^{th} $对$j^{th} $决策准则的判断，并对各个决策者的判断取均值，为：$\\tilde{d}_{i j}=\\frac{\\sum_{k=1}^K \\widetilde{d}_{i j}^k}{K}$，得$\\tilde{A}=\\left[\\begin{array}{ccc}\\widetilde{d_{11}} & \\cdots & \\widetilde{d_{1 n}} \\\\ \\vdots & \\ddots & \\vdots \\\\ \\widetilde{d_{n 1}} & \\cdots & \\widetilde{d_{n n}}\\end{array}\\right]$。\n",
    "\n",
    "定义`pairwise_comparison_TFN_matrix()`方法实现基于TFN判断矩阵的构建。"
   ]
  },
  {
   "cell_type": "code",
   "execution_count": 90,
   "id": "d61edac1-9db4-4f40-8b4e-d0386cf2d7ac",
   "metadata": {},
   "outputs": [],
   "source": [
    "criteria=['quality','origin','cost','delivery','after_sales']\n",
    "alternatives=['A1','A2','A3']      \n",
    "\n",
    "best_supplier=usda_weight.F_AHP(criteria,alternatives)"
   ]
  },
  {
   "cell_type": "code",
   "execution_count": 91,
   "id": "db58a97a-92ec-457d-bff0-bc0034e77443",
   "metadata": {},
   "outputs": [
    {
     "data": {
      "text/plain": [
       "[('quality', 'origin'),\n",
       " ('quality', 'cost'),\n",
       " ('quality', 'delivery'),\n",
       " ('quality', 'after_sales'),\n",
       " ('origin', 'cost'),\n",
       " ('origin', 'delivery'),\n",
       " ('origin', 'after_sales'),\n",
       " ('cost', 'delivery'),\n",
       " ('cost', 'after_sales'),\n",
       " ('delivery', 'after_sales')]"
      ]
     },
     "execution_count": 91,
     "metadata": {},
     "output_type": "execute_result"
    }
   ],
   "source": [
    "best_supplier.criteria_pairs_lst"
   ]
  },
  {
   "cell_type": "code",
   "execution_count": 92,
   "id": "3b723d89-e391-4f19-9569-e6b924bce956",
   "metadata": {},
   "outputs": [
    {
     "data": {
      "text/html": [
       "<div>\n",
       "<style scoped>\n",
       "    .dataframe tbody tr th:only-of-type {\n",
       "        vertical-align: middle;\n",
       "    }\n",
       "\n",
       "    .dataframe tbody tr th {\n",
       "        vertical-align: top;\n",
       "    }\n",
       "\n",
       "    .dataframe thead th {\n",
       "        text-align: right;\n",
       "    }\n",
       "</style>\n",
       "<table border=\"1\" class=\"dataframe\">\n",
       "  <thead>\n",
       "    <tr style=\"text-align: right;\">\n",
       "      <th></th>\n",
       "      <th>quality</th>\n",
       "      <th>origin</th>\n",
       "      <th>cost</th>\n",
       "      <th>delivery</th>\n",
       "      <th>after_sales</th>\n",
       "    </tr>\n",
       "  </thead>\n",
       "  <tbody>\n",
       "    <tr>\n",
       "      <th>quality</th>\n",
       "      <td>(1, 1, 1)</td>\n",
       "      <td>(1, 1, 1)</td>\n",
       "      <td>(4, 5, 6)</td>\n",
       "      <td>(6, 7, 8)</td>\n",
       "      <td>(4, 5, 6)</td>\n",
       "    </tr>\n",
       "    <tr>\n",
       "      <th>origin</th>\n",
       "      <td>(1, 1, 1)</td>\n",
       "      <td>(1, 1, 1)</td>\n",
       "      <td>(4, 5, 6)</td>\n",
       "      <td>(6, 7, 8)</td>\n",
       "      <td>(6, 7, 8)</td>\n",
       "    </tr>\n",
       "    <tr>\n",
       "      <th>cost</th>\n",
       "      <td>(1/6, 1/5, 1/4)</td>\n",
       "      <td>(1/6, 1/5, 1/4)</td>\n",
       "      <td>(1, 1, 1)</td>\n",
       "      <td>(1/4, 1/3, 1/2)</td>\n",
       "      <td>(2, 3, 4)</td>\n",
       "    </tr>\n",
       "    <tr>\n",
       "      <th>delivery</th>\n",
       "      <td>(1/8, 1/7, 1/6)</td>\n",
       "      <td>(1/8, 1/7, 1/6)</td>\n",
       "      <td>(2, 3, 4)</td>\n",
       "      <td>(1, 1, 1)</td>\n",
       "      <td>(1/6, 1/5, 1/4)</td>\n",
       "    </tr>\n",
       "    <tr>\n",
       "      <th>after_sales</th>\n",
       "      <td>(1/6, 1/5, 1/4)</td>\n",
       "      <td>(1/8, 1/7, 1/6)</td>\n",
       "      <td>(1/4, 1/3, 1/2)</td>\n",
       "      <td>(4, 5, 6)</td>\n",
       "      <td>(1, 1, 1)</td>\n",
       "    </tr>\n",
       "  </tbody>\n",
       "</table>\n",
       "</div>"
      ],
      "text/plain": [
       "                     quality           origin             cost  \\\n",
       "quality            (1, 1, 1)        (1, 1, 1)        (4, 5, 6)   \n",
       "origin             (1, 1, 1)        (1, 1, 1)        (4, 5, 6)   \n",
       "cost         (1/6, 1/5, 1/4)  (1/6, 1/5, 1/4)        (1, 1, 1)   \n",
       "delivery     (1/8, 1/7, 1/6)  (1/8, 1/7, 1/6)        (2, 3, 4)   \n",
       "after_sales  (1/6, 1/5, 1/4)  (1/8, 1/7, 1/6)  (1/4, 1/3, 1/2)   \n",
       "\n",
       "                    delivery      after_sales  \n",
       "quality            (6, 7, 8)        (4, 5, 6)  \n",
       "origin             (6, 7, 8)        (6, 7, 8)  \n",
       "cost         (1/4, 1/3, 1/2)        (2, 3, 4)  \n",
       "delivery           (1, 1, 1)  (1/6, 1/5, 1/4)  \n",
       "after_sales        (4, 5, 6)        (1, 1, 1)  "
      ]
     },
     "execution_count": 92,
     "metadata": {},
     "output_type": "execute_result"
    }
   ],
   "source": [
    "criteria_pairwise_TFN=[('1','1','1'),('4','5','6'),('6','7','8'),('4','5','6'),('4','5','6'),('6','7','8'),('6','7','8'),('1/4','1/3','1/2'),('2','3','4'),('1/6','1/5','1/4')]\n",
    "criteria_pairwise_comparison_TFN_matrix=best_supplier.pairwise_comparison_TFN_matrix(criteria_pairwise_TFN,alternatives_criteria='C')\n",
    "criteria_pairwise_comparison_TFN_matrix"
   ]
  },
  {
   "cell_type": "markdown",
   "id": "ee8f4df8-37d1-40ec-8906-c5a7aa786a64",
   "metadata": {},
   "source": [
    "第2步，计算决策准则之间的权重和一致性比例CR值。采用几何平均法求权重，首先计算每个决策准则模糊判断矩阵的几何平均值，公式为：$\\widetilde{r}_i=\\left(\\prod_{j=1}^n \\widetilde{d}_{i j}\\right)^{1 / n}, \\quad i=1,2, \\ldots, n$；进而计算每个$\\widetilde{r}_i$的向量和及其-1次幂，并递增排序（reverse）（TFN形式）；计算第$i$个决策准则的模糊权重$ \\widetilde{ W_{i} } $，为各$\\widetilde{ r_{i} } $之积，公式为：$\\begin{aligned} \\widetilde{w}_i & =\\widetilde{r}_i \\otimes\\left(\\widetilde{r}_1 \\oplus \\widetilde{r}_2 \\oplus \\ldots \\oplus \\widetilde{r}_n\\right)^{-1} \\\\ & =\\left(l w_i, m w_i, u w_i\\right)\\end{aligned}$；将模糊数转换为常规数值，使用Chou 和 Chang 提出的面积中心法去模糊化<sup>[Chou, S. W. & Chang, Y. C. The implementation factors that influence the ERP (enterprise resource planning) benefits. Decis Support Syst 46, 149–157 (2008).]</sup>，公式为：$M_i=\\frac{l w_i+m w_i+u w_i}{3}$；最后标准化权重，公式为：$N_i=\\frac{M_i}{\\sum_{i=1}^n M_i}$。\n",
    "\n",
    "对于F-AHP算法直接迁移`pyDecision`库中`fuzzy_ahp_method`方法为`USDA`库类`F_AHP中`的函数进行计算。"
   ]
  },
  {
   "cell_type": "code",
   "execution_count": 93,
   "id": "e748bfbc-4726-40bf-838f-e8b7d5adeb6a",
   "metadata": {},
   "outputs": [
    {
     "name": "stdout",
     "output_type": "stream",
     "text": [
      "[(0.30387157227617195, 0.3849442719555282, 0.4827648944504069), (0.3295401422029697, 0.41174038735956564, 0.5113560858232844), (0.051852455454028286, 0.07197841021214509, 0.10262169573734545), (0.04261628425875972, 0.05680430962243532, 0.07596205129037176), (0.05623252420717982, 0.07453262085032564, 0.10262169573734545)] \n",
      " [0.3905269128940357, 0.4175455384619399, 0.07548418713450628, 0.0584608817238556, 0.07779561359828364] \n",
      " [0.3829396778153188, 0.40943338011437996, 0.07401766522882969, 0.057325092005137, 0.07628418483633463] \n",
      " 0.25672257239611473\n"
     ]
    }
   ],
   "source": [
    "fuzzy_weights, defuzzified_weights, normalized_weights, cr=best_supplier.weight(criteria_pairwise_comparison_TFN_matrix)\n",
    "print(f_w,'\\n', d_w,'\\n', n_w,'\\n' ,cr)"
   ]
  },
  {
   "cell_type": "markdown",
   "id": "3b679039-8c40-4fc1-a36b-c183dd448d38",
   "metadata": {},
   "source": [
    "第3步，同样的方式计算每一决策准则不同备选方案的模糊判断矩阵，并计算权重值和CI值。因为作者仅给出了`quality`决策准则模糊矩阵，其它准则不同于该文实验参数，因此算法再现结果不同于原文实验。"
   ]
  },
  {
   "cell_type": "code",
   "execution_count": 94,
   "id": "66803b11-2f14-4007-a581-26cc7ed7b89d",
   "metadata": {},
   "outputs": [
    {
     "data": {
      "text/plain": [
       "[('A1', 'A2'), ('A1', 'A3'), ('A2', 'A3')]"
      ]
     },
     "execution_count": 94,
     "metadata": {},
     "output_type": "execute_result"
    }
   ],
   "source": [
    "best_supplier.alternative_pairs_lst"
   ]
  },
  {
   "cell_type": "code",
   "execution_count": 95,
   "id": "4bd991f5-3903-423c-bcad-81d6371b9bf2",
   "metadata": {},
   "outputs": [
    {
     "data": {
      "text/plain": [
       "{'quality':            A1               A2               A3\n",
       " A1  (1, 1, 1)  (1/6, 1/5, 1/4)  (1/9, 1/9, 1/9)\n",
       " A2  (4, 5, 6)        (1, 1, 1)  (1/4, 1/3, 1/2)\n",
       " A3  (9, 9, 9)        (2, 3, 4)        (1, 1, 1),\n",
       " 'origin':                  A1               A2         A3\n",
       " A1        (1, 1, 1)        (2, 3, 4)  (6, 7, 8)\n",
       " A2  (1/4, 1/3, 1/2)        (1, 1, 1)  (4, 5, 6)\n",
       " A3  (1/8, 1/7, 1/6)  (1/6, 1/5, 1/4)  (1, 1, 1),\n",
       " 'cost':                  A1         A2               A3\n",
       " A1        (1, 1, 1)  (4, 5, 6)  (1/6, 1/5, 1/4)\n",
       " A2  (1/6, 1/5, 1/4)  (1, 1, 1)  (1/4, 1/3, 1/2)\n",
       " A3        (4, 5, 6)  (2, 3, 4)        (1, 1, 1),\n",
       " 'delivery':                  A1         A2               A3\n",
       " A1        (1, 1, 1)  (9, 9, 9)        (6, 7, 8)\n",
       " A2  (1/9, 1/9, 1/9)  (1, 1, 1)  (1/8, 1/7, 1/7)\n",
       " A3  (1/8, 1/7, 1/6)  (7, 7, 8)        (1, 1, 1),\n",
       " 'after_sales':            A1               A2               A3\n",
       " A1  (1, 1, 1)  (1/8, 1/7, 1/6)  (1/4, 1/3, 1/2)\n",
       " A2  (6, 7, 8)        (1, 1, 1)        (2, 3, 4)\n",
       " A3  (2, 3, 4)  (1/4, 1/3, 1/2)        (1, 1, 1)}"
      ]
     },
     "execution_count": 95,
     "metadata": {},
     "output_type": "execute_result"
    }
   ],
   "source": [
    "alternatives_vals_dict=dict(quality=[('1/6','1/5','1/4'),('1/9','1/9','1/9'),('1/4','1/3','1/2')],\n",
    "                            origin=[('2','3','4'),('6','7','8'),('4','5','6')],\n",
    "                            cost=[('4','5','6'),('1/6','1/5','1/4'),('1/4','1/3','1/2')],\n",
    "                            delivery=[('9','9','9'),('6','7','8'),('1/8','1/7','1/7')],\n",
    "                            after_sales=[('1/8','1/7','1/6'),('1/4','1/3','1/2'),('2','3','4')])\n",
    "alternatives_matrix_dict={}\n",
    "for k,v in alternatives_vals_dict.items():\n",
    "    alternatives_matrix_dict[k]=best_supplier.pairwise_comparison_TFN_matrix(v,alternatives_criteria='A')\n",
    "alternatives_matrix_dict"
   ]
  },
  {
   "cell_type": "code",
   "execution_count": 96,
   "id": "0d6da290-3fd8-4de5-9969-4f1285301df2",
   "metadata": {},
   "outputs": [
    {
     "data": {
      "text/plain": [
       "{'quality': {'fuzzy_weights': [(0.052420300418135744,\n",
       "    0.06294120510225566,\n",
       "    0.07794836695752445),\n",
       "   (0.1981363198158667, 0.2654333418834977, 0.3712059591227326),\n",
       "   (0.5192640550376543, 0.6716254530142467, 0.8498494966569238)],\n",
       "  'defuzzified_weights': [0.06443662415930529,\n",
       "   0.27825854027403235,\n",
       "   0.6802463349029416],\n",
       "  'normalized_weights': [0.06299150459837054,\n",
       "   0.2720180386215403,\n",
       "   0.6649904567800892],\n",
       "  'cr': 0.038802175909399925},\n",
       " 'origin': {'fuzzy_weights': [(0.46123125532773124,\n",
       "    0.6491180046313251,\n",
       "    0.8906502333108046),\n",
       "   (0.20146130719005298, 0.27895456548641834, 0.4046047199899532),\n",
       "   (0.05543421498406391, 0.07192742988225646, 0.09725683059164322)],\n",
       "  'defuzzified_weights': [0.6669998310899535,\n",
       "   0.2950068642221415,\n",
       "   0.07487282515265453],\n",
       "  'normalized_weights': [0.643276116391026,\n",
       "   0.28451411991425357,\n",
       "   0.07220976369472036],\n",
       "  'cr': 0.07101595764337375},\n",
       " 'cost': {'fuzzy_weights': [(0.19287686201378226,\n",
       "    0.258284994374495,\n",
       "    0.355472493169515),\n",
       "   (0.07654323341525081, 0.10472943388074786, 0.15526691289199787),\n",
       "   (0.44157778201234055, 0.636985571744757, 0.8957345536057669)],\n",
       "  'defuzzified_weights': [0.2688781165192641,\n",
       "   0.11217986006266552,\n",
       "   0.6580993024542882],\n",
       "  'normalized_weights': [0.25874631486837024,\n",
       "   0.10795272508383758,\n",
       "   0.6333009600477921],\n",
       "  'cr': 0.4768968318277456},\n",
       " 'delivery': {'fuzzy_weights': [(0.6857178581616268,\n",
       "    0.7607597376820608,\n",
       "    0.8359451389785031),\n",
       "   (0.04360838881170998, 0.04804930980478052, 0.050499463168466624),\n",
       "   (0.17352027382598298, 0.19119095251315868, 0.22116336550036308)],\n",
       "  'defuzzified_weights': [0.7608075782740635,\n",
       "   0.04738572059498571,\n",
       "   0.19529153061316826],\n",
       "  'normalized_weights': [0.7581655007845295,\n",
       "   0.0472211628943469,\n",
       "   0.1946133363211237],\n",
       "  'cr': 0.2922872691708499},\n",
       " 'after_sales': {'fuzzy_weights': [(0.0646575791757096,\n",
       "    0.08794620881905604,\n",
       "    0.1285391955362206),\n",
       "   (0.4699624744114258, 0.6694168694489877, 0.9342848767797738),\n",
       "   (0.1629268900774419, 0.24263692173195622, 0.3707711990595482)],\n",
       "  'defuzzified_weights': [0.09371432784366207,\n",
       "   0.6912214068800623,\n",
       "   0.25877833695631547],\n",
       "  'normalized_weights': [0.08978927312229538,\n",
       "   0.6622708514099278,\n",
       "   0.24793987546777696],\n",
       "  'cr': 0.030424894517038763}}"
      ]
     },
     "execution_count": 96,
     "metadata": {},
     "output_type": "execute_result"
    }
   ],
   "source": [
    "alternatives_weight_cr_dict={}\n",
    "for k,v in alternatives_matrix_dict.items():\n",
    "    alternatives_weight_cr_dict[k]={k:v for k,v in zip(['fuzzy_weights', 'defuzzified_weights', 'normalized_weights', 'cr'],best_supplier.weight(v))}\n",
    "    \n",
    "alternatives_weight_cr_dict"
   ]
  },
  {
   "cell_type": "markdown",
   "id": "886a5b56-ccb4-4c8f-bda0-d6e18c470314",
   "metadata": {},
   "source": [
    "第4步，计算最后基于决策准则的备选方案得分。"
   ]
  },
  {
   "cell_type": "code",
   "execution_count": 97,
   "id": "77d93805-a1bd-4d4c-bdc2-c7d45ed368d9",
   "metadata": {},
   "outputs": [
    {
     "data": {
      "text/html": [
       "<div>\n",
       "<style scoped>\n",
       "    .dataframe tbody tr th:only-of-type {\n",
       "        vertical-align: middle;\n",
       "    }\n",
       "\n",
       "    .dataframe tbody tr th {\n",
       "        vertical-align: top;\n",
       "    }\n",
       "\n",
       "    .dataframe thead th {\n",
       "        text-align: right;\n",
       "    }\n",
       "</style>\n",
       "<table border=\"1\" class=\"dataframe\">\n",
       "  <thead>\n",
       "    <tr style=\"text-align: right;\">\n",
       "      <th></th>\n",
       "      <th>quality</th>\n",
       "      <th>origin</th>\n",
       "      <th>cost</th>\n",
       "      <th>delivery</th>\n",
       "      <th>after_sales</th>\n",
       "      <th>global_priority</th>\n",
       "    </tr>\n",
       "  </thead>\n",
       "  <tbody>\n",
       "    <tr>\n",
       "      <th>Wj</th>\n",
       "      <td>0.382940</td>\n",
       "      <td>0.409433</td>\n",
       "      <td>0.074018</td>\n",
       "      <td>0.057325</td>\n",
       "      <td>0.076284</td>\n",
       "      <td>NaN</td>\n",
       "    </tr>\n",
       "    <tr>\n",
       "      <th>A1</th>\n",
       "      <td>0.062992</td>\n",
       "      <td>0.643276</td>\n",
       "      <td>0.258746</td>\n",
       "      <td>0.758166</td>\n",
       "      <td>0.089789</td>\n",
       "      <td>0.356964</td>\n",
       "    </tr>\n",
       "    <tr>\n",
       "      <th>A2</th>\n",
       "      <td>0.272018</td>\n",
       "      <td>0.284514</td>\n",
       "      <td>0.107953</td>\n",
       "      <td>0.047221</td>\n",
       "      <td>0.662271</td>\n",
       "      <td>0.281874</td>\n",
       "    </tr>\n",
       "    <tr>\n",
       "      <th>A3</th>\n",
       "      <td>0.664990</td>\n",
       "      <td>0.072210</td>\n",
       "      <td>0.633301</td>\n",
       "      <td>0.194613</td>\n",
       "      <td>0.247940</td>\n",
       "      <td>0.361162</td>\n",
       "    </tr>\n",
       "  </tbody>\n",
       "</table>\n",
       "</div>"
      ],
      "text/plain": [
       "     quality    origin      cost  delivery  after_sales  global_priority\n",
       "Wj  0.382940  0.409433  0.074018  0.057325     0.076284              NaN\n",
       "A1  0.062992  0.643276  0.258746  0.758166     0.089789         0.356964\n",
       "A2  0.272018  0.284514  0.107953  0.047221     0.662271         0.281874\n",
       "A3  0.664990  0.072210  0.633301  0.194613     0.247940         0.361162"
      ]
     },
     "execution_count": 97,
     "metadata": {},
     "output_type": "execute_result"
    }
   ],
   "source": [
    "local_w_stack=np.stack([v['normalized_weights'] for v in alternatives_weight_cr_dict.values()],axis=-1)\n",
    "weight_A=best_supplier.weight_matrix(normalized_weights,local_w_stack)\n",
    "weight_A"
   ]
  },
  {
   "cell_type": "markdown",
   "id": "eb44a803-8e99-42bf-b4c3-6efd8634ab1d",
   "metadata": {},
   "source": [
    "### 3.1.2.3   再现 ARAS 算法\n",
    "\n",
    "再现Zavadskas, E. K.等人在论文中给出的案例（办公室微气候评估），阐释 ARAS 算法。直接迁移`pyDecision`库提供的`aras_method`方法。\n",
    "\n",
    "ARAS 算法基本同于一般基于权重计算得分的方法，其中决策准则权重值文中为专家打分获得；类似TOPSIS算法，考虑到决策准则的优化方向，即测量值是越大越好，还是越小越好；决策矩阵测量值根据决策准则优化方向计算方式有所调整。具体流程如下：\n",
    "\n",
    "第1步，构建决策矩阵（decision-making matrix，DMM），公式为： $X=\\left[\\begin{array}{ccccc}x_{01} & \\cdots & x_{0 j} & \\cdots & x_{0 n} \\\\ \\vdots & \\ddots & \\vdots & \\ddots & \\vdots \\\\ x_{i 1} & \\cdots & x_{i j} & \\cdots & x_{i n} \\\\ \\vdots & \\ddots & \\vdots & \\ddots & \\vdots \\\\ x_{m 1} & \\cdots & x_{m j} & \\cdots & x_{m n}\\end{array}\\right] ; \\quad i=\\overline{0, m} ; j=\\overline{1, n}$，式中，$m$为备选方案索引，$n$为决策准则索引，$x_{i j}$为第$j$个决策准则值下第$i$个备选方案的测量值。$x_{0 j}$为第$j$个决策准则的优化值，如果不知优化值，则可以通过下述方式确定，$\\begin{aligned} & x_{0 j}=\\max _i x_{i j}, \\text { if } \\max _i x_{i j} \\text { is preferable } ; \\\\ & x_{0 j}=\\min _i x_{i j}^* \\text {, if } \\min _i x_{i j}^* \\text { is preferable. }\\end{aligned}$。\n",
    "\n",
    "第2步，为了比较不同单位（unit）、不同尺度(dimentions)的决策准则测量值，需要标准化为无量纲（dimensionless）的决策矩阵。优选值为最大值（maxima）的标准化公式为：$\\bar{x}_{i j}=\\frac{x_{i j}}{\\sum_{i=0}^m x_{i j}}$；优选值为最小值（minima）的标准化公式为：$x_{i j}=\\frac{1}{x_{i j}^*} ; \\bar{x}_{i j}=\\frac{x_{i j}}{\\sum_{i=0}^m x_{i j}}$。标准化后的决策矩阵可以表示为：$\\bar{X}=\\left[\\begin{array}{ccccc}\\bar{x}_{01} & \\ldots & \\bar{x}_{0 j} & \\ldots & \\bar{x}_{0 n} \\\\ \\vdots & \\ddots & \\vdots & \\ddots & \\vdots \\\\ \\bar{x}_{i 1} & \\ldots & \\bar{x}_{i j} & \\ldots & \\bar{x}_{i n} \\\\ \\vdots & \\ddots & \\vdots & \\ddots & \\vdots \\\\ \\bar{x}_{m 1} & \\ldots & \\bar{x}_{m j} & \\ldots & \\bar{x}_{m n}\\end{array}\\right] ; i=\\overline{0, m} ; j=\\overline{1, n}$。\n",
    "\n",
    "第3步，定义归一化加权决策矩阵。决策准则的权重满足$0< w_{j} <1$，且$ \\sum_{j=1}^n w_j=1 $。归一化加权矩阵计算公式为：$\\hat{x}_{i j}=\\bar{x}_{i j} w_j ; i=\\overline{0, m}$，式中，$ w_j$为第$j$个决策准则的权重值；归一化加权矩阵表示为：$\\begin{aligned}  \\hat{X}=\\left[\\begin{array}{ccccc}\\hat{x}_{01} & \\cdots & \\hat{x}_{0 j} & \\cdots & \\hat{x}_{0 n} \\\\ \\vdots & \\ddots & \\vdots & \\ddots & \\vdots \\\\ \\hat{x}_{i 1} & \\cdots & \\hat{x}_{i j} & \\cdots & \\hat{x}_{i n} \\\\ \\vdots & \\ddots & \\vdots & \\ddots & \\vdots \\\\ \\hat{x}_{m 1} & \\cdots & \\hat{x}_{m j} & \\cdots & \\hat{x}_{m n}\\end{array}\\right] ; i=\\overline{0, m} ; j=\\overline{1, n} \\text {. } \\\\ & \\end{aligned}$。\n",
    "\n",
    "第4步，确定最优解。对每一备选方案对应的决策准则归一化加权值求和，即$S_i=\\sum_{j=1}^n \\hat{x}_{i j} ; i=\\overline{0, m}$，$S_i$为备选方案得分。备选方案的效用度（degree of the alternative utility），可以通过$K_i=\\frac{S_i}{S_0} ; i=\\overline{0, m}$计算，式中，$S_0$为理想情况下得分值最高备选方案的值，通过与最高值比较确定效用度。\n",
    "\n",
    "将办公室微气候评估数据写入到`USDA`数据集模块`datasets`下方便调用。读取该数据，包括分析所用的测量值决策矩阵、决策准则权重值和优化方向列表。"
   ]
  },
  {
   "cell_type": "code",
   "execution_count": 3,
   "id": "816fb29d-3fc8-4f85-a61d-c1af06b3cd48",
   "metadata": {},
   "outputs": [
    {
     "data": {
      "text/plain": [
       "{'data':     amount _of_air_per_head  relative_air_humidity  air_temperature  \\\n",
       " 1                       7.6                   46.0             18.0   \n",
       " 2                       5.5                   32.0             21.0   \n",
       " 3                       5.3                   32.0             21.0   \n",
       " 4                       5.7                   37.0             19.0   \n",
       " 5                       4.2                   38.0             19.0   \n",
       " 6                       4.4                   38.0             19.0   \n",
       " 7                       3.9                   42.0             16.0   \n",
       " 8                       7.9                   44.0             20.0   \n",
       " 9                       8.1                   44.0             20.0   \n",
       " 10                      4.5                   46.0             18.0   \n",
       " 11                      5.7                   48.0             20.0   \n",
       " 12                      5.2                   48.0             20.0   \n",
       " 13                      7.1                   49.0             19.0   \n",
       " 14                      6.9                   50.0             16.0   \n",
       " \n",
       "     illumination_during_work_hours  rate_of_air_flow  dew_point  \n",
       " 1                            390.0              0.10       11.0  \n",
       " 2                            360.0              0.05       11.0  \n",
       " 3                            290.0              0.05       11.0  \n",
       " 4                            270.0              0.05        9.0  \n",
       " 5                            240.0              0.10        8.0  \n",
       " 6                            260.0              0.10        8.0  \n",
       " 7                            270.0              0.10        5.0  \n",
       " 8                            400.0              0.05        6.0  \n",
       " 9                            380.0              0.05        6.0  \n",
       " 10                           320.0              0.10        7.0  \n",
       " 11                           320.0              0.05       11.0  \n",
       " 12                           310.0              0.05       11.0  \n",
       " 13                           280.0              0.10       12.0  \n",
       " 14                           250.0              0.05       10.0  ,\n",
       " 'name': 'microclimate_in_office_rooms.pickle',\n",
       " 'measurement_units': ['m3/h', '%', '°C', 'lx', 'm/s', '°C'],\n",
       " 'optimisation_direction': ['max', 'max', 'max', 'max', 'min', 'min'],\n",
       " 'weight_of_criteria': [0.21, 0.16, 0.26, 0.17, 0.12, 0.08],\n",
       " 'optimal_value': [15, 50, 24.5, 400, 0.05, 5]}"
      ]
     },
     "execution_count": 3,
     "metadata": {},
     "output_type": "execute_result"
    }
   ],
   "source": [
    "microclimate_in_office_rooms=usda_datasets.load_microclimate_in_office_rooms()\n",
    "microclimate_in_office_rooms"
   ]
  },
  {
   "cell_type": "markdown",
   "id": "6100b06f-39d9-4310-b3ad-11d1f6969957",
   "metadata": {},
   "source": [
    "从计算结果可以得知索引值为8的备选方案为最高得分，并可以配置`graph`参数打印排序图表。"
   ]
  },
  {
   "cell_type": "code",
   "execution_count": 9,
   "id": "2dca4ad6-7c08-442e-b28b-bdc1fe52c163",
   "metadata": {},
   "outputs": [
    {
     "name": "stdout",
     "output_type": "stream",
     "text": [
      "a1: 0.821\n",
      "a2: 0.8\n",
      "a3: 0.764\n",
      "a4: 0.771\n",
      "a5: 0.666\n",
      "a6: 0.68\n",
      "a7: 0.688\n",
      "a8: 0.949\n",
      "a9: 0.945\n",
      "a10: 0.731\n",
      "a11: 0.825\n",
      "a12: 0.807\n",
      "a13: 0.776\n",
      "a14: 0.796\n"
     ]
    },
    {
     "data": {
      "image/png": "[encoded data removed]",
      "text/plain": [
       "<Figure size 640x480 with 1 Axes>"
      ]
     },
     "metadata": {},
     "output_type": "display_data"
    }
   ],
   "source": [
    "rank=usda_weight.aras_method(microclimate_in_office_rooms.data, microclimate_in_office_rooms.weight_of_criteria, microclimate_in_office_rooms.optimisation_direction, graph=True)"
   ]
  },
  {
   "cell_type": "code",
   "execution_count": 10,
   "id": "6cbc7c1d-0042-4fc7-b917-f97b63d0fccc",
   "metadata": {},
   "outputs": [
    {
     "data": {
      "text/plain": [
       "array([[ 8.        ,  0.94850216],\n",
       "       [ 9.        ,  0.94548367],\n",
       "       [11.        ,  0.82549096],\n",
       "       [ 1.        ,  0.82104672],\n",
       "       [12.        ,  0.80717434],\n",
       "       [ 2.        ,  0.80024248],\n",
       "       [14.        ,  0.79601395],\n",
       "       [13.        ,  0.77558685],\n",
       "       [ 4.        ,  0.77056324],\n",
       "       [ 3.        ,  0.76446671],\n",
       "       [10.        ,  0.73067136],\n",
       "       [ 7.        ,  0.68789147],\n",
       "       [ 6.        ,  0.67985115],\n",
       "       [ 5.        ,  0.66562774]])"
      ]
     },
     "execution_count": 10,
     "metadata": {},
     "output_type": "execute_result"
    }
   ],
   "source": [
    "rank"
   ]
  },
  {
   "cell_type": "markdown",
   "id": "a90d6b47-e5e0-43e3-ab7e-36e1491bade4",
   "metadata": {},
   "source": [
    "### 3.1.2.4 再现 BWM 算法（基于 GWO 元启发式算法）\n",
    "\n",
    "AHP和F-AHP需要给出判断矩阵，并通过参考CR值，不断调整修正判断矩阵的标度使其趋于一致矩阵，即在一致性检验过程中一致性比率CR值应满足要求。这个调整过程相对繁琐，也不容易使得每项决策准则之间和对于各个准则备选方案之间的判断矩阵修正到满足要求。而 BWM 方法并不需要对决策准则两两比较构建判断矩阵，而类似TOPSIS算法考虑最佳（Best）（正理想值） 和最差（Worst）（负理想值），将各个决策准则与最佳和最差的准则比较作为输入值。以作者给出的第1个案例解释 BWM 算法，该案例表述为公司要选择一种将其产品运输到市场的一种运输方式，涉及3个决策准则，为负载的灵活性$C_{1} $、可达性$C_{2} $和成本$C_{3} $。最佳和最差成对比较向量的值选择1-9之间的数，确定成本（$C_{3} $）为最佳准则，与最佳决策准则的成对比较（判断）向量为：$A_{B}=( a_{B1},a_{B2}, \\ldots ,a_{Bn} ) =(8,2,1)$，式中，$a_{Bj}$为最佳决策准则对准则$j$的比较偏好（preference）；确定负载的灵活性（$C_{1} $）为最差准则，与最差决策准则的成对比较（判断）向量为：$A_{W}=( a_{1W},a_{2W}, \\ldots ,a_{nW} ) =(1,5,8)$，式中$a_{jW}$为决策准则$j$对最差准则的比较偏好。如果决策准则的实际权重表示为$w_{j} $，那么理论上会有$\\frac{w_{B} }{w_{j} }=a_{Bj}  ; \\frac{w_{j} }{w_{W} }=a_{jW}$。但是在实际构建判断向量时，会产生误差，因此有：$\\begin{aligned} & \\left|\\frac{\\omega_B}{\\omega_j}-a_{B j}\\right| \\leq \\xi \\quad ,\\forall j \\\\ & \\left|\\frac{\\omega_j}{\\omega_W}-a_{j W}\\right| \\leq \\xi, \\forall j \\\\ & \\sum_j \\omega_j=1;\\omega_j \\geq 0 ,  \\forall j \\end{aligned}$，式中，$\\xi$表示为误差。对应到案例，则有$\\begin{aligned} & \\left|\\frac{w_3}{w_1}-8\\right| \\leq \\xi \\\\ & \\left|\\frac{w_3}{w_2}-2\\right| \\leq \\xi \\\\ & \\left|\\frac{w_2}{w_1}-5\\right| \\leq \\xi \\\\ & w_1+w_2+w_3=1 \\\\ & w_1, w_2, w_3 \\geq 0\\end{aligned}$。对上述公式求解即可得到最优的决策准则权重$( w^{*}_{1},w^{*}_{2}, \\ldots ,w^{*}_{n} )$和误差$\\xi^{*} $。求解的方法使用 GWO（Grey Wolf Optimizer） 优化算法，为一种元启发式算法（meta-heuristic）<sup>Mirjalili, S., Mirjalili, S. M. & Lewis, A. Grey Wolf Optimizer. Advances in Engineering Software 69, 46–61 (2014).</sup>。\n",
    "\n",
    "GWO 优化算法求解 BWM时，依据上述求解公式， 对于给定的c，可得$  \\triangle w=  |  w_{B}- w_{j} a_{Bj}  | $，即求解$w_{j}$使得$ \\triangle w$趋近于0；同样，对于给定的$A_{W}$，有$ \\triangle w=  |  w_{j}- w_{W} a_{jW}  | $，即求解$w_{j}$使得$ \\triangle w$趋近于0。将上述两种情况合并，权重更新时，选择$ \\triangle w$为最小值对应的权重值更新，即为最优解。对应的代码为：\n",
    "\n",
    "```python\n",
    "def target_function(variables):\n",
    "    eps       = [float('+inf')]\n",
    "    for pair in pairs_b:\n",
    "        i, j = pair\n",
    "        diff = abs(variables[i] - variables[j]*mic[j])\n",
    "        if ( i != j):\n",
    "            eps.append(diff)\n",
    "    for pair in pairs_w:\n",
    "        i, j = pair\n",
    "        diff = abs(variables[i] - variables[j]*lic[j])\n",
    "        if ( i != j):\n",
    "            eps.append(diff)\n",
    "    if ( np.sum(variables) == 0):\n",
    "        eps = float('+inf')\n",
    "    else:\n",
    "        eps = max(eps[1:])\n",
    "    return eps\n",
    "```\n",
    "\n",
    "对于$A_{B}$，对应`diff = abs(variables[i] - variables[j]*mic[j])`；对于$A_{W}$，对应`diff = abs(variables[i] - variables[j]*lic[j])`。\n",
    "\n",
    "\n",
    "依据 GWO 的等级制度思想，从每行为一组权重向量，初始化数量由参数`size`确定的权重集群（矩阵）（灰狼群）中，依据$ \\triangle w$值（值越小越好），提取前三等级的权重组（行），并依次用alpha（$\\alpha$）、beta（$\\beta$）和delta（$\\delta$） 表示，剩下未提取的权重行则为omega（$\\omega$）。每一次迭代时都会根据最新的$ \\triangle w$值更新$\\alpha$、$\\beta$和$\\delta$，对应代码行为：\n",
    "\n",
    "```python\n",
    "def update_pack(position, alpha, beta, delta):\n",
    "    updated_position = np.copy(position)\n",
    "    for i in range(0, position.shape[0]):\n",
    "        if (updated_position[i,-1] < alpha[0,-1]):\n",
    "            alpha[0,:] = np.copy(updated_position[i,:])\n",
    "        if (updated_position[i,-1] > alpha[0,-1] and updated_position[i,-1] < beta[0,-1]):\n",
    "            beta[0,:] = np.copy(updated_position[i,:])\n",
    "        if (updated_position[i,-1] > alpha[0,-1] and updated_position[i,-1] > beta[0,-1]  and updated_position[i,-1] < delta[0,-1]):\n",
    "            delta[0,:] = np.copy(updated_position[i,:])\n",
    "    return alpha, beta, delta\n",
    "```\n",
    "\n",
    "逐行逐列（各行各个决策准则权重值）更新权重集群时，是同时考虑$\\alpha$、$\\beta$和$\\delta$3个等级，根据 GWO 模拟包围和狩猎行为变化更新权重集群（灰狼），使之趋于最优解（猎物）。对于包围猎物的行为，论文中定义公式为：$\\begin{aligned} & \\vec{D}=\\left|\\vec{C} \\cdot \\vec{X}_p(t)-\\vec{X}(t)\\right| \\\\ & \\vec{X}(t+1)=\\vec{X}_p(t)-\\vec{A} \\cdot \\vec{D}\\end{aligned}$，式中，$t$为当前的迭代次数，$\\vec{C}$和$\\vec{A}$是向量（权重值）系数，$\\vec{X}_p$为$\\alpha$、$\\beta$和$\\delta$当前迭代次数下的权重值，$\\vec{X}$为更新后的权重值。对于$\\vec{C}$和$\\vec{A}$，计算公式为：$\\begin{aligned} & \\vec{A}=2 \\vec{a} \\cdot \\vec{r}_1-\\vec{a} \\\\ & \\vec{C}=2 \\cdot \\vec{r}_2\\end{aligned}$，式中，$\\vec{a}$为收敛因子，随着迭代次数的增加从2线性的减少至0，$\\vec{r}_1$和$\\vec{r}_2$为[0,1]的随机数。对于狩猎行为，论文中定义的公式为： $\\begin{aligned} & \\vec{D}_\\alpha=\\left|\\vec{C}_1 \\cdot \\vec{X}_\\alpha-\\vec{X}\\right|, \\vec{D}_\\beta=\\left|\\vec{C}_2 \\cdot \\vec{X}_\\beta-\\vec{X}\\right|, \\vec{D}_\\delta=\\left|\\vec{C}_3 \\cdot \\vec{X}_\\delta-\\vec{X}\\right| \\\\ & \\vec{X}_1=\\vec{X}_\\alpha-\\vec{A}_1 \\cdot\\left(\\vec{D}_\\alpha\\right), \\vec{X}_2=\\vec{X}_\\beta-\\vec{A}_2 \\cdot\\left(\\vec{D}_\\beta\\right), \\vec{X}_3=\\vec{X}_\\delta-\\vec{A}_3 \\cdot\\left(\\vec{D}_\\delta\\right) \\\\ & \\vec{X}(t+1)=\\frac{\\vec{X}_1+\\vec{X}_2+\\vec{X}_3}{3}\\end{aligned}$，是分别计算$\\alpha$、$\\beta$和$\\delta$3个等级包围猎物的行为，求其均值为更新的权重值。进而可以根据更新的权重值计算当前的$ \\triangle w$值。对应的代码行为：\n",
    "\n",
    "```python\n",
    "def update_position(position, alpha, beta, delta, a_linear_component = 2, min_values = [-5,-5], max_values = [5,5], target_function = target_function):\n",
    "    updated_position = np.copy(position)\n",
    "    for i in range(0, updated_position.shape[0]):\n",
    "        for j in range (0, len(min_values)):   \n",
    "            r1_alpha              = int.from_bytes(os.urandom(8), byteorder = \"big\") / ((1 << 64) - 1)\n",
    "            r2_alpha              = int.from_bytes(os.urandom(8), byteorder = \"big\") / ((1 << 64) - 1)\n",
    "            a_alpha               = 2*a_linear_component*r1_alpha - a_linear_component\n",
    "            c_alpha               = 2*r2_alpha      \n",
    "            distance_alpha        = abs(c_alpha*alpha[0,j] - position[i,j]) \n",
    "            x1                    = alpha[0,j] - a_alpha*distance_alpha   \n",
    "            r1_beta               = int.from_bytes(os.urandom(8), byteorder = \"big\") / ((1 << 64) - 1)\n",
    "            r2_beta               = int.from_bytes(os.urandom(8), byteorder = \"big\") / ((1 << 64) - 1)\n",
    "            a_beta                = 2*a_linear_component*r1_beta - a_linear_component\n",
    "            c_beta                = 2*r2_beta            \n",
    "            distance_beta         = abs(c_beta*beta[0,j] - position[i,j]) \n",
    "            x2                    = beta[0,j] - a_beta*distance_beta                          \n",
    "            r1_delta              = int.from_bytes(os.urandom(8), byteorder = \"big\") / ((1 << 64) - 1)\n",
    "            r2_delta              = int.from_bytes(os.urandom(8), byteorder = \"big\") / ((1 << 64) - 1)\n",
    "            a_delta               = 2*a_linear_component*r1_delta - a_linear_component\n",
    "            c_delta               = 2*r2_delta            \n",
    "            distance_delta        = abs(c_delta*delta[0,j] - position[i,j]) \n",
    "            x3                    = delta[0,j] - a_delta*distance_delta                                 \n",
    "            updated_position[i,j] = np.clip(((x1 + x2 + x3)/3),min_values[j],max_values[j])     \n",
    "        updated_position[i,-1] = target_function(updated_position[i,0:updated_position.shape[1]-1])\n",
    "    return updated_position\n",
    "```"
   ]
  },
  {
   "cell_type": "markdown",
   "id": "1a35bd26-50c1-41eb-9596-c6bfb77ad3c2",
   "metadata": {},
   "source": [
    "BWM 给出了一致性比例计算的方法。对于一致矩阵有$a_{ik} \\times  a_{kj}=a_{ij}, \\forall i,j$，实际给出的判断向量往往产生非一致性问题，即$a_{Bj} \\times  a_{jW} \\neq a_{BW}$，当且仅当$a_{Bj} =a_{jW} = a_{BW}$时，误差达到最大，由$(w _{B}/w _{j})  \\times (w _{j}/w _{W})=(w _{B}/w _{W})$，考虑最大误差发生时有：$\\left(a_{B j}-\\xi\\right) \\times\\left(a_{j W}-\\xi\\right)=\\left(a_{B W}+\\xi\\right)$，即，$\\left(a_{B W}-\\xi\\right) \\times\\left(a_{BW}-\\xi\\right)=\\left(a_{B W}+\\xi\\right) \\Rightarrow \\xi^2-\\left(1+2 a_{B W}\\right) \\xi+\\left(a_{B W}{ }^2-a_{B W}\\right)=0$。求解不同的$a_{BW} \\in \\{1,2, \\ldots ,9\\} $，可以找到最大可能的$\\xi$（max $\\xi$），其表为：\n",
    "\n",
    "| $a_{BW}$  | 1  | 2  | 3  | 4  | 5  | 6  | 7  |  8 | 9  |\n",
    "|---|---|---|---|---|---|---|---|---|---|\n",
    "| Consistency index（CI） （max $\\xi$） | 0.00  |  0.44  |  1.00   | 1.63   |  2.30   |   3.00  |   3.73  |  4.47   | 5.23  |\n",
    "\n",
    "一致性比率（CR）则为：$CR= \\frac{ \\xi^{*} }{CI} $\n",
    "\n",
    "应用基于 GWO 优化算法求解 BWM的方法，再现论文案例1，其计算结果为0.100、0.250和0.649，对应论文中的结果0.0714、0.3387和0.5899，重要性排序保持一致。"
   ]
  },
  {
   "cell_type": "code",
   "execution_count": 41,
   "id": "f16173b5-c57b-42e6-86dd-e4f4849c4df2",
   "metadata": {},
   "outputs": [
    {
     "name": "stdout",
     "output_type": "stream",
     "text": [
      "Iteration =  0  f(x) =  inf\n",
      "Iteration =  50  f(x) =  0.015477062414798246\n",
      "Iteration =  100  f(x) =  0.015112102494579303\n",
      "Iteration =  150  f(x) =  0.015112102494579303\n",
      "Iteration =  200  f(x) =  0.015020926002282144\n",
      "[0.10000609 0.24996459 0.65002932]\n"
     ]
    }
   ],
   "source": [
    "mic=np.array([8,2,1]) # Most Important Criteria\n",
    "lic=np.array([1,5,8]) # Least Important Criteria\n",
    "\n",
    "weights=usda_weight.bw_method(mic, lic, size=50, iterations=200,verbose=50)\n",
    "print(weights)"
   ]
  },
  {
   "cell_type": "markdown",
   "id": "d1e04555-9583-44cf-8b09-dbcf3b109cfb",
   "metadata": {},
   "source": [
    "### 3.1.2.5 再现 DEMATEL 算法\n",
    "\n",
    "Dematel 是一种运用图论和矩阵工具解释问题的系统分析方法，通过评估系统中各个因子（factors）（决策准则）之间的相互依赖关系，可以计算每个因子对其它因子的影响度和被影响度，从而计算每个因子的原因度和中心度，确定因子间的因果关系和每个因子在系统中的地位。Dematel 有许多不同的变体，例如根据使用方法可归为有5类： 经典型（classical-dematel），模糊性（fuzzy-dematel）， grey-dematel, ANP-dematel（analytical network process，ANP）和其它类型。`pyDecision`库提供的`dematel_method` 方法为经典型，将其迁移至`USDA`库中调用。\n",
    "\n",
    "第1步，该方法首先需要构建因子关系（影响，判断）矩阵（direct-influence matrix）$Z$，评估系统中因子$F=\\{ F_{1},F_{2}, \\ldots ,F_{n} \\}$之间的关系。假设决策组中有个$l$名专家$E=\\{ E_{1},E_{2}, \\ldots ,E_{l} \\}$参与构建关系矩阵，通过标度（0，无影响（no influence）；1，低影响（low influence）；2，中等影响（medium influence）；3，高等影响（high influence）；4，极度影响（very high influence）），指出因子$F_{i}$对$F_{j}$的影响程度。第$k$位专家构建的关系矩阵表示为：$Z_{k}= [ z_{ij}^k ]_{n \\times n}  $，关系矩阵的对角线应为0，即自身对自身没有影响，$ z_{ij}^k $代表第$ E_{k}$决策者评估因子$F_{i}$对因子$F_{j}$的影响程度，按对角线右上和左下为直接影响（direct effects）和间接影响（indirect effects）。整合所有决策者的关系矩阵为$Z= [ z_{ij} ]_{n \\times n}$，式中，$z_{i j}=\\frac{1}{l} \\sum_{k=1}^l z_{i j}^k, \\quad i, j=1,2, \\ldots, n$。例如`pyDecision`库案例提供的关系矩阵为：$ \\begin{bmatrix}0 & 1&2&0 \\\\3 & 0&4&4\\\\3&2&0&1\\\\4&1&2&0 \\end{bmatrix} $，对应因子g1、g2、g3和g4。\n",
    "\n",
    "第2步，（最大值）归一化关系矩阵$Z$为$X= [ x_{ij} ]_{n \\times n} $，公式为，$\\begin{aligned} & X=\\frac{Z}{s}, \\\\ & s=\\max \\left(\\max _{1 \\leq i \\leq n} \\sum_{j=1}^n z_{i j}, \\max _{1 \\leq i \\leq n} \\sum_{i=1}^n z_{i j}\\right) \\end{aligned}$，式中，$\\sum_{j=1}^n z_{i j}$（$\\sum_{i=1}^n z_{i j}$）为对关系矩阵$Z$所有行（或列）求和，并取其最大值为$s$，案例的最大值为11，归一化结果为：$\\begin{bmatrix}\n",
    "   0.000 &   0.091 &   0.182 &   0.000\\\\\n",
    "   0.273 &   0.000 &   0.364 &   0.364\\\\\n",
    "   0.273 &   0.182 &   0.000 &   0.091\\\\\n",
    "   0.364 &   0.091 &   0.182 &   0.000\n",
    "\\end{bmatrix}$。\n",
    "\n",
    "第3步，计算综合关系矩阵$T= [t_{ij}]_{n \\times n} $，公式为：$T=X+ X^{2} +X^{3}+ \\ldots +X^{h}=X (1-X)^{-1}, h  \\longrightarrow  \\infty $，即直接影响和所有间接影响之和，式中，$I$为单位矩阵（identity matrix）。实验数据的计算结果为：$\\begin{bmatrix}\n",
    "   0.154 &   0.165 &   0.285 &   0.086\\\\\n",
    "   0.703 &   0.232 &   0.668 &   0.509\\\\\n",
    "   0.495 &   0.289 &   0.235 &   0.217\\\\\n",
    "   0.573 &   0.224 &   0.389 &   0.117\n",
    "\\end{bmatrix}$。\n",
    "\n",
    "第4步，生成影响力关系图（influential relation map，IRM）。综合关系矩阵$T$的行之和为$R$，列之和为$C$，对应公式为：$\\begin{aligned} & R=\\left[r_i\\right]_{n \\times 1}=\\left[\\sum_{j=1}^n t_{i j}\\right]_{n \\times 1}, \\\\ & C=\\left[c_j\\right]_{1 \\times n}=\\left[\\sum_{i=1}^n t_{i j}\\right]_{1 \\times n}^T,\\end{aligned}$，式中，$r_i$为矩阵$T$第$i$行之和，表示因子$F_{i}$对其它因子的直接和间接影响的总和，为影响度（D）值，对应实验数据结果为$\\begin{bmatrix}   0.689 &   2.112 &   1.236 &   1.304\\end{bmatrix}$，可知因子g2对其它因子直接和间接影响总和最大，而因子g1对其它因子影响最小；$c_j$为矩阵$T$第$j$列之和，表示因子$F_j$受其它因子直接和间接影响的总和，为被影响度（C）值，对应实验数据结果为$\\begin{bmatrix} 1.925 &   0.910 &   1.577 &   0.929 \\end{bmatrix}$，可知因子g1受到其它因子的影响最大，而g2受到其它因子的影响最小。\n",
    "\n",
    "另$i=j, i,j  \\in \\{1,2, \\ldots ,n\\}$，影响度和被影响度之和为$R+C$，代表该因子在系统中的核心作用程度，为中心度（Prominence）；同样，$R-C$代表该因子对系统贡献的净效应，为原因度（Relation）。如果$(r_j-c_j)$为正，则因子$F_j$对其它因子有净影响，可以归为原因组（cause group）；如果$(r_j-c_j)$为负，则因子$F_j$整体上受到其它因素的影响，应归入效应组（effect group）。实验数据对应的中心度和原因度分别为，$\\begin{bmatrix}  2.614 &   3.021 &   2.813 &   2.232 \\end{bmatrix}$和\\begin{bmatrix} -1.236 &   1.202 & -0.341 &   0.375 \\end{bmatrix}。可以通过映射$(R+C,R-C)$的数据集创建IRM（如下图），为决策指定提供有价值的见解。四象限图中：\n",
    "\n",
    "第1象限，（Prominence：高，Relation：高），具有最重要的因子；\n",
    "\n",
    "第2象限，（Prominence：低，Relation：高），具有可以通过其它因子改进的重要因子；\n",
    "\n",
    "第3象限，（Prominence：低，Relation：低），具有不重要的因子；\n",
    "\n",
    "第4象限，（Prominence：高，Relation：低），具有无法通过其它因子改进的重要因子。"
   ]
  },
  {
   "cell_type": "code",
   "execution_count": 3,
   "id": "b1dad981-f891-429c-9393-465637dabefc",
   "metadata": {
    "tags": []
   },
   "outputs": [
    {
     "name": "stdout",
     "output_type": "stream",
     "text": [
      "QUADRANT I has the Most Important Criteria (Prominence: High, Relation: High)\n",
      "QUADRANT II has Important Criteira that can be Improved by Other Criteria (Prominence: Low, Relation: High)\n",
      "QUADRANT III has Criteria that are not Important (Prominence: Low, Relation: Low)\n",
      "QUADRANT IV has Important Criteria that cannot be Improved by Other Criteria (Prominence: High, Relation: Low)\n",
      "\n",
      "g1: Quadrant III\n",
      "g2: Quadrant I\n",
      "g3: Quadrant IV\n",
      "g4: Quadrant II\n"
     ]
    },
    {
     "data": {
      "image/png": "[encoded data removed]",
      "text/plain": [
       "<Figure size 700x500 with 1 Axes>"
      ]
     },
     "metadata": {},
     "output_type": "display_data"
    },
    {
     "name": "stdout",
     "output_type": "stream",
     "text": [
      "[2.61441523 3.02130553 2.81287398 2.23245694] [-1.2356301   1.20172257 -0.34106981  0.37497733] [0.24477133 0.28286592 0.26335178 0.20901097]\n"
     ]
    }
   ],
   "source": [
    "dataset = np.array([\n",
    "    #  g1  g2  g3  g4\n",
    "    [  0,  1,  2,  0  ],   #g1\n",
    "    [  3,  0,  4,  4  ],   #g2\n",
    "    [  3,  2,  0,  1  ],   #g3\n",
    "    [  4,  1,  2,  0  ]    #g4\n",
    "    ])\n",
    "\n",
    "D_plus_R, D_minus_R, weights=usda_weight.dematel_method(dataset, size_x=7, size_y=5)\n",
    "print(D_plus_R, D_minus_R, weights)"
   ]
  },
  {
   "cell_type": "markdown",
   "id": "1481e35f-5ccc-4ed6-bf81-9b7df6f29945",
   "metadata": {},
   "source": [
    "### 3.1.2.6 再现 IDOCRIW 算法（基于 GA 元启发式算法）\n",
    "\n",
    "Zavadskas 和 Podvezko 提出的 IDOCRIW 算法受益于信息熵（Entropy）和 准则影响损失（Criterion Impact LOSs，CILOS）方法。通过结合这两种方法确定相对影响损失及属性权重。IDOCRIW 算法的输入条件为决策矩阵和决策准则方向（越大越好还是越小越好）。作者给出的案例数据为：$\\begin{aligned} & \\begin{array}{lllll}\\hspace{25pt}  - & \\hspace{7pt} + & \\hspace{7pt} - & \\hspace{7pt} +\\end{array} \\\\ & \\begin{array}{llll} \\hspace{25pt}  \\mathrm{C}_1 & \\hspace{7pt} \\mathrm{C}_2 & \\mathrm{C}_3 & \\mathrm{C}_4\\end{array} \\\\ & \\begin{array}{l}\\mathrm{A}_1 \\\\ \\mathrm{~A}_2 \\\\ \\mathrm{~A}_3 \\\\ \\mathrm{~A}_4\\end{array}\\left[\\begin{array}{cccc}3 & 100 & 10 & 7 \\\\ 2.500 & 80 & 8 & 5 \\\\ 1.800 & 50 & 20 & 11 \\\\ 2.200 & 70 & 12 & 9\\end{array}\\right] \\\\ & \\end{aligned}$，为一个组织打算在$\\mathrm{A}_1$、$\\mathrm{A}_2$、$\\mathrm{A}_3$和$\\mathrm{A}_4$等4个地块中选择一个建造一座行政大楼。公司主管部分拟根据专家意见，对成本（$\\mathrm{C}_1 $）、建筑面积（$\\mathrm{C}_2 $）、与组织所在地的距离（$\\mathrm{C}_3 $）和建筑质量（$\\mathrm{C}_4 $）等属性进行审查和优先排序。\n",
    "\n",
    "第1步，标准化决策矩阵，公式为：$\\bar{r}_{i j}=\\frac{r_{i j}}{\\sum_{i=1}^n r_{i j}} ; \\quad j=1, \\ldots, n$，式中，$\\bar{r}_{i j}$表示第$j$个决策准则下第$i$个备选方案的标准化值。实验数据结果为：$\\begin{bmatrix}\n",
    "   0.316 &   0.333 &   0.200 &   0.219\\\\\n",
    "   0.263 &   0.267 &   0.160 &   0.156\\\\\n",
    "   0.189 &   0.167 &   0.400 &   0.344\\\\\n",
    "   0.232 &   0.233 &   0.240 &   0.281\n",
    "\\end{bmatrix}$。\n",
    "\n",
    "第2步，熵值权重法，公式为：$\\begin{aligned} & E_j=-\\frac{1}{\\ln n} \\sum_{i=1}^n \\bar{r}_{i j} . \\ln \\bar{r}_{i j} ; \\quad j=1, \\ldots, n, \\quad 0 \\leq E_j \\leq 1 \\\\ & d_j=1-E_j ; \\quad j=1, \\ldots, n \\\\ & w_j=\\frac{d_j}{\\sum_{j=1}^n d_j}\\end{aligned}$，实验数据决策准则的信息熵权重结果为，$\\begin{bmatrix} 0.115 &   0.198 &   0.418 &   0.269 \\end{bmatrix}$。\n",
    "\n",
    "第3步，统一决策准则方向为最大方向（maximized）并再次标准化（该公式同前），公式为：$\\begin{aligned} \\hat{r}_{i j} & =\\frac{\\min _i r_{i j}}{r_{i i}} ; \\quad i, j \\in\\{1, \\ldots, n\\} \\end{aligned} $，将决策矩阵列为负方向的决策准则转换为正方向（值越大越好），并再次标准化。实验数据对应的结果为：$\\begin{bmatrix}\n",
    "   0.191 &   0.333 &   0.279 &   0.219\\\\\n",
    "   0.229 &   0.267 &   0.349 &   0.156\\\\\n",
    "   0.319 &   0.167 &   0.140 &   0.344\\\\\n",
    "   0.261 &   0.233 &   0.233 &   0.281\n",
    "\\end{bmatrix}$。\n",
    "\n",
    "第4步，构建方阵（Square Matrix），是依次提取决策矩阵每一决策准则列最大值所在的行形成一个新的矩阵，即对原决策矩阵的行按列的最大值排序，从而新的矩阵对角线为各列的最大值，其公式为：$\\begin{aligned}  a_j & =\\max _i \\bar{r}_{i j}=a_{k_i j} ; \\quad i, j \\in\\{1, \\ldots, n\\}\\end{aligned}$，式中，$a_{k_i j} $对应着第$j$个决策准则列最大值行$k_i$，且$a_{ij}=a_{k_i j}$，及$a_{jj}=a_{j}$。实验数据对应的结果为：$\\begin{bmatrix}\n",
    "   0.319 &   0.167 &   0.140 &   0.344\\\\\n",
    "   0.191 &   0.333 &   0.279 &   0.219\\\\\n",
    "   0.229 &   0.267 &   0.349 &   0.156\\\\\n",
    "   0.319 &   0.167 &   0.140 &   0.344\n",
    "\\end{bmatrix}$。\n",
    "\n",
    "第5步，计算相对影响损失矩阵（Relative Impact Loss Matrix），公式为：$p_{ij}= \\frac{a_{jj}-a_{ij}}{a_{jj}};i,j \\in \\{1, \\ldots ,n\\},p_{jj}=0 $，$p_{ij}$表示第$j$个决策准则如果作为最佳值的相对影响损失。实验数据对应结果为：$\\begin{bmatrix}\n",
    "   0.000 &   0.500 &   0.600 &   0.000\\\\\n",
    "   0.400 &   0.000 &   0.200 &   0.364\\\\\n",
    "   0.280 &   0.200 &   0.000 &   0.545\\\\\n",
    "   0.000 &   0.500 &   0.600 &   0.000\n",
    "\\end{bmatrix}$。\n",
    "\n",
    "第6步，权重系统矩阵（ Weight System Matrix），将相对损失矩阵对角线的值替换为各列值和取反，公式为：$\\mathrm{F}=\\left(\\begin{array}{cccc}-\\sum_{i=1}^n P_{i 1} & P_{12} & \\cdots & P_{1 \\mathrm{n}} \\\\ P_{21} & -\\sum_{i=1}^n P_{i 2} & \\cdots & P_{2 \\mathrm{n}} \\\\ \\vdots & \\vdots & \\ddots & \\vdots \\\\ P_{\\mathrm{n} 1} & P_{\\mathrm{n} 2} & \\cdots & -\\sum_{i=1}^n P_{i \\mathrm{n}}\\end{array}\\right)_{n \\times n}$。实验数据计算结果为： $\\begin{bmatrix}\n",
    " -0.680 &   0.500 &   0.600 &   0.000\\\\\n",
    "   0.400 & -1.200 &   0.200 &   0.364\\\\\n",
    "   0.280 &   0.200 & -1.400 &   0.545\\\\\n",
    "   0.000 &   0.500 &   0.600 & -0.909\n",
    "\\end{bmatrix}$。\n",
    "\n",
    "第7步，计算决策准则影响损失权重（Criterion Impact Loss Weight，$Q$），根据公式$Fq^T=0$，计算权重值，实验数据对应的方程为：$\\left\\{\\begin{array}{l}-0.680 q_1+0.500 q_2+0.600 q_3=0 \\\\ 0.400 q_1-1.200 q_2+0.200 q_3+0.364 q_4=0 \\\\ 0.280 q_1+0.200 q_2-1.400 q_3+0.545 q_4=0 \\\\ 0.500 q_2+0.600 q_3-0.909 q_4=0\\end{array}\\right.$，求解上述方程即可获得权重。\n",
    "\n",
    "第8步，使用遗传算法（Genetic Algorithm， GA）求解第7步的方程。"
   ]
  },
  {
   "cell_type": "markdown",
   "id": "9f6a1ac5-09ea-43f7-add7-703785a76895",
   "metadata": {},
   "source": [
    "由第7步方程构建目标函数，对应的代码为：\n",
    "\n",
    "```python\n",
    "def target_function(variable = [0]*WP.shape[1]):\n",
    "    variable = [variable[i]/sum(variable) for i in range(0, len(variable))]\n",
    "    WP_s     = np.copy(WP)\n",
    "    for i in range(0, WP.shape[0]):\n",
    "        for j in range(0, WP.shape[1]):\n",
    "            WP_s[i, j] = WP_s[i, j]*variable[j]\n",
    "    total = abs(WP_s.sum(axis = 1)) \n",
    "    total = sum(total) \n",
    "    return total\n",
    "```\n",
    "\n",
    "其中，`WP`变量为权重系统矩阵，`variable`为每次迭代的决策准则权重向量，代入第7步公式，满足各行值总和趋于0，即`total`（$S$值越小越好。\n",
    "\n",
    "遗传算法为元启发式算法，受启发于自然进化理论，通过模拟自然选择的过程，从种群（population）选择最适合的个体（individuals）进行繁殖产生后代（offspring ）。产生的后代继承了父代的特征，并遗传至下一代。如果父代有较好的适应度（fitness score），后代就会比父代有更好的生存机会。上述过程不断迭代，直至进化到最适合的一代。整个过程可以分为5步，初始化种群（对应`initial_population`函数），适应函数（对应`fitness_function`函数），选择和交叉（对应`breeding`函数），变异（对应`mutation`函数）。\n",
    "\n",
    "第8-1步，初始化种群（Initial Population）\n",
    "\n",
    "种群是包含多个个体的集合，本例中个体即为决策准则权重值，为一个包含4个值的向量，那么初始化种群则是随机产生了多个权重向量的集合。个体的特征是一组称为基因（Genes）的参数，对应着各个决策准则，而个体组成的向量就形成了一个染色体（Chromosome），即决策准则权重值。初始化种群对应的代码为：\n",
    "\n",
    "```python\n",
    "# Function: Initialize Variables\n",
    "def initial_population(population_size = 5, min_values = [-5,-5], max_values = [5,5], target_function = target_function):\n",
    "    population = np.zeros((population_size, len(min_values) + 1))\n",
    "    for i in range(0, population_size):\n",
    "        for j in range(0, len(min_values)):\n",
    "             population[i,j] = random.uniform(min_values[j], max_values[j]) \n",
    "        population[i,-1] = target_function(population[i,0:population.shape[1]-1])\n",
    "    return population\n",
    "```\n",
    "\n",
    "代码初始化的种群`population`个人均增加了一位，用于存储目标函数`target_function`的返回值`total`（$S$）。初始化的权重值位于给定的区间[0,1]内。\n",
    "\n",
    "第8-2步，定义适应度函数（Fitness Function）\n",
    "\n",
    "适应度函数通过给每一个体适应度值，确定个体与其它个体竞争的能力，从而更容易被选择进行繁殖。本例个体适应度为包含两个值的向量，公式为：$\\begin{aligned}&  F_i^0= \\frac{1}{1+S_i+S_{min}} \\\\& F_i^1= \\frac{F_i^0+F_{i-1}^1}{ \\sum_{i=1}^n F_i^0 }  \\end{aligned}$，式中，c为适应度第1个值（索引为0），$ F_i^1$为适应度第2个值（索引为1），$S$为目标函数的返回值，$S_{min}$为种群$S$的最小值，$F_{i-1}^1$为当前个体前一个体（父代）适应度值的第2个值（索引为1）。$F_i^0$随$S$值的减小而增大，且考虑到了$S$种群水平上的最小值，即种群水平$S$最小值越小，$F_i^0$越大；$ F_i^1$受$F_i^0$的影响，当适应度第1个值越大，第2个值也越大，且如果其父代第2个值越大，其自身（子代）第2个值也越大。 对应的代码行为：\n",
    "\n",
    "```python\n",
    "# Function: Fitness\n",
    "def fitness_function(population): \n",
    "    fitness = np.zeros((population.shape[0], 2))\n",
    "    for i in range(0, fitness.shape[0]):\n",
    "        fitness[i,0] = 1/(1+ population[i,-1] + abs(population[:,-1].min()))\n",
    "    fit_sum = fitness[:,0].sum()\n",
    "    fitness[0,1] = fitness[0,0]\n",
    "    for i in range(1, fitness.shape[0]):\n",
    "        fitness[i,1] = (fitness[i,0] + fitness[i-1,1])\n",
    "    for i in range(0, fitness.shape[0]):\n",
    "        fitness[i,1] = fitness[i,1]/fit_sum\n",
    "    return fitness\n",
    "```\n",
    "\n",
    "第8-3步，繁殖（选择（Selection）与交叉（Crossover））\n",
    "\n",
    "* 选择，是选择最适合的个体传递基因给下一代，需要选择两个个体（父母）为$p_1$和$p_2$，选择前可以将前一迭代适应度$F^1$最大的前$n$行替换对应种群的前$n$行。选择的过程是产生随机数$r$，循环适应度矩阵，只要满足$r \\leq F_i^1$，即为选择的适合的父代。代码为：\n",
    "\n",
    "```python\n",
    "# Function: Selection\n",
    "def roulette_wheel(fitness): \n",
    "    ix = 0\n",
    "    random = int.from_bytes(os.urandom(8), byteorder = \"big\") / ((1 << 64) - 1)\n",
    "    for i in range(0, fitness.shape[0]):\n",
    "        if (random <= fitness[i, 1]):\n",
    "          ix = i\n",
    "          break\n",
    "    return ix\n",
    "```\n",
    "\n",
    "* 交叉，为遗传算法中最重要的部分，子代是通过父代$p_1$和$p_2$交换基因产生的， 公式为：$\\begin{aligned}& P_{ij}= \\frac{(1+b)P_{p_1j}+(1-b)P_{p_2j}}{2};\\\\& P_{(i+1)j}= \\frac{(1-b)P_{p_1j}+(1+b)P_{p_2j}}{2}, i<|P| ;  \\\\& b=(2r_b)^{ \\frac{1}{ \\mu +1} }, r \\leq 0.5; \\\\& b= \\left( \\frac{1}{2(1-r_b)}\\right )^{\\frac {1}{\\mu+1}} , r>0.5  \\end{aligned}$，式中，$P_{ij}$为相对父代个体基因，为第$i$个个体的第$j$个基因，$ P_{(i+1)j}$相对子代个体基因，$|P|$为种群的数量，$r$和$r_b$均为[0,1]区间的随机数，$\\mu$为交叉系数。代码为：\n",
    "\n",
    "```python\n",
    "# Function: Offspring\n",
    "def breeding(population, fitness, min_values = [-5,-5], max_values = [5,5], m u = 1, elite = 0, target_function = target_function):\n",
    "    offspring = np.copy(population)\n",
    "    b_offspring = 0\n",
    "    if (elite > 0):\n",
    "        preserve = np.copy(population[population[:,-1].argsort()])\n",
    "        for i in range(0, elite):\n",
    "            for j in range(0, offspring.shape[1]):\n",
    "                offspring[i,j] = preserve[i,j]\n",
    "    for i in range (elite, offspring.shape[0]):\n",
    "        parent_1, parent_2 = roulette_wheel(fitness), roulette_wheel(fitness)\n",
    "        while parent_1 == parent_2:\n",
    "            parent_2 = random.sample(range(0, len(population) - 1), 1)[0]\n",
    "        for j in range(0, offspring.shape[1] - 1):\n",
    "            rand = int.from_bytes(os.urandom(8), byteorder = \"big\") / ((1 << 64) - 1)\n",
    "            rand_b = int.from_bytes(os.urandom(8), byteorder = \"big\") / ((1 << 64) - 1)                                \n",
    "            if (rand <= 0.5):\n",
    "                b_offspring = 2*(rand_b)\n",
    "                b_offspring = b_offspring**(1/(mu + 1))\n",
    "            elif (rand > 0.5):  \n",
    "                b_offspring = 1/(2*(1 - rand_b))\n",
    "                b_offspring = b_offspring**(1/(mu + 1))       \n",
    "            offspring[i,j] = np.clip(((1 + b_offspring)*population[parent_1, j] + (1 - b_offspring)*population[parent_2, j])/2, min_values[j], max_values[j])           \n",
    "            if(i < population.shape[0] - 1):   \n",
    "                offspring[i+1,j] = np.clip(((1 - b_offspring)*population[parent_1, j] + (1 + b_offspring)*population[parent_2, j])/2, min_values[j], max_values[j]) \n",
    "        offspring[i,-1] = target_function(offspring[i,0:offspring.shape[1]-1]) \n",
    "    return offspring\n",
    "```\n",
    "\n",
    "第8-4步，变异（Mutation）\n",
    "\n",
    "某些新生成的后代，基因可以发生随机概率较低的突变，以维持种群的多样性防止过早收敛。公式为：$\\begin{aligned}& P_{ij}=P_{ij}+dm \\\\& dm=(2r_d)^{\\frac{1}{ \\eta +1}}-1, r \\leq 0.5; \\\\& dm=1-(2(1-r_d))^\\frac{1}{\\eta+1},r>0.5 \\end{aligned}$，式中，$ P_{ij}$为种群个体基因，即第$i$个个体的第$j$个基因，为实验数据权重向量中对应的第$j$个决策权重值。$r$和$r_d$为[0,1]随机数，$\\eta$为变异因子，$dm$为变异值。对应代码为：\n",
    "\n",
    "```python\n",
    "# Function: Mutation\n",
    "def mutation(offspring, mutation_rate = 0.1, eta = 1, min_values = [-5,-5], max_values = [5,5], target_function = target_function):\n",
    "    d_mutation = 0            \n",
    "    for i in range (0, offspring.shape[0]):\n",
    "        for j in range(0, offspring.shape[1] - 1):\n",
    "            probability = int.from_bytes(os.urandom(8), byteorder = \"big\") / ((1 << 64) - 1)\n",
    "            if (probability < mutation_rate):\n",
    "                rand = int.from_bytes(os.urandom(8), byteorder = \"big\") / ((1 << 64) - 1)\n",
    "                rand_d = int.from_bytes(os.urandom(8), byteorder = \"big\") / ((1 << 64) - 1)                                     \n",
    "                if (rand <= 0.5):\n",
    "                    d_mutation = 2*(rand_d)\n",
    "                    d_mutation = d_mutation**(1/(eta + 1)) - 1\n",
    "                elif (rand > 0.5):  \n",
    "                    d_mutation = 2*(1 - rand_d)\n",
    "                    d_mutation = 1 - d_mutation**(1/(eta + 1))                \n",
    "                offspring[i,j] = np.clip((offspring[i,j] + d_mutation), min_values[j], max_values[j])\n",
    "        offspring[i,-1] = target_function(offspring[i,0:offspring.shape[1]-1])                        \n",
    "    return offspring\n",
    "```\n",
    "\n",
    "第8-5步，迭代\n",
    "\n",
    "遗传算法通过迭代选择、交叉、变异，更新适应度，使种群个体（决策准则权重）趋于最优解，对应代码为：\n",
    "\n",
    "```python\n",
    "# GA Function\n",
    "def genetic_algorithm(population_size = 5, mutation_rate = 0.1, elite = 0, min_values = [-5,-5], max_values = [5,5], eta = 1, mu = 1, generations = 50, target_function = target_function, verbose = True):    \n",
    "    count = 0\n",
    "    population = initial_population(population_size = population_size, min_values = min_values, max_values = max_values, target_function = target_function)\n",
    "    fitness = fitness_function(population)    \n",
    "    elite_ind = np.copy(population[population[:,-1].argsort()][0,:])\n",
    "    while (count <= generations):  \n",
    "        if (verbose == True):\n",
    "            print('Generation = ', count, ' f(x) = ', elite_ind[-1])  \n",
    "        offspring = breeding(population, fitness, min_values = min_values, max_values = max_values, mu = mu, elite = elite, target_function = target_function) \n",
    "        population = mutation(offspring, mutation_rate = mutation_rate, eta = eta, min_values = min_values, max_values = max_values, target_function = target_function)\n",
    "        fitness = fitness_function(population)\n",
    "        value = np.copy(population[population[:,-1].argsort()][0,:])\n",
    "        if(elite_ind[-1] > value[-1]):\n",
    "            elite_ind = np.copy(value) \n",
    "        count = count + 1       \n",
    "    return elite_ind \n",
    "```\n",
    "\n",
    "由遗传算法求得第7步方程解为$\\begin{bmatrix} 0.33330718 & 0.21991215 & 0.19594158 & 0.25083909 \\end{bmatrix}$。"
   ]
  },
  {
   "cell_type": "markdown",
   "id": "466c9999-f4ce-425b-9e18-3f80206cbf21",
   "metadata": {},
   "source": [
    "第9步，聚合权重（Aggregate Weight）\n",
    "\n",
    "将熵值权重（$q$）和CILOS权重（$W$）聚合得决策准则权重向量，其公式为：$\\omega_j=\\frac{q_j \\cdot w_j}{\\sum_{j=1}^n q_j \\cdot w_j}$。\n",
    "\n",
    "最终求得权重值为： $\\begin{bmatrix} 0.1652 &  0.1884 & 0.3547 & 0.2917 \\end{bmatrix}$。"
   ]
  },
  {
   "cell_type": "code",
   "execution_count": 4,
   "id": "3ddc5b72-565a-44db-b02c-4b7a8bd8f817",
   "metadata": {},
   "outputs": [
    {
     "name": "stdout",
     "output_type": "stream",
     "text": [
      "Generation =  0  f(x) =  0.25174145471050513\n",
      "Generation =  1000  f(x) =  0.005088300343106242\n",
      "Generation =  2000  f(x) =  0.005088300343106242\n",
      "Generation =  3000  f(x) =  0.002048160299766136\n",
      "Generation =  4000  f(x) =  0.002048160299766136\n",
      "Generation =  5000  f(x) =  0.0017442771772882698\n",
      "Generation =  6000  f(x) =  0.0017442771772882698\n",
      "Generation =  7000  f(x) =  0.0017442771772882698\n",
      "Generation =  8000  f(x) =  0.0017442771772882698\n",
      "Generation =  9000  f(x) =  0.0017442771772882698\n",
      "Generation =  10000  f(x) =  0.0017442771772882698\n",
      "Generation =  11000  f(x) =  0.0017442771772882698\n",
      "Generation =  12000  f(x) =  0.0017442771772882698\n",
      "solution:[0.33330718 0.21991215 0.19594158 0.25083909]\n",
      "a1: 0.1652\n",
      "a2: 0.1884\n",
      "a3: 0.3547\n",
      "a4: 0.2917\n"
     ]
    },
    {
     "data": {
      "image/png": "[encoded data removed]",
      "text/plain": [
       "<Figure size 640x480 with 1 Axes>"
      ]
     },
     "metadata": {},
     "output_type": "display_data"
    }
   ],
   "source": [
    "criterion_type=['min','max','min','max']\n",
    "dataset=np.array([[3,100,10,7],\n",
    "                  [2.5,80,8,5],\n",
    "                  [1.8,50,20,11],\n",
    "                  [2.2,70,12,9]])\n",
    "\n",
    "rank=usda_weight.idocriw_method(dataset, criterion_type, size = 20, gen = 12000, graph = True,verbose=1000)"
   ]
  },
  {
   "cell_type": "markdown",
   "id": "4bc66497-d9eb-420c-a3c1-11d1df961d2e",
   "metadata": {},
   "source": [
    "### 3.1.2.7 再现 ELECTRE-I 算法\n",
    "\n",
    "1966年 Bernard Roy 在罗马发表了一篇论文，开发了一个实用的决策系统，现在称之为 ELECTRE。该方法根据备选方案在一组通用决策准则上的得分，对所有备选方案可能配对之间的决策准则关系进行系统分析。结果是衡量每个备选方案优于所有其它备选方案的程度。即若某一备选方案具有多数的决策准则优于其它备选方案且没有任何准则低于不可接受的阈值程度，则该方案优于其它备选方案。该方法需要构建排名靠前的关系，生成满意度/一致性（concordance）和不满意度/不一致（discordance）矩阵（指数）（包含对每个决策准则的相对重要性，即权重的考虑）。 ELECTRE 有6个主要版本，为I、II、III、IV、Tri 和 IS。这里以 ELECTRE-I 为例，再现该算法。\n",
    "\n",
    "再现 ELECTRE-I 算法的实验数据选择*ELECTRE AND DECISION SUPPORT*<sup>[]</sup>提供的案例数据，该案例拟议的高速公路项目有6个备选方案$P_i$，包含5个环境相关的决策准则$Cr_j$，为噪音污染影响（$Cr_1$）、社区和土地隔离影响（$Cr_2$）、空气污染影响（$Cr_3$）、土地利用影响（$Cr_4$）和休闲影响（$Cr_5$）。决策准则的权重为：$\\begin{aligned} & \\begin{array}{llllll}\\text { Criterion } & \\mathrm{Cr} 1 & \\mathrm{Cr} 2 & \\mathrm{Cr} 3 & \\mathrm{Cr} 4 & \\mathrm{Cr} 4\\end{array} \\\\ & \\begin{array}{llllll}\\text { Weighting } & 3 & \\hspace{5pt} 2 & \\hspace{8pt} 3 & \\hspace{8pt}1 & \\hspace{8pt} 1\\end{array} \\\\ & \\end{aligned}$；定性等级评估决策矩阵：\n",
    "\n",
    "$\\begin{array}{|c|ccccc|}\n",
    "\\hline & \\text { Cr1 } & \\text { Cr2 } & \\text { Cr3 } & \\text { Cr4 } & \\text { Cr5 } \\\\\n",
    "\\hline \\text { P1 } & \\text { N } & \\text { VB } & \\text { A } & \\text { N } & \\text { VB } \\\\\n",
    "\\text { P2 } & \\text { SA } & \\text { A } & \\text { A } & \\text { VB } & \\text { N } \\\\\n",
    "\\text { P3 } & \\text { SA } & \\text { N } & \\text { SA } & \\text { VB } & \\text { A } \\\\\n",
    "\\text { P4 } & \\text { VB } & \\text { A } & \\text { N } & \\text { N } & \\text { N } \\\\\n",
    "\\text { P5 } & \\text { VB } & \\text { N } & \\text { B } & \\text { N } & \\text { B } \\\\\n",
    "\\text { P6 } & \\text { VB } & \\text { N } & \\text { VB } & \\text { B } & \\text { B } \\\\\n",
    "\\text { Weighting } & 3 & 2 & 3 & 1 & 1 \\\\\n",
    "\\hline\n",
    "\\end{array}$，\n",
    "\n",
    "其中，评估等级解释为VB（Very Beneficial，非常有益）、B（Beneficial，有益）、N（Neutral，中性）、A（Adverse，不利）和SA（Severely Adverse，严重不利）。将定性等级评估转换为数值，按照如下评分系统：对于$Cr_1,Cr_2,Cr_3$，$VB=20,B=15,N=10,A=5,SA=0$；对于$Cr_4,Cr_5$，$VB=16,B=13,N=10,A=7,SA=4$，因此决策矩阵为：$\\begin{array}{|l|rrrrr|}\n",
    "\\hline & \\text { Cr1 } & \\text { Cr2 } & \\text { Cr3 } & \\text { Cr4 } & \\text { Cr5 } \\\\\n",
    "\\hline \\text { P1 } & 10 & 20 & 5 & 10 & 16 \\\\\n",
    "\\text { P2 } & 0 & 5 & 5 & 16 & 10 \\\\\n",
    "\\text { P3 } & 0 & 10 & 0 & 16 & 7 \\\\\n",
    "\\text { P4 } & 20 & 5 & 10 & 10 & 13 \\\\\n",
    "\\text { P5 } & 20 & 10 & 15 & 10 & 13 \\\\\n",
    "\\text { P6 } & 20 & 10 & 20 & 13 & 13 \\\\\n",
    "\\hline\n",
    "\\end{array}$。\n",
    "\n",
    "第1步，计算满意度矩阵，公式为：$\\begin{aligned} & \\mathrm{C}(\\mathrm{a}, \\mathrm{b})=\\frac{1}{\\mathrm{~W}} \\sum_{\\forall \\mathrm{j}: \\mathrm{g}_{\\mathrm{j}}(\\mathrm{a}) \\geq \\mathrm{g}_{\\mathrm{j}}(\\mathrm{b})} \\mathrm{w}_{\\mathrm{j}} \\\\ & \\mathrm{W}=\\sum_{\\mathrm{j}=1}^{\\mathrm{n}} \\mathrm{w}_{\\mathrm{j}} \\\\ & \\end{aligned}$，$W_j$为决策准则的权重，$\\mathrm{a}, \\mathrm{b}$为两两备选方案，$\\mathrm{g}_{\\mathrm{j}}(\\mathrm{a})$和$\\mathrm{g}_{\\mathrm{j}}(\\mathrm{b}) $为第$j$个决策准则列两两备选方案准则值，如果当前备选方案的决策准则值大于与其比较的备选方案准则值，则将第$j$个决策准则权重相加，并除以权重和。实验数据的满意度矩阵结果为：$\\begin{bmatrix}\n",
    "   1.000 &   0.900 &   0.900 &   0.400 &   0.400 &   0.300\\\\\n",
    "   0.400 &   1.000 &   0.800 &   0.300 &   0.100 &   0.100\\\\\n",
    "   0.100 &   0.600 &   1.000 &   0.300 &   0.300 &   0.300\\\\\n",
    "   0.700 &   0.900 &   0.700 &   1.000 &   0.500 &   0.400\\\\\n",
    "   0.700 &   0.900 &   0.900 &   1.000 &   1.000 &   0.600\\\\\n",
    "   0.700 &   0.900 &   0.900 &   1.000 &   1.000 &   1.000\n",
    "\\end{bmatrix}$。\n",
    "\n",
    "第2步，计算不满意度矩阵。对于$\\mathrm{C}(\\mathrm{a}, \\mathrm{b})$的值位于[0.1]区间，测量备选方案$\\mathrm{a}$优于备选方案$\\mathrm{b}$的强度，然而，$\\mathrm{a}$对$\\mathrm{b}$的任何优势强度都可以被不满意度矩阵$D(a,b)$消弱或抵消，其公式为：$\\begin{gathered}\\mathrm{D}(\\mathrm{a}, \\mathrm{b})=0 \\text { if } g_j(a) \\geq g_j(b) \\forall j \\\\ D(a, b)=\\frac{1}{\\delta} \\max _{\\mathrm{j}}\\left[g_j(b)-g_j(a)\\right] \\\\ \\quad \\delta=\\max _{\\mathrm{c}, \\mathrm{d}, \\mathrm{j}}\\left[\\mathrm{g}_{\\mathrm{j}}(\\mathrm{c})-\\mathrm{g}_{\\mathrm{j}}(\\mathrm{d})\\right]\\end{gathered}$，为计算两两备选方案（$\\mathrm{a}, \\mathrm{b}$）比较下，各个对应决策准则值的差值（为比较项减当前项）的最大值除以$ \\delta$；$ \\delta$为所有两两备选方案的所有决策准则列对应的差值的最大值。实验数据的不满意度矩阵结果为：$\\begin{bmatrix}\n",
    "   0.000 &   0.300 &   0.300 &   0.500 &   0.500 &   0.750\\\\\n",
    "   0.750 &   0.000 &   0.250 &   1.000 &   1.000 &   1.000\\\\\n",
    "   0.500 &   0.250 &   0.000 &   1.000 &   1.000 &   1.000\\\\\n",
    "   0.750 &   0.300 &   0.300 &   0.000 &   0.250 &   0.500\\\\\n",
    "   0.500 &   0.300 &   0.300 &   0.000 &   0.000 &   0.250\\\\\n",
    "   0.500 &   0.150 &   0.150 &   0.000 &   0.000 &   0.000\n",
    "\\end{bmatrix}$。\n",
    "\n",
    "第3步，阈值（threshold），ELECTRE-I 的排名优势关系（outranking relationship）是通过比较具有指定限制（阈值）的满意度矩阵和不满意度矩阵来建立的。$\\hat{\\mathrm{c}}$为满意度阈值，最大值为1；$\\hat{\\mathrm{d}}$为不满意度阈值，最小值为0，因此有：$\\mathrm{aSb} \\text { iff } C(a, b) \\geq \\hat{\\mathrm{c}} \\text { and } \\mathrm{D}(\\mathrm{a}, \\mathrm{b}) \\leq \\hat{\\mathrm{d}}$，式中，$\\mathrm{aSb}$表示备选方案$a$排名高于备选方案$b$，当满意度指数（矩阵）$C(a, b)$大于等于阈值$\\hat{\\mathrm{c}}$，且不满意度指数$D(a,b)$小于等于阈值$\\hat{\\mathrm{d}}$。\n",
    "\n",
    "对于排名优势关系（结构）的比较有如下表述公式：\n",
    "\n",
    "$\\begin{aligned} &  \\mathrm{aSb}\\hspace{5pt} iff \\hspace{5pt} \\mathrm{aPb} \\hspace{5pt} or \\hspace{5pt} \\mathrm{aIb} \\\\&\n",
    "a P b \\Leftrightarrow g(a)>g(b) \\\\&\n",
    "\\mathrm{aIb} \\Leftrightarrow \\mathrm{g}(\\mathrm{a})=\\mathrm{g}(\\mathrm{b}) \\\\&\n",
    "\\forall \\mathrm{a}, \\mathrm{b} \\in \\mathrm{A} \\\\&\n",
    "since \\hspace{5pt} S=P \\cup I, a S b \\Leftrightarrow g(a) \\geq g(b) \\\\&\n",
    "aIb \\hspace{5pt} and \\hspace{5pt} bIc \\Leftrightarrow aIc \\end{aligned}$\n",
    "\n",
    "配置不同的阈值，当$\\hat{\\mathrm{c}}=1.0$，$\\hat{\\mathrm{d}}=0.0$时，排名靠前的核心（kernel）备选方案由1、2、3和6组成（绿色标识），核心之外的为4和5备选方案。且可知$G(\\hat{\\mathrm{c}},\\hat{\\mathrm{d}})$排名图中，$P6>P4,P6>P5,P5>P4$，但$P1,P2,P3$之间及与其它方案之间则不可比较；\n",
    "\n",
    "当$\\hat{\\mathrm{c}}=0.9$，$\\hat{\\mathrm{d}}=0.15$时，排名靠前的核心备选方案由1和6组成，除了$P6$和$P1$不可比之外，$P6$均高于其它备选方案；\n",
    "\n",
    "当$\\hat{\\mathrm{c}}=0.7$，$\\hat{\\mathrm{d}}=0.5$时，排名靠前的核心备选方案仅有$P6$。"
   ]
  },
  {
   "cell_type": "code",
   "execution_count": 5,
   "id": "99c435bf-aa68-425f-a365-50d42a26f0d2",
   "metadata": {},
   "outputs": [
    {
     "data": {
      "image/png": "[encoded data removed]",
      "text/plain": [
       "<Figure size 640x480 with 1 Axes>"
      ]
     },
     "metadata": {},
     "output_type": "display_data"
    }
   ],
   "source": [
    "W_proposed_motorway=[3,2,3,1,1]\n",
    "proposed_motorway=np.array([\n",
    "    [ 10, 20, 5, 10, 16],\n",
    "    [ 0, 5, 5, 16, 10 ],\n",
    "    [ 0, 10, 0, 16, 7 ],\n",
    "    [ 20, 5, 10, 10, 13 ],\n",
    "    [20, 10, 15, 10, 13 ],\n",
    "    [ 20, 10, 20, 13, 13 ]\n",
    "    ])\n",
    "\n",
    "c_hat=1\n",
    "d_hat=0 \n",
    "concordance, discordance, dominance, kernel, dominated=usda_weight.electre_i(proposed_motorway, W = W_proposed_motorway, remove_cycles = True, c_hat = c_hat, d_hat = d_hat, graph = True)"
   ]
  },
  {
   "cell_type": "code",
   "execution_count": 6,
   "id": "dfa871cf-5abb-4567-a3fa-bd9290081707",
   "metadata": {},
   "outputs": [
    {
     "data": {
      "image/png": "[encoded data removed]",
      "text/plain": [
       "<Figure size 640x480 with 1 Axes>"
      ]
     },
     "metadata": {},
     "output_type": "display_data"
    }
   ],
   "source": [
    "c_hat=0.9\n",
    "d_hat=0.15 \n",
    "concordance, discordance, dominance, kernel, dominated=usda_weight.electre_i(proposed_motorway, W = W_proposed_motorway, remove_cycles = True, c_hat = c_hat, d_hat = d_hat, graph = True)"
   ]
  },
  {
   "cell_type": "code",
   "execution_count": 7,
   "id": "49df2e91-e17c-4f12-b757-f23ed94fab11",
   "metadata": {},
   "outputs": [
    {
     "data": {
      "image/png": "[encoded data removed]",
      "text/plain": [
       "<Figure size 640x480 with 1 Axes>"
      ]
     },
     "metadata": {},
     "output_type": "display_data"
    }
   ],
   "source": [
    "c_hat=0.7\n",
    "d_hat=0.5 \n",
    "concordance, discordance, dominance, kernel, dominated=usda_weight.electre_i(proposed_motorway, W = W_proposed_motorway, remove_cycles = True, c_hat = c_hat, d_hat = d_hat, graph = True)"
   ]
  },
  {
   "cell_type": "code",
   "execution_count": null,
   "id": "e4348881-4962-4c3e-b378-7c5ac03deead",
   "metadata": {},
   "outputs": [],
   "source": []
  },
  {
   "cell_type": "code",
   "execution_count": null,
   "id": "72ee6862-5d4d-4aac-a816-cbd04fc16f21",
   "metadata": {},
   "outputs": [],
   "source": []
  },
  {
   "cell_type": "code",
   "execution_count": null,
   "id": "393fcf83-a44a-494b-988a-ca7ee7eb8fd1",
   "metadata": {},
   "outputs": [],
   "source": []
  },
  {
   "cell_type": "code",
   "execution_count": null,
   "id": "1ce1064c-0522-4a3e-8d8b-a9dabc181737",
   "metadata": {},
   "outputs": [],
   "source": []
  },
  {
   "cell_type": "code",
   "execution_count": null,
   "id": "e46bf34a-5a56-49cc-b2f7-650360647913",
   "metadata": {},
   "outputs": [],
   "source": []
  },
  {
   "cell_type": "code",
   "execution_count": null,
   "id": "d2570e7b-7637-49c2-8e4e-2383f5f9d0e6",
   "metadata": {},
   "outputs": [],
   "source": []
  },
  {
   "cell_type": "code",
   "execution_count": null,
   "id": "b57f314e-9fe9-48c0-a1b8-05c43d4d940d",
   "metadata": {},
   "outputs": [],
   "source": []
  },
  {
   "cell_type": "code",
   "execution_count": null,
   "id": "a45fce65-2aa8-46a3-a070-b65946fb567b",
   "metadata": {},
   "outputs": [],
   "source": []
  },
  {
   "cell_type": "code",
   "execution_count": null,
   "id": "9e56d7bf-c360-4a63-9b75-4ba997dee3d9",
   "metadata": {
    "tags": []
   },
   "outputs": [],
   "source": []
  },
  {
   "cell_type": "code",
   "execution_count": null,
   "id": "dff288a3-9462-4e30-9d75-75b57999bd57",
   "metadata": {},
   "outputs": [],
   "source": []
  },
  {
   "cell_type": "code",
   "execution_count": null,
   "id": "c3d59b07-6c6e-46fd-858b-818538cb6ab1",
   "metadata": {},
   "outputs": [],
   "source": []
  },
  {
   "cell_type": "code",
   "execution_count": null,
   "id": "5ba635a5-dcc0-4ce6-82a8-d2af05911a41",
   "metadata": {},
   "outputs": [],
   "source": []
  },
  {
   "cell_type": "code",
   "execution_count": null,
   "id": "88976b22-36e9-4624-8bbd-c3f6db933b5b",
   "metadata": {},
   "outputs": [],
   "source": []
  },
  {
   "cell_type": "code",
   "execution_count": null,
   "id": "25b3d338-dc50-42d0-94da-ca505ec969dd",
   "metadata": {},
   "outputs": [],
   "source": []
  }
 ],
 "metadata": {
  "kernelspec": {
   "display_name": "Python 3 (ipykernel)",
   "language": "python",
   "name": "python3"
  },
  "language_info": {
   "codemirror_mode": {
    "name": "ipython",
    "version": 3
   },
   "file_extension": ".py",
   "mimetype": "text/x-python",
   "name": "python",
   "nbconvert_exporter": "python",
   "pygments_lexer": "ipython3",
   "version": "3.9.16"
  }
 },
 "nbformat": 4,
 "nbformat_minor": 5
}
