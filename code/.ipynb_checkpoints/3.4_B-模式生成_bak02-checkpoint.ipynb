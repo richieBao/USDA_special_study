{
 "cells": [
  {
   "cell_type": "markdown",
   "id": "416e3345-5c41-447d-969d-d024b1654962",
   "metadata": {},
   "source": [
    "Created on Sun Apr  9 11:55:43 2023 @author: Richie Bao-caDesign设计(cadesign.cn)"
   ]
  },
  {
   "cell_type": "markdown",
   "id": "982c535b-6bdb-45b8-8833-ed7d89ecce1b",
   "metadata": {},
   "source": [
    "# 3.4-B 模式生成：可以反映地理空间尺度的 SytleGAN\n",
    "\n",
    "在研究城市地理空间模式时，对于高分辨率航拍（遥感）影像而言，如果直接应用原始的生成对抗网络（GAN），即使使用具有更好收敛效果的 WGAN，通常生成图像也很难达到理想效果。这主要因为地物对象具有不同的尺度（尺寸），应考虑有与SIFT（Scale-Invariant Feature Transform）（见* 图像特征提取与动态街景视觉感知*一章）算法所体现的尺度空间（scale space），能够改进生成数据（图像）的质量，也能够进一步验证尺度对城市地理空间模式的影响。\n",
    "\n",
    "GAN 得以快速的发展，被广泛的应用于不同的领域，反应有尺度空间（粒度，图像分辨率）的模型有 PGGAN（Progressive growing of GANs）<sup>Karras, T., Aila, T., Laine, S. & Lehtinen, J. Progressive Growing of GANs for Improved Quality, Stability, and Variation. (2017).</sup> ，及基于 PGGAN 模型发展的 StyleGAN（Style-Based Generator Architecture for Generative Adversarial Networks）系列，例如 StyleGAN<sup>[Karras, T., Laine, S. & Aila, T. A Style-Based Generator Architecture for Generative Adversarial Networks. (2018).]</sup>、StyleGAN2<sup>[Karras, T. et al. Analyzing and Improving the Image Quality of StyleGAN. (2019).]</sup>、StyleGAN3<sup>[Karras, T. et al. Alias-Free Generative Adversarial Networks. https://nvlabs.github.io/stylegan3.]</sup>，及基于 StyleGAN 系列用于火星影像生成的 MarsGAN<sup>[MarsGAN, <https://github.com/kheyer/MarsGAN>]</sup> 等。此次实验以 StyleGAN（1）为基础，结合作者提供的代码<sup>[StyleGAN — Official TensorFlow Implementation, <https://github.com/NVlabs/stylegan>]</sup>（TensorFlow 版本），用迁移的 Pytorch 版本<sup>StyleGAN.pytorch, <https://github.com/huangzh13/StyleGAN.pytorch></sup>计算，从地理空间数据视角解释 StyleGAN，并用于高分辨率航拍影像的生成、模式变化及土地覆盖类型（Land Cover,LC）、DEM 等生成实验。\n",
    "\n",
    "## 3.4.1 StyleGAN 阐释和 NAIP 航拍影像数据生成    \n",
    "\n",
    "\n",
    "### 3.4.1.1 迁移 StyleGAN\n",
    "    \n",
    "为了方便实验，将 StyleGAN（ Pytorch 版本） 迁移至 USDA 库，位于`sda.migrated_project.stylegan`模块之下。迁移库之前需要验证原有库是否运行正常，测试无误后才可迁移。迁移过程中，通常需要根据未来操作模式进行对应的调整，例如 原 StyleGAN 使用[argparse](https://docs.python.org/3/library/argparse.html)配置部分参数。如果未来在 Jupyter[Lab] Notebook 下运行代码（例如用 CoLab 实验），则调整参数输入方式均为 [yacs](yacs)库提供的属性字典方式，基本同 `usda_utils.AttrDict() `提供的方法，但是增加了更多的功能，方便参数调用、合并、可变（mutable）和不可变（immutable）切换等；同时，需要调整模块、类、函数等调入的路径，配置`__init__.py`文件，保证 USDA 库下可以调用 StyleGAN 代码工具；如果为了增加代码的弹性，例如可以单独调用 StyleGAN 的$G$或$D$网络单独的块（block）或层（layer），如网络块`InputBlock`、`GSynthesisBlock`、`DiscriminatorTop`和`DiscriminatorBlock`等，如单独层`PixelNormLayer`、`Upscale2d`、`Downscale2d`、`EqualizedLinear`、`EqualizedConv2d`、`NoiseLayer`、`StyleMod`、`LayerEpilogue`、`BlurLayer`、`View`、`StddevLayer`和`Truncation`等，则可以将其包括在`__init__.py`下。\n",
    "    \n",
    "下述代码为迁移 StyleGAN 至 USDA 库，从 USDA 库调用 StyleGAN 生成 NAIP 航拍影像数据的方式。影像数据分辨率为 512，数量为 20,000张（影像样本数据生成方法具体查看*3.4-A 模式生成：从聚类模式特征到生成对抗网络和计算分析工具的建构*一章）。\n",
    "    \n",
    "> 最终计算在 CoLab 中结合 Google driver（个人云存储空间和文件共享平台） 完成。"
   ]
  },
  {
   "cell_type": "code",
   "execution_count": 147,
   "id": "085a898a-8296-4b99-ade2-8ab24b41f2a8",
   "metadata": {
    "tags": []
   },
   "outputs": [
    {
     "name": "stdout",
     "output_type": "stream",
     "text": [
      "The autoreload extension is already loaded. To reload it, use:\n",
      "  %reload_ext autoreload\n"
     ]
    }
   ],
   "source": [
    "# IPython extension to reload modules before executing user code.\n",
    "%load_ext autoreload \n",
    "# Reload all modules (except those excluded by %aimport) every time before executing the Python code typed.\n",
    "%autoreload 2 \n",
    "from usda.migrated_project.stylegan import Stylegan_train\n",
    "import usda.migrated_project.stylegan.data as sgan_data \n",
    "import usda.migrated_project.stylegan.extracted_funcs as sgan_gadgets\n",
    "import usda.migrated_project.stylegan.models as sgan_model\n",
    "from usda.maths import plot_single_function\n",
    "\n",
    "import torch\n",
    "import math\n",
    "import numpy as np\n",
    "import matplotlib.pyplot as plt\n",
    "import pandas as pd\n",
    "import random"
   ]
  },
  {
   "cell_type": "markdown",
   "id": "45721436-bf96-4067-aca6-12addbd1867c",
   "metadata": {},
   "source": [
    "超参数（Hyperparameter）的配置尽量选择原作者已经实验验证可行的参数，如需调整参数，则以原参数为参照调试至满足不同分析目的，或为适应不同 GPU 算力要求。"
   ]
  },
  {
   "cell_type": "code",
   "execution_count": 3,
   "id": "7f31a428-9227-4945-953a-c96b9eff7059",
   "metadata": {},
   "outputs": [
    {
     "name": "stdout",
     "output_type": "stream",
     "text": [
      "2023-04-15 09:48:10 INFO: Using 1 GPUs.\n",
      "2023-04-15 09:48:10 INFO: Training on NVIDIA GeForce RTX 2080 with Max-Q Design.\n",
      "\n",
      "2023-04-15 09:48:12 INFO: Training from scratch...\n"
     ]
    }
   ],
   "source": [
    "sgan=Stylegan_train()\n",
    "\n",
    "sgan.opt.output_dir=r'I:\\model_ckpts\\styleGAN4naip\\sgan'\n",
    "sgan.opt.dataset.img_dir=r'I:\\data\\NAIP4StyleGAN\\naip_1024' \n",
    "sgan.opt.dataset.folder=False\n",
    "sgan.opt.dataset.resolution=1024\n",
    "sgan.opt.structure='linear'\n",
    "sgan.opt.model.gen.mapping_layers = 8 # Mapping network 部分全连接层数量配置，默认为 8（为 StyleGAN 作者参数配置）；StyleGAN代码 Pytorch 版作者默认配置为 4\n",
    "\n",
    "sgan.opt.sched.batch_sizes = [128, 128, 128, 64, 32, 16, 8, 4, 2] # StyleGAN代码 Pytorch 版作者配置，（batches for oen 1080Ti with 11G memory）\n",
    "sgan.opt.epochs=[40,80,80,80,80,160,160,160] \n",
    "\n",
    "sgan.configuration()\n",
    "sgan.build_dataset()\n",
    "sgan.init_network()"
   ]
  },
  {
   "cell_type": "code",
   "execution_count": 114,
   "id": "54462bb3-386b-4ee3-a005-f5bc43888ad1",
   "metadata": {},
   "outputs": [
    {
     "name": "stdout",
     "output_type": "stream",
     "text": [
      "2023-04-15 20:47:40 INFO: Starting the training process ... \n",
      "\n",
      "2023-04-15 20:47:40 INFO: Currently working on depth: 1\n",
      "2023-04-15 20:47:40 INFO: Current resolution: 4 x 4\n",
      "2023-04-15 20:47:40 INFO: Epoch: [1]\n",
      "2023-04-15 20:49:23 INFO: Elapsed: [0:01:43] Step: 1  Batch: 1  D_Loss: 1206.428467  G_Loss: 0.667010\n",
      "2023-04-15 20:49:28 INFO: Elapsed: [0:01:48] Step: 3  Batch: 3  D_Loss: 400.732208  G_Loss: 0.000000\n",
      "2023-04-15 20:49:34 INFO: Elapsed: [0:01:54] Step: 6  Batch: 6  D_Loss: 620.475159  G_Loss: 0.000003\n",
      "2023-04-15 20:49:48 INFO: Elapsed: [0:02:08] Step: 9  Batch: 9  D_Loss: 513.620605  G_Loss: 0.040638\n",
      "2023-04-15 20:49:53 INFO: Elapsed: [0:02:13] Step: 12  Batch: 12  D_Loss: 418.673462  G_Loss: 0.000001\n",
      "2023-04-15 20:50:06 INFO: Elapsed: [0:02:26] Step: 15  Batch: 15  D_Loss: 400.989105  G_Loss: 0.047073\n",
      "2023-04-15 20:50:21 INFO: Elapsed: [0:02:41] Step: 18  Batch: 18  D_Loss: 395.181335  G_Loss: 0.001957\n",
      "2023-04-15 20:50:36 INFO: Elapsed: [0:02:56] Step: 21  Batch: 21  D_Loss: 311.047089  G_Loss: 0.050092\n",
      "2023-04-15 20:50:41 INFO: Elapsed: [0:03:01] Step: 24  Batch: 24  D_Loss: 294.756195  G_Loss: 0.006780\n",
      "2023-04-15 20:50:55 INFO: Time taken for epoch: 0:03:15\n",
      "\n",
      "2023-04-15 20:50:58 INFO: Saving the model to: I:\\model_ckpts\\styleGAN4naip\\sgan\\models\\GAN_GEN_0_1.pth\n",
      "\n",
      "2023-04-15 20:51:08 INFO: Saving the model to: I:\\model_ckpts\\styleGAN4naip\\sgan\\models\\GAN_GEN_SHADOW_0_1.pth\n",
      "\n",
      "2023-04-15 20:51:08 INFO: Epoch: [2]\n",
      "2023-04-15 20:51:53 INFO: Elapsed: [0:04:13] Step: 26  Batch: 1  D_Loss: 350.969910  G_Loss: 4.338307\n",
      "2023-04-15 20:51:59 INFO: Elapsed: [0:04:19] Step: 28  Batch: 3  D_Loss: 408.976135  G_Loss: 0.001479\n",
      "2023-04-15 20:52:07 INFO: Elapsed: [0:04:27] Step: 31  Batch: 6  D_Loss: 303.359192  G_Loss: 0.050076\n",
      "2023-04-15 20:52:16 INFO: Elapsed: [0:04:36] Step: 34  Batch: 9  D_Loss: 238.214066  G_Loss: 0.195501\n",
      "2023-04-15 20:52:22 INFO: Elapsed: [0:04:42] Step: 37  Batch: 12  D_Loss: 292.109283  G_Loss: 0.738558\n",
      "2023-04-15 20:52:28 INFO: Elapsed: [0:04:48] Step: 40  Batch: 15  D_Loss: 352.647827  G_Loss: 10.032070\n",
      "2023-04-15 20:52:36 INFO: Elapsed: [0:04:55] Step: 43  Batch: 18  D_Loss: 283.441895  G_Loss: 0.100075\n",
      "2023-04-15 20:52:43 INFO: Elapsed: [0:05:03] Step: 46  Batch: 21  D_Loss: 221.851959  G_Loss: 7.230008\n",
      "2023-04-15 20:52:48 INFO: Elapsed: [0:05:08] Step: 49  Batch: 24  D_Loss: 250.341690  G_Loss: 4.070600\n",
      "2023-04-15 20:52:52 INFO: Time taken for epoch: 0:01:43\n",
      "\n",
      "2023-04-15 20:52:52 INFO: Epoch: [3]\n",
      "2023-04-15 20:53:40 INFO: Elapsed: [0:06:00] Step: 51  Batch: 1  D_Loss: 274.097321  G_Loss: 3.526854\n",
      "2023-04-15 20:53:46 INFO: Elapsed: [0:06:06] Step: 53  Batch: 3  D_Loss: 266.718628  G_Loss: 4.161153\n",
      "2023-04-15 20:53:54 INFO: Elapsed: [0:06:14] Step: 56  Batch: 6  D_Loss: 185.605133  G_Loss: 0.339181\n",
      "2023-04-15 20:54:02 INFO: Elapsed: [0:06:21] Step: 59  Batch: 9  D_Loss: 149.482346  G_Loss: 4.203336\n",
      "2023-04-15 20:54:07 INFO: Elapsed: [0:06:27] Step: 62  Batch: 12  D_Loss: 154.534409  G_Loss: 0.022499\n",
      "2023-04-15 20:54:14 INFO: Elapsed: [0:06:34] Step: 65  Batch: 15  D_Loss: 202.237518  G_Loss: 3.504874\n",
      "2023-04-15 20:54:22 INFO: Elapsed: [0:06:42] Step: 68  Batch: 18  D_Loss: 238.213638  G_Loss: 1.971353\n",
      "2023-04-15 20:54:30 INFO: Elapsed: [0:06:50] Step: 71  Batch: 21  D_Loss: 239.562363  G_Loss: 2.150537\n",
      "2023-04-15 20:54:35 INFO: Elapsed: [0:06:55] Step: 74  Batch: 24  D_Loss: 186.210709  G_Loss: 2.603345\n",
      "2023-04-15 20:54:39 INFO: Time taken for epoch: 0:01:47\n",
      "\n",
      "2023-04-15 20:54:39 INFO: Epoch: [4]\n"
     ]
    },
    {
     "name": "stderr",
     "output_type": "stream",
     "text": [
      "\n",
      "KeyboardInterrupt\n",
      "\n"
     ]
    }
   ],
   "source": [
    "sgan.train()"
   ]
  },
  {
   "cell_type": "raw",
   "id": "1140042c-22ac-40e1-9f49-4b2f1e28f291",
   "metadata": {},
   "source": [
    "2023-04-14 12:26:33 INFO: Starting the training process ... \n",
    "\n",
    "2023-04-14 12:26:33 INFO: Currently working on depth: 1\n",
    "2023-04-14 12:26:33 INFO: Current resolution: 4 x 4\n",
    "2023-04-14 12:26:33 INFO: Epoch: [1]\n",
    "2023-04-14 12:27:49 INFO: Elapsed: [0:01:16] Step: 1  Batch: 1  D_Loss: 969.734863  G_Loss: 1.162666\n",
    "2023-04-14 12:28:10 INFO: Elapsed: [0:01:37] Step: 16  Batch: 16  D_Loss: 445.785675  G_Loss: 0.001314\n",
    "2023-04-14 12:28:40 INFO: Elapsed: [0:02:07] Step: 32  Batch: 32  D_Loss: 383.339752  G_Loss: 0.441991\n",
    "..."
   ]
  },
  {
   "cell_type": "markdown",
   "id": "3a49bca7-1323-4bd8-a034-16e3fd9a1f2d",
   "metadata": {},
   "source": [
    "例举了各深度训练，开始和结束轮次生成图像。从各深度训练对应的生成图像可以清晰辨别出图像尺度空间（粒度，分辨率）的作用，及各深度基于上一深度训练结果的变化，虽然当前深度为上一深度像素单元的4倍，但各深度开始生成的图像与上一深度类似，即扩展的4倍栅格单元数值之间基本无差异，随着训练的进行，新扩展的栅格单元数值逐渐向真实图像当前深度的分布靠拢，扩展的4倍栅格单元数值之间产生差异变化。从生成结果可判断，使用 StyleGAN 模型训练高分辨率航拍影像能够获得真实影像数据分布，从而生成逼真的“假”图像。那么推断将其用于不同特定地貌、具有不同特征城市模式样本的训练是可行的。\n",
    "\n",
    "| 深度（depth）（像素，resolution）  | 开始  | 结束  |\n",
    "|---|---|---|\n",
    "| 0 （4） | <img src=\"../imgs/3_4_b/gen_0_1_1.png\" height='auto' width='auto' title=\"caDesign\">   | <img src=\"../imgs/3_4_b/gen_0_40_144.png\" height='auto' width='auto' title=\"caDesign\">   |\n",
    "| 1 （8）|  <img src=\"../imgs/3_4_b/gen_1_1_1.png\" height='auto' width='auto' title=\"caDesign\">   | <img src=\"../imgs/3_4_b/gen_1_80_144.png\" height='auto' width='auto' title=\"caDesign\">   |\n",
    "| 2  (16) | <img src=\"../imgs/3_4_b/gen_2_1_1.png\" height='auto' width='auto' title=\"caDesign\">   | <img src=\"../imgs/3_4_b/gen_2_80_144.png\" height='auto' width='auto' title=\"caDesign\">   |\n",
    "| 3  (32)|  <img src=\"../imgs/3_4_b/gen_3_1_1.png\" height='auto' width='auto' title=\"caDesign\">   | <img src=\"../imgs/3_4_b/gen_3_80_288.png\" height='auto' width='auto' title=\"caDesign\">   |\n",
    "| 4  (64)|  <img src=\"../imgs/3_4_b/gen_4_1_1.png\" height='auto' width='auto' title=\"caDesign\">   | <img src=\"../imgs/3_4_b/gen_4_80_567.png\" height='auto' width='auto' title=\"caDesign\">   |\n",
    "| 5  (128)| <img src=\"../imgs/3_4_b/gen_5_1_1.png\" height='auto' width='auto' title=\"caDesign\">   | <img src=\"../imgs/3_4_b/gen_5_8_1134.png\" height='auto' width='auto' title=\"caDesign\">   |\n",
    "| 6  (256)|   |   |\n",
    "| 7  (512)|   |   |"
   ]
  },
  {
   "cell_type": "markdown",
   "id": "073c4aba-3719-4724-bb37-91d9c2b8ebd8",
   "metadata": {},
   "source": [
    "### 3.4.1.2 应用 StyleGAN 于地理空间数据分析上的阐释\n",
    "\n",
    "基于 StyleGAN 作者 Karras, T.等人的研究论文<sup>[]</sup>，StyleGAN 的PyTroch版本代码<sup>[]</sup>， 和StyleGAN 架构解读<sup>[StyleGAN 架构解读, <https://blog.csdn.net/weixin_43135178/article/details/116331140>]</sup>，从地理空间数据分析方向阐释 StyleGAN 架构和关键细节。为了契合应用 StyleGAN 于地理空间数据分析的意义，调整了个别名词表述的方式，例如将“风格（style）”表述为“尺度空间”；对应不同分辨率的风格表述为尺度空间“深度（depth）”；对人脸的风格特征描述，例如人脸姿态、形状、发型特征、纹理和色彩等，转化为对地物或相关地理空间数据表达对象的描述，例如建筑、街道、植被和水体等；相应，不同分辨率的特征描述转化为不同尺度空间深度或不同空间尺度下模式结构特征的描述。\n",
    "    \n",
    "PGGAN 网络示意图<sup>[]</sup>说明 PGGAN 训练从具有$4 \\times 4$ 低空间分辨率的的生成器$G$和判别器$D$开始，并随着训练的进行，逐渐向$G$和$D$中添加高分辨率的层（从图左至右），从而提高生成图像的空间分辨率。整个过程，所有图层都保持可训练状态。$N \\times N$为在$N \\times N$空间分辨率上运行的卷积层。虽然 PGGAN 能够生成高分辨率高品质的图像，但是不能分析不同空间分辨率的特征分布，也不能控制生成图像的样式趋向，这将限制基于尺度深度变化地理空间模式结构特征分析，及限制生成可控有意义的地理空间模式用于规划参考。     \n",
    "    \n",
    "<img src=\"../imgs/3_4_b/3_4_b_04.png\" height='auto' width='auto' title=\"caDesign\"> \n",
    "    \n",
    "SytleGAN 则借助构建的`Mapping network`层（下图<sup>[]</sup>）将各个空间尺度对应的地理空间特征分解开来（即从各个深度表征的图像特征相互纠缠（ entangle）到尽量相互独立的解缠过程（disentangle）），可以分析不同空间尺度特征和控制不同深度对生成（图像）空间模式的影响。\n",
    "    \n",
    "因为增加了`Mapping network`层，因此 StyleGAN 的$G$网络总共包括两个部分，`Mapping network，（MN）`映射网络和`Synthesis network，（SN）`合成网络。\n",
    "    \n",
    "<img src=\"../imgs/3_4_b/3_4_b_03.png\" height='auto' width='500' title=\"caDesign\">     \n",
    "    \n",
    "#### 1) MN 映射网络\n",
    "    \n",
    "MN 输入为属于隐藏（潜在）空间（latent space）$\\mathcal{Z}$的隐藏特征（编码）（latent code）$\\mathbf{z}$（$\\mathbf{z} \\in \\mathcal{Z}$），$\\mathbf{z}$即为 512 维的噪声向量。 $\\mathbf{z}$通过 MN 的非线性映射网络$f: \\mathcal{Z} \\rightarrow \\mathcal{W} $ （为8层全连接层（fully connected layer，FC，也称为 Dense layer）的多层感知机（ multi-layer perceptron，MLP ））映射到$ \\mathbf{w}$（$\\mathbf{w} \\in \\mathcal{W}$）（保持512 维）。图中由$A$表示学习到的仿射变换（affine transform）。$A$被接入到 SN 合成网络，因为从深度0到8（对应空间分辨率为 4、8、16、32、64、128、256、512、1024）总共9个生成阶段，每个阶段对接2个$A$控制向量，因此总共18个空间尺度深度特征控制向量，通过$f$映射可以尽量避免这18个$A$之间不同深度的特征纠缠，即表征地物对象不同深度的分布特征会尽量分离。\n",
    "    \n",
    "因为 NAIP 航拍影像的高空分辨率为 1m，样本制作采样的单元大小为512，因此对应到空间尺度深度，深度7（512）的实际地理空间分辨率为1m，由$2^n, n \\in \\{2,3,4,5,6,7,8\\}$对应逆序计算，深度6（256）的地理空间分辨率为4m， 深度5（128）为8m，深度4（64）为16m，深度3（32）为32m，深度2（16）为64m，深度1（8）为128m，至深度0（4）为256m。那么，\n",
    "    \n",
    "1. 对于空间尺度深度7，可以表征的地物尺寸约$1 \\times 1$m，对象有道路划线、垃圾桶等城市设施、人等；\n",
    "2. 对于深度6，可以表征的地物尺寸约$4 \\times 4$m，对象有车辆、单株植被等；\n",
    "3. 深度5，可以表征的地物尺寸约$8 \\times 8$m，对象有小径、单株植被、建筑顶的空调系统等；\n",
    "4. 深度4，可以表征的地物尺寸约$16 \\times 16$m，对象有独栋住宅等建筑、成片的植被、城市道路等；\n",
    "5. 深度3，可以表征的地物尺寸约$32 \\times 32$m，对象有较大的建筑体、适中的停车场、街头绿地等；\n",
    "6. 深度2，可以表征的地物尺寸约$54 \\times 64$m，对象有大型建筑、室外活动场地、成片的绿地等；\n",
    "7. 深度1，可以表征的地物尺寸约$128 \\times 128$m，对象有小块街区、小块绿地或林冠等；\n",
    "8. 深度0，可以表征的地物尺寸约$256 \\times 256$m，对象有体育场馆等特大建筑、中等街区、中等绿地或活动空间等。\n",
    "    \n",
    "通过`sgan_model.GMapping()`方法调出 MN 映射网络，因为配置了`mapping_layers`参数为 8，因此总共有8个全连接层`EqualizedLinear`，该层的定义由`class EqualizedLinear(nn.Module)`类调用`torch.nn.functional.linear(input, weight, bias=None) → Tensor`实现。激活函数使用的为`LeakyReLU`。"
   ]
  },
  {
   "cell_type": "code",
   "execution_count": 5,
   "id": "2a6e499c-e557-44f1-b415-62b3c837a28c",
   "metadata": {},
   "outputs": [
    {
     "data": {
      "text/plain": [
       "GMapping(\n",
       "  (map): Sequential(\n",
       "    (pixel_norm): PixelNormLayer()\n",
       "    (dense0): EqualizedLinear()\n",
       "    (dense0_act): LeakyReLU(negative_slope=0.2)\n",
       "    (dense1): EqualizedLinear()\n",
       "    (dense1_act): LeakyReLU(negative_slope=0.2)\n",
       "    (dense2): EqualizedLinear()\n",
       "    (dense2_act): LeakyReLU(negative_slope=0.2)\n",
       "    (dense3): EqualizedLinear()\n",
       "    (dense3_act): LeakyReLU(negative_slope=0.2)\n",
       "    (dense4): EqualizedLinear()\n",
       "    (dense4_act): LeakyReLU(negative_slope=0.2)\n",
       "    (dense5): EqualizedLinear()\n",
       "    (dense5_act): LeakyReLU(negative_slope=0.2)\n",
       "    (dense6): EqualizedLinear()\n",
       "    (dense6_act): LeakyReLU(negative_slope=0.2)\n",
       "    (dense7): EqualizedLinear()\n",
       "    (dense7_act): LeakyReLU(negative_slope=0.2)\n",
       "  )\n",
       ")"
      ]
     },
     "execution_count": 5,
     "metadata": {},
     "output_type": "execute_result"
    }
   ],
   "source": [
    "mapping_net=sgan_model.GMapping()\n",
    "mapping_net"
   ]
  },
  {
   "cell_type": "markdown",
   "id": "e2c49296-f41c-4437-b7f6-907a308e7711",
   "metadata": {},
   "source": [
    "训练深度不同，空间尺度大小不同，输入神经元数量（`input_size`）不同，为了保持不同深度趋于等价学习率的效果，调整（归一化） MN 层权重，深度较浅时（趋向 深度0），具有较大的学习率；深度较深时（趋向 深度8），学习率降低。调整的方式上，通过配置`use_wscale`参数，固定`init_std`或`w_mul`，而变化另一个，两种方式结果相同（即$init\\_std \\times w\\_mul$结果值同）。在类`EqualizedLinear`中对应调整权重大小的位置分别为`self.weight = torch.nn.Parameter(torch.randn(output_size, input_size) * init_std)`和`F.linear(x, self.weight * self.w_mul, bias)`。\n",
    "\n",
    "从类`EqualizedLinear`中提取归一化学习率的代码，定义为`equalized_lr()`函数，演示数值变化如下："
   ]
  },
  {
   "cell_type": "code",
   "execution_count": 59,
   "id": "9ac3d1f7-39da-49fa-b11a-3c14d2bdc7db",
   "metadata": {},
   "outputs": [
    {
     "name": "stdout",
     "output_type": "stream",
     "text": [
      "input size=4;\tinit_std=1.25;\tw_mul=0.5656854249492381\n",
      "input size=8;\tinit_std=1.25;\tw_mul=0.40000000000000013\n",
      "input size=16;\tinit_std=1.25;\tw_mul=0.28284271247461906\n",
      "input size=32;\tinit_std=1.25;\tw_mul=0.20000000000000007\n",
      "input size=64;\tinit_std=1.25;\tw_mul=0.14142135623730953\n",
      "input size=128;\tinit_std=1.25;\tw_mul=0.10000000000000003\n",
      "input size=256;\tinit_std=1.25;\tw_mul=0.07071067811865477\n",
      "input size=512;\tinit_std=1.25;\tw_mul=0.05000000000000002\n",
      "input size=1024;\tinit_std=1.25;\tw_mul=0.03535533905932738\n",
      "--------------------------------------------------\n",
      "input size=4;\tinit_std=0.8838834764831844;\tw_mul=0.8\n",
      "input size=8;\tinit_std=0.6250000000000001;\tw_mul=0.8\n",
      "input size=16;\tinit_std=0.4419417382415922;\tw_mul=0.8\n",
      "input size=32;\tinit_std=0.31250000000000006;\tw_mul=0.8\n",
      "input size=64;\tinit_std=0.2209708691207961;\tw_mul=0.8\n",
      "input size=128;\tinit_std=0.15625000000000003;\tw_mul=0.8\n",
      "input size=256;\tinit_std=0.11048543456039805;\tw_mul=0.8\n",
      "input size=512;\tinit_std=0.07812500000000001;\tw_mul=0.8\n",
      "input size=1024;\tinit_std=0.05524271728019903;\tw_mul=0.8\n"
     ]
    }
   ],
   "source": [
    "def equalized_lr(input_size,gain=np.sqrt(2),use_wscale=True,lrmul=0.8):\n",
    "    he_std=gain * input_size ** (-0.5)  # He init\n",
    "    if use_wscale:\n",
    "        init_std = 1.0 / lrmul\n",
    "        w_mul = he_std * lrmul\n",
    "    else:\n",
    "        init_std = he_std / lrmul\n",
    "        w_mul = lrmul      \n",
    "        \n",
    "    print(f'input size={input_size};\\tinit_std={init_std};\\tw_mul={w_mul}')    \n",
    "\n",
    "resolution=[pow(2,n) for n in range(2,11)]    \n",
    "for res in resolution:\n",
    "    equalized_lr(res,use_wscale=True)\n",
    "print('-'*50)\n",
    "for res in resolution:\n",
    "    equalized_lr(res,use_wscale=False)       "
   ]
  },
  {
   "cell_type": "markdown",
   "id": "266afe4f-bf43-4411-9a72-aa7420875947",
   "metadata": {},
   "source": [
    "下面构建了数据集和数据加载器，提取一批样本用于实验演示。输入的$\\mathbf{z}$对象为`gan_input`，批大小为128，维度为512，均值为0，方差为1标准正态分布的噪声向量，out $_i \\sim \\mathcal{N}(0,1)$。"
   ]
  },
  {
   "cell_type": "code",
   "execution_count": 14,
   "id": "69a90a75-bc7d-4445-96e8-709b96a13265",
   "metadata": {
    "tags": []
   },
   "outputs": [
    {
     "name": "stdout",
     "output_type": "stream",
     "text": [
      "torch.Size([128, 3, 1024, 1024])\n"
     ]
    }
   ],
   "source": [
    "batch_size=128\n",
    "num_workers=4\n",
    "data_loader=sgan_data.get_data_loader(sgan.dataset,batch_size=batch_size,num_workers=num_workers)\n",
    "images=next(iter(data_loader))\n",
    "print(images.shape)"
   ]
  },
  {
   "cell_type": "code",
   "execution_count": 17,
   "id": "3ef81b6e-f2fc-41e0-a8d7-2ff12c7e76c6",
   "metadata": {},
   "outputs": [
    {
     "name": "stdout",
     "output_type": "stream",
     "text": [
      "latent_size=512\n",
      "torch.Size([128, 512])\n"
     ]
    }
   ],
   "source": [
    "ngpu=1\n",
    "device = torch.device(\"cuda:0\" if (torch.cuda.is_available() and ngpu > 0) else \"cpu\")\n",
    "\n",
    "latent_size=sgan.opt.model.gen.latent_size\n",
    "print(f'latent_size={latent_size}')\n",
    "gan_input=torch.randn(images.shape[0], latent_size) # .to(device) \n",
    "print(gan_input.shape)"
   ]
  },
  {
   "cell_type": "code",
   "execution_count": 18,
   "id": "e87f39ef-1f11-4766-9ae8-abca2ad5c5aa",
   "metadata": {},
   "outputs": [
    {
     "name": "stdout",
     "output_type": "stream",
     "text": [
      "torch.Size([128, 512])\n"
     ]
    }
   ],
   "source": [
    "fake_samples=mapping_net(gan_input)\n",
    "print(fake_samples.shape)"
   ]
  },
  {
   "cell_type": "markdown",
   "id": "cd11a636-8397-4b63-a3ae-dea76fc269e5",
   "metadata": {},
   "source": [
    "#### 2)  SN 合成网络\n",
    "\n",
    "* 常量输入\n",
    "\n",
    "SN 的作用是生成图像，不同于 PGGAN 网络是给每一深度的子网络都喂入$A$和$B$，$A$是习得对应深度 MN 映射网络仿射变换的结果$\\mathbf{w}$，用于控制尺度空间（不同深度）的特征；$B$是转化后的随机噪声，用于丰富生成图像的细节。SN 的输入移除了噪声向量$\\mathbf{z}$（latent code），替代为常量输入（值为1），维度为$4 \\times 4 \\times 512$，如下代码。"
   ]
  },
  {
   "cell_type": "code",
   "execution_count": 93,
   "id": "eb740280-cffe-4d35-a5ea-9739929b127e",
   "metadata": {
    "tags": []
   },
   "outputs": [
    {
     "name": "stdout",
     "output_type": "stream",
     "text": [
      "const:torch.Size([128, 512, 4, 4])\n"
     ]
    }
   ],
   "source": [
    "const=torch.nn.Parameter(torch.ones(1, 512, 4, 4)).expand(batch_size,-1,-1,-1)\n",
    "print(f'const:{const.shape}')"
   ]
  },
  {
   "cell_type": "markdown",
   "id": "a7b21fdf-231b-43e1-afd7-9a405926c5a2",
   "metadata": {},
   "source": [
    "* 注入噪声向量\n",
    "\n",
    "在 AdaIN  层之前添加噪声向量，代码如下：\n",
    "\n",
    "```python\n",
    "class NoiseLayer(nn.Module):\n",
    "    \"\"\"adds noise. noise is per pixel (constant over channels) with per-channel weight\"\"\"\n",
    "\n",
    "    def __init__(self, channels):\n",
    "        super().__init__()\n",
    "        self.weight = nn.Parameter(torch.zeros(channels))\n",
    "        self.noise = None\n",
    "\n",
    "    def forward(self, x, noise=None):\n",
    "        if noise is None and self.noise is None:\n",
    "            noise = torch.randn(x.size(0), 1, x.size(2), x.size(3), device=x.device, dtype=x.dtype)\n",
    "        elif noise is None:\n",
    "            # here is a little trick: if you get all the noise layers and set each\n",
    "            # modules .noise attribute, you can have pre-defined noise.\n",
    "            # Very useful for analysis\n",
    "            noise = self.noise\n",
    "        x = x + self.weight.view(1, -1, 1, 1) * noise\n",
    "        return x\n",
    "```\n",
    "\n",
    "当为 SN 网络输入层时，`x`为常量`const`，后续其它层则为对应深度卷积（上采样）后的图像。噪声置入的方式为训练的权重缩放噪声向量后与`x`相加。`nn.Parameter`方法将噪声权重值转换为可训练的参数并注册到模型参数中，其初始值为0，因此为了演示实验，在该章开始*迁移 StyleGAN*部分训练了几个轮次，因此噪声向量的值已经发生了改变，这里以输入层部分为例，通过`sgan.style_gan.gen`方法提取 $G$网络，用`G.state_dict()`查看$G$网络全部参数名称和对应的值，找到噪声权重名称（路径），通过`G.g_synthesis.init_block.epi2.top_epi.noise.weight`方法提取噪声权重。"
   ]
  },
  {
   "cell_type": "code",
   "execution_count": 116,
   "id": "e750f4a1-58b8-4e32-977d-d1011df1d611",
   "metadata": {
    "tags": []
   },
   "outputs": [
    {
     "name": "stdout",
     "output_type": "stream",
     "text": [
      "torch.Size([512])\n"
     ]
    },
    {
     "data": {
      "text/plain": [
       "tensor([ 0.0119, -0.0410,  0.0654, -0.0014,  0.0137, -0.0038, -0.0450, -0.0130,\n",
       "         0.0227, -0.0094], device='cuda:0', grad_fn=<SliceBackward0>)"
      ]
     },
     "execution_count": 116,
     "metadata": {},
     "output_type": "execute_result"
    }
   ],
   "source": [
    "G=sgan.style_gan.gen\n",
    "noise_weight=G.g_synthesis.init_block.epi2.top_epi.noise.weight\n",
    "print(noise_weight.shape)\n",
    "noise_weight[:10]"
   ]
  },
  {
   "cell_type": "code",
   "execution_count": 125,
   "id": "a2aa9618-8272-4bbf-96ea-44bf64fcebe6",
   "metadata": {
    "tags": []
   },
   "outputs": [
    {
     "name": "stdout",
     "output_type": "stream",
     "text": [
      "torch.Size([128, 512, 4, 4])\n"
     ]
    },
    {
     "data": {
      "text/plain": [
       "tensor([[0.9946, 0.9885, 0.9941, 0.9952],\n",
       "        [0.9947, 1.0111, 0.9927, 0.9974],\n",
       "        [1.0149, 1.0019, 0.9907, 1.0061],\n",
       "        [1.0218, 0.9931, 1.0011, 0.9908]], device='cuda:0',\n",
       "       grad_fn=<SliceBackward0>)"
      ]
     },
     "execution_count": 125,
     "metadata": {},
     "output_type": "execute_result"
    }
   ],
   "source": [
    "x=const.to(device) \n",
    "noise = torch.randn(x.size(0), 1, x.size(2), x.size(3), device=x.device, dtype=x.dtype)\n",
    "x = x + noise_weight.view(1, -1, 1, 1) * noise\n",
    "print(x.shape)\n",
    "x[0,0,:]"
   ]
  },
  {
   "cell_type": "markdown",
   "id": "0f2a7a3f-68f2-49b7-bd05-c26701f99aeb",
   "metadata": {},
   "source": [
    "* 深度混合正则化（style mixing regularization）\n",
    "\n",
    "为了降低 SytleGAN 生成器各深度表征特征的相关性，采用了混合正则化的训练技巧。在训练过程中，随机选择两个$\\mathbf{z}$，`latents_in`和`latents2`，通过 MN 映射网络`mapping_net`(`g_mapping`)对应得到两个$\\mathbf{w}$，为`dlatents_in`和`dlatents2`，给定随机混合概率`mixing_prob`，在任意随机深度位置`mixing_cutoff`，交换前后两段向量。\n",
    "\n",
    "为演示混合正则化，提取`class Generator(nn.Module)`类中的代码，定义为`depth_mixing_regularization()`函数，通过下述打印信息可以观察算法逻辑。"
   ]
  },
  {
   "cell_type": "code",
   "execution_count": 165,
   "id": "88d1f7ce-acb2-4e1f-be33-1ad2d855ae74",
   "metadata": {
    "tags": []
   },
   "outputs": [
    {
     "name": "stdout",
     "output_type": "stream",
     "text": [
      "num_layers=18\n",
      "layer_idx:\n",
      "tensor([[[ 0],\n",
      "         [ 1],\n",
      "         [ 2],\n",
      "         [ 3],\n",
      "         [ 4],\n",
      "         [ 5],\n",
      "         [ 6],\n",
      "         [ 7],\n",
      "         [ 8],\n",
      "         [ 9],\n",
      "         [10],\n",
      "         [11],\n",
      "         [12],\n",
      "         [13],\n",
      "         [14],\n",
      "         [15],\n",
      "         [16],\n",
      "         [17]]], dtype=torch.int32)\n",
      "cur_layers=8\n",
      "mixing_cutoff=6\n",
      "dlatents_in shape=torch.Size([128, 18, 512]),dlatents2 shape=torch.Size([128, 18, 512])\n",
      "mixed dlatents_in shape=torch.Size([128, 18, 512])\n"
     ]
    }
   ],
   "source": [
    "def depth_mixing_regularization(mapping_net,dlatents_in,latents_in,resolution,depth,mixing_prob=0.9):  \n",
    "    latents2 = torch.randn(latents_in.shape).to(latents_in.device)\n",
    "    dlatents2 = mapping_net(latents2)\n",
    "    num_layers = (int(np.log2(resolution)) - 1) * 2   \n",
    "    \n",
    "    print(f'num_layers={num_layers}')\n",
    "    layer_idx = torch.from_numpy(np.arange(num_layers)[np.newaxis, :, np.newaxis]).to(latents_in.device)\n",
    "    print(f'layer_idx:\\n{layer_idx}')\n",
    "    cur_layers = 2 * (depth + 1)\n",
    "    print(f'cur_layers={cur_layers}')\n",
    "    mixing_cutoff = random.randint(1,cur_layers) if random.random() < mixing_prob else cur_layers\n",
    "    print(f'mixing_cutoff={mixing_cutoff}')\n",
    "    \n",
    "    dlatents_in = dlatents_in.unsqueeze(1).expand(-1, num_layers, -1)    \n",
    "    dlatents2 = dlatents2.unsqueeze(1).expand(-1, num_layers, -1)\n",
    "    \n",
    "    print(f'dlatents_in shape={dlatents_in.shape},dlatents2 shape={dlatents2.shape}')\n",
    "    dlatents_in = torch.where(layer_idx < mixing_cutoff, dlatents_in, dlatents2)\n",
    "    print(f'mixed dlatents_in shape={dlatents_in.shape}')\n",
    "    \n",
    "    return dlatents_in\n",
    "    \n",
    "dlatents_in=depth_mixing_regularization(mapping_net=mapping_net,dlatents_in=fake_samples,latents_in=gan_input,resolution=1024,depth=3)    "
   ]
  },
  {
   "cell_type": "markdown",
   "id": "6680a65c-3961-4c20-90b2-1a8bc3fd3185",
   "metadata": {},
   "source": [
    "* AdaIN (adaptive instance normalization)（自适应实例归一化）\n",
    "\n",
    "AdaIN 层是一个在生成对抗网络和风格化领域中应用非常广泛的归一化层，在风格编码任务中可以替换`BatchNorm2d`（批归一化层）优化效果，其公式为：$\\operatorname{AdaIN}\\left(\\mathbf{x}_i, \\mathbf{y}\\right)=\\mathbf{y}_{s, i} \\frac{\\mathbf{x}_i-\\mu\\left(\\mathbf{x}_i\\right)}{\\sigma\\left(\\mathbf{x}_i\\right)}+\\mathbf{y}_{b, i}$，其中$\\frac{\\mathbf{x}_i-\\mu\\left(\\mathbf{x}_i\\right)}{\\sigma\\left(\\mathbf{x}_i\\right)}$部分通过`torch.nn.InstanceNorm2d`（实例标准化）方法实现；缩放因子$\\mathbf{y}_{s, i} $和偏差因子$\\mathbf{y}_{b, i}$由一层$\\mathbf{w}$经过定义类`class EqualizedLinear(nn.Module)`可学习的仿射变换后，通过`[-1, 2, x.size(1)] + (x.dim() - 2) * [1]`形状，即`[-1, 2, 512, 1, 1]`，生成转化为缩放因子和偏差因子。代码如下：\n",
    "\n",
    "```python\n",
    "class StyleMod(nn.Module):\n",
    "    def __init__(self, latent_size, channels, use_wscale):\n",
    "        super(StyleMod, self).__init__()\n",
    "        self.lin = EqualizedLinear(latent_size,\n",
    "                                   channels * 2,\n",
    "                                   gain=1.0, use_wscale=use_wscale)\n",
    "\n",
    "    def forward(self, x, latent):\n",
    "        style = self.lin(latent)  # style => [batch_size, n_channels*2]\n",
    "\n",
    "        shape = [-1, 2, x.size(1)] + (x.dim() - 2) * [1]\n",
    "        style = style.view(shape)  # [batch_size, 2, n_channels, ...]\n",
    "        x = x * (style[:, 0] + 1.) + style[:, 1]\n",
    "        return x\n",
    "```\n",
    "\n",
    "演示 AdaIN 层，直接通过`sgan_model.StyleMod`方法调用`StyleMod`类，传入噪声向量`x`时，先执行`InstanceNorm2d`再传入。"
   ]
  },
  {
   "cell_type": "code",
   "execution_count": 175,
   "id": "035461fc-9e1d-4565-9c26-fdbcf09d5803",
   "metadata": {
    "tags": []
   },
   "outputs": [
    {
     "name": "stdout",
     "output_type": "stream",
     "text": [
      "dlatents_in_range shape=torch.Size([128, 2, 512])\n",
      "torch.Size([128, 512, 4, 4])\n"
     ]
    }
   ],
   "source": [
    "dlatents_in_range=dlatents_in[:, 0:2]\n",
    "print(f'dlatents_in_range shape={dlatents_in_range.shape}')\n",
    "\n",
    "stylemod=sgan_model.StyleMod(latent_size=512, channels=512, use_wscale=True)\n",
    "\n",
    "m=torch.nn.InstanceNorm2d(512)\n",
    "x=m(x)\n",
    "x_stylemod=stylemod(x.to(dlatents_in_range.device),dlatents_in_range[:, 0])\n",
    "print(x_stylemod.shape)"
   ]
  },
  {
   "cell_type": "markdown",
   "id": "109d0d57-8b26-4526-9433-974edafcea42",
   "metadata": {},
   "source": [
    "* 双线性采样（bilinear sampling）与转置卷积上采样（conv_transpose2d）"
   ]
  },
  {
   "cell_type": "code",
   "execution_count": 180,
   "id": "36352b1a-f920-4aae-a761-ba0dfd47f220",
   "metadata": {
    "tags": []
   },
   "outputs": [
    {
     "data": {
      "text/plain": [
       "torch.Size([128, 512, 8, 8])"
      ]
     },
     "execution_count": 180,
     "metadata": {},
     "output_type": "execute_result"
    }
   ],
   "source": [
    "upscale2d=sgan_model.Upscale2d(factor=2, gain=1)\n",
    "up_x=upscale2d(x_stylemod)\n",
    "up_x.shape"
   ]
  },
  {
   "cell_type": "code",
   "execution_count": null,
   "id": "6465c5f7-166b-417e-b1a4-55c6bbd992b4",
   "metadata": {},
   "outputs": [],
   "source": []
  },
  {
   "cell_type": "code",
   "execution_count": null,
   "id": "8e4ecff6-bbdd-4dfe-b95b-954e95af202b",
   "metadata": {},
   "outputs": [],
   "source": []
  },
  {
   "cell_type": "code",
   "execution_count": null,
   "id": "5699c73a-3578-4ed0-9892-e566edbfb4f1",
   "metadata": {},
   "outputs": [],
   "source": []
  },
  {
   "cell_type": "code",
   "execution_count": null,
   "id": "94181bf3-8b2a-4207-8cf9-93664ba86801",
   "metadata": {
    "tags": []
   },
   "outputs": [],
   "source": []
  },
  {
   "cell_type": "code",
   "execution_count": null,
   "id": "7b550373-c6c9-4949-90bd-c0a208f89f5f",
   "metadata": {},
   "outputs": [],
   "source": []
  },
  {
   "cell_type": "code",
   "execution_count": 170,
   "id": "38e530f0-458a-4542-a608-5b7159d82ec2",
   "metadata": {
    "tags": []
   },
   "outputs": [
    {
     "data": {
      "text/plain": [
       "torch.Size([128, 512])"
      ]
     },
     "execution_count": 170,
     "metadata": {},
     "output_type": "execute_result"
    }
   ],
   "source": [
    "dlatents_in_range[:, 0].shape"
   ]
  },
  {
   "cell_type": "code",
   "execution_count": 171,
   "id": "e0e55c32-5421-4b79-8a74-91c7ae0f088b",
   "metadata": {
    "tags": []
   },
   "outputs": [
    {
     "data": {
      "text/plain": [
       "torch.Size([128, 2, 512])"
      ]
     },
     "execution_count": 171,
     "metadata": {},
     "output_type": "execute_result"
    }
   ],
   "source": [
    "dlatents_in_range.shape"
   ]
  },
  {
   "cell_type": "code",
   "execution_count": null,
   "id": "140c1dcd-3457-437b-960d-dc0130cfb641",
   "metadata": {},
   "outputs": [],
   "source": []
  },
  {
   "cell_type": "code",
   "execution_count": null,
   "id": "d2ea2ac3-0011-4336-9449-fd3d9ecc6839",
   "metadata": {},
   "outputs": [],
   "source": []
  },
  {
   "cell_type": "code",
   "execution_count": 86,
   "id": "e489f34e-e50c-4fb2-aa33-b0e0736df673",
   "metadata": {},
   "outputs": [
    {
     "data": {
      "text/plain": [
       "[512, 512, 512, 512, 512, 256, 128, 64, 32, 16, 8, 4]"
      ]
     },
     "execution_count": 86,
     "metadata": {},
     "output_type": "execute_result"
    }
   ],
   "source": [
    "def nf(stage):\n",
    "    return min(int(8192 / (2.0 ** (stage *1))), 512)\n",
    "    \n",
    "[nf(i) for i in range(12)]"
   ]
  },
  {
   "cell_type": "code",
   "execution_count": null,
   "id": "369e85d9-1b4c-4974-b27b-d30d8ddef921",
   "metadata": {},
   "outputs": [],
   "source": []
  },
  {
   "cell_type": "code",
   "execution_count": null,
   "id": "acc52e18-331f-4979-935d-2191437a398f",
   "metadata": {},
   "outputs": [],
   "source": []
  },
  {
   "cell_type": "code",
   "execution_count": 168,
   "id": "d8b6d530-35da-4e36-a6d2-ca82d509429b",
   "metadata": {},
   "outputs": [],
   "source": [
    "G=sgan.style_gan.gen\n",
    "#G.state_dict()"
   ]
  },
  {
   "cell_type": "code",
   "execution_count": null,
   "id": "4dc1a766-2ee3-4fd2-8580-22a09a2940f6",
   "metadata": {},
   "outputs": [],
   "source": []
  },
  {
   "cell_type": "code",
   "execution_count": null,
   "id": "dbb4eb84-b665-4cc9-8dad-59235106bd21",
   "metadata": {},
   "outputs": [],
   "source": []
  },
  {
   "cell_type": "code",
   "execution_count": null,
   "id": "3c27351b-20cc-4c1a-9446-bb546713beb4",
   "metadata": {},
   "outputs": [],
   "source": []
  },
  {
   "cell_type": "code",
   "execution_count": 20,
   "id": "da930fce-be27-47c3-8d37-00a55c306092",
   "metadata": {
    "tags": []
   },
   "outputs": [
    {
     "data": {
      "text/plain": [
       "1.4142135623730951"
      ]
     },
     "execution_count": 20,
     "metadata": {},
     "output_type": "execute_result"
    }
   ],
   "source": [
    "gain=2**0.5\n",
    "print(gain)\n"
   ]
  },
  {
   "cell_type": "code",
   "execution_count": 9,
   "id": "b96502bc-e2c9-4325-a9ee-a81cb30168d8",
   "metadata": {
    "tags": []
   },
   "outputs": [],
   "source": []
  },
  {
   "cell_type": "code",
   "execution_count": 8,
   "id": "53483bbe-9002-4b90-87ba-2533f93f88ee",
   "metadata": {
    "tags": []
   },
   "outputs": [],
   "source": []
  },
  {
   "cell_type": "code",
   "execution_count": 23,
   "id": "8cdc8db0-e93e-45fe-8fde-5fa673c16d70",
   "metadata": {
    "tags": []
   },
   "outputs": [
    {
     "data": {
      "text/plain": [
       "(LeakyReLU(negative_slope=0.2), 1.4142135623730951)"
      ]
     },
     "execution_count": 23,
     "metadata": {},
     "output_type": "execute_result"
    }
   ],
   "source": [
    "a=torch.nn.LeakyReLU(negative_slope=0.2), np.sqrt(2)\n",
    "a"
   ]
  },
  {
   "cell_type": "code",
   "execution_count": 27,
   "id": "f529e639-70d9-420d-913c-06944c3ad24f",
   "metadata": {},
   "outputs": [
    {
     "data": {
      "text/plain": [
       "Parameter containing:\n",
       "tensor([[-0.2289,  0.8629,  0.3333,  ..., -0.7201,  0.2383, -0.2599],\n",
       "        [ 0.5815, -0.0092,  1.2240,  ..., -0.4868, -0.4294, -0.7618],\n",
       "        [ 0.3673,  0.0979,  1.0815,  ...,  0.7227,  0.0628, -0.7716],\n",
       "        ...,\n",
       "        [ 1.5101,  1.8021, -0.1009,  ..., -0.6268, -0.2355, -0.5929],\n",
       "        [ 0.3676, -0.2771, -0.0391,  ..., -1.9769,  0.5603, -0.4741],\n",
       "        [-0.3938,  0.7125,  0.3822,  ..., -2.2813,  0.5372,  0.4081]],\n",
       "       requires_grad=True)"
      ]
     },
     "execution_count": 27,
     "metadata": {},
     "output_type": "execute_result"
    }
   ],
   "source": [
    "weight = torch.nn.Parameter(torch.randn(512,512) * 1)\n",
    "weight"
   ]
  },
  {
   "cell_type": "code",
   "execution_count": 28,
   "id": "66ecb3e2-58d9-41f7-ad72-80f101581e50",
   "metadata": {},
   "outputs": [
    {
     "data": {
      "text/plain": [
       "tensor([[ 0.7841,  0.4237,  0.7044,  ...,  0.6490, -0.7556,  0.9993],\n",
       "        [-1.3988,  0.0474,  1.7783,  ..., -0.5508, -0.5539, -0.4212],\n",
       "        [ 0.0734, -0.5279, -0.2175,  ..., -0.3334,  0.3308,  1.2903],\n",
       "        ...,\n",
       "        [ 0.3743,  0.6178,  1.9965,  ..., -0.7573, -1.1853,  0.5924],\n",
       "        [-0.2597, -0.7259, -1.1400,  ...,  0.9829, -0.2724, -0.6905],\n",
       "        [ 1.0694, -0.8951,  2.0854,  ...,  0.3445,  0.5989,  0.2983]])"
      ]
     },
     "execution_count": 28,
     "metadata": {},
     "output_type": "execute_result"
    }
   ],
   "source": [
    "torch.randn(512,512)"
   ]
  },
  {
   "cell_type": "code",
   "execution_count": 29,
   "id": "fd30e252-80ab-40c6-aa8c-71227cb0d8ff",
   "metadata": {},
   "outputs": [
    {
     "data": {
      "text/plain": [
       "0.06250000000000001"
      ]
     },
     "execution_count": 29,
     "metadata": {},
     "output_type": "execute_result"
    }
   ],
   "source": [
    "he_std = gain * 512 ** (-0.5)\n",
    "he_std"
   ]
  },
  {
   "cell_type": "code",
   "execution_count": null,
   "id": "1056c147-1a64-49a5-b472-e19f1fc1dcd8",
   "metadata": {},
   "outputs": [],
   "source": []
  },
  {
   "cell_type": "code",
   "execution_count": null,
   "id": "a5221f59-6822-4a18-a02c-239269495f9a",
   "metadata": {},
   "outputs": [],
   "source": []
  },
  {
   "cell_type": "code",
   "execution_count": null,
   "id": "ce8f1223-3e81-4486-a4ef-b527102bcc58",
   "metadata": {},
   "outputs": [],
   "source": []
  },
  {
   "cell_type": "code",
   "execution_count": 34,
   "id": "a2d47efc-7be6-45ca-9269-3422c5157aee",
   "metadata": {},
   "outputs": [
    {
     "data": {
      "text/plain": [
       "[4, 8, 16, 32, 64, 128, 256, 512, 1024]"
      ]
     },
     "execution_count": 34,
     "metadata": {},
     "output_type": "execute_result"
    }
   ],
   "source": [
    "[pow(2,n) for n in range(2,11)]"
   ]
  },
  {
   "cell_type": "code",
   "execution_count": null,
   "id": "d21f1523-3dfd-43a7-bc82-909dfa7af02a",
   "metadata": {},
   "outputs": [],
   "source": []
  },
  {
   "cell_type": "code",
   "execution_count": null,
   "id": "62a68bfb-88da-429b-bb8a-b242765416e1",
   "metadata": {},
   "outputs": [],
   "source": []
  },
  {
   "cell_type": "code",
   "execution_count": null,
   "id": "da71221a-85af-4148-8871-05c0dad6938e",
   "metadata": {
    "tags": []
   },
   "outputs": [],
   "source": []
  },
  {
   "cell_type": "markdown",
   "id": "6f95d614-3c0e-4ea6-91a9-9cd9bac0186e",
   "metadata": {},
   "source": [
    "* 实验数据准备"
   ]
  },
  {
   "cell_type": "code",
   "execution_count": null,
   "id": "461e4ce4-5aff-4413-a1dc-45bc19773d78",
   "metadata": {
    "tags": []
   },
   "outputs": [],
   "source": []
  },
  {
   "cell_type": "code",
   "execution_count": null,
   "id": "245f575c-8b0f-4d57-92fc-f47080356d14",
   "metadata": {
    "tags": []
   },
   "outputs": [],
   "source": []
  },
  {
   "cell_type": "code",
   "execution_count": null,
   "id": "d69a57b3-0e8e-444d-a561-9e1fe7d0aa04",
   "metadata": {},
   "outputs": [],
   "source": []
  },
  {
   "cell_type": "code",
   "execution_count": null,
   "id": "098efd4a-89d3-4bcd-ada2-a296634555bd",
   "metadata": {
    "tags": []
   },
   "outputs": [],
   "source": []
  },
  {
   "cell_type": "code",
   "execution_count": 261,
   "id": "6a121abb-638a-4d4d-b831-ba77c12b755f",
   "metadata": {
    "tags": []
   },
   "outputs": [
    {
     "data": {
      "text/plain": [
       "Adam (\n",
       "Parameter Group 0\n",
       "    amsgrad: False\n",
       "    betas: (0, 0.99)\n",
       "    capturable: False\n",
       "    differentiable: False\n",
       "    eps: 1e-08\n",
       "    foreach: None\n",
       "    fused: None\n",
       "    lr: 0.003\n",
       "    maximize: False\n",
       "    weight_decay: 0\n",
       ")"
      ]
     },
     "execution_count": 261,
     "metadata": {},
     "output_type": "execute_result"
    }
   ],
   "source": [
    "sgan.style_gan.dis_optim"
   ]
  },
  {
   "cell_type": "code",
   "execution_count": 262,
   "id": "fea38193-9a84-4e53-8cb3-11ac95f530f7",
   "metadata": {
    "tags": []
   },
   "outputs": [
    {
     "data": {
      "text/plain": [
       "Adam (\n",
       "Parameter Group 0\n",
       "    amsgrad: False\n",
       "    betas: (0, 0.99)\n",
       "    capturable: False\n",
       "    differentiable: False\n",
       "    eps: 1e-08\n",
       "    foreach: None\n",
       "    fused: None\n",
       "    lr: 0.003\n",
       "    maximize: False\n",
       "    weight_decay: 0\n",
       ")"
      ]
     },
     "execution_count": 262,
     "metadata": {},
     "output_type": "execute_result"
    }
   ],
   "source": [
    "sgan.style_gan.gen_optim"
   ]
  },
  {
   "cell_type": "code",
   "execution_count": null,
   "id": "dff14f31-3ff2-42b5-9aab-a52b2d615cb9",
   "metadata": {},
   "outputs": [],
   "source": []
  },
  {
   "cell_type": "code",
   "execution_count": null,
   "id": "d9335713-7db6-493e-88a4-2be7efbcc607",
   "metadata": {},
   "outputs": [],
   "source": []
  },
  {
   "cell_type": "code",
   "execution_count": null,
   "id": "bcbb811f-441d-493c-a5b5-9d28e2dbadce",
   "metadata": {},
   "outputs": [],
   "source": []
  },
  {
   "cell_type": "markdown",
   "id": "47da0795-6298-43bb-948b-f6a630630fb4",
   "metadata": {},
   "source": [
    "* 迭代参数控制"
   ]
  },
  {
   "cell_type": "code",
   "execution_count": 59,
   "id": "a3dafdbe-7ec9-4305-a6c4-cf0cb081a322",
   "metadata": {
    "tags": []
   },
   "outputs": [
    {
     "name": "stdout",
     "output_type": "stream",
     "text": [
      "start_depth=0\n",
      "structure=linear\n",
      "resolution=128\n",
      "depth=6\n",
      "depths:{4: 1, 8: 2, 16: 3, 32: 4, 64: 5, 128: 6, 256: 7, 512: 8}\n",
      "current_depth_range=[0,6)\n",
      "fade_in_percentage=[50, 50, 50, 50, 50, 50, 50, 50, 50]\n",
      "current_depth=0\n",
      "epochs=[4, 4, 4, 4, 8, 16, 32, 64, 64]\n",
      "total_batches=156\n",
      "fade_point=312\n",
      "fade_points:[(312, 624), (312, 624), (312, 624), (312, 624), (624, 1248), (1248, 2496), (2496, 4992), (4992, 9984)]\n",
      "alpha=0.003205128205128205\n"
     ]
    }
   ],
   "source": [
    "start_depth=sgan.opt.ckpt.start_depth\n",
    "print(f'start_depth={start_depth}')\n",
    "\n",
    "structure=sgan.opt.structure\n",
    "print(f'structure={structure}')\n",
    "if structure=='fixed':start_depth = self.depth - 1\n",
    "\n",
    "resolution=sgan.opt.dataset.resolution # 图像的分辨率（大小）\n",
    "print(f'resolution={resolution}')\n",
    "depth=int(np.log2(resolution)) - 1\n",
    "print(f'depth={depth}')\n",
    "func_log2=lambda x:int(np.log2(x))-1\n",
    "depths={i:func_log2(i) for i in [4,8,16,32,64,128,256,512]}\n",
    "print(f'depths:{depths}')\n",
    "\n",
    "print(f'current_depth_range=[{start_depth},{depth})')\n",
    "            \n",
    "fade_in_percentage=sgan.opt.sched.fade_in_percentage # list of percentages of epochs per resolution used for fading in the new layer not used for first resolution, but dummy value still needed.\n",
    "print(f'fade_in_percentage={fade_in_percentage}')\n",
    "\n",
    "current_depths=list(range(start_depth,int(np.log2(512)) - 1))\n",
    "current_depth=current_depths[0]\n",
    "print(f'current_depth={current_depth}')\n",
    "\n",
    "epochs=sgan.opt.sched.epochs\n",
    "print(f'epochs={epochs}')\n",
    "\n",
    "total_batches=len(data_loader)\n",
    "print(f'total_batches={total_batches}')\n",
    "\n",
    "fade_point=int((fade_in_percentage[current_depth] / 100)* epochs[current_depth] * total_batches) \n",
    "print(f'fade_point={fade_point}')\n",
    "fade_points=[(int((fade_in_percentage[current_depth] / 100)* epochs[current_depth] * total_batches),epochs[current_depth] * total_batches) for current_depth in current_depths]\n",
    "print(f'fade_points:{fade_points}')\n",
    "\n",
    "ticker=1 # ticker += 1 each batch\n",
    "alpha=ticker / fade_point if ticker <= fade_point else 1 # calculate the alpha for fading in the layers\n",
    "print(f'alpha={alpha}')"
   ]
  },
  {
   "cell_type": "code",
   "execution_count": 50,
   "id": "b925c9fc-0054-40d8-8acd-8460a732f860",
   "metadata": {
    "tags": []
   },
   "outputs": [],
   "source": [
    "def func_log2(variables_values=[0]):\n",
    "    x=variables_values[0]   \n",
    "    return int(np.log2(x))-1\n",
    "    \n",
    "plot_parameters={'min_values': [1],'max_values': [1000],'step': [0.1], 'solution': [],'proj_view': '1d','view': 'browser' , 'mode':'lines'}\n",
    "plot_single_function(target_function=func_log2, **plot_parameters)    "
   ]
  },
  {
   "cell_type": "markdown",
   "id": "f7f57baf-5b08-464d-98ad-19fb10ef20d5",
   "metadata": {},
   "source": [
    "<img src=\"../imgs/3_4_b/3_4_b_01.png\" height='auto' width='auto' title=\"caDesign\">   "
   ]
  },
  {
   "cell_type": "code",
   "execution_count": 30,
   "id": "b66264e4-a1bb-4c42-9fd0-30771b885e19",
   "metadata": {
    "tags": []
   },
   "outputs": [
    {
     "name": "stdout",
     "output_type": "stream",
     "text": [
      "-DEPTH LOOP:current_depth=2.0,resolution=4\n",
      "\t-EPOCH LOOP:fade_point=(312, 624)\n",
      "\t\t-BATCH LOOP:50_alpha=0.16025641025641027\n",
      "\t\t-BATCH LOOP:100_alpha=0.32051282051282054\n",
      "\t\t-BATCH LOOP:150_alpha=0.4807692307692308\n",
      "-DEPTH LOOP:current_depth=3.0,resolution=8\n",
      "\t-EPOCH LOOP:fade_point=(312, 624)\n",
      "\t\t-BATCH LOOP:50_alpha=0.16025641025641027\n",
      "\t\t-BATCH LOOP:100_alpha=0.32051282051282054\n",
      "\t\t-BATCH LOOP:150_alpha=0.4807692307692308\n",
      "-DEPTH LOOP:current_depth=4.0,resolution=16\n",
      "\t-EPOCH LOOP:fade_point=(312, 624)\n",
      "\t\t-BATCH LOOP:50_alpha=0.16025641025641027\n",
      "\t\t-BATCH LOOP:100_alpha=0.32051282051282054\n",
      "\t\t-BATCH LOOP:150_alpha=0.4807692307692308\n",
      "-DEPTH LOOP:current_depth=5.0,resolution=32\n",
      "\t-EPOCH LOOP:fade_point=(312, 624)\n",
      "\t\t-BATCH LOOP:50_alpha=0.16025641025641027\n",
      "\t\t-BATCH LOOP:100_alpha=0.32051282051282054\n",
      "\t\t-BATCH LOOP:150_alpha=0.4807692307692308\n",
      "-DEPTH LOOP:current_depth=6.0,resolution=64\n",
      "\t-EPOCH LOOP:fade_point=(624, 1248)\n",
      "\t\t-BATCH LOOP:50_alpha=0.08012820512820513\n",
      "\t\t-BATCH LOOP:100_alpha=0.16025641025641027\n",
      "\t\t-BATCH LOOP:150_alpha=0.2403846153846154\n",
      "-DEPTH LOOP:current_depth=7.0,resolution=128\n",
      "\t-EPOCH LOOP:fade_point=(1248, 2496)\n",
      "\t\t-BATCH LOOP:50_alpha=0.04006410256410257\n",
      "\t\t-BATCH LOOP:100_alpha=0.08012820512820513\n",
      "\t\t-BATCH LOOP:150_alpha=0.1201923076923077\n",
      "-DEPTH LOOP:current_depth=8.0,resolution=256\n",
      "\t-EPOCH LOOP:fade_point=(2496, 4992)\n",
      "\t\t-BATCH LOOP:50_alpha=0.020032051282051284\n",
      "\t\t-BATCH LOOP:100_alpha=0.04006410256410257\n",
      "\t\t-BATCH LOOP:150_alpha=0.06009615384615385\n",
      "-DEPTH LOOP:current_depth=9.0,resolution=512\n",
      "\t-EPOCH LOOP:fade_point=(4992, 9984)\n",
      "\t\t-BATCH LOOP:50_alpha=0.010016025641025642\n",
      "\t\t-BATCH LOOP:100_alpha=0.020032051282051284\n",
      "\t\t-BATCH LOOP:150_alpha=0.030048076923076924\n"
     ]
    }
   ],
   "source": [
    "from itertools import tee\n",
    "data_loader_lst=tee(data_loader,len(depths))\n",
    "\n",
    "alpha_dict={}\n",
    "j=0\n",
    "for resolution,current_depth in depths.items():\n",
    "    print(f'-DEPTH LOOP:current_depth={current_depth},resolution={resolution}')\n",
    "    ticker=1\n",
    "    data_loader_=data_loader_lst[j]\n",
    "    alpha_dict[resolution]=[]\n",
    "    for epoch in range(1, epochs[int(current_depth)-1]):\n",
    "        fade_point=fade_points[int(current_depth)-2]\n",
    "        print(f'\\t-EPOCH LOOP:fade_point={fade_point}')        \n",
    "        \n",
    "        for i, batch in enumerate(data_loader_, 1):  \n",
    "            alpha = ticker / fade_point[0] if ticker <= fade_point[0] else 1            \n",
    "            ticker += 1\n",
    "            if i%50==0:print(f'\\t\\t-BATCH LOOP:{i}_alpha={alpha}')\n",
    "            alpha_dict[resolution].append(alpha)\n",
    "    \n",
    "        break\n",
    "    j+=1"
   ]
  },
  {
   "cell_type": "code",
   "execution_count": 44,
   "id": "fdfa2d29-25da-421c-8f6a-7e2f3d0833e2",
   "metadata": {
    "tags": []
   },
   "outputs": [
    {
     "data": {
      "text/plain": [
       "<Axes: >"
      ]
     },
     "execution_count": 44,
     "metadata": {},
     "output_type": "execute_result"
    },
    {
     "data": {
      "image/png": "[encoded data removed]",
      "text/plain": [
       "<Figure size 640x480 with 1 Axes>"
      ]
     },
     "metadata": {},
     "output_type": "display_data"
    }
   ],
   "source": [
    "alpha_df=pd.DataFrame(alpha_dict)\n",
    "alpha_df.plot()"
   ]
  },
  {
   "cell_type": "markdown",
   "id": "2850fa3b-8278-4977-a2bd-404aa420723b",
   "metadata": {},
   "source": [
    "* $G$ 生成网络"
   ]
  },
  {
   "cell_type": "markdown",
   "id": "0936acc3-48f4-445d-b93b-ac321daa4729",
   "metadata": {},
   "source": [
    "* `Mapping network`"
   ]
  },
  {
   "cell_type": "code",
   "execution_count": 87,
   "id": "dc16ee70-8dc7-4cf0-b2d7-26d7008de626",
   "metadata": {
    "tags": []
   },
   "outputs": [
    {
     "data": {
      "text/plain": [
       "GMapping(\n",
       "  (map): Sequential(\n",
       "    (pixel_norm): PixelNormLayer()\n",
       "    (dense0): EqualizedLinear()\n",
       "    (dense0_act): LeakyReLU(negative_slope=0.2)\n",
       "    (dense1): EqualizedLinear()\n",
       "    (dense1_act): LeakyReLU(negative_slope=0.2)\n",
       "    (dense2): EqualizedLinear()\n",
       "    (dense2_act): LeakyReLU(negative_slope=0.2)\n",
       "    (dense3): EqualizedLinear()\n",
       "    (dense3_act): LeakyReLU(negative_slope=0.2)\n",
       "  )\n",
       ")"
      ]
     },
     "execution_count": 87,
     "metadata": {},
     "output_type": "execute_result"
    }
   ],
   "source": [
    "g_mapping=sgan.style_gan.gen.g_mapping\n",
    "g_mapping"
   ]
  },
  {
   "cell_type": "markdown",
   "id": "a3337806-543c-4045-a53f-4b0d7f28ac75",
   "metadata": {},
   "source": [
    "`pixel_norm` 层\n",
    "\n",
    "`x * torch.rsqrt(torch.mean(x ** 2, dim=1, keepdim=True) + self.epsilon)`，`epsilon=1e-8`"
   ]
  },
  {
   "cell_type": "code",
   "execution_count": 135,
   "id": "a7200194-926c-4b88-81bd-245b0453653b",
   "metadata": {
    "tags": []
   },
   "outputs": [
    {
     "name": "stdout",
     "output_type": "stream",
     "text": [
      "torch.Size([128, 512])\n"
     ]
    }
   ],
   "source": [
    "pixel_norm_layer=sgan_model.PixelNormLayer()\n",
    "gan_input_pnl=pixel_norm_layer.forward(gan_input)\n",
    "print(gan_input_pnl.shape)"
   ]
  },
  {
   "cell_type": "markdown",
   "id": "165ca7ff-7e6a-4e8e-8d68-395091c2ea4f",
   "metadata": {},
   "source": [
    "`EqualizedLinear`层"
   ]
  },
  {
   "cell_type": "code",
   "execution_count": 127,
   "id": "a525cc7a-291c-4f08-a773-042d4386ed10",
   "metadata": {
    "tags": []
   },
   "outputs": [
    {
     "name": "stdout",
     "output_type": "stream",
     "text": [
      "latent_size=512\n",
      "mapping_fmaps=128\n",
      "gain=1.4142135623730951\n",
      "mapping_lrmul=0.01\n",
      "use_wscale=True\n"
     ]
    }
   ],
   "source": [
    "import torch.nn as nn\n",
    "\n",
    "latent_size=sgan.opt.model.gen.latent_size # Latent vector(Z) dimensionality.\n",
    "mapping_fmaps=sgan.opt.dataset.resolution # Number of activations in the mapping layers.\n",
    "# Activation function.\n",
    "mapping_nonlinearity='lrelu'\n",
    "act, gain = {'relu': (torch.relu, np.sqrt(2)),\n",
    "             'lrelu': (nn.LeakyReLU(negative_slope=0.2), np.sqrt(2))}[mapping_nonlinearity]\n",
    "mapping_lrmul=0.01\n",
    "use_wscale=True\n",
    "\n",
    "print(f'latent_size={latent_size}\\nmapping_fmaps={mapping_fmaps}\\ngain={gain}\\nmapping_lrmul={mapping_lrmul}\\nuse_wscale={use_wscale}')"
   ]
  },
  {
   "cell_type": "code",
   "execution_count": 134,
   "id": "d6719ade-4df7-45ca-bbb0-9f91931429e8",
   "metadata": {
    "tags": []
   },
   "outputs": [
    {
     "data": {
      "text/plain": [
       "torch.Size([128, 128])"
      ]
     },
     "execution_count": 134,
     "metadata": {},
     "output_type": "execute_result"
    }
   ],
   "source": [
    "equalizedLinear_layer=sgan_model.EqualizedLinear(input_size=latent_size, output_size=mapping_fmaps, gain=gain, use_wscale=use_wscale, lrmul=mapping_lrmul, bias=True)\n",
    "gan_input_pnl_equalizedLinear=equalizedLinear_layer.forward(gan_input_pnl.to('cpu'))\n",
    "gan_input_pnl_equalizedLinear.shape"
   ]
  },
  {
   "cell_type": "markdown",
   "id": "2d6aa749-5ee3-4681-8f1b-4dfb272bd429",
   "metadata": {},
   "source": [
    "`LeakyReLU`层"
   ]
  },
  {
   "cell_type": "markdown",
   "id": "77acf3bf-403c-405f-ac31-61717f5991d7",
   "metadata": {},
   "source": [
    "`Mapping network`计算结果"
   ]
  },
  {
   "cell_type": "code",
   "execution_count": 170,
   "id": "d234f378-8801-43dc-9147-25ecc8c5d7ee",
   "metadata": {
    "tags": []
   },
   "outputs": [
    {
     "name": "stdout",
     "output_type": "stream",
     "text": [
      "0------torch.Size([128, 512])------PixelNormLayer()\n",
      "1------torch.Size([128, 512])------EqualizedLinear()\n",
      "2------torch.Size([128, 512])------LeakyReLU(negative_slope=0.2)\n",
      "3------torch.Size([128, 512])------EqualizedLinear()\n",
      "4------torch.Size([128, 512])------LeakyReLU(negative_slope=0.2)\n",
      "5------torch.Size([128, 512])------EqualizedLinear()\n",
      "6------torch.Size([128, 512])------LeakyReLU(negative_slope=0.2)\n",
      "7------torch.Size([128, 512])------EqualizedLinear()\n",
      "8------torch.Size([128, 512])------LeakyReLU(negative_slope=0.2)\n"
     ]
    }
   ],
   "source": [
    "gan_mapping_layer_resulte_dict={}\n",
    "gan_input_mapping=gan_input.clone()\n",
    "gan_mapping_layer_resulte_dict[0]=gan_input_mapping[0].cpu().detach().numpy()\n",
    "for idx,layer in enumerate(g_mapping.map):\n",
    "    gan_input_mapping=layer(gan_input_mapping)\n",
    "    gan_mapping_layer_resulte_dict[idx+1]=gan_input_mapping[0].cpu().detach().numpy()\n",
    "    print(f'{idx}------{gan_input_mapping.shape}------{layer}')"
   ]
  },
  {
   "cell_type": "code",
   "execution_count": 156,
   "id": "c88f49fa-f972-4ba4-8d11-eceaa1b61b2b",
   "metadata": {
    "tags": []
   },
   "outputs": [
    {
     "name": "stdout",
     "output_type": "stream",
     "text": [
      "dlatent_broadcast=12\n",
      "torch.Size([128, 12, 512])\n"
     ]
    }
   ],
   "source": [
    "num_layers=(int(np.log2(resolution)) - 1) * 2\n",
    "dlatent_broadcast=num_layers # Output disentangled latent (W) as [minibatch, dlatent_size] or [minibatch, dlatent_broadcast, dlatent_size].\n",
    "print(f'dlatent_broadcast={dlatent_broadcast}')\n",
    "\n",
    "gan_mapping_resultes=gan_input_mapping.unsqueeze(1).expand(-1, dlatent_broadcast, -1)\n",
    "print(gan_mapping_resultes.shape)"
   ]
  },
  {
   "cell_type": "code",
   "execution_count": 144,
   "id": "38f30eeb-7e83-45d4-8928-abfed2a6f8eb",
   "metadata": {
    "tags": []
   },
   "outputs": [
    {
     "data": {
      "text/plain": [
       "torch.Size([128, 12, 512])"
      ]
     },
     "execution_count": 144,
     "metadata": {},
     "output_type": "execute_result"
    }
   ],
   "source": [
    "g_mapping_result=g_mapping(gan_input)\n",
    "g_mapping_result.shape"
   ]
  },
  {
   "cell_type": "code",
   "execution_count": 174,
   "id": "ea8c71f2-e184-4ac3-b254-ba895e83a1af",
   "metadata": {
    "tags": []
   },
   "outputs": [
    {
     "data": {
      "text/plain": [
       "dict_keys([0, 1, 2, 3, 4, 5, 6, 7, 8, 9])"
      ]
     },
     "execution_count": 174,
     "metadata": {},
     "output_type": "execute_result"
    }
   ],
   "source": [
    "gan_mapping_layer_resulte_dict.keys()"
   ]
  },
  {
   "cell_type": "code",
   "execution_count": 179,
   "id": "a0cd52b2-fb37-4873-95aa-e78081a087d7",
   "metadata": {
    "tags": []
   },
   "outputs": [
    {
     "data": {
      "image/png": "[encoded data removed]",
      "text/plain": [
       "<Figure size 640x480 with 1 Axes>"
      ]
     },
     "metadata": {},
     "output_type": "display_data"
    }
   ],
   "source": [
    "gan_mapping_layer_resulte_df=pd.DataFrame({k:v for k,v in gan_mapping_layer_resulte_dict.items() if k in [0,9]})\n",
    "gan_mapping_layer_resulte_df.plot();"
   ]
  },
  {
   "cell_type": "markdown",
   "id": "aba4ba43-f063-4cf8-bda3-1f77faa754bf",
   "metadata": {},
   "source": [
    "* Synthesis network"
   ]
  },
  {
   "cell_type": "code",
   "execution_count": 19,
   "id": "9b9112ef-7816-4cae-9053-02d8c7a0ec1d",
   "metadata": {
    "tags": []
   },
   "outputs": [],
   "source": [
    "g_synthesis=sgan.style_gan.gen.g_synthesis\n",
    "#g_synthesis"
   ]
  },
  {
   "cell_type": "markdown",
   "id": "eab25ae6-6582-49e7-a33b-c9b8c89b7e15",
   "metadata": {},
   "source": [
    "`InputBlock`层"
   ]
  },
  {
   "cell_type": "code",
   "execution_count": 186,
   "id": "da8901e5-2f28-4ae4-8f5d-1b57f3ab651a",
   "metadata": {
    "tags": []
   },
   "outputs": [
    {
     "data": {
      "text/plain": [
       "InputBlock(\n",
       "  (epi1): LayerEpilogue(\n",
       "    (top_epi): Sequential(\n",
       "      (noise): NoiseLayer()\n",
       "      (activation): LeakyReLU(negative_slope=0.2)\n",
       "      (instance_norm): InstanceNorm2d(512, eps=1e-05, momentum=0.1, affine=False, track_running_stats=False)\n",
       "    )\n",
       "    (style_mod): StyleMod(\n",
       "      (lin): EqualizedLinear()\n",
       "    )\n",
       "  )\n",
       "  (conv): EqualizedConv2d()\n",
       "  (epi2): LayerEpilogue(\n",
       "    (top_epi): Sequential(\n",
       "      (noise): NoiseLayer()\n",
       "      (activation): LeakyReLU(negative_slope=0.2)\n",
       "      (instance_norm): InstanceNorm2d(512, eps=1e-05, momentum=0.1, affine=False, track_running_stats=False)\n",
       "    )\n",
       "    (style_mod): StyleMod(\n",
       "      (lin): EqualizedLinear()\n",
       "    )\n",
       "  )\n",
       ")"
      ]
     },
     "execution_count": 186,
     "metadata": {},
     "output_type": "execute_result"
    }
   ],
   "source": [
    "init_block=g_synthesis.init_block\n",
    "init_block"
   ]
  },
  {
   "cell_type": "code",
   "execution_count": 191,
   "id": "9cb36ab0-0cbf-4a95-a5eb-edd1277204e3",
   "metadata": {
    "tags": []
   },
   "outputs": [
    {
     "name": "stdout",
     "output_type": "stream",
     "text": [
      "num_channels=3\n",
      "resolution=128\n",
      "blur_filter=[1, 2, 1]\n"
     ]
    }
   ],
   "source": [
    "dlatent_size=512 # Disentangled latent (W) dimensionality.\n",
    "num_channels=sgan.opt.dataset.channels # Number of output color channels.\n",
    "resolution=sgan.opt.dataset.resolution # Output resolution.\n",
    "fmap_base=8192 # Overall multiplier for the number of feature maps.\n",
    "fmap_decay=1.0 # log2 feature map reduction when doubling the resolution.\n",
    "fmap_max=512 # Maximum number of feature maps in any layer.\n",
    "use_styles=True # Enable style inputs?\n",
    "const_input_layer=True # First layer is a learned constant?\n",
    "use_noise=True # Enable noise inputs?\n",
    "use_wscale=True # Enable equalized learning rate?\n",
    "use_pixel_norm=False # Enable pixel_wise feature vector normalization?\n",
    "use_instance_norm=True # Enable instance normalization?\n",
    "blur_filter=sgan.opt.model.gen.blur_filter # Low-pass filter to apply when resampling activations. None = no filtering.\n",
    "structure='linear' # 'fixed' = no progressive growing, 'linear' = human-readable\n",
    "\n",
    "nonlinearity='lrelu' # Activation function: 'relu', 'lrelu'\n",
    "act, gain = {'relu': (torch.relu, np.sqrt(2)),\n",
    "                 'lrelu': (nn.LeakyReLU(negative_slope=0.2), np.sqrt(2))}[nonlinearity]\n",
    "\n",
    "print(f'num_channels={num_channels}\\nresolution={resolution}\\nblur_filter={blur_filter}')"
   ]
  },
  {
   "cell_type": "code",
   "execution_count": 224,
   "id": "21b28141-3379-48e1-9e29-870c1d5f6713",
   "metadata": {
    "tags": []
   },
   "outputs": [
    {
     "name": "stdout",
     "output_type": "stream",
     "text": [
      "num_layers=12\n",
      "g_mapping_synthesis:\n",
      "GMapping(\n",
      "  (map): Sequential(\n",
      "    (pixel_norm): PixelNormLayer()\n",
      "    (dense0): EqualizedLinear()\n",
      "    (dense0_act): LeakyReLU(negative_slope=0.2)\n",
      "    (dense1): EqualizedLinear()\n",
      "    (dense1_act): LeakyReLU(negative_slope=0.2)\n",
      "    (dense2): EqualizedLinear()\n",
      "    (dense2_act): LeakyReLU(negative_slope=0.2)\n",
      "    (dense3): EqualizedLinear()\n",
      "    (dense3_act): LeakyReLU(negative_slope=0.2)\n",
      "    (dense4): EqualizedLinear()\n",
      "    (dense4_act): LeakyReLU(negative_slope=0.2)\n",
      "    (dense5): EqualizedLinear()\n",
      "    (dense5_act): LeakyReLU(negative_slope=0.2)\n",
      "    (dense6): EqualizedLinear()\n",
      "    (dense6_act): LeakyReLU(negative_slope=0.2)\n",
      "    (dense7): EqualizedLinear()\n",
      "    (dense7_act): LeakyReLU(negative_slope=0.2)\n",
      "  )\n",
      ")\n",
      "dlatents_in shape=torch.Size([128, 12, 512])\n",
      "init_block_result shape=torch.Size([128, 512, 4, 4])\n"
     ]
    }
   ],
   "source": [
    "num_layers=(int(np.log2(resolution)) - 1) * 2\n",
    "print(f'num_layers={num_layers}')\n",
    "g_mapping_synthesis=sgan_model.GMapping(latent_size,dlatent_size,dlatent_broadcast=num_layers)\n",
    "print(f'g_mapping_synthesis:\\n{g_mapping_synthesis}')\n",
    "\n",
    "latents_in=gan_input.cpu()\n",
    "dlatents_in=g_mapping_synthesis(latents_in)\n",
    "print(f'dlatents_in shape={dlatents_in.shape}')\n",
    "init_block_result=init_block(dlatents_in[:, 0:2].to('cuda'))\n",
    "print(f'init_block_result shape={init_block_result.shape}')"
   ]
  },
  {
   "cell_type": "code",
   "execution_count": null,
   "id": "51d42241-e9fb-46e6-a4d1-030d9b036ddb",
   "metadata": {},
   "outputs": [],
   "source": []
  },
  {
   "cell_type": "code",
   "execution_count": null,
   "id": "a1dd8c09-4dbd-4ef3-8f90-d6614cbbc3d0",
   "metadata": {},
   "outputs": [],
   "source": []
  },
  {
   "cell_type": "code",
   "execution_count": null,
   "id": "e6a0a0c8-ce4d-4370-a675-f8c07b6dbc47",
   "metadata": {},
   "outputs": [],
   "source": []
  },
  {
   "cell_type": "code",
   "execution_count": null,
   "id": "75b821a8-59be-41b4-828a-68439ef45a73",
   "metadata": {},
   "outputs": [],
   "source": []
  },
  {
   "cell_type": "code",
   "execution_count": null,
   "id": "5af57f2e-9e01-441f-ab32-072f12ec5f35",
   "metadata": {},
   "outputs": [],
   "source": []
  },
  {
   "cell_type": "code",
   "execution_count": 76,
   "id": "61059cb5-63f2-4073-adba-7381b9291a84",
   "metadata": {
    "tags": []
   },
   "outputs": [
    {
     "ename": "NameError",
     "evalue": "name 'dlatents_in' is not defined",
     "output_type": "error",
     "traceback": [
      "\u001b[1;31m---------------------------------------------------------------------------\u001b[0m",
      "\u001b[1;31mNameError\u001b[0m                                 Traceback (most recent call last)",
      "Cell \u001b[1;32mIn[76], line 1\u001b[0m\n\u001b[1;32m----> 1\u001b[0m batch_size\u001b[38;5;241m=\u001b[39m\u001b[43mdlatents_in\u001b[49m[:, \u001b[38;5;241m0\u001b[39m:\u001b[38;5;241m2\u001b[39m]\u001b[38;5;241m.\u001b[39msize(\u001b[38;5;241m0\u001b[39m)\n\u001b[0;32m      2\u001b[0m x\u001b[38;5;241m=\u001b[39mconst\u001b[38;5;241m.\u001b[39mexpand(batch_size, \u001b[38;5;241m-\u001b[39m\u001b[38;5;241m1\u001b[39m, \u001b[38;5;241m-\u001b[39m\u001b[38;5;241m1\u001b[39m, \u001b[38;5;241m-\u001b[39m\u001b[38;5;241m1\u001b[39m)\n\u001b[0;32m      3\u001b[0m x\u001b[38;5;241m=\u001b[39mx \u001b[38;5;241m+\u001b[39m bias\u001b[38;5;241m.\u001b[39mview(\u001b[38;5;241m1\u001b[39m, \u001b[38;5;241m-\u001b[39m\u001b[38;5;241m1\u001b[39m, \u001b[38;5;241m1\u001b[39m, \u001b[38;5;241m1\u001b[39m)\n",
      "\u001b[1;31mNameError\u001b[0m: name 'dlatents_in' is not defined"
     ]
    }
   ],
   "source": [
    "batch_size=dlatents_in[:, 0:2].size(0)\n",
    "x=const.expand(batch_size, -1, -1, -1)\n",
    "x=x + bias.view(1, -1, 1, 1)\n",
    "x.shape"
   ]
  },
  {
   "cell_type": "code",
   "execution_count": 199,
   "id": "a2982544-a87a-4055-85c4-8f9ae7ff8b2c",
   "metadata": {
    "tags": []
   },
   "outputs": [
    {
     "name": "stdout",
     "output_type": "stream",
     "text": [
      "torch.Size([1, 512, 4, 4])\n"
     ]
    }
   ],
   "source": [
    "def nf(stage):\n",
    "    return min(int(fmap_base / (2.0 ** (stage * fmap_decay))), fmap_max)\n",
    "\n",
    "const=nn.Parameter(torch.ones(1, nf(1), 4, 4))\n",
    "bias=nn.Parameter(torch.ones(nf(1)))\n",
    "print(const.shape)"
   ]
  },
  {
   "cell_type": "code",
   "execution_count": 251,
   "id": "0d3dc5ad-38e5-4543-abf3-6a1896f62665",
   "metadata": {
    "tags": []
   },
   "outputs": [
    {
     "name": "stdout",
     "output_type": "stream",
     "text": [
      "0 NoiseLayer()\n",
      "1 LeakyReLU(negative_slope=0.2)\n",
      "2 InstanceNorm2d(512, eps=1e-05, momentum=0.1, affine=False, track_running_stats=False)\n"
     ]
    }
   ],
   "source": [
    "for idx,layer in enumerate(init_block.epi1.top_epi):\n",
    "    print(idx,layer)"
   ]
  },
  {
   "cell_type": "code",
   "execution_count": null,
   "id": "eb0b1a2a-d574-4887-9162-04cd92e1b9d8",
   "metadata": {},
   "outputs": [],
   "source": []
  },
  {
   "cell_type": "code",
   "execution_count": null,
   "id": "f479aa2e-f5b5-4b8c-aa6e-e8a99ba0d1b8",
   "metadata": {},
   "outputs": [],
   "source": []
  },
  {
   "cell_type": "code",
   "execution_count": null,
   "id": "bd729ac8-d771-4a3d-b3de-c9ede2b83947",
   "metadata": {},
   "outputs": [],
   "source": []
  },
  {
   "cell_type": "code",
   "execution_count": null,
   "id": "86348e0b-aa6c-441e-a992-84a10ea7c46e",
   "metadata": {},
   "outputs": [],
   "source": []
  },
  {
   "cell_type": "code",
   "execution_count": null,
   "id": "798715a6-fe67-4c3b-84f9-ee3012327222",
   "metadata": {},
   "outputs": [],
   "source": []
  },
  {
   "cell_type": "code",
   "execution_count": null,
   "id": "135c3cbf-e33d-4010-bcb7-420bd4e54f13",
   "metadata": {},
   "outputs": [],
   "source": []
  },
  {
   "cell_type": "code",
   "execution_count": null,
   "id": "d3eadf3d-b9dd-470b-a0f1-55cb89df002f",
   "metadata": {},
   "outputs": [],
   "source": []
  },
  {
   "cell_type": "code",
   "execution_count": null,
   "id": "0383e4d4-868d-4ebb-9048-a041fb543b89",
   "metadata": {},
   "outputs": [],
   "source": []
  },
  {
   "cell_type": "code",
   "execution_count": null,
   "id": "da22bb85-86df-45e7-ad17-75a180a47733",
   "metadata": {},
   "outputs": [],
   "source": []
  },
  {
   "cell_type": "code",
   "execution_count": null,
   "id": "4027a446-faa0-4643-8273-ca34af78b00e",
   "metadata": {},
   "outputs": [],
   "source": []
  },
  {
   "cell_type": "code",
   "execution_count": null,
   "id": "2eccff92-e837-4380-80aa-ae26abbfdc4f",
   "metadata": {},
   "outputs": [],
   "source": []
  },
  {
   "cell_type": "code",
   "execution_count": null,
   "id": "d65ad744-19d4-4d01-9d74-d971be102cc2",
   "metadata": {},
   "outputs": [],
   "source": []
  },
  {
   "cell_type": "code",
   "execution_count": null,
   "id": "5843497c-9e97-44aa-95ba-21fbe667bea1",
   "metadata": {},
   "outputs": [],
   "source": []
  },
  {
   "cell_type": "code",
   "execution_count": null,
   "id": "951d1818-424b-472d-8b1a-c07d1a2cbb42",
   "metadata": {},
   "outputs": [],
   "source": []
  },
  {
   "cell_type": "code",
   "execution_count": null,
   "id": "ab093fab-2902-4a85-844b-472eaaaa263a",
   "metadata": {},
   "outputs": [],
   "source": []
  },
  {
   "cell_type": "code",
   "execution_count": null,
   "id": "bcb2a2e3-0665-40f4-b8d2-af2d9181786c",
   "metadata": {},
   "outputs": [],
   "source": []
  },
  {
   "cell_type": "code",
   "execution_count": null,
   "id": "4580d86b-f4a6-4e6d-8a5b-8dea53ce2c2c",
   "metadata": {},
   "outputs": [],
   "source": []
  },
  {
   "cell_type": "code",
   "execution_count": null,
   "id": "86913e56-3acd-42ad-a0b7-9c63047bcc88",
   "metadata": {},
   "outputs": [],
   "source": []
  },
  {
   "cell_type": "code",
   "execution_count": null,
   "id": "58207e9c-964f-49d5-b0a5-beb9ce663d51",
   "metadata": {},
   "outputs": [],
   "source": []
  },
  {
   "cell_type": "code",
   "execution_count": null,
   "id": "4008ee17-c103-41db-af9f-c15443e4a199",
   "metadata": {},
   "outputs": [],
   "source": []
  },
  {
   "cell_type": "code",
   "execution_count": null,
   "id": "d37a11dc-2d32-4bb1-8cf8-e38761f53a1e",
   "metadata": {},
   "outputs": [],
   "source": []
  },
  {
   "cell_type": "code",
   "execution_count": null,
   "id": "f658b00c-5d04-45bd-bb12-bd688182915d",
   "metadata": {},
   "outputs": [],
   "source": []
  },
  {
   "cell_type": "code",
   "execution_count": null,
   "id": "a83df519-5794-4bcc-a047-985112507153",
   "metadata": {},
   "outputs": [],
   "source": []
  },
  {
   "cell_type": "code",
   "execution_count": null,
   "id": "5b26b509-4daa-4b5c-90bb-d33a552be9db",
   "metadata": {},
   "outputs": [],
   "source": []
  },
  {
   "cell_type": "code",
   "execution_count": null,
   "id": "4c3c7926-44da-4edd-abe8-7e5c9c2b6cf4",
   "metadata": {},
   "outputs": [],
   "source": []
  },
  {
   "cell_type": "code",
   "execution_count": null,
   "id": "f27ffd69-7285-497f-bc24-f92519187a1e",
   "metadata": {},
   "outputs": [],
   "source": []
  },
  {
   "cell_type": "code",
   "execution_count": null,
   "id": "8d8943d0-3a88-4748-aa88-e3da33c70e33",
   "metadata": {},
   "outputs": [],
   "source": []
  },
  {
   "cell_type": "code",
   "execution_count": null,
   "id": "4762c0b5-1b3f-4e10-8133-2f107415a014",
   "metadata": {},
   "outputs": [],
   "source": []
  },
  {
   "cell_type": "code",
   "execution_count": null,
   "id": "b4dc8dc4-c91e-46ed-93fd-e62cbd174c6c",
   "metadata": {},
   "outputs": [],
   "source": []
  },
  {
   "cell_type": "code",
   "execution_count": null,
   "id": "f50a4923-efed-4469-87b8-45d77f9078b9",
   "metadata": {},
   "outputs": [],
   "source": []
  },
  {
   "cell_type": "markdown",
   "id": "df59fe9b-6c1c-4aa5-a11d-60c707969289",
   "metadata": {
    "tags": []
   },
   "source": [
    "* 优化$D$（判别器）网络\n",
    "\n",
    "`optimize_generator(self, noise, real_batch, depth, alpha, labels=None)`\n",
    "\n",
    "\n",
    "下采样到深度$n$（`AvgPool2d`方法）与下采样到深度$n-1$（`AvgPool2d`方法）的`interpolate`上采样至深度$n$真实图像的混合（对应比例为`alpha`和`1-alpha`）。"
   ]
  },
  {
   "cell_type": "code",
   "execution_count": 79,
   "id": "b1e509ae-d03d-4b0f-a39e-9a03e84abce6",
   "metadata": {
    "tags": []
   },
   "outputs": [
    {
     "name": "stdout",
     "output_type": "stream",
     "text": [
      "original real images shape:torch.Size([128, 3, 128, 128]);\n",
      "down_sampling shape:torch.Size([128, 3, 4, 4])\n"
     ]
    }
   ],
   "source": [
    "real_samples=sgan_gadgets.progressive_down_sampling(images,total_depth=6,current_depth=0,alpha=alpha)\n",
    "print(f'original real images shape:{images.shape};\\ndown_sampling shape:{real_samples.shape}')"
   ]
  },
  {
   "cell_type": "code",
   "execution_count": null,
   "id": "7c0a1b7c-a9b9-49f9-a149-cac27075cc06",
   "metadata": {},
   "outputs": [],
   "source": []
  },
  {
   "cell_type": "code",
   "execution_count": null,
   "id": "40ca0510-1f24-45e7-a4fa-fbf12a6dd5f1",
   "metadata": {},
   "outputs": [],
   "source": []
  },
  {
   "cell_type": "code",
   "execution_count": null,
   "id": "e141a29e-cd89-422f-8b7f-9c0349e3690d",
   "metadata": {},
   "outputs": [],
   "source": []
  },
  {
   "cell_type": "code",
   "execution_count": null,
   "id": "6f8b8a6e-3c39-44cc-9c37-76c7ce0644f4",
   "metadata": {},
   "outputs": [],
   "source": []
  },
  {
   "cell_type": "code",
   "execution_count": null,
   "id": "7b84c0c8-9420-458e-a057-f4a33854e9a8",
   "metadata": {},
   "outputs": [],
   "source": []
  },
  {
   "cell_type": "code",
   "execution_count": null,
   "id": "145ff1fa-5e14-43a4-8bb4-7211ef371e30",
   "metadata": {},
   "outputs": [],
   "source": []
  },
  {
   "cell_type": "code",
   "execution_count": null,
   "id": "877cc786-aada-4b88-92d6-8958c201f259",
   "metadata": {},
   "outputs": [],
   "source": []
  },
  {
   "cell_type": "code",
   "execution_count": null,
   "id": "c49d3c5b-35c4-42fb-9c9f-35ef056c508b",
   "metadata": {},
   "outputs": [],
   "source": []
  },
  {
   "cell_type": "code",
   "execution_count": null,
   "id": "15c03769-76a7-41a9-b749-ef65a28e105e",
   "metadata": {},
   "outputs": [],
   "source": [
    "s"
   ]
  },
  {
   "cell_type": "code",
   "execution_count": 23,
   "id": "79c0910c-57ea-4df5-ab3b-9c1527b545b2",
   "metadata": {},
   "outputs": [
    {
     "name": "stdout",
     "output_type": "stream",
     "text": [
      "2023-04-15 08:07:03 INFO: Using 1 GPUs.\n",
      "2023-04-15 08:07:03 INFO: Using 1 GPUs.\n",
      "2023-04-15 08:07:03 INFO: Using 1 GPUs.\n",
      "2023-04-15 08:07:03 INFO: Using 1 GPUs.\n",
      "2023-04-15 08:07:03 INFO: Using 1 GPUs.\n",
      "2023-04-15 08:07:03 INFO: Using 1 GPUs.\n",
      "2023-04-15 08:07:03 INFO: Training on NVIDIA GeForce RTX 2080 with Max-Q Design.\n",
      "\n",
      "2023-04-15 08:07:03 INFO: Training on NVIDIA GeForce RTX 2080 with Max-Q Design.\n",
      "\n",
      "2023-04-15 08:07:03 INFO: Training on NVIDIA GeForce RTX 2080 with Max-Q Design.\n",
      "\n",
      "2023-04-15 08:07:03 INFO: Training on NVIDIA GeForce RTX 2080 with Max-Q Design.\n",
      "\n",
      "2023-04-15 08:07:03 INFO: Training on NVIDIA GeForce RTX 2080 with Max-Q Design.\n",
      "\n",
      "2023-04-15 08:07:03 INFO: Training on NVIDIA GeForce RTX 2080 with Max-Q Design.\n",
      "\n",
      "2023-04-15 08:07:06 INFO: Training from scratch...\n",
      "2023-04-15 08:07:06 INFO: Training from scratch...\n",
      "2023-04-15 08:07:06 INFO: Training from scratch...\n",
      "2023-04-15 08:07:06 INFO: Training from scratch...\n",
      "2023-04-15 08:07:06 INFO: Training from scratch...\n",
      "2023-04-15 08:07:06 INFO: Training from scratch...\n"
     ]
    }
   ],
   "source": [
    "sgan=Stylegan_train()\n",
    "\n",
    "sgan.opt.output_dir=r'I:\\model_ckpts\\styleGAN4naip\\sgan7'\n",
    "sgan.opt.dataset.img_dir=r'I:\\data\\NAIP4StyleGAN\\naip_512' #naip_8\n",
    "sgan.opt.dataset.folder=False\n",
    "sgan.opt.dataset.resolution=512\n",
    "sgan.opt.structure='linear'\n",
    "sgan.opt.epochs=[40,80,80,80,80,30,30,30,30]\n",
    "sgan.opt.sched.batch_sizes = [128*3]*9\n",
    "sgan.opt.ckpt.start_depth=5\n",
    "\n",
    "sgan.configuration()\n",
    "sgan.build_dataset()\n",
    "sgan.init_network()"
   ]
  },
  {
   "cell_type": "code",
   "execution_count": 8,
   "id": "0eb7ac0a-5455-42e7-8528-74d2683de04a",
   "metadata": {},
   "outputs": [],
   "source": []
  },
  {
   "cell_type": "code",
   "execution_count": 24,
   "id": "04bcbf6d-8b76-41fd-8413-61d8d172df15",
   "metadata": {},
   "outputs": [
    {
     "name": "stdout",
     "output_type": "stream",
     "text": [
      "2023-04-15 08:07:14 INFO: Starting the training process ... \n",
      "\n",
      "2023-04-15 08:07:14 INFO: Starting the training process ... \n",
      "\n",
      "2023-04-15 08:07:14 INFO: Starting the training process ... \n",
      "\n",
      "2023-04-15 08:07:14 INFO: Starting the training process ... \n",
      "\n",
      "2023-04-15 08:07:14 INFO: Starting the training process ... \n",
      "\n",
      "2023-04-15 08:07:14 INFO: Starting the training process ... \n",
      "\n",
      "2023-04-15 08:07:14 INFO: Currently working on depth: 6\n",
      "2023-04-15 08:07:14 INFO: Currently working on depth: 6\n",
      "2023-04-15 08:07:14 INFO: Currently working on depth: 6\n",
      "2023-04-15 08:07:14 INFO: Currently working on depth: 6\n",
      "2023-04-15 08:07:14 INFO: Currently working on depth: 6\n",
      "2023-04-15 08:07:14 INFO: Currently working on depth: 6\n",
      "2023-04-15 08:07:14 INFO: Current resolution: 128 x 128\n",
      "2023-04-15 08:07:14 INFO: Current resolution: 128 x 128\n",
      "2023-04-15 08:07:14 INFO: Current resolution: 128 x 128\n",
      "2023-04-15 08:07:14 INFO: Current resolution: 128 x 128\n",
      "2023-04-15 08:07:14 INFO: Current resolution: 128 x 128\n",
      "2023-04-15 08:07:14 INFO: Current resolution: 128 x 128\n",
      "2023-04-15 08:07:14 INFO: Epoch: [1]\n",
      "2023-04-15 08:07:14 INFO: Epoch: [1]\n",
      "2023-04-15 08:07:14 INFO: Epoch: [1]\n",
      "2023-04-15 08:07:14 INFO: Epoch: [1]\n",
      "2023-04-15 08:07:14 INFO: Epoch: [1]\n",
      "2023-04-15 08:07:14 INFO: Epoch: [1]\n"
     ]
    },
    {
     "ename": "OutOfMemoryError",
     "evalue": "CUDA out of memory. Tried to allocate 768.00 MiB (GPU 0; 8.00 GiB total capacity; 6.24 GiB already allocated; 0 bytes free; 7.10 GiB reserved in total by PyTorch) If reserved memory is >> allocated memory try setting max_split_size_mb to avoid fragmentation.  See documentation for Memory Management and PYTORCH_CUDA_ALLOC_CONF",
     "output_type": "error",
     "traceback": [
      "\u001b[1;31m---------------------------------------------------------------------------\u001b[0m",
      "\u001b[1;31mOutOfMemoryError\u001b[0m                          Traceback (most recent call last)",
      "Cell \u001b[1;32mIn[24], line 1\u001b[0m\n\u001b[1;32m----> 1\u001b[0m \u001b[43msgan\u001b[49m\u001b[38;5;241;43m.\u001b[39;49m\u001b[43mtrain\u001b[49m\u001b[43m(\u001b[49m\u001b[43m)\u001b[49m\n",
      "File \u001b[1;32m~\\anaconda3\\envs\\pytorch\\lib\\site-packages\\usda\\migrated_project\\stylegan\\train.py:136\u001b[0m, in \u001b[0;36mStylegan_train.train\u001b[1;34m(self)\u001b[0m\n\u001b[0;32m    134\u001b[0m \u001b[38;5;28;01mdef\u001b[39;00m \u001b[38;5;21mtrain\u001b[39m(\u001b[38;5;28mself\u001b[39m):\n\u001b[0;32m    135\u001b[0m     \u001b[38;5;66;03m# train the network\u001b[39;00m\n\u001b[1;32m--> 136\u001b[0m     \u001b[38;5;28;43mself\u001b[39;49m\u001b[38;5;241;43m.\u001b[39;49m\u001b[43mstyle_gan\u001b[49m\u001b[38;5;241;43m.\u001b[39;49m\u001b[43mtrain\u001b[49m\u001b[43m(\u001b[49m\u001b[43mdataset\u001b[49m\u001b[38;5;241;43m=\u001b[39;49m\u001b[38;5;28;43mself\u001b[39;49m\u001b[38;5;241;43m.\u001b[39;49m\u001b[43mdataset\u001b[49m\u001b[43m,\u001b[49m\n\u001b[0;32m    137\u001b[0m \u001b[43m                  \u001b[49m\u001b[43mnum_workers\u001b[49m\u001b[38;5;241;43m=\u001b[39;49m\u001b[38;5;28;43mself\u001b[39;49m\u001b[38;5;241;43m.\u001b[39;49m\u001b[43mopt\u001b[49m\u001b[38;5;241;43m.\u001b[39;49m\u001b[43mnum_works\u001b[49m\u001b[43m,\u001b[49m\n\u001b[0;32m    138\u001b[0m \u001b[43m                  \u001b[49m\u001b[43mepochs\u001b[49m\u001b[38;5;241;43m=\u001b[39;49m\u001b[38;5;28;43mself\u001b[39;49m\u001b[38;5;241;43m.\u001b[39;49m\u001b[43mopt\u001b[49m\u001b[38;5;241;43m.\u001b[39;49m\u001b[43msched\u001b[49m\u001b[38;5;241;43m.\u001b[39;49m\u001b[43mepochs\u001b[49m\u001b[43m,\u001b[49m\n\u001b[0;32m    139\u001b[0m \u001b[43m                  \u001b[49m\u001b[43mbatch_sizes\u001b[49m\u001b[38;5;241;43m=\u001b[39;49m\u001b[38;5;28;43mself\u001b[39;49m\u001b[38;5;241;43m.\u001b[39;49m\u001b[43mopt\u001b[49m\u001b[38;5;241;43m.\u001b[39;49m\u001b[43msched\u001b[49m\u001b[38;5;241;43m.\u001b[39;49m\u001b[43mbatch_sizes\u001b[49m\u001b[43m,\u001b[49m\n\u001b[0;32m    140\u001b[0m \u001b[43m                  \u001b[49m\u001b[43mfade_in_percentage\u001b[49m\u001b[38;5;241;43m=\u001b[39;49m\u001b[38;5;28;43mself\u001b[39;49m\u001b[38;5;241;43m.\u001b[39;49m\u001b[43mopt\u001b[49m\u001b[38;5;241;43m.\u001b[39;49m\u001b[43msched\u001b[49m\u001b[38;5;241;43m.\u001b[39;49m\u001b[43mfade_in_percentage\u001b[49m\u001b[43m,\u001b[49m\n\u001b[0;32m    141\u001b[0m \u001b[43m                  \u001b[49m\u001b[43mlogger\u001b[49m\u001b[38;5;241;43m=\u001b[39;49m\u001b[38;5;28;43mself\u001b[39;49m\u001b[38;5;241;43m.\u001b[39;49m\u001b[43mlogger\u001b[49m\u001b[43m,\u001b[49m\n\u001b[0;32m    142\u001b[0m \u001b[43m                  \u001b[49m\u001b[43moutput\u001b[49m\u001b[38;5;241;43m=\u001b[39;49m\u001b[38;5;28;43mself\u001b[39;49m\u001b[38;5;241;43m.\u001b[39;49m\u001b[43mopt\u001b[49m\u001b[38;5;241;43m.\u001b[39;49m\u001b[43moutput_dir\u001b[49m\u001b[43m,\u001b[49m\n\u001b[0;32m    143\u001b[0m \u001b[43m                  \u001b[49m\u001b[43mnum_samples\u001b[49m\u001b[38;5;241;43m=\u001b[39;49m\u001b[38;5;28;43mself\u001b[39;49m\u001b[38;5;241;43m.\u001b[39;49m\u001b[43mopt\u001b[49m\u001b[38;5;241;43m.\u001b[39;49m\u001b[43mnum_samples\u001b[49m\u001b[43m,\u001b[49m\n\u001b[0;32m    144\u001b[0m \u001b[43m                  \u001b[49m\u001b[43mstart_depth\u001b[49m\u001b[38;5;241;43m=\u001b[39;49m\u001b[38;5;28;43mself\u001b[39;49m\u001b[38;5;241;43m.\u001b[39;49m\u001b[43margs\u001b[49m\u001b[38;5;241;43m.\u001b[39;49m\u001b[43mckpt\u001b[49m\u001b[38;5;241;43m.\u001b[39;49m\u001b[43mstart_depth\u001b[49m\u001b[43m,\u001b[49m\n\u001b[0;32m    145\u001b[0m \u001b[43m                  \u001b[49m\u001b[43mfeedback_factor\u001b[49m\u001b[38;5;241;43m=\u001b[39;49m\u001b[38;5;28;43mself\u001b[39;49m\u001b[38;5;241;43m.\u001b[39;49m\u001b[43mopt\u001b[49m\u001b[38;5;241;43m.\u001b[39;49m\u001b[43mfeedback_factor\u001b[49m\u001b[43m,\u001b[49m\n\u001b[0;32m    146\u001b[0m \u001b[43m                  \u001b[49m\u001b[43mcheckpoint_factor\u001b[49m\u001b[38;5;241;43m=\u001b[39;49m\u001b[38;5;28;43mself\u001b[39;49m\u001b[38;5;241;43m.\u001b[39;49m\u001b[43mopt\u001b[49m\u001b[38;5;241;43m.\u001b[39;49m\u001b[43mcheckpoint_factor\u001b[49m\u001b[43m)\u001b[49m\n",
      "File \u001b[1;32m~\\anaconda3\\envs\\pytorch\\lib\\site-packages\\usda\\migrated_project\\stylegan\\models\\_GAN.py:767\u001b[0m, in \u001b[0;36mStyleGAN.train\u001b[1;34m(self, dataset, num_workers, epochs, batch_sizes, fade_in_percentage, logger, output, num_samples, start_depth, feedback_factor, checkpoint_factor)\u001b[0m\n\u001b[0;32m    764\u001b[0m gan_input \u001b[38;5;241m=\u001b[39m torch\u001b[38;5;241m.\u001b[39mrandn(images\u001b[38;5;241m.\u001b[39mshape[\u001b[38;5;241m0\u001b[39m], \u001b[38;5;28mself\u001b[39m\u001b[38;5;241m.\u001b[39mlatent_size)\u001b[38;5;241m.\u001b[39mto(\u001b[38;5;28mself\u001b[39m\u001b[38;5;241m.\u001b[39mdevice)\n\u001b[0;32m    766\u001b[0m \u001b[38;5;66;03m# optimize the discriminator:\u001b[39;00m\n\u001b[1;32m--> 767\u001b[0m dis_loss \u001b[38;5;241m=\u001b[39m \u001b[38;5;28;43mself\u001b[39;49m\u001b[38;5;241;43m.\u001b[39;49m\u001b[43moptimize_discriminator\u001b[49m\u001b[43m(\u001b[49m\u001b[43mgan_input\u001b[49m\u001b[43m,\u001b[49m\u001b[43m \u001b[49m\u001b[43mimages\u001b[49m\u001b[43m,\u001b[49m\u001b[43m \u001b[49m\u001b[43mcurrent_depth\u001b[49m\u001b[43m,\u001b[49m\u001b[43m \u001b[49m\u001b[43malpha\u001b[49m\u001b[43m,\u001b[49m\u001b[43m \u001b[49m\u001b[43mlabels\u001b[49m\u001b[43m)\u001b[49m\n\u001b[0;32m    769\u001b[0m \u001b[38;5;66;03m# optimize the generator:\u001b[39;00m\n\u001b[0;32m    770\u001b[0m gen_loss \u001b[38;5;241m=\u001b[39m \u001b[38;5;28mself\u001b[39m\u001b[38;5;241m.\u001b[39moptimize_generator(gan_input, images, current_depth, alpha, labels)\n",
      "File \u001b[1;32m~\\anaconda3\\envs\\pytorch\\lib\\site-packages\\usda\\migrated_project\\stylegan\\models\\_GAN.py:606\u001b[0m, in \u001b[0;36mStyleGAN.optimize_discriminator\u001b[1;34m(self, noise, real_batch, depth, alpha, labels)\u001b[0m\n\u001b[0;32m    603\u001b[0m loss_val \u001b[38;5;241m=\u001b[39m \u001b[38;5;241m0\u001b[39m\n\u001b[0;32m    604\u001b[0m \u001b[38;5;28;01mfor\u001b[39;00m _ \u001b[38;5;129;01min\u001b[39;00m \u001b[38;5;28mrange\u001b[39m(\u001b[38;5;28mself\u001b[39m\u001b[38;5;241m.\u001b[39md_repeats):\n\u001b[0;32m    605\u001b[0m     \u001b[38;5;66;03m# generate a batch of samples\u001b[39;00m\n\u001b[1;32m--> 606\u001b[0m     fake_samples \u001b[38;5;241m=\u001b[39m \u001b[38;5;28;43mself\u001b[39;49m\u001b[38;5;241;43m.\u001b[39;49m\u001b[43mgen\u001b[49m\u001b[43m(\u001b[49m\u001b[43mnoise\u001b[49m\u001b[43m,\u001b[49m\u001b[43m \u001b[49m\u001b[43mdepth\u001b[49m\u001b[43m,\u001b[49m\u001b[43m \u001b[49m\u001b[43malpha\u001b[49m\u001b[43m,\u001b[49m\u001b[43m \u001b[49m\u001b[43mlabels\u001b[49m\u001b[43m)\u001b[49m\u001b[38;5;241m.\u001b[39mdetach()\n\u001b[0;32m    608\u001b[0m     \u001b[38;5;28;01mif\u001b[39;00m \u001b[38;5;129;01mnot\u001b[39;00m \u001b[38;5;28mself\u001b[39m\u001b[38;5;241m.\u001b[39mconditional:\n\u001b[0;32m    609\u001b[0m         loss \u001b[38;5;241m=\u001b[39m \u001b[38;5;28mself\u001b[39m\u001b[38;5;241m.\u001b[39mloss\u001b[38;5;241m.\u001b[39mdis_loss(\n\u001b[0;32m    610\u001b[0m             real_samples, fake_samples, depth, alpha)\n",
      "File \u001b[1;32m~\\anaconda3\\envs\\pytorch\\lib\\site-packages\\torch\\nn\\modules\\module.py:1501\u001b[0m, in \u001b[0;36mModule._call_impl\u001b[1;34m(self, *args, **kwargs)\u001b[0m\n\u001b[0;32m   1496\u001b[0m \u001b[38;5;66;03m# If we don't have any hooks, we want to skip the rest of the logic in\u001b[39;00m\n\u001b[0;32m   1497\u001b[0m \u001b[38;5;66;03m# this function, and just call forward.\u001b[39;00m\n\u001b[0;32m   1498\u001b[0m \u001b[38;5;28;01mif\u001b[39;00m \u001b[38;5;129;01mnot\u001b[39;00m (\u001b[38;5;28mself\u001b[39m\u001b[38;5;241m.\u001b[39m_backward_hooks \u001b[38;5;129;01mor\u001b[39;00m \u001b[38;5;28mself\u001b[39m\u001b[38;5;241m.\u001b[39m_backward_pre_hooks \u001b[38;5;129;01mor\u001b[39;00m \u001b[38;5;28mself\u001b[39m\u001b[38;5;241m.\u001b[39m_forward_hooks \u001b[38;5;129;01mor\u001b[39;00m \u001b[38;5;28mself\u001b[39m\u001b[38;5;241m.\u001b[39m_forward_pre_hooks\n\u001b[0;32m   1499\u001b[0m         \u001b[38;5;129;01mor\u001b[39;00m _global_backward_pre_hooks \u001b[38;5;129;01mor\u001b[39;00m _global_backward_hooks\n\u001b[0;32m   1500\u001b[0m         \u001b[38;5;129;01mor\u001b[39;00m _global_forward_hooks \u001b[38;5;129;01mor\u001b[39;00m _global_forward_pre_hooks):\n\u001b[1;32m-> 1501\u001b[0m     \u001b[38;5;28;01mreturn\u001b[39;00m forward_call(\u001b[38;5;241m*\u001b[39margs, \u001b[38;5;241m*\u001b[39m\u001b[38;5;241m*\u001b[39mkwargs)\n\u001b[0;32m   1502\u001b[0m \u001b[38;5;66;03m# Do not call functions when jit is used\u001b[39;00m\n\u001b[0;32m   1503\u001b[0m full_backward_hooks, non_full_backward_hooks \u001b[38;5;241m=\u001b[39m [], []\n",
      "File \u001b[1;32m~\\anaconda3\\envs\\pytorch\\lib\\site-packages\\usda\\migrated_project\\stylegan\\models\\_GAN.py:294\u001b[0m, in \u001b[0;36mGenerator.forward\u001b[1;34m(self, latents_in, depth, alpha, labels_in)\u001b[0m\n\u001b[0;32m    291\u001b[0m     \u001b[38;5;28;01mif\u001b[39;00m \u001b[38;5;28mself\u001b[39m\u001b[38;5;241m.\u001b[39mtruncation \u001b[38;5;129;01mis\u001b[39;00m \u001b[38;5;129;01mnot\u001b[39;00m \u001b[38;5;28;01mNone\u001b[39;00m:\n\u001b[0;32m    292\u001b[0m         dlatents_in \u001b[38;5;241m=\u001b[39m \u001b[38;5;28mself\u001b[39m\u001b[38;5;241m.\u001b[39mtruncation(dlatents_in)\n\u001b[1;32m--> 294\u001b[0m fake_images \u001b[38;5;241m=\u001b[39m \u001b[38;5;28;43mself\u001b[39;49m\u001b[38;5;241;43m.\u001b[39;49m\u001b[43mg_synthesis\u001b[49m\u001b[43m(\u001b[49m\u001b[43mdlatents_in\u001b[49m\u001b[43m,\u001b[49m\u001b[43m \u001b[49m\u001b[43mdepth\u001b[49m\u001b[43m,\u001b[49m\u001b[43m \u001b[49m\u001b[43malpha\u001b[49m\u001b[43m)\u001b[49m\n\u001b[0;32m    296\u001b[0m \u001b[38;5;28;01mreturn\u001b[39;00m fake_images\n",
      "File \u001b[1;32m~\\anaconda3\\envs\\pytorch\\lib\\site-packages\\torch\\nn\\modules\\module.py:1501\u001b[0m, in \u001b[0;36mModule._call_impl\u001b[1;34m(self, *args, **kwargs)\u001b[0m\n\u001b[0;32m   1496\u001b[0m \u001b[38;5;66;03m# If we don't have any hooks, we want to skip the rest of the logic in\u001b[39;00m\n\u001b[0;32m   1497\u001b[0m \u001b[38;5;66;03m# this function, and just call forward.\u001b[39;00m\n\u001b[0;32m   1498\u001b[0m \u001b[38;5;28;01mif\u001b[39;00m \u001b[38;5;129;01mnot\u001b[39;00m (\u001b[38;5;28mself\u001b[39m\u001b[38;5;241m.\u001b[39m_backward_hooks \u001b[38;5;129;01mor\u001b[39;00m \u001b[38;5;28mself\u001b[39m\u001b[38;5;241m.\u001b[39m_backward_pre_hooks \u001b[38;5;129;01mor\u001b[39;00m \u001b[38;5;28mself\u001b[39m\u001b[38;5;241m.\u001b[39m_forward_hooks \u001b[38;5;129;01mor\u001b[39;00m \u001b[38;5;28mself\u001b[39m\u001b[38;5;241m.\u001b[39m_forward_pre_hooks\n\u001b[0;32m   1499\u001b[0m         \u001b[38;5;129;01mor\u001b[39;00m _global_backward_pre_hooks \u001b[38;5;129;01mor\u001b[39;00m _global_backward_hooks\n\u001b[0;32m   1500\u001b[0m         \u001b[38;5;129;01mor\u001b[39;00m _global_forward_hooks \u001b[38;5;129;01mor\u001b[39;00m _global_forward_pre_hooks):\n\u001b[1;32m-> 1501\u001b[0m     \u001b[38;5;28;01mreturn\u001b[39;00m forward_call(\u001b[38;5;241m*\u001b[39margs, \u001b[38;5;241m*\u001b[39m\u001b[38;5;241m*\u001b[39mkwargs)\n\u001b[0;32m   1502\u001b[0m \u001b[38;5;66;03m# Do not call functions when jit is used\u001b[39;00m\n\u001b[0;32m   1503\u001b[0m full_backward_hooks, non_full_backward_hooks \u001b[38;5;241m=\u001b[39m [], []\n",
      "File \u001b[1;32m~\\anaconda3\\envs\\pytorch\\lib\\site-packages\\usda\\migrated_project\\stylegan\\models\\_GAN.py:196\u001b[0m, in \u001b[0;36mGSynthesis.forward\u001b[1;34m(self, dlatents_in, depth, alpha, labels_in)\u001b[0m\n\u001b[0;32m    194\u001b[0m \u001b[38;5;28;01mif\u001b[39;00m depth \u001b[38;5;241m>\u001b[39m \u001b[38;5;241m0\u001b[39m:\n\u001b[0;32m    195\u001b[0m     \u001b[38;5;28;01mfor\u001b[39;00m i, block \u001b[38;5;129;01min\u001b[39;00m \u001b[38;5;28menumerate\u001b[39m(\u001b[38;5;28mself\u001b[39m\u001b[38;5;241m.\u001b[39mblocks[:depth \u001b[38;5;241m-\u001b[39m \u001b[38;5;241m1\u001b[39m]):\n\u001b[1;32m--> 196\u001b[0m         x \u001b[38;5;241m=\u001b[39m \u001b[43mblock\u001b[49m\u001b[43m(\u001b[49m\u001b[43mx\u001b[49m\u001b[43m,\u001b[49m\u001b[43m \u001b[49m\u001b[43mdlatents_in\u001b[49m\u001b[43m[\u001b[49m\u001b[43m:\u001b[49m\u001b[43m,\u001b[49m\u001b[43m \u001b[49m\u001b[38;5;241;43m2\u001b[39;49m\u001b[43m \u001b[49m\u001b[38;5;241;43m*\u001b[39;49m\u001b[43m \u001b[49m\u001b[43m(\u001b[49m\u001b[43mi\u001b[49m\u001b[43m \u001b[49m\u001b[38;5;241;43m+\u001b[39;49m\u001b[43m \u001b[49m\u001b[38;5;241;43m1\u001b[39;49m\u001b[43m)\u001b[49m\u001b[43m:\u001b[49m\u001b[38;5;241;43m2\u001b[39;49m\u001b[43m \u001b[49m\u001b[38;5;241;43m*\u001b[39;49m\u001b[43m \u001b[49m\u001b[43m(\u001b[49m\u001b[43mi\u001b[49m\u001b[43m \u001b[49m\u001b[38;5;241;43m+\u001b[39;49m\u001b[43m \u001b[49m\u001b[38;5;241;43m2\u001b[39;49m\u001b[43m)\u001b[49m\u001b[43m]\u001b[49m\u001b[43m)\u001b[49m\n\u001b[0;32m    198\u001b[0m     residual \u001b[38;5;241m=\u001b[39m \u001b[38;5;28mself\u001b[39m\u001b[38;5;241m.\u001b[39mto_rgb[depth \u001b[38;5;241m-\u001b[39m \u001b[38;5;241m1\u001b[39m](\u001b[38;5;28mself\u001b[39m\u001b[38;5;241m.\u001b[39mtemporaryUpsampler(x))\n\u001b[0;32m    199\u001b[0m     straight \u001b[38;5;241m=\u001b[39m \u001b[38;5;28mself\u001b[39m\u001b[38;5;241m.\u001b[39mto_rgb[depth](\u001b[38;5;28mself\u001b[39m\u001b[38;5;241m.\u001b[39mblocks[depth \u001b[38;5;241m-\u001b[39m \u001b[38;5;241m1\u001b[39m](x, dlatents_in[:, \u001b[38;5;241m2\u001b[39m \u001b[38;5;241m*\u001b[39m depth:\u001b[38;5;241m2\u001b[39m \u001b[38;5;241m*\u001b[39m (depth \u001b[38;5;241m+\u001b[39m \u001b[38;5;241m1\u001b[39m)]))\n",
      "File \u001b[1;32m~\\anaconda3\\envs\\pytorch\\lib\\site-packages\\torch\\nn\\modules\\module.py:1501\u001b[0m, in \u001b[0;36mModule._call_impl\u001b[1;34m(self, *args, **kwargs)\u001b[0m\n\u001b[0;32m   1496\u001b[0m \u001b[38;5;66;03m# If we don't have any hooks, we want to skip the rest of the logic in\u001b[39;00m\n\u001b[0;32m   1497\u001b[0m \u001b[38;5;66;03m# this function, and just call forward.\u001b[39;00m\n\u001b[0;32m   1498\u001b[0m \u001b[38;5;28;01mif\u001b[39;00m \u001b[38;5;129;01mnot\u001b[39;00m (\u001b[38;5;28mself\u001b[39m\u001b[38;5;241m.\u001b[39m_backward_hooks \u001b[38;5;129;01mor\u001b[39;00m \u001b[38;5;28mself\u001b[39m\u001b[38;5;241m.\u001b[39m_backward_pre_hooks \u001b[38;5;129;01mor\u001b[39;00m \u001b[38;5;28mself\u001b[39m\u001b[38;5;241m.\u001b[39m_forward_hooks \u001b[38;5;129;01mor\u001b[39;00m \u001b[38;5;28mself\u001b[39m\u001b[38;5;241m.\u001b[39m_forward_pre_hooks\n\u001b[0;32m   1499\u001b[0m         \u001b[38;5;129;01mor\u001b[39;00m _global_backward_pre_hooks \u001b[38;5;129;01mor\u001b[39;00m _global_backward_hooks\n\u001b[0;32m   1500\u001b[0m         \u001b[38;5;129;01mor\u001b[39;00m _global_forward_hooks \u001b[38;5;129;01mor\u001b[39;00m _global_forward_pre_hooks):\n\u001b[1;32m-> 1501\u001b[0m     \u001b[38;5;28;01mreturn\u001b[39;00m forward_call(\u001b[38;5;241m*\u001b[39margs, \u001b[38;5;241m*\u001b[39m\u001b[38;5;241m*\u001b[39mkwargs)\n\u001b[0;32m   1502\u001b[0m \u001b[38;5;66;03m# Do not call functions when jit is used\u001b[39;00m\n\u001b[0;32m   1503\u001b[0m full_backward_hooks, non_full_backward_hooks \u001b[38;5;241m=\u001b[39m [], []\n",
      "File \u001b[1;32m~\\anaconda3\\envs\\pytorch\\lib\\site-packages\\usda\\migrated_project\\stylegan\\models\\_Blocks.py:84\u001b[0m, in \u001b[0;36mGSynthesisBlock.forward\u001b[1;34m(self, x, dlatents_in_range)\u001b[0m\n\u001b[0;32m     83\u001b[0m \u001b[38;5;28;01mdef\u001b[39;00m \u001b[38;5;21mforward\u001b[39m(\u001b[38;5;28mself\u001b[39m, x, dlatents_in_range):\n\u001b[1;32m---> 84\u001b[0m     x \u001b[38;5;241m=\u001b[39m \u001b[38;5;28;43mself\u001b[39;49m\u001b[38;5;241;43m.\u001b[39;49m\u001b[43mconv0_up\u001b[49m\u001b[43m(\u001b[49m\u001b[43mx\u001b[49m\u001b[43m)\u001b[49m\n\u001b[0;32m     85\u001b[0m     x \u001b[38;5;241m=\u001b[39m \u001b[38;5;28mself\u001b[39m\u001b[38;5;241m.\u001b[39mepi1(x, dlatents_in_range[:, \u001b[38;5;241m0\u001b[39m])\n\u001b[0;32m     86\u001b[0m     x \u001b[38;5;241m=\u001b[39m \u001b[38;5;28mself\u001b[39m\u001b[38;5;241m.\u001b[39mconv1(x)\n",
      "File \u001b[1;32m~\\anaconda3\\envs\\pytorch\\lib\\site-packages\\torch\\nn\\modules\\module.py:1501\u001b[0m, in \u001b[0;36mModule._call_impl\u001b[1;34m(self, *args, **kwargs)\u001b[0m\n\u001b[0;32m   1496\u001b[0m \u001b[38;5;66;03m# If we don't have any hooks, we want to skip the rest of the logic in\u001b[39;00m\n\u001b[0;32m   1497\u001b[0m \u001b[38;5;66;03m# this function, and just call forward.\u001b[39;00m\n\u001b[0;32m   1498\u001b[0m \u001b[38;5;28;01mif\u001b[39;00m \u001b[38;5;129;01mnot\u001b[39;00m (\u001b[38;5;28mself\u001b[39m\u001b[38;5;241m.\u001b[39m_backward_hooks \u001b[38;5;129;01mor\u001b[39;00m \u001b[38;5;28mself\u001b[39m\u001b[38;5;241m.\u001b[39m_backward_pre_hooks \u001b[38;5;129;01mor\u001b[39;00m \u001b[38;5;28mself\u001b[39m\u001b[38;5;241m.\u001b[39m_forward_hooks \u001b[38;5;129;01mor\u001b[39;00m \u001b[38;5;28mself\u001b[39m\u001b[38;5;241m.\u001b[39m_forward_pre_hooks\n\u001b[0;32m   1499\u001b[0m         \u001b[38;5;129;01mor\u001b[39;00m _global_backward_pre_hooks \u001b[38;5;129;01mor\u001b[39;00m _global_backward_hooks\n\u001b[0;32m   1500\u001b[0m         \u001b[38;5;129;01mor\u001b[39;00m _global_forward_hooks \u001b[38;5;129;01mor\u001b[39;00m _global_forward_pre_hooks):\n\u001b[1;32m-> 1501\u001b[0m     \u001b[38;5;28;01mreturn\u001b[39;00m forward_call(\u001b[38;5;241m*\u001b[39margs, \u001b[38;5;241m*\u001b[39m\u001b[38;5;241m*\u001b[39mkwargs)\n\u001b[0;32m   1502\u001b[0m \u001b[38;5;66;03m# Do not call functions when jit is used\u001b[39;00m\n\u001b[0;32m   1503\u001b[0m full_backward_hooks, non_full_backward_hooks \u001b[38;5;241m=\u001b[39m [], []\n",
      "File \u001b[1;32m~\\anaconda3\\envs\\pytorch\\lib\\site-packages\\usda\\migrated_project\\stylegan\\models\\_CustomLayers.py:176\u001b[0m, in \u001b[0;36mEqualizedConv2d.forward\u001b[1;34m(self, x)\u001b[0m\n\u001b[0;32m    173\u001b[0m     x \u001b[38;5;241m=\u001b[39m F\u001b[38;5;241m.\u001b[39mconv2d(x, \u001b[38;5;28mself\u001b[39m\u001b[38;5;241m.\u001b[39mweight \u001b[38;5;241m*\u001b[39m \u001b[38;5;28mself\u001b[39m\u001b[38;5;241m.\u001b[39mw_mul, \u001b[38;5;28;01mNone\u001b[39;00m, padding\u001b[38;5;241m=\u001b[39m\u001b[38;5;28mself\u001b[39m\u001b[38;5;241m.\u001b[39mkernel_size \u001b[38;5;241m/\u001b[39m\u001b[38;5;241m/\u001b[39m \u001b[38;5;241m2\u001b[39m)\n\u001b[0;32m    175\u001b[0m \u001b[38;5;28;01mif\u001b[39;00m intermediate \u001b[38;5;129;01mis\u001b[39;00m \u001b[38;5;129;01mnot\u001b[39;00m \u001b[38;5;28;01mNone\u001b[39;00m:\n\u001b[1;32m--> 176\u001b[0m     x \u001b[38;5;241m=\u001b[39m \u001b[43mintermediate\u001b[49m\u001b[43m(\u001b[49m\u001b[43mx\u001b[49m\u001b[43m)\u001b[49m\n\u001b[0;32m    178\u001b[0m \u001b[38;5;28;01mif\u001b[39;00m bias \u001b[38;5;129;01mis\u001b[39;00m \u001b[38;5;129;01mnot\u001b[39;00m \u001b[38;5;28;01mNone\u001b[39;00m:\n\u001b[0;32m    179\u001b[0m     x \u001b[38;5;241m=\u001b[39m x \u001b[38;5;241m+\u001b[39m bias\u001b[38;5;241m.\u001b[39mview(\u001b[38;5;241m1\u001b[39m, \u001b[38;5;241m-\u001b[39m\u001b[38;5;241m1\u001b[39m, \u001b[38;5;241m1\u001b[39m, \u001b[38;5;241m1\u001b[39m)\n",
      "File \u001b[1;32m~\\anaconda3\\envs\\pytorch\\lib\\site-packages\\torch\\nn\\modules\\module.py:1501\u001b[0m, in \u001b[0;36mModule._call_impl\u001b[1;34m(self, *args, **kwargs)\u001b[0m\n\u001b[0;32m   1496\u001b[0m \u001b[38;5;66;03m# If we don't have any hooks, we want to skip the rest of the logic in\u001b[39;00m\n\u001b[0;32m   1497\u001b[0m \u001b[38;5;66;03m# this function, and just call forward.\u001b[39;00m\n\u001b[0;32m   1498\u001b[0m \u001b[38;5;28;01mif\u001b[39;00m \u001b[38;5;129;01mnot\u001b[39;00m (\u001b[38;5;28mself\u001b[39m\u001b[38;5;241m.\u001b[39m_backward_hooks \u001b[38;5;129;01mor\u001b[39;00m \u001b[38;5;28mself\u001b[39m\u001b[38;5;241m.\u001b[39m_backward_pre_hooks \u001b[38;5;129;01mor\u001b[39;00m \u001b[38;5;28mself\u001b[39m\u001b[38;5;241m.\u001b[39m_forward_hooks \u001b[38;5;129;01mor\u001b[39;00m \u001b[38;5;28mself\u001b[39m\u001b[38;5;241m.\u001b[39m_forward_pre_hooks\n\u001b[0;32m   1499\u001b[0m         \u001b[38;5;129;01mor\u001b[39;00m _global_backward_pre_hooks \u001b[38;5;129;01mor\u001b[39;00m _global_backward_hooks\n\u001b[0;32m   1500\u001b[0m         \u001b[38;5;129;01mor\u001b[39;00m _global_forward_hooks \u001b[38;5;129;01mor\u001b[39;00m _global_forward_pre_hooks):\n\u001b[1;32m-> 1501\u001b[0m     \u001b[38;5;28;01mreturn\u001b[39;00m forward_call(\u001b[38;5;241m*\u001b[39margs, \u001b[38;5;241m*\u001b[39m\u001b[38;5;241m*\u001b[39mkwargs)\n\u001b[0;32m   1502\u001b[0m \u001b[38;5;66;03m# Do not call functions when jit is used\u001b[39;00m\n\u001b[0;32m   1503\u001b[0m full_backward_hooks, non_full_backward_hooks \u001b[38;5;241m=\u001b[39m [], []\n",
      "File \u001b[1;32m~\\anaconda3\\envs\\pytorch\\lib\\site-packages\\usda\\migrated_project\\stylegan\\models\\_CustomLayers.py:269\u001b[0m, in \u001b[0;36mBlurLayer.forward\u001b[1;34m(self, x)\u001b[0m\n\u001b[0;32m    266\u001b[0m \u001b[38;5;28;01mdef\u001b[39;00m \u001b[38;5;21mforward\u001b[39m(\u001b[38;5;28mself\u001b[39m, x):\n\u001b[0;32m    267\u001b[0m     \u001b[38;5;66;03m# expand kernel channels\u001b[39;00m\n\u001b[0;32m    268\u001b[0m     kernel \u001b[38;5;241m=\u001b[39m \u001b[38;5;28mself\u001b[39m\u001b[38;5;241m.\u001b[39mkernel\u001b[38;5;241m.\u001b[39mexpand(x\u001b[38;5;241m.\u001b[39msize(\u001b[38;5;241m1\u001b[39m), \u001b[38;5;241m-\u001b[39m\u001b[38;5;241m1\u001b[39m, \u001b[38;5;241m-\u001b[39m\u001b[38;5;241m1\u001b[39m, \u001b[38;5;241m-\u001b[39m\u001b[38;5;241m1\u001b[39m)\n\u001b[1;32m--> 269\u001b[0m     x \u001b[38;5;241m=\u001b[39m \u001b[43mF\u001b[49m\u001b[38;5;241;43m.\u001b[39;49m\u001b[43mconv2d\u001b[49m\u001b[43m(\u001b[49m\n\u001b[0;32m    270\u001b[0m \u001b[43m        \u001b[49m\u001b[43mx\u001b[49m\u001b[43m,\u001b[49m\n\u001b[0;32m    271\u001b[0m \u001b[43m        \u001b[49m\u001b[43mkernel\u001b[49m\u001b[43m,\u001b[49m\n\u001b[0;32m    272\u001b[0m \u001b[43m        \u001b[49m\u001b[43mstride\u001b[49m\u001b[38;5;241;43m=\u001b[39;49m\u001b[38;5;28;43mself\u001b[39;49m\u001b[38;5;241;43m.\u001b[39;49m\u001b[43mstride\u001b[49m\u001b[43m,\u001b[49m\n\u001b[0;32m    273\u001b[0m \u001b[43m        \u001b[49m\u001b[43mpadding\u001b[49m\u001b[38;5;241;43m=\u001b[39;49m\u001b[38;5;28;43mint\u001b[39;49m\u001b[43m(\u001b[49m\u001b[43m(\u001b[49m\u001b[38;5;28;43mself\u001b[39;49m\u001b[38;5;241;43m.\u001b[39;49m\u001b[43mkernel\u001b[49m\u001b[38;5;241;43m.\u001b[39;49m\u001b[43msize\u001b[49m\u001b[43m(\u001b[49m\u001b[38;5;241;43m2\u001b[39;49m\u001b[43m)\u001b[49m\u001b[43m \u001b[49m\u001b[38;5;241;43m-\u001b[39;49m\u001b[43m \u001b[49m\u001b[38;5;241;43m1\u001b[39;49m\u001b[43m)\u001b[49m\u001b[43m \u001b[49m\u001b[38;5;241;43m/\u001b[39;49m\u001b[43m \u001b[49m\u001b[38;5;241;43m2\u001b[39;49m\u001b[43m)\u001b[49m\u001b[43m,\u001b[49m\n\u001b[0;32m    274\u001b[0m \u001b[43m        \u001b[49m\u001b[43mgroups\u001b[49m\u001b[38;5;241;43m=\u001b[39;49m\u001b[43mx\u001b[49m\u001b[38;5;241;43m.\u001b[39;49m\u001b[43msize\u001b[49m\u001b[43m(\u001b[49m\u001b[38;5;241;43m1\u001b[39;49m\u001b[43m)\u001b[49m\n\u001b[0;32m    275\u001b[0m \u001b[43m    \u001b[49m\u001b[43m)\u001b[49m\n\u001b[0;32m    276\u001b[0m     \u001b[38;5;28;01mreturn\u001b[39;00m x\n",
      "\u001b[1;31mOutOfMemoryError\u001b[0m: CUDA out of memory. Tried to allocate 768.00 MiB (GPU 0; 8.00 GiB total capacity; 6.24 GiB already allocated; 0 bytes free; 7.10 GiB reserved in total by PyTorch) If reserved memory is >> allocated memory try setting max_split_size_mb to avoid fragmentation.  See documentation for Memory Management and PYTORCH_CUDA_ALLOC_CONF"
     ]
    }
   ],
   "source": [
    "sgan.train()"
   ]
  },
  {
   "cell_type": "code",
   "execution_count": null,
   "id": "a78bfca2-6574-45d9-838c-8d0ef769adf2",
   "metadata": {},
   "outputs": [],
   "source": []
  }
 ],
 "metadata": {
  "kernelspec": {
   "display_name": "Python 3 (ipykernel)",
   "language": "python",
   "name": "python3"
  },
  "language_info": {
   "codemirror_mode": {
    "name": "ipython",
    "version": 3
   },
   "file_extension": ".py",
   "mimetype": "text/x-python",
   "name": "python",
   "nbconvert_exporter": "python",
   "pygments_lexer": "ipython3",
   "version": "3.9.16"
  }
 },
 "nbformat": 4,
 "nbformat_minor": 5
}
