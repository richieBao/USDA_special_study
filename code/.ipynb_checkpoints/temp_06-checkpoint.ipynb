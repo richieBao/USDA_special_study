{
 "cells": [
  {
   "cell_type": "code",
   "execution_count": 1,
   "id": "cb3dd46a-0d0b-4128-b206-2ba377860e30",
   "metadata": {},
   "outputs": [],
   "source": [
    "from IPython.display import Image"
   ]
  },
  {
   "cell_type": "code",
   "execution_count": 10,
   "id": "4a6423e0-3601-49bd-922f-61410dc50848",
   "metadata": {},
   "outputs": [],
   "source": [
    "from pgmpy.independencies import IndependenceAssertion\n",
    "\n",
    "assertion1 = IndependenceAssertion('X', 'Y')"
   ]
  },
  {
   "cell_type": "code",
   "execution_count": 4,
   "id": "75d405b1-f2a2-4735-9414-91136816f32c",
   "metadata": {
    "tags": []
   },
   "outputs": [],
   "source": [
    "assertion2 = IndependenceAssertion('X', 'Y','Z')"
   ]
  },
  {
   "cell_type": "code",
   "execution_count": 5,
   "id": "168e1ed6-ece4-4b4b-928e-e3a4d0ca6584",
   "metadata": {
    "tags": []
   },
   "outputs": [
    {
     "data": {
      "text/plain": [
       "(X ⟂ Y | Z)"
      ]
     },
     "execution_count": 5,
     "metadata": {},
     "output_type": "execute_result"
    }
   ],
   "source": [
    "assertion2"
   ]
  },
  {
   "cell_type": "code",
   "execution_count": 6,
   "id": "ff4a24bc-3c0d-4bc5-9ec0-5735aad6e7bc",
   "metadata": {
    "tags": []
   },
   "outputs": [],
   "source": [
    "from pgmpy.independencies import Independencies"
   ]
  },
  {
   "cell_type": "code",
   "execution_count": 7,
   "id": "dd9ea886-934c-42aa-a77e-5dc31332bf76",
   "metadata": {
    "tags": []
   },
   "outputs": [],
   "source": [
    "indepencies=Independencies()"
   ]
  },
  {
   "cell_type": "code",
   "execution_count": 8,
   "id": "c987449e-1a3e-440e-8c71-835d0ba7eba5",
   "metadata": {
    "tags": []
   },
   "outputs": [
    {
     "data": {
      "text/plain": []
     },
     "execution_count": 8,
     "metadata": {},
     "output_type": "execute_result"
    }
   ],
   "source": [
    "indepencies"
   ]
  },
  {
   "cell_type": "code",
   "execution_count": 11,
   "id": "0318dcc9-7ecb-41a0-b9bc-f246df0011d7",
   "metadata": {
    "tags": []
   },
   "outputs": [],
   "source": [
    "indepencies.add_assertions(assertion1,assertion2)"
   ]
  },
  {
   "cell_type": "code",
   "execution_count": 12,
   "id": "66a39c39-47bb-48a1-8db0-e88f6f369ef3",
   "metadata": {
    "tags": []
   },
   "outputs": [
    {
     "data": {
      "text/plain": [
       "[(X ⟂ Y), (X ⟂ Y | Z)]"
      ]
     },
     "execution_count": 12,
     "metadata": {},
     "output_type": "execute_result"
    }
   ],
   "source": [
    "indepencies.get_assertions()"
   ]
  },
  {
   "cell_type": "code",
   "execution_count": 14,
   "id": "76d19d66-8738-4ef4-962b-91e0095d4c31",
   "metadata": {
    "tags": []
   },
   "outputs": [],
   "source": [
    "from pgmpy.factors.discrete import JointProbabilityDistribution as Joint"
   ]
  },
  {
   "cell_type": "code",
   "execution_count": 15,
   "id": "19bf0ed0-f6ae-4513-b159-ce7e008c858d",
   "metadata": {
    "tags": []
   },
   "outputs": [],
   "source": [
    "distribution = Joint(['coin1', 'coin2'],[2, 2], [0.25, 0.25, 0.25, 0.25])"
   ]
  },
  {
   "cell_type": "code",
   "execution_count": 16,
   "id": "30bf98e5-1f48-40e1-9947-8a51d116642a",
   "metadata": {
    "tags": []
   },
   "outputs": [
    {
     "data": {
      "text/plain": [
       "<Joint Distribution representing P(coin1:2, coin2:2) at 0x1554793d9d0>"
      ]
     },
     "execution_count": 16,
     "metadata": {},
     "output_type": "execute_result"
    }
   ],
   "source": [
    "distribution"
   ]
  },
  {
   "cell_type": "code",
   "execution_count": 17,
   "id": "e95aa5c5-1fda-4883-8b4e-39decac9e28a",
   "metadata": {
    "tags": []
   },
   "outputs": [
    {
     "name": "stdout",
     "output_type": "stream",
     "text": [
      "+----------+----------+------------------+\n",
      "| coin1    | coin2    |   P(coin1,coin2) |\n",
      "+==========+==========+==================+\n",
      "| coin1(0) | coin2(0) |           0.2500 |\n",
      "+----------+----------+------------------+\n",
      "| coin1(0) | coin2(1) |           0.2500 |\n",
      "+----------+----------+------------------+\n",
      "| coin1(1) | coin2(0) |           0.2500 |\n",
      "+----------+----------+------------------+\n",
      "| coin1(1) | coin2(1) |           0.2500 |\n",
      "+----------+----------+------------------+\n"
     ]
    }
   ],
   "source": [
    "print(distribution)"
   ]
  },
  {
   "cell_type": "code",
   "execution_count": 22,
   "id": "1e141a6d-b446-4032-b368-1d82dd595627",
   "metadata": {
    "tags": []
   },
   "outputs": [
    {
     "data": {
      "text/plain": [
       "True"
      ]
     },
     "execution_count": 22,
     "metadata": {},
     "output_type": "execute_result"
    }
   ],
   "source": [
    "distribution.check_independence(['coin1'], ['coin2'])"
   ]
  },
  {
   "cell_type": "code",
   "execution_count": 21,
   "id": "dec74eba-c8a2-4e09-8c2d-c20db222e10c",
   "metadata": {
    "tags": []
   },
   "outputs": [
    {
     "name": "stdout",
     "output_type": "stream",
     "text": [
      "Help on method check_independence in module pgmpy.factors.discrete.JointProbabilityDistribution:\n",
      "\n",
      "check_independence(event1, event2, event3=None, condition_random_variable=False) method of pgmpy.factors.discrete.JointProbabilityDistribution.JointProbabilityDistribution instance\n",
      "    Check if the Joint Probability Distribution satisfies the given independence condition.\n",
      "    \n",
      "    Parameters\n",
      "    ----------\n",
      "    event1: list\n",
      "        random variable whose independence is to be checked.\n",
      "    event2: list\n",
      "        random variable from which event1 is independent.\n",
      "    values: 2D array or list like or 1D array or list like\n",
      "        A 2D list of tuples of the form (variable_name, variable_state).\n",
      "        A 1D list or array-like to condition over randome variables (condition_random_variable must be True)\n",
      "        The values on which to condition the Joint Probability Distribution.\n",
      "    condition_random_variable: Boolean (Default false)\n",
      "        If true and event3 is not None than will check independence condition over random variable.\n",
      "    \n",
      "    For random variables say X, Y, Z to check if X is independent of Y given Z.\n",
      "    event1 should be either X or Y.\n",
      "    event2 should be either Y or X.\n",
      "    event3 should Z.\n",
      "    \n",
      "    Examples\n",
      "    --------\n",
      "    >>> from pgmpy.factors.discrete import JointProbabilityDistribution as JPD\n",
      "    >>> prob = JPD(['I','D','G'],[2,2,3],\n",
      "                   [0.126,0.168,0.126,0.009,0.045,0.126,0.252,0.0224,0.0056,0.06,0.036,0.024])\n",
      "    >>> prob.check_independence(['I'], ['D'])\n",
      "    True\n",
      "    >>> prob.check_independence(['I'], ['D'], [('G', 1)])  # Conditioning over G_1\n",
      "    False\n",
      "    >>> # Conditioning over random variable G\n",
      "    >>> prob.check_independence(['I'], ['D'], ('G',), condition_random_variable=True)\n",
      "    False\n",
      "\n"
     ]
    }
   ],
   "source": [
    "help(distribution.check_independence)"
   ]
  },
  {
   "cell_type": "code",
   "execution_count": 2,
   "id": "6a844fff-ccb1-42ae-95ac-1f55cfa975bb",
   "metadata": {},
   "outputs": [],
   "source": [
    "from pgmpy.factors.discrete.CPD import TabularCPD"
   ]
  },
  {
   "cell_type": "code",
   "execution_count": 3,
   "id": "8ba1a5b5-667f-4170-b67e-02535fd70428",
   "metadata": {
    "tags": []
   },
   "outputs": [],
   "source": [
    "quality=TabularCPD(variable='Quality',variable_card=3,values=[[0.3],[0.5],[0.2]])"
   ]
  },
  {
   "cell_type": "code",
   "execution_count": 4,
   "id": "53bddc9b-e2d3-4235-9cab-13e1ac4ed1f9",
   "metadata": {
    "tags": []
   },
   "outputs": [
    {
     "data": {
      "text/plain": [
       "'Quality'"
      ]
     },
     "execution_count": 4,
     "metadata": {},
     "output_type": "execute_result"
    }
   ],
   "source": [
    "quality.variable"
   ]
  },
  {
   "cell_type": "code",
   "execution_count": 5,
   "id": "a8831e6d-eaae-480a-b321-b077a65421ea",
   "metadata": {
    "tags": []
   },
   "outputs": [
    {
     "name": "stdout",
     "output_type": "stream",
     "text": [
      "+------------+-----+\n",
      "| Quality(0) | 0.3 |\n",
      "+------------+-----+\n",
      "| Quality(1) | 0.5 |\n",
      "+------------+-----+\n",
      "| Quality(2) | 0.2 |\n",
      "+------------+-----+\n"
     ]
    }
   ],
   "source": [
    "print(quality)"
   ]
  },
  {
   "cell_type": "code",
   "execution_count": 6,
   "id": "825307d6-3010-4465-b9bb-8a657b19a5f2",
   "metadata": {
    "tags": []
   },
   "outputs": [
    {
     "data": {
      "text/plain": [
       "['Quality']"
      ]
     },
     "execution_count": 6,
     "metadata": {},
     "output_type": "execute_result"
    }
   ],
   "source": [
    "quality.variables"
   ]
  },
  {
   "cell_type": "code",
   "execution_count": 7,
   "id": "6b20eb97-ec00-4697-9ea0-02b11ec0f049",
   "metadata": {
    "tags": []
   },
   "outputs": [
    {
     "data": {
      "text/plain": [
       "array([3])"
      ]
     },
     "execution_count": 7,
     "metadata": {},
     "output_type": "execute_result"
    }
   ],
   "source": [
    "quality.cardinality"
   ]
  },
  {
   "cell_type": "code",
   "execution_count": 8,
   "id": "baaec73a-f69c-4700-a3dd-5cd381d9b2d4",
   "metadata": {
    "tags": []
   },
   "outputs": [
    {
     "data": {
      "text/plain": [
       "array([0.3, 0.5, 0.2])"
      ]
     },
     "execution_count": 8,
     "metadata": {},
     "output_type": "execute_result"
    }
   ],
   "source": [
    "quality.values"
   ]
  },
  {
   "cell_type": "code",
   "execution_count": 9,
   "id": "99e1da61-dcdd-4326-b14e-831e95dfa135",
   "metadata": {
    "tags": []
   },
   "outputs": [],
   "source": [
    "location = TabularCPD(variable='Location',variable_card=2,values=[[0.6], [0.4]])"
   ]
  },
  {
   "cell_type": "code",
   "execution_count": 10,
   "id": "1a67a8d8-929e-4def-af73-8a1e6c8da27e",
   "metadata": {
    "tags": []
   },
   "outputs": [
    {
     "name": "stdout",
     "output_type": "stream",
     "text": [
      "+-------------+-----+\n",
      "| Location(0) | 0.6 |\n",
      "+-------------+-----+\n",
      "| Location(1) | 0.4 |\n",
      "+-------------+-----+\n"
     ]
    }
   ],
   "source": [
    "print(location)"
   ]
  },
  {
   "cell_type": "code",
   "execution_count": 11,
   "id": "133250dc-d2da-4fb8-bb3f-8585f5b65dc1",
   "metadata": {
    "tags": []
   },
   "outputs": [],
   "source": [
    "cost = TabularCPD(variable='Cost',variable_card=2,values=[[0.8, 0.6, 0.1, 0.6, 0.6, 0.05],\n",
    "                              [0.2, 0.4, 0.9, 0.4, 0.4, 0.95]],evidence=['Q', 'L'],evidence_card=[3, 2])"
   ]
  },
  {
   "cell_type": "code",
   "execution_count": 12,
   "id": "e712dba1-1e9d-435e-bd84-da226be2ae53",
   "metadata": {
    "tags": []
   },
   "outputs": [
    {
     "name": "stdout",
     "output_type": "stream",
     "text": [
      "+---------+------+------+------+------+------+------+\n",
      "| Q       | Q(0) | Q(0) | Q(1) | Q(1) | Q(2) | Q(2) |\n",
      "+---------+------+------+------+------+------+------+\n",
      "| L       | L(0) | L(1) | L(0) | L(1) | L(0) | L(1) |\n",
      "+---------+------+------+------+------+------+------+\n",
      "| Cost(0) | 0.8  | 0.6  | 0.1  | 0.6  | 0.6  | 0.05 |\n",
      "+---------+------+------+------+------+------+------+\n",
      "| Cost(1) | 0.2  | 0.4  | 0.9  | 0.4  | 0.4  | 0.95 |\n",
      "+---------+------+------+------+------+------+------+\n"
     ]
    }
   ],
   "source": [
    "print(cost)"
   ]
  },
  {
   "cell_type": "code",
   "execution_count": 23,
   "id": "11bc8e9e-87ab-4aab-823f-7b2dfbc1d943",
   "metadata": {
    "tags": []
   },
   "outputs": [
    {
     "data": {
      "text/plain": [
       "NodeView(('rain', 'traffic_jam', 'accident'))"
      ]
     },
     "execution_count": 23,
     "metadata": {},
     "output_type": "execute_result"
    }
   ],
   "source": [
    "from pgmpy.models import BayesianNetwork\n",
    "\n",
    "model=BayesianNetwork()\n",
    "model.add_nodes_from(['rain','traffic_jam'])\n",
    "model.add_edge('rain','traffic_jam')\n",
    "model.add_edge('accident', 'traffic_jam')\n",
    "\n",
    "model.nodes()"
   ]
  },
  {
   "cell_type": "code",
   "execution_count": 24,
   "id": "95b5a2b1-161f-4f9a-9c9b-ee37121cd7b2",
   "metadata": {
    "tags": []
   },
   "outputs": [
    {
     "data": {
      "text/plain": [
       "OutEdgeView([('rain', 'traffic_jam'), ('accident', 'traffic_jam')])"
      ]
     },
     "execution_count": 24,
     "metadata": {},
     "output_type": "execute_result"
    }
   ],
   "source": [
    "model.edges()"
   ]
  },
  {
   "cell_type": "code",
   "execution_count": 25,
   "id": "666d4f79-f71a-4203-8efd-bfffffd01845",
   "metadata": {
    "tags": []
   },
   "outputs": [],
   "source": [
    "cpd_rain = TabularCPD('rain', 2, [[0.4], [0.6]])\n",
    "cpd_accident = TabularCPD('accident', 2, [[0.2], [0.8]])\n",
    "cpd_traffic_jam = TabularCPD('traffic_jam', 2,[[0.9, 0.6, 0.7, 0.1],\n",
    "                                 [0.1, 0.4, 0.3, 0.9]],evidence=['rain', 'accident'],evidence_card=[2, 2])"
   ]
  },
  {
   "cell_type": "code",
   "execution_count": 26,
   "id": "2b857623-9ffc-4cae-81f9-37f9caa60288",
   "metadata": {
    "tags": []
   },
   "outputs": [],
   "source": [
    "model.add_cpds(cpd_rain, cpd_accident, cpd_traffic_jam)"
   ]
  },
  {
   "cell_type": "code",
   "execution_count": 27,
   "id": "ec5eaa81-e8b2-48ba-8aee-43b487af79a5",
   "metadata": {
    "tags": []
   },
   "outputs": [
    {
     "data": {
      "text/plain": [
       "[<TabularCPD representing P(rain:2) at 0x1261f11f5b0>,\n",
       " <TabularCPD representing P(accident:2) at 0x1261f11f520>,\n",
       " <TabularCPD representing P(traffic_jam:2 | rain:2, accident:2) at 0x1261f11ffd0>]"
      ]
     },
     "execution_count": 27,
     "metadata": {},
     "output_type": "execute_result"
    }
   ],
   "source": [
    "model.get_cpds()"
   ]
  },
  {
   "cell_type": "code",
   "execution_count": 28,
   "id": "38805c1a-b305-4f18-970a-f77741c978da",
   "metadata": {
    "tags": []
   },
   "outputs": [],
   "source": [
    "model.add_node('long_queues')\n",
    "model.add_edge('traffic_jam', 'long_queues')\n",
    "cpd_long_queues = TabularCPD('long_queues', 2,[[0.9, 0.2],\n",
    "                                       [0.1, 0.8]],evidence=['traffic_jam'],evidence_card=[2])"
   ]
  },
  {
   "cell_type": "code",
   "execution_count": 29,
   "id": "d33caea7-3b38-4ce2-8456-6f6f3e0064a0",
   "metadata": {
    "tags": []
   },
   "outputs": [],
   "source": [
    "model.add_cpds(cpd_long_queues)\n",
    "model.add_nodes_from(['getting_up_late',  \n",
    "                               'late_for_school'])\n",
    "model.add_edges_from(\n",
    "                   [('getting_up_late', 'late_for_school'),\n",
    "                    ('traffic_jam', 'late_for_school')])"
   ]
  },
  {
   "cell_type": "code",
   "execution_count": 30,
   "id": "4dc93242-0faf-4fde-8c2f-5e930237624a",
   "metadata": {
    "tags": []
   },
   "outputs": [],
   "source": [
    "cpd_getting_up_late = TabularCPD('getting_up_late', 2,\n",
    "                                          [[0.6], [0.4]])\n",
    "cpd_late_for_school = TabularCPD(\n",
    "                               'late_for_school', 2,\n",
    "                               [[0.9, 0.45, 0.8, 0.1],\n",
    "                                [0.1, 0.55, 0.2, 0.9]],\n",
    "                               evidence=['getting_up_late',\n",
    "                                         'traffic_jam'],\n",
    "                               evidence_card=[2, 2])"
   ]
  },
  {
   "cell_type": "code",
   "execution_count": 31,
   "id": "ca30c49d-7758-45c6-9856-a46770a2625d",
   "metadata": {
    "tags": []
   },
   "outputs": [
    {
     "data": {
      "text/plain": [
       "[<TabularCPD representing P(rain:2) at 0x1261f11f5b0>,\n",
       " <TabularCPD representing P(accident:2) at 0x1261f11f520>,\n",
       " <TabularCPD representing P(traffic_jam:2 | rain:2, accident:2) at 0x1261f11ffd0>,\n",
       " <TabularCPD representing P(long_queues:2 | traffic_jam:2) at 0x1261f11fd30>,\n",
       " <TabularCPD representing P(getting_up_late:2) at 0x1264bd90b50>,\n",
       " <TabularCPD representing P(late_for_school:2 | getting_up_late:2, traffic_jam:2) at 0x1264bd907c0>]"
      ]
     },
     "execution_count": 31,
     "metadata": {},
     "output_type": "execute_result"
    }
   ],
   "source": [
    "model.add_cpds(cpd_getting_up_late, cpd_late_for_school)\n",
    "model.get_cpds()"
   ]
  },
  {
   "cell_type": "code",
   "execution_count": 32,
   "id": "6f469d04-e705-4fef-a15d-16b9ed8e3fe5",
   "metadata": {
    "tags": []
   },
   "outputs": [
    {
     "data": {
      "text/plain": [
       "True"
      ]
     },
     "execution_count": 32,
     "metadata": {},
     "output_type": "execute_result"
    }
   ],
   "source": [
    "model.check_model()"
   ]
  },
  {
   "cell_type": "code",
   "execution_count": 33,
   "id": "aea1414a-ee76-4ff7-b9b3-bc81899e3f5d",
   "metadata": {
    "tags": []
   },
   "outputs": [],
   "source": [
    "model.remove_cpds('late_for_school')"
   ]
  },
  {
   "cell_type": "code",
   "execution_count": 34,
   "id": "a724f930-6e70-4008-a94c-e84288048132",
   "metadata": {
    "tags": []
   },
   "outputs": [
    {
     "data": {
      "text/plain": [
       "[<TabularCPD representing P(rain:2) at 0x1261f11f5b0>,\n",
       " <TabularCPD representing P(accident:2) at 0x1261f11f520>,\n",
       " <TabularCPD representing P(traffic_jam:2 | rain:2, accident:2) at 0x1261f11ffd0>,\n",
       " <TabularCPD representing P(long_queues:2 | traffic_jam:2) at 0x1261f11fd30>,\n",
       " <TabularCPD representing P(getting_up_late:2) at 0x1264bd90b50>]"
      ]
     },
     "execution_count": 34,
     "metadata": {},
     "output_type": "execute_result"
    }
   ],
   "source": [
    "model.get_cpds()"
   ]
  },
  {
   "cell_type": "code",
   "execution_count": 36,
   "id": "e567f89c-4378-4d7b-adc6-177eafba0a08",
   "metadata": {
    "tags": []
   },
   "outputs": [
    {
     "name": "stdout",
     "output_type": "stream",
     "text": [
      "+----------------+-------------+-------------+-------------+-------------+\n",
      "| rain           | rain(0)     | rain(0)     | rain(1)     | rain(1)     |\n",
      "+----------------+-------------+-------------+-------------+-------------+\n",
      "| accident       | accident(0) | accident(1) | accident(0) | accident(1) |\n",
      "+----------------+-------------+-------------+-------------+-------------+\n",
      "| traffic_jam(0) | 0.9         | 0.6         | 0.7         | 0.1         |\n",
      "+----------------+-------------+-------------+-------------+-------------+\n",
      "| traffic_jam(1) | 0.1         | 0.4         | 0.3         | 0.9         |\n",
      "+----------------+-------------+-------------+-------------+-------------+\n"
     ]
    }
   ],
   "source": [
    "print(model.get_cpds('traffic_jam'))"
   ]
  },
  {
   "cell_type": "code",
   "execution_count": 37,
   "id": "5ad2a672-52be-4be6-8f8b-0aa2039580a0",
   "metadata": {
    "tags": []
   },
   "outputs": [
    {
     "name": "stdout",
     "output_type": "stream",
     "text": [
      "+-------------+-----+\n",
      "| accident(0) | 0.2 |\n",
      "+-------------+-----+\n",
      "| accident(1) | 0.8 |\n",
      "+-------------+-----+\n"
     ]
    }
   ],
   "source": [
    "print(model.get_cpds('accident'))"
   ]
  },
  {
   "cell_type": "code",
   "execution_count": 38,
   "id": "d9e98c60-3876-4555-b489-83f75b4609b1",
   "metadata": {
    "tags": []
   },
   "outputs": [
    {
     "ename": "AttributeError",
     "evalue": "'BayesianNetwork' object has no attribute 'is_active_trail'",
     "output_type": "error",
     "traceback": [
      "\u001b[1;31m---------------------------------------------------------------------------\u001b[0m",
      "\u001b[1;31mAttributeError\u001b[0m                            Traceback (most recent call last)",
      "Cell \u001b[1;32mIn[38], line 1\u001b[0m\n\u001b[1;32m----> 1\u001b[0m \u001b[43mmodel\u001b[49m\u001b[38;5;241;43m.\u001b[39;49m\u001b[43mis_active_trail\u001b[49m(\u001b[38;5;124m'\u001b[39m\u001b[38;5;124maccident\u001b[39m\u001b[38;5;124m'\u001b[39m,\u001b[38;5;124m'\u001b[39m\u001b[38;5;124mrain\u001b[39m\u001b[38;5;124m'\u001b[39m)\n",
      "\u001b[1;31mAttributeError\u001b[0m: 'BayesianNetwork' object has no attribute 'is_active_trail'"
     ]
    }
   ],
   "source": [
    "model.is_active_trail('accident','rain')"
   ]
  },
  {
   "cell_type": "code",
   "execution_count": 39,
   "id": "b414bf7a-e33c-47a3-bbaa-f3c94eceea67",
   "metadata": {
    "tags": []
   },
   "outputs": [
    {
     "data": {
      "text/plain": [
       "{'accident': {'accident', 'late_for_school', 'long_queues', 'traffic_jam'}}"
      ]
     },
     "execution_count": 39,
     "metadata": {},
     "output_type": "execute_result"
    }
   ],
   "source": [
    "model.active_trail_nodes('accident','rain')"
   ]
  },
  {
   "cell_type": "code",
   "execution_count": 44,
   "id": "f6058033-643f-41d3-9ac5-dfdc3f0d7438",
   "metadata": {
    "tags": []
   },
   "outputs": [],
   "source": [
    "from pgmpy.factors.discrete import DiscreteFactor"
   ]
  },
  {
   "cell_type": "code",
   "execution_count": 45,
   "id": "bf091006-e55b-4ba8-bd0f-cee1b74811ca",
   "metadata": {
    "tags": []
   },
   "outputs": [
    {
     "name": "stdout",
     "output_type": "stream",
     "text": [
      "+------+------+------------+\n",
      "| A    | B    |   phi(A,B) |\n",
      "+======+======+============+\n",
      "| A(0) | B(0) |  1000.0000 |\n",
      "+------+------+------------+\n",
      "| A(0) | B(1) |     1.0000 |\n",
      "+------+------+------------+\n",
      "| A(1) | B(0) |     5.0000 |\n",
      "+------+------+------------+\n",
      "| A(1) | B(1) |   100.0000 |\n",
      "+------+------+------------+\n"
     ]
    }
   ],
   "source": [
    "phi = DiscreteFactor(['A', 'B'], [2, 2], [1000, 1, 5, 100])\n",
    "print(phi)"
   ]
  },
  {
   "cell_type": "code",
   "execution_count": 50,
   "id": "8eb7bf2c-a02d-4a30-b3c4-3a317c49946a",
   "metadata": {
    "tags": []
   },
   "outputs": [
    {
     "name": "stdout",
     "output_type": "stream",
     "text": [
      "+------+-----------+\n",
      "| A    |    phi(A) |\n",
      "+======+===========+\n",
      "| A(0) | 1001.0000 |\n",
      "+------+-----------+\n",
      "| A(1) |  105.0000 |\n",
      "+------+-----------+\n"
     ]
    }
   ],
   "source": [
    "phi_marginalized =phi.marginalize(['B'],inplace=False)\n",
    "print(phi_marginalized)"
   ]
  },
  {
   "cell_type": "code",
   "execution_count": 52,
   "id": "bc825495-544a-456e-960c-756eb8ad4bf6",
   "metadata": {
    "tags": []
   },
   "outputs": [
    {
     "name": "stdout",
     "output_type": "stream",
     "text": [
      "+------+-----------+\n",
      "| B    |    phi(B) |\n",
      "+======+===========+\n",
      "| B(0) | 1005.0000 |\n",
      "+------+-----------+\n",
      "| B(1) |  101.0000 |\n",
      "+------+-----------+\n"
     ]
    }
   ],
   "source": [
    "print(phi.marginalize(['A'],inplace=False))"
   ]
  },
  {
   "cell_type": "code",
   "execution_count": 53,
   "id": "da5eed0f-215e-473f-834f-987690d0d01e",
   "metadata": {
    "tags": []
   },
   "outputs": [
    {
     "data": {
      "text/plain": [
       "['A', 'B']"
      ]
     },
     "execution_count": 53,
     "metadata": {},
     "output_type": "execute_result"
    }
   ],
   "source": [
    "phi.scope()"
   ]
  },
  {
   "cell_type": "code",
   "execution_count": 56,
   "id": "41351d35-fc85-4fe8-96be-606a940d16c5",
   "metadata": {
    "tags": []
   },
   "outputs": [
    {
     "name": "stdout",
     "output_type": "stream",
     "text": [
      "+----------+------------+-------------+-------------------------------+\n",
      "| price    | quality    | location    |   phi(price,quality,location) |\n",
      "+==========+============+=============+===============================+\n",
      "| price(0) | quality(0) | location(0) |                        0.0000 |\n",
      "+----------+------------+-------------+-------------------------------+\n",
      "| price(0) | quality(0) | location(1) |                        1.0000 |\n",
      "+----------+------------+-------------+-------------------------------+\n",
      "| price(0) | quality(1) | location(0) |                        2.0000 |\n",
      "+----------+------------+-------------+-------------------------------+\n",
      "| price(0) | quality(1) | location(1) |                        3.0000 |\n",
      "+----------+------------+-------------+-------------------------------+\n",
      "| price(1) | quality(0) | location(0) |                        4.0000 |\n",
      "+----------+------------+-------------+-------------------------------+\n",
      "| price(1) | quality(0) | location(1) |                        5.0000 |\n",
      "+----------+------------+-------------+-------------------------------+\n",
      "| price(1) | quality(1) | location(0) |                        6.0000 |\n",
      "+----------+------------+-------------+-------------------------------+\n",
      "| price(1) | quality(1) | location(1) |                        7.0000 |\n",
      "+----------+------------+-------------+-------------------------------+\n"
     ]
    }
   ],
   "source": [
    "import numpy as np\n",
    "price=DiscreteFactor(['price', 'quality', 'location'], \n",
    "                        [2, 2, 2], \n",
    "                        np.arange(8))\n",
    "print(price)"
   ]
  },
  {
   "cell_type": "code",
   "execution_count": 58,
   "id": "959833b9-2894-49d1-86ae-18ee17b92f3c",
   "metadata": {
    "tags": []
   },
   "outputs": [
    {
     "name": "stdout",
     "output_type": "stream",
     "text": [
      "+----------+-------------+-----------------------+\n",
      "| price    | location    |   phi(price,location) |\n",
      "+==========+=============+=======================+\n",
      "| price(0) | location(0) |                2.0000 |\n",
      "+----------+-------------+-----------------------+\n",
      "| price(0) | location(1) |                4.0000 |\n",
      "+----------+-------------+-----------------------+\n",
      "| price(1) | location(0) |               10.0000 |\n",
      "+----------+-------------+-----------------------+\n",
      "| price(1) | location(1) |               12.0000 |\n",
      "+----------+-------------+-----------------------+\n"
     ]
    }
   ],
   "source": [
    "price_marginalized = price.marginalize(\n",
    "                                   ['quality',], \n",
    "                                   inplace=False)\n",
    "print(price_marginalized )"
   ]
  },
  {
   "cell_type": "code",
   "execution_count": 60,
   "id": "ddd1acfc-0500-4320-bd74-dd8cfc00c887",
   "metadata": {
    "tags": []
   },
   "outputs": [
    {
     "name": "stdout",
     "output_type": "stream",
     "text": [
      "+------+------+------------+\n",
      "| a    | b    |   phi(a,b) |\n",
      "+======+======+============+\n",
      "| a(0) | b(0) |  1000.0000 |\n",
      "+------+------+------------+\n",
      "| a(0) | b(1) |     1.0000 |\n",
      "+------+------+------------+\n",
      "| a(1) | b(0) |     5.0000 |\n",
      "+------+------+------------+\n",
      "| a(1) | b(1) |   100.0000 |\n",
      "+------+------+------------+\n"
     ]
    }
   ],
   "source": [
    "phi = DiscreteFactor(['a', 'b'], [2, 2], [1000, 1, 5, 100])\n",
    "print(phi)"
   ]
  },
  {
   "cell_type": "code",
   "execution_count": 64,
   "id": "0e43cd5b-f94f-47f1-9578-e5dbffa551b7",
   "metadata": {
    "tags": []
   },
   "outputs": [
    {
     "name": "stdout",
     "output_type": "stream",
     "text": [
      "+------+-----------+\n",
      "| a    |    phi(a) |\n",
      "+======+===========+\n",
      "| a(0) | 1000.0000 |\n",
      "+------+-----------+\n",
      "| a(1) |    5.0000 |\n",
      "+------+-----------+\n"
     ]
    }
   ],
   "source": [
    "phi_reduced = phi.reduce([('b', 0)], inplace=False)\n",
    "print(phi_reduced)"
   ]
  },
  {
   "cell_type": "code",
   "execution_count": 65,
   "id": "e8ee6a57-a1e7-4efe-91b4-ad63d13ef69d",
   "metadata": {
    "tags": []
   },
   "outputs": [
    {
     "data": {
      "text/plain": [
       "['a']"
      ]
     },
     "execution_count": 65,
     "metadata": {},
     "output_type": "execute_result"
    }
   ],
   "source": [
    "phi_reduced.scope()"
   ]
  },
  {
   "cell_type": "code",
   "execution_count": 67,
   "id": "c0583293-e6fe-48a8-97d7-8f6454388d69",
   "metadata": {
    "tags": []
   },
   "outputs": [
    {
     "name": "stdout",
     "output_type": "stream",
     "text": [
      "+----------+--------------+\n",
      "| price    |   phi(price) |\n",
      "+==========+==============+\n",
      "| price(0) |       1.0000 |\n",
      "+----------+--------------+\n",
      "| price(1) |       5.0000 |\n",
      "+----------+--------------+\n"
     ]
    }
   ],
   "source": [
    "price_reduced = price.reduce(\n",
    "                       [('quality', 0), ('location', 1)], \n",
    "                       inplace=False)\n",
    "print(price_reduced)"
   ]
  },
  {
   "cell_type": "code",
   "execution_count": 69,
   "id": "a31fe9e0-fa02-4aa7-98bc-8cf8c59cb701",
   "metadata": {
    "tags": []
   },
   "outputs": [
    {
     "name": "stdout",
     "output_type": "stream",
     "text": [
      "+------+------+------------+\n",
      "| a    | b    |   phi(a,b) |\n",
      "+======+======+============+\n",
      "| a(0) | b(0) |  1000.0000 |\n",
      "+------+------+------------+\n",
      "| a(0) | b(1) |     1.0000 |\n",
      "+------+------+------------+\n",
      "| a(1) | b(0) |     5.0000 |\n",
      "+------+------+------------+\n",
      "| a(1) | b(1) |   100.0000 |\n",
      "+------+------+------------+\n"
     ]
    }
   ],
   "source": [
    "phi1 = DiscreteFactor(['a', 'b'], [2, 2], [1000, 1, 5, 100])\n",
    "print(phi1)"
   ]
  },
  {
   "cell_type": "code",
   "execution_count": 71,
   "id": "2465bbb7-127c-4f61-ab3b-0e05dd7d70d6",
   "metadata": {
    "tags": []
   },
   "outputs": [
    {
     "name": "stdout",
     "output_type": "stream",
     "text": [
      "+------+------+------------+\n",
      "| b    | c    |   phi(b,c) |\n",
      "+======+======+============+\n",
      "| b(0) | c(0) |     1.0000 |\n",
      "+------+------+------------+\n",
      "| b(0) | c(1) |   100.0000 |\n",
      "+------+------+------------+\n",
      "| b(0) | c(2) |     5.0000 |\n",
      "+------+------+------------+\n",
      "| b(1) | c(0) |   200.0000 |\n",
      "+------+------+------------+\n",
      "| b(1) | c(1) |     3.0000 |\n",
      "+------+------+------------+\n",
      "| b(1) | c(2) |  1000.0000 |\n",
      "+------+------+------------+\n"
     ]
    }
   ],
   "source": [
    "phi2 = DiscreteFactor(['b', 'c'], [2, 3],\n",
    "                       [1, 100, 5, 200, 3, 1000])\n",
    "print(phi2)"
   ]
  },
  {
   "cell_type": "code",
   "execution_count": 72,
   "id": "a99640f0-3a52-434f-90ee-1f5ca2a0013b",
   "metadata": {
    "tags": []
   },
   "outputs": [
    {
     "name": "stdout",
     "output_type": "stream",
     "text": [
      "+------+------+------+--------------+\n",
      "| a    | b    | c    |   phi(a,b,c) |\n",
      "+======+======+======+==============+\n",
      "| a(0) | b(0) | c(0) |    1000.0000 |\n",
      "+------+------+------+--------------+\n",
      "| a(0) | b(0) | c(1) |  100000.0000 |\n",
      "+------+------+------+--------------+\n",
      "| a(0) | b(0) | c(2) |    5000.0000 |\n",
      "+------+------+------+--------------+\n",
      "| a(0) | b(1) | c(0) |     200.0000 |\n",
      "+------+------+------+--------------+\n",
      "| a(0) | b(1) | c(1) |       3.0000 |\n",
      "+------+------+------+--------------+\n",
      "| a(0) | b(1) | c(2) |    1000.0000 |\n",
      "+------+------+------+--------------+\n",
      "| a(1) | b(0) | c(0) |       5.0000 |\n",
      "+------+------+------+--------------+\n",
      "| a(1) | b(0) | c(1) |     500.0000 |\n",
      "+------+------+------+--------------+\n",
      "| a(1) | b(0) | c(2) |      25.0000 |\n",
      "+------+------+------+--------------+\n",
      "| a(1) | b(1) | c(0) |   20000.0000 |\n",
      "+------+------+------+--------------+\n",
      "| a(1) | b(1) | c(1) |     300.0000 |\n",
      "+------+------+------+--------------+\n",
      "| a(1) | b(1) | c(2) |  100000.0000 |\n",
      "+------+------+------+--------------+\n"
     ]
    }
   ],
   "source": [
    "phi = phi1 * phi2\n",
    "print(phi)"
   ]
  },
  {
   "cell_type": "code",
   "execution_count": 73,
   "id": "eafdb585-2288-4f0f-b68c-91f24e9c5e14",
   "metadata": {
    "tags": []
   },
   "outputs": [
    {
     "data": {
      "text/plain": [
       "0.945273631840796"
      ]
     },
     "execution_count": 73,
     "metadata": {},
     "output_type": "execute_result"
    }
   ],
   "source": [
    "190/201"
   ]
  },
  {
   "cell_type": "code",
   "execution_count": 76,
   "id": "8e2b987b-c8c3-4d3d-9b53-f7eef5eb7204",
   "metadata": {
    "tags": []
   },
   "outputs": [],
   "source": [
    "from pgmpy.models import MarkovNetwork"
   ]
  },
  {
   "cell_type": "code",
   "execution_count": 77,
   "id": "1d0d6bdf-0382-49de-89c6-0b3a6961f614",
   "metadata": {
    "tags": []
   },
   "outputs": [
    {
     "name": "stdout",
     "output_type": "stream",
     "text": [
      "MarkovNetwork with 3 nodes and 2 edges\n"
     ]
    }
   ],
   "source": [
    "model = MarkovNetwork([('A', 'B'), ('B', 'C')])\n",
    "print(model)"
   ]
  },
  {
   "cell_type": "code",
   "execution_count": 78,
   "id": "ce1e3256-525d-499e-893f-c38c9ce847b2",
   "metadata": {
    "tags": []
   },
   "outputs": [
    {
     "name": "stdout",
     "output_type": "stream",
     "text": [
      "MarkovNetwork with 4 nodes and 2 edges\n"
     ]
    }
   ],
   "source": [
    "model.add_node('D')\n",
    "print(model)"
   ]
  },
  {
   "cell_type": "code",
   "execution_count": 79,
   "id": "86bfc3a5-9707-4a69-ace4-07a98e78f722",
   "metadata": {
    "tags": []
   },
   "outputs": [],
   "source": [
    "model.add_edges_from([('C', 'D'), ('D', 'A')])"
   ]
  },
  {
   "cell_type": "code",
   "execution_count": 80,
   "id": "614f6294-f913-4d5c-9500-87e61c01d593",
   "metadata": {
    "tags": []
   },
   "outputs": [
    {
     "name": "stdout",
     "output_type": "stream",
     "text": [
      "MarkovNetwork with 4 nodes and 4 edges\n"
     ]
    }
   ],
   "source": [
    "print(model)"
   ]
  },
  {
   "cell_type": "code",
   "execution_count": 84,
   "id": "a4469dea-54a3-4b9f-a068-a1fea7c7aa23",
   "metadata": {
    "tags": []
   },
   "outputs": [],
   "source": [
    "from pgmpy.factors.discrete.DiscreteFactor import DiscreteFactor"
   ]
  },
  {
   "cell_type": "code",
   "execution_count": 87,
   "id": "4f8b7720-4372-4fe7-abd2-dff97d38c604",
   "metadata": {
    "tags": []
   },
   "outputs": [
    {
     "name": "stdout",
     "output_type": "stream",
     "text": [
      "+------+------+------------+\n",
      "| A    | B    |   phi(A,B) |\n",
      "+======+======+============+\n",
      "| A(0) | B(0) |    90.0000 |\n",
      "+------+------+------------+\n",
      "| A(0) | B(1) |   100.0000 |\n",
      "+------+------+------------+\n",
      "| A(1) | B(0) |     1.0000 |\n",
      "+------+------+------------+\n",
      "| A(1) | B(1) |    10.0000 |\n",
      "+------+------+------------+\n"
     ]
    }
   ],
   "source": [
    "factor_a_b = DiscreteFactor(variables=['A', 'B'],\n",
    "                            cardinality=[2, 2],\n",
    "                            values=[90, 100, 1, 10])\n",
    "print(factor_a_b)"
   ]
  },
  {
   "cell_type": "code",
   "execution_count": 90,
   "id": "aad7c2b2-dabc-4175-b91b-746397b8b38a",
   "metadata": {
    "tags": []
   },
   "outputs": [],
   "source": [
    "factor_b_c = DiscreteFactor(variables=['B', 'C'],\n",
    "                            cardinality=[2, 2],values=[10, 80, 70, 30])"
   ]
  },
  {
   "cell_type": "code",
   "execution_count": 92,
   "id": "9c4dd8cf-11af-4688-ad4a-15e70bfad57d",
   "metadata": {
    "tags": []
   },
   "outputs": [],
   "source": [
    "factor_c_d =DiscreteFactor(variables=['C', 'D'],\n",
    "                            cardinality=[2, 2],\n",
    "                            values=[10, 1, 100, 90])"
   ]
  },
  {
   "cell_type": "code",
   "execution_count": 93,
   "id": "3c6a1252-31d2-4684-896f-66aab6b0e7d1",
   "metadata": {
    "tags": []
   },
   "outputs": [],
   "source": [
    "factor_d_a =DiscreteFactor(variables=['D', 'A'],\n",
    "                            cardinality=[2, 2],\n",
    "                            values=[80, 60, 20, 10])"
   ]
  },
  {
   "cell_type": "code",
   "execution_count": 94,
   "id": "f84814c2-035c-43fb-9184-dfc6a48a640a",
   "metadata": {
    "tags": []
   },
   "outputs": [],
   "source": [
    "model.add_factors(factor_a_b, factor_b_c,\n",
    "                           factor_c_d, factor_d_a)"
   ]
  },
  {
   "cell_type": "code",
   "execution_count": 95,
   "id": "329447e5-f6bb-484f-a61c-1f91909261f0",
   "metadata": {
    "tags": []
   },
   "outputs": [
    {
     "data": {
      "text/plain": [
       "[<DiscreteFactor representing phi(A:2, B:2) at 0x1265077ef70>,\n",
       " <DiscreteFactor representing phi(B:2, C:2) at 0x1265077ed90>,\n",
       " <DiscreteFactor representing phi(C:2, D:2) at 0x1265077e880>,\n",
       " <DiscreteFactor representing phi(D:2, A:2) at 0x1265077e670>]"
      ]
     },
     "execution_count": 95,
     "metadata": {},
     "output_type": "execute_result"
    }
   ],
   "source": [
    "model.get_factors()"
   ]
  },
  {
   "cell_type": "code",
   "execution_count": 96,
   "id": "b8bb0e7d-1ff3-4e3a-bd36-a3ec7cb398da",
   "metadata": {
    "tags": []
   },
   "outputs": [],
   "source": [
    "from pgmpy.models import FactorGraph"
   ]
  },
  {
   "cell_type": "code",
   "execution_count": 99,
   "id": "1b87dd7a-a69a-4cf5-a05a-b83aba2548a0",
   "metadata": {
    "tags": []
   },
   "outputs": [],
   "source": [
    "factor_graph = FactorGraph()\n",
    "factor_graph.add_nodes_from(['A', 'B', 'C', 'D',\n",
    "                                     'phi1', 'phi2', 'phi3'])\n",
    "factor_graph.add_edges_from(\n",
    "                         [('A', 'phi1'), ('B', 'phi1'),\n",
    "                          ('B', 'phi2'), ('C', 'phi2'),\n",
    "                          ('C', 'phi3'), ('A', 'phi3')])"
   ]
  },
  {
   "cell_type": "code",
   "execution_count": 101,
   "id": "6cdab27f-20cc-4aa5-a881-59a1ff161562",
   "metadata": {
    "tags": []
   },
   "outputs": [
    {
     "name": "stdout",
     "output_type": "stream",
     "text": [
      "FactorGraph with 7 nodes and 6 edges\n"
     ]
    }
   ],
   "source": [
    "print(factor_graph)"
   ]
  },
  {
   "cell_type": "code",
   "execution_count": 108,
   "id": "6f883f48-7433-4aa2-9fb5-9b83124a3a0b",
   "metadata": {
    "tags": []
   },
   "outputs": [
    {
     "data": {
      "image/png": "[encoded data removed]",
      "text/plain": [
       "<Figure size 640x480 with 1 Axes>"
      ]
     },
     "metadata": {},
     "output_type": "display_data"
    }
   ],
   "source": [
    "import networkx as nx\n",
    "import matplotlib.pyplot as plt\n",
    "nx.draw(factor_graph)\n",
    "plt.show()"
   ]
  },
  {
   "cell_type": "code",
   "execution_count": 112,
   "id": "e20d2b4a-729d-4229-ac0d-e5163d28e24a",
   "metadata": {
    "tags": []
   },
   "outputs": [
    {
     "name": "stdout",
     "output_type": "stream",
     "text": [
      "FactorGraph with 7 nodes and 6 edges\n"
     ]
    }
   ],
   "source": [
    "phi1 = DiscreteFactor(['A', 'B'], [2, 2], np.random.rand(4))\n",
    "phi2 = DiscreteFactor(['B', 'C'], [2, 2], np.random.rand(4))\n",
    "phi3 = DiscreteFactor(['C', 'A'], [2, 2], np.random.rand(4))\n",
    "factor_graph.add_factors(phi1, phi2, phi3)\n",
    "print(factor_graph)"
   ]
  },
  {
   "cell_type": "code",
   "execution_count": 116,
   "id": "a626fb6a-f54b-4a63-8fa4-0e59b6daab35",
   "metadata": {
    "tags": []
   },
   "outputs": [
    {
     "name": "stdout",
     "output_type": "stream",
     "text": [
      "MarkovNetwork with 3 nodes and 3 edges\n"
     ]
    }
   ],
   "source": [
    "from pgmpy.models import MarkovNetwork\n",
    "mm =MarkovNetwork()\n",
    "mm.add_nodes_from(['A', 'B', 'C'])\n",
    "mm.add_edges_from([('A', 'B'), ('B', 'C'), ('C', 'A')])\n",
    "mm.add_factors(phi1, phi2, phi3)\n",
    "print(mm)"
   ]
  },
  {
   "cell_type": "code",
   "execution_count": 118,
   "id": "6a7fa437-3a88-4bee-a2c1-5c31678640a5",
   "metadata": {
    "tags": []
   },
   "outputs": [
    {
     "name": "stdout",
     "output_type": "stream",
     "text": [
      "FactorGraph with 6 nodes and 6 edges\n"
     ]
    }
   ],
   "source": [
    "factor_graph_from_mm = mm.to_factor_graph()\n",
    "print(factor_graph_from_mm)"
   ]
  },
  {
   "cell_type": "code",
   "execution_count": 119,
   "id": "727705e1-3b60-4d3b-b03f-acf8d2d874d2",
   "metadata": {
    "tags": []
   },
   "outputs": [
    {
     "data": {
      "text/plain": [
       "NodeView(('A', 'B', 'C', 'phi_A_B', 'phi_B_C', 'phi_C_A'))"
      ]
     },
     "execution_count": 119,
     "metadata": {},
     "output_type": "execute_result"
    }
   ],
   "source": [
    "factor_graph_from_mm.nodes()"
   ]
  },
  {
   "cell_type": "code",
   "execution_count": 120,
   "id": "70c26b55-9443-4bfc-96d3-50fe5e1d5554",
   "metadata": {
    "tags": []
   },
   "outputs": [
    {
     "data": {
      "text/plain": [
       "EdgeView([('A', 'phi1'), ('A', 'phi3'), ('B', 'phi1'), ('B', 'phi2'), ('C', 'phi2'), ('C', 'phi3')])"
      ]
     },
     "execution_count": 120,
     "metadata": {},
     "output_type": "execute_result"
    }
   ],
   "source": [
    "factor_graph.edges()"
   ]
  },
  {
   "cell_type": "code",
   "execution_count": 124,
   "id": "dbaf80cc-a58c-4254-aed5-2ff45e374bf1",
   "metadata": {
    "tags": []
   },
   "outputs": [],
   "source": [
    "mm =MarkovNetwork()\n",
    "mm.add_nodes_from( ['x1', 'x2', 'x3', 'x4', 'x5', 'x6', 'x7'])\n",
    "mm.add_edges_from([('x1', 'x3'), ('x1', 'x4'), ('x2', 'x4'),\n",
    "                    ('x2', 'x5'), ('x3', 'x6'), ('x4', 'x6'),\n",
    "                    ('x4', 'x7'), ('x5', 'x7')])"
   ]
  },
  {
   "cell_type": "code",
   "execution_count": 125,
   "id": "7b523439-5dc6-4310-b246-1491586c6567",
   "metadata": {
    "tags": []
   },
   "outputs": [
    {
     "data": {
      "text/plain": [
       "(x1 ⟂ x5, x6, x2, x7 | x3, x4)\n",
       "(x2 ⟂ x7, x3, x1, x6 | x4, x5)\n",
       "(x3 ⟂ x4, x5, x2, x7 | x1, x6)\n",
       "(x4 ⟂ x3, x5 | x1, x2, x6, x7)\n",
       "(x5 ⟂ x3, x4, x1, x6 | x2, x7)\n",
       "(x6 ⟂ x5, x1, x2, x7 | x3, x4)\n",
       "(x7 ⟂ x3, x1, x2, x6 | x4, x5)"
      ]
     },
     "execution_count": 125,
     "metadata": {},
     "output_type": "execute_result"
    }
   ],
   "source": [
    " mm.get_local_independencies()"
   ]
  },
  {
   "cell_type": "code",
   "execution_count": 127,
   "id": "9f88cffd-d2d9-462e-b630-a48f02ea88e6",
   "metadata": {
    "tags": []
   },
   "outputs": [
    {
     "ename": "AttributeError",
     "evalue": "'MarkovNetwork' object has no attribute 'render'",
     "output_type": "error",
     "traceback": [
      "\u001b[1;31m---------------------------------------------------------------------------\u001b[0m",
      "\u001b[1;31mAttributeError\u001b[0m                            Traceback (most recent call last)",
      "Cell \u001b[1;32mIn[127], line 1\u001b[0m\n\u001b[1;32m----> 1\u001b[0m \u001b[43mmm\u001b[49m\u001b[38;5;241;43m.\u001b[39;49m\u001b[43mrender\u001b[49m()\n\u001b[0;32m      2\u001b[0m plt\u001b[38;5;241m.\u001b[39mshow()\n",
      "\u001b[1;31mAttributeError\u001b[0m: 'MarkovNetwork' object has no attribute 'render'"
     ]
    }
   ],
   "source": [
    "mm.render()\n",
    "plt.show()"
   ]
  },
  {
   "cell_type": "code",
   "execution_count": 132,
   "id": "66228e25-ca43-4df7-9997-80b3f600c2fc",
   "metadata": {
    "tags": []
   },
   "outputs": [],
   "source": [
    "import daft\n",
    "from daft import PGM"
   ]
  },
  {
   "cell_type": "code",
   "execution_count": 133,
   "id": "ac4bf1f2-c09b-4cc5-b5a1-c8e23188462c",
   "metadata": {
    "tags": []
   },
   "outputs": [
    {
     "data": {
      "image/png": "[encoded data removed]",
      "text/plain": [
       "<Figure size 314.961x236.22 with 1 Axes>"
      ]
     },
     "metadata": {},
     "output_type": "display_data"
    }
   ],
   "source": [
    "#@title # Game 1\n",
    "#@markdown While this is a \"trivial\" example, many statisticians would consider including either or both A and B in their models \"just for good measure\".  Notice though how controlling for A would close off the path of causal information from X to Y, actually *impeding* your effort to measure that effect.\n",
    "pgm = PGM(shape=[4, 3])\n",
    "\n",
    "pgm.add_node(daft.Node('X', r\"X\", 1, 2))\n",
    "pgm.add_node(daft.Node('Y', r\"Y\", 3, 2))\n",
    "pgm.add_node(daft.Node('A', r\"A\", 2, 2))\n",
    "pgm.add_node(daft.Node('B', r\"B\", 2, 1))\n",
    "\n",
    "\n",
    "pgm.add_edge('X', 'A')\n",
    "pgm.add_edge('A', 'Y')\n",
    "pgm.add_edge('A', 'B')\n",
    "\n",
    "pgm.render()\n",
    "plt.show()"
   ]
  },
  {
   "cell_type": "code",
   "execution_count": 146,
   "id": "dd672106-ce76-46f4-9d6a-1b35b832ea1a",
   "metadata": {
    "tags": []
   },
   "outputs": [],
   "source": [
    "from pgmpy.models import BayesianNetwork\n",
    "from pgmpy.inference import VariableElimination \n",
    "from pgmpy.factors.discrete.CPD import TabularCPD"
   ]
  },
  {
   "cell_type": "code",
   "execution_count": 171,
   "id": "873f8ec8-1743-4a7c-81c3-00dabbe811c8",
   "metadata": {
    "tags": []
   },
   "outputs": [],
   "source": [
    "restaurant = BayesianNetwork(\n",
    "                               [('location', 'cost'),\n",
    "                                ('quality', 'cost'), \n",
    "                                ('cost', 'no_of_people'), \n",
    "                                ('location', 'no_of_people')])\n",
    "cpd_location = TabularCPD('location', 2, [[0.6], [0.4]])\n",
    "cpd_quality = TabularCPD('quality', 3, [[0.3],[ 0.5], [0.2]])\n",
    "cpd_cost = TabularCPD('cost', 2, \n",
    "                              [[0.8, 0.6, 0.1, 0.6, 0.6, 0.05], \n",
    "                               [0.2, 0.4, 0.9, 0.4, 0.4, 0.95]], \n",
    "                               ['location', 'quality'], [2, 3])\n",
    "cpd_no_of_people = TabularCPD(\n",
    "                            'no_of_people', 2,\n",
    "                            [[0.6, 0.8, 0.1, 0.6], \n",
    "                             [0.4, 0.2, 0.9, 0.4]],\n",
    "                             ['cost', 'location'], [2, 2])\n",
    "restaurant.add_cpds(cpd_location, cpd_quality, \n",
    "                            cpd_cost, cpd_no_of_people)"
   ]
  },
  {
   "cell_type": "code",
   "execution_count": 172,
   "id": "db9ee822-f003-4ec4-9804-993a3399f4bd",
   "metadata": {
    "tags": []
   },
   "outputs": [],
   "source": [
    "restaurant_inference = VariableElimination(restaurant)"
   ]
  },
  {
   "cell_type": "code",
   "execution_count": 173,
   "id": "4814c023-9ddb-4507-a04a-6153d1d2f5ab",
   "metadata": {
    "tags": []
   },
   "outputs": [
    {
     "name": "stdout",
     "output_type": "stream",
     "text": [
      "+----------+-------------+-------------+-------------+-------------+-------------+-------------+\n",
      "| location | location(0) | location(0) | location(0) | location(1) | location(1) | location(1) |\n",
      "+----------+-------------+-------------+-------------+-------------+-------------+-------------+\n",
      "| quality  | quality(0)  | quality(1)  | quality(2)  | quality(0)  | quality(1)  | quality(2)  |\n",
      "+----------+-------------+-------------+-------------+-------------+-------------+-------------+\n",
      "| cost(0)  | 0.8         | 0.6         | 0.1         | 0.6         | 0.6         | 0.05        |\n",
      "+----------+-------------+-------------+-------------+-------------+-------------+-------------+\n",
      "| cost(1)  | 0.2         | 0.4         | 0.9         | 0.4         | 0.4         | 0.95        |\n",
      "+----------+-------------+-------------+-------------+-------------+-------------+-------------+\n"
     ]
    }
   ],
   "source": [
    "print(restaurant.get_cpds('cost'))"
   ]
  },
  {
   "cell_type": "code",
   "execution_count": 177,
   "id": "cc4a64e9-bba8-4d51-bf85-3359ae6c70fd",
   "metadata": {
    "tags": []
   },
   "outputs": [
    {
     "name": "stdout",
     "output_type": "stream",
     "text": [
      "+-------------+-----------------+------------------------------+\n",
      "| location    | no_of_people    |   phi(location,no_of_people) |\n",
      "+=============+=================+==============================+\n",
      "| location(0) | no_of_people(0) |                       0.2280 |\n",
      "+-------------+-----------------+------------------------------+\n",
      "| location(0) | no_of_people(1) |                       0.3720 |\n",
      "+-------------+-----------------+------------------------------+\n",
      "| location(1) | no_of_people(0) |                       0.2792 |\n",
      "+-------------+-----------------+------------------------------+\n",
      "| location(1) | no_of_people(1) |                       0.1208 |\n",
      "+-------------+-----------------+------------------------------+\n"
     ]
    }
   ],
   "source": [
    "print(restaurant_inference.query(variables=['location','no_of_people']))"
   ]
  },
  {
   "cell_type": "code",
   "execution_count": 179,
   "id": "1a0a527c-d785-4f76-a59f-872e881b5c3d",
   "metadata": {
    "tags": []
   },
   "outputs": [
    {
     "name": "stdout",
     "output_type": "stream",
     "text": [
      "+-----------------+---------------------+\n",
      "| no_of_people    |   phi(no_of_people) |\n",
      "+=================+=====================+\n",
      "| no_of_people(0) |              0.6980 |\n",
      "+-----------------+---------------------+\n",
      "| no_of_people(1) |              0.3020 |\n",
      "+-----------------+---------------------+\n"
     ]
    }
   ],
   "source": [
    "print(restaurant_inference.query(variables=['no_of_people'],evidence={'location': 1}))"
   ]
  },
  {
   "cell_type": "code",
   "execution_count": 180,
   "id": "43fe3043-8f04-4ffa-8f20-6a67bd34a9e3",
   "metadata": {
    "tags": []
   },
   "outputs": [
    {
     "name": "stdout",
     "output_type": "stream",
     "text": [
      "+-----------------+---------------------+\n",
      "| no_of_people    |   phi(no_of_people) |\n",
      "+=================+=====================+\n",
      "| no_of_people(0) |              0.7200 |\n",
      "+-----------------+---------------------+\n",
      "| no_of_people(1) |              0.2800 |\n",
      "+-----------------+---------------------+\n"
     ]
    }
   ],
   "source": [
    "a=restaurant_inference.query(\n",
    "                      variables=['no_of_people'], \n",
    "                      evidence={'location': 1, 'quality': 1})\n",
    "print(a)"
   ]
  },
  {
   "cell_type": "code",
   "execution_count": 181,
   "id": "cd19c515-00c8-444b-b32c-fc18c61d39e8",
   "metadata": {
    "tags": []
   },
   "outputs": [
    {
     "name": "stdout",
     "output_type": "stream",
     "text": [
      "Graph with 4 nodes and 6 edges\n"
     ]
    }
   ],
   "source": [
    "induced_graph = restaurant_inference.induced_graph(\n",
    "                 ['cost', 'location', 'no_of_people', 'quality'])\n",
    "print(induced_graph)"
   ]
  },
  {
   "cell_type": "code",
   "execution_count": 182,
   "id": "1f8de959-e3b3-42ce-8e7e-4f4ae86b5577",
   "metadata": {
    "tags": []
   },
   "outputs": [
    {
     "data": {
      "text/plain": [
       "NodeView(('no_of_people', 'quality', 'cost', 'location'))"
      ]
     },
     "execution_count": 182,
     "metadata": {},
     "output_type": "execute_result"
    }
   ],
   "source": [
    "induced_graph.nodes()"
   ]
  },
  {
   "cell_type": "code",
   "execution_count": 190,
   "id": "4e36f51a-363d-4846-852f-117a5d3a17d0",
   "metadata": {
    "tags": []
   },
   "outputs": [],
   "source": [
    "from pgmpy.models import JunctionTree\n",
    "\n",
    "junction_tree = JunctionTree()\n",
    "junction_tree.add_nodes_from([('A', 'B', 'C'), \n",
    "                                      ('C', 'D')])\n",
    "junction_tree.add_edge(('A', 'B', 'C'), ('C', 'D'))\n",
    "#junction_tree.add_edge(('A', 'B', 'C'), ('D', 'E', 'F'))"
   ]
  },
  {
   "cell_type": "code",
   "execution_count": 193,
   "id": "bfdf7425-4bd2-478a-a30e-e037e37eb242",
   "metadata": {
    "tags": []
   },
   "outputs": [],
   "source": [
    "from pgmpy.models import BayesianNetwork, MarkovNetwork\n",
    "from pgmpy.factors.discrete.CPD import TabularCPD\n",
    "from pgmpy.factors.discrete import DiscreteFactor"
   ]
  },
  {
   "cell_type": "code",
   "execution_count": 196,
   "id": "36af2ca6-5e15-40f2-aa1d-477cf9ddf5ce",
   "metadata": {
    "tags": []
   },
   "outputs": [],
   "source": [
    "model = BayesianNetwork(\n",
    "                      [('rain', 'traffic_jam'),\n",
    "                       ('accident', 'traffic_jam'),\n",
    "                       ('traffic_jam', 'long_queues'), \n",
    "                       ('traffic_jam', 'late_for_school'),\n",
    "                       ('getting_up_late', 'late_for_school')])\n",
    "cpd_rain = TabularCPD('rain', 2, [[0.4], [0.6]])\n",
    "cpd_accident = TabularCPD('accident', 2, [[0.2], [0.8]])\n",
    "cpd_traffic_jam = TabularCPD(\n",
    "                            'traffic_jam', 2,\n",
    "                            [[0.9, 0.6, 0.7, 0.1], \n",
    "                            [0.1, 0.4, 0.3, 0.9]],                                                                        \n",
    "                            evidence=['rain', 'accident'],\n",
    "                            evidence_card=[2, 2])\n",
    "cpd_getting_up_late = TabularCPD('getting_up_late', 2,\n",
    "                                         [[0.6], [0.4]])\n",
    "cpd_late_for_school = TabularCPD(\n",
    "                            'late_for_school', 2,                                                             \n",
    "                            [[0.9, 0.45, 0.8, 0.1],                                             \n",
    "                            [0.1, 0.55, 0.2, 0.9]],\n",
    "                            evidence=['getting_up_late',                       \n",
    "                                      'traffic_jam'],\n",
    "                            evidence_card=[2, 2])\n",
    "cpd_long_queues = TabularCPD('long_queues', 2,                          \n",
    "                                     [[0.9, 0.2],\n",
    "                                      [0.1, 0.8]],\n",
    "                                     evidence=['traffic_jam'],\n",
    "                                     evidence_card=[2])\n",
    "model.add_cpds(cpd_rain, cpd_accident, \n",
    "                        cpd_traffic_jam, cpd_getting_up_late, \n",
    "                        cpd_late_for_school, cpd_long_queues)"
   ]
  },
  {
   "cell_type": "code",
   "execution_count": 198,
   "id": "c5278143-a6b3-4021-ab17-b51b9ffe4433",
   "metadata": {
    "tags": []
   },
   "outputs": [
    {
     "data": {
      "text/plain": [
       "pgmpy.models.JunctionTree.JunctionTree"
      ]
     },
     "execution_count": 198,
     "metadata": {},
     "output_type": "execute_result"
    }
   ],
   "source": [
    "junction_tree_bm = model.to_junction_tree() \n",
    "type(junction_tree_bm)"
   ]
  },
  {
   "cell_type": "code",
   "execution_count": 199,
   "id": "98ab4e8c-52a6-4673-a7b5-0f1b0a3e463b",
   "metadata": {
    "tags": []
   },
   "outputs": [
    {
     "data": {
      "text/plain": [
       "NodeView((('traffic_jam', 'long_queues'), ('traffic_jam', 'late_for_school', 'getting_up_late'), ('traffic_jam', 'accident', 'rain')))"
      ]
     },
     "execution_count": 199,
     "metadata": {},
     "output_type": "execute_result"
    }
   ],
   "source": [
    "junction_tree_bm.nodes()"
   ]
  },
  {
   "cell_type": "code",
   "execution_count": 200,
   "id": "2406a48f-1752-4c5d-bcfc-ab090e959e16",
   "metadata": {
    "tags": []
   },
   "outputs": [
    {
     "data": {
      "text/plain": [
       "EdgeView([(('traffic_jam', 'long_queues'), ('traffic_jam', 'late_for_school', 'getting_up_late')), (('traffic_jam', 'long_queues'), ('traffic_jam', 'accident', 'rain'))])"
      ]
     },
     "execution_count": 200,
     "metadata": {},
     "output_type": "execute_result"
    }
   ],
   "source": [
    "junction_tree_bm.edges()"
   ]
  },
  {
   "cell_type": "code",
   "execution_count": 202,
   "id": "4e007cd5-f0db-4049-8391-2a25eb4569f0",
   "metadata": {
    "tags": []
   },
   "outputs": [
    {
     "name": "stdout",
     "output_type": "stream",
     "text": [
      "+------+------+------------+\n",
      "| a    | b    |   phi(a,b) |\n",
      "+======+======+============+\n",
      "| a(0) | b(0) |     0.0000 |\n",
      "+------+------+------------+\n",
      "| a(0) | b(1) |     1.0000 |\n",
      "+------+------+------------+\n",
      "| a(0) | b(2) |     1.0000 |\n",
      "+------+------+------------+\n",
      "| a(1) | b(0) |   inf      |\n",
      "+------+------+------------+\n",
      "| a(1) | b(1) |     4.0000 |\n",
      "+------+------+------------+\n",
      "| a(1) | b(2) |     2.5000 |\n",
      "+------+------+------------+\n"
     ]
    },
    {
     "name": "stderr",
     "output_type": "stream",
     "text": [
      "C:\\Users\\richi\\anaconda3\\envs\\pytorch\\lib\\site-packages\\pgmpy\\factors\\discrete\\DiscreteFactor.py:787: RuntimeWarning: divide by zero encountered in divide\n",
      "  phi.values = phi.values / phi1.values\n",
      "C:\\Users\\richi\\anaconda3\\envs\\pytorch\\lib\\site-packages\\pgmpy\\factors\\discrete\\DiscreteFactor.py:787: RuntimeWarning: invalid value encountered in divide\n",
      "  phi.values = phi.values / phi1.values\n"
     ]
    }
   ],
   "source": [
    "phi1 = DiscreteFactor(['a', 'b'], [2, 3], range(6))\n",
    "phi2 = DiscreteFactor(['b'], [3], range(3))\n",
    "psi = phi1 / phi2\n",
    "print(psi)"
   ]
  },
  {
   "cell_type": "code",
   "execution_count": 1,
   "id": "629f3ec7-4ccd-4f96-91ff-639d2c3080d0",
   "metadata": {},
   "outputs": [
    {
     "data": {
      "text/plain": [
       "<Axes: >"
      ]
     },
     "execution_count": 1,
     "metadata": {},
     "output_type": "execute_result"
    },
    {
     "data": {
      "image/png": "[encoded data removed]",
      "text/plain": [
       "<Figure size 1260.63x1079.53 with 1 Axes>"
      ]
     },
     "metadata": {},
     "output_type": "display_data"
    }
   ],
   "source": [
    "import daft\n",
    "\n",
    "pgm = daft.PGM(grid_unit=4.0, node_unit=1.4)\n",
    "\n",
    "# Start with the plates.\n",
    "tweak = 0.02\n",
    "rect_params = {\"lw\": 2}\n",
    "pgm.add_plate(\n",
    "    [1.5 + tweak, 0.5 + tweak, 6.0 - 2 * tweak, 3.75 - 2 * tweak],\n",
    "    label=r\"\\Large telescope+camera+filter multiplets\",\n",
    "    rect_params=rect_params,\n",
    ")\n",
    "pgm.add_plate(\n",
    "    [2.5 + tweak, 1.0 + tweak, 4.0 - 2 * tweak, 2.75 - 2 * tweak],\n",
    "    label=r\"\\Large images\",\n",
    "    rect_params=rect_params,\n",
    ")\n",
    "pgm.add_plate(\n",
    "    [3.5 + tweak, 1.5 + tweak, 2.0 - 2 * tweak, 1.75 - 2 * tweak],\n",
    "    label=r\"\\Large pixel patches\",\n",
    "    rect_params=rect_params,\n",
    ")\n",
    "pgm.add_plate(\n",
    "    [1.0 + tweak, 4.25 + tweak, 3.5 - 2 * tweak, 1.75 - 2 * tweak],\n",
    "    label=r\"\\Large stars\",\n",
    "    rect_params=rect_params,\n",
    ")\n",
    "pgm.add_plate(\n",
    "    [5.5 + tweak, 4.25 + tweak, 2.5 - 2 * tweak, 1.75 - 2 * tweak],\n",
    "    label=r\"\\Large galaxies\",\n",
    "    rect_params=rect_params,\n",
    ")\n",
    "\n",
    "# ONLY pixels are observed\n",
    "asp = 2.3\n",
    "pgm.add_node(\"true pixels\", r\"~\\\\noise-free\\\\pixel patch\", 5.0, 2.5, aspect=asp)\n",
    "pgm.add_node(\"pixels\", r\"pixel patch\", 4.0, 2.0, observed=True, aspect=asp)\n",
    "pgm.add_edge(\"true pixels\", \"pixels\")\n",
    "\n",
    "# The sky\n",
    "pgm.add_node(\"sky\", r\"sky model\", 6.0, 2.5, aspect=asp)\n",
    "pgm.add_edge(\"sky\", \"true pixels\")\n",
    "pgm.add_node(\"sky prior\", r\"sky priors\", 8.0, 2.5, fixed=True)\n",
    "pgm.add_edge(\"sky prior\", \"sky\")\n",
    "\n",
    "# Stars\n",
    "pgm.add_node(\"star patch\", r\"star patch\", 4.0, 3.0, aspect=asp)\n",
    "pgm.add_edge(\"star patch\", \"true pixels\")\n",
    "pgm.add_node(\"star SED\", r\"~\\\\spectral energy\\\\distribution\", 2.5, 4.75, aspect=asp + 0.2)\n",
    "pgm.add_edge(\"star SED\", \"star patch\")\n",
    "pgm.add_node(\"star position\", r\"position\", 4.0, 4.75, aspect=asp)\n",
    "pgm.add_edge(\"star position\", \"star patch\")\n",
    "pgm.add_node(\"temperature\", r\"temperature\", 1.5, 5.25, aspect=asp)\n",
    "pgm.add_edge(\"temperature\", \"star SED\")\n",
    "pgm.add_node(\"luminosity\", r\"luminosity\", 2.5, 5.25, aspect=asp)\n",
    "pgm.add_edge(\"luminosity\", \"star SED\")\n",
    "pgm.add_node(\"metallicity\", r\"metallicity\", 1.5, 5.75, aspect=asp)\n",
    "pgm.add_edge(\"metallicity\", \"star SED\")\n",
    "pgm.add_edge(\"metallicity\", \"temperature\")\n",
    "pgm.add_edge(\"metallicity\", \"luminosity\")\n",
    "pgm.add_node(\"mass\", r\"mass\", 2.5, 5.75, aspect=asp)\n",
    "pgm.add_edge(\"mass\", \"temperature\")\n",
    "pgm.add_edge(\"mass\", \"luminosity\")\n",
    "pgm.add_node(\"age\", r\"age\", 3.5, 5.75, aspect=asp)\n",
    "pgm.add_edge(\"age\", \"temperature\")\n",
    "pgm.add_edge(\"age\", \"luminosity\")\n",
    "pgm.add_node(\"star models\", r\"star models\", 1.0, 4.0, fixed=True)\n",
    "pgm.add_edge(\"star models\", \"temperature\")\n",
    "pgm.add_edge(\"star models\", \"luminosity\")\n",
    "pgm.add_edge(\"star models\", \"star SED\")\n",
    "\n",
    "# Galaxies\n",
    "pgm.add_node(\"galaxy patch\", r\"galaxy patch\", 5.0, 3.0, aspect=asp)\n",
    "pgm.add_edge(\"galaxy patch\", \"true pixels\")\n",
    "pgm.add_node(\"galaxy SED\", r\"~\\\\spectral energy\\\\distribution\", 6.5, 4.75, aspect=asp + 0.2)\n",
    "pgm.add_edge(\"galaxy SED\", \"galaxy patch\")\n",
    "pgm.add_node(\"morphology\", r\"morphology\", 7.5, 4.75, aspect=asp)\n",
    "pgm.add_edge(\"morphology\", \"galaxy patch\")\n",
    "pgm.add_node(\"SFH\", r\"~\\\\star-formation\\\\history\", 7.5, 5.25, aspect=asp)\n",
    "pgm.add_edge(\"SFH\", \"galaxy SED\")\n",
    "pgm.add_edge(\"SFH\", \"morphology\")\n",
    "pgm.add_node(\"galaxy position\", r\"~\\\\redshift\\\\ \\& position\", 6.0, 5.25, aspect=asp)\n",
    "pgm.add_edge(\"galaxy position\", \"galaxy SED\")\n",
    "pgm.add_edge(\"galaxy position\", \"morphology\")\n",
    "pgm.add_edge(\"galaxy position\", \"galaxy patch\")\n",
    "pgm.add_node(\"dynamics\", r\"orbit structure\", 6.5, 5.75, aspect=asp)\n",
    "pgm.add_edge(\"dynamics\", \"morphology\")\n",
    "pgm.add_edge(\"dynamics\", \"SFH\")\n",
    "pgm.add_node(\"galaxy mass\", r\"mass\", 7.5, 5.75, aspect=asp)\n",
    "pgm.add_edge(\"galaxy mass\", \"dynamics\")\n",
    "pgm.add_edge(\"galaxy mass\", \"galaxy SED\")\n",
    "pgm.add_edge(\"galaxy mass\", \"SFH\")\n",
    "\n",
    "# Universals\n",
    "pgm.add_node(\"extinction model\", r\"~\\\\extinction\\\\model\", 5.0, 4.75, aspect=asp)\n",
    "pgm.add_edge(\"extinction model\", \"star patch\")\n",
    "pgm.add_edge(\"extinction model\", \"galaxy patch\")\n",
    "pgm.add_node(\"MW\", r\"~\\\\Milky Way\\\\formation\", 4.0, 6.5, aspect=asp)\n",
    "pgm.add_edge(\"MW\", \"metallicity\")\n",
    "pgm.add_edge(\"MW\", \"mass\")\n",
    "pgm.add_edge(\"MW\", \"age\")\n",
    "pgm.add_edge(\"MW\", \"star position\")\n",
    "pgm.add_edge(\"MW\", \"extinction model\")\n",
    "pgm.add_node(\"galaxy formation\", r\"~\\\\galaxy\\\\formation\", 5.0, 6.5, aspect=asp)\n",
    "pgm.add_edge(\"galaxy formation\", \"MW\")\n",
    "pgm.add_edge(\"galaxy formation\", \"dynamics\")\n",
    "pgm.add_edge(\"galaxy formation\", \"galaxy mass\")\n",
    "pgm.add_edge(\"galaxy formation\", \"extinction model\")\n",
    "pgm.add_node(\"LSS\", r\"~\\\\large-scale\\\\structure\", 6.0, 6.5, aspect=asp)\n",
    "pgm.add_edge(\"LSS\", \"galaxy position\")\n",
    "pgm.add_node(\"cosmology\", r\"~\\\\cosmological\\\\parameters\", 6.0, 7.0, aspect=asp)\n",
    "pgm.add_edge(\"cosmology\", \"LSS\")\n",
    "pgm.add_edge(\"cosmology\", \"galaxy formation\")\n",
    "pgm.add_node(\"god\", r\"God\", 7.0, 7.0, fixed=True)\n",
    "pgm.add_edge(\"god\", \"cosmology\")\n",
    "\n",
    "# Sensitivity\n",
    "pgm.add_node(\"zeropoint\", r\"~\\\\zeropoint\\\\(photocal)\", 3.0, 3.0, aspect=asp)\n",
    "pgm.add_edge(\"zeropoint\", \"true pixels\")\n",
    "pgm.add_node(\"exposure time\", r\"exposure time\", 3.0, 2.5, observed=True, aspect=asp)\n",
    "pgm.add_edge(\"exposure time\", \"zeropoint\")\n",
    "\n",
    "# The PSF\n",
    "pgm.add_node(\"WCS\", r\"~\\\\astrometric\\\\calibration\", 3.0, 2.0, aspect=asp)\n",
    "pgm.add_edge(\"WCS\", \"star patch\")\n",
    "pgm.add_edge(\"WCS\", \"galaxy patch\")\n",
    "pgm.add_node(\"psf\", r\"PSF model\", 3.0, 3.5, aspect=asp)\n",
    "pgm.add_edge(\"psf\", \"star patch\")\n",
    "pgm.add_edge(\"psf\", \"galaxy patch\")\n",
    "pgm.add_node(\"optics\", r\"optics\", 2.0, 3.0, aspect=asp - 1.2)\n",
    "pgm.add_edge(\"optics\", \"psf\")\n",
    "pgm.add_edge(\"optics\", \"WCS\")\n",
    "pgm.add_node(\"atmosphere\", r\"~\\\\atmosphere\\\\model\", 1.0, 3.5, aspect=asp)\n",
    "pgm.add_edge(\"atmosphere\", \"psf\")\n",
    "pgm.add_edge(\"atmosphere\", \"WCS\")\n",
    "pgm.add_edge(\"atmosphere\", \"zeropoint\")\n",
    "\n",
    "# The device\n",
    "pgm.add_node(\"flatfield\", r\"flat-field\", 2.0, 1.5, aspect=asp)\n",
    "pgm.add_edge(\"flatfield\", \"pixels\")\n",
    "pgm.add_node(\"nonlinearity\", r\"non-linearity\", 2.0, 1.0, aspect=asp)\n",
    "pgm.add_edge(\"nonlinearity\", \"pixels\")\n",
    "pgm.add_node(\"pointing\", r\"~\\\\telescope\\\\pointing etc.\", 2.0, 2.0, aspect=asp)\n",
    "pgm.add_edge(\"pointing\", \"WCS\")\n",
    "pgm.add_node(\"detector\", r\"detector priors\", 1.0, 1.5, fixed=True)\n",
    "pgm.add_edge(\"detector\", \"flatfield\")\n",
    "pgm.add_edge(\"detector\", \"nonlinearity\")\n",
    "pgm.add_node(\"hardware\", r\"hardware priors\", 1.0, 2.5, fixed=True)\n",
    "pgm.add_edge(\"hardware\", \"pointing\")\n",
    "pgm.add_edge(\"hardware\", \"exposure time\")\n",
    "pgm.add_edge(\"hardware\", \"optics\")\n",
    "\n",
    "# Noise\n",
    "pgm.add_node(\"noise patch\", r\"noise patch\", 5.0, 2.0, aspect=asp)\n",
    "pgm.add_edge(\"noise patch\", \"pixels\")\n",
    "pgm.add_edge(\"true pixels\", \"noise patch\")\n",
    "pgm.add_node(\"noise model\", r\"noise model\", 7.0, 2.0, aspect=asp)\n",
    "pgm.add_edge(\"noise model\", \"noise patch\")\n",
    "pgm.add_node(\"noise prior\", r\"noise priors\", 8.0, 2.0, fixed=True)\n",
    "pgm.add_edge(\"noise prior\", \"noise model\")\n",
    "pgm.add_node(\"cosmic rays\", r\"~\\\\cosmic-ray\\\\model\", 8.0, 1.5, aspect=asp)\n",
    "pgm.add_edge(\"cosmic rays\", \"noise patch\")\n",
    "\n",
    "# Render and save.\n",
    "pgm.render()"
   ]
  },
  {
   "cell_type": "code",
   "execution_count": null,
   "id": "3c644aa5-c931-4292-87f5-2c7dfac9f77b",
   "metadata": {},
   "outputs": [],
   "source": []
  }
 ],
 "metadata": {
  "kernelspec": {
   "display_name": "Python 3 (ipykernel)",
   "language": "python",
   "name": "python3"
  },
  "language_info": {
   "codemirror_mode": {
    "name": "ipython",
    "version": 3
   },
   "file_extension": ".py",
   "mimetype": "text/x-python",
   "name": "python",
   "nbconvert_exporter": "python",
   "pygments_lexer": "ipython3",
   "version": "3.9.16"
  }
 },
 "nbformat": 4,
 "nbformat_minor": 5
}
