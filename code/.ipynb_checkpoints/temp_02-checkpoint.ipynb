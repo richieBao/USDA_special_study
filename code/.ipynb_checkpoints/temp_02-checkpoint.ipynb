{
 "cells": [
  {
   "cell_type": "code",
   "execution_count": 1,
   "id": "d03fca6b-a671-494a-b4d6-1c35d0b5af65",
   "metadata": {
    "tags": []
   },
   "outputs": [],
   "source": [
    "# IPython extension to reload modules before executing user code.\n",
    "%load_ext autoreload \n",
    "# Reload all modules (except those excluded by %aimport) every time before executing the Python code typed.\n",
    "%autoreload 2 \n",
    "from usda import datasets as usda_datasets\n",
    "from usda import data_visualization as usda_vis\n",
    "from usda import pattern_signature as usda_signature\n",
    "from usda import utils as usda_utils\n",
    "from usda import meta_heuristics as usda_heuristic\n",
    "from usda import network as usda_network\n",
    "\n",
    "import mapclassify\n",
    "import numpy  as np\n",
    "import cc3d\n",
    "import copy\n",
    "import matplotlib.pyplot as plt\n",
    "import random\n",
    "import itertools\n",
    "import networkx as nx\n",
    "from networkx.algorithms import approximation as approx\n",
    "import math\n",
    "from toolz import partition\n",
    "from collections import defaultdict\n",
    "from scipy.signal import convolve2d\n",
    "\n",
    "np.set_printoptions(linewidth=np.inf)"
   ]
  },
  {
   "cell_type": "markdown",
   "id": "28e3fb69-5cbe-4194-8c3a-f7df45d2d109",
   "metadata": {},
   "source": [
    "* PSO 2维度思考\n",
    "\n",
    "GA 从1维度到2维度，关键是染色体（解）维度的变化，及对2维度染色体交叉和变异方式的调整。PSO 在1维度上时一个粒子的位置向量和速度向量是一一对应的关系，根据全局最优位置和历史最优位置更新粒子的速度向量。当依据 PSO 的基本思想，将其转换到2维度空间用于单目标和多目标非线性空间规划时，位置向量变为2维的矩阵，值为土地利用（土地覆盖）的分类值，即将分类值看作粒子所在的位置，位置的更新就是分类值的变化，例如粒子由农田转换为林地等。那么对于粒子位置更新所依据的速度向量，转换为位置更新的概率，概率分布为粒子（当前位置，即占有的一类土地利用类型）转换到所有各个土地利用类型的概率，表示为$P_{rc}$，对应有$K$个值，为土地利用类型的数量，土地利用类型索引用$k$表示，有$k=1, \\ldots ,K$。概率值表述为$p_k$，位于[0,1]之间。行为$r$和列为$c$粒子的概率值表述为$p_{rck}$，且满足$\\sum_{k=1}^K p_{rck} =1$，即一个粒子的概率和为1。依据 PSO 对gBest和pBest的定义，对于2维粒子$a_{rc}$也受到$gBest_{rc}$和$pBest_{rc}$的影响，例如当前粒子的土地利用类型为农田，gBest对应位置的粒子为林地，而pBest对应位置的粒子为水体，即该粒子有向林地和水体转换的可能。同时，PSO 有一个惯性部分，用于保持粒子沿原有方向和速度运动，在2维中，表述为粒子保持自身所持有土地类型不变的可能性。因此，因此考虑到粒子的惯性部分，自我认知和社会经验部分，沿用惯性权重$w$，用于调整粒子保持自身土地类型不变的能力；将学习参数$c_1$和$c_2$合并为一个$c$，称为平衡参数，值位于[0,1]之间；保留两个随机数$r_g$和$r_p$，增加一定的随机性。因此有，$gBest_{rc}$对粒子$a_{rc}$的影响程度为$c \\times r_1$，$pBest_{rc}$对粒子的影响程度为$(1-c) \\times r_2$。保持粒子概率中对应$gBest_{rc}$和$pBest_{rc}$的概率值不变，同时保持粒子自身的概率值为$p_{rck}*w$不变，其中$k$为例子自身索引值。将$k$不在[$gBest_{rc}$,$pBest_{rc}$,$a_{rc}$]中的其它概率值同$p_{rck}*(1-w)$作为一个待重新分配的“概率池”$P_a$，按照全局和历史最优位置的影响程度分配$P_a$到各自已有概率上。因为有$r_1,r_2$的影响，$P_a$剩余的部分重新按照已有概率的比例分配回原来对应的土地利用类型$k$上，从而更新了已有的概率分布，即速度向量。\n",
    "\n",
    "因为空间规划中，同一类型的土地利用类型通常会集聚在一起，而原有的 PSO 方法中仅考虑粒子自身在全局和历史最优位置的影响，不涉及邻近粒子的影响，因此为了避免解的“椒盐”现象，计算当前位置的粒子到邻里8个位置粒子的频数，如果土地利用类型不在邻里单元中，则配置概率值为0，并标准化到[0,1]之间，使其和为1，公式为：$ \\frac{f_{rck}}{ \\sum_{k=1}^K f_{rck} } $，式中$ f_{rck}$为频数，从而构建粒子邻里单元的一个概率分布，表示为$F_{rc}$。增加一个新的参数$w_{ngh}$，值位于[0,1]之间，用于平衡更新后的概率$P_{rc}$和邻里概率$F_{rc}$，从而最终更新的概率（速度向量）为：$F_{rc} \\times w_{ngh}+P_{rc} \\times (1-w_{ngh})$。"
   ]
  },
  {
   "cell_type": "markdown",
   "id": "faf1cd3a-b3a7-4751-b78a-ab644df42c5a",
   "metadata": {},
   "source": [
    "### 3.3.2.2 布谷鸟搜索算法（Cuckoo Search, CS）\n",
    "\n",
    "CS 仿生物智能优化算法，根据布谷鸟孵育寄生的行为特征构建，作者制定了3个理想化的规则如下：\n",
    "\n",
    "1. 每只布谷鸟一次产一个蛋，并将其蛋倾倒在随机选择的巢中；\n",
    "2. 产有高质量蛋的最好巢穴将传给下一代；\n",
    "3. 可用宿主巢的数量是固定的，布谷鸟下的蛋被宿主鸟发现的概率为$p_a \\in [0,1]$。在这种情况下，寄主鸟要么将蛋扔掉，要么弃巢而建一个全新的巢穴。\n",
    "\n",
    "为简单起见约定，巢中的每个鸡蛋代表一个解决方案，布谷鸟蛋代表一个新的解决方案，目的是使用新的和可能更好的解决方案（布谷鸟）来替换一个巢中不太好的解决方案。\n",
    "\n",
    "对于规则1，最明显的特点是应用了Lévy（莱维）飞行（一种随机游走）优化搜索，相比布朗运动（Brownian motion），Lévy飞行可以产生较大的跳跃。Lévy飞行是随机游走的步长服从Lévy分布的一种情况，可以由概率密度函数（Probability density function，PDF）或累积分布函数（cumulative distribution function，CDF）定义，对于 CDF，定义为：$$\n",
    "CDF(t) = \\left\\{ \\begin{array}{lcl}\n",
    "    0  & \\mbox{for} & t < t_{0} \\\\\n",
    "    1 - \\left(\\frac{t}{t_{0}}\\right)^{-\\alpha} & \\mbox{for} & t\\geq t_{0}\n",
    "    \\end{array} \\right.\n",
    "$$， 式中，$t$为步长；$t_{0}$为最小步长；$\\alpha$为幂律的斜率（slope of power law）。对于 PDF 定义为：  $$\n",
    "\\begin{equation*}\n",
    "PDF(t) = \\left\\{ \\begin{array}{lcl}\n",
    "0  & \\mbox{for} & t < t_{0} \\\\\n",
    "\\alpha \\frac{t_{0}^{\\alpha}}{t^{1+\\alpha}} & \\mbox{for} & t\\geq t_{0}\n",
    "\\end{array} \\right.\n",
    "\\end{equation*}\n",
    "$$。如果调小$t_{0}$将导致小步长的概率增加。对于Lévy飞行的直观理解，可以应用[mistree](https://github.com/knaidoo29/mistree)库，打印Lévy飞行轨迹。从下述结果可以观察到Lévy飞行会产生较大的跳跃，这样就避免了过早的收敛导致为局部最优解，而能够在全局搜索，收敛到全局最优。"
   ]
  },
  {
   "cell_type": "code",
   "execution_count": null,
   "id": "d757e464-b8ad-4516-8b24-dc4cd38856b8",
   "metadata": {
    "tags": []
   },
   "outputs": [],
   "source": [
    "import numpy as np\n",
    "import matplotlib.pylab as plt\n",
    "import mistree as mist\n",
    "\n",
    "size=500\n",
    "x, y=mist.get_levy_flight(size, mode='2D')\n",
    "\n",
    "plt.figure(figsize=(6., 6.))\n",
    "plt.plot(x, y, '-', markersize=2., alpha=1)\n",
    "plt.xlabel(r'$X$')\n",
    "plt.ylabel(r'$Y$')\n",
    "plt.xlim(15., 40.)\n",
    "plt.ylim(25., 43.)\n",
    "plt.tight_layout()\n",
    "plt.show()"
   ]
  },
  {
   "cell_type": "markdown",
   "id": "77c4ce39-98a3-4a80-b654-ef47b5339989",
   "metadata": {},
   "source": [
    "<img src=\"../imgs/3_3/3_3_07.png\" height='auto' width='500' title=\"caDesign\">"
   ]
  },
  {
   "cell_type": "markdown",
   "id": "46a9898b-13df-413f-b26a-09314ad290aa",
   "metadata": {},
   "source": [
    "当产生一个新解（即第$i$个布谷鸟）$\\mathbf{x}^{(t+1)} $，应用Lévy飞行的公式表示为$$\\mathbf{x}_i^{(t+1)}=\\mathbf{x}_i^{(t)}+\\alpha \\oplus \\operatorname{Lévy}(\\lambda)$$，对应Lévy飞行和计算新解（含规则1和2）的代码为，\n",
    "\n",
    "```python\n",
    "# Function: Levy Distribution\n",
    "def levy_flight(mean):\n",
    "\tx1 = math.sin((mean - 1.0)*(random.uniform(-0.5*math.pi, 0.5*math.pi)) )/(math.pow(math.cos((random.uniform(-0.5*math.pi, 0.5*math.pi))), (1.0/(mean - 1.0))))\n",
    "\tx2 = math.pow((math.cos((2.0 - mean)*(random.uniform(-0.5*math.pi, 0.5*math.pi)))/(-math.log(random.uniform(0.0, 1.0)))), ((2.0 - mean)/(mean - 1.0)))\n",
    "\treturn x1*x2\n",
    "\n",
    "# Function: Replace Bird\n",
    "def replace_bird(position, alpha_value = 0.01, lambda_value = 1.5, min_values = [-5,-5], max_values = [5,5], target_function = target_function):\n",
    "    random_bird  = np.random.randint(position.shape[0], size = 1)[0]\n",
    "    new_solution = np.zeros((1, position.shape[1]))  \n",
    "    for j in range(0, position.shape[1] - 1):\n",
    "        new_solution[0, j] = np.clip(position[random_bird, j] + alpha_value*levy_flight(lambda_value)*position[random_bird, j]*(int.from_bytes(os.urandom(8), byteorder = 'big') / ((1 << 64) - 1)), min_values[j], max_values[j])\n",
    "    new_solution[0,-1] = target_function(new_solution[0,0:new_solution.shape[1]-1])\n",
    "\n",
    "    if (position[random_bird, -1] > new_solution[0,-1]):\n",
    "        position[random_bird, :] = np.copy(new_solution[0, :])\n",
    "    return position\n",
    "\n",
    "```\n",
    "\n",
    "上述公式中$\\alpha>0$，为求解问题尺度相关的步长，多数情况下配置为值$\\alpha=1$。Lévy飞行是步长的概率分布为重尾分布的随机行走，即在行走过程中有相对较高的概率出现大阔步，具有无限的均值和方差，这使得随机步长在搜索空间方面非常有效。`SciPy`库的`scipy.stats.levy`方法提供了Lévy连续随机变量计算，Lévy的 PDF 公式为：$f(x)=\\frac{1}{\\sqrt{2 \\pi x^3}} \\exp \\left(-\\frac{1}{2 x}\\right)$，式中$x>=0$。从下述代码打印的Lévy 的 PDF 可以观察到重尾分布的情形。 "
   ]
  },
  {
   "cell_type": "code",
   "execution_count": 4,
   "id": "71b01e0c-792e-4bca-9ed4-642387ea436e",
   "metadata": {
    "tags": []
   },
   "outputs": [
    {
     "data": {
      "image/png": "[encoded data removed]",
      "text/plain": [
       "<Figure size 640x480 with 1 Axes>"
      ]
     },
     "metadata": {},
     "output_type": "display_data"
    }
   ],
   "source": [
    "import numpy as np\n",
    "from scipy.stats import levy\n",
    "import matplotlib.pyplot as plt\n",
    "\n",
    "fig, ax = plt.subplots(1, 1)\n",
    "mean, var, skew, kurt = levy.stats(moments='mvsk')\n",
    "a, b = levy.ppf(0), levy.ppf(0.6)\n",
    "x = np.linspace(a, b, 100)\n",
    "ax.plot(x, levy.pdf(x),'r-', lw=5, alpha=0.6, label='levy pdf')\n",
    "plt.show()"
   ]
  },
  {
   "cell_type": "markdown",
   "id": "91bef1e6-3599-47fa-8bb0-faa4fa7f9725",
   "metadata": {},
   "source": [
    "对于规则3，计算方法为任选两个解求其差并乘以一个随机数（即步长）后与当前解求和。对应代码为：\n",
    "\n",
    "```python\n",
    "# Function: Update Positions\n",
    "def update_positions(position, discovery_rate = 0.25, min_values = [-5,-5], max_values = [5,5], target_function = target_function):\n",
    "    updated_position = np.copy(position)\n",
    "    abandoned_nests  = math.ceil(discovery_rate*updated_position.shape[0]) + 1\n",
    "    random_bird_j    = np.random.randint(position.shape[0], size = 1)[0]\n",
    "    random_bird_k    = np.random.randint(position.shape[0], size = 1)[0]\n",
    "    while(random_bird_j == random_bird_k):\n",
    "        random_bird_j = np.random.randint(position.shape[0], size = 1)[0]\n",
    "    nest_list = list(position.argsort()[-(abandoned_nests-1):][::-1][0])\n",
    "    for i in range(0, updated_position.shape[0]):\n",
    "        for j in range(0, len(nest_list)):\n",
    "            rand = int.from_bytes(os.urandom(8), byteorder = 'big') / ((1 << 64) - 1)\n",
    "            if(i == nest_list[j] and rand > discovery_rate):\n",
    "                for k in range(0, updated_position.shape[1] - 1):\n",
    "                    rand = int.from_bytes(os.urandom(8), byteorder = 'big') / ((1 << 64) - 1)\n",
    "                    updated_position[i,k] = np.clip(updated_position[i,k]  + rand*(updated_position[random_bird_j,k] - updated_position[random_bird_k,k]), min_values[k], max_values[k])\n",
    "        updated_position[i,-1] = target_function(updated_position[i,0:updated_position.shape[1]-1])          \n",
    "    return updated_position\n",
    "```\n",
    "\n",
    "下面验证了作者在论文中使用的双变量Michalewicz函数，公式为：$f(x, y)=-\\sin (x) \\sin ^{2 m}\\left(\\frac{x^2}{\\pi}\\right)-\\sin (y) \\sin ^{2 m}\\left(\\frac{2 y^2}{\\pi}\\right)$，式中$m=10$，且$(x,y) \\in [0,5] \\times [0,5]$，当解为$(2.20319, 1.57049)$时，有$f_* \\approx -1.8013 $。下述计算结果与上述基本吻合。"
   ]
  },
  {
   "cell_type": "code",
   "execution_count": 10,
   "id": "a73d9ff4-2a81-46f8-aa83-8fc07f28448d",
   "metadata": {
    "tags": []
   },
   "outputs": [
    {
     "name": "stdout",
     "output_type": "stream",
     "text": [
      "Iteration =  0  f(x) =  -1.3783857961267445\n",
      "Iteration =  20  f(x) =  -1.7591905230703284\n",
      "Iteration =  40  f(x) =  -1.8009891070897415\n",
      "Iteration =  60  f(x) =  -1.801135422282869\n",
      "Iteration =  80  f(x) =  -1.8012999441363957\n",
      "Iteration =  100  f(x) =  -1.8012999441363957\n",
      "Variables:  [2.2027 1.5705]  Minimum Value Found:  -1.8013\n"
     ]
    }
   ],
   "source": [
    "def michaelwicz(variables_values=[0, 0]):\n",
    "    x, y=variables_values\n",
    "    func_value=-np.sin(x)* pow(np.sin(x**2/np.pi),20)-np.sin(y)*pow(np.sin(2*y**2/np.pi),20)\n",
    "    return func_value\n",
    "\n",
    "# CS - Parameters\n",
    "parameters = {\n",
    "    'birds': 50,\n",
    "    'min_values': (0, 0),\n",
    "    'max_values': (5, 5),\n",
    "    'iterations': 100,\n",
    "    'discovery_rate': 0.25,\n",
    "    'alpha_value': 0.01,\n",
    "    'lambda_value': 1.5,\n",
    "    'verbose': 20\n",
    "}    \n",
    "    \n",
    "# CS - Algorithm\n",
    "cs,epoch=usda_heuristic.cuckoo_search(target_function=michaelwicz, **parameters)    \n",
    "\n",
    "# CS - Solution\n",
    "variables=cs[:-1]\n",
    "minimum=cs[ -1]\n",
    "print('Variables: ', np.around(variables, 4) , ' Minimum Value Found: ', round(minimum, 4) )  "
   ]
  },
  {
   "cell_type": "code",
   "execution_count": 12,
   "id": "00d61885-b7cc-42d1-9140-cb636b2cc4d2",
   "metadata": {
    "tags": []
   },
   "outputs": [],
   "source": [
    "# CS - Plot Solution\n",
    "plot_parameters = {\n",
    "    'min_values': (0, 0),\n",
    "    'max_values': (5, 5),\n",
    "    'step': (0.1, 0.1),\n",
    "    'solution': [variables],\n",
    "    'proj_view': '3D',\n",
    "    'view': 'browser' \n",
    "}\n",
    "usda_vis.plot_single_function(target_function=michaelwicz, **plot_parameters)"
   ]
  },
  {
   "cell_type": "markdown",
   "id": "3bfcc112-5782-453d-a04b-35970d82226a",
   "metadata": {},
   "source": [
    "<img src=\"../imgs/3_3/3_3_08.png\" height='auto' width='auto' title=\"caDesign\">"
   ]
  },
  {
   "cell_type": "markdown",
   "id": "8a92e0a0-260f-4fe7-a982-72886b7d403c",
   "metadata": {},
   "source": [
    "### 3.3.2.3 萤火虫算法（Firefly Algorithm, FA）\n",
    "\n",
    "* 理想化萤火虫的一些闪烁特征，确定3个理想化规则为：\n",
    "\n",
    "1. 一只萤火虫会被其它萤火虫吸引，且不分性别；\n",
    "2. 吸引力（Attractiveness）与萤火虫的光强度（Light Intensity）成正比。因此对于任何两只闪烁的萤火虫，较暗的萤火虫会向较亮的萤火虫移动，且吸引力随着距离的增加而减小。如果没有比特定萤火虫更亮的萤火虫，则其随机移动；\n",
    "3. 萤火虫的亮度受目标函数的影响或决定。\n",
    "\n",
    "对于最大化问题，亮度可以简单的与目标函数的值成比例。其它形式的亮度可以用与遗传算法中适应度函数（ﬁtness function）类似的方式定义。\n",
    "\n",
    "* 根据上述3条规则，FA 的基本步骤可以概括为如下伪代码：\n",
    "\n",
    "```algorithm\n",
    "% Firefly Algorithm\n",
    "\\begin{algorithm}\n",
    "\\caption{Firefly Algorithm}\n",
    "\\begin{algorithmic}\n",
    "\\STATE Objective function $f(\\boldsymbol{x}), \\quad \\boldsymbol{x}=\\left(x_1, \\ldots, x_d\\right)^T$.\n",
    "\\STATE Generate an initial population of $n$ fireflies $\\boldsymbol{x}_i(i=1,2, \\ldots, n)$.\n",
    "\\STATE Light intensity $I_i$ at $\\boldsymbol{x}_i$ is determined by $f\\left(\\boldsymbol{x}_i\\right)$.\n",
    "\\STATE Define light absorption coefficient $\\gamma$.\n",
    "\\WHILE{$(t<$ MaxGeneration)}\n",
    "\\FOR{$i=1: n$ (all $n$ fireflies)}\n",
    "\\FOR{$j=1: n$ (all $n$ fireflies) (inner loop)}\n",
    "\\IF{$\\left(I_i<I_j\\right)$}\n",
    "\\STATE Move firefly $i$ towards $j$.\n",
    "\\ENDIF\n",
    "\\STATE Vary attractiveness with distance $r$ via $\\exp \\left[-\\gamma r^2\\right]$.\n",
    "\\STATE Evaluate new solutions and update light intensity.\n",
    "\\ENDFOR\n",
    "\\ENDFOR\n",
    "\\STATE Rank the fireflies and find the current global best $\\boldsymbol{g}_*$.\n",
    "\\ENDWHILE\n",
    "\\STATE Postprocess results and visualization.\n",
    "\\end{algorithmic}\n",
    "\\end{algorithm}\n",
    "```\n",
    "\n",
    "* 关键变量变化公式——光强度和吸引力\n",
    "\n",
    "萤火虫的吸引力由其光强度决定，光强度与目标函数有关，因此最大优化问题的最简单情况是特定位置$x$处萤火虫的光强度可以为：$ I(\\boldsymbol{x}) \\propto f(\\boldsymbol{x})$。但吸引力$\\beta$是相对的，应该由旁观者或者其它萤火虫来判断，因此，吸引力随第$i$个萤火虫和第$j$个萤火虫之间距离$r_{ij}$的变化而变化。另外，光强度随着到光源距离的增加而减弱，光也会被介质所吸收，所以吸引力随吸收程度而变化。最简单表达光强度$I(r)$的方式为距离平方的倒数：$I(r)=\\frac{I_S}{r^2}$，式中，$I_S$为萤火虫的当前光强度。"
   ]
  },
  {
   "cell_type": "code",
   "execution_count": 32,
   "id": "4ead6719-f6ff-438e-8e35-05c8d2bea3d7",
   "metadata": {
    "tags": []
   },
   "outputs": [],
   "source": [
    "def func(variables_values=[0]):\n",
    "    r=variables_values[0]    \n",
    "    func_val=1/pow(r,2)\n",
    "    return func_val\n",
    "plot_parameters={'min_values': [0.1],'max_values': [5],'step': [0.1], 'solution': [],'proj_view': '1d','view': 'browser' , 'mode':'lines'}\n",
    "usda_vis.plot_single_function(target_function=func, **plot_parameters)"
   ]
  },
  {
   "cell_type": "markdown",
   "id": "80c90086-aaea-4c3e-83b7-0d4d3ce03de8",
   "metadata": {},
   "source": [
    "<img src=\"../imgs/3_3/3_3_10.png\" height='auto' width='auto' title=\"caDesign\">"
   ]
  },
  {
   "cell_type": "markdown",
   "id": "0d20c60e-100b-46db-b137-fa897ff40480",
   "metadata": {},
   "source": [
    "从上述打印的平方反比率曲线可以发现，平方反比率随距离$r$的增加值迅速的下降，为了缓和曲线的下降速度，避免距离值不能为0的情况；且趋近于0时，值为正无穷，并增加光被介质吸收的影响，增加固定光吸收系数$\\gamma$，用高斯（Gaussian）形式近似平方反比率和吸收的组合效应，公式为：$I(r)=I_0 e^{-\\gamma r^2}$，式中，$I_0 $为距离值为0时，当前萤火虫光强度。从下述打印的曲线可以观察到，距离为零时值为1，且曲线下降速度得以缓和。"
   ]
  },
  {
   "cell_type": "code",
   "execution_count": 34,
   "id": "9011a87e-ec30-4770-be33-7d9e87e47013",
   "metadata": {
    "tags": []
   },
   "outputs": [],
   "source": [
    "def func(variables_values=[0]):\n",
    "    r=variables_values[0]    \n",
    "    func_val=pow(math.e,-1*r**2)\n",
    "    return func_val\n",
    "plot_parameters={'min_values': [0],'max_values': [5],'step': [0.1], 'solution': [],'proj_view': '1d','view': 'browser' , 'mode':'lines'}\n",
    "usda_vis.plot_single_function(target_function=func, **plot_parameters)"
   ]
  },
  {
   "cell_type": "markdown",
   "id": "589adab4-91b8-49db-8876-b0bc065e8b6b",
   "metadata": {},
   "source": [
    "<img src=\"../imgs/3_3/3_3_11.png\" height='auto' width='auto' title=\"caDesign\">\n",
    "\n",
    "上述配置的$\\gamma$值为1，当距离大于2时，$y$值趋近于0；当调小该值为0.1后，从下述打印的曲线可以观察到，曲线下降的速度又进一步下降，当距离值高于6时，$y$值趋近于0。"
   ]
  },
  {
   "cell_type": "code",
   "execution_count": 39,
   "id": "7d766486-5c8d-401b-afad-8679e8f99666",
   "metadata": {
    "tags": []
   },
   "outputs": [],
   "source": [
    "def func(variables_values=[0]):\n",
    "    r=variables_values[0]    \n",
    "    func_val=pow(math.e,-0.1*r**2)\n",
    "    return func_val\n",
    "plot_parameters={'min_values': [0],'max_values': [10],'step': [0.1], 'solution': [],'proj_view': '1d','view': 'browser' , 'mode':'lines'}\n",
    "usda_vis.plot_single_function(target_function=func, **plot_parameters)"
   ]
  },
  {
   "cell_type": "markdown",
   "id": "f7b744a3-0d00-4cab-8f2d-5f7f17eb94ce",
   "metadata": {},
   "source": [
    "<img src=\"../imgs/3_3/3_3_12.png\" height='auto' width='auto' title=\"caDesign\">"
   ]
  },
  {
   "cell_type": "markdown",
   "id": "8840f682-28dc-457d-89b4-05825425befb",
   "metadata": {},
   "source": [
    "因为萤火中吸引力值与其光强度成正比，因此定义吸引力$\\beta$为：$\\beta=\\beta_0 e^{-\\gamma r^2}$，式中，$\\beta_0$为距离值$r=0$时当前萤火虫的吸引力。由于计算$1/(1+r^2)$比计算指数函数快，因此如果需要，可以将上述公式近似为：$\\beta=\\frac{\\beta_0}{1+\\gamma r^2}$。从下述打印的曲线，对比高斯形式，可以观察到二者近似的情况。吸引力函数定义了一个特征距离，$\\Gamma=1 / \\sqrt{\\gamma}$，对于高斯形式吸引力显著的变化于$\\beta_0$到$\\beta_0 e^-1$，对于近似形式则到$\\beta_0/2$。"
   ]
  },
  {
   "cell_type": "code",
   "execution_count": 40,
   "id": "417d259e-422c-45c0-b4c1-a209f127e244",
   "metadata": {
    "tags": []
   },
   "outputs": [],
   "source": [
    "def func(variables_values=[0]):\n",
    "    r=variables_values[0]    \n",
    "    func_val=1/(1+1*r**2)\n",
    "    return func_val\n",
    "plot_parameters={'min_values': [0],'max_values': [10],'step': [0.1], 'solution': [],'proj_view': '1d','view': 'browser' , 'mode':'lines'}\n",
    "usda_vis.plot_single_function(target_function=func, **plot_parameters)"
   ]
  },
  {
   "cell_type": "markdown",
   "id": "aca91884-2fa2-4d23-afbc-8a38f5009fe1",
   "metadata": {},
   "source": [
    "<img src=\"../imgs/3_3/3_3_13.png\" height='auto' width='auto' title=\"caDesign\">"
   ]
  },
  {
   "cell_type": "markdown",
   "id": "0421d399-cf18-4934-af0f-46d4cd194df1",
   "metadata": {},
   "source": [
    "在实现中，吸引力$\\beta(r)$可以是任何单调递减函数，表述为：$\\beta(r)=\\beta_0 e^{-\\gamma r^m}, \\quad(m \\geq 1) $。对于固定的$\\gamma$，特征长度为：$\\Gamma=\\gamma^{-1 / m} \\rightarrow 1, \\quad m \\rightarrow \\infty $。相反，对于优化问题中给定的长度标度$\\Gamma$，参数$\\gamma$可以用作典型的初始化值，为：$\\gamma=\\frac{1}{\\Gamma^m} $。\n",
    "\n",
    "第$i$和第$j$的两只萤火虫位于$x_i$和$x_j$，它们之间的距离为笛卡尔距离（Cartesian distance），公式为：$r_{i j}=\\left\\|\\boldsymbol{x}_i-\\boldsymbol{x}_j\\right\\|=\\sqrt{\\sum_{k=1}^d\\left(x_{i, k}-x_{j, k}\\right)^2}$，式中$x_{i, k}$为第$i$个萤火虫空间坐标$x_i$的第$k$个分量。在2维情况下，公式为：$r_{i j}=\\sqrt{\\left(x_i-x_j\\right)^2+\\left(y_i-y_j\\right)^2}$。第$i$只萤火虫被其它更有吸引力（更亮）的第$j$只萤火虫吸引发生运动的公式为：$\\boldsymbol{x}_i^{t+1}=\\boldsymbol{x}_i^t+\\beta_0 e^{-\\gamma r_{i j}^2}\\left(\\boldsymbol{x}_j^t-\\boldsymbol{x}_i^t\\right)+\\alpha \\boldsymbol{\\epsilon}_i^t$，式中的第2项就是吸引力影响部分。第3项，$\\alpha \\boldsymbol{\\epsilon}_i^t$是一个随机化，$\\alpha $是随机因子，$\\boldsymbol{\\epsilon}_i$是从高斯分布（Gausian distribution）或均匀分布（uniform distribution）提取的一个随机向量。例如，一个最简单形式是，$\\boldsymbol{\\epsilon}_i$可以被替换为$rand-1/2$，其中，$rand$为一个均匀分布在[0,1]之间的一个随机数生成器。对于大多数实现，可以取$\\beta_0=1$，$\\alpha \\in [0,1]$。\n",
    "\n",
    "关键变量变化公式——光强度和吸引力的代码部分对应：\n",
    "\n",
    "```python\n",
    "# Function: Distance Calculations\n",
    "def euclidean_distance(x, y):\n",
    "    distance = 0\n",
    "    for j in range(0, len(x)):\n",
    "        distance = (x[j] - y[j])**2 + distance       \n",
    "    return distance**(1/2) \n",
    "\n",
    "# Function: Beta Value\n",
    "def beta_value(x, y, gama = 1, beta_0 = 1):\n",
    "    rij  = euclidean_distance(x, y)\n",
    "    beta = beta_0*math.exp(-gama*(rij)**2)\n",
    "    return beta\n",
    "\n",
    "# Function: Ligth Intensity\n",
    "def ligth_value(light_0, x, y, gama = 1):\n",
    "    rij   = euclidean_distance(x, y)\n",
    "    light = light_0*math.exp(-gama*(rij)**2)\n",
    "    return light\n",
    "\n",
    "# Function: Update Position\n",
    "def update_position(position, x, y, alpha_0 = 0.2, beta_0 = 1, gama = 1, firefly = 0, min_values = [-5,-5], max_values = [5,5], target_function = target_function):\n",
    "    for j in range(0, len(x)):\n",
    "        epson                = int.from_bytes(os.urandom(8), byteorder = \"big\") / ((1 << 64) - 1) - (1/2)\n",
    "        position[firefly, j] = np.clip((x[j] + beta_value(x, y, gama = gama, beta_0 = beta_0)*(y[j] - x[j]) + alpha_0*epson), min_values[j], max_values[j])\n",
    "    position[firefly, -1] = target_function(position[firefly, 0:position.shape[1]-1])\n",
    "    return position\n",
    "```\n",
    "\n",
    "使用一个简单的4峰函数为基准函数检验 FA，函数公式为：$f(x, y)=e^{-(x-4)^2-(y-4)^2}+e^{-(x+4)^2-(y-4)^2}+2\\left[e^{-x^2-y^2}+e^{-x^2-(y+4)^2}\\right]$，有$(x,y) \\in [-5,5] \\times [-5,5]$，该函数有4个峰，2个局部峰位于$(-4,4)$和$(4,4)$时，$f=1$；2个全局峰位于$(0,0)$和$(0,-4)$，有$f_{max}=2$。因为定义的`firefly_algorithm`函数为最小优化，因此对4峰函数值取反，从计算结果看到求得到了一个全局峰值，位置为$(0,0)$，值为-2，与上述结果同。"
   ]
  },
  {
   "cell_type": "code",
   "execution_count": 11,
   "id": "c0c2b804-fb8e-4b11-a398-25aec9407940",
   "metadata": {
    "tags": []
   },
   "outputs": [
    {
     "name": "stdout",
     "output_type": "stream",
     "text": [
      "Generation:  0  f(x) =  -1.554558799766898\n",
      "Generation:  20  f(x) =  -1.9999920229090813\n",
      "Generation:  40  f(x) =  -1.9999993359687203\n",
      "Generation:  60  f(x) =  -1.9999993359687203\n",
      "Generation:  80  f(x) =  -2.000000033061012\n",
      "Generation:  100  f(x) =  -2.000000033061012\n",
      "Variables:  [ 0.0003 -0.0002]  Minimum Value Found:  -2.0\n"
     ]
    }
   ],
   "source": [
    "def four_peaks(variables_values=[0, 0]):\n",
    "    x, y=variables_values\n",
    "    func_value=pow(math.e,-pow(x-4,2)-pow(y-4,2))+pow(math.e,-pow(x+4,2)-pow(y-4,2))+2*(pow(math.e,-x**2-y**2)+pow(math.e,-x**2-(y+4)**2))\n",
    "    return -func_value\n",
    "\n",
    "# FA - Parameters\n",
    "parameters = {\n",
    "    'swarm_size': 50,\n",
    "    'min_values': (-5, -5),\n",
    "    'max_values': (5, 5),\n",
    "    'generations': 100,\n",
    "    'alpha_0': 0.2,\n",
    "    'beta_0': 1,\n",
    "    'gama': 1,\n",
    "    'verbose': 20\n",
    "}    \n",
    "\n",
    "# FA - Algorithm\n",
    "fa,epoch=usda_heuristic.firefly_algorithm(target_function=four_peaks, **parameters)    \n",
    "\n",
    "# FA - Solution\n",
    "variables = fa[:-1]\n",
    "minimum   = fa[ -1]\n",
    "print('Variables: ', np.around(variables, 4) , ' Minimum Value Found: ', round(minimum, 4) )"
   ]
  },
  {
   "cell_type": "code",
   "execution_count": 12,
   "id": "d7d64edf-1d0f-4ed4-a7ce-9fdfd220ee9e",
   "metadata": {
    "tags": []
   },
   "outputs": [],
   "source": [
    "# CS - Plot Solution\n",
    "plot_parameters = {\n",
    "    'min_values': (-5, -5),\n",
    "    'max_values': (5, 5),\n",
    "    'step': (0.1, 0.1),\n",
    "    'solution': [variables],\n",
    "    'proj_view': '3D',\n",
    "    'view': 'browser' \n",
    "}\n",
    "usda_vis.plot_single_function(target_function=four_peaks, **plot_parameters)"
   ]
  },
  {
   "cell_type": "markdown",
   "id": "31d207b9-cc7a-42fc-aa81-bfdba40c466a",
   "metadata": {},
   "source": [
    "<img src=\"../imgs/3_3/3_3_09.png\" height='auto' width='auto' title=\"caDesign\">"
   ]
  },
  {
   "cell_type": "code",
   "execution_count": null,
   "id": "66c15440-b6db-403e-a09e-a12162a7462e",
   "metadata": {},
   "outputs": [],
   "source": []
  },
  {
   "cell_type": "markdown",
   "id": "9df1ad7a-c095-498e-9daf-2be89fd9b9c9",
   "metadata": {
    "jp-MarkdownHeadingCollapsed": true,
    "tags": []
   },
   "source": [
    "### 3.3.2.2 布谷鸟搜索算法（Cuckoo Search, CS）\n",
    "\n",
    "* CS 仿生物智能优化算法，根据布谷鸟孵育寄生的行为特征构建，作者制定了3个理想化的规则如下：\n",
    "\n",
    "1. 每只布谷鸟一次产一个蛋，并将其蛋倾倒在随机选择的巢中；\n",
    "2. 产有高质量蛋的最好巢穴将传给下一代；\n",
    "3. 可用宿主巢的数量是固定的，布谷鸟下的蛋被宿主鸟发现的概率为$p_a \\in [0,1]$。在这种情况下，寄主鸟要么将蛋扔掉，要么弃巢而建一个全新的巢穴。\n",
    "\n",
    "为简单起见约定，巢中的每个鸡蛋代表一个解决方案，布谷鸟蛋代表一个新的解决方案，目的是使用新的和可能更好的解决方案（布谷鸟）来替换一个巢中不太好的解决方案。\n",
    "\n",
    "* 根据上述3条规则，CS 的基本步骤可以概括为如下伪代码：\n",
    "\n",
    "```algorithm\n",
    "% Cuckoo Search\n",
    "\\begin{algorithm}\n",
    "\\caption{Cuckoo Search}\n",
    "\\begin{algorithmic}\n",
    "\\STATE Objective function $f(\\mathbf{x}), \\mathbf{x}=\\left(x_1, \\ldots, x_d\\right)^T$\n",
    "\\STATE Generate initial population of $n$ host nests $\\mathbf{x}_i(i=1,2, \\ldots, n)$\n",
    "\\WHILE{( $i<$ MaxGeneration) or $($ stop criterion)}\n",
    "\\STATE Get a cuckoo randomly by Lévy flights evaluate its quality/fitness $F_i$\n",
    "\\STATE Choose a nest among $n($ say, $j)$ randomly \n",
    "\\IF{$\\left(F_i>F_j\\right)$}\n",
    "\\STATE replace $j$ by the new solution;\n",
    "\\ENDIF\n",
    "\\STATE A fraction $\\left(p_a\\right)$ of worse nests are abandoned and new ones are built;\n",
    "\\STATE Keep the best solutions (or nests with quality solutions);\n",
    "\\STATE Rank the solutions and find the current best\n",
    "\\ENDWHILE\n",
    "\\STATE Postprocess results and visualization\n",
    "\\end{algorithmic}\n",
    "\\end{algorithm}\n",
    "```\n",
    "\n",
    "* 关键变量变化公式——全局Lévy飞行（全局搜索）和局部随机游走（局部搜索）\n",
    "\n",
    "对于规则1（全局搜索），最明显的特点是应用了Lévy（莱维）飞行（一种随机游走）优化搜索，相比布朗运动（Brownian motion），Lévy飞行可以产生较大的跳跃。Lévy飞行是随机游走的步长服从Lévy分布的一种情况，可以由概率密度函数（Probability density function，PDF）或累积分布函数（cumulative distribution function，CDF）定义，对于 CDF，定义为：$$\n",
    "CDF(t) = \\left\\{ \\begin{array}{lcl}\n",
    "    0  & \\mbox{for} & t < t_{0} \\\\\n",
    "    1 - \\left(\\frac{t}{t_{0}}\\right)^{-\\alpha} & \\mbox{for} & t\\geq t_{0}\n",
    "    \\end{array} \\right.\n",
    "$$， 式中，$t$为步长；$t_{0}$为最小步长；$\\alpha$为幂律的斜率（slope of power law）。对于 PDF 定义为：  $$\n",
    "\\begin{equation*}\n",
    "PDF(t) = \\left\\{ \\begin{array}{lcl}\n",
    "0  & \\mbox{for} & t < t_{0} \\\\\n",
    "\\alpha \\frac{t_{0}^{\\alpha}}{t^{1+\\alpha}} & \\mbox{for} & t\\geq t_{0}\n",
    "\\end{array} \\right.\n",
    "\\end{equation*}\n",
    "$$。如果调小$t_{0}$将导致小步长的概率增加。对于Lévy飞行的直观理解，可以应用[mistree](https://github.com/knaidoo29/mistree)库，打印Lévy飞行轨迹。从下述结果可以观察到Lévy飞行会产生较大的跳跃，这样就避免了过早的收敛导致为局部最优解，而能够在全局搜索，收敛到全局最优。"
   ]
  },
  {
   "cell_type": "code",
   "execution_count": null,
   "id": "481a93b9-e434-4ce5-8c91-e97df3a9f171",
   "metadata": {
    "tags": []
   },
   "outputs": [],
   "source": [
    "import numpy as np\n",
    "import matplotlib.pylab as plt\n",
    "import mistree as mist\n",
    "\n",
    "size=500\n",
    "x, y=mist.get_levy_flight(size, mode='2D')\n",
    "\n",
    "plt.figure(figsize=(6., 6.))\n",
    "plt.plot(x, y, '-', markersize=2., alpha=1)\n",
    "plt.xlabel(r'$X$')\n",
    "plt.ylabel(r'$Y$')\n",
    "plt.xlim(15., 40.)\n",
    "plt.ylim(25., 43.)\n",
    "plt.tight_layout()\n",
    "plt.show()"
   ]
  },
  {
   "cell_type": "markdown",
   "id": "295093c9-5177-4a2c-8877-3bc2d807461b",
   "metadata": {},
   "source": [
    "<img src=\"../imgs/3_3/3_3_07.png\" height='auto' width='500' title=\"caDesign\">"
   ]
  },
  {
   "cell_type": "markdown",
   "id": "0559f173-51da-4061-9986-786280a58f49",
   "metadata": {},
   "source": [
    "当产生一个新解（即第$i$个布谷鸟）$\\mathbf{x}^{(t+1)} $，应用Lévy飞行的公式表示为$$\\mathbf{x}_i^{(t+1)}=\\mathbf{x}_i^{(t)}+\\alpha \\oplus \\operatorname{Lévy}(\\lambda)$$，对应Lévy飞行和计算新解（含规则1和2）的代码为，\n",
    "\n",
    "```python\n",
    "# Function: Levy Distribution\n",
    "def levy_flight(mean):\n",
    "\tx1 = math.sin((mean - 1.0)*(random.uniform(-0.5*math.pi, 0.5*math.pi)) )/(math.pow(math.cos((random.uniform(-0.5*math.pi, 0.5*math.pi))), (1.0/(mean - 1.0))))\n",
    "\tx2 = math.pow((math.cos((2.0 - mean)*(random.uniform(-0.5*math.pi, 0.5*math.pi)))/(-math.log(random.uniform(0.0, 1.0)))), ((2.0 - mean)/(mean - 1.0)))\n",
    "\treturn x1*x2\n",
    "\n",
    "# Function: Replace Bird\n",
    "def replace_bird(position, alpha_value = 0.01, lambda_value = 1.5, min_values = [-5,-5], max_values = [5,5], target_function = target_function):\n",
    "    random_bird  = np.random.randint(position.shape[0], size = 1)[0]\n",
    "    new_solution = np.zeros((1, position.shape[1]))  \n",
    "    for j in range(0, position.shape[1] - 1):\n",
    "        new_solution[0, j] = np.clip(position[random_bird, j] + alpha_value*levy_flight(lambda_value)*position[random_bird, j]*(int.from_bytes(os.urandom(8), byteorder = 'big') / ((1 << 64) - 1)), min_values[j], max_values[j])\n",
    "    new_solution[0,-1] = target_function(new_solution[0,0:new_solution.shape[1]-1])\n",
    "\n",
    "    if (position[random_bird, -1] > new_solution[0,-1]):\n",
    "        position[random_bird, :] = np.copy(new_solution[0, :])\n",
    "    return position\n",
    "\n",
    "```\n",
    "\n",
    "上述公式中$\\alpha>0$，为求解问题尺度相关的步长，多数情况下配置为值$\\alpha=1$。Lévy飞行是步长的概率分布为重尾分布的随机行走，即在行走过程中有相对较高的概率出现大阔步，具有无限的均值和方差，这使得随机步长在搜索空间方面非常有效。`SciPy`库的`scipy.stats.levy`方法提供了Lévy连续随机变量计算，Lévy的 PDF 公式为：$f(x)=\\frac{1}{\\sqrt{2 \\pi x^3}} \\exp \\left(-\\frac{1}{2 x}\\right)$，式中$x>=0$。从下述代码打印的Lévy 的 PDF 可以观察到重尾分布的情形。 "
   ]
  },
  {
   "cell_type": "code",
   "execution_count": 4,
   "id": "dd01186e-42b4-4d8c-9929-037dc2e38bbe",
   "metadata": {
    "tags": []
   },
   "outputs": [
    {
     "data": {
      "image/png": "[encoded data removed]",
      "text/plain": [
       "<Figure size 640x480 with 1 Axes>"
      ]
     },
     "metadata": {},
     "output_type": "display_data"
    }
   ],
   "source": [
    "import numpy as np\n",
    "from scipy.stats import levy\n",
    "import matplotlib.pyplot as plt\n",
    "\n",
    "fig, ax = plt.subplots(1, 1)\n",
    "mean, var, skew, kurt = levy.stats(moments='mvsk')\n",
    "a, b = levy.ppf(0), levy.ppf(0.6)\n",
    "x = np.linspace(a, b, 100)\n",
    "ax.plot(x, levy.pdf(x),'r-', lw=5, alpha=0.6, label='levy pdf')\n",
    "plt.show()"
   ]
  },
  {
   "cell_type": "markdown",
   "id": "4158ed19-c318-4a08-a281-cfb41374b418",
   "metadata": {},
   "source": [
    "对于规则3（局部搜索），计算方法为任选两个解求其差并乘以一个随机数（即步长）后与当前解求和，公式为：$\\boldsymbol{x}_i^{t+1}=\\boldsymbol{x}_i^t+\\alpha s \\otimes H\\left(p_a-\\epsilon\\right) \\otimes\\left(\\boldsymbol{x}_j^t-\\boldsymbol{x}_k^t\\right)$，式中，$\\boldsymbol{x}_j^t$和$\\boldsymbol{x}_k^t$为通过随机排列随机选择的两个不同解；$H( u )$是赫维赛德函数（ Heaviside function），$\\epsilon$是从均匀分布中抽取的随机数，$s$是步长，$\\otimes$表示两个向量的逐项乘积。对应代码为：\n",
    "\n",
    "```python\n",
    "# Function: Update Positions\n",
    "def update_positions(position, discovery_rate = 0.25, min_values = [-5,-5], max_values = [5,5], target_function = target_function):\n",
    "    updated_position = np.copy(position)\n",
    "    abandoned_nests  = math.ceil(discovery_rate*updated_position.shape[0]) + 1\n",
    "    random_bird_j    = np.random.randint(position.shape[0], size = 1)[0]\n",
    "    random_bird_k    = np.random.randint(position.shape[0], size = 1)[0]\n",
    "    while(random_bird_j == random_bird_k):\n",
    "        random_bird_j = np.random.randint(position.shape[0], size = 1)[0]\n",
    "    nest_list = list(position.argsort()[-(abandoned_nests-1):][::-1][0])\n",
    "    for i in range(0, updated_position.shape[0]):\n",
    "        for j in range(0, len(nest_list)):\n",
    "            rand = int.from_bytes(os.urandom(8), byteorder = 'big') / ((1 << 64) - 1)\n",
    "            if(i == nest_list[j] and rand > discovery_rate):\n",
    "                for k in range(0, updated_position.shape[1] - 1):\n",
    "                    rand = int.from_bytes(os.urandom(8), byteorder = 'big') / ((1 << 64) - 1)\n",
    "                    updated_position[i,k] = np.clip(updated_position[i,k]  + rand*(updated_position[random_bird_j,k] - updated_position[random_bird_k,k]), min_values[k], max_values[k])\n",
    "        updated_position[i,-1] = target_function(updated_position[i,0:updated_position.shape[1]-1])          \n",
    "    return updated_position\n",
    "```\n",
    "\n",
    "下面验证了作者在论文中使用的双变量Michalewicz函数，公式为：$f(x, y)=-\\sin (x) \\sin ^{2 m}\\left(\\frac{x^2}{\\pi}\\right)-\\sin (y) \\sin ^{2 m}\\left(\\frac{2 y^2}{\\pi}\\right)$，式中$m=10$，且$(x,y) \\in [0,5] \\times [0,5]$，当解为$(2.20319, 1.57049)$时，有$f_* \\approx -1.8013 $。下述计算结果与上述基本吻合。"
   ]
  },
  {
   "cell_type": "code",
   "execution_count": 10,
   "id": "02862db4-ac7e-4712-992c-5fe2a539c942",
   "metadata": {
    "tags": []
   },
   "outputs": [
    {
     "name": "stdout",
     "output_type": "stream",
     "text": [
      "Iteration =  0  f(x) =  -1.3783857961267445\n",
      "Iteration =  20  f(x) =  -1.7591905230703284\n",
      "Iteration =  40  f(x) =  -1.8009891070897415\n",
      "Iteration =  60  f(x) =  -1.801135422282869\n",
      "Iteration =  80  f(x) =  -1.8012999441363957\n",
      "Iteration =  100  f(x) =  -1.8012999441363957\n",
      "Variables:  [2.2027 1.5705]  Minimum Value Found:  -1.8013\n"
     ]
    }
   ],
   "source": [
    "def michaelwicz(variables_values=[0, 0]):\n",
    "    x, y=variables_values\n",
    "    func_value=-np.sin(x)* pow(np.sin(x**2/np.pi),20)-np.sin(y)*pow(np.sin(2*y**2/np.pi),20)\n",
    "    return func_value\n",
    "\n",
    "# CS - Parameters\n",
    "parameters = {\n",
    "    'birds': 50,\n",
    "    'min_values': (0, 0),\n",
    "    'max_values': (5, 5),\n",
    "    'iterations': 100,\n",
    "    'discovery_rate': 0.25,\n",
    "    'alpha_value': 0.01,\n",
    "    'lambda_value': 1.5,\n",
    "    'verbose': 20\n",
    "}    \n",
    "    \n",
    "# CS - Algorithm\n",
    "cs,epoch=usda_heuristic.cuckoo_search(target_function=michaelwicz, **parameters)    \n",
    "\n",
    "# CS - Solution\n",
    "variables=cs[:-1]\n",
    "minimum=cs[ -1]\n",
    "print('Variables: ', np.around(variables, 4) , ' Minimum Value Found: ', round(minimum, 4) )  "
   ]
  },
  {
   "cell_type": "code",
   "execution_count": 12,
   "id": "4823212a-daeb-4dbc-8d3c-3001ca39562c",
   "metadata": {
    "tags": []
   },
   "outputs": [],
   "source": [
    "# CS - Plot Solution\n",
    "plot_parameters = {\n",
    "    'min_values': (0, 0),\n",
    "    'max_values': (5, 5),\n",
    "    'step': (0.1, 0.1),\n",
    "    'solution': [variables],\n",
    "    'proj_view': '3D',\n",
    "    'view': 'browser' \n",
    "}\n",
    "usda_vis.plot_single_function(target_function=michaelwicz, **plot_parameters)"
   ]
  },
  {
   "cell_type": "markdown",
   "id": "1cdcc8d9-9be7-46a5-b28a-fe5a3a563136",
   "metadata": {},
   "source": [
    "<img src=\"../imgs/3_3/3_3_08.png\" height='auto' width='auto' title=\"caDesign\">"
   ]
  },
  {
   "cell_type": "code",
   "execution_count": 46,
   "id": "395449a4-4708-4a34-9ab1-97c8c21b3775",
   "metadata": {
    "tags": []
   },
   "outputs": [
    {
     "data": {
      "text/plain": [
       "0.19808530313365458"
      ]
     },
     "execution_count": 46,
     "metadata": {},
     "output_type": "execute_result"
    }
   ],
   "source": [
    "import os\n",
    "int.from_bytes(os.urandom(8), byteorder = 'big') / ((1 << 64) - 1)"
   ]
  },
  {
   "cell_type": "code",
   "execution_count": null,
   "id": "d3b0d235-9fd4-4d9f-be6d-c09a74c5b433",
   "metadata": {},
   "outputs": [],
   "source": []
  }
 ],
 "metadata": {
  "kernelspec": {
   "display_name": "Python 3 (ipykernel)",
   "language": "python",
   "name": "python3"
  },
  "language_info": {
   "codemirror_mode": {
    "name": "ipython",
    "version": 3
   },
   "file_extension": ".py",
   "mimetype": "text/x-python",
   "name": "python",
   "nbconvert_exporter": "python",
   "pygments_lexer": "ipython3",
   "version": "3.9.16"
  }
 },
 "nbformat": 4,
 "nbformat_minor": 5
}
