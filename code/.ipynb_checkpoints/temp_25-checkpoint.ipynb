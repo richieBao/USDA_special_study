{
 "cells": [
  {
   "cell_type": "code",
   "execution_count": 6,
   "id": "7f6b191f-2171-42b8-ac3e-018822dee4b5",
   "metadata": {},
   "outputs": [
    {
     "name": "stdout",
     "output_type": "stream",
     "text": [
      "The autoreload extension is already loaded. To reload it, use:\n",
      "  %reload_ext autoreload\n"
     ]
    }
   ],
   "source": [
    "%load_ext autoreload \n",
    "%autoreload 2 \n",
    "import usda.mpe_realworld  as usda_mpe\n",
    "from usda.mpe_realworld.mpe import navona_v1\n",
    "import usda.utils as usda_utils\n",
    "import usda.rl as usda_rl   \n",
    "\n",
    "import matplotlib.pyplot as plt\n",
    "import mapclassify\n",
    "import matplotlib\n",
    "from IPython.display import HTML\n",
    "import supersuit as ss\n",
    "\n",
    "from stable_baselines3 import PPO\n",
    "from stable_baselines3 import A2C\n",
    "from stable_baselines3.ppo import MlpPolicy\n",
    "import os\n",
    "import rioxarray as rxr\n",
    "import numpy as np"
   ]
  },
  {
   "cell_type": "code",
   "execution_count": 7,
   "id": "688869a2-c2bb-4b74-9b73-b40b04ac0dc3",
   "metadata": {},
   "outputs": [
    {
     "name": "stdout",
     "output_type": "stream",
     "text": [
      "{0: '#fbb4ae', 1: '#fbb4ae', 2: '#b3cde3', 3: '#b3cde3', 4: '#ccebc5', 5: '#decbe4', 6: '#decbe4', 7: '#fed9a6', 8: '#fed9a6', 9: '#ffffcc', 10: '#e5d8bd', 11: '#e5d8bd', 12: '#fddaec', 13: '#fddaec', 14: '#f2f2f2', 15: '#f2f2f2'}\n"
     ]
    }
   ],
   "source": [
    "piazza_navona_shp_root=r'C:\\Users\\richie\\omen_richiebao\\omen_github\\USDA_special_study\\data\\piazza_navona_osm'\n",
    "area_node_fn=os.path.join(piazza_navona_shp_root,'navona_area_node.tif')\n",
    "navona_area_node=rxr.open_rasterio(area_node_fn)\n",
    "plat=np.stack(navona_area_node.data,axis=2)\n",
    "plat[:,:,0][plat[:,:,0]==-9999]=15   \n",
    "plat=plat[100:500,100:500:,:]\n",
    "\n",
    "plat_colors=usda_utils.cmap2hex('Pastel1',16)\n",
    "print(plat_colors)    \n",
    "cmap, norm = matplotlib.colors.from_levels_and_colors([i+1 for i in list(plat_colors.keys())],list(plat_colors.values()),extend='max') \n",
    "\n",
    "plat_rewards={\n",
    "    1:100,\n",
    "    2:-100,\n",
    "    3:-100,\n",
    "    4:-100,\n",
    "    5:-100,\n",
    "    6:-100,\n",
    "    7:-100,\n",
    "    8:-100,\n",
    "    9:-100,\n",
    "    10:-100,\n",
    "    11:10,\n",
    "    12:-100,\n",
    "    13:-100,\n",
    "    14:-100,\n",
    "    15:50}"
   ]
  },
  {
   "cell_type": "code",
   "execution_count": 8,
   "id": "fce47ab5-865f-453c-9cf5-75c886f056a5",
   "metadata": {},
   "outputs": [
    {
     "name": "stdout",
     "output_type": "stream",
     "text": [
      "Rewards:  {'agent_0': -483.2180555632914, 'agent_1': -84.21805556329105, 'agent_2': 2590.7819444367083, 'agent_3': 6965.781944436718, 'agent_4': 7445.781944436719, 'agent_5': 3465.7819444367083, 'agent_6': 7915.78194443672, 'agent_7': -2084.2180555632917, 'agent_8': 210.78194443670816, 'agent_9': 10112.781944436721}\n",
      "Avg reward: 3605.581944436713\n"
     ]
    }
   ],
   "source": [
    "env=navona_v1.env(\n",
    "    render_mode=\"rgb_array\",\n",
    "    plat=plat,\n",
    "    plat_colors=plat_colors,\n",
    "    plat_rewards=plat_rewards,\n",
    "    agents_num=100,\n",
    "    nodes_radius=50,\n",
    "    group_dis=0.01,\n",
    "    max_cycles=150, \n",
    "    # continuous_actions=True,\n",
    "    )\n",
    "\n",
    "# navona_v1_PPO_path=r'../models/navona_v1_PPO.zip'\n",
    "navona_v1_PPO_path=r'C:\\Users\\richie\\omen_richiebao\\omen_temp\\navona_v1_A2C.zip'\n",
    "#model = PPO.load(navona_v1_PPO_path)\n",
    "model = A2C.load(navona_v1_PPO_path)\n",
    "\n",
    "rewards = {agent: 0 for agent in env.possible_agents}\n",
    "frames=[]\n",
    "for i in range(1):\n",
    "    env.reset(seed=i)\n",
    "    \n",
    "    for agent in env.agent_iter():\n",
    "        frames.append(env.render())\n",
    "        obs, reward, termination, truncation, info = env.last()\n",
    "        for agent in env.agents:\n",
    "            rewards[agent] += env.rewards[agent]\n",
    "        if termination or truncation:\n",
    "            break\n",
    "        else:\n",
    "            act = model.predict(obs, deterministic=True)[0]\n",
    "\n",
    "        env.step(act)\n",
    "        \n",
    "env.close()\n",
    "avg_reward = sum(rewards.values()) / len(rewards.values())\n",
    "print(\"Rewards: \", rewards)\n",
    "print(f\"Avg reward: {avg_reward}\")"
   ]
  },
  {
   "cell_type": "code",
   "execution_count": 9,
   "id": "33b8d387-62c8-4baf-a83a-3cd8ec137477",
   "metadata": {},
   "outputs": [],
   "source": [
    "matplotlib.rcParams['animation.embed_limit'] = 2**128\n",
    "\n",
    "#anim=usda_rl.plot_animation(frames,interval=1000,figsize=(10,10))\n",
    "# anim.save(filename=\"../imgs/3_9_c/navona_v1_A2C.gif\")\n",
    "#HTML(anim.to_jshtml())"
   ]
  },
  {
   "cell_type": "code",
   "execution_count": 10,
   "id": "bd3e1425-89db-4ae0-aa33-71110d915e9b",
   "metadata": {},
   "outputs": [
    {
     "name": "stderr",
     "output_type": "stream",
     "text": [
      "MovieWriter ffmpeg unavailable; using Pillow instead.\n"
     ]
    }
   ],
   "source": [
    "anim=usda_rl.plot_animation(frames,interval=100,figsize=(5,5))\n",
    "anim.save(filename=\"../imgs/3_9_c/navona_v1_A2C.gif\")"
   ]
  },
  {
   "cell_type": "code",
   "execution_count": null,
   "id": "6d6db7c0-a216-4807-9bca-28e479029edc",
   "metadata": {},
   "outputs": [],
   "source": []
  }
 ],
 "metadata": {
  "kernelspec": {
   "display_name": "Python 3 (ipykernel)",
   "language": "python",
   "name": "python3"
  },
  "language_info": {
   "codemirror_mode": {
    "name": "ipython",
    "version": 3
   },
   "file_extension": ".py",
   "mimetype": "text/x-python",
   "name": "python",
   "nbconvert_exporter": "python",
   "pygments_lexer": "ipython3",
   "version": "3.11.5"
  }
 },
 "nbformat": 4,
 "nbformat_minor": 5
}
