{
 "cells": [
  {
   "cell_type": "markdown",
   "id": "b2869aa3-5c7f-4740-bcd3-e5327c1289f6",
   "metadata": {},
   "source": [
    "> Created on Sat Sep 16 10:10:46 2023 @author: Richie Bao-caDesign设计(cadesign.cn)"
   ]
  },
  {
   "cell_type": "markdown",
   "id": "c9f2cffb-67a1-42bc-98b8-611bdf50183a",
   "metadata": {},
   "source": [
    "# 3.9-B 强化学习——Gymnasium 环境构建到深度强化学习（Deep RL）\n",
    "\n",
    "## 3.9.1 \n",
    "\n",
    "### 3.9.1.1 "
   ]
  },
  {
   "cell_type": "code",
   "execution_count": null,
   "id": "801dfbb9-63da-423c-af66-99b8a8662fff",
   "metadata": {},
   "outputs": [],
   "source": []
  }
 ],
 "metadata": {
  "kernelspec": {
   "display_name": "Python 3 (ipykernel)",
   "language": "python",
   "name": "python3"
  },
  "language_info": {
   "codemirror_mode": {
    "name": "ipython",
    "version": 3
   },
   "file_extension": ".py",
   "mimetype": "text/x-python",
   "name": "python",
   "nbconvert_exporter": "python",
   "pygments_lexer": "ipython3",
   "version": "3.11.4"
  }
 },
 "nbformat": 4,
 "nbformat_minor": 5
}
