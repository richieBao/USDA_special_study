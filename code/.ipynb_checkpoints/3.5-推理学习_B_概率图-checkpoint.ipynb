{
 "cells": [
  {
   "cell_type": "markdown",
   "id": "c7d32e6e-36b0-4856-b0a9-c4cc34ea43f2",
   "metadata": {},
   "source": [
    "Created on Sun Apr 23 14:04:30 2023 @author: Richie Bao-caDesign设计(cadesign.cn)"
   ]
  },
  {
   "cell_type": "markdown",
   "id": "22a1d979-1820-4e84-91d5-470d332ff994",
   "metadata": {},
   "source": [
    "# 3.5 推理学习\n",
    "\n",
    "\n",
    "\n",
    "## 3.5.1 从概率论和图论到概率图\n",
    "\n",
    "### 3.5.1.1 概率论基础\n",
    "\n"
   ]
  },
  {
   "cell_type": "code",
   "execution_count": 1,
   "id": "67e740a5-5fe7-45b4-aa1e-58dac98ac873",
   "metadata": {},
   "outputs": [],
   "source": [
    "import daft\n",
    "from pgmpy.factors.discrete import TabularCPD\n",
    "from pgmpy.models import BayesianModel"
   ]
  },
  {
   "cell_type": "code",
   "execution_count": 19,
   "id": "021076be-b081-4011-96ed-ca61def9a0cd",
   "metadata": {},
   "outputs": [
    {
     "name": "stdout",
     "output_type": "stream",
     "text": [
      "# Habitat\n",
      "+------------------+-----+\n",
      "| HA(suitable)     | 0.6 |\n",
      "+------------------+-----+\n",
      "| HA(not suitable) | 0.4 |\n",
      "+------------------+-----+\n",
      "# Threat\n",
      "+--------------+-----+\n",
      "| TH(strong)   | 0.7 |\n",
      "+--------------+-----+\n",
      "| TH(moderate) | 0.3 |\n",
      "+--------------+-----+\n",
      "| TH(weak)     | 0.2 |\n",
      "+--------------+-----+\n",
      "# Carbon Storage\n",
      "+-------------+--------------+------------------+\n",
      "| HA          | HA(suitable) | HA(not suitable) |\n",
      "+-------------+--------------+------------------+\n",
      "| CS(rich)    | 0.7          | 0.3              |\n",
      "+-------------+--------------+------------------+\n",
      "| CS(average) | 0.2          | 0.3              |\n",
      "+-------------+--------------+------------------+\n",
      "| CS(poor)    | 0.1          | 0.4              |\n",
      "+-------------+--------------+------------------+\n",
      "# Habitat Quality\n",
      "+----------+--------------+--------------+--------------+------------------+------------------+------------------+\n",
      "| HA       | HA(suitable) | HA(suitable) | HA(suitable) | HA(not suitable) | HA(not suitable) | HA(not suitable) |\n",
      "+----------+--------------+--------------+--------------+------------------+------------------+------------------+\n",
      "| TH       | TH(strong)   | TH(moderate) | TH(weak)     | TH(strong)       | TH(moderate)     | TH(weak)         |\n",
      "+----------+--------------+--------------+--------------+------------------+------------------+------------------+\n",
      "| QU(good) | 0.2          | 0.4          | 0.9          | 0.3              | 0.3              | 0.4              |\n",
      "+----------+--------------+--------------+--------------+------------------+------------------+------------------+\n",
      "| QU(bad)  | 0.8          | 0.6          | 0.1          | 0.7              | 0.7              | 0.6              |\n",
      "+----------+--------------+--------------+--------------+------------------+------------------+------------------+\n",
      "# Habitat Risk Assessment\n",
      "+----------+------------+------------+--------------+--------------+----------+----------+\n",
      "| TH       | TH(strong) | TH(strong) | TH(moderate) | TH(moderate) | TH(weak) | TH(weak) |\n",
      "+----------+------------+------------+--------------+--------------+----------+----------+\n",
      "| QU       | QU(high)   | QU(low)    | QU(high)     | QU(low)      | QU(high) | QU(low)  |\n",
      "+----------+------------+------------+--------------+--------------+----------+----------+\n",
      "| RI(high) | 0.9        | 0.6        | 0.6          | 0.5          | 0.4      | 0.1      |\n",
      "+----------+------------+------------+--------------+--------------+----------+----------+\n",
      "| RI(low)  | 0.1        | 0.4        | 0.4          | 0.5          | 0.6      | 0.9      |\n",
      "+----------+------------+------------+--------------+--------------+----------+----------+\n"
     ]
    }
   ],
   "source": [
    "cpd_ha_sn=TabularCPD(variable='HA', variable_card=2, values=[[0.6], [0.4]], state_names={'HA': ['suitable', 'not suitable']})\n",
    "cpd_th_sn=TabularCPD(variable='TH', variable_card=3, values=[[0.7], [0.3],[0.2]], state_names={'TH': ['strong', 'moderate','weak']})\n",
    "\n",
    "cpd_cs_sn=TabularCPD(variable='CS', variable_card=3, \n",
    "                      values=[[0.7,0.3],\n",
    "                              [0.2,0.3],\n",
    "                              [0.1,0.4]],\n",
    "                      evidence=['HA'],\n",
    "                      evidence_card=[2],\n",
    "                      state_names={'CS': ['rich', 'average','poor'],\n",
    "                                   'HA':  ['suitable', 'not suitable']})\n",
    "\n",
    "cpd_qu_sn=TabularCPD(variable='QU', variable_card=2, \n",
    "                      values=[[0.2,0.4,0.9,0.3,0.3,0.4],\n",
    "                              [0.8,0.6,0.1,0.7,0.7,0.6]],\n",
    "                      evidence=['HA', 'TH'],\n",
    "                      evidence_card=[2, 3],\n",
    "                      state_names={'QU': ['good', 'bad'],\n",
    "                                   'HA': ['suitable', 'not suitable'],\n",
    "                                   'TH': ['strong', 'moderate','weak']})\n",
    "cpd_ri_sn=TabularCPD(variable='RI', variable_card=2,\n",
    "                      values=[[0.9,0.6,0.6,0.5,0.4,0.1],\n",
    "                              [0.1,0.4,0.4,0.5,0.6,0.9]],\n",
    "                      evidence=['TH','QU'],\n",
    "                      evidence_card=[3,2],\n",
    "                      state_names={'RI': ['high', 'low'],                                   \n",
    "                                   'TH': ['strong', 'moderate','weak'],\n",
    "                                  'QU': ['high', 'low']}) \n",
    "\n",
    "\n",
    "print(f'# Habitat\\n{cpd_ha_sn}')\n",
    "print(f'# Threat\\n{cpd_th_sn}')\n",
    "print(f'# Carbon Storage\\n{cpd_cs_sn}')\n",
    "print(f'# Habitat Quality\\n{cpd_qu_sn}')\n",
    "print(f'# Habitat Risk Assessment\\n{cpd_ri_sn}')"
   ]
  },
  {
   "cell_type": "code",
   "execution_count": null,
   "id": "f67eaee2-a7e2-4f91-9ba8-a2c40da741d2",
   "metadata": {},
   "outputs": [],
   "source": []
  },
  {
   "cell_type": "code",
   "execution_count": null,
   "id": "a014854b-463c-46f9-9b0f-4156ec2c62d6",
   "metadata": {},
   "outputs": [],
   "source": []
  },
  {
   "cell_type": "code",
   "execution_count": null,
   "id": "c4c9fdf6-eade-4128-805b-a0b5cd4e21e3",
   "metadata": {},
   "outputs": [],
   "source": []
  },
  {
   "cell_type": "code",
   "execution_count": null,
   "id": "7d88f89c-e74e-47b3-ab82-22a61c1d54e3",
   "metadata": {},
   "outputs": [],
   "source": []
  },
  {
   "cell_type": "code",
   "execution_count": null,
   "id": "ebedae37-dfc5-47e0-87c0-85aeca45bb0f",
   "metadata": {},
   "outputs": [],
   "source": []
  },
  {
   "cell_type": "code",
   "execution_count": null,
   "id": "923157e4-88ac-450b-bc4e-7d831bd2e705",
   "metadata": {},
   "outputs": [],
   "source": []
  },
  {
   "cell_type": "code",
   "execution_count": null,
   "id": "882889f1-26c9-4cde-9a4c-3a35bb1cd8ab",
   "metadata": {},
   "outputs": [],
   "source": []
  },
  {
   "cell_type": "code",
   "execution_count": null,
   "id": "247df3c7-c3af-4ebc-8292-79b98e7e2f20",
   "metadata": {},
   "outputs": [],
   "source": []
  },
  {
   "cell_type": "code",
   "execution_count": null,
   "id": "67e95178-c282-40b3-9f88-8f4b3824b03a",
   "metadata": {},
   "outputs": [],
   "source": []
  },
  {
   "cell_type": "code",
   "execution_count": null,
   "id": "c180dd47-e160-4627-b18e-aa72d9e5f165",
   "metadata": {},
   "outputs": [],
   "source": []
  },
  {
   "cell_type": "code",
   "execution_count": null,
   "id": "b33da446-5586-4e13-9800-197e6ed3f92d",
   "metadata": {},
   "outputs": [],
   "source": []
  },
  {
   "cell_type": "code",
   "execution_count": null,
   "id": "07cbf5ce-80dd-43ae-8de8-3c960e56f25f",
   "metadata": {},
   "outputs": [],
   "source": []
  },
  {
   "cell_type": "code",
   "execution_count": null,
   "id": "862f0a5f-8739-4b7d-bf9e-e242da021168",
   "metadata": {},
   "outputs": [],
   "source": []
  },
  {
   "cell_type": "code",
   "execution_count": null,
   "id": "330bf046-0f84-4524-b43c-093264c4ad9e",
   "metadata": {},
   "outputs": [],
   "source": []
  },
  {
   "cell_type": "code",
   "execution_count": null,
   "id": "29a8c6c6-7567-406d-b6f3-b305467815b1",
   "metadata": {},
   "outputs": [],
   "source": []
  },
  {
   "cell_type": "code",
   "execution_count": null,
   "id": "c93b2eab-2fee-41d1-9cf3-c9b6f5215340",
   "metadata": {},
   "outputs": [],
   "source": []
  },
  {
   "cell_type": "code",
   "execution_count": null,
   "id": "5ea8b987-4691-492a-bef1-e4adadd087c6",
   "metadata": {},
   "outputs": [],
   "source": []
  }
 ],
 "metadata": {
  "kernelspec": {
   "display_name": "Python 3 (ipykernel)",
   "language": "python",
   "name": "python3"
  },
  "language_info": {
   "codemirror_mode": {
    "name": "ipython",
    "version": 3
   },
   "file_extension": ".py",
   "mimetype": "text/x-python",
   "name": "python",
   "nbconvert_exporter": "python",
   "pygments_lexer": "ipython3",
   "version": "3.9.16"
  }
 },
 "nbformat": 4,
 "nbformat_minor": 5
}
