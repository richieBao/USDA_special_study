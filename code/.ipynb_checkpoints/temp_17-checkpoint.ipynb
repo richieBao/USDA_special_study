{
 "cells": [
  {
   "cell_type": "code",
   "execution_count": 2,
   "id": "c3e13139-0573-4929-b14c-297dc99cc568",
   "metadata": {
    "tags": []
   },
   "outputs": [],
   "source": [
    "from osgeo import gdal, ogr, osr # python -m pip install path-to-wheel-file.whl; https://www.lfd.uci.edu/~gohlke/pythonlibs/ (GDAL-3.4.3-cp311-cp311-win_amd64.whl;GDAL-3.4.3-cp310-cp310-win_amd64.whl)"
   ]
  },
  {
   "cell_type": "code",
   "execution_count": null,
   "id": "3a59a471-31e1-4dd0-9dec-c5e1c1a33e3e",
   "metadata": {},
   "outputs": [],
   "source": []
  }
 ],
 "metadata": {
  "kernelspec": {
   "display_name": "Python 3 (ipykernel)",
   "language": "python",
   "name": "python3"
  },
  "language_info": {
   "codemirror_mode": {
    "name": "ipython",
    "version": 3
   },
   "file_extension": ".py",
   "mimetype": "text/x-python",
   "name": "python",
   "nbconvert_exporter": "python",
   "pygments_lexer": "ipython3",
   "version": "3.11.4"
  }
 },
 "nbformat": 4,
 "nbformat_minor": 5
}
