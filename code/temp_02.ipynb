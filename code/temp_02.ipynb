{
 "cells": [
  {
   "cell_type": "code",
   "execution_count": 1,
   "id": "d03fca6b-a671-494a-b4d6-1c35d0b5af65",
   "metadata": {
    "tags": []
   },
   "outputs": [],
   "source": [
    "# IPython extension to reload modules before executing user code.\n",
    "%load_ext autoreload \n",
    "# Reload all modules (except those excluded by %aimport) every time before executing the Python code typed.\n",
    "%autoreload 2 \n",
    "from usda import datasets as usda_datasets\n",
    "from usda import data_visualization as usda_vis\n",
    "from usda import pattern_signature as usda_signature\n",
    "from usda import utils as usda_utils\n",
    "from usda import meta_heuristics as usda_heuristicsw\n",
    "from usda import network as usda_network\n",
    "\n",
    "import mapclassify\n",
    "import numpy  as np\n",
    "import cc3d\n",
    "import copy\n",
    "import matplotlib.pyplot as plt\n",
    "import random\n",
    "import itertools\n",
    "import networkx as nx\n",
    "from networkx.algorithms import approximation as approx\n",
    "import math\n",
    "from toolz import partition\n",
    "from collections import defaultdict\n",
    "from scipy.signal import convolve2d\n",
    "\n",
    "np.set_printoptions(linewidth=np.inf)"
   ]
  },
  {
   "cell_type": "code",
   "execution_count": null,
   "id": "6a02ece7-3a69-4db5-8c33-0e1fa56964ce",
   "metadata": {},
   "outputs": [],
   "source": []
  }
 ],
 "metadata": {
  "kernelspec": {
   "display_name": "Python 3 (ipykernel)",
   "language": "python",
   "name": "python3"
  },
  "language_info": {
   "codemirror_mode": {
    "name": "ipython",
    "version": 3
   },
   "file_extension": ".py",
   "mimetype": "text/x-python",
   "name": "python",
   "nbconvert_exporter": "python",
   "pygments_lexer": "ipython3",
   "version": "3.9.16"
  }
 },
 "nbformat": 4,
 "nbformat_minor": 5
}
