{
 "cells": [
  {
   "cell_type": "code",
   "execution_count": null,
   "id": "3bb8500d-daa8-42fc-bc10-25669da2836d",
   "metadata": {},
   "outputs": [],
   "source": []
  },
  {
   "cell_type": "code",
   "execution_count": 1,
   "id": "a97a958b-619d-4dc5-b882-e5edcf2c0cb5",
   "metadata": {},
   "outputs": [],
   "source": [
    "from pettingzoo.mpe import simple_tag_v3\n",
    "env = simple_tag_v3.env(render_mode='human')\n",
    "\n",
    "env.reset()\n",
    "for agent in env.agent_iter():\n",
    "    observation, reward, termination, truncation, info = env.last()\n",
    "\n",
    "    if termination or truncation:\n",
    "        action = None\n",
    "    else:\n",
    "        action = env.action_space(agent).sample() # this is where you would insert your policy\n",
    "\n",
    "    env.step(action)\n",
    "env.close()"
   ]
  },
  {
   "cell_type": "code",
   "execution_count": 5,
   "id": "aa30f2b1-b8dd-4546-9fb3-7f222ed85f16",
   "metadata": {},
   "outputs": [
    {
     "data": {
      "text/plain": [
       "<bound method BaseWrapper.observation_space of <pettingzoo.utils.wrappers.order_enforcing.OrderEnforcingWrapper object at 0x000002BDE34CA4D0>>"
      ]
     },
     "execution_count": 5,
     "metadata": {},
     "output_type": "execute_result"
    }
   ],
   "source": [
    "env."
   ]
  },
  {
   "cell_type": "code",
   "execution_count": 2,
   "id": "01f627b7-0eb9-41e6-ac53-317589962509",
   "metadata": {},
   "outputs": [],
   "source": [
    "from tianshou.data import Collector\n",
    "from tianshou.env import DummyVectorEnv, PettingZooEnv\n",
    "from tianshou.policy import MultiAgentPolicyManager, RandomPolicy\n",
    "\n",
    "from pettingzoo.classic import rps_v2\n",
    "\n",
    "if __name__ == \"__main__\":\n",
    "    # Step 1: Load the PettingZoo environment\n",
    "    env = rps_v2.env(render_mode=\"human\")\n",
    "\n",
    "    # Step 2: Wrap the environment for Tianshou interfacing\n",
    "    env = PettingZooEnv(env)\n",
    "\n",
    "    # Step 3: Define policies for each agent\n",
    "    policies = MultiAgentPolicyManager([RandomPolicy(), RandomPolicy()], env)\n",
    "\n",
    "    # Step 4: Convert the env to vector format\n",
    "    env = DummyVectorEnv([lambda: env])\n",
    "\n",
    "    # Step 5: Construct the Collector, which interfaces the policies with the vectorised environment\n",
    "    collector = Collector(policies, env)\n",
    "\n",
    "    # Step 6: Execute the environment with the agents playing for 1 episode, and render a frame every 0.1 seconds\n",
    "    result = collector.collect(n_episode=10, render=0.1)"
   ]
  },
  {
   "cell_type": "code",
   "execution_count": null,
   "id": "9c1d1801-ddc2-4175-b382-0e2d63f4c644",
   "metadata": {},
   "outputs": [],
   "source": []
  },
  {
   "cell_type": "code",
   "execution_count": 5,
   "id": "c23d909b-91e4-4293-9253-98cc07413e5b",
   "metadata": {},
   "outputs": [],
   "source": [
    "policies.observation_space"
   ]
  },
  {
   "cell_type": "code",
   "execution_count": null,
   "id": "09929343-733b-4285-8905-60b33f8590cb",
   "metadata": {},
   "outputs": [],
   "source": []
  }
 ],
 "metadata": {
  "kernelspec": {
   "display_name": "Python 3 (ipykernel)",
   "language": "python",
   "name": "python3"
  },
  "language_info": {
   "codemirror_mode": {
    "name": "ipython",
    "version": 3
   },
   "file_extension": ".py",
   "mimetype": "text/x-python",
   "name": "python",
   "nbconvert_exporter": "python",
   "pygments_lexer": "ipython3",
   "version": "3.11.5"
  }
 },
 "nbformat": 4,
 "nbformat_minor": 5
}
