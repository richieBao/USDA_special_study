{
 "cells": [
  {
   "cell_type": "code",
   "execution_count": 2,
   "id": "c3e13139-0573-4929-b14c-297dc99cc568",
   "metadata": {
    "tags": []
   },
   "outputs": [],
   "source": [
    "from osgeo import gdal, ogr, osr # python -m pip install path-to-wheel-file.whl; https://www.lfd.uci.edu/~gohlke/pythonlibs/ (GDAL-3.4.3-cp311-cp311-win_amd64.whl;GDAL-3.4.3-cp310-cp310-win_amd64.whl)"
   ]
  },
  {
   "cell_type": "code",
   "execution_count": 3,
   "id": "3a59a471-31e1-4dd0-9dec-c5e1c1a33e3e",
   "metadata": {},
   "outputs": [],
   "source": [
    "import pyproj"
   ]
  },
  {
   "cell_type": "code",
   "execution_count": 4,
   "id": "45d16b60-96a3-4365-9a98-9e7850d56b41",
   "metadata": {
    "tags": []
   },
   "outputs": [
    {
     "data": {
      "text/plain": [
       "'3.6.0'"
      ]
     },
     "execution_count": 4,
     "metadata": {},
     "output_type": "execute_result"
    }
   ],
   "source": [
    "pyproj.__version__"
   ]
  },
  {
   "cell_type": "code",
   "execution_count": 7,
   "id": "1d1f747b-1022-4d02-b9db-8fb716f4b223",
   "metadata": {
    "tags": []
   },
   "outputs": [],
   "source": [
    "import timm"
   ]
  },
  {
   "cell_type": "code",
   "execution_count": null,
   "id": "5042b955-5208-439f-a761-f30ee3d8fae9",
   "metadata": {},
   "outputs": [],
   "source": []
  }
 ],
 "metadata": {
  "kernelspec": {
   "display_name": "Python 3 (ipykernel)",
   "language": "python",
   "name": "python3"
  },
  "language_info": {
   "codemirror_mode": {
    "name": "ipython",
    "version": 3
   },
   "file_extension": ".py",
   "mimetype": "text/x-python",
   "name": "python",
   "nbconvert_exporter": "python",
   "pygments_lexer": "ipython3",
   "version": "3.11.4"
  }
 },
 "nbformat": 4,
 "nbformat_minor": 5
}
