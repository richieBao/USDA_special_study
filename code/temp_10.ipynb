{
 "cells": [
  {
   "cell_type": "markdown",
   "id": "6257db63-db43-4a07-a16d-4a6c30cb47bd",
   "metadata": {},
   "source": [
    "### 3.5.4.2 结构学习\n",
    "\n",
    "#### 1）基于得分（Score-based）的结构估计\n",
    "\n",
    "* 得分函数（Scoring functions）\n",
    "\n",
    "基于得分的方法是把结构学习问题作为一个优化问题来解决，而衡量模型和数据之间拟合度的常用得分函数有 BDeu 或 K2 等贝叶斯狄利克雷分数（Bayesian Dirichlet scores）和 BIC (也称为 MDL)等贝叶斯信息准则（ Bayesian Information Criterion）等。基于数据集对每个候选结构打分，得分高的结构为最优结构。下述案例生成了一个假的数据集，包含三个随机变量$(X,Y,Z)$，因为$Z=X+Y$，因此可知结构为$X \\rightarrow Z \\leftarrow Y$的 v-结构。为了验证`BDeu`、`K2`和`BIC`得分函数，假设模型`model1`符合 v-结构；而模型`model2`为$X \\leftarrow Z \\rightarrow Y$。从计算结果得知`model1`的各得分均高于`model2`，因此估计$X \\rightarrow Z \\leftarrow Y$为最优结构。"
   ]
  },
  {
   "cell_type": "code",
   "execution_count": null,
   "id": "12a4fb46-a064-43fd-ae00-02f1f5171139",
   "metadata": {
    "tags": []
   },
   "outputs": [],
   "source": [
    "import pandas as pd\n",
    "import numpy as np\n",
    "from pgmpy.estimators import BDeuScore, K2Score, BicScore,ExhaustiveSearch,HillClimbSearch,PC,MmhcEstimator\n",
    "from pgmpy.estimators.CITests import chi_square\n",
    "from pgmpy.models import BayesianNetwork\n",
    "\n",
    "import warnings\n",
    "warnings.filterwarnings('ignore')"
   ]
  },
  {
   "cell_type": "code",
   "execution_count": null,
   "id": "3d168cac-04a2-409f-93d9-78ec83cbec51",
   "metadata": {
    "tags": []
   },
   "outputs": [
    {
     "name": "stdout",
     "output_type": "stream",
     "text": [
      "model1:\n",
      "BDeuScore=\t-13938.698111661924\n",
      "K2Score=\t-14329.548959442178\n",
      "BicScore=\t-14294.73527862384\n",
      "model2:\n",
      "BDeuScore=\t-20909.028603685794\n",
      "K2Score=\t-20935.843622693803\n",
      "BicScore=\t-20953.069518357206\n"
     ]
    }
   ],
   "source": [
    "# create random data sample with 3 variables, where Z is dependent on X, Y:\n",
    "data = pd.DataFrame(np.random.randint(0, 4, size=(5000, 2)), columns=list('XY'))\n",
    "data['Z'] = data['X'] + data['Y']\n",
    "\n",
    "bdeu = BDeuScore(data, equivalent_sample_size=5)\n",
    "k2 = K2Score(data)\n",
    "bic = BicScore(data)\n",
    "\n",
    "model1 = BayesianNetwork([('X', 'Z'), ('Y', 'Z')])  # X -> Z <- Y\n",
    "model2 = BayesianNetwork([('X', 'Z'), ('X', 'Y')])  # Y <- X -> Z\n",
    "\n",
    "print(f'model1:\\nBDeuScore=\\t{bdeu.score(model1)}\\nK2Score=\\t{k2.score(model1)}\\nBicScore=\\t{bic.score(model1)}')\n",
    "print(f'model2:\\nBDeuScore=\\t{bdeu.score(model2)}\\nK2Score=\\t{k2.score(model2)}\\nBicScore=\\t{bic.score(model2)}')"
   ]
  },
  {
   "cell_type": "markdown",
   "id": "06daddef-555f-4ab2-a64b-080d62561c67",
   "metadata": {},
   "source": [
    "分解分数，即给出待估计变量的潜在父变量情况下的得分。例如下述示例，给出了随机变量$Z$潜在不同父变量的得分，可知当父变量为$X,Y$时有最高得分。"
   ]
  },
  {
   "cell_type": "code",
   "execution_count": null,
   "id": "51713dd6-04a8-4242-8ad5-1d37bf7be16f",
   "metadata": {
    "tags": []
   },
   "outputs": [
    {
     "name": "stdout",
     "output_type": "stream",
     "text": [
      "-9209.01947362572\n",
      "-6991.892692505713\n",
      "-57.120667260368634\n"
     ]
    }
   ],
   "source": [
    "print(bdeu.local_score('Z', parents=[]))\n",
    "print(bdeu.local_score('Z', parents=['X']))\n",
    "print(bdeu.local_score('Z', parents=['X', 'Y']))"
   ]
  },
  {
   "cell_type": "markdown",
   "id": "1a216e69-4d7e-4f0c-a31f-a4218b9be795",
   "metadata": {},
   "source": [
    "* 结构搜索（Search strategies）\n",
    "\n",
    "在随机变量的数量上，DAG 的搜索空间是超指数的（super-exponential）。对于少量变量节点的情况可以用穷举（完全）搜索`ExhaustiveSearch`返回得分最高的一个；对于含有大量节点的问题，如果使用穷举法，计算成本较高，因此通常使用启发式搜索策略（heuristic search strategies）估计最优结构。\n",
    "\n",
    "对于只有3个变量的贝叶斯网络结构估计，使用穷举法总共估计有25个 DAGs，其中$X \\rightarrow Z \\leftarrow Y$的结构得分最高。"
   ]
  },
  {
   "cell_type": "code",
   "execution_count": null,
   "id": "c52cdf29-754c-45d5-bcd0-c9009d73bd96",
   "metadata": {
    "tags": []
   },
   "outputs": [
    {
     "name": "stdout",
     "output_type": "stream",
     "text": [
      "25\n",
      "[('X', 'Z'), ('Y', 'Z')]\n",
      "\n",
      "All DAGs by score:\n",
      "-14294.73527862384 [('X', 'Z'), ('Y', 'Z')]\n",
      "-14330.662857922875 [('Y', 'X'), ('Z', 'X'), ('Z', 'Y')]\n",
      "-14330.662857922875 [('X', 'Z'), ('Y', 'Z'), ('Y', 'X')]\n",
      "-14330.662857922875 [('X', 'Y'), ('Z', 'X'), ('Z', 'Y')]\n",
      "-14330.662857922875 [('X', 'Y'), ('X', 'Z'), ('Z', 'Y')]\n",
      "-14330.662857922875 [('X', 'Y'), ('X', 'Z'), ('Y', 'Z')]\n",
      "-14330.662857922876 [('Y', 'Z'), ('Y', 'X'), ('Z', 'X')]\n",
      "-16511.124417627434 [('X', 'Y'), ('Z', 'Y')]\n",
      "-16513.616802541135 [('Y', 'X'), ('Z', 'X')]\n",
      "-18734.18799443991 [('Z', 'X'), ('Z', 'Y')]\n",
      "-18734.18799443991 [('X', 'Z'), ('Z', 'Y')]\n",
      "-18734.187994439915 [('Y', 'Z'), ('Z', 'X')]\n",
      "-20914.64955414447 [('Z', 'Y')]\n",
      "-20914.649554144475 [('Y', 'Z')]\n",
      "-20917.141939058172 [('Z', 'X')]\n",
      "-20917.141939058172 [('X', 'Z')]\n",
      "-20950.577133443505 [('Y', 'X'), ('Z', 'Y')]\n",
      "-20950.57713344351 [('X', 'Y'), ('Y', 'Z')]\n",
      "-20950.577133443512 [('Y', 'Z'), ('Y', 'X')]\n",
      "-20953.069518357206 [('X', 'Y'), ('Z', 'X')]\n",
      "-20953.069518357206 [('X', 'Y'), ('X', 'Z')]\n",
      "-20953.06951835721 [('X', 'Z'), ('Y', 'X')]\n",
      "-23097.60349876273 []\n",
      "-23133.531078061766 [('Y', 'X')]\n",
      "-23133.531078061766 [('X', 'Y')]\n"
     ]
    }
   ],
   "source": [
    "es = ExhaustiveSearch(data, scoring_method=bic)\n",
    "best_model = es.estimate()\n",
    "print(len(list(es.all_dags())))\n",
    "print(best_model.edges())\n",
    "\n",
    "print(\"\\nAll DAGs by score:\")\n",
    "for score, dag in reversed(es.all_scores()):\n",
    "    print(score, dag.edges())"
   ]
  },
  {
   "cell_type": "markdown",
   "id": "3bb04101-87cc-43d6-8a5c-3df0124f237b",
   "metadata": {
    "tags": []
   },
   "source": [
    "如果包含较多的变量节点，则最好使用启发式搜索。例如生成有8个特征列的数据集，其中$A := B+C$，$H=G-A$，应用爬山算法（hill climbing）计算，从下述结果可以观察到$A,B,C$之间，$A,G,H$之间出现有向边，而其它随机变量不具有相关性，相互独立，节点之间无边连接。"
   ]
  },
  {
   "cell_type": "code",
   "execution_count": null,
   "id": "077cee6f-0c4e-445b-9cbd-702968ce6729",
   "metadata": {
    "tags": []
   },
   "outputs": [
    {
     "data": {
      "application/vnd.jupyter.widget-view+json": {
       "model_id": "",
       "version_major": 2,
       "version_minor": 0
      },
      "text/plain": [
       "  0%|          | 0/1000000 [00:00<?, ?it/s]"
      ]
     },
     "metadata": {},
     "output_type": "display_data"
    },
    {
     "name": "stdout",
     "output_type": "stream",
     "text": [
      "[('A', 'H'), ('A', 'B'), ('A', 'C'), ('C', 'B'), ('G', 'H')]\n"
     ]
    },
    {
     "data": {
      "image/png": "[encoded data removed]",
      "text/plain": [
       "<Figure size 212.598x212.598 with 1 Axes>"
      ]
     },
     "metadata": {},
     "output_type": "display_data"
    }
   ],
   "source": [
    "# create some data with dependencies\n",
    "data = pd.DataFrame(np.random.randint(0, 3, size=(2500, 8)), columns=list('ABCDEFGH'))\n",
    "data['A'] += data['B'] + data['C']\n",
    "data['H'] = data['G'] - data['A']\n",
    "\n",
    "hc = HillClimbSearch(data)\n",
    "best_model = hc.estimate(scoring_method=BicScore(data))\n",
    "print(best_model.edges())\n",
    "model_daft=best_model.to_daft()\n",
    "model_daft.render(dpi=100);"
   ]
  },
  {
   "cell_type": "markdown",
   "id": "ead12a59-8b9d-4681-9209-fcbb02140701",
   "metadata": {},
   "source": [
    "#### 2）基于约束（Constrain-based）的结构估计\n",
    "\n",
    "从数据集中构建 DAG 的一种非常直接的方式是：使用假设检验识别数据集中特征变量的独立性；根据确定的独立性构建 DAG。\n",
    "\n",
    "* （有条件）独立性检验（（Conditional） Independence Tests）\n",
    "\n",
    "数据集中特征变量的独立性测试可以使用 chi2 条件独立性测试`chi_square`方法识别。例如构建有$A := B+C$，$H=G-A,E \\propto F$关系，下述判断结果满足上述关系，例如$B,H$之间并不独立，因为$B,H$之间存在一个节点$A$，使得$B,H$节点间存在有效迹，节点$B$的影响可以流动到节点$A$；但是如果给定节点$A$，则$B$和$H$之间独立。"
   ]
  },
  {
   "cell_type": "code",
   "execution_count": null,
   "id": "074cebc1-1256-44c1-ae4e-eb7bb986a1e3",
   "metadata": {
    "tags": []
   },
   "outputs": [
    {
     "name": "stdout",
     "output_type": "stream",
     "text": [
      "False\n",
      "True\n",
      "False\n",
      "True\n",
      "False\n"
     ]
    }
   ],
   "source": [
    "data = pd.DataFrame(np.random.randint(0, 3, size=(2500, 8)), columns=list('ABCDEFGH'))\n",
    "data['A'] += data['B'] + data['C']\n",
    "data['H'] = data['G'] - data['A']\n",
    "data['E'] *= data['F']\n",
    "\n",
    "print(chi_square(X='B', Y='H', Z=[], data=data, significance_level=0.05))          # dependent\n",
    "print(chi_square(X='B', Y='E', Z=[], data=data, significance_level=0.05))          # independent\n",
    "print(chi_square(X='B', Y='H', Z=['A'], data=data, significance_level=0.05))       # independent\n",
    "print(chi_square(X='A', Y='G', Z=[], data=data, significance_level=0.05))          # independent\n",
    "print(chi_square(X='A', Y='G', Z=['H'], data=data, significance_level=0.05))       # dependent"
   ]
  },
  {
   "cell_type": "markdown",
   "id": "a73e3a93-2fd5-427e-a4c1-3c429eb9c111",
   "metadata": {
    "tags": []
   },
   "source": [
    "* DAG（模式）构建（DAG (pattern) construction）\n",
    "\n",
    "借助数据集中特征变量的独立性测试方法，可以分3步从数据集中构建 DAG：\n",
    "\n",
    "1. 使用`build_skeleton`方法构建一个无向骨架（基本结构）（undirected skeleton）；\n",
    "2. 使用`skeleton_to_pdag`方法定向强制的边获得部分有向无环图（partially directed acyclid graph，PDAG）（DAGs 的 I-等阶类（ I-equivalence class））；\n",
    "3. 基于 PDAG，使用`to_dag`方法保守的定向剩余的边构建 DAG。\n",
    "\n",
    "步骤1和2使用了称为 PC 的算法<sup>[Neapolitan, R. E. Learning Bayesian Networks. (Pearson Prentice Hall, 2004).]</sup>。"
   ]
  },
  {
   "cell_type": "code",
   "execution_count": null,
   "id": "40bce5ee-6e6b-491f-8a00-161ce576bfa9",
   "metadata": {
    "tags": []
   },
   "outputs": [
    {
     "data": {
      "application/vnd.jupyter.widget-view+json": {
       "model_id": "",
       "version_major": 2,
       "version_minor": 0
      },
      "text/plain": [
       "  0%|          | 0/5 [00:00<?, ?it/s]"
      ]
     },
     "metadata": {},
     "output_type": "display_data"
    },
    {
     "name": "stdout",
     "output_type": "stream",
     "text": [
      "Undirected edges:  [('A', 'B'), ('A', 'C'), ('A', 'H'), ('E', 'F'), ('G', 'H')]\n",
      "PDAG edges:        [('G', 'H'), ('C', 'A'), ('A', 'H'), ('B', 'A'), ('F', 'E'), ('E', 'F')]\n",
      "DAG edges:         [('G', 'H'), ('C', 'A'), ('A', 'H'), ('B', 'A'), ('F', 'E')]\n"
     ]
    }
   ],
   "source": [
    "est = PC(data)\n",
    "skel, seperating_sets = est.build_skeleton(significance_level=0.01)\n",
    "print(\"Undirected edges: \", skel.edges())\n",
    "\n",
    "pdag = est.skeleton_to_pdag(skel, seperating_sets)\n",
    "print(\"PDAG edges:       \", pdag.edges())\n",
    "\n",
    "model = pdag.to_dag()\n",
    "print(\"DAG edges:        \", model.edges())"
   ]
  },
  {
   "cell_type": "markdown",
   "id": "db297204-9ac7-4e51-9433-f28a15b093d5",
   "metadata": {},
   "source": [
    "`estimate`方法可以将上述3个步骤书写为一行代码。"
   ]
  },
  {
   "cell_type": "code",
   "execution_count": null,
   "id": "34f711f8-b5dc-4f08-9921-a67b3ff3276e",
   "metadata": {
    "tags": []
   },
   "outputs": [
    {
     "data": {
      "application/vnd.jupyter.widget-view+json": {
       "model_id": "",
       "version_major": 2,
       "version_minor": 0
      },
      "text/plain": [
       "  0%|          | 0/5 [00:00<?, ?it/s]"
      ]
     },
     "metadata": {},
     "output_type": "display_data"
    },
    {
     "name": "stdout",
     "output_type": "stream",
     "text": [
      "[('G', 'H'), ('C', 'A'), ('A', 'H'), ('B', 'A'), ('F', 'E')]\n"
     ]
    }
   ],
   "source": [
    "print(est.estimate(significance_level=0.01).edges())"
   ]
  },
  {
   "cell_type": "markdown",
   "id": "b8d07ed6-3983-4679-8e9d-4d0b9c434067",
   "metadata": {},
   "source": [
    "#### 3）混合（Hybrid）结构设计\n",
    "\n",
    "MMHC（Max-Min Hill-Climbing）算法<sup>[Tsamardinos, I., Brown, L. E. & Aliferis, C. F. The max-min hill-climbing Bayesian network structure learning algorithm. Mach Learn 65, 31–78 (2006).]</sup>结合了基于约束和基于得分的方法，含有两个步骤：\n",
    "\n",
    "1. 使用基于约束的结构估计从数据集中学习无向图的基本结构；\n",
    "2. 使用基于得分的结构估计定向边。"
   ]
  },
  {
   "cell_type": "code",
   "execution_count": null,
   "id": "832c7de3-a9bb-4024-a8cd-92d9619ea87f",
   "metadata": {
    "tags": []
   },
   "outputs": [
    {
     "name": "stdout",
     "output_type": "stream",
     "text": [
      "Part 1) Skeleton:  [('A', 'C'), ('A', 'B'), ('A', 'H'), ('A', 'E'), ('A', 'F'), ('B', 'G'), ('C', 'H'), ('C', 'D'), ('C', 'F'), ('E', 'F'), ('E', 'G'), ('G', 'H')]\n"
     ]
    },
    {
     "data": {
      "application/vnd.jupyter.widget-view+json": {
       "model_id": "",
       "version_major": 2,
       "version_minor": 0
      },
      "text/plain": [
       "  0%|          | 0/1000000 [00:00<?, ?it/s]"
      ]
     },
     "metadata": {},
     "output_type": "display_data"
    },
    {
     "name": "stdout",
     "output_type": "stream",
     "text": [
      "Part 2) Model:     [('A', 'H'), ('B', 'A'), ('C', 'A'), ('F', 'E'), ('G', 'H')]\n"
     ]
    }
   ],
   "source": [
    "data = pd.DataFrame(np.random.randint(0, 3, size=(2500, 8)), columns=list('ABCDEFGH'))\n",
    "data['A'] += data['B'] + data['C']\n",
    "data['H'] = data['G'] - data['A']\n",
    "data['E'] *= data['F']\n",
    "\n",
    "mmhc = MmhcEstimator(data)\n",
    "skeleton = mmhc.mmpc()\n",
    "print(\"Part 1) Skeleton: \", skeleton.edges())\n",
    "\n",
    "# use hill climb search to orient the edges:\n",
    "hc = HillClimbSearch(data)\n",
    "model = hc.estimate(tabu_length=10, white_list=skeleton.to_directed().edges(), scoring_method=BDeuScore(data))\n",
    "print(\"Part 2) Model:    \", model.edges())"
   ]
  },
  {
   "cell_type": "code",
   "execution_count": null,
   "id": "035e5e86-6832-44a2-b221-0589b20276e9",
   "metadata": {},
   "outputs": [
    {
     "data": {
      "image/png": "[encoded data removed]",
      "text/plain": [
       "<Figure size 212.598x212.598 with 1 Axes>"
      ]
     },
     "metadata": {},
     "output_type": "display_data"
    }
   ],
   "source": [
    "model_daft=model.to_daft()\n",
    "model_daft.render(dpi=100);"
   ]
  },
  {
   "cell_type": "markdown",
   "id": "5cbd2a87-79cb-48f9-85db-e1fb6bb6d197",
   "metadata": {},
   "source": [
    "可以分步骤计算，也可以用`MmhcEstimator.estimate()`方法合并为一个步骤计算。"
   ]
  },
  {
   "cell_type": "code",
   "execution_count": null,
   "id": "061636bb-3c2d-4741-8f22-f6c18c84e17d",
   "metadata": {},
   "outputs": [
    {
     "data": {
      "application/vnd.jupyter.widget-view+json": {
       "model_id": "",
       "version_major": 2,
       "version_minor": 0
      },
      "text/plain": [
       "  0%|          | 0/1000000 [00:00<?, ?it/s]"
      ]
     },
     "metadata": {},
     "output_type": "display_data"
    },
    {
     "name": "stdout",
     "output_type": "stream",
     "text": [
      "[('X', 'sum'), ('Y', 'sum'), ('Z', 'sum'), ('W', 'sum')]\n"
     ]
    }
   ],
   "source": [
    "data = pd.DataFrame(np.random.randint(0, 2, size=(2500, 4)), columns=list('XYZW'))\n",
    "data['sum'] = data.sum(axis=1)\n",
    "est = MmhcEstimator(data)\n",
    "model = est.estimate()\n",
    "print(model.edges())"
   ]
  },
  {
   "cell_type": "code",
   "execution_count": null,
   "id": "634d49a3-120f-48c9-8c6d-6c6704a4a5ba",
   "metadata": {},
   "outputs": [
    {
     "data": {
      "image/png": "[encoded data removed]",
      "text/plain": [
       "<Figure size 197.56x204.891 with 1 Axes>"
      ]
     },
     "metadata": {},
     "output_type": "display_data"
    }
   ],
   "source": [
    "model_daft=model.to_daft()\n",
    "model_daft.render(dpi=100);"
   ]
  },
  {
   "cell_type": "markdown",
   "id": "70a71f07-1c30-4af5-9195-78435787a952",
   "metadata": {
    "tags": []
   },
   "source": [
    "### 附：正定（半正定）(Positive (Semi)-Definite)协方差矩阵\n",
    "\n",
    "协方差（covariance）表示特征向量之间的关系，正协方差表示特征值一起同向变化；负协方差表示特征反向变化。对于两个随机变量有$Cov(x, y) = E[x - \\mu_x][y - \\mu_y]^T $；对于一个随机向量有$Cov(x) = E[x - \\mu][x - \\mu]^T $，式中均值$\\mu = \\frac{1}{n}\\sum_{i=1}^n x_i$；对于有$n$个观测值（样本）的$m$个随机特征向量，协方差矩阵为$Cov_{ij} = E[x_i - \\mu_i][x_j - \\mu_j] = \\sigma_{ij},x_i \\in \\mathbb{R}^{m\\times n}$。\n",
    "\n",
    "为了方便观察和分类协方差矩阵的变化趋势关系，结合二阶函数几何形态的凹凸性分类有，\n",
    "\n",
    "1. 如果一个矩阵是正定的（positive definite），它有一个绝对最小值，且在所有轴上都达到了最小值。如果一个$n \\times n$对称矩阵（symmetric matrix）$M$是正定的，满足$x^TMx \\gt 0 , x \\in \\mathbb{R}^{1 \\times n}$；\n",
    "2. 如果一个矩阵是半正定的（positive semi-definite），它至少在一个轴向量上有一个极小值。如果一个$n \\times n$对称矩阵（symmetric matrix）$M$是半正定的，满足$x^TMx \\geq 0,x \\in \\mathbb{R}^{n}$；\n",
    "3. 如果一个矩阵是负定的（negative definite ），它有一个绝对最大值，且在所有轴上都达到了最大值；\n",
    "4. 如果一个矩阵是半负定的（negative semi-definite），它至少在一个轴向量上有一个极大值；\n",
    "5. 如果一个矩阵是无限的（indfinite），它有一个鞍点。"
   ]
  },
  {
   "cell_type": "code",
   "execution_count": 51,
   "id": "c7f1c252-ba52-4248-bb29-ec7fad45c7aa",
   "metadata": {
    "tags": []
   },
   "outputs": [],
   "source": [
    "from datascience import *\n",
    "from prob140 import *\n",
    "%matplotlib inline\n",
    "import matplotlib.pyplot as plt\n",
    "import numpy as np\n",
    "plt.style.use('fivethirtyeight')"
   ]
  },
  {
   "cell_type": "code",
   "execution_count": 68,
   "id": "ff44b2a9-28f5-458c-89d3-b88351c3c365",
   "metadata": {
    "tags": []
   },
   "outputs": [],
   "source": [
    "%load_ext autoreload \n",
    "%autoreload 2 \n",
    "import usda.data_visual as usda_vis\n",
    "import usda.pgm as usda_pgm"
   ]
  },
  {
   "cell_type": "markdown",
   "id": "704b0e6b-8f9f-4605-b5f5-7da0059b8758",
   "metadata": {},
   "source": [
    "* 正定的（positive definite）"
   ]
  },
  {
   "cell_type": "code",
   "execution_count": 72,
   "id": "6045bdc6-8eb7-4559-b134-3ed96d1789d1",
   "metadata": {
    "tags": []
   },
   "outputs": [
    {
     "data": {
      "application/vnd.jupyter.widget-view+json": {
       "model_id": "72f3f628240a42da84ed9bca1f9b7382",
       "version_major": 2,
       "version_minor": 0
      },
      "text/plain": [
       "interactive(children=(FloatSlider(value=20.0, description='elevation', max=90.0, step=1.0), FloatSlider(value=…"
      ]
     },
     "metadata": {},
     "output_type": "display_data"
    }
   ],
   "source": [
    "def quadratic_form_positive_definite(x,y):\n",
    "    return x**2+y**2\n",
    "\n",
    "Plot_3d(x_limits=(-2,2), y_limits=(-2,2), f=quadratic_form_positive_definite, cstride=4, rstride=4,interactive=True)   "
   ]
  },
  {
   "cell_type": "markdown",
   "id": "6ce88e72-1e18-4d68-8012-f2d6390b6eae",
   "metadata": {},
   "source": [
    "* 半正定的（positive semi-definite）"
   ]
  },
  {
   "cell_type": "code",
   "execution_count": 63,
   "id": "e0428bc2-3327-4ac1-b379-5f17cd142423",
   "metadata": {
    "tags": []
   },
   "outputs": [
    {
     "data": {
      "application/vnd.jupyter.widget-view+json": {
       "model_id": "c5d48170af174bb79ccc3504b91837c7",
       "version_major": 2,
       "version_minor": 0
      },
      "text/plain": [
       "interactive(children=(FloatSlider(value=20.0, description='elevation', max=90.0, step=1.0), FloatSlider(value=…"
      ]
     },
     "metadata": {},
     "output_type": "display_data"
    }
   ],
   "source": [
    "def quadratic_form_positive_semi_definite(x,y):\n",
    "    return x**2\n",
    "\n",
    "Plot_3d(x_limits=(-2,2), y_limits=(-2,2),f=quadratic_form_positive_semi_definite, cstride=4, rstride=4,interactive=True)   "
   ]
  },
  {
   "cell_type": "markdown",
   "id": "74f5b8c7-9b6a-41d8-95a5-395650e917e8",
   "metadata": {},
   "source": [
    "* 负定的（negative definite ）"
   ]
  },
  {
   "cell_type": "code",
   "execution_count": 58,
   "id": "d72f97b1-fc1c-4076-905e-a367cf4640d2",
   "metadata": {
    "tags": []
   },
   "outputs": [
    {
     "data": {
      "application/vnd.jupyter.widget-view+json": {
       "model_id": "502e2a41baf14c35a5ceb83020748bce",
       "version_major": 2,
       "version_minor": 0
      },
      "text/plain": [
       "interactive(children=(FloatSlider(value=20.0, description='elevation', max=90.0, step=1.0), FloatSlider(value=…"
      ]
     },
     "metadata": {},
     "output_type": "display_data"
    }
   ],
   "source": [
    "def quadratic_form_negative_definite(x,y):\n",
    "    return -x**2-y**2\n",
    "\n",
    "Plot_3d(x_limits=(-2,2), y_limits=(-2,2), f=quadratic_form_negative_definite, cstride=4, rstride=4,interactive=True)   "
   ]
  },
  {
   "cell_type": "markdown",
   "id": "a02a72b8-b598-4358-8058-432c3765def9",
   "metadata": {},
   "source": [
    "* 半负定的（negative semi-definite）"
   ]
  },
  {
   "cell_type": "code",
   "execution_count": 64,
   "id": "8d68427d-393f-47dd-8b5a-306a375f01de",
   "metadata": {
    "tags": []
   },
   "outputs": [
    {
     "data": {
      "application/vnd.jupyter.widget-view+json": {
       "model_id": "d883da5d849a4b429ee64c3f82922d0b",
       "version_major": 2,
       "version_minor": 0
      },
      "text/plain": [
       "interactive(children=(FloatSlider(value=20.0, description='elevation', max=90.0, step=1.0), FloatSlider(value=…"
      ]
     },
     "metadata": {},
     "output_type": "display_data"
    }
   ],
   "source": [
    "def quadratic_form_negative_semi_definite(x,y):\n",
    "    return -x**2\n",
    "\n",
    "Plot_3d(x_limits=(-2,2), y_limits=(-2,2),f=quadratic_form_negative_semi_definite, cstride=4, rstride=4,interactive=True) "
   ]
  },
  {
   "cell_type": "markdown",
   "id": "02cefe12-8dff-4cb2-b0b1-02847a339d79",
   "metadata": {},
   "source": [
    "* 无限的（indfinite）"
   ]
  },
  {
   "cell_type": "code",
   "execution_count": 67,
   "id": "00ed5cd6-0642-4179-b9ca-df041c14c0da",
   "metadata": {
    "tags": []
   },
   "outputs": [
    {
     "data": {
      "application/vnd.jupyter.widget-view+json": {
       "model_id": "9b3e22be73674bd3aea3ad13b23f0c12",
       "version_major": 2,
       "version_minor": 0
      },
      "text/plain": [
       "interactive(children=(FloatSlider(value=20.0, description='elevation', max=90.0, step=1.0), FloatSlider(value=…"
      ]
     },
     "metadata": {},
     "output_type": "display_data"
    }
   ],
   "source": [
    "def quadratic_form_indefinite(x,y):\n",
    "    return x**2-y**2\n",
    "\n",
    "Plot_3d(x_limits=(-2,2), y_limits=(-2,2),f=quadratic_form_indefinite, cstride=4, rstride=4,interactive=True) "
   ]
  },
  {
   "cell_type": "markdown",
   "id": "f3802d70-b76d-4a3f-b740-8a505a795a95",
   "metadata": {},
   "source": [
    "使用`covariance_test`方法判断协方差矩阵的类别，包括是否是正定、半正定的，是否为对称矩阵，是否为正行列式（Positive Determinant）及特征值（Eigen Values）是否为正。"
   ]
  },
  {
   "cell_type": "code",
   "execution_count": 73,
   "id": "69aa6f57-70d5-499f-86af-db862d46ba5e",
   "metadata": {
    "tags": []
   },
   "outputs": [
    {
     "data": {
      "text/plain": [
       "{'Positive Definite': True,\n",
       " 'Positive Semi-Definite': True,\n",
       " 'Symmetric': True,\n",
       " 'Positive Determinant': True,\n",
       " 'Eigen Values, Positivity': True}"
      ]
     },
     "execution_count": 73,
     "metadata": {},
     "output_type": "execute_result"
    }
   ],
   "source": [
    "cov=np.array([[4, 2, -2], \n",
    "              [2, 5, -5], \n",
    "              [-2, -5, 8]])\n",
    "usda_pgm.covariance_test(cov,[0,1])"
   ]
  },
  {
   "cell_type": "markdown",
   "id": "b8c61c90-c685-4973-84c8-f8c733e7763a",
   "metadata": {},
   "source": [
    "概率图（probabilistic graphical model，PGM）是一种概率模型，其中图作为一个数据结构表示随机变量间的条件依赖关系和概率分布，在应用图论的知识解决概率论相关问题同时，且能够可视化随机变量的关系从而易于理解模型结构。概率图已经发展成熟，并广泛应用到各个领域，其中系统的经典论著有*Probabilistic Graphical Models : Principles and Techniques（概率图模型原理与技术）（2009）*<sup>[Koller D, Friedman N. Probabilistic Graphical Models : Principles and Techniques / Daphne Koller and Nir Friedman. MIT Press; 2009.]</sup>。为了避免概率图中繁琐的计算，使用 Python 解决 PGM 问题的库也得以发展，如下表：\n",
    "\n",
    "| 序号  | Python 库  | 库的基本情况  | 备注  |\n",
    "|---|---|---|---|\n",
    "| 1  | [pgmpy](https://github.com/pgmpy/pgmpy)  | 持续更新，是；</br>使用者 $\\geq $ 598人；</br>贡献者 $\\geq $ 100人  | 专著，*Mastering Probabilistic Graphical Models Using Python : Master Probabilistic Graphical Models by Learning through Real-World Problems and Illustrative Code Examples in Python*<sup>[Ankan A, Panda A. Mastering Probabilistic Graphical Models Using Python : Master Probabilistic Graphical Models by Learning through Real-World Problems and Illustrative Code Examples in Python / Ankur Ankan, Abinash Panda. 1st edition. Packt Publishing; 2015.]</sup> ；</br>[在线手册](https://pgmpy.org/) |\n",
    "| 2  | [pomegranate](https://github.com/jmschrei/pomegranate)  | 持续更新，是；</br>使用者 $\\geq $ 891人；</br>贡献者 $\\geq $ 64人 | [在线手册](https://github.com/jmschrei/pomegranate/tree/master/docs/tutorials)  |\n",
    "| 3  | [PGM_PyLib](https://github.com/jona2510/PGM_PyLib)  | 持续更新，否 | 专著，*Probabilistic Graphical Models : Principles and Applications*<sup>[Sucar LE. Probabilistic Graphical Models : Principles and Applications / Luis Enrique Sucar. Second edition. Springer; 2021. doi:10.1007/978-3-030-61943-5]</sup>  |\n",
    "| 4  | [PyGModels](https://github.com/D-K-E/graphical-models/)  | 持续更新，否  | [在线手册](https://d-k-e.github.io/graphical-models/html/index.html)  |\n",
    "| 5  | [pyGMs](https://github.com/ihler/pyGMs)  |  持续更新，否  | /  |\n",
    "| 6  | [pgmPy](https://github.com/indapa/pgmPy)  | 持续更新，否  | [课程](https://www.coursera.org/learn/probabilistic-graphical-models)  |\n",
    "| 7  | [pgm](https://github.com/paulorauber/pgm)  | 持续更新，否  |   |\n",
    "\n",
    "\n",
    "从上述 PGM 相关库的比较，目前仍在持续更新的有`pgmpy`和`pomegranate`两个库，且使用者和贡献者人数相对较多，具有在线手册或者已经出版的研究专著，因此在下述的 PGM 阐述上主要基于`pgmpy`实现，并参考 PGM 主要的论著及`pgmpy`库的手册进行解释。"
   ]
  },
  {
   "cell_type": "code",
   "execution_count": null,
   "id": "d4caba7a-c13e-4d01-804a-ef9a769ca368",
   "metadata": {},
   "outputs": [],
   "source": []
  },
  {
   "cell_type": "code",
   "execution_count": null,
   "id": "3b371656-64b4-4918-9b41-6e8cb6abf645",
   "metadata": {},
   "outputs": [],
   "source": []
  },
  {
   "cell_type": "code",
   "execution_count": null,
   "id": "40a39521-7937-4bf2-a536-690e81bd85c3",
   "metadata": {},
   "outputs": [],
   "source": []
  }
 ],
 "metadata": {
  "kernelspec": {
   "display_name": "Python 3 (ipykernel)",
   "language": "python",
   "name": "python3"
  },
  "language_info": {
   "codemirror_mode": {
    "name": "ipython",
    "version": 3
   },
   "file_extension": ".py",
   "mimetype": "text/x-python",
   "name": "python",
   "nbconvert_exporter": "python",
   "pygments_lexer": "ipython3",
   "version": "3.9.16"
  }
 },
 "nbformat": 4,
 "nbformat_minor": 5
}
