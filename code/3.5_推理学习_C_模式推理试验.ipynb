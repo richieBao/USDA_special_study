{
 "cells": [
  {
   "cell_type": "markdown",
   "id": "222939fe-7064-48bf-b045-4b6859d958e4",
   "metadata": {},
   "source": [
    "> Created on Fri May 19 22:11:12 2023 @author: Richie Bao-caDesign设计(cadesign.cn)"
   ]
  },
  {
   "cell_type": "markdown",
   "id": "9bb99f2c-fa25-40bb-8d86-20b7025e1e11",
   "metadata": {},
   "source": [
    "# 3.5-C 生态系统服务价值的贝叶斯网络构建与推理\n",
    "\n",
    "## 3.5.1 生态系统服务价值与InVEST\n",
    "\n"
   ]
  },
  {
   "cell_type": "markdown",
   "id": "48fa2547-f41b-4020-9b09-9f52dcb4f237",
   "metadata": {},
   "source": [
    "## 3.5.2 碳储存和封存（Carbon Storage and Sequestration）\n",
    "\n"
   ]
  },
  {
   "cell_type": "code",
   "execution_count": 3,
   "id": "9cc30ec1-8d10-41df-b093-456a6f261db4",
   "metadata": {
    "tags": []
   },
   "outputs": [],
   "source": [
    "import pandas as pd"
   ]
  },
  {
   "cell_type": "code",
   "execution_count": 15,
   "id": "742c5132-b00a-44bb-90b3-4a0578dafc8c",
   "metadata": {
    "tags": []
   },
   "outputs": [
    {
     "name": "stdout",
     "output_type": "stream",
     "text": [
      "['info', 'fossil_CO2_totals_by_country', 'fossil_CO2_by_sector_and_countr', 'fossil_CO2_per_GDP_by_country', 'fossil_CO2_per_capita_by_countr', 'LULUCF by macro regions']\n"
     ]
    }
   ],
   "source": [
    "ghg_fn=r'I:\\data\\EDGARv7.0_FT2021_fossil_CO2_booklet_2022.xlsx'\n",
    "\n",
    "ghg_df=pd.ExcelFile(ghg_fn)\n",
    "print(ghg_df.sheet_names)"
   ]
  },
  {
   "cell_type": "code",
   "execution_count": 19,
   "id": "89c7b6f5-5e19-4397-ae1f-76bd7e58fb86",
   "metadata": {
    "tags": []
   },
   "outputs": [
    {
     "data": {
      "text/html": [
       "<div>\n",
       "<style scoped>\n",
       "    .dataframe tbody tr th:only-of-type {\n",
       "        vertical-align: middle;\n",
       "    }\n",
       "\n",
       "    .dataframe tbody tr th {\n",
       "        vertical-align: top;\n",
       "    }\n",
       "\n",
       "    .dataframe thead th {\n",
       "        text-align: right;\n",
       "    }\n",
       "</style>\n",
       "<table border=\"1\" class=\"dataframe\">\n",
       "  <thead>\n",
       "    <tr style=\"text-align: right;\">\n",
       "      <th></th>\n",
       "      <th>Substance</th>\n",
       "      <th>EDGAR Country Code</th>\n",
       "      <th>Country</th>\n",
       "      <th>1970</th>\n",
       "      <th>1971</th>\n",
       "      <th>1972</th>\n",
       "      <th>1973</th>\n",
       "      <th>1974</th>\n",
       "      <th>1975</th>\n",
       "      <th>1976</th>\n",
       "      <th>...</th>\n",
       "      <th>2012</th>\n",
       "      <th>2013</th>\n",
       "      <th>2014</th>\n",
       "      <th>2015</th>\n",
       "      <th>2016</th>\n",
       "      <th>2017</th>\n",
       "      <th>2018</th>\n",
       "      <th>2019</th>\n",
       "      <th>2020</th>\n",
       "      <th>2021</th>\n",
       "    </tr>\n",
       "  </thead>\n",
       "  <tbody>\n",
       "    <tr>\n",
       "      <th>0</th>\n",
       "      <td>CO2</td>\n",
       "      <td>ABW</td>\n",
       "      <td>Aruba</td>\n",
       "      <td>0.081876</td>\n",
       "      <td>0.081889</td>\n",
       "      <td>0.095415</td>\n",
       "      <td>0.099630</td>\n",
       "      <td>0.089089</td>\n",
       "      <td>0.105139</td>\n",
       "      <td>0.096041</td>\n",
       "      <td>...</td>\n",
       "      <td>1.618441</td>\n",
       "      <td>1.588689</td>\n",
       "      <td>1.615728</td>\n",
       "      <td>1.607879</td>\n",
       "      <td>1.578644</td>\n",
       "      <td>1.315458</td>\n",
       "      <td>1.347594</td>\n",
       "      <td>1.387156</td>\n",
       "      <td>1.144333</td>\n",
       "      <td>1.274134</td>\n",
       "    </tr>\n",
       "    <tr>\n",
       "      <th>1</th>\n",
       "      <td>CO2</td>\n",
       "      <td>AFG</td>\n",
       "      <td>Afghanistan</td>\n",
       "      <td>1.739541</td>\n",
       "      <td>1.737823</td>\n",
       "      <td>1.715749</td>\n",
       "      <td>1.742813</td>\n",
       "      <td>2.198551</td>\n",
       "      <td>2.037627</td>\n",
       "      <td>1.899895</td>\n",
       "      <td>...</td>\n",
       "      <td>10.238064</td>\n",
       "      <td>8.484183</td>\n",
       "      <td>8.016290</td>\n",
       "      <td>8.361849</td>\n",
       "      <td>7.635914</td>\n",
       "      <td>8.145255</td>\n",
       "      <td>9.106997</td>\n",
       "      <td>8.082724</td>\n",
       "      <td>8.183718</td>\n",
       "      <td>8.347669</td>\n",
       "    </tr>\n",
       "    <tr>\n",
       "      <th>2</th>\n",
       "      <td>CO2</td>\n",
       "      <td>AGO</td>\n",
       "      <td>Angola</td>\n",
       "      <td>8.952570</td>\n",
       "      <td>8.538308</td>\n",
       "      <td>10.388519</td>\n",
       "      <td>11.372301</td>\n",
       "      <td>11.833761</td>\n",
       "      <td>10.930423</td>\n",
       "      <td>7.317385</td>\n",
       "      <td>...</td>\n",
       "      <td>24.186843</td>\n",
       "      <td>27.822325</td>\n",
       "      <td>30.407844</td>\n",
       "      <td>32.594130</td>\n",
       "      <td>30.691660</td>\n",
       "      <td>26.129882</td>\n",
       "      <td>24.048619</td>\n",
       "      <td>25.325994</td>\n",
       "      <td>23.055844</td>\n",
       "      <td>24.450057</td>\n",
       "    </tr>\n",
       "    <tr>\n",
       "      <th>3</th>\n",
       "      <td>CO2</td>\n",
       "      <td>AIA</td>\n",
       "      <td>Anguilla</td>\n",
       "      <td>0.002168</td>\n",
       "      <td>0.002168</td>\n",
       "      <td>0.002264</td>\n",
       "      <td>0.002109</td>\n",
       "      <td>0.002350</td>\n",
       "      <td>0.002584</td>\n",
       "      <td>0.002434</td>\n",
       "      <td>...</td>\n",
       "      <td>0.026023</td>\n",
       "      <td>0.027941</td>\n",
       "      <td>0.027896</td>\n",
       "      <td>0.028005</td>\n",
       "      <td>0.028340</td>\n",
       "      <td>0.029062</td>\n",
       "      <td>0.028223</td>\n",
       "      <td>0.027580</td>\n",
       "      <td>0.022779</td>\n",
       "      <td>0.025409</td>\n",
       "    </tr>\n",
       "    <tr>\n",
       "      <th>4</th>\n",
       "      <td>CO2</td>\n",
       "      <td>AIR</td>\n",
       "      <td>International Aviation</td>\n",
       "      <td>169.300997</td>\n",
       "      <td>169.300997</td>\n",
       "      <td>179.147487</td>\n",
       "      <td>186.892096</td>\n",
       "      <td>179.793331</td>\n",
       "      <td>173.866020</td>\n",
       "      <td>174.273791</td>\n",
       "      <td>...</td>\n",
       "      <td>472.721119</td>\n",
       "      <td>480.909126</td>\n",
       "      <td>496.627697</td>\n",
       "      <td>524.654035</td>\n",
       "      <td>548.207777</td>\n",
       "      <td>582.230490</td>\n",
       "      <td>609.630469</td>\n",
       "      <td>617.763229</td>\n",
       "      <td>338.144083</td>\n",
       "      <td>390.166250</td>\n",
       "    </tr>\n",
       "  </tbody>\n",
       "</table>\n",
       "<p>5 rows × 55 columns</p>\n",
       "</div>"
      ],
      "text/plain": [
       "  Substance EDGAR Country Code                 Country        1970  \\\n",
       "0       CO2                ABW                   Aruba    0.081876   \n",
       "1       CO2                AFG             Afghanistan    1.739541   \n",
       "2       CO2                AGO                  Angola    8.952570   \n",
       "3       CO2                AIA                Anguilla    0.002168   \n",
       "4       CO2                AIR  International Aviation  169.300997   \n",
       "\n",
       "         1971        1972        1973        1974        1975        1976  \\\n",
       "0    0.081889    0.095415    0.099630    0.089089    0.105139    0.096041   \n",
       "1    1.737823    1.715749    1.742813    2.198551    2.037627    1.899895   \n",
       "2    8.538308   10.388519   11.372301   11.833761   10.930423    7.317385   \n",
       "3    0.002168    0.002264    0.002109    0.002350    0.002584    0.002434   \n",
       "4  169.300997  179.147487  186.892096  179.793331  173.866020  174.273791   \n",
       "\n",
       "   ...        2012        2013        2014        2015        2016  \\\n",
       "0  ...    1.618441    1.588689    1.615728    1.607879    1.578644   \n",
       "1  ...   10.238064    8.484183    8.016290    8.361849    7.635914   \n",
       "2  ...   24.186843   27.822325   30.407844   32.594130   30.691660   \n",
       "3  ...    0.026023    0.027941    0.027896    0.028005    0.028340   \n",
       "4  ...  472.721119  480.909126  496.627697  524.654035  548.207777   \n",
       "\n",
       "         2017        2018        2019        2020        2021  \n",
       "0    1.315458    1.347594    1.387156    1.144333    1.274134  \n",
       "1    8.145255    9.106997    8.082724    8.183718    8.347669  \n",
       "2   26.129882   24.048619   25.325994   23.055844   24.450057  \n",
       "3    0.029062    0.028223    0.027580    0.022779    0.025409  \n",
       "4  582.230490  609.630469  617.763229  338.144083  390.166250  \n",
       "\n",
       "[5 rows x 55 columns]"
      ]
     },
     "execution_count": 19,
     "metadata": {},
     "output_type": "execute_result"
    }
   ],
   "source": [
    "co2_emissions=pd.read_excel(ghg_fn,sheet_name='fossil_CO2_totals_by_country')\n",
    "co2_emissions.head()"
   ]
  },
  {
   "cell_type": "code",
   "execution_count": null,
   "id": "bdb22dce-7ec1-4690-97ce-f21e8261c0a8",
   "metadata": {},
   "outputs": [],
   "source": []
  },
  {
   "cell_type": "code",
   "execution_count": null,
   "id": "6c0e03b0-3d7f-40bf-9c5d-5b6d411d19b0",
   "metadata": {},
   "outputs": [],
   "source": []
  },
  {
   "cell_type": "code",
   "execution_count": null,
   "id": "ffdf907f-007b-4be6-accc-8ad28bd30e2a",
   "metadata": {},
   "outputs": [],
   "source": []
  },
  {
   "cell_type": "code",
   "execution_count": null,
   "id": "6595f470-1966-42c5-87fa-b01a38fac540",
   "metadata": {},
   "outputs": [],
   "source": []
  },
  {
   "cell_type": "code",
   "execution_count": null,
   "id": "fbe5e23d-d861-497e-b1e6-a28e5038bc13",
   "metadata": {},
   "outputs": [],
   "source": []
  },
  {
   "cell_type": "code",
   "execution_count": null,
   "id": "b5873eed-6932-41bf-aeba-4b7b4b125833",
   "metadata": {},
   "outputs": [],
   "source": []
  },
  {
   "cell_type": "code",
   "execution_count": null,
   "id": "3a69184b-f917-4749-94bd-ec56e7d6c243",
   "metadata": {},
   "outputs": [],
   "source": []
  },
  {
   "cell_type": "code",
   "execution_count": null,
   "id": "020e7f98-40a4-48dd-80f2-187aee5cf4fd",
   "metadata": {},
   "outputs": [],
   "source": []
  },
  {
   "cell_type": "code",
   "execution_count": null,
   "id": "472ef316-6249-4232-ab99-083eceb53f27",
   "metadata": {},
   "outputs": [],
   "source": []
  },
  {
   "cell_type": "code",
   "execution_count": null,
   "id": "4953755f-c899-4301-a542-14f5be9785ef",
   "metadata": {},
   "outputs": [],
   "source": []
  },
  {
   "cell_type": "code",
   "execution_count": 1,
   "id": "82a97706-e431-476b-938e-c00fb426b4da",
   "metadata": {},
   "outputs": [],
   "source": [
    "%load_ext autoreload \n",
    "%autoreload 2 \n",
    "\n",
    "from usda.migrated_project.invest.esv import u\n",
    "import usda.migrated_project.invest as usda_esv"
   ]
  },
  {
   "cell_type": "code",
   "execution_count": 10,
   "id": "ebcfa8aa-aae5-4069-89ec-9f960ebf09fa",
   "metadata": {
    "tags": []
   },
   "outputs": [
    {
     "name": "stdout",
     "output_type": "stream",
     "text": [
      "cell size set={(30.0, -30.0)};\n",
      "raster size set={(1325, 1889)};\n",
      "valid lulc keys=['lulc_cur_path', 'lulc_fut_path', 'lulc_redd_path']\n",
      "valid scenarios=['cur', 'fut', 'redd']\n"
     ]
    }
   ],
   "source": [
    "args_carbon={\n",
    "    'workspace_dir':'I:\\ESVs',\n",
    "    'carbon_pools_path':r'I:\\data\\invest\\Carbon\\carbon_pools_willamette.csv',\n",
    "    'n_workers':6,\n",
    "    'results_suffix':'usda',\n",
    "    'lulc_cur_path':r'I:\\data\\invest\\Carbon\\lulc_current_willamette.tif',\n",
    "    'lulc_fut_path':r'I:\\data\\invest\\Carbon\\lulc_future_willamette.tif',\n",
    "    'lulc_redd_path':r\"I:\\data\\invest\\Carbon\\lulc_redd_willamette.tif\",\n",
    "    'do_valuation':True,\n",
    "    'lulc_cur_year':2009,\n",
    "    'lulc_fut_year':2010,\n",
    "    'discount_rate':0.07,\n",
    "    'rate_change':0.1,\n",
    "    'price_per_metric_ton_of_c':100,\n",
    "    }\n",
    "\n",
    "carbon=usda_esv.Carbon_storage_sequestration(args_carbon)"
   ]
  },
  {
   "cell_type": "code",
   "execution_count": 12,
   "id": "6e3f1485-9a29-41de-a0f1-c779d27dd3e2",
   "metadata": {},
   "outputs": [
    {
     "data": {
      "text/plain": [
       "{'I:\\\\ESVs\\\\delta_cur_fut_usda.tif',\n",
       " 'I:\\\\ESVs\\\\delta_cur_redd_usda.tif',\n",
       " 'I:\\\\ESVs\\\\npv_fut_usda.tif',\n",
       " 'I:\\\\ESVs\\\\npv_redd_usda.tif',\n",
       " 'I:\\\\ESVs\\\\tot_c_cur_usda.tif',\n",
       " 'I:\\\\ESVs\\\\tot_c_fut_usda.tif',\n",
       " 'I:\\\\ESVs\\\\tot_c_redd_usda.tif'}"
      ]
     },
     "execution_count": 12,
     "metadata": {},
     "output_type": "execute_result"
    }
   ],
   "source": [
    "carbon.carbon_results_info['tifs_to_summarize']"
   ]
  },
  {
   "cell_type": "markdown",
   "id": "561c8a4d-8e69-40aa-928c-2fe055a94097",
   "metadata": {},
   "source": [
    "### 3.5.1.2 生境质量（Habitat Quality）"
   ]
  },
  {
   "cell_type": "code",
   "execution_count": 6,
   "id": "8d49637c-51f0-4e34-80b6-4a44c73a8a18",
   "metadata": {},
   "outputs": [
    {
     "name": "stderr",
     "output_type": "stream",
     "text": [
      "The threat raster for crops could not be found for the land cover _b. Skipping Habitat Quality calculation for this land cover.\n"
     ]
    }
   ],
   "source": [
    "args_habitat_quality={\n",
    "        'workspace_dir':'I:\\ESVs\\habitat_quality',   \n",
    "        'n_workers':6,\n",
    "        'results_suffix':'usda',     \n",
    "        'threats_table_path':r'I:\\data\\invest\\HabitatQuality\\threats_willamette.csv',\n",
    "        'sensitivity_table_path':r'I:\\data\\invest\\HabitatQuality\\sensitivity_willamette.csv',\n",
    "        'half_saturation_constant':0.05,\n",
    "        'lulc_cur_path':r'I:\\data\\invest\\HabitatQuality\\lulc_current_willamette.tif',\n",
    "        'lulc_fut_path':r'I:\\data\\invest\\HabitatQuality\\lulc_future_willamette.tif',\n",
    "        'lulc_bas_path':r'I:\\data\\invest\\HabitatQuality\\lulc_baseline_willamette.tif',\n",
    "        'access_vector_path':r'I:\\data\\invest\\HabitatQuality\\accessibility_willamette.shp',        \n",
    "        }\n",
    "habitat_quality=usda_esv.Habitat_quality(args_habitat_quality)"
   ]
  },
  {
   "cell_type": "code",
   "execution_count": 7,
   "id": "f8f7f32e-a7d8-4901-918e-3b16d3fae777",
   "metadata": {
    "tags": []
   },
   "outputs": [
    {
     "data": {
      "text/plain": [
       "{'degsum': ['I:\\\\ESVs\\\\habitat_quality\\\\deg_sum_c_usda.tif',\n",
       "  'I:\\\\ESVs\\\\habitat_quality\\\\deg_sum_f_usda.tif'],\n",
       " 'quality': ['I:\\\\ESVs\\\\habitat_quality\\\\quality_c_usda.tif',\n",
       "  'I:\\\\ESVs\\\\habitat_quality\\\\quality_f_usda.tif'],\n",
       " 'rarily': ['I:\\\\ESVs\\\\habitat_quality\\\\rarity_c_usda.tif',\n",
       "  'I:\\\\ESVs\\\\habitat_quality\\\\rarity_f_usda.tif']}"
      ]
     },
     "execution_count": 7,
     "metadata": {},
     "output_type": "execute_result"
    }
   ],
   "source": [
    "habitat_quality.habitat_quality_results_info['paths_dict']"
   ]
  },
  {
   "cell_type": "markdown",
   "id": "04fc6e90-e9c8-4481-910a-6b2a03d398df",
   "metadata": {},
   "source": [
    "### 3.5.1.3 作物授粉（授粉者丰度）（Crop Pollination (Pollinator Abundance)）"
   ]
  },
  {
   "cell_type": "code",
   "execution_count": 13,
   "id": "0628b800-844e-4794-a5c0-a74329697359",
   "metadata": {
    "tags": []
   },
   "outputs": [
    {
     "name": "stderr",
     "output_type": "stream",
     "text": [
      "A duplicate task was submitted: Task object 1209078630720:\n",
      "\n",
      "{'exception_object': None,\n",
      " 'ignore_directories': True,\n",
      " 'ignore_path_list': [],\n",
      " 'priority': 0,\n",
      " 'self._reexecution_info': {'args_clean': [25.0, 'in_target_path_list'],\n",
      "                            'func_name': 'exponential_decay_kernel_raster',\n",
      "                            'kwargs_clean': {},\n",
      "                            'source_code_hash': '720e2d121ff93d7ba98867383ee78a628eee8d68'},\n",
      " 'self._result': None,\n",
      " 'target_path_list': ['i:\\\\esvs\\\\pollination\\\\intermediate_outputs\\\\kernel_25.000000_usda.tif'],\n",
      " 'task_id_hash': '41770e87e9017cbb638b4fec6a655a4397d2709b',\n",
      " 'task_name': 'decay_kernel_raster_25.0 (39)',\n",
      " 'task_reexecution_hash': None} original: Task object 1209097418016:\n",
      "\n",
      "{'exception_object': None,\n",
      " 'ignore_directories': True,\n",
      " 'ignore_path_list': [],\n",
      " 'priority': 0,\n",
      " 'self._reexecution_info': {'args_clean': [25.0, 'in_target_path_list'],\n",
      "                            'func_name': 'exponential_decay_kernel_raster',\n",
      "                            'kwargs_clean': {},\n",
      "                            'source_code_hash': '720e2d121ff93d7ba98867383ee78a628eee8d68'},\n",
      " 'self._result': None,\n",
      " 'target_path_list': ['i:\\\\esvs\\\\pollination\\\\intermediate_outputs\\\\kernel_25.000000_usda.tif'],\n",
      " 'task_id_hash': '41770e87e9017cbb638b4fec6a655a4397d2709b',\n",
      " 'task_name': 'decay_kernel_raster_25.0 (25)',\n",
      " 'task_reexecution_hash': None}\n"
     ]
    }
   ],
   "source": [
    "args_crop_pollination={\n",
    "    'workspace_dir':r'I:\\ESVs\\pollination',\n",
    "    'results_suffix':'usda',\n",
    "    'n_workers':6,    \n",
    "    'landcover_raster_path':r'I:\\data\\invest\\pollination\\landcover.tif',\n",
    "    'guild_table_path':r'I:\\data\\invest\\pollination\\guild_table.csv',\n",
    "    'landcover_biophysical_table_path':r'I:\\data\\invest\\pollination\\landcover_biophysical_table.csv',\n",
    "    'farm_vector_path':r'I:\\data\\invest\\pollination\\farms.shp',\n",
    "    }\n",
    "\n",
    "crop_pollination=usda_esv.Crop_pollination(args_crop_pollination)        "
   ]
  },
  {
   "cell_type": "code",
   "execution_count": 15,
   "id": "a75bd7ef-581d-46a9-a03e-9b6185c72f48",
   "metadata": {
    "tags": []
   },
   "outputs": [
    {
     "data": {
      "text/plain": [
       "{'target_farm_result_path': ['I:\\\\ESVs\\\\pollination\\\\farm_results_usda.shp'],\n",
       " 'wild_pollinator_yield_path': ['I:\\\\ESVs\\\\pollination\\\\wild_pollinator_yield_usda.tif'],\n",
       " 'total_pollinator_yield_path': ['I:\\\\ESVs\\\\pollination\\\\total_pollinator_yield_usda.tif'],\n",
       " 'managed_pollinator_path': ['I:\\\\ESVs\\\\pollination\\\\intermediate_outputs\\\\managed_pollinators_usda.tif'],\n",
       " 'farm_pollinator_path': ['I:\\\\ESVs\\\\pollination\\\\farm_pollinators_usda.tif'],\n",
       " 'farm_pollinator_season_path': ['I:\\\\ESVs\\\\pollination\\\\intermediate_outputs\\\\farm_pollinator_spring_usda.tif',\n",
       "  'I:\\\\ESVs\\\\pollination\\\\intermediate_outputs\\\\farm_pollinator_summer_usda.tif'],\n",
       " 'half_saturation_raster_path': ['I:\\\\ESVs\\\\pollination\\\\intermediate_outputs\\\\half_saturation_spring_usda.tif',\n",
       "  'I:\\\\ESVs\\\\pollination\\\\intermediate_outputs\\\\half_saturation_summer_usda.tif'],\n",
       " 'total_pollinator_abundance_index_path': ['I:\\\\ESVs\\\\pollination\\\\total_pollinator_abundance_spring_usda.tif',\n",
       "  'I:\\\\ESVs\\\\pollination\\\\total_pollinator_abundance_summer_usda.tif'],\n",
       " 'pollinator_abundance_path': ['I:\\\\ESVs\\\\pollination\\\\pollinator_abundance_apis_spring_usda.tif',\n",
       "  'I:\\\\ESVs\\\\pollination\\\\pollinator_abundance_apis_summer_usda.tif',\n",
       "  'I:\\\\ESVs\\\\pollination\\\\pollinator_abundance_apis2_spring_usda.tif',\n",
       "  'I:\\\\ESVs\\\\pollination\\\\pollinator_abundance_apis2_summer_usda.tif',\n",
       "  'I:\\\\ESVs\\\\pollination\\\\pollinator_abundance_bombus_spring_usda.tif',\n",
       "  'I:\\\\ESVs\\\\pollination\\\\pollinator_abundance_bombus_summer_usda.tif',\n",
       "  'I:\\\\ESVs\\\\pollination\\\\pollinator_abundance_bombus2_spring_usda.tif',\n",
       "  'I:\\\\ESVs\\\\pollination\\\\pollinator_abundance_bombus2_summer_usda.tif']}"
      ]
     },
     "execution_count": 15,
     "metadata": {},
     "output_type": "execute_result"
    }
   ],
   "source": [
    "crop_pollination.crop_pollination_results_info['paths_dict']"
   ]
  },
  {
   "cell_type": "markdown",
   "id": "2fc9a7c0-bb1b-4bbf-a9d7-cec6326859a7",
   "metadata": {},
   "source": [
    "### 3.5.1.4 作物生产（Crop Production）"
   ]
  },
  {
   "cell_type": "markdown",
   "id": "69b09180-4cd4-4a39-a32a-092f800f2bd9",
   "metadata": {},
   "source": [
    "* 百分位模型（Percentile Model）"
   ]
  },
  {
   "cell_type": "code",
   "execution_count": 16,
   "id": "4377f6ae-4a17-48be-a656-ba6e55dd9ed3",
   "metadata": {
    "tags": []
   },
   "outputs": [],
   "source": [
    "args_crop_production_percentile={\n",
    "    'workspace_dir':r'I:\\ESVs\\crop_PP',\n",
    "    'n_workers':6,\n",
    "    'results_suffix':'usda',\n",
    "    'landcover_raster_path':r'I:\\data\\invest\\CropProduction\\sample_user_data\\landcover.tif',\n",
    "    'landcover_to_crop_table_path':r'I:\\data\\invest\\CropProduction\\sample_user_data\\landcover_to_crop_table.csv',\n",
    "    'aggregate_polygon_path':r'I:\\data\\invest\\CropProduction\\sample_user_data\\aggregate_shape.shp',\n",
    "    'model_data_path':r'I:\\data\\invest\\CropProduction\\model_data',\n",
    "    }\n",
    "\n",
    "crop_production_percentile=usda_esv.Crop_production_percentile(args_crop_production_percentile)"
   ]
  },
  {
   "cell_type": "code",
   "execution_count": null,
   "id": "901f6ddd-9c88-46bc-b026-5230b390b37a",
   "metadata": {},
   "outputs": [],
   "source": []
  },
  {
   "cell_type": "markdown",
   "id": "73b2ac68-3441-4148-b944-84f6e79313b6",
   "metadata": {},
   "source": [
    "* 回归模型（Regression Model）"
   ]
  },
  {
   "cell_type": "code",
   "execution_count": 17,
   "id": "80fb8106-7a71-4eb9-b0f6-35077eec352d",
   "metadata": {
    "tags": []
   },
   "outputs": [
    {
     "name": "stderr",
     "output_type": "stream",
     "text": [
      "The following lucodes are in the landcover to crop table but aren't in the landcover raster: {1000}\n",
      "Empty or NaN values were found in the table: I:\\data\\invest\\CropProduction\\model_data\\climate_regression_yield_tables\\barley_regression_yield_table.csv.\n",
      "Empty or NaN values were found in the table: I:\\data\\invest\\CropProduction\\model_data\\climate_regression_yield_tables\\wheat_regression_yield_table.csv.\n",
      "Empty or NaN values were found in the table: I:\\data\\invest\\CropProduction\\model_data\\climate_regression_yield_tables\\soybean_regression_yield_table.csv.\n"
     ]
    }
   ],
   "source": [
    "args_crop_production_regression={\n",
    "    'workspace_dir':r'I:\\ESVs\\crop_PR',\n",
    "    'n_workers':6,\n",
    "    'results_suffix':'usda',\n",
    "    'landcover_raster_path':r'I:\\data\\invest\\CropProduction\\sample_user_data\\landcover.tif',\n",
    "    'landcover_to_crop_table_path':r'I:\\data\\invest\\CropProduction\\sample_user_data\\landcover_to_crop_table.csv',\n",
    "    'fertilization_rate_table_path':r'I:\\data\\invest\\CropProduction\\sample_user_data\\crop_fertilization_rates.csv',\n",
    "    'aggregate_polygon_path':r'I:\\data\\invest\\CropProduction\\sample_user_data\\aggregate_shape.shp',\n",
    "    'model_data_path':r'I:\\data\\invest\\CropProduction\\model_data',\n",
    "    }\n",
    "\n",
    "crop_production_regression=usda_esv.Crop_production_regression(args_crop_production_regression)"
   ]
  },
  {
   "cell_type": "code",
   "execution_count": 19,
   "id": "82b7d88f-004c-4ccd-9cee-f9df143f4f84",
   "metadata": {
    "tags": []
   },
   "outputs": [
    {
     "data": {
      "text/plain": [
       "{'target_aggregate_vector_path': ['I:\\\\ESVs\\\\crop_PR\\\\intermediate_output\\\\aggregate_vector_usda.shp'],\n",
       " 'aggregate_results_table_path': ['I:\\\\ESVs\\\\crop_PR\\\\.\\\\aggregate_results_usda.csv'],\n",
       " 'result_table_path': ['I:\\\\ESVs\\\\crop_PR\\\\result_table_usda.csv'],\n",
       " 'observed_production_raster_path': ['I:\\\\ESVs\\\\crop_PR\\\\.\\\\barley_observed_production_usda.tif',\n",
       "  'I:\\\\ESVs\\\\crop_PR\\\\.\\\\wheat_observed_production_usda.tif',\n",
       "  'I:\\\\ESVs\\\\crop_PR\\\\.\\\\soybean_observed_production_usda.tif'],\n",
       " 'zeroed_observed_yield_raster_path': ['I:\\\\ESVs\\\\crop_PR\\\\intermediate_output\\\\barley_zeroed_observed_yield_usda.tif',\n",
       "  'I:\\\\ESVs\\\\crop_PR\\\\intermediate_output\\\\wheat_zeroed_observed_yield_usda.tif',\n",
       "  'I:\\\\ESVs\\\\crop_PR\\\\intermediate_output\\\\soybean_zeroed_observed_yield_usda.tif'],\n",
       " 'global_observed_yield_raster_path': ['I:\\\\data\\\\invest\\\\CropProduction\\\\model_data\\\\observed_yield\\\\barley_yield_map.tif',\n",
       "  'I:\\\\data\\\\invest\\\\CropProduction\\\\model_data\\\\observed_yield\\\\wheat_yield_map.tif',\n",
       "  'I:\\\\data\\\\invest\\\\CropProduction\\\\model_data\\\\observed_yield\\\\soybean_yield_map.tif'],\n",
       " 'crop_production_raster_path': ['I:\\\\ESVs\\\\crop_PR\\\\.\\\\barley_regression_production_usda.tif',\n",
       "  'I:\\\\ESVs\\\\crop_PR\\\\.\\\\wheat_regression_production_usda.tif',\n",
       "  'I:\\\\ESVs\\\\crop_PR\\\\.\\\\soybean_regression_production_usda.tif'],\n",
       " 'potassium_yield_raster_path': ['I:\\\\ESVs\\\\crop_PR\\\\intermediate_output\\\\barley_potassium_yield_usda.tif',\n",
       "  'I:\\\\ESVs\\\\crop_PR\\\\intermediate_output\\\\wheat_potassium_yield_usda.tif',\n",
       "  'I:\\\\ESVs\\\\crop_PR\\\\intermediate_output\\\\soybean_potassium_yield_usda.tif'],\n",
       " 'phosphorus_yield_raster_path': ['I:\\\\ESVs\\\\crop_PR\\\\intermediate_output\\\\barley_phosphorus_yield_usda.tif',\n",
       "  'I:\\\\ESVs\\\\crop_PR\\\\intermediate_output\\\\wheat_phosphorus_yield_usda.tif',\n",
       "  'I:\\\\ESVs\\\\crop_PR\\\\intermediate_output\\\\soybean_phosphorus_yield_usda.tif'],\n",
       " 'nitrogen_yield_raster_path': ['I:\\\\ESVs\\\\crop_PR\\\\intermediate_output\\\\barley_nitrogen_yield_usda.tif',\n",
       "  'I:\\\\ESVs\\\\crop_PR\\\\intermediate_output\\\\wheat_nitrogen_yield_usda.tif',\n",
       "  'I:\\\\ESVs\\\\crop_PR\\\\intermediate_output\\\\soybean_nitrogen_yield_usda.tif'],\n",
       " 'coarse_regression_parameter_raster_path': ['I:\\\\ESVs\\\\crop_PR\\\\intermediate_output\\\\barley_yield_ceiling_coarse_regression_parameter_usda.tif',\n",
       "  'I:\\\\ESVs\\\\crop_PR\\\\intermediate_output\\\\barley_b_nut_coarse_regression_parameter_usda.tif',\n",
       "  'I:\\\\ESVs\\\\crop_PR\\\\intermediate_output\\\\barley_b_k2o_coarse_regression_parameter_usda.tif',\n",
       "  'I:\\\\ESVs\\\\crop_PR\\\\intermediate_output\\\\barley_c_n_coarse_regression_parameter_usda.tif',\n",
       "  'I:\\\\ESVs\\\\crop_PR\\\\intermediate_output\\\\barley_c_p2o5_coarse_regression_parameter_usda.tif',\n",
       "  'I:\\\\ESVs\\\\crop_PR\\\\intermediate_output\\\\barley_c_k2o_coarse_regression_parameter_usda.tif',\n",
       "  'I:\\\\ESVs\\\\crop_PR\\\\intermediate_output\\\\wheat_yield_ceiling_coarse_regression_parameter_usda.tif',\n",
       "  'I:\\\\ESVs\\\\crop_PR\\\\intermediate_output\\\\wheat_b_nut_coarse_regression_parameter_usda.tif',\n",
       "  'I:\\\\ESVs\\\\crop_PR\\\\intermediate_output\\\\wheat_b_k2o_coarse_regression_parameter_usda.tif',\n",
       "  'I:\\\\ESVs\\\\crop_PR\\\\intermediate_output\\\\wheat_c_n_coarse_regression_parameter_usda.tif',\n",
       "  'I:\\\\ESVs\\\\crop_PR\\\\intermediate_output\\\\wheat_c_p2o5_coarse_regression_parameter_usda.tif',\n",
       "  'I:\\\\ESVs\\\\crop_PR\\\\intermediate_output\\\\wheat_c_k2o_coarse_regression_parameter_usda.tif',\n",
       "  'I:\\\\ESVs\\\\crop_PR\\\\intermediate_output\\\\soybean_yield_ceiling_coarse_regression_parameter_usda.tif',\n",
       "  'I:\\\\ESVs\\\\crop_PR\\\\intermediate_output\\\\soybean_b_nut_coarse_regression_parameter_usda.tif',\n",
       "  'I:\\\\ESVs\\\\crop_PR\\\\intermediate_output\\\\soybean_b_k2o_coarse_regression_parameter_usda.tif',\n",
       "  'I:\\\\ESVs\\\\crop_PR\\\\intermediate_output\\\\soybean_c_n_coarse_regression_parameter_usda.tif',\n",
       "  'I:\\\\ESVs\\\\crop_PR\\\\intermediate_output\\\\soybean_c_p2o5_coarse_regression_parameter_usda.tif',\n",
       "  'I:\\\\ESVs\\\\crop_PR\\\\intermediate_output\\\\soybean_c_k2o_coarse_regression_parameter_usda.tif']}"
      ]
     },
     "execution_count": 19,
     "metadata": {},
     "output_type": "execute_result"
    }
   ],
   "source": [
    "crop_production_regression.crop_production_regression_results_info['paths_dict']"
   ]
  },
  {
   "cell_type": "code",
   "execution_count": null,
   "id": "490c5e91-281f-4712-89a6-d236c65264c0",
   "metadata": {},
   "outputs": [],
   "source": []
  },
  {
   "cell_type": "markdown",
   "id": "86822c08-3bac-47be-98fc-8644728445db",
   "metadata": {},
   "source": [
    "## 3.5.2 贝叶斯网络构建与推理"
   ]
  },
  {
   "cell_type": "code",
   "execution_count": null,
   "id": "0f259929-aa64-422f-b1fc-323c5be2e0fa",
   "metadata": {},
   "outputs": [],
   "source": []
  },
  {
   "cell_type": "code",
   "execution_count": null,
   "id": "764aaedf-bf70-4b47-9ab2-b47af9eca4e5",
   "metadata": {},
   "outputs": [],
   "source": []
  }
 ],
 "metadata": {
  "kernelspec": {
   "display_name": "Python 3 (ipykernel)",
   "language": "python",
   "name": "python3"
  },
  "language_info": {
   "codemirror_mode": {
    "name": "ipython",
    "version": 3
   },
   "file_extension": ".py",
   "mimetype": "text/x-python",
   "name": "python",
   "nbconvert_exporter": "python",
   "pygments_lexer": "ipython3",
   "version": "3.9.16"
  }
 },
 "nbformat": 4,
 "nbformat_minor": 5
}
