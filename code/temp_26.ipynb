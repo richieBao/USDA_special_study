{
 "cells": [
  {
   "cell_type": "code",
   "execution_count": 28,
   "id": "330249bf-dcb6-486e-9515-e64888e86169",
   "metadata": {},
   "outputs": [],
   "source": [
    "import usda.network as usda_nw\n",
    "\n",
    "import dgl\n",
    "import torch as th\n",
    "import matplotlib.pyplot as plt\n",
    "import networkx as nx\n",
    "import scipy.sparse as sp\n",
    "import numpy as np\n",
    "\n",
    "import torch\n",
    "import torch.nn as nn"
   ]
  },
  {
   "cell_type": "code",
   "execution_count": 2,
   "id": "f3ffd429-83e6-456b-afb9-937168b36347",
   "metadata": {},
   "outputs": [],
   "source": [
    "u, v = th.tensor([0, 0, 0, 1]), th.tensor([1, 2, 3, 3])\n",
    "g = dgl.graph((u, v))"
   ]
  },
  {
   "cell_type": "code",
   "execution_count": 3,
   "id": "1983b1c9-df7a-4877-b460-1a5f3b1400c4",
   "metadata": {},
   "outputs": [
    {
     "data": {
      "image/png": "[encoded data removed]",
      "text/plain": [
       "<Figure size 300x300 with 1 Axes>"
      ]
     },
     "metadata": {},
     "output_type": "display_data"
    }
   ],
   "source": [
    "options = {\n",
    "    'node_color': 'black',\n",
    "    'node_size': 20,\n",
    "    'width': 1,\n",
    "}\n",
    "\n",
    "G=dgl.to_networkx(g)\n",
    "usda_nw.G_drawing(G)"
   ]
  },
  {
   "cell_type": "code",
   "execution_count": 4,
   "id": "4e013e02-c182-442e-bf93-3f9af48d84a9",
   "metadata": {},
   "outputs": [
    {
     "data": {
      "text/plain": [
       "torch.int32"
      ]
     },
     "execution_count": 4,
     "metadata": {},
     "output_type": "execute_result"
    }
   ],
   "source": [
    "g=g.int()\n",
    "g.idtype"
   ]
  },
  {
   "cell_type": "code",
   "execution_count": 5,
   "id": "f44ee554-ca71-4855-90dd-09912bc4e43d",
   "metadata": {},
   "outputs": [],
   "source": [
    "g.ndata['x'] = th.ones(g.num_nodes(), 3) \n",
    "g.edata['x'] = th.ones(g.num_edges(), dtype=th.int32)\n",
    "g.ndata['y'] = th.randn(g.num_nodes(), 5)"
   ]
  },
  {
   "cell_type": "code",
   "execution_count": 6,
   "id": "2b9e2833-7bab-4719-ae64-ec591220ca32",
   "metadata": {},
   "outputs": [
    {
     "data": {
      "text/plain": [
       "Graph(num_nodes=4, num_edges=4,\n",
       "      ndata_schemes={'x': Scheme(shape=(3,), dtype=torch.float32), 'y': Scheme(shape=(5,), dtype=torch.float32)}\n",
       "      edata_schemes={'x': Scheme(shape=(), dtype=torch.int32)})"
      ]
     },
     "execution_count": 6,
     "metadata": {},
     "output_type": "execute_result"
    }
   ],
   "source": [
    "g"
   ]
  },
  {
   "cell_type": "code",
   "execution_count": 7,
   "id": "6613e7d9-4b47-43c1-b2d7-d0b9d4656b32",
   "metadata": {},
   "outputs": [
    {
     "data": {
      "text/plain": [
       "tensor([[ 2.0133, -0.9014,  0.0645, -0.2768, -1.4673],\n",
       "        [-0.0294, -0.3180,  0.5280, -0.8994, -0.0032],\n",
       "        [-2.7992, -0.2146, -0.6175, -0.5193, -1.2342],\n",
       "        [-0.6975, -0.0760, -0.6207,  0.6982,  0.8465]])"
      ]
     },
     "execution_count": 7,
     "metadata": {},
     "output_type": "execute_result"
    }
   ],
   "source": [
    "g.ndata['y']"
   ]
  },
  {
   "cell_type": "code",
   "execution_count": 8,
   "id": "3cc09b61-8073-4ac1-88ae-16260b80f310",
   "metadata": {},
   "outputs": [
    {
     "data": {
      "text/plain": [
       "tensor([1, 1], dtype=torch.int32)"
      ]
     },
     "execution_count": 8,
     "metadata": {},
     "output_type": "execute_result"
    }
   ],
   "source": [
    "g.edata['x'][[0, 3]]"
   ]
  },
  {
   "cell_type": "code",
   "execution_count": 9,
   "id": "4f12919f-a8f9-4a30-b974-d37551aa24ad",
   "metadata": {},
   "outputs": [
    {
     "data": {
      "text/plain": [
       "array([[0., 0., 0., ..., 0., 0., 0.],\n",
       "       [0., 0., 0., ..., 0., 0., 0.],\n",
       "       [0., 0., 0., ..., 0., 0., 0.],\n",
       "       ...,\n",
       "       [0., 0., 0., ..., 0., 0., 0.],\n",
       "       [0., 0., 0., ..., 0., 0., 0.],\n",
       "       [0., 0., 0., ..., 0., 0., 0.]])"
      ]
     },
     "execution_count": 9,
     "metadata": {},
     "output_type": "execute_result"
    }
   ],
   "source": [
    "spmat = sp.rand(100, 100, density=0.05)\n",
    "spmat.toarray()"
   ]
  },
  {
   "cell_type": "code",
   "execution_count": 10,
   "id": "3b9a5d0b-3bb3-47e1-bb0a-c4525ae1e018",
   "metadata": {},
   "outputs": [
    {
     "data": {
      "text/plain": [
       "Graph(num_nodes=100, num_edges=500,\n",
       "      ndata_schemes={}\n",
       "      edata_schemes={})"
      ]
     },
     "execution_count": 10,
     "metadata": {},
     "output_type": "execute_result"
    }
   ],
   "source": [
    "dgl.from_scipy(spmat) "
   ]
  },
  {
   "cell_type": "code",
   "execution_count": 11,
   "id": "9e8f39a2-5320-4ed1-b165-e0f969223c38",
   "metadata": {},
   "outputs": [
    {
     "name": "stdout",
     "output_type": "stream",
     "text": [
      "['disease', 'drug', 'gene'] ['interacts', 'interacts', 'treats'] [('drug', 'interacts', 'drug'), ('drug', 'interacts', 'gene'), ('drug', 'treats', 'disease')]\n"
     ]
    }
   ],
   "source": [
    "import dgl\n",
    "import torch as th\n",
    "# 创建一个具有3种节点类型和3种边类型的异构图\n",
    "graph_data = {\n",
    "   ('drug', 'interacts', 'drug'): (th.tensor([0, 1]), th.tensor([1, 2])),\n",
    "   ('drug', 'interacts', 'gene'): (th.tensor([0, 1]), th.tensor([2, 3])),\n",
    "   ('drug', 'treats', 'disease'): (th.tensor([1]), th.tensor([2]))\n",
    "}\n",
    "g = dgl.heterograph(graph_data)\n",
    "print(g.ntypes,g.etypes,g.canonical_etypes)"
   ]
  },
  {
   "cell_type": "code",
   "execution_count": 12,
   "id": "12def458-0693-48fe-b756-1e9906d5e9d0",
   "metadata": {},
   "outputs": [
    {
     "data": {
      "text/plain": [
       "Graph(num_nodes={'disease': 3, 'drug': 3, 'gene': 4},\n",
       "      num_edges={('drug', 'interacts', 'drug'): 2, ('drug', 'interacts', 'gene'): 2, ('drug', 'treats', 'disease'): 1},\n",
       "      metagraph=[('drug', 'drug', 'interacts'), ('drug', 'gene', 'interacts'), ('drug', 'disease', 'treats')])"
      ]
     },
     "execution_count": 12,
     "metadata": {},
     "output_type": "execute_result"
    }
   ],
   "source": [
    "g"
   ]
  },
  {
   "cell_type": "code",
   "execution_count": 13,
   "id": "12601693-79c7-45d5-9b03-082edde377fd",
   "metadata": {},
   "outputs": [
    {
     "data": {
      "text/plain": [
       "3"
      ]
     },
     "execution_count": 13,
     "metadata": {},
     "output_type": "execute_result"
    }
   ],
   "source": [
    "g.num_nodes('drug')"
   ]
  },
  {
   "cell_type": "code",
   "execution_count": 14,
   "id": "56b698ec-2671-4d83-b5ad-383db3f78adf",
   "metadata": {},
   "outputs": [
    {
     "name": "stdout",
     "output_type": "stream",
     "text": [
      "tensor([0, 1, 2]) tensor([0, 1, 2, 3]) tensor([0, 1, 2])\n"
     ]
    }
   ],
   "source": [
    "print(g.nodes('drug'),g.nodes('gene'),g.nodes('disease'))"
   ]
  },
  {
   "cell_type": "code",
   "execution_count": 15,
   "id": "25a69087-3a0a-4ba0-981d-549c14cb17c2",
   "metadata": {},
   "outputs": [],
   "source": [
    "g.nodes['drug'].data['hv'] = th.ones(3, 1)"
   ]
  },
  {
   "cell_type": "code",
   "execution_count": 16,
   "id": "dc3b9b37-3c81-4f99-9316-cdcb19fb9bd7",
   "metadata": {},
   "outputs": [
    {
     "data": {
      "text/plain": [
       "tensor([[1.],\n",
       "        [1.],\n",
       "        [1.]])"
      ]
     },
     "execution_count": 16,
     "metadata": {},
     "output_type": "execute_result"
    }
   ],
   "source": [
    "g.nodes['drug'].data['hv']"
   ]
  },
  {
   "cell_type": "code",
   "execution_count": 17,
   "id": "2dcb575f-7af7-4ab3-a815-fc7ac6b42412",
   "metadata": {},
   "outputs": [
    {
     "data": {
      "text/plain": [
       "NodeSpace(data={'hv': tensor([[1.],\n",
       "        [1.],\n",
       "        [1.]])})"
      ]
     },
     "execution_count": 17,
     "metadata": {},
     "output_type": "execute_result"
    }
   ],
   "source": [
    "g.nodes['drug']"
   ]
  },
  {
   "cell_type": "code",
   "execution_count": 18,
   "id": "b691553e-67de-4bc4-9711-0352e41e1782",
   "metadata": {},
   "outputs": [
    {
     "data": {
      "text/plain": [
       "device(type='cpu')"
      ]
     },
     "execution_count": 18,
     "metadata": {},
     "output_type": "execute_result"
    }
   ],
   "source": [
    "g.device"
   ]
  },
  {
   "cell_type": "code",
   "execution_count": 19,
   "id": "048ff553-ee18-4659-9e2b-929490167983",
   "metadata": {},
   "outputs": [
    {
     "data": {
      "text/plain": [
       "device(type='cuda', index=0)"
      ]
     },
     "execution_count": 19,
     "metadata": {},
     "output_type": "execute_result"
    }
   ],
   "source": [
    "g=g.to('cuda:0')\n",
    "g.device"
   ]
  },
  {
   "cell_type": "markdown",
   "id": "45c4db11-effc-4bbe-b1f2-e24a536ec091",
   "metadata": {},
   "source": [
    "nvidia-smi"
   ]
  },
  {
   "cell_type": "code",
   "execution_count": 26,
   "id": "ea170dbb-dc03-4ffb-a3af-f18cf916ebda",
   "metadata": {},
   "outputs": [
    {
     "data": {
      "text/plain": [
       "device(type='cuda', index=0)"
      ]
     },
     "execution_count": 26,
     "metadata": {},
     "output_type": "execute_result"
    }
   ],
   "source": [
    "g.ndata['hv']['drug'].device"
   ]
  },
  {
   "cell_type": "code",
   "execution_count": 33,
   "id": "b147fe94-b180-400f-9781-aafe0f31f485",
   "metadata": {},
   "outputs": [
    {
     "data": {
      "text/plain": [
       "Parameter containing:\n",
       "tensor([[1.5921e+03, 9.1785e-43, 0.0000e+00, 0.0000e+00, 0.0000e+00],\n",
       "        [0.0000e+00, 0.0000e+00, 0.0000e+00, 0.0000e+00, 0.0000e+00],\n",
       "        [0.0000e+00, 0.0000e+00, 0.0000e+00, 0.0000e+00, 0.0000e+00],\n",
       "        [0.0000e+00, 0.0000e+00, 0.0000e+00, 0.0000e+00, 0.0000e+00],\n",
       "        [0.0000e+00, 0.0000e+00, 0.0000e+00, 0.0000e+00, 0.0000e+00],\n",
       "        [0.0000e+00, 0.0000e+00, 0.0000e+00, 0.0000e+00, 0.0000e+00],\n",
       "        [0.0000e+00, 0.0000e+00, 0.0000e+00, 0.0000e+00, 0.0000e+00],\n",
       "        [0.0000e+00, 0.0000e+00, 0.0000e+00, 0.0000e+00, 0.0000e+00],\n",
       "        [0.0000e+00, 0.0000e+00, 0.0000e+00, 0.0000e+00, 0.0000e+00],\n",
       "        [0.0000e+00, 0.0000e+00, 0.0000e+00, 0.0000e+00, 0.0000e+00]],\n",
       "       requires_grad=True)"
      ]
     },
     "execution_count": 33,
     "metadata": {},
     "output_type": "execute_result"
    }
   ],
   "source": [
    "linear = nn.Parameter(torch.FloatTensor(size=(10, 5)))\n",
    "linear"
   ]
  },
  {
   "cell_type": "code",
   "execution_count": 34,
   "id": "f42daa6b-9126-4274-9238-8b9dfa2afbdc",
   "metadata": {},
   "outputs": [
    {
     "data": {
      "text/plain": [
       "torch.Size([10, 5])"
      ]
     },
     "execution_count": 34,
     "metadata": {},
     "output_type": "execute_result"
    }
   ],
   "source": [
    "linear.shape"
   ]
  },
  {
   "cell_type": "code",
   "execution_count": null,
   "id": "9df43533-416e-446d-8ec6-0f8e5c303dfd",
   "metadata": {},
   "outputs": [],
   "source": []
  }
 ],
 "metadata": {
  "kernelspec": {
   "display_name": "Python 3 (ipykernel)",
   "language": "python",
   "name": "python3"
  },
  "language_info": {
   "codemirror_mode": {
    "name": "ipython",
    "version": 3
   },
   "file_extension": ".py",
   "mimetype": "text/x-python",
   "name": "python",
   "nbconvert_exporter": "python",
   "pygments_lexer": "ipython3",
   "version": "3.11.5"
  }
 },
 "nbformat": 4,
 "nbformat_minor": 5
}
