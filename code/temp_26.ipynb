{
 "cells": [
  {
   "cell_type": "code",
   "execution_count": 28,
   "id": "330249bf-dcb6-486e-9515-e64888e86169",
   "metadata": {},
   "outputs": [],
   "source": [
    "import usda.network as usda_nw\n",
    "\n",
    "import dgl\n",
    "import torch as th\n",
    "import matplotlib.pyplot as plt\n",
    "import networkx as nx\n",
    "import scipy.sparse as sp\n",
    "import numpy as np\n",
    "\n",
    "import torch\n",
    "import torch.nn as nn"
   ]
  },
  {
   "cell_type": "code",
   "execution_count": 2,
   "id": "f3ffd429-83e6-456b-afb9-937168b36347",
   "metadata": {},
   "outputs": [],
   "source": [
    "u, v = th.tensor([0, 0, 0, 1]), th.tensor([1, 2, 3, 3])\n",
    "g = dgl.graph((u, v))"
   ]
  },
  {
   "cell_type": "code",
   "execution_count": 3,
   "id": "1983b1c9-df7a-4877-b460-1a5f3b1400c4",
   "metadata": {},
   "outputs": [
    {
     "data": {
      "image/png": "[encoded data removed]",
      "text/plain": [
       "<Figure size 300x300 with 1 Axes>"
      ]
     },
     "metadata": {},
     "output_type": "display_data"
    }
   ],
   "source": [
    "options = {\n",
    "    'node_color': 'black',\n",
    "    'node_size': 20,\n",
    "    'width': 1,\n",
    "}\n",
    "\n",
    "G=dgl.to_networkx(g)\n",
    "usda_nw.G_drawing(G)"
   ]
  },
  {
   "cell_type": "code",
   "execution_count": 4,
   "id": "4e013e02-c182-442e-bf93-3f9af48d84a9",
   "metadata": {},
   "outputs": [
    {
     "data": {
      "text/plain": [
       "torch.int32"
      ]
     },
     "execution_count": 4,
     "metadata": {},
     "output_type": "execute_result"
    }
   ],
   "source": [
    "g=g.int()\n",
    "g.idtype"
   ]
  },
  {
   "cell_type": "code",
   "execution_count": 5,
   "id": "f44ee554-ca71-4855-90dd-09912bc4e43d",
   "metadata": {},
   "outputs": [],
   "source": [
    "g.ndata['x'] = th.ones(g.num_nodes(), 3) \n",
    "g.edata['x'] = th.ones(g.num_edges(), dtype=th.int32)\n",
    "g.ndata['y'] = th.randn(g.num_nodes(), 5)"
   ]
  },
  {
   "cell_type": "code",
   "execution_count": 6,
   "id": "2b9e2833-7bab-4719-ae64-ec591220ca32",
   "metadata": {},
   "outputs": [
    {
     "data": {
      "text/plain": [
       "Graph(num_nodes=4, num_edges=4,\n",
       "      ndata_schemes={'x': Scheme(shape=(3,), dtype=torch.float32), 'y': Scheme(shape=(5,), dtype=torch.float32)}\n",
       "      edata_schemes={'x': Scheme(shape=(), dtype=torch.int32)})"
      ]
     },
     "execution_count": 6,
     "metadata": {},
     "output_type": "execute_result"
    }
   ],
   "source": [
    "g"
   ]
  },
  {
   "cell_type": "code",
   "execution_count": 7,
   "id": "6613e7d9-4b47-43c1-b2d7-d0b9d4656b32",
   "metadata": {},
   "outputs": [
    {
     "data": {
      "text/plain": [
       "tensor([[ 2.0133, -0.9014,  0.0645, -0.2768, -1.4673],\n",
       "        [-0.0294, -0.3180,  0.5280, -0.8994, -0.0032],\n",
       "        [-2.7992, -0.2146, -0.6175, -0.5193, -1.2342],\n",
       "        [-0.6975, -0.0760, -0.6207,  0.6982,  0.8465]])"
      ]
     },
     "execution_count": 7,
     "metadata": {},
     "output_type": "execute_result"
    }
   ],
   "source": [
    "g.ndata['y']"
   ]
  },
  {
   "cell_type": "code",
   "execution_count": 8,
   "id": "3cc09b61-8073-4ac1-88ae-16260b80f310",
   "metadata": {},
   "outputs": [
    {
     "data": {
      "text/plain": [
       "tensor([1, 1], dtype=torch.int32)"
      ]
     },
     "execution_count": 8,
     "metadata": {},
     "output_type": "execute_result"
    }
   ],
   "source": [
    "g.edata['x'][[0, 3]]"
   ]
  },
  {
   "cell_type": "code",
   "execution_count": 9,
   "id": "4f12919f-a8f9-4a30-b974-d37551aa24ad",
   "metadata": {},
   "outputs": [
    {
     "data": {
      "text/plain": [
       "array([[0., 0., 0., ..., 0., 0., 0.],\n",
       "       [0., 0., 0., ..., 0., 0., 0.],\n",
       "       [0., 0., 0., ..., 0., 0., 0.],\n",
       "       ...,\n",
       "       [0., 0., 0., ..., 0., 0., 0.],\n",
       "       [0., 0., 0., ..., 0., 0., 0.],\n",
       "       [0., 0., 0., ..., 0., 0., 0.]])"
      ]
     },
     "execution_count": 9,
     "metadata": {},
     "output_type": "execute_result"
    }
   ],
   "source": [
    "spmat = sp.rand(100, 100, density=0.05)\n",
    "spmat.toarray()"
   ]
  },
  {
   "cell_type": "code",
   "execution_count": 10,
   "id": "3b9a5d0b-3bb3-47e1-bb0a-c4525ae1e018",
   "metadata": {},
   "outputs": [
    {
     "data": {
      "text/plain": [
       "Graph(num_nodes=100, num_edges=500,\n",
       "      ndata_schemes={}\n",
       "      edata_schemes={})"
      ]
     },
     "execution_count": 10,
     "metadata": {},
     "output_type": "execute_result"
    }
   ],
   "source": [
    "dgl.from_scipy(spmat) "
   ]
  },
  {
   "cell_type": "code",
   "execution_count": 11,
   "id": "9e8f39a2-5320-4ed1-b165-e0f969223c38",
   "metadata": {},
   "outputs": [
    {
     "name": "stdout",
     "output_type": "stream",
     "text": [
      "['disease', 'drug', 'gene'] ['interacts', 'interacts', 'treats'] [('drug', 'interacts', 'drug'), ('drug', 'interacts', 'gene'), ('drug', 'treats', 'disease')]\n"
     ]
    }
   ],
   "source": [
    "import dgl\n",
    "import torch as th\n",
    "# 创建一个具有3种节点类型和3种边类型的异构图\n",
    "graph_data = {\n",
    "   ('drug', 'interacts', 'drug'): (th.tensor([0, 1]), th.tensor([1, 2])),\n",
    "   ('drug', 'interacts', 'gene'): (th.tensor([0, 1]), th.tensor([2, 3])),\n",
    "   ('drug', 'treats', 'disease'): (th.tensor([1]), th.tensor([2]))\n",
    "}\n",
    "g = dgl.heterograph(graph_data)\n",
    "print(g.ntypes,g.etypes,g.canonical_etypes)"
   ]
  },
  {
   "cell_type": "code",
   "execution_count": 12,
   "id": "12def458-0693-48fe-b756-1e9906d5e9d0",
   "metadata": {},
   "outputs": [
    {
     "data": {
      "text/plain": [
       "Graph(num_nodes={'disease': 3, 'drug': 3, 'gene': 4},\n",
       "      num_edges={('drug', 'interacts', 'drug'): 2, ('drug', 'interacts', 'gene'): 2, ('drug', 'treats', 'disease'): 1},\n",
       "      metagraph=[('drug', 'drug', 'interacts'), ('drug', 'gene', 'interacts'), ('drug', 'disease', 'treats')])"
      ]
     },
     "execution_count": 12,
     "metadata": {},
     "output_type": "execute_result"
    }
   ],
   "source": [
    "g"
   ]
  },
  {
   "cell_type": "code",
   "execution_count": 13,
   "id": "12601693-79c7-45d5-9b03-082edde377fd",
   "metadata": {},
   "outputs": [
    {
     "data": {
      "text/plain": [
       "3"
      ]
     },
     "execution_count": 13,
     "metadata": {},
     "output_type": "execute_result"
    }
   ],
   "source": [
    "g.num_nodes('drug')"
   ]
  },
  {
   "cell_type": "code",
   "execution_count": 14,
   "id": "56b698ec-2671-4d83-b5ad-383db3f78adf",
   "metadata": {},
   "outputs": [
    {
     "name": "stdout",
     "output_type": "stream",
     "text": [
      "tensor([0, 1, 2]) tensor([0, 1, 2, 3]) tensor([0, 1, 2])\n"
     ]
    }
   ],
   "source": [
    "print(g.nodes('drug'),g.nodes('gene'),g.nodes('disease'))"
   ]
  },
  {
   "cell_type": "code",
   "execution_count": 15,
   "id": "25a69087-3a0a-4ba0-981d-549c14cb17c2",
   "metadata": {},
   "outputs": [],
   "source": [
    "g.nodes['drug'].data['hv'] = th.ones(3, 1)"
   ]
  },
  {
   "cell_type": "code",
   "execution_count": 16,
   "id": "dc3b9b37-3c81-4f99-9316-cdcb19fb9bd7",
   "metadata": {},
   "outputs": [
    {
     "data": {
      "text/plain": [
       "tensor([[1.],\n",
       "        [1.],\n",
       "        [1.]])"
      ]
     },
     "execution_count": 16,
     "metadata": {},
     "output_type": "execute_result"
    }
   ],
   "source": [
    "g.nodes['drug'].data['hv']"
   ]
  },
  {
   "cell_type": "code",
   "execution_count": 17,
   "id": "2dcb575f-7af7-4ab3-a815-fc7ac6b42412",
   "metadata": {},
   "outputs": [
    {
     "data": {
      "text/plain": [
       "NodeSpace(data={'hv': tensor([[1.],\n",
       "        [1.],\n",
       "        [1.]])})"
      ]
     },
     "execution_count": 17,
     "metadata": {},
     "output_type": "execute_result"
    }
   ],
   "source": [
    "g.nodes['drug']"
   ]
  },
  {
   "cell_type": "code",
   "execution_count": 18,
   "id": "b691553e-67de-4bc4-9711-0352e41e1782",
   "metadata": {},
   "outputs": [
    {
     "data": {
      "text/plain": [
       "device(type='cpu')"
      ]
     },
     "execution_count": 18,
     "metadata": {},
     "output_type": "execute_result"
    }
   ],
   "source": [
    "g.device"
   ]
  },
  {
   "cell_type": "code",
   "execution_count": 19,
   "id": "048ff553-ee18-4659-9e2b-929490167983",
   "metadata": {},
   "outputs": [
    {
     "data": {
      "text/plain": [
       "device(type='cuda', index=0)"
      ]
     },
     "execution_count": 19,
     "metadata": {},
     "output_type": "execute_result"
    }
   ],
   "source": [
    "g=g.to('cuda:0')\n",
    "g.device"
   ]
  },
  {
   "cell_type": "markdown",
   "id": "45c4db11-effc-4bbe-b1f2-e24a536ec091",
   "metadata": {},
   "source": [
    "nvidia-smi"
   ]
  },
  {
   "cell_type": "code",
   "execution_count": 26,
   "id": "ea170dbb-dc03-4ffb-a3af-f18cf916ebda",
   "metadata": {},
   "outputs": [
    {
     "data": {
      "text/plain": [
       "device(type='cuda', index=0)"
      ]
     },
     "execution_count": 26,
     "metadata": {},
     "output_type": "execute_result"
    }
   ],
   "source": [
    "g.ndata['hv']['drug'].device"
   ]
  },
  {
   "cell_type": "code",
   "execution_count": 33,
   "id": "b147fe94-b180-400f-9781-aafe0f31f485",
   "metadata": {},
   "outputs": [
    {
     "data": {
      "text/plain": [
       "Parameter containing:\n",
       "tensor([[1.5921e+03, 9.1785e-43, 0.0000e+00, 0.0000e+00, 0.0000e+00],\n",
       "        [0.0000e+00, 0.0000e+00, 0.0000e+00, 0.0000e+00, 0.0000e+00],\n",
       "        [0.0000e+00, 0.0000e+00, 0.0000e+00, 0.0000e+00, 0.0000e+00],\n",
       "        [0.0000e+00, 0.0000e+00, 0.0000e+00, 0.0000e+00, 0.0000e+00],\n",
       "        [0.0000e+00, 0.0000e+00, 0.0000e+00, 0.0000e+00, 0.0000e+00],\n",
       "        [0.0000e+00, 0.0000e+00, 0.0000e+00, 0.0000e+00, 0.0000e+00],\n",
       "        [0.0000e+00, 0.0000e+00, 0.0000e+00, 0.0000e+00, 0.0000e+00],\n",
       "        [0.0000e+00, 0.0000e+00, 0.0000e+00, 0.0000e+00, 0.0000e+00],\n",
       "        [0.0000e+00, 0.0000e+00, 0.0000e+00, 0.0000e+00, 0.0000e+00],\n",
       "        [0.0000e+00, 0.0000e+00, 0.0000e+00, 0.0000e+00, 0.0000e+00]],\n",
       "       requires_grad=True)"
      ]
     },
     "execution_count": 33,
     "metadata": {},
     "output_type": "execute_result"
    }
   ],
   "source": [
    "linear = nn.Parameter(torch.FloatTensor(size=(10, 5)))\n",
    "linear"
   ]
  },
  {
   "cell_type": "code",
   "execution_count": 34,
   "id": "f42daa6b-9126-4274-9238-8b9dfa2afbdc",
   "metadata": {},
   "outputs": [
    {
     "data": {
      "text/plain": [
       "torch.Size([10, 5])"
      ]
     },
     "execution_count": 34,
     "metadata": {},
     "output_type": "execute_result"
    }
   ],
   "source": [
    "linear.shape"
   ]
  },
  {
   "cell_type": "markdown",
   "id": "50e1ce2f-b001-4d8d-bea2-cbe288f49eb4",
   "metadata": {},
   "source": [
    "---"
   ]
  },
  {
   "cell_type": "code",
   "execution_count": 1,
   "id": "25097acb-f51c-4493-8606-72a4bf90c7e5",
   "metadata": {},
   "outputs": [],
   "source": [
    "from torch_geometric.datasets import Planetoid\n",
    "from torch_geometric.datasets import FacebookPagePage\n",
    "\n",
    "import pandas as pd\n",
    "\n",
    "import torch\n",
    "torch.manual_seed(0)\n",
    "from torch.nn import Linear\n",
    "import torch.nn.functional as F\n",
    "from torch_geometric.utils import to_dense_adj"
   ]
  },
  {
   "cell_type": "code",
   "execution_count": 2,
   "id": "845f62a9-7b7d-459b-a157-085127e30026",
   "metadata": {},
   "outputs": [
    {
     "name": "stdout",
     "output_type": "stream",
     "text": [
      "Dataset: Cora()\n",
      "---------------\n",
      "Number of graphs: 1\n",
      "Number of nodes: 2708\n",
      "Number of features: 1433\n",
      "Number of classes: 7\n",
      "\n",
      "Graph:\n",
      "------\n",
      "Edges are directed: False\n",
      "Graph has isolated nodes: False\n",
      "Graph has loops: False\n"
     ]
    }
   ],
   "source": [
    "# Import dataset from PyTorch Geometric\n",
    "dataset = Planetoid(root=r\"C:\\Users\\richie\\omen_richiebao\\dataset\", name=\"Cora\")\n",
    "\n",
    "data = dataset[0]\n",
    "\n",
    "# Print information about the dataset\n",
    "print(f'Dataset: {dataset}')\n",
    "print('---------------')\n",
    "print(f'Number of graphs: {len(dataset)}')\n",
    "print(f'Number of nodes: {data.x.shape[0]}')\n",
    "print(f'Number of features: {dataset.num_features}')\n",
    "print(f'Number of classes: {dataset.num_classes}')\n",
    "\n",
    "# Print information about the graph\n",
    "print(f'\\nGraph:')\n",
    "print('------')\n",
    "print(f'Edges are directed: {data.is_directed()}')\n",
    "print(f'Graph has isolated nodes: {data.has_isolated_nodes()}')\n",
    "print(f'Graph has loops: {data.has_self_loops()}')"
   ]
  },
  {
   "cell_type": "code",
   "execution_count": 4,
   "id": "d2f7f137-5e6d-46e4-b624-1d43b5cac126",
   "metadata": {},
   "outputs": [
    {
     "data": {
      "text/plain": [
       "Data(x=[2708, 1433], edge_index=[2, 10556], y=[2708], train_mask=[2708], val_mask=[2708], test_mask=[2708])"
      ]
     },
     "execution_count": 4,
     "metadata": {},
     "output_type": "execute_result"
    }
   ],
   "source": [
    "dataset[0]"
   ]
  },
  {
   "cell_type": "code",
   "execution_count": 3,
   "id": "725d57d1-f6ed-437a-95ed-31fbd4489b5f",
   "metadata": {},
   "outputs": [
    {
     "name": "stdout",
     "output_type": "stream",
     "text": [
      "Dataset: FacebookPagePage()\n",
      "-----------------------\n",
      "Number of graphs: 1\n",
      "Number of nodes: 22470\n",
      "Number of features: 128\n",
      "Number of classes: 4\n",
      "\n",
      "Graph:\n",
      "------\n",
      "Edges are directed: False\n",
      "Graph has isolated nodes: False\n",
      "Graph has loops: True\n"
     ]
    }
   ],
   "source": [
    "# Import dataset from PyTorch Geometric\n",
    "dataset = FacebookPagePage(root=r\"C:\\Users\\richie\\omen_richiebao\\dataset\")\n",
    "\n",
    "data = dataset[0]\n",
    "\n",
    "# Print information about the dataset\n",
    "print(f'Dataset: {dataset}')\n",
    "print('-----------------------')\n",
    "print(f'Number of graphs: {len(dataset)}')\n",
    "print(f'Number of nodes: {data.x.shape[0]}')\n",
    "print(f'Number of features: {dataset.num_features}')\n",
    "print(f'Number of classes: {dataset.num_classes}')\n",
    "\n",
    "# Print information about the graph\n",
    "print(f'\\nGraph:')\n",
    "print('------')\n",
    "print(f'Edges are directed: {data.is_directed()}')\n",
    "print(f'Graph has isolated nodes: {data.has_isolated_nodes()}')\n",
    "print(f'Graph has loops: {data.has_self_loops()}')\n",
    "\n",
    "# Create masks\n",
    "data.train_mask = range(18000)\n",
    "data.val_mask = range(18001, 20000)\n",
    "data.test_mask = range(20001, 22470)"
   ]
  },
  {
   "cell_type": "code",
   "execution_count": 4,
   "id": "8153a68c-551b-4523-9215-2c78280e885d",
   "metadata": {},
   "outputs": [
    {
     "data": {
      "text/html": [
       "<div>\n",
       "<style scoped>\n",
       "    .dataframe tbody tr th:only-of-type {\n",
       "        vertical-align: middle;\n",
       "    }\n",
       "\n",
       "    .dataframe tbody tr th {\n",
       "        vertical-align: top;\n",
       "    }\n",
       "\n",
       "    .dataframe thead th {\n",
       "        text-align: right;\n",
       "    }\n",
       "</style>\n",
       "<table border=\"1\" class=\"dataframe\">\n",
       "  <thead>\n",
       "    <tr style=\"text-align: right;\">\n",
       "      <th></th>\n",
       "      <th>0</th>\n",
       "      <th>1</th>\n",
       "      <th>2</th>\n",
       "      <th>3</th>\n",
       "      <th>4</th>\n",
       "      <th>5</th>\n",
       "      <th>6</th>\n",
       "      <th>7</th>\n",
       "      <th>8</th>\n",
       "      <th>9</th>\n",
       "      <th>...</th>\n",
       "      <th>119</th>\n",
       "      <th>120</th>\n",
       "      <th>121</th>\n",
       "      <th>122</th>\n",
       "      <th>123</th>\n",
       "      <th>124</th>\n",
       "      <th>125</th>\n",
       "      <th>126</th>\n",
       "      <th>127</th>\n",
       "      <th>label</th>\n",
       "    </tr>\n",
       "  </thead>\n",
       "  <tbody>\n",
       "    <tr>\n",
       "      <th>0</th>\n",
       "      <td>-0.262576</td>\n",
       "      <td>-0.276483</td>\n",
       "      <td>-0.262350</td>\n",
       "      <td>-0.299327</td>\n",
       "      <td>-0.299159</td>\n",
       "      <td>-0.270681</td>\n",
       "      <td>-0.307757</td>\n",
       "      <td>-0.269733</td>\n",
       "      <td>-0.25101</td>\n",
       "      <td>-0.308343</td>\n",
       "      <td>...</td>\n",
       "      <td>-0.273229</td>\n",
       "      <td>-0.223700</td>\n",
       "      <td>-0.284379</td>\n",
       "      <td>-0.224216</td>\n",
       "      <td>-0.209509</td>\n",
       "      <td>-0.255755</td>\n",
       "      <td>-0.215140</td>\n",
       "      <td>-0.375903</td>\n",
       "      <td>-0.223836</td>\n",
       "      <td>0</td>\n",
       "    </tr>\n",
       "    <tr>\n",
       "      <th>1</th>\n",
       "      <td>-0.262576</td>\n",
       "      <td>-0.276483</td>\n",
       "      <td>-0.262350</td>\n",
       "      <td>-0.299327</td>\n",
       "      <td>-0.299159</td>\n",
       "      <td>-0.270681</td>\n",
       "      <td>-0.307757</td>\n",
       "      <td>-0.269733</td>\n",
       "      <td>-0.25101</td>\n",
       "      <td>-0.308343</td>\n",
       "      <td>...</td>\n",
       "      <td>-0.234818</td>\n",
       "      <td>-0.223700</td>\n",
       "      <td>-0.284379</td>\n",
       "      <td>-0.197935</td>\n",
       "      <td>-0.147256</td>\n",
       "      <td>-0.255755</td>\n",
       "      <td>-0.215140</td>\n",
       "      <td>-0.364134</td>\n",
       "      <td>-0.128634</td>\n",
       "      <td>2</td>\n",
       "    </tr>\n",
       "    <tr>\n",
       "      <th>2</th>\n",
       "      <td>-0.262576</td>\n",
       "      <td>-0.265053</td>\n",
       "      <td>-0.262350</td>\n",
       "      <td>-0.299327</td>\n",
       "      <td>-0.299159</td>\n",
       "      <td>-0.270681</td>\n",
       "      <td>-0.307757</td>\n",
       "      <td>-0.210461</td>\n",
       "      <td>-0.25101</td>\n",
       "      <td>3.222161</td>\n",
       "      <td>...</td>\n",
       "      <td>-0.273229</td>\n",
       "      <td>-0.223700</td>\n",
       "      <td>-0.284379</td>\n",
       "      <td>-0.224216</td>\n",
       "      <td>-0.209509</td>\n",
       "      <td>-0.255755</td>\n",
       "      <td>-0.215140</td>\n",
       "      <td>-0.375903</td>\n",
       "      <td>-0.223836</td>\n",
       "      <td>1</td>\n",
       "    </tr>\n",
       "    <tr>\n",
       "      <th>3</th>\n",
       "      <td>-0.246378</td>\n",
       "      <td>-0.276483</td>\n",
       "      <td>-0.241991</td>\n",
       "      <td>-0.299327</td>\n",
       "      <td>-0.299159</td>\n",
       "      <td>-0.270681</td>\n",
       "      <td>-0.307051</td>\n",
       "      <td>-0.269733</td>\n",
       "      <td>-0.25101</td>\n",
       "      <td>-0.308343</td>\n",
       "      <td>...</td>\n",
       "      <td>-0.273229</td>\n",
       "      <td>-0.223700</td>\n",
       "      <td>-0.265534</td>\n",
       "      <td>-0.080353</td>\n",
       "      <td>-0.209509</td>\n",
       "      <td>-0.250560</td>\n",
       "      <td>-0.180260</td>\n",
       "      <td>-0.375903</td>\n",
       "      <td>-0.223836</td>\n",
       "      <td>2</td>\n",
       "    </tr>\n",
       "    <tr>\n",
       "      <th>4</th>\n",
       "      <td>-0.262576</td>\n",
       "      <td>-0.276483</td>\n",
       "      <td>-0.262350</td>\n",
       "      <td>-0.299327</td>\n",
       "      <td>-0.299159</td>\n",
       "      <td>-0.270681</td>\n",
       "      <td>-0.307757</td>\n",
       "      <td>-0.269733</td>\n",
       "      <td>-0.25101</td>\n",
       "      <td>-0.308343</td>\n",
       "      <td>...</td>\n",
       "      <td>-0.273229</td>\n",
       "      <td>-0.175312</td>\n",
       "      <td>-0.272613</td>\n",
       "      <td>-0.224216</td>\n",
       "      <td>-0.181153</td>\n",
       "      <td>-0.255755</td>\n",
       "      <td>-0.215140</td>\n",
       "      <td>-0.370639</td>\n",
       "      <td>-0.223836</td>\n",
       "      <td>3</td>\n",
       "    </tr>\n",
       "    <tr>\n",
       "      <th>...</th>\n",
       "      <td>...</td>\n",
       "      <td>...</td>\n",
       "      <td>...</td>\n",
       "      <td>...</td>\n",
       "      <td>...</td>\n",
       "      <td>...</td>\n",
       "      <td>...</td>\n",
       "      <td>...</td>\n",
       "      <td>...</td>\n",
       "      <td>...</td>\n",
       "      <td>...</td>\n",
       "      <td>...</td>\n",
       "      <td>...</td>\n",
       "      <td>...</td>\n",
       "      <td>...</td>\n",
       "      <td>...</td>\n",
       "      <td>...</td>\n",
       "      <td>...</td>\n",
       "      <td>...</td>\n",
       "      <td>...</td>\n",
       "      <td>...</td>\n",
       "    </tr>\n",
       "    <tr>\n",
       "      <th>22465</th>\n",
       "      <td>-0.262576</td>\n",
       "      <td>-0.276483</td>\n",
       "      <td>-0.262350</td>\n",
       "      <td>-0.296955</td>\n",
       "      <td>-0.299159</td>\n",
       "      <td>-0.270681</td>\n",
       "      <td>-0.307757</td>\n",
       "      <td>-0.269733</td>\n",
       "      <td>-0.25101</td>\n",
       "      <td>-0.308343</td>\n",
       "      <td>...</td>\n",
       "      <td>-0.273229</td>\n",
       "      <td>-0.223700</td>\n",
       "      <td>-0.284379</td>\n",
       "      <td>-0.224216</td>\n",
       "      <td>-0.209509</td>\n",
       "      <td>-0.255755</td>\n",
       "      <td>-0.196685</td>\n",
       "      <td>-0.370115</td>\n",
       "      <td>-0.223836</td>\n",
       "      <td>3</td>\n",
       "    </tr>\n",
       "    <tr>\n",
       "      <th>22466</th>\n",
       "      <td>-0.262576</td>\n",
       "      <td>-0.276483</td>\n",
       "      <td>-0.262350</td>\n",
       "      <td>-0.299327</td>\n",
       "      <td>-0.299159</td>\n",
       "      <td>-0.270681</td>\n",
       "      <td>-0.307757</td>\n",
       "      <td>-0.269733</td>\n",
       "      <td>-0.25101</td>\n",
       "      <td>-0.308343</td>\n",
       "      <td>...</td>\n",
       "      <td>-0.273229</td>\n",
       "      <td>-0.221643</td>\n",
       "      <td>-0.284379</td>\n",
       "      <td>-0.224216</td>\n",
       "      <td>-0.209509</td>\n",
       "      <td>-0.255755</td>\n",
       "      <td>-0.215140</td>\n",
       "      <td>-0.375903</td>\n",
       "      <td>-0.223836</td>\n",
       "      <td>1</td>\n",
       "    </tr>\n",
       "    <tr>\n",
       "      <th>22467</th>\n",
       "      <td>-0.262576</td>\n",
       "      <td>-0.276483</td>\n",
       "      <td>-0.262350</td>\n",
       "      <td>-0.299327</td>\n",
       "      <td>-0.299159</td>\n",
       "      <td>-0.270681</td>\n",
       "      <td>-0.307757</td>\n",
       "      <td>-0.269733</td>\n",
       "      <td>-0.25101</td>\n",
       "      <td>-0.308343</td>\n",
       "      <td>...</td>\n",
       "      <td>-0.273229</td>\n",
       "      <td>-0.223700</td>\n",
       "      <td>-0.284379</td>\n",
       "      <td>-0.224216</td>\n",
       "      <td>-0.146793</td>\n",
       "      <td>-0.255755</td>\n",
       "      <td>-0.180389</td>\n",
       "      <td>-0.372097</td>\n",
       "      <td>-0.222613</td>\n",
       "      <td>2</td>\n",
       "    </tr>\n",
       "    <tr>\n",
       "      <th>22468</th>\n",
       "      <td>-0.262576</td>\n",
       "      <td>-0.276483</td>\n",
       "      <td>-0.262350</td>\n",
       "      <td>-0.299327</td>\n",
       "      <td>-0.299159</td>\n",
       "      <td>-0.270681</td>\n",
       "      <td>-0.307668</td>\n",
       "      <td>-0.269733</td>\n",
       "      <td>-0.25101</td>\n",
       "      <td>-0.308343</td>\n",
       "      <td>...</td>\n",
       "      <td>-0.273229</td>\n",
       "      <td>-0.223700</td>\n",
       "      <td>-0.284379</td>\n",
       "      <td>-0.224216</td>\n",
       "      <td>-0.209509</td>\n",
       "      <td>-0.252456</td>\n",
       "      <td>-0.215140</td>\n",
       "      <td>-0.375903</td>\n",
       "      <td>-0.218148</td>\n",
       "      <td>1</td>\n",
       "    </tr>\n",
       "    <tr>\n",
       "      <th>22469</th>\n",
       "      <td>-0.232275</td>\n",
       "      <td>-0.276483</td>\n",
       "      <td>-0.262350</td>\n",
       "      <td>-0.299327</td>\n",
       "      <td>-0.299159</td>\n",
       "      <td>-0.270681</td>\n",
       "      <td>-0.293968</td>\n",
       "      <td>-0.269733</td>\n",
       "      <td>-0.25101</td>\n",
       "      <td>-0.308343</td>\n",
       "      <td>...</td>\n",
       "      <td>-0.273229</td>\n",
       "      <td>-0.223700</td>\n",
       "      <td>-0.284379</td>\n",
       "      <td>-0.224216</td>\n",
       "      <td>-0.147672</td>\n",
       "      <td>-0.255755</td>\n",
       "      <td>-0.195858</td>\n",
       "      <td>-0.375903</td>\n",
       "      <td>-0.221275</td>\n",
       "      <td>0</td>\n",
       "    </tr>\n",
       "  </tbody>\n",
       "</table>\n",
       "<p>22470 rows × 129 columns</p>\n",
       "</div>"
      ],
      "text/plain": [
       "              0         1         2         3         4         5         6  \\\n",
       "0     -0.262576 -0.276483 -0.262350 -0.299327 -0.299159 -0.270681 -0.307757   \n",
       "1     -0.262576 -0.276483 -0.262350 -0.299327 -0.299159 -0.270681 -0.307757   \n",
       "2     -0.262576 -0.265053 -0.262350 -0.299327 -0.299159 -0.270681 -0.307757   \n",
       "3     -0.246378 -0.276483 -0.241991 -0.299327 -0.299159 -0.270681 -0.307051   \n",
       "4     -0.262576 -0.276483 -0.262350 -0.299327 -0.299159 -0.270681 -0.307757   \n",
       "...         ...       ...       ...       ...       ...       ...       ...   \n",
       "22465 -0.262576 -0.276483 -0.262350 -0.296955 -0.299159 -0.270681 -0.307757   \n",
       "22466 -0.262576 -0.276483 -0.262350 -0.299327 -0.299159 -0.270681 -0.307757   \n",
       "22467 -0.262576 -0.276483 -0.262350 -0.299327 -0.299159 -0.270681 -0.307757   \n",
       "22468 -0.262576 -0.276483 -0.262350 -0.299327 -0.299159 -0.270681 -0.307668   \n",
       "22469 -0.232275 -0.276483 -0.262350 -0.299327 -0.299159 -0.270681 -0.293968   \n",
       "\n",
       "              7        8         9  ...       119       120       121  \\\n",
       "0     -0.269733 -0.25101 -0.308343  ... -0.273229 -0.223700 -0.284379   \n",
       "1     -0.269733 -0.25101 -0.308343  ... -0.234818 -0.223700 -0.284379   \n",
       "2     -0.210461 -0.25101  3.222161  ... -0.273229 -0.223700 -0.284379   \n",
       "3     -0.269733 -0.25101 -0.308343  ... -0.273229 -0.223700 -0.265534   \n",
       "4     -0.269733 -0.25101 -0.308343  ... -0.273229 -0.175312 -0.272613   \n",
       "...         ...      ...       ...  ...       ...       ...       ...   \n",
       "22465 -0.269733 -0.25101 -0.308343  ... -0.273229 -0.223700 -0.284379   \n",
       "22466 -0.269733 -0.25101 -0.308343  ... -0.273229 -0.221643 -0.284379   \n",
       "22467 -0.269733 -0.25101 -0.308343  ... -0.273229 -0.223700 -0.284379   \n",
       "22468 -0.269733 -0.25101 -0.308343  ... -0.273229 -0.223700 -0.284379   \n",
       "22469 -0.269733 -0.25101 -0.308343  ... -0.273229 -0.223700 -0.284379   \n",
       "\n",
       "            122       123       124       125       126       127  label  \n",
       "0     -0.224216 -0.209509 -0.255755 -0.215140 -0.375903 -0.223836      0  \n",
       "1     -0.197935 -0.147256 -0.255755 -0.215140 -0.364134 -0.128634      2  \n",
       "2     -0.224216 -0.209509 -0.255755 -0.215140 -0.375903 -0.223836      1  \n",
       "3     -0.080353 -0.209509 -0.250560 -0.180260 -0.375903 -0.223836      2  \n",
       "4     -0.224216 -0.181153 -0.255755 -0.215140 -0.370639 -0.223836      3  \n",
       "...         ...       ...       ...       ...       ...       ...    ...  \n",
       "22465 -0.224216 -0.209509 -0.255755 -0.196685 -0.370115 -0.223836      3  \n",
       "22466 -0.224216 -0.209509 -0.255755 -0.215140 -0.375903 -0.223836      1  \n",
       "22467 -0.224216 -0.146793 -0.255755 -0.180389 -0.372097 -0.222613      2  \n",
       "22468 -0.224216 -0.209509 -0.252456 -0.215140 -0.375903 -0.218148      1  \n",
       "22469 -0.224216 -0.147672 -0.255755 -0.195858 -0.375903 -0.221275      0  \n",
       "\n",
       "[22470 rows x 129 columns]"
      ]
     },
     "execution_count": 4,
     "metadata": {},
     "output_type": "execute_result"
    }
   ],
   "source": [
    "df_x = pd.DataFrame(data.x.numpy())\n",
    "df_x['label'] = pd.DataFrame(data.y)\n",
    "df_x"
   ]
  },
  {
   "cell_type": "code",
   "execution_count": 5,
   "id": "ad19f3f6-0cfd-436d-8254-46339e538fa3",
   "metadata": {},
   "outputs": [],
   "source": [
    "def accuracy(y_pred, y_true):\n",
    "    \"\"\"Calculate accuracy.\"\"\"\n",
    "    return torch.sum(y_pred == y_true) / len(y_true)"
   ]
  },
  {
   "cell_type": "code",
   "execution_count": 6,
   "id": "7fec920b-48ab-4cf9-8895-c20e4fc4201e",
   "metadata": {},
   "outputs": [],
   "source": [
    "class MLP(torch.nn.Module):\n",
    "    \"\"\"Multilayer Perceptron\"\"\"\n",
    "    def __init__(self, dim_in, dim_h, dim_out):\n",
    "        super().__init__()\n",
    "        self.linear1 = Linear(dim_in, dim_h)\n",
    "        self.linear2 = Linear(dim_h, dim_out)\n",
    "\n",
    "    def forward(self, x):\n",
    "        x = self.linear1(x)\n",
    "        x = torch.relu(x)\n",
    "        x = self.linear2(x)\n",
    "        return F.log_softmax(x, dim=1)\n",
    "\n",
    "    def fit(self, data, epochs):\n",
    "        criterion = torch.nn.CrossEntropyLoss()\n",
    "        optimizer = torch.optim.Adam(self.parameters(),\n",
    "                                          lr=0.01,\n",
    "                                          weight_decay=5e-4)\n",
    "\n",
    "        self.train()\n",
    "        for epoch in range(epochs+1):\n",
    "            optimizer.zero_grad()\n",
    "            out = self(data.x)\n",
    "            loss = criterion(out[data.train_mask], data.y[data.train_mask])\n",
    "            acc = accuracy(out[data.train_mask].argmax(dim=1),\n",
    "                          data.y[data.train_mask])\n",
    "            loss.backward()\n",
    "            optimizer.step()\n",
    "\n",
    "            if(epoch % 20 == 0):\n",
    "                val_loss = criterion(out[data.val_mask], data.y[data.val_mask])\n",
    "                val_acc = accuracy(out[data.val_mask].argmax(dim=1),\n",
    "                                  data.y[data.val_mask])\n",
    "                print(f'Epoch {epoch:>3} | Train Loss: {loss:.3f} | Train Acc:'\n",
    "                      f' {acc*100:>5.2f}% | Val Loss: {val_loss:.2f} | '\n",
    "                      f'Val Acc: {val_acc*100:.2f}%')\n",
    "\n",
    "    @torch.no_grad()      \n",
    "    def test(self, data):\n",
    "        self.eval()\n",
    "        out = self(data.x)\n",
    "        acc = accuracy(out.argmax(dim=1)[data.test_mask], data.y[data.test_mask])\n",
    "        return acc\n"
   ]
  },
  {
   "cell_type": "code",
   "execution_count": 20,
   "id": "e0fa05f1-72ab-41c8-888c-787b35e16b63",
   "metadata": {},
   "outputs": [
    {
     "name": "stdout",
     "output_type": "stream",
     "text": [
      "MLP(\n",
      "  (linear1): Linear(in_features=1433, out_features=16, bias=True)\n",
      "  (linear2): Linear(in_features=16, out_features=7, bias=True)\n",
      ")\n",
      "Epoch   0 | Train Loss: 1.950 | Train Acc: 17.86% | Val Loss: 1.94 | Val Acc: 12.80%\n",
      "Epoch  20 | Train Loss: 0.097 | Train Acc: 100.00% | Val Loss: 1.47 | Val Acc: 54.40%\n",
      "Epoch  40 | Train Loss: 0.012 | Train Acc: 100.00% | Val Loss: 1.60 | Val Acc: 53.20%\n",
      "Epoch  60 | Train Loss: 0.007 | Train Acc: 100.00% | Val Loss: 1.62 | Val Acc: 50.20%\n",
      "Epoch  80 | Train Loss: 0.008 | Train Acc: 100.00% | Val Loss: 1.51 | Val Acc: 50.40%\n",
      "Epoch 100 | Train Loss: 0.009 | Train Acc: 100.00% | Val Loss: 1.45 | Val Acc: 53.20%\n",
      "Epoch 120 | Train Loss: 0.008 | Train Acc: 100.00% | Val Loss: 1.42 | Val Acc: 54.20%\n",
      "Epoch 140 | Train Loss: 0.008 | Train Acc: 100.00% | Val Loss: 1.41 | Val Acc: 54.20%\n",
      "Epoch 160 | Train Loss: 0.007 | Train Acc: 100.00% | Val Loss: 1.39 | Val Acc: 53.60%\n",
      "Epoch 180 | Train Loss: 0.007 | Train Acc: 100.00% | Val Loss: 1.39 | Val Acc: 54.20%\n",
      "Epoch 200 | Train Loss: 0.006 | Train Acc: 100.00% | Val Loss: 1.38 | Val Acc: 54.40%\n",
      "Epoch 220 | Train Loss: 0.006 | Train Acc: 100.00% | Val Loss: 1.37 | Val Acc: 54.40%\n",
      "Epoch 240 | Train Loss: 0.006 | Train Acc: 100.00% | Val Loss: 1.37 | Val Acc: 54.40%\n",
      "Epoch 260 | Train Loss: 0.005 | Train Acc: 100.00% | Val Loss: 1.36 | Val Acc: 54.60%\n",
      "Epoch 280 | Train Loss: 0.005 | Train Acc: 100.00% | Val Loss: 1.36 | Val Acc: 54.80%\n",
      "Epoch 300 | Train Loss: 0.005 | Train Acc: 100.00% | Val Loss: 1.36 | Val Acc: 55.00%\n",
      "Epoch 320 | Train Loss: 0.005 | Train Acc: 100.00% | Val Loss: 1.36 | Val Acc: 55.00%\n",
      "Epoch 340 | Train Loss: 0.005 | Train Acc: 100.00% | Val Loss: 1.36 | Val Acc: 55.00%\n",
      "Epoch 360 | Train Loss: 0.005 | Train Acc: 100.00% | Val Loss: 1.36 | Val Acc: 55.00%\n",
      "Epoch 380 | Train Loss: 0.004 | Train Acc: 100.00% | Val Loss: 1.36 | Val Acc: 54.80%\n",
      "Epoch 400 | Train Loss: 0.004 | Train Acc: 100.00% | Val Loss: 1.36 | Val Acc: 55.20%\n",
      "Epoch 420 | Train Loss: 0.004 | Train Acc: 100.00% | Val Loss: 1.36 | Val Acc: 55.00%\n",
      "Epoch 440 | Train Loss: 0.004 | Train Acc: 100.00% | Val Loss: 1.36 | Val Acc: 55.00%\n",
      "Epoch 460 | Train Loss: 0.004 | Train Acc: 100.00% | Val Loss: 1.36 | Val Acc: 54.60%\n",
      "Epoch 480 | Train Loss: 0.004 | Train Acc: 100.00% | Val Loss: 1.36 | Val Acc: 54.60%\n",
      "Epoch 500 | Train Loss: 0.004 | Train Acc: 100.00% | Val Loss: 1.36 | Val Acc: 54.00%\n",
      "Epoch 520 | Train Loss: 0.004 | Train Acc: 100.00% | Val Loss: 1.36 | Val Acc: 54.00%\n",
      "Epoch 540 | Train Loss: 0.004 | Train Acc: 100.00% | Val Loss: 1.36 | Val Acc: 53.80%\n",
      "Epoch 560 | Train Loss: 0.004 | Train Acc: 100.00% | Val Loss: 1.36 | Val Acc: 53.80%\n",
      "Epoch 580 | Train Loss: 0.004 | Train Acc: 100.00% | Val Loss: 1.37 | Val Acc: 53.80%\n",
      "Epoch 600 | Train Loss: 0.004 | Train Acc: 100.00% | Val Loss: 1.37 | Val Acc: 53.80%\n",
      "Epoch 620 | Train Loss: 0.004 | Train Acc: 100.00% | Val Loss: 1.37 | Val Acc: 53.60%\n",
      "Epoch 640 | Train Loss: 0.004 | Train Acc: 100.00% | Val Loss: 1.37 | Val Acc: 53.60%\n",
      "Epoch 660 | Train Loss: 0.004 | Train Acc: 100.00% | Val Loss: 1.37 | Val Acc: 53.60%\n",
      "Epoch 680 | Train Loss: 0.004 | Train Acc: 100.00% | Val Loss: 1.37 | Val Acc: 53.60%\n",
      "Epoch 700 | Train Loss: 0.004 | Train Acc: 100.00% | Val Loss: 1.37 | Val Acc: 53.60%\n",
      "Epoch 720 | Train Loss: 0.004 | Train Acc: 100.00% | Val Loss: 1.37 | Val Acc: 53.60%\n",
      "Epoch 740 | Train Loss: 0.004 | Train Acc: 100.00% | Val Loss: 1.37 | Val Acc: 53.60%\n",
      "Epoch 760 | Train Loss: 0.004 | Train Acc: 100.00% | Val Loss: 1.37 | Val Acc: 53.40%\n",
      "Epoch 780 | Train Loss: 0.004 | Train Acc: 100.00% | Val Loss: 1.37 | Val Acc: 53.40%\n",
      "Epoch 800 | Train Loss: 0.004 | Train Acc: 100.00% | Val Loss: 1.38 | Val Acc: 53.40%\n",
      "Epoch 820 | Train Loss: 0.004 | Train Acc: 100.00% | Val Loss: 1.38 | Val Acc: 53.40%\n",
      "Epoch 840 | Train Loss: 0.004 | Train Acc: 100.00% | Val Loss: 1.38 | Val Acc: 53.40%\n",
      "Epoch 860 | Train Loss: 0.004 | Train Acc: 100.00% | Val Loss: 1.38 | Val Acc: 53.40%\n",
      "Epoch 880 | Train Loss: 0.004 | Train Acc: 100.00% | Val Loss: 1.38 | Val Acc: 53.40%\n",
      "Epoch 900 | Train Loss: 0.004 | Train Acc: 100.00% | Val Loss: 1.38 | Val Acc: 53.60%\n",
      "Epoch 920 | Train Loss: 0.004 | Train Acc: 100.00% | Val Loss: 1.38 | Val Acc: 53.60%\n",
      "Epoch 940 | Train Loss: 0.004 | Train Acc: 100.00% | Val Loss: 1.38 | Val Acc: 53.60%\n",
      "Epoch 960 | Train Loss: 0.003 | Train Acc: 100.00% | Val Loss: 1.38 | Val Acc: 53.60%\n",
      "Epoch 980 | Train Loss: 0.003 | Train Acc: 100.00% | Val Loss: 1.38 | Val Acc: 53.40%\n",
      "Epoch 1000 | Train Loss: 0.003 | Train Acc: 100.00% | Val Loss: 1.38 | Val Acc: 53.60%\n",
      "\n",
      "MLP test accuracy: 56.50%\n"
     ]
    }
   ],
   "source": [
    "# Create MLP model\n",
    "mlp = MLP(dataset.num_features, 16, dataset.num_classes)\n",
    "print(mlp)\n",
    "\n",
    "# Train\n",
    "mlp.fit(data, epochs=1000)\n",
    "\n",
    "# Test\n",
    "acc = mlp.test(data)\n",
    "print(f'\\nMLP test accuracy: {acc*100:.2f}%')"
   ]
  },
  {
   "cell_type": "code",
   "execution_count": 7,
   "id": "e0144d8f-4ed3-4e32-b825-2173ce47f9ae",
   "metadata": {},
   "outputs": [],
   "source": [
    "class VanillaGNNLayer(torch.nn.Module):\n",
    "    def __init__(self, dim_in, dim_out):\n",
    "        super().__init__()\n",
    "        self.linear = Linear(dim_in, dim_out, bias=False)\n",
    "\n",
    "    def forward(self, x, adjacency):\n",
    "        x = self.linear(x)\n",
    "        x = torch.sparse.mm(adjacency, x)\n",
    "        return x"
   ]
  },
  {
   "cell_type": "code",
   "execution_count": 8,
   "id": "d3dbb24d-e8ed-4fc1-a96d-314bb96bc607",
   "metadata": {},
   "outputs": [
    {
     "data": {
      "text/plain": [
       "tensor([[1., 0., 0.,  ..., 0., 0., 0.],\n",
       "        [0., 1., 0.,  ..., 0., 0., 0.],\n",
       "        [0., 0., 1.,  ..., 0., 0., 0.],\n",
       "        ...,\n",
       "        [0., 0., 0.,  ..., 1., 0., 0.],\n",
       "        [0., 0., 0.,  ..., 0., 1., 0.],\n",
       "        [0., 0., 0.,  ..., 0., 0., 1.]])"
      ]
     },
     "execution_count": 8,
     "metadata": {},
     "output_type": "execute_result"
    }
   ],
   "source": [
    "adjacency = to_dense_adj(data.edge_index)[0]\n",
    "adjacency += torch.eye(len(adjacency))\n",
    "adjacency"
   ]
  },
  {
   "cell_type": "code",
   "execution_count": 14,
   "id": "b112e43c-51d6-4bf0-995d-718cf82eb096",
   "metadata": {},
   "outputs": [
    {
     "data": {
      "text/plain": [
       "tensor(35.)"
      ]
     },
     "execution_count": 14,
     "metadata": {},
     "output_type": "execute_result"
    }
   ],
   "source": [
    "adjacency[1].sum()"
   ]
  },
  {
   "cell_type": "code",
   "execution_count": null,
   "id": "69268164-7cfd-4da3-89de-da3dfd63fcca",
   "metadata": {},
   "outputs": [],
   "source": []
  },
  {
   "cell_type": "code",
   "execution_count": null,
   "id": "ffd0fefb-09d2-46d3-8f10-bd96943718a0",
   "metadata": {},
   "outputs": [],
   "source": []
  },
  {
   "cell_type": "code",
   "execution_count": 9,
   "id": "10adfd36-fff9-4a2b-b93e-9d22b0be3c21",
   "metadata": {},
   "outputs": [
    {
     "data": {
      "text/plain": [
       "torch.Size([22470, 22470])"
      ]
     },
     "execution_count": 9,
     "metadata": {},
     "output_type": "execute_result"
    }
   ],
   "source": [
    "adjacency.shape"
   ]
  },
  {
   "cell_type": "code",
   "execution_count": 10,
   "id": "42977d7f-f414-49c8-9d96-85408bcfd9a5",
   "metadata": {},
   "outputs": [],
   "source": [
    "class VanillaGNN(torch.nn.Module):\n",
    "    \"\"\"Vanilla Graph Neural Network\"\"\"\n",
    "    def __init__(self, dim_in, dim_h, dim_out):\n",
    "        super().__init__()\n",
    "        self.gnn1 = VanillaGNNLayer(dim_in, dim_h)\n",
    "        self.gnn2 = VanillaGNNLayer(dim_h, dim_out)\n",
    "\n",
    "    def forward(self, x, adjacency):\n",
    "        h = self.gnn1(x, adjacency)\n",
    "        h = torch.relu(h)\n",
    "        h = self.gnn2(h, adjacency)\n",
    "        return F.log_softmax(h, dim=1)\n",
    "\n",
    "    def fit(self, data, epochs):\n",
    "        criterion = torch.nn.CrossEntropyLoss()\n",
    "        optimizer = torch.optim.Adam(self.parameters(),\n",
    "                                      lr=0.01,\n",
    "                                      weight_decay=5e-4)\n",
    "\n",
    "        self.train()\n",
    "        for epoch in range(epochs+1):\n",
    "            optimizer.zero_grad()\n",
    "            out = self(data.x, adjacency)\n",
    "            loss = criterion(out[data.train_mask], data.y[data.train_mask])\n",
    "            acc = accuracy(out[data.train_mask].argmax(dim=1),\n",
    "                          data.y[data.train_mask])\n",
    "            loss.backward()\n",
    "            optimizer.step()\n",
    "\n",
    "            if(epoch % 20 == 0):\n",
    "                val_loss = criterion(out[data.val_mask], data.y[data.val_mask])\n",
    "                val_acc = accuracy(out[data.val_mask].argmax(dim=1),\n",
    "                                  data.y[data.val_mask])\n",
    "                print(f'Epoch {epoch:>3} | Train Loss: {loss:.3f} | Train Acc:'\n",
    "                      f' {acc*100:>5.2f}% | Val Loss: {val_loss:.2f} | '\n",
    "                      f'Val Acc: {val_acc*100:.2f}%')\n",
    "\n",
    "    @torch.no_grad()\n",
    "    def test(self, data):\n",
    "        self.eval()\n",
    "        out = self(data.x, adjacency)\n",
    "        acc = accuracy(out.argmax(dim=1)[data.test_mask], data.y[data.test_mask])\n",
    "        return acc"
   ]
  },
  {
   "cell_type": "code",
   "execution_count": 11,
   "id": "78742a1c-c524-4111-9350-78f48702606c",
   "metadata": {},
   "outputs": [
    {
     "data": {
      "text/plain": [
       "torch.Size([22470, 128])"
      ]
     },
     "execution_count": 11,
     "metadata": {},
     "output_type": "execute_result"
    }
   ],
   "source": [
    "data.x.shape"
   ]
  },
  {
   "cell_type": "code",
   "execution_count": 27,
   "id": "f3fe1d29-142e-42cb-a314-e97e1fb6a953",
   "metadata": {},
   "outputs": [
    {
     "name": "stdout",
     "output_type": "stream",
     "text": [
      "VanillaGNN(\n",
      "  (gnn1): VanillaGNNLayer(\n",
      "    (linear): Linear(in_features=1433, out_features=16, bias=False)\n",
      "  )\n",
      "  (gnn2): VanillaGNNLayer(\n",
      "    (linear): Linear(in_features=16, out_features=7, bias=False)\n",
      "  )\n",
      ")\n",
      "Epoch   0 | Train Loss: 2.039 | Train Acc: 16.43% | Val Loss: 2.10 | Val Acc: 8.80%\n",
      "Epoch  20 | Train Loss: 0.025 | Train Acc: 100.00% | Val Loss: 2.20 | Val Acc: 74.40%\n",
      "Epoch  40 | Train Loss: 0.003 | Train Acc: 100.00% | Val Loss: 2.95 | Val Acc: 73.20%\n",
      "Epoch  60 | Train Loss: 0.001 | Train Acc: 100.00% | Val Loss: 3.04 | Val Acc: 73.80%\n",
      "Epoch  80 | Train Loss: 0.001 | Train Acc: 100.00% | Val Loss: 2.96 | Val Acc: 74.20%\n",
      "Epoch 100 | Train Loss: 0.001 | Train Acc: 100.00% | Val Loss: 2.89 | Val Acc: 74.40%\n",
      "\n",
      "GNN test accuracy: 75.10%\n"
     ]
    }
   ],
   "source": [
    "# Create the Vanilla GNN model\n",
    "gnn = VanillaGNN(dataset.num_features, 16, dataset.num_classes)\n",
    "print(gnn)\n",
    "\n",
    "# Train\n",
    "gnn.fit(data, epochs=100)\n",
    "\n",
    "# Test\n",
    "acc = gnn.test(data)\n",
    "print(f'\\nGNN test accuracy: {acc*100:.2f}%')"
   ]
  },
  {
   "cell_type": "code",
   "execution_count": null,
   "id": "766b3458-9923-4f97-875f-6d8ac463b188",
   "metadata": {},
   "outputs": [],
   "source": []
  },
  {
   "cell_type": "code",
   "execution_count": null,
   "id": "2309e948-8de5-4b9a-8f6b-7eb9d90cf5cc",
   "metadata": {},
   "outputs": [],
   "source": []
  },
  {
   "cell_type": "code",
   "execution_count": null,
   "id": "ec48648c-c0f7-4376-a8fe-3ffb81c99b44",
   "metadata": {},
   "outputs": [],
   "source": []
  },
  {
   "cell_type": "code",
   "execution_count": null,
   "id": "d3056945-dfaf-42bf-a5a7-69b016f964ff",
   "metadata": {},
   "outputs": [],
   "source": []
  },
  {
   "cell_type": "code",
   "execution_count": null,
   "id": "3a22745e-ec2d-4f84-9864-fee9d6998c4c",
   "metadata": {},
   "outputs": [],
   "source": []
  },
  {
   "cell_type": "code",
   "execution_count": null,
   "id": "c810986f-04bd-4ba7-954d-34682229632d",
   "metadata": {},
   "outputs": [],
   "source": []
  },
  {
   "cell_type": "code",
   "execution_count": 6,
   "id": "50c41364-397e-48db-b739-8c0006adfa2e",
   "metadata": {},
   "outputs": [
    {
     "data": {
      "text/plain": [
       "Data(x=[3, 1], edge_index=[2, 4])"
      ]
     },
     "execution_count": 6,
     "metadata": {},
     "output_type": "execute_result"
    }
   ],
   "source": [
    "import torch\n",
    "from torch_geometric.data import Data\n",
    "\n",
    "edge_index = torch.tensor([[0, 1, 1, 2],\n",
    "                           [1, 0, 2, 1]], dtype=torch.long)\n",
    "x = torch.tensor([[-1], [0], [1]], dtype=torch.float)\n",
    "\n",
    "data = Data(x=x, edge_index=edge_index)\n",
    "data"
   ]
  },
  {
   "cell_type": "code",
   "execution_count": 7,
   "id": "17d13907-3f30-4a0f-a109-d2d70656563c",
   "metadata": {},
   "outputs": [
    {
     "data": {
      "text/plain": [
       "1433"
      ]
     },
     "execution_count": 7,
     "metadata": {},
     "output_type": "execute_result"
    }
   ],
   "source": [
    "dataset.num_features"
   ]
  },
  {
   "cell_type": "markdown",
   "id": "9221a97b-899a-450d-8464-d119ccdab056",
   "metadata": {},
   "source": [
    "---"
   ]
  },
  {
   "cell_type": "code",
   "execution_count": 63,
   "id": "c6367449-dd00-46f7-97f5-16eccfd7d19e",
   "metadata": {},
   "outputs": [
    {
     "data": {
      "text/html": [
       "\n",
       "        <iframe\n",
       "            width=\"100%\"\n",
       "            height=\"650\"\n",
       "            src=\"http://127.0.0.1:8050/\"\n",
       "            frameborder=\"0\"\n",
       "            allowfullscreen\n",
       "            \n",
       "        ></iframe>\n",
       "        "
      ],
      "text/plain": [
       "<IPython.lib.display.IFrame at 0x2afa199b7d0>"
      ]
     },
     "metadata": {},
     "output_type": "display_data"
    }
   ],
   "source": [
    "\"\"\"\n",
    "Original Demo: http://js.cytoscape.org/demos/cose-layout/\n",
    "\n",
    "Note: This implementation looks different from the original implementation,\n",
    "although the input parameters are exactly the same.\n",
    "\"\"\"\n",
    "import requests\n",
    "import json\n",
    "\n",
    "from dash import Dash, html, Input, Output, callback\n",
    "import dash_cytoscape as cyto\n",
    "\n",
    "def load_json(st):\n",
    "    if 'http' in st:\n",
    "        return requests.get(st).json()\n",
    "    else:\n",
    "        with open(st, 'rb') as f:\n",
    "            x = json.load(f)\n",
    "        return x\n",
    "\n",
    "app = Dash(__name__)\n",
    "server = app.server\n",
    "\n",
    "# Load Data\n",
    "elements = load_json('https://js.cytoscape.org/demos/colajs-graph/data.json')\n",
    "stylesheet = load_json('https://js.cytoscape.org/demos/colajs-graph/cy-style.json')\n",
    "\n",
    "styles = {\n",
    "    'container': {\n",
    "        'position': 'fixed',\n",
    "        'display': 'flex',\n",
    "        'flex-direction': 'column',\n",
    "        'height': '100%',\n",
    "        'width': '100%'\n",
    "    },\n",
    "    'cy-container': {\n",
    "        'flex': '1',\n",
    "        'position': 'relative'\n",
    "    },\n",
    "    'cytoscape': {\n",
    "        'position': 'absolute',\n",
    "        'width': '100%',\n",
    "        'height': '100%',\n",
    "        'z-index': 999\n",
    "    }\n",
    "}\n",
    "\n",
    "# App\n",
    "app.layout = html.Div(style=styles['container'], children=[\n",
    "    html.Div([\n",
    "        html.Button(\"Responsive Toggle\", id='toggle-button'),\n",
    "        html.Div(id='toggle-text')\n",
    "    ]),\n",
    "    html.Div(className='cy-container', style=styles['cy-container'], children=[\n",
    "        cyto.Cytoscape(\n",
    "            id='cytoscape-responsive-layout',\n",
    "            elements=elements,\n",
    "            stylesheet=stylesheet,\n",
    "            style=styles['cytoscape'],\n",
    "            layout={\n",
    "                'name': 'cose',\n",
    "                'idealEdgeLength': 100,\n",
    "                'nodeOverlap': 20,\n",
    "                'refresh': 20,\n",
    "                'fit': True,\n",
    "                'padding': 30,\n",
    "                'randomize': False,\n",
    "                'componentSpacing': 100,\n",
    "                'nodeRepulsion': 400000,\n",
    "                'edgeElasticity': 100,\n",
    "                'nestingFactor': 5,\n",
    "                'gravity': 80,\n",
    "                'numIter': 1000,\n",
    "                'initialTemp': 200,\n",
    "                'coolingFactor': 0.95,\n",
    "                'minTemp': 1.0\n",
    "            },\n",
    "            responsive=True\n",
    "        )\n",
    "    ])\n",
    "])\n",
    "\n",
    "@callback(Output('cytoscape', 'responsive'), Input('toggle-button', 'n_clicks'))\n",
    "def toggle_responsive(n_clicks):\n",
    "    n_clicks = 2 if n_clicks is None else n_clicks\n",
    "    toggle_on = n_clicks % 2 == 0\n",
    "    return toggle_on\n",
    "\n",
    "@callback(Output('toggle-text', 'children'), Input('cytoscape', 'responsive'))\n",
    "def update_toggle_text(responsive):\n",
    "    return '\\t' + 'Responsive ' + ('On' if responsive else 'Off')\n",
    "\n",
    "if __name__ == '__main__':\n",
    "    app.run(debug=True)"
   ]
  },
  {
   "cell_type": "code",
   "execution_count": 3,
   "id": "682a2921-b642-49b0-916a-014f8158ecd8",
   "metadata": {},
   "outputs": [
    {
     "data": {
      "text/html": [
       "\n",
       "        <iframe\n",
       "            width=\"100%\"\n",
       "            height=\"650\"\n",
       "            src=\"http://127.0.0.1:8050/\"\n",
       "            frameborder=\"0\"\n",
       "            allowfullscreen\n",
       "            \n",
       "        ></iframe>\n",
       "        "
      ],
      "text/plain": [
       "<IPython.lib.display.IFrame at 0x152cb8d4890>"
      ]
     },
     "metadata": {},
     "output_type": "display_data"
    }
   ],
   "source": [
    "import json\n",
    "\n",
    "from dash import Dash, html, Input, Output, callback\n",
    "import dash_cytoscape as cyto\n",
    "\n",
    "app = Dash(__name__)\n",
    "\n",
    "styles = {\n",
    "    'pre': {\n",
    "        'border': 'thin lightgrey solid',\n",
    "        'overflowX': 'scroll'\n",
    "    }\n",
    "}\n",
    "\n",
    "\n",
    "nodes = [\n",
    "    {\n",
    "        'data': {'id': short, 'label': label},\n",
    "        'position': {'x': 20*lat, 'y': -20*long}\n",
    "    }\n",
    "    for short, label, long, lat in (\n",
    "        ('la', 'Los Angeles', 34.03, -118.25),\n",
    "        ('nyc', 'New York', 40.71, -74),\n",
    "        ('to', 'Toronto', 43.65, -79.38),\n",
    "        ('mtl', 'Montreal', 45.50, -73.57),\n",
    "        ('van', 'Vancouver', 49.28, -123.12),\n",
    "        ('chi', 'Chicago', 41.88, -87.63),\n",
    "        ('bos', 'Boston', 42.36, -71.06),\n",
    "        ('hou', 'Houston', 29.76, -95.37)\n",
    "    )\n",
    "]\n",
    "\n",
    "edges = [\n",
    "    {'data': {'source': source, 'target': target}}\n",
    "    for source, target in (\n",
    "        ('van', 'la'),\n",
    "        ('la', 'chi'),\n",
    "        ('hou', 'chi'),\n",
    "        ('to', 'mtl'),\n",
    "        ('mtl', 'bos'),\n",
    "        ('nyc', 'bos'),\n",
    "        ('to', 'hou'),\n",
    "        ('to', 'nyc'),\n",
    "        ('la', 'nyc'),\n",
    "        ('nyc', 'bos')\n",
    "    )\n",
    "]\n",
    "\n",
    "\n",
    "default_stylesheet = [\n",
    "    {\n",
    "        'selector': 'node',\n",
    "        'style': {\n",
    "            'background-color': '#BFD7B5',\n",
    "            'label': 'data(label)'\n",
    "        }\n",
    "    }\n",
    "]\n",
    "\n",
    "\n",
    "app.layout = html.Div([\n",
    "    cyto.Cytoscape(\n",
    "        id='cytoscape-event-callbacks-1',\n",
    "        layout={'name': 'preset'},\n",
    "        elements=edges+nodes,\n",
    "        stylesheet=default_stylesheet,\n",
    "        style={'width': '100%', 'height': '450px'}\n",
    "    ),\n",
    "    html.Pre(id='cytoscape-tapNodeData-json', style=styles['pre'])\n",
    "])\n",
    "\n",
    "\n",
    "@callback(Output('cytoscape-tapNodeData-json', 'children'),\n",
    "              Input('cytoscape-event-callbacks-1', 'tapNodeData'))\n",
    "def displayTapNodeData(data):\n",
    "    return json.dumps(data, indent=2)\n",
    "\n",
    "\n",
    "if __name__ == '__main__':\n",
    "    app.run(debug=True)\n"
   ]
  },
  {
   "cell_type": "code",
   "execution_count": 1,
   "id": "74307fec-ab4c-4cdf-bf0e-e42f7817cb59",
   "metadata": {},
   "outputs": [
    {
     "data": {
      "text/html": [
       "\n",
       "        <iframe\n",
       "            width=\"100%\"\n",
       "            height=\"650\"\n",
       "            src=\"http://127.0.0.1:8050/\"\n",
       "            frameborder=\"0\"\n",
       "            allowfullscreen\n",
       "            \n",
       "        ></iframe>\n",
       "        "
      ],
      "text/plain": [
       "<IPython.lib.display.IFrame at 0x1c2151e39d0>"
      ]
     },
     "metadata": {},
     "output_type": "display_data"
    }
   ],
   "source": [
    "from dash import Dash, html, Input, Output, callback\n",
    "import dash_cytoscape as cyto\n",
    "\n",
    "app = Dash(__name__)\n",
    "\n",
    "styles = {\n",
    "    'pre': {\n",
    "        'border': 'thin lightgrey solid',\n",
    "        'overflowX': 'scroll'\n",
    "    }\n",
    "}\n",
    "\n",
    "\n",
    "nodes = [\n",
    "    {\n",
    "        'data': {'id': short, 'label': label},\n",
    "        'position': {'x': 20*lat, 'y': -20*long}\n",
    "    }\n",
    "    for short, label, long, lat in (\n",
    "        ('la', 'Los Angeles', 34.03, -118.25),\n",
    "        ('nyc', 'New York', 40.71, -74),\n",
    "        ('to', 'Toronto', 43.65, -79.38),\n",
    "        ('mtl', 'Montreal', 45.50, -73.57),\n",
    "        ('van', 'Vancouver', 49.28, -123.12),\n",
    "        ('chi', 'Chicago', 41.88, -87.63),\n",
    "        ('bos', 'Boston', 42.36, -71.06),\n",
    "        ('hou', 'Houston', 29.76, -95.37)\n",
    "    )\n",
    "]\n",
    "\n",
    "edges = [\n",
    "    {'data': {'source': source, 'target': target}}\n",
    "    for source, target in (\n",
    "        ('van', 'la'),\n",
    "        ('la', 'chi'),\n",
    "        ('hou', 'chi'),\n",
    "        ('to', 'mtl'),\n",
    "        ('mtl', 'bos'),\n",
    "        ('nyc', 'bos'),\n",
    "        ('to', 'hou'),\n",
    "        ('to', 'nyc'),\n",
    "        ('la', 'nyc'),\n",
    "        ('nyc', 'bos')\n",
    "    )\n",
    "]\n",
    "\n",
    "\n",
    "default_stylesheet = [\n",
    "    {\n",
    "        'selector': 'node',\n",
    "        'style': {\n",
    "            'background-color': '#BFD7B5',\n",
    "            'label': 'data(label)'\n",
    "        }\n",
    "    }\n",
    "]\n",
    "\n",
    "\n",
    "app.layout = html.Div([\n",
    "    cyto.Cytoscape(\n",
    "        id='cytoscape-event-callbacks-2',\n",
    "        layout={'name': 'preset'},\n",
    "        elements=edges+nodes,\n",
    "        stylesheet=default_stylesheet,\n",
    "        style={'width': '100%', 'height': '450px'}\n",
    "    ),\n",
    "    html.P(id='cytoscape-tapNodeData-output'),\n",
    "    html.P(id='cytoscape-tapEdgeData-output'),\n",
    "    html.P(id='cytoscape-mouseoverNodeData-output'),\n",
    "    html.P(id='cytoscape-mouseoverEdgeData-output')\n",
    "])\n",
    "\n",
    "\n",
    "@callback(Output('cytoscape-tapNodeData-output', 'children'),\n",
    "              Input('cytoscape-event-callbacks-2', 'tapNodeData'))\n",
    "def displayTapNodeData(data):\n",
    "    if data:\n",
    "        return \"You recently clicked/tapped the city: \" + data['label']\n",
    "\n",
    "\n",
    "@callback(Output('cytoscape-tapEdgeData-output', 'children'),\n",
    "              Input('cytoscape-event-callbacks-2', 'tapEdgeData'))\n",
    "def displayTapEdgeData(data):\n",
    "    if data:\n",
    "        return \"You recently clicked/tapped the edge between \" + \\\n",
    "               data['source'].upper() + \" and \" + data['target'].upper()\n",
    "\n",
    "\n",
    "@callback(Output('cytoscape-mouseoverNodeData-output', 'children'),\n",
    "              Input('cytoscape-event-callbacks-2', 'mouseoverNodeData'))\n",
    "def displayTapNodeData(data):\n",
    "    if data:\n",
    "        return \"You recently hovered over the city: \" + data['label']\n",
    "\n",
    "\n",
    "@callback(Output('cytoscape-mouseoverEdgeData-output', 'children'),\n",
    "              Input('cytoscape-event-callbacks-2', 'mouseoverEdgeData'))\n",
    "def displayTapEdgeData(data):\n",
    "    if data:\n",
    "        return \"You recently hovered over the edge between \" + \\\n",
    "               data['source'].upper() + \" and \" + data['target'].upper()\n",
    "\n",
    "\n",
    "if __name__ == '__main__':\n",
    "    app.run(debug=True)\n"
   ]
  },
  {
   "cell_type": "code",
   "execution_count": null,
   "id": "aba8e8b5-1b4e-4362-95ec-228b9105ddc5",
   "metadata": {},
   "outputs": [],
   "source": []
  },
  {
   "cell_type": "code",
   "execution_count": null,
   "id": "031673fe-fbbe-4b5e-9c69-8765144ce8b2",
   "metadata": {},
   "outputs": [],
   "source": []
  },
  {
   "cell_type": "code",
   "execution_count": null,
   "id": "cddcdd9e-1458-43f8-9203-690732499821",
   "metadata": {},
   "outputs": [],
   "source": []
  },
  {
   "cell_type": "code",
   "execution_count": null,
   "id": "ef98a9bc-ce2c-4a6f-a21d-a7030814395d",
   "metadata": {},
   "outputs": [],
   "source": []
  },
  {
   "cell_type": "code",
   "execution_count": null,
   "id": "96c60ae2-5b84-4883-935a-2aa19959b60d",
   "metadata": {},
   "outputs": [],
   "source": []
  },
  {
   "cell_type": "code",
   "execution_count": null,
   "id": "ad40d54c-dcfd-4fa8-a112-18b35356dba4",
   "metadata": {},
   "outputs": [],
   "source": []
  },
  {
   "cell_type": "code",
   "execution_count": null,
   "id": "9552b093-c4a5-4414-a8a6-93fac491ea3c",
   "metadata": {},
   "outputs": [],
   "source": []
  }
 ],
 "metadata": {
  "kernelspec": {
   "display_name": "Python 3 (ipykernel)",
   "language": "python",
   "name": "python3"
  },
  "language_info": {
   "codemirror_mode": {
    "name": "ipython",
    "version": 3
   },
   "file_extension": ".py",
   "mimetype": "text/x-python",
   "name": "python",
   "nbconvert_exporter": "python",
   "pygments_lexer": "ipython3",
   "version": "3.11.5"
  }
 },
 "nbformat": 4,
 "nbformat_minor": 5
}
