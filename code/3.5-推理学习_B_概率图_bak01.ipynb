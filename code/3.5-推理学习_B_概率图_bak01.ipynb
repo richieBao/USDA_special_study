{
 "cells": [
  {
   "cell_type": "markdown",
   "id": "c7d32e6e-36b0-4856-b0a9-c4cc34ea43f2",
   "metadata": {},
   "source": [
    "> Created on Mon May  8 08:34:55 2023 @author: Richie Bao-caDesign设计(cadesign.cn)"
   ]
  },
  {
   "cell_type": "markdown",
   "id": "22a1d979-1820-4e84-91d5-470d332ff994",
   "metadata": {},
   "source": [
    "# 3.5-B 推理学习：概率图\n",
    "\n",
    "\n",
    "## 3.5.1 基于概率模型的分类器\n",
    "\n",
    "对于多维随机变量，且之间相互独立，如果可以由已知样本（特征）和对应的事件（分类）得每一随机变量的概率密度函数（边缘密度函数）或联合分布律，并以观测到的随机变量为条件计算后验分布，则可以用这个后验分布预测新样本的分类。例如对鸢尾花（iris）数据集，分布用[Skearn（scikit-learn）](https://scikit-learn.org/stable/modules/naive_bayes.html)的`GaussianNB`方法，和自定义高斯朴素贝叶斯分类器阐述连续型随机变量概率模型的构建；并将鸢尾花数据集连续型随机变量转化为离散型随机变量，构建用于离散型随机变量分类的概率模型。\n",
    "\n",
    "### 3.5.1.1 连续型随机变量分类器\n",
    "\n",
    "`Sklearn`的`Naive Bayes`（朴素贝叶斯）目前集成了\"Gaussian Naive Bayes\"、\"Multinomial Naive Bayes\"、\"Complement Naive Bayes\"、\"Bernoulli Naive Bayes\"和\"Categorical Naive Bayes\"等算法。下面应用`GaussianNB`试验。\n",
    "\n",
    "#### 1）`scikit-learn`的`GaussianNB`\n",
    "\n",
    "\n"
   ]
  },
  {
   "cell_type": "code",
   "execution_count": 29,
   "id": "df654cdd-07ba-45a5-8978-e4f4522be054",
   "metadata": {
    "tags": []
   },
   "outputs": [],
   "source": [
    "import daft\n",
    "from pgmpy.factors.discrete import TabularCPD\n",
    "from pgmpy.models import BayesianModel\n",
    "\n",
    "from sklearn.datasets import load_iris\n",
    "from sklearn.model_selection import train_test_split\n",
    "from sklearn.naive_bayes import GaussianNB\n",
    "from sklearn import tree\n",
    "from sklearn import preprocessing\n",
    "\n",
    "import numpy as np\n",
    "from scipy.special import logsumexp\n",
    "import pandas as pd\n",
    "from scipy.stats import norm\n",
    "\n",
    "from sympy.stats import P, E, variance, Die, Normal,density\n",
    "from sympy import simplify,Symbol,lambdify"
   ]
  },
  {
   "cell_type": "markdown",
   "id": "542cfde5-6508-4ab3-896f-72d01c3bd011",
   "metadata": {},
   "source": [
    "读取鸢尾花数据集，打印查看数据集情况。总共有4个特征列（'sepal length (cm)', 'sepal width (cm)', 'petal length (cm)', 'petal width (cm)'），每一特征对应一个随机变量，为多维随机变量。数据含3种分类结果（'setosa' 'versicolor' 'virginica'），分别对应标签0、1和2。"
   ]
  },
  {
   "cell_type": "code",
   "execution_count": 41,
   "id": "c3bf7701-7a68-4c7e-b89a-b2d8edcb225b",
   "metadata": {
    "tags": []
   },
   "outputs": [
    {
     "name": "stdout",
     "output_type": "stream",
     "text": [
      "---feature names:\n",
      "['sepal length (cm)', 'sepal width (cm)', 'petal length (cm)', 'petal width (cm)'];\n",
      "---target names['setosa' 'versicolor' 'virginica']\n",
      "---data[:3]:\n",
      "[[5.1 3.5 1.4 0.2]\n",
      " [4.9 3.  1.4 0.2]\n",
      " [4.7 3.2 1.3 0.2]];\n",
      "---target:\n",
      "[0 0 0 0 0 0 0 0 0 0 0 0 0 0 0 0 0 0 0 0 0 0 0 0 0 0 0 0 0 0 0 0 0 0 0 0 0\n",
      " 0 0 0 0 0 0 0 0 0 0 0 0 0 1 1 1 1 1 1 1 1 1 1 1 1 1 1 1 1 1 1 1 1 1 1 1 1\n",
      " 1 1 1 1 1 1 1 1 1 1 1 1 1 1 1 1 1 1 1 1 1 1 1 1 1 1 2 2 2 2 2 2 2 2 2 2 2\n",
      " 2 2 2 2 2 2 2 2 2 2 2 2 2 2 2 2 2 2 2 2 2 2 2 2 2 2 2 2 2 2 2 2 2 2 2 2 2\n",
      " 2 2]\n"
     ]
    }
   ],
   "source": [
    "iris=load_iris()\n",
    "print(f'---feature names:\\n{iris.feature_names};\\n---target names{iris.target_names}\\n---data[:3]:\\n{iris.data[:3]};\\n---target:\\n{iris.target}')"
   ]
  },
  {
   "cell_type": "markdown",
   "id": "7998c4c4-3296-4e88-b707-035dfb81beac",
   "metadata": {},
   "source": [
    "直接使用集成的`GaussianNB`算法估计概率模型，并用该模型测试数据集75个观测样本，正确率为$(75-4)/75=0.946$。"
   ]
  },
  {
   "cell_type": "code",
   "execution_count": 44,
   "id": "15748ee6-d30a-4b40-8c3f-8655381f16c0",
   "metadata": {
    "tags": []
   },
   "outputs": [
    {
     "name": "stdout",
     "output_type": "stream",
     "text": [
      "Number of mislabeled points out of a total 75 points : 4\n"
     ]
    }
   ],
   "source": [
    "X, y=load_iris(return_X_y=True)\n",
    "X_train, X_test, y_train, y_test=train_test_split(X, y, test_size=0.5, random_state=0)\n",
    "gnb=GaussianNB()\n",
    "y_pred=gnb.fit(X_train, y_train).predict(X_test)\n",
    "print(\"Number of mislabeled points out of a total %d points : %d\" % (X_test.shape[0], (y_test != y_pred).sum()))"
   ]
  },
  {
   "cell_type": "markdown",
   "id": "cdeff780-88bf-48e0-8c15-70e9fc3884ae",
   "metadata": {},
   "source": [
    "使用集成封装后的方法不能够直接观察计算的过程，因此提取`GaussianNB`方法的主要代码行，整理如下。其中`update_mean_variance`方法用于计算用于高斯分布的样本特征均值和方差。`joint_log_likelihood`方法用于构建联合对数概率估计（joint log probability estimates）。\n",
    "\n",
    "> `GaussianNB`方法位于`Sklearn`包的`naive_bayes.py`模块下。"
   ]
  },
  {
   "cell_type": "code",
   "execution_count": 58,
   "id": "10bfbe1c-a8e0-437e-8c1f-6d4cc9a13574",
   "metadata": {
    "tags": []
   },
   "outputs": [],
   "source": [
    "def update_mean_variance(n_past, mu, var, X):\n",
    "    if X.shape[0] == 0:\n",
    "        return mu, var\n",
    "    \n",
    "    n_new=X.shape[0]\n",
    "    new_var=np.var(X, axis=0)\n",
    "    new_mu=np.mean(X, axis=0)\n",
    "    \n",
    "    if n_past == 0:\n",
    "        return new_mu, new_var    \n",
    "    \n",
    "    n_total=float(n_past + n_new)\n",
    "    total_mu=(n_new * new_mu + n_past * mu) / n_total\n",
    "    old_ssd=n_past * var\n",
    "    new_ssd=n_new * new_var\n",
    "    total_ssd=old_ssd + new_ssd + (n_new * n_past / n_total) * (mu - new_mu) ** 2\n",
    "    total_var=total_ssd / n_total\n",
    "    \n",
    "    return total_mu, total_var\n",
    "\n",
    "def joint_log_likelihood(X,classes_,class_prior_,var_,theta_):\n",
    "    joint_log_likelihood = []\n",
    "    for i in range(np.size(classes_)):\n",
    "        jointi = np.log(class_prior_[i])\n",
    "        n_ij = -0.5 * np.sum(np.log(2.0 * np.pi * var_[i, :]))\n",
    "        n_ij -= 0.5 * np.sum(((X - theta_[i, :]) ** 2) / (var_[i, :]), 1)\n",
    "        joint_log_likelihood.append(jointi + n_ij)\n",
    "    \n",
    "    joint_log_likelihood = np.array(joint_log_likelihood).T\n",
    "    return joint_log_likelihood"
   ]
  },
  {
   "cell_type": "code",
   "execution_count": 67,
   "id": "687500d3-24e8-464f-84c2-460d3d45e46c",
   "metadata": {
    "tags": []
   },
   "outputs": [
    {
     "name": "stdout",
     "output_type": "stream",
     "text": [
      "[[   0.8762294   -32.51665712  -73.95573104]\n",
      " [-556.7018906    -5.71630183   -3.68412747]\n",
      " [-119.04667384   -5.66092211  -28.96539079]]\n",
      "[0 2 1 0 1 2 1 0 2 2 2 2 0 0 2 2 0 2 0 2 2 0 0 2 0 0 0 1 2 2 0 0 0 1 1 0 0\n",
      " 1 0 2 1 2 1 0 2 0 2 0 0 2 0 2 1 1 1 2 2 1 2 0 1 2 2 0 1 1 2 1 0 0 0 2 1 2\n",
      " 0]\n"
     ]
    }
   ],
   "source": [
    "X=X_train\n",
    "y=y_train\n",
    "\n",
    "_, n_features=X.shape\n",
    "labelbin=preprocessing.LabelBinarizer()\n",
    "Y=labelbin.fit_transform(y)\n",
    "classes_=labelbin.classes_\n",
    "n_classes=Y.shape[1]\n",
    "class_log_prior_=np.full(n_classes, -np.log(n_classes))\n",
    "\n",
    "unique_y=np.unique(y)\n",
    "\n",
    "class_count_=np.zeros(n_classes, dtype=np.float64)\n",
    "theta_=np.zeros((n_classes, n_features))\n",
    "var_ = np.zeros((n_classes, n_features))\n",
    "\n",
    "var_smoothing=1e-9\n",
    "epsilon_=var_smoothing * np.var(X, axis=0).max()\n",
    "\n",
    "for y_i in unique_y:\n",
    "    i=classes_.searchsorted(y_i)\n",
    "    X_i=X[y == y_i, :]\n",
    "    N_i=X_i.shape[0]\n",
    "    \n",
    "    new_theta, new_sigma=update_mean_variance(class_count_[i],theta_[i, :],var_[i, :],X_i)\n",
    "    theta_[i, :]=new_theta\n",
    "    var_[i, :]=new_sigma\n",
    "    class_count_[i] += N_i\n",
    "    \n",
    "var_[:, :] += epsilon_\n",
    "\n",
    "class_prior_=class_count_ / class_count_.sum()\n",
    "jll=joint_log_likelihood(X,classes_,class_prior_,var_,theta_)\n",
    "print(jll[:3])\n",
    "predicted_y=classes_[np.argmax(jll, axis=1)]\n",
    "print(predicted_y)"
   ]
  },
  {
   "cell_type": "markdown",
   "id": "e1c92f88-c348-4689-9127-072781de1874",
   "metadata": {},
   "source": [
    "#### 2） 自定义高斯朴素贝叶斯分类器\n",
    "\n",
    "朴素（简单）贝叶斯分类器（Naive Bayes Classifier，NBC）是基于给定类变量（分类$y$）的所有属性（对应特征的随机变量$(X_1,X_2,\\cdots,X_n)$）都是独立的假设，有$P(y \\mid x_1, \\dots, x_n) = \\frac{P(y) P(x_1, \\dots, x_n \\mid y)}{P(x_1, \\dots, x_n)}$，及$P(x_i | y, x_1, \\dots, x_{i-1}, x_{i+1}, \\dots, x_n) = P(x_i | y)$，可以推导出$P(y \\mid x_1, \\dots, x_n) = \\frac{P(y) \\prod_{i=1}^{n} P(x_i \\mid y)} {P(x_1, \\dots, x_n)}$。因为$(P(x_1, \\dots, x_n)$作为常数输入，所以分类规则为：$\\begin{aligned}P(y \\mid x_1, \\dots, x_n) \\propto P(y) \\prod_{i=1}^{n} P(x_i \\mid y)\\\\\\Downarrow\\\\\\hat{y} = \\arg\\max_y P(y) \\prod_{i=1}^{n} P(x_i \\mid y),\\end{aligned}$。可以使用最大后验概率（ Maximum A Posteriori，MAP）估计$P(y)$和$P(x_i \\mid y)$。不同类的朴素贝叶斯分类器的差异主要在于对$P(x_i \\mid y)$的定义<sup>[Naive Bayes, <https://scikit-learn.org/stable/modules/naive_bayes.html>.]</sup>。\n",
    "\n",
    "虽然朴素贝叶斯的假设过于简化，但在现实世界的许多情况下运行良好；且可以用少量的训练数据来估计必要的参数。\n",
    "    \n",
    "定义高斯朴素贝叶斯分类器`Gaussian_naive_bayes_classifier`类。为了简化代码书写，更清晰的表述分类器的算法机制，对随机变量概率密度函数（使用高斯分布）的定义，使用了`SymPy`库直接书写；并使用`pandas`的`DataFrame`数据结构，尽量一一对应不同变量之间的对应关系，便于理解。"
   ]
  },
  {
   "cell_type": "code",
   "execution_count": 68,
   "id": "b48181c2-ee23-4184-a628-b0a81e4a2304",
   "metadata": {
    "tags": []
   },
   "outputs": [
    {
     "name": "stdout",
     "output_type": "stream",
     "text": [
      "Number of mislabeled points out of a total 75 points : 2\n",
      "Number of mislabeled points out of a total 75 points : 5\n"
     ]
    },
    {
     "data": {
      "text/html": [
       "<div>\n",
       "<style scoped>\n",
       "    .dataframe tbody tr th:only-of-type {\n",
       "        vertical-align: middle;\n",
       "    }\n",
       "\n",
       "    .dataframe tbody tr th {\n",
       "        vertical-align: top;\n",
       "    }\n",
       "\n",
       "    .dataframe thead th {\n",
       "        text-align: right;\n",
       "    }\n",
       "</style>\n",
       "<table border=\"1\" class=\"dataframe\">\n",
       "  <thead>\n",
       "    <tr style=\"text-align: right;\">\n",
       "      <th></th>\n",
       "      <th>0</th>\n",
       "      <th>1</th>\n",
       "      <th>2</th>\n",
       "      <th>p_max_target</th>\n",
       "      <th>target</th>\n",
       "      <th>correct</th>\n",
       "    </tr>\n",
       "  </thead>\n",
       "  <tbody>\n",
       "    <tr>\n",
       "      <th>0</th>\n",
       "      <td>3.99493353970977e-289</td>\n",
       "      <td>1.05404275436796e-6</td>\n",
       "      <td>0.0449990901096858</td>\n",
       "      <td>2</td>\n",
       "      <td>2</td>\n",
       "      <td>True</td>\n",
       "    </tr>\n",
       "    <tr>\n",
       "      <th>1</th>\n",
       "      <td>4.56660272749500e-102</td>\n",
       "      <td>0.119858087756389</td>\n",
       "      <td>4.33560630854775e-10</td>\n",
       "      <td>1</td>\n",
       "      <td>1</td>\n",
       "      <td>True</td>\n",
       "    </tr>\n",
       "    <tr>\n",
       "      <th>2</th>\n",
       "      <td>0.312501002072666</td>\n",
       "      <td>6.15924326913282e-18</td>\n",
       "      <td>1.25771736578052e-32</td>\n",
       "      <td>0</td>\n",
       "      <td>0</td>\n",
       "      <td>True</td>\n",
       "    </tr>\n",
       "    <tr>\n",
       "      <th>3</th>\n",
       "      <td>1.89560807069258e-374</td>\n",
       "      <td>6.83814201533865e-7</td>\n",
       "      <td>0.136003790622231</td>\n",
       "      <td>2</td>\n",
       "      <td>2</td>\n",
       "      <td>True</td>\n",
       "    </tr>\n",
       "    <tr>\n",
       "      <th>4</th>\n",
       "      <td>14.7330640043679</td>\n",
       "      <td>1.04705609546837e-13</td>\n",
       "      <td>1.51596858717064e-30</td>\n",
       "      <td>0</td>\n",
       "      <td>0</td>\n",
       "      <td>True</td>\n",
       "    </tr>\n",
       "  </tbody>\n",
       "</table>\n",
       "</div>"
      ],
      "text/plain": [
       "                       0                     1                     2  \\\n",
       "0  3.99493353970977e-289   1.05404275436796e-6    0.0449990901096858   \n",
       "1  4.56660272749500e-102     0.119858087756389  4.33560630854775e-10   \n",
       "2      0.312501002072666  6.15924326913282e-18  1.25771736578052e-32   \n",
       "3  1.89560807069258e-374   6.83814201533865e-7     0.136003790622231   \n",
       "4       14.7330640043679  1.04705609546837e-13  1.51596858717064e-30   \n",
       "\n",
       "   p_max_target  target  correct  \n",
       "0             2       2     True  \n",
       "1             1       1     True  \n",
       "2             0       0     True  \n",
       "3             2       2     True  \n",
       "4             0       0     True  "
      ]
     },
     "execution_count": 68,
     "metadata": {},
     "output_type": "execute_result"
    }
   ],
   "source": [
    "class Gaussian_naive_bayes_classifier:   \n",
    "    '''\n",
    "    高斯朴素贝叶斯分类器。使用到SymPy库计算\n",
    "    '''\n",
    "\n",
    "    def fit(self,X, y,feature_names):     \n",
    "        '''\n",
    "        由已知样本数据，构建各随机变量边缘概率密集函数，预测新样本类别函数和计算精度\n",
    "\n",
    "        Parameters\n",
    "        ----------\n",
    "        X : array\n",
    "            样本特征.\n",
    "        y : array\n",
    "            分类标签.\n",
    "        feature_names : List[string]\n",
    "            特征名称列表.\n",
    "\n",
    "        Returns\n",
    "        -------\n",
    "        Class\n",
    "            类的属性值.\n",
    "\n",
    "        '''\n",
    "        self.feature_names=feature_names\n",
    "        \n",
    "        df=pd.DataFrame(X,columns=feature_names)\n",
    "        df['target']=y       \n",
    "        mean_std=df.groupby(by=['target']).agg([\"mean\",\"std\"])     \n",
    "        self.norms=mean_std.apply(self.norm_func,args=(feature_names,), axis=1, result_type='expand')  \n",
    "        joint_prob=self.job_prob_func(df)     \n",
    "        self.mislabeled(joint_prob,X,y)\n",
    "        \n",
    "        return self\n",
    "        \n",
    "    def norm_func(self,row,feature_names):\n",
    "        '''\n",
    "        由已知样本数据计算的均值和标注差，构建各随机变量边缘概率密集函数（假设服从正态分布）。用于DataFrame.apply()方法\n",
    "\n",
    "        Parameters\n",
    "        ----------\n",
    "        row : Series\n",
    "            由已知样本数据计算的均值和标注差.\n",
    "        feature_names : List[string]\n",
    "            特征名称列表.\n",
    "\n",
    "        Returns\n",
    "        -------\n",
    "        Series\n",
    "            随机变量的边缘密度函数.\n",
    "\n",
    "        '''\n",
    "        norms_lst=[]\n",
    "        for feature_name in feature_names:\n",
    "            dens=density(Normal('X',row[feature_name]['mean'],row[feature_name]['std']))\n",
    "            norms_lst.append(dens)\n",
    "\n",
    "        return pd.Series(norms_lst,index=feature_names)        \n",
    "        \n",
    "    def prob_prod(self,row,norms_df):\n",
    "        '''\n",
    "        假设随机变量相互独立，由边缘密度函数计算给定特征值的概率。用于DataFrame.apply()方法\n",
    "\n",
    "        Parameters\n",
    "        ----------\n",
    "        row : Series\n",
    "            特征值.\n",
    "        norms_df : DataFrame\n",
    "            随机变量的边缘密度函数.\n",
    "\n",
    "        Returns\n",
    "        -------\n",
    "        Series\n",
    "            概率值.\n",
    "\n",
    "        '''\n",
    "        p_prods=[]\n",
    "        idxes=[]\n",
    "        for idx,norms_target in norms_df.iterrows():\n",
    "            norms_target_lst=norms_target.values    \n",
    "            p_prod=np.prod([norm(x).evalf() for norm,x in zip(norms_target_lst,row)])\n",
    "            p_prods.append(p_prod)\n",
    "            idxes.append(idx)\n",
    "        return pd.Series(p_prods,index=idxes)   \n",
    "    \n",
    "    def job_prob_func(self,df):\n",
    "        '''\n",
    "        联合概率\n",
    "\n",
    "        Parameters\n",
    "        ----------\n",
    "        df : DataFrame\n",
    "            特征值.\n",
    "\n",
    "        Returns\n",
    "        -------\n",
    "        joint_prob : DataFrame\n",
    "            各个样本对应分类的概率.\n",
    "\n",
    "        '''\n",
    "        joint_prob=df.apply(self.prob_prod,args=(self.norms,),axis=1)\n",
    "        joint_prob['p_max_target']=joint_prob.apply(lambda row:row.astype(float).idxmax(),axis=1)        \n",
    "        \n",
    "        return joint_prob\n",
    "    \n",
    "    def predict(self,X):\n",
    "        '''\n",
    "        根据构建的后验分布（预测模型）预测新样本数据的分类\n",
    "\n",
    "        Parameters\n",
    "        ----------\n",
    "        X : array\n",
    "            样本特征值.\n",
    "\n",
    "        Returns\n",
    "        -------\n",
    "        joint_prob_predicted : DataFrame\n",
    "            预测分类结果和概率.\n",
    "\n",
    "        '''\n",
    "        df=pd.DataFrame(X,columns=self.feature_names)\n",
    "        joint_prob_predicted=self.job_prob_func(df)      \n",
    "        \n",
    "        return joint_prob_predicted\n",
    "    \n",
    "    def mislabeled(self,joint_prob,X,y):\n",
    "        '''\n",
    "        计算分类精度\n",
    "\n",
    "        Parameters\n",
    "        ----------\n",
    "        joint_prob : DataFrame\n",
    "            预测分类结果数据.\n",
    "        X : array\n",
    "            样本特征值.\n",
    "        y : array\n",
    "            样本分类值.\n",
    "\n",
    "        Returns\n",
    "        -------\n",
    "        None.\n",
    "\n",
    "        '''\n",
    "        joint_prob['target']=y\n",
    "        joint_prob['correct']=joint_prob.apply(lambda row:row.p_max_target==row.target,axis=1) \n",
    "        print(\"Number of mislabeled points out of a total %d points : %d\" % (X.shape[0],X.shape[0]-joint_prob['correct'].sum()))          \n",
    "        \n",
    "\n",
    "iris_classification=Gaussian_naive_bayes_classifier()\n",
    "iris_classification.fit(X_train,y_train,['sepal_length','sepal_width','petal_length','petal_width'])\n",
    "test_predicted=iris_classification.predict(X_test)\n",
    "iris_classification.mislabeled(test_predicted,X_test,y_test)\n",
    "test_predicted.head()"
   ]
  },
  {
   "cell_type": "markdown",
   "id": "8fe478d7-dfa8-4901-8448-7098525ae921",
   "metadata": {},
   "source": [
    "打印随机变量的边缘密度函数，即$P(x_i \\mid y)$，由`SymPy`方式表示。"
   ]
  },
  {
   "cell_type": "code",
   "execution_count": 35,
   "id": "3edbea39-f823-4799-ab3b-95213f39d5a9",
   "metadata": {
    "tags": []
   },
   "outputs": [
    {
     "data": {
      "text/html": [
       "<div>\n",
       "<style scoped>\n",
       "    .dataframe tbody tr th:only-of-type {\n",
       "        vertical-align: middle;\n",
       "    }\n",
       "\n",
       "    .dataframe tbody tr th {\n",
       "        vertical-align: top;\n",
       "    }\n",
       "\n",
       "    .dataframe thead th {\n",
       "        text-align: right;\n",
       "    }\n",
       "</style>\n",
       "<table border=\"1\" class=\"dataframe\">\n",
       "  <thead>\n",
       "    <tr style=\"text-align: right;\">\n",
       "      <th></th>\n",
       "      <th>sepal_length</th>\n",
       "      <th>sepal_width</th>\n",
       "      <th>petal_length</th>\n",
       "      <th>petal_width</th>\n",
       "    </tr>\n",
       "    <tr>\n",
       "      <th>target</th>\n",
       "      <th></th>\n",
       "      <th></th>\n",
       "      <th></th>\n",
       "      <th></th>\n",
       "    </tr>\n",
       "  </thead>\n",
       "  <tbody>\n",
       "    <tr>\n",
       "      <th>0</th>\n",
       "      <td>NormalDistribution(4.97586206896552, 0.3269503...</td>\n",
       "      <td>NormalDistribution(3.35862068965517, 0.3698621...</td>\n",
       "      <td>NormalDistribution(1.44827586206897, 0.1298919...</td>\n",
       "      <td>NormalDistribution(0.23448275862069, 0.0936401...</td>\n",
       "    </tr>\n",
       "    <tr>\n",
       "      <th>1</th>\n",
       "      <td>NormalDistribution(5.935, 0.5193872908483)</td>\n",
       "      <td>NormalDistribution(2.71, 0.295403381657585)</td>\n",
       "      <td>NormalDistribution(4.185, 0.518372960633355)</td>\n",
       "      <td>NormalDistribution(1.3, 0.220047841688072)</td>\n",
       "    </tr>\n",
       "    <tr>\n",
       "      <th>2</th>\n",
       "      <td>NormalDistribution(6.77692307692308, 0.6358035...</td>\n",
       "      <td>NormalDistribution(3.09230769230769, 0.3248668...</td>\n",
       "      <td>NormalDistribution(5.73461538461538, 0.5705732...</td>\n",
       "      <td>NormalDistribution(2.10769230769231, 0.2225723...</td>\n",
       "    </tr>\n",
       "  </tbody>\n",
       "</table>\n",
       "</div>"
      ],
      "text/plain": [
       "                                             sepal_length  \\\n",
       "target                                                      \n",
       "0       NormalDistribution(4.97586206896552, 0.3269503...   \n",
       "1              NormalDistribution(5.935, 0.5193872908483)   \n",
       "2       NormalDistribution(6.77692307692308, 0.6358035...   \n",
       "\n",
       "                                              sepal_width  \\\n",
       "target                                                      \n",
       "0       NormalDistribution(3.35862068965517, 0.3698621...   \n",
       "1             NormalDistribution(2.71, 0.295403381657585)   \n",
       "2       NormalDistribution(3.09230769230769, 0.3248668...   \n",
       "\n",
       "                                             petal_length  \\\n",
       "target                                                      \n",
       "0       NormalDistribution(1.44827586206897, 0.1298919...   \n",
       "1            NormalDistribution(4.185, 0.518372960633355)   \n",
       "2       NormalDistribution(5.73461538461538, 0.5705732...   \n",
       "\n",
       "                                              petal_width  \n",
       "target                                                     \n",
       "0       NormalDistribution(0.23448275862069, 0.0936401...  \n",
       "1              NormalDistribution(1.3, 0.220047841688072)  \n",
       "2       NormalDistribution(2.10769230769231, 0.2225723...  "
      ]
     },
     "execution_count": 35,
     "metadata": {},
     "output_type": "execute_result"
    }
   ],
   "source": [
    "iris_classification.norms"
   ]
  },
  {
   "cell_type": "markdown",
   "id": "81a55f1d-cbb3-4511-85dd-409aaa6df24b",
   "metadata": {},
   "source": [
    "### 3.5.1.2 离散型随机变量分类器\n",
    "\n",
    "仍然使用鸢尾花数据集，但是需要将特征值转化为整数形式，构成离散型随机变量的输入。通过`self.joint_prob=Xy.groupby(by=Xy.columns.tolist()).size() / len(Xy)`代码计算多维随机变量的联合分布律，结果如`iris_classification_discrete.joint_prob`所示，并通过已知分类计算后验概率，则可以通过后验概率推断新样本对应的分类值，即将离散型样本特征值对应到联合分布律，结果可能有对应不同分类结果的多个概率值，其中最大概率对应的分类即为估计的分类结果。\n",
    "\n",
    "从测试数据集的预测结果来看，正确率为$(30-2)/30=0.933$。"
   ]
  },
  {
   "cell_type": "code",
   "execution_count": 93,
   "id": "77e854fa-81c1-4567-9629-926d7f9e32df",
   "metadata": {
    "tags": []
   },
   "outputs": [
    {
     "data": {
      "text/html": [
       "<div>\n",
       "<style scoped>\n",
       "    .dataframe tbody tr th:only-of-type {\n",
       "        vertical-align: middle;\n",
       "    }\n",
       "\n",
       "    .dataframe tbody tr th {\n",
       "        vertical-align: top;\n",
       "    }\n",
       "\n",
       "    .dataframe thead th {\n",
       "        text-align: right;\n",
       "    }\n",
       "</style>\n",
       "<table border=\"1\" class=\"dataframe\">\n",
       "  <thead>\n",
       "    <tr style=\"text-align: right;\">\n",
       "      <th></th>\n",
       "      <th>sepal_length</th>\n",
       "      <th>sepal_width</th>\n",
       "      <th>petal_length</th>\n",
       "      <th>petal_width</th>\n",
       "      <th>type</th>\n",
       "    </tr>\n",
       "  </thead>\n",
       "  <tbody>\n",
       "    <tr>\n",
       "      <th>86</th>\n",
       "      <td>7</td>\n",
       "      <td>3</td>\n",
       "      <td>5</td>\n",
       "      <td>2</td>\n",
       "      <td>1</td>\n",
       "    </tr>\n",
       "    <tr>\n",
       "      <th>78</th>\n",
       "      <td>6</td>\n",
       "      <td>3</td>\n",
       "      <td>4</td>\n",
       "      <td>2</td>\n",
       "      <td>1</td>\n",
       "    </tr>\n",
       "    <tr>\n",
       "      <th>61</th>\n",
       "      <td>6</td>\n",
       "      <td>3</td>\n",
       "      <td>4</td>\n",
       "      <td>2</td>\n",
       "      <td>1</td>\n",
       "    </tr>\n",
       "    <tr>\n",
       "      <th>89</th>\n",
       "      <td>6</td>\n",
       "      <td>2</td>\n",
       "      <td>4</td>\n",
       "      <td>1</td>\n",
       "      <td>1</td>\n",
       "    </tr>\n",
       "    <tr>\n",
       "      <th>138</th>\n",
       "      <td>6</td>\n",
       "      <td>3</td>\n",
       "      <td>5</td>\n",
       "      <td>2</td>\n",
       "      <td>2</td>\n",
       "    </tr>\n",
       "    <tr>\n",
       "      <th>...</th>\n",
       "      <td>...</td>\n",
       "      <td>...</td>\n",
       "      <td>...</td>\n",
       "      <td>...</td>\n",
       "      <td>...</td>\n",
       "    </tr>\n",
       "    <tr>\n",
       "      <th>90</th>\n",
       "      <td>6</td>\n",
       "      <td>3</td>\n",
       "      <td>4</td>\n",
       "      <td>1</td>\n",
       "      <td>1</td>\n",
       "    </tr>\n",
       "    <tr>\n",
       "      <th>38</th>\n",
       "      <td>4</td>\n",
       "      <td>3</td>\n",
       "      <td>1</td>\n",
       "      <td>0</td>\n",
       "      <td>0</td>\n",
       "    </tr>\n",
       "    <tr>\n",
       "      <th>121</th>\n",
       "      <td>6</td>\n",
       "      <td>3</td>\n",
       "      <td>5</td>\n",
       "      <td>2</td>\n",
       "      <td>2</td>\n",
       "    </tr>\n",
       "    <tr>\n",
       "      <th>54</th>\n",
       "      <td>6</td>\n",
       "      <td>3</td>\n",
       "      <td>5</td>\n",
       "      <td>2</td>\n",
       "      <td>1</td>\n",
       "    </tr>\n",
       "    <tr>\n",
       "      <th>84</th>\n",
       "      <td>5</td>\n",
       "      <td>3</td>\n",
       "      <td>4</td>\n",
       "      <td>2</td>\n",
       "      <td>1</td>\n",
       "    </tr>\n",
       "  </tbody>\n",
       "</table>\n",
       "<p>120 rows × 5 columns</p>\n",
       "</div>"
      ],
      "text/plain": [
       "     sepal_length  sepal_width  petal_length  petal_width  type\n",
       "86              7            3             5            2     1\n",
       "78              6            3             4            2     1\n",
       "61              6            3             4            2     1\n",
       "89              6            2             4            1     1\n",
       "138             6            3             5            2     2\n",
       "..            ...          ...           ...          ...   ...\n",
       "90              6            3             4            1     1\n",
       "38              4            3             1            0     0\n",
       "121             6            3             5            2     2\n",
       "54              6            3             5            2     1\n",
       "84              5            3             4            2     1\n",
       "\n",
       "[120 rows x 5 columns]"
      ]
     },
     "execution_count": 93,
     "metadata": {},
     "output_type": "execute_result"
    }
   ],
   "source": [
    "mini_iris = np.round(iris.data[:, :]).astype(int)\n",
    "data = pd.DataFrame(mini_iris, columns=['sepal_length','sepal_width','petal_length','petal_width'])\n",
    "data['type'] = iris.target\n",
    "\n",
    "#Shuffle data\n",
    "data = data.iloc[np.random.permutation(len(data))]\n",
    "X_train, X_test=data[:120], data[120:]\n",
    "X_train"
   ]
  },
  {
   "cell_type": "code",
   "execution_count": 94,
   "id": "6c14ba0a-fdb0-4619-8090-b165a62eae40",
   "metadata": {
    "tags": []
   },
   "outputs": [
    {
     "name": "stdout",
     "output_type": "stream",
     "text": [
      "Number of mislabeled points out of a total 30 points : 2\n"
     ]
    }
   ],
   "source": [
    "class Discrete_probabilisitic_model_classifier:\n",
    "    '''\n",
    "    定义多维离散型随机变量分类器概率模型\n",
    "    '''    \n",
    "    def fit(self,Xy):\n",
    "        self.joint_prob=Xy.groupby(by=Xy.columns.tolist()).size() / len(Xy)\n",
    "        \n",
    "        return self\n",
    "    \n",
    "    def predict(self,X):\n",
    "        predicted_values = []\n",
    "        for idx,row in X.iterrows():   \n",
    "            try:\n",
    "                for i,v in enumerate(row):\n",
    "                    if i==0:\n",
    "                        multiIndex_val=self.joint_prob[v]\n",
    "                    else:\n",
    "                        multiIndex_val=multiIndex_val[v]\n",
    "                        \n",
    "                predicted_values.append(multiIndex_val.idxmax())\n",
    "            except:\n",
    "                predicted_values.append(-1)\n",
    "                \n",
    "        return predicted_values\n",
    "    \n",
    "    def mislabeled(self,y_,y):\n",
    "        y_y=zip(y_,y)\n",
    "        mislabeled_num=sum([i[0]!=i[1] for i in y_y])\n",
    "        print(\"Number of mislabeled points out of a total %d points : %d\" % (len(y_),mislabeled_num))   \n",
    "\n",
    "iris_classification_discrete=Discrete_probabilisitic_model_classifier()\n",
    "iris_classification_discrete.fit(X_train)\n",
    "predicted_values=iris_classification_discrete.predict(X_test[['sepal_length','sepal_width','petal_length','petal_width']])\n",
    "iris_classification_discrete.mislabeled(predicted_values,X_test.type.to_numpy())"
   ]
  },
  {
   "cell_type": "code",
   "execution_count": 95,
   "id": "647d62d0-ae65-418e-a376-2c62a59ddeb1",
   "metadata": {
    "tags": []
   },
   "outputs": [
    {
     "data": {
      "text/plain": [
       "sepal_length  sepal_width  petal_length  petal_width  type\n",
       "4             2            1             0            0       0.008333\n",
       "              3            1             0            0       0.025000\n",
       "5             2            3             1            1       0.025000\n",
       "                           4             1            1       0.008333\n",
       "                                         2            2       0.008333\n",
       "              3            1             0            0       0.041667\n",
       "                           2             0            0       0.075000\n",
       "                           4             1            1       0.008333\n",
       "                                         2            1       0.008333\n",
       "              4            1             0            0       0.058333\n",
       "                           2             0            0       0.058333\n",
       "                                         1            0       0.008333\n",
       "6             2            4             1            1       0.033333\n",
       "                                         2            1       0.008333\n",
       "                           5             2            1       0.008333\n",
       "                                                      2       0.016667\n",
       "              3            4             1            1       0.116667\n",
       "                                         2            1       0.041667\n",
       "                           5             1            1       0.008333\n",
       "                                         2            1       0.025000\n",
       "                                                      2       0.108333\n",
       "                           6             1            2       0.008333\n",
       "                                         2            2       0.041667\n",
       "              4            1             0            0       0.016667\n",
       "                           2             0            0       0.016667\n",
       "7             3            4             1            1       0.016667\n",
       "                           5             1            1       0.016667\n",
       "                                         2            1       0.025000\n",
       "                                                      2       0.025000\n",
       "                           6             2            2       0.075000\n",
       "              4            6             2            2       0.008333\n",
       "8             3            6             2            2       0.008333\n",
       "                           7             2            2       0.025000\n",
       "              4            6             2            2       0.008333\n",
       "                           7             2            2       0.008333\n",
       "dtype: float64"
      ]
     },
     "execution_count": 95,
     "metadata": {},
     "output_type": "execute_result"
    }
   ],
   "source": [
    "iris_classification_discrete.joint_prob"
   ]
  },
  {
   "cell_type": "markdown",
   "id": "2b723874-8e26-4e83-8f56-748e7b643069",
   "metadata": {},
   "source": [
    "## 3.5.2  （离散型）贝叶斯网络——表征（Representation）、推理（Inference）与学习（Learning）\n",
    "\n",
    "从前文基于概率模型构建的分类器可以得知，联合概率分布与每个随机变量的状态（样本点）基数（cardinality）成指数关系，如果每个具有10个状态的10个随机变量，其联合分布的大小将为$10^{10}$，因此具有大量特征和状态基数的复杂问题简单的应用概率会由于计算限制，使得推理变得困难。因此，引入概率图模型（Proababilistic Graphical Models，PGM），结合概率论和图论，通过利用随机变量之间的（条件）独立性紧凑的表征联合概率分布的技术。使用图可以简明地表示一组变量之间的依赖关系和独立性，从而能够进行有效的推理。每个图模型的特征在于图结构，例如为有向图、无向图或二者兼有，及图相关联的一组参数，例如对应每个节点（表示随机变量）的（条件）概率分布表（Conditional probability distribution，CPD）。\n",
    "\n",
    "问题描述：这里参考[InVEST（Integrated Valuation of Ecosystem Services and Tradeoffs）](https://naturalcapitalproject.stanford.edu/software/invest)中生境质量、生境风险评估与碳储存和封存构建了一个假设的简化问题模型，用于阐述 PGM 的贝叶斯网络（Bayesian Network，BN）。这个问题包含5个随机变量，\n",
    "\n",
    "* 生境威胁（Threat，TH），对栖息地构成威胁的影响大小，假设包含3个状态为：$Val(TH)=\\{strong, moderate,weak\\}$；\n",
    "* 生境类型（Habitat，HA），即土地利用和覆盖类型（LULC）是否适合生物繁衍，假设包含2个状态为：$Val(HA)=\\{suitable, not suitable\\}$;\n",
    "* 碳储存（Carbon Storage，CS），适合生物栖息的生境通常具有良好的自然环境，往往也具有更高的碳储存水平，例如森林在碳库（carbon pools）中含有最多的碳，假设包含3个状态为：$Val(CS)=\\{rich, average,poor\\}$；\n",
    "* 生境质量（Habitat Quality，HQ），为生物多样性的一种反映，假设包含2个状态为：$Val(HQ)=\\{good, bad$\\}；\n",
    "* 生境风险（Habitat Risk，HR），评估人类活动对生境和物种造成的累积风险，假设包含2个状态为：$Val(HR)=\\{high, low\\}$。\n",
    "\n",
    "那么问题是，如果已知任何一个或多个随机变量的状态，如何估计其它随机变量的状态概率从而推断出最可能的状态，例如，已知生境威胁为`'weak'`，生境类型为`'suitable'`，那么如何估计生境质量的状态概率，即为`'good'`和`'bad'`的概率，从而推断对应最大概率的状态即为在给定条件下最可能的状态；又或者，已知生境质量和生境风险评估，估计生境威胁或者生境类型状态等。\n",
    "\n",
    "### 3.5.2.1 表征\n",
    "\n",
    "PGM 以图为结构，以 CPDs为节点（随机变量）参数，因此为了以一种易于图示理解的方式构建 PGM，\n",
    "\n",
    "1. 首先用[daft](https://docs.daft-pgm.org/en/latest/)库根据问题设计构建图，表达随机变量和随机变量之间的关系影响；\n",
    "2. 根据图，使用[pgmpy](https://pgmpy.org/index.html)库建立各个随机变量的 CPDs；\n",
    "3. 将`daft`设计的图转化为`pgmpy`库的图模型结构，并将 CPDs 链接到图上，完成 PGM的构建。\n",
    "\n",
    "使用`daft`库的目的是因为目前`pgmpy`库还未包含打印可视化图的方法，但是可以直接用该库提供的`BayesianNetwork`等方法构建图模型（不能直接可视化图）。构建完 BN（PGM） 后就可以用`pgmpy`库提供的各类方法进行推断与学习。"
   ]
  },
  {
   "cell_type": "code",
   "execution_count": 2,
   "id": "03d731a5-9026-440a-b298-beea44955f81",
   "metadata": {},
   "outputs": [
    {
     "name": "stdout",
     "output_type": "stream",
     "text": [
      "The autoreload extension is already loaded. To reload it, use:\n",
      "  %reload_ext autoreload\n"
     ]
    }
   ],
   "source": [
    "# IPython extension to reload modules before executing user code.\n",
    "%load_ext autoreload \n",
    "# Reload all modules (except those excluded by %aimport) every time before executing the Python code typed.\n",
    "%autoreload 2 \n",
    "import usda.pgm as usda_pgm\n",
    "\n",
    "import daft\n",
    "from pgmpy.models import BayesianNetwork\n",
    "from pgmpy.factors.discrete import TabularCPD\n",
    "from pgmpy.inference import VariableElimination\n",
    "\n",
    "import copy\n",
    "import matplotlib.pyplot as plt"
   ]
  },
  {
   "cell_type": "markdown",
   "id": "e6b28383-dd7b-416f-b7cf-049c1d1a9de5",
   "metadata": {},
   "source": [
    "#### 1）定义图\n",
    "\n",
    "BN 将$n$个（离散型）随机变量$X_1,X_2, \\cdots, X_n$的联合分布表示为有向无环图（Directed Acyclic Graph，DAG）$G$和一组（条件）概率分布（CPDs）。图$G$中的节点（node/vertice，顶点）代表随机变量，例如上述问题描述中的生境威胁（TH）、生境类型（HA）、碳储存（CS）、生境质量（HQ）和生境风险（HR），可记作$V(G)=\\{TH,HA,CS,HQ,HR\\}$。边（edge）代表随机变量间的相关性（dependencies）(直接影响，节点及其邻接父节点的依赖关系)，例如生境质量（HQ）依赖于生境威胁（TH）和生境类型（HA），因此构建有向边$TH  \\rightarrow  HQ$和$HA  \\rightarrow  HQ$；碳储存（CS）依赖于生境类型（HA），因此有$HA \\rightarrow  CS$；生境风险（HR）依赖于生境威胁（TH）和生境质量（HQ），因此有$TH \\rightarrow  HR$和$HQ \\rightarrow  HR$，上述所有边可记作$E(G)=\\{TH-HQ,HA-HQ,HA-CS,TH-HR,HQ-HR\\}$。\n",
    "\n",
    "图$G$以因式分解（Factorization）的方式紧凑的表示了随机变量联合分布的数据结构骨架；也可理解为关于随机变量联合分布的一系列条件独立性假设的紧凑表示。"
   ]
  },
  {
   "cell_type": "code",
   "execution_count": 3,
   "id": "39adfac7-7eb7-43e9-be35-c53116d6b129",
   "metadata": {},
   "outputs": [
    {
     "data": {
      "image/png": "[encoded data removed]",
      "text/plain": [
       "<Figure size 464.567x464.567 with 1 Axes>"
      ]
     },
     "metadata": {},
     "output_type": "display_data"
    }
   ],
   "source": [
    "pgm_habitat=daft.PGM(grid_unit=4.0, node_unit=3)\n",
    "\n",
    "pgm_habitat.add_node(daft.Node('HA', r\"Habitat(HA)\", 3, 3))\n",
    "pgm_habitat.add_node(daft.Node('TH', r\"Threat(TH)\", 1, 3))\n",
    "pgm_habitat.add_node(daft.Node('CS', r\"Carbon Storage(CS)\", 3, 2))\n",
    "pgm_habitat.add_node(daft.Node('HQ', r\"Habitat Quality(HQ)\", 2, 2))\n",
    "pgm_habitat.add_node(daft.Node('HR', r\"Habitat Risk Assessment(HR)\", 1, 1))\n",
    "\n",
    "pgm_habitat.add_edge('TH','HQ')\n",
    "pgm_habitat.add_edge('HA','HQ')\n",
    "pgm_habitat.add_edge('HA','CS')\n",
    "pgm_habitat.add_edge('TH','HR')\n",
    "pgm_habitat.add_edge('HQ','HR')\n",
    "\n",
    "pgm_habitat.render();"
   ]
  },
  {
   "cell_type": "markdown",
   "id": "ce8e9ba7-e57a-4e59-850b-aaeb28e6e652",
   "metadata": {},
   "source": [
    "#### 2）因子分解\n",
    "\n",
    "一般来讲，BN 中的每一个随机变量$X$都关联着一个 CPD，在已知其父节点每种可能状态的条件下，用来指明$X$状态的一个分布，记为$P(node \\mid Par(node))$，式中，$Par(node)$为图中节点$node$的父节点，例如随机变量$HQ$依赖于$TH$和$HA$，其 CPD 表示为$P(HQ \\mid TH,HA)$，对应着一个条件分布律（表）为变量`cpd_hq_sn`。对没有父节点的节点，例如$TH$和$HA$，其CPD以空集$Ø$为条件，实际上即为边缘分布$P(TH)$和$P(HA)$。对应各随机变量节点的 CPDs 图如下：\n",
    "\n",
    "<img src=\"../imgs/3_5_b/3_5_b_01.jpg\" height='auto' width=800 title=\"caDesign\"> \n",
    "\n",
    "对于上述 BN（PGM）所有随机变量（属性、特征）的联合概率分布，考虑到随机变量之间的相互独立性，可以得到$P(TH,HA,HQ,CS,HR)=P(TH)P(HA)P(HQ \\mid TH,HA)P(CS \\mid HA)P(HR \\mid TH,HQ)$，即对于 BN 的随机变量$\\{X_1,X_2,\\cdots,X_n\\}$有联合概率分布$P\\left(X_1, X_2, \\ldots, X_n\\right)=\\prod_{i=1}^n P\\left(X_i \\mid \\operatorname{Par}\\left(X_i\\right)\\right)$，该公式为**贝叶斯网的链式法则**。可以表述为基于随机变量的独立性假设，PGM 分布$P$根据图$G$的因子分解（factorization），对应公式为$P\\left(X_1, X_2, \\ldots, X_n\\right)=\\prod_{i=1}^n P\\left(X_i \\mid \\operatorname{Par}_G\\left(X_i\\right)\\right)$。\n",
    "\n",
    "* 定义参数：条件概率分布\n",
    "\n",
    "使用`pgmpy`库的`TabularCPD`方法建立随机变量的 CPDs。"
   ]
  },
  {
   "cell_type": "code",
   "execution_count": 4,
   "id": "021076be-b081-4011-96ed-ca61def9a0cd",
   "metadata": {},
   "outputs": [
    {
     "name": "stdout",
     "output_type": "stream",
     "text": [
      "# Habitat\n",
      "+------------------+-----+\n",
      "| HA(suitable)     | 0.6 |\n",
      "+------------------+-----+\n",
      "| HA(not suitable) | 0.4 |\n",
      "+------------------+-----+\n",
      "# Threat\n",
      "+--------------+-----+\n",
      "| TH(strong)   | 0.5 |\n",
      "+--------------+-----+\n",
      "| TH(moderate) | 0.3 |\n",
      "+--------------+-----+\n",
      "| TH(weak)     | 0.2 |\n",
      "+--------------+-----+\n",
      "# Carbon Storage\n",
      "+-------------+--------------+------------------+\n",
      "| HA          | HA(suitable) | HA(not suitable) |\n",
      "+-------------+--------------+------------------+\n",
      "| CS(rich)    | 0.7          | 0.3              |\n",
      "+-------------+--------------+------------------+\n",
      "| CS(average) | 0.2          | 0.3              |\n",
      "+-------------+--------------+------------------+\n",
      "| CS(poor)    | 0.1          | 0.4              |\n",
      "+-------------+--------------+------------------+\n",
      "# Habitat Quality\n",
      "+----------+--------------+--------------+--------------+------------------+------------------+------------------+\n",
      "| HA       | HA(suitable) | HA(suitable) | HA(suitable) | HA(not suitable) | HA(not suitable) | HA(not suitable) |\n",
      "+----------+--------------+--------------+--------------+------------------+------------------+------------------+\n",
      "| TH       | TH(strong)   | TH(moderate) | TH(weak)     | TH(strong)       | TH(moderate)     | TH(weak)         |\n",
      "+----------+--------------+--------------+--------------+------------------+------------------+------------------+\n",
      "| HQ(good) | 0.2          | 0.4          | 0.9          | 0.3              | 0.3              | 0.4              |\n",
      "+----------+--------------+--------------+--------------+------------------+------------------+------------------+\n",
      "| HQ(bad)  | 0.8          | 0.6          | 0.1          | 0.7              | 0.7              | 0.6              |\n",
      "+----------+--------------+--------------+--------------+------------------+------------------+------------------+\n",
      "# Habitat Risk Assessment\n",
      "+----------+------------+------------+--------------+--------------+----------+----------+\n",
      "| TH       | TH(strong) | TH(strong) | TH(moderate) | TH(moderate) | TH(weak) | TH(weak) |\n",
      "+----------+------------+------------+--------------+--------------+----------+----------+\n",
      "| HQ       | HQ(good)   | HQ(bad)    | HQ(good)     | HQ(bad)      | HQ(good) | HQ(bad)  |\n",
      "+----------+------------+------------+--------------+--------------+----------+----------+\n",
      "| HR(high) | 0.9        | 0.6        | 0.6          | 0.5          | 0.4      | 0.1      |\n",
      "+----------+------------+------------+--------------+--------------+----------+----------+\n",
      "| HR(low)  | 0.1        | 0.4        | 0.4          | 0.5          | 0.6      | 0.9      |\n",
      "+----------+------------+------------+--------------+--------------+----------+----------+\n"
     ]
    }
   ],
   "source": [
    "cpd_ha_sn=TabularCPD(variable='HA', variable_card=2, values=[[0.6], [0.4]], state_names={'HA': ['suitable', 'not suitable']})\n",
    "cpd_th_sn=TabularCPD(variable='TH', variable_card=3, values=[[0.5], [0.3],[0.2]], state_names={'TH': ['strong', 'moderate','weak']})\n",
    "\n",
    "cpd_cs_sn=TabularCPD(variable='CS', variable_card=3, \n",
    "                      values=[[0.7,0.3],\n",
    "                              [0.2,0.3],\n",
    "                              [0.1,0.4]],\n",
    "                      evidence=['HA'],\n",
    "                      evidence_card=[2],\n",
    "                      state_names={'CS': ['rich', 'average','poor'],\n",
    "                                   'HA':  ['suitable', 'not suitable']})\n",
    "\n",
    "cpd_hq_sn=TabularCPD(variable='HQ', variable_card=2, \n",
    "                      values=[[0.2,0.4,0.9,0.3,0.3,0.4],\n",
    "                              [0.8,0.6,0.1,0.7,0.7,0.6]],\n",
    "                      evidence=['HA', 'TH'],\n",
    "                      evidence_card=[2, 3],\n",
    "                      state_names={'HQ': ['good', 'bad'],\n",
    "                                   'HA': ['suitable', 'not suitable'],\n",
    "                                   'TH': ['strong', 'moderate','weak']})\n",
    "cpd_hr_sn=TabularCPD(variable='HR', variable_card=2,\n",
    "                      values=[[0.9,0.6,0.6,0.5,0.4,0.1],\n",
    "                              [0.1,0.4,0.4,0.5,0.6,0.9]],\n",
    "                      evidence=['TH','HQ'],\n",
    "                      evidence_card=[3,2],\n",
    "                      state_names={'HR': ['high', 'low'],                                   \n",
    "                                   'TH': ['strong', 'moderate','weak'],\n",
    "                                   'HQ': ['good', 'bad']}) \n",
    "\n",
    "\n",
    "print(f'# Habitat\\n{cpd_ha_sn}')\n",
    "print(f'# Threat\\n{cpd_th_sn}')\n",
    "print(f'# Carbon Storage\\n{cpd_cs_sn}')\n",
    "print(f'# Habitat Quality\\n{cpd_hq_sn}')\n",
    "print(f'# Habitat Risk Assessment\\n{cpd_hr_sn}')"
   ]
  },
  {
   "cell_type": "markdown",
   "id": "996156d0-4744-4407-a9f5-7466fd08ca2d",
   "metadata": {},
   "source": [
    "* 链接图和条件概率分布\n",
    "\n",
    "转化`daft`库构建的图为`pgmpy`库的形式，并将`pgmpy`库建立的 CPDs 链接到该图上，完成 BN（PGM）的构建。可以通过`check_mode`方法检验构建的 PGM 是否正确，如果提示随机变量的边缘分布不为1等情况，则需要对假设的概率数值进行调整，直至检查返回`True`，表明构建的 PGM 成立。"
   ]
  },
  {
   "cell_type": "code",
   "execution_count": 5,
   "id": "8b4cf94f-e6d7-43f1-b6d2-54b78e0e1b56",
   "metadata": {
    "tags": []
   },
   "outputs": [
    {
     "data": {
      "text/plain": [
       "True"
      ]
     },
     "execution_count": 5,
     "metadata": {},
     "output_type": "execute_result"
    }
   ],
   "source": [
    "bn_habitat=usda_pgm.convert_pgm_to_pgmpy(pgm_habitat)\n",
    "bn_habitat.add_cpds(cpd_ha_sn,cpd_th_sn,cpd_cs_sn,cpd_hq_sn,cpd_hr_sn)\n",
    "bn_habitat.check_model()"
   ]
  },
  {
   "cell_type": "markdown",
   "id": "e23c2003-7ef6-4e1f-8a0c-654ede16439a",
   "metadata": {},
   "source": [
    "建立 PGM 后可以读取计算相关信息，例如随机变量的 CPDs，状态基数等。"
   ]
  },
  {
   "cell_type": "code",
   "execution_count": 10,
   "id": "2b5e9406-11eb-4615-8049-48ebe2cbb36d",
   "metadata": {
    "tags": []
   },
   "outputs": [
    {
     "name": "stdout",
     "output_type": "stream",
     "text": [
      "[<TabularCPD representing P(HA:2) at 0x10bcceb5970>, <TabularCPD representing P(TH:3) at 0x10bf64e1a30>, <TabularCPD representing P(CS:3 | HA:2) at 0x10bcceb59a0>, <TabularCPD representing P(HQ:2 | HA:2, TH:3) at 0x10bf64e1d00>, <TabularCPD representing P(HR:2 | TH:3, HQ:2) at 0x10bcceb5a00>]\n",
      "+------------------+-----+\n",
      "| HA(suitable)     | 0.6 |\n",
      "+------------------+-----+\n",
      "| HA(not suitable) | 0.4 |\n",
      "+------------------+-----+\n",
      "3\n"
     ]
    }
   ],
   "source": [
    "print(bn_habitat.get_cpds())\n",
    "print(bn_habitat.get_cpds('HA'))\n",
    "print(bn_habitat.get_cardinality('TH'))"
   ]
  },
  {
   "cell_type": "markdown",
   "id": "77a76bfd-2c01-47b6-9915-8730cb1665d9",
   "metadata": {},
   "source": [
    "#### 3）图中的独立性\n",
    "\n",
    "依赖性（Dependencies）和独立性（independencies）是分布的两个主要性质，对理解分布的特征非常重要，并可从根本上降低推断的计算成本。\n",
    "\n",
    "* D-分离（D-separation）\n",
    "\n",
    "**直接连接（Direct connection）**：当任意图（网络结构）$G$的随机变量（节点）$X$和$Y$有边$X  \\rightarrow  Y（E(G)=XY）$时，不论图中其它随机变量的证据（ evidence）如何，都可以构建$X$和$Y$相互关联的分布。"
   ]
  },
  {
   "cell_type": "code",
   "execution_count": 20,
   "id": "a305818b-8ce8-43e9-9f87-b184e1658437",
   "metadata": {
    "tags": []
   },
   "outputs": [
    {
     "data": {
      "image/png": "[encoded data removed]",
      "text/plain": [
       "<Figure size 212.598x55.1181 with 1 Axes>"
      ]
     },
     "metadata": {},
     "output_type": "display_data"
    },
    {
     "data": {
      "image/png": "[encoded data removed]",
      "text/plain": [
       "<Figure size 212.598x55.1181 with 1 Axes>"
      ]
     },
     "metadata": {},
     "output_type": "display_data"
    }
   ],
   "source": [
    "pgm_=daft.PGM()\n",
    "pgm_.add_node(daft.Node('X', r\"X\", 1, 1))\n",
    "pgm_.add_node(daft.Node('Y', r\"Y\", 3, 1))\n",
    "\n",
    "pgm_xy=copy.deepcopy(pgm_)\n",
    "pgm_xy.add_edge('X', 'Y')\n",
    "pgm_xy.render();\n",
    "\n",
    "#----------------------------------------------\n",
    "pgm_yx=copy.deepcopy(pgm_)\n",
    "pgm_yx.add_edge('Y', 'X')\n",
    "pgm_yx.render();\n"
   ]
  },
  {
   "cell_type": "code",
   "execution_count": 18,
   "id": "a014854b-463c-46f9-9b0f-4156ec2c62d6",
   "metadata": {},
   "outputs": [
    {
     "data": {
      "image/png": "[encoded data removed]",
      "text/plain": [
       "<Figure size 59.0551x232.283 with 1 Axes>"
      ]
     },
     "metadata": {},
     "output_type": "display_data"
    },
    {
     "data": {
      "image/png": "[encoded data removed]",
      "text/plain": [
       "<Figure size 66.9291x232.283 with 1 Axes>"
      ]
     },
     "metadata": {},
     "output_type": "display_data"
    },
    {
     "data": {
      "image/png": "[encoded data removed]",
      "text/plain": [
       "<Figure size 137.795x153.543 with 1 Axes>"
      ]
     },
     "metadata": {},
     "output_type": "display_data"
    },
    {
     "data": {
      "image/png": "[encoded data removed]",
      "text/plain": [
       "<Figure size 145.669x153.543 with 1 Axes>"
      ]
     },
     "metadata": {},
     "output_type": "display_data"
    }
   ],
   "source": [
    "pgm_=daft.PGM()\n",
    "\n",
    "pgm_.add_node(daft.Node('X', r\"X\", 1, 3))\n",
    "pgm_.add_node(daft.Node('Z', r\"Z\", 1, 2))\n",
    "pgm_.add_node(daft.Node('Y', r\"Y\", 1, 1))\n",
    "\n",
    "#----------------------------------------------\n",
    "pgm_causal=copy.deepcopy(pgm_)\n",
    "pgm_causal.add_edge('X', 'Z')\n",
    "pgm_causal.add_edge('Z', 'Y')\n",
    "pgm_causal.add_text(0.7,3.5,label='Causal')\n",
    "pgm_causal.render();\n",
    "\n",
    "#----------------------------------------------\n",
    "pgm_evidential=copy.deepcopy(pgm_)\n",
    "pgm_evidential.add_edge('Y', 'Z')\n",
    "pgm_evidential.add_edge('Z', 'X')\n",
    "pgm_evidential.add_text(0.6,3.5,label='Evidential')\n",
    "pgm_evidential.render();\n",
    "\n",
    "#----------------------------------------------\n",
    "pgm_=daft.PGM()\n",
    "\n",
    "pgm_.add_node(daft.Node('X', r\"X\", 1, 2))\n",
    "pgm_.add_node(daft.Node('Z', r\"Z\", 1.5, 1))\n",
    "pgm_.add_node(daft.Node('Y', r\"Y\", 2, 2))\n",
    "\n",
    "pgm_common_cause=copy.deepcopy(pgm_)\n",
    "pgm_common_cause.add_edge('Z', 'X')\n",
    "pgm_common_cause.add_edge('Z', 'Y')\n",
    "pgm_common_cause.add_text(0.7,2.5,label='Common Cause')\n",
    "pgm_common_cause.render();\n",
    "\n",
    "#----------------------------------------------\n",
    "pgm_common_evidence=copy.deepcopy(pgm_)\n",
    "pgm_common_evidence.add_edge('X', 'Z')\n",
    "pgm_common_evidence.add_edge('Y', 'Z')\n",
    "pgm_common_evidence.add_text(0.6,2.5,label='Common Evidence')\n",
    "pgm_common_evidence.render();"
   ]
  },
  {
   "cell_type": "code",
   "execution_count": null,
   "id": "84a7e1e5-ec8f-41ae-ba23-9b156781ddfd",
   "metadata": {},
   "outputs": [],
   "source": []
  },
  {
   "cell_type": "code",
   "execution_count": 8,
   "id": "8bb5f8df-3e75-443a-96e9-82de8d234f4f",
   "metadata": {
    "tags": []
   },
   "outputs": [
    {
     "name": "stdout",
     "output_type": "stream",
     "text": [
      "(HA ⟂ TH)\n",
      "(TH ⟂ HA, CS)\n",
      "(CS ⟂ TH, HR, HQ | HA)\n",
      "(HQ ⟂ CS | TH, HA)\n",
      "(HR ⟂ HA, CS | TH, HQ)\n"
     ]
    }
   ],
   "source": [
    "rvs_habitat=['HA','TH','CS','HQ','HR']\n",
    "print(bn_habitat.local_independencies(rvs_habitat))"
   ]
  },
  {
   "cell_type": "code",
   "execution_count": 9,
   "id": "d97dd044-b1ed-4864-bed6-7ea7225d34f9",
   "metadata": {},
   "outputs": [
    {
     "name": "stdout",
     "output_type": "stream",
     "text": [
      "(TH ⟂ HA, CS)\n",
      "(TH ⟂ CS | HA)\n",
      "(TH ⟂ HA | CS)\n",
      "(TH ⟂ CS | HA, HR)\n",
      "(TH ⟂ CS | HA, HQ)\n",
      "(TH ⟂ CS | HA, HR, HQ)\n",
      "(HQ ⟂ CS | HA)\n",
      "(HQ ⟂ CS | HA, HR)\n",
      "(HQ ⟂ CS | HA, TH)\n",
      "(HQ ⟂ CS | TH, HA, HR)\n",
      "(HA ⟂ TH)\n",
      "(HA ⟂ TH | CS)\n",
      "(HA ⟂ HR | HQ, TH)\n",
      "(HA ⟂ HR | HQ, TH, CS)\n",
      "(HR ⟂ CS | HA)\n",
      "(HR ⟂ CS | HA, TH)\n",
      "(HR ⟂ CS | HA, HQ)\n",
      "(HR ⟂ HA, CS | TH, HQ)\n",
      "(HR ⟂ CS | HA, TH, HQ)\n",
      "(HR ⟂ HA | TH, HQ, CS)\n",
      "(CS ⟂ TH)\n",
      "(CS ⟂ TH, HR, HQ | HA)\n",
      "(CS ⟂ TH, HQ | HA, HR)\n",
      "(CS ⟂ HQ, HR | HA, TH)\n",
      "(CS ⟂ TH, HR | HA, HQ)\n",
      "(CS ⟂ HR | TH, HQ)\n",
      "(CS ⟂ HQ | TH, HA, HR)\n",
      "(CS ⟂ TH | HA, HR, HQ)\n",
      "(CS ⟂ HR | HA, TH, HQ)\n"
     ]
    }
   ],
   "source": [
    "print(bn_habitat.get_independencies())"
   ]
  },
  {
   "cell_type": "markdown",
   "id": "7737b168-bbe8-4744-a81d-bd585e65a5e5",
   "metadata": {},
   "source": [
    "### 3.5.2.2 推理"
   ]
  },
  {
   "cell_type": "code",
   "execution_count": 92,
   "id": "c4c9fdf6-eade-4128-805b-a0b5cd4e21e3",
   "metadata": {},
   "outputs": [
    {
     "name": "stdout",
     "output_type": "stream",
     "text": [
      "+----------+-----------+\n",
      "| HQ       |   phi(HQ) |\n",
      "+==========+===========+\n",
      "| HQ(good) |    0.3680 |\n",
      "+----------+-----------+\n",
      "| HQ(bad)  |    0.6320 |\n",
      "+----------+-----------+\n"
     ]
    }
   ],
   "source": [
    "infer_habitat=VariableElimination(bn_habitat)\n",
    "\n",
    "hq_dist=infer_habitat.query(['HQ'])\n",
    "print(hq_dist)"
   ]
  },
  {
   "cell_type": "code",
   "execution_count": 94,
   "id": "7d88f89c-e74e-47b3-ab82-22a61c1d54e3",
   "metadata": {},
   "outputs": [
    {
     "name": "stdout",
     "output_type": "stream",
     "text": [
      "+----------+-----------+\n",
      "| HQ       |   phi(HQ) |\n",
      "+==========+===========+\n",
      "| HQ(good) |    0.9000 |\n",
      "+----------+-----------+\n",
      "| HQ(bad)  |    0.1000 |\n",
      "+----------+-----------+\n"
     ]
    }
   ],
   "source": [
    "print(infer_habitat.query(['HQ'], evidence={'HA': 'suitable', 'TH': 'weak'}))"
   ]
  },
  {
   "cell_type": "code",
   "execution_count": 99,
   "id": "07fd2dd1-4323-432f-b4a8-07ca18b3b631",
   "metadata": {
    "tags": []
   },
   "outputs": [
    {
     "name": "stdout",
     "output_type": "stream",
     "text": [
      "+----------+-----------+\n",
      "| HQ       |   phi(HQ) |\n",
      "+==========+===========+\n",
      "| HQ(good) |    0.9730 |\n",
      "+----------+-----------+\n",
      "| HQ(bad)  |    0.0270 |\n",
      "+----------+-----------+\n"
     ]
    }
   ],
   "source": [
    "print(infer_habitat.query(['HQ'], evidence={'HA': 'suitable', 'TH': 'weak','CS':'poor','HR':'high'}))"
   ]
  },
  {
   "cell_type": "code",
   "execution_count": 95,
   "id": "ebedae37-dfc5-47e0-87c0-85aeca45bb0f",
   "metadata": {},
   "outputs": [
    {
     "data": {
      "application/vnd.jupyter.widget-view+json": {
       "model_id": "cb070406ba12440ab3a1516f31c39329",
       "version_major": 2,
       "version_minor": 0
      },
      "text/plain": [
       "  0%|          | 0/2 [00:00<?, ?it/s]"
      ]
     },
     "metadata": {},
     "output_type": "display_data"
    },
    {
     "data": {
      "application/vnd.jupyter.widget-view+json": {
       "model_id": "2abafe71868148d3b4875e24cc465979",
       "version_major": 2,
       "version_minor": 0
      },
      "text/plain": [
       "  0%|          | 0/2 [00:00<?, ?it/s]"
      ]
     },
     "metadata": {},
     "output_type": "display_data"
    },
    {
     "data": {
      "text/plain": [
       "{'HQ': 'bad'}"
      ]
     },
     "execution_count": 95,
     "metadata": {},
     "output_type": "execute_result"
    }
   ],
   "source": [
    "infer_habitat.map_query(['HQ'])"
   ]
  },
  {
   "cell_type": "code",
   "execution_count": 96,
   "id": "882889f1-26c9-4cde-9a4c-3a35bb1cd8ab",
   "metadata": {},
   "outputs": [
    {
     "data": {
      "application/vnd.jupyter.widget-view+json": {
       "model_id": "b45e8460bfdc4b58b6d6174a15d263dc",
       "version_major": 2,
       "version_minor": 0
      },
      "text/plain": [
       "0it [00:00, ?it/s]"
      ]
     },
     "metadata": {},
     "output_type": "display_data"
    },
    {
     "data": {
      "application/vnd.jupyter.widget-view+json": {
       "model_id": "647b0f82fc55462c8de15c06b67b3def",
       "version_major": 2,
       "version_minor": 0
      },
      "text/plain": [
       "0it [00:00, ?it/s]"
      ]
     },
     "metadata": {},
     "output_type": "display_data"
    },
    {
     "data": {
      "text/plain": [
       "{'HQ': 'good'}"
      ]
     },
     "execution_count": 96,
     "metadata": {},
     "output_type": "execute_result"
    }
   ],
   "source": [
    "infer_habitat.map_query(['HQ'], evidence={'HA': 'suitable', 'TH': 'weak'})"
   ]
  },
  {
   "cell_type": "code",
   "execution_count": 97,
   "id": "67e95178-c282-40b3-9f88-8f4b3824b03a",
   "metadata": {},
   "outputs": [
    {
     "data": {
      "application/vnd.jupyter.widget-view+json": {
       "model_id": "bcc1ae13e25b46bfba38c64e43d5bf22",
       "version_major": 2,
       "version_minor": 0
      },
      "text/plain": [
       "0it [00:00, ?it/s]"
      ]
     },
     "metadata": {},
     "output_type": "display_data"
    },
    {
     "data": {
      "application/vnd.jupyter.widget-view+json": {
       "model_id": "af737b6f30e3432c88c7b89a71fb7ba9",
       "version_major": 2,
       "version_minor": 0
      },
      "text/plain": [
       "0it [00:00, ?it/s]"
      ]
     },
     "metadata": {},
     "output_type": "display_data"
    },
    {
     "data": {
      "text/plain": [
       "{'HQ': 'good'}"
      ]
     },
     "execution_count": 97,
     "metadata": {},
     "output_type": "execute_result"
    }
   ],
   "source": [
    "infer_habitat.map_query(['HQ'], evidence={'HA': 'suitable', 'TH': 'weak','CS':'poor','HR':'high'})"
   ]
  },
  {
   "cell_type": "code",
   "execution_count": null,
   "id": "c180dd47-e160-4627-b18e-aa72d9e5f165",
   "metadata": {},
   "outputs": [],
   "source": []
  },
  {
   "cell_type": "code",
   "execution_count": null,
   "id": "b33da446-5586-4e13-9800-197e6ed3f92d",
   "metadata": {},
   "outputs": [],
   "source": []
  },
  {
   "cell_type": "code",
   "execution_count": null,
   "id": "07cbf5ce-80dd-43ae-8de8-3c960e56f25f",
   "metadata": {},
   "outputs": [],
   "source": []
  },
  {
   "cell_type": "code",
   "execution_count": null,
   "id": "862f0a5f-8739-4b7d-bf9e-e242da021168",
   "metadata": {},
   "outputs": [],
   "source": []
  },
  {
   "cell_type": "code",
   "execution_count": null,
   "id": "330bf046-0f84-4524-b43c-093264c4ad9e",
   "metadata": {},
   "outputs": [],
   "source": []
  },
  {
   "cell_type": "code",
   "execution_count": null,
   "id": "29a8c6c6-7567-406d-b6f3-b305467815b1",
   "metadata": {},
   "outputs": [],
   "source": []
  },
  {
   "cell_type": "code",
   "execution_count": null,
   "id": "c93b2eab-2fee-41d1-9cf3-c9b6f5215340",
   "metadata": {},
   "outputs": [],
   "source": []
  },
  {
   "cell_type": "code",
   "execution_count": null,
   "id": "5ea8b987-4691-492a-bef1-e4adadd087c6",
   "metadata": {},
   "outputs": [],
   "source": []
  }
 ],
 "metadata": {
  "kernelspec": {
   "display_name": "Python 3 (ipykernel)",
   "language": "python",
   "name": "python3"
  },
  "language_info": {
   "codemirror_mode": {
    "name": "ipython",
    "version": 3
   },
   "file_extension": ".py",
   "mimetype": "text/x-python",
   "name": "python",
   "nbconvert_exporter": "python",
   "pygments_lexer": "ipython3",
   "version": "3.9.16"
  }
 },
 "nbformat": 4,
 "nbformat_minor": 5
}
