{
 "cells": [
  {
   "cell_type": "markdown",
   "id": "5721e089-16af-44ba-82c0-365ff700a5f3",
   "metadata": {
    "tags": []
   },
   "source": [
    "* 联合分布函数\n",
    "\n",
    "二维随机变量，$(X,Y)$的分布不仅要包含每个随机变量各自的信息，还要包含两者之间相互关系的信息，因此称它们的分布为联合分布。\n",
    "\n",
    "定义 3：设$(X,Y)$为二维随机变量，对任意的$(x,y) \\in R^2$，称$F(x, y)=P(X \\leqslant x, Y \\leqslant y)$为随机变量$(X,Y)$的**（联合）分布函数**。式中，$P(X \\leqslant x, Y \\leqslant y)$中的逗号表示对事件$\\{X \\leqslant x\\}$和事件$\\{Y \\leqslant y\\}$取积事件，$P(X \\leqslant x, Y \\leqslant y)=P\\left(\\{X \\leqslant x\\}: \\cap\\{Y \\leqslant y\\})=P\\left((X, Y) \\in D_{x y}\\right) \\right.$，式中$D_{xy}$区域如下图。联合分布函数描述了二维随机变量的统计规律，如果$(X,Y)$看作平面$x \\bigcirc y$上随机点的坐标，那么其分布函数$F(x, y)$在$(x, y)$处的函数值就表示随机变量$(X,Y)$落在以点$(x,y)$为顶点且位于该点左下方的无穷矩形区域内$D_{xy}$的概率。\n",
    "\n",
    "<img src=\"../imgs/3_5_a/3_5_A_03.jpg\" height='auto' width=300 title=\"caDesign\"> \n",
    "\n",
    "对于$n$维随机变量$\\left(X_1, X_2, \\cdots, X_n\\right)$的联合分布概率的定义。\n",
    "\n",
    "定义 4：设$\\left(X_1, X_2, \\cdots, X_n\\right)$为$n$维随机变量，对任意的$\\left(x_1, x_2, \\cdots, x_n\\right) \\in R^n$，称$F\\left(x_1, x_2, \\cdots, x_n\\right)=P\\left(X_1 \\leqslant x_1, \\cdots, X_n \\leqslant x_n\\right)$为**随机变量**$\\left(X_1, X_2, \\cdots, X_n\\right)$**的（联合）分布函数**。\n",
    "\n",
    "联合分布函数具有如下性质，\n",
    "\n",
    "定理 1（**联合分布函数的性质**）：设$F(x,y)$是二维随机变量$(X,Y)$的联合分布函数，则，\n",
    "\n",
    "（1）$0 \\leqslant F(x,y) \\leqslant 1$；\n",
    "\n",
    "（2）当固定$y$值时，$F(x,y)$是变量$x$的非减函数，当固定$x$值时，$F(x,y)$是变量$y$的非减函数；\n",
    "\n",
    "（3）$\\lim _{x \\rightarrow-\\infty} F(x, y)=0, \\lim _{y \\rightarrow-\\infty} F(x, y)=0, \\lim _{\\substack{x \\rightarrow-\\infty \\\\ y \\rightarrow-\\infty}} F(x, y)=0, \\lim _{\\substack{x \\rightarrow+\\infty \\\\ y \\rightarrow+\\infty}} F(x, y)=1$；\n",
    "\n",
    "（4）当固定$y$值时，$F(x,y)$是变量$x$的右连续函数，当固定$x$值时，$F(x,y)$是变量$y$的右连续函数；\n",
    "\n",
    "（5）$P\\left(x_1<X \\leqslant x_2, y_1<Y \\leqslant y_2\\right)=F\\left(x_2, y_2\\right)-F\\left(x_2, y_1\\right)-F\\left(x_1, y_2\\right)+F\\left(x_1, y_1\\right)$。\n",
    "\n",
    "> 除了性质（5）,其它4条性质都可以推广至高维随机变量的联合分布函数。"
   ]
  },
  {
   "cell_type": "markdown",
   "id": "b27e8a04-9d59-4989-9910-066fde93b2b8",
   "metadata": {},
   "source": [
    "* 二维离散型随机变量及其联合分布律\n",
    "\n",
    "定义 5：如何二维随机变量$(X,Y)$仅可能取有限个或可列无限个值，则称$(X,Y)$为**二维离散型随机变量**。\n",
    "\n",
    "二维离散型随机变量$(X,Y)$的分布可用联合分布律表示。\n",
    "\n",
    "定义 6：称$P\\left(X=x_i, Y=y_j\\right)=p_{i j}, i, j=1,2, \\cdots$为二维随机变量$(X,Y)$的**联合分布律**，式中，$p_{i j} \\geqslant 0, i, j=1,2, \\cdots, \\sum_i \\sum_j p_{i j}=1$。\n",
    "\n",
    "二维离散型随机变量$(X,Y)$的联合分布律可用表格发、公式法或图像法表示，其中最为简洁和常用的是表格法（Joint Distribution Table，联合分布表），如：\n",
    "\n",
    "| $Y  \\backslash  X$  | $x_1$  | $x_2$  | $\\cdots$  |\n",
    "|---|---|---|---|\n",
    "|  $y_1$ | $p_{11}$  | $p_{21}$  | $\\cdots$   |\n",
    "| $y_2$  | $p_{12}$  |  $p_{22}$ |  $\\cdots$  |\n",
    "| $ \\vdots $   |  $ \\vdots $  |  $ \\vdots $  |   |\n",
    "\n",
    "例如，分析一个年级的成绩分布，定义随机变量$(X,Y)$为，$X =\\begin{cases}1 & 数学为优,\\\\0 & 数学不为优.\\end{cases} $，$Y =\\begin{cases}1 & 语文为优,\\\\0 & 语文不为优.\\end{cases} $。已知数学为优的占20%，语文为优的占10%，都为优的占8%，计算$(X,Y)$的联合分布律，已知$P(Y=1)=0.1, P(X=1)=0.2,P(X=1,Y=1)=0.08$，有$P(X=0,Y=1)=P(Y=1)-P(X=1,Y=1)=0.02$；$P(X=1,Y=0)=P(X=1)-P(X=1,Y=1)=0.12$。因为$ \\sum_i \\sum_j p_{i j}=1 $，所以$P(X=0,Y=0)=1-P(X=1,Y=1)-P(X=0,Y=1)-P(X=1,Y=0)=1-0.08-0.02-0.12=0.78$。\n",
    "\n",
    "使用[datascience](https://github.com/data-8/datascience)库的`Table()`方法，根据计算结果建立联合分布表`joint_dist`，计算结果如下。"
   ]
  },
  {
   "cell_type": "code",
   "execution_count": 1,
   "id": "4874a90d-ea57-4385-bb00-bc5fcc34f9e1",
   "metadata": {
    "tags": []
   },
   "outputs": [],
   "source": [
    "from datascience import *\n",
    "from prob140 import *\n",
    "%matplotlib inline\n",
    "import matplotlib.pyplot as plt\n",
    "import numpy as np\n",
    "plt.style.use('fivethirtyeight')"
   ]
  },
  {
   "cell_type": "code",
   "execution_count": 53,
   "id": "d811db25-b616-46fd-8943-c5e836675a57",
   "metadata": {
    "tags": []
   },
   "outputs": [
    {
     "data": {
      "text/html": [
       "<div>\n",
       "<style scoped>\n",
       "    .dataframe tbody tr th:only-of-type {\n",
       "        vertical-align: middle;\n",
       "    }\n",
       "\n",
       "    .dataframe tbody tr th {\n",
       "        vertical-align: top;\n",
       "    }\n",
       "\n",
       "    .dataframe thead th {\n",
       "        text-align: right;\n",
       "    }\n",
       "</style>\n",
       "<table border=\"1\" class=\"dataframe\">\n",
       "  <thead>\n",
       "    <tr style=\"text-align: right;\">\n",
       "      <th></th>\n",
       "      <th>X=0</th>\n",
       "      <th>X=1</th>\n",
       "    </tr>\n",
       "  </thead>\n",
       "  <tbody>\n",
       "    <tr>\n",
       "      <th>Y=1</th>\n",
       "      <td>0.02</td>\n",
       "      <td>0.08</td>\n",
       "    </tr>\n",
       "    <tr>\n",
       "      <th>Y=0</th>\n",
       "      <td>0.78</td>\n",
       "      <td>0.12</td>\n",
       "    </tr>\n",
       "  </tbody>\n",
       "</table>\n",
       "</div>"
      ],
      "text/plain": [
       "      X=0   X=1\n",
       "Y=1  0.02  0.08\n",
       "Y=0  0.78  0.12"
      ]
     },
     "execution_count": 53,
     "metadata": {},
     "output_type": "execute_result"
    }
   ],
   "source": [
    "k=np.arange(2)\n",
    "\n",
    "def joint_probability(x,y):\n",
    "    if x==0 and y==0: return 0.78\n",
    "    elif x==0 and y==1: return 0.02\n",
    "    elif x==1 and y==0: return 0.12\n",
    "    elif x==1 and y==1: return 0.08\n",
    "\n",
    "joint_dist=Table().values('X',k,'Y',k).probability_function(joint_probability)\n",
    "joint_dist"
   ]
  },
  {
   "cell_type": "markdown",
   "id": "1e2fdc21-93ce-4e9f-9f27-c28da5ce3e50",
   "metadata": {},
   "source": [
    "计算概率$P(X \\leqslant Y)=1-P(X>Y)=1-P(X=1,Y=0)=1-0.12=0.88$。使用定义的`joint_dist`联合分布表，定义随机变量的关系函数`indicator_equal`计算结果同。"
   ]
  },
  {
   "cell_type": "code",
   "execution_count": 54,
   "id": "e9f31ee5-6dee-4cd2-9819-a4f575000ffd",
   "metadata": {
    "tags": []
   },
   "outputs": [
    {
     "name": "stdout",
     "output_type": "stream",
     "text": [
      "P(Event) = 0.88\n"
     ]
    },
    {
     "data": {
      "text/html": [
       "<div>\n",
       "<style scoped>\n",
       "    .dataframe tbody tr th:only-of-type {\n",
       "        vertical-align: middle;\n",
       "    }\n",
       "\n",
       "    .dataframe tbody tr th {\n",
       "        vertical-align: top;\n",
       "    }\n",
       "\n",
       "    .dataframe thead th {\n",
       "        text-align: right;\n",
       "    }\n",
       "</style>\n",
       "<table border=\"1\" class=\"dataframe\">\n",
       "  <thead>\n",
       "    <tr style=\"text-align: right;\">\n",
       "      <th></th>\n",
       "      <th>X=0</th>\n",
       "      <th>X=1</th>\n",
       "    </tr>\n",
       "  </thead>\n",
       "  <tbody>\n",
       "    <tr>\n",
       "      <th>Y=1</th>\n",
       "      <td>0.02</td>\n",
       "      <td>0.08</td>\n",
       "    </tr>\n",
       "    <tr>\n",
       "      <th>Y=0</th>\n",
       "      <td>0.78</td>\n",
       "      <td></td>\n",
       "    </tr>\n",
       "  </tbody>\n",
       "</table>\n",
       "</div>"
      ],
      "text/plain": [
       "      X=0   X=1\n",
       "Y=1  0.02  0.08\n",
       "Y=0  0.78      "
      ]
     },
     "execution_count": 54,
     "metadata": {},
     "output_type": "execute_result"
    }
   ],
   "source": [
    "def indicator_equal(i, j):\n",
    "    return i <= j  \n",
    "\n",
    "joint_dist.event(indicator_equal, 'X', 'Y')"
   ]
  },
  {
   "cell_type": "markdown",
   "id": "abe132eb-cdf9-4ece-b552-04a5ba2e5e4a",
   "metadata": {},
   "source": [
    "$(X,Y)$的值域为$\\Omega_{(X,Y)}=\\{(0,0),(0,1),(1,0),(1,1)\\}$，由$F(x, y)=P(X \\leqslant x, Y \\leqslant y)$得联合分布函数为：$F(x, y)=\\left\\{\\begin{array}{ll}0, & x<0 \\text { 或 } y<0, \\\\ 0.78, & 0 \\leqslant x<1,0 \\leqslant y<1, \\\\ 0.8, & 0 \\leqslant x<1, y \\geqslant 1, \\\\ 0.9, & x \\geqslant 1,0 \\leqslant y<1, \\\\ 1, & x \\geqslant 1, y \\geqslant 1 .\\end{array}\\right.$。\n",
    "\n"
   ]
  },
  {
   "cell_type": "markdown",
   "id": "5f176641-4c19-4937-8ff5-b2571c26605e",
   "metadata": {},
   "source": [
    "---"
   ]
  },
  {
   "cell_type": "markdown",
   "id": "9d4910be-079b-46dd-a3b2-e7f3d08c224f",
   "metadata": {
    "tags": []
   },
   "source": [
    "* 二维连续型随机变量及其联合密度函数\n",
    "\n",
    "定义 7：设二维随机变量$(X,Y)$的联合分布函数为$F(x,y)$，如果存在一个二元非负实值函数$f(x,y)$，使得对于任意$(x,y) \\in R^2$有$F(x, y)=\\int_{-\\infty}^x \\int_{-\\infty}^y f(u, v) \\mathrm{d} u \\mathrm{~d} v$成立，则称$(X,Y)$为**二维连续型随机变量**，$f(x,y)$为二维连续型随机变量$(X,Y)$的**联合（概率）密度函数**。式中，$\\int_{-\\infty}^x \\int_{-\\infty}^y f(u, v) \\mathrm{d} u \\mathrm{~d} v$表示二重积分$\\iint_{D_{x y}} f(u, v) \\mathrm{d} u \\mathrm{~d} v$，其中积分区域$D_{x y}=(-\\infty, x] \\cdot(-\\infty, y]$。\n",
    "\n",
    "定义 8：设$n$维随机变量$\\left(X_1, X_2, \\cdots, X_n\\right)$的联合分布函数为$F\\left(x_1, x_2, \\cdots, x_n\\right)$，如果存在一个$n$元非负函数$f\\left(x_1, x_2, \\cdots, x_n\\right)$，使得对任意的$\\left(x_1, x_2, \\cdots, x_n\\right) \\in R^n$有$F\\left(x_1, x_2, \\cdots, x_n\\right)=\\int_{-\\infty}^{x_1} \\cdots \\int_{-\\infty}^{x_n} f\\left(u_1, u_2, \\cdots, u_n\\right) \\mathrm{d} u_1 \\mathrm{~d} u_2 \\cdots \\mathrm{d} u_n $ 成立，则称$\\left(X_1, X_2, \\cdots, X_n\\right)$为$n$**维连续型随机变量**，$f\\left(x_1, x_2, \\cdots, x_n\\right)$为$n$维连续型随机变量$\\left(X_1, X_2, \\cdots, X_n\\right)$的**联合（概率）密度函数**。\n",
    "\n",
    "二维连续型随机变量$(X,Y)$的联合密度函数有：\n",
    "\n",
    "定理 2（**联合密度函数的性质**）：设$f(x,y)$为二维连续型随机变量$(X,Y)$的联合密度函数，则\n",
    "\n",
    "(1) 非负性，$f(x, y) \\geqslant 0,-\\infty<x, y<+\\infty$;\n",
    "\n",
    "(2) 规范性 $\\int_{-\\infty}^{+\\infty} \\int_{-\\infty}^{+\\infty} f(x, y) \\mathrm{d} x \\mathrm{~d} y=1$。\n",
    "\n",
    "联合密度函数的规范性意味着以曲面$f(x,y)$为顶，以整个$x \\bigcirc y$平面与$\\Omega_{X,Y}$的交集区域为底的曲顶柱体的体积为1。如下图，其联合密度函数为$f(x, y)=\\left\\{\\begin{array}{rr}120 x(y-x)(1-y), \\quad 0<x<y<1 \\\\ 0 \\quad & \\text { otherwise }\\end{array}\\right. $，有$\\int_0^1 \\int_0^y 120 x(y-x)(1-y) d x d y \\\\  =120 \\int_0^1(1-y)\\left(\\int_0^y\\left(x y-x^2\\right) d x\\right) d y \\\\  =20 \\int_0^1(1-y) y^3 d y=20\\left(\\frac{1}{4}-\\frac{1}{5}\\right)=1$。\n",
    "\n",
    "使用[SimPy](https://docs.sympy.org/latest/modules/integrals/integrals.html)和[datascience](https://github.com/data-8/datascience)库定义二维连续型随机变量的联合密度函数并打印显示。"
   ]
  },
  {
   "cell_type": "code",
   "execution_count": 12,
   "id": "99e24be9-ddfd-4491-9dff-bdd27c93ada5",
   "metadata": {
    "tags": []
   },
   "outputs": [],
   "source": [
    "from sympy import Symbol,Integral\n",
    "import numpy as np \n",
    "import matplotlib.pyplot as plt"
   ]
  },
  {
   "cell_type": "code",
   "execution_count": 3,
   "id": "b540a496-e74b-4194-8c13-db6bdb387421",
   "metadata": {
    "tags": []
   },
   "outputs": [
    {
     "data": {
      "application/vnd.jupyter.widget-view+json": {
       "model_id": "fe10f143498b4660b4058c45a4ff1c88",
       "version_major": 2,
       "version_minor": 0
      },
      "text/plain": [
       "interactive(children=(FloatSlider(value=20.0, description='elevation', max=90.0, step=1.0), FloatSlider(value=…"
      ]
     },
     "metadata": {},
     "output_type": "display_data"
    }
   ],
   "source": [
    "def joint(x,y):\n",
    "    if y < x:\n",
    "        return 0\n",
    "    else:\n",
    "        return 120 * x * (y-x) * (1-y)\n",
    "    \n",
    "Plot_3d(x_limits=(0,1), y_limits=(0,1), f=joint, cstride=4, rstride=4,interactive=True)    "
   ]
  },
  {
   "cell_type": "code",
   "execution_count": 30,
   "id": "88540fbb-f68b-40d8-8035-febc950a2ca3",
   "metadata": {},
   "outputs": [
    {
     "data": {
      "text/latex": [
       "$\\displaystyle 120 x \\left(1 - y\\right) \\left(- x + y\\right)$"
      ],
      "text/plain": [
       "120*x*(1 - y)*(-x + y)"
      ]
     },
     "execution_count": 30,
     "metadata": {},
     "output_type": "execute_result"
    }
   ],
   "source": [
    "x = Symbol('x', positive=True)\n",
    "y = Symbol('y', positive=True)\n",
    "\n",
    "f = 120*x*(y-x)*(1-y)\n",
    "f"
   ]
  },
  {
   "cell_type": "markdown",
   "id": "e5478340-284c-44e7-afe3-194bcf906adc",
   "metadata": {},
   "source": [
    "使用`Integral`方法定义二重积分。"
   ]
  },
  {
   "cell_type": "code",
   "execution_count": 10,
   "id": "ce05026d-f268-446f-8bb0-e2f087dab2b7",
   "metadata": {},
   "outputs": [
    {
     "data": {
      "text/latex": [
       "$\\displaystyle \\int\\limits_{0}^{1}\\int\\limits_{0}^{y} 120 x \\left(1 - y\\right) \\left(- x + y\\right)\\, dx\\, dy$"
      ],
      "text/plain": [
       "Integral(120*x*(1 - y)*(-x + y), (x, 0, y), (y, 0, 1))"
      ]
     },
     "execution_count": 10,
     "metadata": {},
     "output_type": "execute_result"
    }
   ],
   "source": [
    "F_XY=Integral(f, (x, 0, y), (y, 0, 1))\n",
    "F_XY"
   ]
  },
  {
   "cell_type": "markdown",
   "id": "e72a8c38-5344-447e-acfc-bdbeb2da28bf",
   "metadata": {},
   "source": [
    "`doit()`方法估计该二重积分的结果为1。"
   ]
  },
  {
   "cell_type": "code",
   "execution_count": 11,
   "id": "7a12577a-bb91-421e-8048-1152951c9f63",
   "metadata": {},
   "outputs": [
    {
     "data": {
      "text/latex": [
       "$\\displaystyle 1$"
      ],
      "text/plain": [
       "1"
      ]
     },
     "execution_count": 11,
     "metadata": {},
     "output_type": "execute_result"
    }
   ],
   "source": [
    "F_XY.doit()"
   ]
  },
  {
   "cell_type": "markdown",
   "id": "911dcf46-393e-489f-b751-6966059d61a0",
   "metadata": {},
   "source": [
    "为了方便观察随机变量$(X,Y)$的数值区间，以平面形式表述。"
   ]
  },
  {
   "cell_type": "code",
   "execution_count": 84,
   "id": "8a531d34-d66f-4a34-9e8d-d0bc7ac3062b",
   "metadata": {},
   "outputs": [
    {
     "data": {
      "image/png": "[encoded data removed]",
      "text/plain": [
       "<Figure size 300x300 with 1 Axes>"
      ]
     },
     "metadata": {},
     "output_type": "display_data"
    }
   ],
   "source": [
    "coords=np.arange(0,1+0.1,0.1)\n",
    "pts_y=[[0,i] for i in coords]\n",
    "pts_x=[[i,i] for i in coords]\n",
    "pts_x.reverse()\n",
    "pts=np.array(pts_y+pts_x)\n",
    "\n",
    "plt.figure(figsize=(3,3))\n",
    "t=plt.Polygon(pts, color='gray')\n",
    "plt.gca().add_patch(t)\n",
    "\n",
    "plt.xlabel(\"$x$\")\n",
    "plt.ylabel(\"$y$\")\n",
    "plt.xticks(fontsize=10);plt.yticks(fontsize=10)\n",
    "plt.show()"
   ]
  },
  {
   "cell_type": "markdown",
   "id": "fb8bf041-b74e-4edf-ac9e-8dc9f0bb7bd6",
   "metadata": {},
   "source": [
    "计算概率$\\begin{aligned} P(Y>4 X) & =\\int_0^1 \\int_0^{y / 4} 120 x(y-x)(1-y) d x d y \\\\ & =120 \\int_0^1(1-y)\\left(\\int_0^{y / 4}\\left(x y-x^2\\right) d x\\right) d y \\\\ & =120\\left(\\frac{1}{32}-\\frac{1}{192}\\right) \\int_0^1(1-y) y^3 d y \\\\ & =120\\left(\\frac{1}{32}-\\frac{1}{192}\\right) \\cdot \\frac{1}{20}=0.15625\\end{aligned}$，代码计算如下。"
   ]
  },
  {
   "cell_type": "code",
   "execution_count": 85,
   "id": "5f63d812-fb96-4a18-8a0e-37ecafb215e8",
   "metadata": {
    "tags": []
   },
   "outputs": [
    {
     "data": {
      "image/png": "[encoded data removed]",
      "text/plain": [
       "<Figure size 300x300 with 1 Axes>"
      ]
     },
     "metadata": {},
     "output_type": "display_data"
    }
   ],
   "source": [
    "pts_x_d1=[[i/4,i] for i in coords]\n",
    "pts_x_d1.reverse()\n",
    "pts_d1=np.array(pts_y+pts_x_d1)\n",
    "\n",
    "plt.figure(figsize=(3,3))\n",
    "t=plt.Polygon(pts, color='gray')\n",
    "plt.gca().add_patch(t)\n",
    "\n",
    "t1=plt.Polygon(pts_d1,color='g')\n",
    "plt.gca().add_patch(t1)\n",
    "\n",
    "plt.xlabel(\"$x$\")\n",
    "plt.ylabel(\"$y$\")\n",
    "plt.xticks(fontsize=10);plt.yticks(fontsize=10)\n",
    "plt.show()"
   ]
  },
  {
   "cell_type": "code",
   "execution_count": 32,
   "id": "7a0da62b-2a8b-4c57-8c41-6068cfc1da2d",
   "metadata": {},
   "outputs": [
    {
     "data": {
      "text/latex": [
       "$\\displaystyle \\int\\limits_{0}^{1}\\int\\limits_{0}^{\\frac{y}{4}} 120 x \\left(1 - y\\right) \\left(- x + y\\right)\\, dx\\, dy$"
      ],
      "text/plain": [
       "Integral(120*x*(1 - y)*(-x + y), (x, 0, y/4), (y, 0, 1))"
      ]
     },
     "execution_count": 32,
     "metadata": {},
     "output_type": "execute_result"
    }
   ],
   "source": [
    "f_1=Integral(f, (x, 0, y/4), (y, 0, 1))\n",
    "f_1"
   ]
  },
  {
   "cell_type": "code",
   "execution_count": 33,
   "id": "c47f1dfd-1a60-4954-a501-30387280eac3",
   "metadata": {},
   "outputs": [
    {
     "data": {
      "text/latex": [
       "$\\displaystyle \\frac{5}{32}$"
      ],
      "text/plain": [
       "5/32"
      ]
     },
     "execution_count": 33,
     "metadata": {},
     "output_type": "execute_result"
    }
   ],
   "source": [
    "f_1.doit()"
   ]
  },
  {
   "cell_type": "markdown",
   "id": "6cbe8d0c-b7e9-428f-9877-3857ab10368d",
   "metadata": {},
   "source": [
    "计算概率$P(X>0.25, Y>0.5)=\\int_{0.5}^1 \\int_{0.25}^y 120 x(y-x)(1-y) d x d y$，代码计算如下。"
   ]
  },
  {
   "cell_type": "code",
   "execution_count": 86,
   "id": "fa937586-7781-4f46-9567-b00d8469ea16",
   "metadata": {},
   "outputs": [
    {
     "data": {
      "image/png": "[encoded data removed]",
      "text/plain": [
       "<Figure size 300x300 with 1 Axes>"
      ]
     },
     "metadata": {},
     "output_type": "display_data"
    }
   ],
   "source": [
    "coords_d2=[i for i in coords if i>=0.5]\n",
    "pts_y_d2=[[0.25,i] for i in coords_d2]\n",
    "\n",
    "pts_x_d2=[[i,i] for i in coords_d2 if i >=0.25]\n",
    "pts_x_d2.reverse()\n",
    "pts_d2=np.array(pts_y_d2+pts_x_d2)\n",
    "\n",
    "plt.figure(figsize=(3,3))\n",
    "t=plt.Polygon(pts, color='gray')\n",
    "plt.gca().add_patch(t)\n",
    "\n",
    "t2=plt.Polygon(pts_d2,color='g')\n",
    "plt.gca().add_patch(t2)\n",
    "\n",
    "plt.xlabel(\"$x$\")\n",
    "plt.ylabel(\"$y$\")\n",
    "plt.xticks(fontsize=10);plt.yticks(fontsize=10)\n",
    "plt.show()"
   ]
  },
  {
   "cell_type": "code",
   "execution_count": 34,
   "id": "38e07105-8565-493f-a7cc-a68c538309be",
   "metadata": {},
   "outputs": [
    {
     "data": {
      "text/latex": [
       "$\\displaystyle \\int\\limits_{0.5}^{1}\\int\\limits_{0.25}^{y} 120 x \\left(1 - y\\right) \\left(- x + y\\right)\\, dx\\, dy$"
      ],
      "text/plain": [
       "Integral(120*x*(1 - y)*(-x + y), (x, 0.25, y), (y, 0.5, 1))"
      ]
     },
     "execution_count": 34,
     "metadata": {},
     "output_type": "execute_result"
    }
   ],
   "source": [
    "f_2=Integral(f, (x, 0.25, y), (y, 0.5, 1))\n",
    "f_2"
   ]
  },
  {
   "cell_type": "code",
   "execution_count": 35,
   "id": "1206f8a4-24e6-4dc3-8646-c1d2e30695e3",
   "metadata": {
    "tags": []
   },
   "outputs": [
    {
     "data": {
      "text/latex": [
       "$\\displaystyle 0.578125$"
      ],
      "text/plain": [
       "0.578125000000000"
      ]
     },
     "execution_count": 35,
     "metadata": {},
     "output_type": "execute_result"
    }
   ],
   "source": [
    "f_2.doit()"
   ]
  },
  {
   "cell_type": "markdown",
   "id": "649253da-997e-4293-ad25-ad672ff99a07",
   "metadata": {},
   "source": [
    "* 常用的多维随机变量\n",
    "\n",
    "1）二维均匀分布\n",
    "\n",
    "设二维随机变量$(X,Y)$的联合密度函数为$f(x, y)=\\left\\{\\begin{array}{l}\\frac{1}{S_G}, \\quad(x, y) \\in G, \\\\ 0, \\quad \\text { 其他. }\\end{array}\\right.$，式中，$G$是$x \\bigcirc y$平面上的某个区域，$S_G$为$G$的面积，则称$(X,Y)$服从区域$G$上的**二维均匀分布**。\n",
    "\n",
    "2）二维正态分布$N(\\mu_1, \\mu_2, \\sigma_1^2,\\sigma_2^2,\\rho)$\n",
    "\n",
    "如果$(X,Y)$的联合密度函数为$f(x, y)=\\frac{1}{2 \\pi \\sigma_1 \\sigma_2 \\sqrt{1-\\rho^2}} \\exp \\left\\{-\\frac{1}{2\\left(1-\\rho^2\\right)}\\left[\\frac{\\left(x-\\mu_1\\right)^2}{\\sigma_1^2}-2 \\rho \\frac{\\left(x-\\mu_1\\right)\\left(y-\\mu_2\\right)}{\\sigma_1 \\sigma_2}+\\frac{\\left(y-\\mu_2\\right)^2}{\\sigma_2^2}\\right]\\right\\},-\\infty<x, y<+\\infty$，则称$(X,Y)$服从**二维正态分布**，并记为$(X, Y) \\sim N\\left(\\mu_1, \\mu_2, \\sigma_1^2, \\sigma_2^2, \\rho)\\right.$，式中，$- \\infty <\\mu_1, \\mu_2<+ \\infty , \\sigma_1\\sigma_2>0, \\mid \\rho \\mid<1 $。\n",
    "\n",
    "二维正态分布的联合密度函数图像如下。"
   ]
  },
  {
   "cell_type": "code",
   "execution_count": 99,
   "id": "ed4c8ace-4b35-4a74-b3cc-33d7ca55e2f4",
   "metadata": {
    "tags": []
   },
   "outputs": [
    {
     "data": {
      "application/vnd.jupyter.widget-view+json": {
       "model_id": "e963b93440b845c4a6ac8c721d5e8a59",
       "version_major": 2,
       "version_minor": 0
      },
      "text/plain": [
       "interactive(children=(FloatSlider(value=20.0, description='elevation', max=90.0, step=1.0), FloatSlider(value=…"
      ]
     },
     "metadata": {},
     "output_type": "display_data"
    }
   ],
   "source": [
    "def joint(x,y,mu1=0.5,mu2=0.5,sig1=0.15,sig2=0.15,rho=0.1):\n",
    "    return 1/(2*np.pi*sig1*sig2*np.sqrt(1-rho**2))*np.exp(-1/(2*(1-rho**2))\n",
    "                                                          *(((x-mu1)**2/sig1**2) \n",
    "                                                          - 2*rho*(x-mu1)*(y-mu2)/(sig1*sig2) \n",
    "                                                          + (y-mu2)**2/sig2**2))\n",
    "    \n",
    "Plot_3d(x_limits=(0,1), y_limits=(0,1), f=joint, cstride=4, rstride=4,interactive=True) "
   ]
  },
  {
   "cell_type": "code",
   "execution_count": null,
   "id": "531eef27-67ee-42e8-97d5-9eff6e0fe5f2",
   "metadata": {},
   "outputs": [],
   "source": []
  },
  {
   "cell_type": "code",
   "execution_count": null,
   "id": "c9eeea77-bce2-403b-987b-ee49da0c53da",
   "metadata": {
    "tags": []
   },
   "outputs": [],
   "source": []
  },
  {
   "cell_type": "code",
   "execution_count": null,
   "id": "e2a34d3c-5de7-4b01-a456-b13cd718fc05",
   "metadata": {},
   "outputs": [],
   "source": []
  },
  {
   "cell_type": "code",
   "execution_count": 62,
   "id": "47f5f593-44b1-4c7d-894c-4afc85115dfc",
   "metadata": {},
   "outputs": [
    {
     "data": {
      "text/plain": [
       "[('H', 'H', 'H'),\n",
       " ('H', 'H', 'T'),\n",
       " ('H', 'T', 'H'),\n",
       " ('H', 'T', 'T'),\n",
       " ('T', 'H', 'H'),\n",
       " ('T', 'H', 'T'),\n",
       " ('T', 'T', 'H'),\n",
       " ('T', 'T', 'T')]"
      ]
     },
     "execution_count": 62,
     "metadata": {},
     "output_type": "execute_result"
    }
   ],
   "source": [
    "from itertools import product\n",
    "\n",
    "coin = make_array('H', 'T')\n",
    "three_tosses = list(product(coin, repeat=3))\n",
    "three_tosses"
   ]
  },
  {
   "cell_type": "code",
   "execution_count": 63,
   "id": "e2594536-8f4f-401c-9c9e-7be55a5bd5e0",
   "metadata": {
    "tags": []
   },
   "outputs": [
    {
     "data": {
      "text/plain": [
       "array(['H', 'T'],\n",
       "      dtype='<U1')"
      ]
     },
     "execution_count": 63,
     "metadata": {},
     "output_type": "execute_result"
    }
   ],
   "source": [
    "coin"
   ]
  },
  {
   "cell_type": "code",
   "execution_count": null,
   "id": "80777f88-499b-4aab-aa94-fce7e4fff391",
   "metadata": {},
   "outputs": [],
   "source": []
  }
 ],
 "metadata": {
  "kernelspec": {
   "display_name": "Python 3 (ipykernel)",
   "language": "python",
   "name": "python3"
  },
  "language_info": {
   "codemirror_mode": {
    "name": "ipython",
    "version": 3
   },
   "file_extension": ".py",
   "mimetype": "text/x-python",
   "name": "python",
   "nbconvert_exporter": "python",
   "pygments_lexer": "ipython3",
   "version": "3.9.16"
  }
 },
 "nbformat": 4,
 "nbformat_minor": 5
}
