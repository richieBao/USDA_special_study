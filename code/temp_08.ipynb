{
 "cells": [
  {
   "cell_type": "code",
   "execution_count": 3,
   "id": "6f90ba06-7a1d-4d33-a79f-cd655813ce0b",
   "metadata": {
    "tags": []
   },
   "outputs": [],
   "source": [
    "from datascience import *\n",
    "from prob140 import *\n",
    "%matplotlib inline\n",
    "import matplotlib.pyplot as plt\n",
    "import numpy as np\n",
    "plt.style.use('fivethirtyeight')"
   ]
  },
  {
   "cell_type": "code",
   "execution_count": 4,
   "id": "ec4986cf-6178-43ab-a1c9-a0bde2dd2e60",
   "metadata": {
    "tags": []
   },
   "outputs": [],
   "source": [
    "from sympy import Symbol,Integral\n",
    "import numpy as np \n",
    "import matplotlib.pyplot as plt\n",
    "import matplotlib\n",
    "import pandas as pd\n",
    "from fractions import Fraction"
   ]
  },
  {
   "cell_type": "markdown",
   "id": "a9852fe8-75e8-49dc-9e05-56c58edaec71",
   "metadata": {},
   "source": [
    "* 边缘分布\n",
    "\n",
    "二维随机变量$(X,Y)$中，$X$和$Y$也都是随机变量，分别有各自的概率分布，称$X$和$Y$的概率分布为二维随机变量$(X,Y)$关于$X$和关于$Y$的**边缘概率分布**，简称**边缘分布**。\n",
    "\n",
    "定义 1：设二维随机变量$(X,Y)$的联合分布函数为$F(x,y)$，称$F_X(x)=P(X \\leqslant x)=P(X \\leqslant x, Y \\leqslant+\\infty)=F(x,+\\infty),-\\infty<x<+\\infty$为**随机变量**$X$**的边缘分布函数**；称$ F_Y(y)=P(Y \\leqslant y)=P(X \\leqslant+\\infty, Y \\leqslant y)=F(+\\infty, y),-\\infty<y<+\\infty$为**随机变量**$Y$**的边缘分布函数**。\n",
    "\n",
    "定义 2：设二维离散型随机变量$(X,Y)$的联合分布律为$P\\left(X=x_i, Y=y_j\\right)=p_{i j}, i, j=1,2, \\cdots$，称概率$P\\left(X=x_i\\right)=P\\left(X=x_i, \\cup_j Y=y_j\\right)=\\sum_j P\\left(X=x_i, Y=y_j\\right)=\\sum_j p_{i j}, \\quad i=1,2, \\cdots $为**随机变量**$X$**的边缘分布律**，记为$p_i .$，并有$p_i .=P\\left(X=x_i\\right)=\\sum_j p_{i j}, i=1,2, \\cdots$；类似，称概率$P\\left(Y=y_j\\right), j=1,2, \\cdots$为**随机变量**$Y$**的边缘分布律**，记为$P_{\\cdot j}$，并有$ P_{\\cdot j}=P\\left(Y=y_j\\right)=\\sum_i p_{i j}, j=1,2, \\cdots$。即，求$X$的边缘分布律为求$(X,Y)$联合分布律表格中的列（或行）和，求$Y$的边缘分布律为求$(X,Y)$联合分布律表格中的行（或列）和。因为边缘分布律位于联合分布律表格的边缘，因此称其为边缘分布律。\n",
    "\n",
    "下面计算了前文关于一个年级数学和语文成绩分布的联合分布表及其边缘分布律。"
   ]
  },
  {
   "cell_type": "code",
   "execution_count": 3,
   "id": "9e783540-92b6-4f2d-a81c-6536aced7475",
   "metadata": {
    "tags": []
   },
   "outputs": [
    {
     "data": {
      "text/html": [
       "<div>\n",
       "<style scoped>\n",
       "    .dataframe tbody tr th:only-of-type {\n",
       "        vertical-align: middle;\n",
       "    }\n",
       "\n",
       "    .dataframe tbody tr th {\n",
       "        vertical-align: top;\n",
       "    }\n",
       "\n",
       "    .dataframe thead th {\n",
       "        text-align: right;\n",
       "    }\n",
       "</style>\n",
       "<table border=\"1\" class=\"dataframe\">\n",
       "  <thead>\n",
       "    <tr style=\"text-align: right;\">\n",
       "      <th></th>\n",
       "      <th>X=0</th>\n",
       "      <th>X=1</th>\n",
       "      <th>Sum: Marginal of Y</th>\n",
       "    </tr>\n",
       "  </thead>\n",
       "  <tbody>\n",
       "    <tr>\n",
       "      <th>Y=1</th>\n",
       "      <td>0.02</td>\n",
       "      <td>0.08</td>\n",
       "      <td>0.1</td>\n",
       "    </tr>\n",
       "    <tr>\n",
       "      <th>Y=0</th>\n",
       "      <td>0.78</td>\n",
       "      <td>0.12</td>\n",
       "      <td>0.9</td>\n",
       "    </tr>\n",
       "    <tr>\n",
       "      <th>Sum: Marginal of X</th>\n",
       "      <td>0.80</td>\n",
       "      <td>0.20</td>\n",
       "      <td>1.0</td>\n",
       "    </tr>\n",
       "  </tbody>\n",
       "</table>\n",
       "</div>"
      ],
      "text/plain": [
       "                     X=0   X=1  Sum: Marginal of Y\n",
       "Y=1                 0.02  0.08                 0.1\n",
       "Y=0                 0.78  0.12                 0.9\n",
       "Sum: Marginal of X  0.80  0.20                 1.0"
      ]
     },
     "execution_count": 3,
     "metadata": {},
     "output_type": "execute_result"
    }
   ],
   "source": [
    "k=np.arange(2)\n",
    "\n",
    "def joint_probability(x,y):\n",
    "    if x==0 and y==0: return 0.78\n",
    "    elif x==0 and y==1: return 0.02\n",
    "    elif x==1 and y==0: return 0.12\n",
    "    elif x==1 and y==1: return 0.08\n",
    "\n",
    "joint_table=Table().values('X',k,'Y',k).probability_function(joint_probability)\n",
    "joint_table.both_marginals() "
   ]
  },
  {
   "cell_type": "code",
   "execution_count": 4,
   "id": "1a0bf122-1c3b-4116-b6fb-7d4b6d66b696",
   "metadata": {
    "tags": []
   },
   "outputs": [
    {
     "data": {
      "text/html": [
       "<div>\n",
       "<style scoped>\n",
       "    .dataframe tbody tr th:only-of-type {\n",
       "        vertical-align: middle;\n",
       "    }\n",
       "\n",
       "    .dataframe tbody tr th {\n",
       "        vertical-align: top;\n",
       "    }\n",
       "\n",
       "    .dataframe thead th {\n",
       "        text-align: right;\n",
       "    }\n",
       "</style>\n",
       "<table border=\"1\" class=\"dataframe\">\n",
       "  <thead>\n",
       "    <tr style=\"text-align: right;\">\n",
       "      <th></th>\n",
       "      <th>X=0</th>\n",
       "      <th>X=1</th>\n",
       "      <th>Sum: Marginal of Y</th>\n",
       "    </tr>\n",
       "  </thead>\n",
       "  <tbody>\n",
       "    <tr>\n",
       "      <th>Y=1</th>\n",
       "      <td>0.02</td>\n",
       "      <td>0.08</td>\n",
       "      <td>0.1</td>\n",
       "    </tr>\n",
       "    <tr>\n",
       "      <th>Y=0</th>\n",
       "      <td>0.78</td>\n",
       "      <td>0.12</td>\n",
       "      <td>0.9</td>\n",
       "    </tr>\n",
       "  </tbody>\n",
       "</table>\n",
       "</div>"
      ],
      "text/plain": [
       "      X=0   X=1  Sum: Marginal of Y\n",
       "Y=1  0.02  0.08                 0.1\n",
       "Y=0  0.78  0.12                 0.9"
      ]
     },
     "execution_count": 4,
     "metadata": {},
     "output_type": "execute_result"
    }
   ],
   "source": [
    "joint_table.marginal('Y')"
   ]
  },
  {
   "cell_type": "code",
   "execution_count": 5,
   "id": "1c904393-b738-4178-94fa-48cefa506c2b",
   "metadata": {
    "tags": []
   },
   "outputs": [
    {
     "data": {
      "text/html": [
       "<div>\n",
       "<style scoped>\n",
       "    .dataframe tbody tr th:only-of-type {\n",
       "        vertical-align: middle;\n",
       "    }\n",
       "\n",
       "    .dataframe tbody tr th {\n",
       "        vertical-align: top;\n",
       "    }\n",
       "\n",
       "    .dataframe thead th {\n",
       "        text-align: right;\n",
       "    }\n",
       "</style>\n",
       "<table border=\"1\" class=\"dataframe\">\n",
       "  <thead>\n",
       "    <tr style=\"text-align: right;\">\n",
       "      <th></th>\n",
       "      <th>X=0</th>\n",
       "      <th>X=1</th>\n",
       "    </tr>\n",
       "  </thead>\n",
       "  <tbody>\n",
       "    <tr>\n",
       "      <th>Y=1</th>\n",
       "      <td>0.02</td>\n",
       "      <td>0.08</td>\n",
       "    </tr>\n",
       "    <tr>\n",
       "      <th>Y=0</th>\n",
       "      <td>0.78</td>\n",
       "      <td>0.12</td>\n",
       "    </tr>\n",
       "    <tr>\n",
       "      <th>Sum: Marginal of X</th>\n",
       "      <td>0.80</td>\n",
       "      <td>0.20</td>\n",
       "    </tr>\n",
       "  </tbody>\n",
       "</table>\n",
       "</div>"
      ],
      "text/plain": [
       "                     X=0   X=1\n",
       "Y=1                 0.02  0.08\n",
       "Y=0                 0.78  0.12\n",
       "Sum: Marginal of X  0.80  0.20"
      ]
     },
     "execution_count": 5,
     "metadata": {},
     "output_type": "execute_result"
    }
   ],
   "source": [
    "joint_table.marginal('X')"
   ]
  },
  {
   "cell_type": "markdown",
   "id": "ece35eaa-a5c6-4b96-b550-dd1a986b641a",
   "metadata": {},
   "source": [
    "定义 3：设二维连续型随机变量$X,Y$的联合分布函数为$F(x,y)$，联合密度函数为$f(x,y)$，根据$F_X(x)=F(x,+\\infty),-\\infty<x<+\\infty$，得$\\int_{-\\infty}^x f_X(u) \\mathrm{d} u=\\int_{-\\infty}^x\\left[\\int_{-\\infty}^{+\\infty} f(u, y) \\mathrm{d} y\\right] \\mathrm{d} u$，所以$X$**的边缘密度函数**为$f_X(x)=\\int_{-\\infty}^{+\\infty} f(x, y) \\mathrm{d} y$；类似，$Y$**的边缘密度函数**为$f_Y(y)=\\int_{-\\infty}^{+\\infty} f(x, y) \\mathrm{d} x$。\n",
    "\n",
    "例如，定义二维连续型随机变量的联合密度函数$f(x, y)=\\left\\{\\begin{array}{l}30(y-x)^4, \\quad 0<x<y<1 \\\\ 0 \\quad \\text { otherwise }\\end{array}\\right.$，绘制图形如下。"
   ]
  },
  {
   "cell_type": "code",
   "execution_count": 17,
   "id": "12e040f5-9668-4f7c-8db0-ab40474f74ac",
   "metadata": {
    "tags": []
   },
   "outputs": [
    {
     "data": {
      "application/vnd.jupyter.widget-view+json": {
       "model_id": "688daff47f184be4b9571bd006f5c9fe",
       "version_major": 2,
       "version_minor": 0
      },
      "text/plain": [
       "interactive(children=(FloatSlider(value=20.0, description='elevation', max=90.0, step=1.0), FloatSlider(value=…"
      ]
     },
     "metadata": {},
     "output_type": "display_data"
    }
   ],
   "source": [
    "def jt_dens(x,y):\n",
    "    if y < x:\n",
    "        return 0\n",
    "    else:\n",
    "        return 30 * (y-x)**4\n",
    "\n",
    "Plot_3d(x_limits=(0,1), y_limits=(0,1), f=jt_dens, cstride=4, rstride=4,interactive=True)"
   ]
  },
  {
   "cell_type": "markdown",
   "id": "ab61fc97-e134-4c60-affa-2df8fc90d92e",
   "metadata": {},
   "source": [
    "联合密度函数的二重积分定义为变量`jt_dens_pdf`。"
   ]
  },
  {
   "cell_type": "code",
   "execution_count": 18,
   "id": "9d2d2f2d-c614-4526-b88b-7eac7bd0d3e3",
   "metadata": {
    "tags": []
   },
   "outputs": [
    {
     "data": {
      "text/latex": [
       "$\\displaystyle \\int\\limits_{0}^{1}\\int\\limits_{x}^{1} 30 \\left(- x + y\\right)^{4}\\, dy\\, dx$"
      ],
      "text/plain": [
       "Integral(30*(-x + y)**4, (y, x, 1), (x, 0, 1))"
      ]
     },
     "execution_count": 18,
     "metadata": {},
     "output_type": "execute_result"
    }
   ],
   "source": [
    "x = Symbol('x', positive=True)\n",
    "y = Symbol('y', positive=True)\n",
    "\n",
    "joint_density = 30*(y-x)**4\n",
    "jt_dens_pdf=Integral(joint_density, (y, x, 1), (x, 0, 1))\n",
    "jt_dens_pdf"
   ]
  },
  {
   "cell_type": "markdown",
   "id": "48ff0430-26ae-479a-a2de-698927c06e66",
   "metadata": {},
   "source": [
    "估计二重积分的结果为1。"
   ]
  },
  {
   "cell_type": "code",
   "execution_count": 19,
   "id": "39c82469-5fcb-4215-abd8-e02bb03775f4",
   "metadata": {
    "tags": []
   },
   "outputs": [
    {
     "data": {
      "text/latex": [
       "$\\displaystyle 1$"
      ],
      "text/plain": [
       "1"
      ]
     },
     "execution_count": 19,
     "metadata": {},
     "output_type": "execute_result"
    }
   ],
   "source": [
    "jt_dens_pdf.doit()"
   ]
  },
  {
   "cell_type": "markdown",
   "id": "ae2f38e0-4c67-41fa-b7f7-06d325c60a12",
   "metadata": {},
   "source": [
    "下图表述了$x$约为0.25时，事件$X \\in dx$的概率$P(X \\in dx)$，为固定$x$，沿$y$的积分。"
   ]
  },
  {
   "cell_type": "code",
   "execution_count": 66,
   "id": "4f741bff-0bb5-4eb6-ba86-202d11aabfa2",
   "metadata": {
    "tags": []
   },
   "outputs": [
    {
     "data": {
      "image/png": "[encoded data removed]",
      "text/plain": [
       "<Figure size 300x300 with 1 Axes>"
      ]
     },
     "metadata": {},
     "output_type": "display_data"
    }
   ],
   "source": [
    "coords=np.arange(0,1+0.1,0.1)\n",
    "pts_y=[[0,i] for i in coords]\n",
    "pts_x=[[i,i] for i in coords]\n",
    "pts_x.reverse()\n",
    "pts=np.array(pts_y+pts_x)\n",
    "\n",
    "plt.figure(figsize=(3,3))\n",
    "t=plt.Polygon(pts, color='gray')\n",
    "plt.gca().add_patch(t)\n",
    "\n",
    "plt.vlines(x=0.25,ymin=0.25,ymax =1, linewidth=3, color='green',linestyles='-')\n",
    "\n",
    "plt.xlabel(\"$x$\")\n",
    "plt.ylabel(\"$y$\")\n",
    "plt.xticks(fontsize=10);plt.yticks(fontsize=10)\n",
    "plt.show()"
   ]
  },
  {
   "cell_type": "markdown",
   "id": "143def52-3844-47eb-8c00-79c2d54f33bd",
   "metadata": {},
   "source": [
    "计算$X$的边缘密度函数$f_X(x)=\\int_x^1 30(y-x)^4 d y \\\\  =\\left.30 \\cdot \\frac{1}{5}(y-x)^5\\right|_x ^1 \\\\  =6(1-x)^5$；计算$Y$的边缘密度函数$f_Y(y)=\\int_0^y 30(y-x)^4 d x=6 y^5 $。下面打印了两者的边缘密度函数曲线。"
   ]
  },
  {
   "cell_type": "code",
   "execution_count": 31,
   "id": "20df56a5-b4e2-4557-8f64-2bc2c4bf39b2",
   "metadata": {
    "tags": []
   },
   "outputs": [],
   "source": [
    "def plot_style(ax):\n",
    "    # Move the left and bottom spines to x = 0 and y = 0, respectively.\n",
    "    ax.spines[[\"left\", \"bottom\"]].set_position((\"data\", 0))\n",
    "    # Hide the top and right spines.\n",
    "    ax.spines[[\"top\", \"right\"]].set_visible(False)\n",
    "    ax.plot(1, 0, \">k\", transform=ax.get_yaxis_transform(), clip_on=False)\n",
    "    ax.plot(0, 1, \"^k\", transform=ax.get_xaxis_transform(), clip_on=False)"
   ]
  },
  {
   "cell_type": "code",
   "execution_count": 48,
   "id": "67af807f-2fb8-4dfc-b4d9-c5a8b0f0fcf7",
   "metadata": {
    "tags": []
   },
   "outputs": [
    {
     "data": {
      "image/png": "[encoded data removed]",
      "text/plain": [
       "<Figure size 1000x500 with 2 Axes>"
      ]
     },
     "metadata": {},
     "output_type": "display_data"
    }
   ],
   "source": [
    "import matplotlib as mpl\n",
    "mpl.rcParams.update(mpl.rcParamsDefault)\n",
    "\n",
    "def marginal_density_X(x):\n",
    "    return 6*(1-x)**5\n",
    "\n",
    "def marginal_density_Y(y):\n",
    "    return 6*y**5\n",
    "\n",
    "plt.rcParams['font.sans-serif'] = ['SimHei']\n",
    "matplotlib.rcParams['axes.unicode_minus'] = False\n",
    "\n",
    "fig, axs=plt.subplots(1, 2,figsize=(10,5))\n",
    "x=np.arange(0,1+0.1,0.1)\n",
    "\n",
    "axs[0].plot(x, marginal_density_X(x),'b-', lw=5, alpha=0.6)\n",
    "axs[1].plot(x, marginal_density_Y(x),'r-', lw=5, alpha=0.6)\n",
    "\n",
    "axs[0].set_title(\"$f_{X}$:Density of $X$\")\n",
    "axs[1].set_title(\"$f_{Y}$:Density of $Y$\")\n",
    "\n",
    "\n",
    "axs[0].set_xlabel(\"$x$\")\n",
    "axs[0].set_ylabel(\"$f_{X}(X)$\")\n",
    "axs[1].set_xlabel(\"$y$\")\n",
    "axs[1].set_ylabel(\"$f_{Y}(Y)$\")\n",
    "plot_style(axs[0])\n",
    "plot_style(axs[1])\n",
    "fig.tight_layout()\n",
    "plt.show()"
   ]
  },
  {
   "cell_type": "markdown",
   "id": "23d7b775-7eeb-4c2c-a37c-848ca9fc1514",
   "metadata": {},
   "source": [
    "定理 1：如果$(X, Y) \\sim N\\left(\\mu_1, \\mu_2, \\sigma_1^2, \\sigma_2^2, \\rho\\right) $，则$X \\sim N\\left(\\mu_1, \\sigma_1^2\\right), Y \\sim N\\left(\\mu_2, \\sigma_2^2\\right)$。"
   ]
  },
  {
   "cell_type": "markdown",
   "id": "8aaf9981-5eba-4d66-b1fb-d080a0edc225",
   "metadata": {},
   "source": [
    "* 条件分布\n",
    "\n",
    "对于二维随机变量$(X,Y)$中的两个随机变量$X$和$Y$，在许多问题中它们的取值往往彼此影响，这使得条件分布成为研究变量之间相依关系的有利工具。对于二维随机变量$(X,Y)$，随机变量$X$的条件分布是在给定$Y$取某个值条件下$X$的分布。\n",
    "\n",
    "1）二维离散型随机变量的条件分布律\n",
    "\n",
    "定义 1：设二维离散型随机变量$(X,Y)$的联合分布律为$P\\left(X=x_i, Y=y_j\\right)=p_{i j}, i, j=1,2, \\cdots$，对于固定的$y_i \\in \\Omega_Y$，记在给定条件$\\{Y=y_j\\}$下的随机变量$X$为$X \\mid Y=y_j$，其值域记为$\\Omega_{X \\mid Y=y_j}=\\left\\{x_i: P\\left(X=x_i, Y=y_j\\right) \\neq 0\\left(y_j \\text { 固定 }\\right), i=1,2, \\cdots\\right\\}$。条件分布律$\\frac{p_{i j}}{p_{\\cdot j}}, i=1,2, \\cdots$满足分布律的两条性质：\n",
    "\n",
    "（1）$P\\left(X=x_i \\mid Y=y_j\\right)=\\frac{p_{i j}}{p_{\\cdot j}}>0, x_i \\in \\Omega_X \\mid Y=y_j$；\n",
    "\n",
    "（2）$\\sum_i P\\left(X=x_i \\mid Y=y_j\\right)=\\sum_i \\frac{p_{i j}}{p_{\\cdot j}}=1$.\n",
    "\n",
    "当$x \\in \\Omega_X$时，在给定条件$\\{X=x_j\\}$下的随机变量$Y$的条件分布律为$P\\left(Y=y_j \\mid X=x_i\\right)=\\frac{p_{i j}}{p_i \\cdot}, j=1,2, \\cdots $。对于固定的$x_i \\in \\Omega_X$，记在给定条件$\\{X=x_i\\}$下的随机变量$Y$为$Y \\mid X=x_i$，其值域为$\\Omega_{Y \\mid X=x_i}=\\left\\{y_j: P\\left(X=x_i, Y=y_j\\right) \\neq 0\\left(x_i\\right.\\right.$ 固定 $\\left.), j=1,2, \\cdots\\right\\}$。同理，条件分布律$\\frac{p_{i j}}{p_i \\cdot}, j=1,2, \\cdots$也满足分布律的两条性质。\n",
    "\n",
    "定义一个二维离散型随机变量的条件分布律表格`joint_table`，如下。"
   ]
  },
  {
   "cell_type": "code",
   "execution_count": 125,
   "id": "8dc60929-970c-4706-9d99-f8b6b2af08de",
   "metadata": {
    "tags": []
   },
   "outputs": [
    {
     "name": "stdout",
     "output_type": "stream",
     "text": [
      "      0     1     2\n",
      "0  1/18   2/9  1/18\n",
      "1  2/15  2/15  1/15\n",
      "2   1/6   1/9  1/18\n",
      "total probability=1.0\n"
     ]
    },
    {
     "data": {
      "text/html": [
       "<div>\n",
       "<style scoped>\n",
       "    .dataframe tbody tr th:only-of-type {\n",
       "        vertical-align: middle;\n",
       "    }\n",
       "\n",
       "    .dataframe tbody tr th {\n",
       "        vertical-align: top;\n",
       "    }\n",
       "\n",
       "    .dataframe thead th {\n",
       "        text-align: right;\n",
       "    }\n",
       "</style>\n",
       "<table border=\"1\" class=\"dataframe\">\n",
       "  <thead>\n",
       "    <tr style=\"text-align: right;\">\n",
       "      <th></th>\n",
       "      <th>X=0</th>\n",
       "      <th>X=1</th>\n",
       "      <th>X=2</th>\n",
       "    </tr>\n",
       "  </thead>\n",
       "  <tbody>\n",
       "    <tr>\n",
       "      <th>Y=2</th>\n",
       "      <td>0.055556</td>\n",
       "      <td>0.066667</td>\n",
       "      <td>0.055556</td>\n",
       "    </tr>\n",
       "    <tr>\n",
       "      <th>Y=1</th>\n",
       "      <td>0.222222</td>\n",
       "      <td>0.133333</td>\n",
       "      <td>0.111111</td>\n",
       "    </tr>\n",
       "    <tr>\n",
       "      <th>Y=0</th>\n",
       "      <td>0.055556</td>\n",
       "      <td>0.133333</td>\n",
       "      <td>0.166667</td>\n",
       "    </tr>\n",
       "  </tbody>\n",
       "</table>\n",
       "</div>"
      ],
      "text/plain": [
       "          X=0       X=1       X=2\n",
       "Y=2  0.055556  0.066667  0.055556\n",
       "Y=1  0.222222  0.133333  0.111111\n",
       "Y=0  0.055556  0.133333  0.166667"
      ]
     },
     "execution_count": 125,
     "metadata": {},
     "output_type": "execute_result"
    }
   ],
   "source": [
    "k = np.arange(3)\n",
    "arr=np.array([[Fraction(1,18),Fraction(2,9),Fraction(1,18)],[Fraction(2,15),Fraction(2,15),Fraction(1,15)],[Fraction(1,6),Fraction(1,9),Fraction(1,18)]])\n",
    "print(pd.DataFrame(arr))\n",
    "\n",
    "def joint_probability(x, y):\n",
    "    return (arr[x,y])\n",
    "\n",
    "joint_table=Table().values('X', k, 'Y', k).probability_function(joint_probability)\n",
    "print(f'total probability={joint_dist.total_probability()}')\n",
    "joint_table"
   ]
  },
  {
   "cell_type": "markdown",
   "id": "5c119557-3df3-4be5-a135-ccf29c4e719e",
   "metadata": {},
   "source": [
    "计算随机变量$X$和$Y$的边缘分布律。"
   ]
  },
  {
   "cell_type": "code",
   "execution_count": 127,
   "id": "13836768-30cf-482b-ab12-6e8072434fa4",
   "metadata": {
    "tags": []
   },
   "outputs": [
    {
     "data": {
      "text/html": [
       "<div>\n",
       "<style scoped>\n",
       "    .dataframe tbody tr th:only-of-type {\n",
       "        vertical-align: middle;\n",
       "    }\n",
       "\n",
       "    .dataframe tbody tr th {\n",
       "        vertical-align: top;\n",
       "    }\n",
       "\n",
       "    .dataframe thead th {\n",
       "        text-align: right;\n",
       "    }\n",
       "</style>\n",
       "<table border=\"1\" class=\"dataframe\">\n",
       "  <thead>\n",
       "    <tr style=\"text-align: right;\">\n",
       "      <th></th>\n",
       "      <th>X=0</th>\n",
       "      <th>X=1</th>\n",
       "      <th>X=2</th>\n",
       "      <th>Sum: Marginal of Y</th>\n",
       "    </tr>\n",
       "  </thead>\n",
       "  <tbody>\n",
       "    <tr>\n",
       "      <th>Y=2</th>\n",
       "      <td>0.055556</td>\n",
       "      <td>0.066667</td>\n",
       "      <td>0.055556</td>\n",
       "      <td>0.177778</td>\n",
       "    </tr>\n",
       "    <tr>\n",
       "      <th>Y=1</th>\n",
       "      <td>0.222222</td>\n",
       "      <td>0.133333</td>\n",
       "      <td>0.111111</td>\n",
       "      <td>0.466667</td>\n",
       "    </tr>\n",
       "    <tr>\n",
       "      <th>Y=0</th>\n",
       "      <td>0.055556</td>\n",
       "      <td>0.133333</td>\n",
       "      <td>0.166667</td>\n",
       "      <td>0.355556</td>\n",
       "    </tr>\n",
       "    <tr>\n",
       "      <th>Sum: Marginal of X</th>\n",
       "      <td>0.333333</td>\n",
       "      <td>0.333333</td>\n",
       "      <td>0.333333</td>\n",
       "      <td>1.000000</td>\n",
       "    </tr>\n",
       "  </tbody>\n",
       "</table>\n",
       "</div>"
      ],
      "text/plain": [
       "                         X=0       X=1       X=2  Sum: Marginal of Y\n",
       "Y=2                 0.055556  0.066667  0.055556            0.177778\n",
       "Y=1                 0.222222  0.133333  0.111111            0.466667\n",
       "Y=0                 0.055556  0.133333  0.166667            0.355556\n",
       "Sum: Marginal of X  0.333333  0.333333  0.333333            1.000000"
      ]
     },
     "execution_count": 127,
     "metadata": {},
     "output_type": "execute_result"
    }
   ],
   "source": [
    "joint_table.both_marginals()"
   ]
  },
  {
   "cell_type": "markdown",
   "id": "4cb04fc5-2775-4cee-b626-6e1ffae081fa",
   "metadata": {},
   "source": [
    "假设知道$Y=1$，则提取满足条件的行，可知该行和的概率为$P(Y=3)=0.466$，并不为1。由$P(X=x \\mid Y=1)=\\frac{P(X=x, Y=1)}{P(Y=1)}$，计算给定条件$Y=1$时$X$的条件分布为，$P(X=0 \\mid Y=3)=\\frac{0.222}{0.466}=0.476 \\\\  P(X=1 \\mid Y=3)=\\frac{0.133}{0.466}=0.285 \\\\  P(X=2 \\mid Y=3)=\\frac{0.111}{0.466}=0.238$。可以直接调用`conditional_dist`方法计算。"
   ]
  },
  {
   "cell_type": "code",
   "execution_count": 131,
   "id": "b5ae3309-a059-4a26-937f-44c8229e187d",
   "metadata": {
    "tags": []
   },
   "outputs": [
    {
     "name": "stdout",
     "output_type": "stream",
     "text": [
      "P(Event) = 0.4666666666666666\n"
     ]
    },
    {
     "data": {
      "text/html": [
       "<div>\n",
       "<style scoped>\n",
       "    .dataframe tbody tr th:only-of-type {\n",
       "        vertical-align: middle;\n",
       "    }\n",
       "\n",
       "    .dataframe tbody tr th {\n",
       "        vertical-align: top;\n",
       "    }\n",
       "\n",
       "    .dataframe thead th {\n",
       "        text-align: right;\n",
       "    }\n",
       "</style>\n",
       "<table border=\"1\" class=\"dataframe\">\n",
       "  <thead>\n",
       "    <tr style=\"text-align: right;\">\n",
       "      <th></th>\n",
       "      <th>X=0</th>\n",
       "      <th>X=1</th>\n",
       "      <th>X=2</th>\n",
       "    </tr>\n",
       "  </thead>\n",
       "  <tbody>\n",
       "    <tr>\n",
       "      <th>Y=2</th>\n",
       "      <td></td>\n",
       "      <td></td>\n",
       "      <td></td>\n",
       "    </tr>\n",
       "    <tr>\n",
       "      <th>Y=1</th>\n",
       "      <td>0.222222</td>\n",
       "      <td>0.133333</td>\n",
       "      <td>0.111111</td>\n",
       "    </tr>\n",
       "    <tr>\n",
       "      <th>Y=0</th>\n",
       "      <td></td>\n",
       "      <td></td>\n",
       "      <td></td>\n",
       "    </tr>\n",
       "  </tbody>\n",
       "</table>\n",
       "</div>"
      ],
      "text/plain": [
       "          X=0       X=1       X=2\n",
       "Y=2                              \n",
       "Y=1  0.222222  0.133333  0.111111\n",
       "Y=0                              "
      ]
     },
     "execution_count": 131,
     "metadata": {},
     "output_type": "execute_result"
    }
   ],
   "source": [
    "def indicator_Y_equals_1(i, j):\n",
    "    return j==1\n",
    "\n",
    "joint_table.event(indicator_Y_equals_1, 'X', 'Y')"
   ]
  },
  {
   "cell_type": "markdown",
   "id": "750b9ba3-b353-4d95-97eb-a3fd4ef49c84",
   "metadata": {},
   "source": [
    "以$Y$为条件计算$X$的条件分布律。 "
   ]
  },
  {
   "cell_type": "code",
   "execution_count": 132,
   "id": "c8416e20-1b52-4083-8e79-951658e5fa1a",
   "metadata": {
    "tags": []
   },
   "outputs": [
    {
     "data": {
      "text/html": [
       "<div>\n",
       "<style scoped>\n",
       "    .dataframe tbody tr th:only-of-type {\n",
       "        vertical-align: middle;\n",
       "    }\n",
       "\n",
       "    .dataframe tbody tr th {\n",
       "        vertical-align: top;\n",
       "    }\n",
       "\n",
       "    .dataframe thead th {\n",
       "        text-align: right;\n",
       "    }\n",
       "</style>\n",
       "<table border=\"1\" class=\"dataframe\">\n",
       "  <thead>\n",
       "    <tr style=\"text-align: right;\">\n",
       "      <th></th>\n",
       "      <th>X=0</th>\n",
       "      <th>X=1</th>\n",
       "      <th>X=2</th>\n",
       "      <th>Sum</th>\n",
       "    </tr>\n",
       "  </thead>\n",
       "  <tbody>\n",
       "    <tr>\n",
       "      <th>Dist. of X | Y=2</th>\n",
       "      <td>0.312500</td>\n",
       "      <td>0.375000</td>\n",
       "      <td>0.312500</td>\n",
       "      <td>1.0</td>\n",
       "    </tr>\n",
       "    <tr>\n",
       "      <th>Dist. of X | Y=1</th>\n",
       "      <td>0.476190</td>\n",
       "      <td>0.285714</td>\n",
       "      <td>0.238095</td>\n",
       "      <td>1.0</td>\n",
       "    </tr>\n",
       "    <tr>\n",
       "      <th>Dist. of X | Y=0</th>\n",
       "      <td>0.156250</td>\n",
       "      <td>0.375000</td>\n",
       "      <td>0.468750</td>\n",
       "      <td>1.0</td>\n",
       "    </tr>\n",
       "    <tr>\n",
       "      <th>Marginal of X</th>\n",
       "      <td>0.333333</td>\n",
       "      <td>0.333333</td>\n",
       "      <td>0.333333</td>\n",
       "      <td>1.0</td>\n",
       "    </tr>\n",
       "  </tbody>\n",
       "</table>\n",
       "</div>"
      ],
      "text/plain": [
       "                       X=0       X=1       X=2  Sum\n",
       "Dist. of X | Y=2  0.312500  0.375000  0.312500  1.0\n",
       "Dist. of X | Y=1  0.476190  0.285714  0.238095  1.0\n",
       "Dist. of X | Y=0  0.156250  0.375000  0.468750  1.0\n",
       "Marginal of X     0.333333  0.333333  0.333333  1.0"
      ]
     },
     "execution_count": 132,
     "metadata": {},
     "output_type": "execute_result"
    }
   ],
   "source": [
    "joint_table.conditional_dist('X', 'Y') # conditional distribution of X given each different value of Y"
   ]
  },
  {
   "cell_type": "markdown",
   "id": "46f45e72-06cd-44b2-ae0e-e97a2182ba0f",
   "metadata": {},
   "source": [
    "以$X$为条件计算$Y$的条件分布律。"
   ]
  },
  {
   "cell_type": "code",
   "execution_count": 133,
   "id": "301db4c5-924f-49ab-ae65-98786b02e128",
   "metadata": {
    "tags": []
   },
   "outputs": [
    {
     "data": {
      "text/html": [
       "<div>\n",
       "<style scoped>\n",
       "    .dataframe tbody tr th:only-of-type {\n",
       "        vertical-align: middle;\n",
       "    }\n",
       "\n",
       "    .dataframe tbody tr th {\n",
       "        vertical-align: top;\n",
       "    }\n",
       "\n",
       "    .dataframe thead th {\n",
       "        text-align: right;\n",
       "    }\n",
       "</style>\n",
       "<table border=\"1\" class=\"dataframe\">\n",
       "  <thead>\n",
       "    <tr style=\"text-align: right;\">\n",
       "      <th></th>\n",
       "      <th>Dist. of Y | X=0</th>\n",
       "      <th>Dist. of Y | X=1</th>\n",
       "      <th>Dist. of Y | X=2</th>\n",
       "      <th>Marginal of Y</th>\n",
       "    </tr>\n",
       "  </thead>\n",
       "  <tbody>\n",
       "    <tr>\n",
       "      <th>Y=2</th>\n",
       "      <td>0.166667</td>\n",
       "      <td>0.2</td>\n",
       "      <td>0.166667</td>\n",
       "      <td>0.177778</td>\n",
       "    </tr>\n",
       "    <tr>\n",
       "      <th>Y=1</th>\n",
       "      <td>0.666667</td>\n",
       "      <td>0.4</td>\n",
       "      <td>0.333333</td>\n",
       "      <td>0.466667</td>\n",
       "    </tr>\n",
       "    <tr>\n",
       "      <th>Y=0</th>\n",
       "      <td>0.166667</td>\n",
       "      <td>0.4</td>\n",
       "      <td>0.500000</td>\n",
       "      <td>0.355556</td>\n",
       "    </tr>\n",
       "    <tr>\n",
       "      <th>Sum</th>\n",
       "      <td>1.000000</td>\n",
       "      <td>1.0</td>\n",
       "      <td>1.000000</td>\n",
       "      <td>1.000000</td>\n",
       "    </tr>\n",
       "  </tbody>\n",
       "</table>\n",
       "</div>"
      ],
      "text/plain": [
       "     Dist. of Y | X=0  Dist. of Y | X=1  Dist. of Y | X=2  Marginal of Y\n",
       "Y=2          0.166667               0.2          0.166667       0.177778\n",
       "Y=1          0.666667               0.4          0.333333       0.466667\n",
       "Y=0          0.166667               0.4          0.500000       0.355556\n",
       "Sum          1.000000               1.0          1.000000       1.000000"
      ]
     },
     "execution_count": 133,
     "metadata": {},
     "output_type": "execute_result"
    }
   ],
   "source": [
    "joint_table.conditional_dist('Y', 'X') # conditional distribution of Y given each different value of X"
   ]
  },
  {
   "cell_type": "markdown",
   "id": "7db31e52-b8d4-4ab2-a862-4538de5e5592",
   "metadata": {
    "tags": []
   },
   "source": [
    "2）二维连续型随机变量的条件密度函数\n",
    "\n",
    "定义 2：设$f(x,y)$为二维连续型随机变量$(X,Y)$的联合密度函数，当$y \\in \\Omega_Y$时，在给定$\\{Y=y\\}$条件下$X$的条件密度函数为$f_{X \\mid Y}(x \\mid y)=\\frac{f(x, y)}{f_Y(y)},-\\infty<x<+\\infty \\text {, 其中 } f_Y(y)>0$。对于固定的$y \\in \\Omega_Y$，记在给定条件$\\{Y=y\\}$下的随机变量$X$为$X \\mid Y=y$，其值域记为$\\Omega_{X \\mid Y=y}=\\{x: f(x, y) \\neq 0(y$ 固定 $)\\}$。条件密度函数$f_{X \\mid Y}(x \\mid y)$满足密度函数的两条性质：\n",
    "\n",
    "（1）$f_{X \\mid Y}(x \\mid y)=\\frac{f(x, y)}{f_Y(y)}>0, x \\in \\Omega_X \\mid Y=y$；\n",
    "\n",
    "（2）$\\int_{-\\infty}^{+\\infty} f_{X \\mid Y}(x \\mid y) \\mathrm{d} x=\\int_{-\\infty}^{+\\infty} \\frac{f(x, y)}{f_Y(y)} \\mathrm{d} x=\\frac{\\int_{-\\infty}^{+\\infty} f(x, y) \\mathrm{d} x}{f_Y(y)}=1$。\n",
    "\n",
    "当$x \\in \\Omega_X$时，在给定$X=x$条件下$Y$的条件密度函数为$f_{Y \\mid X}(y \\mid x)=\\frac{f(x, y)}{f_X(x)},-\\infty<y<+\\infty \\text {, 其中 } f_X(x)>0$。对于固定的$x \\in \\Omega_X$，记在给定条件$\\{X=x\\}$下的随机变量$Y$为$Y \\mid X=x$，其值域记为$\\Omega_{Y \\mid X=x}=\\{y: f(x, y) \\neq 0(x$ 固定 $)\\}$。同理，可以验证$f_{Y \\mid X}(y \\mid x)$满足密度函数的两条性质。\n",
    "\n",
    "定义 3：设$f(x,y)$为二维连续型随机变量$(X,Y)$的联合密度函数，当$y \\in \\Omega_Y$时，在给定条件$\\{Y=y\\}$下$X$的条件分布函数为$F_{X \\mid Y}(x \\mid y)=\\int_{-\\infty}^x f_{X \\mid Y}(u \\mid y) \\mathrm{d} u=\\int_{-\\infty}^x \\frac{f(u, y)}{f_Y(y)} \\mathrm{d} u,-\\infty<x<+\\infty \\text {, 其中 } f_Y(y)>0$；当$x \\in \\Omega_X$时，在给定$\\{X=x\\}$条件下$Y$的条件分布函数为$F_{Y \\mid X}(y \\mid x)=\\int_{-\\infty}^y f_{Y \\mid X}(v \\mid x) \\mathrm{d} v=\\int_{-\\infty}^y \\frac{f(x, v)}{f_X(x)} \\mathrm{d} v, \\quad-\\infty<y<+\\infty$, 其中 $f_X(x)>0$。\n",
    "\n",
    "继续*边缘分布：二维连续型随机变量的联合密度函数*部分的案例，给定条件$X=0.4$时，$Y$的条件密度函数为$f_{Y \\mid X=0.4}(y)=\\frac{30(y-0.4)^4}{6(1-0.4)^5}=\\frac{5}{0.6^5}(y-0.4)^4 \\quad y \\in(0.4,1)$。同时绘制$Y$的边缘密度函数$f_Y(y)$和条件密度函数$f_{Y \\mid X=0.4}(y)$，如下。"
   ]
  },
  {
   "cell_type": "code",
   "execution_count": 142,
   "id": "ea2e8c4e-0cf9-4ba5-bb92-57ef2d3ddf4b",
   "metadata": {
    "tags": []
   },
   "outputs": [
    {
     "data": {
      "text/latex": [
       "$\\displaystyle 0.999999999999999$"
      ],
      "text/plain": [
       "0.999999999999999"
      ]
     },
     "execution_count": 142,
     "metadata": {},
     "output_type": "execute_result"
    }
   ],
   "source": [
    "y=Symbol('y', positive=True)\n",
    "conditional_density_Y_given_X_is_04=(5/(0.6**5)) * (y - 0.4)**4\n",
    "Integral(conditional_density_Y_given_X_is_04, (y, 0.4, 1)).doit()"
   ]
  },
  {
   "cell_type": "code",
   "execution_count": 164,
   "id": "e35cfdc4-c136-4373-b185-801b8f5ff139",
   "metadata": {
    "tags": []
   },
   "outputs": [
    {
     "data": {
      "image/png": "[encoded data removed]",
      "text/plain": [
       "<Figure size 500x500 with 1 Axes>"
      ]
     },
     "metadata": {},
     "output_type": "display_data"
    }
   ],
   "source": [
    "def conditional_density_Y_given_X_is_04_func(y):\n",
    "    return 5/0.6**5*(y-0.4)**4\n",
    "\n",
    "def marginal_density_Y(y):\n",
    "    return 6*y**5\n",
    "\n",
    "fig, ax=plt.subplots(1, 1,figsize=(5,5))\n",
    "x=np.arange(0,1+0.05,0.05)\n",
    "x_c=np.array([i for i in x if i>=0.4])\n",
    "\n",
    "ax.plot(x, marginal_density_Y(x),'r-', lw=5, alpha=0.6,label=\"Density of Y\")\n",
    "ax.plot(x_c, conditional_density_Y_given_X_is_04_func(x_c),'k-', lw=5, alpha=0.6,label=\"Density of Y given X=0.4\")\n",
    "\n",
    "ax.set_xlabel(\"$y$\")\n",
    "ax.set_ylabel(\"$P(Y)$\")\n",
    "plot_style(ax)\n",
    "ax.legend(loc='upper center')\n",
    "fig.tight_layout()\n",
    "plt.show()"
   ]
  },
  {
   "cell_type": "markdown",
   "id": "e9ecdeb0-7de1-4472-be8e-398c29da3a85",
   "metadata": {},
   "source": [
    "由条件密度函数$f_{Y \\mid X=0.4}(y)$可以计算条件概率（probabilities）和条件期望（expectations），例如$P(Y>0.9 \\mid X=0.4)=\\int_{0.9}^1 \\frac{5}{0.6^5}(y-0.4)^4 d y$。"
   ]
  },
  {
   "cell_type": "code",
   "execution_count": 167,
   "id": "39ef1166-0089-468d-9a46-a350269cd34b",
   "metadata": {
    "tags": []
   },
   "outputs": [
    {
     "name": "stdout",
     "output_type": "stream",
     "text": [
      "0.598122427983537\n"
     ]
    },
    {
     "data": {
      "text/latex": [
       "$\\displaystyle \\int\\limits_{0.9}^{1} 64.3004115226338 \\left(y - 0.4\\right)^{4}\\, dy$"
      ],
      "text/plain": [
       "Integral(64.3004115226338*(y - 0.4)**4, (y, 0.9, 1))"
      ]
     },
     "execution_count": 167,
     "metadata": {},
     "output_type": "execute_result"
    }
   ],
   "source": [
    "p_1=Integral(conditional_density_Y_given_X_is_04, (y, 0.9, 1))\n",
    "print(p_1.doit())\n",
    "p_1"
   ]
  },
  {
   "cell_type": "markdown",
   "id": "fa13674f-30fd-4249-a5e9-c970c8382fff",
   "metadata": {},
   "source": [
    "由条件密度函数计算条件期望值，$E(Y \\mid X=0.4)=\\int_{0.4}^1 y \\frac{5}{0.6^5}(y-0.4)^4 d y=0.9$。"
   ]
  },
  {
   "cell_type": "code",
   "execution_count": 169,
   "id": "3b790ec9-47f7-48b4-b816-55310c51e179",
   "metadata": {
    "tags": []
   },
   "outputs": [
    {
     "data": {
      "text/latex": [
       "$\\displaystyle 0.899999999999998$"
      ],
      "text/plain": [
       "0.899999999999998"
      ]
     },
     "execution_count": 169,
     "metadata": {},
     "output_type": "execute_result"
    }
   ],
   "source": [
    "Integral(y*conditional_density_Y_given_X_is_04, (y, 0.4, 1)).doit()"
   ]
  },
  {
   "cell_type": "markdown",
   "id": "66526cce-d393-4cbe-bf4b-ca3939150edb",
   "metadata": {},
   "source": [
    "---"
   ]
  },
  {
   "cell_type": "markdown",
   "id": "02bb5a57-18ab-4891-ad2b-6c3a50e965ff",
   "metadata": {},
   "source": [
    "* 随机变量的独立性\n",
    "\n",
    "当两个随机变量的取值规律互不影响时，称它们是相互独立的。\n",
    "\n",
    "定义 4：设$(X,Y)$为二维随机变量，若对任意$x,y \\in R$，都有$F(x, y)=F_X(x) F_Y(y)$成立，则称**随机变量**$X$**与**$Y$**相互独立**。式中，$F(x, y)$为$(X,Y)$的联合分布函数，$F_X(x)$和$ F_Y(y)$分别为$X$和$Y$的边缘分布函数。\n",
    "\n",
    "定理 2：设计$(X,Y)$为二维离散型随机变量，那么，$X$与$Y$相互独立的充分必要条件是对任意的$i,j=1,2,\\cdots$，都有$p_{i j}=p_{i \\cdot} p_{\\cdot j}$成立，式中，$p_{i j}, i, j=1,2, \\cdots$为$(X,Y)$的联合分布律，$p_{i \\cdot}, i=1,2, \\cdots$和$p_{\\cdot j}, j=1,2, \\cdots$分别为$X$和$Y$的边缘分布律。相互独立性的直观含义是当$X$取定$x_i$时，$Y$的取值规律不受任何影响，即$P\\left(Y=y_j \\mid X=x_i\\right)=\\frac{P\\left(X=x_i, Y=y_j\\right)}{P\\left(X=x_i\\right)}=\\frac{p_{i j}}{p_i .}=\\frac{p_{i \\cdot} p_{\\cdot j}}{p_i .}=p_{\\cdot _j}=P\\left(Y=y_j\\right)$\n",
    "\n",
    "例如下述二维随机变量$(X,Y)$中$X$和$Y$相互独立，可以验证$i,j=1,2$都有$p_{i j}=p_{i \\cdot} p_{\\cdot j}$成立。"
   ]
  },
  {
   "cell_type": "code",
   "execution_count": 5,
   "id": "6c501ab5-b72c-4f86-b58a-fa10216e77fd",
   "metadata": {
    "tags": []
   },
   "outputs": [
    {
     "data": {
      "text/html": [
       "<div>\n",
       "<style scoped>\n",
       "    .dataframe tbody tr th:only-of-type {\n",
       "        vertical-align: middle;\n",
       "    }\n",
       "\n",
       "    .dataframe tbody tr th {\n",
       "        vertical-align: top;\n",
       "    }\n",
       "\n",
       "    .dataframe thead th {\n",
       "        text-align: right;\n",
       "    }\n",
       "</style>\n",
       "<table border=\"1\" class=\"dataframe\">\n",
       "  <thead>\n",
       "    <tr style=\"text-align: right;\">\n",
       "      <th></th>\n",
       "      <th>X=0</th>\n",
       "      <th>X=1</th>\n",
       "      <th>Sum: Marginal of Y</th>\n",
       "    </tr>\n",
       "  </thead>\n",
       "  <tbody>\n",
       "    <tr>\n",
       "      <th>Y=1</th>\n",
       "      <td>0.4</td>\n",
       "      <td>0.1</td>\n",
       "      <td>0.5</td>\n",
       "    </tr>\n",
       "    <tr>\n",
       "      <th>Y=0</th>\n",
       "      <td>0.4</td>\n",
       "      <td>0.1</td>\n",
       "      <td>0.5</td>\n",
       "    </tr>\n",
       "    <tr>\n",
       "      <th>Sum: Marginal of X</th>\n",
       "      <td>0.8</td>\n",
       "      <td>0.2</td>\n",
       "      <td>1.0</td>\n",
       "    </tr>\n",
       "  </tbody>\n",
       "</table>\n",
       "</div>"
      ],
      "text/plain": [
       "                    X=0  X=1  Sum: Marginal of Y\n",
       "Y=1                 0.4  0.1                 0.5\n",
       "Y=0                 0.4  0.1                 0.5\n",
       "Sum: Marginal of X  0.8  0.2                 1.0"
      ]
     },
     "execution_count": 5,
     "metadata": {},
     "output_type": "execute_result"
    }
   ],
   "source": [
    "k=np.arange(2)\n",
    "\n",
    "def joint_probability(x,y):\n",
    "    if x==0:return 0.4\n",
    "    if x==1: return 0.1\n",
    "\n",
    "joint_table=Table().values('X',k,'Y',k).probability_function(joint_probability)\n",
    "joint_table.both_marginals() "
   ]
  },
  {
   "cell_type": "markdown",
   "id": "f62b1852-0ffb-4560-ae47-d3266e9a7f35",
   "metadata": {},
   "source": [
    "定理 3：若$(X,Y)$为二维连续型随机变量，那么，$X$与$Y$相互独立的充分必要条件是在$f(x,y)$、$f_X(x)$及$f_Y(y)$的一切公共连续点上都有$f(x, y)=f_X(x) \\cdot f_Y(y)$成立。式中，$f(x, y)$为$(X,Y)$的联合密度函数，$f_X(x) $和$ f_Y(y)$为$X$和$Y$的边缘密度函数。\n",
    "\n",
    "定义 5：设$\\left(X_1, X_2, \\cdots, X_n\\right)$为$n$维随机变量，若对任意$\\left(x_1, x_2, \\cdots, x_n\\right) \\in R^n$，都有$F\\left(x_1, x_2, \\cdots, x_n\\right)=\\prod_{i=1}^n F_{X_i}\\left(x_i\\right) $成立，则称**随机变量**$X_1, X_2, \\cdots, X_n$**相互独立**。式中，$F\\left(x_1, x_2, \\cdots, x_n\\right)$为$\\left(X_1, X_2, \\cdots, X_n\\right)$的联合分布函数，$ F_{X_i}\\left(x_i\\right)$为$X_i$的边缘分布函数，$i=1,2, \\cdots,n$。\n",
    "\n",
    "当$\\left(X_1, X_2, \\cdots, X_n\\right)$为离散型随机变量时，随机变量$X_1, X_2, \\cdots, X_n$相互独立的充要条件是对任意的$x_i \\in \\Omega_{X_i}, \\quad i=1,2, \\cdots, n$，都有，$P\\left(X_1=x_1, X_2=x_2, \\cdots, X_n=x_n\\right)=\\prod_{i=1}^n P\\left(X_i=x_i\\right)$成立，式中，$P\\left(X_1=x_1, X_2=x_2, \\cdots, X_n \\right)$为$\\left(X_1, X_2, \\cdots, X_n\\right)$的联合分布律，$P\\left(X_i=x_i\\right)$为$X_i$的边缘分布律，$i=1,2, \\cdots,n$。\n",
    "\n",
    "当$\\left(X_1, X_2, \\cdots, X_n\\right)$为连续型随机变量时，随机变量$X_1, X_2, \\cdots, X_n$相互独立的充要条件是在$f\\left(x_1, x_2, \\cdots, x_n\\right), f_{X_1}\\left(x_1\\right), f_{X_2}\\left(x_2\\right), \\cdots, f_{X_n}\\left(x_n\\right)$的一切公共连续点上都有$f\\left(x_1, x_2, \\cdots, x_n\\right)=\\prod_{i=1}^n f_{X_i}\\left(x_i\\right)$成立。式中，$f\\left(x_1, x_2, \\cdots, x_n\\right)$为$\\left(X_1, X_2, \\cdots, X_n\\right)$的联合密度函数，$f_{X_i}\\left(x_i\\right)$为$X_i$的边缘密度函数，$i=1,2, \\cdots,n$。"
   ]
  },
  {
   "cell_type": "markdown",
   "id": "7d017fe6-9b39-432b-aef2-809d8c7e2b98",
   "metadata": {},
   "source": [
    "* 二维随机变量函数的分布\n",
    "\n",
    "设$(X,Y)$为二维随机变量，则$Z=g(X,Y)$是$(X,Y)$的函数，且$Z$是一维随机变量。如果要由$(X,Y)$的分布求$Z$的分布，一般要将$Z$的分布转化成有关$(X,Y)$的概率分布。\n",
    "\n",
    "1）二维离散型随机变量函数的分布\n",
    "\n",
    "设$(X,Y)$是二维离散型随机变量，其分布律为$P\\left\\{X=x_i, Y=y_j\\right\\}=p_{i j}, \\quad i, j=1,2, \\cdots$，$Z=g(X,Y)$是$(X,Y)$的函数，则$Z$也是离散型随机变量，其分布律为$P\\left\\{Z=z_k\\right\\}=P\\left\\{g(X, Y)=z_k\\right\\}=\\sum_{\\left\\{\\left(x_i, y_j\\right)\\left|g\\left(x_i, y_j\\right)=z_k\\right\\rangle\\right.} P\\left\\{X=x_i, Y=y_j\\right\\} \\\\ =\\sum_{\\left\\{\\left(x_i, y_j\\right) \\mid g\\left(x_i, y_j\\right)=z_k\\right\\}} p_{i j}, \\quad k=1,2, \\cdots$。\n",
    "\n",
    "定理 1：设$X \\sim B(m, p), Y \\sim B(n, p)$，且$X$与$Y$相互独立，则$X+Y \\sim B(m+n, p)$；设$X \\sim P\\left(\\lambda_1\\right), Y \\sim P\\left(\\lambda_2\\right)$，且$X$与$Y$相互独立，则$X+Y \\sim P\\left(\\lambda_1+\\lambda_2\\right)$。\n",
    "\n",
    "2）二维连续型随机变量函数的分布\n",
    "\n",
    "设二维连续型随机变量$(X,Y)$的联合密度函数为$f(x,y)$，则随机变量$(X,Y)$的二元函数$Z=g(X,Y)$的分布函数为$F_Z(z)=P(Z \\leqslant z)=P(g(X, Y) \\leqslant z)=P\\left((X, Y) \\in D_z\\right)=\\iint_{D_z} f(x, y) \\mathrm{d} x \\mathrm{~d} y$，式中，$\\{(X,Y) \\in D_z\\}$是与$\\{g(X,Y) \\leqslant z \\}$等价的随机事件，而$D_z=\\{(x,y):g(x,y)  \\leqslant z\\}$是$x \\bigcirc y$平面上的点集（通常是一个区域或若干个区域的并集）。则$Z=g(X,Y)$的密度函数为$f_Z(z)=F' _Z(z)$。这种计算二维连续型随机变量函数分布的方法称为分布函数法。\n",
    "\n",
    "定理 2：设随机变量$(X,Y)$的联合密度函数为$f(x,y)$，且$X$的边缘密度函数为$f_X(x)$，$Y$的边缘密度函数为$f_Y(y)$，则随机变量$(X,Y)$的函数$Z=X+Y$的密度函数为$f_Z(z)=\\int_{-\\infty}^{+\\infty} f(x, z-x) \\mathrm{d} x \\text { 或 } f_Z(z)=\\int_{-\\infty}^{+\\infty} f(z-y, y) \\mathrm{d} y$。特别地，当随机变量$X$和$Y$相互独立时，$f_Z(z)=\\int_{-\\infty}^{+\\infty} f_X(x) f_Y(z-x) \\mathrm{d} x \\text { 或 } f_Z(z)=\\int_{-\\infty}^{+\\infty} f_X(z-y) f_Y(y) \\mathrm{d} y$。这两个公式称为**卷积公式**。在概率论中计算相互独立随机变量之和分布的运算称为卷积运算。\n",
    "\n",
    "定理 3：设$X \\sim N\\left(\\mu_1, \\sigma_1^2\\right), \\quad Y \\sim N\\left(\\mu_2, \\sigma_2^2\\right)$，且$X$与$Y$相互独立，则$X+Y \\sim N\\left(\\mu_1+\\mu_2, \\sigma_1^2+\\sigma_2^2\\right)$。\n",
    "\n",
    "定理 4：设连续型随机变量$X$和$Y$相互独立，且$X$的分布函数为$F_X(x)$，$Y$的分布函数为$F_Y(y)$，则\n",
    "\n",
    "（1）随机变量$U=\\max (X, Y)$的分布函数为$F_U(u)=F_X(u) F_Y(u)$；\n",
    "\n",
    "（2）随机变量$V=\\min (X, Y)$的分布函数为$F_V(v)=1-\\left(1-F_X(v)\\right)\\left(1-F_Y(v)\\right)$。\n",
    "\n",
    "由定理 4，推广至$n$个相互独立随机变量的情形有，设连续型随机变量$X_1, X_2, \\cdots, X_n$相互独立，且$X_i$的分布函数为$F_{X_i}(x), i=1,2, \\cdots, n$，则\n",
    "\n",
    "（1）随机变量$U=\\max \\left(X_1, X_2, \\cdots, X_n\\right)$的分布函数为$F_U(u)=\\prod_{i=1}^n F_{X_i}(u)$；\n",
    "\n",
    "（2）随机变量$V=\\min \\left(X_1, X_2, \\cdots, X_n\\right)$的分布函数为$ F_V(v)=1-\\prod_{i=1}^n\\left(1-F_{X_i}(v)\\right)$。"
   ]
  },
  {
   "cell_type": "markdown",
   "id": "77ce9dc9-fe15-4f94-aa79-a3733c9be205",
   "metadata": {},
   "source": [
    "---"
   ]
  },
  {
   "cell_type": "code",
   "execution_count": null,
   "id": "4dc1a8e5-c945-41e0-8e3b-da6a1aba6093",
   "metadata": {},
   "outputs": [],
   "source": []
  },
  {
   "cell_type": "code",
   "execution_count": null,
   "id": "7f2d934b-138e-4305-8670-f2a845733611",
   "metadata": {},
   "outputs": [],
   "source": []
  }
 ],
 "metadata": {
  "kernelspec": {
   "display_name": "Python 3 (ipykernel)",
   "language": "python",
   "name": "python3"
  },
  "language_info": {
   "codemirror_mode": {
    "name": "ipython",
    "version": 3
   },
   "file_extension": ".py",
   "mimetype": "text/x-python",
   "name": "python",
   "nbconvert_exporter": "python",
   "pygments_lexer": "ipython3",
   "version": "3.9.16"
  }
 },
 "nbformat": 4,
 "nbformat_minor": 5
}
