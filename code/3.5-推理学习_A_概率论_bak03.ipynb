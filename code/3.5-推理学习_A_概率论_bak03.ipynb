{
 "cells": [
  {
   "cell_type": "markdown",
   "id": "32355e16-45ff-49f0-af54-e5dcce2c0328",
   "metadata": {},
   "source": [
    "> Created on Sun Apr 30 11:56:23 2023 @author: Richie Bao-caDesign设计(cadesign.cn)"
   ]
  },
  {
   "cell_type": "markdown",
   "id": "c6fa86d9-28e7-4a27-8526-66796a7153b4",
   "metadata": {},
   "source": [
    "# 3.5-A 推理学习：概率论知识要点<sup>[(工业和信息化“十二五”规划教材) 同济大学数学系. 概率论与数理统计[M].人民邮电出版社 (2017)][主编：许伯生 刘春燕；参编：刘瑞娟 肖翔 朱萌 洪银萍 周宇. 概率论与数理统计（第2版）[M].清华大学出版社 (2019)][]</sup>\n",
    "\n",
    "## 3.5.1 随机事件与概率\n",
    "\n",
    "* 随机试验\n",
    "\n",
    "**概率论**是一门研究**随机现象**（事先无法预知会出现哪个结果）统计规律性的数学学科。随机现象在一次试验中呈现不确定性的结果，而在大量重复试验中结果将呈现某种规律性，称为**统计规律性**。为研究随机现象的统计规律性，对客观事物进行观察的过程为**随机试验（试验）**。随机试验的特点有：\n",
    "\n",
    "（1）在相同条件下试验可以重复进行；\n",
    "\n",
    "（2）每次试验的结果不止一种，但是试验之前必须明确所有可能的结果；\n",
    "\n",
    "（3）每次试验将会出现什么样的结果事先无法预知。\n",
    "\n",
    "* 样本空间\n",
    "\n",
    "随机试验一切可能结果组成的集合称为**样本空间**，记为$\\Omega=\\{\\omega\\}$，其中$\\omega$表示试验的每一个可能结果，又称为**样本点**，即样本空间为全体样本点的集合。样本空间中的元素可以是数（例如，投掷一枚均匀骰子的样本空间为$\\Omega=\\{1,2, \\cdots, 6\\}$），也可以不是数（例如，抛掷一枚硬币的样本空间为$ \\Omega=\\{H, T\\}$）；可以为有限个，也可以为无限个（例如，污染气体浓度（单位，ppm）的样本空间$\\Omega=\\{c: c \\geqslant 0\\}$）。\n",
    "\n",
    "* 随机事件\n",
    "\n",
    "通过随机试验研究随机现象时，每次试验都只能出现$\\Omega$中的某一个结果（样本点）$\\omega$。各个可能结果$\\omega$是否在一次试验中出现是随机的。在随机试验中，常关注某些结果是否出现，例如空气质量指数（Air quality index，AQI）是否超出了评定空气质量为优的阈值，掷出点数是否为奇数（可描述为$A=\\{1,3,5\\}$，为$\\Omega=\\{1,2, \\cdots, 6\\}$的一个子集）等。这些在一次试验中可能出现和可能不出现的一类结果称为**随机事件（事件）**，常用大写字母$A, B, C, \\cdots$等表示。从集合的角度，随机事件为样本空间部分样本点组成的集合。在事件的定义中，有如下概念：\n",
    "\n",
    "（1）任意随机事件$A$是样本空间$\\Omega$的一个子集；\n",
    "\n",
    "（2）当试验结果$\\omega$属于该子集时，就说事件$A$发生了；否则，不属于该子集，事件$A$没有发生；\n",
    "\n",
    "（3）仅含一个样本点的随机事件称为**基本事件**；\n",
    "\n",
    "（4）样本空间$\\Omega$也是自己的一个子集，也称为一个事件。因为$\\Omega$包含所有可能的试验结果，所以$\\Omega$在每次试验中一定发生，又称为**必然事件**；\n",
    "\n",
    "（5）空集$Ø$也是样本空间$\\Omega$的一个子集，所以也称为一个事件。因为$Ø$中不包含任何元素，所以$Ø$在每次试验中一定不发生，又称为**不可能事件**。\n",
    "\n",
    "* 关系运算\n",
    "\n",
    "因为随机事件为样本空间部分样本点组成的集合，因此同集合，给定一个随机试验，$\\Omega$是它的样本空间，$A, B, C, \\cdots$都为$\\Omega$的子集，随机事件有如下关系和运算：\n",
    "\n",
    "（1） 如果$A \\subset B$（或$B \\supset A$），则称事件$A$包含在$B$中（或称$B$包含$A$）。从概率论角度来说，事件$A$发生必然导致事件$B$发生；\n",
    "\n",
    "（2）如果$A \\subset B$，$B \\subset A$同时成立，则称事件$A$与$B$相等，记为$A=B$。从概率论角度来说，事件$A$发生必然导致事件$B$发生；同样，事件$B$发生必然导致事件$A$发生，即$A$和$B$为同一事件；\n",
    "\n",
    "（3）如果$A$和$B$没有相同的样本点，则称事件$A$和$B$互不相容（或称为互斥），从概率论角度来说，事件$A$和事件$B$不可能同时发生；\n",
    "\n",
    "（4）事件$A$与$B$的并，记为$A \\cup B$，表示由事件$A$与$B$中所有样本点组成的新事件，从概率论角度，事件$A$与$B$中至少有一个可能结果发生；\n",
    "\n",
    "（5）事件$A$与$B$的交，记为$A \\cap B$（或$AB$），表示由事件$A$和$B$中公共的样本点组成的事件，从概率论角度，事件$A$与$B$同时发生；\n",
    "\n",
    "（6）事件$A$与$B$的差，记为$A - B$，表示由在事件$A$中且不在事件$B$中的样本点组成的新事件，从概率论角度，事件$A$发生，且事件$B$不发生；\n",
    "\n",
    "（7）事件$A$的对立事件（或称为逆事件、余事件），记为$ \\overline{A} $，表示由$\\Omega$中且不在事件$A$中的的所有样本点组成的新事件，即$ \\overline{A} = \\Omega -A$，从概率论角度，事件$A$不发生。\n",
    "\n",
    "<img src=\"../imgs/3_5_a/3_5_a_01.jpg\" height='auto' width=700 title=\"caDesign\"> \n",
    "\n",
    "从随机事件的关系和运算可以得出：\n",
    "\n",
    "（1）对立事件一定是互不相容的事件，即$A \\cap  \\overline{A} =Ø$，但互不相容事件不一定是对立事件；\n",
    "\n",
    "（2）根据差事件和对立事件的定义，事件$A$与$B$的差还可以表示成$A-B=A \\overline{B} $；\n",
    "\n",
    "（3）必然事件$\\Omega$与不可能事件$Ø$互为对立事件，即$ \\overline{ \\Omega } =Ø,  \\overline{Ø} = \\Omega $。\n",
    "\n",
    "事件的运算性质，满足如下定律：\n",
    "\n",
    "（1）交换律，$A \\cup B=B \\cup A, A \\cap B=B \\cap A $；\n",
    "\n",
    "（2）结合律，$ (A \\cup B) \\cup C=A \\cup(B \\cup C),(A B) C=A(B C)$；\n",
    "\n",
    "（3）分配律，$(A \\cup B) \\cap C=A C \\cup B C,(A \\cap B) \\cup C=(A \\cup C) \\cap(B \\cup C)$;\n",
    "\n",
    "（4）对偶律，$\\overline{A \\cup B}=\\bar{A} \\cap \\bar{B}, \\overline{A \\cap B}=\\bar{A} \\cup \\bar{B}$。"
   ]
  },
  {
   "cell_type": "markdown",
   "id": "72343dc8-ca59-4bbf-974b-953060927441",
   "metadata": {},
   "source": [
    "* 概率定义\n",
    "\n",
    "在$n$次试验中，如果事件$A$出现了$n_A$次，则称比值$\\frac{n_{A} }{n} $为这$n$次试验中事件$A$出现的频率，记为$f_n(A)=\\frac{n_A}{n}$，$n_{A} $称为事件$A$发生的**频数**。**概率的统计定义**为：随着试验次数$n$的增大，频率值逐步“稳定”到一个实数，这个实数称为事件$A$发生的概率。**概率的公理化定义**为：设任一随机试验$E$，$\\Omega$为相应的样本空间，若对任意事件$A$，有唯一实数$P(A)$与之对应，且满足下面条件，则数$P(A)$称为事件$A$的概率：\n",
    "\n",
    "（1）**非负性公理**，对于任意事件$A$，总有$P(A) \\geq 0$ ;\n",
    "\n",
    "（2） **规范性公理**，$P( \\Omega )=1$；\n",
    "\n",
    "（3）**可列可加性公理**，若$ A_1, A_2, \\cdots, A_n$为两两互不相容的事件，则有$P\\left(\\bigcup_{i=1}^{\\infty} A_i\\right)=\\sum_{i=1}^{\\infty} P\\left(A_i\\right)$。\n",
    "\n",
    "由概率的3条公理，得到概率的一些重要基本性质如下：\n",
    "\n",
    "（1）$ P(Ø)=0$；\n",
    "\n",
    "（2）有限可加性。设$ A_1, A_2, \\cdots, A_n$为两两互不相容的事件，$P\\left(\\bigcup_{i=1}^{n} A_i\\right)=\\sum_{i=1}^{n} P\\left(A_i\\right)$;\n",
    "\n",
    "（3）对任意事件$A$，有$P( \\overline{A} )=1-P(A)$；\n",
    "\n",
    "（4）若事件$A \\subset B$，则$P(B-A)=P(B)-P(A)$；\n",
    "\n",
    "（5）减法公式。设$A,B$为任意事件，则$P(A-B)=P(A)-P(AB)$；\n",
    "\n",
    "（6）加法公式。设$A,B$为任意事件，则$P(A \\cup B)=P(A)+P(B)-P(AB)$。"
   ]
  },
  {
   "cell_type": "markdown",
   "id": "4297de39-e1e2-4fdd-ae95-882b5dca254c",
   "metadata": {},
   "source": [
    "* 等可能概型\n",
    "\n",
    "最简单的一种随机现象是样本空间中的每个基本事件发生的可能性相等，称之为**等可能概型**。例如抛掷一枚均匀的硬币或一颗均匀的骰子等。研究这一类随机现象的数学模型称之为**古典概型**。当样本空间是某个区域（可以是一维区间、二维平面或三维空间），例如搭乘地铁的等待时间、蒲丰投针问题等，称之为**几何概型**。\n",
    "\n",
    "对于古典概型有，（1）随机试验的样本空间只有有限个样本点，可记作$\\Omega=\\left\\{\\omega_1, \\omega_2, \\cdots, \\omega_n\\right\\}$；（2）每个基本事件发生的可能性相等，即$\\left.P\\left(\\{ \\omega_1\\right\\}\\right)=\\cdots=P\\left(\\left\\{\\omega_n\\right\\}\\right)=\\frac{1}{n}$。若事件$A$中含有$n_A$个样本点，则事件$A$的概率为：$P(A)= \\frac{n_A}{n} $，式中，$n_A$为事件$A$中所含样本点的个数，$n$为$\\Omega$中所有样本点的个数。例如，抛掷两枚均匀的骰子，观察出现的点数，设事件$A$表示“两个骰子的点数一样”，则$\\Omega$中由两个骰子可能出现的所有不同结果组成有$\\Omega =\\{(1,1),(1,2), \\ldots ,(1,6),(2,1), \\ldots ,(6,6)\\}$，共包含36个样本点，而$A=\\{(1,1),(2,2), \\ldots ,(6,6)\\}$，共6个样本点，因而$P(A)= \\frac{6}{36}= \\frac{1}{6}  $。\n",
    "\n",
    "几何概型是古典概型的推广，保留每个样本点发生的等可能性，但去掉了$\\Omega$中包含有限个样本点的限制，即允许试验可能结果有无穷不可列个。对几何概型有，（1）随机试验的样本空间$\\Omega$是某个区域（可以是一维区间、二维平面或三维空间）；（2）每个样本点发生的可能性相等，则事件$A$的概率为：$ P(A)=\\frac{m(A)}{m(\\Omega)}$，式中，$m(   \\bullet    )$在一维情形下表示长度，在二维情形下表示面积，在三维情形下表示体积。求几何概型的关键在于图形正确的描述样本空间$\\Omega$和所求事件$A$，然后计算出相关图形的度量（一般为长度、面积或体积）。"
   ]
  },
  {
   "cell_type": "markdown",
   "id": "bfa9e807-b986-4523-bb84-e9a9cbebe367",
   "metadata": {},
   "source": [
    "* 条件概率\n",
    "\n",
    "**条件概率**是指在某随机事件$A$发生的条件下，另一随机事件$B$发生的概率，记为$P(B  \\mid  A)$，它与$P(B)$是不同的两类概率。例如，假设抛掷一枚均匀的骰子，已知掷出的点数是偶数，求点数超过3的概率。因为该试验的样本空间是$ \\Omega =\\{1,2,3,4,5 ,6\\}$，随机事件$A=\\{2,4,6\\}$，随机事件$B=\\{4,5,6\\}$，在已知条件事件$A$发生前提下观察满足事件$B$的样本点有$\\{4,6\\}$2个，因此在已知事件$A$发生条件下，事件$B$发生的概率为$P(B \\mid A)= \\frac{2}{3} $，并可易知$P(B \\mid A)= \\frac{P(AB)}{P(A)} $。\n",
    "\n",
    "定义 1：设$E$是随机试验，$\\Omega$是样本空间，$A,B$是随机试验$E$上的两个随机事件且$P(A)>0$，称$P(B \\mid A)= \\frac{P(AB)}{P(A)} $为在事件$A$发生条件下事件$B$发生的概率，称为**条件概率**，记作$P(B \\mid A)$。\n",
    "\n",
    "可以验证，条件概率同样满足概率公理化定义的三条基本性质，设$P(B)>0$，有（必须在同一条件下进行）：\n",
    "\n",
    "（1）**非负性公理**，对于任意事件$A$，总有$P(A \\mid B) \\geq 0$；\n",
    "\n",
    "（2）**规范性公理**，$P( \\Omega  \\mid B) =1$;\n",
    "\n",
    "（3）**可列可加性公理**，若$ A_1, A_2, \\cdots$为两两互不相容的事件，则有$P\\left(\\bigcup_{i=1}^{\\infty} A_i \\mid B \\right)=\\sum_{i=1}^{\\infty} P\\left(A_i \\mid B \\right)$。\n",
    "\n",
    "定理 1（概率的乘法公式）：设$A,B$为随机试验$E$上的两个事件，且$P(A)>0$，则有$P(AB)=P(A)P(B \\mid A)$；同理，若$P(B)>0$，有$P(AB)=P(B)P(A \\mid B)$。将其推广到多个事件的情况，设$A,B,C$为任意的3个事件，且$P(AB)>0$，有$P(ABC)=P(A)P(B \\mid A)P(C \\mid AB)$。更一般的表述为，设$ A_1, A_2, \\cdots, A_n$为一事件组，且$P\\left(A_1 A_2 \\cdots A_{n-1}\\right)>0$，则$P\\left(A_1 A_2 \\cdots A_n\\right)=P\\left(A_1\\right) P\\left(A_2 \\mid A_1\\right) P\\left(A_3 \\mid A_1 A_2\\right) \\cdots P\\left(A_n \\mid A_1 A_2 \\cdots A_{n-1}\\right)$。\n",
    "\n",
    "* 事件的相互独立性\n",
    "\n",
    "一般来说，设$A,B$为试验$E$的两个事件，且$P(A)>0$，则事件$A$的发生对事件$B$发生的概率是有影响的，这时条件概率$P(B \\mid A) \\neq P(B)$。但是，如果有$P(B \\mid  A) = P(B)$，则可以推导出$P(A B)=P(A) P(B \\mid A)=P(A) P(B)$。即，不管事件$A$发生还是不发生，都对事件$B$发生的概率没有影响，可以理解为事件$A$和事件$B$之间没有“关系”，或者称事件$A$和事件$B$相互独立。\n",
    "\n",
    "定义 2：设$A,B$为试验$E$的两个事件，如果满足等式$P(AB)=P(A)P(B)$，则称事件$A$和事件$A$**相互独立**，简称$A,B$**独立**。\n",
    "\n",
    "定理 2：若事件$A$与事件$B$相互独立，则下列各对事件也相互独立：$A$与$ \\overline{B} $，$\\overline A$与$B$、$\\overline A$与$\\overline B$，即，\n",
    "\n",
    "$P(A B)=P(A) P(B) \\\\  \\Leftrightarrow P(\\bar{A} B)=P(\\bar{A}) P(B) \\\\  \\Leftrightarrow P(A \\bar{B})=P(A) P(\\bar{B}) \\\\  \\Leftrightarrow P(\\bar{A} \\bar{B})=P(\\bar{A}) P(\\bar{B})$\n",
    "\n",
    "对于上4对事件，只要有一对是相互独立的，则其余3对也相互独立，可理解为：事件$A$与$B$相互独立，则$A$的发生不会影响$B$发生的概率；$A$的发生也不会影响$B$不发生的概率；$A$的不发生也不会影响$B$发生的概率；$A$的不发生也不会影响$B$不发生的概率。\n",
    "\n",
    "将相互独立性推广到3各事件的情况，有，\n",
    "\n",
    "定义 3：设$A,B,C$是试验$E$的三个事件，如果满足等式$P(A B)=P(A) P(B) \\\\ P(A C)=P(A) P(C) \\\\  P(B C)=P(B) P(C)$，则称事件$A,B,C$**两两相互独立**。\n",
    "\n",
    "定义 4：设$A,B,C$是试验$E$的三个事件，如果满足等式$P(A B)=P(A) P(B) \\\\ P(A C)=P(A) P(C) \\\\  P(B C)=P(B) P(C) \\\\ P(ABC)=P(A)P(B)P(C)$，则称事件$A,B,C$**相互独立**。"
   ]
  },
  {
   "cell_type": "markdown",
   "id": "ba756561-e168-4c9f-9199-2c96e668284d",
   "metadata": {},
   "source": [
    "* 全概率公式与贝叶斯公式\n",
    "\n",
    "定义：设$E$是随机试验，$\\Omega$是相应的样本空间，$ A_1, A_2, \\cdots, A_n$为$\\Omega$的一个事件组，若满足条件：（1）$A_i \\cap A_j=Ø (i \\neq j)$；（2）$A_1 \\cup A_2 \\cup \\cdots \\cup A_n=\\Omega$，则称事件组$ A_1, A_2, \\cdots, A_n$为样本空间的一个**完备事件组**，完备事件组完成了对样本空间的一个分割。\n",
    "\n",
    "定理 1（**全概率公式**）：设$ A_1, A_2, \\cdots, A_n$为样本空间$\\Omega$的一个完备事件组，且$P\\left(A_i\\right)>0(i=1,2, \\cdots, n)$，$B$为任意事件，则$P(B)=\\sum_{i=1}^n P\\left(A_i\\right) P\\left(B \\mid A_i\\right) $。\n",
    "\n",
    "定理 2（**贝叶斯公式**）：设$ A_1, A_2, \\cdots, A_n$为样本空间$\\Omega$的一个完备事件组，且$P\\left(A_i\\right)>0(i=1,2, \\cdots, n)$，$B$为满足条件$P(B)>0$的任一事件，则，$P\\left(A_i \\mid B\\right)=\\frac{P\\left(A_i\\right) P\\left(B \\mid A_i\\right)}{\\sum_{i=1}^n P\\left(A_i\\right) P\\left(B \\mid A_i\\right)}$。\n",
    "\n",
    "<img src=\"../imgs/3_5_a/3_5_a_02.jpg\" height='auto' width=500 title=\"caDesign\"> \n",
    "\n",
    "对全概率公式和贝叶斯公式可以通过上图理解，对于条件概率$P\\left(A_i \\mid B\\right)$，即随机事件$B$发生条件下，$A_i$发生的概率的计算可以转化为$P(B \\mid A_i)$条件概率的相关计算，即随机事件$A_i$发生条件下，$B$发生的概率。对全概率公式，通过已知每种“原因”发生的概率，即$P(A)$和$P(\\overline A)$已知，求结果$B$发生的概率$P(B)$。这里$P(A)$和$P(\\overline A)$又称为**先验概率**；对于贝叶斯公式，则是从已知结果$B$发生的条件下分析由各个可能“原因”引起的条件概率$P(A \\mid B)$和$P(\\overline A \\mid B)$，所以贝叶斯公式也可以看作“已知结果，分析原因”的问题，这里$P(A \\mid B)$和$P(\\overline A \\mid B)$又称为**后验概率**。\n",
    "\n",
    "又例如，有两个口袋，甲袋中盛有2个白球，1个黑球；乙袋中盛有1个白球，2个黑球，由甲袋中任取一球放入乙袋，再从乙袋取出一球，问从乙袋中取出的球为白球的概率，则为根据以往的数据分析试验结果的概率，为先验概率，计算推导为：$ P(A)=\\sum_{i=1}^2 P\\left(B_i\\right) P\\left(A \\mid B_i\\right)=\\frac{2}{3} \\times \\frac{2}{4}+\\frac{1}{3} \\times \\frac{1}{4}=\\frac{5}{12}$；如果已知从乙袋中所取的球是白球，问从甲袋中所取球为白球的概率则是根据试验结果推断引起该结果原因的概率，为后验概率，计算推导为：$ P\\left(B_1 \\mid A\\right)=\\frac{P\\left(B_1\\right) P\\left(A \\mid B_1\\right)}{P\\left(B_1\\right) P\\left(A \\mid B_1\\right)+P\\left(B_2\\right) P\\left(A \\mid B_2\\right)}=\\frac{\\frac{2}{3} \\times \\frac{2}{4}}{\\frac{2}{3} \\times \\frac{2}{4}+\\frac{1}{3} \\times \\frac{1}{4}}=\\frac{4}{5}$。"
   ]
  },
  {
   "cell_type": "markdown",
   "id": "fbaa8652-87b8-4372-90ef-23f75db5e806",
   "metadata": {},
   "source": [
    "## 3.5.2 随机变量及其分布\n",
    "\n",
    "* 随机变量的定义\n",
    "\n",
    "定义 1：在随机试验$E$中，$\\Omega$是相应的样本空间，如果对$\\Omega$中的每一个样本点$\\omega$，有唯一一个实数$X(\\omega)$与它对应，那么就把这个定义域为$\\Omega$的单值实值函数（Real-valued function）$X=X(\\omega)$称为（一维）随机变量。例如，抛掷一枚均匀的硬币，观察其朝上的面，则样本空间$\\Omega = \\{H,T\\}$（$H$为正面，$T$为反面），随机变量$X$可设置为：\n",
    "\n",
    "|  样本点 |   | $X$的取值  |\n",
    "|---|---|---|\n",
    "| H  |  $ \\rightarrow $ | 1  |\n",
    "| T  | $ \\rightarrow $  |  0 |\n",
    "\n",
    "如果抛掷三枚均匀的硬币，观察其朝上的面， 则样本空间$ \\Omega =\\{HHH,HHT,HTH,THH,HTT,THT,TTH,TTT\\}$。若随机变量$X$表示“三次抛掷中反面朝上的次数”，则随机变量$X$的取值与样本点之间的对应关系可设置为：\n",
    "\n",
    "|  样本点 |   | $X$的取值  |\n",
    "|---|---|---|\n",
    "| HHH  |  $ \\rightarrow $ | 0  |\n",
    "| HHT  | $ \\rightarrow $  | 1 |\n",
    "|HTH|$ \\rightarrow $|1|\n",
    "|THH|$ \\rightarrow $|1|\n",
    "|HTT|$ \\rightarrow $|2|\n",
    "|THT|$ \\rightarrow $|2|\n",
    "|TTH|$ \\rightarrow $|2|\n",
    "|TTT|$ \\rightarrow $|3|\n",
    "\n",
    "从上述例举可知，无论试验结果本身与数量是否有关，都可以把试验的每个结果与实数对应起来，即把试验结果数量化，由于这样的数量依赖于试验的结果，随试验结果的不同而变化，所以它的取值具有随机性，称这样的变量为随机变量，因此可以说，随机变量是试验结果的函数。\n",
    "\n",
    "随机变量一般用大写字母$X,Y$等表示，随机变量的取值一般用小写字母$x,y$等来表示。如果一个随机变量仅可能取有限或可列个值，则称其为离散型随机变量；如果一个随机变量的取值充满了数轴上的一个区间（或某几个区间的并），则称其为非离散型随机变量。连续型随机变量是非离散型随机变量中常见的一类随机变量。\n",
    "\n",
    "随机变量定义的直观理解为，随机变量$X$是样本点的函数，这个函数的自变量是样本点，可以是数，也可以不是数，定义域是样本空间；而因变量必须是实数，这个函数可以让不同的样本点对应不同的实数，也可以让多个样本点对应于同一个实数。"
   ]
  },
  {
   "cell_type": "markdown",
   "id": "5801ac44-0a0a-470b-9158-e53f4d7274c1",
   "metadata": {},
   "source": [
    "* 随机变量的分布函数\n",
    "\n",
    "随机变量$X$是样本点$\\omega$的一个实值函数，为了掌握$X$的统计规律性，需要知道$X$取值于某个区间的概率，由于$\\{a<X \\leq b\\}=\\{X \\leq b\\}-\\{X \\leq a\\}, \\\\ \\{X>c\\}= \\Omega -\\{X \\leq c\\}$，因此对于任意实数$x$，只需要知道$\\{X \\leq x \\}$的概率，用$F(x)$表示这个概率值。\n",
    "\n",
    "定义 2：设$X$是一个随机变量，对于任意实数$x$，称函数$F(x)=P(X \\leq x), - \\infty <x<+ \\infty $为随机变量$X$的**分布函数**。对于任意两个实数$- \\infty< a<b<+ \\infty $，有$P(a<X \\leq b)=F(b)-F(a)$，因此，只要已知$X$的分布函数，就可以知道$X$落在任意区间$(a,b]$内的概率，即分布函数可以完整的描述一个随机变量的统计规律性。从定义可以得知：\n",
    "\n",
    "（1）分布函数是定义在$(- \\infty ,+ \\infty )$上，取值在$[0,1]$上的一个函数；\n",
    "\n",
    "（2）任意随机变量$X$都有且仅有一个分布函数，有了分布函数，就可以计算与随机变量$X$相关事件的概率问题。"
   ]
  },
  {
   "cell_type": "markdown",
   "id": "727458e6-678b-4cb6-ace3-455d7ce86534",
   "metadata": {},
   "source": [
    "* 离散型随机变量及其分布律\n",
    "\n",
    "设$E$是随机试验，$\\Omega$是相应的样本空间，$X$是$\\Omega$上的随机变量，若$X$的值域（记为$\\Omega_X$）为有限集或可列集，此时称$X$为（一维）**离散型随机变量**。\n",
    "\n",
    "定义 3：若一维离散型随机变量$X$的取值为$x_{1},x_{2}, \\ldots ,x_{n}, \\ldots   $，称相应的概率$P(X=x_i)=p_i,i=1,2,  \\cdots $为离散型随机变量$X$的**分布律（或分布列、概率函数）**。\n",
    "\n",
    "一维离散型随机变量的分布律可表示为：\n",
    "\n",
    "| $X$  |  $x_1$ | $x_2$  | $\\cdots$  | $x_n$  | $\\cdots$  |\n",
    "|---|---|---|---|---|---|\n",
    "| 概率  | $p_1$  | $p_2$  | $\\cdots$   |  $p_n$ |  $\\cdots$  |，\n",
    "\n",
    "且满足（1）非负性$p_i \\geq 0,i=1,2, \\cdots $；（2）规范性$ \\sum_{i=1}^{\\infty} p_i=1$。这两条性质也是判断某一数列是否能成为分布律的充要条件。\n",
    "\n",
    "例如，设随机变量$X$的分布律为：\n",
    "\n",
    "|  $X$ |  -1 | 0  | 2  |\n",
    "|---|---|---|---|\n",
    "| 概率  | 0.2  | 0.4  | 0.4  |\n",
    "\n",
    "则可计算，$P(X \\leqslant-0.7)=P(X=-1)=0.2$；将分布律转化为分布函数有，$x<-1, P(X \\leqslant x)=0;\\\\-1 \\leqslant x<0,P(X \\leqslant x)=P(X=-1)=0.2;\\\\0 \\leqslant x<2,P(X \\leqslant x)=P(X=-1)+P(X=0)=0.2+0.4=0.6 ;\\\\ x \\geqslant 2,P(X \\leqslant x)= P(X=-1)+P(X=0)+P(X=2)=0.2+0.4+0.4=1.$，即$F(x)= \\begin{cases}0, & x<-1, \\\\ 0.2, & -1 \\leqslant x<0 \\\\ 0.6, & 0 \\leqslant x<2, \\\\ 1, & x \\geqslant 2 .\\end{cases} $。\n",
    "\n",
    "已知一个离散型随机变量的分布律可以求得其分布函数，同样，已知一个离散型随机变量的分布函数可以求其分布律，有：$P(X=-1)=P(X \\leqslant-1)=F(-1)=0.2 \\text {, } \\\\  P(X=0)=P(-1<X \\leqslant 0)=F(0)-F(-1)=0.6-0.2=0.4 \\text {, } \\\\  P(X=2)=P(0<X \\leqslant 2)=F(2)-F(0)=1-0.6=0.4$\n",
    "\n",
    "分布函数和分布律对离散型随机变量的取值规律描述是等价的，分布律相对更直观方便。"
   ]
  },
  {
   "cell_type": "markdown",
   "id": "d42245a1-5400-4ca1-9eb9-bda1d326134e",
   "metadata": {},
   "source": [
    "* 连续型随机变量及其密度函数\n",
    "\n",
    "连续型随机变量的取值充满了数轴上的一个或者某几个区间的并，在这个区间里有无穷不可列个实时，因此分布律不再适用描述连续型随机变量，而使用概率密度函数表示。\n",
    "\n",
    "定义 4：设$E$是随机试验，$\\Omega$是相应的样本空间，$X$是$\\Omega$上的随机变量，$F(x)$是$X$的分布函数，若存在非负函数$f(x)$使得$F(x)=\\int_{-\\infty}^x f(t) \\mathrm{d} t$，则称$X$为（一维）连续型随机变量，$f(x)$称为$X$的（概率）密度函数。其满足，（1）非负性$f(x) \\geqslant 0,-\\infty<x<+\\infty$；（2）规范性$\\int_{-\\infty}^{+\\infty} f(x) \\mathrm{d} x=1$。\n",
    "\n",
    "概率密度函数$f(x)$与分布函数$F(x)$之间的关系可用下图示意，$F(x)=P(X  \\leqslant x)$恰好是$f(x)$在区间$(- \\infty ,x]$上的积分，为下图绿色填充部分的面积（或对应累积分布函数（CDF）的值）。连续型随机变量具有如下性质：\n",
    "\n",
    "（1）分布函数$F(x)$是连续函数，在$f(x)$的连续点处，$ F'(x)=f(x) $；\n",
    "\n",
    "（2）对任意一个常数$c,- \\infty <c<+ \\infty $，有$P(X=c)=0$，因此，在事件$\\{a\\leqslant X\\leqslant b\\}$中剔除$X=a$或剔除$X=b$，都不影响概率的大小，即$P(a \\leqslant X \\leqslant b)=P(a<X \\leqslant b)=P(a \\leqslant X<b)=P(a<X<b)$，而离散型随机变量计算的就是“点点概率”。\n",
    "\n",
    "（3）对任意两个常数$a,b$，有$P(a<X \\leqslant b)=\\int_a^b f(x) \\mathrm{d} x$。"
   ]
  },
  {
   "cell_type": "code",
   "execution_count": 2,
   "id": "032cb89f-1636-4aab-8d34-2b25337eb872",
   "metadata": {},
   "outputs": [
    {
     "data": {
      "image/png": "[encoded data removed]",
      "text/plain": [
       "<Figure size 500x500 with 1 Axes>"
      ]
     },
     "metadata": {},
     "output_type": "display_data"
    }
   ],
   "source": [
    "import numpy as np\n",
    "from scipy.stats import norm\n",
    "import matplotlib.pyplot as plt\n",
    "\n",
    "fig, ax=plt.subplots(1, 1,figsize=(5,5))\n",
    "\n",
    "loc,scale=2,1\n",
    "x=np.linspace(norm.ppf(0.001, loc, scale),norm.ppf(0.999, loc, scale), 100)\n",
    "ax.plot(x, norm.pdf(x, loc, scale),'r-', lw=5, alpha=0.6, label='norm PDF')\n",
    "ax.plot(x, norm.cdf(x, loc, scale),'k--', lw=3, alpha=0.6, label='norm CDF')\n",
    "\n",
    "px=np.arange(-3,3,0.001)\n",
    "ax.fill_between(px,norm.pdf(px, loc, scale),alpha=0.5, color='g')\n",
    "\n",
    "ax.text(-2,1, r'$f(x)$', family=\"monospace\",size=20)\n",
    "ax.text(1.5,0.25, r'$F(x)$', family=\"monospace\",size=20)\n",
    "ax.text(5,-0.13, r'$x$', family=\"monospace\",size=20)\n",
    "ax.text(3,-0.13, r'$x$', family=\"monospace\",size=20)\n",
    "\n",
    "def plot_style(ax):\n",
    "    # Move the left and bottom spines to x = 0 and y = 0, respectively.\n",
    "    ax.spines[[\"left\", \"bottom\"]].set_position((\"data\", 0))\n",
    "    # Hide the top and right spines.\n",
    "    ax.spines[[\"top\", \"right\"]].set_visible(False)\n",
    "    ax.plot(1, 0, \">k\", transform=ax.get_yaxis_transform(), clip_on=False)\n",
    "    ax.plot(0, 1, \"^k\", transform=ax.get_xaxis_transform(), clip_on=False)\n",
    "\n",
    "plot_style(ax)\n",
    "plt.legend(loc='center right')\n",
    "plt.show()"
   ]
  },
  {
   "cell_type": "markdown",
   "id": "cb8dbc08-0c7a-4805-a13b-0bce5c6b576d",
   "metadata": {},
   "source": [
    "* 常用离散型随机变量\n",
    "\n",
    "1）二项分布\n",
    "\n",
    "若随机试验$E$只有2个可能结果，$A$和$\\overline A$，则称$E$为**伯努利试验（Bernoulli trial）**。设事件$A$在一次试验中发生的概率$P(A)=p(0<p<1)$，则$P(\\bar{A})=1-p$。将$E$独立的重复进行$n$次，则称$n$**重伯努利试验**。\n",
    "\n",
    "记随机变量$X$表示在$n$重伯努利试验中$A$事件发生的次数，可知$X$的所有可能取值为$0,1,2, \\cdots ,n$。对每一$k(0 \\leq k \\leq n)$，事件$\\{X=k\\}$即为“$n$次试验中事件$A$恰好发生$k$次”，由于各试验是相互独立的，根据事件的独立性，$X$的分布律为：$P(X=k)=\\left(\\begin{array}{l}n \\\\ k\\end{array}\\right) p^k(1-p)^{n-k}, 0<p<1, k=0,1, \\cdots, n $，称随机变量$X$服从参数为$n,p$的**二项分布**，记为$ X \\sim B(n, p)$。式中，$\\left(\\begin{array}{l}n \\\\ k\\end{array}\\right)$为**组合**（Combination）表示，同符号$C_k^n$，一般从$n$个不同的元素（成员）中，任取$k(k \\leq n)$个元素为一组，称为从$n$个元素中取出$k$个元素的一个组合（当且仅当每个组合具有相同的元素时，两个组合是相同的（每个组合中元素的排列无关紧要）），例如给定$n=3$个水果，苹果、橙子和梨子，设$k=2$，则得出3种两两组合，苹果和梨子（同梨子和苹果），2个苹果和2个梨子，计算公式为：$C_n^i = \\frac{n(n - 1)\\dots (n - i + 1)}{i!} = \\frac{n!}{i!(n - i)!}$。\n",
    "\n",
    "根据二项式展开公式：$(a + b)^n = \\sum_{i = 0}^n C_n^i a^i b^{n - i} \\quad (n \\text{ 为正整数})$，可以推导出$\\sum_{k=0}^n P(X=k)=\\sum_{k=0}^n\\left(\\begin{array}{l}n \\\\ k\\end{array}\\right) p^k(1-p)^{n-k}=(p+1-p)^n=1$；且，$P(X=k) \\geqslant 0, k=0,1, \\cdots, n$，满足离散型随机变量分布律的规范性和非负性。\n",
    "\n",
    "当$n=1$时，$X \\sim B\\left(1, p\\right) $，即有$P(X=k)=\\left(\\begin{array}{l}1 \\\\ k\\end{array}\\right) p^k(1-p)^{1-k}=p^k(1-p)^{1-k}, 0<p<1, k=0,1 $，相应的分布律为：\n",
    "\n",
    "| $X$ | 0 | 1 |   \n",
    "|---|---|---|\n",
    "| 概率  | $1-p$  | $p$  |\n",
    "\n",
    "表示随机变量$X$只取2个值，分别为 0 和 1，故又可称随机变量$X$服从参数$p(0<p<1)$的$0-1$分布（或两点分布）。"
   ]
  },
  {
   "cell_type": "markdown",
   "id": "d9946d46-fedc-4132-9275-9fd9ed836bb7",
   "metadata": {},
   "source": [
    "由服从参数为$n,p$二项分布的随机变量$X$的分布律计算公式，定义`P_Xk_binomialDistributio()`函数计算$P(X=k)$。例如某人向同一目标重复独立射击5次，每次命中目标的概率为0.8，求此人命中3次的概率为`PX_a=0.2048`；此人至少命中2次的概率为`PX_b=0.99328`。"
   ]
  },
  {
   "cell_type": "code",
   "execution_count": 170,
   "id": "2fa0f8f9-b3af-45f2-bbf9-ea00238326b0",
   "metadata": {
    "tags": []
   },
   "outputs": [
    {
     "name": "stdout",
     "output_type": "stream",
     "text": [
      "The autoreload extension is already loaded. To reload it, use:\n",
      "  %reload_ext autoreload\n"
     ]
    }
   ],
   "source": [
    "# IPython extension to reload modules before executing user code.\n",
    "%load_ext autoreload \n",
    "# Reload all modules (except those excluded by %aimport) every time before executing the Python code typed.\n",
    "%autoreload 2\n",
    "import usda.pgm as usda_pgm\n",
    "import matplotlib.pyplot as plt\n",
    "import matplotlib\n",
    "import numpy as np\n",
    "from scipy.stats import poisson\n",
    "from scipy.stats import expon\n",
    "import math"
   ]
  },
  {
   "cell_type": "code",
   "execution_count": 6,
   "id": "49a80b10-79ad-4f63-8360-8229e85fcb09",
   "metadata": {
    "tags": []
   },
   "outputs": [
    {
     "name": "stdout",
     "output_type": "stream",
     "text": [
      "0.20479999999999993\n"
     ]
    }
   ],
   "source": [
    "PX_a=usda_pgm.P_Xk_binomialDistribution(n=5,k=3,p=0.8)\n",
    "print(PX_a)"
   ]
  },
  {
   "cell_type": "code",
   "execution_count": 5,
   "id": "0858bb80-117c-4193-b1d9-e9a7ca69d935",
   "metadata": {
    "tags": []
   },
   "outputs": [
    {
     "name": "stdout",
     "output_type": "stream",
     "text": [
      "0.99328\n"
     ]
    }
   ],
   "source": [
    "PX_b=1-usda_pgm.P_Xk_binomialDistribution(n=5,k=0,p=0.8)-usda_pgm.P_Xk_binomialDistribution(n=5,k=1,p=0.8)\n",
    "print(PX_b)"
   ]
  },
  {
   "cell_type": "markdown",
   "id": "94be6c07-b3b1-42e5-b2d5-d20c56a69856",
   "metadata": {},
   "source": [
    "如果向同一目标重复独立射击100次，计算$P(X=k), k=0,1,2,\\cdots, 100$，可以发现二项分布近似于正态分布。"
   ]
  },
  {
   "cell_type": "code",
   "execution_count": 18,
   "id": "3e7abbd8-5fca-4835-b257-98fc9030c402",
   "metadata": {
    "tags": []
   },
   "outputs": [
    {
     "data": {
      "image/png": "[encoded data removed]",
      "text/plain": [
       "<Figure size 1000x200 with 1 Axes>"
      ]
     },
     "metadata": {},
     "output_type": "display_data"
    }
   ],
   "source": [
    "n=100\n",
    "PX_100=[usda_pgm.P_Xk_binomialDistribution(n=n,k=i,p=0.8) for i in range(n+1)]\n",
    "pts=[i for i in range(n+1)]\n",
    "\n",
    "fig, ax=plt.subplots(1, 1,figsize=(10,2))\n",
    "ax.plot(pts, PX_100,'r-', lw=3, alpha=0.6, label='$P(X=k), k=0,1,2,\\cdots, 100$')  \n",
    "\n",
    "plot_style(ax)\n",
    "plt.legend(loc=10)\n",
    "plt.show()"
   ]
  },
  {
   "cell_type": "markdown",
   "id": "11e28e21-b4df-4344-b5fa-05742781f3e9",
   "metadata": {},
   "source": [
    "如果调整命中的概率为$P(A)=0.5$，则可以发现最大概率趋于约中间的位置。"
   ]
  },
  {
   "cell_type": "code",
   "execution_count": 9,
   "id": "f4d0ff98-f703-4e9e-bceb-0a0aa6a6bbc1",
   "metadata": {
    "tags": []
   },
   "outputs": [
    {
     "data": {
      "image/png": "[encoded data removed]",
      "text/plain": [
       "<Figure size 1000x200 with 1 Axes>"
      ]
     },
     "metadata": {},
     "output_type": "display_data"
    }
   ],
   "source": [
    "PX_100=[usda_pgm.P_Xk_binomialDistribution(n=n,k=i,p=0.5) for i in range(n+1)]\n",
    "\n",
    "fig, ax=plt.subplots(1, 1,figsize=(10,2))\n",
    "ax.plot(pts, PX_100,'r-', lw=3, alpha=0.6, label='$P(X=k), k=0,1,2,\\cdots, 100$')\n",
    "\n",
    "plot_style(ax)\n",
    "plt.show()"
   ]
  },
  {
   "cell_type": "markdown",
   "id": "2ae6574a-18b2-45b0-9640-a143699ffe3d",
   "metadata": {},
   "source": [
    "2） 泊松分布\n",
    "\n",
    "设随机变量$X$的取值为$0,1,2, \\cdots ,n, \\cdots $，其分布律为$P(X=k)=\\frac{\\lambda^k}{k !} \\mathrm{e}^{-\\lambda}, \\lambda>0, k=0,1,2, \\cdots, n, \\cdots$，称随机变量$X$服从参数为$\\lambda$的**泊松分布**，记为$X \\sim P(\\lambda)$。易知，$P\\{X=k\\} \\geqslant 0, k=0,1,2, \\cdots$，且$\\sum_{k=0}^{\\infty} P\\{X=k\\}=\\sum_{k=0}^{\\infty} \\frac{\\lambda^k}{k !} \\mathrm{e}^{-\\lambda}=\\mathrm{e}^{-\\lambda} \\sum_{k=0}^{\\infty} \\frac{\\lambda^k}{k !}=\\mathrm{e}^{-\\lambda} \\cdot \\mathrm{e}^\\lambda=1$。\n",
    "\n",
    "泊松分布适合于描述单位时间（或空间）内随机事件发生的次数，如，某一服务设施在一定时间内到达的人数，电话交换机接到呼叫的次数，汽车站台的后客人数，机器出现的故障数，显微镜下单位分区内的细菌分布数等。\n",
    "\n",
    "下述应用`SciPy`库提供的`poisson`方法绘制泊松分布，横轴$k$为随机事件$A$出现的次数（整数值），$\\lambda$是预期的发生率，纵轴是给定$\\lambda$时出现$k$次的概率。"
   ]
  },
  {
   "cell_type": "code",
   "execution_count": 21,
   "id": "df2c3829-7340-4342-9396-30ecf556c91b",
   "metadata": {
    "tags": []
   },
   "outputs": [
    {
     "data": {
      "image/png": "[encoded data removed]",
      "text/plain": [
       "<Figure size 500x500 with 1 Axes>"
      ]
     },
     "metadata": {},
     "output_type": "display_data"
    }
   ],
   "source": [
    "fig, ax=plt.subplots(1, 1,figsize=(5,5))\n",
    "x=np.arange(0,20) # x=np.arange(poisson.ppf(0.001, 10),poisson.ppf(0.999, 10))\n",
    "ax.plot(x, poisson.pmf(x, 10), 'yo-', ms=8, label='$\\lambda=10$')\n",
    "ax.plot(x, poisson.pmf(x, 4), 'co-', ms=8, label='$\\lambda=4$')\n",
    "ax.plot(x, poisson.pmf(x, 1), 'ko-', ms=8, label='$\\lambda=1$')\n",
    "\n",
    "plot_style(ax)\n",
    "plt.legend(loc='upper right')\n",
    "plt.xlabel(\"$k$\")\n",
    "plt.ylabel(\"$P(x=k)$\")\n",
    "plt.show()"
   ]
  },
  {
   "cell_type": "markdown",
   "id": "9cb1835d-cac2-4e80-be95-9ec9765fe63a",
   "metadata": {},
   "source": [
    "例如，已知一购物网站每周销售某款商品的数量$X$服从参数为6的泊松分布，问周初至少预备多少货源才能保证该周不脱销的概率不小于0.9（假设上周没有库存，且本周不再进货）。由`poisson.ppf`（Percent point function (inverse of cdf — percentiles)）方法可以直接计算$k$（货源量），得$k=9$。并用`poisson.cdf`（Cumulative distribution function，累积分布函数）验证$k=9$时的概率，为0.916，不小于题目给定的0.9。"
   ]
  },
  {
   "cell_type": "code",
   "execution_count": 32,
   "id": "2f8b0696-f483-4e90-a6bf-cd860ea78d28",
   "metadata": {},
   "outputs": [
    {
     "name": "stdout",
     "output_type": "stream",
     "text": [
      "9.0\n",
      "0.9160759830051242\n"
     ]
    }
   ],
   "source": [
    "k=poisson.ppf(q=0.9, mu=6)\n",
    "print(k)\n",
    "p=poisson.cdf(k, 6)\n",
    "print(p)"
   ]
  },
  {
   "cell_type": "markdown",
   "id": "1ec3acff-4a1a-4d5a-a627-53d3a75fbd82",
   "metadata": {},
   "source": [
    "泊松分布可以作为二项分布的一种近似，有**泊松定理**，在$n$重伯努利试验中，记事件$A$在一次试验中发生的概率为$p_n$，如果当$n \\rightarrow + \\infty $时，有$n p_n \\rightarrow \\lambda(>0)$，则$\\lim _{n \\rightarrow+\\infty}\\left(\\begin{array}{l}n \\\\ k\\end{array}\\right) p_n^k\\left(1-p_n\\right)^{n-k}=\\frac{\\lambda^k}{k !} \\mathrm{e}^{-\\lambda}$。\n",
    "\n",
    "例如，设某保险公司的某类保险有1000人投保，每个投保人在1年内死亡的概率为0.005，且每个人在1年内是否死亡是相互独立的，试求在未来1年中者1000个投保人中死亡人数不超过10人的概率。因为$n=1000$较大，而$p=0.005$较小，因此下述分别应用二项分布和泊松分布计算，结果近似相等。"
   ]
  },
  {
   "cell_type": "code",
   "execution_count": 40,
   "id": "f1db1ff4-b209-46cc-ab35-425cebec5365",
   "metadata": {},
   "outputs": [
    {
     "name": "stdout",
     "output_type": "stream",
     "text": [
      "PX_1=0.9820037708176401,\n",
      "PX_2=0.9863047314016171\n"
     ]
    }
   ],
   "source": [
    "n=1000\n",
    "k=10\n",
    "p=0.005\n",
    "PX_1=1-usda_pgm.P_Xk_binomialDistribution(n=n,k=k,p=p)\n",
    "\n",
    "lamb=n*p\n",
    "PX_2=poisson.cdf(k, mu=lamb)\n",
    "print(f'PX_1={PX_1},\\nPX_2={PX_2}')"
   ]
  },
  {
   "cell_type": "markdown",
   "id": "b795e347-8023-4b5b-9cc4-0d148aaf8a66",
   "metadata": {},
   "source": [
    "* 常用连续型随机变量\n",
    "\n",
    "1）均匀分布\n",
    "\n",
    "设$X$为随机变量，对任意2个实数$a,b(a<b)$，概率密度函数为$f(x)= \\begin{cases}\\frac{1}{b-a}, & a<x<b ， \\\\ 0, & \\text { 其他. }\\end{cases} $，则称随机变量$X$服从区间$(a,b)$上的**均匀分布**（下图左），记为$X \\sim U(a,b)$。\n",
    "\n",
    "若$X \\sim U(a,b)$，则相应的分布函数（下图右）为$F(x)= \\begin{cases}0, & x<a, \\\\ \\frac{x-a}{b-a}, & a \\leqslant x<b, \\\\ 1, & x \\geqslant b .\\end{cases} $，由此得到，若$X \\sim U(a, b), a<c<c+d<b$，则$P(c<X \\leqslant c+d)=\\int_c^{c+d} \\frac{1}{b-a} \\mathrm{~d} x=\\frac{d}{b-a}$，该结论说明，均匀分布的随机变量$X$，在其取值范围$(a,b)$中的任何子区间取值的概率仅与该区间长度$d$有关而与区间的位置$c$无关。"
   ]
  },
  {
   "cell_type": "code",
   "execution_count": 169,
   "id": "cfef6ef1-49c3-4d23-acc0-00efdd96155b",
   "metadata": {},
   "outputs": [
    {
     "data": {
      "image/png": "[encoded data removed]",
      "text/plain": [
       "<Figure size 1000x500 with 2 Axes>"
      ]
     },
     "metadata": {},
     "output_type": "display_data"
    }
   ],
   "source": [
    "plt.rcParams['font.sans-serif'] = ['SimHei']\n",
    "matplotlib.rcParams['axes.unicode_minus'] = False\n",
    "\n",
    "fig, axs=plt.subplots(1, 2,figsize=(10,5))\n",
    "\n",
    "a,b=-1,4\n",
    "axs[0].hlines(y =1/(b-a), xmin = a, xmax = b,linewidth=5, color='b')\n",
    "axs[0].vlines(x=[a,b],ymin=0,ymax =1/(b-a), linewidth=1, color='k',linestyles='dashed')\n",
    "axs[0].hlines(y =1/(b-a), xmin = 0, xmax = a,linewidth=1, color='k',linestyles='dashed')\n",
    "axs[0].text(-2,0.2, r'$f(x)$', family=\"monospace\",size=20)\n",
    "axs[0].text(4.5,-0.015,'$x$', family=\"monospace\",size=20)\n",
    "axs[0].text(0.6,1/(b-a)-0.015,'$\\\\frac{1}{b-a}$', family=\"monospace\",size=15)\n",
    "axs[0].text(a,-0.02,'$a$', family=\"monospace\",size=15)\n",
    "axs[0].text(b,-0.02,'$b$', family=\"monospace\",size=15)\n",
    "axs[0].set_title(\"均匀分布密度函数$f(x)$\")\n",
    "\n",
    "axs[1].plot([a,b,b+3],[0,1,1],linewidth=5, color='r')\n",
    "axs[1].vlines(x=b,ymin=0,ymax =1, linewidth=1, color='k',linestyles='dashed')\n",
    "axs[1].hlines(y =1, xmin = 0, xmax = b,linewidth=1, color='k',linestyles='dashed')\n",
    "axs[1].text(-3,1, r'$F(x)$', family=\"monospace\",size=20)\n",
    "axs[1].text(7.5,-0.1,'$x$', family=\"monospace\",size=20)\n",
    "axs[1].text(a,-0.09,'$a$', family=\"monospace\",size=15)\n",
    "axs[1].text(b,-0.09,'$b$', family=\"monospace\",size=15)\n",
    "axs[1].set_title(\"均匀分布分布函数$F(x)$\")\n",
    "\n",
    "plot_style(axs[0])\n",
    "plot_style(axs[1])\n",
    "fig.tight_layout()\n",
    "plt.show()"
   ]
  },
  {
   "cell_type": "markdown",
   "id": "c3bb3958-7e59-4e5e-b0f7-10c76298f867",
   "metadata": {
    "tags": []
   },
   "source": [
    "例如，设随机变量$X \\sim U(-1,4)$，求事件$\\{|X|<2\\}$的概率。因为$X$的概率密度函数为$f(x)= \\begin{cases}\\frac{1}{5}, & -1<x<4 \\\\ 0, & \\text { 其他. }\\end{cases}$，所以$P(|X|<2)=P(-1<X<2)=\\int_{-1}^2 \\frac{1}{5} \\mathrm{~d} x=\\frac{3}{5}$。如果事件$Y$表示对$X$作3次相互独立重复观测中事件$\\{|X|<2\\}$出现的次数，则$Y \\sim B\\left(3, \\frac{3}{5}\\right)$，所以$P(Y=2)=\\left(\\begin{array}{l}3 \\\\ 2\\end{array}\\right)\\left(\\frac{3}{5}\\right)^2 \\frac{2}{5}=\\frac{54}{125}$。"
   ]
  },
  {
   "cell_type": "markdown",
   "id": "4a51a38c-6eaf-4a3e-bf90-188a235c26a0",
   "metadata": {},
   "source": [
    "2）指数分布\n",
    "\n",
    "设$X$为随机变量，概率密度函数（下图左）为$f(x)=\\left\\{\\begin{array}{ll}\\lambda \\mathrm{e}^{-\\lambda x}, & x \\geqslant 0, \\\\ 0, & \\text { 其他, }\\end{array} \\quad \\lambda>0 .\\right.$，则称随机变量$X$服从参数为$\\lambda$的**指数分布**，记为$X \\sim E( \\lambda )$。\n",
    "\n",
    "若$X \\sim E( \\lambda )$，则相应的分布函数（下图右）为$F(x)= \\begin{cases}0, & x<0, \\\\ 1-\\mathrm{e}^{-\\lambda x}, & x \\geqslant 0 .\\end{cases} $，由此得到，若$X \\sim E( \\lambda ), 0<a<b$，则$P(a<X \\leqslant b)=F(b)-F(a)=\\mathrm{e}^{-\\lambda a}-\\mathrm{e}^{-\\lambda b}$。\n",
    "\n",
    "服从指数分布的随机变量只能取非负实数，常用于各种“寿命”分布，例如电子元件的寿命，某个特定事件发生所需的等待时间等往往服从指数分布。"
   ]
  },
  {
   "cell_type": "code",
   "execution_count": 168,
   "id": "1674f1c2-1265-4cd1-a541-c50cb4f4a930",
   "metadata": {
    "tags": []
   },
   "outputs": [
    {
     "data": {
      "image/png": "[encoded data removed]",
      "text/plain": [
       "<Figure size 1000x500 with 2 Axes>"
      ]
     },
     "metadata": {},
     "output_type": "display_data"
    }
   ],
   "source": [
    "def expon_lamb_pdf(x,lamb):\n",
    "    return lamb*math.e**(-lamb*x)\n",
    "\n",
    "def expon_lamb_cdf(x,lamb):\n",
    "    return 1-math.e**(-lamb*x)\n",
    "\n",
    "plt.rcParams['font.sans-serif'] = ['SimHei']\n",
    "matplotlib.rcParams['axes.unicode_minus'] = False\n",
    "\n",
    "fig, axs=plt.subplots(1, 2,figsize=(10,5))\n",
    "x=np.linspace(0,60, 60)\n",
    "lamb=0.1\n",
    "\n",
    "axs[0].plot(x, expon_lamb_pdf(x,lamb),'b-', lw=5, alpha=0.6, label=f'expon pdf;$\\\\lambda$={lamb}')\n",
    "axs[1].plot(x, expon_lamb_cdf(x,lamb),'r-', lw=5, alpha=0.6, label=f'expon cdf;$\\\\lambda$={lamb}')\n",
    "\n",
    "for ax in axs: ax.legend(loc='center right')\n",
    "axs[0].set_title(\"指数分布密度函数$f(x)$\")\n",
    "axs[1].set_title(\"指数分布分布函数$F(x)$\")\n",
    "axs[0].text(-15,0.1, r'$f(x)$', family=\"monospace\",size=20)\n",
    "axs[0].text(65,-0.01,'$x$', family=\"monospace\",size=20)\n",
    "axs[1].text(-15,1, r'$F(x)$', family=\"monospace\",size=20)\n",
    "axs[1].text(65,-0.1,'$x$', family=\"monospace\",size=20)\n",
    "\n",
    "plot_style(axs[0])\n",
    "plot_style(axs[1])\n",
    "fig.tight_layout()\n",
    "plt.show()"
   ]
  },
  {
   "cell_type": "markdown",
   "id": "a3b1a48e-fa08-4ac4-8562-418356148d60",
   "metadata": {
    "tags": []
   },
   "source": [
    "3） 正态分布\n",
    "\n",
    "设连续型随机变量$X$的概率密度为$f(x)=\\frac{1}{\\sqrt{2 \\pi} \\sigma} \\mathrm{e}^{-\\frac{(x-\\mu)^2}{2 \\sigma^2}},-\\infty<x<+\\infty$，式中，$ \\mu , \\sigma ( \\sigma >0)$为常数，则称$X$服从参数为$ \\mu , \\sigma $的**正态分布或高斯分布**，记为$X \\sim N( \\mu ,  \\sigma ^{2} )$。服从正态分布的随机变量称为**正态随机变量**。*连续型随机变量及其密度函数*部分给出的图即为正态分布的概率密度函数和分布函数。"
   ]
  },
  {
   "cell_type": "markdown",
   "id": "ffdf5c89-8144-43dc-ad20-9bce5fe941a6",
   "metadata": {},
   "source": [
    "* 离散型随机变量函数的分布\n",
    "\n",
    "设$Y=g(X)$为离散型随机变量$X$的函数，则对$Y$的任一可能取值$y$，有，$P\\{Y=y\\}=P\\{g(X)=y\\}=P\\{X \\in\\{x: g(x)=y\\}\\}$。一般的，若$X$是离散型随机变量，$X$的分布律为：\n",
    "\n",
    "| $X$  |  $x_1$ | $x_2$  | $\\cdots$  | $x_n$  | $\\cdots$  |\n",
    "|---|---|---|---|---|---|\n",
    "| $p_k$  | $p_1$  | $p_2$  | $\\cdots$   |  $p_n$ |  $\\cdots$  |\n",
    "\n",
    "则$Y=g(X)$的分布律为：\n",
    "\n",
    "| $Y=g(X)$  |  $g(x_1)$ | $g(x_2)$  | $\\cdots$  | $g(x_n)$  | $\\cdots$  |\n",
    "|---|---|---|---|---|---|\n",
    "| $p_k$  | $p_1$  | $p_2$  | $\\cdots$   |  $p_n$ |  $\\cdots$  |"
   ]
  },
  {
   "cell_type": "markdown",
   "id": "a95662fc-6ac3-4f77-a1fd-a3a01b51834d",
   "metadata": {},
   "source": [
    "* 连续型随机变量函数的分布\n",
    "\n",
    "设$X$是连续型随机变量，$y=g(x)$是连续函数，一般来说，Y=g(X)也是连续型随机变量，令$f_X(x), f_Y(y)$分布为$X,Y$的概率密度函数，$F_X(x), F_Y(y)$分别为$X,Y$的分布函数，则$F_Y(y)=P\\{Y \\leqslant y\\}=P\\{g(X) \\leqslant y\\}=P\\{X \\in\\{x: g(x) \\leqslant y\\}\\}$。利用$X$的分布函数求出的概率即得$Y$的分布函数；若求$Y$的概率密度函数$f_Y(y)$，只需对$F_Y(y)$求导。"
   ]
  },
  {
   "cell_type": "markdown",
   "id": "2f9d3610-2b56-4e79-82b0-54d9471f5089",
   "metadata": {},
   "source": [
    "## 3.5.3 多维随机变量及其分布\n",
    "\n",
    "* 多维随机变量\n",
    "\n",
    "定义 1：设有随机试验$E$，其样本空间为$\\Omega$，若对$\\Omega$中的每一个样本点$\\omega$都有一对有序实数$(X(\\omega),Y(\\omega))$与其对应，则称$(X,Y)$为**二维随机变量或二维随机向量**，称$(X,Y)$的取值范围为它的值域，记为$\\Omega_{(XY)}$。可以说二维随机变量$(X,Y)$是一个特殊的二元函数，其定义域为样本空间$\\Omega$，值域$\\Omega_{(X,Y)} \\subset  R^{2} $。\n",
    "\n",
    "例：现有一枚骰子相互独立地上抛两次的随机试验$E$，观察两次出现的点数，样本空间$\\Omega$为如下计算结果`Omega`，总共36个样本点（两两组合的结果）。"
   ]
  },
  {
   "cell_type": "code",
   "execution_count": 2,
   "id": "45fdd6b1-6b78-470b-8012-bce03ec0ffb9",
   "metadata": {
    "tags": []
   },
   "outputs": [],
   "source": [
    "import itertools\n",
    "from IPython.display import display, Latex"
   ]
  },
  {
   "cell_type": "code",
   "execution_count": 3,
   "id": "f6fe562e-fded-4351-bb71-45eda982c924",
   "metadata": {},
   "outputs": [
    {
     "name": "stdout",
     "output_type": "stream",
     "text": [
      "36\n"
     ]
    },
    {
     "data": {
      "text/latex": [
       "$\\Omega$=[(1, 1), (1, 2), (1, 3), (1, 4), (1, 5), (1, 6), (2, 1), (2, 2), (2, 3), (2, 4), (2, 5), (2, 6), (3, 1), (3, 2), (3, 3), (3, 4), (3, 5), (3, 6), (4, 1), (4, 2), (4, 3), (4, 4), (4, 5), (4, 6), (5, 1), (5, 2), (5, 3), (5, 4), (5, 5), (5, 6), (6, 1), (6, 2), (6, 3), (6, 4), (6, 5), (6, 6)]"
      ],
      "text/plain": [
       "<IPython.core.display.Latex object>"
      ]
     },
     "metadata": {},
     "output_type": "display_data"
    }
   ],
   "source": [
    "Omega=list(itertools.product(range(1,7),range(1,7)))\n",
    "print(len(Omega))\n",
    "display(Latex(f'$\\Omega$={Omega}'))"
   ]
  },
  {
   "cell_type": "markdown",
   "id": "c2fc1302-365e-4aeb-83f6-b2a509687075",
   "metadata": {},
   "source": [
    "设随机变量$X$表示“第1次出现的点数”，随机变量$Y$表示“两次出现点数的最小值”，并设$\\omega_i$为$\\Omega$中的第$i$个样本点，则对应样本点定义域转化为随机变量对应的值域，计算结果为`XY`，如下打印了一一对应结果。"
   ]
  },
  {
   "cell_type": "code",
   "execution_count": 4,
   "id": "ea250237-18fa-4f4a-86d6-19369540f91d",
   "metadata": {},
   "outputs": [
    {
     "data": {
      "text/latex": [
       "$\\omega_{1}$=(1, 1),$X(\\omega_{1}),Y(\\omega_{1})$=(1, 1);"
      ],
      "text/plain": [
       "<IPython.core.display.Latex object>"
      ]
     },
     "metadata": {},
     "output_type": "display_data"
    },
    {
     "data": {
      "text/latex": [
       "$\\omega_{2}$=(1, 2),$X(\\omega_{2}),Y(\\omega_{2})$=(1, 1);"
      ],
      "text/plain": [
       "<IPython.core.display.Latex object>"
      ]
     },
     "metadata": {},
     "output_type": "display_data"
    },
    {
     "data": {
      "text/latex": [
       "$\\omega_{3}$=(1, 3),$X(\\omega_{3}),Y(\\omega_{3})$=(1, 1);"
      ],
      "text/plain": [
       "<IPython.core.display.Latex object>"
      ]
     },
     "metadata": {},
     "output_type": "display_data"
    },
    {
     "data": {
      "text/latex": [
       "$\\omega_{4}$=(1, 4),$X(\\omega_{4}),Y(\\omega_{4})$=(1, 1);"
      ],
      "text/plain": [
       "<IPython.core.display.Latex object>"
      ]
     },
     "metadata": {},
     "output_type": "display_data"
    },
    {
     "data": {
      "text/latex": [
       "$\\omega_{5}$=(1, 5),$X(\\omega_{5}),Y(\\omega_{5})$=(1, 1);"
      ],
      "text/plain": [
       "<IPython.core.display.Latex object>"
      ]
     },
     "metadata": {},
     "output_type": "display_data"
    },
    {
     "data": {
      "text/latex": [
       "$\\omega_{6}$=(1, 6),$X(\\omega_{6}),Y(\\omega_{6})$=(1, 1);"
      ],
      "text/plain": [
       "<IPython.core.display.Latex object>"
      ]
     },
     "metadata": {},
     "output_type": "display_data"
    },
    {
     "data": {
      "text/latex": [
       "$\\omega_{7}$=(2, 1),$X(\\omega_{7}),Y(\\omega_{7})$=(2, 1);"
      ],
      "text/plain": [
       "<IPython.core.display.Latex object>"
      ]
     },
     "metadata": {},
     "output_type": "display_data"
    },
    {
     "data": {
      "text/latex": [
       "$\\omega_{8}$=(2, 2),$X(\\omega_{8}),Y(\\omega_{8})$=(2, 2);"
      ],
      "text/plain": [
       "<IPython.core.display.Latex object>"
      ]
     },
     "metadata": {},
     "output_type": "display_data"
    },
    {
     "data": {
      "text/latex": [
       "$\\omega_{9}$=(2, 3),$X(\\omega_{9}),Y(\\omega_{9})$=(2, 2);"
      ],
      "text/plain": [
       "<IPython.core.display.Latex object>"
      ]
     },
     "metadata": {},
     "output_type": "display_data"
    },
    {
     "data": {
      "text/latex": [
       "$\\omega_{10}$=(2, 4),$X(\\omega_{10}),Y(\\omega_{10})$=(2, 2);"
      ],
      "text/plain": [
       "<IPython.core.display.Latex object>"
      ]
     },
     "metadata": {},
     "output_type": "display_data"
    },
    {
     "data": {
      "text/latex": [
       "$\\omega_{11}$=(2, 5),$X(\\omega_{11}),Y(\\omega_{11})$=(2, 2);"
      ],
      "text/plain": [
       "<IPython.core.display.Latex object>"
      ]
     },
     "metadata": {},
     "output_type": "display_data"
    },
    {
     "data": {
      "text/latex": [
       "$\\omega_{12}$=(2, 6),$X(\\omega_{12}),Y(\\omega_{12})$=(2, 2);"
      ],
      "text/plain": [
       "<IPython.core.display.Latex object>"
      ]
     },
     "metadata": {},
     "output_type": "display_data"
    },
    {
     "data": {
      "text/latex": [
       "$\\omega_{13}$=(3, 1),$X(\\omega_{13}),Y(\\omega_{13})$=(3, 1);"
      ],
      "text/plain": [
       "<IPython.core.display.Latex object>"
      ]
     },
     "metadata": {},
     "output_type": "display_data"
    },
    {
     "data": {
      "text/latex": [
       "$\\omega_{14}$=(3, 2),$X(\\omega_{14}),Y(\\omega_{14})$=(3, 2);"
      ],
      "text/plain": [
       "<IPython.core.display.Latex object>"
      ]
     },
     "metadata": {},
     "output_type": "display_data"
    },
    {
     "data": {
      "text/latex": [
       "$\\omega_{15}$=(3, 3),$X(\\omega_{15}),Y(\\omega_{15})$=(3, 3);"
      ],
      "text/plain": [
       "<IPython.core.display.Latex object>"
      ]
     },
     "metadata": {},
     "output_type": "display_data"
    },
    {
     "data": {
      "text/latex": [
       "$\\omega_{16}$=(3, 4),$X(\\omega_{16}),Y(\\omega_{16})$=(3, 3);"
      ],
      "text/plain": [
       "<IPython.core.display.Latex object>"
      ]
     },
     "metadata": {},
     "output_type": "display_data"
    },
    {
     "data": {
      "text/latex": [
       "$\\omega_{17}$=(3, 5),$X(\\omega_{17}),Y(\\omega_{17})$=(3, 3);"
      ],
      "text/plain": [
       "<IPython.core.display.Latex object>"
      ]
     },
     "metadata": {},
     "output_type": "display_data"
    },
    {
     "data": {
      "text/latex": [
       "$\\omega_{18}$=(3, 6),$X(\\omega_{18}),Y(\\omega_{18})$=(3, 3);"
      ],
      "text/plain": [
       "<IPython.core.display.Latex object>"
      ]
     },
     "metadata": {},
     "output_type": "display_data"
    },
    {
     "data": {
      "text/latex": [
       "$\\omega_{19}$=(4, 1),$X(\\omega_{19}),Y(\\omega_{19})$=(4, 1);"
      ],
      "text/plain": [
       "<IPython.core.display.Latex object>"
      ]
     },
     "metadata": {},
     "output_type": "display_data"
    },
    {
     "data": {
      "text/latex": [
       "$\\omega_{20}$=(4, 2),$X(\\omega_{20}),Y(\\omega_{20})$=(4, 2);"
      ],
      "text/plain": [
       "<IPython.core.display.Latex object>"
      ]
     },
     "metadata": {},
     "output_type": "display_data"
    },
    {
     "data": {
      "text/latex": [
       "$\\omega_{21}$=(4, 3),$X(\\omega_{21}),Y(\\omega_{21})$=(4, 3);"
      ],
      "text/plain": [
       "<IPython.core.display.Latex object>"
      ]
     },
     "metadata": {},
     "output_type": "display_data"
    },
    {
     "data": {
      "text/latex": [
       "$\\omega_{22}$=(4, 4),$X(\\omega_{22}),Y(\\omega_{22})$=(4, 4);"
      ],
      "text/plain": [
       "<IPython.core.display.Latex object>"
      ]
     },
     "metadata": {},
     "output_type": "display_data"
    },
    {
     "data": {
      "text/latex": [
       "$\\omega_{23}$=(4, 5),$X(\\omega_{23}),Y(\\omega_{23})$=(4, 4);"
      ],
      "text/plain": [
       "<IPython.core.display.Latex object>"
      ]
     },
     "metadata": {},
     "output_type": "display_data"
    },
    {
     "data": {
      "text/latex": [
       "$\\omega_{24}$=(4, 6),$X(\\omega_{24}),Y(\\omega_{24})$=(4, 4);"
      ],
      "text/plain": [
       "<IPython.core.display.Latex object>"
      ]
     },
     "metadata": {},
     "output_type": "display_data"
    },
    {
     "data": {
      "text/latex": [
       "$\\omega_{25}$=(5, 1),$X(\\omega_{25}),Y(\\omega_{25})$=(5, 1);"
      ],
      "text/plain": [
       "<IPython.core.display.Latex object>"
      ]
     },
     "metadata": {},
     "output_type": "display_data"
    },
    {
     "data": {
      "text/latex": [
       "$\\omega_{26}$=(5, 2),$X(\\omega_{26}),Y(\\omega_{26})$=(5, 2);"
      ],
      "text/plain": [
       "<IPython.core.display.Latex object>"
      ]
     },
     "metadata": {},
     "output_type": "display_data"
    },
    {
     "data": {
      "text/latex": [
       "$\\omega_{27}$=(5, 3),$X(\\omega_{27}),Y(\\omega_{27})$=(5, 3);"
      ],
      "text/plain": [
       "<IPython.core.display.Latex object>"
      ]
     },
     "metadata": {},
     "output_type": "display_data"
    },
    {
     "data": {
      "text/latex": [
       "$\\omega_{28}$=(5, 4),$X(\\omega_{28}),Y(\\omega_{28})$=(5, 4);"
      ],
      "text/plain": [
       "<IPython.core.display.Latex object>"
      ]
     },
     "metadata": {},
     "output_type": "display_data"
    },
    {
     "data": {
      "text/latex": [
       "$\\omega_{29}$=(5, 5),$X(\\omega_{29}),Y(\\omega_{29})$=(5, 5);"
      ],
      "text/plain": [
       "<IPython.core.display.Latex object>"
      ]
     },
     "metadata": {},
     "output_type": "display_data"
    },
    {
     "data": {
      "text/latex": [
       "$\\omega_{30}$=(5, 6),$X(\\omega_{30}),Y(\\omega_{30})$=(5, 5);"
      ],
      "text/plain": [
       "<IPython.core.display.Latex object>"
      ]
     },
     "metadata": {},
     "output_type": "display_data"
    },
    {
     "data": {
      "text/latex": [
       "$\\omega_{31}$=(6, 1),$X(\\omega_{31}),Y(\\omega_{31})$=(6, 1);"
      ],
      "text/plain": [
       "<IPython.core.display.Latex object>"
      ]
     },
     "metadata": {},
     "output_type": "display_data"
    },
    {
     "data": {
      "text/latex": [
       "$\\omega_{32}$=(6, 2),$X(\\omega_{32}),Y(\\omega_{32})$=(6, 2);"
      ],
      "text/plain": [
       "<IPython.core.display.Latex object>"
      ]
     },
     "metadata": {},
     "output_type": "display_data"
    },
    {
     "data": {
      "text/latex": [
       "$\\omega_{33}$=(6, 3),$X(\\omega_{33}),Y(\\omega_{33})$=(6, 3);"
      ],
      "text/plain": [
       "<IPython.core.display.Latex object>"
      ]
     },
     "metadata": {},
     "output_type": "display_data"
    },
    {
     "data": {
      "text/latex": [
       "$\\omega_{34}$=(6, 4),$X(\\omega_{34}),Y(\\omega_{34})$=(6, 4);"
      ],
      "text/plain": [
       "<IPython.core.display.Latex object>"
      ]
     },
     "metadata": {},
     "output_type": "display_data"
    },
    {
     "data": {
      "text/latex": [
       "$\\omega_{35}$=(6, 5),$X(\\omega_{35}),Y(\\omega_{35})$=(6, 5);"
      ],
      "text/plain": [
       "<IPython.core.display.Latex object>"
      ]
     },
     "metadata": {},
     "output_type": "display_data"
    },
    {
     "data": {
      "text/latex": [
       "$\\omega_{36}$=(6, 6),$X(\\omega_{36}),Y(\\omega_{36})$=(6, 6);"
      ],
      "text/plain": [
       "<IPython.core.display.Latex object>"
      ]
     },
     "metadata": {},
     "output_type": "display_data"
    }
   ],
   "source": [
    "XY=[(i[0],min(i)) for i in Omega]\n",
    "i=1\n",
    "for xy,omega in zip(XY,Omega):\n",
    "    display(Latex(f'$\\omega_{{{i}}}$={omega},$X(\\omega_{{{i}}}),Y(\\omega_{{{i}}})$={xy};'))    \n",
    "    i+=1"
   ]
  },
  {
   "cell_type": "markdown",
   "id": "7285d9c2-f1f9-472f-b59f-ef5136db5898",
   "metadata": {},
   "source": [
    "上述对应样本点随机变量的值，存在重复值，将其转化为集合，仅保留唯一值，即为$(X,Y)$的值域，如下`Omega_XY`，总计有21个值。"
   ]
  },
  {
   "cell_type": "code",
   "execution_count": 5,
   "id": "d982049d-550b-46a5-9686-8649c34f718a",
   "metadata": {},
   "outputs": [
    {
     "name": "stdout",
     "output_type": "stream",
     "text": [
      "21\n"
     ]
    },
    {
     "data": {
      "text/latex": [
       "$\\Omega_{X,Y}$={(4, 3), (3, 1), (5, 4), (5, 1), (2, 2), (6, 2), (6, 5), (4, 2), (3, 3), (5, 3), (2, 1), (6, 1), (6, 4), (3, 2), (4, 1), (5, 2), (4, 4), (5, 5), (1, 1), (6, 6), (6, 3)}"
      ],
      "text/plain": [
       "<IPython.core.display.Latex object>"
      ]
     },
     "metadata": {},
     "output_type": "display_data"
    }
   ],
   "source": [
    "Omega_XY=set(XY)\n",
    "print(len(Omega_XY))\n",
    "display(Latex(f'$\\Omega_{{X,Y}}$={Omega_XY}'))"
   ]
  },
  {
   "cell_type": "markdown",
   "id": "213d1aa1-31ab-437f-a22a-a1031212ad76",
   "metadata": {},
   "source": [
    "将二维随机变量的定义推广至$n$维，\n",
    "\n",
    "定义 2：设有随机试验$E$，其样本空间为$\\Omega$，若对$\\Omega$中的每一个样本点$\\omega$都有一组有序实数列$(X_1(\\omega),X_2(\\omega), \\cdots ,X_n(\\omega))$与其对应，则称$(X_1,X_2, \\cdots ,X_n)$为$n$**维随机变量或**$n$**维随机向量**，称$(X_1,X_2, \\cdots ,X_n)$的取值范围为它的**值域**，记为$ \\Omega_{X_1,X_2, \\cdots ,X_n}$。"
   ]
  },
  {
   "cell_type": "markdown",
   "id": "f340a11c-7130-4c74-9005-3a205df8edf0",
   "metadata": {
    "tags": []
   },
   "source": [
    "* 联合分布函数\n",
    "\n",
    "二维随机变量，$(X,Y)$的分布不仅要包含每个随机变量各自的信息，还要包含两者之间相互关系的信息，因此称它们的分布为联合分布。\n",
    "\n",
    "定义 3：设$(X,Y)$为二维随机变量，对任意的$(x,y) \\in R^2$，称$F(x, y)=P(X \\leqslant x, Y \\leqslant y)$为随机变量$(X,Y)$的**（联合）分布函数**。式中，$P(X \\leqslant x, Y \\leqslant y)$中的逗号表示对事件$\\{X \\leqslant x\\}$和事件$\\{Y \\leqslant y\\}$取积事件，$P(X \\leqslant x, Y \\leqslant y)=P\\left(\\{X \\leqslant x\\}: \\cap\\{Y \\leqslant y\\})=P\\left((X, Y) \\in D_{x y}\\right) \\right.$，式中$D_{xy}$区域如下图。联合分布函数描述了二维随机变量的统计规律，如果$(X,Y)$看作平面$x \\bigcirc y$上随机点的坐标，那么其分布函数$F(x, y)$在$(x, y)$处的函数值就表示随机变量$(X,Y)$落在以点$(x,y)$为顶点且位于该点左下方的无穷矩形区域内$D_{xy}$的概率。\n",
    "\n",
    "<img src=\"../imgs/3_5_a/3_5_A_03.jpg\" height='auto' width=300 title=\"caDesign\"> \n",
    "\n",
    "对于$n$维随机变量$\\left(X_1, X_2, \\cdots, X_n\\right)$的联合分布概率的定义。\n",
    "\n",
    "定义 4：设$\\left(X_1, X_2, \\cdots, X_n\\right)$为$n$维随机变量，对任意的$\\left(x_1, x_2, \\cdots, x_n\\right) \\in R^n$，称$F\\left(x_1, x_2, \\cdots, x_n\\right)=P\\left(X_1 \\leqslant x_1, \\cdots, X_n \\leqslant x_n\\right)$为**随机变量**$\\left(X_1, X_2, \\cdots, X_n\\right)$**的（联合）分布函数**。\n",
    "\n",
    "联合分布函数具有如下性质，\n",
    "\n",
    "定理 1（**联合分布函数的性质**）：设$F(x,y)$是二维随机变量$(X,Y)$的联合分布函数，则，\n",
    "\n",
    "（1）$0 \\leqslant F(x,y) \\leqslant 1$；\n",
    "\n",
    "（2）当固定$y$值时，$F(x,y)$是变量$x$的非减函数，当固定$x$值时，$F(x,y)$是变量$y$的非减函数；\n",
    "\n",
    "（3）$\\lim _{x \\rightarrow-\\infty} F(x, y)=0, \\lim _{y \\rightarrow-\\infty} F(x, y)=0, \\lim _{\\substack{x \\rightarrow-\\infty \\\\ y \\rightarrow-\\infty}} F(x, y)=0, \\lim _{\\substack{x \\rightarrow+\\infty \\\\ y \\rightarrow+\\infty}} F(x, y)=1$；\n",
    "\n",
    "（4）当固定$y$值时，$F(x,y)$是变量$x$的右连续函数，当固定$x$值时，$F(x,y)$是变量$y$的右连续函数；\n",
    "\n",
    "（5）$P\\left(x_1<X \\leqslant x_2, y_1<Y \\leqslant y_2\\right)=F\\left(x_2, y_2\\right)-F\\left(x_2, y_1\\right)-F\\left(x_1, y_2\\right)+F\\left(x_1, y_1\\right)$。\n",
    "\n",
    "> 除了性质（5）,其它4条性质都可以推广至高维随机变量的联合分布函数。"
   ]
  },
  {
   "cell_type": "markdown",
   "id": "32314b81-828e-41a7-8507-b5d653914c3f",
   "metadata": {},
   "source": [
    "* 二维离散型随机变量及其联合分布律\n",
    "\n",
    "定义 5：如何二维随机变量$(X,Y)$仅可能取有限个或可列无限个值，则称$(X,Y)$为**二维离散型随机变量**。\n",
    "\n",
    "二维离散型随机变量$(X,Y)$的分布可用联合分布律表示。\n",
    "\n",
    "定义 6：称$P\\left(X=x_i, Y=y_j\\right)=p_{i j}, i, j=1,2, \\cdots$为二维随机变量$(X,Y)$的**联合分布律**，式中，$p_{i j} \\geqslant 0, i, j=1,2, \\cdots, \\sum_i \\sum_j p_{i j}=1$。\n",
    "\n",
    "二维离散型随机变量$(X,Y)$的联合分布律可用表格发、公式法或图像法表示，其中最为简洁和常用的是表格法（Joint Distribution Table，联合分布表），如：\n",
    "\n",
    "| $Y  \\backslash  X$  | $x_1$  | $x_2$  | $\\cdots$  |\n",
    "|---|---|---|---|\n",
    "|  $y_1$ | $p_{11}$  | $p_{21}$  | $\\cdots$   |\n",
    "| $y_2$  | $p_{12}$  |  $p_{22}$ |  $\\cdots$  |\n",
    "| $ \\vdots $   |  $ \\vdots $  |  $ \\vdots $  |   |\n",
    "\n",
    "例如，分析一个年级的成绩分布，定义随机变量$(X,Y)$为，$X =\\begin{cases}1 & 数学为优,\\\\0 & 数学不为优.\\end{cases} $，$Y =\\begin{cases}1 & 语文为优,\\\\0 & 语文不为优.\\end{cases} $。已知数学为优的占20%，语文为优的占10%，都为优的占8%，计算$(X,Y)$的联合分布律，已知$P(Y=1)=0.1, P(X=1)=0.2,P(X=1,Y=1)=0.08$，有$P(X=0,Y=1)=P(Y=1)-P(X=1,Y=1)=0.02$；$P(X=1,Y=0)=P(X=1)-P(X=1,Y=1)=0.12$。因为$ \\sum_i \\sum_j p_{i j}=1 $，所以$P(X=0,Y=0)=1-P(X=1,Y=1)-P(X=0,Y=1)-P(X=1,Y=0)=1-0.08-0.02-0.12=0.78$。\n",
    "\n",
    "使用[datascience](https://github.com/data-8/datascience)库的`Table()`方法，根据计算结果建立联合分布表`joint_dist`，计算结果如下。"
   ]
  },
  {
   "cell_type": "code",
   "execution_count": 1,
   "id": "1a766325-8215-4c4d-98d2-238b2092a9c7",
   "metadata": {
    "tags": []
   },
   "outputs": [],
   "source": [
    "from datascience import *\n",
    "from prob140 import *\n",
    "%matplotlib inline\n",
    "import matplotlib.pyplot as plt\n",
    "import numpy as np\n",
    "plt.style.use('fivethirtyeight')"
   ]
  },
  {
   "cell_type": "code",
   "execution_count": 53,
   "id": "8f0e82f1-b512-4c3a-b392-d0b3486590b2",
   "metadata": {
    "tags": []
   },
   "outputs": [
    {
     "data": {
      "text/html": [
       "<div>\n",
       "<style scoped>\n",
       "    .dataframe tbody tr th:only-of-type {\n",
       "        vertical-align: middle;\n",
       "    }\n",
       "\n",
       "    .dataframe tbody tr th {\n",
       "        vertical-align: top;\n",
       "    }\n",
       "\n",
       "    .dataframe thead th {\n",
       "        text-align: right;\n",
       "    }\n",
       "</style>\n",
       "<table border=\"1\" class=\"dataframe\">\n",
       "  <thead>\n",
       "    <tr style=\"text-align: right;\">\n",
       "      <th></th>\n",
       "      <th>X=0</th>\n",
       "      <th>X=1</th>\n",
       "    </tr>\n",
       "  </thead>\n",
       "  <tbody>\n",
       "    <tr>\n",
       "      <th>Y=1</th>\n",
       "      <td>0.02</td>\n",
       "      <td>0.08</td>\n",
       "    </tr>\n",
       "    <tr>\n",
       "      <th>Y=0</th>\n",
       "      <td>0.78</td>\n",
       "      <td>0.12</td>\n",
       "    </tr>\n",
       "  </tbody>\n",
       "</table>\n",
       "</div>"
      ],
      "text/plain": [
       "      X=0   X=1\n",
       "Y=1  0.02  0.08\n",
       "Y=0  0.78  0.12"
      ]
     },
     "execution_count": 53,
     "metadata": {},
     "output_type": "execute_result"
    }
   ],
   "source": [
    "k=np.arange(2)\n",
    "\n",
    "def joint_probability(x,y):\n",
    "    if x==0 and y==0: return 0.78\n",
    "    elif x==0 and y==1: return 0.02\n",
    "    elif x==1 and y==0: return 0.12\n",
    "    elif x==1 and y==1: return 0.08\n",
    "\n",
    "joint_dist=Table().values('X',k,'Y',k).probability_function(joint_probability)\n",
    "joint_dist"
   ]
  },
  {
   "cell_type": "markdown",
   "id": "db74b2fd-c204-4ef2-b1a8-49a3a8c9114b",
   "metadata": {},
   "source": [
    "计算概率$P(X \\leqslant Y)=1-P(X>Y)=1-P(X=1,Y=0)=1-0.12=0.88$。使用定义的`joint_dist`联合分布表，定义随机变量的关系函数`indicator_equal`计算结果同。"
   ]
  },
  {
   "cell_type": "code",
   "execution_count": 54,
   "id": "10626d5b-f910-4c21-8ed3-4d204519dbde",
   "metadata": {
    "tags": []
   },
   "outputs": [
    {
     "name": "stdout",
     "output_type": "stream",
     "text": [
      "P(Event) = 0.88\n"
     ]
    },
    {
     "data": {
      "text/html": [
       "<div>\n",
       "<style scoped>\n",
       "    .dataframe tbody tr th:only-of-type {\n",
       "        vertical-align: middle;\n",
       "    }\n",
       "\n",
       "    .dataframe tbody tr th {\n",
       "        vertical-align: top;\n",
       "    }\n",
       "\n",
       "    .dataframe thead th {\n",
       "        text-align: right;\n",
       "    }\n",
       "</style>\n",
       "<table border=\"1\" class=\"dataframe\">\n",
       "  <thead>\n",
       "    <tr style=\"text-align: right;\">\n",
       "      <th></th>\n",
       "      <th>X=0</th>\n",
       "      <th>X=1</th>\n",
       "    </tr>\n",
       "  </thead>\n",
       "  <tbody>\n",
       "    <tr>\n",
       "      <th>Y=1</th>\n",
       "      <td>0.02</td>\n",
       "      <td>0.08</td>\n",
       "    </tr>\n",
       "    <tr>\n",
       "      <th>Y=0</th>\n",
       "      <td>0.78</td>\n",
       "      <td></td>\n",
       "    </tr>\n",
       "  </tbody>\n",
       "</table>\n",
       "</div>"
      ],
      "text/plain": [
       "      X=0   X=1\n",
       "Y=1  0.02  0.08\n",
       "Y=0  0.78      "
      ]
     },
     "execution_count": 54,
     "metadata": {},
     "output_type": "execute_result"
    }
   ],
   "source": [
    "def indicator_equal(i, j):\n",
    "    return i <= j  \n",
    "\n",
    "joint_dist.event(indicator_equal, 'X', 'Y')"
   ]
  },
  {
   "cell_type": "markdown",
   "id": "c121dac1-09b8-4b9d-8eda-de1b9ec18197",
   "metadata": {},
   "source": [
    "$(X,Y)$的值域为$\\Omega_{(X,Y)}=\\{(0,0),(0,1),(1,0),(1,1)\\}$，由$F(x, y)=P(X \\leqslant x, Y \\leqslant y)$得联合分布函数为：$F(x, y)=\\left\\{\\begin{array}{ll}0, & x<0 \\text { 或 } y<0, \\\\ 0.78, & 0 \\leqslant x<1,0 \\leqslant y<1, \\\\ 0.8, & 0 \\leqslant x<1, y \\geqslant 1, \\\\ 0.9, & x \\geqslant 1,0 \\leqslant y<1, \\\\ 1, & x \\geqslant 1, y \\geqslant 1 .\\end{array}\\right.$。\n",
    "\n"
   ]
  },
  {
   "cell_type": "markdown",
   "id": "262c876c-86d5-40f9-bce5-9950c05e5d0e",
   "metadata": {},
   "source": [
    "对*多维随机变量*部分将一枚骰子相互独立地上抛两次的随机试验$E$，建立联合分布表（分布律）如下。"
   ]
  },
  {
   "cell_type": "code",
   "execution_count": 19,
   "id": "d3c4e155-61a2-44bf-aef5-0b701bc22052",
   "metadata": {
    "tags": []
   },
   "outputs": [
    {
     "data": {
      "text/html": [
       "<div>\n",
       "<style scoped>\n",
       "    .dataframe tbody tr th:only-of-type {\n",
       "        vertical-align: middle;\n",
       "    }\n",
       "\n",
       "    .dataframe tbody tr th {\n",
       "        vertical-align: top;\n",
       "    }\n",
       "\n",
       "    .dataframe thead th {\n",
       "        text-align: right;\n",
       "    }\n",
       "</style>\n",
       "<table border=\"1\" class=\"dataframe\">\n",
       "  <thead>\n",
       "    <tr style=\"text-align: right;\">\n",
       "      <th></th>\n",
       "      <th>X=1</th>\n",
       "      <th>X=2</th>\n",
       "      <th>X=3</th>\n",
       "      <th>X=4</th>\n",
       "      <th>X=5</th>\n",
       "      <th>X=6</th>\n",
       "    </tr>\n",
       "  </thead>\n",
       "  <tbody>\n",
       "    <tr>\n",
       "      <th>Y=6</th>\n",
       "      <td>0.000000</td>\n",
       "      <td>0.000000</td>\n",
       "      <td>0.000000</td>\n",
       "      <td>0.000000</td>\n",
       "      <td>0.000000</td>\n",
       "      <td>0.027778</td>\n",
       "    </tr>\n",
       "    <tr>\n",
       "      <th>Y=5</th>\n",
       "      <td>0.000000</td>\n",
       "      <td>0.000000</td>\n",
       "      <td>0.000000</td>\n",
       "      <td>0.000000</td>\n",
       "      <td>0.055556</td>\n",
       "      <td>0.027778</td>\n",
       "    </tr>\n",
       "    <tr>\n",
       "      <th>Y=4</th>\n",
       "      <td>0.000000</td>\n",
       "      <td>0.000000</td>\n",
       "      <td>0.000000</td>\n",
       "      <td>0.083333</td>\n",
       "      <td>0.027778</td>\n",
       "      <td>0.027778</td>\n",
       "    </tr>\n",
       "    <tr>\n",
       "      <th>Y=3</th>\n",
       "      <td>0.000000</td>\n",
       "      <td>0.000000</td>\n",
       "      <td>0.111111</td>\n",
       "      <td>0.027778</td>\n",
       "      <td>0.027778</td>\n",
       "      <td>0.027778</td>\n",
       "    </tr>\n",
       "    <tr>\n",
       "      <th>Y=2</th>\n",
       "      <td>0.000000</td>\n",
       "      <td>0.138889</td>\n",
       "      <td>0.027778</td>\n",
       "      <td>0.027778</td>\n",
       "      <td>0.027778</td>\n",
       "      <td>0.027778</td>\n",
       "    </tr>\n",
       "    <tr>\n",
       "      <th>Y=1</th>\n",
       "      <td>0.166667</td>\n",
       "      <td>0.027778</td>\n",
       "      <td>0.027778</td>\n",
       "      <td>0.027778</td>\n",
       "      <td>0.027778</td>\n",
       "      <td>0.027778</td>\n",
       "    </tr>\n",
       "  </tbody>\n",
       "</table>\n",
       "</div>"
      ],
      "text/plain": [
       "          X=1       X=2       X=3       X=4       X=5       X=6\n",
       "Y=6  0.000000  0.000000  0.000000  0.000000  0.000000  0.027778\n",
       "Y=5  0.000000  0.000000  0.000000  0.000000  0.055556  0.027778\n",
       "Y=4  0.000000  0.000000  0.000000  0.083333  0.027778  0.027778\n",
       "Y=3  0.000000  0.000000  0.111111  0.027778  0.027778  0.027778\n",
       "Y=2  0.000000  0.138889  0.027778  0.027778  0.027778  0.027778\n",
       "Y=1  0.166667  0.027778  0.027778  0.027778  0.027778  0.027778"
      ]
     },
     "execution_count": 19,
     "metadata": {},
     "output_type": "execute_result"
    }
   ],
   "source": [
    "import collections\n",
    "import numpy as np\n",
    "\n",
    "k=np.arange(1,7)\n",
    "\n",
    "def joint_probability(i,j):\n",
    "    n=len(XY)\n",
    "    frequency=dict(collections.Counter(XY))\n",
    "    if (i,j) in frequency.keys():\n",
    "        return frequency[(i,j)]/n\n",
    "    else:\n",
    "        return 0\n",
    "\n",
    "joint_dist=Table().values('X',k,'Y',k).probability_function(joint_probability)\n",
    "joint_dist"
   ]
  },
  {
   "cell_type": "markdown",
   "id": "cd3f3bc9-c754-4aae-b3b5-bb2f54280429",
   "metadata": {},
   "source": [
    "计算$P(X=Y)=\\sum_{i=1}^6 P(X=i, Y=i)=\\frac{6}{36}+\\frac{5}{36}+\\frac{4}{36}+\\frac{3}{36}+\\frac{2}{36}+\\frac{1}{36}=\\frac{7}{12}$，代码方法如下。"
   ]
  },
  {
   "cell_type": "code",
   "execution_count": 22,
   "id": "bc25fea5-9820-4c0b-999f-3f9b2c1fd066",
   "metadata": {
    "tags": []
   },
   "outputs": [
    {
     "name": "stdout",
     "output_type": "stream",
     "text": [
      "P(Event) = 0.5833333333333334\n"
     ]
    },
    {
     "data": {
      "text/html": [
       "<div>\n",
       "<style scoped>\n",
       "    .dataframe tbody tr th:only-of-type {\n",
       "        vertical-align: middle;\n",
       "    }\n",
       "\n",
       "    .dataframe tbody tr th {\n",
       "        vertical-align: top;\n",
       "    }\n",
       "\n",
       "    .dataframe thead th {\n",
       "        text-align: right;\n",
       "    }\n",
       "</style>\n",
       "<table border=\"1\" class=\"dataframe\">\n",
       "  <thead>\n",
       "    <tr style=\"text-align: right;\">\n",
       "      <th></th>\n",
       "      <th>X=1</th>\n",
       "      <th>X=2</th>\n",
       "      <th>X=3</th>\n",
       "      <th>X=4</th>\n",
       "      <th>X=5</th>\n",
       "      <th>X=6</th>\n",
       "    </tr>\n",
       "  </thead>\n",
       "  <tbody>\n",
       "    <tr>\n",
       "      <th>Y=6</th>\n",
       "      <td></td>\n",
       "      <td></td>\n",
       "      <td></td>\n",
       "      <td></td>\n",
       "      <td></td>\n",
       "      <td>0.027778</td>\n",
       "    </tr>\n",
       "    <tr>\n",
       "      <th>Y=5</th>\n",
       "      <td></td>\n",
       "      <td></td>\n",
       "      <td></td>\n",
       "      <td></td>\n",
       "      <td>0.055556</td>\n",
       "      <td></td>\n",
       "    </tr>\n",
       "    <tr>\n",
       "      <th>Y=4</th>\n",
       "      <td></td>\n",
       "      <td></td>\n",
       "      <td></td>\n",
       "      <td>0.083333</td>\n",
       "      <td></td>\n",
       "      <td></td>\n",
       "    </tr>\n",
       "    <tr>\n",
       "      <th>Y=3</th>\n",
       "      <td></td>\n",
       "      <td></td>\n",
       "      <td>0.111111</td>\n",
       "      <td></td>\n",
       "      <td></td>\n",
       "      <td></td>\n",
       "    </tr>\n",
       "    <tr>\n",
       "      <th>Y=2</th>\n",
       "      <td></td>\n",
       "      <td>0.138889</td>\n",
       "      <td></td>\n",
       "      <td></td>\n",
       "      <td></td>\n",
       "      <td></td>\n",
       "    </tr>\n",
       "    <tr>\n",
       "      <th>Y=1</th>\n",
       "      <td>0.166667</td>\n",
       "      <td></td>\n",
       "      <td></td>\n",
       "      <td></td>\n",
       "      <td></td>\n",
       "      <td></td>\n",
       "    </tr>\n",
       "  </tbody>\n",
       "</table>\n",
       "</div>"
      ],
      "text/plain": [
       "          X=1       X=2       X=3       X=4       X=5       X=6\n",
       "Y=6                                                    0.027778\n",
       "Y=5                                          0.055556          \n",
       "Y=4                                0.083333                    \n",
       "Y=3                      0.111111                              \n",
       "Y=2            0.138889                                        \n",
       "Y=1  0.166667                                                  "
      ]
     },
     "execution_count": 22,
     "metadata": {},
     "output_type": "execute_result"
    }
   ],
   "source": [
    "joint_dist.event(lambda i,j:i==j, 'X', 'Y')"
   ]
  },
  {
   "cell_type": "markdown",
   "id": "9b6eca54-1284-4585-9a21-f40c19a0e805",
   "metadata": {},
   "source": [
    "计算$P\\left(X^2+Y^2<8\\right)=P(X=1, Y=1)+P(X=2, Y=1)=\\frac{7}{36}$，代码方法如下。"
   ]
  },
  {
   "cell_type": "code",
   "execution_count": 25,
   "id": "44db1e57-31f6-47ed-a5bf-b54f7263b336",
   "metadata": {
    "tags": []
   },
   "outputs": [
    {
     "name": "stdout",
     "output_type": "stream",
     "text": [
      "P(Event) = 0.19444444444444442\n"
     ]
    },
    {
     "data": {
      "text/html": [
       "<div>\n",
       "<style scoped>\n",
       "    .dataframe tbody tr th:only-of-type {\n",
       "        vertical-align: middle;\n",
       "    }\n",
       "\n",
       "    .dataframe tbody tr th {\n",
       "        vertical-align: top;\n",
       "    }\n",
       "\n",
       "    .dataframe thead th {\n",
       "        text-align: right;\n",
       "    }\n",
       "</style>\n",
       "<table border=\"1\" class=\"dataframe\">\n",
       "  <thead>\n",
       "    <tr style=\"text-align: right;\">\n",
       "      <th></th>\n",
       "      <th>X=1</th>\n",
       "      <th>X=2</th>\n",
       "      <th>X=3</th>\n",
       "      <th>X=4</th>\n",
       "      <th>X=5</th>\n",
       "      <th>X=6</th>\n",
       "    </tr>\n",
       "  </thead>\n",
       "  <tbody>\n",
       "    <tr>\n",
       "      <th>Y=6</th>\n",
       "      <td></td>\n",
       "      <td></td>\n",
       "      <td></td>\n",
       "      <td></td>\n",
       "      <td></td>\n",
       "      <td></td>\n",
       "    </tr>\n",
       "    <tr>\n",
       "      <th>Y=5</th>\n",
       "      <td></td>\n",
       "      <td></td>\n",
       "      <td></td>\n",
       "      <td></td>\n",
       "      <td></td>\n",
       "      <td></td>\n",
       "    </tr>\n",
       "    <tr>\n",
       "      <th>Y=4</th>\n",
       "      <td></td>\n",
       "      <td></td>\n",
       "      <td></td>\n",
       "      <td></td>\n",
       "      <td></td>\n",
       "      <td></td>\n",
       "    </tr>\n",
       "    <tr>\n",
       "      <th>Y=3</th>\n",
       "      <td></td>\n",
       "      <td></td>\n",
       "      <td></td>\n",
       "      <td></td>\n",
       "      <td></td>\n",
       "      <td></td>\n",
       "    </tr>\n",
       "    <tr>\n",
       "      <th>Y=2</th>\n",
       "      <td>0.0</td>\n",
       "      <td></td>\n",
       "      <td></td>\n",
       "      <td></td>\n",
       "      <td></td>\n",
       "      <td></td>\n",
       "    </tr>\n",
       "    <tr>\n",
       "      <th>Y=1</th>\n",
       "      <td>0.166667</td>\n",
       "      <td>0.027778</td>\n",
       "      <td></td>\n",
       "      <td></td>\n",
       "      <td></td>\n",
       "      <td></td>\n",
       "    </tr>\n",
       "  </tbody>\n",
       "</table>\n",
       "</div>"
      ],
      "text/plain": [
       "          X=1       X=2 X=3 X=4 X=5 X=6\n",
       "Y=6                                    \n",
       "Y=5                                    \n",
       "Y=4                                    \n",
       "Y=3                                    \n",
       "Y=2       0.0                          \n",
       "Y=1  0.166667  0.027778                "
      ]
     },
     "execution_count": 25,
     "metadata": {},
     "output_type": "execute_result"
    }
   ],
   "source": [
    "joint_dist.event(lambda i,j:(pow(i,2)+pow(j,2))<8, 'X', 'Y')"
   ]
  },
  {
   "cell_type": "markdown",
   "id": "c18ca3a0-bad0-4615-87bb-691aadd37e06",
   "metadata": {
    "tags": []
   },
   "source": [
    "* 二维连续型随机变量及其联合密度函数\n",
    "\n",
    "定义 7：设二维随机变量$(X,Y)$的联合分布函数为$F(x,y)$，如果存在一个二元非负实值函数$f(x,y)$，使得对于任意$(x,y) \\in R^2$有$F(x, y)=\\int_{-\\infty}^x \\int_{-\\infty}^y f(u, v) \\mathrm{d} u \\mathrm{~d} v$成立，则称$(X,Y)$为**二维连续型随机变量**，$f(x,y)$为二维连续型随机变量$(X,Y)$的**联合（概率）密度函数**。式中，$\\int_{-\\infty}^x \\int_{-\\infty}^y f(u, v) \\mathrm{d} u \\mathrm{~d} v$表示二重积分$\\iint_{D_{x y}} f(u, v) \\mathrm{d} u \\mathrm{~d} v$，其中积分区域$D_{x y}=(-\\infty, x] \\cdot(-\\infty, y]$。\n",
    "\n",
    "定义 8：设$n$维随机变量$\\left(X_1, X_2, \\cdots, X_n\\right)$的联合分布函数为$F\\left(x_1, x_2, \\cdots, x_n\\right)$，如果存在一个$n$元非负函数$f\\left(x_1, x_2, \\cdots, x_n\\right)$，使得对任意的$\\left(x_1, x_2, \\cdots, x_n\\right) \\in R^n$有$F\\left(x_1, x_2, \\cdots, x_n\\right)=\\int_{-\\infty}^{x_1} \\cdots \\int_{-\\infty}^{x_n} f\\left(u_1, u_2, \\cdots, u_n\\right) \\mathrm{d} u_1 \\mathrm{~d} u_2 \\cdots \\mathrm{d} u_n $ 成立，则称$\\left(X_1, X_2, \\cdots, X_n\\right)$为$n$**维连续型随机变量**，$f\\left(x_1, x_2, \\cdots, x_n\\right)$为$n$维连续型随机变量$\\left(X_1, X_2, \\cdots, X_n\\right)$的**联合（概率）密度函数**。\n",
    "\n",
    "二维连续型随机变量$(X,Y)$的联合密度函数有：\n",
    "\n",
    "定理 2（**联合密度函数的性质**）：设$f(x,y)$为二维连续型随机变量$(X,Y)$的联合密度函数，则\n",
    "\n",
    "(1) 非负性，$f(x, y) \\geqslant 0,-\\infty<x, y<+\\infty$;\n",
    "\n",
    "(2) 规范性 $\\int_{-\\infty}^{+\\infty} \\int_{-\\infty}^{+\\infty} f(x, y) \\mathrm{d} x \\mathrm{~d} y=1$。\n",
    "\n",
    "联合密度函数的规范性意味着以曲面$f(x,y)$为顶，以整个$x \\bigcirc y$平面与$\\Omega_{X,Y}$的交集区域为底的曲顶柱体的体积为1。如下图，其联合密度函数为$f(x, y)=\\left\\{\\begin{array}{rr}120 x(y-x)(1-y), \\quad 0<x<y<1 \\\\ 0 \\quad & \\text { otherwise }\\end{array}\\right. $，有$\\int_0^1 \\int_0^y 120 x(y-x)(1-y) d x d y \\\\  =120 \\int_0^1(1-y)\\left(\\int_0^y\\left(x y-x^2\\right) d x\\right) d y \\\\  =20 \\int_0^1(1-y) y^3 d y=20\\left(\\frac{1}{4}-\\frac{1}{5}\\right)=1$。\n",
    "\n",
    "使用[SimPy](https://docs.sympy.org/latest/modules/integrals/integrals.html)和[datascience](https://github.com/data-8/datascience)库定义二维连续型随机变量的联合密度函数并打印显示。"
   ]
  },
  {
   "cell_type": "code",
   "execution_count": 2,
   "id": "7876d442-98e8-4d53-8680-c4aa6b1ed84e",
   "metadata": {
    "tags": []
   },
   "outputs": [],
   "source": [
    "from sympy import Symbol,Integral\n",
    "import numpy as np \n",
    "import matplotlib.pyplot as plt"
   ]
  },
  {
   "cell_type": "code",
   "execution_count": 3,
   "id": "68a9d634-2a68-4008-9e17-ec247b0c9beb",
   "metadata": {
    "tags": []
   },
   "outputs": [
    {
     "data": {
      "application/vnd.jupyter.widget-view+json": {
       "model_id": "a02eb6e31b03462eaa0f9059402333b1",
       "version_major": 2,
       "version_minor": 0
      },
      "text/plain": [
       "interactive(children=(FloatSlider(value=20.0, description='elevation', max=90.0, step=1.0), FloatSlider(value=…"
      ]
     },
     "metadata": {},
     "output_type": "display_data"
    }
   ],
   "source": [
    "def joint(x,y):\n",
    "    if y < x:\n",
    "        return 0\n",
    "    else:\n",
    "        return 120 * x * (y-x) * (1-y)\n",
    "    \n",
    "Plot_3d(x_limits=(0,1), y_limits=(0,1), f=joint, cstride=4, rstride=4,interactive=True)    "
   ]
  },
  {
   "cell_type": "code",
   "execution_count": 30,
   "id": "32b4108b-db6a-4cd3-afad-8164f83803d5",
   "metadata": {},
   "outputs": [
    {
     "data": {
      "text/latex": [
       "$\\displaystyle 120 x \\left(1 - y\\right) \\left(- x + y\\right)$"
      ],
      "text/plain": [
       "120*x*(1 - y)*(-x + y)"
      ]
     },
     "execution_count": 30,
     "metadata": {},
     "output_type": "execute_result"
    }
   ],
   "source": [
    "x = Symbol('x', positive=True)\n",
    "y = Symbol('y', positive=True)\n",
    "\n",
    "f = 120*x*(y-x)*(1-y)\n",
    "f"
   ]
  },
  {
   "cell_type": "markdown",
   "id": "a9bc38ce-1b01-4acf-ae9f-1c4474be9d98",
   "metadata": {},
   "source": [
    "使用`Integral`方法定义二重积分。"
   ]
  },
  {
   "cell_type": "code",
   "execution_count": 10,
   "id": "20e96206-8ded-4e64-a944-cd6bc54016c8",
   "metadata": {},
   "outputs": [
    {
     "data": {
      "text/latex": [
       "$\\displaystyle \\int\\limits_{0}^{1}\\int\\limits_{0}^{y} 120 x \\left(1 - y\\right) \\left(- x + y\\right)\\, dx\\, dy$"
      ],
      "text/plain": [
       "Integral(120*x*(1 - y)*(-x + y), (x, 0, y), (y, 0, 1))"
      ]
     },
     "execution_count": 10,
     "metadata": {},
     "output_type": "execute_result"
    }
   ],
   "source": [
    "F_XY=Integral(f, (x, 0, y), (y, 0, 1))\n",
    "F_XY"
   ]
  },
  {
   "cell_type": "markdown",
   "id": "2f101042-e3eb-42f0-94d9-5ec8f9c34926",
   "metadata": {},
   "source": [
    "`doit()`方法估计该二重积分的结果为1。"
   ]
  },
  {
   "cell_type": "code",
   "execution_count": 11,
   "id": "8fc31879-5bb9-48d3-83a1-5c7d50884a3c",
   "metadata": {},
   "outputs": [
    {
     "data": {
      "text/latex": [
       "$\\displaystyle 1$"
      ],
      "text/plain": [
       "1"
      ]
     },
     "execution_count": 11,
     "metadata": {},
     "output_type": "execute_result"
    }
   ],
   "source": [
    "F_XY.doit()"
   ]
  },
  {
   "cell_type": "markdown",
   "id": "96fd2f3f-2922-4e9b-805f-3744369ee7b0",
   "metadata": {},
   "source": [
    "为了方便观察随机变量$(X,Y)$的数值区间，以平面形式表述。"
   ]
  },
  {
   "cell_type": "code",
   "execution_count": 84,
   "id": "ab8e28ae-2878-40d7-9b89-137202828cdb",
   "metadata": {},
   "outputs": [
    {
     "data": {
      "image/png": "[encoded data removed]",
      "text/plain": [
       "<Figure size 300x300 with 1 Axes>"
      ]
     },
     "metadata": {},
     "output_type": "display_data"
    }
   ],
   "source": [
    "coords=np.arange(0,1+0.1,0.1)\n",
    "pts_y=[[0,i] for i in coords]\n",
    "pts_x=[[i,i] for i in coords]\n",
    "pts_x.reverse()\n",
    "pts=np.array(pts_y+pts_x)\n",
    "\n",
    "plt.figure(figsize=(3,3))\n",
    "t=plt.Polygon(pts, color='gray')\n",
    "plt.gca().add_patch(t)\n",
    "\n",
    "plt.xlabel(\"$x$\")\n",
    "plt.ylabel(\"$y$\")\n",
    "plt.xticks(fontsize=10);plt.yticks(fontsize=10)\n",
    "plt.show()"
   ]
  },
  {
   "cell_type": "markdown",
   "id": "1ba6081c-6128-471a-8e04-dac6c88f3f74",
   "metadata": {},
   "source": [
    "计算概率$\\begin{aligned} P(Y>4 X) & =\\int_0^1 \\int_0^{y / 4} 120 x(y-x)(1-y) d x d y \\\\ & =120 \\int_0^1(1-y)\\left(\\int_0^{y / 4}\\left(x y-x^2\\right) d x\\right) d y \\\\ & =120\\left(\\frac{1}{32}-\\frac{1}{192}\\right) \\int_0^1(1-y) y^3 d y \\\\ & =120\\left(\\frac{1}{32}-\\frac{1}{192}\\right) \\cdot \\frac{1}{20}=0.15625\\end{aligned}$，代码计算如下。"
   ]
  },
  {
   "cell_type": "code",
   "execution_count": 85,
   "id": "aebe0c3b-9b1c-4db1-aa08-64d9b38932b2",
   "metadata": {
    "tags": []
   },
   "outputs": [
    {
     "data": {
      "image/png": "[encoded data removed]",
      "text/plain": [
       "<Figure size 300x300 with 1 Axes>"
      ]
     },
     "metadata": {},
     "output_type": "display_data"
    }
   ],
   "source": [
    "pts_x_d1=[[i/4,i] for i in coords]\n",
    "pts_x_d1.reverse()\n",
    "pts_d1=np.array(pts_y+pts_x_d1)\n",
    "\n",
    "plt.figure(figsize=(3,3))\n",
    "t=plt.Polygon(pts, color='gray')\n",
    "plt.gca().add_patch(t)\n",
    "\n",
    "t1=plt.Polygon(pts_d1,color='g')\n",
    "plt.gca().add_patch(t1)\n",
    "\n",
    "plt.xlabel(\"$x$\")\n",
    "plt.ylabel(\"$y$\")\n",
    "plt.xticks(fontsize=10);plt.yticks(fontsize=10)\n",
    "plt.show()"
   ]
  },
  {
   "cell_type": "code",
   "execution_count": 32,
   "id": "0d6c55a9-d465-4d18-a8f7-a44aca405a19",
   "metadata": {},
   "outputs": [
    {
     "data": {
      "text/latex": [
       "$\\displaystyle \\int\\limits_{0}^{1}\\int\\limits_{0}^{\\frac{y}{4}} 120 x \\left(1 - y\\right) \\left(- x + y\\right)\\, dx\\, dy$"
      ],
      "text/plain": [
       "Integral(120*x*(1 - y)*(-x + y), (x, 0, y/4), (y, 0, 1))"
      ]
     },
     "execution_count": 32,
     "metadata": {},
     "output_type": "execute_result"
    }
   ],
   "source": [
    "f_1=Integral(f, (x, 0, y/4), (y, 0, 1))\n",
    "f_1"
   ]
  },
  {
   "cell_type": "code",
   "execution_count": 33,
   "id": "042e5dfb-839e-4972-b7c7-257fca43d6d8",
   "metadata": {},
   "outputs": [
    {
     "data": {
      "text/latex": [
       "$\\displaystyle \\frac{5}{32}$"
      ],
      "text/plain": [
       "5/32"
      ]
     },
     "execution_count": 33,
     "metadata": {},
     "output_type": "execute_result"
    }
   ],
   "source": [
    "f_1.doit()"
   ]
  },
  {
   "cell_type": "markdown",
   "id": "0c1d89c1-21c1-40c4-9e3e-6b8f7fac0532",
   "metadata": {},
   "source": [
    "计算概率$P(X>0.25, Y>0.5)=\\int_{0.5}^1 \\int_{0.25}^y 120 x(y-x)(1-y) d x d y$，代码计算如下。"
   ]
  },
  {
   "cell_type": "code",
   "execution_count": 86,
   "id": "6c2f4d09-d0a1-49d4-9c8d-6ee6cff08e30",
   "metadata": {},
   "outputs": [
    {
     "data": {
      "image/png": "[encoded data removed]",
      "text/plain": [
       "<Figure size 300x300 with 1 Axes>"
      ]
     },
     "metadata": {},
     "output_type": "display_data"
    }
   ],
   "source": [
    "coords_d2=[i for i in coords if i>=0.5]\n",
    "pts_y_d2=[[0.25,i] for i in coords_d2]\n",
    "\n",
    "pts_x_d2=[[i,i] for i in coords_d2 if i >=0.25]\n",
    "pts_x_d2.reverse()\n",
    "pts_d2=np.array(pts_y_d2+pts_x_d2)\n",
    "\n",
    "plt.figure(figsize=(3,3))\n",
    "t=plt.Polygon(pts, color='gray')\n",
    "plt.gca().add_patch(t)\n",
    "\n",
    "t2=plt.Polygon(pts_d2,color='g')\n",
    "plt.gca().add_patch(t2)\n",
    "\n",
    "plt.xlabel(\"$x$\")\n",
    "plt.ylabel(\"$y$\")\n",
    "plt.xticks(fontsize=10);plt.yticks(fontsize=10)\n",
    "plt.show()"
   ]
  },
  {
   "cell_type": "code",
   "execution_count": 34,
   "id": "c3019179-b44a-4ddb-b55d-c594cf81bdd3",
   "metadata": {},
   "outputs": [
    {
     "data": {
      "text/latex": [
       "$\\displaystyle \\int\\limits_{0.5}^{1}\\int\\limits_{0.25}^{y} 120 x \\left(1 - y\\right) \\left(- x + y\\right)\\, dx\\, dy$"
      ],
      "text/plain": [
       "Integral(120*x*(1 - y)*(-x + y), (x, 0.25, y), (y, 0.5, 1))"
      ]
     },
     "execution_count": 34,
     "metadata": {},
     "output_type": "execute_result"
    }
   ],
   "source": [
    "f_2=Integral(f, (x, 0.25, y), (y, 0.5, 1))\n",
    "f_2"
   ]
  },
  {
   "cell_type": "code",
   "execution_count": 35,
   "id": "51ad7419-b3b8-48b9-add8-201820951686",
   "metadata": {
    "tags": []
   },
   "outputs": [
    {
     "data": {
      "text/latex": [
       "$\\displaystyle 0.578125$"
      ],
      "text/plain": [
       "0.578125000000000"
      ]
     },
     "execution_count": 35,
     "metadata": {},
     "output_type": "execute_result"
    }
   ],
   "source": [
    "f_2.doit()"
   ]
  },
  {
   "cell_type": "markdown",
   "id": "772af437-3297-4061-83de-e2451f9c0138",
   "metadata": {},
   "source": [
    "* 常用的多维随机变量\n",
    "\n",
    "1）二维均匀分布\n",
    "\n",
    "设二维随机变量$(X,Y)$的联合密度函数为$f(x, y)=\\left\\{\\begin{array}{l}\\frac{1}{S_G}, \\quad(x, y) \\in G, \\\\ 0, \\quad \\text { 其他. }\\end{array}\\right.$，式中，$G$是$x \\bigcirc y$平面上的某个区域，$S_G$为$G$的面积，则称$(X,Y)$服从区域$G$上的**二维均匀分布**。\n",
    "\n",
    "2）二维正态分布$N(\\mu_1, \\mu_2, \\sigma_1^2,\\sigma_2^2,\\rho)$\n",
    "\n",
    "如果$(X,Y)$的联合密度函数为$f(x, y)=\\frac{1}{2 \\pi \\sigma_1 \\sigma_2 \\sqrt{1-\\rho^2}} \\exp \\left\\{-\\frac{1}{2\\left(1-\\rho^2\\right)}\\left[\\frac{\\left(x-\\mu_1\\right)^2}{\\sigma_1^2}-2 \\rho \\frac{\\left(x-\\mu_1\\right)\\left(y-\\mu_2\\right)}{\\sigma_1 \\sigma_2}+\\frac{\\left(y-\\mu_2\\right)^2}{\\sigma_2^2}\\right]\\right\\},-\\infty<x, y<+\\infty$，则称$(X,Y)$服从**二维正态分布**，并记为$(X, Y) \\sim N\\left(\\mu_1, \\mu_2, \\sigma_1^2, \\sigma_2^2, \\rho)\\right.$，式中，$- \\infty <\\mu_1, \\mu_2<+ \\infty , \\sigma_1\\sigma_2>0, \\mid \\rho \\mid<1 $。\n",
    "\n",
    "二维正态分布的联合密度函数图像如下。"
   ]
  },
  {
   "cell_type": "code",
   "execution_count": 4,
   "id": "bd7b432d-1c42-4d96-b496-5ea3766759dc",
   "metadata": {
    "tags": []
   },
   "outputs": [
    {
     "data": {
      "application/vnd.jupyter.widget-view+json": {
       "model_id": "7f02c7d28c4649d5a3269cbd83670a1f",
       "version_major": 2,
       "version_minor": 0
      },
      "text/plain": [
       "interactive(children=(FloatSlider(value=20.0, description='elevation', max=90.0, step=1.0), FloatSlider(value=…"
      ]
     },
     "metadata": {},
     "output_type": "display_data"
    }
   ],
   "source": [
    "def joint(x,y,mu1=0.5,mu2=0.5,sig1=0.15,sig2=0.15,rho=0.1):\n",
    "    return 1/(2*np.pi*sig1*sig2*np.sqrt(1-rho**2))*np.exp(-1/(2*(1-rho**2))\n",
    "                                                          *(((x-mu1)**2/sig1**2) \n",
    "                                                          - 2*rho*(x-mu1)*(y-mu2)/(sig1*sig2) \n",
    "                                                          + (y-mu2)**2/sig2**2))\n",
    "    \n",
    "Plot_3d(x_limits=(0,1), y_limits=(0,1), f=joint, cstride=4, rstride=4,interactive=True) "
   ]
  },
  {
   "cell_type": "markdown",
   "id": "80b4eade-17f3-48fd-915c-472fb262edfb",
   "metadata": {},
   "source": [
    "* 边缘分布\n",
    "\n",
    "二维随机变量$(X,Y)$中，$X$和$Y$也都是随机变量，分别有各自的概率分布，称$X$和$Y$的概率分布为二维随机变量$(X,Y)$关于$X$和关于$Y$的**边缘概率分布**，简称**边缘分布**。\n",
    "\n",
    "定义 1：设二维随机变量$(X,Y)$的联合分布函数为$F(x,y)$，称$F_X(x)=P(X \\leqslant x)=P(X \\leqslant x, Y \\leqslant+\\infty)=F(x,+\\infty),-\\infty<x<+\\infty$为**随机变量**$X$**的边缘分布函数**；称$ F_Y(y)=P(Y \\leqslant y)=P(X \\leqslant+\\infty, Y \\leqslant y)=F(+\\infty, y),-\\infty<y<+\\infty$为**随机变量**$Y$**的边缘分布函数**。\n",
    "\n",
    "定义 2：设二维离散型随机变量$(X,Y)$的联合分布律为$P\\left(X=x_i, Y=y_j\\right)=p_{i j}, i, j=1,2, \\cdots$，称概率$P\\left(X=x_i\\right)=P\\left(X=x_i, \\cup_j Y=y_j\\right)=\\sum_j P\\left(X=x_i, Y=y_j\\right)=\\sum_j p_{i j}, \\quad i=1,2, \\cdots $为**随机变量**$X$**的边缘分布律**，记为$p_i .$，并有$p_i .=P\\left(X=x_i\\right)=\\sum_j p_{i j}, i=1,2, \\cdots$；类似，称概率$P\\left(Y=y_j\\right), j=1,2, \\cdots$为**随机变量**$Y$**的边缘分布律**，记为$P_{\\cdot j}$，并有$ P_{\\cdot j}=P\\left(Y=y_j\\right)=\\sum_i p_{i j}, j=1,2, \\cdots$。即，求$X$的边缘分布律为求$(X,Y)$联合分布律表格中的列（或行）和，求$Y$的边缘分布律为求$(X,Y)$联合分布律表格中的行（或列）和。因为边缘分布律位于联合分布律表格的边缘，因此称其为边缘分布律。\n",
    "\n",
    "下面计算了前文关于一个年级数学和语文成绩分布的联合分布表及其边缘分布律。"
   ]
  },
  {
   "cell_type": "code",
   "execution_count": 74,
   "id": "5259310d-42ae-478b-9951-b69481a49bd8",
   "metadata": {
    "tags": []
   },
   "outputs": [],
   "source": [
    "from sympy import Symbol,Integral\n",
    "import numpy as np \n",
    "import matplotlib.pyplot as plt\n",
    "import matplotlib\n",
    "import pandas as pd\n",
    "from fractions import Fraction"
   ]
  },
  {
   "cell_type": "code",
   "execution_count": 3,
   "id": "60bc279b-d891-4847-a057-0c41ffe4d7ac",
   "metadata": {
    "tags": []
   },
   "outputs": [
    {
     "data": {
      "text/html": [
       "<div>\n",
       "<style scoped>\n",
       "    .dataframe tbody tr th:only-of-type {\n",
       "        vertical-align: middle;\n",
       "    }\n",
       "\n",
       "    .dataframe tbody tr th {\n",
       "        vertical-align: top;\n",
       "    }\n",
       "\n",
       "    .dataframe thead th {\n",
       "        text-align: right;\n",
       "    }\n",
       "</style>\n",
       "<table border=\"1\" class=\"dataframe\">\n",
       "  <thead>\n",
       "    <tr style=\"text-align: right;\">\n",
       "      <th></th>\n",
       "      <th>X=0</th>\n",
       "      <th>X=1</th>\n",
       "      <th>Sum: Marginal of Y</th>\n",
       "    </tr>\n",
       "  </thead>\n",
       "  <tbody>\n",
       "    <tr>\n",
       "      <th>Y=1</th>\n",
       "      <td>0.02</td>\n",
       "      <td>0.08</td>\n",
       "      <td>0.1</td>\n",
       "    </tr>\n",
       "    <tr>\n",
       "      <th>Y=0</th>\n",
       "      <td>0.78</td>\n",
       "      <td>0.12</td>\n",
       "      <td>0.9</td>\n",
       "    </tr>\n",
       "    <tr>\n",
       "      <th>Sum: Marginal of X</th>\n",
       "      <td>0.80</td>\n",
       "      <td>0.20</td>\n",
       "      <td>1.0</td>\n",
       "    </tr>\n",
       "  </tbody>\n",
       "</table>\n",
       "</div>"
      ],
      "text/plain": [
       "                     X=0   X=1  Sum: Marginal of Y\n",
       "Y=1                 0.02  0.08                 0.1\n",
       "Y=0                 0.78  0.12                 0.9\n",
       "Sum: Marginal of X  0.80  0.20                 1.0"
      ]
     },
     "execution_count": 3,
     "metadata": {},
     "output_type": "execute_result"
    }
   ],
   "source": [
    "k=np.arange(2)\n",
    "\n",
    "def joint_probability(x,y):\n",
    "    if x==0 and y==0: return 0.78\n",
    "    elif x==0 and y==1: return 0.02\n",
    "    elif x==1 and y==0: return 0.12\n",
    "    elif x==1 and y==1: return 0.08\n",
    "\n",
    "joint_table=Table().values('X',k,'Y',k).probability_function(joint_probability)\n",
    "joint_table.both_marginals() "
   ]
  },
  {
   "cell_type": "code",
   "execution_count": 4,
   "id": "57292651-00a2-4970-9f63-2e4079843dcc",
   "metadata": {
    "tags": []
   },
   "outputs": [
    {
     "data": {
      "text/html": [
       "<div>\n",
       "<style scoped>\n",
       "    .dataframe tbody tr th:only-of-type {\n",
       "        vertical-align: middle;\n",
       "    }\n",
       "\n",
       "    .dataframe tbody tr th {\n",
       "        vertical-align: top;\n",
       "    }\n",
       "\n",
       "    .dataframe thead th {\n",
       "        text-align: right;\n",
       "    }\n",
       "</style>\n",
       "<table border=\"1\" class=\"dataframe\">\n",
       "  <thead>\n",
       "    <tr style=\"text-align: right;\">\n",
       "      <th></th>\n",
       "      <th>X=0</th>\n",
       "      <th>X=1</th>\n",
       "      <th>Sum: Marginal of Y</th>\n",
       "    </tr>\n",
       "  </thead>\n",
       "  <tbody>\n",
       "    <tr>\n",
       "      <th>Y=1</th>\n",
       "      <td>0.02</td>\n",
       "      <td>0.08</td>\n",
       "      <td>0.1</td>\n",
       "    </tr>\n",
       "    <tr>\n",
       "      <th>Y=0</th>\n",
       "      <td>0.78</td>\n",
       "      <td>0.12</td>\n",
       "      <td>0.9</td>\n",
       "    </tr>\n",
       "  </tbody>\n",
       "</table>\n",
       "</div>"
      ],
      "text/plain": [
       "      X=0   X=1  Sum: Marginal of Y\n",
       "Y=1  0.02  0.08                 0.1\n",
       "Y=0  0.78  0.12                 0.9"
      ]
     },
     "execution_count": 4,
     "metadata": {},
     "output_type": "execute_result"
    }
   ],
   "source": [
    "joint_table.marginal('Y')"
   ]
  },
  {
   "cell_type": "code",
   "execution_count": 5,
   "id": "dc29448c-3acb-441f-9833-1e89c771f26b",
   "metadata": {
    "tags": []
   },
   "outputs": [
    {
     "data": {
      "text/html": [
       "<div>\n",
       "<style scoped>\n",
       "    .dataframe tbody tr th:only-of-type {\n",
       "        vertical-align: middle;\n",
       "    }\n",
       "\n",
       "    .dataframe tbody tr th {\n",
       "        vertical-align: top;\n",
       "    }\n",
       "\n",
       "    .dataframe thead th {\n",
       "        text-align: right;\n",
       "    }\n",
       "</style>\n",
       "<table border=\"1\" class=\"dataframe\">\n",
       "  <thead>\n",
       "    <tr style=\"text-align: right;\">\n",
       "      <th></th>\n",
       "      <th>X=0</th>\n",
       "      <th>X=1</th>\n",
       "    </tr>\n",
       "  </thead>\n",
       "  <tbody>\n",
       "    <tr>\n",
       "      <th>Y=1</th>\n",
       "      <td>0.02</td>\n",
       "      <td>0.08</td>\n",
       "    </tr>\n",
       "    <tr>\n",
       "      <th>Y=0</th>\n",
       "      <td>0.78</td>\n",
       "      <td>0.12</td>\n",
       "    </tr>\n",
       "    <tr>\n",
       "      <th>Sum: Marginal of X</th>\n",
       "      <td>0.80</td>\n",
       "      <td>0.20</td>\n",
       "    </tr>\n",
       "  </tbody>\n",
       "</table>\n",
       "</div>"
      ],
      "text/plain": [
       "                     X=0   X=1\n",
       "Y=1                 0.02  0.08\n",
       "Y=0                 0.78  0.12\n",
       "Sum: Marginal of X  0.80  0.20"
      ]
     },
     "execution_count": 5,
     "metadata": {},
     "output_type": "execute_result"
    }
   ],
   "source": [
    "joint_table.marginal('X')"
   ]
  },
  {
   "cell_type": "markdown",
   "id": "0d9db185-6958-40c9-b1c7-723da7ad0471",
   "metadata": {},
   "source": [
    "定义 3：设二维连续型随机变量$X,Y$的联合分布函数为$F(x,y)$，联合密度函数为$f(x,y)$，根据$F_X(x)=F(x,+\\infty),-\\infty<x<+\\infty$，得$\\int_{-\\infty}^x f_X(u) \\mathrm{d} u=\\int_{-\\infty}^x\\left[\\int_{-\\infty}^{+\\infty} f(u, y) \\mathrm{d} y\\right] \\mathrm{d} u$，所以$X$**的边缘密度函数**为$f_X(x)=\\int_{-\\infty}^{+\\infty} f(x, y) \\mathrm{d} y$；类似，$Y$**的边缘密度函数**为$f_Y(y)=\\int_{-\\infty}^{+\\infty} f(x, y) \\mathrm{d} x$。\n",
    "\n",
    "例如，定义二维连续型随机变量的联合密度函数$f(x, y)=\\left\\{\\begin{array}{l}30(y-x)^4, \\quad 0<x<y<1 \\\\ 0 \\quad \\text { otherwise }\\end{array}\\right.$，绘制图形如下。"
   ]
  },
  {
   "cell_type": "code",
   "execution_count": 5,
   "id": "28e89a9b-a580-43d2-9469-d6878d825ffb",
   "metadata": {
    "tags": []
   },
   "outputs": [
    {
     "data": {
      "application/vnd.jupyter.widget-view+json": {
       "model_id": "fba9d4631eef4da5abef23180edb446f",
       "version_major": 2,
       "version_minor": 0
      },
      "text/plain": [
       "interactive(children=(FloatSlider(value=20.0, description='elevation', max=90.0, step=1.0), FloatSlider(value=…"
      ]
     },
     "metadata": {},
     "output_type": "display_data"
    }
   ],
   "source": [
    "def jt_dens(x,y):\n",
    "    if y < x:\n",
    "        return 0\n",
    "    else:\n",
    "        return 30 * (y-x)**4\n",
    "\n",
    "Plot_3d(x_limits=(0,1), y_limits=(0,1), f=jt_dens, cstride=4, rstride=4,interactive=True)"
   ]
  },
  {
   "cell_type": "markdown",
   "id": "cee1b5d1-7195-45ef-9b37-cf90bdfe19d3",
   "metadata": {},
   "source": [
    "联合密度函数的二重积分定义为变量`jt_dens_pdf`。"
   ]
  },
  {
   "cell_type": "code",
   "execution_count": 18,
   "id": "28b1accc-d1d9-4724-a88b-621c98485ed9",
   "metadata": {
    "tags": []
   },
   "outputs": [
    {
     "data": {
      "text/latex": [
       "$\\displaystyle \\int\\limits_{0}^{1}\\int\\limits_{x}^{1} 30 \\left(- x + y\\right)^{4}\\, dy\\, dx$"
      ],
      "text/plain": [
       "Integral(30*(-x + y)**4, (y, x, 1), (x, 0, 1))"
      ]
     },
     "execution_count": 18,
     "metadata": {},
     "output_type": "execute_result"
    }
   ],
   "source": [
    "x = Symbol('x', positive=True)\n",
    "y = Symbol('y', positive=True)\n",
    "\n",
    "joint_density = 30*(y-x)**4\n",
    "jt_dens_pdf=Integral(joint_density, (y, x, 1), (x, 0, 1))\n",
    "jt_dens_pdf"
   ]
  },
  {
   "cell_type": "markdown",
   "id": "16d319c9-d562-4899-98e3-008a863c4aba",
   "metadata": {},
   "source": [
    "估计二重积分的结果为1。"
   ]
  },
  {
   "cell_type": "code",
   "execution_count": 19,
   "id": "41af0580-6243-4f72-9702-494f286a58bf",
   "metadata": {
    "tags": []
   },
   "outputs": [
    {
     "data": {
      "text/latex": [
       "$\\displaystyle 1$"
      ],
      "text/plain": [
       "1"
      ]
     },
     "execution_count": 19,
     "metadata": {},
     "output_type": "execute_result"
    }
   ],
   "source": [
    "jt_dens_pdf.doit()"
   ]
  },
  {
   "cell_type": "markdown",
   "id": "1704aad3-cc03-48da-ad32-4b0c2c9a76e6",
   "metadata": {},
   "source": [
    "下图表述了$x$约为0.25时，事件$X \\in dx$的概率$P(X \\in dx)$，为固定$x$，沿$y$的积分。"
   ]
  },
  {
   "cell_type": "code",
   "execution_count": 66,
   "id": "1163856d-bf7f-4f26-b781-ab06d6483be0",
   "metadata": {
    "tags": []
   },
   "outputs": [
    {
     "data": {
      "image/png": "[encoded data removed]",
      "text/plain": [
       "<Figure size 300x300 with 1 Axes>"
      ]
     },
     "metadata": {},
     "output_type": "display_data"
    }
   ],
   "source": [
    "coords=np.arange(0,1+0.1,0.1)\n",
    "pts_y=[[0,i] for i in coords]\n",
    "pts_x=[[i,i] for i in coords]\n",
    "pts_x.reverse()\n",
    "pts=np.array(pts_y+pts_x)\n",
    "\n",
    "plt.figure(figsize=(3,3))\n",
    "t=plt.Polygon(pts, color='gray')\n",
    "plt.gca().add_patch(t)\n",
    "\n",
    "plt.vlines(x=0.25,ymin=0.25,ymax =1, linewidth=3, color='green',linestyles='-')\n",
    "\n",
    "plt.xlabel(\"$x$\")\n",
    "plt.ylabel(\"$y$\")\n",
    "plt.xticks(fontsize=10);plt.yticks(fontsize=10)\n",
    "plt.show()"
   ]
  },
  {
   "cell_type": "markdown",
   "id": "9c77dea0-acae-4815-9cf1-d87635b06332",
   "metadata": {},
   "source": [
    "计算$X$的边缘密度函数$f_X(x)=\\int_x^1 30(y-x)^4 d y \\\\  =\\left.30 \\cdot \\frac{1}{5}(y-x)^5\\right|_x ^1 \\\\  =6(1-x)^5$；计算$Y$的边缘密度函数$f_Y(y)=\\int_0^y 30(y-x)^4 d x=6 y^5 $。下面打印了两者的边缘密度函数曲线。"
   ]
  },
  {
   "cell_type": "code",
   "execution_count": 31,
   "id": "349476e6-3840-4d62-a039-fcf88545985e",
   "metadata": {
    "tags": []
   },
   "outputs": [],
   "source": [
    "def plot_style(ax):\n",
    "    # Move the left and bottom spines to x = 0 and y = 0, respectively.\n",
    "    ax.spines[[\"left\", \"bottom\"]].set_position((\"data\", 0))\n",
    "    # Hide the top and right spines.\n",
    "    ax.spines[[\"top\", \"right\"]].set_visible(False)\n",
    "    ax.plot(1, 0, \">k\", transform=ax.get_yaxis_transform(), clip_on=False)\n",
    "    ax.plot(0, 1, \"^k\", transform=ax.get_xaxis_transform(), clip_on=False)"
   ]
  },
  {
   "cell_type": "code",
   "execution_count": 48,
   "id": "3e211e57-6a6f-46b9-a9e7-bd0e61b07588",
   "metadata": {
    "tags": []
   },
   "outputs": [
    {
     "data": {
      "image/png": "[encoded data removed]",
      "text/plain": [
       "<Figure size 1000x500 with 2 Axes>"
      ]
     },
     "metadata": {},
     "output_type": "display_data"
    }
   ],
   "source": [
    "import matplotlib as mpl\n",
    "mpl.rcParams.update(mpl.rcParamsDefault)\n",
    "\n",
    "def marginal_density_X(x):\n",
    "    return 6*(1-x)**5\n",
    "\n",
    "def marginal_density_Y(y):\n",
    "    return 6*y**5\n",
    "\n",
    "plt.rcParams['font.sans-serif'] = ['SimHei']\n",
    "matplotlib.rcParams['axes.unicode_minus'] = False\n",
    "\n",
    "fig, axs=plt.subplots(1, 2,figsize=(10,5))\n",
    "x=np.arange(0,1+0.1,0.1)\n",
    "\n",
    "axs[0].plot(x, marginal_density_X(x),'b-', lw=5, alpha=0.6)\n",
    "axs[1].plot(x, marginal_density_Y(x),'r-', lw=5, alpha=0.6)\n",
    "\n",
    "axs[0].set_title(\"$f_{X}$:Density of $X$\")\n",
    "axs[1].set_title(\"$f_{Y}$:Density of $Y$\")\n",
    "\n",
    "\n",
    "axs[0].set_xlabel(\"$x$\")\n",
    "axs[0].set_ylabel(\"$f_{X}(X)$\")\n",
    "axs[1].set_xlabel(\"$y$\")\n",
    "axs[1].set_ylabel(\"$f_{Y}(Y)$\")\n",
    "plot_style(axs[0])\n",
    "plot_style(axs[1])\n",
    "fig.tight_layout()\n",
    "plt.show()"
   ]
  },
  {
   "cell_type": "markdown",
   "id": "78d4e8df-9a82-4169-b813-6415444edc7a",
   "metadata": {},
   "source": [
    "定理 1：如果$(X, Y) \\sim N\\left(\\mu_1, \\mu_2, \\sigma_1^2, \\sigma_2^2, \\rho\\right) $，则$X \\sim N\\left(\\mu_1, \\sigma_1^2\\right), Y \\sim N\\left(\\mu_2, \\sigma_2^2\\right)$。"
   ]
  },
  {
   "cell_type": "markdown",
   "id": "0a1c9c6e-125b-472b-840c-2db03a9a2acb",
   "metadata": {},
   "source": [
    "* 条件分布\n",
    "\n",
    "对于二维随机变量$(X,Y)$中的两个随机变量$X$和$Y$，在许多问题中它们的取值往往彼此影响，这使得条件分布成为研究变量之间相依关系的有利工具。对于二维随机变量$(X,Y)$，随机变量$X$的条件分布是在给定$Y$取某个值条件下$X$的分布。\n",
    "\n",
    "1）二维离散型随机变量的条件分布律\n",
    "\n",
    "定义 1：设二维离散型随机变量$(X,Y)$的联合分布律为$P\\left(X=x_i, Y=y_j\\right)=p_{i j}, i, j=1,2, \\cdots$，对于固定的$y_i \\in \\Omega_Y$，记在给定条件$\\{Y=y_j\\}$下的随机变量$X$为$X \\mid Y=y_j$，其值域记为$\\Omega_{X \\mid Y=y_j}=\\left\\{x_i: P\\left(X=x_i, Y=y_j\\right) \\neq 0\\left(y_j \\text { 固定 }\\right), i=1,2, \\cdots\\right\\}$。条件分布律$\\frac{p_{i j}}{p_{\\cdot j}}, i=1,2, \\cdots$满足分布律的两条性质：\n",
    "\n",
    "（1）$P\\left(X=x_i \\mid Y=y_j\\right)=\\frac{p_{i j}}{p_{\\cdot j}}>0, x_i \\in \\Omega_X \\mid Y=y_j$；\n",
    "\n",
    "（2）$\\sum_i P\\left(X=x_i \\mid Y=y_j\\right)=\\sum_i \\frac{p_{i j}}{p_{\\cdot j}}=1$.\n",
    "\n",
    "当$x \\in \\Omega_X$时，在给定条件$\\{X=x_j\\}$下的随机变量$Y$的条件分布律为$P\\left(Y=y_j \\mid X=x_i\\right)=\\frac{p_{i j}}{p_i \\cdot}, j=1,2, \\cdots $。对于固定的$x_i \\in \\Omega_X$，记在给定条件$\\{X=x_i\\}$下的随机变量$Y$为$Y \\mid X=x_i$，其值域为$\\Omega_{Y \\mid X=x_i}=\\left\\{y_j: P\\left(X=x_i, Y=y_j\\right) \\neq 0\\left(x_i\\right.\\right.$ 固定 $\\left.), j=1,2, \\cdots\\right\\}$。同理，条件分布律$\\frac{p_{i j}}{p_i \\cdot}, j=1,2, \\cdots$也满足分布律的两条性质。\n",
    "\n",
    "定义一个二维离散型随机变量的条件分布律表格`joint_table`，如下。"
   ]
  },
  {
   "cell_type": "code",
   "execution_count": 125,
   "id": "4f66ec63-652c-4a2d-9dee-d8ec6a43eac4",
   "metadata": {
    "tags": []
   },
   "outputs": [
    {
     "name": "stdout",
     "output_type": "stream",
     "text": [
      "      0     1     2\n",
      "0  1/18   2/9  1/18\n",
      "1  2/15  2/15  1/15\n",
      "2   1/6   1/9  1/18\n",
      "total probability=1.0\n"
     ]
    },
    {
     "data": {
      "text/html": [
       "<div>\n",
       "<style scoped>\n",
       "    .dataframe tbody tr th:only-of-type {\n",
       "        vertical-align: middle;\n",
       "    }\n",
       "\n",
       "    .dataframe tbody tr th {\n",
       "        vertical-align: top;\n",
       "    }\n",
       "\n",
       "    .dataframe thead th {\n",
       "        text-align: right;\n",
       "    }\n",
       "</style>\n",
       "<table border=\"1\" class=\"dataframe\">\n",
       "  <thead>\n",
       "    <tr style=\"text-align: right;\">\n",
       "      <th></th>\n",
       "      <th>X=0</th>\n",
       "      <th>X=1</th>\n",
       "      <th>X=2</th>\n",
       "    </tr>\n",
       "  </thead>\n",
       "  <tbody>\n",
       "    <tr>\n",
       "      <th>Y=2</th>\n",
       "      <td>0.055556</td>\n",
       "      <td>0.066667</td>\n",
       "      <td>0.055556</td>\n",
       "    </tr>\n",
       "    <tr>\n",
       "      <th>Y=1</th>\n",
       "      <td>0.222222</td>\n",
       "      <td>0.133333</td>\n",
       "      <td>0.111111</td>\n",
       "    </tr>\n",
       "    <tr>\n",
       "      <th>Y=0</th>\n",
       "      <td>0.055556</td>\n",
       "      <td>0.133333</td>\n",
       "      <td>0.166667</td>\n",
       "    </tr>\n",
       "  </tbody>\n",
       "</table>\n",
       "</div>"
      ],
      "text/plain": [
       "          X=0       X=1       X=2\n",
       "Y=2  0.055556  0.066667  0.055556\n",
       "Y=1  0.222222  0.133333  0.111111\n",
       "Y=0  0.055556  0.133333  0.166667"
      ]
     },
     "execution_count": 125,
     "metadata": {},
     "output_type": "execute_result"
    }
   ],
   "source": [
    "k = np.arange(3)\n",
    "arr=np.array([[Fraction(1,18),Fraction(2,9),Fraction(1,18)],[Fraction(2,15),Fraction(2,15),Fraction(1,15)],[Fraction(1,6),Fraction(1,9),Fraction(1,18)]])\n",
    "print(pd.DataFrame(arr))\n",
    "\n",
    "def joint_probability(x, y):\n",
    "    return (arr[x,y])\n",
    "\n",
    "joint_table=Table().values('X', k, 'Y', k).probability_function(joint_probability)\n",
    "print(f'total probability={joint_dist.total_probability()}')\n",
    "joint_table"
   ]
  },
  {
   "cell_type": "markdown",
   "id": "50842ff3-9d53-4cfb-b561-d86bf5c7dbb2",
   "metadata": {},
   "source": [
    "计算随机变量$X$和$Y$的边缘分布律。"
   ]
  },
  {
   "cell_type": "code",
   "execution_count": 127,
   "id": "613251cc-aade-4793-a448-ae3352b7f4ba",
   "metadata": {
    "tags": []
   },
   "outputs": [
    {
     "data": {
      "text/html": [
       "<div>\n",
       "<style scoped>\n",
       "    .dataframe tbody tr th:only-of-type {\n",
       "        vertical-align: middle;\n",
       "    }\n",
       "\n",
       "    .dataframe tbody tr th {\n",
       "        vertical-align: top;\n",
       "    }\n",
       "\n",
       "    .dataframe thead th {\n",
       "        text-align: right;\n",
       "    }\n",
       "</style>\n",
       "<table border=\"1\" class=\"dataframe\">\n",
       "  <thead>\n",
       "    <tr style=\"text-align: right;\">\n",
       "      <th></th>\n",
       "      <th>X=0</th>\n",
       "      <th>X=1</th>\n",
       "      <th>X=2</th>\n",
       "      <th>Sum: Marginal of Y</th>\n",
       "    </tr>\n",
       "  </thead>\n",
       "  <tbody>\n",
       "    <tr>\n",
       "      <th>Y=2</th>\n",
       "      <td>0.055556</td>\n",
       "      <td>0.066667</td>\n",
       "      <td>0.055556</td>\n",
       "      <td>0.177778</td>\n",
       "    </tr>\n",
       "    <tr>\n",
       "      <th>Y=1</th>\n",
       "      <td>0.222222</td>\n",
       "      <td>0.133333</td>\n",
       "      <td>0.111111</td>\n",
       "      <td>0.466667</td>\n",
       "    </tr>\n",
       "    <tr>\n",
       "      <th>Y=0</th>\n",
       "      <td>0.055556</td>\n",
       "      <td>0.133333</td>\n",
       "      <td>0.166667</td>\n",
       "      <td>0.355556</td>\n",
       "    </tr>\n",
       "    <tr>\n",
       "      <th>Sum: Marginal of X</th>\n",
       "      <td>0.333333</td>\n",
       "      <td>0.333333</td>\n",
       "      <td>0.333333</td>\n",
       "      <td>1.000000</td>\n",
       "    </tr>\n",
       "  </tbody>\n",
       "</table>\n",
       "</div>"
      ],
      "text/plain": [
       "                         X=0       X=1       X=2  Sum: Marginal of Y\n",
       "Y=2                 0.055556  0.066667  0.055556            0.177778\n",
       "Y=1                 0.222222  0.133333  0.111111            0.466667\n",
       "Y=0                 0.055556  0.133333  0.166667            0.355556\n",
       "Sum: Marginal of X  0.333333  0.333333  0.333333            1.000000"
      ]
     },
     "execution_count": 127,
     "metadata": {},
     "output_type": "execute_result"
    }
   ],
   "source": [
    "joint_table.both_marginals()"
   ]
  },
  {
   "cell_type": "markdown",
   "id": "4d4d310c-6035-4a99-9374-1a6fd9506040",
   "metadata": {},
   "source": [
    "假设知道$Y=1$，则提取满足条件的行，可知该行和的概率为$P(Y=3)=0.466$，并不为1。由$P(X=x \\mid Y=1)=\\frac{P(X=x, Y=1)}{P(Y=1)}$，计算给定条件$Y=1$时$X$的条件分布为，$P(X=0 \\mid Y=3)=\\frac{0.222}{0.466}=0.476 \\\\  P(X=1 \\mid Y=3)=\\frac{0.133}{0.466}=0.285 \\\\  P(X=2 \\mid Y=3)=\\frac{0.111}{0.466}=0.238$。可以直接调用`conditional_dist`方法计算。"
   ]
  },
  {
   "cell_type": "code",
   "execution_count": 131,
   "id": "a5248d6a-8cc2-419d-9373-a4ea27de8dd2",
   "metadata": {
    "tags": []
   },
   "outputs": [
    {
     "name": "stdout",
     "output_type": "stream",
     "text": [
      "P(Event) = 0.4666666666666666\n"
     ]
    },
    {
     "data": {
      "text/html": [
       "<div>\n",
       "<style scoped>\n",
       "    .dataframe tbody tr th:only-of-type {\n",
       "        vertical-align: middle;\n",
       "    }\n",
       "\n",
       "    .dataframe tbody tr th {\n",
       "        vertical-align: top;\n",
       "    }\n",
       "\n",
       "    .dataframe thead th {\n",
       "        text-align: right;\n",
       "    }\n",
       "</style>\n",
       "<table border=\"1\" class=\"dataframe\">\n",
       "  <thead>\n",
       "    <tr style=\"text-align: right;\">\n",
       "      <th></th>\n",
       "      <th>X=0</th>\n",
       "      <th>X=1</th>\n",
       "      <th>X=2</th>\n",
       "    </tr>\n",
       "  </thead>\n",
       "  <tbody>\n",
       "    <tr>\n",
       "      <th>Y=2</th>\n",
       "      <td></td>\n",
       "      <td></td>\n",
       "      <td></td>\n",
       "    </tr>\n",
       "    <tr>\n",
       "      <th>Y=1</th>\n",
       "      <td>0.222222</td>\n",
       "      <td>0.133333</td>\n",
       "      <td>0.111111</td>\n",
       "    </tr>\n",
       "    <tr>\n",
       "      <th>Y=0</th>\n",
       "      <td></td>\n",
       "      <td></td>\n",
       "      <td></td>\n",
       "    </tr>\n",
       "  </tbody>\n",
       "</table>\n",
       "</div>"
      ],
      "text/plain": [
       "          X=0       X=1       X=2\n",
       "Y=2                              \n",
       "Y=1  0.222222  0.133333  0.111111\n",
       "Y=0                              "
      ]
     },
     "execution_count": 131,
     "metadata": {},
     "output_type": "execute_result"
    }
   ],
   "source": [
    "def indicator_Y_equals_1(i, j):\n",
    "    return j==1\n",
    "\n",
    "joint_table.event(indicator_Y_equals_1, 'X', 'Y')"
   ]
  },
  {
   "cell_type": "markdown",
   "id": "c96fb52b-6b52-4771-a3d2-046ddb97f406",
   "metadata": {},
   "source": [
    "以$Y$为条件计算$X$的条件分布律。 "
   ]
  },
  {
   "cell_type": "code",
   "execution_count": 132,
   "id": "bae60915-77bd-41c8-80cb-d415632fc19a",
   "metadata": {
    "tags": []
   },
   "outputs": [
    {
     "data": {
      "text/html": [
       "<div>\n",
       "<style scoped>\n",
       "    .dataframe tbody tr th:only-of-type {\n",
       "        vertical-align: middle;\n",
       "    }\n",
       "\n",
       "    .dataframe tbody tr th {\n",
       "        vertical-align: top;\n",
       "    }\n",
       "\n",
       "    .dataframe thead th {\n",
       "        text-align: right;\n",
       "    }\n",
       "</style>\n",
       "<table border=\"1\" class=\"dataframe\">\n",
       "  <thead>\n",
       "    <tr style=\"text-align: right;\">\n",
       "      <th></th>\n",
       "      <th>X=0</th>\n",
       "      <th>X=1</th>\n",
       "      <th>X=2</th>\n",
       "      <th>Sum</th>\n",
       "    </tr>\n",
       "  </thead>\n",
       "  <tbody>\n",
       "    <tr>\n",
       "      <th>Dist. of X | Y=2</th>\n",
       "      <td>0.312500</td>\n",
       "      <td>0.375000</td>\n",
       "      <td>0.312500</td>\n",
       "      <td>1.0</td>\n",
       "    </tr>\n",
       "    <tr>\n",
       "      <th>Dist. of X | Y=1</th>\n",
       "      <td>0.476190</td>\n",
       "      <td>0.285714</td>\n",
       "      <td>0.238095</td>\n",
       "      <td>1.0</td>\n",
       "    </tr>\n",
       "    <tr>\n",
       "      <th>Dist. of X | Y=0</th>\n",
       "      <td>0.156250</td>\n",
       "      <td>0.375000</td>\n",
       "      <td>0.468750</td>\n",
       "      <td>1.0</td>\n",
       "    </tr>\n",
       "    <tr>\n",
       "      <th>Marginal of X</th>\n",
       "      <td>0.333333</td>\n",
       "      <td>0.333333</td>\n",
       "      <td>0.333333</td>\n",
       "      <td>1.0</td>\n",
       "    </tr>\n",
       "  </tbody>\n",
       "</table>\n",
       "</div>"
      ],
      "text/plain": [
       "                       X=0       X=1       X=2  Sum\n",
       "Dist. of X | Y=2  0.312500  0.375000  0.312500  1.0\n",
       "Dist. of X | Y=1  0.476190  0.285714  0.238095  1.0\n",
       "Dist. of X | Y=0  0.156250  0.375000  0.468750  1.0\n",
       "Marginal of X     0.333333  0.333333  0.333333  1.0"
      ]
     },
     "execution_count": 132,
     "metadata": {},
     "output_type": "execute_result"
    }
   ],
   "source": [
    "joint_table.conditional_dist('X', 'Y') # conditional distribution of X given each different value of Y"
   ]
  },
  {
   "cell_type": "markdown",
   "id": "d523d767-2ffc-4e55-b3eb-2afea5cd1902",
   "metadata": {},
   "source": [
    "以$X$为条件计算$Y$的条件分布律。"
   ]
  },
  {
   "cell_type": "code",
   "execution_count": 133,
   "id": "4be46552-c0be-4381-9e33-419f66d898f6",
   "metadata": {
    "tags": []
   },
   "outputs": [
    {
     "data": {
      "text/html": [
       "<div>\n",
       "<style scoped>\n",
       "    .dataframe tbody tr th:only-of-type {\n",
       "        vertical-align: middle;\n",
       "    }\n",
       "\n",
       "    .dataframe tbody tr th {\n",
       "        vertical-align: top;\n",
       "    }\n",
       "\n",
       "    .dataframe thead th {\n",
       "        text-align: right;\n",
       "    }\n",
       "</style>\n",
       "<table border=\"1\" class=\"dataframe\">\n",
       "  <thead>\n",
       "    <tr style=\"text-align: right;\">\n",
       "      <th></th>\n",
       "      <th>Dist. of Y | X=0</th>\n",
       "      <th>Dist. of Y | X=1</th>\n",
       "      <th>Dist. of Y | X=2</th>\n",
       "      <th>Marginal of Y</th>\n",
       "    </tr>\n",
       "  </thead>\n",
       "  <tbody>\n",
       "    <tr>\n",
       "      <th>Y=2</th>\n",
       "      <td>0.166667</td>\n",
       "      <td>0.2</td>\n",
       "      <td>0.166667</td>\n",
       "      <td>0.177778</td>\n",
       "    </tr>\n",
       "    <tr>\n",
       "      <th>Y=1</th>\n",
       "      <td>0.666667</td>\n",
       "      <td>0.4</td>\n",
       "      <td>0.333333</td>\n",
       "      <td>0.466667</td>\n",
       "    </tr>\n",
       "    <tr>\n",
       "      <th>Y=0</th>\n",
       "      <td>0.166667</td>\n",
       "      <td>0.4</td>\n",
       "      <td>0.500000</td>\n",
       "      <td>0.355556</td>\n",
       "    </tr>\n",
       "    <tr>\n",
       "      <th>Sum</th>\n",
       "      <td>1.000000</td>\n",
       "      <td>1.0</td>\n",
       "      <td>1.000000</td>\n",
       "      <td>1.000000</td>\n",
       "    </tr>\n",
       "  </tbody>\n",
       "</table>\n",
       "</div>"
      ],
      "text/plain": [
       "     Dist. of Y | X=0  Dist. of Y | X=1  Dist. of Y | X=2  Marginal of Y\n",
       "Y=2          0.166667               0.2          0.166667       0.177778\n",
       "Y=1          0.666667               0.4          0.333333       0.466667\n",
       "Y=0          0.166667               0.4          0.500000       0.355556\n",
       "Sum          1.000000               1.0          1.000000       1.000000"
      ]
     },
     "execution_count": 133,
     "metadata": {},
     "output_type": "execute_result"
    }
   ],
   "source": [
    "joint_table.conditional_dist('Y', 'X') # conditional distribution of Y given each different value of X"
   ]
  },
  {
   "cell_type": "markdown",
   "id": "334a9f91-a1d1-4e32-944a-aba30940d643",
   "metadata": {
    "tags": []
   },
   "source": [
    "2）二维连续型随机变量的条件密度函数\n",
    "\n",
    "定义 2：设$f(x,y)$为二维连续型随机变量$(X,Y)$的联合密度函数，当$y \\in \\Omega_Y$时，在给定$\\{Y=y\\}$条件下$X$的条件密度函数为$f_{X \\mid Y}(x \\mid y)=\\frac{f(x, y)}{f_Y(y)},-\\infty<x<+\\infty \\text {, 其中 } f_Y(y)>0$。对于固定的$y \\in \\Omega_Y$，记在给定条件$\\{Y=y\\}$下的随机变量$X$为$X \\mid Y=y$，其值域记为$\\Omega_{X \\mid Y=y}=\\{x: f(x, y) \\neq 0(y$ 固定 $)\\}$。条件密度函数$f_{X \\mid Y}(x \\mid y)$满足密度函数的两条性质：\n",
    "\n",
    "（1）$f_{X \\mid Y}(x \\mid y)=\\frac{f(x, y)}{f_Y(y)}>0, x \\in \\Omega_X \\mid Y=y$；\n",
    "\n",
    "（2）$\\int_{-\\infty}^{+\\infty} f_{X \\mid Y}(x \\mid y) \\mathrm{d} x=\\int_{-\\infty}^{+\\infty} \\frac{f(x, y)}{f_Y(y)} \\mathrm{d} x=\\frac{\\int_{-\\infty}^{+\\infty} f(x, y) \\mathrm{d} x}{f_Y(y)}=1$。\n",
    "\n",
    "当$x \\in \\Omega_X$时，在给定$X=x$条件下$Y$的条件密度函数为$f_{Y \\mid X}(y \\mid x)=\\frac{f(x, y)}{f_X(x)},-\\infty<y<+\\infty \\text {, 其中 } f_X(x)>0$。对于固定的$x \\in \\Omega_X$，记在给定条件$\\{X=x\\}$下的随机变量$Y$为$Y \\mid X=x$，其值域记为$\\Omega_{Y \\mid X=x}=\\{y: f(x, y) \\neq 0(x$ 固定 $)\\}$。同理，可以验证$f_{Y \\mid X}(y \\mid x)$满足密度函数的两条性质。\n",
    "\n",
    "定义 3：设$f(x,y)$为二维连续型随机变量$(X,Y)$的联合密度函数，当$y \\in \\Omega_Y$时，在给定条件$\\{Y=y\\}$下$X$的条件分布函数为$F_{X \\mid Y}(x \\mid y)=\\int_{-\\infty}^x f_{X \\mid Y}(u \\mid y) \\mathrm{d} u=\\int_{-\\infty}^x \\frac{f(u, y)}{f_Y(y)} \\mathrm{d} u,-\\infty<x<+\\infty \\text {, 其中 } f_Y(y)>0$；当$x \\in \\Omega_X$时，在给定$\\{X=x\\}$条件下$Y$的条件分布函数为$F_{Y \\mid X}(y \\mid x)=\\int_{-\\infty}^y f_{Y \\mid X}(v \\mid x) \\mathrm{d} v=\\int_{-\\infty}^y \\frac{f(x, v)}{f_X(x)} \\mathrm{d} v, \\quad-\\infty<y<+\\infty$, 其中 $f_X(x)>0$。\n",
    "\n",
    "继续*边缘分布：二维连续型随机变量的联合密度函数*部分的案例，给定条件$X=0.4$时，$Y$的条件密度函数为$f_{Y \\mid X=0.4}(y)=\\frac{30(y-0.4)^4}{6(1-0.4)^5}=\\frac{5}{0.6^5}(y-0.4)^4 \\quad y \\in(0.4,1)$。同时绘制$Y$的边缘密度函数$f_Y(y)$和条件密度函数$f_{Y \\mid X=0.4}(y)$，如下。"
   ]
  },
  {
   "cell_type": "code",
   "execution_count": 142,
   "id": "1a04aef6-9384-40f2-b3cd-d4c4d37a02b7",
   "metadata": {
    "tags": []
   },
   "outputs": [
    {
     "data": {
      "text/latex": [
       "$\\displaystyle 0.999999999999999$"
      ],
      "text/plain": [
       "0.999999999999999"
      ]
     },
     "execution_count": 142,
     "metadata": {},
     "output_type": "execute_result"
    }
   ],
   "source": [
    "y=Symbol('y', positive=True)\n",
    "conditional_density_Y_given_X_is_04=(5/(0.6**5)) * (y - 0.4)**4\n",
    "Integral(conditional_density_Y_given_X_is_04, (y, 0.4, 1)).doit()"
   ]
  },
  {
   "cell_type": "code",
   "execution_count": 164,
   "id": "d68e7999-b2e7-4135-8c86-87fe78fcec4a",
   "metadata": {
    "tags": []
   },
   "outputs": [
    {
     "data": {
      "image/png": "[encoded data removed]",
      "text/plain": [
       "<Figure size 500x500 with 1 Axes>"
      ]
     },
     "metadata": {},
     "output_type": "display_data"
    }
   ],
   "source": [
    "def conditional_density_Y_given_X_is_04_func(y):\n",
    "    return 5/0.6**5*(y-0.4)**4\n",
    "\n",
    "def marginal_density_Y(y):\n",
    "    return 6*y**5\n",
    "\n",
    "fig, ax=plt.subplots(1, 1,figsize=(5,5))\n",
    "x=np.arange(0,1+0.05,0.05)\n",
    "x_c=np.array([i for i in x if i>=0.4])\n",
    "\n",
    "ax.plot(x, marginal_density_Y(x),'r-', lw=5, alpha=0.6,label=\"Density of Y\")\n",
    "ax.plot(x_c, conditional_density_Y_given_X_is_04_func(x_c),'k-', lw=5, alpha=0.6,label=\"Density of Y given X=0.4\")\n",
    "\n",
    "ax.set_xlabel(\"$y$\")\n",
    "ax.set_ylabel(\"$P(Y)$\")\n",
    "plot_style(ax)\n",
    "ax.legend(loc='upper center')\n",
    "fig.tight_layout()\n",
    "plt.show()"
   ]
  },
  {
   "cell_type": "markdown",
   "id": "05128eab-aff3-4d2c-bc6c-5711cebf528b",
   "metadata": {},
   "source": [
    "由条件密度函数$f_{Y \\mid X=0.4}(y)$可以计算条件概率（probabilities）和条件期望（expectations），例如$P(Y>0.9 \\mid X=0.4)=\\int_{0.9}^1 \\frac{5}{0.6^5}(y-0.4)^4 d y$。"
   ]
  },
  {
   "cell_type": "code",
   "execution_count": 167,
   "id": "404dc513-4bbf-4f7d-bd48-e67770444b73",
   "metadata": {
    "tags": []
   },
   "outputs": [
    {
     "name": "stdout",
     "output_type": "stream",
     "text": [
      "0.598122427983537\n"
     ]
    },
    {
     "data": {
      "text/latex": [
       "$\\displaystyle \\int\\limits_{0.9}^{1} 64.3004115226338 \\left(y - 0.4\\right)^{4}\\, dy$"
      ],
      "text/plain": [
       "Integral(64.3004115226338*(y - 0.4)**4, (y, 0.9, 1))"
      ]
     },
     "execution_count": 167,
     "metadata": {},
     "output_type": "execute_result"
    }
   ],
   "source": [
    "p_1=Integral(conditional_density_Y_given_X_is_04, (y, 0.9, 1))\n",
    "print(p_1.doit())\n",
    "p_1"
   ]
  },
  {
   "cell_type": "markdown",
   "id": "b1deb50f-80dc-4fe5-b44f-788f3d454033",
   "metadata": {},
   "source": [
    "由条件密度函数计算条件期望值，$E(Y \\mid X=0.4)=\\int_{0.4}^1 y \\frac{5}{0.6^5}(y-0.4)^4 d y=0.9$。"
   ]
  },
  {
   "cell_type": "code",
   "execution_count": 169,
   "id": "eaef50a3-1aaf-4d89-a499-cad380cc423a",
   "metadata": {
    "tags": []
   },
   "outputs": [
    {
     "data": {
      "text/latex": [
       "$\\displaystyle 0.899999999999998$"
      ],
      "text/plain": [
       "0.899999999999998"
      ]
     },
     "execution_count": 169,
     "metadata": {},
     "output_type": "execute_result"
    }
   ],
   "source": [
    "Integral(y*conditional_density_Y_given_X_is_04, (y, 0.4, 1)).doit()"
   ]
  },
  {
   "cell_type": "code",
   "execution_count": null,
   "id": "db7bf928-6143-45b1-bf04-b83941924d1b",
   "metadata": {},
   "outputs": [],
   "source": []
  },
  {
   "cell_type": "code",
   "execution_count": null,
   "id": "e6d7f112-c6a9-4798-b6b2-7104d89c600b",
   "metadata": {},
   "outputs": [],
   "source": []
  },
  {
   "cell_type": "code",
   "execution_count": null,
   "id": "6281053a-660e-4df2-a5e7-fd0acd2a4791",
   "metadata": {},
   "outputs": [],
   "source": []
  },
  {
   "cell_type": "code",
   "execution_count": null,
   "id": "a86990cc-a5c9-405f-9c4d-0ebbb043a4d4",
   "metadata": {},
   "outputs": [],
   "source": []
  }
 ],
 "metadata": {
  "kernelspec": {
   "display_name": "Python 3 (ipykernel)",
   "language": "python",
   "name": "python3"
  },
  "language_info": {
   "codemirror_mode": {
    "name": "ipython",
    "version": 3
   },
   "file_extension": ".py",
   "mimetype": "text/x-python",
   "name": "python",
   "nbconvert_exporter": "python",
   "pygments_lexer": "ipython3",
   "version": "3.9.16"
  }
 },
 "nbformat": 4,
 "nbformat_minor": 5
}
