{
 "cells": [
  {
   "cell_type": "code",
   "execution_count": 87,
   "id": "4b3366e2-df58-4b3c-b4f8-1e2ab9df4b64",
   "metadata": {
    "tags": []
   },
   "outputs": [],
   "source": [
    "from datascience import *\n",
    "from prob140 import *\n",
    "%matplotlib inline\n",
    "import matplotlib.pyplot as plt\n",
    "import numpy as np\n",
    "plt.style.use('fivethirtyeight')"
   ]
  },
  {
   "cell_type": "markdown",
   "id": "98aee9f9-ce8b-4a16-a75b-6f78d4763801",
   "metadata": {},
   "source": [
    "## 3.5.4 随机变量的数字特征\n",
    "\n",
    "* 级数（补充）<sup>[https://en.wikipedia.org/wiki/Series_(mathematics)][https://zh.wikipedia.org/wiki/%E7%BA%A7%E6%95%B0]</sup>\n",
    "\n",
    "**级数**（Series）是数学中一个有穷或无穷的序列，例如$u_{1},u_{2},u_{3},u_{4}\\ldots$之和，即$s=u_{1}+u_{2}+u_{3}+\\ldots$，如果序列是有穷序列，其和称为有穷级数；反之，称为无穷级数（一般也简称为级数）。序列$u_{1},u_{2},u_{3},u_{4}\\ldots$中的项称作级数的通项（或一般项）。级数的通向可以是实数、矩阵或向量等常量，也可以是关于其它变量的函数，不一定是一个数。一般的，如果级数的通项是常量，则称之为常数项级数，如果级数的通项是函数，则称之为函数项级数。常见简单有穷数量的级数有等差数列和等比数列的级数。\n",
    "\n",
    "无穷级数有发散和收敛的区别，称为无穷级数的敛散性。无穷级数在收敛时才会有一个和；发散的无穷级数在一般意义上没有和，但可以用一些别的方式来定义。\n",
    "\n",
    "无穷级数一般写作$u_{1}+u_{2}+u_{3}+\\ldots$、$\\sum u_{n}$或$\\sum _{n=1}^{\\infty }u_{n}$。级数收敛时，其和通常被表示为$s=\\sum _{n=1}^{\\infty }u_{n}$。\n",
    "\n",
    "**无穷级数的定义**，设$(u_n)$是一个无穷序列：$u_{1},u_{2},u_{3},\\ldots ,u_{n},\\ldots$，其前$n$项的和称为$\\sum u_{n}$的**部分和**：$s_{n}=u_{1}+u_{2}+u_{3}+\\cdots +u_{n}$。$(u_n)$部分和依次构成另一个无穷序列：$s_{1},s_{2},s_{3},\\ldots ,s_{n},\\ldots$，这两个序列合成为一个级数，记作$\\sum u_{n}$或$\\sum _{n=1}^{\\infty }u_{n}$。\n",
    "\n",
    "**无穷级数的敛散性**，对于级数$\\sum _{n=1}^{\\infty }u_{n}$，如果当$n$趋于正无穷大时，$s_n$趋向一个有限的极限：$s=\\lim _{n\\to \\infty }s_{n}$，那么这个无穷数就是收敛的，$s$称为$\\sum _{n=1}^{\\infty }u_{n}$的和。如果极限不存在，这个无穷级数就是发散的。收敛的无穷级数存在唯一的一个和$s$。这时可以定义级数$\\sum u_{n}$的余项和：$R_{n}=S-S_{n}$。\n",
    "\n",
    "**任意项级数**，如果级数$\\sum _{n=1}^{\\infty }u_{n}$中的各项可以是正数、负数或零，则级数$\\sum _{n=1}^{\\infty }u_{n}$称为任意项级数。将任意项级数各项$u_n$取绝对值，得到正项级数，$\\sum _{n=1}^{\\infty }|u_{n}|=|u_{1}|+|u_{2}|+|u_{3}|+\\cdots +|u_{n}|+\\cdots$。\n",
    "\n",
    "**条件收敛**，如果任意项级数$\\sum _{n=1}^{\\infty }u_{n}$收敛，而级数$\\sum _{n=1}^{\\infty }|u_{n}|$发散，则称级数$\\sum _{n=1}^{\\infty }u_{n}$条件收敛。\n",
    "\n",
    "**绝对收敛**，如果级数$\\sum _{n=1}^{\\infty }|u_{n}|$收敛，则称级数绝对收敛。\n",
    "\n",
    "定理：如果任意性级数$\\sum _{n=1}^{\\infty }u_{n}$各项绝对值所组成的正向级数$\\sum _{n=1}^{\\infty }|u_{n}|$收敛，则级数$\\sum _{n=1}^{\\infty }u_{n}$收敛。\n",
    "\n",
    "收敛级数的性质：\n",
    "\n",
    "* 若一个无穷级数$\\sum u_{n}\\ :\\ u_{1}+u_{2}+u_{3}+\\cdots +u_{n}+\\cdots$收敛，其和为$s$，则如果每一项乘以一个常数$a$，得到的级数$\\sum au_{n}:\\ au_{1}+au_{2}+au_{3}+\\cdots +au_{n}+\\cdots$也收敛，且和等于$as$。\n",
    "\n",
    "* 收敛的无穷级数可以逐项相加或相减，如有两个无穷级数：$\\sum _{n=1}^{\\infty }u_{n}=s$和$\\sum _{n=1}^{\\infty }v_{n}=t$，则$\\sum _{n=1}^{\\infty }(u_{n}\\pm v_{n})=s\\pm t$。\n",
    "\n",
    "* 级数前面加上有限项或减去有限项不影响其收敛性，如：$s=u_{1}+u_{2}+u_{3}+\\cdots +u_{n}+\\cdots$和$s=u_{12}+u_{15}+u_{16}+u_{17}+\\cdots +u_{n}+\\cdots$，这两个级数的敛散性是一样的。\n",
    "\n",
    "* 当$n$趋向无限大时，任何一个收敛级数的通项都趋于0：$\\lim _{n\\to \\infty }u_{n}=0$。\n",
    "\n",
    "借助[SymPy](https://docs.sympy.org/latest/modules/concrete.html)级数求和，例如，"
   ]
  },
  {
   "cell_type": "code",
   "execution_count": 123,
   "id": "d867ae34-8ad2-40f8-88bc-dee8cf0db749",
   "metadata": {},
   "outputs": [],
   "source": [
    "from IPython.display import display, Latex\n",
    "from sympy import I, oo, Sum, exp, pi,factorial, S,Symbol, oo,pprint,print_latex,pi,Integral,Product\n",
    "from sympy.abc import x, y, a, b, c, d, n,p,i\n",
    "import numpy as np"
   ]
  },
  {
   "cell_type": "code",
   "execution_count": 50,
   "id": "efb264c3-d80d-4fc5-8bbb-db0a4c793bf0",
   "metadata": {
    "tags": []
   },
   "outputs": [
    {
     "data": {
      "text/latex": [
       "$\\displaystyle \\sum_{n=0}^{\\infty} \\frac{x^{n}}{n!}$"
      ],
      "text/plain": [
       "Sum(x**n/factorial(n), (n, 0, oo))"
      ]
     },
     "execution_count": 50,
     "metadata": {},
     "output_type": "execute_result"
    }
   ],
   "source": [
    "Series_Sum_1=Sum(x**n/factorial(n),(n,0,oo))\n",
    "Series_Sum_1"
   ]
  },
  {
   "cell_type": "code",
   "execution_count": 52,
   "id": "391c7522-f2ad-484b-9bd7-9abe50a31b52",
   "metadata": {
    "tags": []
   },
   "outputs": [
    {
     "data": {
      "text/latex": [
       "$\\displaystyle e^{x}$"
      ],
      "text/plain": [
       "exp(x)"
      ]
     },
     "execution_count": 52,
     "metadata": {},
     "output_type": "execute_result"
    }
   ],
   "source": [
    "Series_Sum_1.doit()"
   ]
  },
  {
   "cell_type": "code",
   "execution_count": 32,
   "id": "268b657a-50e0-4704-be82-d0bbc0b93b66",
   "metadata": {
    "tags": []
   },
   "outputs": [
    {
     "data": {
      "text/latex": [
       "$\\displaystyle \\sum_{n=1}^{\\infty} n p^{n - 1}$"
      ],
      "text/plain": [
       "Sum(n*p**(n - 1), (n, 1, oo))"
      ]
     },
     "execution_count": 32,
     "metadata": {},
     "output_type": "execute_result"
    }
   ],
   "source": [
    "Series_Sum_2=Sum(n*p**(n-1),(n,1,oo))\n",
    "Series_Sum_2"
   ]
  },
  {
   "cell_type": "code",
   "execution_count": 33,
   "id": "16134efc-d88e-4c31-a5e2-b3df09f47c9f",
   "metadata": {
    "tags": []
   },
   "outputs": [
    {
     "data": {
      "text/latex": [
       "$\\displaystyle \\frac{\\begin{cases} \\frac{p}{\\left(1 - p\\right)^{2}} & \\text{for}\\: \\left|{p}\\right| < 1 \\\\\\sum_{n=1}^{\\infty} n p^{n} & \\text{otherwise} \\end{cases}}{p}$"
      ],
      "text/plain": [
       "Piecewise((p/(1 - p)**2, Abs(p) < 1), (Sum(n*p**n, (n, 1, oo)), True))/p"
      ]
     },
     "execution_count": 33,
     "metadata": {},
     "output_type": "execute_result"
    }
   ],
   "source": [
    "Series_Sum_2.doit()"
   ]
  },
  {
   "cell_type": "code",
   "execution_count": 30,
   "id": "8aed3cc4-0599-4416-874d-3666d5bf83ad",
   "metadata": {
    "tags": []
   },
   "outputs": [
    {
     "data": {
      "text/latex": [
       "$\\displaystyle \\sum_{n=0}^{\\infty} \\frac{p^{n + 1}}{n + 1}$"
      ],
      "text/plain": [
       "Sum(p**(n + 1)/(n + 1), (n, 0, oo))"
      ]
     },
     "execution_count": 30,
     "metadata": {},
     "output_type": "execute_result"
    }
   ],
   "source": [
    "Series_Sum_3=Sum(p**(n+1)/(n+1),(n,0,oo))\n",
    "Series_Sum_3"
   ]
  },
  {
   "cell_type": "code",
   "execution_count": 31,
   "id": "396e1d2c-e4d7-407e-aaed-e218405d2816",
   "metadata": {
    "tags": []
   },
   "outputs": [
    {
     "data": {
      "text/latex": [
       "$\\displaystyle p \\left(\\begin{cases} - \\frac{\\log{\\left(1 - p \\right)}}{p} & \\text{for}\\: \\left|{p}\\right| \\leq 1 \\wedge p \\neq 1 \\\\\\sum_{n=0}^{\\infty} \\frac{p^{n}}{n + 1} & \\text{otherwise} \\end{cases}\\right)$"
      ],
      "text/plain": [
       "p*Piecewise((-log(1 - p)/p, Ne(p, 1) & (Abs(p) <= 1)), (Sum(p**n/(n + 1), (n, 0, oo)), True))"
      ]
     },
     "execution_count": 31,
     "metadata": {},
     "output_type": "execute_result"
    }
   ],
   "source": [
    "Series_Sum_3.doit()"
   ]
  },
  {
   "cell_type": "markdown",
   "id": "02a11291-a69e-46e5-ab5a-d67013041bbb",
   "metadata": {
    "tags": []
   },
   "source": [
    "用`is_convergent`方法检查级数的敛散性。`is_convergent`检验求和的（`Sum`）收敛性；`is_absolutely_convergent`检验无穷级数的绝对收敛性。"
   ]
  },
  {
   "cell_type": "code",
   "execution_count": 77,
   "id": "ecb944b9-67e2-4b5e-9312-13a9060944ec",
   "metadata": {
    "tags": []
   },
   "outputs": [
    {
     "name": "stdout",
     "output_type": "stream",
     "text": [
      "is convergent:True\n",
      "is absolutely convergent:True\n"
     ]
    },
    {
     "data": {
      "text/latex": [
       "$\\displaystyle \\sum_{n=1}^{\\infty} \\frac{1}{n^{\\frac{6}{5}}}$"
      ],
      "text/plain": [
       "Sum(n**(-6/5), (n, 1, oo))"
      ]
     },
     "execution_count": 77,
     "metadata": {},
     "output_type": "execute_result"
    }
   ],
   "source": [
    "Series_Sum_4=Sum(1/n**(S(6)/5), (n, 1, oo))\n",
    "print(f'is convergent:{Series_Sum_4.is_convergent()}')\n",
    "print(f'is absolutely convergent:{Series_Sum_4.is_absolutely_convergent()}')\n",
    "Series_Sum_4"
   ]
  },
  {
   "cell_type": "markdown",
   "id": "1868d90c-1362-41a3-8acd-2a795bb240ef",
   "metadata": {
    "tags": []
   },
   "source": [
    "* 数学期望\n",
    "\n",
    "定义 1：设$X$是离散型的随机变量，其分布律为$P\\left(X=x_i\\right)=p_i, i=1,2, \\cdots$，如果级数$\\sum_{i=1}^{\\infty} x_i p_i$绝对收敛，则称$E(X)=\\sum_{i=1}^{\\infty} x_i p_i$为**离散型随机变量**$X$**的数学期望**，也称作**期望**或**均值**。\n",
    "\n",
    "定义中要求级数$\\sum_{i=1}^{\\infty} x_i p_i$绝对收敛，是为了保证数学期望的唯一性。如级数$\\sum_{i=1}^{\\infty} x_i p_i$条件收敛，级数$\\sum_{i=1}^{\\infty} x_i p_i$改变项的次序后，其和不唯一。只有当$\\sum_{i=1}^{\\infty} x_i p_i$绝对收敛时，改变项的顺序才不影响和的唯一性，即绝对收敛级数具有可交换性。\n",
    "\n",
    "例如，有随机变量$X$的分布律为，$P\\left(X=\\frac{2^i}{i}\\right)=\\frac{1}{2^i}, \\quad i=1,2, \\cdots$，检查$E(X)$的敛散性为`False`，即$E(X)$不存在。"
   ]
  },
  {
   "cell_type": "code",
   "execution_count": 76,
   "id": "28cbb9d0-7fe8-4d03-98cf-da991512cd1e",
   "metadata": {
    "tags": []
   },
   "outputs": [
    {
     "name": "stdout",
     "output_type": "stream",
     "text": [
      "False\n"
     ]
    },
    {
     "data": {
      "text/latex": [
       "$\\displaystyle \\sum_{i=1}^{\\infty} \\frac{1}{i}$"
      ],
      "text/plain": [
       "Sum(1/i, (i, 1, oo))"
      ]
     },
     "execution_count": 76,
     "metadata": {},
     "output_type": "execute_result"
    }
   ],
   "source": [
    "ev_1=Sum((2**i/i)*(1/2**i),(i,1,oo))\n",
    "print(ev_1.is_absolutely_convergent())\n",
    "ev_1"
   ]
  },
  {
   "cell_type": "markdown",
   "id": "1499eb9d-87a5-4e33-a25c-c0cef7323892",
   "metadata": {},
   "source": [
    "同样，对于$P\\left(X=(-1)^i \\frac{2^i}{i}\\right)=\\frac{1}{2^i}, \\quad i=1,2, \\cdots$，$E(X)$不存在。"
   ]
  },
  {
   "cell_type": "code",
   "execution_count": 79,
   "id": "35253809-d25b-44db-92fd-0ee02d5eeaff",
   "metadata": {
    "tags": []
   },
   "outputs": [
    {
     "name": "stdout",
     "output_type": "stream",
     "text": [
      "False\n"
     ]
    },
    {
     "data": {
      "text/latex": [
       "$\\displaystyle \\sum_{i=1}^{\\infty} \\frac{\\left(-1\\right)^{i}}{i}$"
      ],
      "text/plain": [
       "Sum((-1)**i/i, (i, 1, oo))"
      ]
     },
     "execution_count": 79,
     "metadata": {},
     "output_type": "execute_result"
    }
   ],
   "source": [
    "ev_2=Sum(((-1)**i*2**i/i)*(1/2**i),(i,1,oo))\n",
    "print(ev_2.is_absolutely_convergent())\n",
    "ev_2"
   ]
  },
  {
   "cell_type": "markdown",
   "id": "4c44e19f-1c57-4975-89c0-6fbb76eb4d3d",
   "metadata": {},
   "source": [
    "对于$P\\left(X=(-1)^i \\frac{2^i}{i^2}\\right)=\\frac{1}{2^i}, \\quad i=1,2, \\cdots$，$E(X)$则存在，为$- \\frac{\\pi^{2}}{12}$。"
   ]
  },
  {
   "cell_type": "code",
   "execution_count": 80,
   "id": "475d2013-59c4-4024-8f0c-4de9bbefec75",
   "metadata": {
    "tags": []
   },
   "outputs": [
    {
     "name": "stdout",
     "output_type": "stream",
     "text": [
      "True\n"
     ]
    },
    {
     "data": {
      "text/latex": [
       "$\\displaystyle \\sum_{i=1}^{\\infty} \\frac{\\left(-1\\right)^{i}}{i^{2}}$"
      ],
      "text/plain": [
       "Sum((-1)**i/i**2, (i, 1, oo))"
      ]
     },
     "execution_count": 80,
     "metadata": {},
     "output_type": "execute_result"
    }
   ],
   "source": [
    "ev_3=Sum(((-1)**i*2**i/i**2)*(1/2**i),(i,1,oo))\n",
    "print(ev_3.is_absolutely_convergent())\n",
    "ev_3"
   ]
  },
  {
   "cell_type": "code",
   "execution_count": 83,
   "id": "44f6814c-e6b6-4952-b71d-9d44432ae379",
   "metadata": {
    "tags": []
   },
   "outputs": [
    {
     "name": "stdout",
     "output_type": "stream",
     "text": [
      "- \\frac{\\pi^{2}}{12}\n"
     ]
    },
    {
     "data": {
      "text/latex": [
       "$\\displaystyle - \\frac{\\pi^{2}}{12}$"
      ],
      "text/plain": [
       "-pi**2/12"
      ]
     },
     "execution_count": 83,
     "metadata": {},
     "output_type": "execute_result"
    }
   ],
   "source": [
    "ev_3_result=ev_3.doit()\n",
    "print_latex(ev_3_result)\n",
    "ev_3_result"
   ]
  },
  {
   "cell_type": "markdown",
   "id": "39ba2edb-380a-4b39-bd28-1499d7112c95",
   "metadata": {},
   "source": [
    "又例如，随机变量$X$的分布律`px_dist`如下定义，计算期望值为2.85。"
   ]
  },
  {
   "cell_type": "code",
   "execution_count": 99,
   "id": "07ebf67e-1f26-4351-8d67-a8f7665f8db9",
   "metadata": {
    "tags": []
   },
   "outputs": [
    {
     "data": {
      "text/html": [
       "<table border=\"1\" class=\"dataframe\">\n",
       "    <thead>\n",
       "        <tr>\n",
       "            <th>Value</th> <th>Probability</th>\n",
       "        </tr>\n",
       "    </thead>\n",
       "    <tbody>\n",
       "        <tr>\n",
       "            <td>1    </td> <td>0.15       </td>\n",
       "        </tr>\n",
       "        <tr>\n",
       "            <td>2    </td> <td>0.25       </td>\n",
       "        </tr>\n",
       "        <tr>\n",
       "            <td>3    </td> <td>0.3        </td>\n",
       "        </tr>\n",
       "        <tr>\n",
       "            <td>4    </td> <td>0.2        </td>\n",
       "        </tr>\n",
       "        <tr>\n",
       "            <td>5    </td> <td>0.1        </td>\n",
       "        </tr>\n",
       "    </tbody>\n",
       "</table>"
      ],
      "text/plain": [
       "Value | Probability\n",
       "1     | 0.15\n",
       "2     | 0.25\n",
       "3     | 0.3\n",
       "4     | 0.2\n",
       "5     | 0.1"
      ]
     },
     "execution_count": 99,
     "metadata": {},
     "output_type": "execute_result"
    }
   ],
   "source": [
    "x=np.arange(1, 6)\n",
    "probs=make_array(0.15, 0.25, 0.3, 0.2, 0.1)\n",
    "px_dist=Table().values(x).probabilities(probs)\n",
    "px_dist"
   ]
  },
  {
   "cell_type": "code",
   "execution_count": 103,
   "id": "4384b3bb-491f-445a-b9f4-12014eb13930",
   "metadata": {
    "tags": []
   },
   "outputs": [
    {
     "data": {
      "text/latex": [
       "$E(X)$=2.8500000000000005"
      ],
      "text/plain": [
       "<IPython.core.display.Latex object>"
      ]
     },
     "metadata": {},
     "output_type": "display_data"
    },
    {
     "data": {
      "image/png": "[encoded data removed]",
      "text/plain": [
       "<Figure size 640x480 with 1 Axes>"
      ]
     },
     "metadata": {},
     "output_type": "display_data"
    }
   ],
   "source": [
    "display(Latex(f'$E(X)$={px_table.ev()}')) # 同 sum(x*probs)\n",
    "Plot(px_dist,show_ev=True)"
   ]
  },
  {
   "cell_type": "markdown",
   "id": "3a8f78ce-e98b-479f-a7a8-a342b32befbd",
   "metadata": {},
   "source": [
    "离散型随机变量数学期望的定义可推广至连续型随机变量的情形。首先将连续性随机变量$X$的取值“离散化”，即将$X$的值域$\\Omega_X$分割成$n$份，记第$i$份为$\\left[x_i, x_i+\\Delta x_i\\right), i=1,2, \\cdots, n$，在每一个小区间，$X$的取值近似为$x_i$，相应的概率为$P\\left(x_i \\leqslant X<x_i+\\Delta x_i\\right)=\\int_{x_i}^{x_i+\\Delta x_i} f(x) \\mathrm{d} x \\approx f\\left(x_i\\right) \\Delta x_i$。$X$“离散化”后视为离散型随机变量，其分布律近似为，\n",
    "\n",
    "|  $X$ | $x_1 , x_2 , \\cdots,x_n , \\cdots$  |\n",
    "|---|---|\n",
    "| 概率  | $f\\left(x_1\\right) \\Delta x_1 , f\\left(x_2\\right) \\Delta x_2 \\quad \\ldots,f\\left(x_n\\right) \\Delta x_n \\quad \\ldots$  |\n",
    "\n",
    "则$X$的平均值近似为$\\sum_{i=1}^n x_i p_i \\approx \\sum_{i=1}^n x_i f\\left(x_i\\right) \\Delta x_i$，另$n$个小区间长度的最大值$\\lambda=\\max _{1 \\leqslant i \\leqslant n}\\left(\\Delta x_i\\right) \\rightarrow 0$，得到$X$的平均值精确为$\\lim _{\\lambda \\rightarrow 0} \\sum_{i=1}^n x_i p_i=\\lim _{\\lambda \\rightarrow 0} \\sum_{i=1}^n x_i f\\left(x_i\\right) \\Delta x_i=\\int_{-\\infty}^{+\\infty} x f(x) \\mathrm{d} x$，这就是连续型随机变量的数学期望。和离散型随机变量类似，要求$\\int_{-\\infty}^{+\\infty} x f(x) \\mathrm{d} x$绝对收敛。\n",
    "\n",
    "定义 2：设$X$是连续型随机变量，其密度函数为$f(x)$。如果广义积分$\\int_{-\\infty}^{+\\infty} x f(x) \\mathrm{d} x$绝对收敛，则称$E(X)=\\int_{-\\infty}^{+\\infty} x f(x) \\mathrm{d} x$为**连续型随机变量**$X$**的数学期望**，也称作**期望或均值**。\n",
    "\n",
    "例如，设随机变量$X$的密度函数为$f(x)=\\frac{1}{\\pi} \\cdot \\frac{1}{1+x^2},-\\infty<x<+\\infty$，由下述计算可知其$E(X)$不存在。"
   ]
  },
  {
   "cell_type": "code",
   "execution_count": 108,
   "id": "294ae87d-b376-44a2-a0d6-c1df45ad7c6f",
   "metadata": {
    "tags": []
   },
   "outputs": [
    {
     "data": {
      "text/latex": [
       "$\\displaystyle \\frac{1}{\\pi \\left(x^{2} + 1\\right)}$"
      ],
      "text/plain": [
       "1/(pi*(x**2 + 1))"
      ]
     },
     "execution_count": 108,
     "metadata": {},
     "output_type": "execute_result"
    }
   ],
   "source": [
    "# 定义密度函数\n",
    "density_1=1/pi*1/(1+x**2)\n",
    "density_1"
   ]
  },
  {
   "cell_type": "code",
   "execution_count": 116,
   "id": "a16db986-6fd7-4520-94a7-744fa689e831",
   "metadata": {
    "tags": []
   },
   "outputs": [
    {
     "name": "stdout",
     "output_type": "stream",
     "text": [
      "total area=1\n"
     ]
    },
    {
     "data": {
      "text/latex": [
       "$\\displaystyle \\int\\limits_{-\\infty}^{\\infty} \\frac{1}{\\pi \\left(x^{2} + 1\\right)}\\, dx$"
      ],
      "text/plain": [
       "Integral(1/(pi*(x**2 + 1)), (x, -oo, oo))"
      ]
     },
     "execution_count": 116,
     "metadata": {},
     "output_type": "execute_result"
    }
   ],
   "source": [
    "# 计算围合的总面积，满足规范性\n",
    "total_area_1=Integral(density_1,(x,-oo,+oo))\n",
    "print(f'total area={total_area_1.doit()}')\n",
    "total_area_1"
   ]
  },
  {
   "cell_type": "markdown",
   "id": "9f12641d-d91a-4275-aa20-47c8e371220a",
   "metadata": {},
   "source": [
    "通过计算期望，结果为`nan`，因此对于该案例的随机变量$X$，并不存在$E(X)$。"
   ]
  },
  {
   "cell_type": "code",
   "execution_count": 130,
   "id": "af90e8cc-1df7-4914-a047-3a4a504854b3",
   "metadata": {
    "tags": []
   },
   "outputs": [
    {
     "name": "stdout",
     "output_type": "stream",
     "text": [
      "nan\n"
     ]
    },
    {
     "data": {
      "text/latex": [
       "$\\displaystyle \\int\\limits_{-\\infty}^{\\infty} \\frac{x}{\\pi \\left(x^{2} + 1\\right)}\\, dx$"
      ],
      "text/plain": [
       "Integral(x/(pi*(x**2 + 1)), (x, -oo, oo))"
      ]
     },
     "execution_count": 130,
     "metadata": {},
     "output_type": "execute_result"
    }
   ],
   "source": [
    "# 定义期望\n",
    "expectation_1=Integral(x*density_1, (x, -oo,+oo))\n",
    "print(expectation_1.doit())\n",
    "expectation_1"
   ]
  },
  {
   "cell_type": "markdown",
   "id": "62edc4e1-b37c-40f9-b931-3978478483a6",
   "metadata": {},
   "source": [
    "* 随机变量函数的数学期望\n",
    "\n",
    "定理 1（**随机变量一元函数的期望公式**）：\n",
    "\n",
    "（1）设$X$是离散型随机变量，其分布律为$P\\left(X=x_i\\right)=p_i, i=1,2, \\cdots$，如果级数$\\sum_{i=1}^{\\infty} g\\left(x_i\\right) p_i$绝对收敛，则$X$的一元函数$Y=g(X)$的数学期望为$E[g(X)]=\\sum_{i=1}^{\\infty} g\\left(x_i\\right) p_i$。\n",
    "\n",
    "（2）设$X$是连续型随机变量，其密度函数为$f(x)$，如果广义积分$\\int_{-\\infty}^{+\\infty} g(x) f(x) \\mathrm{d} x$绝对收敛，则$X$的一元函数$Y=g(X)$的数学期望为$E[g(X)]=\\int_{-\\infty}^{+\\infty} g(x) f(x) \\mathrm{d} x$。\n",
    "\n",
    "定理 2（**随机变量二元函数的期望公式**）：\n",
    "\n",
    "（1）设$(X,Y)$是二维离散型随机变量，其联合分布律为$P\\left(X=x_i, Y=y_j\\right)=p_{i j}, i, j=1,2, \\cdots$，如果级数$\\sum_{i=1}^{\\infty} \\sum_{j=1}^{\\infty} g\\left(x_i, y_j\\right) p_{i j}$绝对收敛，则$(X,Y)$二元函数$g(X,Y)$的数学期望为$E[g(X, Y)]=\\sum_{i=1}^{\\infty} \\sum_{j=1}^{\\infty} g\\left(x_i, y_j\\right) p_{i j}$；特别地，$E(X)=\\sum_{i=1}^{\\infty} \\sum_{j=1}^{\\infty} x_i p_{i j}, E(Y)=\\sum_{i=1}^{\\infty} \\sum_{j=1}^{\\infty} y_j p_{i j} $。\n",
    "\n",
    "（2）设$(X,Y)$是二维连续型随机变量，其联合密度为$f(x,y)$。如果广义积分$\\int_{-\\infty}^{+\\infty} \\int_{-\\infty}^{+\\infty} g(x, y) f(x, y) \\mathrm{d} x \\mathrm{~d} y$绝对收敛，则$(X,Y)$的二元函数$g(X,Y)$的数学期望为$E[g(X, Y)]=\\int_{-\\infty}^{+\\infty} \\int_{-\\infty}^{+\\infty} g(x, y) f(x, y) \\mathrm{d} x \\mathrm{~d} y$；特别地，$E(X)=\\int_{-\\infty}^{+\\infty} \\int_{-\\infty}^{+\\infty} x f(x, y) \\mathrm{d} x \\mathrm{~d} y$，$E(Y)=\\int_{-\\infty}^{+\\infty} \\int_{-\\infty}^{+\\infty} y f(x, y) \\mathrm{d} x \\mathrm{~d} y$。\n",
    "\n",
    "* 数学期望的性质\n",
    "\n",
    "（1）设$c$为常数，则$E(c)=c$；\n",
    "\n",
    "（2）设$X$为随机变量，且$E(X)$存在，$k,c$为常数，则$E(kX+c)=kE(X)+c$；\n",
    "\n",
    "（3）设$X,Y$为任意两个随机变量，且$E(X)$和$E(Y)$存在，则$E(X+Y)=E(X)+E(Y)$；\n",
    "\n",
    "（4）设$X$与$Y$为相互独立的随机变量，且$E(X)$和$E(Y)$存在，则$E(XY)=E(X)E(Y)$。"
   ]
  },
  {
   "cell_type": "markdown",
   "id": "69e59062-744a-4243-bf44-f16d3674dcb0",
   "metadata": {},
   "source": [
    "* 方差和标准差\n",
    "\n",
    "定义 设$X$是一个随机变量，如果$E\\left\\{[X-E(X)]^2\\right\\}$存在，则称$D(X) \\triangleq E\\left\\{[X-E(X)]^2\\right\\}$为**随机变量**$X$**的方差**。称方差$D(X)$的算数平方根$\\sigma_X \\triangleq \\sqrt{D(X)}$为**随机变量**$X$**的标准差**。实际计算方差时，可用$D(X)=E(X)^2-[E(X)]^2$计算。\n",
    "\n",
    "定理 方差的性质\n",
    "\n",
    "（1）$D(X)=0$的充分必要条件是$P(X=c)=1$，即$X$服从参数为$c$的退化分布，其中$c=E(X)$。特别，若$c$为常数，则$D(c)=0$;\n",
    "\n",
    "（2）设$X$为随机变量，$k,c$为常数，则$D(k X+c)=k^2 D(X)$；\n",
    "\n",
    "（3）设$X,Y$为相互独立的随机变量，则$D(X \\pm Y)=D(X)+D(Y) \\pm 2 E\\{[X-E(X)][Y-E(Y)]\\}$；\n",
    "\n",
    "（4）设$X$与$Y$为相互独立的随机变量，则$D(X \\pm Y)=D(X)+D(Y)$。\n",
    "\n",
    "* 常用分布及其数学期望与方差\n",
    "\n",
    "|  $X  \\sim $  | 分布律或概率密度  |  $E(X)$  |  $D(X)$   |\n",
    "|---|---|---|---|\n",
    "| $$0-1$$分布  | $$P\\{X=k\\}=p^k q^{1-k}, k=0,1 \\\\0<p<1, p+q=1$$  | $p$  | $pq$  |\n",
    "| 二项分布$$B(n, p)$$  |  $$P\\{X=k\\}=\\left(\\begin{array}{l}n \\\\k\\end{array}\\right) p^k q^{n-k}, k=0,1, \\cdots, n, \\\\n \\geqslant 1,0<p<1, p+q=1$$ | $np$  | $npq$  |\n",
    "| 几何分布$$G(p)$$ | $$P\\{X=k\\}=p q^{k-1}, k=1,2, \\cdots \\\\0<p<1, p+q=1$$  | $\\frac{1}{p}$  | $\\frac{q}{p^2}$  |\n",
    "| 超几何分布$$H(n, M, N)$$  | $$P\\{X=k\\}=\\frac{\\left(\\begin{array}{c}M \\\\k\\end{array}\\right)\\left(\\begin{array}{c}N-M \\\\n-k\n",
    "\\end{array}\\right)}{\\left(\\begin{array}{l}N \\\\n\\end{array}\\right)}, k=0,1,2, \\cdots, \\min (n, M)$$  | $\\frac{nM}{N}$  | $\\frac{n M}{N}\\left(1-\\frac{M}{N}\\right)\\left(\\frac{N-n}{N-1}\\right) $  |\n",
    "| 泊松分布$$\\pi(\\lambda)$$  | $$P\\{X=k\\}=\\frac{\\lambda^k}{k !} \\mathrm{e}^{-\\lambda}, k=0,1,2, \\cdots, \\\\\\lambda>0$$  | $\\lambda$  | $\\lambda$  |\n",
    "| 均匀分布$$U(a, b)$$  | $$f(x)= \\begin{cases}\\frac{1}{b-a}, & a<x<b \\\\0, & \\text { 其他 }\\end{cases} $$  | $\\frac{a+b}{2}$  | $\\frac{(b-a)^2}{12}$  |\n",
    "| 指数分布$$E(\\lambda)$$  |  $$f(x)=\\left\\{\\begin{array}{ll}\\lambda \\mathrm{e}^{-\\lambda x}, & x>0, \\\\0, & x \\leqslant 0,\\end{array} \\quad \\lambda>0\\right.$$ | $\\frac{1}{\\lambda}$  |  $\\frac{1}{\\lambda^2}$  |\n",
    "| 正态分布$$N\\left(\\mu, \\sigma^2\\right)$$  | $$f(x)=\\frac{1}{\\sqrt{2 \\pi} \\sigma} \\mathrm{e}^{-\\frac{(x-\\mu)^2}{2 \\sigma^2}},-\\infty<x<+\\infty, \\quad \\sigma>0$$  |  $\\mu $ |  $ \\sigma^2$ |"
   ]
  },
  {
   "cell_type": "markdown",
   "id": "af8c49d8-3a5b-4c62-8140-e1bc1ac32490",
   "metadata": {},
   "source": [
    "* 切比雪夫不等式\n",
    "\n",
    "定理 （**切比雪夫不等式**），设随机变量$X$的数学期望$E(X)$与方差$D(X)$存在，则对于任意正数$\\varepsilon$，不等式$P\\{|X-E(X)| \\geqslant \\varepsilon\\} \\leqslant \\frac{D(X)}{\\varepsilon^2}$成立。切比雪夫不等式可书写为如下形式，$P\\{|X-E(X)|<\\varepsilon\\} \\geqslant 1-\\frac{D(X)}{\\varepsilon^2}$。这个不等式给出了在随机变量$X$的分布未知情况下，事件$\\{|X-E(X)| < \\varepsilon\\}$概率的下限估计。\n",
    "\n",
    "* 协方差和相关系数\n",
    "\n",
    "定义 1 设$(X,Y)$是二维随机变量，如果$E\\{[X-E(X)][Y-E(Y)]\\}$存在，则称$\\operatorname{cov}(X, Y) \\triangleq E\\{[X-E(X)][Y-E(Y)]\\}$为**随机变量**$X$**和**$Y$**的协方差**。实际计算协方差时，更多使用如下公式，$\\operatorname{cov}(X, Y)=E(X Y)-E(X) E(Y)$。\n",
    "\n",
    "定理 1（协方差的性质），设$X,Y,X_1,X_2$为任意的随机变量，$c,k,l$为常数，则有，\n",
    "\n",
    "（1）$\\operatorname{cov}(X, c)=0$；\n",
    "\n",
    "（2）$\\operatorname{cov}(X, Y)=\\operatorname{cov}(Y, X)$；\n",
    "\n",
    "（3）$\\operatorname{cov}(k X, l Y)=k l \\operatorname{cov}(X, Y)$；\n",
    "\n",
    "（4）$\\operatorname{cov}\\left(X_1+X_2, Y\\right)=\\operatorname{cov}\\left(X_1, Y\\right)+\\operatorname{cov}\\left(X_2, Y\\right) $。\n",
    "\n",
    "协方差考察了随机变量之间协同变化的关系，但为了避免量纲的影响，将随机变量标准化，$X^*=\\frac{X-E(X)}{\\sqrt{D(X)}}, Y^*=\\frac{Y-E(Y)}{\\sqrt{D(Y)}}$，再求协方差$\\operatorname{cov}\\left(X^*, Y^*\\right)$，就是随机变量$X$和$Y$的相关系数，又称为标准化协方差。因为$\\operatorname{cov}\\left(X^*, Y^*\\right)=E\\left(X^* Y^*\\right)=E\\left(\\frac{X-E(X)}{\\sqrt{D(X)}} \\cdot \\frac{Y-E(Y)}{\\sqrt{D(Y)}}\\right)=\\frac{\\operatorname{cov}(X, Y)}{\\sqrt{D(X)} \\sqrt{D(Y)}}$，所以定义相关系数如下。\n",
    "\n",
    "定义 2，设$(X<Y)$是二维随机变量，如果$cov(X,Y)$存在，且$D(X)>0,D(Y)>0$，则称$\\rho(X, Y)  \\triangleq \\frac{\\operatorname{cov}(X, Y)}{\\sqrt{D(X)} \\sqrt{D(Y)}}$为**随机变量**$X$**和**$Y$**的相关系数**，也记作$\\rho_{XY}$。\n",
    "\n",
    "定义 3，设$(X,Y)$是二维随机变量，当$\\rho_{XY}=0$时，称$X$与$Y$（线性）无关或（线性）不相关。\n",
    "\n",
    "定理 2，当$D(X)>0,D(Y)>0$时，下列5个命题是等价的：（1）$\\rho_{XY}=0$；（2）$cov(X,Y)=0$；（3）$E(XY)=E(X)E(Y)$；（4）$D(X+Y)=D(X)+D(Y)$；（5）$D(X-Y)=D(X)+D(Y)$。\n",
    "\n",
    "定理 2，相关系数的性质，设$(X,Y)$是二维随机变量，当$con(X,Y)$存在且$D(X)>0,D(Y)>0$时，有\n",
    "\n",
    "（1）$\\left|\\rho_{X Y}\\right| \\leqslant 1$；\n",
    "\n",
    "（2）$\\left|\\rho_{X Y}\\right|=1$的充要条件是$P(Y=aX+b)=1$，其中，\n",
    "\n",
    "当$\\rho_{XY}=1$时，$a=\\sqrt{\\frac{D(Y)}{D(X)}}, b=E(Y)-\\sqrt{\\frac{D(Y)}{D(X)}} E(X)$,\n",
    "\n",
    "当$\\rho_{XY}=-1$时，$a=-\\sqrt{\\frac{D(Y)}{D(X)}}, b=E(Y)+\\sqrt{\\frac{D(Y)}{D(X)}} E(X)$；\n",
    "\n",
    "（3）若随机变量$X$与$Y$相互独立，则$X$与$Y$线性无关，即$\\rho_{XY}=0$。但由$\\rho_{XY}=0$不能推断$X$与$Y$相互独立。\n",
    "\n",
    "定义 4，设二维随机变量$(X,Y)$的相关系数$\\rho_{XY}$存在，则\n",
    "\n",
    "当$\\left|\\rho_{X Y}\\right|=1$时，$(X,Y)$的取值$(x,y)$在直线$y=ax+b$上的概率为1，称$X$与$Y$完全线性相关；\n",
    "\n",
    "当$\\rho_{XY}=1$时，$(X,Y)$的取值$(x,y)$在斜率大于0的直线$y=ax+b$上的概率为1，称$X$与$Y$完全正线性相关；\n",
    "\n",
    "当$\\rho_{XY}=-1$时，$(X,Y)$的取值$(x,y)$在斜率小于0的直线$y=ax+b$上的概率为1，称$X$与$Y$完全负线性相关；\n",
    "\n",
    "当$\\rho_{XY}>0$时，称$X$与$Y$正线性相关；\n",
    "\n",
    "当$\\rho_{XY}<0$时，称$X$与$Y$负线性相关。\n",
    "\n",
    "定理 4，如果二维随机变量$(X,Y)$服从二维正态分布，则$X$与$Y$相互独立等价于$X$与$Y$不相关。"
   ]
  },
  {
   "cell_type": "markdown",
   "id": "4bb08973-d39a-44bc-8713-54e50fca3bb2",
   "metadata": {},
   "source": [
    "---"
   ]
  },
  {
   "cell_type": "markdown",
   "id": "aedb5e2e-17e3-4685-ade8-ffa543ed5170",
   "metadata": {},
   "source": [
    "概率论和图论是概率图的基础，图论的基础可以查看*复杂网络*部分，本章主要汇集概率论的基础知识点，并利用Python相关库介入计算。以《概率论与数理统计》<sup>[][]</sup>为主要参考书目；以[datascience](https://github.com/data-8/datascience)、[SymPy](https://docs.sympy.org/latest/index.html)为主要计算工具；结合加州大学伯克利分校（University of California（UC）, Berkeley）[数据科学的概率课程（Probability for Data Science）在线教材](http://prob140.org/textbook/content/README.html)整理书写。"
   ]
  },
  {
   "cell_type": "code",
   "execution_count": null,
   "id": "ca7bc6d3-38f0-4ea8-8c10-c9a6c594446f",
   "metadata": {},
   "outputs": [],
   "source": []
  },
  {
   "cell_type": "code",
   "execution_count": null,
   "id": "ac0e92cc-a441-49b6-9af4-90cbc0c72d25",
   "metadata": {},
   "outputs": [],
   "source": []
  },
  {
   "cell_type": "code",
   "execution_count": null,
   "id": "f8601f42-f6aa-4d8e-949a-eb3fce7b7931",
   "metadata": {},
   "outputs": [],
   "source": []
  },
  {
   "cell_type": "code",
   "execution_count": null,
   "id": "3e82b1d9-d0a7-4893-a86e-e7dc751e6795",
   "metadata": {},
   "outputs": [],
   "source": [
    "from datascience import *\n",
    "from prob140 import *"
   ]
  },
  {
   "cell_type": "code",
   "execution_count": null,
   "id": "54cae772-6b9d-45a4-9b06-5bde4649ab95",
   "metadata": {},
   "outputs": [],
   "source": []
  },
  {
   "cell_type": "code",
   "execution_count": null,
   "id": "6fc49aca-f5cd-4487-9c0a-f56342141a67",
   "metadata": {},
   "outputs": [],
   "source": []
  },
  {
   "cell_type": "code",
   "execution_count": null,
   "id": "eb045de7-8d19-4558-9224-1122a49fea4b",
   "metadata": {},
   "outputs": [],
   "source": []
  },
  {
   "cell_type": "code",
   "execution_count": null,
   "id": "f300d31f-90d8-490b-a681-674c62abad18",
   "metadata": {},
   "outputs": [],
   "source": []
  },
  {
   "cell_type": "code",
   "execution_count": null,
   "id": "b3b6219d-6d76-439c-8649-170c0747d8a7",
   "metadata": {},
   "outputs": [],
   "source": []
  }
 ],
 "metadata": {
  "kernelspec": {
   "display_name": "Python 3 (ipykernel)",
   "language": "python",
   "name": "python3"
  },
  "language_info": {
   "codemirror_mode": {
    "name": "ipython",
    "version": 3
   },
   "file_extension": ".py",
   "mimetype": "text/x-python",
   "name": "python",
   "nbconvert_exporter": "python",
   "pygments_lexer": "ipython3",
   "version": "3.9.16"
  }
 },
 "nbformat": 4,
 "nbformat_minor": 5
}
