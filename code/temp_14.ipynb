{
 "cells": [
  {
   "cell_type": "markdown",
   "id": "ca93c3a9-7447-4059-bd73-719d99cace98",
   "metadata": {},
   "source": [
    "### 3.6.2.3 Transformer"
   ]
  },
  {
   "cell_type": "code",
   "execution_count": null,
   "id": "0cbf4314-c9d8-4487-8018-b5740c53bc48",
   "metadata": {},
   "outputs": [],
   "source": []
  }
 ],
 "metadata": {
  "kernelspec": {
   "display_name": "Python 3 (ipykernel)",
   "language": "python",
   "name": "python3"
  },
  "language_info": {
   "codemirror_mode": {
    "name": "ipython",
    "version": 3
   },
   "file_extension": ".py",
   "mimetype": "text/x-python",
   "name": "python",
   "nbconvert_exporter": "python",
   "pygments_lexer": "ipython3",
   "version": "3.10.11"
  }
 },
 "nbformat": 4,
 "nbformat_minor": 5
}
