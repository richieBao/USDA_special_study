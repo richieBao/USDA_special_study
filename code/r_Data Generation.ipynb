{
 "cells": [
  {
   "cell_type": "markdown",
   "metadata": {},
   "source": [
    "# Data Generation\n",
    "\n",
    "Images are all taken from the [HiRISE Satellite](https://hirise.lpl.arizona.edu/). These images can be programatically downloaded using the script below. When run in full, the script can take over a day to run depending on your connection speed. It will download approximately 50,000 images (64 GB).\n",
    "\n",
    "The images are processed into 512x512 patches and saved individually. Using the full dataset will generate 644,000 images (64 GB). The image patches are then resized and saved at sizes 8x8, 16x16, 32x32, 64x64, 128x128 and 256x256. This is not necessary, but speeds up training of a progressive GAN. The sizes of the downscaled files range from 1.9 GB for the 8x8 dataset to 18 GB for the 256x256 dataset."
   ]
  },
  {
   "cell_type": "code",
   "execution_count": 1,
   "metadata": {
    "tags": []
   },
   "outputs": [],
   "source": [
    "%reload_ext autoreload\n",
    "%autoreload 2\n",
    "%matplotlib inline"
   ]
  },
  {
   "cell_type": "code",
   "execution_count": 1,
   "metadata": {
    "tags": []
   },
   "outputs": [],
   "source": [
    "from fastai import *\n",
    "from fastai.vision import *\n",
    "import requests\n",
    "from bs4 import BeautifulSoup\n",
    "\n",
    "from torchvision.datasets.utils import download_url"
   ]
  },
  {
   "cell_type": "code",
   "execution_count": 8,
   "metadata": {
    "tags": []
   },
   "outputs": [],
   "source": [
    "image_path = 'I:\\data\\mars' # path to save destination\n",
    "\n",
    "url = 'https://hirise-pds.lpl.arizona.edu/PDS/EXTRAS/RDR/ESP/'\n",
    "r = requests.get(url)\n",
    "html = BeautifulSoup(r.content, \"html.parser\")\n",
    "a = html.findAll('a') # anchor elements are all folders "
   ]
  },
  {
   "cell_type": "code",
   "execution_count": 26,
   "metadata": {
    "tags": []
   },
   "outputs": [
    {
     "name": "stdout",
     "output_type": "stream",
     "text": [
      "-------------------------------------------------- ORB_011200_011299/\n",
      "ESP_011261_1960/\n",
      "Using downloaded and verified file: I:\\data\\mars\\ESP_011261_1960_RGB.NOMAP.browse.jpg\n",
      "ESP_011264_1090/\n",
      "Downloading https://hirise-pds.lpl.arizona.edu/PDS/EXTRAS/RDR/ESP/ORB_011200_011299/ESP_011264_1090/ESP_011264_1090_RGB.NOMAP.browse.jpg to I:\\data\\mars\\ESP_011264_1090_RGB.NOMAP.browse.jpg\n"
     ]
    },
    {
     "data": {
      "application/vnd.jupyter.widget-view+json": {
       "model_id": "6a84ca174b484556a6b8b843ec2faa9a",
       "version_major": 2,
       "version_minor": 0
      },
      "text/plain": [
       "  0%|          | 0/3091575 [00:00<?, ?it/s]"
      ]
     },
     "metadata": {},
     "output_type": "display_data"
    },
    {
     "name": "stdout",
     "output_type": "stream",
     "text": [
      "ESP_011265_1560/\n",
      "Downloading https://hirise-pds.lpl.arizona.edu/PDS/EXTRAS/RDR/ESP/ORB_011200_011299/ESP_011265_1560/ESP_011265_1560_RGB.NOMAP.browse.jpg to I:\\data\\mars\\ESP_011265_1560_RGB.NOMAP.browse.jpg\n"
     ]
    },
    {
     "data": {
      "application/vnd.jupyter.widget-view+json": {
       "model_id": "7ee8dd12ad6d48adb7454118b233d17d",
       "version_major": 2,
       "version_minor": 0
      },
      "text/plain": [
       "  0%|          | 0/2248057 [00:00<?, ?it/s]"
      ]
     },
     "metadata": {},
     "output_type": "display_data"
    },
    {
     "name": "stdout",
     "output_type": "stream",
     "text": [
      "ESP_011268_2485/\n",
      "Downloading https://hirise-pds.lpl.arizona.edu/PDS/EXTRAS/RDR/ESP/ORB_011200_011299/ESP_011268_2485/ESP_011268_2485_RGB.NOMAP.browse.jpg to I:\\data\\mars\\ESP_011268_2485_RGB.NOMAP.browse.jpg\n"
     ]
    },
    {
     "data": {
      "application/vnd.jupyter.widget-view+json": {
       "model_id": "1919d131aedb44efb6155da5d38f3c00",
       "version_major": 2,
       "version_minor": 0
      },
      "text/plain": [
       "  0%|          | 0/3110721 [00:00<?, ?it/s]"
      ]
     },
     "metadata": {},
     "output_type": "display_data"
    },
    {
     "name": "stdout",
     "output_type": "stream",
     "text": [
      "ESP_011273_1925/\n",
      "Downloading https://hirise-pds.lpl.arizona.edu/PDS/EXTRAS/RDR/ESP/ORB_011200_011299/ESP_011273_1925/ESP_011273_1925_RGB.NOMAP.browse.jpg to I:\\data\\mars\\ESP_011273_1925_RGB.NOMAP.browse.jpg\n"
     ]
    },
    {
     "data": {
      "application/vnd.jupyter.widget-view+json": {
       "model_id": "ad204a120cd844a8adf6d49779361e1c",
       "version_major": 2,
       "version_minor": 0
      },
      "text/plain": [
       "  0%|          | 0/1314114 [00:00<?, ?it/s]"
      ]
     },
     "metadata": {},
     "output_type": "display_data"
    },
    {
     "name": "stdout",
     "output_type": "stream",
     "text": [
      "ESP_011277_1825/\n",
      "Downloading https://hirise-pds.lpl.arizona.edu/PDS/EXTRAS/RDR/ESP/ORB_011200_011299/ESP_011277_1825/ESP_011277_1825_RGB.NOMAP.browse.jpg to I:\\data\\mars\\ESP_011277_1825_RGB.NOMAP.browse.jpg\n"
     ]
    },
    {
     "data": {
      "application/vnd.jupyter.widget-view+json": {
       "model_id": "591c55e424d9424aaee1bf7b5d1f9174",
       "version_major": 2,
       "version_minor": 0
      },
      "text/plain": [
       "  0%|          | 0/2024770 [00:00<?, ?it/s]"
      ]
     },
     "metadata": {},
     "output_type": "display_data"
    },
    {
     "name": "stdout",
     "output_type": "stream",
     "text": [
      "ESP_011279_1850/\n",
      "Downloading https://hirise-pds.lpl.arizona.edu/PDS/EXTRAS/RDR/ESP/ORB_011200_011299/ESP_011279_1850/ESP_011279_1850_RGB.NOMAP.browse.jpg to I:\\data\\mars\\ESP_011279_1850_RGB.NOMAP.browse.jpg\n"
     ]
    },
    {
     "data": {
      "application/vnd.jupyter.widget-view+json": {
       "model_id": "2e5e111037eb4428abaeff3c4dd20549",
       "version_major": 2,
       "version_minor": 0
      },
      "text/plain": [
       "  0%|          | 0/1914792 [00:00<?, ?it/s]"
      ]
     },
     "metadata": {},
     "output_type": "display_data"
    },
    {
     "name": "stdout",
     "output_type": "stream",
     "text": [
      "ESP_011282_1975/\n",
      "Downloading https://hirise-pds.lpl.arizona.edu/PDS/EXTRAS/RDR/ESP/ORB_011200_011299/ESP_011282_1975/ESP_011282_1975_RGB.NOMAP.browse.jpg to I:\\data\\mars\\ESP_011282_1975_RGB.NOMAP.browse.jpg\n"
     ]
    },
    {
     "data": {
      "application/vnd.jupyter.widget-view+json": {
       "model_id": "e5fa2b9ba7b74322829dec669efa4a35",
       "version_major": 2,
       "version_minor": 0
      },
      "text/plain": [
       "  0%|          | 0/2140977 [00:00<?, ?it/s]"
      ]
     },
     "metadata": {},
     "output_type": "display_data"
    },
    {
     "name": "stdout",
     "output_type": "stream",
     "text": [
      "ESP_011283_2265/\n",
      "Downloading https://hirise-pds.lpl.arizona.edu/PDS/EXTRAS/RDR/ESP/ORB_011200_011299/ESP_011283_2265/ESP_011283_2265_RGB.NOMAP.browse.jpg to I:\\data\\mars\\ESP_011283_2265_RGB.NOMAP.browse.jpg\n"
     ]
    },
    {
     "data": {
      "application/vnd.jupyter.widget-view+json": {
       "model_id": "1dea5f8afa614a4b9b720efdef72c95f",
       "version_major": 2,
       "version_minor": 0
      },
      "text/plain": [
       "  0%|          | 0/2009376 [00:00<?, ?it/s]"
      ]
     },
     "metadata": {},
     "output_type": "display_data"
    },
    {
     "name": "stdout",
     "output_type": "stream",
     "text": [
      "ESP_011286_2200/\n",
      "Downloading https://hirise-pds.lpl.arizona.edu/PDS/EXTRAS/RDR/ESP/ORB_011200_011299/ESP_011286_2200/ESP_011286_2200_RGB.NOMAP.browse.jpg to I:\\data\\mars\\ESP_011286_2200_RGB.NOMAP.browse.jpg\n"
     ]
    },
    {
     "data": {
      "application/vnd.jupyter.widget-view+json": {
       "model_id": "91d9e5ed67c34f4192439e63051263af",
       "version_major": 2,
       "version_minor": 0
      },
      "text/plain": [
       "  0%|          | 0/1367954 [00:00<?, ?it/s]"
      ]
     },
     "metadata": {},
     "output_type": "display_data"
    },
    {
     "name": "stdout",
     "output_type": "stream",
     "text": [
      "ESP_011287_2165/\n",
      "Downloading https://hirise-pds.lpl.arizona.edu/PDS/EXTRAS/RDR/ESP/ORB_011200_011299/ESP_011287_2165/ESP_011287_2165_RGB.NOMAP.browse.jpg to I:\\data\\mars\\ESP_011287_2165_RGB.NOMAP.browse.jpg\n"
     ]
    },
    {
     "data": {
      "application/vnd.jupyter.widget-view+json": {
       "model_id": "2c840861828143d1acbe27e968e70c57",
       "version_major": 2,
       "version_minor": 0
      },
      "text/plain": [
       "  0%|          | 0/2234406 [00:00<?, ?it/s]"
      ]
     },
     "metadata": {},
     "output_type": "display_data"
    },
    {
     "name": "stdout",
     "output_type": "stream",
     "text": [
      "ESP_011288_1675/\n",
      "Downloading https://hirise-pds.lpl.arizona.edu/PDS/EXTRAS/RDR/ESP/ORB_011200_011299/ESP_011288_1675/ESP_011288_1675_RGB.NOMAP.browse.jpg to I:\\data\\mars\\ESP_011288_1675_RGB.NOMAP.browse.jpg\n"
     ]
    },
    {
     "data": {
      "application/vnd.jupyter.widget-view+json": {
       "model_id": "ea8c15bd63e74c788e45662edebf63a8",
       "version_major": 2,
       "version_minor": 0
      },
      "text/plain": [
       "  0%|          | 0/939513 [00:00<?, ?it/s]"
      ]
     },
     "metadata": {},
     "output_type": "display_data"
    },
    {
     "name": "stdout",
     "output_type": "stream",
     "text": [
      "ESP_011289_1950/\n",
      "Downloading https://hirise-pds.lpl.arizona.edu/PDS/EXTRAS/RDR/ESP/ORB_011200_011299/ESP_011289_1950/ESP_011289_1950_RGB.NOMAP.browse.jpg to I:\\data\\mars\\ESP_011289_1950_RGB.NOMAP.browse.jpg\n"
     ]
    },
    {
     "data": {
      "application/vnd.jupyter.widget-view+json": {
       "model_id": "b5c87223d4424a4dbc6d5fb3fdd4fa37",
       "version_major": 2,
       "version_minor": 0
      },
      "text/plain": [
       "  0%|          | 0/645811 [00:00<?, ?it/s]"
      ]
     },
     "metadata": {},
     "output_type": "display_data"
    },
    {
     "name": "stdout",
     "output_type": "stream",
     "text": [
      "ESP_011290_1800/\n",
      "Downloading https://hirise-pds.lpl.arizona.edu/PDS/EXTRAS/RDR/ESP/ORB_011200_011299/ESP_011290_1800/ESP_011290_1800_RGB.NOMAP.browse.jpg to I:\\data\\mars\\ESP_011290_1800_RGB.NOMAP.browse.jpg\n"
     ]
    },
    {
     "data": {
      "application/vnd.jupyter.widget-view+json": {
       "model_id": "4bcbbeff83e54fb7bfa0ce9ea9ca6161",
       "version_major": 2,
       "version_minor": 0
      },
      "text/plain": [
       "  0%|          | 0/1219581 [00:00<?, ?it/s]"
      ]
     },
     "metadata": {},
     "output_type": "display_data"
    },
    {
     "name": "stdout",
     "output_type": "stream",
     "text": [
      "ESP_011291_1680/\n",
      "Downloading https://hirise-pds.lpl.arizona.edu/PDS/EXTRAS/RDR/ESP/ORB_011200_011299/ESP_011291_1680/ESP_011291_1680_RGB.NOMAP.browse.jpg to I:\\data\\mars\\ESP_011291_1680_RGB.NOMAP.browse.jpg\n"
     ]
    },
    {
     "data": {
      "application/vnd.jupyter.widget-view+json": {
       "model_id": "7c3b7f4a29a04cd29519cd9a1f5d7c55",
       "version_major": 2,
       "version_minor": 0
      },
      "text/plain": [
       "  0%|          | 0/1632268 [00:00<?, ?it/s]"
      ]
     },
     "metadata": {},
     "output_type": "display_data"
    },
    {
     "name": "stdout",
     "output_type": "stream",
     "text": [
      "ESP_011292_1720/\n",
      "Downloading https://hirise-pds.lpl.arizona.edu/PDS/EXTRAS/RDR/ESP/ORB_011200_011299/ESP_011292_1720/ESP_011292_1720_RGB.NOMAP.browse.jpg to I:\\data\\mars\\ESP_011292_1720_RGB.NOMAP.browse.jpg\n"
     ]
    },
    {
     "data": {
      "application/vnd.jupyter.widget-view+json": {
       "model_id": "f0ca562482d141c0ae528dad114114a7",
       "version_major": 2,
       "version_minor": 0
      },
      "text/plain": [
       "  0%|          | 0/1218983 [00:00<?, ?it/s]"
      ]
     },
     "metadata": {},
     "output_type": "display_data"
    },
    {
     "name": "stdout",
     "output_type": "stream",
     "text": [
      "ESP_011293_1710/\n",
      "Downloading https://hirise-pds.lpl.arizona.edu/PDS/EXTRAS/RDR/ESP/ORB_011200_011299/ESP_011293_1710/ESP_011293_1710_RGB.NOMAP.browse.jpg to I:\\data\\mars\\ESP_011293_1710_RGB.NOMAP.browse.jpg\n"
     ]
    },
    {
     "data": {
      "application/vnd.jupyter.widget-view+json": {
       "model_id": "c816bca762604ff3880a1f200fb5d317",
       "version_major": 2,
       "version_minor": 0
      },
      "text/plain": [
       "  0%|          | 0/1120771 [00:00<?, ?it/s]"
      ]
     },
     "metadata": {},
     "output_type": "display_data"
    },
    {
     "name": "stdout",
     "output_type": "stream",
     "text": [
      "ESP_011295_2205/\n",
      "Downloading https://hirise-pds.lpl.arizona.edu/PDS/EXTRAS/RDR/ESP/ORB_011200_011299/ESP_011295_2205/ESP_011295_2205_RGB.NOMAP.browse.jpg to I:\\data\\mars\\ESP_011295_2205_RGB.NOMAP.browse.jpg\n"
     ]
    },
    {
     "data": {
      "application/vnd.jupyter.widget-view+json": {
       "model_id": "e2795d2bc85849f0985dad4fe2ea5f54",
       "version_major": 2,
       "version_minor": 0
      },
      "text/plain": [
       "  0%|          | 0/1349670 [00:00<?, ?it/s]"
      ]
     },
     "metadata": {},
     "output_type": "display_data"
    },
    {
     "name": "stdout",
     "output_type": "stream",
     "text": [
      "ESP_011296_0975/\n",
      "Downloading https://hirise-pds.lpl.arizona.edu/PDS/EXTRAS/RDR/ESP/ORB_011200_011299/ESP_011296_0975/ESP_011296_0975_RGB.NOMAP.browse.jpg to I:\\data\\mars\\ESP_011296_0975_RGB.NOMAP.browse.jpg\n"
     ]
    },
    {
     "data": {
      "application/vnd.jupyter.widget-view+json": {
       "model_id": "6f2746f9a7a641fa8f91afdcf6e5018b",
       "version_major": 2,
       "version_minor": 0
      },
      "text/plain": [
       "  0%|          | 0/6864987 [00:00<?, ?it/s]"
      ]
     },
     "metadata": {},
     "output_type": "display_data"
    },
    {
     "name": "stdout",
     "output_type": "stream",
     "text": [
      "-------------------------------------------------- ORB_011300_011399/\n",
      "ESP_011304_1825/\n",
      "Downloading https://hirise-pds.lpl.arizona.edu/PDS/EXTRAS/RDR/ESP/ORB_011300_011399/ESP_011304_1825/ESP_011304_1825_RGB.NOMAP.browse.jpg to I:\\data\\mars\\ESP_011304_1825_RGB.NOMAP.browse.jpg\n"
     ]
    },
    {
     "data": {
      "application/vnd.jupyter.widget-view+json": {
       "model_id": "6b8683680a0940b0914d140754629da8",
       "version_major": 2,
       "version_minor": 0
      },
      "text/plain": [
       "  0%|          | 0/1157065 [00:00<?, ?it/s]"
      ]
     },
     "metadata": {},
     "output_type": "display_data"
    },
    {
     "name": "stdout",
     "output_type": "stream",
     "text": [
      "ESP_011310_1395/\n",
      "Downloading https://hirise-pds.lpl.arizona.edu/PDS/EXTRAS/RDR/ESP/ORB_011300_011399/ESP_011310_1395/ESP_011310_1395_RGB.NOMAP.browse.jpg to I:\\data\\mars\\ESP_011310_1395_RGB.NOMAP.browse.jpg\n"
     ]
    },
    {
     "data": {
      "application/vnd.jupyter.widget-view+json": {
       "model_id": "2763d7e4f4ba4334b5ea22913455febb",
       "version_major": 2,
       "version_minor": 0
      },
      "text/plain": [
       "  0%|          | 0/1444825 [00:00<?, ?it/s]"
      ]
     },
     "metadata": {},
     "output_type": "display_data"
    },
    {
     "name": "stdout",
     "output_type": "stream",
     "text": [
      "ESP_011313_1900/\n",
      "Downloading https://hirise-pds.lpl.arizona.edu/PDS/EXTRAS/RDR/ESP/ORB_011300_011399/ESP_011313_1900/ESP_011313_1900_RGB.NOMAP.browse.jpg to I:\\data\\mars\\ESP_011313_1900_RGB.NOMAP.browse.jpg\n"
     ]
    },
    {
     "data": {
      "application/vnd.jupyter.widget-view+json": {
       "model_id": "b184c751c1dc4ed396623994d1cc8751",
       "version_major": 2,
       "version_minor": 0
      },
      "text/plain": [
       "  0%|          | 0/1333886 [00:00<?, ?it/s]"
      ]
     },
     "metadata": {},
     "output_type": "display_data"
    },
    {
     "name": "stdout",
     "output_type": "stream",
     "text": [
      "ESP_011314_1585/\n",
      "Downloading https://hirise-pds.lpl.arizona.edu/PDS/EXTRAS/RDR/ESP/ORB_011300_011399/ESP_011314_1585/ESP_011314_1585_RGB.NOMAP.browse.jpg to I:\\data\\mars\\ESP_011314_1585_RGB.NOMAP.browse.jpg\n"
     ]
    },
    {
     "data": {
      "application/vnd.jupyter.widget-view+json": {
       "model_id": "b1d88e2fb42b4579ae12c1c81fa57647",
       "version_major": 2,
       "version_minor": 0
      },
      "text/plain": [
       "  0%|          | 0/1244038 [00:00<?, ?it/s]"
      ]
     },
     "metadata": {},
     "output_type": "display_data"
    },
    {
     "name": "stdout",
     "output_type": "stream",
     "text": [
      "ESP_011317_1665/\n",
      "Downloading https://hirise-pds.lpl.arizona.edu/PDS/EXTRAS/RDR/ESP/ORB_011300_011399/ESP_011317_1665/ESP_011317_1665_RGB.NOMAP.browse.jpg to I:\\data\\mars\\ESP_011317_1665_RGB.NOMAP.browse.jpg\n"
     ]
    },
    {
     "data": {
      "application/vnd.jupyter.widget-view+json": {
       "model_id": "69a9341d52884dcc97f1ab9be82fd910",
       "version_major": 2,
       "version_minor": 0
      },
      "text/plain": [
       "  0%|          | 0/1460810 [00:00<?, ?it/s]"
      ]
     },
     "metadata": {},
     "output_type": "display_data"
    },
    {
     "name": "stdout",
     "output_type": "stream",
     "text": [
      "ESP_011319_1305/\n",
      "Downloading https://hirise-pds.lpl.arizona.edu/PDS/EXTRAS/RDR/ESP/ORB_011300_011399/ESP_011319_1305/ESP_011319_1305_RGB.NOMAP.browse.jpg to I:\\data\\mars\\ESP_011319_1305_RGB.NOMAP.browse.jpg\n"
     ]
    },
    {
     "data": {
      "application/vnd.jupyter.widget-view+json": {
       "model_id": "9564d65979ef4225b2eb7393de87a009",
       "version_major": 2,
       "version_minor": 0
      },
      "text/plain": [
       "  0%|          | 0/2416016 [00:00<?, ?it/s]"
      ]
     },
     "metadata": {},
     "output_type": "display_data"
    },
    {
     "name": "stdout",
     "output_type": "stream",
     "text": [
      "ESP_011319_2100/\n",
      "Downloading https://hirise-pds.lpl.arizona.edu/PDS/EXTRAS/RDR/ESP/ORB_011300_011399/ESP_011319_2100/ESP_011319_2100_RGB.NOMAP.browse.jpg to I:\\data\\mars\\ESP_011319_2100_RGB.NOMAP.browse.jpg\n"
     ]
    },
    {
     "data": {
      "application/vnd.jupyter.widget-view+json": {
       "model_id": "f8c3277a4ca945379bb8e35e5b134348",
       "version_major": 2,
       "version_minor": 0
      },
      "text/plain": [
       "  0%|          | 0/1350873 [00:00<?, ?it/s]"
      ]
     },
     "metadata": {},
     "output_type": "display_data"
    },
    {
     "name": "stdout",
     "output_type": "stream",
     "text": [
      "ESP_011321_1335/\n",
      "Downloading https://hirise-pds.lpl.arizona.edu/PDS/EXTRAS/RDR/ESP/ORB_011300_011399/ESP_011321_1335/ESP_011321_1335_RGB.NOMAP.browse.jpg to I:\\data\\mars\\ESP_011321_1335_RGB.NOMAP.browse.jpg\n"
     ]
    },
    {
     "data": {
      "application/vnd.jupyter.widget-view+json": {
       "model_id": "04607334a9f74479ad4f0cda1b82e545",
       "version_major": 2,
       "version_minor": 0
      },
      "text/plain": [
       "  0%|          | 0/1965206 [00:00<?, ?it/s]"
      ]
     },
     "metadata": {},
     "output_type": "display_data"
    },
    {
     "name": "stdout",
     "output_type": "stream",
     "text": [
      "ESP_011323_2265/\n",
      "Downloading https://hirise-pds.lpl.arizona.edu/PDS/EXTRAS/RDR/ESP/ORB_011300_011399/ESP_011323_2265/ESP_011323_2265_RGB.NOMAP.browse.jpg to I:\\data\\mars\\ESP_011323_2265_RGB.NOMAP.browse.jpg\n"
     ]
    },
    {
     "data": {
      "application/vnd.jupyter.widget-view+json": {
       "model_id": "0b21924461bf4961b8a3fefd88af4475",
       "version_major": 2,
       "version_minor": 0
      },
      "text/plain": [
       "  0%|          | 0/1584836 [00:00<?, ?it/s]"
      ]
     },
     "metadata": {},
     "output_type": "display_data"
    },
    {
     "name": "stdout",
     "output_type": "stream",
     "text": [
      "ESP_011324_1320/\n",
      "Downloading https://hirise-pds.lpl.arizona.edu/PDS/EXTRAS/RDR/ESP/ORB_011300_011399/ESP_011324_1320/ESP_011324_1320_RGB.NOMAP.browse.jpg to I:\\data\\mars\\ESP_011324_1320_RGB.NOMAP.browse.jpg\n"
     ]
    },
    {
     "data": {
      "application/vnd.jupyter.widget-view+json": {
       "model_id": "845b7c471a594e9991e347811a92952d",
       "version_major": 2,
       "version_minor": 0
      },
      "text/plain": [
       "  0%|          | 0/2754845 [00:00<?, ?it/s]"
      ]
     },
     "metadata": {},
     "output_type": "display_data"
    },
    {
     "name": "stdout",
     "output_type": "stream",
     "text": [
      "ESP_011325_1845/\n",
      "Downloading https://hirise-pds.lpl.arizona.edu/PDS/EXTRAS/RDR/ESP/ORB_011300_011399/ESP_011325_1845/ESP_011325_1845_RGB.NOMAP.browse.jpg to I:\\data\\mars\\ESP_011325_1845_RGB.NOMAP.browse.jpg\n"
     ]
    },
    {
     "data": {
      "application/vnd.jupyter.widget-view+json": {
       "model_id": "5e38e4fc309e4055a75466e56b4ade68",
       "version_major": 2,
       "version_minor": 0
      },
      "text/plain": [
       "  0%|          | 0/1273244 [00:00<?, ?it/s]"
      ]
     },
     "metadata": {},
     "output_type": "display_data"
    },
    {
     "name": "stdout",
     "output_type": "stream",
     "text": [
      "ESP_011326_1700/\n",
      "Downloading https://hirise-pds.lpl.arizona.edu/PDS/EXTRAS/RDR/ESP/ORB_011300_011399/ESP_011326_1700/ESP_011326_1700_RGB.NOMAP.browse.jpg to I:\\data\\mars\\ESP_011326_1700_RGB.NOMAP.browse.jpg\n"
     ]
    },
    {
     "data": {
      "application/vnd.jupyter.widget-view+json": {
       "model_id": "0eec6c8b918e4da98207561a6ce58e24",
       "version_major": 2,
       "version_minor": 0
      },
      "text/plain": [
       "  0%|          | 0/557502 [00:00<?, ?it/s]"
      ]
     },
     "metadata": {},
     "output_type": "display_data"
    },
    {
     "name": "stdout",
     "output_type": "stream",
     "text": [
      "ESP_011327_1530/\n",
      "Downloading https://hirise-pds.lpl.arizona.edu/PDS/EXTRAS/RDR/ESP/ORB_011300_011399/ESP_011327_1530/ESP_011327_1530_RGB.NOMAP.browse.jpg to I:\\data\\mars\\ESP_011327_1530_RGB.NOMAP.browse.jpg\n"
     ]
    },
    {
     "data": {
      "application/vnd.jupyter.widget-view+json": {
       "model_id": "db498fa9f2e34efd97fcf33b08cf1e5f",
       "version_major": 2,
       "version_minor": 0
      },
      "text/plain": [
       "  0%|          | 0/1097847 [00:00<?, ?it/s]"
      ]
     },
     "metadata": {},
     "output_type": "display_data"
    },
    {
     "name": "stdout",
     "output_type": "stream",
     "text": [
      "ESP_011327_1980/\n",
      "Downloading https://hirise-pds.lpl.arizona.edu/PDS/EXTRAS/RDR/ESP/ORB_011300_011399/ESP_011327_1980/ESP_011327_1980_RGB.NOMAP.browse.jpg to I:\\data\\mars\\ESP_011327_1980_RGB.NOMAP.browse.jpg\n"
     ]
    },
    {
     "data": {
      "application/vnd.jupyter.widget-view+json": {
       "model_id": "feb212514e4c46caa82ded14cb29a976",
       "version_major": 2,
       "version_minor": 0
      },
      "text/plain": [
       "  0%|          | 0/1605659 [00:00<?, ?it/s]"
      ]
     },
     "metadata": {},
     "output_type": "display_data"
    },
    {
     "name": "stdout",
     "output_type": "stream",
     "text": [
      "ESP_011331_1560/\n",
      "Downloading https://hirise-pds.lpl.arizona.edu/PDS/EXTRAS/RDR/ESP/ORB_011300_011399/ESP_011331_1560/ESP_011331_1560_RGB.NOMAP.browse.jpg to I:\\data\\mars\\ESP_011331_1560_RGB.NOMAP.browse.jpg\n"
     ]
    },
    {
     "data": {
      "application/vnd.jupyter.widget-view+json": {
       "model_id": "b351e60bfd554b7ab68e6a59defce6d9",
       "version_major": 2,
       "version_minor": 0
      },
      "text/plain": [
       "  0%|          | 0/1584941 [00:00<?, ?it/s]"
      ]
     },
     "metadata": {},
     "output_type": "display_data"
    },
    {
     "name": "stdout",
     "output_type": "stream",
     "text": [
      "ESP_011335_1005/\n",
      "Downloading https://hirise-pds.lpl.arizona.edu/PDS/EXTRAS/RDR/ESP/ORB_011300_011399/ESP_011335_1005/ESP_011335_1005_RGB.NOMAP.browse.jpg to I:\\data\\mars\\ESP_011335_1005_RGB.NOMAP.browse.jpg\n"
     ]
    },
    {
     "data": {
      "application/vnd.jupyter.widget-view+json": {
       "model_id": "e2ed81577c4b48039440764237d360db",
       "version_major": 2,
       "version_minor": 0
      },
      "text/plain": [
       "  0%|          | 0/1778405 [00:00<?, ?it/s]"
      ]
     },
     "metadata": {},
     "output_type": "display_data"
    },
    {
     "name": "stdout",
     "output_type": "stream",
     "text": [
      "ESP_011337_2360/\n",
      "Downloading https://hirise-pds.lpl.arizona.edu/PDS/EXTRAS/RDR/ESP/ORB_011300_011399/ESP_011337_2360/ESP_011337_2360_RGB.NOMAP.browse.jpg to I:\\data\\mars\\ESP_011337_2360_RGB.NOMAP.browse.jpg\n"
     ]
    },
    {
     "data": {
      "application/vnd.jupyter.widget-view+json": {
       "model_id": "64938a980aa1474bb3c15cf0394e6ad3",
       "version_major": 2,
       "version_minor": 0
      },
      "text/plain": [
       "  0%|          | 0/524258 [00:00<?, ?it/s]"
      ]
     },
     "metadata": {},
     "output_type": "display_data"
    },
    {
     "name": "stdout",
     "output_type": "stream",
     "text": [
      "ESP_011338_1270/\n",
      "Downloading https://hirise-pds.lpl.arizona.edu/PDS/EXTRAS/RDR/ESP/ORB_011300_011399/ESP_011338_1270/ESP_011338_1270_RGB.NOMAP.browse.jpg to I:\\data\\mars\\ESP_011338_1270_RGB.NOMAP.browse.jpg\n"
     ]
    },
    {
     "data": {
      "application/vnd.jupyter.widget-view+json": {
       "model_id": "6f1a8ff0aa5c4a7abf9ec97e1034956c",
       "version_major": 2,
       "version_minor": 0
      },
      "text/plain": [
       "  0%|          | 0/1057821 [00:00<?, ?it/s]"
      ]
     },
     "metadata": {},
     "output_type": "display_data"
    },
    {
     "name": "stdout",
     "output_type": "stream",
     "text": [
      "ESP_011339_1665/\n",
      "Downloading https://hirise-pds.lpl.arizona.edu/PDS/EXTRAS/RDR/ESP/ORB_011300_011399/ESP_011339_1665/ESP_011339_1665_RGB.NOMAP.browse.jpg to I:\\data\\mars\\ESP_011339_1665_RGB.NOMAP.browse.jpg\n"
     ]
    },
    {
     "data": {
      "application/vnd.jupyter.widget-view+json": {
       "model_id": "8b96fc65ce374717ad74dea9873e9411",
       "version_major": 2,
       "version_minor": 0
      },
      "text/plain": [
       "  0%|          | 0/879537 [00:00<?, ?it/s]"
      ]
     },
     "metadata": {},
     "output_type": "display_data"
    },
    {
     "name": "stdout",
     "output_type": "stream",
     "text": [
      "ESP_011341_0980/\n",
      "Downloading https://hirise-pds.lpl.arizona.edu/PDS/EXTRAS/RDR/ESP/ORB_011300_011399/ESP_011341_0980/ESP_011341_0980_RGB.NOMAP.browse.jpg to I:\\data\\mars\\ESP_011341_0980_RGB.NOMAP.browse.jpg\n"
     ]
    },
    {
     "data": {
      "application/vnd.jupyter.widget-view+json": {
       "model_id": "cf8e230d51884246ad3b34dbcf88a6d8",
       "version_major": 2,
       "version_minor": 0
      },
      "text/plain": [
       "  0%|          | 0/1918312 [00:00<?, ?it/s]"
      ]
     },
     "metadata": {},
     "output_type": "display_data"
    },
    {
     "name": "stdout",
     "output_type": "stream",
     "text": [
      "ESP_011343_1835/\n",
      "Downloading https://hirise-pds.lpl.arizona.edu/PDS/EXTRAS/RDR/ESP/ORB_011300_011399/ESP_011343_1835/ESP_011343_1835_RGB.NOMAP.browse.jpg to I:\\data\\mars\\ESP_011343_1835_RGB.NOMAP.browse.jpg\n"
     ]
    },
    {
     "data": {
      "application/vnd.jupyter.widget-view+json": {
       "model_id": "8de59689c3fc45a49d64fe8d21da61a1",
       "version_major": 2,
       "version_minor": 0
      },
      "text/plain": [
       "  0%|          | 0/1499868 [00:00<?, ?it/s]"
      ]
     },
     "metadata": {},
     "output_type": "display_data"
    },
    {
     "name": "stdout",
     "output_type": "stream",
     "text": [
      "ESP_011344_1620/\n",
      "Downloading https://hirise-pds.lpl.arizona.edu/PDS/EXTRAS/RDR/ESP/ORB_011300_011399/ESP_011344_1620/ESP_011344_1620_RGB.NOMAP.browse.jpg to I:\\data\\mars\\ESP_011344_1620_RGB.NOMAP.browse.jpg\n"
     ]
    },
    {
     "data": {
      "application/vnd.jupyter.widget-view+json": {
       "model_id": "e614fe18e1a2495db5203164bb38355b",
       "version_major": 2,
       "version_minor": 0
      },
      "text/plain": [
       "  0%|          | 0/885140 [00:00<?, ?it/s]"
      ]
     },
     "metadata": {},
     "output_type": "display_data"
    },
    {
     "name": "stdout",
     "output_type": "stream",
     "text": [
      "ESP_011345_0950/\n",
      "Downloading https://hirise-pds.lpl.arizona.edu/PDS/EXTRAS/RDR/ESP/ORB_011300_011399/ESP_011345_0950/ESP_011345_0950_RGB.NOMAP.browse.jpg to I:\\data\\mars\\ESP_011345_0950_RGB.NOMAP.browse.jpg\n"
     ]
    },
    {
     "data": {
      "application/vnd.jupyter.widget-view+json": {
       "model_id": "3f41fc0276ae4aedb743a4e8ae9afdd2",
       "version_major": 2,
       "version_minor": 0
      },
      "text/plain": [
       "  0%|          | 0/5128234 [00:00<?, ?it/s]"
      ]
     },
     "metadata": {},
     "output_type": "display_data"
    },
    {
     "name": "stdout",
     "output_type": "stream",
     "text": [
      "ESP_011348_0950/\n",
      "Downloading https://hirise-pds.lpl.arizona.edu/PDS/EXTRAS/RDR/ESP/ORB_011300_011399/ESP_011348_0950/ESP_011348_0950_RGB.NOMAP.browse.jpg to I:\\data\\mars\\ESP_011348_0950_RGB.NOMAP.browse.jpg\n"
     ]
    },
    {
     "data": {
      "application/vnd.jupyter.widget-view+json": {
       "model_id": "5eb2cac7225342a7a8e4e6bed222d6bc",
       "version_major": 2,
       "version_minor": 0
      },
      "text/plain": [
       "  0%|          | 0/6228422 [00:00<?, ?it/s]"
      ]
     },
     "metadata": {},
     "output_type": "display_data"
    },
    {
     "name": "stdout",
     "output_type": "stream",
     "text": [
      "ESP_011350_0945/\n",
      "Downloading https://hirise-pds.lpl.arizona.edu/PDS/EXTRAS/RDR/ESP/ORB_011300_011399/ESP_011350_0945/ESP_011350_0945_RGB.NOMAP.browse.jpg to I:\\data\\mars\\ESP_011350_0945_RGB.NOMAP.browse.jpg\n"
     ]
    },
    {
     "data": {
      "application/vnd.jupyter.widget-view+json": {
       "model_id": "ba75f9f7e0094bb1b64287487ae4c53b",
       "version_major": 2,
       "version_minor": 0
      },
      "text/plain": [
       "  0%|          | 0/2416848 [00:00<?, ?it/s]"
      ]
     },
     "metadata": {},
     "output_type": "display_data"
    },
    {
     "name": "stdout",
     "output_type": "stream",
     "text": [
      "ESP_011351_0945/\n",
      "Downloading https://hirise-pds.lpl.arizona.edu/PDS/EXTRAS/RDR/ESP/ORB_011300_011399/ESP_011351_0945/ESP_011351_0945_RGB.NOMAP.browse.jpg to I:\\data\\mars\\ESP_011351_0945_RGB.NOMAP.browse.jpg\n"
     ]
    },
    {
     "data": {
      "application/vnd.jupyter.widget-view+json": {
       "model_id": "e83cd090232e41d988f3100b85f4e5d8",
       "version_major": 2,
       "version_minor": 0
      },
      "text/plain": [
       "  0%|          | 0/7005147 [00:00<?, ?it/s]"
      ]
     },
     "metadata": {},
     "output_type": "display_data"
    },
    {
     "name": "stdout",
     "output_type": "stream",
     "text": [
      "ESP_011355_1970/\n",
      "Downloading https://hirise-pds.lpl.arizona.edu/PDS/EXTRAS/RDR/ESP/ORB_011300_011399/ESP_011355_1970/ESP_011355_1970_RGB.NOMAP.browse.jpg to I:\\data\\mars\\ESP_011355_1970_RGB.NOMAP.browse.jpg\n"
     ]
    },
    {
     "data": {
      "application/vnd.jupyter.widget-view+json": {
       "model_id": "d66bac64ba514f23a929ac279605afcf",
       "version_major": 2,
       "version_minor": 0
      },
      "text/plain": [
       "  0%|          | 0/1600900 [00:00<?, ?it/s]"
      ]
     },
     "metadata": {},
     "output_type": "display_data"
    },
    {
     "name": "stdout",
     "output_type": "stream",
     "text": [
      "ESP_011357_2285/\n",
      "Downloading https://hirise-pds.lpl.arizona.edu/PDS/EXTRAS/RDR/ESP/ORB_011300_011399/ESP_011357_2285/ESP_011357_2285_RGB.NOMAP.browse.jpg to I:\\data\\mars\\ESP_011357_2285_RGB.NOMAP.browse.jpg\n"
     ]
    },
    {
     "data": {
      "application/vnd.jupyter.widget-view+json": {
       "model_id": "578e62087ebc49aeaccfb5c1e93ad9a5",
       "version_major": 2,
       "version_minor": 0
      },
      "text/plain": [
       "  0%|          | 0/2735942 [00:00<?, ?it/s]"
      ]
     },
     "metadata": {},
     "output_type": "display_data"
    },
    {
     "name": "stdout",
     "output_type": "stream",
     "text": [
      "ESP_011358_1255/\n",
      "Downloading https://hirise-pds.lpl.arizona.edu/PDS/EXTRAS/RDR/ESP/ORB_011300_011399/ESP_011358_1255/ESP_011358_1255_RGB.NOMAP.browse.jpg to I:\\data\\mars\\ESP_011358_1255_RGB.NOMAP.browse.jpg\n"
     ]
    },
    {
     "data": {
      "application/vnd.jupyter.widget-view+json": {
       "model_id": "a5eda42a33ec49f8a5fccf0417ca6c77",
       "version_major": 2,
       "version_minor": 0
      },
      "text/plain": [
       "  0%|          | 0/2955544 [00:00<?, ?it/s]"
      ]
     },
     "metadata": {},
     "output_type": "display_data"
    },
    {
     "name": "stdout",
     "output_type": "stream",
     "text": [
      "ESP_011359_1695/\n",
      "Downloading https://hirise-pds.lpl.arizona.edu/PDS/EXTRAS/RDR/ESP/ORB_011300_011399/ESP_011359_1695/ESP_011359_1695_RGB.NOMAP.browse.jpg to I:\\data\\mars\\ESP_011359_1695_RGB.NOMAP.browse.jpg\n"
     ]
    },
    {
     "data": {
      "application/vnd.jupyter.widget-view+json": {
       "model_id": "2ad12efb5fac4b859e9c191f09800712",
       "version_major": 2,
       "version_minor": 0
      },
      "text/plain": [
       "  0%|          | 0/2750085 [00:00<?, ?it/s]"
      ]
     },
     "metadata": {},
     "output_type": "display_data"
    },
    {
     "name": "stdout",
     "output_type": "stream",
     "text": [
      "ESP_011360_1655/\n",
      "Downloading https://hirise-pds.lpl.arizona.edu/PDS/EXTRAS/RDR/ESP/ORB_011300_011399/ESP_011360_1655/ESP_011360_1655_RGB.NOMAP.browse.jpg to I:\\data\\mars\\ESP_011360_1655_RGB.NOMAP.browse.jpg\n"
     ]
    },
    {
     "data": {
      "application/vnd.jupyter.widget-view+json": {
       "model_id": "81a8539551404ab387eb91e698053c89",
       "version_major": 2,
       "version_minor": 0
      },
      "text/plain": [
       "  0%|          | 0/751848 [00:00<?, ?it/s]"
      ]
     },
     "metadata": {},
     "output_type": "display_data"
    },
    {
     "name": "stdout",
     "output_type": "stream",
     "text": [
      "ESP_011365_1365/\n",
      "Downloading https://hirise-pds.lpl.arizona.edu/PDS/EXTRAS/RDR/ESP/ORB_011300_011399/ESP_011365_1365/ESP_011365_1365_RGB.NOMAP.browse.jpg to I:\\data\\mars\\ESP_011365_1365_RGB.NOMAP.browse.jpg\n"
     ]
    },
    {
     "data": {
      "application/vnd.jupyter.widget-view+json": {
       "model_id": "160a3a46aef54b02bb6b3cd6dd3f6d6c",
       "version_major": 2,
       "version_minor": 0
      },
      "text/plain": [
       "  0%|          | 0/3320638 [00:00<?, ?it/s]"
      ]
     },
     "metadata": {},
     "output_type": "display_data"
    },
    {
     "name": "stdout",
     "output_type": "stream",
     "text": [
      "ESP_011368_1860/\n",
      "Downloading https://hirise-pds.lpl.arizona.edu/PDS/EXTRAS/RDR/ESP/ORB_011300_011399/ESP_011368_1860/ESP_011368_1860_RGB.NOMAP.browse.jpg to I:\\data\\mars\\ESP_011368_1860_RGB.NOMAP.browse.jpg\n"
     ]
    },
    {
     "data": {
      "application/vnd.jupyter.widget-view+json": {
       "model_id": "9365bf0d4be341dfb8026cd18f49c4ff",
       "version_major": 2,
       "version_minor": 0
      },
      "text/plain": [
       "  0%|          | 0/1086120 [00:00<?, ?it/s]"
      ]
     },
     "metadata": {},
     "output_type": "display_data"
    },
    {
     "name": "stdout",
     "output_type": "stream",
     "text": [
      "ESP_011370_0980/\n",
      "Downloading https://hirise-pds.lpl.arizona.edu/PDS/EXTRAS/RDR/ESP/ORB_011300_011399/ESP_011370_0980/ESP_011370_0980_RGB.NOMAP.browse.jpg to I:\\data\\mars\\ESP_011370_0980_RGB.NOMAP.browse.jpg\n"
     ]
    },
    {
     "data": {
      "application/vnd.jupyter.widget-view+json": {
       "model_id": "47a1fec6e8b34d4aaaab8f7e4ee205cf",
       "version_major": 2,
       "version_minor": 0
      },
      "text/plain": [
       "  0%|          | 0/2307534 [00:00<?, ?it/s]"
      ]
     },
     "metadata": {},
     "output_type": "display_data"
    },
    {
     "name": "stdout",
     "output_type": "stream",
     "text": [
      "ESP_011370_1525/\n",
      "Downloading https://hirise-pds.lpl.arizona.edu/PDS/EXTRAS/RDR/ESP/ORB_011300_011399/ESP_011370_1525/ESP_011370_1525_RGB.NOMAP.browse.jpg to I:\\data\\mars\\ESP_011370_1525_RGB.NOMAP.browse.jpg\n"
     ]
    },
    {
     "data": {
      "application/vnd.jupyter.widget-view+json": {
       "model_id": "d09253d814454a479bb1b5a7dc963fd5",
       "version_major": 2,
       "version_minor": 0
      },
      "text/plain": [
       "  0%|          | 0/1707782 [00:00<?, ?it/s]"
      ]
     },
     "metadata": {},
     "output_type": "display_data"
    },
    {
     "name": "stdout",
     "output_type": "stream",
     "text": [
      "ESP_011371_1730/\n",
      "Downloading https://hirise-pds.lpl.arizona.edu/PDS/EXTRAS/RDR/ESP/ORB_011300_011399/ESP_011371_1730/ESP_011371_1730_RGB.NOMAP.browse.jpg to I:\\data\\mars\\ESP_011371_1730_RGB.NOMAP.browse.jpg\n"
     ]
    },
    {
     "data": {
      "application/vnd.jupyter.widget-view+json": {
       "model_id": "99178dd279284b82a8b2d59869249e05",
       "version_major": 2,
       "version_minor": 0
      },
      "text/plain": [
       "  0%|          | 0/1070150 [00:00<?, ?it/s]"
      ]
     },
     "metadata": {},
     "output_type": "display_data"
    },
    {
     "name": "stdout",
     "output_type": "stream",
     "text": [
      "ESP_011372_1730/\n",
      "Downloading https://hirise-pds.lpl.arizona.edu/PDS/EXTRAS/RDR/ESP/ORB_011300_011399/ESP_011372_1730/ESP_011372_1730_RGB.NOMAP.browse.jpg to I:\\data\\mars\\ESP_011372_1730_RGB.NOMAP.browse.jpg\n"
     ]
    },
    {
     "data": {
      "application/vnd.jupyter.widget-view+json": {
       "model_id": "d805e74c63d046c9b8fed06e92370a20",
       "version_major": 2,
       "version_minor": 0
      },
      "text/plain": [
       "  0%|          | 0/2123417 [00:00<?, ?it/s]"
      ]
     },
     "metadata": {},
     "output_type": "display_data"
    },
    {
     "name": "stdout",
     "output_type": "stream",
     "text": [
      "ESP_011373_1865/\n",
      "Downloading https://hirise-pds.lpl.arizona.edu/PDS/EXTRAS/RDR/ESP/ORB_011300_011399/ESP_011373_1865/ESP_011373_1865_RGB.NOMAP.browse.jpg to I:\\data\\mars\\ESP_011373_1865_RGB.NOMAP.browse.jpg\n"
     ]
    },
    {
     "data": {
      "application/vnd.jupyter.widget-view+json": {
       "model_id": "e8e3c666282d490aa8d1b54ad1fba20b",
       "version_major": 2,
       "version_minor": 0
      },
      "text/plain": [
       "  0%|          | 0/1986330 [00:00<?, ?it/s]"
      ]
     },
     "metadata": {},
     "output_type": "display_data"
    },
    {
     "name": "stdout",
     "output_type": "stream",
     "text": [
      "ESP_011377_1835/\n",
      "Downloading https://hirise-pds.lpl.arizona.edu/PDS/EXTRAS/RDR/ESP/ORB_011300_011399/ESP_011377_1835/ESP_011377_1835_RGB.NOMAP.browse.jpg to I:\\data\\mars\\ESP_011377_1835_RGB.NOMAP.browse.jpg\n"
     ]
    },
    {
     "data": {
      "application/vnd.jupyter.widget-view+json": {
       "model_id": "3da2cac47a514841a42effadaa8a16eb",
       "version_major": 2,
       "version_minor": 0
      },
      "text/plain": [
       "  0%|          | 0/2503568 [00:00<?, ?it/s]"
      ]
     },
     "metadata": {},
     "output_type": "display_data"
    },
    {
     "name": "stdout",
     "output_type": "stream",
     "text": [
      "ESP_011382_1575/\n",
      "Downloading https://hirise-pds.lpl.arizona.edu/PDS/EXTRAS/RDR/ESP/ORB_011300_011399/ESP_011382_1575/ESP_011382_1575_RGB.NOMAP.browse.jpg to I:\\data\\mars\\ESP_011382_1575_RGB.NOMAP.browse.jpg\n"
     ]
    },
    {
     "data": {
      "application/vnd.jupyter.widget-view+json": {
       "model_id": "52d61940fa874b95a23991cbcc8a61d4",
       "version_major": 2,
       "version_minor": 0
      },
      "text/plain": [
       "  0%|          | 0/721535 [00:00<?, ?it/s]"
      ]
     },
     "metadata": {},
     "output_type": "display_data"
    },
    {
     "name": "stdout",
     "output_type": "stream",
     "text": [
      "ESP_011383_2030/\n",
      "Downloading https://hirise-pds.lpl.arizona.edu/PDS/EXTRAS/RDR/ESP/ORB_011300_011399/ESP_011383_2030/ESP_011383_2030_RGB.NOMAP.browse.jpg to I:\\data\\mars\\ESP_011383_2030_RGB.NOMAP.browse.jpg\n"
     ]
    },
    {
     "data": {
      "application/vnd.jupyter.widget-view+json": {
       "model_id": "1285ff92fa0048898a5280c05ec97bc4",
       "version_major": 2,
       "version_minor": 0
      },
      "text/plain": [
       "  0%|          | 0/1680303 [00:00<?, ?it/s]"
      ]
     },
     "metadata": {},
     "output_type": "display_data"
    },
    {
     "name": "stdout",
     "output_type": "stream",
     "text": [
      "ESP_011384_2185/\n",
      "Downloading https://hirise-pds.lpl.arizona.edu/PDS/EXTRAS/RDR/ESP/ORB_011300_011399/ESP_011384_2185/ESP_011384_2185_RGB.NOMAP.browse.jpg to I:\\data\\mars\\ESP_011384_2185_RGB.NOMAP.browse.jpg\n"
     ]
    },
    {
     "data": {
      "application/vnd.jupyter.widget-view+json": {
       "model_id": "9abedebb3c774b71be82da36fadcd5e5",
       "version_major": 2,
       "version_minor": 0
      },
      "text/plain": [
       "  0%|          | 0/2286586 [00:00<?, ?it/s]"
      ]
     },
     "metadata": {},
     "output_type": "display_data"
    },
    {
     "name": "stdout",
     "output_type": "stream",
     "text": [
      "ESP_011385_1695/\n",
      "Downloading https://hirise-pds.lpl.arizona.edu/PDS/EXTRAS/RDR/ESP/ORB_011300_011399/ESP_011385_1695/ESP_011385_1695_RGB.NOMAP.browse.jpg to I:\\data\\mars\\ESP_011385_1695_RGB.NOMAP.browse.jpg\n"
     ]
    },
    {
     "data": {
      "application/vnd.jupyter.widget-view+json": {
       "model_id": "ec0472327c984d8599e2c1a1154914ec",
       "version_major": 2,
       "version_minor": 0
      },
      "text/plain": [
       "  0%|          | 0/1531772 [00:00<?, ?it/s]"
      ]
     },
     "metadata": {},
     "output_type": "display_data"
    },
    {
     "name": "stdout",
     "output_type": "stream",
     "text": [
      "ESP_011386_2065/\n",
      "Downloading https://hirise-pds.lpl.arizona.edu/PDS/EXTRAS/RDR/ESP/ORB_011300_011399/ESP_011386_2065/ESP_011386_2065_RGB.NOMAP.browse.jpg to I:\\data\\mars\\ESP_011386_2065_RGB.NOMAP.browse.jpg\n"
     ]
    },
    {
     "data": {
      "application/vnd.jupyter.widget-view+json": {
       "model_id": "012cfc3b8c9e470ba32e84b90318d1d8",
       "version_major": 2,
       "version_minor": 0
      },
      "text/plain": [
       "  0%|          | 0/1207994 [00:00<?, ?it/s]"
      ]
     },
     "metadata": {},
     "output_type": "display_data"
    },
    {
     "name": "stdout",
     "output_type": "stream",
     "text": [
      "ESP_011390_1410/\n",
      "\tfailed to find filename\n",
      "ESP_011391_1440/\n",
      "Downloading https://hirise-pds.lpl.arizona.edu/PDS/EXTRAS/RDR/ESP/ORB_011300_011399/ESP_011391_1440/ESP_011391_1440_RGB.NOMAP.browse.jpg to I:\\data\\mars\\ESP_011391_1440_RGB.NOMAP.browse.jpg\n"
     ]
    },
    {
     "data": {
      "application/vnd.jupyter.widget-view+json": {
       "model_id": "fbf6d7bb9c9e4d709354fad5fe7ac177",
       "version_major": 2,
       "version_minor": 0
      },
      "text/plain": [
       "  0%|          | 0/1317566 [00:00<?, ?it/s]"
      ]
     },
     "metadata": {},
     "output_type": "display_data"
    },
    {
     "name": "stdout",
     "output_type": "stream",
     "text": [
      "ESP_011392_1370/\n",
      "Downloading https://hirise-pds.lpl.arizona.edu/PDS/EXTRAS/RDR/ESP/ORB_011300_011399/ESP_011392_1370/ESP_011392_1370_RGB.NOMAP.browse.jpg to I:\\data\\mars\\ESP_011392_1370_RGB.NOMAP.browse.jpg\n"
     ]
    },
    {
     "data": {
      "application/vnd.jupyter.widget-view+json": {
       "model_id": "088b3dab46da4f9ea0c3cc79b1e7f88b",
       "version_major": 2,
       "version_minor": 0
      },
      "text/plain": [
       "  0%|          | 0/2291871 [00:00<?, ?it/s]"
      ]
     },
     "metadata": {},
     "output_type": "display_data"
    },
    {
     "name": "stdout",
     "output_type": "stream",
     "text": [
      "ESP_011393_1525/\n",
      "Downloading https://hirise-pds.lpl.arizona.edu/PDS/EXTRAS/RDR/ESP/ORB_011300_011399/ESP_011393_1525/ESP_011393_1525_RGB.NOMAP.browse.jpg to I:\\data\\mars\\ESP_011393_1525_RGB.NOMAP.browse.jpg\n"
     ]
    },
    {
     "data": {
      "application/vnd.jupyter.widget-view+json": {
       "model_id": "151d7ca1051748f1b0cd129c109505e2",
       "version_major": 2,
       "version_minor": 0
      },
      "text/plain": [
       "  0%|          | 0/1111131 [00:00<?, ?it/s]"
      ]
     },
     "metadata": {},
     "output_type": "display_data"
    },
    {
     "name": "stdout",
     "output_type": "stream",
     "text": [
      "ESP_011394_0935/\n",
      "Downloading https://hirise-pds.lpl.arizona.edu/PDS/EXTRAS/RDR/ESP/ORB_011300_011399/ESP_011394_0935/ESP_011394_0935_RGB.NOMAP.browse.jpg to I:\\data\\mars\\ESP_011394_0935_RGB.NOMAP.browse.jpg\n"
     ]
    },
    {
     "data": {
      "application/vnd.jupyter.widget-view+json": {
       "model_id": "20d5717df4564122b7820d95dffd09aa",
       "version_major": 2,
       "version_minor": 0
      },
      "text/plain": [
       "  0%|          | 0/4817670 [00:00<?, ?it/s]"
      ]
     },
     "metadata": {},
     "output_type": "display_data"
    },
    {
     "name": "stdout",
     "output_type": "stream",
     "text": [
      "ESP_011395_1915/\n",
      "Downloading https://hirise-pds.lpl.arizona.edu/PDS/EXTRAS/RDR/ESP/ORB_011300_011399/ESP_011395_1915/ESP_011395_1915_RGB.NOMAP.browse.jpg to I:\\data\\mars\\ESP_011395_1915_RGB.NOMAP.browse.jpg\n"
     ]
    },
    {
     "data": {
      "application/vnd.jupyter.widget-view+json": {
       "model_id": "28d35d5388644576be9882f2e9db635e",
       "version_major": 2,
       "version_minor": 0
      },
      "text/plain": [
       "  0%|          | 0/992838 [00:00<?, ?it/s]"
      ]
     },
     "metadata": {},
     "output_type": "display_data"
    },
    {
     "name": "stdout",
     "output_type": "stream",
     "text": [
      "ESP_011396_1115/\n",
      "Downloading https://hirise-pds.lpl.arizona.edu/PDS/EXTRAS/RDR/ESP/ORB_011300_011399/ESP_011396_1115/ESP_011396_1115_RGB.NOMAP.browse.jpg to I:\\data\\mars\\ESP_011396_1115_RGB.NOMAP.browse.jpg\n"
     ]
    },
    {
     "data": {
      "application/vnd.jupyter.widget-view+json": {
       "model_id": "6d1e754326d54cf2b2bf8f95fd0b2275",
       "version_major": 2,
       "version_minor": 0
      },
      "text/plain": [
       "  0%|          | 0/1115864 [00:00<?, ?it/s]"
      ]
     },
     "metadata": {},
     "output_type": "display_data"
    },
    {
     "name": "stdout",
     "output_type": "stream",
     "text": [
      "ESP_011397_1535/\n",
      "Downloading https://hirise-pds.lpl.arizona.edu/PDS/EXTRAS/RDR/ESP/ORB_011300_011399/ESP_011397_1535/ESP_011397_1535_RGB.NOMAP.browse.jpg to I:\\data\\mars\\ESP_011397_1535_RGB.NOMAP.browse.jpg\n"
     ]
    },
    {
     "data": {
      "application/vnd.jupyter.widget-view+json": {
       "model_id": "b43f4154309e4b148a5efdbc5720d3c4",
       "version_major": 2,
       "version_minor": 0
      },
      "text/plain": [
       "  0%|          | 0/1578962 [00:00<?, ?it/s]"
      ]
     },
     "metadata": {},
     "output_type": "display_data"
    },
    {
     "name": "stdout",
     "output_type": "stream",
     "text": [
      "ESP_011398_1275/\n",
      "Downloading https://hirise-pds.lpl.arizona.edu/PDS/EXTRAS/RDR/ESP/ORB_011300_011399/ESP_011398_1275/ESP_011398_1275_RGB.NOMAP.browse.jpg to I:\\data\\mars\\ESP_011398_1275_RGB.NOMAP.browse.jpg\n"
     ]
    },
    {
     "data": {
      "application/vnd.jupyter.widget-view+json": {
       "model_id": "654b978e510b4c97a6b56cc899c85618",
       "version_major": 2,
       "version_minor": 0
      },
      "text/plain": [
       "  0%|          | 0/2668482 [00:00<?, ?it/s]"
      ]
     },
     "metadata": {},
     "output_type": "display_data"
    },
    {
     "name": "stdout",
     "output_type": "stream",
     "text": [
      "ESP_011399_2045/\n",
      "Downloading https://hirise-pds.lpl.arizona.edu/PDS/EXTRAS/RDR/ESP/ORB_011300_011399/ESP_011399_2045/ESP_011399_2045_RGB.NOMAP.browse.jpg to I:\\data\\mars\\ESP_011399_2045_RGB.NOMAP.browse.jpg\n"
     ]
    },
    {
     "data": {
      "application/vnd.jupyter.widget-view+json": {
       "model_id": "c3b983df54e54758a005967f655358ca",
       "version_major": 2,
       "version_minor": 0
      },
      "text/plain": [
       "  0%|          | 0/1451136 [00:00<?, ?it/s]"
      ]
     },
     "metadata": {},
     "output_type": "display_data"
    },
    {
     "name": "stdout",
     "output_type": "stream",
     "text": [
      "-------------------------------------------------- ORB_011400_011499/\n",
      "ESP_011400_1275/\n",
      "Downloading https://hirise-pds.lpl.arizona.edu/PDS/EXTRAS/RDR/ESP/ORB_011400_011499/ESP_011400_1275/ESP_011400_1275_RGB.NOMAP.browse.jpg to I:\\data\\mars\\ESP_011400_1275_RGB.NOMAP.browse.jpg\n"
     ]
    },
    {
     "data": {
      "application/vnd.jupyter.widget-view+json": {
       "model_id": "fb8f7fd6bc014e14b874b26195965225",
       "version_major": 2,
       "version_minor": 0
      },
      "text/plain": [
       "  0%|          | 0/1553616 [00:00<?, ?it/s]"
      ]
     },
     "metadata": {},
     "output_type": "display_data"
    },
    {
     "name": "stdout",
     "output_type": "stream",
     "text": [
      "ESP_011400_1680/\n",
      "Downloading https://hirise-pds.lpl.arizona.edu/PDS/EXTRAS/RDR/ESP/ORB_011400_011499/ESP_011400_1680/ESP_011400_1680_RGB.NOMAP.browse.jpg to I:\\data\\mars\\ESP_011400_1680_RGB.NOMAP.browse.jpg\n"
     ]
    },
    {
     "data": {
      "application/vnd.jupyter.widget-view+json": {
       "model_id": "bbc3f81bcace4f6cae7e0a29839e6760",
       "version_major": 2,
       "version_minor": 0
      },
      "text/plain": [
       "  0%|          | 0/1296978 [00:00<?, ?it/s]"
      ]
     },
     "metadata": {},
     "output_type": "display_data"
    },
    {
     "name": "stdout",
     "output_type": "stream",
     "text": [
      "ESP_011403_0945/\n",
      "Downloading https://hirise-pds.lpl.arizona.edu/PDS/EXTRAS/RDR/ESP/ORB_011400_011499/ESP_011403_0945/ESP_011403_0945_RGB.NOMAP.browse.jpg to I:\\data\\mars\\ESP_011403_0945_RGB.NOMAP.browse.jpg\n"
     ]
    },
    {
     "data": {
      "application/vnd.jupyter.widget-view+json": {
       "model_id": "e9d342eb78b6449b9b75716eb6d91ec9",
       "version_major": 2,
       "version_minor": 0
      },
      "text/plain": [
       "  0%|          | 0/3088855 [00:00<?, ?it/s]"
      ]
     },
     "metadata": {},
     "output_type": "display_data"
    },
    {
     "name": "stdout",
     "output_type": "stream",
     "text": [
      "ESP_011403_1905/\n",
      "Downloading https://hirise-pds.lpl.arizona.edu/PDS/EXTRAS/RDR/ESP/ORB_011400_011499/ESP_011403_1905/ESP_011403_1905_RGB.NOMAP.browse.jpg to I:\\data\\mars\\ESP_011403_1905_RGB.NOMAP.browse.jpg\n"
     ]
    },
    {
     "data": {
      "application/vnd.jupyter.widget-view+json": {
       "model_id": "c4c79d5da2e9417e8b7487295971a2b5",
       "version_major": 2,
       "version_minor": 0
      },
      "text/plain": [
       "  0%|          | 0/1276255 [00:00<?, ?it/s]"
      ]
     },
     "metadata": {},
     "output_type": "display_data"
    },
    {
     "name": "stdout",
     "output_type": "stream",
     "text": [
      "ESP_011404_0945/\n",
      "Downloading https://hirise-pds.lpl.arizona.edu/PDS/EXTRAS/RDR/ESP/ORB_011400_011499/ESP_011404_0945/ESP_011404_0945_RGB.NOMAP.browse.jpg to I:\\data\\mars\\ESP_011404_0945_RGB.NOMAP.browse.jpg\n"
     ]
    },
    {
     "data": {
      "application/vnd.jupyter.widget-view+json": {
       "model_id": "ec2112fb8a844c8cacbd5ea29445e2f0",
       "version_major": 2,
       "version_minor": 0
      },
      "text/plain": [
       "  0%|          | 0/5975077 [00:00<?, ?it/s]"
      ]
     },
     "metadata": {},
     "output_type": "display_data"
    },
    {
     "name": "stdout",
     "output_type": "stream",
     "text": [
      "ESP_011405_0930/\n",
      "Downloading https://hirise-pds.lpl.arizona.edu/PDS/EXTRAS/RDR/ESP/ORB_011400_011499/ESP_011405_0930/ESP_011405_0930_RGB.NOMAP.browse.jpg to I:\\data\\mars\\ESP_011405_0930_RGB.NOMAP.browse.jpg\n"
     ]
    },
    {
     "data": {
      "application/vnd.jupyter.widget-view+json": {
       "model_id": "1421a19fd425486b82469cfda29bb778",
       "version_major": 2,
       "version_minor": 0
      },
      "text/plain": [
       "  0%|          | 0/4121482 [00:00<?, ?it/s]"
      ]
     },
     "metadata": {},
     "output_type": "display_data"
    },
    {
     "name": "stdout",
     "output_type": "stream",
     "text": [
      "ESP_011406_0945/\n",
      "Downloading https://hirise-pds.lpl.arizona.edu/PDS/EXTRAS/RDR/ESP/ORB_011400_011499/ESP_011406_0945/ESP_011406_0945_RGB.NOMAP.browse.jpg to I:\\data\\mars\\ESP_011406_0945_RGB.NOMAP.browse.jpg\n"
     ]
    },
    {
     "data": {
      "application/vnd.jupyter.widget-view+json": {
       "model_id": "2cb587ec5d9149c5863b9ed2f9261237",
       "version_major": 2,
       "version_minor": 0
      },
      "text/plain": [
       "  0%|          | 0/2574637 [00:00<?, ?it/s]"
      ]
     },
     "metadata": {},
     "output_type": "display_data"
    },
    {
     "name": "stdout",
     "output_type": "stream",
     "text": [
      "ESP_011407_0945/\n",
      "Downloading https://hirise-pds.lpl.arizona.edu/PDS/EXTRAS/RDR/ESP/ORB_011400_011499/ESP_011407_0945/ESP_011407_0945_RGB.NOMAP.browse.jpg to I:\\data\\mars\\ESP_011407_0945_RGB.NOMAP.browse.jpg\n"
     ]
    },
    {
     "data": {
      "application/vnd.jupyter.widget-view+json": {
       "model_id": "9e6ef964a5504ca29da3581c45587087",
       "version_major": 2,
       "version_minor": 0
      },
      "text/plain": [
       "  0%|          | 0/4913092 [00:00<?, ?it/s]"
      ]
     },
     "metadata": {},
     "output_type": "display_data"
    },
    {
     "name": "stdout",
     "output_type": "stream",
     "text": [
      "ESP_011408_0930/\n",
      "Downloading https://hirise-pds.lpl.arizona.edu/PDS/EXTRAS/RDR/ESP/ORB_011400_011499/ESP_011408_0930/ESP_011408_0930_RGB.NOMAP.browse.jpg to I:\\data\\mars\\ESP_011408_0930_RGB.NOMAP.browse.jpg\n"
     ]
    },
    {
     "data": {
      "application/vnd.jupyter.widget-view+json": {
       "model_id": "967bc82de2744d28b67f03a7025e202e",
       "version_major": 2,
       "version_minor": 0
      },
      "text/plain": [
       "  0%|          | 0/4699995 [00:00<?, ?it/s]"
      ]
     },
     "metadata": {},
     "output_type": "display_data"
    },
    {
     "name": "stdout",
     "output_type": "stream",
     "text": [
      "ESP_011410_1535/\n",
      "Downloading https://hirise-pds.lpl.arizona.edu/PDS/EXTRAS/RDR/ESP/ORB_011400_011499/ESP_011410_1535/ESP_011410_1535_RGB.NOMAP.browse.jpg to I:\\data\\mars\\ESP_011410_1535_RGB.NOMAP.browse.jpg\n"
     ]
    },
    {
     "data": {
      "application/vnd.jupyter.widget-view+json": {
       "model_id": "6beb346d81814f2986ee63cd054e4789",
       "version_major": 2,
       "version_minor": 0
      },
      "text/plain": [
       "  0%|          | 0/1947998 [00:00<?, ?it/s]"
      ]
     },
     "metadata": {},
     "output_type": "display_data"
    },
    {
     "name": "stdout",
     "output_type": "stream",
     "text": [
      "ESP_011413_0970/\n",
      "Downloading https://hirise-pds.lpl.arizona.edu/PDS/EXTRAS/RDR/ESP/ORB_011400_011499/ESP_011413_0970/ESP_011413_0970_RGB.NOMAP.browse.jpg to I:\\data\\mars\\ESP_011413_0970_RGB.NOMAP.browse.jpg\n"
     ]
    },
    {
     "data": {
      "application/vnd.jupyter.widget-view+json": {
       "model_id": "9a23a7be435a416bb9bb4f8002d77354",
       "version_major": 2,
       "version_minor": 0
      },
      "text/plain": [
       "  0%|          | 0/2001781 [00:00<?, ?it/s]"
      ]
     },
     "metadata": {},
     "output_type": "display_data"
    },
    {
     "name": "stdout",
     "output_type": "stream",
     "text": [
      "ESP_011413_1790/\n",
      "Downloading https://hirise-pds.lpl.arizona.edu/PDS/EXTRAS/RDR/ESP/ORB_011400_011499/ESP_011413_1790/ESP_011413_1790_RGB.NOMAP.browse.jpg to I:\\data\\mars\\ESP_011413_1790_RGB.NOMAP.browse.jpg\n"
     ]
    },
    {
     "data": {
      "application/vnd.jupyter.widget-view+json": {
       "model_id": "2032f6a7e5284892bec95968857eee3d",
       "version_major": 2,
       "version_minor": 0
      },
      "text/plain": [
       "  0%|          | 0/1821416 [00:00<?, ?it/s]"
      ]
     },
     "metadata": {},
     "output_type": "display_data"
    },
    {
     "name": "stdout",
     "output_type": "stream",
     "text": [
      "ESP_011416_1805/\n",
      "Downloading https://hirise-pds.lpl.arizona.edu/PDS/EXTRAS/RDR/ESP/ORB_011400_011499/ESP_011416_1805/ESP_011416_1805_RGB.NOMAP.browse.jpg to I:\\data\\mars\\ESP_011416_1805_RGB.NOMAP.browse.jpg\n"
     ]
    },
    {
     "data": {
      "application/vnd.jupyter.widget-view+json": {
       "model_id": "dc2b2e375e0a4451a60be841f48ba358",
       "version_major": 2,
       "version_minor": 0
      },
      "text/plain": [
       "  0%|          | 0/1771199 [00:00<?, ?it/s]"
      ]
     },
     "metadata": {},
     "output_type": "display_data"
    },
    {
     "name": "stdout",
     "output_type": "stream",
     "text": [
      "ESP_011417_1755/\n",
      "Downloading https://hirise-pds.lpl.arizona.edu/PDS/EXTRAS/RDR/ESP/ORB_011400_011499/ESP_011417_1755/ESP_011417_1755_RGB.NOMAP.browse.jpg to I:\\data\\mars\\ESP_011417_1755_RGB.NOMAP.browse.jpg\n"
     ]
    },
    {
     "data": {
      "application/vnd.jupyter.widget-view+json": {
       "model_id": "ba25ea086d3d464a8f8eb1a9c6bcca22",
       "version_major": 2,
       "version_minor": 0
      },
      "text/plain": [
       "  0%|          | 0/1877744 [00:00<?, ?it/s]"
      ]
     },
     "metadata": {},
     "output_type": "display_data"
    },
    {
     "name": "stdout",
     "output_type": "stream",
     "text": [
      "ESP_011418_1765/\n",
      "Downloading https://hirise-pds.lpl.arizona.edu/PDS/EXTRAS/RDR/ESP/ORB_011400_011499/ESP_011418_1765/ESP_011418_1765_RGB.NOMAP.browse.jpg to I:\\data\\mars\\ESP_011418_1765_RGB.NOMAP.browse.jpg\n"
     ]
    },
    {
     "data": {
      "application/vnd.jupyter.widget-view+json": {
       "model_id": "2000fbee95cb40ef9ff81289365493c4",
       "version_major": 2,
       "version_minor": 0
      },
      "text/plain": [
       "  0%|          | 0/1796563 [00:00<?, ?it/s]"
      ]
     },
     "metadata": {},
     "output_type": "display_data"
    },
    {
     "name": "stdout",
     "output_type": "stream",
     "text": [
      "ESP_011420_0930/\n",
      "Downloading https://hirise-pds.lpl.arizona.edu/PDS/EXTRAS/RDR/ESP/ORB_011400_011499/ESP_011420_0930/ESP_011420_0930_RGB.NOMAP.browse.jpg to I:\\data\\mars\\ESP_011420_0930_RGB.NOMAP.browse.jpg\n"
     ]
    },
    {
     "data": {
      "application/vnd.jupyter.widget-view+json": {
       "model_id": "ee3dcd938d9c4318a877bde7c7518210",
       "version_major": 2,
       "version_minor": 0
      },
      "text/plain": [
       "  0%|          | 0/3265507 [00:00<?, ?it/s]"
      ]
     },
     "metadata": {},
     "output_type": "display_data"
    },
    {
     "name": "stdout",
     "output_type": "stream",
     "text": [
      "ESP_011421_1300/\n",
      "Downloading https://hirise-pds.lpl.arizona.edu/PDS/EXTRAS/RDR/ESP/ORB_011400_011499/ESP_011421_1300/ESP_011421_1300_RGB.NOMAP.browse.jpg to I:\\data\\mars\\ESP_011421_1300_RGB.NOMAP.browse.jpg\n"
     ]
    },
    {
     "data": {
      "application/vnd.jupyter.widget-view+json": {
       "model_id": "38c5373350d541c0be0fea113b9ed527",
       "version_major": 2,
       "version_minor": 0
      },
      "text/plain": [
       "  0%|          | 0/930879 [00:00<?, ?it/s]"
      ]
     },
     "metadata": {},
     "output_type": "display_data"
    },
    {
     "name": "stdout",
     "output_type": "stream",
     "text": [
      "ESP_011422_0930/\n",
      "Downloading https://hirise-pds.lpl.arizona.edu/PDS/EXTRAS/RDR/ESP/ORB_011400_011499/ESP_011422_0930/ESP_011422_0930_RGB.NOMAP.browse.jpg to I:\\data\\mars\\ESP_011422_0930_RGB.NOMAP.browse.jpg\n"
     ]
    },
    {
     "data": {
      "application/vnd.jupyter.widget-view+json": {
       "model_id": "008601985a7f46d9a92d3118dba2e9c8",
       "version_major": 2,
       "version_minor": 0
      },
      "text/plain": [
       "  0%|          | 0/4277307 [00:00<?, ?it/s]"
      ]
     },
     "metadata": {},
     "output_type": "display_data"
    },
    {
     "name": "stdout",
     "output_type": "stream",
     "text": [
      "ESP_011424_1340/\n",
      "Downloading https://hirise-pds.lpl.arizona.edu/PDS/EXTRAS/RDR/ESP/ORB_011400_011499/ESP_011424_1340/ESP_011424_1340_RGB.NOMAP.browse.jpg to I:\\data\\mars\\ESP_011424_1340_RGB.NOMAP.browse.jpg\n"
     ]
    },
    {
     "data": {
      "application/vnd.jupyter.widget-view+json": {
       "model_id": "2c12883f556e4792b46a92f3a0344609",
       "version_major": 2,
       "version_minor": 0
      },
      "text/plain": [
       "  0%|          | 0/1675738 [00:00<?, ?it/s]"
      ]
     },
     "metadata": {},
     "output_type": "display_data"
    },
    {
     "name": "stdout",
     "output_type": "stream",
     "text": [
      "ESP_011425_1775/\n",
      "Downloading https://hirise-pds.lpl.arizona.edu/PDS/EXTRAS/RDR/ESP/ORB_011400_011499/ESP_011425_1775/ESP_011425_1775_RGB.NOMAP.browse.jpg to I:\\data\\mars\\ESP_011425_1775_RGB.NOMAP.browse.jpg\n"
     ]
    },
    {
     "data": {
      "application/vnd.jupyter.widget-view+json": {
       "model_id": "10ec6ddccc974a26961dd56244f1708a",
       "version_major": 2,
       "version_minor": 0
      },
      "text/plain": [
       "  0%|          | 0/439361 [00:00<?, ?it/s]"
      ]
     },
     "metadata": {},
     "output_type": "display_data"
    },
    {
     "name": "stdout",
     "output_type": "stream",
     "text": [
      "ESP_011428_1380/\n",
      "Downloading https://hirise-pds.lpl.arizona.edu/PDS/EXTRAS/RDR/ESP/ORB_011400_011499/ESP_011428_1380/ESP_011428_1380_RGB.NOMAP.browse.jpg to I:\\data\\mars\\ESP_011428_1380_RGB.NOMAP.browse.jpg\n"
     ]
    },
    {
     "data": {
      "application/vnd.jupyter.widget-view+json": {
       "model_id": "711ad54429c344ff85e652bf6081f7ba",
       "version_major": 2,
       "version_minor": 0
      },
      "text/plain": [
       "  0%|          | 0/1588581 [00:00<?, ?it/s]"
      ]
     },
     "metadata": {},
     "output_type": "display_data"
    },
    {
     "name": "stdout",
     "output_type": "stream",
     "text": [
      "ESP_011428_2200/\n",
      "Downloading https://hirise-pds.lpl.arizona.edu/PDS/EXTRAS/RDR/ESP/ORB_011400_011499/ESP_011428_2200/ESP_011428_2200_RGB.NOMAP.browse.jpg to I:\\data\\mars\\ESP_011428_2200_RGB.NOMAP.browse.jpg\n"
     ]
    },
    {
     "data": {
      "application/vnd.jupyter.widget-view+json": {
       "model_id": "81ab269e892c4e5ca14d201deca2374a",
       "version_major": 2,
       "version_minor": 0
      },
      "text/plain": [
       "  0%|          | 0/1181834 [00:00<?, ?it/s]"
      ]
     },
     "metadata": {},
     "output_type": "display_data"
    },
    {
     "name": "stdout",
     "output_type": "stream",
     "text": [
      "ESP_011430_1885/\n",
      "Downloading https://hirise-pds.lpl.arizona.edu/PDS/EXTRAS/RDR/ESP/ORB_011400_011499/ESP_011430_1885/ESP_011430_1885_RGB.NOMAP.browse.jpg to I:\\data\\mars\\ESP_011430_1885_RGB.NOMAP.browse.jpg\n"
     ]
    },
    {
     "data": {
      "application/vnd.jupyter.widget-view+json": {
       "model_id": "844584631d414740be3d105afdf30a4a",
       "version_major": 2,
       "version_minor": 0
      },
      "text/plain": [
       "  0%|          | 0/2048918 [00:00<?, ?it/s]"
      ]
     },
     "metadata": {},
     "output_type": "display_data"
    },
    {
     "name": "stdout",
     "output_type": "stream",
     "text": [
      "ESP_011431_0930/\n",
      "Downloading https://hirise-pds.lpl.arizona.edu/PDS/EXTRAS/RDR/ESP/ORB_011400_011499/ESP_011431_0930/ESP_011431_0930_RGB.NOMAP.browse.jpg to I:\\data\\mars\\ESP_011431_0930_RGB.NOMAP.browse.jpg\n"
     ]
    },
    {
     "data": {
      "application/vnd.jupyter.widget-view+json": {
       "model_id": "3d3596e1b72a4fa5af9bda70eb04b9c6",
       "version_major": 2,
       "version_minor": 0
      },
      "text/plain": [
       "  0%|          | 0/3883727 [00:00<?, ?it/s]"
      ]
     },
     "metadata": {},
     "output_type": "display_data"
    },
    {
     "name": "stdout",
     "output_type": "stream",
     "text": [
      "ESP_011431_1330/\n",
      "Downloading https://hirise-pds.lpl.arizona.edu/PDS/EXTRAS/RDR/ESP/ORB_011400_011499/ESP_011431_1330/ESP_011431_1330_RGB.NOMAP.browse.jpg to I:\\data\\mars\\ESP_011431_1330_RGB.NOMAP.browse.jpg\n"
     ]
    },
    {
     "data": {
      "application/vnd.jupyter.widget-view+json": {
       "model_id": "baeb07b6b8a64534bb9bdfa1ff377d39",
       "version_major": 2,
       "version_minor": 0
      },
      "text/plain": [
       "  0%|          | 0/2793349 [00:00<?, ?it/s]"
      ]
     },
     "metadata": {},
     "output_type": "display_data"
    },
    {
     "name": "stdout",
     "output_type": "stream",
     "text": [
      "ESP_011431_2290/\n",
      "Downloading https://hirise-pds.lpl.arizona.edu/PDS/EXTRAS/RDR/ESP/ORB_011400_011499/ESP_011431_2290/ESP_011431_2290_RGB.NOMAP.browse.jpg to I:\\data\\mars\\ESP_011431_2290_RGB.NOMAP.browse.jpg\n"
     ]
    },
    {
     "data": {
      "application/vnd.jupyter.widget-view+json": {
       "model_id": "6e51989fc73346009c59cfb5a2a35ae0",
       "version_major": 2,
       "version_minor": 0
      },
      "text/plain": [
       "  0%|          | 0/1339066 [00:00<?, ?it/s]"
      ]
     },
     "metadata": {},
     "output_type": "display_data"
    },
    {
     "name": "stdout",
     "output_type": "stream",
     "text": [
      "ESP_011432_0925/\n",
      "Downloading https://hirise-pds.lpl.arizona.edu/PDS/EXTRAS/RDR/ESP/ORB_011400_011499/ESP_011432_0925/ESP_011432_0925_RGB.NOMAP.browse.jpg to I:\\data\\mars\\ESP_011432_0925_RGB.NOMAP.browse.jpg\n"
     ]
    },
    {
     "data": {
      "application/vnd.jupyter.widget-view+json": {
       "model_id": "19cd622719b44bf89c06b85e489221c8",
       "version_major": 2,
       "version_minor": 0
      },
      "text/plain": [
       "  0%|          | 0/3555407 [00:00<?, ?it/s]"
      ]
     },
     "metadata": {},
     "output_type": "display_data"
    },
    {
     "name": "stdout",
     "output_type": "stream",
     "text": [
      "ESP_011433_1285/\n",
      "Downloading https://hirise-pds.lpl.arizona.edu/PDS/EXTRAS/RDR/ESP/ORB_011400_011499/ESP_011433_1285/ESP_011433_1285_RGB.NOMAP.browse.jpg to I:\\data\\mars\\ESP_011433_1285_RGB.NOMAP.browse.jpg\n"
     ]
    },
    {
     "data": {
      "application/vnd.jupyter.widget-view+json": {
       "model_id": "fc88ab204fe74d08a4dddad49c07bfda",
       "version_major": 2,
       "version_minor": 0
      },
      "text/plain": [
       "  0%|          | 0/2197637 [00:00<?, ?it/s]"
      ]
     },
     "metadata": {},
     "output_type": "display_data"
    },
    {
     "name": "stdout",
     "output_type": "stream",
     "text": [
      "ESP_011436_1425/\n",
      "Downloading https://hirise-pds.lpl.arizona.edu/PDS/EXTRAS/RDR/ESP/ORB_011400_011499/ESP_011436_1425/ESP_011436_1425_RGB.NOMAP.browse.jpg to I:\\data\\mars\\ESP_011436_1425_RGB.NOMAP.browse.jpg\n"
     ]
    },
    {
     "data": {
      "application/vnd.jupyter.widget-view+json": {
       "model_id": "f4a67f9fa983458f8c70cebe8887fca5",
       "version_major": 2,
       "version_minor": 0
      },
      "text/plain": [
       "  0%|          | 0/1799495 [00:00<?, ?it/s]"
      ]
     },
     "metadata": {},
     "output_type": "display_data"
    },
    {
     "name": "stdout",
     "output_type": "stream",
     "text": [
      "ESP_011440_1335/\n",
      "Downloading https://hirise-pds.lpl.arizona.edu/PDS/EXTRAS/RDR/ESP/ORB_011400_011499/ESP_011440_1335/ESP_011440_1335_RGB.NOMAP.browse.jpg to I:\\data\\mars\\ESP_011440_1335_RGB.NOMAP.browse.jpg\n"
     ]
    },
    {
     "data": {
      "application/vnd.jupyter.widget-view+json": {
       "model_id": "55351a5357314c7b8fcbebbcfb9bac0d",
       "version_major": 2,
       "version_minor": 0
      },
      "text/plain": [
       "  0%|          | 0/3455640 [00:00<?, ?it/s]"
      ]
     },
     "metadata": {},
     "output_type": "display_data"
    },
    {
     "name": "stdout",
     "output_type": "stream",
     "text": [
      "ESP_011442_2255/\n",
      "Downloading https://hirise-pds.lpl.arizona.edu/PDS/EXTRAS/RDR/ESP/ORB_011400_011499/ESP_011442_2255/ESP_011442_2255_RGB.NOMAP.browse.jpg to I:\\data\\mars\\ESP_011442_2255_RGB.NOMAP.browse.jpg\n"
     ]
    },
    {
     "data": {
      "application/vnd.jupyter.widget-view+json": {
       "model_id": "8513fa497dd2445ebd7a2e7500f53803",
       "version_major": 2,
       "version_minor": 0
      },
      "text/plain": [
       "  0%|          | 0/2634811 [00:00<?, ?it/s]"
      ]
     },
     "metadata": {},
     "output_type": "display_data"
    },
    {
     "name": "stdout",
     "output_type": "stream",
     "text": [
      "ESP_011443_1380/\n",
      "Downloading https://hirise-pds.lpl.arizona.edu/PDS/EXTRAS/RDR/ESP/ORB_011400_011499/ESP_011443_1380/ESP_011443_1380_RGB.NOMAP.browse.jpg to I:\\data\\mars\\ESP_011443_1380_RGB.NOMAP.browse.jpg\n"
     ]
    },
    {
     "data": {
      "application/vnd.jupyter.widget-view+json": {
       "model_id": "229e7b4f43c44eeab4e9893a5dbcf366",
       "version_major": 2,
       "version_minor": 0
      },
      "text/plain": [
       "  0%|          | 0/2142675 [00:00<?, ?it/s]"
      ]
     },
     "metadata": {},
     "output_type": "display_data"
    },
    {
     "name": "stdout",
     "output_type": "stream",
     "text": [
      "ESP_011447_0950/\n",
      "Downloading https://hirise-pds.lpl.arizona.edu/PDS/EXTRAS/RDR/ESP/ORB_011400_011499/ESP_011447_0950/ESP_011447_0950_RGB.NOMAP.browse.jpg to I:\\data\\mars\\ESP_011447_0950_RGB.NOMAP.browse.jpg\n"
     ]
    },
    {
     "data": {
      "application/vnd.jupyter.widget-view+json": {
       "model_id": "de53674085784b46b1471487664eef54",
       "version_major": 2,
       "version_minor": 0
      },
      "text/plain": [
       "  0%|          | 0/3269807 [00:00<?, ?it/s]"
      ]
     },
     "metadata": {},
     "output_type": "display_data"
    },
    {
     "name": "stdout",
     "output_type": "stream",
     "text": [
      "ESP_011448_0950/\n",
      "Downloading https://hirise-pds.lpl.arizona.edu/PDS/EXTRAS/RDR/ESP/ORB_011400_011499/ESP_011448_0950/ESP_011448_0950_RGB.NOMAP.browse.jpg to I:\\data\\mars\\ESP_011448_0950_RGB.NOMAP.browse.jpg\n"
     ]
    },
    {
     "data": {
      "application/vnd.jupyter.widget-view+json": {
       "model_id": "ff4cbb5f05344a7798f64031d91aaa56",
       "version_major": 2,
       "version_minor": 0
      },
      "text/plain": [
       "  0%|          | 0/3814435 [00:00<?, ?it/s]"
      ]
     },
     "metadata": {},
     "output_type": "display_data"
    },
    {
     "name": "stdout",
     "output_type": "stream",
     "text": [
      "ESP_011449_2000/\n",
      "Downloading https://hirise-pds.lpl.arizona.edu/PDS/EXTRAS/RDR/ESP/ORB_011400_011499/ESP_011449_2000/ESP_011449_2000_RGB.NOMAP.browse.jpg to I:\\data\\mars\\ESP_011449_2000_RGB.NOMAP.browse.jpg\n"
     ]
    },
    {
     "data": {
      "application/vnd.jupyter.widget-view+json": {
       "model_id": "23f2456c392c4e93b06baea4ea5b9a1e",
       "version_major": 2,
       "version_minor": 0
      },
      "text/plain": [
       "  0%|          | 0/1318692 [00:00<?, ?it/s]"
      ]
     },
     "metadata": {},
     "output_type": "display_data"
    },
    {
     "name": "stdout",
     "output_type": "stream",
     "text": [
      "ESP_011451_1695/\n",
      "Downloading https://hirise-pds.lpl.arizona.edu/PDS/EXTRAS/RDR/ESP/ORB_011400_011499/ESP_011451_1695/ESP_011451_1695_RGB.NOMAP.browse.jpg to I:\\data\\mars\\ESP_011451_1695_RGB.NOMAP.browse.jpg\n"
     ]
    },
    {
     "data": {
      "application/vnd.jupyter.widget-view+json": {
       "model_id": "5f3e360ec7334e668860a9e19cd4f3a0",
       "version_major": 2,
       "version_minor": 0
      },
      "text/plain": [
       "  0%|          | 0/1800980 [00:00<?, ?it/s]"
      ]
     },
     "metadata": {},
     "output_type": "display_data"
    },
    {
     "name": "stdout",
     "output_type": "stream",
     "text": [
      "ESP_011456_2160/\n",
      "Downloading https://hirise-pds.lpl.arizona.edu/PDS/EXTRAS/RDR/ESP/ORB_011400_011499/ESP_011456_2160/ESP_011456_2160_RGB.NOMAP.browse.jpg to I:\\data\\mars\\ESP_011456_2160_RGB.NOMAP.browse.jpg\n"
     ]
    },
    {
     "data": {
      "application/vnd.jupyter.widget-view+json": {
       "model_id": "310c6404c7ba4b4f83b6ae9014c67115",
       "version_major": 2,
       "version_minor": 0
      },
      "text/plain": [
       "  0%|          | 0/3184588 [00:00<?, ?it/s]"
      ]
     },
     "metadata": {},
     "output_type": "display_data"
    },
    {
     "name": "stdout",
     "output_type": "stream",
     "text": [
      "ESP_011458_1640/\n",
      "Downloading https://hirise-pds.lpl.arizona.edu/PDS/EXTRAS/RDR/ESP/ORB_011400_011499/ESP_011458_1640/ESP_011458_1640_RGB.NOMAP.browse.jpg to I:\\data\\mars\\ESP_011458_1640_RGB.NOMAP.browse.jpg\n"
     ]
    },
    {
     "data": {
      "application/vnd.jupyter.widget-view+json": {
       "model_id": "7fc8e5cce7734bc9a787a6e91d285787",
       "version_major": 2,
       "version_minor": 0
      },
      "text/plain": [
       "  0%|          | 0/1588042 [00:00<?, ?it/s]"
      ]
     },
     "metadata": {},
     "output_type": "display_data"
    },
    {
     "name": "stdout",
     "output_type": "stream",
     "text": [
      "ESP_011460_0980/\n",
      "Downloading https://hirise-pds.lpl.arizona.edu/PDS/EXTRAS/RDR/ESP/ORB_011400_011499/ESP_011460_0980/ESP_011460_0980_RGB.NOMAP.browse.jpg to I:\\data\\mars\\ESP_011460_0980_RGB.NOMAP.browse.jpg\n"
     ]
    },
    {
     "data": {
      "application/vnd.jupyter.widget-view+json": {
       "model_id": "d612519a484f453a9151605edb785c20",
       "version_major": 2,
       "version_minor": 0
      },
      "text/plain": [
       "  0%|          | 0/2592452 [00:00<?, ?it/s]"
      ]
     },
     "metadata": {},
     "output_type": "display_data"
    },
    {
     "name": "stdout",
     "output_type": "stream",
     "text": [
      "ESP_011464_2100/\n",
      "Downloading https://hirise-pds.lpl.arizona.edu/PDS/EXTRAS/RDR/ESP/ORB_011400_011499/ESP_011464_2100/ESP_011464_2100_RGB.NOMAP.browse.jpg to I:\\data\\mars\\ESP_011464_2100_RGB.NOMAP.browse.jpg\n"
     ]
    },
    {
     "data": {
      "application/vnd.jupyter.widget-view+json": {
       "model_id": "1c8dce2bdc3e4223bd9997f15937859c",
       "version_major": 2,
       "version_minor": 0
      },
      "text/plain": [
       "  0%|          | 0/1419501 [00:00<?, ?it/s]"
      ]
     },
     "metadata": {},
     "output_type": "display_data"
    },
    {
     "name": "stdout",
     "output_type": "stream",
     "text": [
      "ESP_011465_2075/\n",
      "Downloading https://hirise-pds.lpl.arizona.edu/PDS/EXTRAS/RDR/ESP/ORB_011400_011499/ESP_011465_2075/ESP_011465_2075_RGB.NOMAP.browse.jpg to I:\\data\\mars\\ESP_011465_2075_RGB.NOMAP.browse.jpg\n"
     ]
    },
    {
     "data": {
      "application/vnd.jupyter.widget-view+json": {
       "model_id": "dc8d72ada3a84fed88e0940221f10dcd",
       "version_major": 2,
       "version_minor": 0
      },
      "text/plain": [
       "  0%|          | 0/1844239 [00:00<?, ?it/s]"
      ]
     },
     "metadata": {},
     "output_type": "display_data"
    },
    {
     "name": "stdout",
     "output_type": "stream",
     "text": [
      "ESP_011468_1650/\n",
      "Downloading https://hirise-pds.lpl.arizona.edu/PDS/EXTRAS/RDR/ESP/ORB_011400_011499/ESP_011468_1650/ESP_011468_1650_RGB.NOMAP.browse.jpg to I:\\data\\mars\\ESP_011468_1650_RGB.NOMAP.browse.jpg\n"
     ]
    },
    {
     "data": {
      "application/vnd.jupyter.widget-view+json": {
       "model_id": "e3e47c50416046ba803af3650e9f4a72",
       "version_major": 2,
       "version_minor": 0
      },
      "text/plain": [
       "  0%|          | 0/1093864 [00:00<?, ?it/s]"
      ]
     },
     "metadata": {},
     "output_type": "display_data"
    },
    {
     "name": "stdout",
     "output_type": "stream",
     "text": [
      "ESP_011468_2265/\n",
      "Downloading https://hirise-pds.lpl.arizona.edu/PDS/EXTRAS/RDR/ESP/ORB_011400_011499/ESP_011468_2265/ESP_011468_2265_RGB.NOMAP.browse.jpg to I:\\data\\mars\\ESP_011468_2265_RGB.NOMAP.browse.jpg\n"
     ]
    },
    {
     "data": {
      "application/vnd.jupyter.widget-view+json": {
       "model_id": "586b877731f0463f8b300fdecb769728",
       "version_major": 2,
       "version_minor": 0
      },
      "text/plain": [
       "  0%|          | 0/1445823 [00:00<?, ?it/s]"
      ]
     },
     "metadata": {},
     "output_type": "display_data"
    },
    {
     "name": "stdout",
     "output_type": "stream",
     "text": [
      "ESP_011471_2200/\n",
      "Downloading https://hirise-pds.lpl.arizona.edu/PDS/EXTRAS/RDR/ESP/ORB_011400_011499/ESP_011471_2200/ESP_011471_2200_RGB.NOMAP.browse.jpg to I:\\data\\mars\\ESP_011471_2200_RGB.NOMAP.browse.jpg\n"
     ]
    },
    {
     "data": {
      "application/vnd.jupyter.widget-view+json": {
       "model_id": "e3cc968a38704c4490f3558bf49f44cc",
       "version_major": 2,
       "version_minor": 0
      },
      "text/plain": [
       "  0%|          | 0/2527857 [00:00<?, ?it/s]"
      ]
     },
     "metadata": {},
     "output_type": "display_data"
    },
    {
     "name": "stdout",
     "output_type": "stream",
     "text": [
      "ESP_011472_1225/\n",
      "Downloading https://hirise-pds.lpl.arizona.edu/PDS/EXTRAS/RDR/ESP/ORB_011400_011499/ESP_011472_1225/ESP_011472_1225_RGB.NOMAP.browse.jpg to I:\\data\\mars\\ESP_011472_1225_RGB.NOMAP.browse.jpg\n"
     ]
    },
    {
     "data": {
      "application/vnd.jupyter.widget-view+json": {
       "model_id": "edd50aa20c354515bbf1dac5ee7ac6f5",
       "version_major": 2,
       "version_minor": 0
      },
      "text/plain": [
       "  0%|          | 0/1703945 [00:00<?, ?it/s]"
      ]
     },
     "metadata": {},
     "output_type": "display_data"
    },
    {
     "name": "stdout",
     "output_type": "stream",
     "text": [
      "ESP_011476_1600/\n",
      "Downloading https://hirise-pds.lpl.arizona.edu/PDS/EXTRAS/RDR/ESP/ORB_011400_011499/ESP_011476_1600/ESP_011476_1600_RGB.NOMAP.browse.jpg to I:\\data\\mars\\ESP_011476_1600_RGB.NOMAP.browse.jpg\n"
     ]
    },
    {
     "data": {
      "application/vnd.jupyter.widget-view+json": {
       "model_id": "cf6e35beaf06477d824de4e41633af85",
       "version_major": 2,
       "version_minor": 0
      },
      "text/plain": [
       "  0%|          | 0/1329961 [00:00<?, ?it/s]"
      ]
     },
     "metadata": {},
     "output_type": "display_data"
    },
    {
     "name": "stdout",
     "output_type": "stream",
     "text": [
      "ESP_011477_1275/\n",
      "Downloading https://hirise-pds.lpl.arizona.edu/PDS/EXTRAS/RDR/ESP/ORB_011400_011499/ESP_011477_1275/ESP_011477_1275_RGB.NOMAP.browse.jpg to I:\\data\\mars\\ESP_011477_1275_RGB.NOMAP.browse.jpg\n"
     ]
    },
    {
     "data": {
      "application/vnd.jupyter.widget-view+json": {
       "model_id": "6a2a7f2b976b4058bbd5b2558c6ee505",
       "version_major": 2,
       "version_minor": 0
      },
      "text/plain": [
       "  0%|          | 0/1656427 [00:00<?, ?it/s]"
      ]
     },
     "metadata": {},
     "output_type": "display_data"
    },
    {
     "name": "stdout",
     "output_type": "stream",
     "text": [
      "ESP_011485_1555/\n",
      "Downloading https://hirise-pds.lpl.arizona.edu/PDS/EXTRAS/RDR/ESP/ORB_011400_011499/ESP_011485_1555/ESP_011485_1555_RGB.NOMAP.browse.jpg to I:\\data\\mars\\ESP_011485_1555_RGB.NOMAP.browse.jpg\n"
     ]
    },
    {
     "data": {
      "application/vnd.jupyter.widget-view+json": {
       "model_id": "c6114a869bf4458492ebfd5ebb2d57ff",
       "version_major": 2,
       "version_minor": 0
      },
      "text/plain": [
       "  0%|          | 0/1780221 [00:00<?, ?it/s]"
      ]
     },
     "metadata": {},
     "output_type": "display_data"
    },
    {
     "name": "stdout",
     "output_type": "stream",
     "text": [
      "ESP_011486_0980/\n",
      "Downloading https://hirise-pds.lpl.arizona.edu/PDS/EXTRAS/RDR/ESP/ORB_011400_011499/ESP_011486_0980/ESP_011486_0980_RGB.NOMAP.browse.jpg to I:\\data\\mars\\ESP_011486_0980_RGB.NOMAP.browse.jpg\n"
     ]
    },
    {
     "data": {
      "application/vnd.jupyter.widget-view+json": {
       "model_id": "a1224db1ce4346e4b8d16aca7da77b3c",
       "version_major": 2,
       "version_minor": 0
      },
      "text/plain": [
       "  0%|          | 0/3029676 [00:00<?, ?it/s]"
      ]
     },
     "metadata": {},
     "output_type": "display_data"
    },
    {
     "name": "stdout",
     "output_type": "stream",
     "text": [
      "ESP_011486_1745/\n",
      "Downloading https://hirise-pds.lpl.arizona.edu/PDS/EXTRAS/RDR/ESP/ORB_011400_011499/ESP_011486_1745/ESP_011486_1745_RGB.NOMAP.browse.jpg to I:\\data\\mars\\ESP_011486_1745_RGB.NOMAP.browse.jpg\n"
     ]
    },
    {
     "data": {
      "application/vnd.jupyter.widget-view+json": {
       "model_id": "2788dc2a73d540719bbe3dd24422b839",
       "version_major": 2,
       "version_minor": 0
      },
      "text/plain": [
       "  0%|          | 0/1055101 [00:00<?, ?it/s]"
      ]
     },
     "metadata": {},
     "output_type": "display_data"
    },
    {
     "name": "stdout",
     "output_type": "stream",
     "text": [
      "ESP_011490_1725/\n",
      "Downloading https://hirise-pds.lpl.arizona.edu/PDS/EXTRAS/RDR/ESP/ORB_011400_011499/ESP_011490_1725/ESP_011490_1725_RGB.NOMAP.browse.jpg to I:\\data\\mars\\ESP_011490_1725_RGB.NOMAP.browse.jpg\n"
     ]
    },
    {
     "data": {
      "application/vnd.jupyter.widget-view+json": {
       "model_id": "e596572b8ad044d49eaacff80c261da1",
       "version_major": 2,
       "version_minor": 0
      },
      "text/plain": [
       "  0%|          | 0/790877 [00:00<?, ?it/s]"
      ]
     },
     "metadata": {},
     "output_type": "display_data"
    },
    {
     "name": "stdout",
     "output_type": "stream",
     "text": [
      "ESP_011491_0985/\n",
      "Downloading https://hirise-pds.lpl.arizona.edu/PDS/EXTRAS/RDR/ESP/ORB_011400_011499/ESP_011491_0985/ESP_011491_0985_RGB.NOMAP.browse.jpg to I:\\data\\mars\\ESP_011491_0985_RGB.NOMAP.browse.jpg\n"
     ]
    },
    {
     "data": {
      "application/vnd.jupyter.widget-view+json": {
       "model_id": "eb7818dd86b24c56ac533dd5dd7c22c8",
       "version_major": 2,
       "version_minor": 0
      },
      "text/plain": [
       "  0%|          | 0/3016156 [00:00<?, ?it/s]"
      ]
     },
     "metadata": {},
     "output_type": "display_data"
    },
    {
     "name": "stdout",
     "output_type": "stream",
     "text": [
      "ESP_011491_2090/\n",
      "Downloading https://hirise-pds.lpl.arizona.edu/PDS/EXTRAS/RDR/ESP/ORB_011400_011499/ESP_011491_2090/ESP_011491_2090_RGB.NOMAP.browse.jpg to I:\\data\\mars\\ESP_011491_2090_RGB.NOMAP.browse.jpg\n"
     ]
    },
    {
     "data": {
      "application/vnd.jupyter.widget-view+json": {
       "model_id": "52c9a8c5f5b6435b9acc5bcb6994812e",
       "version_major": 2,
       "version_minor": 0
      },
      "text/plain": [
       "  0%|          | 0/1005716 [00:00<?, ?it/s]"
      ]
     },
     "metadata": {},
     "output_type": "display_data"
    },
    {
     "name": "stdout",
     "output_type": "stream",
     "text": [
      "ESP_011492_1260/\n",
      "\tfailed to find filename\n",
      "ESP_011492_2275/\n",
      "Downloading https://hirise-pds.lpl.arizona.edu/PDS/EXTRAS/RDR/ESP/ORB_011400_011499/ESP_011492_2275/ESP_011492_2275_RGB.NOMAP.browse.jpg to I:\\data\\mars\\ESP_011492_2275_RGB.NOMAP.browse.jpg\n"
     ]
    },
    {
     "data": {
      "application/vnd.jupyter.widget-view+json": {
       "model_id": "945b249f27824bcfb74eb9b6a0d65291",
       "version_major": 2,
       "version_minor": 0
      },
      "text/plain": [
       "  0%|          | 0/1070733 [00:00<?, ?it/s]"
      ]
     },
     "metadata": {},
     "output_type": "display_data"
    },
    {
     "name": "stdout",
     "output_type": "stream",
     "text": [
      "ESP_011493_2155/\n",
      "Downloading https://hirise-pds.lpl.arizona.edu/PDS/EXTRAS/RDR/ESP/ORB_011400_011499/ESP_011493_2155/ESP_011493_2155_RGB.NOMAP.browse.jpg to I:\\data\\mars\\ESP_011493_2155_RGB.NOMAP.browse.jpg\n"
     ]
    },
    {
     "data": {
      "application/vnd.jupyter.widget-view+json": {
       "model_id": "dafcf78c95d748ab984316d38bdc52bc",
       "version_major": 2,
       "version_minor": 0
      },
      "text/plain": [
       "  0%|          | 0/2659889 [00:00<?, ?it/s]"
      ]
     },
     "metadata": {},
     "output_type": "display_data"
    },
    {
     "name": "stdout",
     "output_type": "stream",
     "text": [
      "ESP_011494_1535/\n",
      "Downloading https://hirise-pds.lpl.arizona.edu/PDS/EXTRAS/RDR/ESP/ORB_011400_011499/ESP_011494_1535/ESP_011494_1535_RGB.NOMAP.browse.jpg to I:\\data\\mars\\ESP_011494_1535_RGB.NOMAP.browse.jpg\n"
     ]
    },
    {
     "data": {
      "application/vnd.jupyter.widget-view+json": {
       "model_id": "4a937032348a422985ed1ac26ddd999f",
       "version_major": 2,
       "version_minor": 0
      },
      "text/plain": [
       "  0%|          | 0/1895500 [00:00<?, ?it/s]"
      ]
     },
     "metadata": {},
     "output_type": "display_data"
    },
    {
     "name": "stdout",
     "output_type": "stream",
     "text": [
      "ESP_011494_2265/\n",
      "Downloading https://hirise-pds.lpl.arizona.edu/PDS/EXTRAS/RDR/ESP/ORB_011400_011499/ESP_011494_2265/ESP_011494_2265_RGB.NOMAP.browse.jpg to I:\\data\\mars\\ESP_011494_2265_RGB.NOMAP.browse.jpg\n"
     ]
    },
    {
     "data": {
      "application/vnd.jupyter.widget-view+json": {
       "model_id": "444d9cb2053a4d0bb3428846338c86ca",
       "version_major": 2,
       "version_minor": 0
      },
      "text/plain": [
       "  0%|          | 0/1000669 [00:00<?, ?it/s]"
      ]
     },
     "metadata": {},
     "output_type": "display_data"
    },
    {
     "name": "stdout",
     "output_type": "stream",
     "text": [
      "ESP_011495_1415/\n",
      "Downloading https://hirise-pds.lpl.arizona.edu/PDS/EXTRAS/RDR/ESP/ORB_011400_011499/ESP_011495_1415/ESP_011495_1415_RGB.NOMAP.browse.jpg to I:\\data\\mars\\ESP_011495_1415_RGB.NOMAP.browse.jpg\n"
     ]
    },
    {
     "data": {
      "application/vnd.jupyter.widget-view+json": {
       "model_id": "0755a0d1451243da9f95bdc1e54c4b93",
       "version_major": 2,
       "version_minor": 0
      },
      "text/plain": [
       "  0%|          | 0/1471875 [00:00<?, ?it/s]"
      ]
     },
     "metadata": {},
     "output_type": "display_data"
    },
    {
     "name": "stdout",
     "output_type": "stream",
     "text": [
      "ESP_011496_1100/\n",
      "Downloading https://hirise-pds.lpl.arizona.edu/PDS/EXTRAS/RDR/ESP/ORB_011400_011499/ESP_011496_1100/ESP_011496_1100_RGB.NOMAP.browse.jpg to I:\\data\\mars\\ESP_011496_1100_RGB.NOMAP.browse.jpg\n"
     ]
    },
    {
     "data": {
      "application/vnd.jupyter.widget-view+json": {
       "model_id": "11df65aaf43b46e8b25ec5dd912de5b6",
       "version_major": 2,
       "version_minor": 0
      },
      "text/plain": [
       "  0%|          | 0/1830483 [00:00<?, ?it/s]"
      ]
     },
     "metadata": {},
     "output_type": "display_data"
    },
    {
     "name": "stdout",
     "output_type": "stream",
     "text": [
      "ESP_011497_1090/\n",
      "Downloading https://hirise-pds.lpl.arizona.edu/PDS/EXTRAS/RDR/ESP/ORB_011400_011499/ESP_011497_1090/ESP_011497_1090_RGB.NOMAP.browse.jpg to I:\\data\\mars\\ESP_011497_1090_RGB.NOMAP.browse.jpg\n"
     ]
    },
    {
     "data": {
      "application/vnd.jupyter.widget-view+json": {
       "model_id": "c4c812b82a3b444ca8bbd2fc3695b092",
       "version_major": 2,
       "version_minor": 0
      },
      "text/plain": [
       "  0%|          | 0/2855045 [00:00<?, ?it/s]"
      ]
     },
     "metadata": {},
     "output_type": "display_data"
    },
    {
     "name": "stdout",
     "output_type": "stream",
     "text": [
      "ESP_011497_1965/\n",
      "Downloading https://hirise-pds.lpl.arizona.edu/PDS/EXTRAS/RDR/ESP/ORB_011400_011499/ESP_011497_1965/ESP_011497_1965_RGB.NOMAP.browse.jpg to I:\\data\\mars\\ESP_011497_1965_RGB.NOMAP.browse.jpg\n"
     ]
    },
    {
     "data": {
      "application/vnd.jupyter.widget-view+json": {
       "model_id": "e8dbc510d3a84ec0ad65aa247d3126cf",
       "version_major": 2,
       "version_minor": 0
      },
      "text/plain": [
       "  0%|          | 0/1079300 [00:00<?, ?it/s]"
      ]
     },
     "metadata": {},
     "output_type": "display_data"
    },
    {
     "name": "stdout",
     "output_type": "stream",
     "text": [
      "-------------------------------------------------- ORB_011500_011599/\n",
      "ESP_011504_1700/\n",
      "Downloading https://hirise-pds.lpl.arizona.edu/PDS/EXTRAS/RDR/ESP/ORB_011500_011599/ESP_011504_1700/ESP_011504_1700_RGB.NOMAP.browse.jpg to I:\\data\\mars\\ESP_011504_1700_RGB.NOMAP.browse.jpg\n"
     ]
    },
    {
     "data": {
      "application/vnd.jupyter.widget-view+json": {
       "model_id": "807ecd91291a4e20a5179deac3deec24",
       "version_major": 2,
       "version_minor": 0
      },
      "text/plain": [
       "  0%|          | 0/1542534 [00:00<?, ?it/s]"
      ]
     },
     "metadata": {},
     "output_type": "display_data"
    },
    {
     "name": "stdout",
     "output_type": "stream",
     "text": [
      "ESP_011505_1755/\n",
      "Downloading https://hirise-pds.lpl.arizona.edu/PDS/EXTRAS/RDR/ESP/ORB_011500_011599/ESP_011505_1755/ESP_011505_1755_RGB.NOMAP.browse.jpg to I:\\data\\mars\\ESP_011505_1755_RGB.NOMAP.browse.jpg\n"
     ]
    },
    {
     "data": {
      "application/vnd.jupyter.widget-view+json": {
       "model_id": "26d2f9c4c75c49c99de797bb5a1c106a",
       "version_major": 2,
       "version_minor": 0
      },
      "text/plain": [
       "  0%|          | 0/883665 [00:00<?, ?it/s]"
      ]
     },
     "metadata": {},
     "output_type": "display_data"
    },
    {
     "name": "stdout",
     "output_type": "stream",
     "text": [
      "ESP_011507_1620/\n",
      "Downloading https://hirise-pds.lpl.arizona.edu/PDS/EXTRAS/RDR/ESP/ORB_011500_011599/ESP_011507_1620/ESP_011507_1620_RGB.NOMAP.browse.jpg to I:\\data\\mars\\ESP_011507_1620_RGB.NOMAP.browse.jpg\n"
     ]
    },
    {
     "data": {
      "application/vnd.jupyter.widget-view+json": {
       "model_id": "cef720b8866e49ef8bd70d574372c571",
       "version_major": 2,
       "version_minor": 0
      },
      "text/plain": [
       "  0%|          | 0/2104365 [00:00<?, ?it/s]"
      ]
     },
     "metadata": {},
     "output_type": "display_data"
    },
    {
     "name": "stdout",
     "output_type": "stream",
     "text": [
      "ESP_011509_1380/\n",
      "Downloading https://hirise-pds.lpl.arizona.edu/PDS/EXTRAS/RDR/ESP/ORB_011500_011599/ESP_011509_1380/ESP_011509_1380_RGB.NOMAP.browse.jpg to I:\\data\\mars\\ESP_011509_1380_RGB.NOMAP.browse.jpg\n"
     ]
    },
    {
     "data": {
      "application/vnd.jupyter.widget-view+json": {
       "model_id": "0108f2381ac54ba1b00a520276897dd0",
       "version_major": 2,
       "version_minor": 0
      },
      "text/plain": [
       "  0%|          | 0/1200771 [00:00<?, ?it/s]"
      ]
     },
     "metadata": {},
     "output_type": "display_data"
    },
    {
     "name": "stdout",
     "output_type": "stream",
     "text": [
      "ESP_011512_1750/\n",
      "Downloading https://hirise-pds.lpl.arizona.edu/PDS/EXTRAS/RDR/ESP/ORB_011500_011599/ESP_011512_1750/ESP_011512_1750_RGB.NOMAP.browse.jpg to I:\\data\\mars\\ESP_011512_1750_RGB.NOMAP.browse.jpg\n"
     ]
    },
    {
     "data": {
      "application/vnd.jupyter.widget-view+json": {
       "model_id": "6a2111f912c04b689af6c30882b21aeb",
       "version_major": 2,
       "version_minor": 0
      },
      "text/plain": [
       "  0%|          | 0/738143 [00:00<?, ?it/s]"
      ]
     },
     "metadata": {},
     "output_type": "display_data"
    },
    {
     "name": "stdout",
     "output_type": "stream",
     "text": [
      "ESP_011512_2330/\n",
      "Downloading https://hirise-pds.lpl.arizona.edu/PDS/EXTRAS/RDR/ESP/ORB_011500_011599/ESP_011512_2330/ESP_011512_2330_RGB.NOMAP.browse.jpg to I:\\data\\mars\\ESP_011512_2330_RGB.NOMAP.browse.jpg\n"
     ]
    },
    {
     "data": {
      "application/vnd.jupyter.widget-view+json": {
       "model_id": "8448a302116c45f1b1b800aa83e5beb9",
       "version_major": 2,
       "version_minor": 0
      },
      "text/plain": [
       "  0%|          | 0/1765076 [00:00<?, ?it/s]"
      ]
     },
     "metadata": {},
     "output_type": "display_data"
    },
    {
     "name": "stdout",
     "output_type": "stream",
     "text": [
      "ESP_011515_0980/\n",
      "Downloading https://hirise-pds.lpl.arizona.edu/PDS/EXTRAS/RDR/ESP/ORB_011500_011599/ESP_011515_0980/ESP_011515_0980_RGB.NOMAP.browse.jpg to I:\\data\\mars\\ESP_011515_0980_RGB.NOMAP.browse.jpg\n"
     ]
    },
    {
     "data": {
      "application/vnd.jupyter.widget-view+json": {
       "model_id": "1ad117a4c3314d45aa15c08dee07b4bb",
       "version_major": 2,
       "version_minor": 0
      },
      "text/plain": [
       "  0%|          | 0/2764994 [00:00<?, ?it/s]"
      ]
     },
     "metadata": {},
     "output_type": "display_data"
    },
    {
     "name": "stdout",
     "output_type": "stream",
     "text": [
      "ESP_011516_1730/\n",
      "Downloading https://hirise-pds.lpl.arizona.edu/PDS/EXTRAS/RDR/ESP/ORB_011500_011599/ESP_011516_1730/ESP_011516_1730_RGB.NOMAP.browse.jpg to I:\\data\\mars\\ESP_011516_1730_RGB.NOMAP.browse.jpg\n"
     ]
    },
    {
     "data": {
      "application/vnd.jupyter.widget-view+json": {
       "model_id": "40bb609822424a2b8704c45de4d260f9",
       "version_major": 2,
       "version_minor": 0
      },
      "text/plain": [
       "  0%|          | 0/1199904 [00:00<?, ?it/s]"
      ]
     },
     "metadata": {},
     "output_type": "display_data"
    },
    {
     "name": "stdout",
     "output_type": "stream",
     "text": [
      "ESP_011519_1970/\n",
      "Downloading https://hirise-pds.lpl.arizona.edu/PDS/EXTRAS/RDR/ESP/ORB_011500_011599/ESP_011519_1970/ESP_011519_1970_RGB.NOMAP.browse.jpg to I:\\data\\mars\\ESP_011519_1970_RGB.NOMAP.browse.jpg\n"
     ]
    },
    {
     "data": {
      "application/vnd.jupyter.widget-view+json": {
       "model_id": "0b04c2d973354e159f0df8e9646c1903",
       "version_major": 2,
       "version_minor": 0
      },
      "text/plain": [
       "  0%|          | 0/3719666 [00:00<?, ?it/s]"
      ]
     },
     "metadata": {},
     "output_type": "display_data"
    },
    {
     "name": "stdout",
     "output_type": "stream",
     "text": [
      "ESP_011522_1045/\n",
      "Downloading https://hirise-pds.lpl.arizona.edu/PDS/EXTRAS/RDR/ESP/ORB_011500_011599/ESP_011522_1045/ESP_011522_1045_RGB.NOMAP.browse.jpg to I:\\data\\mars\\ESP_011522_1045_RGB.NOMAP.browse.jpg\n"
     ]
    },
    {
     "data": {
      "application/vnd.jupyter.widget-view+json": {
       "model_id": "9a4ac22204bd420faf40fb531b46325e",
       "version_major": 2,
       "version_minor": 0
      },
      "text/plain": [
       "  0%|          | 0/2865679 [00:00<?, ?it/s]"
      ]
     },
     "metadata": {},
     "output_type": "display_data"
    },
    {
     "name": "stdout",
     "output_type": "stream",
     "text": [
      "ESP_011522_1835/\n",
      "Downloading https://hirise-pds.lpl.arizona.edu/PDS/EXTRAS/RDR/ESP/ORB_011500_011599/ESP_011522_1835/ESP_011522_1835_RGB.NOMAP.browse.jpg to I:\\data\\mars\\ESP_011522_1835_RGB.NOMAP.browse.jpg\n"
     ]
    },
    {
     "data": {
      "application/vnd.jupyter.widget-view+json": {
       "model_id": "1dee2d27e34d4bf9b42511d58a424eaf",
       "version_major": 2,
       "version_minor": 0
      },
      "text/plain": [
       "  0%|          | 0/1248321 [00:00<?, ?it/s]"
      ]
     },
     "metadata": {},
     "output_type": "display_data"
    },
    {
     "name": "stdout",
     "output_type": "stream",
     "text": [
      "ESP_011523_1695/\n",
      "Downloading https://hirise-pds.lpl.arizona.edu/PDS/EXTRAS/RDR/ESP/ORB_011500_011599/ESP_011523_1695/ESP_011523_1695_RGB.NOMAP.browse.jpg to I:\\data\\mars\\ESP_011523_1695_RGB.NOMAP.browse.jpg\n"
     ]
    },
    {
     "data": {
      "application/vnd.jupyter.widget-view+json": {
       "model_id": "367ef96869504dd88a3f45aef19befff",
       "version_major": 2,
       "version_minor": 0
      },
      "text/plain": [
       "  0%|          | 0/789069 [00:00<?, ?it/s]"
      ]
     },
     "metadata": {},
     "output_type": "display_data"
    },
    {
     "name": "stdout",
     "output_type": "stream",
     "text": [
      "ESP_011523_2235/\n",
      "Downloading https://hirise-pds.lpl.arizona.edu/PDS/EXTRAS/RDR/ESP/ORB_011500_011599/ESP_011523_2235/ESP_011523_2235_RGB.NOMAP.browse.jpg to I:\\data\\mars\\ESP_011523_2235_RGB.NOMAP.browse.jpg\n"
     ]
    },
    {
     "data": {
      "application/vnd.jupyter.widget-view+json": {
       "model_id": "3308f05d0e374907ac47acbf7cea8d5e",
       "version_major": 2,
       "version_minor": 0
      },
      "text/plain": [
       "  0%|          | 0/1328050 [00:00<?, ?it/s]"
      ]
     },
     "metadata": {},
     "output_type": "display_data"
    },
    {
     "name": "stdout",
     "output_type": "stream",
     "text": [
      "ESP_011526_0980/\n",
      "Downloading https://hirise-pds.lpl.arizona.edu/PDS/EXTRAS/RDR/ESP/ORB_011500_011599/ESP_011526_0980/ESP_011526_0980_RGB.NOMAP.browse.jpg to I:\\data\\mars\\ESP_011526_0980_RGB.NOMAP.browse.jpg\n"
     ]
    },
    {
     "data": {
      "application/vnd.jupyter.widget-view+json": {
       "model_id": "20e63b2844a64e74ad99ffd5377067db",
       "version_major": 2,
       "version_minor": 0
      },
      "text/plain": [
       "  0%|          | 0/2100737 [00:00<?, ?it/s]"
      ]
     },
     "metadata": {},
     "output_type": "display_data"
    },
    {
     "name": "stdout",
     "output_type": "stream",
     "text": [
      "ESP_011527_1325/\n",
      "Downloading https://hirise-pds.lpl.arizona.edu/PDS/EXTRAS/RDR/ESP/ORB_011500_011599/ESP_011527_1325/ESP_011527_1325_RGB.NOMAP.browse.jpg to I:\\data\\mars\\ESP_011527_1325_RGB.NOMAP.browse.jpg\n"
     ]
    },
    {
     "data": {
      "application/vnd.jupyter.widget-view+json": {
       "model_id": "dd34d39086544bc0a3ac81935204564b",
       "version_major": 2,
       "version_minor": 0
      },
      "text/plain": [
       "  0%|          | 0/656386 [00:00<?, ?it/s]"
      ]
     },
     "metadata": {},
     "output_type": "display_data"
    },
    {
     "name": "stdout",
     "output_type": "stream",
     "text": [
      "ESP_011529_1855/\n",
      "Downloading https://hirise-pds.lpl.arizona.edu/PDS/EXTRAS/RDR/ESP/ORB_011500_011599/ESP_011529_1855/ESP_011529_1855_RGB.NOMAP.browse.jpg to I:\\data\\mars\\ESP_011529_1855_RGB.NOMAP.browse.jpg\n"
     ]
    },
    {
     "data": {
      "application/vnd.jupyter.widget-view+json": {
       "model_id": "1b6e3c6fa7a7449bac060b42053357d3",
       "version_major": 2,
       "version_minor": 0
      },
      "text/plain": [
       "  0%|          | 0/1795755 [00:00<?, ?it/s]"
      ]
     },
     "metadata": {},
     "output_type": "display_data"
    },
    {
     "name": "stdout",
     "output_type": "stream",
     "text": [
      "ESP_011531_2065/\n",
      "Downloading https://hirise-pds.lpl.arizona.edu/PDS/EXTRAS/RDR/ESP/ORB_011500_011599/ESP_011531_2065/ESP_011531_2065_RGB.NOMAP.browse.jpg to I:\\data\\mars\\ESP_011531_2065_RGB.NOMAP.browse.jpg\n"
     ]
    },
    {
     "data": {
      "application/vnd.jupyter.widget-view+json": {
       "model_id": "d8dce9140e2143ce91bfd4c72386842a",
       "version_major": 2,
       "version_minor": 0
      },
      "text/plain": [
       "  0%|          | 0/1246681 [00:00<?, ?it/s]"
      ]
     },
     "metadata": {},
     "output_type": "display_data"
    },
    {
     "name": "stdout",
     "output_type": "stream",
     "text": [
      "ESP_011535_1870/\n",
      "Downloading https://hirise-pds.lpl.arizona.edu/PDS/EXTRAS/RDR/ESP/ORB_011500_011599/ESP_011535_1870/ESP_011535_1870_RGB.NOMAP.browse.jpg to I:\\data\\mars\\ESP_011535_1870_RGB.NOMAP.browse.jpg\n"
     ]
    },
    {
     "data": {
      "application/vnd.jupyter.widget-view+json": {
       "model_id": "5aa3cfdac4d940169d3c3ab46b325b2f",
       "version_major": 2,
       "version_minor": 0
      },
      "text/plain": [
       "  0%|          | 0/786710 [00:00<?, ?it/s]"
      ]
     },
     "metadata": {},
     "output_type": "display_data"
    },
    {
     "name": "stdout",
     "output_type": "stream",
     "text": [
      "ESP_011536_1440/\n",
      "Downloading https://hirise-pds.lpl.arizona.edu/PDS/EXTRAS/RDR/ESP/ORB_011500_011599/ESP_011536_1440/ESP_011536_1440_RGB.NOMAP.browse.jpg to I:\\data\\mars\\ESP_011536_1440_RGB.NOMAP.browse.jpg\n"
     ]
    },
    {
     "data": {
      "application/vnd.jupyter.widget-view+json": {
       "model_id": "2c1ca485c1a249029db13d72978a38cd",
       "version_major": 2,
       "version_minor": 0
      },
      "text/plain": [
       "  0%|          | 0/1795119 [00:00<?, ?it/s]"
      ]
     },
     "metadata": {},
     "output_type": "display_data"
    },
    {
     "name": "stdout",
     "output_type": "stream",
     "text": [
      "ESP_011538_1970/\n",
      "Downloading https://hirise-pds.lpl.arizona.edu/PDS/EXTRAS/RDR/ESP/ORB_011500_011599/ESP_011538_1970/ESP_011538_1970_RGB.NOMAP.browse.jpg to I:\\data\\mars\\ESP_011538_1970_RGB.NOMAP.browse.jpg\n"
     ]
    },
    {
     "data": {
      "application/vnd.jupyter.widget-view+json": {
       "model_id": "842731141e7648a8a23e1798101ba7c7",
       "version_major": 2,
       "version_minor": 0
      },
      "text/plain": [
       "  0%|          | 0/2472959 [00:00<?, ?it/s]"
      ]
     },
     "metadata": {},
     "output_type": "display_data"
    },
    {
     "name": "stdout",
     "output_type": "stream",
     "text": [
      "ESP_011542_1530/\n",
      "Downloading https://hirise-pds.lpl.arizona.edu/PDS/EXTRAS/RDR/ESP/ORB_011500_011599/ESP_011542_1530/ESP_011542_1530_RGB.NOMAP.browse.jpg to I:\\data\\mars\\ESP_011542_1530_RGB.NOMAP.browse.jpg\n"
     ]
    },
    {
     "data": {
      "application/vnd.jupyter.widget-view+json": {
       "model_id": "97ff871fb8ca4962ac6092f0afe9a3dd",
       "version_major": 2,
       "version_minor": 0
      },
      "text/plain": [
       "  0%|          | 0/2309796 [00:00<?, ?it/s]"
      ]
     },
     "metadata": {},
     "output_type": "display_data"
    },
    {
     "name": "stdout",
     "output_type": "stream",
     "text": [
      "ESP_011543_1665/\n",
      "Downloading https://hirise-pds.lpl.arizona.edu/PDS/EXTRAS/RDR/ESP/ORB_011500_011599/ESP_011543_1665/ESP_011543_1665_RGB.NOMAP.browse.jpg to I:\\data\\mars\\ESP_011543_1665_RGB.NOMAP.browse.jpg\n"
     ]
    },
    {
     "data": {
      "application/vnd.jupyter.widget-view+json": {
       "model_id": "b5dde2df85f34d499af525c6548712ad",
       "version_major": 2,
       "version_minor": 0
      },
      "text/plain": [
       "  0%|          | 0/625314 [00:00<?, ?it/s]"
      ]
     },
     "metadata": {},
     "output_type": "display_data"
    },
    {
     "name": "stdout",
     "output_type": "stream",
     "text": [
      "ESP_011543_2300/\n",
      "Downloading https://hirise-pds.lpl.arizona.edu/PDS/EXTRAS/RDR/ESP/ORB_011500_011599/ESP_011543_2300/ESP_011543_2300_RGB.NOMAP.browse.jpg to I:\\data\\mars\\ESP_011543_2300_RGB.NOMAP.browse.jpg\n"
     ]
    },
    {
     "data": {
      "application/vnd.jupyter.widget-view+json": {
       "model_id": "6f3e10e4c95e44e287ee7ae5738458a7",
       "version_major": 2,
       "version_minor": 0
      },
      "text/plain": [
       "  0%|          | 0/841445 [00:00<?, ?it/s]"
      ]
     },
     "metadata": {},
     "output_type": "display_data"
    },
    {
     "name": "stdout",
     "output_type": "stream",
     "text": [
      "ESP_011544_0985/\n",
      "Downloading https://hirise-pds.lpl.arizona.edu/PDS/EXTRAS/RDR/ESP/ORB_011500_011599/ESP_011544_0985/ESP_011544_0985_RGB.NOMAP.browse.jpg to I:\\data\\mars\\ESP_011544_0985_RGB.NOMAP.browse.jpg\n"
     ]
    },
    {
     "data": {
      "application/vnd.jupyter.widget-view+json": {
       "model_id": "e7328ae8869744dfadf5f764a55713ac",
       "version_major": 2,
       "version_minor": 0
      },
      "text/plain": [
       "  0%|          | 0/1291855 [00:00<?, ?it/s]"
      ]
     },
     "metadata": {},
     "output_type": "display_data"
    },
    {
     "name": "stdout",
     "output_type": "stream",
     "text": [
      "ESP_011547_1475/\n",
      "Downloading https://hirise-pds.lpl.arizona.edu/PDS/EXTRAS/RDR/ESP/ORB_011500_011599/ESP_011547_1475/ESP_011547_1475_RGB.NOMAP.browse.jpg to I:\\data\\mars\\ESP_011547_1475_RGB.NOMAP.browse.jpg\n"
     ]
    },
    {
     "data": {
      "application/vnd.jupyter.widget-view+json": {
       "model_id": "78b3548c50f7452fbe2d25c9e87c7a29",
       "version_major": 2,
       "version_minor": 0
      },
      "text/plain": [
       "  0%|          | 0/1930124 [00:00<?, ?it/s]"
      ]
     },
     "metadata": {},
     "output_type": "display_data"
    },
    {
     "name": "stdout",
     "output_type": "stream",
     "text": [
      "ESP_011548_2360/\n",
      "Downloading https://hirise-pds.lpl.arizona.edu/PDS/EXTRAS/RDR/ESP/ORB_011500_011599/ESP_011548_2360/ESP_011548_2360_RGB.NOMAP.browse.jpg to I:\\data\\mars\\ESP_011548_2360_RGB.NOMAP.browse.jpg\n"
     ]
    },
    {
     "data": {
      "application/vnd.jupyter.widget-view+json": {
       "model_id": "fb5956104ff044e9a6046d42f2bb510e",
       "version_major": 2,
       "version_minor": 0
      },
      "text/plain": [
       "  0%|          | 0/664122 [00:00<?, ?it/s]"
      ]
     },
     "metadata": {},
     "output_type": "display_data"
    },
    {
     "name": "stdout",
     "output_type": "stream",
     "text": [
      "ESP_011549_1920/\n",
      "Downloading https://hirise-pds.lpl.arizona.edu/PDS/EXTRAS/RDR/ESP/ORB_011500_011599/ESP_011549_1920/ESP_011549_1920_RGB.NOMAP.browse.jpg to I:\\data\\mars\\ESP_011549_1920_RGB.NOMAP.browse.jpg\n"
     ]
    },
    {
     "data": {
      "application/vnd.jupyter.widget-view+json": {
       "model_id": "a3df1ed9ed6a480ca561f28fc1287a4e",
       "version_major": 2,
       "version_minor": 0
      },
      "text/plain": [
       "  0%|          | 0/917179 [00:00<?, ?it/s]"
      ]
     },
     "metadata": {},
     "output_type": "display_data"
    },
    {
     "name": "stdout",
     "output_type": "stream",
     "text": [
      "ESP_011555_1310/\n",
      "Downloading https://hirise-pds.lpl.arizona.edu/PDS/EXTRAS/RDR/ESP/ORB_011500_011599/ESP_011555_1310/ESP_011555_1310_RGB.NOMAP.browse.jpg to I:\\data\\mars\\ESP_011555_1310_RGB.NOMAP.browse.jpg\n"
     ]
    },
    {
     "data": {
      "application/vnd.jupyter.widget-view+json": {
       "model_id": "6ce63e859eac47238d7a1868e746eef9",
       "version_major": 2,
       "version_minor": 0
      },
      "text/plain": [
       "  0%|          | 0/1416709 [00:00<?, ?it/s]"
      ]
     },
     "metadata": {},
     "output_type": "display_data"
    },
    {
     "name": "stdout",
     "output_type": "stream",
     "text": [
      "ESP_011557_0985/\n",
      "Downloading https://hirise-pds.lpl.arizona.edu/PDS/EXTRAS/RDR/ESP/ORB_011500_011599/ESP_011557_0985/ESP_011557_0985_RGB.NOMAP.browse.jpg to I:\\data\\mars\\ESP_011557_0985_RGB.NOMAP.browse.jpg\n"
     ]
    },
    {
     "data": {
      "application/vnd.jupyter.widget-view+json": {
       "model_id": "04a2b5893ff04672a751a92cd1b6ce82",
       "version_major": 2,
       "version_minor": 0
      },
      "text/plain": [
       "  0%|          | 0/1457367 [00:00<?, ?it/s]"
      ]
     },
     "metadata": {},
     "output_type": "display_data"
    },
    {
     "name": "stdout",
     "output_type": "stream",
     "text": [
      "ESP_011557_2160/\n",
      "Downloading https://hirise-pds.lpl.arizona.edu/PDS/EXTRAS/RDR/ESP/ORB_011500_011599/ESP_011557_2160/ESP_011557_2160_RGB.NOMAP.browse.jpg to I:\\data\\mars\\ESP_011557_2160_RGB.NOMAP.browse.jpg\n"
     ]
    },
    {
     "data": {
      "application/vnd.jupyter.widget-view+json": {
       "model_id": "6f96f5d29cb4408786fefa1b719ffe71",
       "version_major": 2,
       "version_minor": 0
      },
      "text/plain": [
       "  0%|          | 0/853947 [00:00<?, ?it/s]"
      ]
     },
     "metadata": {},
     "output_type": "display_data"
    },
    {
     "name": "stdout",
     "output_type": "stream",
     "text": [
      "ESP_011559_1975/\n",
      "Downloading https://hirise-pds.lpl.arizona.edu/PDS/EXTRAS/RDR/ESP/ORB_011500_011599/ESP_011559_1975/ESP_011559_1975_RGB.NOMAP.browse.jpg to I:\\data\\mars\\ESP_011559_1975_RGB.NOMAP.browse.jpg\n"
     ]
    },
    {
     "data": {
      "application/vnd.jupyter.widget-view+json": {
       "model_id": "1190a0cafb7c41139407f7c860baed35",
       "version_major": 2,
       "version_minor": 0
      },
      "text/plain": [
       "  0%|          | 0/805556 [00:00<?, ?it/s]"
      ]
     },
     "metadata": {},
     "output_type": "display_data"
    },
    {
     "name": "stdout",
     "output_type": "stream",
     "text": [
      "ESP_011560_1535/\n",
      "Downloading https://hirise-pds.lpl.arizona.edu/PDS/EXTRAS/RDR/ESP/ORB_011500_011599/ESP_011560_1535/ESP_011560_1535_RGB.NOMAP.browse.jpg to I:\\data\\mars\\ESP_011560_1535_RGB.NOMAP.browse.jpg\n"
     ]
    },
    {
     "data": {
      "application/vnd.jupyter.widget-view+json": {
       "model_id": "f5df900c435244c58dab925c89de8879",
       "version_major": 2,
       "version_minor": 0
      },
      "text/plain": [
       "  0%|          | 0/1235503 [00:00<?, ?it/s]"
      ]
     },
     "metadata": {},
     "output_type": "display_data"
    },
    {
     "name": "stdout",
     "output_type": "stream",
     "text": [
      "ESP_011562_1755/\n",
      "Downloading https://hirise-pds.lpl.arizona.edu/PDS/EXTRAS/RDR/ESP/ORB_011500_011599/ESP_011562_1755/ESP_011562_1755_RGB.NOMAP.browse.jpg to I:\\data\\mars\\ESP_011562_1755_RGB.NOMAP.browse.jpg\n"
     ]
    },
    {
     "data": {
      "application/vnd.jupyter.widget-view+json": {
       "model_id": "6909a69e85ed45e7ab526e3ebb356251",
       "version_major": 2,
       "version_minor": 0
      },
      "text/plain": [
       "  0%|          | 0/1987997 [00:00<?, ?it/s]"
      ]
     },
     "metadata": {},
     "output_type": "display_data"
    },
    {
     "name": "stdout",
     "output_type": "stream",
     "text": [
      "ESP_011563_2200/\n",
      "Downloading https://hirise-pds.lpl.arizona.edu/PDS/EXTRAS/RDR/ESP/ORB_011500_011599/ESP_011563_2200/ESP_011563_2200_RGB.NOMAP.browse.jpg to I:\\data\\mars\\ESP_011563_2200_RGB.NOMAP.browse.jpg\n"
     ]
    },
    {
     "data": {
      "application/vnd.jupyter.widget-view+json": {
       "model_id": "276d3358d99948bfb7226a580da24fee",
       "version_major": 2,
       "version_minor": 0
      },
      "text/plain": [
       "  0%|          | 0/1495825 [00:00<?, ?it/s]"
      ]
     },
     "metadata": {},
     "output_type": "display_data"
    },
    {
     "name": "stdout",
     "output_type": "stream",
     "text": [
      "ESP_011564_2165/\n",
      "Downloading https://hirise-pds.lpl.arizona.edu/PDS/EXTRAS/RDR/ESP/ORB_011500_011599/ESP_011564_2165/ESP_011564_2165_RGB.NOMAP.browse.jpg to I:\\data\\mars\\ESP_011564_2165_RGB.NOMAP.browse.jpg\n"
     ]
    },
    {
     "data": {
      "application/vnd.jupyter.widget-view+json": {
       "model_id": "abc07ecc5b5146d7a23f5546ff6e0638",
       "version_major": 2,
       "version_minor": 0
      },
      "text/plain": [
       "  0%|          | 0/2425269 [00:00<?, ?it/s]"
      ]
     },
     "metadata": {},
     "output_type": "display_data"
    },
    {
     "name": "stdout",
     "output_type": "stream",
     "text": [
      "ESP_011565_0930/\n",
      "Downloading https://hirise-pds.lpl.arizona.edu/PDS/EXTRAS/RDR/ESP/ORB_011500_011599/ESP_011565_0930/ESP_011565_0930_RGB.NOMAP.browse.jpg to I:\\data\\mars\\ESP_011565_0930_RGB.NOMAP.browse.jpg\n"
     ]
    },
    {
     "data": {
      "application/vnd.jupyter.widget-view+json": {
       "model_id": "318e819981dc4386802d4a1780dcfa66",
       "version_major": 2,
       "version_minor": 0
      },
      "text/plain": [
       "  0%|          | 0/2352229 [00:00<?, ?it/s]"
      ]
     },
     "metadata": {},
     "output_type": "display_data"
    },
    {
     "name": "stdout",
     "output_type": "stream",
     "text": [
      "ESP_011571_2270/\n",
      "Downloading https://hirise-pds.lpl.arizona.edu/PDS/EXTRAS/RDR/ESP/ORB_011500_011599/ESP_011571_2270/ESP_011571_2270_RGB.NOMAP.browse.jpg to I:\\data\\mars\\ESP_011571_2270_RGB.NOMAP.browse.jpg\n"
     ]
    },
    {
     "data": {
      "application/vnd.jupyter.widget-view+json": {
       "model_id": "227a6ea3b61749d19ccaa49df4a58558",
       "version_major": 2,
       "version_minor": 0
      },
      "text/plain": [
       "  0%|          | 0/846765 [00:00<?, ?it/s]"
      ]
     },
     "metadata": {},
     "output_type": "display_data"
    },
    {
     "name": "stdout",
     "output_type": "stream",
     "text": [
      "ESP_011572_1615/\n",
      "Downloading https://hirise-pds.lpl.arizona.edu/PDS/EXTRAS/RDR/ESP/ORB_011500_011599/ESP_011572_1615/ESP_011572_1615_RGB.NOMAP.browse.jpg to I:\\data\\mars\\ESP_011572_1615_RGB.NOMAP.browse.jpg\n"
     ]
    },
    {
     "data": {
      "application/vnd.jupyter.widget-view+json": {
       "model_id": "68df7a7c19604d488e53513240383856",
       "version_major": 2,
       "version_minor": 0
      },
      "text/plain": [
       "  0%|          | 0/1013403 [00:00<?, ?it/s]"
      ]
     },
     "metadata": {},
     "output_type": "display_data"
    },
    {
     "name": "stdout",
     "output_type": "stream",
     "text": [
      "ESP_011573_1440/\n",
      "Downloading https://hirise-pds.lpl.arizona.edu/PDS/EXTRAS/RDR/ESP/ORB_011500_011599/ESP_011573_1440/ESP_011573_1440_RGB.NOMAP.browse.jpg to I:\\data\\mars\\ESP_011573_1440_RGB.NOMAP.browse.jpg\n"
     ]
    },
    {
     "data": {
      "application/vnd.jupyter.widget-view+json": {
       "model_id": "e50253158b32455c9a479b3ef482ae0e",
       "version_major": 2,
       "version_minor": 0
      },
      "text/plain": [
       "  0%|          | 0/517867 [00:00<?, ?it/s]"
      ]
     },
     "metadata": {},
     "output_type": "display_data"
    },
    {
     "name": "stdout",
     "output_type": "stream",
     "text": [
      "ESP_011574_2235/\n",
      "Downloading https://hirise-pds.lpl.arizona.edu/PDS/EXTRAS/RDR/ESP/ORB_011500_011599/ESP_011574_2235/ESP_011574_2235_RGB.NOMAP.browse.jpg to I:\\data\\mars\\ESP_011574_2235_RGB.NOMAP.browse.jpg\n"
     ]
    },
    {
     "data": {
      "application/vnd.jupyter.widget-view+json": {
       "model_id": "fb99ea19fc5548f89d4278d08a49b661",
       "version_major": 2,
       "version_minor": 0
      },
      "text/plain": [
       "  0%|          | 0/1043315 [00:00<?, ?it/s]"
      ]
     },
     "metadata": {},
     "output_type": "display_data"
    },
    {
     "name": "stdout",
     "output_type": "stream",
     "text": [
      "ESP_011575_1105/\n",
      "Downloading https://hirise-pds.lpl.arizona.edu/PDS/EXTRAS/RDR/ESP/ORB_011500_011599/ESP_011575_1105/ESP_011575_1105_RGB.NOMAP.browse.jpg to I:\\data\\mars\\ESP_011575_1105_RGB.NOMAP.browse.jpg\n"
     ]
    },
    {
     "data": {
      "application/vnd.jupyter.widget-view+json": {
       "model_id": "750e5b247025437b94aafabfff3f49f9",
       "version_major": 2,
       "version_minor": 0
      },
      "text/plain": [
       "  0%|          | 0/2073364 [00:00<?, ?it/s]"
      ]
     },
     "metadata": {},
     "output_type": "display_data"
    },
    {
     "name": "stdout",
     "output_type": "stream",
     "text": [
      "ESP_011577_1460/\n",
      "Downloading https://hirise-pds.lpl.arizona.edu/PDS/EXTRAS/RDR/ESP/ORB_011500_011599/ESP_011577_1460/ESP_011577_1460_RGB.NOMAP.browse.jpg to I:\\data\\mars\\ESP_011577_1460_RGB.NOMAP.browse.jpg\n"
     ]
    },
    {
     "data": {
      "application/vnd.jupyter.widget-view+json": {
       "model_id": "15a54ebac7b34c53b32024dc70696e41",
       "version_major": 2,
       "version_minor": 0
      },
      "text/plain": [
       "  0%|          | 0/1487108 [00:00<?, ?it/s]"
      ]
     },
     "metadata": {},
     "output_type": "display_data"
    },
    {
     "name": "stdout",
     "output_type": "stream",
     "text": [
      "ESP_011579_1895/\n",
      "Downloading https://hirise-pds.lpl.arizona.edu/PDS/EXTRAS/RDR/ESP/ORB_011500_011599/ESP_011579_1895/ESP_011579_1895_RGB.NOMAP.browse.jpg to I:\\data\\mars\\ESP_011579_1895_RGB.NOMAP.browse.jpg\n"
     ]
    },
    {
     "data": {
      "application/vnd.jupyter.widget-view+json": {
       "model_id": "00f740e874384a0dae79874a733e19c0",
       "version_major": 2,
       "version_minor": 0
      },
      "text/plain": [
       "  0%|          | 0/310745 [00:00<?, ?it/s]"
      ]
     },
     "metadata": {},
     "output_type": "display_data"
    },
    {
     "name": "stdout",
     "output_type": "stream",
     "text": [
      "ESP_011580_1255/\n",
      "Downloading https://hirise-pds.lpl.arizona.edu/PDS/EXTRAS/RDR/ESP/ORB_011500_011599/ESP_011580_1255/ESP_011580_1255_RGB.NOMAP.browse.jpg to I:\\data\\mars\\ESP_011580_1255_RGB.NOMAP.browse.jpg\n"
     ]
    },
    {
     "data": {
      "application/vnd.jupyter.widget-view+json": {
       "model_id": "a0b5ccd896e346ce9535f7872a409ffb",
       "version_major": 2,
       "version_minor": 0
      },
      "text/plain": [
       "  0%|          | 0/1420904 [00:00<?, ?it/s]"
      ]
     },
     "metadata": {},
     "output_type": "display_data"
    },
    {
     "name": "stdout",
     "output_type": "stream",
     "text": [
      "ESP_011582_1730/\n",
      "Downloading https://hirise-pds.lpl.arizona.edu/PDS/EXTRAS/RDR/ESP/ORB_011500_011599/ESP_011582_1730/ESP_011582_1730_RGB.NOMAP.browse.jpg to I:\\data\\mars\\ESP_011582_1730_RGB.NOMAP.browse.jpg\n"
     ]
    },
    {
     "data": {
      "application/vnd.jupyter.widget-view+json": {
       "model_id": "70b65563ec1d43a787a7994374e928b4",
       "version_major": 2,
       "version_minor": 0
      },
      "text/plain": [
       "  0%|          | 0/561086 [00:00<?, ?it/s]"
      ]
     },
     "metadata": {},
     "output_type": "display_data"
    },
    {
     "name": "stdout",
     "output_type": "stream",
     "text": [
      "ESP_011583_1730/\n",
      "Downloading https://hirise-pds.lpl.arizona.edu/PDS/EXTRAS/RDR/ESP/ORB_011500_011599/ESP_011583_1730/ESP_011583_1730_RGB.NOMAP.browse.jpg to I:\\data\\mars\\ESP_011583_1730_RGB.NOMAP.browse.jpg\n"
     ]
    },
    {
     "data": {
      "application/vnd.jupyter.widget-view+json": {
       "model_id": "f9615c41354e4c3ba1f1abc1019b84e1",
       "version_major": 2,
       "version_minor": 0
      },
      "text/plain": [
       "  0%|          | 0/1527127 [00:00<?, ?it/s]"
      ]
     },
     "metadata": {},
     "output_type": "display_data"
    },
    {
     "name": "stdout",
     "output_type": "stream",
     "text": [
      "ESP_011584_1785/\n",
      "Downloading https://hirise-pds.lpl.arizona.edu/PDS/EXTRAS/RDR/ESP/ORB_011500_011599/ESP_011584_1785/ESP_011584_1785_RGB.NOMAP.browse.jpg to I:\\data\\mars\\ESP_011584_1785_RGB.NOMAP.browse.jpg\n"
     ]
    },
    {
     "data": {
      "application/vnd.jupyter.widget-view+json": {
       "model_id": "da0a191075364264aa84e05bb34427e5",
       "version_major": 2,
       "version_minor": 0
      },
      "text/plain": [
       "  0%|          | 0/606293 [00:00<?, ?it/s]"
      ]
     },
     "metadata": {},
     "output_type": "display_data"
    },
    {
     "name": "stdout",
     "output_type": "stream",
     "text": [
      "ESP_011586_2000/\n",
      "Downloading https://hirise-pds.lpl.arizona.edu/PDS/EXTRAS/RDR/ESP/ORB_011500_011599/ESP_011586_2000/ESP_011586_2000_RGB.NOMAP.browse.jpg to I:\\data\\mars\\ESP_011586_2000_RGB.NOMAP.browse.jpg\n"
     ]
    },
    {
     "data": {
      "application/vnd.jupyter.widget-view+json": {
       "model_id": "7a1e3ac5188a42dfafecd6677e4d6e6f",
       "version_major": 2,
       "version_minor": 0
      },
      "text/plain": [
       "  0%|          | 0/684087 [00:00<?, ?it/s]"
      ]
     },
     "metadata": {},
     "output_type": "display_data"
    },
    {
     "name": "stdout",
     "output_type": "stream",
     "text": [
      "ESP_011587_1655/\n",
      "Downloading https://hirise-pds.lpl.arizona.edu/PDS/EXTRAS/RDR/ESP/ORB_011500_011599/ESP_011587_1655/ESP_011587_1655_RGB.NOMAP.browse.jpg to I:\\data\\mars\\ESP_011587_1655_RGB.NOMAP.browse.jpg\n"
     ]
    },
    {
     "data": {
      "application/vnd.jupyter.widget-view+json": {
       "model_id": "632e43b7845e4befae188433be910019",
       "version_major": 2,
       "version_minor": 0
      },
      "text/plain": [
       "  0%|          | 0/2282322 [00:00<?, ?it/s]"
      ]
     },
     "metadata": {},
     "output_type": "display_data"
    },
    {
     "name": "stdout",
     "output_type": "stream",
     "text": [
      "ESP_011588_2225/\n",
      "Downloading https://hirise-pds.lpl.arizona.edu/PDS/EXTRAS/RDR/ESP/ORB_011500_011599/ESP_011588_2225/ESP_011588_2225_RGB.NOMAP.browse.jpg to I:\\data\\mars\\ESP_011588_2225_RGB.NOMAP.browse.jpg\n"
     ]
    },
    {
     "data": {
      "application/vnd.jupyter.widget-view+json": {
       "model_id": "e0cfb16bf80444a6a2a7c81ef727c91b",
       "version_major": 2,
       "version_minor": 0
      },
      "text/plain": [
       "  0%|          | 0/833753 [00:00<?, ?it/s]"
      ]
     },
     "metadata": {},
     "output_type": "display_data"
    },
    {
     "name": "stdout",
     "output_type": "stream",
     "text": [
      "ESP_011590_2190/\n",
      "Downloading https://hirise-pds.lpl.arizona.edu/PDS/EXTRAS/RDR/ESP/ORB_011500_011599/ESP_011590_2190/ESP_011590_2190_RGB.NOMAP.browse.jpg to I:\\data\\mars\\ESP_011590_2190_RGB.NOMAP.browse.jpg\n"
     ]
    },
    {
     "data": {
      "application/vnd.jupyter.widget-view+json": {
       "model_id": "2bb3f63925b34bd2a4984bbd73416d9a",
       "version_major": 2,
       "version_minor": 0
      },
      "text/plain": [
       "  0%|          | 0/712859 [00:00<?, ?it/s]"
      ]
     },
     "metadata": {},
     "output_type": "display_data"
    },
    {
     "name": "stdout",
     "output_type": "stream",
     "text": [
      "ESP_011591_1585/\n",
      "Downloading https://hirise-pds.lpl.arizona.edu/PDS/EXTRAS/RDR/ESP/ORB_011500_011599/ESP_011591_1585/ESP_011591_1585_RGB.NOMAP.browse.jpg to I:\\data\\mars\\ESP_011591_1585_RGB.NOMAP.browse.jpg\n"
     ]
    },
    {
     "data": {
      "application/vnd.jupyter.widget-view+json": {
       "model_id": "c1e79748647a419f8ae02faedea6f129",
       "version_major": 2,
       "version_minor": 0
      },
      "text/plain": [
       "  0%|          | 0/1000816 [00:00<?, ?it/s]"
      ]
     },
     "metadata": {},
     "output_type": "display_data"
    },
    {
     "name": "stdout",
     "output_type": "stream",
     "text": [
      "ESP_011592_1595/\n",
      "Downloading https://hirise-pds.lpl.arizona.edu/PDS/EXTRAS/RDR/ESP/ORB_011500_011599/ESP_011592_1595/ESP_011592_1595_RGB.NOMAP.browse.jpg to I:\\data\\mars\\ESP_011592_1595_RGB.NOMAP.browse.jpg\n"
     ]
    },
    {
     "data": {
      "application/vnd.jupyter.widget-view+json": {
       "model_id": "5f8437b858a74ae5bde9b4654fefd7ae",
       "version_major": 2,
       "version_minor": 0
      },
      "text/plain": [
       "  0%|          | 0/751842 [00:00<?, ?it/s]"
      ]
     },
     "metadata": {},
     "output_type": "display_data"
    },
    {
     "name": "stdout",
     "output_type": "stream",
     "text": [
      "ESP_011592_2210/\n",
      "Downloading https://hirise-pds.lpl.arizona.edu/PDS/EXTRAS/RDR/ESP/ORB_011500_011599/ESP_011592_2210/ESP_011592_2210_RGB.NOMAP.browse.jpg to I:\\data\\mars\\ESP_011592_2210_RGB.NOMAP.browse.jpg\n"
     ]
    },
    {
     "data": {
      "application/vnd.jupyter.widget-view+json": {
       "model_id": "d9cd41cf79b24ab5a236161f7a0d513f",
       "version_major": 2,
       "version_minor": 0
      },
      "text/plain": [
       "  0%|          | 0/2381426 [00:00<?, ?it/s]"
      ]
     },
     "metadata": {},
     "output_type": "display_data"
    },
    {
     "name": "stdout",
     "output_type": "stream",
     "text": [
      "ESP_011595_1725/\n",
      "Downloading https://hirise-pds.lpl.arizona.edu/PDS/EXTRAS/RDR/ESP/ORB_011500_011599/ESP_011595_1725/ESP_011595_1725_RGB.NOMAP.browse.jpg to I:\\data\\mars\\ESP_011595_1725_RGB.NOMAP.browse.jpg\n"
     ]
    },
    {
     "data": {
      "application/vnd.jupyter.widget-view+json": {
       "model_id": "e1ac92d593244b38b83e6420530b61ec",
       "version_major": 2,
       "version_minor": 0
      },
      "text/plain": [
       "  0%|          | 0/728752 [00:00<?, ?it/s]"
      ]
     },
     "metadata": {},
     "output_type": "display_data"
    },
    {
     "name": "stdout",
     "output_type": "stream",
     "text": [
      "ESP_011597_2055/\n",
      "Downloading https://hirise-pds.lpl.arizona.edu/PDS/EXTRAS/RDR/ESP/ORB_011500_011599/ESP_011597_2055/ESP_011597_2055_RGB.NOMAP.browse.jpg to I:\\data\\mars\\ESP_011597_2055_RGB.NOMAP.browse.jpg\n"
     ]
    },
    {
     "data": {
      "application/vnd.jupyter.widget-view+json": {
       "model_id": "d46b6d8f38364daaa54043ff7a2b5e27",
       "version_major": 2,
       "version_minor": 0
      },
      "text/plain": [
       "  0%|          | 0/573945 [00:00<?, ?it/s]"
      ]
     },
     "metadata": {},
     "output_type": "display_data"
    },
    {
     "name": "stdout",
     "output_type": "stream",
     "text": [
      "ESP_011598_1740/\n",
      "Downloading https://hirise-pds.lpl.arizona.edu/PDS/EXTRAS/RDR/ESP/ORB_011500_011599/ESP_011598_1740/ESP_011598_1740_RGB.NOMAP.browse.jpg to I:\\data\\mars\\ESP_011598_1740_RGB.NOMAP.browse.jpg\n"
     ]
    },
    {
     "data": {
      "application/vnd.jupyter.widget-view+json": {
       "model_id": "cdd57c1fe1494fa4a6442715e2572867",
       "version_major": 2,
       "version_minor": 0
      },
      "text/plain": [
       "  0%|          | 0/574230 [00:00<?, ?it/s]"
      ]
     },
     "metadata": {},
     "output_type": "display_data"
    },
    {
     "name": "stdout",
     "output_type": "stream",
     "text": [
      "-------------------------------------------------- ORB_011600_011699/\n",
      "ESP_011600_1120/\n",
      "Downloading https://hirise-pds.lpl.arizona.edu/PDS/EXTRAS/RDR/ESP/ORB_011600_011699/ESP_011600_1120/ESP_011600_1120_RGB.NOMAP.browse.jpg to I:\\data\\mars\\ESP_011600_1120_RGB.NOMAP.browse.jpg\n"
     ]
    },
    {
     "data": {
      "application/vnd.jupyter.widget-view+json": {
       "model_id": "a8c8f5de6b4f4f98b6518123a169fc9e",
       "version_major": 2,
       "version_minor": 0
      },
      "text/plain": [
       "  0%|          | 0/1370272 [00:00<?, ?it/s]"
      ]
     },
     "metadata": {},
     "output_type": "display_data"
    },
    {
     "name": "stdout",
     "output_type": "stream",
     "text": [
      "ESP_011601_1370/\n",
      "Downloading https://hirise-pds.lpl.arizona.edu/PDS/EXTRAS/RDR/ESP/ORB_011600_011699/ESP_011601_1370/ESP_011601_1370_RGB.NOMAP.browse.jpg to I:\\data\\mars\\ESP_011601_1370_RGB.NOMAP.browse.jpg\n"
     ]
    },
    {
     "data": {
      "application/vnd.jupyter.widget-view+json": {
       "model_id": "7ee9a82580344a4ab3ddbebbbee425e0",
       "version_major": 2,
       "version_minor": 0
      },
      "text/plain": [
       "  0%|          | 0/1853763 [00:00<?, ?it/s]"
      ]
     },
     "metadata": {},
     "output_type": "display_data"
    },
    {
     "name": "stdout",
     "output_type": "stream",
     "text": [
      "ESP_011604_1505/\n",
      "Downloading https://hirise-pds.lpl.arizona.edu/PDS/EXTRAS/RDR/ESP/ORB_011600_011699/ESP_011604_1505/ESP_011604_1505_RGB.NOMAP.browse.jpg to I:\\data\\mars\\ESP_011604_1505_RGB.NOMAP.browse.jpg\n"
     ]
    },
    {
     "data": {
      "application/vnd.jupyter.widget-view+json": {
       "model_id": "d6d3960ecba24b288e209871ef5090f3",
       "version_major": 2,
       "version_minor": 0
      },
      "text/plain": [
       "  0%|          | 0/2047344 [00:00<?, ?it/s]"
      ]
     },
     "metadata": {},
     "output_type": "display_data"
    },
    {
     "name": "stdout",
     "output_type": "stream",
     "text": [
      "ESP_011605_1170/\n",
      "Downloading https://hirise-pds.lpl.arizona.edu/PDS/EXTRAS/RDR/ESP/ORB_011600_011699/ESP_011605_1170/ESP_011605_1170_RGB.NOMAP.browse.jpg to I:\\data\\mars\\ESP_011605_1170_RGB.NOMAP.browse.jpg\n"
     ]
    },
    {
     "data": {
      "application/vnd.jupyter.widget-view+json": {
       "model_id": "37c702a2ff4c4200b8ef447ebb77e39a",
       "version_major": 2,
       "version_minor": 0
      },
      "text/plain": [
       "  0%|          | 0/1046312 [00:00<?, ?it/s]"
      ]
     },
     "metadata": {},
     "output_type": "display_data"
    },
    {
     "name": "stdout",
     "output_type": "stream",
     "text": [
      "ESP_011606_0930/\n",
      "Downloading https://hirise-pds.lpl.arizona.edu/PDS/EXTRAS/RDR/ESP/ORB_011600_011699/ESP_011606_0930/ESP_011606_0930_RGB.NOMAP.browse.jpg to I:\\data\\mars\\ESP_011606_0930_RGB.NOMAP.browse.jpg\n"
     ]
    },
    {
     "data": {
      "application/vnd.jupyter.widget-view+json": {
       "model_id": "1d6783f2bccc4060ae1d23d1dffe2c35",
       "version_major": 2,
       "version_minor": 0
      },
      "text/plain": [
       "  0%|          | 0/2084225 [00:00<?, ?it/s]"
      ]
     },
     "metadata": {},
     "output_type": "display_data"
    },
    {
     "name": "stdout",
     "output_type": "stream",
     "text": [
      "ESP_011607_1115/\n",
      "Downloading https://hirise-pds.lpl.arizona.edu/PDS/EXTRAS/RDR/ESP/ORB_011600_011699/ESP_011607_1115/ESP_011607_1115_RGB.NOMAP.browse.jpg to I:\\data\\mars\\ESP_011607_1115_RGB.NOMAP.browse.jpg\n"
     ]
    },
    {
     "data": {
      "application/vnd.jupyter.widget-view+json": {
       "model_id": "85cfceddf9c74255b3e023118c7586fa",
       "version_major": 2,
       "version_minor": 0
      },
      "text/plain": [
       "  0%|          | 0/1108317 [00:00<?, ?it/s]"
      ]
     },
     "metadata": {},
     "output_type": "display_data"
    },
    {
     "name": "stdout",
     "output_type": "stream",
     "text": [
      "ESP_011608_1525/\n",
      "Downloading https://hirise-pds.lpl.arizona.edu/PDS/EXTRAS/RDR/ESP/ORB_011600_011699/ESP_011608_1525/ESP_011608_1525_RGB.NOMAP.browse.jpg to I:\\data\\mars\\ESP_011608_1525_RGB.NOMAP.browse.jpg\n"
     ]
    },
    {
     "data": {
      "application/vnd.jupyter.widget-view+json": {
       "model_id": "d987e026190d4978a2488b54f77a0f65",
       "version_major": 2,
       "version_minor": 0
      },
      "text/plain": [
       "  0%|          | 0/1398276 [00:00<?, ?it/s]"
      ]
     },
     "metadata": {},
     "output_type": "display_data"
    },
    {
     "name": "stdout",
     "output_type": "stream",
     "text": [
      "ESP_011609_1720/\n",
      "Downloading https://hirise-pds.lpl.arizona.edu/PDS/EXTRAS/RDR/ESP/ORB_011600_011699/ESP_011609_1720/ESP_011609_1720_RGB.NOMAP.browse.jpg to I:\\data\\mars\\ESP_011609_1720_RGB.NOMAP.browse.jpg\n"
     ]
    },
    {
     "data": {
      "application/vnd.jupyter.widget-view+json": {
       "model_id": "f155d45a7009460ca2e421669b5e547b",
       "version_major": 2,
       "version_minor": 0
      },
      "text/plain": [
       "  0%|          | 0/1081472 [00:00<?, ?it/s]"
      ]
     },
     "metadata": {},
     "output_type": "display_data"
    },
    {
     "name": "stdout",
     "output_type": "stream",
     "text": [
      "ESP_011610_0935/\n",
      "Downloading https://hirise-pds.lpl.arizona.edu/PDS/EXTRAS/RDR/ESP/ORB_011600_011699/ESP_011610_0935/ESP_011610_0935_RGB.NOMAP.browse.jpg to I:\\data\\mars\\ESP_011610_0935_RGB.NOMAP.browse.jpg\n"
     ]
    },
    {
     "data": {
      "application/vnd.jupyter.widget-view+json": {
       "model_id": "1e963135698d4133b5998ec7c01509c0",
       "version_major": 2,
       "version_minor": 0
      },
      "text/plain": [
       "  0%|          | 0/483082 [00:00<?, ?it/s]"
      ]
     },
     "metadata": {},
     "output_type": "display_data"
    },
    {
     "name": "stdout",
     "output_type": "stream",
     "text": [
      "ESP_011610_1825/\n",
      "Downloading https://hirise-pds.lpl.arizona.edu/PDS/EXTRAS/RDR/ESP/ORB_011600_011699/ESP_011610_1825/ESP_011610_1825_RGB.NOMAP.browse.jpg to I:\\data\\mars\\ESP_011610_1825_RGB.NOMAP.browse.jpg\n"
     ]
    },
    {
     "data": {
      "application/vnd.jupyter.widget-view+json": {
       "model_id": "14069a76c7f24ea9be3c467c9c0539b9",
       "version_major": 2,
       "version_minor": 0
      },
      "text/plain": [
       "  0%|          | 0/327967 [00:00<?, ?it/s]"
      ]
     },
     "metadata": {},
     "output_type": "display_data"
    },
    {
     "name": "stdout",
     "output_type": "stream",
     "text": [
      "ESP_011613_2125/\n",
      "Downloading https://hirise-pds.lpl.arizona.edu/PDS/EXTRAS/RDR/ESP/ORB_011600_011699/ESP_011613_2125/ESP_011613_2125_RGB.NOMAP.browse.jpg to I:\\data\\mars\\ESP_011613_2125_RGB.NOMAP.browse.jpg\n"
     ]
    },
    {
     "data": {
      "application/vnd.jupyter.widget-view+json": {
       "model_id": "131af73d00bf44b89b1456803e06aa4f",
       "version_major": 2,
       "version_minor": 0
      },
      "text/plain": [
       "  0%|          | 0/1432214 [00:00<?, ?it/s]"
      ]
     },
     "metadata": {},
     "output_type": "display_data"
    },
    {
     "name": "stdout",
     "output_type": "stream",
     "text": [
      "ESP_011614_1830/\n",
      "Downloading https://hirise-pds.lpl.arizona.edu/PDS/EXTRAS/RDR/ESP/ORB_011600_011699/ESP_011614_1830/ESP_011614_1830_RGB.NOMAP.browse.jpg to I:\\data\\mars\\ESP_011614_1830_RGB.NOMAP.browse.jpg\n"
     ]
    },
    {
     "data": {
      "application/vnd.jupyter.widget-view+json": {
       "model_id": "14ae12eb51a54898bfcab8704dc762ed",
       "version_major": 2,
       "version_minor": 0
      },
      "text/plain": [
       "  0%|          | 0/2144209 [00:00<?, ?it/s]"
      ]
     },
     "metadata": {},
     "output_type": "display_data"
    },
    {
     "name": "stdout",
     "output_type": "stream",
     "text": [
      "ESP_011618_1340/\n",
      "Downloading https://hirise-pds.lpl.arizona.edu/PDS/EXTRAS/RDR/ESP/ORB_011600_011699/ESP_011618_1340/ESP_011618_1340_RGB.NOMAP.browse.jpg to I:\\data\\mars\\ESP_011618_1340_RGB.NOMAP.browse.jpg\n"
     ]
    },
    {
     "data": {
      "application/vnd.jupyter.widget-view+json": {
       "model_id": "6429738ec24c424298531a89ade0ae1d",
       "version_major": 2,
       "version_minor": 0
      },
      "text/plain": [
       "  0%|          | 0/1248940 [00:00<?, ?it/s]"
      ]
     },
     "metadata": {},
     "output_type": "display_data"
    },
    {
     "name": "stdout",
     "output_type": "stream",
     "text": [
      "ESP_011618_1885/\n",
      "Downloading https://hirise-pds.lpl.arizona.edu/PDS/EXTRAS/RDR/ESP/ORB_011600_011699/ESP_011618_1885/ESP_011618_1885_RGB.NOMAP.browse.jpg to I:\\data\\mars\\ESP_011618_1885_RGB.NOMAP.browse.jpg\n"
     ]
    },
    {
     "data": {
      "application/vnd.jupyter.widget-view+json": {
       "model_id": "7623146222d545d7809930959e735316",
       "version_major": 2,
       "version_minor": 0
      },
      "text/plain": [
       "  0%|          | 0/360828 [00:00<?, ?it/s]"
      ]
     },
     "metadata": {},
     "output_type": "display_data"
    },
    {
     "name": "stdout",
     "output_type": "stream",
     "text": [
      "ESP_011619_1305/\n",
      "Downloading https://hirise-pds.lpl.arizona.edu/PDS/EXTRAS/RDR/ESP/ORB_011600_011699/ESP_011619_1305/ESP_011619_1305_RGB.NOMAP.browse.jpg to I:\\data\\mars\\ESP_011619_1305_RGB.NOMAP.browse.jpg\n"
     ]
    },
    {
     "data": {
      "application/vnd.jupyter.widget-view+json": {
       "model_id": "08874dd06b18419fb51e6e619c5c9b1d",
       "version_major": 2,
       "version_minor": 0
      },
      "text/plain": [
       "  0%|          | 0/2441304 [00:00<?, ?it/s]"
      ]
     },
     "metadata": {},
     "output_type": "display_data"
    },
    {
     "name": "stdout",
     "output_type": "stream",
     "text": [
      "ESP_011619_2250/\n",
      "Downloading https://hirise-pds.lpl.arizona.edu/PDS/EXTRAS/RDR/ESP/ORB_011600_011699/ESP_011619_2250/ESP_011619_2250_RGB.NOMAP.browse.jpg to I:\\data\\mars\\ESP_011619_2250_RGB.NOMAP.browse.jpg\n"
     ]
    },
    {
     "data": {
      "application/vnd.jupyter.widget-view+json": {
       "model_id": "c40ca95b96954e478cde15c591b16ca2",
       "version_major": 2,
       "version_minor": 0
      },
      "text/plain": [
       "  0%|          | 0/574502 [00:00<?, ?it/s]"
      ]
     },
     "metadata": {},
     "output_type": "display_data"
    },
    {
     "name": "stdout",
     "output_type": "stream",
     "text": [
      "ESP_011620_1750/\n",
      "Downloading https://hirise-pds.lpl.arizona.edu/PDS/EXTRAS/RDR/ESP/ORB_011600_011699/ESP_011620_1750/ESP_011620_1750_RGB.NOMAP.browse.jpg to I:\\data\\mars\\ESP_011620_1750_RGB.NOMAP.browse.jpg\n"
     ]
    },
    {
     "data": {
      "application/vnd.jupyter.widget-view+json": {
       "model_id": "f876a35059b94403ada349e06047952d",
       "version_major": 2,
       "version_minor": 0
      },
      "text/plain": [
       "  0%|          | 0/968018 [00:00<?, ?it/s]"
      ]
     },
     "metadata": {},
     "output_type": "display_data"
    },
    {
     "name": "stdout",
     "output_type": "stream",
     "text": [
      "ESP_011622_0945/\n",
      "Downloading https://hirise-pds.lpl.arizona.edu/PDS/EXTRAS/RDR/ESP/ORB_011600_011699/ESP_011622_0945/ESP_011622_0945_RGB.NOMAP.browse.jpg to I:\\data\\mars\\ESP_011622_0945_RGB.NOMAP.browse.jpg\n"
     ]
    },
    {
     "data": {
      "application/vnd.jupyter.widget-view+json": {
       "model_id": "46284357c8ce4a2abda7e3b6939fba07",
       "version_major": 2,
       "version_minor": 0
      },
      "text/plain": [
       "  0%|          | 0/1782769 [00:00<?, ?it/s]"
      ]
     },
     "metadata": {},
     "output_type": "display_data"
    },
    {
     "name": "stdout",
     "output_type": "stream",
     "text": [
      "ESP_011622_1510/\n",
      "Downloading https://hirise-pds.lpl.arizona.edu/PDS/EXTRAS/RDR/ESP/ORB_011600_011699/ESP_011622_1510/ESP_011622_1510_RGB.NOMAP.browse.jpg to I:\\data\\mars\\ESP_011622_1510_RGB.NOMAP.browse.jpg\n"
     ]
    },
    {
     "data": {
      "application/vnd.jupyter.widget-view+json": {
       "model_id": "fc6746e6e93142e4a7de27f052dec95c",
       "version_major": 2,
       "version_minor": 0
      },
      "text/plain": [
       "  0%|          | 0/676893 [00:00<?, ?it/s]"
      ]
     },
     "metadata": {},
     "output_type": "display_data"
    },
    {
     "name": "stdout",
     "output_type": "stream",
     "text": [
      "ESP_011623_0985/\n",
      "Downloading https://hirise-pds.lpl.arizona.edu/PDS/EXTRAS/RDR/ESP/ORB_011600_011699/ESP_011623_0985/ESP_011623_0985_RGB.NOMAP.browse.jpg to I:\\data\\mars\\ESP_011623_0985_RGB.NOMAP.browse.jpg\n"
     ]
    },
    {
     "data": {
      "application/vnd.jupyter.widget-view+json": {
       "model_id": "85be9a2f423e484b97df11ab7edc3338",
       "version_major": 2,
       "version_minor": 0
      },
      "text/plain": [
       "  0%|          | 0/1411006 [00:00<?, ?it/s]"
      ]
     },
     "metadata": {},
     "output_type": "display_data"
    },
    {
     "name": "stdout",
     "output_type": "stream",
     "text": [
      "ESP_011623_2100/\n",
      "Downloading https://hirise-pds.lpl.arizona.edu/PDS/EXTRAS/RDR/ESP/ORB_011600_011699/ESP_011623_2100/ESP_011623_2100_RGB.NOMAP.browse.jpg to I:\\data\\mars\\ESP_011623_2100_RGB.NOMAP.browse.jpg\n"
     ]
    },
    {
     "data": {
      "application/vnd.jupyter.widget-view+json": {
       "model_id": "1be89cd671344a5f95d8347f0a77ed0f",
       "version_major": 2,
       "version_minor": 0
      },
      "text/plain": [
       "  0%|          | 0/513373 [00:00<?, ?it/s]"
      ]
     },
     "metadata": {},
     "output_type": "display_data"
    },
    {
     "name": "stdout",
     "output_type": "stream",
     "text": [
      "ESP_011624_0955/\n",
      "Downloading https://hirise-pds.lpl.arizona.edu/PDS/EXTRAS/RDR/ESP/ORB_011600_011699/ESP_011624_0955/ESP_011624_0955_RGB.NOMAP.browse.jpg to I:\\data\\mars\\ESP_011624_0955_RGB.NOMAP.browse.jpg\n"
     ]
    },
    {
     "data": {
      "application/vnd.jupyter.widget-view+json": {
       "model_id": "74d66fc272ff48aca08e6740641c913c",
       "version_major": 2,
       "version_minor": 0
      },
      "text/plain": [
       "  0%|          | 0/1048376 [00:00<?, ?it/s]"
      ]
     },
     "metadata": {},
     "output_type": "display_data"
    },
    {
     "name": "stdout",
     "output_type": "stream",
     "text": [
      "ESP_011625_1275/\n",
      "Downloading https://hirise-pds.lpl.arizona.edu/PDS/EXTRAS/RDR/ESP/ORB_011600_011699/ESP_011625_1275/ESP_011625_1275_RGB.NOMAP.browse.jpg to I:\\data\\mars\\ESP_011625_1275_RGB.NOMAP.browse.jpg\n"
     ]
    },
    {
     "data": {
      "application/vnd.jupyter.widget-view+json": {
       "model_id": "7eea4ae252184defb11bd1db9d2ef0ab",
       "version_major": 2,
       "version_minor": 0
      },
      "text/plain": [
       "  0%|          | 0/2364262 [00:00<?, ?it/s]"
      ]
     },
     "metadata": {},
     "output_type": "display_data"
    },
    {
     "name": "stdout",
     "output_type": "stream",
     "text": [
      "ESP_011628_1260/\n",
      "Downloading https://hirise-pds.lpl.arizona.edu/PDS/EXTRAS/RDR/ESP/ORB_011600_011699/ESP_011628_1260/ESP_011628_1260_RGB.NOMAP.browse.jpg to I:\\data\\mars\\ESP_011628_1260_RGB.NOMAP.browse.jpg\n"
     ]
    },
    {
     "data": {
      "application/vnd.jupyter.widget-view+json": {
       "model_id": "9b25a49daf6c4d6cb4b76a2735585db4",
       "version_major": 2,
       "version_minor": 0
      },
      "text/plain": [
       "  0%|          | 0/1462090 [00:00<?, ?it/s]"
      ]
     },
     "metadata": {},
     "output_type": "display_data"
    },
    {
     "name": "stdout",
     "output_type": "stream",
     "text": [
      "ESP_011630_0930/\n",
      "Downloading https://hirise-pds.lpl.arizona.edu/PDS/EXTRAS/RDR/ESP/ORB_011600_011699/ESP_011630_0930/ESP_011630_0930_RGB.NOMAP.browse.jpg to I:\\data\\mars\\ESP_011630_0930_RGB.NOMAP.browse.jpg\n"
     ]
    },
    {
     "data": {
      "application/vnd.jupyter.widget-view+json": {
       "model_id": "dfd1cb7c234a4b438c3553a950bb1f82",
       "version_major": 2,
       "version_minor": 0
      },
      "text/plain": [
       "  0%|          | 0/930076 [00:00<?, ?it/s]"
      ]
     },
     "metadata": {},
     "output_type": "display_data"
    },
    {
     "name": "stdout",
     "output_type": "stream",
     "text": [
      "ESP_011630_1985/\n",
      "Downloading https://hirise-pds.lpl.arizona.edu/PDS/EXTRAS/RDR/ESP/ORB_011600_011699/ESP_011630_1985/ESP_011630_1985_RGB.NOMAP.browse.jpg to I:\\data\\mars\\ESP_011630_1985_RGB.NOMAP.browse.jpg\n"
     ]
    },
    {
     "data": {
      "application/vnd.jupyter.widget-view+json": {
       "model_id": "40c814541b0847d99fbc46a7f237fcce",
       "version_major": 2,
       "version_minor": 0
      },
      "text/plain": [
       "  0%|          | 0/1521793 [00:00<?, ?it/s]"
      ]
     },
     "metadata": {},
     "output_type": "display_data"
    },
    {
     "name": "stdout",
     "output_type": "stream",
     "text": [
      "ESP_011631_1515/\n",
      "Downloading https://hirise-pds.lpl.arizona.edu/PDS/EXTRAS/RDR/ESP/ORB_011600_011699/ESP_011631_1515/ESP_011631_1515_RGB.NOMAP.browse.jpg to I:\\data\\mars\\ESP_011631_1515_RGB.NOMAP.browse.jpg\n"
     ]
    },
    {
     "data": {
      "application/vnd.jupyter.widget-view+json": {
       "model_id": "123a4130481d4e89af94a9256f555702",
       "version_major": 2,
       "version_minor": 0
      },
      "text/plain": [
       "  0%|          | 0/1834707 [00:00<?, ?it/s]"
      ]
     },
     "metadata": {},
     "output_type": "display_data"
    },
    {
     "name": "stdout",
     "output_type": "stream",
     "text": [
      "ESP_011633_1195/\n",
      "Downloading https://hirise-pds.lpl.arizona.edu/PDS/EXTRAS/RDR/ESP/ORB_011600_011699/ESP_011633_1195/ESP_011633_1195_RGB.NOMAP.browse.jpg to I:\\data\\mars\\ESP_011633_1195_RGB.NOMAP.browse.jpg\n"
     ]
    },
    {
     "data": {
      "application/vnd.jupyter.widget-view+json": {
       "model_id": "7d2978fcfa044a73a773325a036c8ee7",
       "version_major": 2,
       "version_minor": 0
      },
      "text/plain": [
       "  0%|          | 0/853790 [00:00<?, ?it/s]"
      ]
     },
     "metadata": {},
     "output_type": "display_data"
    },
    {
     "name": "stdout",
     "output_type": "stream",
     "text": [
      "ESP_011634_1645/\n",
      "Downloading https://hirise-pds.lpl.arizona.edu/PDS/EXTRAS/RDR/ESP/ORB_011600_011699/ESP_011634_1645/ESP_011634_1645_RGB.NOMAP.browse.jpg to I:\\data\\mars\\ESP_011634_1645_RGB.NOMAP.browse.jpg\n"
     ]
    },
    {
     "data": {
      "application/vnd.jupyter.widget-view+json": {
       "model_id": "89835978ecab41d8a11b614a43ed7c43",
       "version_major": 2,
       "version_minor": 0
      },
      "text/plain": [
       "  0%|          | 0/1857456 [00:00<?, ?it/s]"
      ]
     },
     "metadata": {},
     "output_type": "display_data"
    },
    {
     "name": "stdout",
     "output_type": "stream",
     "text": [
      "ESP_011635_1510/\n",
      "Downloading https://hirise-pds.lpl.arizona.edu/PDS/EXTRAS/RDR/ESP/ORB_011600_011699/ESP_011635_1510/ESP_011635_1510_RGB.NOMAP.browse.jpg to I:\\data\\mars\\ESP_011635_1510_RGB.NOMAP.browse.jpg\n"
     ]
    },
    {
     "data": {
      "application/vnd.jupyter.widget-view+json": {
       "model_id": "fa6307cd825549869211d8e526bc433e",
       "version_major": 2,
       "version_minor": 0
      },
      "text/plain": [
       "  0%|          | 0/1594798 [00:00<?, ?it/s]"
      ]
     },
     "metadata": {},
     "output_type": "display_data"
    },
    {
     "name": "stdout",
     "output_type": "stream",
     "text": [
      "ESP_011636_1420/\n",
      "Downloading https://hirise-pds.lpl.arizona.edu/PDS/EXTRAS/RDR/ESP/ORB_011600_011699/ESP_011636_1420/ESP_011636_1420_RGB.NOMAP.browse.jpg to I:\\data\\mars\\ESP_011636_1420_RGB.NOMAP.browse.jpg\n"
     ]
    },
    {
     "data": {
      "application/vnd.jupyter.widget-view+json": {
       "model_id": "394f46afba804bd1b09a5986ef7daa54",
       "version_major": 2,
       "version_minor": 0
      },
      "text/plain": [
       "  0%|          | 0/1454121 [00:00<?, ?it/s]"
      ]
     },
     "metadata": {},
     "output_type": "display_data"
    },
    {
     "name": "stdout",
     "output_type": "stream",
     "text": [
      "ESP_011638_0940/\n",
      "Downloading https://hirise-pds.lpl.arizona.edu/PDS/EXTRAS/RDR/ESP/ORB_011600_011699/ESP_011638_0940/ESP_011638_0940_RGB.NOMAP.browse.jpg to I:\\data\\mars\\ESP_011638_0940_RGB.NOMAP.browse.jpg\n"
     ]
    },
    {
     "data": {
      "application/vnd.jupyter.widget-view+json": {
       "model_id": "a48f0a5995664c6a9f819faf980e560c",
       "version_major": 2,
       "version_minor": 0
      },
      "text/plain": [
       "  0%|          | 0/833407 [00:00<?, ?it/s]"
      ]
     },
     "metadata": {},
     "output_type": "display_data"
    },
    {
     "name": "stdout",
     "output_type": "stream",
     "text": [
      "ESP_011638_1665/\n",
      "Downloading https://hirise-pds.lpl.arizona.edu/PDS/EXTRAS/RDR/ESP/ORB_011600_011699/ESP_011638_1665/ESP_011638_1665_RGB.NOMAP.browse.jpg to I:\\data\\mars\\ESP_011638_1665_RGB.NOMAP.browse.jpg\n"
     ]
    },
    {
     "data": {
      "application/vnd.jupyter.widget-view+json": {
       "model_id": "76b647354ebd4fa4b14388721418da1a",
       "version_major": 2,
       "version_minor": 0
      },
      "text/plain": [
       "  0%|          | 0/1172212 [00:00<?, ?it/s]"
      ]
     },
     "metadata": {},
     "output_type": "display_data"
    },
    {
     "name": "stdout",
     "output_type": "stream",
     "text": [
      "ESP_011639_1535/\n",
      "Downloading https://hirise-pds.lpl.arizona.edu/PDS/EXTRAS/RDR/ESP/ORB_011600_011699/ESP_011639_1535/ESP_011639_1535_RGB.NOMAP.browse.jpg to I:\\data\\mars\\ESP_011639_1535_RGB.NOMAP.browse.jpg\n"
     ]
    },
    {
     "data": {
      "application/vnd.jupyter.widget-view+json": {
       "model_id": "316133aa61e04ee7a98214cf16bbb6fc",
       "version_major": 2,
       "version_minor": 0
      },
      "text/plain": [
       "  0%|          | 0/1893619 [00:00<?, ?it/s]"
      ]
     },
     "metadata": {},
     "output_type": "display_data"
    },
    {
     "name": "stdout",
     "output_type": "stream",
     "text": [
      "ESP_011640_1080/\n",
      "Downloading https://hirise-pds.lpl.arizona.edu/PDS/EXTRAS/RDR/ESP/ORB_011600_011699/ESP_011640_1080/ESP_011640_1080_RGB.NOMAP.browse.jpg to I:\\data\\mars\\ESP_011640_1080_RGB.NOMAP.browse.jpg\n"
     ]
    },
    {
     "data": {
      "application/vnd.jupyter.widget-view+json": {
       "model_id": "6a7cf09a60a34053940c494014199cd6",
       "version_major": 2,
       "version_minor": 0
      },
      "text/plain": [
       "  0%|          | 0/797516 [00:00<?, ?it/s]"
      ]
     },
     "metadata": {},
     "output_type": "display_data"
    },
    {
     "name": "stdout",
     "output_type": "stream",
     "text": [
      "ESP_011642_1365/\n",
      "Downloading https://hirise-pds.lpl.arizona.edu/PDS/EXTRAS/RDR/ESP/ORB_011600_011699/ESP_011642_1365/ESP_011642_1365_RGB.NOMAP.browse.jpg to I:\\data\\mars\\ESP_011642_1365_RGB.NOMAP.browse.jpg\n"
     ]
    },
    {
     "data": {
      "application/vnd.jupyter.widget-view+json": {
       "model_id": "1d12a117851a4c18b6ffb42555e30b0c",
       "version_major": 2,
       "version_minor": 0
      },
      "text/plain": [
       "  0%|          | 0/3200886 [00:00<?, ?it/s]"
      ]
     },
     "metadata": {},
     "output_type": "display_data"
    },
    {
     "name": "stdout",
     "output_type": "stream",
     "text": [
      "ESP_011645_1155/\n",
      "Downloading https://hirise-pds.lpl.arizona.edu/PDS/EXTRAS/RDR/ESP/ORB_011600_011699/ESP_011645_1155/ESP_011645_1155_RGB.NOMAP.browse.jpg to I:\\data\\mars\\ESP_011645_1155_RGB.NOMAP.browse.jpg\n"
     ]
    },
    {
     "data": {
      "application/vnd.jupyter.widget-view+json": {
       "model_id": "5ad7fd951d8c4d88b1b8848fa42f1cca",
       "version_major": 2,
       "version_minor": 0
      },
      "text/plain": [
       "  0%|          | 0/2356155 [00:00<?, ?it/s]"
      ]
     },
     "metadata": {},
     "output_type": "display_data"
    },
    {
     "name": "stdout",
     "output_type": "stream",
     "text": [
      "ESP_011648_1730/\n",
      "Downloading https://hirise-pds.lpl.arizona.edu/PDS/EXTRAS/RDR/ESP/ORB_011600_011699/ESP_011648_1730/ESP_011648_1730_RGB.NOMAP.browse.jpg to I:\\data\\mars\\ESP_011648_1730_RGB.NOMAP.browse.jpg\n"
     ]
    },
    {
     "data": {
      "application/vnd.jupyter.widget-view+json": {
       "model_id": "28ff88c358304467afcb7e8e09dfb4c8",
       "version_major": 2,
       "version_minor": 0
      },
      "text/plain": [
       "  0%|          | 0/1005521 [00:00<?, ?it/s]"
      ]
     },
     "metadata": {},
     "output_type": "display_data"
    },
    {
     "name": "stdout",
     "output_type": "stream",
     "text": [
      "ESP_011651_1200/\n",
      "Downloading https://hirise-pds.lpl.arizona.edu/PDS/EXTRAS/RDR/ESP/ORB_011600_011699/ESP_011651_1200/ESP_011651_1200_RGB.NOMAP.browse.jpg to I:\\data\\mars\\ESP_011651_1200_RGB.NOMAP.browse.jpg\n"
     ]
    },
    {
     "data": {
      "application/vnd.jupyter.widget-view+json": {
       "model_id": "3dfdd5bdfeb248619e3296333fb26b0e",
       "version_major": 2,
       "version_minor": 0
      },
      "text/plain": [
       "  0%|          | 0/615031 [00:00<?, ?it/s]"
      ]
     },
     "metadata": {},
     "output_type": "display_data"
    },
    {
     "name": "stdout",
     "output_type": "stream",
     "text": [
      "ESP_011653_1610/\n",
      "Downloading https://hirise-pds.lpl.arizona.edu/PDS/EXTRAS/RDR/ESP/ORB_011600_011699/ESP_011653_1610/ESP_011653_1610_RGB.NOMAP.browse.jpg to I:\\data\\mars\\ESP_011653_1610_RGB.NOMAP.browse.jpg\n"
     ]
    },
    {
     "data": {
      "application/vnd.jupyter.widget-view+json": {
       "model_id": "8a72a19a6d9c4a5e835ad1f30295ddea",
       "version_major": 2,
       "version_minor": 0
      },
      "text/plain": [
       "  0%|          | 0/955361 [00:00<?, ?it/s]"
      ]
     },
     "metadata": {},
     "output_type": "display_data"
    },
    {
     "name": "stdout",
     "output_type": "stream",
     "text": [
      "ESP_011655_2315/\n",
      "Downloading https://hirise-pds.lpl.arizona.edu/PDS/EXTRAS/RDR/ESP/ORB_011600_011699/ESP_011655_2315/ESP_011655_2315_RGB.NOMAP.browse.jpg to I:\\data\\mars\\ESP_011655_2315_RGB.NOMAP.browse.jpg\n"
     ]
    },
    {
     "data": {
      "application/vnd.jupyter.widget-view+json": {
       "model_id": "a7236763db00404b89f1fdd43f27d392",
       "version_major": 2,
       "version_minor": 0
      },
      "text/plain": [
       "  0%|          | 0/2085354 [00:00<?, ?it/s]"
      ]
     },
     "metadata": {},
     "output_type": "display_data"
    },
    {
     "name": "stdout",
     "output_type": "stream",
     "text": [
      "ESP_011656_1465/\n",
      "Downloading https://hirise-pds.lpl.arizona.edu/PDS/EXTRAS/RDR/ESP/ORB_011600_011699/ESP_011656_1465/ESP_011656_1465_RGB.NOMAP.browse.jpg to I:\\data\\mars\\ESP_011656_1465_RGB.NOMAP.browse.jpg\n"
     ]
    },
    {
     "data": {
      "application/vnd.jupyter.widget-view+json": {
       "model_id": "19c4a3ce0cd64633a1d13e60775bd8a5",
       "version_major": 2,
       "version_minor": 0
      },
      "text/plain": [
       "  0%|          | 0/2479905 [00:00<?, ?it/s]"
      ]
     },
     "metadata": {},
     "output_type": "display_data"
    },
    {
     "name": "stdout",
     "output_type": "stream",
     "text": [
      "ESP_011657_2085/\n",
      "Downloading https://hirise-pds.lpl.arizona.edu/PDS/EXTRAS/RDR/ESP/ORB_011600_011699/ESP_011657_2085/ESP_011657_2085_RGB.NOMAP.browse.jpg to I:\\data\\mars\\ESP_011657_2085_RGB.NOMAP.browse.jpg\n"
     ]
    },
    {
     "data": {
      "application/vnd.jupyter.widget-view+json": {
       "model_id": "4bcc8a5d9b264557b55791ec378e1b18",
       "version_major": 2,
       "version_minor": 0
      },
      "text/plain": [
       "  0%|          | 0/1243494 [00:00<?, ?it/s]"
      ]
     },
     "metadata": {},
     "output_type": "display_data"
    },
    {
     "name": "stdout",
     "output_type": "stream",
     "text": [
      "ESP_011658_1595/\n",
      "Downloading https://hirise-pds.lpl.arizona.edu/PDS/EXTRAS/RDR/ESP/ORB_011600_011699/ESP_011658_1595/ESP_011658_1595_RGB.NOMAP.browse.jpg to I:\\data\\mars\\ESP_011658_1595_RGB.NOMAP.browse.jpg\n"
     ]
    },
    {
     "data": {
      "application/vnd.jupyter.widget-view+json": {
       "model_id": "82ccda8940fa4a7994c33be95015046b",
       "version_major": 2,
       "version_minor": 0
      },
      "text/plain": [
       "  0%|          | 0/950364 [00:00<?, ?it/s]"
      ]
     },
     "metadata": {},
     "output_type": "display_data"
    },
    {
     "name": "stdout",
     "output_type": "stream",
     "text": [
      "ESP_011659_1855/\n",
      "Downloading https://hirise-pds.lpl.arizona.edu/PDS/EXTRAS/RDR/ESP/ORB_011600_011699/ESP_011659_1855/ESP_011659_1855_RGB.NOMAP.browse.jpg to I:\\data\\mars\\ESP_011659_1855_RGB.NOMAP.browse.jpg\n"
     ]
    },
    {
     "data": {
      "application/vnd.jupyter.widget-view+json": {
       "model_id": "1b13e9c08d2146c198fc9575b7431e24",
       "version_major": 2,
       "version_minor": 0
      },
      "text/plain": [
       "  0%|          | 0/1064395 [00:00<?, ?it/s]"
      ]
     },
     "metadata": {},
     "output_type": "display_data"
    },
    {
     "name": "stdout",
     "output_type": "stream",
     "text": [
      "ESP_011660_1390/\n",
      "Downloading https://hirise-pds.lpl.arizona.edu/PDS/EXTRAS/RDR/ESP/ORB_011600_011699/ESP_011660_1390/ESP_011660_1390_RGB.NOMAP.browse.jpg to I:\\data\\mars\\ESP_011660_1390_RGB.NOMAP.browse.jpg\n"
     ]
    },
    {
     "data": {
      "application/vnd.jupyter.widget-view+json": {
       "model_id": "d9b1675c30484015b4e685e10f8289f2",
       "version_major": 2,
       "version_minor": 0
      },
      "text/plain": [
       "  0%|          | 0/2379302 [00:00<?, ?it/s]"
      ]
     },
     "metadata": {},
     "output_type": "display_data"
    },
    {
     "name": "stdout",
     "output_type": "stream",
     "text": [
      "ESP_011661_0930/\n",
      "Downloading https://hirise-pds.lpl.arizona.edu/PDS/EXTRAS/RDR/ESP/ORB_011600_011699/ESP_011661_0930/ESP_011661_0930_RGB.NOMAP.browse.jpg to I:\\data\\mars\\ESP_011661_0930_RGB.NOMAP.browse.jpg\n"
     ]
    },
    {
     "data": {
      "application/vnd.jupyter.widget-view+json": {
       "model_id": "c5bbb64737cd4b6080b5a68aa4e9cb72",
       "version_major": 2,
       "version_minor": 0
      },
      "text/plain": [
       "  0%|          | 0/1049843 [00:00<?, ?it/s]"
      ]
     },
     "metadata": {},
     "output_type": "display_data"
    },
    {
     "name": "stdout",
     "output_type": "stream",
     "text": [
      "ESP_011661_1410/\n",
      "Downloading https://hirise-pds.lpl.arizona.edu/PDS/EXTRAS/RDR/ESP/ORB_011600_011699/ESP_011661_1410/ESP_011661_1410_RGB.NOMAP.browse.jpg to I:\\data\\mars\\ESP_011661_1410_RGB.NOMAP.browse.jpg\n"
     ]
    },
    {
     "data": {
      "application/vnd.jupyter.widget-view+json": {
       "model_id": "233fd30577c14647a238e6caa7dc6d94",
       "version_major": 2,
       "version_minor": 0
      },
      "text/plain": [
       "  0%|          | 0/1178212 [00:00<?, ?it/s]"
      ]
     },
     "metadata": {},
     "output_type": "display_data"
    },
    {
     "name": "stdout",
     "output_type": "stream",
     "text": [
      "ESP_011661_2185/\n",
      "Downloading https://hirise-pds.lpl.arizona.edu/PDS/EXTRAS/RDR/ESP/ORB_011600_011699/ESP_011661_2185/ESP_011661_2185_RGB.NOMAP.browse.jpg to I:\\data\\mars\\ESP_011661_2185_RGB.NOMAP.browse.jpg\n"
     ]
    },
    {
     "data": {
      "application/vnd.jupyter.widget-view+json": {
       "model_id": "b814abf818b0483490d58954f55ee2e4",
       "version_major": 2,
       "version_minor": 0
      },
      "text/plain": [
       "  0%|          | 0/2119392 [00:00<?, ?it/s]"
      ]
     },
     "metadata": {},
     "output_type": "display_data"
    },
    {
     "name": "stdout",
     "output_type": "stream",
     "text": [
      "ESP_011662_1750/\n",
      "Downloading https://hirise-pds.lpl.arizona.edu/PDS/EXTRAS/RDR/ESP/ORB_011600_011699/ESP_011662_1750/ESP_011662_1750_RGB.NOMAP.browse.jpg to I:\\data\\mars\\ESP_011662_1750_RGB.NOMAP.browse.jpg\n"
     ]
    },
    {
     "data": {
      "application/vnd.jupyter.widget-view+json": {
       "model_id": "981e172cbc904154868433191af2c3bc",
       "version_major": 2,
       "version_minor": 0
      },
      "text/plain": [
       "  0%|          | 0/1065427 [00:00<?, ?it/s]"
      ]
     },
     "metadata": {},
     "output_type": "display_data"
    },
    {
     "name": "stdout",
     "output_type": "stream",
     "text": [
      "ESP_011664_2015/\n",
      "Downloading https://hirise-pds.lpl.arizona.edu/PDS/EXTRAS/RDR/ESP/ORB_011600_011699/ESP_011664_2015/ESP_011664_2015_RGB.NOMAP.browse.jpg to I:\\data\\mars\\ESP_011664_2015_RGB.NOMAP.browse.jpg\n"
     ]
    },
    {
     "data": {
      "application/vnd.jupyter.widget-view+json": {
       "model_id": "71840677ccde4a7ab66a689db9261e99",
       "version_major": 2,
       "version_minor": 0
      },
      "text/plain": [
       "  0%|          | 0/853100 [00:00<?, ?it/s]"
      ]
     },
     "metadata": {},
     "output_type": "display_data"
    },
    {
     "name": "stdout",
     "output_type": "stream",
     "text": [
      "ESP_011667_1390/\n",
      "Downloading https://hirise-pds.lpl.arizona.edu/PDS/EXTRAS/RDR/ESP/ORB_011600_011699/ESP_011667_1390/ESP_011667_1390_RGB.NOMAP.browse.jpg to I:\\data\\mars\\ESP_011667_1390_RGB.NOMAP.browse.jpg\n"
     ]
    },
    {
     "data": {
      "application/vnd.jupyter.widget-view+json": {
       "model_id": "5f221b21fc644f51bf3ba60f99dd1f62",
       "version_major": 2,
       "version_minor": 0
      },
      "text/plain": [
       "  0%|          | 0/1856002 [00:00<?, ?it/s]"
      ]
     },
     "metadata": {},
     "output_type": "display_data"
    },
    {
     "name": "stdout",
     "output_type": "stream",
     "text": [
      "ESP_011668_1185/\n",
      "Downloading https://hirise-pds.lpl.arizona.edu/PDS/EXTRAS/RDR/ESP/ORB_011600_011699/ESP_011668_1185/ESP_011668_1185_RGB.NOMAP.browse.jpg to I:\\data\\mars\\ESP_011668_1185_RGB.NOMAP.browse.jpg\n"
     ]
    },
    {
     "data": {
      "application/vnd.jupyter.widget-view+json": {
       "model_id": "6c4a349ef39d4c2b9c8dc60e9641d42d",
       "version_major": 2,
       "version_minor": 0
      },
      "text/plain": [
       "  0%|          | 0/1589647 [00:00<?, ?it/s]"
      ]
     },
     "metadata": {},
     "output_type": "display_data"
    },
    {
     "name": "stdout",
     "output_type": "stream",
     "text": [
      "ESP_011669_1390/\n",
      "Downloading https://hirise-pds.lpl.arizona.edu/PDS/EXTRAS/RDR/ESP/ORB_011600_011699/ESP_011669_1390/ESP_011669_1390_RGB.NOMAP.browse.jpg to I:\\data\\mars\\ESP_011669_1390_RGB.NOMAP.browse.jpg\n"
     ]
    },
    {
     "data": {
      "application/vnd.jupyter.widget-view+json": {
       "model_id": "06ea893c974c41479c2c24c2a3d7edc9",
       "version_major": 2,
       "version_minor": 0
      },
      "text/plain": [
       "  0%|          | 0/2713937 [00:00<?, ?it/s]"
      ]
     },
     "metadata": {},
     "output_type": "display_data"
    },
    {
     "name": "stdout",
     "output_type": "stream",
     "text": [
      "ESP_011671_0935/\n",
      "Downloading https://hirise-pds.lpl.arizona.edu/PDS/EXTRAS/RDR/ESP/ORB_011600_011699/ESP_011671_0935/ESP_011671_0935_RGB.NOMAP.browse.jpg to I:\\data\\mars\\ESP_011671_0935_RGB.NOMAP.browse.jpg\n"
     ]
    },
    {
     "data": {
      "application/vnd.jupyter.widget-view+json": {
       "model_id": "59b7e71a5e164e6b8e9b3a35381a848b",
       "version_major": 2,
       "version_minor": 0
      },
      "text/plain": [
       "  0%|          | 0/3065628 [00:00<?, ?it/s]"
      ]
     },
     "metadata": {},
     "output_type": "display_data"
    },
    {
     "name": "stdout",
     "output_type": "stream",
     "text": [
      "ESP_011671_1590/\n",
      "Downloading https://hirise-pds.lpl.arizona.edu/PDS/EXTRAS/RDR/ESP/ORB_011600_011699/ESP_011671_1590/ESP_011671_1590_RGB.NOMAP.browse.jpg to I:\\data\\mars\\ESP_011671_1590_RGB.NOMAP.browse.jpg\n"
     ]
    },
    {
     "data": {
      "application/vnd.jupyter.widget-view+json": {
       "model_id": "f773699ac08343d48a11eb7b1061ae3e",
       "version_major": 2,
       "version_minor": 0
      },
      "text/plain": [
       "  0%|          | 0/1024578 [00:00<?, ?it/s]"
      ]
     },
     "metadata": {},
     "output_type": "display_data"
    },
    {
     "name": "stdout",
     "output_type": "stream",
     "text": [
      "ESP_011672_1395/\n",
      "Downloading https://hirise-pds.lpl.arizona.edu/PDS/EXTRAS/RDR/ESP/ORB_011600_011699/ESP_011672_1395/ESP_011672_1395_RGB.NOMAP.browse.jpg to I:\\data\\mars\\ESP_011672_1395_RGB.NOMAP.browse.jpg\n"
     ]
    },
    {
     "data": {
      "application/vnd.jupyter.widget-view+json": {
       "model_id": "83fc9952e6994addb1d3e65f86310106",
       "version_major": 2,
       "version_minor": 0
      },
      "text/plain": [
       "  0%|          | 0/1906938 [00:00<?, ?it/s]"
      ]
     },
     "metadata": {},
     "output_type": "display_data"
    },
    {
     "name": "stdout",
     "output_type": "stream",
     "text": [
      "ESP_011673_1090/\n",
      "Downloading https://hirise-pds.lpl.arizona.edu/PDS/EXTRAS/RDR/ESP/ORB_011600_011699/ESP_011673_1090/ESP_011673_1090_RGB.NOMAP.browse.jpg to I:\\data\\mars\\ESP_011673_1090_RGB.NOMAP.browse.jpg\n"
     ]
    },
    {
     "data": {
      "application/vnd.jupyter.widget-view+json": {
       "model_id": "64b9a05a06694ff8a3b0682d2bf873d8",
       "version_major": 2,
       "version_minor": 0
      },
      "text/plain": [
       "  0%|          | 0/3876349 [00:00<?, ?it/s]"
      ]
     },
     "metadata": {},
     "output_type": "display_data"
    },
    {
     "name": "stdout",
     "output_type": "stream",
     "text": [
      "ESP_011675_1470/\n",
      "Downloading https://hirise-pds.lpl.arizona.edu/PDS/EXTRAS/RDR/ESP/ORB_011600_011699/ESP_011675_1470/ESP_011675_1470_RGB.NOMAP.browse.jpg to I:\\data\\mars\\ESP_011675_1470_RGB.NOMAP.browse.jpg\n"
     ]
    },
    {
     "data": {
      "application/vnd.jupyter.widget-view+json": {
       "model_id": "ea6341577d5b4d3884827c8a6c2e2396",
       "version_major": 2,
       "version_minor": 0
      },
      "text/plain": [
       "  0%|          | 0/1141252 [00:00<?, ?it/s]"
      ]
     },
     "metadata": {},
     "output_type": "display_data"
    },
    {
     "name": "stdout",
     "output_type": "stream",
     "text": [
      "ESP_011676_1700/\n",
      "Downloading https://hirise-pds.lpl.arizona.edu/PDS/EXTRAS/RDR/ESP/ORB_011600_011699/ESP_011676_1700/ESP_011676_1700_RGB.NOMAP.browse.jpg to I:\\data\\mars\\ESP_011676_1700_RGB.NOMAP.browse.jpg\n"
     ]
    },
    {
     "data": {
      "application/vnd.jupyter.widget-view+json": {
       "model_id": "8f1891411ae94ca1a09611ea98eea7cc",
       "version_major": 2,
       "version_minor": 0
      },
      "text/plain": [
       "  0%|          | 0/1209611 [00:00<?, ?it/s]"
      ]
     },
     "metadata": {},
     "output_type": "display_data"
    },
    {
     "name": "stdout",
     "output_type": "stream",
     "text": [
      "ESP_011677_1655/\n",
      "Downloading https://hirise-pds.lpl.arizona.edu/PDS/EXTRAS/RDR/ESP/ORB_011600_011699/ESP_011677_1655/ESP_011677_1655_RGB.NOMAP.browse.jpg to I:\\data\\mars\\ESP_011677_1655_RGB.NOMAP.browse.jpg\n"
     ]
    },
    {
     "data": {
      "application/vnd.jupyter.widget-view+json": {
       "model_id": "1b11edbe2ece4d92aa3c045a61b3ece9",
       "version_major": 2,
       "version_minor": 0
      },
      "text/plain": [
       "  0%|          | 0/1950413 [00:00<?, ?it/s]"
      ]
     },
     "metadata": {},
     "output_type": "display_data"
    },
    {
     "name": "stdout",
     "output_type": "stream",
     "text": [
      "ESP_011680_1055/\n",
      "Downloading https://hirise-pds.lpl.arizona.edu/PDS/EXTRAS/RDR/ESP/ORB_011600_011699/ESP_011680_1055/ESP_011680_1055_RGB.NOMAP.browse.jpg to I:\\data\\mars\\ESP_011680_1055_RGB.NOMAP.browse.jpg\n"
     ]
    },
    {
     "data": {
      "application/vnd.jupyter.widget-view+json": {
       "model_id": "af07b1c9bff74d02ad1b89bf6518bfce",
       "version_major": 2,
       "version_minor": 0
      },
      "text/plain": [
       "  0%|          | 0/1876499 [00:00<?, ?it/s]"
      ]
     },
     "metadata": {},
     "output_type": "display_data"
    },
    {
     "name": "stdout",
     "output_type": "stream",
     "text": [
      "ESP_011680_1825/\n",
      "Downloading https://hirise-pds.lpl.arizona.edu/PDS/EXTRAS/RDR/ESP/ORB_011600_011699/ESP_011680_1825/ESP_011680_1825_RGB.NOMAP.browse.jpg to I:\\data\\mars\\ESP_011680_1825_RGB.NOMAP.browse.jpg\n"
     ]
    },
    {
     "data": {
      "application/vnd.jupyter.widget-view+json": {
       "model_id": "dc704000fc9447ed9c913368750b5fc0",
       "version_major": 2,
       "version_minor": 0
      },
      "text/plain": [
       "  0%|          | 0/1787991 [00:00<?, ?it/s]"
      ]
     },
     "metadata": {},
     "output_type": "display_data"
    },
    {
     "name": "stdout",
     "output_type": "stream",
     "text": [
      "ESP_011682_1565/\n",
      "Downloading https://hirise-pds.lpl.arizona.edu/PDS/EXTRAS/RDR/ESP/ORB_011600_011699/ESP_011682_1565/ESP_011682_1565_RGB.NOMAP.browse.jpg to I:\\data\\mars\\ESP_011682_1565_RGB.NOMAP.browse.jpg\n"
     ]
    },
    {
     "data": {
      "application/vnd.jupyter.widget-view+json": {
       "model_id": "388eb4534d154a7f85acd91a1a5b798c",
       "version_major": 2,
       "version_minor": 0
      },
      "text/plain": [
       "  0%|          | 0/1061266 [00:00<?, ?it/s]"
      ]
     },
     "metadata": {},
     "output_type": "display_data"
    },
    {
     "name": "stdout",
     "output_type": "stream",
     "text": [
      "ESP_011683_1540/\n",
      "Downloading https://hirise-pds.lpl.arizona.edu/PDS/EXTRAS/RDR/ESP/ORB_011600_011699/ESP_011683_1540/ESP_011683_1540_RGB.NOMAP.browse.jpg to I:\\data\\mars\\ESP_011683_1540_RGB.NOMAP.browse.jpg\n"
     ]
    },
    {
     "data": {
      "application/vnd.jupyter.widget-view+json": {
       "model_id": "abf23b646b5849da93ca300f598b27cc",
       "version_major": 2,
       "version_minor": 0
      },
      "text/plain": [
       "  0%|          | 0/1547951 [00:00<?, ?it/s]"
      ]
     },
     "metadata": {},
     "output_type": "display_data"
    },
    {
     "name": "stdout",
     "output_type": "stream",
     "text": [
      "ESP_011688_1760/\n",
      "Downloading https://hirise-pds.lpl.arizona.edu/PDS/EXTRAS/RDR/ESP/ORB_011600_011699/ESP_011688_1760/ESP_011688_1760_RGB.NOMAP.browse.jpg to I:\\data\\mars\\ESP_011688_1760_RGB.NOMAP.browse.jpg\n"
     ]
    },
    {
     "data": {
      "application/vnd.jupyter.widget-view+json": {
       "model_id": "d1b1d423b36140a883d911495bf0c660",
       "version_major": 2,
       "version_minor": 0
      },
      "text/plain": [
       "  0%|          | 0/1346645 [00:00<?, ?it/s]"
      ]
     },
     "metadata": {},
     "output_type": "display_data"
    },
    {
     "name": "stdout",
     "output_type": "stream",
     "text": [
      "ESP_011690_1720/\n",
      "\tfailed to find filename\n",
      "ESP_011691_1995/\n",
      "Downloading https://hirise-pds.lpl.arizona.edu/PDS/EXTRAS/RDR/ESP/ORB_011600_011699/ESP_011691_1995/ESP_011691_1995_RGB.NOMAP.browse.jpg to I:\\data\\mars\\ESP_011691_1995_RGB.NOMAP.browse.jpg\n"
     ]
    },
    {
     "data": {
      "application/vnd.jupyter.widget-view+json": {
       "model_id": "dbaf14ca4d584c8f81107567e704508e",
       "version_major": 2,
       "version_minor": 0
      },
      "text/plain": [
       "  0%|          | 0/1361362 [00:00<?, ?it/s]"
      ]
     },
     "metadata": {},
     "output_type": "display_data"
    },
    {
     "name": "stdout",
     "output_type": "stream",
     "text": [
      "ESP_011697_0980/\n",
      "Downloading https://hirise-pds.lpl.arizona.edu/PDS/EXTRAS/RDR/ESP/ORB_011600_011699/ESP_011697_0980/ESP_011697_0980_RGB.NOMAP.browse.jpg to I:\\data\\mars\\ESP_011697_0980_RGB.NOMAP.browse.jpg\n"
     ]
    },
    {
     "data": {
      "application/vnd.jupyter.widget-view+json": {
       "model_id": "c376abcf17054730beab2764ec11a3a9",
       "version_major": 2,
       "version_minor": 0
      },
      "text/plain": [
       "  0%|          | 0/3084860 [00:00<?, ?it/s]"
      ]
     },
     "metadata": {},
     "output_type": "display_data"
    },
    {
     "name": "stdout",
     "output_type": "stream",
     "text": [
      "ESP_011698_1810/\n",
      "Downloading https://hirise-pds.lpl.arizona.edu/PDS/EXTRAS/RDR/ESP/ORB_011600_011699/ESP_011698_1810/ESP_011698_1810_RGB.NOMAP.browse.jpg to I:\\data\\mars\\ESP_011698_1810_RGB.NOMAP.browse.jpg\n"
     ]
    },
    {
     "data": {
      "application/vnd.jupyter.widget-view+json": {
       "model_id": "e1187f7dd2264c598c41a9e44a96bc7b",
       "version_major": 2,
       "version_minor": 0
      },
      "text/plain": [
       "  0%|          | 0/393627 [00:00<?, ?it/s]"
      ]
     },
     "metadata": {},
     "output_type": "display_data"
    },
    {
     "name": "stdout",
     "output_type": "stream",
     "text": [
      "ESP_011699_1910/\n",
      "Downloading https://hirise-pds.lpl.arizona.edu/PDS/EXTRAS/RDR/ESP/ORB_011600_011699/ESP_011699_1910/ESP_011699_1910_RGB.NOMAP.browse.jpg to I:\\data\\mars\\ESP_011699_1910_RGB.NOMAP.browse.jpg\n"
     ]
    },
    {
     "data": {
      "application/vnd.jupyter.widget-view+json": {
       "model_id": "ec5004e0b8c040e9a1e100c54b5ea976",
       "version_major": 2,
       "version_minor": 0
      },
      "text/plain": [
       "  0%|          | 0/2670503 [00:00<?, ?it/s]"
      ]
     },
     "metadata": {},
     "output_type": "display_data"
    },
    {
     "name": "stdout",
     "output_type": "stream",
     "text": [
      "-------------------------------------------------- ORB_011700_011799/\n",
      "ESP_011701_1790/\n",
      "Downloading https://hirise-pds.lpl.arizona.edu/PDS/EXTRAS/RDR/ESP/ORB_011700_011799/ESP_011701_1790/ESP_011701_1790_RGB.NOMAP.browse.jpg to I:\\data\\mars\\ESP_011701_1790_RGB.NOMAP.browse.jpg\n"
     ]
    },
    {
     "data": {
      "application/vnd.jupyter.widget-view+json": {
       "model_id": "548bcc363bc64f33a8526c2a91b1dd8e",
       "version_major": 2,
       "version_minor": 0
      },
      "text/plain": [
       "  0%|          | 0/2478936 [00:00<?, ?it/s]"
      ]
     },
     "metadata": {},
     "output_type": "display_data"
    },
    {
     "name": "stdout",
     "output_type": "stream",
     "text": [
      "ESP_011702_0985/\n",
      "Downloading https://hirise-pds.lpl.arizona.edu/PDS/EXTRAS/RDR/ESP/ORB_011700_011799/ESP_011702_0985/ESP_011702_0985_RGB.NOMAP.browse.jpg to I:\\data\\mars\\ESP_011702_0985_RGB.NOMAP.browse.jpg\n"
     ]
    },
    {
     "data": {
      "application/vnd.jupyter.widget-view+json": {
       "model_id": "275bfd13cbce4e2a8ac9b63aa762d9a2",
       "version_major": 2,
       "version_minor": 0
      },
      "text/plain": [
       "  0%|          | 0/1884766 [00:00<?, ?it/s]"
      ]
     },
     "metadata": {},
     "output_type": "display_data"
    },
    {
     "name": "stdout",
     "output_type": "stream",
     "text": [
      "ESP_011705_1410/\n",
      "Downloading https://hirise-pds.lpl.arizona.edu/PDS/EXTRAS/RDR/ESP/ORB_011700_011799/ESP_011705_1410/ESP_011705_1410_RGB.NOMAP.browse.jpg to I:\\data\\mars\\ESP_011705_1410_RGB.NOMAP.browse.jpg\n"
     ]
    },
    {
     "data": {
      "application/vnd.jupyter.widget-view+json": {
       "model_id": "bbbf422d46114d728ba55a6a78c71bbb",
       "version_major": 2,
       "version_minor": 0
      },
      "text/plain": [
       "  0%|          | 0/1069665 [00:00<?, ?it/s]"
      ]
     },
     "metadata": {},
     "output_type": "display_data"
    },
    {
     "name": "stdout",
     "output_type": "stream",
     "text": [
      "ESP_011706_1080/\n",
      "Downloading https://hirise-pds.lpl.arizona.edu/PDS/EXTRAS/RDR/ESP/ORB_011700_011799/ESP_011706_1080/ESP_011706_1080_RGB.NOMAP.browse.jpg to I:\\data\\mars\\ESP_011706_1080_RGB.NOMAP.browse.jpg\n"
     ]
    },
    {
     "data": {
      "application/vnd.jupyter.widget-view+json": {
       "model_id": "a239ee51d10747398bb0194d10e8f698",
       "version_major": 2,
       "version_minor": 0
      },
      "text/plain": [
       "  0%|          | 0/1558956 [00:00<?, ?it/s]"
      ]
     },
     "metadata": {},
     "output_type": "display_data"
    },
    {
     "name": "stdout",
     "output_type": "stream",
     "text": [
      "ESP_011707_1440/\n",
      "Downloading https://hirise-pds.lpl.arizona.edu/PDS/EXTRAS/RDR/ESP/ORB_011700_011799/ESP_011707_1440/ESP_011707_1440_RGB.NOMAP.browse.jpg to I:\\data\\mars\\ESP_011707_1440_RGB.NOMAP.browse.jpg\n"
     ]
    },
    {
     "data": {
      "application/vnd.jupyter.widget-view+json": {
       "model_id": "81767d1e406a4c668301c0aaf0234b53",
       "version_major": 2,
       "version_minor": 0
      },
      "text/plain": [
       "  0%|          | 0/1511250 [00:00<?, ?it/s]"
      ]
     },
     "metadata": {},
     "output_type": "display_data"
    },
    {
     "name": "stdout",
     "output_type": "stream",
     "text": [
      "ESP_011708_1920/\n",
      "Downloading https://hirise-pds.lpl.arizona.edu/PDS/EXTRAS/RDR/ESP/ORB_011700_011799/ESP_011708_1920/ESP_011708_1920_RGB.NOMAP.browse.jpg to I:\\data\\mars\\ESP_011708_1920_RGB.NOMAP.browse.jpg\n"
     ]
    },
    {
     "data": {
      "application/vnd.jupyter.widget-view+json": {
       "model_id": "467b9915d6504cf994908e142ea33fdb",
       "version_major": 2,
       "version_minor": 0
      },
      "text/plain": [
       "  0%|          | 0/1634318 [00:00<?, ?it/s]"
      ]
     },
     "metadata": {},
     "output_type": "display_data"
    },
    {
     "name": "stdout",
     "output_type": "stream",
     "text": [
      "ESP_011709_1840/\n",
      "Downloading https://hirise-pds.lpl.arizona.edu/PDS/EXTRAS/RDR/ESP/ORB_011700_011799/ESP_011709_1840/ESP_011709_1840_RGB.NOMAP.browse.jpg to I:\\data\\mars\\ESP_011709_1840_RGB.NOMAP.browse.jpg\n"
     ]
    },
    {
     "data": {
      "application/vnd.jupyter.widget-view+json": {
       "model_id": "7e320fc5fc434c4a9d009fbbf5e0502f",
       "version_major": 2,
       "version_minor": 0
      },
      "text/plain": [
       "  0%|          | 0/1194927 [00:00<?, ?it/s]"
      ]
     },
     "metadata": {},
     "output_type": "display_data"
    },
    {
     "name": "stdout",
     "output_type": "stream",
     "text": [
      "ESP_011710_1610/\n",
      "Downloading https://hirise-pds.lpl.arizona.edu/PDS/EXTRAS/RDR/ESP/ORB_011700_011799/ESP_011710_1610/ESP_011710_1610_RGB.NOMAP.browse.jpg to I:\\data\\mars\\ESP_011710_1610_RGB.NOMAP.browse.jpg\n"
     ]
    },
    {
     "data": {
      "application/vnd.jupyter.widget-view+json": {
       "model_id": "56273dfc127246e6b58a7365e3b6efde",
       "version_major": 2,
       "version_minor": 0
      },
      "text/plain": [
       "  0%|          | 0/790415 [00:00<?, ?it/s]"
      ]
     },
     "metadata": {},
     "output_type": "display_data"
    },
    {
     "name": "stdout",
     "output_type": "stream",
     "text": [
      "ESP_011711_0930/\n",
      "Downloading https://hirise-pds.lpl.arizona.edu/PDS/EXTRAS/RDR/ESP/ORB_011700_011799/ESP_011711_0930/ESP_011711_0930_RGB.NOMAP.browse.jpg to I:\\data\\mars\\ESP_011711_0930_RGB.NOMAP.browse.jpg\n"
     ]
    },
    {
     "data": {
      "application/vnd.jupyter.widget-view+json": {
       "model_id": "a429e1f38fa54f74bd0121cadb9b1624",
       "version_major": 2,
       "version_minor": 0
      },
      "text/plain": [
       "  0%|          | 0/4777604 [00:00<?, ?it/s]"
      ]
     },
     "metadata": {},
     "output_type": "display_data"
    },
    {
     "name": "stdout",
     "output_type": "stream",
     "text": [
      "ESP_011712_1820/\n",
      "Downloading https://hirise-pds.lpl.arizona.edu/PDS/EXTRAS/RDR/ESP/ORB_011700_011799/ESP_011712_1820/ESP_011712_1820_RGB.NOMAP.browse.jpg to I:\\data\\mars\\ESP_011712_1820_RGB.NOMAP.browse.jpg\n"
     ]
    },
    {
     "data": {
      "application/vnd.jupyter.widget-view+json": {
       "model_id": "7869f5a82865498b893bf2a42be06b0c",
       "version_major": 2,
       "version_minor": 0
      },
      "text/plain": [
       "  0%|          | 0/3272432 [00:00<?, ?it/s]"
      ]
     },
     "metadata": {},
     "output_type": "display_data"
    },
    {
     "name": "stdout",
     "output_type": "stream",
     "text": [
      "ESP_011714_1345/\n",
      "Downloading https://hirise-pds.lpl.arizona.edu/PDS/EXTRAS/RDR/ESP/ORB_011700_011799/ESP_011714_1345/ESP_011714_1345_RGB.NOMAP.browse.jpg to I:\\data\\mars\\ESP_011714_1345_RGB.NOMAP.browse.jpg\n"
     ]
    },
    {
     "data": {
      "application/vnd.jupyter.widget-view+json": {
       "model_id": "7121a4fc97064e7faa920180c5b4ad59",
       "version_major": 2,
       "version_minor": 0
      },
      "text/plain": [
       "  0%|          | 0/2222487 [00:00<?, ?it/s]"
      ]
     },
     "metadata": {},
     "output_type": "display_data"
    },
    {
     "name": "stdout",
     "output_type": "stream",
     "text": [
      "ESP_011715_1800/\n",
      "Downloading https://hirise-pds.lpl.arizona.edu/PDS/EXTRAS/RDR/ESP/ORB_011700_011799/ESP_011715_1800/ESP_011715_1800_RGB.NOMAP.browse.jpg to I:\\data\\mars\\ESP_011715_1800_RGB.NOMAP.browse.jpg\n"
     ]
    },
    {
     "data": {
      "application/vnd.jupyter.widget-view+json": {
       "model_id": "3f8313a6c1414f89994187fbbd45dbfc",
       "version_major": 2,
       "version_minor": 0
      },
      "text/plain": [
       "  0%|          | 0/1419511 [00:00<?, ?it/s]"
      ]
     },
     "metadata": {},
     "output_type": "display_data"
    },
    {
     "name": "stdout",
     "output_type": "stream",
     "text": [
      "ESP_011716_0940/\n",
      "Downloading https://hirise-pds.lpl.arizona.edu/PDS/EXTRAS/RDR/ESP/ORB_011700_011799/ESP_011716_0940/ESP_011716_0940_RGB.NOMAP.browse.jpg to I:\\data\\mars\\ESP_011716_0940_RGB.NOMAP.browse.jpg\n"
     ]
    },
    {
     "data": {
      "application/vnd.jupyter.widget-view+json": {
       "model_id": "1a14c9796f894bbf8259a0c3ae4a8784",
       "version_major": 2,
       "version_minor": 0
      },
      "text/plain": [
       "  0%|          | 0/894122 [00:00<?, ?it/s]"
      ]
     },
     "metadata": {},
     "output_type": "display_data"
    },
    {
     "name": "stdout",
     "output_type": "stream",
     "text": [
      "ESP_011716_2100/\n",
      "Downloading https://hirise-pds.lpl.arizona.edu/PDS/EXTRAS/RDR/ESP/ORB_011700_011799/ESP_011716_2100/ESP_011716_2100_RGB.NOMAP.browse.jpg to I:\\data\\mars\\ESP_011716_2100_RGB.NOMAP.browse.jpg\n"
     ]
    },
    {
     "data": {
      "application/vnd.jupyter.widget-view+json": {
       "model_id": "7aac463409904f068735ec937f331694",
       "version_major": 2,
       "version_minor": 0
      },
      "text/plain": [
       "  0%|          | 0/587335 [00:00<?, ?it/s]"
      ]
     },
     "metadata": {},
     "output_type": "display_data"
    },
    {
     "name": "stdout",
     "output_type": "stream",
     "text": [
      "ESP_011717_1910/\n",
      "Downloading https://hirise-pds.lpl.arizona.edu/PDS/EXTRAS/RDR/ESP/ORB_011700_011799/ESP_011717_1910/ESP_011717_1910_RGB.NOMAP.browse.jpg to I:\\data\\mars\\ESP_011717_1910_RGB.NOMAP.browse.jpg\n"
     ]
    },
    {
     "data": {
      "application/vnd.jupyter.widget-view+json": {
       "model_id": "f73da60fb37a4b508fe4174265499971",
       "version_major": 2,
       "version_minor": 0
      },
      "text/plain": [
       "  0%|          | 0/1369294 [00:00<?, ?it/s]"
      ]
     },
     "metadata": {},
     "output_type": "display_data"
    },
    {
     "name": "stdout",
     "output_type": "stream",
     "text": [
      "ESP_011718_1500/\n",
      "Downloading https://hirise-pds.lpl.arizona.edu/PDS/EXTRAS/RDR/ESP/ORB_011700_011799/ESP_011718_1500/ESP_011718_1500_RGB.NOMAP.browse.jpg to I:\\data\\mars\\ESP_011718_1500_RGB.NOMAP.browse.jpg\n"
     ]
    },
    {
     "data": {
      "application/vnd.jupyter.widget-view+json": {
       "model_id": "baa36d81862b4792a59b61e62af1ce1b",
       "version_major": 2,
       "version_minor": 0
      },
      "text/plain": [
       "  0%|          | 0/1010689 [00:00<?, ?it/s]"
      ]
     },
     "metadata": {},
     "output_type": "display_data"
    },
    {
     "name": "stdout",
     "output_type": "stream",
     "text": [
      "ESP_011719_2235/\n",
      "Downloading https://hirise-pds.lpl.arizona.edu/PDS/EXTRAS/RDR/ESP/ORB_011700_011799/ESP_011719_2235/ESP_011719_2235_RGB.NOMAP.browse.jpg to I:\\data\\mars\\ESP_011719_2235_RGB.NOMAP.browse.jpg\n"
     ]
    },
    {
     "data": {
      "application/vnd.jupyter.widget-view+json": {
       "model_id": "0d703d7203e34de085705d55ad50b4f9",
       "version_major": 2,
       "version_minor": 0
      },
      "text/plain": [
       "  0%|          | 0/670277 [00:00<?, ?it/s]"
      ]
     },
     "metadata": {},
     "output_type": "display_data"
    },
    {
     "name": "stdout",
     "output_type": "stream",
     "text": [
      "ESP_011720_1835/\n",
      "Downloading https://hirise-pds.lpl.arizona.edu/PDS/EXTRAS/RDR/ESP/ORB_011700_011799/ESP_011720_1835/ESP_011720_1835_RGB.NOMAP.browse.jpg to I:\\data\\mars\\ESP_011720_1835_RGB.NOMAP.browse.jpg\n"
     ]
    },
    {
     "data": {
      "application/vnd.jupyter.widget-view+json": {
       "model_id": "aa44835582d1413f88af7a39d8f1d40d",
       "version_major": 2,
       "version_minor": 0
      },
      "text/plain": [
       "  0%|          | 0/698806 [00:00<?, ?it/s]"
      ]
     },
     "metadata": {},
     "output_type": "display_data"
    },
    {
     "name": "stdout",
     "output_type": "stream",
     "text": [
      "ESP_011721_1840/\n",
      "Downloading https://hirise-pds.lpl.arizona.edu/PDS/EXTRAS/RDR/ESP/ORB_011700_011799/ESP_011721_1840/ESP_011721_1840_RGB.NOMAP.browse.jpg to I:\\data\\mars\\ESP_011721_1840_RGB.NOMAP.browse.jpg\n"
     ]
    },
    {
     "data": {
      "application/vnd.jupyter.widget-view+json": {
       "model_id": "ff82066cd7024ccd8eb1f7a824efaacd",
       "version_major": 2,
       "version_minor": 0
      },
      "text/plain": [
       "  0%|          | 0/563836 [00:00<?, ?it/s]"
      ]
     },
     "metadata": {},
     "output_type": "display_data"
    },
    {
     "name": "stdout",
     "output_type": "stream",
     "text": [
      "ESP_011722_1460/\n",
      "Downloading https://hirise-pds.lpl.arizona.edu/PDS/EXTRAS/RDR/ESP/ORB_011700_011799/ESP_011722_1460/ESP_011722_1460_RGB.NOMAP.browse.jpg to I:\\data\\mars\\ESP_011722_1460_RGB.NOMAP.browse.jpg\n"
     ]
    },
    {
     "data": {
      "application/vnd.jupyter.widget-view+json": {
       "model_id": "21cc637eb68c47078c4d322a0783bd20",
       "version_major": 2,
       "version_minor": 0
      },
      "text/plain": [
       "  0%|          | 0/1782831 [00:00<?, ?it/s]"
      ]
     },
     "metadata": {},
     "output_type": "display_data"
    },
    {
     "name": "stdout",
     "output_type": "stream",
     "text": [
      "ESP_011723_0945/\n",
      "Downloading https://hirise-pds.lpl.arizona.edu/PDS/EXTRAS/RDR/ESP/ORB_011700_011799/ESP_011723_0945/ESP_011723_0945_RGB.NOMAP.browse.jpg to I:\\data\\mars\\ESP_011723_0945_RGB.NOMAP.browse.jpg\n"
     ]
    },
    {
     "data": {
      "application/vnd.jupyter.widget-view+json": {
       "model_id": "68a38d428bf54074a384c66fc0f66ca7",
       "version_major": 2,
       "version_minor": 0
      },
      "text/plain": [
       "  0%|          | 0/3919829 [00:00<?, ?it/s]"
      ]
     },
     "metadata": {},
     "output_type": "display_data"
    },
    {
     "name": "stdout",
     "output_type": "stream",
     "text": [
      "ESP_011727_0940/\n",
      "Downloading https://hirise-pds.lpl.arizona.edu/PDS/EXTRAS/RDR/ESP/ORB_011700_011799/ESP_011727_0940/ESP_011727_0940_RGB.NOMAP.browse.jpg to I:\\data\\mars\\ESP_011727_0940_RGB.NOMAP.browse.jpg\n"
     ]
    },
    {
     "data": {
      "application/vnd.jupyter.widget-view+json": {
       "model_id": "2ba5911188364ccb86b1574d070f7122",
       "version_major": 2,
       "version_minor": 0
      },
      "text/plain": [
       "  0%|          | 0/1392718 [00:00<?, ?it/s]"
      ]
     },
     "metadata": {},
     "output_type": "display_data"
    },
    {
     "name": "stdout",
     "output_type": "stream",
     "text": [
      "ESP_011727_1490/\n",
      "Downloading https://hirise-pds.lpl.arizona.edu/PDS/EXTRAS/RDR/ESP/ORB_011700_011799/ESP_011727_1490/ESP_011727_1490_RGB.NOMAP.browse.jpg to I:\\data\\mars\\ESP_011727_1490_RGB.NOMAP.browse.jpg\n"
     ]
    },
    {
     "data": {
      "application/vnd.jupyter.widget-view+json": {
       "model_id": "76a50c8093b248489ddaf0c7ffff2735",
       "version_major": 2,
       "version_minor": 0
      },
      "text/plain": [
       "  0%|          | 0/677610 [00:00<?, ?it/s]"
      ]
     },
     "metadata": {},
     "output_type": "display_data"
    },
    {
     "name": "stdout",
     "output_type": "stream",
     "text": [
      "ESP_011728_0985/\n",
      "Downloading https://hirise-pds.lpl.arizona.edu/PDS/EXTRAS/RDR/ESP/ORB_011700_011799/ESP_011728_0985/ESP_011728_0985_RGB.NOMAP.browse.jpg to I:\\data\\mars\\ESP_011728_0985_RGB.NOMAP.browse.jpg\n"
     ]
    },
    {
     "data": {
      "application/vnd.jupyter.widget-view+json": {
       "model_id": "44f7a2d401f94b3cbdc2f14e15081042",
       "version_major": 2,
       "version_minor": 0
      },
      "text/plain": [
       "  0%|          | 0/1838428 [00:00<?, ?it/s]"
      ]
     },
     "metadata": {},
     "output_type": "display_data"
    },
    {
     "name": "stdout",
     "output_type": "stream",
     "text": [
      "ESP_011728_1735/\n",
      "Downloading https://hirise-pds.lpl.arizona.edu/PDS/EXTRAS/RDR/ESP/ORB_011700_011799/ESP_011728_1735/ESP_011728_1735_RGB.NOMAP.browse.jpg to I:\\data\\mars\\ESP_011728_1735_RGB.NOMAP.browse.jpg\n"
     ]
    },
    {
     "data": {
      "application/vnd.jupyter.widget-view+json": {
       "model_id": "0a0850410c5d400eb3a4eac47308e1b6",
       "version_major": 2,
       "version_minor": 0
      },
      "text/plain": [
       "  0%|          | 0/1064013 [00:00<?, ?it/s]"
      ]
     },
     "metadata": {},
     "output_type": "display_data"
    },
    {
     "name": "stdout",
     "output_type": "stream",
     "text": [
      "ESP_011729_0985/\n",
      "Downloading https://hirise-pds.lpl.arizona.edu/PDS/EXTRAS/RDR/ESP/ORB_011700_011799/ESP_011729_0985/ESP_011729_0985_RGB.NOMAP.browse.jpg to I:\\data\\mars\\ESP_011729_0985_RGB.NOMAP.browse.jpg\n"
     ]
    },
    {
     "data": {
      "application/vnd.jupyter.widget-view+json": {
       "model_id": "9f39b86358db491ab7495b9a5cf4f2ce",
       "version_major": 2,
       "version_minor": 0
      },
      "text/plain": [
       "  0%|          | 0/1763849 [00:00<?, ?it/s]"
      ]
     },
     "metadata": {},
     "output_type": "display_data"
    },
    {
     "name": "stdout",
     "output_type": "stream",
     "text": [
      "ESP_011730_2105/\n",
      "Downloading https://hirise-pds.lpl.arizona.edu/PDS/EXTRAS/RDR/ESP/ORB_011700_011799/ESP_011730_2105/ESP_011730_2105_RGB.NOMAP.browse.jpg to I:\\data\\mars\\ESP_011730_2105_RGB.NOMAP.browse.jpg\n"
     ]
    },
    {
     "data": {
      "application/vnd.jupyter.widget-view+json": {
       "model_id": "6c2011bad2d24026974921c882828a57",
       "version_major": 2,
       "version_minor": 0
      },
      "text/plain": [
       "  0%|          | 0/818944 [00:00<?, ?it/s]"
      ]
     },
     "metadata": {},
     "output_type": "display_data"
    },
    {
     "name": "stdout",
     "output_type": "stream",
     "text": [
      "ESP_011731_1335/\n",
      "Downloading https://hirise-pds.lpl.arizona.edu/PDS/EXTRAS/RDR/ESP/ORB_011700_011799/ESP_011731_1335/ESP_011731_1335_RGB.NOMAP.browse.jpg to I:\\data\\mars\\ESP_011731_1335_RGB.NOMAP.browse.jpg\n"
     ]
    },
    {
     "data": {
      "application/vnd.jupyter.widget-view+json": {
       "model_id": "7291a098792d41b480303a669d47a04e",
       "version_major": 2,
       "version_minor": 0
      },
      "text/plain": [
       "  0%|          | 0/1711956 [00:00<?, ?it/s]"
      ]
     },
     "metadata": {},
     "output_type": "display_data"
    },
    {
     "name": "stdout",
     "output_type": "stream",
     "text": [
      "ESP_011732_1595/\n",
      "Downloading https://hirise-pds.lpl.arizona.edu/PDS/EXTRAS/RDR/ESP/ORB_011700_011799/ESP_011732_1595/ESP_011732_1595_RGB.NOMAP.browse.jpg to I:\\data\\mars\\ESP_011732_1595_RGB.NOMAP.browse.jpg\n"
     ]
    },
    {
     "data": {
      "application/vnd.jupyter.widget-view+json": {
       "model_id": "ee981b40fab04703a1dd49469d5a5e87",
       "version_major": 2,
       "version_minor": 0
      },
      "text/plain": [
       "  0%|          | 0/609116 [00:00<?, ?it/s]"
      ]
     },
     "metadata": {},
     "output_type": "display_data"
    },
    {
     "name": "stdout",
     "output_type": "stream",
     "text": [
      "ESP_011735_1005/\n",
      "Downloading https://hirise-pds.lpl.arizona.edu/PDS/EXTRAS/RDR/ESP/ORB_011700_011799/ESP_011735_1005/ESP_011735_1005_RGB.NOMAP.browse.jpg to I:\\data\\mars\\ESP_011735_1005_RGB.NOMAP.browse.jpg\n"
     ]
    },
    {
     "data": {
      "application/vnd.jupyter.widget-view+json": {
       "model_id": "dcf032cac8534de8a56ee07ae55f76e8",
       "version_major": 2,
       "version_minor": 0
      },
      "text/plain": [
       "  0%|          | 0/1802781 [00:00<?, ?it/s]"
      ]
     },
     "metadata": {},
     "output_type": "display_data"
    },
    {
     "name": "stdout",
     "output_type": "stream",
     "text": [
      "ESP_011736_2070/\n",
      "Downloading https://hirise-pds.lpl.arizona.edu/PDS/EXTRAS/RDR/ESP/ORB_011700_011799/ESP_011736_2070/ESP_011736_2070_RGB.NOMAP.browse.jpg to I:\\data\\mars\\ESP_011736_2070_RGB.NOMAP.browse.jpg\n"
     ]
    },
    {
     "data": {
      "application/vnd.jupyter.widget-view+json": {
       "model_id": "c3bce3a4017f405bb403090d03418279",
       "version_major": 2,
       "version_minor": 0
      },
      "text/plain": [
       "  0%|          | 0/1120791 [00:00<?, ?it/s]"
      ]
     },
     "metadata": {},
     "output_type": "display_data"
    },
    {
     "name": "stdout",
     "output_type": "stream",
     "text": [
      "ESP_011737_0980/\n",
      "Downloading https://hirise-pds.lpl.arizona.edu/PDS/EXTRAS/RDR/ESP/ORB_011700_011799/ESP_011737_0980/ESP_011737_0980_RGB.NOMAP.browse.jpg to I:\\data\\mars\\ESP_011737_0980_RGB.NOMAP.browse.jpg\n"
     ]
    },
    {
     "data": {
      "application/vnd.jupyter.widget-view+json": {
       "model_id": "b5c5dae747714395b81a54ef00897556",
       "version_major": 2,
       "version_minor": 0
      },
      "text/plain": [
       "  0%|          | 0/2537197 [00:00<?, ?it/s]"
      ]
     },
     "metadata": {},
     "output_type": "display_data"
    },
    {
     "name": "stdout",
     "output_type": "stream",
     "text": [
      "ESP_011738_1325/\n",
      "Downloading https://hirise-pds.lpl.arizona.edu/PDS/EXTRAS/RDR/ESP/ORB_011700_011799/ESP_011738_1325/ESP_011738_1325_RGB.NOMAP.browse.jpg to I:\\data\\mars\\ESP_011738_1325_RGB.NOMAP.browse.jpg\n"
     ]
    },
    {
     "data": {
      "application/vnd.jupyter.widget-view+json": {
       "model_id": "8e72636c70864907882bfa6dc26356a1",
       "version_major": 2,
       "version_minor": 0
      },
      "text/plain": [
       "  0%|          | 0/1180578 [00:00<?, ?it/s]"
      ]
     },
     "metadata": {},
     "output_type": "display_data"
    },
    {
     "name": "stdout",
     "output_type": "stream",
     "text": [
      "ESP_011738_1865/\n",
      "Downloading https://hirise-pds.lpl.arizona.edu/PDS/EXTRAS/RDR/ESP/ORB_011700_011799/ESP_011738_1865/ESP_011738_1865_RGB.NOMAP.browse.jpg to I:\\data\\mars\\ESP_011738_1865_RGB.NOMAP.browse.jpg\n"
     ]
    },
    {
     "data": {
      "application/vnd.jupyter.widget-view+json": {
       "model_id": "a1fc8e2f4d9e496aa01a4b21607c75b8",
       "version_major": 2,
       "version_minor": 0
      },
      "text/plain": [
       "  0%|          | 0/925276 [00:00<?, ?it/s]"
      ]
     },
     "metadata": {},
     "output_type": "display_data"
    },
    {
     "name": "stdout",
     "output_type": "stream",
     "text": [
      "ESP_011740_1830/\n",
      "Downloading https://hirise-pds.lpl.arizona.edu/PDS/EXTRAS/RDR/ESP/ORB_011700_011799/ESP_011740_1830/ESP_011740_1830_RGB.NOMAP.browse.jpg to I:\\data\\mars\\ESP_011740_1830_RGB.NOMAP.browse.jpg\n"
     ]
    },
    {
     "data": {
      "application/vnd.jupyter.widget-view+json": {
       "model_id": "6f03af33fb694fd480fdd46599ab42ab",
       "version_major": 2,
       "version_minor": 0
      },
      "text/plain": [
       "  0%|          | 0/1921464 [00:00<?, ?it/s]"
      ]
     },
     "metadata": {},
     "output_type": "display_data"
    },
    {
     "name": "stdout",
     "output_type": "stream",
     "text": [
      "ESP_011742_0945/\n",
      "Downloading https://hirise-pds.lpl.arizona.edu/PDS/EXTRAS/RDR/ESP/ORB_011700_011799/ESP_011742_0945/ESP_011742_0945_RGB.NOMAP.browse.jpg to I:\\data\\mars\\ESP_011742_0945_RGB.NOMAP.browse.jpg\n"
     ]
    },
    {
     "data": {
      "application/vnd.jupyter.widget-view+json": {
       "model_id": "969e75f1668745029d7785b0d97e985c",
       "version_major": 2,
       "version_minor": 0
      },
      "text/plain": [
       "  0%|          | 0/1144530 [00:00<?, ?it/s]"
      ]
     },
     "metadata": {},
     "output_type": "display_data"
    },
    {
     "name": "stdout",
     "output_type": "stream",
     "text": [
      "ESP_011743_1725/\n",
      "Downloading https://hirise-pds.lpl.arizona.edu/PDS/EXTRAS/RDR/ESP/ORB_011700_011799/ESP_011743_1725/ESP_011743_1725_RGB.NOMAP.browse.jpg to I:\\data\\mars\\ESP_011743_1725_RGB.NOMAP.browse.jpg\n"
     ]
    },
    {
     "data": {
      "application/vnd.jupyter.widget-view+json": {
       "model_id": "d73f34faaf4841ad83cc4ce12fa15fb1",
       "version_major": 2,
       "version_minor": 0
      },
      "text/plain": [
       "  0%|          | 0/900702 [00:00<?, ?it/s]"
      ]
     },
     "metadata": {},
     "output_type": "display_data"
    },
    {
     "name": "stdout",
     "output_type": "stream",
     "text": [
      "ESP_011744_1750/\n",
      "Downloading https://hirise-pds.lpl.arizona.edu/PDS/EXTRAS/RDR/ESP/ORB_011700_011799/ESP_011744_1750/ESP_011744_1750_RGB.NOMAP.browse.jpg to I:\\data\\mars\\ESP_011744_1750_RGB.NOMAP.browse.jpg\n"
     ]
    },
    {
     "data": {
      "application/vnd.jupyter.widget-view+json": {
       "model_id": "2d15bfbe0df14497bc8b6fa7c676ed22",
       "version_major": 2,
       "version_minor": 0
      },
      "text/plain": [
       "  0%|          | 0/3695613 [00:00<?, ?it/s]"
      ]
     },
     "metadata": {},
     "output_type": "display_data"
    },
    {
     "name": "stdout",
     "output_type": "stream",
     "text": [
      "ESP_011746_1400/\n",
      "Downloading https://hirise-pds.lpl.arizona.edu/PDS/EXTRAS/RDR/ESP/ORB_011700_011799/ESP_011746_1400/ESP_011746_1400_RGB.NOMAP.browse.jpg to I:\\data\\mars\\ESP_011746_1400_RGB.NOMAP.browse.jpg\n"
     ]
    },
    {
     "data": {
      "application/vnd.jupyter.widget-view+json": {
       "model_id": "b9401816aa8745708f6ec086f01f1219",
       "version_major": 2,
       "version_minor": 0
      },
      "text/plain": [
       "  0%|          | 0/778083 [00:00<?, ?it/s]"
      ]
     },
     "metadata": {},
     "output_type": "display_data"
    },
    {
     "name": "stdout",
     "output_type": "stream",
     "text": [
      "ESP_011747_1395/\n",
      "Downloading https://hirise-pds.lpl.arizona.edu/PDS/EXTRAS/RDR/ESP/ORB_011700_011799/ESP_011747_1395/ESP_011747_1395_RGB.NOMAP.browse.jpg to I:\\data\\mars\\ESP_011747_1395_RGB.NOMAP.browse.jpg\n"
     ]
    },
    {
     "data": {
      "application/vnd.jupyter.widget-view+json": {
       "model_id": "e89f35d0957f41a0a8fe329dc1a64c8c",
       "version_major": 2,
       "version_minor": 0
      },
      "text/plain": [
       "  0%|          | 0/2058073 [00:00<?, ?it/s]"
      ]
     },
     "metadata": {},
     "output_type": "display_data"
    },
    {
     "name": "stdout",
     "output_type": "stream",
     "text": [
      "ESP_011748_0985/\n",
      "Downloading https://hirise-pds.lpl.arizona.edu/PDS/EXTRAS/RDR/ESP/ORB_011700_011799/ESP_011748_0985/ESP_011748_0985_RGB.NOMAP.browse.jpg to I:\\data\\mars\\ESP_011748_0985_RGB.NOMAP.browse.jpg\n"
     ]
    },
    {
     "data": {
      "application/vnd.jupyter.widget-view+json": {
       "model_id": "a9d0343009244e349d4260c45c064ea5",
       "version_major": 2,
       "version_minor": 0
      },
      "text/plain": [
       "  0%|          | 0/1726039 [00:00<?, ?it/s]"
      ]
     },
     "metadata": {},
     "output_type": "display_data"
    },
    {
     "name": "stdout",
     "output_type": "stream",
     "text": [
      "ESP_011749_1000/\n",
      "Downloading https://hirise-pds.lpl.arizona.edu/PDS/EXTRAS/RDR/ESP/ORB_011700_011799/ESP_011749_1000/ESP_011749_1000_RGB.NOMAP.browse.jpg to I:\\data\\mars\\ESP_011749_1000_RGB.NOMAP.browse.jpg\n"
     ]
    },
    {
     "data": {
      "application/vnd.jupyter.widget-view+json": {
       "model_id": "6ebfe1570a2640649c0308c5de7ba731",
       "version_major": 2,
       "version_minor": 0
      },
      "text/plain": [
       "  0%|          | 0/2185761 [00:00<?, ?it/s]"
      ]
     },
     "metadata": {},
     "output_type": "display_data"
    },
    {
     "name": "stdout",
     "output_type": "stream",
     "text": [
      "ESP_011752_1115/\n",
      "Downloading https://hirise-pds.lpl.arizona.edu/PDS/EXTRAS/RDR/ESP/ORB_011700_011799/ESP_011752_1115/ESP_011752_1115_RGB.NOMAP.browse.jpg to I:\\data\\mars\\ESP_011752_1115_RGB.NOMAP.browse.jpg\n"
     ]
    },
    {
     "data": {
      "application/vnd.jupyter.widget-view+json": {
       "model_id": "de8a3e1454a440c5b5d7a04ac728a421",
       "version_major": 2,
       "version_minor": 0
      },
      "text/plain": [
       "  0%|          | 0/2144591 [00:00<?, ?it/s]"
      ]
     },
     "metadata": {},
     "output_type": "display_data"
    },
    {
     "name": "stdout",
     "output_type": "stream",
     "text": [
      "ESP_011752_1805/\n",
      "Downloading https://hirise-pds.lpl.arizona.edu/PDS/EXTRAS/RDR/ESP/ORB_011700_011799/ESP_011752_1805/ESP_011752_1805_RGB.NOMAP.browse.jpg to I:\\data\\mars\\ESP_011752_1805_RGB.NOMAP.browse.jpg\n"
     ]
    },
    {
     "data": {
      "application/vnd.jupyter.widget-view+json": {
       "model_id": "51f1467d8aa849659044a9302f55a28f",
       "version_major": 2,
       "version_minor": 0
      },
      "text/plain": [
       "  0%|          | 0/1140641 [00:00<?, ?it/s]"
      ]
     },
     "metadata": {},
     "output_type": "display_data"
    },
    {
     "name": "stdout",
     "output_type": "stream",
     "text": [
      "ESP_011753_1445/\n",
      "\tfailed to find filename\n",
      "ESP_011754_1405/\n",
      "Downloading https://hirise-pds.lpl.arizona.edu/PDS/EXTRAS/RDR/ESP/ORB_011700_011799/ESP_011754_1405/ESP_011754_1405_RGB.NOMAP.browse.jpg to I:\\data\\mars\\ESP_011754_1405_RGB.NOMAP.browse.jpg\n"
     ]
    },
    {
     "data": {
      "application/vnd.jupyter.widget-view+json": {
       "model_id": "68d1938f1d3f46fcb6852603ba0fda14",
       "version_major": 2,
       "version_minor": 0
      },
      "text/plain": [
       "  0%|          | 0/1203637 [00:00<?, ?it/s]"
      ]
     },
     "metadata": {},
     "output_type": "display_data"
    },
    {
     "name": "stdout",
     "output_type": "stream",
     "text": [
      "ESP_011756_0945/\n",
      "Downloading https://hirise-pds.lpl.arizona.edu/PDS/EXTRAS/RDR/ESP/ORB_011700_011799/ESP_011756_0945/ESP_011756_0945_RGB.NOMAP.browse.jpg to I:\\data\\mars\\ESP_011756_0945_RGB.NOMAP.browse.jpg\n"
     ]
    },
    {
     "data": {
      "application/vnd.jupyter.widget-view+json": {
       "model_id": "7c7562df780f4cb3a5a6a40f737b9663",
       "version_major": 2,
       "version_minor": 0
      },
      "text/plain": [
       "  0%|          | 0/1898310 [00:00<?, ?it/s]"
      ]
     },
     "metadata": {},
     "output_type": "display_data"
    },
    {
     "name": "stdout",
     "output_type": "stream",
     "text": [
      "ESP_011756_1735/\n",
      "\tfailed to find filename\n",
      "ESP_011759_1130/\n",
      "Downloading https://hirise-pds.lpl.arizona.edu/PDS/EXTRAS/RDR/ESP/ORB_011700_011799/ESP_011759_1130/ESP_011759_1130_RGB.NOMAP.browse.jpg to I:\\data\\mars\\ESP_011759_1130_RGB.NOMAP.browse.jpg\n"
     ]
    },
    {
     "data": {
      "application/vnd.jupyter.widget-view+json": {
       "model_id": "75862bb391bb4a1f8a22695eaa1a68ae",
       "version_major": 2,
       "version_minor": 0
      },
      "text/plain": [
       "  0%|          | 0/852596 [00:00<?, ?it/s]"
      ]
     },
     "metadata": {},
     "output_type": "display_data"
    },
    {
     "name": "stdout",
     "output_type": "stream",
     "text": [
      "ESP_011759_1850/\n",
      "\tfailed to find filename\n",
      "ESP_011761_1090/\n",
      "Downloading https://hirise-pds.lpl.arizona.edu/PDS/EXTRAS/RDR/ESP/ORB_011700_011799/ESP_011761_1090/ESP_011761_1090_RGB.NOMAP.browse.jpg to I:\\data\\mars\\ESP_011761_1090_RGB.NOMAP.browse.jpg\n"
     ]
    },
    {
     "data": {
      "application/vnd.jupyter.widget-view+json": {
       "model_id": "db7c05ab510140a6922352de4835395d",
       "version_major": 2,
       "version_minor": 0
      },
      "text/plain": [
       "  0%|          | 0/826248 [00:00<?, ?it/s]"
      ]
     },
     "metadata": {},
     "output_type": "display_data"
    },
    {
     "name": "stdout",
     "output_type": "stream",
     "text": [
      "ESP_011761_1485/\n",
      "Downloading https://hirise-pds.lpl.arizona.edu/PDS/EXTRAS/RDR/ESP/ORB_011700_011799/ESP_011761_1485/ESP_011761_1485_RGB.NOMAP.browse.jpg to I:\\data\\mars\\ESP_011761_1485_RGB.NOMAP.browse.jpg\n"
     ]
    },
    {
     "data": {
      "application/vnd.jupyter.widget-view+json": {
       "model_id": "b79ea66b146645659c0c7e1826af6744",
       "version_major": 2,
       "version_minor": 0
      },
      "text/plain": [
       "  0%|          | 0/2901938 [00:00<?, ?it/s]"
      ]
     },
     "metadata": {},
     "output_type": "display_data"
    },
    {
     "name": "stdout",
     "output_type": "stream",
     "text": [
      "ESP_011765_1780/\n",
      "Downloading https://hirise-pds.lpl.arizona.edu/PDS/EXTRAS/RDR/ESP/ORB_011700_011799/ESP_011765_1780/ESP_011765_1780_RGB.NOMAP.browse.jpg to I:\\data\\mars\\ESP_011765_1780_RGB.NOMAP.browse.jpg\n"
     ]
    },
    {
     "data": {
      "application/vnd.jupyter.widget-view+json": {
       "model_id": "3f2bd4ede17f47b1ae216df77d8962c9",
       "version_major": 2,
       "version_minor": 0
      },
      "text/plain": [
       "  0%|          | 0/828355 [00:00<?, ?it/s]"
      ]
     },
     "metadata": {},
     "output_type": "display_data"
    },
    {
     "name": "stdout",
     "output_type": "stream",
     "text": [
      "ESP_011767_0950/\n",
      "Downloading https://hirise-pds.lpl.arizona.edu/PDS/EXTRAS/RDR/ESP/ORB_011700_011799/ESP_011767_0950/ESP_011767_0950_RGB.NOMAP.browse.jpg to I:\\data\\mars\\ESP_011767_0950_RGB.NOMAP.browse.jpg\n"
     ]
    },
    {
     "data": {
      "application/vnd.jupyter.widget-view+json": {
       "model_id": "bf8776728a534cae90e374238763f638",
       "version_major": 2,
       "version_minor": 0
      },
      "text/plain": [
       "  0%|          | 0/2068684 [00:00<?, ?it/s]"
      ]
     },
     "metadata": {},
     "output_type": "display_data"
    },
    {
     "name": "stdout",
     "output_type": "stream",
     "text": [
      "ESP_011767_1640/\n",
      "Downloading https://hirise-pds.lpl.arizona.edu/PDS/EXTRAS/RDR/ESP/ORB_011700_011799/ESP_011767_1640/ESP_011767_1640_RGB.NOMAP.browse.jpg to I:\\data\\mars\\ESP_011767_1640_RGB.NOMAP.browse.jpg\n"
     ]
    },
    {
     "data": {
      "application/vnd.jupyter.widget-view+json": {
       "model_id": "e22c2428e7814181a3f712ce69170c4c",
       "version_major": 2,
       "version_minor": 0
      },
      "text/plain": [
       "  0%|          | 0/1108414 [00:00<?, ?it/s]"
      ]
     },
     "metadata": {},
     "output_type": "display_data"
    },
    {
     "name": "stdout",
     "output_type": "stream",
     "text": [
      "ESP_011772_1080/\n",
      "Downloading https://hirise-pds.lpl.arizona.edu/PDS/EXTRAS/RDR/ESP/ORB_011700_011799/ESP_011772_1080/ESP_011772_1080_RGB.NOMAP.browse.jpg to I:\\data\\mars\\ESP_011772_1080_RGB.NOMAP.browse.jpg\n"
     ]
    },
    {
     "data": {
      "application/vnd.jupyter.widget-view+json": {
       "model_id": "fd5fdc2b32fa49b387094c677e122ee7",
       "version_major": 2,
       "version_minor": 0
      },
      "text/plain": [
       "  0%|          | 0/939112 [00:00<?, ?it/s]"
      ]
     },
     "metadata": {},
     "output_type": "display_data"
    },
    {
     "name": "stdout",
     "output_type": "stream",
     "text": [
      "ESP_011772_1790/\n",
      "Downloading https://hirise-pds.lpl.arizona.edu/PDS/EXTRAS/RDR/ESP/ORB_011700_011799/ESP_011772_1790/ESP_011772_1790_RGB.NOMAP.browse.jpg to I:\\data\\mars\\ESP_011772_1790_RGB.NOMAP.browse.jpg\n"
     ]
    },
    {
     "data": {
      "application/vnd.jupyter.widget-view+json": {
       "model_id": "9b1bdffee730443aaaa52ea0ffa14229",
       "version_major": 2,
       "version_minor": 0
      },
      "text/plain": [
       "  0%|          | 0/1090226 [00:00<?, ?it/s]"
      ]
     },
     "metadata": {},
     "output_type": "display_data"
    },
    {
     "name": "stdout",
     "output_type": "stream",
     "text": [
      "ESP_011773_1460/\n",
      "Downloading https://hirise-pds.lpl.arizona.edu/PDS/EXTRAS/RDR/ESP/ORB_011700_011799/ESP_011773_1460/ESP_011773_1460_RGB.NOMAP.browse.jpg to I:\\data\\mars\\ESP_011773_1460_RGB.NOMAP.browse.jpg\n"
     ]
    },
    {
     "data": {
      "application/vnd.jupyter.widget-view+json": {
       "model_id": "126da61f927a4741a1bf5a190e29c850",
       "version_major": 2,
       "version_minor": 0
      },
      "text/plain": [
       "  0%|          | 0/2058358 [00:00<?, ?it/s]"
      ]
     },
     "metadata": {},
     "output_type": "display_data"
    },
    {
     "name": "stdout",
     "output_type": "stream",
     "text": [
      "ESP_011775_2230/\n",
      "Downloading https://hirise-pds.lpl.arizona.edu/PDS/EXTRAS/RDR/ESP/ORB_011700_011799/ESP_011775_2230/ESP_011775_2230_RGB.NOMAP.browse.jpg to I:\\data\\mars\\ESP_011775_2230_RGB.NOMAP.browse.jpg\n"
     ]
    },
    {
     "data": {
      "application/vnd.jupyter.widget-view+json": {
       "model_id": "3d6fd3e22d594f0e9a3429ce766839fb",
       "version_major": 2,
       "version_minor": 0
      },
      "text/plain": [
       "  0%|          | 0/1082778 [00:00<?, ?it/s]"
      ]
     },
     "metadata": {},
     "output_type": "display_data"
    },
    {
     "name": "stdout",
     "output_type": "stream",
     "text": [
      "ESP_011776_0930/\n",
      "Downloading https://hirise-pds.lpl.arizona.edu/PDS/EXTRAS/RDR/ESP/ORB_011700_011799/ESP_011776_0930/ESP_011776_0930_RGB.NOMAP.browse.jpg to I:\\data\\mars\\ESP_011776_0930_RGB.NOMAP.browse.jpg\n"
     ]
    },
    {
     "data": {
      "application/vnd.jupyter.widget-view+json": {
       "model_id": "11415f7a2d9b4f21a5feaee393450c89",
       "version_major": 2,
       "version_minor": 0
      },
      "text/plain": [
       "  0%|          | 0/3633398 [00:00<?, ?it/s]"
      ]
     },
     "metadata": {},
     "output_type": "display_data"
    },
    {
     "name": "stdout",
     "output_type": "stream",
     "text": [
      "ESP_011777_0950/\n",
      "Downloading https://hirise-pds.lpl.arizona.edu/PDS/EXTRAS/RDR/ESP/ORB_011700_011799/ESP_011777_0950/ESP_011777_0950_RGB.NOMAP.browse.jpg to I:\\data\\mars\\ESP_011777_0950_RGB.NOMAP.browse.jpg\n"
     ]
    },
    {
     "data": {
      "application/vnd.jupyter.widget-view+json": {
       "model_id": "6430f959d3b241c0aa6e30ad19d3e6a9",
       "version_major": 2,
       "version_minor": 0
      },
      "text/plain": [
       "  0%|          | 0/2741335 [00:00<?, ?it/s]"
      ]
     },
     "metadata": {},
     "output_type": "display_data"
    },
    {
     "name": "stdout",
     "output_type": "stream",
     "text": [
      "ESP_011778_1800/\n",
      "\tfailed to find filename\n",
      "ESP_011779_2050/\n",
      "Downloading https://hirise-pds.lpl.arizona.edu/PDS/EXTRAS/RDR/ESP/ORB_011700_011799/ESP_011779_2050/ESP_011779_2050_RGB.NOMAP.browse.jpg to I:\\data\\mars\\ESP_011779_2050_RGB.NOMAP.browse.jpg\n"
     ]
    },
    {
     "data": {
      "application/vnd.jupyter.widget-view+json": {
       "model_id": "28d3df860bef458db88abbc65eb5974f",
       "version_major": 2,
       "version_minor": 0
      },
      "text/plain": [
       "  0%|          | 0/1224926 [00:00<?, ?it/s]"
      ]
     },
     "metadata": {},
     "output_type": "display_data"
    },
    {
     "name": "stdout",
     "output_type": "stream",
     "text": [
      "ESP_011780_1515/\n",
      "Downloading https://hirise-pds.lpl.arizona.edu/PDS/EXTRAS/RDR/ESP/ORB_011700_011799/ESP_011780_1515/ESP_011780_1515_RGB.NOMAP.browse.jpg to I:\\data\\mars\\ESP_011780_1515_RGB.NOMAP.browse.jpg\n"
     ]
    },
    {
     "data": {
      "application/vnd.jupyter.widget-view+json": {
       "model_id": "83ae809b38ce4f1497ab812cc652d121",
       "version_major": 2,
       "version_minor": 0
      },
      "text/plain": [
       "  0%|          | 0/2207444 [00:00<?, ?it/s]"
      ]
     },
     "metadata": {},
     "output_type": "display_data"
    },
    {
     "name": "stdout",
     "output_type": "stream",
     "text": [
      "ESP_011781_2100/\n",
      "Downloading https://hirise-pds.lpl.arizona.edu/PDS/EXTRAS/RDR/ESP/ORB_011700_011799/ESP_011781_2100/ESP_011781_2100_RGB.NOMAP.browse.jpg to I:\\data\\mars\\ESP_011781_2100_RGB.NOMAP.browse.jpg\n"
     ]
    },
    {
     "data": {
      "application/vnd.jupyter.widget-view+json": {
       "model_id": "c0e09d63f60847ca9919b8a1aef87877",
       "version_major": 2,
       "version_minor": 0
      },
      "text/plain": [
       "  0%|          | 0/432755 [00:00<?, ?it/s]"
      ]
     },
     "metadata": {},
     "output_type": "display_data"
    },
    {
     "name": "stdout",
     "output_type": "stream",
     "text": [
      "ESP_011785_1075/\n",
      "Downloading https://hirise-pds.lpl.arizona.edu/PDS/EXTRAS/RDR/ESP/ORB_011700_011799/ESP_011785_1075/ESP_011785_1075_RGB.NOMAP.browse.jpg to I:\\data\\mars\\ESP_011785_1075_RGB.NOMAP.browse.jpg\n"
     ]
    },
    {
     "data": {
      "application/vnd.jupyter.widget-view+json": {
       "model_id": "97900ad4158742aaa9005bbf10531c13",
       "version_major": 2,
       "version_minor": 0
      },
      "text/plain": [
       "  0%|          | 0/1127090 [00:00<?, ?it/s]"
      ]
     },
     "metadata": {},
     "output_type": "display_data"
    },
    {
     "name": "stdout",
     "output_type": "stream",
     "text": [
      "ESP_011785_1875/\n",
      "Downloading https://hirise-pds.lpl.arizona.edu/PDS/EXTRAS/RDR/ESP/ORB_011700_011799/ESP_011785_1875/ESP_011785_1875_RGB.NOMAP.browse.jpg to I:\\data\\mars\\ESP_011785_1875_RGB.NOMAP.browse.jpg\n"
     ]
    },
    {
     "data": {
      "application/vnd.jupyter.widget-view+json": {
       "model_id": "c2807751012c4c2a95775aa6ffcd131a",
       "version_major": 2,
       "version_minor": 0
      },
      "text/plain": [
       "  0%|          | 0/474991 [00:00<?, ?it/s]"
      ]
     },
     "metadata": {},
     "output_type": "display_data"
    },
    {
     "name": "stdout",
     "output_type": "stream",
     "text": [
      "ESP_011786_1105/\n",
      "Downloading https://hirise-pds.lpl.arizona.edu/PDS/EXTRAS/RDR/ESP/ORB_011700_011799/ESP_011786_1105/ESP_011786_1105_RGB.NOMAP.browse.jpg to I:\\data\\mars\\ESP_011786_1105_RGB.NOMAP.browse.jpg\n"
     ]
    },
    {
     "data": {
      "application/vnd.jupyter.widget-view+json": {
       "model_id": "eb3d7d434284424eb88968ddd7d10c4f",
       "version_major": 2,
       "version_minor": 0
      },
      "text/plain": [
       "  0%|          | 0/2309652 [00:00<?, ?it/s]"
      ]
     },
     "metadata": {},
     "output_type": "display_data"
    },
    {
     "name": "stdout",
     "output_type": "stream",
     "text": [
      "ESP_011788_1460/\n",
      "\tfailed to find filename\n",
      "ESP_011791_1810/\n",
      "\tfailed to find filename\n",
      "ESP_011792_0980/\n",
      "Downloading https://hirise-pds.lpl.arizona.edu/PDS/EXTRAS/RDR/ESP/ORB_011700_011799/ESP_011792_0980/ESP_011792_0980_RGB.NOMAP.browse.jpg to I:\\data\\mars\\ESP_011792_0980_RGB.NOMAP.browse.jpg\n"
     ]
    },
    {
     "data": {
      "application/vnd.jupyter.widget-view+json": {
       "model_id": "90d86d2f2c0146ce9e7ae041f37a6338",
       "version_major": 2,
       "version_minor": 0
      },
      "text/plain": [
       "  0%|          | 0/2190397 [00:00<?, ?it/s]"
      ]
     },
     "metadata": {},
     "output_type": "display_data"
    },
    {
     "name": "stdout",
     "output_type": "stream",
     "text": [
      "ESP_011792_1795/\n",
      "Downloading https://hirise-pds.lpl.arizona.edu/PDS/EXTRAS/RDR/ESP/ORB_011700_011799/ESP_011792_1795/ESP_011792_1795_RGB.NOMAP.browse.jpg to I:\\data\\mars\\ESP_011792_1795_RGB.NOMAP.browse.jpg\n"
     ]
    },
    {
     "data": {
      "application/vnd.jupyter.widget-view+json": {
       "model_id": "8476102142134fc088836b281365ce69",
       "version_major": 2,
       "version_minor": 0
      },
      "text/plain": [
       "  0%|          | 0/1002435 [00:00<?, ?it/s]"
      ]
     },
     "metadata": {},
     "output_type": "display_data"
    },
    {
     "name": "stdout",
     "output_type": "stream",
     "text": [
      "ESP_011793_1650/\n",
      "Downloading https://hirise-pds.lpl.arizona.edu/PDS/EXTRAS/RDR/ESP/ORB_011700_011799/ESP_011793_1650/ESP_011793_1650_RGB.NOMAP.browse.jpg to I:\\data\\mars\\ESP_011793_1650_RGB.NOMAP.browse.jpg\n"
     ]
    },
    {
     "data": {
      "application/vnd.jupyter.widget-view+json": {
       "model_id": "401ed6261c174ef68fe3f87f3d42abaf",
       "version_major": 2,
       "version_minor": 0
      },
      "text/plain": [
       "  0%|          | 0/744743 [00:00<?, ?it/s]"
      ]
     },
     "metadata": {},
     "output_type": "display_data"
    },
    {
     "name": "stdout",
     "output_type": "stream",
     "text": [
      "ESP_011794_1745/\n",
      "Downloading https://hirise-pds.lpl.arizona.edu/PDS/EXTRAS/RDR/ESP/ORB_011700_011799/ESP_011794_1745/ESP_011794_1745_RGB.NOMAP.browse.jpg to I:\\data\\mars\\ESP_011794_1745_RGB.NOMAP.browse.jpg\n"
     ]
    },
    {
     "data": {
      "application/vnd.jupyter.widget-view+json": {
       "model_id": "b58da02c53694d6788e7ec14425361e2",
       "version_major": 2,
       "version_minor": 0
      },
      "text/plain": [
       "  0%|          | 0/1136999 [00:00<?, ?it/s]"
      ]
     },
     "metadata": {},
     "output_type": "display_data"
    },
    {
     "name": "stdout",
     "output_type": "stream",
     "text": [
      "ESP_011795_0940/\n",
      "Downloading https://hirise-pds.lpl.arizona.edu/PDS/EXTRAS/RDR/ESP/ORB_011700_011799/ESP_011795_0940/ESP_011795_0940_RGB.NOMAP.browse.jpg to I:\\data\\mars\\ESP_011795_0940_RGB.NOMAP.browse.jpg\n"
     ]
    },
    {
     "data": {
      "application/vnd.jupyter.widget-view+json": {
       "model_id": "e5860e3448db450cbc20b8125de2b3ea",
       "version_major": 2,
       "version_minor": 0
      },
      "text/plain": [
       "  0%|          | 0/984897 [00:00<?, ?it/s]"
      ]
     },
     "metadata": {},
     "output_type": "display_data"
    },
    {
     "name": "stdout",
     "output_type": "stream",
     "text": [
      "-------------------------------------------------- ORB_011800_011899/\n",
      "ESP_011806_1665/\n",
      "Downloading https://hirise-pds.lpl.arizona.edu/PDS/EXTRAS/RDR/ESP/ORB_011800_011899/ESP_011806_1665/ESP_011806_1665_RGB.NOMAP.browse.jpg to I:\\data\\mars\\ESP_011806_1665_RGB.NOMAP.browse.jpg\n"
     ]
    },
    {
     "data": {
      "application/vnd.jupyter.widget-view+json": {
       "model_id": "6335f099a029469d819fa1bceaa66b48",
       "version_major": 2,
       "version_minor": 0
      },
      "text/plain": [
       "  0%|          | 0/2233050 [00:00<?, ?it/s]"
      ]
     },
     "metadata": {},
     "output_type": "display_data"
    },
    {
     "name": "stdout",
     "output_type": "stream",
     "text": [
      "ESP_011807_1750/\n",
      "Downloading https://hirise-pds.lpl.arizona.edu/PDS/EXTRAS/RDR/ESP/ORB_011800_011899/ESP_011807_1750/ESP_011807_1750_RGB.NOMAP.browse.jpg to I:\\data\\mars\\ESP_011807_1750_RGB.NOMAP.browse.jpg\n"
     ]
    },
    {
     "data": {
      "application/vnd.jupyter.widget-view+json": {
       "model_id": "86f5c3de120a4acdbb6eee373fc894bf",
       "version_major": 2,
       "version_minor": 0
      },
      "text/plain": [
       "  0%|          | 0/1060641 [00:00<?, ?it/s]"
      ]
     },
     "metadata": {},
     "output_type": "display_data"
    },
    {
     "name": "stdout",
     "output_type": "stream",
     "text": [
      "ESP_011808_1910/\n",
      "Downloading https://hirise-pds.lpl.arizona.edu/PDS/EXTRAS/RDR/ESP/ORB_011800_011899/ESP_011808_1910/ESP_011808_1910_RGB.NOMAP.browse.jpg to I:\\data\\mars\\ESP_011808_1910_RGB.NOMAP.browse.jpg\n"
     ]
    },
    {
     "data": {
      "application/vnd.jupyter.widget-view+json": {
       "model_id": "d73d4d1e58944a46967be949f6b1df20",
       "version_major": 2,
       "version_minor": 0
      },
      "text/plain": [
       "  0%|          | 0/563388 [00:00<?, ?it/s]"
      ]
     },
     "metadata": {},
     "output_type": "display_data"
    },
    {
     "name": "stdout",
     "output_type": "stream",
     "text": [
      "ESP_011809_1725/\n",
      "Downloading https://hirise-pds.lpl.arizona.edu/PDS/EXTRAS/RDR/ESP/ORB_011800_011899/ESP_011809_1725/ESP_011809_1725_RGB.NOMAP.browse.jpg to I:\\data\\mars\\ESP_011809_1725_RGB.NOMAP.browse.jpg\n"
     ]
    },
    {
     "data": {
      "application/vnd.jupyter.widget-view+json": {
       "model_id": "b275cdc0ffce4a349790f41cb9f0ff34",
       "version_major": 2,
       "version_minor": 0
      },
      "text/plain": [
       "  0%|          | 0/872288 [00:00<?, ?it/s]"
      ]
     },
     "metadata": {},
     "output_type": "display_data"
    },
    {
     "name": "stdout",
     "output_type": "stream",
     "text": [
      "ESP_011811_1395/\n",
      "Downloading https://hirise-pds.lpl.arizona.edu/PDS/EXTRAS/RDR/ESP/ORB_011800_011899/ESP_011811_1395/ESP_011811_1395_RGB.NOMAP.browse.jpg to I:\\data\\mars\\ESP_011811_1395_RGB.NOMAP.browse.jpg\n"
     ]
    },
    {
     "data": {
      "application/vnd.jupyter.widget-view+json": {
       "model_id": "c22837e2ac0948e2ba29bd10e0a29dd9",
       "version_major": 2,
       "version_minor": 0
      },
      "text/plain": [
       "  0%|          | 0/1776058 [00:00<?, ?it/s]"
      ]
     },
     "metadata": {},
     "output_type": "display_data"
    },
    {
     "name": "stdout",
     "output_type": "stream",
     "text": [
      "ESP_011812_1135/\n",
      "Downloading https://hirise-pds.lpl.arizona.edu/PDS/EXTRAS/RDR/ESP/ORB_011800_011899/ESP_011812_1135/ESP_011812_1135_RGB.NOMAP.browse.jpg to I:\\data\\mars\\ESP_011812_1135_RGB.NOMAP.browse.jpg\n"
     ]
    },
    {
     "data": {
      "application/vnd.jupyter.widget-view+json": {
       "model_id": "16f4bd228c28402a97b438b7c0084557",
       "version_major": 2,
       "version_minor": 0
      },
      "text/plain": [
       "  0%|          | 0/2784906 [00:00<?, ?it/s]"
      ]
     },
     "metadata": {},
     "output_type": "display_data"
    },
    {
     "name": "stdout",
     "output_type": "stream",
     "text": [
      "ESP_011816_2300/\n",
      "Downloading https://hirise-pds.lpl.arizona.edu/PDS/EXTRAS/RDR/ESP/ORB_011800_011899/ESP_011816_2300/ESP_011816_2300_RGB.NOMAP.browse.jpg to I:\\data\\mars\\ESP_011816_2300_RGB.NOMAP.browse.jpg\n"
     ]
    },
    {
     "data": {
      "application/vnd.jupyter.widget-view+json": {
       "model_id": "0b827ea65332490ba9de97f86d473944",
       "version_major": 2,
       "version_minor": 0
      },
      "text/plain": [
       "  0%|          | 0/948366 [00:00<?, ?it/s]"
      ]
     },
     "metadata": {},
     "output_type": "display_data"
    },
    {
     "name": "stdout",
     "output_type": "stream",
     "text": [
      "ESP_011817_1395/\n",
      "Downloading https://hirise-pds.lpl.arizona.edu/PDS/EXTRAS/RDR/ESP/ORB_011800_011899/ESP_011817_1395/ESP_011817_1395_RGB.NOMAP.browse.jpg to I:\\data\\mars\\ESP_011817_1395_RGB.NOMAP.browse.jpg\n"
     ]
    },
    {
     "data": {
      "application/vnd.jupyter.widget-view+json": {
       "model_id": "5256911cdf2a47188343083d32471fbf",
       "version_major": 2,
       "version_minor": 0
      },
      "text/plain": [
       "  0%|          | 0/1934295 [00:00<?, ?it/s]"
      ]
     },
     "metadata": {},
     "output_type": "display_data"
    },
    {
     "name": "stdout",
     "output_type": "stream",
     "text": [
      "ESP_011818_1505/\n",
      "Downloading https://hirise-pds.lpl.arizona.edu/PDS/EXTRAS/RDR/ESP/ORB_011800_011899/ESP_011818_1505/ESP_011818_1505_RGB.NOMAP.browse.jpg to I:\\data\\mars\\ESP_011818_1505_RGB.NOMAP.browse.jpg\n"
     ]
    },
    {
     "data": {
      "application/vnd.jupyter.widget-view+json": {
       "model_id": "a9e63c271bfb43d8addc58da98bf7a96",
       "version_major": 2,
       "version_minor": 0
      },
      "text/plain": [
       "  0%|          | 0/1194932 [00:00<?, ?it/s]"
      ]
     },
     "metadata": {},
     "output_type": "display_data"
    },
    {
     "name": "stdout",
     "output_type": "stream",
     "text": [
      "ESP_011818_2200/\n",
      "Downloading https://hirise-pds.lpl.arizona.edu/PDS/EXTRAS/RDR/ESP/ORB_011800_011899/ESP_011818_2200/ESP_011818_2200_RGB.NOMAP.browse.jpg to I:\\data\\mars\\ESP_011818_2200_RGB.NOMAP.browse.jpg\n"
     ]
    },
    {
     "data": {
      "application/vnd.jupyter.widget-view+json": {
       "model_id": "56e00a1c07184ce186bbf2fc9eb0da93",
       "version_major": 2,
       "version_minor": 0
      },
      "text/plain": [
       "  0%|          | 0/1328472 [00:00<?, ?it/s]"
      ]
     },
     "metadata": {},
     "output_type": "display_data"
    },
    {
     "name": "stdout",
     "output_type": "stream",
     "text": [
      "ESP_011819_1445/\n",
      "Downloading https://hirise-pds.lpl.arizona.edu/PDS/EXTRAS/RDR/ESP/ORB_011800_011899/ESP_011819_1445/ESP_011819_1445_RGB.NOMAP.browse.jpg to I:\\data\\mars\\ESP_011819_1445_RGB.NOMAP.browse.jpg\n"
     ]
    },
    {
     "data": {
      "application/vnd.jupyter.widget-view+json": {
       "model_id": "9311adf9eec34975bc8ff204e5c539f9",
       "version_major": 2,
       "version_minor": 0
      },
      "text/plain": [
       "  0%|          | 0/954385 [00:00<?, ?it/s]"
      ]
     },
     "metadata": {},
     "output_type": "display_data"
    },
    {
     "name": "stdout",
     "output_type": "stream",
     "text": [
      "ESP_011821_2045/\n",
      "Downloading https://hirise-pds.lpl.arizona.edu/PDS/EXTRAS/RDR/ESP/ORB_011800_011899/ESP_011821_2045/ESP_011821_2045_RGB.NOMAP.browse.jpg to I:\\data\\mars\\ESP_011821_2045_RGB.NOMAP.browse.jpg\n"
     ]
    },
    {
     "data": {
      "application/vnd.jupyter.widget-view+json": {
       "model_id": "e3f5c389e99847248a3a030e417c93fc",
       "version_major": 2,
       "version_minor": 0
      },
      "text/plain": [
       "  0%|          | 0/770698 [00:00<?, ?it/s]"
      ]
     },
     "metadata": {},
     "output_type": "display_data"
    },
    {
     "name": "stdout",
     "output_type": "stream",
     "text": [
      "ESP_011822_1275/\n",
      "Downloading https://hirise-pds.lpl.arizona.edu/PDS/EXTRAS/RDR/ESP/ORB_011800_011899/ESP_011822_1275/ESP_011822_1275_RGB.NOMAP.browse.jpg to I:\\data\\mars\\ESP_011822_1275_RGB.NOMAP.browse.jpg\n"
     ]
    },
    {
     "data": {
      "application/vnd.jupyter.widget-view+json": {
       "model_id": "14b01ad839da4818b8a8c02b97809614",
       "version_major": 2,
       "version_minor": 0
      },
      "text/plain": [
       "  0%|          | 0/1631460 [00:00<?, ?it/s]"
      ]
     },
     "metadata": {},
     "output_type": "display_data"
    },
    {
     "name": "stdout",
     "output_type": "stream",
     "text": [
      "ESP_011825_1895/\n",
      "Downloading https://hirise-pds.lpl.arizona.edu/PDS/EXTRAS/RDR/ESP/ORB_011800_011899/ESP_011825_1895/ESP_011825_1895_RGB.NOMAP.browse.jpg to I:\\data\\mars\\ESP_011825_1895_RGB.NOMAP.browse.jpg\n"
     ]
    },
    {
     "data": {
      "application/vnd.jupyter.widget-view+json": {
       "model_id": "fd1ef1e702014cc9b52b9db6520afb6d",
       "version_major": 2,
       "version_minor": 0
      },
      "text/plain": [
       "  0%|          | 0/1090956 [00:00<?, ?it/s]"
      ]
     },
     "metadata": {},
     "output_type": "display_data"
    },
    {
     "name": "stdout",
     "output_type": "stream",
     "text": [
      "ESP_011827_1485/\n",
      "Downloading https://hirise-pds.lpl.arizona.edu/PDS/EXTRAS/RDR/ESP/ORB_011800_011899/ESP_011827_1485/ESP_011827_1485_RGB.NOMAP.browse.jpg to I:\\data\\mars\\ESP_011827_1485_RGB.NOMAP.browse.jpg\n"
     ]
    },
    {
     "data": {
      "application/vnd.jupyter.widget-view+json": {
       "model_id": "fe041a410f084330a46b97d27c0ed32a",
       "version_major": 2,
       "version_minor": 0
      },
      "text/plain": [
       "  0%|          | 0/2347158 [00:00<?, ?it/s]"
      ]
     },
     "metadata": {},
     "output_type": "display_data"
    },
    {
     "name": "stdout",
     "output_type": "stream",
     "text": [
      "ESP_011830_2260/\n",
      "Downloading https://hirise-pds.lpl.arizona.edu/PDS/EXTRAS/RDR/ESP/ORB_011800_011899/ESP_011830_2260/ESP_011830_2260_RGB.NOMAP.browse.jpg to I:\\data\\mars\\ESP_011830_2260_RGB.NOMAP.browse.jpg\n"
     ]
    },
    {
     "data": {
      "application/vnd.jupyter.widget-view+json": {
       "model_id": "e64babcb4e0f40ddb65e922f45df4687",
       "version_major": 2,
       "version_minor": 0
      },
      "text/plain": [
       "  0%|          | 0/1205156 [00:00<?, ?it/s]"
      ]
     },
     "metadata": {},
     "output_type": "display_data"
    },
    {
     "name": "stdout",
     "output_type": "stream",
     "text": [
      "ESP_011833_1640/\n",
      "Downloading https://hirise-pds.lpl.arizona.edu/PDS/EXTRAS/RDR/ESP/ORB_011800_011899/ESP_011833_1640/ESP_011833_1640_RGB.NOMAP.browse.jpg to I:\\data\\mars\\ESP_011833_1640_RGB.NOMAP.browse.jpg\n"
     ]
    },
    {
     "data": {
      "application/vnd.jupyter.widget-view+json": {
       "model_id": "7bf929d7d75d419d810131c9fdd2b34e",
       "version_major": 2,
       "version_minor": 0
      },
      "text/plain": [
       "  0%|          | 0/1041736 [00:00<?, ?it/s]"
      ]
     },
     "metadata": {},
     "output_type": "display_data"
    },
    {
     "name": "stdout",
     "output_type": "stream",
     "text": [
      "ESP_011834_0945/\n",
      "Downloading https://hirise-pds.lpl.arizona.edu/PDS/EXTRAS/RDR/ESP/ORB_011800_011899/ESP_011834_0945/ESP_011834_0945_RGB.NOMAP.browse.jpg to I:\\data\\mars\\ESP_011834_0945_RGB.NOMAP.browse.jpg\n"
     ]
    },
    {
     "data": {
      "application/vnd.jupyter.widget-view+json": {
       "model_id": "bd138fc9f60a486a8c1fc9db1c67b139",
       "version_major": 2,
       "version_minor": 0
      },
      "text/plain": [
       "  0%|          | 0/1283460 [00:00<?, ?it/s]"
      ]
     },
     "metadata": {},
     "output_type": "display_data"
    },
    {
     "name": "stdout",
     "output_type": "stream",
     "text": [
      "ESP_011834_1605/\n",
      "Downloading https://hirise-pds.lpl.arizona.edu/PDS/EXTRAS/RDR/ESP/ORB_011800_011899/ESP_011834_1605/ESP_011834_1605_RGB.NOMAP.browse.jpg to I:\\data\\mars\\ESP_011834_1605_RGB.NOMAP.browse.jpg\n"
     ]
    },
    {
     "data": {
      "application/vnd.jupyter.widget-view+json": {
       "model_id": "300be466ae004cc1a33558572d18e3d5",
       "version_major": 2,
       "version_minor": 0
      },
      "text/plain": [
       "  0%|          | 0/731384 [00:00<?, ?it/s]"
      ]
     },
     "metadata": {},
     "output_type": "display_data"
    },
    {
     "name": "stdout",
     "output_type": "stream",
     "text": [
      "ESP_011839_1460/\n",
      "Downloading https://hirise-pds.lpl.arizona.edu/PDS/EXTRAS/RDR/ESP/ORB_011800_011899/ESP_011839_1460/ESP_011839_1460_RGB.NOMAP.browse.jpg to I:\\data\\mars\\ESP_011839_1460_RGB.NOMAP.browse.jpg\n"
     ]
    },
    {
     "data": {
      "application/vnd.jupyter.widget-view+json": {
       "model_id": "e0e49dd27a0d47e0ba148b3e56457871",
       "version_major": 2,
       "version_minor": 0
      },
      "text/plain": [
       "  0%|          | 0/1997064 [00:00<?, ?it/s]"
      ]
     },
     "metadata": {},
     "output_type": "display_data"
    },
    {
     "name": "stdout",
     "output_type": "stream",
     "text": [
      "ESP_011841_2005/\n",
      "Downloading https://hirise-pds.lpl.arizona.edu/PDS/EXTRAS/RDR/ESP/ORB_011800_011899/ESP_011841_2005/ESP_011841_2005_RGB.NOMAP.browse.jpg to I:\\data\\mars\\ESP_011841_2005_RGB.NOMAP.browse.jpg\n"
     ]
    },
    {
     "data": {
      "application/vnd.jupyter.widget-view+json": {
       "model_id": "aad5143183d548258527312d417cc58a",
       "version_major": 2,
       "version_minor": 0
      },
      "text/plain": [
       "  0%|          | 0/1666522 [00:00<?, ?it/s]"
      ]
     },
     "metadata": {},
     "output_type": "display_data"
    },
    {
     "name": "stdout",
     "output_type": "stream",
     "text": [
      "ESP_011842_0980/\n",
      "Downloading https://hirise-pds.lpl.arizona.edu/PDS/EXTRAS/RDR/ESP/ORB_011800_011899/ESP_011842_0980/ESP_011842_0980_RGB.NOMAP.browse.jpg to I:\\data\\mars\\ESP_011842_0980_RGB.NOMAP.browse.jpg\n"
     ]
    },
    {
     "data": {
      "application/vnd.jupyter.widget-view+json": {
       "model_id": "04b3c580de7f4305b0a1565c29225496",
       "version_major": 2,
       "version_minor": 0
      },
      "text/plain": [
       "  0%|          | 0/2523999 [00:00<?, ?it/s]"
      ]
     },
     "metadata": {},
     "output_type": "display_data"
    },
    {
     "name": "stdout",
     "output_type": "stream",
     "text": [
      "ESP_011843_0950/\n",
      "Downloading https://hirise-pds.lpl.arizona.edu/PDS/EXTRAS/RDR/ESP/ORB_011800_011899/ESP_011843_0950/ESP_011843_0950_RGB.NOMAP.browse.jpg to I:\\data\\mars\\ESP_011843_0950_RGB.NOMAP.browse.jpg\n"
     ]
    },
    {
     "data": {
      "application/vnd.jupyter.widget-view+json": {
       "model_id": "37fc6028db904166878158a694515585",
       "version_major": 2,
       "version_minor": 0
      },
      "text/plain": [
       "  0%|          | 0/2746396 [00:00<?, ?it/s]"
      ]
     },
     "metadata": {},
     "output_type": "display_data"
    },
    {
     "name": "stdout",
     "output_type": "stream",
     "text": [
      "ESP_011844_1855/\n",
      "Downloading https://hirise-pds.lpl.arizona.edu/PDS/EXTRAS/RDR/ESP/ORB_011800_011899/ESP_011844_1855/ESP_011844_1855_RGB.NOMAP.browse.jpg to I:\\data\\mars\\ESP_011844_1855_RGB.NOMAP.browse.jpg\n"
     ]
    },
    {
     "data": {
      "application/vnd.jupyter.widget-view+json": {
       "model_id": "3be298de57374b809d0fb95a70441898",
       "version_major": 2,
       "version_minor": 0
      },
      "text/plain": [
       "  0%|          | 0/1627651 [00:00<?, ?it/s]"
      ]
     },
     "metadata": {},
     "output_type": "display_data"
    },
    {
     "name": "stdout",
     "output_type": "stream",
     "text": [
      "ESP_011846_1515/\n",
      "Downloading https://hirise-pds.lpl.arizona.edu/PDS/EXTRAS/RDR/ESP/ORB_011800_011899/ESP_011846_1515/ESP_011846_1515_RGB.NOMAP.browse.jpg to I:\\data\\mars\\ESP_011846_1515_RGB.NOMAP.browse.jpg\n"
     ]
    },
    {
     "data": {
      "application/vnd.jupyter.widget-view+json": {
       "model_id": "28ea3b57477149639f476841a9676ff1",
       "version_major": 2,
       "version_minor": 0
      },
      "text/plain": [
       "  0%|          | 0/2518777 [00:00<?, ?it/s]"
      ]
     },
     "metadata": {},
     "output_type": "display_data"
    },
    {
     "name": "stdout",
     "output_type": "stream",
     "text": [
      "ESP_011850_2265/\n",
      "Downloading https://hirise-pds.lpl.arizona.edu/PDS/EXTRAS/RDR/ESP/ORB_011800_011899/ESP_011850_2265/ESP_011850_2265_RGB.NOMAP.browse.jpg to I:\\data\\mars\\ESP_011850_2265_RGB.NOMAP.browse.jpg\n"
     ]
    },
    {
     "data": {
      "application/vnd.jupyter.widget-view+json": {
       "model_id": "7d07e22ba5ba443c8ee6cf073f2b9c17",
       "version_major": 2,
       "version_minor": 0
      },
      "text/plain": [
       "  0%|          | 0/1095165 [00:00<?, ?it/s]"
      ]
     },
     "metadata": {},
     "output_type": "display_data"
    },
    {
     "name": "stdout",
     "output_type": "stream",
     "text": [
      "ESP_011851_1080/\n",
      "Downloading https://hirise-pds.lpl.arizona.edu/PDS/EXTRAS/RDR/ESP/ORB_011800_011899/ESP_011851_1080/ESP_011851_1080_RGB.NOMAP.browse.jpg to I:\\data\\mars\\ESP_011851_1080_RGB.NOMAP.browse.jpg\n"
     ]
    },
    {
     "data": {
      "application/vnd.jupyter.widget-view+json": {
       "model_id": "701cecad766f4633b329342d39bf6a0e",
       "version_major": 2,
       "version_minor": 0
      },
      "text/plain": [
       "  0%|          | 0/1359591 [00:00<?, ?it/s]"
      ]
     },
     "metadata": {},
     "output_type": "display_data"
    },
    {
     "name": "stdout",
     "output_type": "stream",
     "text": [
      "ESP_011852_1105/\n",
      "Downloading https://hirise-pds.lpl.arizona.edu/PDS/EXTRAS/RDR/ESP/ORB_011800_011899/ESP_011852_1105/ESP_011852_1105_RGB.NOMAP.browse.jpg to I:\\data\\mars\\ESP_011852_1105_RGB.NOMAP.browse.jpg\n"
     ]
    },
    {
     "data": {
      "application/vnd.jupyter.widget-view+json": {
       "model_id": "74331e90e20c420d90884ed7a803eba6",
       "version_major": 2,
       "version_minor": 0
      },
      "text/plain": [
       "  0%|          | 0/2618620 [00:00<?, ?it/s]"
      ]
     },
     "metadata": {},
     "output_type": "display_data"
    },
    {
     "name": "stdout",
     "output_type": "stream",
     "text": [
      "ESP_011853_1610/\n",
      "Downloading https://hirise-pds.lpl.arizona.edu/PDS/EXTRAS/RDR/ESP/ORB_011800_011899/ESP_011853_1610/ESP_011853_1610_RGB.NOMAP.browse.jpg to I:\\data\\mars\\ESP_011853_1610_RGB.NOMAP.browse.jpg\n"
     ]
    },
    {
     "data": {
      "application/vnd.jupyter.widget-view+json": {
       "model_id": "8b0b3b11db4c4f67841329f7be588634",
       "version_major": 2,
       "version_minor": 0
      },
      "text/plain": [
       "  0%|          | 0/1407069 [00:00<?, ?it/s]"
      ]
     },
     "metadata": {},
     "output_type": "display_data"
    },
    {
     "name": "stdout",
     "output_type": "stream",
     "text": [
      "ESP_011853_2200/\n",
      "Downloading https://hirise-pds.lpl.arizona.edu/PDS/EXTRAS/RDR/ESP/ORB_011800_011899/ESP_011853_2200/ESP_011853_2200_RGB.NOMAP.browse.jpg to I:\\data\\mars\\ESP_011853_2200_RGB.NOMAP.browse.jpg\n"
     ]
    },
    {
     "data": {
      "application/vnd.jupyter.widget-view+json": {
       "model_id": "bc16142ce1a349ce9322f4bf8307e333",
       "version_major": 2,
       "version_minor": 0
      },
      "text/plain": [
       "  0%|          | 0/1615610 [00:00<?, ?it/s]"
      ]
     },
     "metadata": {},
     "output_type": "display_data"
    },
    {
     "name": "stdout",
     "output_type": "stream",
     "text": [
      "ESP_011854_2105/\n",
      "Downloading https://hirise-pds.lpl.arizona.edu/PDS/EXTRAS/RDR/ESP/ORB_011800_011899/ESP_011854_2105/ESP_011854_2105_RGB.NOMAP.browse.jpg to I:\\data\\mars\\ESP_011854_2105_RGB.NOMAP.browse.jpg\n"
     ]
    },
    {
     "data": {
      "application/vnd.jupyter.widget-view+json": {
       "model_id": "0c0685eecbda42b096c142ca9bfc9143",
       "version_major": 2,
       "version_minor": 0
      },
      "text/plain": [
       "  0%|          | 0/844374 [00:00<?, ?it/s]"
      ]
     },
     "metadata": {},
     "output_type": "display_data"
    },
    {
     "name": "stdout",
     "output_type": "stream",
     "text": [
      "ESP_011855_2275/\n",
      "Downloading https://hirise-pds.lpl.arizona.edu/PDS/EXTRAS/RDR/ESP/ORB_011800_011899/ESP_011855_2275/ESP_011855_2275_RGB.NOMAP.browse.jpg to I:\\data\\mars\\ESP_011855_2275_RGB.NOMAP.browse.jpg\n"
     ]
    },
    {
     "data": {
      "application/vnd.jupyter.widget-view+json": {
       "model_id": "1fe46b5add6141bc8249b1c7e64a3696",
       "version_major": 2,
       "version_minor": 0
      },
      "text/plain": [
       "  0%|          | 0/1491691 [00:00<?, ?it/s]"
      ]
     },
     "metadata": {},
     "output_type": "display_data"
    },
    {
     "name": "stdout",
     "output_type": "stream",
     "text": [
      "ESP_011856_0930/\n",
      "Downloading https://hirise-pds.lpl.arizona.edu/PDS/EXTRAS/RDR/ESP/ORB_011800_011899/ESP_011856_0930/ESP_011856_0930_RGB.NOMAP.browse.jpg to I:\\data\\mars\\ESP_011856_0930_RGB.NOMAP.browse.jpg\n"
     ]
    },
    {
     "data": {
      "application/vnd.jupyter.widget-view+json": {
       "model_id": "50089fb573244ff1accf13b90de287c2",
       "version_major": 2,
       "version_minor": 0
      },
      "text/plain": [
       "  0%|          | 0/3603478 [00:00<?, ?it/s]"
      ]
     },
     "metadata": {},
     "output_type": "display_data"
    },
    {
     "name": "stdout",
     "output_type": "stream",
     "text": [
      "ESP_011858_1900/\n",
      "Downloading https://hirise-pds.lpl.arizona.edu/PDS/EXTRAS/RDR/ESP/ORB_011800_011899/ESP_011858_1900/ESP_011858_1900_RGB.NOMAP.browse.jpg to I:\\data\\mars\\ESP_011858_1900_RGB.NOMAP.browse.jpg\n"
     ]
    },
    {
     "data": {
      "application/vnd.jupyter.widget-view+json": {
       "model_id": "f14b0489abeb440a86a0462ea240f2eb",
       "version_major": 2,
       "version_minor": 0
      },
      "text/plain": [
       "  0%|          | 0/1297582 [00:00<?, ?it/s]"
      ]
     },
     "metadata": {},
     "output_type": "display_data"
    },
    {
     "name": "stdout",
     "output_type": "stream",
     "text": [
      "ESP_011863_1715/\n",
      "Downloading https://hirise-pds.lpl.arizona.edu/PDS/EXTRAS/RDR/ESP/ORB_011800_011899/ESP_011863_1715/ESP_011863_1715_RGB.NOMAP.browse.jpg to I:\\data\\mars\\ESP_011863_1715_RGB.NOMAP.browse.jpg\n"
     ]
    },
    {
     "data": {
      "application/vnd.jupyter.widget-view+json": {
       "model_id": "07df9e86dc434a4ebcbaaa9dcfd09fc8",
       "version_major": 2,
       "version_minor": 0
      },
      "text/plain": [
       "  0%|          | 0/1552975 [00:00<?, ?it/s]"
      ]
     },
     "metadata": {},
     "output_type": "display_data"
    },
    {
     "name": "stdout",
     "output_type": "stream",
     "text": [
      "ESP_011865_1835/\n",
      "Downloading https://hirise-pds.lpl.arizona.edu/PDS/EXTRAS/RDR/ESP/ORB_011800_011899/ESP_011865_1835/ESP_011865_1835_RGB.NOMAP.browse.jpg to I:\\data\\mars\\ESP_011865_1835_RGB.NOMAP.browse.jpg\n"
     ]
    },
    {
     "data": {
      "application/vnd.jupyter.widget-view+json": {
       "model_id": "87ea26cf1366417f9538f148b902ab08",
       "version_major": 2,
       "version_minor": 0
      },
      "text/plain": [
       "  0%|          | 0/612781 [00:00<?, ?it/s]"
      ]
     },
     "metadata": {},
     "output_type": "display_data"
    },
    {
     "name": "stdout",
     "output_type": "stream",
     "text": [
      "ESP_011870_2145/\n",
      "Downloading https://hirise-pds.lpl.arizona.edu/PDS/EXTRAS/RDR/ESP/ORB_011800_011899/ESP_011870_2145/ESP_011870_2145_RGB.NOMAP.browse.jpg to I:\\data\\mars\\ESP_011870_2145_RGB.NOMAP.browse.jpg\n"
     ]
    },
    {
     "data": {
      "application/vnd.jupyter.widget-view+json": {
       "model_id": "a79218e5d9ea4b3ca28dc80762298e85",
       "version_major": 2,
       "version_minor": 0
      },
      "text/plain": [
       "  0%|          | 0/1443937 [00:00<?, ?it/s]"
      ]
     },
     "metadata": {},
     "output_type": "display_data"
    },
    {
     "name": "stdout",
     "output_type": "stream",
     "text": [
      "ESP_011873_1675/\n",
      "Downloading https://hirise-pds.lpl.arizona.edu/PDS/EXTRAS/RDR/ESP/ORB_011800_011899/ESP_011873_1675/ESP_011873_1675_RGB.NOMAP.browse.jpg to I:\\data\\mars\\ESP_011873_1675_RGB.NOMAP.browse.jpg\n"
     ]
    },
    {
     "data": {
      "application/vnd.jupyter.widget-view+json": {
       "model_id": "e513a03107d441a181e5670fcff62c6f",
       "version_major": 2,
       "version_minor": 0
      },
      "text/plain": [
       "  0%|          | 0/1796621 [00:00<?, ?it/s]"
      ]
     },
     "metadata": {},
     "output_type": "display_data"
    },
    {
     "name": "stdout",
     "output_type": "stream",
     "text": [
      "ESP_011877_1410/\n",
      "Downloading https://hirise-pds.lpl.arizona.edu/PDS/EXTRAS/RDR/ESP/ORB_011800_011899/ESP_011877_1410/ESP_011877_1410_RGB.NOMAP.browse.jpg to I:\\data\\mars\\ESP_011877_1410_RGB.NOMAP.browse.jpg\n"
     ]
    },
    {
     "data": {
      "application/vnd.jupyter.widget-view+json": {
       "model_id": "f7e38eeb08ab4d7e822d9485143bc0a9",
       "version_major": 2,
       "version_minor": 0
      },
      "text/plain": [
       "  0%|          | 0/1468746 [00:00<?, ?it/s]"
      ]
     },
     "metadata": {},
     "output_type": "display_data"
    },
    {
     "name": "stdout",
     "output_type": "stream",
     "text": [
      "ESP_011878_1045/\n",
      "Downloading https://hirise-pds.lpl.arizona.edu/PDS/EXTRAS/RDR/ESP/ORB_011800_011899/ESP_011878_1045/ESP_011878_1045_RGB.NOMAP.browse.jpg to I:\\data\\mars\\ESP_011878_1045_RGB.NOMAP.browse.jpg\n"
     ]
    },
    {
     "data": {
      "application/vnd.jupyter.widget-view+json": {
       "model_id": "a5c63ac96834429990611d3f37f28389",
       "version_major": 2,
       "version_minor": 0
      },
      "text/plain": [
       "  0%|          | 0/2433828 [00:00<?, ?it/s]"
      ]
     },
     "metadata": {},
     "output_type": "display_data"
    },
    {
     "name": "stdout",
     "output_type": "stream",
     "text": [
      "ESP_011880_1370/\n",
      "Downloading https://hirise-pds.lpl.arizona.edu/PDS/EXTRAS/RDR/ESP/ORB_011800_011899/ESP_011880_1370/ESP_011880_1370_RGB.NOMAP.browse.jpg to I:\\data\\mars\\ESP_011880_1370_RGB.NOMAP.browse.jpg\n"
     ]
    },
    {
     "data": {
      "application/vnd.jupyter.widget-view+json": {
       "model_id": "ee819f6abbb4437c82601eda042d4acc",
       "version_major": 2,
       "version_minor": 0
      },
      "text/plain": [
       "  0%|          | 0/2254107 [00:00<?, ?it/s]"
      ]
     },
     "metadata": {},
     "output_type": "display_data"
    },
    {
     "name": "stdout",
     "output_type": "stream",
     "text": [
      "ESP_011881_1585/\n",
      "Downloading https://hirise-pds.lpl.arizona.edu/PDS/EXTRAS/RDR/ESP/ORB_011800_011899/ESP_011881_1585/ESP_011881_1585_RGB.NOMAP.browse.jpg to I:\\data\\mars\\ESP_011881_1585_RGB.NOMAP.browse.jpg\n"
     ]
    },
    {
     "data": {
      "application/vnd.jupyter.widget-view+json": {
       "model_id": "485fc6102b8d4da08964993858d7b78a",
       "version_major": 2,
       "version_minor": 0
      },
      "text/plain": [
       "  0%|          | 0/1417337 [00:00<?, ?it/s]"
      ]
     },
     "metadata": {},
     "output_type": "display_data"
    },
    {
     "name": "stdout",
     "output_type": "stream",
     "text": [
      "ESP_011881_2210/\n",
      "Downloading https://hirise-pds.lpl.arizona.edu/PDS/EXTRAS/RDR/ESP/ORB_011800_011899/ESP_011881_2210/ESP_011881_2210_RGB.NOMAP.browse.jpg to I:\\data\\mars\\ESP_011881_2210_RGB.NOMAP.browse.jpg\n"
     ]
    },
    {
     "data": {
      "application/vnd.jupyter.widget-view+json": {
       "model_id": "c8a7a17af4394a04b677fb93f0b89429",
       "version_major": 2,
       "version_minor": 0
      },
      "text/plain": [
       "  0%|          | 0/1182638 [00:00<?, ?it/s]"
      ]
     },
     "metadata": {},
     "output_type": "display_data"
    },
    {
     "name": "stdout",
     "output_type": "stream",
     "text": [
      "ESP_011883_1325/\n",
      "Downloading https://hirise-pds.lpl.arizona.edu/PDS/EXTRAS/RDR/ESP/ORB_011800_011899/ESP_011883_1325/ESP_011883_1325_RGB.NOMAP.browse.jpg to I:\\data\\mars\\ESP_011883_1325_RGB.NOMAP.browse.jpg\n"
     ]
    },
    {
     "data": {
      "application/vnd.jupyter.widget-view+json": {
       "model_id": "9d58f7803bb846d3944282d358f12667",
       "version_major": 2,
       "version_minor": 0
      },
      "text/plain": [
       "  0%|          | 0/677995 [00:00<?, ?it/s]"
      ]
     },
     "metadata": {},
     "output_type": "display_data"
    },
    {
     "name": "stdout",
     "output_type": "stream",
     "text": [
      "ESP_011884_2045/\n",
      "Downloading https://hirise-pds.lpl.arizona.edu/PDS/EXTRAS/RDR/ESP/ORB_011800_011899/ESP_011884_2045/ESP_011884_2045_RGB.NOMAP.browse.jpg to I:\\data\\mars\\ESP_011884_2045_RGB.NOMAP.browse.jpg\n"
     ]
    },
    {
     "data": {
      "application/vnd.jupyter.widget-view+json": {
       "model_id": "69fceea7bbce401a97da6a2b6f53527b",
       "version_major": 2,
       "version_minor": 0
      },
      "text/plain": [
       "  0%|          | 0/2471564 [00:00<?, ?it/s]"
      ]
     },
     "metadata": {},
     "output_type": "display_data"
    },
    {
     "name": "stdout",
     "output_type": "stream",
     "text": [
      "ESP_011886_1130/\n",
      "Downloading https://hirise-pds.lpl.arizona.edu/PDS/EXTRAS/RDR/ESP/ORB_011800_011899/ESP_011886_1130/ESP_011886_1130_RGB.NOMAP.browse.jpg to I:\\data\\mars\\ESP_011886_1130_RGB.NOMAP.browse.jpg\n"
     ]
    },
    {
     "data": {
      "application/vnd.jupyter.widget-view+json": {
       "model_id": "8fb8a5fdbe9f4cf1a6155e7d602aa31d",
       "version_major": 2,
       "version_minor": 0
      },
      "text/plain": [
       "  0%|          | 0/2050772 [00:00<?, ?it/s]"
      ]
     },
     "metadata": {},
     "output_type": "display_data"
    },
    {
     "name": "stdout",
     "output_type": "stream",
     "text": [
      "ESP_011886_1725/\n",
      "Downloading https://hirise-pds.lpl.arizona.edu/PDS/EXTRAS/RDR/ESP/ORB_011800_011899/ESP_011886_1725/ESP_011886_1725_RGB.NOMAP.browse.jpg to I:\\data\\mars\\ESP_011886_1725_RGB.NOMAP.browse.jpg\n"
     ]
    },
    {
     "data": {
      "application/vnd.jupyter.widget-view+json": {
       "model_id": "4d579cd33407448195a82a35b3de4833",
       "version_major": 2,
       "version_minor": 0
      },
      "text/plain": [
       "  0%|          | 0/1619528 [00:00<?, ?it/s]"
      ]
     },
     "metadata": {},
     "output_type": "display_data"
    },
    {
     "name": "stdout",
     "output_type": "stream",
     "text": [
      "ESP_011891_1885/\n",
      "Downloading https://hirise-pds.lpl.arizona.edu/PDS/EXTRAS/RDR/ESP/ORB_011800_011899/ESP_011891_1885/ESP_011891_1885_RGB.NOMAP.browse.jpg to I:\\data\\mars\\ESP_011891_1885_RGB.NOMAP.browse.jpg\n"
     ]
    },
    {
     "data": {
      "application/vnd.jupyter.widget-view+json": {
       "model_id": "6f8658f04f8b4523acf12b3f8eccbf97",
       "version_major": 2,
       "version_minor": 0
      },
      "text/plain": [
       "  0%|          | 0/1955556 [00:00<?, ?it/s]"
      ]
     },
     "metadata": {},
     "output_type": "display_data"
    },
    {
     "name": "stdout",
     "output_type": "stream",
     "text": [
      "ESP_011893_1635/\n",
      "Downloading https://hirise-pds.lpl.arizona.edu/PDS/EXTRAS/RDR/ESP/ORB_011800_011899/ESP_011893_1635/ESP_011893_1635_RGB.NOMAP.browse.jpg to I:\\data\\mars\\ESP_011893_1635_RGB.NOMAP.browse.jpg\n"
     ]
    },
    {
     "data": {
      "application/vnd.jupyter.widget-view+json": {
       "model_id": "811eb694222f4598b98c4f485a937f4c",
       "version_major": 2,
       "version_minor": 0
      },
      "text/plain": [
       "  0%|          | 0/1723291 [00:00<?, ?it/s]"
      ]
     },
     "metadata": {},
     "output_type": "display_data"
    },
    {
     "name": "stdout",
     "output_type": "stream",
     "text": [
      "ESP_011894_1455/\n",
      "Downloading https://hirise-pds.lpl.arizona.edu/PDS/EXTRAS/RDR/ESP/ORB_011800_011899/ESP_011894_1455/ESP_011894_1455_RGB.NOMAP.browse.jpg to I:\\data\\mars\\ESP_011894_1455_RGB.NOMAP.browse.jpg\n"
     ]
    },
    {
     "data": {
      "application/vnd.jupyter.widget-view+json": {
       "model_id": "53041d124e86417483b0770938741dc5",
       "version_major": 2,
       "version_minor": 0
      },
      "text/plain": [
       "  0%|          | 0/2946286 [00:00<?, ?it/s]"
      ]
     },
     "metadata": {},
     "output_type": "display_data"
    },
    {
     "name": "stdout",
     "output_type": "stream",
     "text": [
      "ESP_011896_1570/\n",
      "Downloading https://hirise-pds.lpl.arizona.edu/PDS/EXTRAS/RDR/ESP/ORB_011800_011899/ESP_011896_1570/ESP_011896_1570_RGB.NOMAP.browse.jpg to I:\\data\\mars\\ESP_011896_1570_RGB.NOMAP.browse.jpg\n"
     ]
    },
    {
     "data": {
      "application/vnd.jupyter.widget-view+json": {
       "model_id": "071e309e95384a66a216a07049848c89",
       "version_major": 2,
       "version_minor": 0
      },
      "text/plain": [
       "  0%|          | 0/761182 [00:00<?, ?it/s]"
      ]
     },
     "metadata": {},
     "output_type": "display_data"
    },
    {
     "name": "stdout",
     "output_type": "stream",
     "text": [
      "ESP_011898_1535/\n",
      "Downloading https://hirise-pds.lpl.arizona.edu/PDS/EXTRAS/RDR/ESP/ORB_011800_011899/ESP_011898_1535/ESP_011898_1535_RGB.NOMAP.browse.jpg to I:\\data\\mars\\ESP_011898_1535_RGB.NOMAP.browse.jpg\n"
     ]
    },
    {
     "data": {
      "application/vnd.jupyter.widget-view+json": {
       "model_id": "a5bade4cf9724dfc911b63e286001835",
       "version_major": 2,
       "version_minor": 0
      },
      "text/plain": [
       "  0%|          | 0/1262457 [00:00<?, ?it/s]"
      ]
     },
     "metadata": {},
     "output_type": "display_data"
    },
    {
     "name": "stdout",
     "output_type": "stream",
     "text": [
      "ESP_011898_2175/\n",
      "Downloading https://hirise-pds.lpl.arizona.edu/PDS/EXTRAS/RDR/ESP/ORB_011800_011899/ESP_011898_2175/ESP_011898_2175_RGB.NOMAP.browse.jpg to I:\\data\\mars\\ESP_011898_2175_RGB.NOMAP.browse.jpg\n"
     ]
    },
    {
     "data": {
      "application/vnd.jupyter.widget-view+json": {
       "model_id": "b6917d310e2e46b5aca65c3720098c04",
       "version_major": 2,
       "version_minor": 0
      },
      "text/plain": [
       "  0%|          | 0/1076140 [00:00<?, ?it/s]"
      ]
     },
     "metadata": {},
     "output_type": "display_data"
    },
    {
     "name": "stdout",
     "output_type": "stream",
     "text": [
      "ESP_011899_1755/\n",
      "Downloading https://hirise-pds.lpl.arizona.edu/PDS/EXTRAS/RDR/ESP/ORB_011800_011899/ESP_011899_1755/ESP_011899_1755_RGB.NOMAP.browse.jpg to I:\\data\\mars\\ESP_011899_1755_RGB.NOMAP.browse.jpg\n"
     ]
    },
    {
     "data": {
      "application/vnd.jupyter.widget-view+json": {
       "model_id": "ab67ee2c936045b886053b645e6131a7",
       "version_major": 2,
       "version_minor": 0
      },
      "text/plain": [
       "  0%|          | 0/960936 [00:00<?, ?it/s]"
      ]
     },
     "metadata": {},
     "output_type": "display_data"
    },
    {
     "name": "stdout",
     "output_type": "stream",
     "text": [
      "-------------------------------------------------- ORB_011900_011999/\n",
      "ESP_011900_0985/\n",
      "Downloading https://hirise-pds.lpl.arizona.edu/PDS/EXTRAS/RDR/ESP/ORB_011900_011999/ESP_011900_0985/ESP_011900_0985_RGB.NOMAP.browse.jpg to I:\\data\\mars\\ESP_011900_0985_RGB.NOMAP.browse.jpg\n"
     ]
    },
    {
     "data": {
      "application/vnd.jupyter.widget-view+json": {
       "model_id": "8689edf4101b4b4ab8f7e54c9787f3c8",
       "version_major": 2,
       "version_minor": 0
      },
      "text/plain": [
       "  0%|          | 0/1581679 [00:00<?, ?it/s]"
      ]
     },
     "metadata": {},
     "output_type": "display_data"
    },
    {
     "name": "stdout",
     "output_type": "stream",
     "text": [
      "ESP_011901_1795/\n",
      "Downloading https://hirise-pds.lpl.arizona.edu/PDS/EXTRAS/RDR/ESP/ORB_011900_011999/ESP_011901_1795/ESP_011901_1795_RGB.NOMAP.browse.jpg to I:\\data\\mars\\ESP_011901_1795_RGB.NOMAP.browse.jpg\n"
     ]
    },
    {
     "data": {
      "application/vnd.jupyter.widget-view+json": {
       "model_id": "c0eb8d98375f4e45a10559942a5f5ed5",
       "version_major": 2,
       "version_minor": 0
      },
      "text/plain": [
       "  0%|          | 0/2581772 [00:00<?, ?it/s]"
      ]
     },
     "metadata": {},
     "output_type": "display_data"
    },
    {
     "name": "stdout",
     "output_type": "stream",
     "text": [
      "ESP_011902_1475/\n",
      "Downloading https://hirise-pds.lpl.arizona.edu/PDS/EXTRAS/RDR/ESP/ORB_011900_011999/ESP_011902_1475/ESP_011902_1475_RGB.NOMAP.browse.jpg to I:\\data\\mars\\ESP_011902_1475_RGB.NOMAP.browse.jpg\n"
     ]
    },
    {
     "data": {
      "application/vnd.jupyter.widget-view+json": {
       "model_id": "83256f364b2542d4814157807c4f1630",
       "version_major": 2,
       "version_minor": 0
      },
      "text/plain": [
       "  0%|          | 0/1175163 [00:00<?, ?it/s]"
      ]
     },
     "metadata": {},
     "output_type": "display_data"
    },
    {
     "name": "stdout",
     "output_type": "stream",
     "text": [
      "ESP_011903_1465/\n",
      "Downloading https://hirise-pds.lpl.arizona.edu/PDS/EXTRAS/RDR/ESP/ORB_011900_011999/ESP_011903_1465/ESP_011903_1465_RGB.NOMAP.browse.jpg to I:\\data\\mars\\ESP_011903_1465_RGB.NOMAP.browse.jpg\n"
     ]
    },
    {
     "data": {
      "application/vnd.jupyter.widget-view+json": {
       "model_id": "698e8ef42a2c4bfca8fefa7da11c306d",
       "version_major": 2,
       "version_minor": 0
      },
      "text/plain": [
       "  0%|          | 0/1245415 [00:00<?, ?it/s]"
      ]
     },
     "metadata": {},
     "output_type": "display_data"
    },
    {
     "name": "stdout",
     "output_type": "stream",
     "text": [
      "ESP_011909_1320/\n",
      "Downloading https://hirise-pds.lpl.arizona.edu/PDS/EXTRAS/RDR/ESP/ORB_011900_011999/ESP_011909_1320/ESP_011909_1320_RGB.NOMAP.browse.jpg to I:\\data\\mars\\ESP_011909_1320_RGB.NOMAP.browse.jpg\n"
     ]
    },
    {
     "data": {
      "application/vnd.jupyter.widget-view+json": {
       "model_id": "4901fd875b944621979da5baf8ace78d",
       "version_major": 2,
       "version_minor": 0
      },
      "text/plain": [
       "  0%|          | 0/1784260 [00:00<?, ?it/s]"
      ]
     },
     "metadata": {},
     "output_type": "display_data"
    },
    {
     "name": "stdout",
     "output_type": "stream",
     "text": [
      "ESP_011910_1825/\n",
      "Downloading https://hirise-pds.lpl.arizona.edu/PDS/EXTRAS/RDR/ESP/ORB_011900_011999/ESP_011910_1825/ESP_011910_1825_RGB.NOMAP.browse.jpg to I:\\data\\mars\\ESP_011910_1825_RGB.NOMAP.browse.jpg\n"
     ]
    },
    {
     "data": {
      "application/vnd.jupyter.widget-view+json": {
       "model_id": "255c50454d5d4d38959e7d5d3a767e6a",
       "version_major": 2,
       "version_minor": 0
      },
      "text/plain": [
       "  0%|          | 0/1732287 [00:00<?, ?it/s]"
      ]
     },
     "metadata": {},
     "output_type": "display_data"
    },
    {
     "name": "stdout",
     "output_type": "stream",
     "text": [
      "ESP_011911_1310/\n",
      "Downloading https://hirise-pds.lpl.arizona.edu/PDS/EXTRAS/RDR/ESP/ORB_011900_011999/ESP_011911_1310/ESP_011911_1310_RGB.NOMAP.browse.jpg to I:\\data\\mars\\ESP_011911_1310_RGB.NOMAP.browse.jpg\n"
     ]
    },
    {
     "data": {
      "application/vnd.jupyter.widget-view+json": {
       "model_id": "5fd95bc6c15446968f83db7ea95e4396",
       "version_major": 2,
       "version_minor": 0
      },
      "text/plain": [
       "  0%|          | 0/1828977 [00:00<?, ?it/s]"
      ]
     },
     "metadata": {},
     "output_type": "display_data"
    },
    {
     "name": "stdout",
     "output_type": "stream",
     "text": [
      "ESP_011913_1720/\n",
      "Downloading https://hirise-pds.lpl.arizona.edu/PDS/EXTRAS/RDR/ESP/ORB_011900_011999/ESP_011913_1720/ESP_011913_1720_RGB.NOMAP.browse.jpg to I:\\data\\mars\\ESP_011913_1720_RGB.NOMAP.browse.jpg\n"
     ]
    },
    {
     "data": {
      "application/vnd.jupyter.widget-view+json": {
       "model_id": "6d1b9e07c19a4ee089ff76466978038e",
       "version_major": 2,
       "version_minor": 0
      },
      "text/plain": [
       "  0%|          | 0/832317 [00:00<?, ?it/s]"
      ]
     },
     "metadata": {},
     "output_type": "display_data"
    },
    {
     "name": "stdout",
     "output_type": "stream",
     "text": [
      "ESP_011917_1080/\n",
      "Downloading https://hirise-pds.lpl.arizona.edu/PDS/EXTRAS/RDR/ESP/ORB_011900_011999/ESP_011917_1080/ESP_011917_1080_RGB.NOMAP.browse.jpg to I:\\data\\mars\\ESP_011917_1080_RGB.NOMAP.browse.jpg\n"
     ]
    },
    {
     "data": {
      "application/vnd.jupyter.widget-view+json": {
       "model_id": "fd734691b8df427d95ccd3a709cb3403",
       "version_major": 2,
       "version_minor": 0
      },
      "text/plain": [
       "  0%|          | 0/1303587 [00:00<?, ?it/s]"
      ]
     },
     "metadata": {},
     "output_type": "display_data"
    },
    {
     "name": "stdout",
     "output_type": "stream",
     "text": [
      "ESP_011917_1790/\n",
      "Downloading https://hirise-pds.lpl.arizona.edu/PDS/EXTRAS/RDR/ESP/ORB_011900_011999/ESP_011917_1790/ESP_011917_1790_RGB.NOMAP.browse.jpg to I:\\data\\mars\\ESP_011917_1790_RGB.NOMAP.browse.jpg\n"
     ]
    },
    {
     "data": {
      "application/vnd.jupyter.widget-view+json": {
       "model_id": "ae4edefcd6af4426a55eae01e1e09a39",
       "version_major": 2,
       "version_minor": 0
      },
      "text/plain": [
       "  0%|          | 0/1421320 [00:00<?, ?it/s]"
      ]
     },
     "metadata": {},
     "output_type": "display_data"
    },
    {
     "name": "stdout",
     "output_type": "stream",
     "text": [
      "ESP_011918_2180/\n",
      "Downloading https://hirise-pds.lpl.arizona.edu/PDS/EXTRAS/RDR/ESP/ORB_011900_011999/ESP_011918_2180/ESP_011918_2180_RGB.NOMAP.browse.jpg to I:\\data\\mars\\ESP_011918_2180_RGB.NOMAP.browse.jpg\n"
     ]
    },
    {
     "data": {
      "application/vnd.jupyter.widget-view+json": {
       "model_id": "6df396de360a4e7a873b6b52c3be73b6",
       "version_major": 2,
       "version_minor": 0
      },
      "text/plain": [
       "  0%|          | 0/1146524 [00:00<?, ?it/s]"
      ]
     },
     "metadata": {},
     "output_type": "display_data"
    },
    {
     "name": "stdout",
     "output_type": "stream",
     "text": [
      "ESP_011919_1400/\n",
      "Downloading https://hirise-pds.lpl.arizona.edu/PDS/EXTRAS/RDR/ESP/ORB_011900_011999/ESP_011919_1400/ESP_011919_1400_RGB.NOMAP.browse.jpg to I:\\data\\mars\\ESP_011919_1400_RGB.NOMAP.browse.jpg\n"
     ]
    },
    {
     "data": {
      "application/vnd.jupyter.widget-view+json": {
       "model_id": "73b3eb731bc44c88a6484441cb5ca925",
       "version_major": 2,
       "version_minor": 0
      },
      "text/plain": [
       "  0%|          | 0/1574072 [00:00<?, ?it/s]"
      ]
     },
     "metadata": {},
     "output_type": "display_data"
    },
    {
     "name": "stdout",
     "output_type": "stream",
     "text": [
      "ESP_011920_1850/\n",
      "Downloading https://hirise-pds.lpl.arizona.edu/PDS/EXTRAS/RDR/ESP/ORB_011900_011999/ESP_011920_1850/ESP_011920_1850_RGB.NOMAP.browse.jpg to I:\\data\\mars\\ESP_011920_1850_RGB.NOMAP.browse.jpg\n"
     ]
    },
    {
     "data": {
      "application/vnd.jupyter.widget-view+json": {
       "model_id": "ef6450eb97cd4bce8e3ed5a2a58da83b",
       "version_major": 2,
       "version_minor": 0
      },
      "text/plain": [
       "  0%|          | 0/872058 [00:00<?, ?it/s]"
      ]
     },
     "metadata": {},
     "output_type": "display_data"
    },
    {
     "name": "stdout",
     "output_type": "stream",
     "text": [
      "ESP_011921_0950/\n",
      "Downloading https://hirise-pds.lpl.arizona.edu/PDS/EXTRAS/RDR/ESP/ORB_011900_011999/ESP_011921_0950/ESP_011921_0950_RGB.NOMAP.browse.jpg to I:\\data\\mars\\ESP_011921_0950_RGB.NOMAP.browse.jpg\n"
     ]
    },
    {
     "data": {
      "application/vnd.jupyter.widget-view+json": {
       "model_id": "1a7cf82c7a034226b24cb77d9e890506",
       "version_major": 2,
       "version_minor": 0
      },
      "text/plain": [
       "  0%|          | 0/1383198 [00:00<?, ?it/s]"
      ]
     },
     "metadata": {},
     "output_type": "display_data"
    },
    {
     "name": "stdout",
     "output_type": "stream",
     "text": [
      "ESP_011922_2205/\n",
      "Downloading https://hirise-pds.lpl.arizona.edu/PDS/EXTRAS/RDR/ESP/ORB_011900_011999/ESP_011922_2205/ESP_011922_2205_RGB.NOMAP.browse.jpg to I:\\data\\mars\\ESP_011922_2205_RGB.NOMAP.browse.jpg\n"
     ]
    },
    {
     "data": {
      "application/vnd.jupyter.widget-view+json": {
       "model_id": "4092baa822e64322a40042cbd3727ea6",
       "version_major": 2,
       "version_minor": 0
      },
      "text/plain": [
       "  0%|          | 0/2409013 [00:00<?, ?it/s]"
      ]
     },
     "metadata": {},
     "output_type": "display_data"
    },
    {
     "name": "stdout",
     "output_type": "stream",
     "text": [
      "ESP_011925_1245/\n",
      "Downloading https://hirise-pds.lpl.arizona.edu/PDS/EXTRAS/RDR/ESP/ORB_011900_011999/ESP_011925_1245/ESP_011925_1245_RGB.NOMAP.browse.jpg to I:\\data\\mars\\ESP_011925_1245_RGB.NOMAP.browse.jpg\n"
     ]
    },
    {
     "data": {
      "application/vnd.jupyter.widget-view+json": {
       "model_id": "0631c4ba93c34df2bd4da93571268c99",
       "version_major": 2,
       "version_minor": 0
      },
      "text/plain": [
       "  0%|          | 0/2252039 [00:00<?, ?it/s]"
      ]
     },
     "metadata": {},
     "output_type": "display_data"
    },
    {
     "name": "stdout",
     "output_type": "stream",
     "text": [
      "ESP_011926_1720/\n",
      "Downloading https://hirise-pds.lpl.arizona.edu/PDS/EXTRAS/RDR/ESP/ORB_011900_011999/ESP_011926_1720/ESP_011926_1720_RGB.NOMAP.browse.jpg to I:\\data\\mars\\ESP_011926_1720_RGB.NOMAP.browse.jpg\n"
     ]
    },
    {
     "data": {
      "application/vnd.jupyter.widget-view+json": {
       "model_id": "13180e08b56d4429b9d3e642aa5da59b",
       "version_major": 2,
       "version_minor": 0
      },
      "text/plain": [
       "  0%|          | 0/494931 [00:00<?, ?it/s]"
      ]
     },
     "metadata": {},
     "output_type": "display_data"
    },
    {
     "name": "stdout",
     "output_type": "stream",
     "text": [
      "ESP_011928_2025/\n",
      "Downloading https://hirise-pds.lpl.arizona.edu/PDS/EXTRAS/RDR/ESP/ORB_011900_011999/ESP_011928_2025/ESP_011928_2025_RGB.NOMAP.browse.jpg to I:\\data\\mars\\ESP_011928_2025_RGB.NOMAP.browse.jpg\n"
     ]
    },
    {
     "data": {
      "application/vnd.jupyter.widget-view+json": {
       "model_id": "ccd91f559b044d11ac829b333eb17f21",
       "version_major": 2,
       "version_minor": 0
      },
      "text/plain": [
       "  0%|          | 0/886852 [00:00<?, ?it/s]"
      ]
     },
     "metadata": {},
     "output_type": "display_data"
    },
    {
     "name": "stdout",
     "output_type": "stream",
     "text": [
      "ESP_011930_1875/\n",
      "Downloading https://hirise-pds.lpl.arizona.edu/PDS/EXTRAS/RDR/ESP/ORB_011900_011999/ESP_011930_1875/ESP_011930_1875_RGB.NOMAP.browse.jpg to I:\\data\\mars\\ESP_011930_1875_RGB.NOMAP.browse.jpg\n"
     ]
    },
    {
     "data": {
      "application/vnd.jupyter.widget-view+json": {
       "model_id": "6ed062a0e8214c39b3781b24be89feca",
       "version_major": 2,
       "version_minor": 0
      },
      "text/plain": [
       "  0%|          | 0/513497 [00:00<?, ?it/s]"
      ]
     },
     "metadata": {},
     "output_type": "display_data"
    },
    {
     "name": "stdout",
     "output_type": "stream",
     "text": [
      "ESP_011931_0945/\n",
      "Downloading https://hirise-pds.lpl.arizona.edu/PDS/EXTRAS/RDR/ESP/ORB_011900_011999/ESP_011931_0945/ESP_011931_0945_RGB.NOMAP.browse.jpg to I:\\data\\mars\\ESP_011931_0945_RGB.NOMAP.browse.jpg\n"
     ]
    },
    {
     "data": {
      "application/vnd.jupyter.widget-view+json": {
       "model_id": "021232824e4043579fb06436f22f1a59",
       "version_major": 2,
       "version_minor": 0
      },
      "text/plain": [
       "  0%|          | 0/2067532 [00:00<?, ?it/s]"
      ]
     },
     "metadata": {},
     "output_type": "display_data"
    },
    {
     "name": "stdout",
     "output_type": "stream",
     "text": [
      "ESP_011934_0945/\n",
      "Downloading https://hirise-pds.lpl.arizona.edu/PDS/EXTRAS/RDR/ESP/ORB_011900_011999/ESP_011934_0945/ESP_011934_0945_RGB.NOMAP.browse.jpg to I:\\data\\mars\\ESP_011934_0945_RGB.NOMAP.browse.jpg\n"
     ]
    },
    {
     "data": {
      "application/vnd.jupyter.widget-view+json": {
       "model_id": "35c291c5bb614fffbaa1d9ed3d8d90e1",
       "version_major": 2,
       "version_minor": 0
      },
      "text/plain": [
       "  0%|          | 0/2136475 [00:00<?, ?it/s]"
      ]
     },
     "metadata": {},
     "output_type": "display_data"
    },
    {
     "name": "stdout",
     "output_type": "stream",
     "text": [
      "ESP_011937_1970/\n",
      "Downloading https://hirise-pds.lpl.arizona.edu/PDS/EXTRAS/RDR/ESP/ORB_011900_011999/ESP_011937_1970/ESP_011937_1970_RGB.NOMAP.browse.jpg to I:\\data\\mars\\ESP_011937_1970_RGB.NOMAP.browse.jpg\n"
     ]
    },
    {
     "data": {
      "application/vnd.jupyter.widget-view+json": {
       "model_id": "7eb1d5c68b6f4ca7aef6da8ce8a1b4c0",
       "version_major": 2,
       "version_minor": 0
      },
      "text/plain": [
       "  0%|          | 0/1257428 [00:00<?, ?it/s]"
      ]
     },
     "metadata": {},
     "output_type": "display_data"
    },
    {
     "name": "stdout",
     "output_type": "stream",
     "text": [
      "ESP_011938_1410/\n",
      "Downloading https://hirise-pds.lpl.arizona.edu/PDS/EXTRAS/RDR/ESP/ORB_011900_011999/ESP_011938_1410/ESP_011938_1410_RGB.NOMAP.browse.jpg to I:\\data\\mars\\ESP_011938_1410_RGB.NOMAP.browse.jpg\n"
     ]
    },
    {
     "data": {
      "application/vnd.jupyter.widget-view+json": {
       "model_id": "0751dd2166664b6293dd44827591edd2",
       "version_major": 2,
       "version_minor": 0
      },
      "text/plain": [
       "  0%|          | 0/972162 [00:00<?, ?it/s]"
      ]
     },
     "metadata": {},
     "output_type": "display_data"
    },
    {
     "name": "stdout",
     "output_type": "stream",
     "text": [
      "ESP_011941_1335/\n",
      "Downloading https://hirise-pds.lpl.arizona.edu/PDS/EXTRAS/RDR/ESP/ORB_011900_011999/ESP_011941_1335/ESP_011941_1335_RGB.NOMAP.browse.jpg to I:\\data\\mars\\ESP_011941_1335_RGB.NOMAP.browse.jpg\n"
     ]
    },
    {
     "data": {
      "application/vnd.jupyter.widget-view+json": {
       "model_id": "8a9baa4035ff4c4c96e9d0f3f199173b",
       "version_major": 2,
       "version_minor": 0
      },
      "text/plain": [
       "  0%|          | 0/3316707 [00:00<?, ?it/s]"
      ]
     },
     "metadata": {},
     "output_type": "display_data"
    },
    {
     "name": "stdout",
     "output_type": "stream",
     "text": [
      "ESP_011943_1650/\n",
      "Downloading https://hirise-pds.lpl.arizona.edu/PDS/EXTRAS/RDR/ESP/ORB_011900_011999/ESP_011943_1650/ESP_011943_1650_RGB.NOMAP.browse.jpg to I:\\data\\mars\\ESP_011943_1650_RGB.NOMAP.browse.jpg\n"
     ]
    },
    {
     "data": {
      "application/vnd.jupyter.widget-view+json": {
       "model_id": "d9c1266d3b1347a283b3872ca5b1d160",
       "version_major": 2,
       "version_minor": 0
      },
      "text/plain": [
       "  0%|          | 0/1429951 [00:00<?, ?it/s]"
      ]
     },
     "metadata": {},
     "output_type": "display_data"
    },
    {
     "name": "stdout",
     "output_type": "stream",
     "text": [
      "ESP_011946_0985/\n",
      "Downloading https://hirise-pds.lpl.arizona.edu/PDS/EXTRAS/RDR/ESP/ORB_011900_011999/ESP_011946_0985/ESP_011946_0985_RGB.NOMAP.browse.jpg to I:\\data\\mars\\ESP_011946_0985_RGB.NOMAP.browse.jpg\n"
     ]
    },
    {
     "data": {
      "application/vnd.jupyter.widget-view+json": {
       "model_id": "2fbd31fc829541cf95fe54c98e7add23",
       "version_major": 2,
       "version_minor": 0
      },
      "text/plain": [
       "  0%|          | 0/1099447 [00:00<?, ?it/s]"
      ]
     },
     "metadata": {},
     "output_type": "display_data"
    },
    {
     "name": "stdout",
     "output_type": "stream",
     "text": [
      "ESP_011948_1335/\n",
      "Downloading https://hirise-pds.lpl.arizona.edu/PDS/EXTRAS/RDR/ESP/ORB_011900_011999/ESP_011948_1335/ESP_011948_1335_RGB.NOMAP.browse.jpg to I:\\data\\mars\\ESP_011948_1335_RGB.NOMAP.browse.jpg\n"
     ]
    },
    {
     "data": {
      "application/vnd.jupyter.widget-view+json": {
       "model_id": "02040939e1d645d9a8cb0e60f60c570e",
       "version_major": 2,
       "version_minor": 0
      },
      "text/plain": [
       "  0%|          | 0/1196084 [00:00<?, ?it/s]"
      ]
     },
     "metadata": {},
     "output_type": "display_data"
    },
    {
     "name": "stdout",
     "output_type": "stream",
     "text": [
      "ESP_011949_2255/\n",
      "Downloading https://hirise-pds.lpl.arizona.edu/PDS/EXTRAS/RDR/ESP/ORB_011900_011999/ESP_011949_2255/ESP_011949_2255_RGB.NOMAP.browse.jpg to I:\\data\\mars\\ESP_011949_2255_RGB.NOMAP.browse.jpg\n"
     ]
    },
    {
     "data": {
      "application/vnd.jupyter.widget-view+json": {
       "model_id": "e53fef96191d440391d7e3a0b259cd78",
       "version_major": 2,
       "version_minor": 0
      },
      "text/plain": [
       "  0%|          | 0/1077713 [00:00<?, ?it/s]"
      ]
     },
     "metadata": {},
     "output_type": "display_data"
    },
    {
     "name": "stdout",
     "output_type": "stream",
     "text": [
      "ESP_011951_0930/\n",
      "Downloading https://hirise-pds.lpl.arizona.edu/PDS/EXTRAS/RDR/ESP/ORB_011900_011999/ESP_011951_0930/ESP_011951_0930_RGB.NOMAP.browse.jpg to I:\\data\\mars\\ESP_011951_0930_RGB.NOMAP.browse.jpg\n"
     ]
    },
    {
     "data": {
      "application/vnd.jupyter.widget-view+json": {
       "model_id": "7cc3a3207f774f328e76df79cfef8d51",
       "version_major": 2,
       "version_minor": 0
      },
      "text/plain": [
       "  0%|          | 0/975378 [00:00<?, ?it/s]"
      ]
     },
     "metadata": {},
     "output_type": "display_data"
    },
    {
     "name": "stdout",
     "output_type": "stream",
     "text": [
      "ESP_011952_1585/\n",
      "Downloading https://hirise-pds.lpl.arizona.edu/PDS/EXTRAS/RDR/ESP/ORB_011900_011999/ESP_011952_1585/ESP_011952_1585_RGB.NOMAP.browse.jpg to I:\\data\\mars\\ESP_011952_1585_RGB.NOMAP.browse.jpg\n"
     ]
    },
    {
     "data": {
      "application/vnd.jupyter.widget-view+json": {
       "model_id": "a5ea40620cc048fda367d37a427d4392",
       "version_major": 2,
       "version_minor": 0
      },
      "text/plain": [
       "  0%|          | 0/988255 [00:00<?, ?it/s]"
      ]
     },
     "metadata": {},
     "output_type": "display_data"
    },
    {
     "name": "stdout",
     "output_type": "stream",
     "text": [
      "ESP_011954_0930/\n",
      "Downloading https://hirise-pds.lpl.arizona.edu/PDS/EXTRAS/RDR/ESP/ORB_011900_011999/ESP_011954_0930/ESP_011954_0930_RGB.NOMAP.browse.jpg to I:\\data\\mars\\ESP_011954_0930_RGB.NOMAP.browse.jpg\n"
     ]
    },
    {
     "data": {
      "application/vnd.jupyter.widget-view+json": {
       "model_id": "e5e2cab58e74422e8446261c187c9157",
       "version_major": 2,
       "version_minor": 0
      },
      "text/plain": [
       "  0%|          | 0/873787 [00:00<?, ?it/s]"
      ]
     },
     "metadata": {},
     "output_type": "display_data"
    },
    {
     "name": "stdout",
     "output_type": "stream",
     "text": [
      "ESP_011958_1845/\n",
      "Downloading https://hirise-pds.lpl.arizona.edu/PDS/EXTRAS/RDR/ESP/ORB_011900_011999/ESP_011958_1845/ESP_011958_1845_RGB.NOMAP.browse.jpg to I:\\data\\mars\\ESP_011958_1845_RGB.NOMAP.browse.jpg\n"
     ]
    },
    {
     "data": {
      "application/vnd.jupyter.widget-view+json": {
       "model_id": "86a4a70d706d448bb66140327d9d3185",
       "version_major": 2,
       "version_minor": 0
      },
      "text/plain": [
       "  0%|          | 0/2031632 [00:00<?, ?it/s]"
      ]
     },
     "metadata": {},
     "output_type": "display_data"
    },
    {
     "name": "stdout",
     "output_type": "stream",
     "text": [
      "ESP_011960_0925/\n",
      "Downloading https://hirise-pds.lpl.arizona.edu/PDS/EXTRAS/RDR/ESP/ORB_011900_011999/ESP_011960_0925/ESP_011960_0925_RGB.NOMAP.browse.jpg to I:\\data\\mars\\ESP_011960_0925_RGB.NOMAP.browse.jpg\n"
     ]
    },
    {
     "data": {
      "application/vnd.jupyter.widget-view+json": {
       "model_id": "a0a811c13e2f4562b144683fb0de647e",
       "version_major": 2,
       "version_minor": 0
      },
      "text/plain": [
       "  0%|          | 0/2371772 [00:00<?, ?it/s]"
      ]
     },
     "metadata": {},
     "output_type": "display_data"
    },
    {
     "name": "stdout",
     "output_type": "stream",
     "text": [
      "ESP_011961_0935/\n",
      "Downloading https://hirise-pds.lpl.arizona.edu/PDS/EXTRAS/RDR/ESP/ORB_011900_011999/ESP_011961_0935/ESP_011961_0935_RGB.NOMAP.browse.jpg to I:\\data\\mars\\ESP_011961_0935_RGB.NOMAP.browse.jpg\n"
     ]
    },
    {
     "data": {
      "application/vnd.jupyter.widget-view+json": {
       "model_id": "aad6823fd690441da04cb4edc1006e76",
       "version_major": 2,
       "version_minor": 0
      },
      "text/plain": [
       "  0%|          | 0/2619713 [00:00<?, ?it/s]"
      ]
     },
     "metadata": {},
     "output_type": "display_data"
    },
    {
     "name": "stdout",
     "output_type": "stream",
     "text": [
      "ESP_011963_1115/\n",
      "Downloading https://hirise-pds.lpl.arizona.edu/PDS/EXTRAS/RDR/ESP/ORB_011900_011999/ESP_011963_1115/ESP_011963_1115_RGB.NOMAP.browse.jpg to I:\\data\\mars\\ESP_011963_1115_RGB.NOMAP.browse.jpg\n"
     ]
    },
    {
     "data": {
      "application/vnd.jupyter.widget-view+json": {
       "model_id": "a3fee36e94ed44f8a679f54bf243f693",
       "version_major": 2,
       "version_minor": 0
      },
      "text/plain": [
       "  0%|          | 0/2005991 [00:00<?, ?it/s]"
      ]
     },
     "metadata": {},
     "output_type": "display_data"
    },
    {
     "name": "stdout",
     "output_type": "stream",
     "text": [
      "ESP_011965_1725/\n",
      "Downloading https://hirise-pds.lpl.arizona.edu/PDS/EXTRAS/RDR/ESP/ORB_011900_011999/ESP_011965_1725/ESP_011965_1725_RGB.NOMAP.browse.jpg to I:\\data\\mars\\ESP_011965_1725_RGB.NOMAP.browse.jpg\n"
     ]
    },
    {
     "data": {
      "application/vnd.jupyter.widget-view+json": {
       "model_id": "70dfdf3ba3844383a51d1b8aec0b749a",
       "version_major": 2,
       "version_minor": 0
      },
      "text/plain": [
       "  0%|          | 0/1256739 [00:00<?, ?it/s]"
      ]
     },
     "metadata": {},
     "output_type": "display_data"
    },
    {
     "name": "stdout",
     "output_type": "stream",
     "text": [
      "ESP_011966_1700/\n",
      "Downloading https://hirise-pds.lpl.arizona.edu/PDS/EXTRAS/RDR/ESP/ORB_011900_011999/ESP_011966_1700/ESP_011966_1700_RGB.NOMAP.browse.jpg to I:\\data\\mars\\ESP_011966_1700_RGB.NOMAP.browse.jpg\n"
     ]
    },
    {
     "data": {
      "application/vnd.jupyter.widget-view+json": {
       "model_id": "38adcba42f8f4b5db714912c5b1c643c",
       "version_major": 2,
       "version_minor": 0
      },
      "text/plain": [
       "  0%|          | 0/820368 [00:00<?, ?it/s]"
      ]
     },
     "metadata": {},
     "output_type": "display_data"
    },
    {
     "name": "stdout",
     "output_type": "stream",
     "text": [
      "ESP_011967_2285/\n",
      "Downloading https://hirise-pds.lpl.arizona.edu/PDS/EXTRAS/RDR/ESP/ORB_011900_011999/ESP_011967_2285/ESP_011967_2285_RGB.NOMAP.browse.jpg to I:\\data\\mars\\ESP_011967_2285_RGB.NOMAP.browse.jpg\n"
     ]
    },
    {
     "data": {
      "application/vnd.jupyter.widget-view+json": {
       "model_id": "2eade9368d82498aa54df0f58085e83d",
       "version_major": 2,
       "version_minor": 0
      },
      "text/plain": [
       "  0%|          | 0/1136711 [00:00<?, ?it/s]"
      ]
     },
     "metadata": {},
     "output_type": "display_data"
    },
    {
     "name": "stdout",
     "output_type": "stream",
     "text": [
      "ESP_011969_1425/\n",
      "Downloading https://hirise-pds.lpl.arizona.edu/PDS/EXTRAS/RDR/ESP/ORB_011900_011999/ESP_011969_1425/ESP_011969_1425_RGB.NOMAP.browse.jpg to I:\\data\\mars\\ESP_011969_1425_RGB.NOMAP.browse.jpg\n"
     ]
    },
    {
     "data": {
      "application/vnd.jupyter.widget-view+json": {
       "model_id": "1ee9b8748cad420fbff8b844130d2b89",
       "version_major": 2,
       "version_minor": 0
      },
      "text/plain": [
       "  0%|          | 0/871922 [00:00<?, ?it/s]"
      ]
     },
     "metadata": {},
     "output_type": "display_data"
    },
    {
     "name": "stdout",
     "output_type": "stream",
     "text": [
      "ESP_011972_1665/\n",
      "Downloading https://hirise-pds.lpl.arizona.edu/PDS/EXTRAS/RDR/ESP/ORB_011900_011999/ESP_011972_1665/ESP_011972_1665_RGB.NOMAP.browse.jpg to I:\\data\\mars\\ESP_011972_1665_RGB.NOMAP.browse.jpg\n"
     ]
    },
    {
     "data": {
      "application/vnd.jupyter.widget-view+json": {
       "model_id": "30f3bb8b6f0c4989978d2383767ef9c3",
       "version_major": 2,
       "version_minor": 0
      },
      "text/plain": [
       "  0%|          | 0/897231 [00:00<?, ?it/s]"
      ]
     },
     "metadata": {},
     "output_type": "display_data"
    },
    {
     "name": "stdout",
     "output_type": "stream",
     "text": [
      "ESP_011973_2085/\n",
      "Downloading https://hirise-pds.lpl.arizona.edu/PDS/EXTRAS/RDR/ESP/ORB_011900_011999/ESP_011973_2085/ESP_011973_2085_RGB.NOMAP.browse.jpg to I:\\data\\mars\\ESP_011973_2085_RGB.NOMAP.browse.jpg\n"
     ]
    },
    {
     "data": {
      "application/vnd.jupyter.widget-view+json": {
       "model_id": "6cad10b431f84903bd5b44d7a6c7c4e6",
       "version_major": 2,
       "version_minor": 0
      },
      "text/plain": [
       "  0%|          | 0/1301315 [00:00<?, ?it/s]"
      ]
     },
     "metadata": {},
     "output_type": "display_data"
    },
    {
     "name": "stdout",
     "output_type": "stream",
     "text": [
      "ESP_011974_1010/\n",
      "Downloading https://hirise-pds.lpl.arizona.edu/PDS/EXTRAS/RDR/ESP/ORB_011900_011999/ESP_011974_1010/ESP_011974_1010_RGB.NOMAP.browse.jpg to I:\\data\\mars\\ESP_011974_1010_RGB.NOMAP.browse.jpg\n"
     ]
    },
    {
     "data": {
      "application/vnd.jupyter.widget-view+json": {
       "model_id": "d790308199284cdf8c9a6a60fda8ebd3",
       "version_major": 2,
       "version_minor": 0
      },
      "text/plain": [
       "  0%|          | 0/2877083 [00:00<?, ?it/s]"
      ]
     },
     "metadata": {},
     "output_type": "display_data"
    },
    {
     "name": "stdout",
     "output_type": "stream",
     "text": [
      "ESP_011974_2220/\n",
      "Downloading https://hirise-pds.lpl.arizona.edu/PDS/EXTRAS/RDR/ESP/ORB_011900_011999/ESP_011974_2220/ESP_011974_2220_RGB.NOMAP.browse.jpg to I:\\data\\mars\\ESP_011974_2220_RGB.NOMAP.browse.jpg\n"
     ]
    },
    {
     "data": {
      "application/vnd.jupyter.widget-view+json": {
       "model_id": "b7c14c2ea6d24270ae44e9f647d6e019",
       "version_major": 2,
       "version_minor": 0
      },
      "text/plain": [
       "  0%|          | 0/1710882 [00:00<?, ?it/s]"
      ]
     },
     "metadata": {},
     "output_type": "display_data"
    },
    {
     "name": "stdout",
     "output_type": "stream",
     "text": [
      "ESP_011976_1745/\n",
      "Downloading https://hirise-pds.lpl.arizona.edu/PDS/EXTRAS/RDR/ESP/ORB_011900_011999/ESP_011976_1745/ESP_011976_1745_RGB.NOMAP.browse.jpg to I:\\data\\mars\\ESP_011976_1745_RGB.NOMAP.browse.jpg\n"
     ]
    },
    {
     "data": {
      "application/vnd.jupyter.widget-view+json": {
       "model_id": "3282167a919b40beb0c9aef8e06a19af",
       "version_major": 2,
       "version_minor": 0
      },
      "text/plain": [
       "  0%|          | 0/839562 [00:00<?, ?it/s]"
      ]
     },
     "metadata": {},
     "output_type": "display_data"
    },
    {
     "name": "stdout",
     "output_type": "stream",
     "text": [
      "ESP_011977_0950/\n",
      "Downloading https://hirise-pds.lpl.arizona.edu/PDS/EXTRAS/RDR/ESP/ORB_011900_011999/ESP_011977_0950/ESP_011977_0950_RGB.NOMAP.browse.jpg to I:\\data\\mars\\ESP_011977_0950_RGB.NOMAP.browse.jpg\n"
     ]
    },
    {
     "data": {
      "application/vnd.jupyter.widget-view+json": {
       "model_id": "49cc180ffb3546d6b9b96733cb086586",
       "version_major": 2,
       "version_minor": 0
      },
      "text/plain": [
       "  0%|          | 0/2100097 [00:00<?, ?it/s]"
      ]
     },
     "metadata": {},
     "output_type": "display_data"
    },
    {
     "name": "stdout",
     "output_type": "stream",
     "text": [
      "ESP_011980_1040/\n",
      "Downloading https://hirise-pds.lpl.arizona.edu/PDS/EXTRAS/RDR/ESP/ORB_011900_011999/ESP_011980_1040/ESP_011980_1040_RGB.NOMAP.browse.jpg to I:\\data\\mars\\ESP_011980_1040_RGB.NOMAP.browse.jpg\n"
     ]
    },
    {
     "data": {
      "application/vnd.jupyter.widget-view+json": {
       "model_id": "df98ed986a2c4a45af6c2dd4fa555a08",
       "version_major": 2,
       "version_minor": 0
      },
      "text/plain": [
       "  0%|          | 0/1478158 [00:00<?, ?it/s]"
      ]
     },
     "metadata": {},
     "output_type": "display_data"
    },
    {
     "name": "stdout",
     "output_type": "stream",
     "text": [
      "ESP_011980_2485/\n",
      "\tfailed to find filename\n",
      "ESP_011982_1480/\n",
      "Downloading https://hirise-pds.lpl.arizona.edu/PDS/EXTRAS/RDR/ESP/ORB_011900_011999/ESP_011982_1480/ESP_011982_1480_RGB.NOMAP.browse.jpg to I:\\data\\mars\\ESP_011982_1480_RGB.NOMAP.browse.jpg\n"
     ]
    },
    {
     "data": {
      "application/vnd.jupyter.widget-view+json": {
       "model_id": "ec4f049b884d468986fd752a73fc960b",
       "version_major": 2,
       "version_minor": 0
      },
      "text/plain": [
       "  0%|          | 0/891585 [00:00<?, ?it/s]"
      ]
     },
     "metadata": {},
     "output_type": "display_data"
    },
    {
     "name": "stdout",
     "output_type": "stream",
     "text": [
      "ESP_011983_2080/\n",
      "Downloading https://hirise-pds.lpl.arizona.edu/PDS/EXTRAS/RDR/ESP/ORB_011900_011999/ESP_011983_2080/ESP_011983_2080_RGB.NOMAP.browse.jpg to I:\\data\\mars\\ESP_011983_2080_RGB.NOMAP.browse.jpg\n"
     ]
    },
    {
     "data": {
      "application/vnd.jupyter.widget-view+json": {
       "model_id": "ada09f3f272d412caebafdc538987d39",
       "version_major": 2,
       "version_minor": 0
      },
      "text/plain": [
       "  0%|          | 0/1048442 [00:00<?, ?it/s]"
      ]
     },
     "metadata": {},
     "output_type": "display_data"
    },
    {
     "name": "stdout",
     "output_type": "stream",
     "text": [
      "ESP_011984_1755/\n",
      "Downloading https://hirise-pds.lpl.arizona.edu/PDS/EXTRAS/RDR/ESP/ORB_011900_011999/ESP_011984_1755/ESP_011984_1755_RGB.NOMAP.browse.jpg to I:\\data\\mars\\ESP_011984_1755_RGB.NOMAP.browse.jpg\n"
     ]
    },
    {
     "data": {
      "application/vnd.jupyter.widget-view+json": {
       "model_id": "0e5769beebee4b0995bef94869cc74e9",
       "version_major": 2,
       "version_minor": 0
      },
      "text/plain": [
       "  0%|          | 0/911675 [00:00<?, ?it/s]"
      ]
     },
     "metadata": {},
     "output_type": "display_data"
    },
    {
     "name": "stdout",
     "output_type": "stream",
     "text": [
      "ESP_011985_1400/\n",
      "Downloading https://hirise-pds.lpl.arizona.edu/PDS/EXTRAS/RDR/ESP/ORB_011900_011999/ESP_011985_1400/ESP_011985_1400_RGB.NOMAP.browse.jpg to I:\\data\\mars\\ESP_011985_1400_RGB.NOMAP.browse.jpg\n"
     ]
    },
    {
     "data": {
      "application/vnd.jupyter.widget-view+json": {
       "model_id": "1f1b53cc997c4b6c932a7cbb836eab06",
       "version_major": 2,
       "version_minor": 0
      },
      "text/plain": [
       "  0%|          | 0/1544776 [00:00<?, ?it/s]"
      ]
     },
     "metadata": {},
     "output_type": "display_data"
    },
    {
     "name": "stdout",
     "output_type": "stream",
     "text": [
      "ESP_011986_2060/\n",
      "Downloading https://hirise-pds.lpl.arizona.edu/PDS/EXTRAS/RDR/ESP/ORB_011900_011999/ESP_011986_2060/ESP_011986_2060_RGB.NOMAP.browse.jpg to I:\\data\\mars\\ESP_011986_2060_RGB.NOMAP.browse.jpg\n"
     ]
    },
    {
     "data": {
      "application/vnd.jupyter.widget-view+json": {
       "model_id": "bb62958801a3410f81fbcdd405f289a9",
       "version_major": 2,
       "version_minor": 0
      },
      "text/plain": [
       "  0%|          | 0/697117 [00:00<?, ?it/s]"
      ]
     },
     "metadata": {},
     "output_type": "display_data"
    },
    {
     "name": "stdout",
     "output_type": "stream",
     "text": [
      "ESP_011987_0975/\n",
      "Downloading https://hirise-pds.lpl.arizona.edu/PDS/EXTRAS/RDR/ESP/ORB_011900_011999/ESP_011987_0975/ESP_011987_0975_RGB.NOMAP.browse.jpg to I:\\data\\mars\\ESP_011987_0975_RGB.NOMAP.browse.jpg\n"
     ]
    },
    {
     "data": {
      "application/vnd.jupyter.widget-view+json": {
       "model_id": "56a5b11773034bb8840e903bc1b0a7b9",
       "version_major": 2,
       "version_minor": 0
      },
      "text/plain": [
       "  0%|          | 0/1014368 [00:00<?, ?it/s]"
      ]
     },
     "metadata": {},
     "output_type": "display_data"
    },
    {
     "name": "stdout",
     "output_type": "stream",
     "text": [
      "ESP_011990_1605/\n",
      "Downloading https://hirise-pds.lpl.arizona.edu/PDS/EXTRAS/RDR/ESP/ORB_011900_011999/ESP_011990_1605/ESP_011990_1605_RGB.NOMAP.browse.jpg to I:\\data\\mars\\ESP_011990_1605_RGB.NOMAP.browse.jpg\n"
     ]
    },
    {
     "data": {
      "application/vnd.jupyter.widget-view+json": {
       "model_id": "988ceec299924d118324fc944e43962b",
       "version_major": 2,
       "version_minor": 0
      },
      "text/plain": [
       "  0%|          | 0/717638 [00:00<?, ?it/s]"
      ]
     },
     "metadata": {},
     "output_type": "display_data"
    },
    {
     "name": "stdout",
     "output_type": "stream",
     "text": [
      "ESP_011991_1700/\n",
      "Downloading https://hirise-pds.lpl.arizona.edu/PDS/EXTRAS/RDR/ESP/ORB_011900_011999/ESP_011991_1700/ESP_011991_1700_RGB.NOMAP.browse.jpg to I:\\data\\mars\\ESP_011991_1700_RGB.NOMAP.browse.jpg\n"
     ]
    },
    {
     "data": {
      "application/vnd.jupyter.widget-view+json": {
       "model_id": "582c742fb10c4c318092fe0e77bb3527",
       "version_major": 2,
       "version_minor": 0
      },
      "text/plain": [
       "  0%|          | 0/3299297 [00:00<?, ?it/s]"
      ]
     },
     "metadata": {},
     "output_type": "display_data"
    },
    {
     "name": "stdout",
     "output_type": "stream",
     "text": [
      "ESP_011995_1410/\n",
      "Downloading https://hirise-pds.lpl.arizona.edu/PDS/EXTRAS/RDR/ESP/ORB_011900_011999/ESP_011995_1410/ESP_011995_1410_RGB.NOMAP.browse.jpg to I:\\data\\mars\\ESP_011995_1410_RGB.NOMAP.browse.jpg\n"
     ]
    },
    {
     "data": {
      "application/vnd.jupyter.widget-view+json": {
       "model_id": "d4fbd9f372c941e69113d676f4f3600f",
       "version_major": 2,
       "version_minor": 0
      },
      "text/plain": [
       "  0%|          | 0/946805 [00:00<?, ?it/s]"
      ]
     },
     "metadata": {},
     "output_type": "display_data"
    },
    {
     "name": "stdout",
     "output_type": "stream",
     "text": [
      "ESP_011996_1440/\n",
      "Downloading https://hirise-pds.lpl.arizona.edu/PDS/EXTRAS/RDR/ESP/ORB_011900_011999/ESP_011996_1440/ESP_011996_1440_RGB.NOMAP.browse.jpg to I:\\data\\mars\\ESP_011996_1440_RGB.NOMAP.browse.jpg\n"
     ]
    },
    {
     "data": {
      "application/vnd.jupyter.widget-view+json": {
       "model_id": "ebc154ac9f964e2d94e346b2ca736a65",
       "version_major": 2,
       "version_minor": 0
      },
      "text/plain": [
       "  0%|          | 0/464433 [00:00<?, ?it/s]"
      ]
     },
     "metadata": {},
     "output_type": "display_data"
    },
    {
     "name": "stdout",
     "output_type": "stream",
     "text": [
      "ESP_011997_1105/\n",
      "Downloading https://hirise-pds.lpl.arizona.edu/PDS/EXTRAS/RDR/ESP/ORB_011900_011999/ESP_011997_1105/ESP_011997_1105_RGB.NOMAP.browse.jpg to I:\\data\\mars\\ESP_011997_1105_RGB.NOMAP.browse.jpg\n"
     ]
    },
    {
     "data": {
      "application/vnd.jupyter.widget-view+json": {
       "model_id": "50d0530bb5eb413e92a9d1a67c0a14c0",
       "version_major": 2,
       "version_minor": 0
      },
      "text/plain": [
       "  0%|          | 0/1003386 [00:00<?, ?it/s]"
      ]
     },
     "metadata": {},
     "output_type": "display_data"
    },
    {
     "name": "stdout",
     "output_type": "stream",
     "text": [
      "ESP_011998_1090/\n",
      "Downloading https://hirise-pds.lpl.arizona.edu/PDS/EXTRAS/RDR/ESP/ORB_011900_011999/ESP_011998_1090/ESP_011998_1090_RGB.NOMAP.browse.jpg to I:\\data\\mars\\ESP_011998_1090_RGB.NOMAP.browse.jpg\n"
     ]
    },
    {
     "data": {
      "application/vnd.jupyter.widget-view+json": {
       "model_id": "e7242d0a370e447eb102bb6a45d00aee",
       "version_major": 2,
       "version_minor": 0
      },
      "text/plain": [
       "  0%|          | 0/1466368 [00:00<?, ?it/s]"
      ]
     },
     "metadata": {},
     "output_type": "display_data"
    },
    {
     "name": "stdout",
     "output_type": "stream",
     "text": [
      "ESP_011998_1590/\n",
      "Downloading https://hirise-pds.lpl.arizona.edu/PDS/EXTRAS/RDR/ESP/ORB_011900_011999/ESP_011998_1590/ESP_011998_1590_RGB.NOMAP.browse.jpg to I:\\data\\mars\\ESP_011998_1590_RGB.NOMAP.browse.jpg\n"
     ]
    },
    {
     "data": {
      "application/vnd.jupyter.widget-view+json": {
       "model_id": "542b2511708847ad8220c5019b346f25",
       "version_major": 2,
       "version_minor": 0
      },
      "text/plain": [
       "  0%|          | 0/710298 [00:00<?, ?it/s]"
      ]
     },
     "metadata": {},
     "output_type": "display_data"
    },
    {
     "name": "stdout",
     "output_type": "stream",
     "text": [
      "ESP_011999_1305/\n",
      "Downloading https://hirise-pds.lpl.arizona.edu/PDS/EXTRAS/RDR/ESP/ORB_011900_011999/ESP_011999_1305/ESP_011999_1305_RGB.NOMAP.browse.jpg to I:\\data\\mars\\ESP_011999_1305_RGB.NOMAP.browse.jpg\n"
     ]
    },
    {
     "data": {
      "application/vnd.jupyter.widget-view+json": {
       "model_id": "249e7c04bb314eb58899a34309dc677a",
       "version_major": 2,
       "version_minor": 0
      },
      "text/plain": [
       "  0%|          | 0/925306 [00:00<?, ?it/s]"
      ]
     },
     "metadata": {},
     "output_type": "display_data"
    },
    {
     "name": "stdout",
     "output_type": "stream",
     "text": [
      "ESP_011999_1840/\n",
      "Downloading https://hirise-pds.lpl.arizona.edu/PDS/EXTRAS/RDR/ESP/ORB_011900_011999/ESP_011999_1840/ESP_011999_1840_RGB.NOMAP.browse.jpg to I:\\data\\mars\\ESP_011999_1840_RGB.NOMAP.browse.jpg\n"
     ]
    },
    {
     "data": {
      "application/vnd.jupyter.widget-view+json": {
       "model_id": "3504f179db6b4ab2a81b6724b17fd9e6",
       "version_major": 2,
       "version_minor": 0
      },
      "text/plain": [
       "  0%|          | 0/1671574 [00:00<?, ?it/s]"
      ]
     },
     "metadata": {},
     "output_type": "display_data"
    },
    {
     "name": "stdout",
     "output_type": "stream",
     "text": [
      "-------------------------------------------------- ORB_012000_012099/\n",
      "ESP_012004_1625/\n",
      "Downloading https://hirise-pds.lpl.arizona.edu/PDS/EXTRAS/RDR/ESP/ORB_012000_012099/ESP_012004_1625/ESP_012004_1625_RGB.NOMAP.browse.jpg to I:\\data\\mars\\ESP_012004_1625_RGB.NOMAP.browse.jpg\n"
     ]
    },
    {
     "data": {
      "application/vnd.jupyter.widget-view+json": {
       "model_id": "4a182c843bed440088895cc8f6e0562d",
       "version_major": 2,
       "version_minor": 0
      },
      "text/plain": [
       "  0%|          | 0/1098561 [00:00<?, ?it/s]"
      ]
     },
     "metadata": {},
     "output_type": "display_data"
    },
    {
     "name": "stdout",
     "output_type": "stream",
     "text": [
      "ESP_012005_1700/\n",
      "Downloading https://hirise-pds.lpl.arizona.edu/PDS/EXTRAS/RDR/ESP/ORB_012000_012099/ESP_012005_1700/ESP_012005_1700_RGB.NOMAP.browse.jpg to I:\\data\\mars\\ESP_012005_1700_RGB.NOMAP.browse.jpg\n"
     ]
    },
    {
     "data": {
      "application/vnd.jupyter.widget-view+json": {
       "model_id": "9673b49ff52d4cb7b279f3e7292a4eb5",
       "version_major": 2,
       "version_minor": 0
      },
      "text/plain": [
       "  0%|          | 0/1843565 [00:00<?, ?it/s]"
      ]
     },
     "metadata": {},
     "output_type": "display_data"
    },
    {
     "name": "stdout",
     "output_type": "stream",
     "text": [
      "ESP_012007_1940/\n",
      "Downloading https://hirise-pds.lpl.arizona.edu/PDS/EXTRAS/RDR/ESP/ORB_012000_012099/ESP_012007_1940/ESP_012007_1940_RGB.NOMAP.browse.jpg to I:\\data\\mars\\ESP_012007_1940_RGB.NOMAP.browse.jpg\n"
     ]
    },
    {
     "data": {
      "application/vnd.jupyter.widget-view+json": {
       "model_id": "2140c8afd07347808a6c36737b2788c8",
       "version_major": 2,
       "version_minor": 0
      },
      "text/plain": [
       "  0%|          | 0/801837 [00:00<?, ?it/s]"
      ]
     },
     "metadata": {},
     "output_type": "display_data"
    },
    {
     "name": "stdout",
     "output_type": "stream",
     "text": [
      "ESP_012008_0975/\n",
      "Downloading https://hirise-pds.lpl.arizona.edu/PDS/EXTRAS/RDR/ESP/ORB_012000_012099/ESP_012008_0975/ESP_012008_0975_RGB.NOMAP.browse.jpg to I:\\data\\mars\\ESP_012008_0975_RGB.NOMAP.browse.jpg\n"
     ]
    },
    {
     "data": {
      "application/vnd.jupyter.widget-view+json": {
       "model_id": "1370c9766ea645bb9ee93ffa84b5c93f",
       "version_major": 2,
       "version_minor": 0
      },
      "text/plain": [
       "  0%|          | 0/1609283 [00:00<?, ?it/s]"
      ]
     },
     "metadata": {},
     "output_type": "display_data"
    },
    {
     "name": "stdout",
     "output_type": "stream",
     "text": [
      "ESP_012008_1715/\n",
      "Downloading https://hirise-pds.lpl.arizona.edu/PDS/EXTRAS/RDR/ESP/ORB_012000_012099/ESP_012008_1715/ESP_012008_1715_RGB.NOMAP.browse.jpg to I:\\data\\mars\\ESP_012008_1715_RGB.NOMAP.browse.jpg\n"
     ]
    },
    {
     "data": {
      "application/vnd.jupyter.widget-view+json": {
       "model_id": "6a80ab7ecbf748eaadfd5276d31c86cd",
       "version_major": 2,
       "version_minor": 0
      },
      "text/plain": [
       "  0%|          | 0/1165404 [00:00<?, ?it/s]"
      ]
     },
     "metadata": {},
     "output_type": "display_data"
    },
    {
     "name": "stdout",
     "output_type": "stream",
     "text": [
      "ESP_012012_1625/\n",
      "Downloading https://hirise-pds.lpl.arizona.edu/PDS/EXTRAS/RDR/ESP/ORB_012000_012099/ESP_012012_1625/ESP_012012_1625_RGB.NOMAP.browse.jpg to I:\\data\\mars\\ESP_012012_1625_RGB.NOMAP.browse.jpg\n"
     ]
    },
    {
     "data": {
      "application/vnd.jupyter.widget-view+json": {
       "model_id": "041f05b3472540c3a75c9eb2153628d5",
       "version_major": 2,
       "version_minor": 0
      },
      "text/plain": [
       "  0%|          | 0/791880 [00:00<?, ?it/s]"
      ]
     },
     "metadata": {},
     "output_type": "display_data"
    },
    {
     "name": "stdout",
     "output_type": "stream",
     "text": [
      "ESP_012014_1335/\n",
      "Downloading https://hirise-pds.lpl.arizona.edu/PDS/EXTRAS/RDR/ESP/ORB_012000_012099/ESP_012014_1335/ESP_012014_1335_RGB.NOMAP.browse.jpg to I:\\data\\mars\\ESP_012014_1335_RGB.NOMAP.browse.jpg\n"
     ]
    },
    {
     "data": {
      "application/vnd.jupyter.widget-view+json": {
       "model_id": "cdabfc5190be42f082cc03cf9b99adfa",
       "version_major": 2,
       "version_minor": 0
      },
      "text/plain": [
       "  0%|          | 0/1134750 [00:00<?, ?it/s]"
      ]
     },
     "metadata": {},
     "output_type": "display_data"
    },
    {
     "name": "stdout",
     "output_type": "stream",
     "text": [
      "ESP_012016_1010/\n",
      "Downloading https://hirise-pds.lpl.arizona.edu/PDS/EXTRAS/RDR/ESP/ORB_012000_012099/ESP_012016_1010/ESP_012016_1010_RGB.NOMAP.browse.jpg to I:\\data\\mars\\ESP_012016_1010_RGB.NOMAP.browse.jpg\n"
     ]
    },
    {
     "data": {
      "application/vnd.jupyter.widget-view+json": {
       "model_id": "7b909d60963a4d63a855dfd420610fb1",
       "version_major": 2,
       "version_minor": 0
      },
      "text/plain": [
       "  0%|          | 0/991592 [00:00<?, ?it/s]"
      ]
     },
     "metadata": {},
     "output_type": "display_data"
    },
    {
     "name": "stdout",
     "output_type": "stream",
     "text": [
      "ESP_012016_1800/\n",
      "Downloading https://hirise-pds.lpl.arizona.edu/PDS/EXTRAS/RDR/ESP/ORB_012000_012099/ESP_012016_1800/ESP_012016_1800_RGB.NOMAP.browse.jpg to I:\\data\\mars\\ESP_012016_1800_RGB.NOMAP.browse.jpg\n"
     ]
    },
    {
     "data": {
      "application/vnd.jupyter.widget-view+json": {
       "model_id": "5996e8915bc34b0c815fa33896089879",
       "version_major": 2,
       "version_minor": 0
      },
      "text/plain": [
       "  0%|          | 0/1067782 [00:00<?, ?it/s]"
      ]
     },
     "metadata": {},
     "output_type": "display_data"
    },
    {
     "name": "stdout",
     "output_type": "stream",
     "text": [
      "ESP_012018_1750/\n",
      "Downloading https://hirise-pds.lpl.arizona.edu/PDS/EXTRAS/RDR/ESP/ORB_012000_012099/ESP_012018_1750/ESP_012018_1750_RGB.NOMAP.browse.jpg to I:\\data\\mars\\ESP_012018_1750_RGB.NOMAP.browse.jpg\n"
     ]
    },
    {
     "data": {
      "application/vnd.jupyter.widget-view+json": {
       "model_id": "73f261f1201d4517868d3b4b76f04d1a",
       "version_major": 2,
       "version_minor": 0
      },
      "text/plain": [
       "  0%|          | 0/1139985 [00:00<?, ?it/s]"
      ]
     },
     "metadata": {},
     "output_type": "display_data"
    },
    {
     "name": "stdout",
     "output_type": "stream",
     "text": [
      "ESP_012019_1685/\n",
      "Downloading https://hirise-pds.lpl.arizona.edu/PDS/EXTRAS/RDR/ESP/ORB_012000_012099/ESP_012019_1685/ESP_012019_1685_RGB.NOMAP.browse.jpg to I:\\data\\mars\\ESP_012019_1685_RGB.NOMAP.browse.jpg\n"
     ]
    },
    {
     "data": {
      "application/vnd.jupyter.widget-view+json": {
       "model_id": "85ca7b53666747d18f9855b59837c352",
       "version_major": 2,
       "version_minor": 0
      },
      "text/plain": [
       "  0%|          | 0/1057556 [00:00<?, ?it/s]"
      ]
     },
     "metadata": {},
     "output_type": "display_data"
    },
    {
     "name": "stdout",
     "output_type": "stream",
     "text": [
      "ESP_012022_1410/\n",
      "Downloading https://hirise-pds.lpl.arizona.edu/PDS/EXTRAS/RDR/ESP/ORB_012000_012099/ESP_012022_1410/ESP_012022_1410_RGB.NOMAP.browse.jpg to I:\\data\\mars\\ESP_012022_1410_RGB.NOMAP.browse.jpg\n"
     ]
    },
    {
     "data": {
      "application/vnd.jupyter.widget-view+json": {
       "model_id": "398019b8f7274c798ab21d71f4dccada",
       "version_major": 2,
       "version_minor": 0
      },
      "text/plain": [
       "  0%|          | 0/1039219 [00:00<?, ?it/s]"
      ]
     },
     "metadata": {},
     "output_type": "display_data"
    },
    {
     "name": "stdout",
     "output_type": "stream",
     "text": [
      "ESP_012024_1440/\n",
      "Downloading https://hirise-pds.lpl.arizona.edu/PDS/EXTRAS/RDR/ESP/ORB_012000_012099/ESP_012024_1440/ESP_012024_1440_RGB.NOMAP.browse.jpg to I:\\data\\mars\\ESP_012024_1440_RGB.NOMAP.browse.jpg\n"
     ]
    },
    {
     "data": {
      "application/vnd.jupyter.widget-view+json": {
       "model_id": "2000bac7c0114e8b93414ce1bb19bda5",
       "version_major": 2,
       "version_minor": 0
      },
      "text/plain": [
       "  0%|          | 0/647156 [00:00<?, ?it/s]"
      ]
     },
     "metadata": {},
     "output_type": "display_data"
    },
    {
     "name": "stdout",
     "output_type": "stream",
     "text": [
      "ESP_012025_1705/\n",
      "Downloading https://hirise-pds.lpl.arizona.edu/PDS/EXTRAS/RDR/ESP/ORB_012000_012099/ESP_012025_1705/ESP_012025_1705_RGB.NOMAP.browse.jpg to I:\\data\\mars\\ESP_012025_1705_RGB.NOMAP.browse.jpg\n"
     ]
    },
    {
     "data": {
      "application/vnd.jupyter.widget-view+json": {
       "model_id": "4c153d6018bd481496073fbe5bfbeccb",
       "version_major": 2,
       "version_minor": 0
      },
      "text/plain": [
       "  0%|          | 0/1033215 [00:00<?, ?it/s]"
      ]
     },
     "metadata": {},
     "output_type": "display_data"
    },
    {
     "name": "stdout",
     "output_type": "stream",
     "text": [
      "ESP_012026_1535/\n",
      "Downloading https://hirise-pds.lpl.arizona.edu/PDS/EXTRAS/RDR/ESP/ORB_012000_012099/ESP_012026_1535/ESP_012026_1535_RGB.NOMAP.browse.jpg to I:\\data\\mars\\ESP_012026_1535_RGB.NOMAP.browse.jpg\n"
     ]
    },
    {
     "data": {
      "application/vnd.jupyter.widget-view+json": {
       "model_id": "fde5cd47a23b4cc8889c651052a3302d",
       "version_major": 2,
       "version_minor": 0
      },
      "text/plain": [
       "  0%|          | 0/696106 [00:00<?, ?it/s]"
      ]
     },
     "metadata": {},
     "output_type": "display_data"
    },
    {
     "name": "stdout",
     "output_type": "stream",
     "text": [
      "ESP_012028_0930/\n",
      "Downloading https://hirise-pds.lpl.arizona.edu/PDS/EXTRAS/RDR/ESP/ORB_012000_012099/ESP_012028_0930/ESP_012028_0930_RGB.NOMAP.browse.jpg to I:\\data\\mars\\ESP_012028_0930_RGB.NOMAP.browse.jpg\n"
     ]
    },
    {
     "data": {
      "application/vnd.jupyter.widget-view+json": {
       "model_id": "4aa3a7671deb4479899eb520bfe53878",
       "version_major": 2,
       "version_minor": 0
      },
      "text/plain": [
       "  0%|          | 0/1843442 [00:00<?, ?it/s]"
      ]
     },
     "metadata": {},
     "output_type": "display_data"
    },
    {
     "name": "stdout",
     "output_type": "stream",
     "text": [
      "ESP_012029_1505/\n",
      "Downloading https://hirise-pds.lpl.arizona.edu/PDS/EXTRAS/RDR/ESP/ORB_012000_012099/ESP_012029_1505/ESP_012029_1505_RGB.NOMAP.browse.jpg to I:\\data\\mars\\ESP_012029_1505_RGB.NOMAP.browse.jpg\n"
     ]
    },
    {
     "data": {
      "application/vnd.jupyter.widget-view+json": {
       "model_id": "efc675bd88274401bc4ab0f7ac17ebc1",
       "version_major": 2,
       "version_minor": 0
      },
      "text/plain": [
       "  0%|          | 0/1192248 [00:00<?, ?it/s]"
      ]
     },
     "metadata": {},
     "output_type": "display_data"
    },
    {
     "name": "stdout",
     "output_type": "stream",
     "text": [
      "ESP_012030_1520/\n",
      "Downloading https://hirise-pds.lpl.arizona.edu/PDS/EXTRAS/RDR/ESP/ORB_012000_012099/ESP_012030_1520/ESP_012030_1520_RGB.NOMAP.browse.jpg to I:\\data\\mars\\ESP_012030_1520_RGB.NOMAP.browse.jpg\n"
     ]
    },
    {
     "data": {
      "application/vnd.jupyter.widget-view+json": {
       "model_id": "07f0b474ca274f179eec4c6d0509f9e5",
       "version_major": 2,
       "version_minor": 0
      },
      "text/plain": [
       "  0%|          | 0/3031456 [00:00<?, ?it/s]"
      ]
     },
     "metadata": {},
     "output_type": "display_data"
    },
    {
     "name": "stdout",
     "output_type": "stream",
     "text": [
      "ESP_012031_1720/\n",
      "Downloading https://hirise-pds.lpl.arizona.edu/PDS/EXTRAS/RDR/ESP/ORB_012000_012099/ESP_012031_1720/ESP_012031_1720_RGB.NOMAP.browse.jpg to I:\\data\\mars\\ESP_012031_1720_RGB.NOMAP.browse.jpg\n"
     ]
    },
    {
     "data": {
      "application/vnd.jupyter.widget-view+json": {
       "model_id": "6e5178d09a0141a4ae09ab8669914a6d",
       "version_major": 2,
       "version_minor": 0
      },
      "text/plain": [
       "  0%|          | 0/1593785 [00:00<?, ?it/s]"
      ]
     },
     "metadata": {},
     "output_type": "display_data"
    },
    {
     "name": "stdout",
     "output_type": "stream",
     "text": [
      "ESP_012036_2125/\n",
      "Downloading https://hirise-pds.lpl.arizona.edu/PDS/EXTRAS/RDR/ESP/ORB_012000_012099/ESP_012036_2125/ESP_012036_2125_RGB.NOMAP.browse.jpg to I:\\data\\mars\\ESP_012036_2125_RGB.NOMAP.browse.jpg\n"
     ]
    },
    {
     "data": {
      "application/vnd.jupyter.widget-view+json": {
       "model_id": "cd771f6ef669488092acf366e793e886",
       "version_major": 2,
       "version_minor": 0
      },
      "text/plain": [
       "  0%|          | 0/796802 [00:00<?, ?it/s]"
      ]
     },
     "metadata": {},
     "output_type": "display_data"
    },
    {
     "name": "stdout",
     "output_type": "stream",
     "text": [
      "ESP_012038_0930/\n",
      "Downloading https://hirise-pds.lpl.arizona.edu/PDS/EXTRAS/RDR/ESP/ORB_012000_012099/ESP_012038_0930/ESP_012038_0930_RGB.NOMAP.browse.jpg to I:\\data\\mars\\ESP_012038_0930_RGB.NOMAP.browse.jpg\n"
     ]
    },
    {
     "data": {
      "application/vnd.jupyter.widget-view+json": {
       "model_id": "bf1f6b9bdcf240f9b59370654514cea2",
       "version_major": 2,
       "version_minor": 0
      },
      "text/plain": [
       "  0%|          | 0/1102485 [00:00<?, ?it/s]"
      ]
     },
     "metadata": {},
     "output_type": "display_data"
    },
    {
     "name": "stdout",
     "output_type": "stream",
     "text": [
      "ESP_012039_0980/\n",
      "Downloading https://hirise-pds.lpl.arizona.edu/PDS/EXTRAS/RDR/ESP/ORB_012000_012099/ESP_012039_0980/ESP_012039_0980_RGB.NOMAP.browse.jpg to I:\\data\\mars\\ESP_012039_0980_RGB.NOMAP.browse.jpg\n"
     ]
    },
    {
     "data": {
      "application/vnd.jupyter.widget-view+json": {
       "model_id": "452f459ca7764bd9820363034d2ff19f",
       "version_major": 2,
       "version_minor": 0
      },
      "text/plain": [
       "  0%|          | 0/1469658 [00:00<?, ?it/s]"
      ]
     },
     "metadata": {},
     "output_type": "display_data"
    },
    {
     "name": "stdout",
     "output_type": "stream",
     "text": [
      "ESP_012039_2010/\n",
      "Downloading https://hirise-pds.lpl.arizona.edu/PDS/EXTRAS/RDR/ESP/ORB_012000_012099/ESP_012039_2010/ESP_012039_2010_RGB.NOMAP.browse.jpg to I:\\data\\mars\\ESP_012039_2010_RGB.NOMAP.browse.jpg\n"
     ]
    },
    {
     "data": {
      "application/vnd.jupyter.widget-view+json": {
       "model_id": "8b97a36a982e499fb8d9ddbe992dd3b3",
       "version_major": 2,
       "version_minor": 0
      },
      "text/plain": [
       "  0%|          | 0/1434192 [00:00<?, ?it/s]"
      ]
     },
     "metadata": {},
     "output_type": "display_data"
    },
    {
     "name": "stdout",
     "output_type": "stream",
     "text": [
      "ESP_012041_1425/\n",
      "Downloading https://hirise-pds.lpl.arizona.edu/PDS/EXTRAS/RDR/ESP/ORB_012000_012099/ESP_012041_1425/ESP_012041_1425_RGB.NOMAP.browse.jpg to I:\\data\\mars\\ESP_012041_1425_RGB.NOMAP.browse.jpg\n"
     ]
    },
    {
     "data": {
      "application/vnd.jupyter.widget-view+json": {
       "model_id": "401f9c11ca3c42d0937b7e4f8979015e",
       "version_major": 2,
       "version_minor": 0
      },
      "text/plain": [
       "  0%|          | 0/1493249 [00:00<?, ?it/s]"
      ]
     },
     "metadata": {},
     "output_type": "display_data"
    },
    {
     "name": "stdout",
     "output_type": "stream",
     "text": [
      "ESP_012044_1665/\n",
      "Downloading https://hirise-pds.lpl.arizona.edu/PDS/EXTRAS/RDR/ESP/ORB_012000_012099/ESP_012044_1665/ESP_012044_1665_RGB.NOMAP.browse.jpg to I:\\data\\mars\\ESP_012044_1665_RGB.NOMAP.browse.jpg\n"
     ]
    },
    {
     "data": {
      "application/vnd.jupyter.widget-view+json": {
       "model_id": "eec0a012ce5a4bea8870bfd4bb8c1c61",
       "version_major": 2,
       "version_minor": 0
      },
      "text/plain": [
       "  0%|          | 0/614054 [00:00<?, ?it/s]"
      ]
     },
     "metadata": {},
     "output_type": "display_data"
    },
    {
     "name": "stdout",
     "output_type": "stream",
     "text": [
      "ESP_012047_1755/\n",
      "Downloading https://hirise-pds.lpl.arizona.edu/PDS/EXTRAS/RDR/ESP/ORB_012000_012099/ESP_012047_1755/ESP_012047_1755_RGB.NOMAP.browse.jpg to I:\\data\\mars\\ESP_012047_1755_RGB.NOMAP.browse.jpg\n"
     ]
    },
    {
     "data": {
      "application/vnd.jupyter.widget-view+json": {
       "model_id": "01042ab504954f6e95f8e465de86bfe6",
       "version_major": 2,
       "version_minor": 0
      },
      "text/plain": [
       "  0%|          | 0/610508 [00:00<?, ?it/s]"
      ]
     },
     "metadata": {},
     "output_type": "display_data"
    },
    {
     "name": "stdout",
     "output_type": "stream",
     "text": [
      "ESP_012052_2030/\n",
      "Downloading https://hirise-pds.lpl.arizona.edu/PDS/EXTRAS/RDR/ESP/ORB_012000_012099/ESP_012052_2030/ESP_012052_2030_RGB.NOMAP.browse.jpg to I:\\data\\mars\\ESP_012052_2030_RGB.NOMAP.browse.jpg\n"
     ]
    },
    {
     "data": {
      "application/vnd.jupyter.widget-view+json": {
       "model_id": "c878e005c4fa411b9cb414b732c5b56a",
       "version_major": 2,
       "version_minor": 0
      },
      "text/plain": [
       "  0%|          | 0/1159508 [00:00<?, ?it/s]"
      ]
     },
     "metadata": {},
     "output_type": "display_data"
    },
    {
     "name": "stdout",
     "output_type": "stream",
     "text": [
      "ESP_012053_0980/\n",
      "Downloading https://hirise-pds.lpl.arizona.edu/PDS/EXTRAS/RDR/ESP/ORB_012000_012099/ESP_012053_0980/ESP_012053_0980_RGB.NOMAP.browse.jpg to I:\\data\\mars\\ESP_012053_0980_RGB.NOMAP.browse.jpg\n"
     ]
    },
    {
     "data": {
      "application/vnd.jupyter.widget-view+json": {
       "model_id": "e00d12bf85f24360b1d06cfdccd63609",
       "version_major": 2,
       "version_minor": 0
      },
      "text/plain": [
       "  0%|          | 0/1366443 [00:00<?, ?it/s]"
      ]
     },
     "metadata": {},
     "output_type": "display_data"
    },
    {
     "name": "stdout",
     "output_type": "stream",
     "text": [
      "ESP_012057_0950/\n",
      "Downloading https://hirise-pds.lpl.arizona.edu/PDS/EXTRAS/RDR/ESP/ORB_012000_012099/ESP_012057_0950/ESP_012057_0950_RGB.NOMAP.browse.jpg to I:\\data\\mars\\ESP_012057_0950_RGB.NOMAP.browse.jpg\n"
     ]
    },
    {
     "data": {
      "application/vnd.jupyter.widget-view+json": {
       "model_id": "1ef15c63510a46b7ba601a78cdc2bdf9",
       "version_major": 2,
       "version_minor": 0
      },
      "text/plain": [
       "  0%|          | 0/962731 [00:00<?, ?it/s]"
      ]
     },
     "metadata": {},
     "output_type": "display_data"
    },
    {
     "name": "stdout",
     "output_type": "stream",
     "text": [
      "ESP_012060_1975/\n",
      "Downloading https://hirise-pds.lpl.arizona.edu/PDS/EXTRAS/RDR/ESP/ORB_012000_012099/ESP_012060_1975/ESP_012060_1975_RGB.NOMAP.browse.jpg to I:\\data\\mars\\ESP_012060_1975_RGB.NOMAP.browse.jpg\n"
     ]
    },
    {
     "data": {
      "application/vnd.jupyter.widget-view+json": {
       "model_id": "8cd879e06c984506a2be73baf10a487e",
       "version_major": 2,
       "version_minor": 0
      },
      "text/plain": [
       "  0%|          | 0/806062 [00:00<?, ?it/s]"
      ]
     },
     "metadata": {},
     "output_type": "display_data"
    },
    {
     "name": "stdout",
     "output_type": "stream",
     "text": [
      "ESP_012063_0945/\n",
      "Downloading https://hirise-pds.lpl.arizona.edu/PDS/EXTRAS/RDR/ESP/ORB_012000_012099/ESP_012063_0945/ESP_012063_0945_RGB.NOMAP.browse.jpg to I:\\data\\mars\\ESP_012063_0945_RGB.NOMAP.browse.jpg\n"
     ]
    },
    {
     "data": {
      "application/vnd.jupyter.widget-view+json": {
       "model_id": "bdc10e1fb0044173be4f5c43284e61d1",
       "version_major": 2,
       "version_minor": 0
      },
      "text/plain": [
       "  0%|          | 0/1444160 [00:00<?, ?it/s]"
      ]
     },
     "metadata": {},
     "output_type": "display_data"
    },
    {
     "name": "stdout",
     "output_type": "stream",
     "text": [
      "ESP_012075_1015/\n",
      "Downloading https://hirise-pds.lpl.arizona.edu/PDS/EXTRAS/RDR/ESP/ORB_012000_012099/ESP_012075_1015/ESP_012075_1015_RGB.NOMAP.browse.jpg to I:\\data\\mars\\ESP_012075_1015_RGB.NOMAP.browse.jpg\n"
     ]
    },
    {
     "data": {
      "application/vnd.jupyter.widget-view+json": {
       "model_id": "559c28b069444818a723e7b6adf34246",
       "version_major": 2,
       "version_minor": 0
      },
      "text/plain": [
       "  0%|          | 0/1164839 [00:00<?, ?it/s]"
      ]
     },
     "metadata": {},
     "output_type": "display_data"
    },
    {
     "name": "stdout",
     "output_type": "stream",
     "text": [
      "ESP_012076_0945/\n",
      "Downloading https://hirise-pds.lpl.arizona.edu/PDS/EXTRAS/RDR/ESP/ORB_012000_012099/ESP_012076_0945/ESP_012076_0945_RGB.NOMAP.browse.jpg to I:\\data\\mars\\ESP_012076_0945_RGB.NOMAP.browse.jpg\n"
     ]
    },
    {
     "data": {
      "application/vnd.jupyter.widget-view+json": {
       "model_id": "3541ed232eb74c20941d829b5bf02752",
       "version_major": 2,
       "version_minor": 0
      },
      "text/plain": [
       "  0%|          | 0/1437155 [00:00<?, ?it/s]"
      ]
     },
     "metadata": {},
     "output_type": "display_data"
    },
    {
     "name": "stdout",
     "output_type": "stream",
     "text": [
      "ESP_012077_0930/\n",
      "Downloading https://hirise-pds.lpl.arizona.edu/PDS/EXTRAS/RDR/ESP/ORB_012000_012099/ESP_012077_0930/ESP_012077_0930_RGB.NOMAP.browse.jpg to I:\\data\\mars\\ESP_012077_0930_RGB.NOMAP.browse.jpg\n"
     ]
    },
    {
     "data": {
      "application/vnd.jupyter.widget-view+json": {
       "model_id": "22b16a09b7744b99838490a167dfbdd2",
       "version_major": 2,
       "version_minor": 0
      },
      "text/plain": [
       "  0%|          | 0/1242140 [00:00<?, ?it/s]"
      ]
     },
     "metadata": {},
     "output_type": "display_data"
    },
    {
     "name": "stdout",
     "output_type": "stream",
     "text": [
      "ESP_012077_1640/\n",
      "Downloading https://hirise-pds.lpl.arizona.edu/PDS/EXTRAS/RDR/ESP/ORB_012000_012099/ESP_012077_1640/ESP_012077_1640_RGB.NOMAP.browse.jpg to I:\\data\\mars\\ESP_012077_1640_RGB.NOMAP.browse.jpg\n"
     ]
    },
    {
     "data": {
      "application/vnd.jupyter.widget-view+json": {
       "model_id": "5fa5ec51b3e94b6d9ee1fa4e8a87e260",
       "version_major": 2,
       "version_minor": 0
      },
      "text/plain": [
       "  0%|          | 0/359317 [00:00<?, ?it/s]"
      ]
     },
     "metadata": {},
     "output_type": "display_data"
    },
    {
     "name": "stdout",
     "output_type": "stream",
     "text": [
      "ESP_012079_0945/\n",
      "Downloading https://hirise-pds.lpl.arizona.edu/PDS/EXTRAS/RDR/ESP/ORB_012000_012099/ESP_012079_0945/ESP_012079_0945_RGB.NOMAP.browse.jpg to I:\\data\\mars\\ESP_012079_0945_RGB.NOMAP.browse.jpg\n"
     ]
    },
    {
     "data": {
      "application/vnd.jupyter.widget-view+json": {
       "model_id": "a5f2d052d7264bd987d43c6f1daa2abb",
       "version_major": 2,
       "version_minor": 0
      },
      "text/plain": [
       "  0%|          | 0/1916673 [00:00<?, ?it/s]"
      ]
     },
     "metadata": {},
     "output_type": "display_data"
    },
    {
     "name": "stdout",
     "output_type": "stream",
     "text": [
      "ESP_012079_1515/\n",
      "Downloading https://hirise-pds.lpl.arizona.edu/PDS/EXTRAS/RDR/ESP/ORB_012000_012099/ESP_012079_1515/ESP_012079_1515_RGB.NOMAP.browse.jpg to I:\\data\\mars\\ESP_012079_1515_RGB.NOMAP.browse.jpg\n"
     ]
    },
    {
     "data": {
      "application/vnd.jupyter.widget-view+json": {
       "model_id": "da77ae8e89a04a28baf0530ca68dec09",
       "version_major": 2,
       "version_minor": 0
      },
      "text/plain": [
       "  0%|          | 0/988033 [00:00<?, ?it/s]"
      ]
     },
     "metadata": {},
     "output_type": "display_data"
    },
    {
     "name": "stdout",
     "output_type": "stream",
     "text": [
      "ESP_012080_0990/\n",
      "Downloading https://hirise-pds.lpl.arizona.edu/PDS/EXTRAS/RDR/ESP/ORB_012000_012099/ESP_012080_0990/ESP_012080_0990_RGB.NOMAP.browse.jpg to I:\\data\\mars\\ESP_012080_0990_RGB.NOMAP.browse.jpg\n"
     ]
    },
    {
     "data": {
      "application/vnd.jupyter.widget-view+json": {
       "model_id": "ac24d8b583d1440ebc1899eac8096ef7",
       "version_major": 2,
       "version_minor": 0
      },
      "text/plain": [
       "  0%|          | 0/958655 [00:00<?, ?it/s]"
      ]
     },
     "metadata": {},
     "output_type": "display_data"
    },
    {
     "name": "stdout",
     "output_type": "stream",
     "text": [
      "ESP_012080_2245/\n",
      "Downloading https://hirise-pds.lpl.arizona.edu/PDS/EXTRAS/RDR/ESP/ORB_012000_012099/ESP_012080_2245/ESP_012080_2245_RGB.NOMAP.browse.jpg to I:\\data\\mars\\ESP_012080_2245_RGB.NOMAP.browse.jpg\n"
     ]
    },
    {
     "data": {
      "application/vnd.jupyter.widget-view+json": {
       "model_id": "173726a496094c6395142f49d653dbaa",
       "version_major": 2,
       "version_minor": 0
      },
      "text/plain": [
       "  0%|          | 0/1772102 [00:00<?, ?it/s]"
      ]
     },
     "metadata": {},
     "output_type": "display_data"
    },
    {
     "name": "stdout",
     "output_type": "stream",
     "text": [
      "ESP_012081_0930/\n",
      "Downloading https://hirise-pds.lpl.arizona.edu/PDS/EXTRAS/RDR/ESP/ORB_012000_012099/ESP_012081_0930/ESP_012081_0930_RGB.NOMAP.browse.jpg to I:\\data\\mars\\ESP_012081_0930_RGB.NOMAP.browse.jpg\n"
     ]
    },
    {
     "data": {
      "application/vnd.jupyter.widget-view+json": {
       "model_id": "37ba86d6aef4494983511955d20e9dd8",
       "version_major": 2,
       "version_minor": 0
      },
      "text/plain": [
       "  0%|          | 0/1410660 [00:00<?, ?it/s]"
      ]
     },
     "metadata": {},
     "output_type": "display_data"
    },
    {
     "name": "stdout",
     "output_type": "stream",
     "text": [
      "-------------------------------------------------- ORB_012100_012199/\n",
      "ESP_012195_1750/\n",
      "Downloading https://hirise-pds.lpl.arizona.edu/PDS/EXTRAS/RDR/ESP/ORB_012100_012199/ESP_012195_1750/ESP_012195_1750_RGB.NOMAP.browse.jpg to I:\\data\\mars\\ESP_012195_1750_RGB.NOMAP.browse.jpg\n"
     ]
    },
    {
     "data": {
      "application/vnd.jupyter.widget-view+json": {
       "model_id": "a79ae30dcfad4c0a9b92a2087e6c403c",
       "version_major": 2,
       "version_minor": 0
      },
      "text/plain": [
       "  0%|          | 0/2588842 [00:00<?, ?it/s]"
      ]
     },
     "metadata": {},
     "output_type": "display_data"
    },
    {
     "name": "stdout",
     "output_type": "stream",
     "text": [
      "ESP_012197_1505/\n",
      "Downloading https://hirise-pds.lpl.arizona.edu/PDS/EXTRAS/RDR/ESP/ORB_012100_012199/ESP_012197_1505/ESP_012197_1505_RGB.NOMAP.browse.jpg to I:\\data\\mars\\ESP_012197_1505_RGB.NOMAP.browse.jpg\n"
     ]
    },
    {
     "data": {
      "application/vnd.jupyter.widget-view+json": {
       "model_id": "aa712fea33f9488fbb6ac660076daf10",
       "version_major": 2,
       "version_minor": 0
      },
      "text/plain": [
       "  0%|          | 0/1720418 [00:00<?, ?it/s]"
      ]
     },
     "metadata": {},
     "output_type": "display_data"
    },
    {
     "name": "stdout",
     "output_type": "stream",
     "text": [
      "ESP_012198_0975/\n",
      "Downloading https://hirise-pds.lpl.arizona.edu/PDS/EXTRAS/RDR/ESP/ORB_012100_012199/ESP_012198_0975/ESP_012198_0975_RGB.NOMAP.browse.jpg to I:\\data\\mars\\ESP_012198_0975_RGB.NOMAP.browse.jpg\n"
     ]
    },
    {
     "data": {
      "application/vnd.jupyter.widget-view+json": {
       "model_id": "2d4b99616bfb41ddb735f6998048df99",
       "version_major": 2,
       "version_minor": 0
      },
      "text/plain": [
       "  0%|          | 0/3583092 [00:00<?, ?it/s]"
      ]
     },
     "metadata": {},
     "output_type": "display_data"
    },
    {
     "name": "stdout",
     "output_type": "stream",
     "text": [
      "ESP_012199_1810/\n",
      "Downloading https://hirise-pds.lpl.arizona.edu/PDS/EXTRAS/RDR/ESP/ORB_012100_012199/ESP_012199_1810/ESP_012199_1810_RGB.NOMAP.browse.jpg to I:\\data\\mars\\ESP_012199_1810_RGB.NOMAP.browse.jpg\n"
     ]
    },
    {
     "data": {
      "application/vnd.jupyter.widget-view+json": {
       "model_id": "d62de0b1436e4c2da922e7f8a101ac0f",
       "version_major": 2,
       "version_minor": 0
      },
      "text/plain": [
       "  0%|          | 0/1430270 [00:00<?, ?it/s]"
      ]
     },
     "metadata": {},
     "output_type": "display_data"
    },
    {
     "name": "stdout",
     "output_type": "stream",
     "text": [
      "-------------------------------------------------- ORB_012200_012299/\n",
      "ESP_012202_1390/\n",
      "Downloading https://hirise-pds.lpl.arizona.edu/PDS/EXTRAS/RDR/ESP/ORB_012200_012299/ESP_012202_1390/ESP_012202_1390_RGB.NOMAP.browse.jpg to I:\\data\\mars\\ESP_012202_1390_RGB.NOMAP.browse.jpg\n"
     ]
    },
    {
     "data": {
      "application/vnd.jupyter.widget-view+json": {
       "model_id": "6c0011681ed441a89818a3ab481feab8",
       "version_major": 2,
       "version_minor": 0
      },
      "text/plain": [
       "  0%|          | 0/1654190 [00:00<?, ?it/s]"
      ]
     },
     "metadata": {},
     "output_type": "display_data"
    },
    {
     "name": "stdout",
     "output_type": "stream",
     "text": [
      "ESP_012203_1800/\n",
      "Downloading https://hirise-pds.lpl.arizona.edu/PDS/EXTRAS/RDR/ESP/ORB_012200_012299/ESP_012203_1800/ESP_012203_1800_RGB.NOMAP.browse.jpg to I:\\data\\mars\\ESP_012203_1800_RGB.NOMAP.browse.jpg\n"
     ]
    },
    {
     "data": {
      "application/vnd.jupyter.widget-view+json": {
       "model_id": "6ec1064621bd4abc875fb612d8d8d87f",
       "version_major": 2,
       "version_minor": 0
      },
      "text/plain": [
       "  0%|          | 0/2362309 [00:00<?, ?it/s]"
      ]
     },
     "metadata": {},
     "output_type": "display_data"
    },
    {
     "name": "stdout",
     "output_type": "stream",
     "text": [
      "ESP_012206_1390/\n",
      "Downloading https://hirise-pds.lpl.arizona.edu/PDS/EXTRAS/RDR/ESP/ORB_012200_012299/ESP_012206_1390/ESP_012206_1390_RGB.NOMAP.browse.jpg to I:\\data\\mars\\ESP_012206_1390_RGB.NOMAP.browse.jpg\n"
     ]
    },
    {
     "data": {
      "application/vnd.jupyter.widget-view+json": {
       "model_id": "d065a4e8913a46489049f2ae44fb41c3",
       "version_major": 2,
       "version_minor": 0
      },
      "text/plain": [
       "  0%|          | 0/2158941 [00:00<?, ?it/s]"
      ]
     },
     "metadata": {},
     "output_type": "display_data"
    },
    {
     "name": "stdout",
     "output_type": "stream",
     "text": [
      "ESP_012208_1915/\n",
      "Downloading https://hirise-pds.lpl.arizona.edu/PDS/EXTRAS/RDR/ESP/ORB_012200_012299/ESP_012208_1915/ESP_012208_1915_RGB.NOMAP.browse.jpg to I:\\data\\mars\\ESP_012208_1915_RGB.NOMAP.browse.jpg\n"
     ]
    },
    {
     "data": {
      "application/vnd.jupyter.widget-view+json": {
       "model_id": "48b3967a7c1b44ccbf98f55888837bfa",
       "version_major": 2,
       "version_minor": 0
      },
      "text/plain": [
       "  0%|          | 0/2263572 [00:00<?, ?it/s]"
      ]
     },
     "metadata": {},
     "output_type": "display_data"
    },
    {
     "name": "stdout",
     "output_type": "stream",
     "text": [
      "ESP_012211_0930/\n",
      "Downloading https://hirise-pds.lpl.arizona.edu/PDS/EXTRAS/RDR/ESP/ORB_012200_012299/ESP_012211_0930/ESP_012211_0930_RGB.NOMAP.browse.jpg to I:\\data\\mars\\ESP_012211_0930_RGB.NOMAP.browse.jpg\n"
     ]
    },
    {
     "data": {
      "application/vnd.jupyter.widget-view+json": {
       "model_id": "333ef5ce9da847e6905d608a1f6e8cc5",
       "version_major": 2,
       "version_minor": 0
      },
      "text/plain": [
       "  0%|          | 0/1699931 [00:00<?, ?it/s]"
      ]
     },
     "metadata": {},
     "output_type": "display_data"
    },
    {
     "name": "stdout",
     "output_type": "stream",
     "text": [
      "ESP_012212_0950/\n",
      "Downloading https://hirise-pds.lpl.arizona.edu/PDS/EXTRAS/RDR/ESP/ORB_012200_012299/ESP_012212_0950/ESP_012212_0950_RGB.NOMAP.browse.jpg to I:\\data\\mars\\ESP_012212_0950_RGB.NOMAP.browse.jpg\n"
     ]
    },
    {
     "data": {
      "application/vnd.jupyter.widget-view+json": {
       "model_id": "e6d18c6f3b0847bbbeff329bfc034839",
       "version_major": 2,
       "version_minor": 0
      },
      "text/plain": [
       "  0%|          | 0/1700866 [00:00<?, ?it/s]"
      ]
     },
     "metadata": {},
     "output_type": "display_data"
    },
    {
     "name": "stdout",
     "output_type": "stream",
     "text": [
      "ESP_012213_1255/\n",
      "Downloading https://hirise-pds.lpl.arizona.edu/PDS/EXTRAS/RDR/ESP/ORB_012200_012299/ESP_012213_1255/ESP_012213_1255_RGB.NOMAP.browse.jpg to I:\\data\\mars\\ESP_012213_1255_RGB.NOMAP.browse.jpg\n"
     ]
    },
    {
     "data": {
      "application/vnd.jupyter.widget-view+json": {
       "model_id": "d00f83c7f0204ca5acfe3e8821336b3b",
       "version_major": 2,
       "version_minor": 0
      },
      "text/plain": [
       "  0%|          | 0/806954 [00:00<?, ?it/s]"
      ]
     },
     "metadata": {},
     "output_type": "display_data"
    },
    {
     "name": "stdout",
     "output_type": "stream",
     "text": [
      "ESP_012214_1970/\n",
      "Downloading https://hirise-pds.lpl.arizona.edu/PDS/EXTRAS/RDR/ESP/ORB_012200_012299/ESP_012214_1970/ESP_012214_1970_RGB.NOMAP.browse.jpg to I:\\data\\mars\\ESP_012214_1970_RGB.NOMAP.browse.jpg\n"
     ]
    },
    {
     "data": {
      "application/vnd.jupyter.widget-view+json": {
       "model_id": "3f04e26fa8b74db3894ca6fc07ef0cca",
       "version_major": 2,
       "version_minor": 0
      },
      "text/plain": [
       "  0%|          | 0/1288340 [00:00<?, ?it/s]"
      ]
     },
     "metadata": {},
     "output_type": "display_data"
    },
    {
     "name": "stdout",
     "output_type": "stream",
     "text": [
      "ESP_012215_0935/\n",
      "Downloading https://hirise-pds.lpl.arizona.edu/PDS/EXTRAS/RDR/ESP/ORB_012200_012299/ESP_012215_0935/ESP_012215_0935_RGB.NOMAP.browse.jpg to I:\\data\\mars\\ESP_012215_0935_RGB.NOMAP.browse.jpg\n"
     ]
    },
    {
     "data": {
      "application/vnd.jupyter.widget-view+json": {
       "model_id": "441d8b0aa30641a380d627c691976730",
       "version_major": 2,
       "version_minor": 0
      },
      "text/plain": [
       "  0%|          | 0/1274224 [00:00<?, ?it/s]"
      ]
     },
     "metadata": {},
     "output_type": "display_data"
    },
    {
     "name": "stdout",
     "output_type": "stream",
     "text": [
      "ESP_012215_1615/\n",
      "Downloading https://hirise-pds.lpl.arizona.edu/PDS/EXTRAS/RDR/ESP/ORB_012200_012299/ESP_012215_1615/ESP_012215_1615_RGB.NOMAP.browse.jpg to I:\\data\\mars\\ESP_012215_1615_RGB.NOMAP.browse.jpg\n"
     ]
    },
    {
     "data": {
      "application/vnd.jupyter.widget-view+json": {
       "model_id": "4135138705454af291297c98d3a10963",
       "version_major": 2,
       "version_minor": 0
      },
      "text/plain": [
       "  0%|          | 0/2762047 [00:00<?, ?it/s]"
      ]
     },
     "metadata": {},
     "output_type": "display_data"
    },
    {
     "name": "stdout",
     "output_type": "stream",
     "text": [
      "ESP_012216_1705/\n",
      "Downloading https://hirise-pds.lpl.arizona.edu/PDS/EXTRAS/RDR/ESP/ORB_012200_012299/ESP_012216_1705/ESP_012216_1705_RGB.NOMAP.browse.jpg to I:\\data\\mars\\ESP_012216_1705_RGB.NOMAP.browse.jpg\n"
     ]
    },
    {
     "data": {
      "application/vnd.jupyter.widget-view+json": {
       "model_id": "cc28280c4a744d749d7febfec93fdb1a",
       "version_major": 2,
       "version_minor": 0
      },
      "text/plain": [
       "  0%|          | 0/1478440 [00:00<?, ?it/s]"
      ]
     },
     "metadata": {},
     "output_type": "display_data"
    },
    {
     "name": "stdout",
     "output_type": "stream",
     "text": [
      "ESP_012220_2255/\n",
      "Downloading https://hirise-pds.lpl.arizona.edu/PDS/EXTRAS/RDR/ESP/ORB_012200_012299/ESP_012220_2255/ESP_012220_2255_RGB.NOMAP.browse.jpg to I:\\data\\mars\\ESP_012220_2255_RGB.NOMAP.browse.jpg\n"
     ]
    },
    {
     "data": {
      "application/vnd.jupyter.widget-view+json": {
       "model_id": "016a24399dd84cb9972cb6441980e097",
       "version_major": 2,
       "version_minor": 0
      },
      "text/plain": [
       "  0%|          | 0/704250 [00:00<?, ?it/s]"
      ]
     },
     "metadata": {},
     "output_type": "display_data"
    },
    {
     "name": "stdout",
     "output_type": "stream",
     "text": [
      "ESP_012222_1470/\n",
      "Downloading https://hirise-pds.lpl.arizona.edu/PDS/EXTRAS/RDR/ESP/ORB_012200_012299/ESP_012222_1470/ESP_012222_1470_RGB.NOMAP.browse.jpg to I:\\data\\mars\\ESP_012222_1470_RGB.NOMAP.browse.jpg\n"
     ]
    },
    {
     "data": {
      "application/vnd.jupyter.widget-view+json": {
       "model_id": "8dabd30451764b3fa1de178504036356",
       "version_major": 2,
       "version_minor": 0
      },
      "text/plain": [
       "  0%|          | 0/605731 [00:00<?, ?it/s]"
      ]
     },
     "metadata": {},
     "output_type": "display_data"
    },
    {
     "name": "stdout",
     "output_type": "stream",
     "text": [
      "ESP_012225_0980/\n",
      "Downloading https://hirise-pds.lpl.arizona.edu/PDS/EXTRAS/RDR/ESP/ORB_012200_012299/ESP_012225_0980/ESP_012225_0980_RGB.NOMAP.browse.jpg to I:\\data\\mars\\ESP_012225_0980_RGB.NOMAP.browse.jpg\n"
     ]
    },
    {
     "data": {
      "application/vnd.jupyter.widget-view+json": {
       "model_id": "31746b6741364133a6afe29c0440fc73",
       "version_major": 2,
       "version_minor": 0
      },
      "text/plain": [
       "  0%|          | 0/2626359 [00:00<?, ?it/s]"
      ]
     },
     "metadata": {},
     "output_type": "display_data"
    },
    {
     "name": "stdout",
     "output_type": "stream",
     "text": [
      "ESP_012226_1815/\n",
      "Downloading https://hirise-pds.lpl.arizona.edu/PDS/EXTRAS/RDR/ESP/ORB_012200_012299/ESP_012226_1815/ESP_012226_1815_RGB.NOMAP.browse.jpg to I:\\data\\mars\\ESP_012226_1815_RGB.NOMAP.browse.jpg\n"
     ]
    },
    {
     "data": {
      "application/vnd.jupyter.widget-view+json": {
       "model_id": "ff9f0f5f06af43a0a9a4f81ed18872ab",
       "version_major": 2,
       "version_minor": 0
      },
      "text/plain": [
       "  0%|          | 0/1025224 [00:00<?, ?it/s]"
      ]
     },
     "metadata": {},
     "output_type": "display_data"
    },
    {
     "name": "stdout",
     "output_type": "stream",
     "text": [
      "ESP_012227_0980/\n",
      "Downloading https://hirise-pds.lpl.arizona.edu/PDS/EXTRAS/RDR/ESP/ORB_012200_012299/ESP_012227_0980/ESP_012227_0980_RGB.NOMAP.browse.jpg to I:\\data\\mars\\ESP_012227_0980_RGB.NOMAP.browse.jpg\n"
     ]
    },
    {
     "data": {
      "application/vnd.jupyter.widget-view+json": {
       "model_id": "cac3ab1c55404284bad4ba596d7f92b9",
       "version_major": 2,
       "version_minor": 0
      },
      "text/plain": [
       "  0%|          | 0/1341156 [00:00<?, ?it/s]"
      ]
     },
     "metadata": {},
     "output_type": "display_data"
    },
    {
     "name": "stdout",
     "output_type": "stream",
     "text": [
      "ESP_012227_2045/\n",
      "Downloading https://hirise-pds.lpl.arizona.edu/PDS/EXTRAS/RDR/ESP/ORB_012200_012299/ESP_012227_2045/ESP_012227_2045_RGB.NOMAP.browse.jpg to I:\\data\\mars\\ESP_012227_2045_RGB.NOMAP.browse.jpg\n"
     ]
    },
    {
     "data": {
      "application/vnd.jupyter.widget-view+json": {
       "model_id": "42641d24b6b1411f8fad0f7da7763ab0",
       "version_major": 2,
       "version_minor": 0
      },
      "text/plain": [
       "  0%|          | 0/1762198 [00:00<?, ?it/s]"
      ]
     },
     "metadata": {},
     "output_type": "display_data"
    },
    {
     "name": "stdout",
     "output_type": "stream",
     "text": [
      "ESP_012228_1920/\n",
      "Downloading https://hirise-pds.lpl.arizona.edu/PDS/EXTRAS/RDR/ESP/ORB_012200_012299/ESP_012228_1920/ESP_012228_1920_RGB.NOMAP.browse.jpg to I:\\data\\mars\\ESP_012228_1920_RGB.NOMAP.browse.jpg\n"
     ]
    },
    {
     "data": {
      "application/vnd.jupyter.widget-view+json": {
       "model_id": "2054c81ac8bb4eafbd3e07f519f132ab",
       "version_major": 2,
       "version_minor": 0
      },
      "text/plain": [
       "  0%|          | 0/1112028 [00:00<?, ?it/s]"
      ]
     },
     "metadata": {},
     "output_type": "display_data"
    },
    {
     "name": "stdout",
     "output_type": "stream",
     "text": [
      "ESP_012229_1735/\n",
      "Downloading https://hirise-pds.lpl.arizona.edu/PDS/EXTRAS/RDR/ESP/ORB_012200_012299/ESP_012229_1735/ESP_012229_1735_RGB.NOMAP.browse.jpg to I:\\data\\mars\\ESP_012229_1735_RGB.NOMAP.browse.jpg\n"
     ]
    },
    {
     "data": {
      "application/vnd.jupyter.widget-view+json": {
       "model_id": "45fe8ebdc573484bb0d31ed1a32d8263",
       "version_major": 2,
       "version_minor": 0
      },
      "text/plain": [
       "  0%|          | 0/1089847 [00:00<?, ?it/s]"
      ]
     },
     "metadata": {},
     "output_type": "display_data"
    },
    {
     "name": "stdout",
     "output_type": "stream",
     "text": [
      "ESP_012234_1135/\n",
      "Downloading https://hirise-pds.lpl.arizona.edu/PDS/EXTRAS/RDR/ESP/ORB_012200_012299/ESP_012234_1135/ESP_012234_1135_RGB.NOMAP.browse.jpg to I:\\data\\mars\\ESP_012234_1135_RGB.NOMAP.browse.jpg\n"
     ]
    },
    {
     "data": {
      "application/vnd.jupyter.widget-view+json": {
       "model_id": "e813113107da4289ac55375d90e4ea3b",
       "version_major": 2,
       "version_minor": 0
      },
      "text/plain": [
       "  0%|          | 0/751279 [00:00<?, ?it/s]"
      ]
     },
     "metadata": {},
     "output_type": "display_data"
    },
    {
     "name": "stdout",
     "output_type": "stream",
     "text": [
      "ESP_012234_1820/\n",
      "Downloading https://hirise-pds.lpl.arizona.edu/PDS/EXTRAS/RDR/ESP/ORB_012200_012299/ESP_012234_1820/ESP_012234_1820_RGB.NOMAP.browse.jpg to I:\\data\\mars\\ESP_012234_1820_RGB.NOMAP.browse.jpg\n"
     ]
    },
    {
     "data": {
      "application/vnd.jupyter.widget-view+json": {
       "model_id": "7487a398e6fc42bda5780b9aadfa28d9",
       "version_major": 2,
       "version_minor": 0
      },
      "text/plain": [
       "  0%|          | 0/577786 [00:00<?, ?it/s]"
      ]
     },
     "metadata": {},
     "output_type": "display_data"
    },
    {
     "name": "stdout",
     "output_type": "stream",
     "text": [
      "ESP_012236_1005/\n",
      "Downloading https://hirise-pds.lpl.arizona.edu/PDS/EXTRAS/RDR/ESP/ORB_012200_012299/ESP_012236_1005/ESP_012236_1005_RGB.NOMAP.browse.jpg to I:\\data\\mars\\ESP_012236_1005_RGB.NOMAP.browse.jpg\n"
     ]
    },
    {
     "data": {
      "application/vnd.jupyter.widget-view+json": {
       "model_id": "64c55a092e574cdfa97e564f96539da8",
       "version_major": 2,
       "version_minor": 0
      },
      "text/plain": [
       "  0%|          | 0/1087202 [00:00<?, ?it/s]"
      ]
     },
     "metadata": {},
     "output_type": "display_data"
    },
    {
     "name": "stdout",
     "output_type": "stream",
     "text": [
      "ESP_012238_1315/\n",
      "Downloading https://hirise-pds.lpl.arizona.edu/PDS/EXTRAS/RDR/ESP/ORB_012200_012299/ESP_012238_1315/ESP_012238_1315_RGB.NOMAP.browse.jpg to I:\\data\\mars\\ESP_012238_1315_RGB.NOMAP.browse.jpg\n"
     ]
    },
    {
     "data": {
      "application/vnd.jupyter.widget-view+json": {
       "model_id": "15d48cfa05bf4dc8923c409bf1b853b5",
       "version_major": 2,
       "version_minor": 0
      },
      "text/plain": [
       "  0%|          | 0/1409716 [00:00<?, ?it/s]"
      ]
     },
     "metadata": {},
     "output_type": "display_data"
    },
    {
     "name": "stdout",
     "output_type": "stream",
     "text": [
      "ESP_012239_1330/\n",
      "Downloading https://hirise-pds.lpl.arizona.edu/PDS/EXTRAS/RDR/ESP/ORB_012200_012299/ESP_012239_1330/ESP_012239_1330_RGB.NOMAP.browse.jpg to I:\\data\\mars\\ESP_012239_1330_RGB.NOMAP.browse.jpg\n"
     ]
    },
    {
     "data": {
      "application/vnd.jupyter.widget-view+json": {
       "model_id": "b3dcba382424433985d50bc7fa221c63",
       "version_major": 2,
       "version_minor": 0
      },
      "text/plain": [
       "  0%|          | 0/1484079 [00:00<?, ?it/s]"
      ]
     },
     "metadata": {},
     "output_type": "display_data"
    },
    {
     "name": "stdout",
     "output_type": "stream",
     "text": [
      "ESP_012240_2045/\n",
      "Downloading https://hirise-pds.lpl.arizona.edu/PDS/EXTRAS/RDR/ESP/ORB_012200_012299/ESP_012240_2045/ESP_012240_2045_RGB.NOMAP.browse.jpg to I:\\data\\mars\\ESP_012240_2045_RGB.NOMAP.browse.jpg\n"
     ]
    },
    {
     "data": {
      "application/vnd.jupyter.widget-view+json": {
       "model_id": "20236a9f220e40c8a350807c42596415",
       "version_major": 2,
       "version_minor": 0
      },
      "text/plain": [
       "  0%|          | 0/1128861 [00:00<?, ?it/s]"
      ]
     },
     "metadata": {},
     "output_type": "display_data"
    },
    {
     "name": "stdout",
     "output_type": "stream",
     "text": [
      "ESP_012241_1440/\n",
      "Downloading https://hirise-pds.lpl.arizona.edu/PDS/EXTRAS/RDR/ESP/ORB_012200_012299/ESP_012241_1440/ESP_012241_1440_RGB.NOMAP.browse.jpg to I:\\data\\mars\\ESP_012241_1440_RGB.NOMAP.browse.jpg\n"
     ]
    },
    {
     "data": {
      "application/vnd.jupyter.widget-view+json": {
       "model_id": "1ff75e4a1db340018dd1cf5db73ec682",
       "version_major": 2,
       "version_minor": 0
      },
      "text/plain": [
       "  0%|          | 0/1200018 [00:00<?, ?it/s]"
      ]
     },
     "metadata": {},
     "output_type": "display_data"
    },
    {
     "name": "stdout",
     "output_type": "stream",
     "text": [
      "ESP_012242_1725/\n",
      "Downloading https://hirise-pds.lpl.arizona.edu/PDS/EXTRAS/RDR/ESP/ORB_012200_012299/ESP_012242_1725/ESP_012242_1725_RGB.NOMAP.browse.jpg to I:\\data\\mars\\ESP_012242_1725_RGB.NOMAP.browse.jpg\n"
     ]
    },
    {
     "data": {
      "application/vnd.jupyter.widget-view+json": {
       "model_id": "a8cdb4bc05a540978b1ac7e51c1c772e",
       "version_major": 2,
       "version_minor": 0
      },
      "text/plain": [
       "  0%|          | 0/1244153 [00:00<?, ?it/s]"
      ]
     },
     "metadata": {},
     "output_type": "display_data"
    },
    {
     "name": "stdout",
     "output_type": "stream",
     "text": [
      "ESP_012246_1425/\n",
      "Downloading https://hirise-pds.lpl.arizona.edu/PDS/EXTRAS/RDR/ESP/ORB_012200_012299/ESP_012246_1425/ESP_012246_1425_RGB.NOMAP.browse.jpg to I:\\data\\mars\\ESP_012246_1425_RGB.NOMAP.browse.jpg\n"
     ]
    },
    {
     "data": {
      "application/vnd.jupyter.widget-view+json": {
       "model_id": "8e4b9fa7d0824dfb95dbea2040f3f413",
       "version_major": 2,
       "version_minor": 0
      },
      "text/plain": [
       "  0%|          | 0/917967 [00:00<?, ?it/s]"
      ]
     },
     "metadata": {},
     "output_type": "display_data"
    },
    {
     "name": "stdout",
     "output_type": "stream",
     "text": [
      "ESP_012248_0965/\n",
      "Downloading https://hirise-pds.lpl.arizona.edu/PDS/EXTRAS/RDR/ESP/ORB_012200_012299/ESP_012248_0965/ESP_012248_0965_RGB.NOMAP.browse.jpg to I:\\data\\mars\\ESP_012248_0965_RGB.NOMAP.browse.jpg\n"
     ]
    },
    {
     "data": {
      "application/vnd.jupyter.widget-view+json": {
       "model_id": "e3e9a03e9a904375981f10e8fb11e9ed",
       "version_major": 2,
       "version_minor": 0
      },
      "text/plain": [
       "  0%|          | 0/3751505 [00:00<?, ?it/s]"
      ]
     },
     "metadata": {},
     "output_type": "display_data"
    },
    {
     "name": "stdout",
     "output_type": "stream",
     "text": [
      "ESP_012251_0935/\n",
      "Downloading https://hirise-pds.lpl.arizona.edu/PDS/EXTRAS/RDR/ESP/ORB_012200_012299/ESP_012251_0935/ESP_012251_0935_RGB.NOMAP.browse.jpg to I:\\data\\mars\\ESP_012251_0935_RGB.NOMAP.browse.jpg\n"
     ]
    },
    {
     "data": {
      "application/vnd.jupyter.widget-view+json": {
       "model_id": "caf050dcfbba45a5b7a5bf3ac3c60b86",
       "version_major": 2,
       "version_minor": 0
      },
      "text/plain": [
       "  0%|          | 0/1323315 [00:00<?, ?it/s]"
      ]
     },
     "metadata": {},
     "output_type": "display_data"
    },
    {
     "name": "stdout",
     "output_type": "stream",
     "text": [
      "ESP_012252_1245/\n",
      "Downloading https://hirise-pds.lpl.arizona.edu/PDS/EXTRAS/RDR/ESP/ORB_012200_012299/ESP_012252_1245/ESP_012252_1245_RGB.NOMAP.browse.jpg to I:\\data\\mars\\ESP_012252_1245_RGB.NOMAP.browse.jpg\n"
     ]
    },
    {
     "data": {
      "application/vnd.jupyter.widget-view+json": {
       "model_id": "eddad1df658b408e8af900cb7ea23fbe",
       "version_major": 2,
       "version_minor": 0
      },
      "text/plain": [
       "  0%|          | 0/1278462 [00:00<?, ?it/s]"
      ]
     },
     "metadata": {},
     "output_type": "display_data"
    },
    {
     "name": "stdout",
     "output_type": "stream",
     "text": [
      "ESP_012253_1780/\n",
      "Downloading https://hirise-pds.lpl.arizona.edu/PDS/EXTRAS/RDR/ESP/ORB_012200_012299/ESP_012253_1780/ESP_012253_1780_RGB.NOMAP.browse.jpg to I:\\data\\mars\\ESP_012253_1780_RGB.NOMAP.browse.jpg\n"
     ]
    },
    {
     "data": {
      "application/vnd.jupyter.widget-view+json": {
       "model_id": "92a2607730804b0583a7d84a856a209f",
       "version_major": 2,
       "version_minor": 0
      },
      "text/plain": [
       "  0%|          | 0/1081902 [00:00<?, ?it/s]"
      ]
     },
     "metadata": {},
     "output_type": "display_data"
    },
    {
     "name": "stdout",
     "output_type": "stream",
     "text": [
      "ESP_012254_1065/\n",
      "Downloading https://hirise-pds.lpl.arizona.edu/PDS/EXTRAS/RDR/ESP/ORB_012200_012299/ESP_012254_1065/ESP_012254_1065_RGB.NOMAP.browse.jpg to I:\\data\\mars\\ESP_012254_1065_RGB.NOMAP.browse.jpg\n"
     ]
    },
    {
     "data": {
      "application/vnd.jupyter.widget-view+json": {
       "model_id": "ed03ceb408214543ab66287832aa0e23",
       "version_major": 2,
       "version_minor": 0
      },
      "text/plain": [
       "  0%|          | 0/1616121 [00:00<?, ?it/s]"
      ]
     },
     "metadata": {},
     "output_type": "display_data"
    },
    {
     "name": "stdout",
     "output_type": "stream",
     "text": [
      "ESP_012255_1755/\n",
      "Downloading https://hirise-pds.lpl.arizona.edu/PDS/EXTRAS/RDR/ESP/ORB_012200_012299/ESP_012255_1755/ESP_012255_1755_RGB.NOMAP.browse.jpg to I:\\data\\mars\\ESP_012255_1755_RGB.NOMAP.browse.jpg\n"
     ]
    },
    {
     "data": {
      "application/vnd.jupyter.widget-view+json": {
       "model_id": "4e0f8007ff384b298e5be16d6f5c04ad",
       "version_major": 2,
       "version_minor": 0
      },
      "text/plain": [
       "  0%|          | 0/1387586 [00:00<?, ?it/s]"
      ]
     },
     "metadata": {},
     "output_type": "display_data"
    },
    {
     "name": "stdout",
     "output_type": "stream",
     "text": [
      "ESP_012256_0985/\n",
      "Downloading https://hirise-pds.lpl.arizona.edu/PDS/EXTRAS/RDR/ESP/ORB_012200_012299/ESP_012256_0985/ESP_012256_0985_RGB.NOMAP.browse.jpg to I:\\data\\mars\\ESP_012256_0985_RGB.NOMAP.browse.jpg\n"
     ]
    },
    {
     "data": {
      "application/vnd.jupyter.widget-view+json": {
       "model_id": "ddbfe2e76dcc46dcb3cbe5787c091dbd",
       "version_major": 2,
       "version_minor": 0
      },
      "text/plain": [
       "  0%|          | 0/1337685 [00:00<?, ?it/s]"
      ]
     },
     "metadata": {},
     "output_type": "display_data"
    },
    {
     "name": "stdout",
     "output_type": "stream",
     "text": [
      "ESP_012258_2080/\n",
      "Downloading https://hirise-pds.lpl.arizona.edu/PDS/EXTRAS/RDR/ESP/ORB_012200_012299/ESP_012258_2080/ESP_012258_2080_RGB.NOMAP.browse.jpg to I:\\data\\mars\\ESP_012258_2080_RGB.NOMAP.browse.jpg\n"
     ]
    },
    {
     "data": {
      "application/vnd.jupyter.widget-view+json": {
       "model_id": "b39bc73f9aea432b8de25127b7f86891",
       "version_major": 2,
       "version_minor": 0
      },
      "text/plain": [
       "  0%|          | 0/849184 [00:00<?, ?it/s]"
      ]
     },
     "metadata": {},
     "output_type": "display_data"
    },
    {
     "name": "stdout",
     "output_type": "stream",
     "text": [
      "ESP_012260_1875/\n",
      "Downloading https://hirise-pds.lpl.arizona.edu/PDS/EXTRAS/RDR/ESP/ORB_012200_012299/ESP_012260_1875/ESP_012260_1875_RGB.NOMAP.browse.jpg to I:\\data\\mars\\ESP_012260_1875_RGB.NOMAP.browse.jpg\n"
     ]
    },
    {
     "data": {
      "application/vnd.jupyter.widget-view+json": {
       "model_id": "00925d49e6094654bc202084b48302fe",
       "version_major": 2,
       "version_minor": 0
      },
      "text/plain": [
       "  0%|          | 0/812727 [00:00<?, ?it/s]"
      ]
     },
     "metadata": {},
     "output_type": "display_data"
    },
    {
     "name": "stdout",
     "output_type": "stream",
     "text": [
      "ESP_012262_2155/\n",
      "Downloading https://hirise-pds.lpl.arizona.edu/PDS/EXTRAS/RDR/ESP/ORB_012200_012299/ESP_012262_2155/ESP_012262_2155_RGB.NOMAP.browse.jpg to I:\\data\\mars\\ESP_012262_2155_RGB.NOMAP.browse.jpg\n"
     ]
    },
    {
     "data": {
      "application/vnd.jupyter.widget-view+json": {
       "model_id": "20c54b5a9613421b93a3497ec82b55c3",
       "version_major": 2,
       "version_minor": 0
      },
      "text/plain": [
       "  0%|          | 0/1144037 [00:00<?, ?it/s]"
      ]
     },
     "metadata": {},
     "output_type": "display_data"
    },
    {
     "name": "stdout",
     "output_type": "stream",
     "text": [
      "ESP_012263_0980/\n",
      "Downloading https://hirise-pds.lpl.arizona.edu/PDS/EXTRAS/RDR/ESP/ORB_012200_012299/ESP_012263_0980/ESP_012263_0980_RGB.NOMAP.browse.jpg to I:\\data\\mars\\ESP_012263_0980_RGB.NOMAP.browse.jpg\n"
     ]
    },
    {
     "data": {
      "application/vnd.jupyter.widget-view+json": {
       "model_id": "7576fea3e66148bf8652aebcd6ebab1a",
       "version_major": 2,
       "version_minor": 0
      },
      "text/plain": [
       "  0%|          | 0/3330418 [00:00<?, ?it/s]"
      ]
     },
     "metadata": {},
     "output_type": "display_data"
    },
    {
     "name": "stdout",
     "output_type": "stream",
     "text": [
      "ESP_012264_0980/\n",
      "Downloading https://hirise-pds.lpl.arizona.edu/PDS/EXTRAS/RDR/ESP/ORB_012200_012299/ESP_012264_0980/ESP_012264_0980_RGB.NOMAP.browse.jpg to I:\\data\\mars\\ESP_012264_0980_RGB.NOMAP.browse.jpg\n"
     ]
    },
    {
     "data": {
      "application/vnd.jupyter.widget-view+json": {
       "model_id": "2700eaf4d71848dd99786a8ed912cee3",
       "version_major": 2,
       "version_minor": 0
      },
      "text/plain": [
       "  0%|          | 0/1422155 [00:00<?, ?it/s]"
      ]
     },
     "metadata": {},
     "output_type": "display_data"
    },
    {
     "name": "stdout",
     "output_type": "stream",
     "text": [
      "ESP_012265_0950/\n",
      "Downloading https://hirise-pds.lpl.arizona.edu/PDS/EXTRAS/RDR/ESP/ORB_012200_012299/ESP_012265_0950/ESP_012265_0950_RGB.NOMAP.browse.jpg to I:\\data\\mars\\ESP_012265_0950_RGB.NOMAP.browse.jpg\n"
     ]
    },
    {
     "data": {
      "application/vnd.jupyter.widget-view+json": {
       "model_id": "4b7740d1866746c190e3a29944b06f2b",
       "version_major": 2,
       "version_minor": 0
      },
      "text/plain": [
       "  0%|          | 0/1498707 [00:00<?, ?it/s]"
      ]
     },
     "metadata": {},
     "output_type": "display_data"
    },
    {
     "name": "stdout",
     "output_type": "stream",
     "text": [
      "ESP_012266_1300/\n",
      "Downloading https://hirise-pds.lpl.arizona.edu/PDS/EXTRAS/RDR/ESP/ORB_012200_012299/ESP_012266_1300/ESP_012266_1300_RGB.NOMAP.browse.jpg to I:\\data\\mars\\ESP_012266_1300_RGB.NOMAP.browse.jpg\n"
     ]
    },
    {
     "data": {
      "application/vnd.jupyter.widget-view+json": {
       "model_id": "c35f760f4b9e47bdb2b3dc9714e01766",
       "version_major": 2,
       "version_minor": 0
      },
      "text/plain": [
       "  0%|          | 0/582666 [00:00<?, ?it/s]"
      ]
     },
     "metadata": {},
     "output_type": "display_data"
    },
    {
     "name": "stdout",
     "output_type": "stream",
     "text": [
      "ESP_012267_1760/\n",
      "Downloading https://hirise-pds.lpl.arizona.edu/PDS/EXTRAS/RDR/ESP/ORB_012200_012299/ESP_012267_1760/ESP_012267_1760_RGB.NOMAP.browse.jpg to I:\\data\\mars\\ESP_012267_1760_RGB.NOMAP.browse.jpg\n"
     ]
    },
    {
     "data": {
      "application/vnd.jupyter.widget-view+json": {
       "model_id": "0b0f9fb9ab3f4ddd97bba0404e9d09af",
       "version_major": 2,
       "version_minor": 0
      },
      "text/plain": [
       "  0%|          | 0/625377 [00:00<?, ?it/s]"
      ]
     },
     "metadata": {},
     "output_type": "display_data"
    },
    {
     "name": "stdout",
     "output_type": "stream",
     "text": [
      "ESP_012268_0930/\n",
      "Downloading https://hirise-pds.lpl.arizona.edu/PDS/EXTRAS/RDR/ESP/ORB_012200_012299/ESP_012268_0930/ESP_012268_0930_RGB.NOMAP.browse.jpg to I:\\data\\mars\\ESP_012268_0930_RGB.NOMAP.browse.jpg\n"
     ]
    },
    {
     "data": {
      "application/vnd.jupyter.widget-view+json": {
       "model_id": "97a0bb55f61f4a6bbf44113f97a65a7b",
       "version_major": 2,
       "version_minor": 0
      },
      "text/plain": [
       "  0%|          | 0/1217164 [00:00<?, ?it/s]"
      ]
     },
     "metadata": {},
     "output_type": "display_data"
    },
    {
     "name": "stdout",
     "output_type": "stream",
     "text": [
      "ESP_012269_0925/\n",
      "Downloading https://hirise-pds.lpl.arizona.edu/PDS/EXTRAS/RDR/ESP/ORB_012200_012299/ESP_012269_0925/ESP_012269_0925_RGB.NOMAP.browse.jpg to I:\\data\\mars\\ESP_012269_0925_RGB.NOMAP.browse.jpg\n"
     ]
    },
    {
     "data": {
      "application/vnd.jupyter.widget-view+json": {
       "model_id": "2013745c254f42ecbe4cb4910e944b51",
       "version_major": 2,
       "version_minor": 0
      },
      "text/plain": [
       "  0%|          | 0/884135 [00:00<?, ?it/s]"
      ]
     },
     "metadata": {},
     "output_type": "display_data"
    },
    {
     "name": "stdout",
     "output_type": "stream",
     "text": [
      "ESP_012269_1720/\n",
      "Downloading https://hirise-pds.lpl.arizona.edu/PDS/EXTRAS/RDR/ESP/ORB_012200_012299/ESP_012269_1720/ESP_012269_1720_RGB.NOMAP.browse.jpg to I:\\data\\mars\\ESP_012269_1720_RGB.NOMAP.browse.jpg\n"
     ]
    },
    {
     "data": {
      "application/vnd.jupyter.widget-view+json": {
       "model_id": "b9231813422a469fbc62eba083a5d174",
       "version_major": 2,
       "version_minor": 0
      },
      "text/plain": [
       "  0%|          | 0/471524 [00:00<?, ?it/s]"
      ]
     },
     "metadata": {},
     "output_type": "display_data"
    },
    {
     "name": "stdout",
     "output_type": "stream",
     "text": [
      "ESP_012270_2035/\n",
      "Downloading https://hirise-pds.lpl.arizona.edu/PDS/EXTRAS/RDR/ESP/ORB_012200_012299/ESP_012270_2035/ESP_012270_2035_RGB.NOMAP.browse.jpg to I:\\data\\mars\\ESP_012270_2035_RGB.NOMAP.browse.jpg\n"
     ]
    },
    {
     "data": {
      "application/vnd.jupyter.widget-view+json": {
       "model_id": "77aa1abdc47e4313b058f0569ecaf1ef",
       "version_major": 2,
       "version_minor": 0
      },
      "text/plain": [
       "  0%|          | 0/879819 [00:00<?, ?it/s]"
      ]
     },
     "metadata": {},
     "output_type": "display_data"
    },
    {
     "name": "stdout",
     "output_type": "stream",
     "text": [
      "ESP_012271_0940/\n",
      "Downloading https://hirise-pds.lpl.arizona.edu/PDS/EXTRAS/RDR/ESP/ORB_012200_012299/ESP_012271_0940/ESP_012271_0940_RGB.NOMAP.browse.jpg to I:\\data\\mars\\ESP_012271_0940_RGB.NOMAP.browse.jpg\n"
     ]
    },
    {
     "data": {
      "application/vnd.jupyter.widget-view+json": {
       "model_id": "1829a436826a43ccb004beed0bfdff53",
       "version_major": 2,
       "version_minor": 0
      },
      "text/plain": [
       "  0%|          | 0/1153376 [00:00<?, ?it/s]"
      ]
     },
     "metadata": {},
     "output_type": "display_data"
    },
    {
     "name": "stdout",
     "output_type": "stream",
     "text": [
      "ESP_012272_1390/\n",
      "Downloading https://hirise-pds.lpl.arizona.edu/PDS/EXTRAS/RDR/ESP/ORB_012200_012299/ESP_012272_1390/ESP_012272_1390_RGB.NOMAP.browse.jpg to I:\\data\\mars\\ESP_012272_1390_RGB.NOMAP.browse.jpg\n"
     ]
    },
    {
     "data": {
      "application/vnd.jupyter.widget-view+json": {
       "model_id": "5a6e4cb4ff434cf6999e1176ff402127",
       "version_major": 2,
       "version_minor": 0
      },
      "text/plain": [
       "  0%|          | 0/481730 [00:00<?, ?it/s]"
      ]
     },
     "metadata": {},
     "output_type": "display_data"
    },
    {
     "name": "stdout",
     "output_type": "stream",
     "text": [
      "ESP_012273_1080/\n",
      "Downloading https://hirise-pds.lpl.arizona.edu/PDS/EXTRAS/RDR/ESP/ORB_012200_012299/ESP_012273_1080/ESP_012273_1080_RGB.NOMAP.browse.jpg to I:\\data\\mars\\ESP_012273_1080_RGB.NOMAP.browse.jpg\n"
     ]
    },
    {
     "data": {
      "application/vnd.jupyter.widget-view+json": {
       "model_id": "7dbde493c3cb47c8bd6008f3ac2cce80",
       "version_major": 2,
       "version_minor": 0
      },
      "text/plain": [
       "  0%|          | 0/691960 [00:00<?, ?it/s]"
      ]
     },
     "metadata": {},
     "output_type": "display_data"
    },
    {
     "name": "stdout",
     "output_type": "stream",
     "text": [
      "ESP_012274_2125/\n",
      "Downloading https://hirise-pds.lpl.arizona.edu/PDS/EXTRAS/RDR/ESP/ORB_012200_012299/ESP_012274_2125/ESP_012274_2125_RGB.NOMAP.browse.jpg to I:\\data\\mars\\ESP_012274_2125_RGB.NOMAP.browse.jpg\n"
     ]
    },
    {
     "data": {
      "application/vnd.jupyter.widget-view+json": {
       "model_id": "f09e4994da5943df89119765ceca0762",
       "version_major": 2,
       "version_minor": 0
      },
      "text/plain": [
       "  0%|          | 0/3075381 [00:00<?, ?it/s]"
      ]
     },
     "metadata": {},
     "output_type": "display_data"
    },
    {
     "name": "stdout",
     "output_type": "stream",
     "text": [
      "ESP_012277_0975/\n",
      "Downloading https://hirise-pds.lpl.arizona.edu/PDS/EXTRAS/RDR/ESP/ORB_012200_012299/ESP_012277_0975/ESP_012277_0975_RGB.NOMAP.browse.jpg to I:\\data\\mars\\ESP_012277_0975_RGB.NOMAP.browse.jpg\n"
     ]
    },
    {
     "data": {
      "application/vnd.jupyter.widget-view+json": {
       "model_id": "8f0783ac7f3544aeb5ca4cd5d8012c94",
       "version_major": 2,
       "version_minor": 0
      },
      "text/plain": [
       "  0%|          | 0/2577020 [00:00<?, ?it/s]"
      ]
     },
     "metadata": {},
     "output_type": "display_data"
    },
    {
     "name": "stdout",
     "output_type": "stream",
     "text": [
      "ESP_012278_1695/\n",
      "Downloading https://hirise-pds.lpl.arizona.edu/PDS/EXTRAS/RDR/ESP/ORB_012200_012299/ESP_012278_1695/ESP_012278_1695_RGB.NOMAP.browse.jpg to I:\\data\\mars\\ESP_012278_1695_RGB.NOMAP.browse.jpg\n"
     ]
    },
    {
     "data": {
      "application/vnd.jupyter.widget-view+json": {
       "model_id": "1b9ff686e3b241b89bf86a13b2927163",
       "version_major": 2,
       "version_minor": 0
      },
      "text/plain": [
       "  0%|          | 0/1236541 [00:00<?, ?it/s]"
      ]
     },
     "metadata": {},
     "output_type": "display_data"
    },
    {
     "name": "stdout",
     "output_type": "stream",
     "text": [
      "ESP_012281_1240/\n",
      "Downloading https://hirise-pds.lpl.arizona.edu/PDS/EXTRAS/RDR/ESP/ORB_012200_012299/ESP_012281_1240/ESP_012281_1240_RGB.NOMAP.browse.jpg to I:\\data\\mars\\ESP_012281_1240_RGB.NOMAP.browse.jpg\n"
     ]
    },
    {
     "data": {
      "application/vnd.jupyter.widget-view+json": {
       "model_id": "8e4acaf149a546f6aec8aeffb22ad963",
       "version_major": 2,
       "version_minor": 0
      },
      "text/plain": [
       "  0%|          | 0/981335 [00:00<?, ?it/s]"
      ]
     },
     "metadata": {},
     "output_type": "display_data"
    },
    {
     "name": "stdout",
     "output_type": "stream",
     "text": [
      "ESP_012282_0955/\n",
      "Downloading https://hirise-pds.lpl.arizona.edu/PDS/EXTRAS/RDR/ESP/ORB_012200_012299/ESP_012282_0955/ESP_012282_0955_RGB.NOMAP.browse.jpg to I:\\data\\mars\\ESP_012282_0955_RGB.NOMAP.browse.jpg\n"
     ]
    },
    {
     "data": {
      "application/vnd.jupyter.widget-view+json": {
       "model_id": "898c09d0a494450b8454a35646626ef0",
       "version_major": 2,
       "version_minor": 0
      },
      "text/plain": [
       "  0%|          | 0/691241 [00:00<?, ?it/s]"
      ]
     },
     "metadata": {},
     "output_type": "display_data"
    },
    {
     "name": "stdout",
     "output_type": "stream",
     "text": [
      "ESP_012282_1775/\n",
      "Downloading https://hirise-pds.lpl.arizona.edu/PDS/EXTRAS/RDR/ESP/ORB_012200_012299/ESP_012282_1775/ESP_012282_1775_RGB.NOMAP.browse.jpg to I:\\data\\mars\\ESP_012282_1775_RGB.NOMAP.browse.jpg\n"
     ]
    },
    {
     "data": {
      "application/vnd.jupyter.widget-view+json": {
       "model_id": "2abafb793d4c4bddac099e3ba919b7ea",
       "version_major": 2,
       "version_minor": 0
      },
      "text/plain": [
       "  0%|          | 0/985783 [00:00<?, ?it/s]"
      ]
     },
     "metadata": {},
     "output_type": "display_data"
    },
    {
     "name": "stdout",
     "output_type": "stream",
     "text": [
      "ESP_012283_1980/\n",
      "Downloading https://hirise-pds.lpl.arizona.edu/PDS/EXTRAS/RDR/ESP/ORB_012200_012299/ESP_012283_1980/ESP_012283_1980_RGB.NOMAP.browse.jpg to I:\\data\\mars\\ESP_012283_1980_RGB.NOMAP.browse.jpg\n"
     ]
    },
    {
     "data": {
      "application/vnd.jupyter.widget-view+json": {
       "model_id": "5bc93a8dcc7443bab1e10c8f528c5729",
       "version_major": 2,
       "version_minor": 0
      },
      "text/plain": [
       "  0%|          | 0/1038280 [00:00<?, ?it/s]"
      ]
     },
     "metadata": {},
     "output_type": "display_data"
    },
    {
     "name": "stdout",
     "output_type": "stream",
     "text": [
      "ESP_012284_0910/\n",
      "Downloading https://hirise-pds.lpl.arizona.edu/PDS/EXTRAS/RDR/ESP/ORB_012200_012299/ESP_012284_0910/ESP_012284_0910_RGB.NOMAP.browse.jpg to I:\\data\\mars\\ESP_012284_0910_RGB.NOMAP.browse.jpg\n"
     ]
    },
    {
     "data": {
      "application/vnd.jupyter.widget-view+json": {
       "model_id": "a1a797d01fe440e4800e5daa40f9d794",
       "version_major": 2,
       "version_minor": 0
      },
      "text/plain": [
       "  0%|          | 0/797256 [00:00<?, ?it/s]"
      ]
     },
     "metadata": {},
     "output_type": "display_data"
    },
    {
     "name": "stdout",
     "output_type": "stream",
     "text": [
      "ESP_012289_1840/\n",
      "Downloading https://hirise-pds.lpl.arizona.edu/PDS/EXTRAS/RDR/ESP/ORB_012200_012299/ESP_012289_1840/ESP_012289_1840_RGB.NOMAP.browse.jpg to I:\\data\\mars\\ESP_012289_1840_RGB.NOMAP.browse.jpg\n"
     ]
    },
    {
     "data": {
      "application/vnd.jupyter.widget-view+json": {
       "model_id": "77e0fb19130d470087f4264e6bfcde6f",
       "version_major": 2,
       "version_minor": 0
      },
      "text/plain": [
       "  0%|          | 0/1588337 [00:00<?, ?it/s]"
      ]
     },
     "metadata": {},
     "output_type": "display_data"
    },
    {
     "name": "stdout",
     "output_type": "stream",
     "text": [
      "ESP_012290_0945/\n",
      "Downloading https://hirise-pds.lpl.arizona.edu/PDS/EXTRAS/RDR/ESP/ORB_012200_012299/ESP_012290_0945/ESP_012290_0945_RGB.NOMAP.browse.jpg to I:\\data\\mars\\ESP_012290_0945_RGB.NOMAP.browse.jpg\n"
     ]
    },
    {
     "data": {
      "application/vnd.jupyter.widget-view+json": {
       "model_id": "b0b0dacb2d354e3cb87c49c8632358ec",
       "version_major": 2,
       "version_minor": 0
      },
      "text/plain": [
       "  0%|          | 0/1006760 [00:00<?, ?it/s]"
      ]
     },
     "metadata": {},
     "output_type": "display_data"
    },
    {
     "name": "stdout",
     "output_type": "stream",
     "text": [
      "ESP_012291_0980/\n",
      "Downloading https://hirise-pds.lpl.arizona.edu/PDS/EXTRAS/RDR/ESP/ORB_012200_012299/ESP_012291_0980/ESP_012291_0980_RGB.NOMAP.browse.jpg to I:\\data\\mars\\ESP_012291_0980_RGB.NOMAP.browse.jpg\n"
     ]
    },
    {
     "data": {
      "application/vnd.jupyter.widget-view+json": {
       "model_id": "2c232e3903b14b62896a55e762545fba",
       "version_major": 2,
       "version_minor": 0
      },
      "text/plain": [
       "  0%|          | 0/2943124 [00:00<?, ?it/s]"
      ]
     },
     "metadata": {},
     "output_type": "display_data"
    },
    {
     "name": "stdout",
     "output_type": "stream",
     "text": [
      "ESP_012293_0955/\n",
      "Downloading https://hirise-pds.lpl.arizona.edu/PDS/EXTRAS/RDR/ESP/ORB_012200_012299/ESP_012293_0955/ESP_012293_0955_RGB.NOMAP.browse.jpg to I:\\data\\mars\\ESP_012293_0955_RGB.NOMAP.browse.jpg\n"
     ]
    },
    {
     "data": {
      "application/vnd.jupyter.widget-view+json": {
       "model_id": "51a2bce95332487cabf174f4b2770c27",
       "version_major": 2,
       "version_minor": 0
      },
      "text/plain": [
       "  0%|          | 0/685411 [00:00<?, ?it/s]"
      ]
     },
     "metadata": {},
     "output_type": "display_data"
    },
    {
     "name": "stdout",
     "output_type": "stream",
     "text": [
      "ESP_012293_1800/\n",
      "Downloading https://hirise-pds.lpl.arizona.edu/PDS/EXTRAS/RDR/ESP/ORB_012200_012299/ESP_012293_1800/ESP_012293_1800_RGB.NOMAP.browse.jpg to I:\\data\\mars\\ESP_012293_1800_RGB.NOMAP.browse.jpg\n"
     ]
    },
    {
     "data": {
      "application/vnd.jupyter.widget-view+json": {
       "model_id": "84388336a23a4baf8c3c5337a7773a82",
       "version_major": 2,
       "version_minor": 0
      },
      "text/plain": [
       "  0%|          | 0/1148778 [00:00<?, ?it/s]"
      ]
     },
     "metadata": {},
     "output_type": "display_data"
    },
    {
     "name": "stdout",
     "output_type": "stream",
     "text": [
      "ESP_012294_0935/\n",
      "Downloading https://hirise-pds.lpl.arizona.edu/PDS/EXTRAS/RDR/ESP/ORB_012200_012299/ESP_012294_0935/ESP_012294_0935_RGB.NOMAP.browse.jpg to I:\\data\\mars\\ESP_012294_0935_RGB.NOMAP.browse.jpg\n"
     ]
    },
    {
     "data": {
      "application/vnd.jupyter.widget-view+json": {
       "model_id": "75d6b80780d246f2ad4d49bd9ea02147",
       "version_major": 2,
       "version_minor": 0
      },
      "text/plain": [
       "  0%|          | 0/293431 [00:00<?, ?it/s]"
      ]
     },
     "metadata": {},
     "output_type": "display_data"
    },
    {
     "name": "stdout",
     "output_type": "stream",
     "text": [
      "ESP_012295_1730/\n",
      "Downloading https://hirise-pds.lpl.arizona.edu/PDS/EXTRAS/RDR/ESP/ORB_012200_012299/ESP_012295_1730/ESP_012295_1730_RGB.NOMAP.browse.jpg to I:\\data\\mars\\ESP_012295_1730_RGB.NOMAP.browse.jpg\n"
     ]
    },
    {
     "data": {
      "application/vnd.jupyter.widget-view+json": {
       "model_id": "2bc7b46316684839a4750a2906076fbc",
       "version_major": 2,
       "version_minor": 0
      },
      "text/plain": [
       "  0%|          | 0/1982703 [00:00<?, ?it/s]"
      ]
     },
     "metadata": {},
     "output_type": "display_data"
    },
    {
     "name": "stdout",
     "output_type": "stream",
     "text": [
      "ESP_012298_0930/\n",
      "Downloading https://hirise-pds.lpl.arizona.edu/PDS/EXTRAS/RDR/ESP/ORB_012200_012299/ESP_012298_0930/ESP_012298_0930_RGB.NOMAP.browse.jpg to I:\\data\\mars\\ESP_012298_0930_RGB.NOMAP.browse.jpg\n"
     ]
    },
    {
     "data": {
      "application/vnd.jupyter.widget-view+json": {
       "model_id": "72e77244a2ce4e95966b594c63815a21",
       "version_major": 2,
       "version_minor": 0
      },
      "text/plain": [
       "  0%|          | 0/438859 [00:00<?, ?it/s]"
      ]
     },
     "metadata": {},
     "output_type": "display_data"
    },
    {
     "name": "stdout",
     "output_type": "stream",
     "text": [
      "-------------------------------------------------- ORB_012300_012399/\n",
      "ESP_012300_1440/\n",
      "Downloading https://hirise-pds.lpl.arizona.edu/PDS/EXTRAS/RDR/ESP/ORB_012300_012399/ESP_012300_1440/ESP_012300_1440_RGB.NOMAP.browse.jpg to I:\\data\\mars\\ESP_012300_1440_RGB.NOMAP.browse.jpg\n"
     ]
    },
    {
     "data": {
      "application/vnd.jupyter.widget-view+json": {
       "model_id": "daf1225e292944599b879ab4a9b1ec8e",
       "version_major": 2,
       "version_minor": 0
      },
      "text/plain": [
       "  0%|          | 0/787287 [00:00<?, ?it/s]"
      ]
     },
     "metadata": {},
     "output_type": "display_data"
    },
    {
     "name": "stdout",
     "output_type": "stream",
     "text": [
      "ESP_012302_0985/\n",
      "Downloading https://hirise-pds.lpl.arizona.edu/PDS/EXTRAS/RDR/ESP/ORB_012300_012399/ESP_012302_0985/ESP_012302_0985_RGB.NOMAP.browse.jpg to I:\\data\\mars\\ESP_012302_0985_RGB.NOMAP.browse.jpg\n"
     ]
    },
    {
     "data": {
      "application/vnd.jupyter.widget-view+json": {
       "model_id": "b5bee50ea7b84b168529e52ca9577a1d",
       "version_major": 2,
       "version_minor": 0
      },
      "text/plain": [
       "  0%|          | 0/2304547 [00:00<?, ?it/s]"
      ]
     },
     "metadata": {},
     "output_type": "display_data"
    },
    {
     "name": "stdout",
     "output_type": "stream",
     "text": [
      "ESP_012304_0980/\n",
      "Downloading https://hirise-pds.lpl.arizona.edu/PDS/EXTRAS/RDR/ESP/ORB_012300_012399/ESP_012304_0980/ESP_012304_0980_RGB.NOMAP.browse.jpg to I:\\data\\mars\\ESP_012304_0980_RGB.NOMAP.browse.jpg\n"
     ]
    },
    {
     "data": {
      "application/vnd.jupyter.widget-view+json": {
       "model_id": "ab1c030764c24b08a2a8f8562aa85599",
       "version_major": 2,
       "version_minor": 0
      },
      "text/plain": [
       "  0%|          | 0/2883986 [00:00<?, ?it/s]"
      ]
     },
     "metadata": {},
     "output_type": "display_data"
    },
    {
     "name": "stdout",
     "output_type": "stream",
     "text": [
      "ESP_012305_1325/\n",
      "\tfailed to find filename\n",
      "ESP_012305_1865/\n",
      "Downloading https://hirise-pds.lpl.arizona.edu/PDS/EXTRAS/RDR/ESP/ORB_012300_012399/ESP_012305_1865/ESP_012305_1865_RGB.NOMAP.browse.jpg to I:\\data\\mars\\ESP_012305_1865_RGB.NOMAP.browse.jpg\n"
     ]
    },
    {
     "data": {
      "application/vnd.jupyter.widget-view+json": {
       "model_id": "efbdc562ee044b1bbe678a5f46fc275d",
       "version_major": 2,
       "version_minor": 0
      },
      "text/plain": [
       "  0%|          | 0/1009589 [00:00<?, ?it/s]"
      ]
     },
     "metadata": {},
     "output_type": "display_data"
    },
    {
     "name": "stdout",
     "output_type": "stream",
     "text": [
      "ESP_012307_0940/\n",
      "Downloading https://hirise-pds.lpl.arizona.edu/PDS/EXTRAS/RDR/ESP/ORB_012300_012399/ESP_012307_0940/ESP_012307_0940_RGB.NOMAP.browse.jpg to I:\\data\\mars\\ESP_012307_0940_RGB.NOMAP.browse.jpg\n"
     ]
    },
    {
     "data": {
      "application/vnd.jupyter.widget-view+json": {
       "model_id": "e70a1c02dd9740efb5ff9453bf44e00a",
       "version_major": 2,
       "version_minor": 0
      },
      "text/plain": [
       "  0%|          | 0/533394 [00:00<?, ?it/s]"
      ]
     },
     "metadata": {},
     "output_type": "display_data"
    },
    {
     "name": "stdout",
     "output_type": "stream",
     "text": [
      "ESP_012310_1715/\n",
      "Downloading https://hirise-pds.lpl.arizona.edu/PDS/EXTRAS/RDR/ESP/ORB_012300_012399/ESP_012310_1715/ESP_012310_1715_RGB.NOMAP.browse.jpg to I:\\data\\mars\\ESP_012310_1715_RGB.NOMAP.browse.jpg\n"
     ]
    },
    {
     "data": {
      "application/vnd.jupyter.widget-view+json": {
       "model_id": "b30335cbbaef4ff787f45778f2a7b0ae",
       "version_major": 2,
       "version_minor": 0
      },
      "text/plain": [
       "  0%|          | 0/884149 [00:00<?, ?it/s]"
      ]
     },
     "metadata": {},
     "output_type": "display_data"
    },
    {
     "name": "stdout",
     "output_type": "stream",
     "text": [
      "ESP_012313_1885/\n",
      "Downloading https://hirise-pds.lpl.arizona.edu/PDS/EXTRAS/RDR/ESP/ORB_012300_012399/ESP_012313_1885/ESP_012313_1885_RGB.NOMAP.browse.jpg to I:\\data\\mars\\ESP_012313_1885_RGB.NOMAP.browse.jpg\n"
     ]
    },
    {
     "data": {
      "application/vnd.jupyter.widget-view+json": {
       "model_id": "969d8d9179f94b84801d688cf5797424",
       "version_major": 2,
       "version_minor": 0
      },
      "text/plain": [
       "  0%|          | 0/1806343 [00:00<?, ?it/s]"
      ]
     },
     "metadata": {},
     "output_type": "display_data"
    },
    {
     "name": "stdout",
     "output_type": "stream",
     "text": [
      "ESP_012314_0965/\n",
      "Downloading https://hirise-pds.lpl.arizona.edu/PDS/EXTRAS/RDR/ESP/ORB_012300_012399/ESP_012314_0965/ESP_012314_0965_RGB.NOMAP.browse.jpg to I:\\data\\mars\\ESP_012314_0965_RGB.NOMAP.browse.jpg\n"
     ]
    },
    {
     "data": {
      "application/vnd.jupyter.widget-view+json": {
       "model_id": "bcea0355a80b4da0b3a2c7b16df99ebd",
       "version_major": 2,
       "version_minor": 0
      },
      "text/plain": [
       "  0%|          | 0/3761948 [00:00<?, ?it/s]"
      ]
     },
     "metadata": {},
     "output_type": "display_data"
    },
    {
     "name": "stdout",
     "output_type": "stream",
     "text": [
      "ESP_012314_1450/\n",
      "Downloading https://hirise-pds.lpl.arizona.edu/PDS/EXTRAS/RDR/ESP/ORB_012300_012399/ESP_012314_1450/ESP_012314_1450_RGB.NOMAP.browse.jpg to I:\\data\\mars\\ESP_012314_1450_RGB.NOMAP.browse.jpg\n"
     ]
    },
    {
     "data": {
      "application/vnd.jupyter.widget-view+json": {
       "model_id": "9d5d0a6512dd45d581b148cbe87241cf",
       "version_major": 2,
       "version_minor": 0
      },
      "text/plain": [
       "  0%|          | 0/1074205 [00:00<?, ?it/s]"
      ]
     },
     "metadata": {},
     "output_type": "display_data"
    },
    {
     "name": "stdout",
     "output_type": "stream",
     "text": [
      "ESP_012315_1635/\n",
      "Downloading https://hirise-pds.lpl.arizona.edu/PDS/EXTRAS/RDR/ESP/ORB_012300_012399/ESP_012315_1635/ESP_012315_1635_RGB.NOMAP.browse.jpg to I:\\data\\mars\\ESP_012315_1635_RGB.NOMAP.browse.jpg\n"
     ]
    },
    {
     "data": {
      "application/vnd.jupyter.widget-view+json": {
       "model_id": "6a564f0476af40089e1c9490e1f33a8d",
       "version_major": 2,
       "version_minor": 0
      },
      "text/plain": [
       "  0%|          | 0/1260772 [00:00<?, ?it/s]"
      ]
     },
     "metadata": {},
     "output_type": "display_data"
    },
    {
     "name": "stdout",
     "output_type": "stream",
     "text": [
      "ESP_012316_0925/\n",
      "Downloading https://hirise-pds.lpl.arizona.edu/PDS/EXTRAS/RDR/ESP/ORB_012300_012399/ESP_012316_0925/ESP_012316_0925_RGB.NOMAP.browse.jpg to I:\\data\\mars\\ESP_012316_0925_RGB.NOMAP.browse.jpg\n"
     ]
    },
    {
     "data": {
      "application/vnd.jupyter.widget-view+json": {
       "model_id": "c76b318b96234fb6acf2637b13ab100d",
       "version_major": 2,
       "version_minor": 0
      },
      "text/plain": [
       "  0%|          | 0/1420042 [00:00<?, ?it/s]"
      ]
     },
     "metadata": {},
     "output_type": "display_data"
    },
    {
     "name": "stdout",
     "output_type": "stream",
     "text": [
      "ESP_012319_1115/\n",
      "Downloading https://hirise-pds.lpl.arizona.edu/PDS/EXTRAS/RDR/ESP/ORB_012300_012399/ESP_012319_1115/ESP_012319_1115_RGB.NOMAP.browse.jpg to I:\\data\\mars\\ESP_012319_1115_RGB.NOMAP.browse.jpg\n"
     ]
    },
    {
     "data": {
      "application/vnd.jupyter.widget-view+json": {
       "model_id": "7ac5f84beef24eaca0a058aae47c19f0",
       "version_major": 2,
       "version_minor": 0
      },
      "text/plain": [
       "  0%|          | 0/1055757 [00:00<?, ?it/s]"
      ]
     },
     "metadata": {},
     "output_type": "display_data"
    },
    {
     "name": "stdout",
     "output_type": "stream",
     "text": [
      "ESP_012320_1530/\n",
      "Downloading https://hirise-pds.lpl.arizona.edu/PDS/EXTRAS/RDR/ESP/ORB_012300_012399/ESP_012320_1530/ESP_012320_1530_RGB.NOMAP.browse.jpg to I:\\data\\mars\\ESP_012320_1530_RGB.NOMAP.browse.jpg\n"
     ]
    },
    {
     "data": {
      "application/vnd.jupyter.widget-view+json": {
       "model_id": "bcc9425995814e9e9c939d890c211779",
       "version_major": 2,
       "version_minor": 0
      },
      "text/plain": [
       "  0%|          | 0/1962719 [00:00<?, ?it/s]"
      ]
     },
     "metadata": {},
     "output_type": "display_data"
    },
    {
     "name": "stdout",
     "output_type": "stream",
     "text": [
      "ESP_012321_0935/\n",
      "Downloading https://hirise-pds.lpl.arizona.edu/PDS/EXTRAS/RDR/ESP/ORB_012300_012399/ESP_012321_0935/ESP_012321_0935_RGB.NOMAP.browse.jpg to I:\\data\\mars\\ESP_012321_0935_RGB.NOMAP.browse.jpg\n"
     ]
    },
    {
     "data": {
      "application/vnd.jupyter.widget-view+json": {
       "model_id": "2cd562f0294a498dbdf7ccac302e9290",
       "version_major": 2,
       "version_minor": 0
      },
      "text/plain": [
       "  0%|          | 0/1157806 [00:00<?, ?it/s]"
      ]
     },
     "metadata": {},
     "output_type": "display_data"
    },
    {
     "name": "stdout",
     "output_type": "stream",
     "text": [
      "ESP_012322_0985/\n",
      "Downloading https://hirise-pds.lpl.arizona.edu/PDS/EXTRAS/RDR/ESP/ORB_012300_012399/ESP_012322_0985/ESP_012322_0985_RGB.NOMAP.browse.jpg to I:\\data\\mars\\ESP_012322_0985_RGB.NOMAP.browse.jpg\n"
     ]
    },
    {
     "data": {
      "application/vnd.jupyter.widget-view+json": {
       "model_id": "b3ad2e7a26c24bf7a5d45d3d2cb69d87",
       "version_major": 2,
       "version_minor": 0
      },
      "text/plain": [
       "  0%|          | 0/1100714 [00:00<?, ?it/s]"
      ]
     },
     "metadata": {},
     "output_type": "display_data"
    },
    {
     "name": "stdout",
     "output_type": "stream",
     "text": [
      "ESP_012323_1775/\n",
      "Downloading https://hirise-pds.lpl.arizona.edu/PDS/EXTRAS/RDR/ESP/ORB_012300_012399/ESP_012323_1775/ESP_012323_1775_RGB.NOMAP.browse.jpg to I:\\data\\mars\\ESP_012323_1775_RGB.NOMAP.browse.jpg\n"
     ]
    },
    {
     "data": {
      "application/vnd.jupyter.widget-view+json": {
       "model_id": "207f42e8f7e240de9d0c94804f3e312a",
       "version_major": 2,
       "version_minor": 0
      },
      "text/plain": [
       "  0%|          | 0/1790080 [00:00<?, ?it/s]"
      ]
     },
     "metadata": {},
     "output_type": "display_data"
    },
    {
     "name": "stdout",
     "output_type": "stream",
     "text": [
      "ESP_012326_2125/\n",
      "\tfailed to find filename\n",
      "ESP_012328_1375/\n",
      "Downloading https://hirise-pds.lpl.arizona.edu/PDS/EXTRAS/RDR/ESP/ORB_012300_012399/ESP_012328_1375/ESP_012328_1375_RGB.NOMAP.browse.jpg to I:\\data\\mars\\ESP_012328_1375_RGB.NOMAP.browse.jpg\n"
     ]
    },
    {
     "data": {
      "application/vnd.jupyter.widget-view+json": {
       "model_id": "213868e2fac04079be583c168a00638f",
       "version_major": 2,
       "version_minor": 0
      },
      "text/plain": [
       "  0%|          | 0/2009592 [00:00<?, ?it/s]"
      ]
     },
     "metadata": {},
     "output_type": "display_data"
    },
    {
     "name": "stdout",
     "output_type": "stream",
     "text": [
      "ESP_012330_1010/\n",
      "Downloading https://hirise-pds.lpl.arizona.edu/PDS/EXTRAS/RDR/ESP/ORB_012300_012399/ESP_012330_1010/ESP_012330_1010_RGB.NOMAP.browse.jpg to I:\\data\\mars\\ESP_012330_1010_RGB.NOMAP.browse.jpg\n"
     ]
    },
    {
     "data": {
      "application/vnd.jupyter.widget-view+json": {
       "model_id": "b770ef6550754f9d92f7a2fe725f9c03",
       "version_major": 2,
       "version_minor": 0
      },
      "text/plain": [
       "  0%|          | 0/2404600 [00:00<?, ?it/s]"
      ]
     },
     "metadata": {},
     "output_type": "display_data"
    },
    {
     "name": "stdout",
     "output_type": "stream",
     "text": [
      "ESP_012332_1115/\n",
      "Downloading https://hirise-pds.lpl.arizona.edu/PDS/EXTRAS/RDR/ESP/ORB_012300_012399/ESP_012332_1115/ESP_012332_1115_RGB.NOMAP.browse.jpg to I:\\data\\mars\\ESP_012332_1115_RGB.NOMAP.browse.jpg\n"
     ]
    },
    {
     "data": {
      "application/vnd.jupyter.widget-view+json": {
       "model_id": "49cc53bc390646108f54b91e82b53acb",
       "version_major": 2,
       "version_minor": 0
      },
      "text/plain": [
       "  0%|          | 0/981602 [00:00<?, ?it/s]"
      ]
     },
     "metadata": {},
     "output_type": "display_data"
    },
    {
     "name": "stdout",
     "output_type": "stream",
     "text": [
      "ESP_012333_0945/\n",
      "Downloading https://hirise-pds.lpl.arizona.edu/PDS/EXTRAS/RDR/ESP/ORB_012300_012399/ESP_012333_0945/ESP_012333_0945_RGB.NOMAP.browse.jpg to I:\\data\\mars\\ESP_012333_0945_RGB.NOMAP.browse.jpg\n"
     ]
    },
    {
     "data": {
      "application/vnd.jupyter.widget-view+json": {
       "model_id": "6227bd8265cb4d01a7e91a5769b242c9",
       "version_major": 2,
       "version_minor": 0
      },
      "text/plain": [
       "  0%|          | 0/766657 [00:00<?, ?it/s]"
      ]
     },
     "metadata": {},
     "output_type": "display_data"
    },
    {
     "name": "stdout",
     "output_type": "stream",
     "text": [
      "ESP_012333_1875/\n",
      "\tfailed to find filename\n",
      "ESP_012334_1790/\n",
      "Downloading https://hirise-pds.lpl.arizona.edu/PDS/EXTRAS/RDR/ESP/ORB_012300_012399/ESP_012334_1790/ESP_012334_1790_RGB.NOMAP.browse.jpg to I:\\data\\mars\\ESP_012334_1790_RGB.NOMAP.browse.jpg\n"
     ]
    },
    {
     "data": {
      "application/vnd.jupyter.widget-view+json": {
       "model_id": "42caf53dadcc4a2cb734879f7163fb76",
       "version_major": 2,
       "version_minor": 0
      },
      "text/plain": [
       "  0%|          | 0/2169471 [00:00<?, ?it/s]"
      ]
     },
     "metadata": {},
     "output_type": "display_data"
    },
    {
     "name": "stdout",
     "output_type": "stream",
     "text": [
      "ESP_012336_1850/\n",
      "Downloading https://hirise-pds.lpl.arizona.edu/PDS/EXTRAS/RDR/ESP/ORB_012300_012399/ESP_012336_1850/ESP_012336_1850_RGB.NOMAP.browse.jpg to I:\\data\\mars\\ESP_012336_1850_RGB.NOMAP.browse.jpg\n"
     ]
    },
    {
     "data": {
      "application/vnd.jupyter.widget-view+json": {
       "model_id": "214673057e6540c5bbcb489b5bb688cd",
       "version_major": 2,
       "version_minor": 0
      },
      "text/plain": [
       "  0%|          | 0/332639 [00:00<?, ?it/s]"
      ]
     },
     "metadata": {},
     "output_type": "display_data"
    },
    {
     "name": "stdout",
     "output_type": "stream",
     "text": [
      "ESP_012338_1425/\n",
      "Downloading https://hirise-pds.lpl.arizona.edu/PDS/EXTRAS/RDR/ESP/ORB_012300_012399/ESP_012338_1425/ESP_012338_1425_RGB.NOMAP.browse.jpg to I:\\data\\mars\\ESP_012338_1425_RGB.NOMAP.browse.jpg\n"
     ]
    },
    {
     "data": {
      "application/vnd.jupyter.widget-view+json": {
       "model_id": "a5822869826f4529aaeafd0e5f077446",
       "version_major": 2,
       "version_minor": 0
      },
      "text/plain": [
       "  0%|          | 0/769091 [00:00<?, ?it/s]"
      ]
     },
     "metadata": {},
     "output_type": "display_data"
    },
    {
     "name": "stdout",
     "output_type": "stream",
     "text": [
      "ESP_012340_1750/\n",
      "Downloading https://hirise-pds.lpl.arizona.edu/PDS/EXTRAS/RDR/ESP/ORB_012300_012399/ESP_012340_1750/ESP_012340_1750_RGB.NOMAP.browse.jpg to I:\\data\\mars\\ESP_012340_1750_RGB.NOMAP.browse.jpg\n"
     ]
    },
    {
     "data": {
      "application/vnd.jupyter.widget-view+json": {
       "model_id": "0bb8d9c32627433e80242f5da535ed23",
       "version_major": 2,
       "version_minor": 0
      },
      "text/plain": [
       "  0%|          | 0/2147808 [00:00<?, ?it/s]"
      ]
     },
     "metadata": {},
     "output_type": "display_data"
    },
    {
     "name": "stdout",
     "output_type": "stream",
     "text": [
      "ESP_012342_1450/\n",
      "Downloading https://hirise-pds.lpl.arizona.edu/PDS/EXTRAS/RDR/ESP/ORB_012300_012399/ESP_012342_1450/ESP_012342_1450_RGB.NOMAP.browse.jpg to I:\\data\\mars\\ESP_012342_1450_RGB.NOMAP.browse.jpg\n"
     ]
    },
    {
     "data": {
      "application/vnd.jupyter.widget-view+json": {
       "model_id": "7b3a421d0f814766aa58df1a1f16c355",
       "version_major": 2,
       "version_minor": 0
      },
      "text/plain": [
       "  0%|          | 0/1306864 [00:00<?, ?it/s]"
      ]
     },
     "metadata": {},
     "output_type": "display_data"
    },
    {
     "name": "stdout",
     "output_type": "stream",
     "text": [
      "ESP_012344_0950/\n",
      "Downloading https://hirise-pds.lpl.arizona.edu/PDS/EXTRAS/RDR/ESP/ORB_012300_012399/ESP_012344_0950/ESP_012344_0950_RGB.NOMAP.browse.jpg to I:\\data\\mars\\ESP_012344_0950_RGB.NOMAP.browse.jpg\n"
     ]
    },
    {
     "data": {
      "application/vnd.jupyter.widget-view+json": {
       "model_id": "520e0ffce86b4bd384c1ff6afd38de82",
       "version_major": 2,
       "version_minor": 0
      },
      "text/plain": [
       "  0%|          | 0/1641272 [00:00<?, ?it/s]"
      ]
     },
     "metadata": {},
     "output_type": "display_data"
    },
    {
     "name": "stdout",
     "output_type": "stream",
     "text": [
      "ESP_012346_2140/\n",
      "Downloading https://hirise-pds.lpl.arizona.edu/PDS/EXTRAS/RDR/ESP/ORB_012300_012399/ESP_012346_2140/ESP_012346_2140_RGB.NOMAP.browse.jpg to I:\\data\\mars\\ESP_012346_2140_RGB.NOMAP.browse.jpg\n"
     ]
    },
    {
     "data": {
      "application/vnd.jupyter.widget-view+json": {
       "model_id": "fb78fa184a32452dabc725b00154f710",
       "version_major": 2,
       "version_minor": 0
      },
      "text/plain": [
       "  0%|          | 0/982030 [00:00<?, ?it/s]"
      ]
     },
     "metadata": {},
     "output_type": "display_data"
    },
    {
     "name": "stdout",
     "output_type": "stream",
     "text": [
      "ESP_012348_0975/\n",
      "Downloading https://hirise-pds.lpl.arizona.edu/PDS/EXTRAS/RDR/ESP/ORB_012300_012399/ESP_012348_0975/ESP_012348_0975_RGB.NOMAP.browse.jpg to I:\\data\\mars\\ESP_012348_0975_RGB.NOMAP.browse.jpg\n"
     ]
    },
    {
     "data": {
      "application/vnd.jupyter.widget-view+json": {
       "model_id": "4b8e2814808b423482ae4f4d10cf477b",
       "version_major": 2,
       "version_minor": 0
      },
      "text/plain": [
       "  0%|          | 0/2195515 [00:00<?, ?it/s]"
      ]
     },
     "metadata": {},
     "output_type": "display_data"
    },
    {
     "name": "stdout",
     "output_type": "stream",
     "text": [
      "ESP_012348_1690/\n",
      "Downloading https://hirise-pds.lpl.arizona.edu/PDS/EXTRAS/RDR/ESP/ORB_012300_012399/ESP_012348_1690/ESP_012348_1690_RGB.NOMAP.browse.jpg to I:\\data\\mars\\ESP_012348_1690_RGB.NOMAP.browse.jpg\n"
     ]
    },
    {
     "data": {
      "application/vnd.jupyter.widget-view+json": {
       "model_id": "229cf9f4e41e460cb05274cb452ecca2",
       "version_major": 2,
       "version_minor": 0
      },
      "text/plain": [
       "  0%|          | 0/1972388 [00:00<?, ?it/s]"
      ]
     },
     "metadata": {},
     "output_type": "display_data"
    },
    {
     "name": "stdout",
     "output_type": "stream",
     "text": [
      "ESP_012349_1830/\n",
      "Downloading https://hirise-pds.lpl.arizona.edu/PDS/EXTRAS/RDR/ESP/ORB_012300_012399/ESP_012349_1830/ESP_012349_1830_RGB.NOMAP.browse.jpg to I:\\data\\mars\\ESP_012349_1830_RGB.NOMAP.browse.jpg\n"
     ]
    },
    {
     "data": {
      "application/vnd.jupyter.widget-view+json": {
       "model_id": "c5f40479355748b192ba7bda40382038",
       "version_major": 2,
       "version_minor": 0
      },
      "text/plain": [
       "  0%|          | 0/468799 [00:00<?, ?it/s]"
      ]
     },
     "metadata": {},
     "output_type": "display_data"
    },
    {
     "name": "stdout",
     "output_type": "stream",
     "text": [
      "ESP_012352_1075/\n",
      "Downloading https://hirise-pds.lpl.arizona.edu/PDS/EXTRAS/RDR/ESP/ORB_012300_012399/ESP_012352_1075/ESP_012352_1075_RGB.NOMAP.browse.jpg to I:\\data\\mars\\ESP_012352_1075_RGB.NOMAP.browse.jpg\n"
     ]
    },
    {
     "data": {
      "application/vnd.jupyter.widget-view+json": {
       "model_id": "d792205296034f0ab3b9a3287200701c",
       "version_major": 2,
       "version_minor": 0
      },
      "text/plain": [
       "  0%|          | 0/919976 [00:00<?, ?it/s]"
      ]
     },
     "metadata": {},
     "output_type": "display_data"
    },
    {
     "name": "stdout",
     "output_type": "stream",
     "text": [
      "ESP_012353_1105/\n",
      "Downloading https://hirise-pds.lpl.arizona.edu/PDS/EXTRAS/RDR/ESP/ORB_012300_012399/ESP_012353_1105/ESP_012353_1105_RGB.NOMAP.browse.jpg to I:\\data\\mars\\ESP_012353_1105_RGB.NOMAP.browse.jpg\n"
     ]
    },
    {
     "data": {
      "application/vnd.jupyter.widget-view+json": {
       "model_id": "846acd5c045448b7b942947a49ebbb36",
       "version_major": 2,
       "version_minor": 0
      },
      "text/plain": [
       "  0%|          | 0/546573 [00:00<?, ?it/s]"
      ]
     },
     "metadata": {},
     "output_type": "display_data"
    },
    {
     "name": "stdout",
     "output_type": "stream",
     "text": [
      "ESP_012353_1835/\n",
      "Downloading https://hirise-pds.lpl.arizona.edu/PDS/EXTRAS/RDR/ESP/ORB_012300_012399/ESP_012353_1835/ESP_012353_1835_RGB.NOMAP.browse.jpg to I:\\data\\mars\\ESP_012353_1835_RGB.NOMAP.browse.jpg\n"
     ]
    },
    {
     "data": {
      "application/vnd.jupyter.widget-view+json": {
       "model_id": "91668de5b79c491c8ab0d0db45b5667c",
       "version_major": 2,
       "version_minor": 0
      },
      "text/plain": [
       "  0%|          | 0/719663 [00:00<?, ?it/s]"
      ]
     },
     "metadata": {},
     "output_type": "display_data"
    },
    {
     "name": "stdout",
     "output_type": "stream",
     "text": [
      "ESP_012355_2250/\n",
      "Downloading https://hirise-pds.lpl.arizona.edu/PDS/EXTRAS/RDR/ESP/ORB_012300_012399/ESP_012355_2250/ESP_012355_2250_RGB.NOMAP.browse.jpg to I:\\data\\mars\\ESP_012355_2250_RGB.NOMAP.browse.jpg\n"
     ]
    },
    {
     "data": {
      "application/vnd.jupyter.widget-view+json": {
       "model_id": "2b28507488f549dbbe1cf98210ae2e01",
       "version_major": 2,
       "version_minor": 0
      },
      "text/plain": [
       "  0%|          | 0/1015842 [00:00<?, ?it/s]"
      ]
     },
     "metadata": {},
     "output_type": "display_data"
    },
    {
     "name": "stdout",
     "output_type": "stream",
     "text": [
      "ESP_012356_1760/\n",
      "Downloading https://hirise-pds.lpl.arizona.edu/PDS/EXTRAS/RDR/ESP/ORB_012300_012399/ESP_012356_1760/ESP_012356_1760_RGB.NOMAP.browse.jpg to I:\\data\\mars\\ESP_012356_1760_RGB.NOMAP.browse.jpg\n"
     ]
    },
    {
     "data": {
      "application/vnd.jupyter.widget-view+json": {
       "model_id": "adeb74cdb0da44899a9bce8374213088",
       "version_major": 2,
       "version_minor": 0
      },
      "text/plain": [
       "  0%|          | 0/866096 [00:00<?, ?it/s]"
      ]
     },
     "metadata": {},
     "output_type": "display_data"
    },
    {
     "name": "stdout",
     "output_type": "stream",
     "text": [
      "ESP_012359_1770/\n",
      "Downloading https://hirise-pds.lpl.arizona.edu/PDS/EXTRAS/RDR/ESP/ORB_012300_012399/ESP_012359_1770/ESP_012359_1770_RGB.NOMAP.browse.jpg to I:\\data\\mars\\ESP_012359_1770_RGB.NOMAP.browse.jpg\n"
     ]
    },
    {
     "data": {
      "application/vnd.jupyter.widget-view+json": {
       "model_id": "c27269e00f2d42e2a9b76cb0be5b451f",
       "version_major": 2,
       "version_minor": 0
      },
      "text/plain": [
       "  0%|          | 0/699505 [00:00<?, ?it/s]"
      ]
     },
     "metadata": {},
     "output_type": "display_data"
    },
    {
     "name": "stdout",
     "output_type": "stream",
     "text": [
      "ESP_012360_1240/\n",
      "Downloading https://hirise-pds.lpl.arizona.edu/PDS/EXTRAS/RDR/ESP/ORB_012300_012399/ESP_012360_1240/ESP_012360_1240_RGB.NOMAP.browse.jpg to I:\\data\\mars\\ESP_012360_1240_RGB.NOMAP.browse.jpg\n"
     ]
    },
    {
     "data": {
      "application/vnd.jupyter.widget-view+json": {
       "model_id": "e3a702e137384653a47d5fe8f972db18",
       "version_major": 2,
       "version_minor": 0
      },
      "text/plain": [
       "  0%|          | 0/1011930 [00:00<?, ?it/s]"
      ]
     },
     "metadata": {},
     "output_type": "display_data"
    },
    {
     "name": "stdout",
     "output_type": "stream",
     "text": [
      "ESP_012361_1685/\n",
      "Downloading https://hirise-pds.lpl.arizona.edu/PDS/EXTRAS/RDR/ESP/ORB_012300_012399/ESP_012361_1685/ESP_012361_1685_RGB.NOMAP.browse.jpg to I:\\data\\mars\\ESP_012361_1685_RGB.NOMAP.browse.jpg\n"
     ]
    },
    {
     "data": {
      "application/vnd.jupyter.widget-view+json": {
       "model_id": "3223e3fba9894a15b04e9c90fe2b32f5",
       "version_major": 2,
       "version_minor": 0
      },
      "text/plain": [
       "  0%|          | 0/801772 [00:00<?, ?it/s]"
      ]
     },
     "metadata": {},
     "output_type": "display_data"
    },
    {
     "name": "stdout",
     "output_type": "stream",
     "text": [
      "ESP_012362_1515/\n",
      "Downloading https://hirise-pds.lpl.arizona.edu/PDS/EXTRAS/RDR/ESP/ORB_012300_012399/ESP_012362_1515/ESP_012362_1515_RGB.NOMAP.browse.jpg to I:\\data\\mars\\ESP_012362_1515_RGB.NOMAP.browse.jpg\n"
     ]
    },
    {
     "data": {
      "application/vnd.jupyter.widget-view+json": {
       "model_id": "bf5074759568478e91b14ade0b5e7590",
       "version_major": 2,
       "version_minor": 0
      },
      "text/plain": [
       "  0%|          | 0/1059539 [00:00<?, ?it/s]"
      ]
     },
     "metadata": {},
     "output_type": "display_data"
    },
    {
     "name": "stdout",
     "output_type": "stream",
     "text": [
      "ESP_012363_0870/\n",
      "Downloading https://hirise-pds.lpl.arizona.edu/PDS/EXTRAS/RDR/ESP/ORB_012300_012399/ESP_012363_0870/ESP_012363_0870_RGB.NOMAP.browse.jpg to I:\\data\\mars\\ESP_012363_0870_RGB.NOMAP.browse.jpg\n"
     ]
    },
    {
     "data": {
      "application/vnd.jupyter.widget-view+json": {
       "model_id": "46b5da9e1a4f4461be6730ee4c06d379",
       "version_major": 2,
       "version_minor": 0
      },
      "text/plain": [
       "  0%|          | 0/1560704 [00:00<?, ?it/s]"
      ]
     },
     "metadata": {},
     "output_type": "display_data"
    },
    {
     "name": "stdout",
     "output_type": "stream",
     "text": [
      "ESP_012363_2145/\n",
      "Downloading https://hirise-pds.lpl.arizona.edu/PDS/EXTRAS/RDR/ESP/ORB_012300_012399/ESP_012363_2145/ESP_012363_2145_RGB.NOMAP.browse.jpg to I:\\data\\mars\\ESP_012363_2145_RGB.NOMAP.browse.jpg\n"
     ]
    },
    {
     "data": {
      "application/vnd.jupyter.widget-view+json": {
       "model_id": "b972f2bc910e442691ae672581660394",
       "version_major": 2,
       "version_minor": 0
      },
      "text/plain": [
       "  0%|          | 0/1341462 [00:00<?, ?it/s]"
      ]
     },
     "metadata": {},
     "output_type": "display_data"
    },
    {
     "name": "stdout",
     "output_type": "stream",
     "text": [
      "ESP_012366_1825/\n",
      "Downloading https://hirise-pds.lpl.arizona.edu/PDS/EXTRAS/RDR/ESP/ORB_012300_012399/ESP_012366_1825/ESP_012366_1825_RGB.NOMAP.browse.jpg to I:\\data\\mars\\ESP_012366_1825_RGB.NOMAP.browse.jpg\n"
     ]
    },
    {
     "data": {
      "application/vnd.jupyter.widget-view+json": {
       "model_id": "06c2b3cefd6c46619c19a78b90b266dc",
       "version_major": 2,
       "version_minor": 0
      },
      "text/plain": [
       "  0%|          | 0/1001003 [00:00<?, ?it/s]"
      ]
     },
     "metadata": {},
     "output_type": "display_data"
    },
    {
     "name": "stdout",
     "output_type": "stream",
     "text": [
      "ESP_012367_1695/\n",
      "Downloading https://hirise-pds.lpl.arizona.edu/PDS/EXTRAS/RDR/ESP/ORB_012300_012399/ESP_012367_1695/ESP_012367_1695_RGB.NOMAP.browse.jpg to I:\\data\\mars\\ESP_012367_1695_RGB.NOMAP.browse.jpg\n"
     ]
    },
    {
     "data": {
      "application/vnd.jupyter.widget-view+json": {
       "model_id": "00e930fcacfe489baef542bf23a8f6fc",
       "version_major": 2,
       "version_minor": 0
      },
      "text/plain": [
       "  0%|          | 0/522542 [00:00<?, ?it/s]"
      ]
     },
     "metadata": {},
     "output_type": "display_data"
    },
    {
     "name": "stdout",
     "output_type": "stream",
     "text": [
      "ESP_012371_1865/\n",
      "Downloading https://hirise-pds.lpl.arizona.edu/PDS/EXTRAS/RDR/ESP/ORB_012300_012399/ESP_012371_1865/ESP_012371_1865_RGB.NOMAP.browse.jpg to I:\\data\\mars\\ESP_012371_1865_RGB.NOMAP.browse.jpg\n"
     ]
    },
    {
     "data": {
      "application/vnd.jupyter.widget-view+json": {
       "model_id": "0550d31eb4b84f35a652fa5c5bfd2d65",
       "version_major": 2,
       "version_minor": 0
      },
      "text/plain": [
       "  0%|          | 0/889595 [00:00<?, ?it/s]"
      ]
     },
     "metadata": {},
     "output_type": "display_data"
    },
    {
     "name": "stdout",
     "output_type": "stream",
     "text": [
      "ESP_012372_1255/\n",
      "Downloading https://hirise-pds.lpl.arizona.edu/PDS/EXTRAS/RDR/ESP/ORB_012300_012399/ESP_012372_1255/ESP_012372_1255_RGB.NOMAP.browse.jpg to I:\\data\\mars\\ESP_012372_1255_RGB.NOMAP.browse.jpg\n"
     ]
    },
    {
     "data": {
      "application/vnd.jupyter.widget-view+json": {
       "model_id": "37e66e0bf45142e4b95af4c0262ba4b6",
       "version_major": 2,
       "version_minor": 0
      },
      "text/plain": [
       "  0%|          | 0/486465 [00:00<?, ?it/s]"
      ]
     },
     "metadata": {},
     "output_type": "display_data"
    },
    {
     "name": "stdout",
     "output_type": "stream",
     "text": [
      "ESP_012372_2055/\n",
      "Downloading https://hirise-pds.lpl.arizona.edu/PDS/EXTRAS/RDR/ESP/ORB_012300_012399/ESP_012372_2055/ESP_012372_2055_RGB.NOMAP.browse.jpg to I:\\data\\mars\\ESP_012372_2055_RGB.NOMAP.browse.jpg\n"
     ]
    },
    {
     "data": {
      "application/vnd.jupyter.widget-view+json": {
       "model_id": "0f53989bb0d246da9ea39e1e3d2d239b",
       "version_major": 2,
       "version_minor": 0
      },
      "text/plain": [
       "  0%|          | 0/523708 [00:00<?, ?it/s]"
      ]
     },
     "metadata": {},
     "output_type": "display_data"
    },
    {
     "name": "stdout",
     "output_type": "stream",
     "text": [
      "ESP_012373_0930/\n",
      "Downloading https://hirise-pds.lpl.arizona.edu/PDS/EXTRAS/RDR/ESP/ORB_012300_012399/ESP_012373_0930/ESP_012373_0930_RGB.NOMAP.browse.jpg to I:\\data\\mars\\ESP_012373_0930_RGB.NOMAP.browse.jpg\n"
     ]
    },
    {
     "data": {
      "application/vnd.jupyter.widget-view+json": {
       "model_id": "4fd0f15bac844c61a4e5c36c8b3c9859",
       "version_major": 2,
       "version_minor": 0
      },
      "text/plain": [
       "  0%|          | 0/523005 [00:00<?, ?it/s]"
      ]
     },
     "metadata": {},
     "output_type": "display_data"
    },
    {
     "name": "stdout",
     "output_type": "stream",
     "text": [
      "ESP_012375_2035/\n",
      "Downloading https://hirise-pds.lpl.arizona.edu/PDS/EXTRAS/RDR/ESP/ORB_012300_012399/ESP_012375_2035/ESP_012375_2035_RGB.NOMAP.browse.jpg to I:\\data\\mars\\ESP_012375_2035_RGB.NOMAP.browse.jpg\n"
     ]
    },
    {
     "data": {
      "application/vnd.jupyter.widget-view+json": {
       "model_id": "0927ce2a0a804d2c97a8a3e8329ec966",
       "version_major": 2,
       "version_minor": 0
      },
      "text/plain": [
       "  0%|          | 0/651770 [00:00<?, ?it/s]"
      ]
     },
     "metadata": {},
     "output_type": "display_data"
    },
    {
     "name": "stdout",
     "output_type": "stream",
     "text": [
      "ESP_012376_0930/\n",
      "Downloading https://hirise-pds.lpl.arizona.edu/PDS/EXTRAS/RDR/ESP/ORB_012300_012399/ESP_012376_0930/ESP_012376_0930_RGB.NOMAP.browse.jpg to I:\\data\\mars\\ESP_012376_0930_RGB.NOMAP.browse.jpg\n"
     ]
    },
    {
     "data": {
      "application/vnd.jupyter.widget-view+json": {
       "model_id": "e0d3bdf8b6f14635a3b2ae3f580a564e",
       "version_major": 2,
       "version_minor": 0
      },
      "text/plain": [
       "  0%|          | 0/734768 [00:00<?, ?it/s]"
      ]
     },
     "metadata": {},
     "output_type": "display_data"
    },
    {
     "name": "stdout",
     "output_type": "stream",
     "text": [
      "ESP_012376_2180/\n",
      "Downloading https://hirise-pds.lpl.arizona.edu/PDS/EXTRAS/RDR/ESP/ORB_012300_012399/ESP_012376_2180/ESP_012376_2180_RGB.NOMAP.browse.jpg to I:\\data\\mars\\ESP_012376_2180_RGB.NOMAP.browse.jpg\n"
     ]
    },
    {
     "data": {
      "application/vnd.jupyter.widget-view+json": {
       "model_id": "51476b5725a4456280332bf099a8a5c1",
       "version_major": 2,
       "version_minor": 0
      },
      "text/plain": [
       "  0%|          | 0/599211 [00:00<?, ?it/s]"
      ]
     },
     "metadata": {},
     "output_type": "display_data"
    },
    {
     "name": "stdout",
     "output_type": "stream",
     "text": [
      "ESP_012379_1095/\n",
      "Downloading https://hirise-pds.lpl.arizona.edu/PDS/EXTRAS/RDR/ESP/ORB_012300_012399/ESP_012379_1095/ESP_012379_1095_RGB.NOMAP.browse.jpg to I:\\data\\mars\\ESP_012379_1095_RGB.NOMAP.browse.jpg\n"
     ]
    },
    {
     "data": {
      "application/vnd.jupyter.widget-view+json": {
       "model_id": "42790a1f6b0c47e48cb7f72120e1f8b8",
       "version_major": 2,
       "version_minor": 0
      },
      "text/plain": [
       "  0%|          | 0/723778 [00:00<?, ?it/s]"
      ]
     },
     "metadata": {},
     "output_type": "display_data"
    },
    {
     "name": "stdout",
     "output_type": "stream",
     "text": [
      "ESP_012379_2040/\n",
      "Downloading https://hirise-pds.lpl.arizona.edu/PDS/EXTRAS/RDR/ESP/ORB_012300_012399/ESP_012379_2040/ESP_012379_2040_RGB.NOMAP.browse.jpg to I:\\data\\mars\\ESP_012379_2040_RGB.NOMAP.browse.jpg\n"
     ]
    },
    {
     "data": {
      "application/vnd.jupyter.widget-view+json": {
       "model_id": "b22b3ad94a4e4bbf9c4368c135fea13a",
       "version_major": 2,
       "version_minor": 0
      },
      "text/plain": [
       "  0%|          | 0/577653 [00:00<?, ?it/s]"
      ]
     },
     "metadata": {},
     "output_type": "display_data"
    },
    {
     "name": "stdout",
     "output_type": "stream",
     "text": [
      "ESP_012380_1425/\n",
      "Downloading https://hirise-pds.lpl.arizona.edu/PDS/EXTRAS/RDR/ESP/ORB_012300_012399/ESP_012380_1425/ESP_012380_1425_RGB.NOMAP.browse.jpg to I:\\data\\mars\\ESP_012380_1425_RGB.NOMAP.browse.jpg\n"
     ]
    },
    {
     "data": {
      "application/vnd.jupyter.widget-view+json": {
       "model_id": "673b51f47c394548ab4a5c1b430ddb6f",
       "version_major": 2,
       "version_minor": 0
      },
      "text/plain": [
       "  0%|          | 0/755690 [00:00<?, ?it/s]"
      ]
     },
     "metadata": {},
     "output_type": "display_data"
    },
    {
     "name": "stdout",
     "output_type": "stream",
     "text": [
      "ESP_012381_0985/\n",
      "Downloading https://hirise-pds.lpl.arizona.edu/PDS/EXTRAS/RDR/ESP/ORB_012300_012399/ESP_012381_0985/ESP_012381_0985_RGB.NOMAP.browse.jpg to I:\\data\\mars\\ESP_012381_0985_RGB.NOMAP.browse.jpg\n"
     ]
    },
    {
     "data": {
      "application/vnd.jupyter.widget-view+json": {
       "model_id": "378039a1f8984fa28c6763ac6f6687b4",
       "version_major": 2,
       "version_minor": 0
      },
      "text/plain": [
       "  0%|          | 0/1059658 [00:00<?, ?it/s]"
      ]
     },
     "metadata": {},
     "output_type": "display_data"
    },
    {
     "name": "stdout",
     "output_type": "stream",
     "text": [
      "ESP_012383_1315/\n",
      "Downloading https://hirise-pds.lpl.arizona.edu/PDS/EXTRAS/RDR/ESP/ORB_012300_012399/ESP_012383_1315/ESP_012383_1315_RGB.NOMAP.browse.jpg to I:\\data\\mars\\ESP_012383_1315_RGB.NOMAP.browse.jpg\n"
     ]
    },
    {
     "data": {
      "application/vnd.jupyter.widget-view+json": {
       "model_id": "ddaa1a9e43af4dcfbd323b636c1fded4",
       "version_major": 2,
       "version_minor": 0
      },
      "text/plain": [
       "  0%|          | 0/1267368 [00:00<?, ?it/s]"
      ]
     },
     "metadata": {},
     "output_type": "display_data"
    },
    {
     "name": "stdout",
     "output_type": "stream",
     "text": [
      "ESP_012383_1905/\n",
      "Downloading https://hirise-pds.lpl.arizona.edu/PDS/EXTRAS/RDR/ESP/ORB_012300_012399/ESP_012383_1905/ESP_012383_1905_RGB.NOMAP.browse.jpg to I:\\data\\mars\\ESP_012383_1905_RGB.NOMAP.browse.jpg\n"
     ]
    },
    {
     "data": {
      "application/vnd.jupyter.widget-view+json": {
       "model_id": "fd8496c2259346cab95f34c4b8fd8988",
       "version_major": 2,
       "version_minor": 0
      },
      "text/plain": [
       "  0%|          | 0/881948 [00:00<?, ?it/s]"
      ]
     },
     "metadata": {},
     "output_type": "display_data"
    },
    {
     "name": "stdout",
     "output_type": "stream",
     "text": [
      "ESP_012385_1825/\n",
      "Downloading https://hirise-pds.lpl.arizona.edu/PDS/EXTRAS/RDR/ESP/ORB_012300_012399/ESP_012385_1825/ESP_012385_1825_RGB.NOMAP.browse.jpg to I:\\data\\mars\\ESP_012385_1825_RGB.NOMAP.browse.jpg\n"
     ]
    },
    {
     "data": {
      "application/vnd.jupyter.widget-view+json": {
       "model_id": "c80410fc1d4f41e3a02da78d891a3896",
       "version_major": 2,
       "version_minor": 0
      },
      "text/plain": [
       "  0%|          | 0/1022718 [00:00<?, ?it/s]"
      ]
     },
     "metadata": {},
     "output_type": "display_data"
    },
    {
     "name": "stdout",
     "output_type": "stream",
     "text": [
      "ESP_012386_1530/\n",
      "Downloading https://hirise-pds.lpl.arizona.edu/PDS/EXTRAS/RDR/ESP/ORB_012300_012399/ESP_012386_1530/ESP_012386_1530_RGB.NOMAP.browse.jpg to I:\\data\\mars\\ESP_012386_1530_RGB.NOMAP.browse.jpg\n"
     ]
    },
    {
     "data": {
      "application/vnd.jupyter.widget-view+json": {
       "model_id": "2f29e7e75ecb4d85b0ac961aa8169edf",
       "version_major": 2,
       "version_minor": 0
      },
      "text/plain": [
       "  0%|          | 0/1891990 [00:00<?, ?it/s]"
      ]
     },
     "metadata": {},
     "output_type": "display_data"
    },
    {
     "name": "stdout",
     "output_type": "stream",
     "text": [
      "ESP_012391_2185/\n",
      "Downloading https://hirise-pds.lpl.arizona.edu/PDS/EXTRAS/RDR/ESP/ORB_012300_012399/ESP_012391_2185/ESP_012391_2185_RGB.NOMAP.browse.jpg to I:\\data\\mars\\ESP_012391_2185_RGB.NOMAP.browse.jpg\n"
     ]
    },
    {
     "data": {
      "application/vnd.jupyter.widget-view+json": {
       "model_id": "3a069d47c33441f3a4d88b37dc4cca28",
       "version_major": 2,
       "version_minor": 0
      },
      "text/plain": [
       "  0%|          | 0/967626 [00:00<?, ?it/s]"
      ]
     },
     "metadata": {},
     "output_type": "display_data"
    },
    {
     "name": "stdout",
     "output_type": "stream",
     "text": [
      "ESP_012392_1800/\n",
      "Downloading https://hirise-pds.lpl.arizona.edu/PDS/EXTRAS/RDR/ESP/ORB_012300_012399/ESP_012392_1800/ESP_012392_1800_RGB.NOMAP.browse.jpg to I:\\data\\mars\\ESP_012392_1800_RGB.NOMAP.browse.jpg\n"
     ]
    },
    {
     "data": {
      "application/vnd.jupyter.widget-view+json": {
       "model_id": "53515401dbc245b890b32daa59b8a217",
       "version_major": 2,
       "version_minor": 0
      },
      "text/plain": [
       "  0%|          | 0/2835328 [00:00<?, ?it/s]"
      ]
     },
     "metadata": {},
     "output_type": "display_data"
    },
    {
     "name": "stdout",
     "output_type": "stream",
     "text": [
      "ESP_012393_0965/\n",
      "Downloading https://hirise-pds.lpl.arizona.edu/PDS/EXTRAS/RDR/ESP/ORB_012300_012399/ESP_012393_0965/ESP_012393_0965_RGB.NOMAP.browse.jpg to I:\\data\\mars\\ESP_012393_0965_RGB.NOMAP.browse.jpg\n"
     ]
    },
    {
     "data": {
      "application/vnd.jupyter.widget-view+json": {
       "model_id": "9c628729785c423d93aec9f925c59183",
       "version_major": 2,
       "version_minor": 0
      },
      "text/plain": [
       "  0%|          | 0/2008576 [00:00<?, ?it/s]"
      ]
     },
     "metadata": {},
     "output_type": "display_data"
    },
    {
     "name": "stdout",
     "output_type": "stream",
     "text": [
      "ESP_012395_0980/\n",
      "Downloading https://hirise-pds.lpl.arizona.edu/PDS/EXTRAS/RDR/ESP/ORB_012300_012399/ESP_012395_0980/ESP_012395_0980_RGB.NOMAP.browse.jpg to I:\\data\\mars\\ESP_012395_0980_RGB.NOMAP.browse.jpg\n"
     ]
    },
    {
     "data": {
      "application/vnd.jupyter.widget-view+json": {
       "model_id": "dd7037b74e414450ba721f0453dc27bd",
       "version_major": 2,
       "version_minor": 0
      },
      "text/plain": [
       "  0%|          | 0/1296250 [00:00<?, ?it/s]"
      ]
     },
     "metadata": {},
     "output_type": "display_data"
    },
    {
     "name": "stdout",
     "output_type": "stream",
     "text": [
      "ESP_012395_1540/\n",
      "Downloading https://hirise-pds.lpl.arizona.edu/PDS/EXTRAS/RDR/ESP/ORB_012300_012399/ESP_012395_1540/ESP_012395_1540_RGB.NOMAP.browse.jpg to I:\\data\\mars\\ESP_012395_1540_RGB.NOMAP.browse.jpg\n"
     ]
    },
    {
     "data": {
      "application/vnd.jupyter.widget-view+json": {
       "model_id": "e60bf114bc8e4b8bbe605906e126c03f",
       "version_major": 2,
       "version_minor": 0
      },
      "text/plain": [
       "  0%|          | 0/1191581 [00:00<?, ?it/s]"
      ]
     },
     "metadata": {},
     "output_type": "display_data"
    },
    {
     "name": "stdout",
     "output_type": "stream",
     "text": [
      "ESP_012396_1010/\n",
      "Downloading https://hirise-pds.lpl.arizona.edu/PDS/EXTRAS/RDR/ESP/ORB_012300_012399/ESP_012396_1010/ESP_012396_1010_RGB.NOMAP.browse.jpg to I:\\data\\mars\\ESP_012396_1010_RGB.NOMAP.browse.jpg\n"
     ]
    },
    {
     "data": {
      "application/vnd.jupyter.widget-view+json": {
       "model_id": "b19168ceb6424651b1b818a2c292f27b",
       "version_major": 2,
       "version_minor": 0
      },
      "text/plain": [
       "  0%|          | 0/1143402 [00:00<?, ?it/s]"
      ]
     },
     "metadata": {},
     "output_type": "display_data"
    },
    {
     "name": "stdout",
     "output_type": "stream",
     "text": [
      "ESP_012396_2215/\n",
      "Downloading https://hirise-pds.lpl.arizona.edu/PDS/EXTRAS/RDR/ESP/ORB_012300_012399/ESP_012396_2215/ESP_012396_2215_RGB.NOMAP.browse.jpg to I:\\data\\mars\\ESP_012396_2215_RGB.NOMAP.browse.jpg\n"
     ]
    },
    {
     "data": {
      "application/vnd.jupyter.widget-view+json": {
       "model_id": "66ce919693004990b3de6e70dd24ceac",
       "version_major": 2,
       "version_minor": 0
      },
      "text/plain": [
       "  0%|          | 0/1286390 [00:00<?, ?it/s]"
      ]
     },
     "metadata": {},
     "output_type": "display_data"
    },
    {
     "name": "stdout",
     "output_type": "stream",
     "text": [
      "ESP_012398_1775/\n",
      "Downloading https://hirise-pds.lpl.arizona.edu/PDS/EXTRAS/RDR/ESP/ORB_012300_012399/ESP_012398_1775/ESP_012398_1775_RGB.NOMAP.browse.jpg to I:\\data\\mars\\ESP_012398_1775_RGB.NOMAP.browse.jpg\n"
     ]
    },
    {
     "data": {
      "application/vnd.jupyter.widget-view+json": {
       "model_id": "fb3c12d6e1a64112b24c16d2ef207c36",
       "version_major": 2,
       "version_minor": 0
      },
      "text/plain": [
       "  0%|          | 0/984719 [00:00<?, ?it/s]"
      ]
     },
     "metadata": {},
     "output_type": "display_data"
    },
    {
     "name": "stdout",
     "output_type": "stream",
     "text": [
      "-------------------------------------------------- ORB_012400_012499/\n",
      "ESP_012404_2015/\n",
      "Downloading https://hirise-pds.lpl.arizona.edu/PDS/EXTRAS/RDR/ESP/ORB_012400_012499/ESP_012404_2015/ESP_012404_2015_RGB.NOMAP.browse.jpg to I:\\data\\mars\\ESP_012404_2015_RGB.NOMAP.browse.jpg\n"
     ]
    },
    {
     "data": {
      "application/vnd.jupyter.widget-view+json": {
       "model_id": "2d4e4c9ef39d49ab9e70e8bc51dbc816",
       "version_major": 2,
       "version_minor": 0
      },
      "text/plain": [
       "  0%|          | 0/1420115 [00:00<?, ?it/s]"
      ]
     },
     "metadata": {},
     "output_type": "display_data"
    },
    {
     "name": "stdout",
     "output_type": "stream",
     "text": [
      "ESP_012405_1425/\n",
      "Downloading https://hirise-pds.lpl.arizona.edu/PDS/EXTRAS/RDR/ESP/ORB_012400_012499/ESP_012405_1425/ESP_012405_1425_RGB.NOMAP.browse.jpg to I:\\data\\mars\\ESP_012405_1425_RGB.NOMAP.browse.jpg\n"
     ]
    },
    {
     "data": {
      "application/vnd.jupyter.widget-view+json": {
       "model_id": "49f554a9cda44d2a8eb0d04e630b59e6",
       "version_major": 2,
       "version_minor": 0
      },
      "text/plain": [
       "  0%|          | 0/1759395 [00:00<?, ?it/s]"
      ]
     },
     "metadata": {},
     "output_type": "display_data"
    },
    {
     "name": "stdout",
     "output_type": "stream",
     "text": [
      "ESP_012408_1465/\n",
      "Downloading https://hirise-pds.lpl.arizona.edu/PDS/EXTRAS/RDR/ESP/ORB_012400_012499/ESP_012408_1465/ESP_012408_1465_RGB.NOMAP.browse.jpg to I:\\data\\mars\\ESP_012408_1465_RGB.NOMAP.browse.jpg\n"
     ]
    },
    {
     "data": {
      "application/vnd.jupyter.widget-view+json": {
       "model_id": "d10f1fe4cc444458a8f475025a85a65c",
       "version_major": 2,
       "version_minor": 0
      },
      "text/plain": [
       "  0%|          | 0/2391461 [00:00<?, ?it/s]"
      ]
     },
     "metadata": {},
     "output_type": "display_data"
    },
    {
     "name": "stdout",
     "output_type": "stream",
     "text": [
      "ESP_012409_0980/\n",
      "Downloading https://hirise-pds.lpl.arizona.edu/PDS/EXTRAS/RDR/ESP/ORB_012400_012499/ESP_012409_0980/ESP_012409_0980_RGB.NOMAP.browse.jpg to I:\\data\\mars\\ESP_012409_0980_RGB.NOMAP.browse.jpg\n"
     ]
    },
    {
     "data": {
      "application/vnd.jupyter.widget-view+json": {
       "model_id": "c510ab231831489f866a1894176f98a4",
       "version_major": 2,
       "version_minor": 0
      },
      "text/plain": [
       "  0%|          | 0/1295057 [00:00<?, ?it/s]"
      ]
     },
     "metadata": {},
     "output_type": "display_data"
    },
    {
     "name": "stdout",
     "output_type": "stream",
     "text": [
      "ESP_012410_1835/\n",
      "Downloading https://hirise-pds.lpl.arizona.edu/PDS/EXTRAS/RDR/ESP/ORB_012400_012499/ESP_012410_1835/ESP_012410_1835_RGB.NOMAP.browse.jpg to I:\\data\\mars\\ESP_012410_1835_RGB.NOMAP.browse.jpg\n"
     ]
    },
    {
     "data": {
      "application/vnd.jupyter.widget-view+json": {
       "model_id": "5df525dc55c944c292362042f1153c2b",
       "version_major": 2,
       "version_minor": 0
      },
      "text/plain": [
       "  0%|          | 0/314203 [00:00<?, ?it/s]"
      ]
     },
     "metadata": {},
     "output_type": "display_data"
    },
    {
     "name": "stdout",
     "output_type": "stream",
     "text": [
      "ESP_012411_1320/\n",
      "Downloading https://hirise-pds.lpl.arizona.edu/PDS/EXTRAS/RDR/ESP/ORB_012400_012499/ESP_012411_1320/ESP_012411_1320_RGB.NOMAP.browse.jpg to I:\\data\\mars\\ESP_012411_1320_RGB.NOMAP.browse.jpg\n"
     ]
    },
    {
     "data": {
      "application/vnd.jupyter.widget-view+json": {
       "model_id": "ee878ebdbaa44579930a4b48a928a57d",
       "version_major": 2,
       "version_minor": 0
      },
      "text/plain": [
       "  0%|          | 0/743159 [00:00<?, ?it/s]"
      ]
     },
     "metadata": {},
     "output_type": "display_data"
    },
    {
     "name": "stdout",
     "output_type": "stream",
     "text": [
      "ESP_012412_1775/\n",
      "Downloading https://hirise-pds.lpl.arizona.edu/PDS/EXTRAS/RDR/ESP/ORB_012400_012499/ESP_012412_1775/ESP_012412_1775_RGB.NOMAP.browse.jpg to I:\\data\\mars\\ESP_012412_1775_RGB.NOMAP.browse.jpg\n"
     ]
    },
    {
     "data": {
      "application/vnd.jupyter.widget-view+json": {
       "model_id": "bbe57560f1784440acf8601e0251cc98",
       "version_major": 2,
       "version_minor": 0
      },
      "text/plain": [
       "  0%|          | 0/807267 [00:00<?, ?it/s]"
      ]
     },
     "metadata": {},
     "output_type": "display_data"
    },
    {
     "name": "stdout",
     "output_type": "stream",
     "text": [
      "ESP_012413_1720/\n",
      "\tfailed to find filename\n",
      "ESP_012416_1460/\n",
      "Downloading https://hirise-pds.lpl.arizona.edu/PDS/EXTRAS/RDR/ESP/ORB_012400_012499/ESP_012416_1460/ESP_012416_1460_RGB.NOMAP.browse.jpg to I:\\data\\mars\\ESP_012416_1460_RGB.NOMAP.browse.jpg\n"
     ]
    },
    {
     "data": {
      "application/vnd.jupyter.widget-view+json": {
       "model_id": "80116d278f9a4b549a3c90de09ae6347",
       "version_major": 2,
       "version_minor": 0
      },
      "text/plain": [
       "  0%|          | 0/802846 [00:00<?, ?it/s]"
      ]
     },
     "metadata": {},
     "output_type": "display_data"
    },
    {
     "name": "stdout",
     "output_type": "stream",
     "text": [
      "ESP_012417_1435/\n",
      "Downloading https://hirise-pds.lpl.arizona.edu/PDS/EXTRAS/RDR/ESP/ORB_012400_012499/ESP_012417_1435/ESP_012417_1435_RGB.NOMAP.browse.jpg to I:\\data\\mars\\ESP_012417_1435_RGB.NOMAP.browse.jpg\n"
     ]
    },
    {
     "data": {
      "application/vnd.jupyter.widget-view+json": {
       "model_id": "11de14e482814a30b5a60e63616b7d66",
       "version_major": 2,
       "version_minor": 0
      },
      "text/plain": [
       "  0%|          | 0/530001 [00:00<?, ?it/s]"
      ]
     },
     "metadata": {},
     "output_type": "display_data"
    },
    {
     "name": "stdout",
     "output_type": "stream",
     "text": [
      "ESP_012418_1875/\n",
      "Downloading https://hirise-pds.lpl.arizona.edu/PDS/EXTRAS/RDR/ESP/ORB_012400_012499/ESP_012418_1875/ESP_012418_1875_RGB.NOMAP.browse.jpg to I:\\data\\mars\\ESP_012418_1875_RGB.NOMAP.browse.jpg\n"
     ]
    },
    {
     "data": {
      "application/vnd.jupyter.widget-view+json": {
       "model_id": "d8ee194ec58f4c7896bc326c69aea69c",
       "version_major": 2,
       "version_minor": 0
      },
      "text/plain": [
       "  0%|          | 0/569755 [00:00<?, ?it/s]"
      ]
     },
     "metadata": {},
     "output_type": "display_data"
    },
    {
     "name": "stdout",
     "output_type": "stream",
     "text": [
      "ESP_012419_1865/\n",
      "Downloading https://hirise-pds.lpl.arizona.edu/PDS/EXTRAS/RDR/ESP/ORB_012400_012499/ESP_012419_1865/ESP_012419_1865_RGB.NOMAP.browse.jpg to I:\\data\\mars\\ESP_012419_1865_RGB.NOMAP.browse.jpg\n"
     ]
    },
    {
     "data": {
      "application/vnd.jupyter.widget-view+json": {
       "model_id": "aec5d55f0a4a489ba9cb470481980cb4",
       "version_major": 2,
       "version_minor": 0
      },
      "text/plain": [
       "  0%|          | 0/631524 [00:00<?, ?it/s]"
      ]
     },
     "metadata": {},
     "output_type": "display_data"
    },
    {
     "name": "stdout",
     "output_type": "stream",
     "text": [
      "ESP_012422_1785/\n",
      "Downloading https://hirise-pds.lpl.arizona.edu/PDS/EXTRAS/RDR/ESP/ORB_012400_012499/ESP_012422_1785/ESP_012422_1785_RGB.NOMAP.browse.jpg to I:\\data\\mars\\ESP_012422_1785_RGB.NOMAP.browse.jpg\n"
     ]
    },
    {
     "data": {
      "application/vnd.jupyter.widget-view+json": {
       "model_id": "13ec18fda5d84a12926d9deee3b74199",
       "version_major": 2,
       "version_minor": 0
      },
      "text/plain": [
       "  0%|          | 0/638171 [00:00<?, ?it/s]"
      ]
     },
     "metadata": {},
     "output_type": "display_data"
    },
    {
     "name": "stdout",
     "output_type": "stream",
     "text": [
      "ESP_012423_0930/\n",
      "Downloading https://hirise-pds.lpl.arizona.edu/PDS/EXTRAS/RDR/ESP/ORB_012400_012499/ESP_012423_0930/ESP_012423_0930_RGB.NOMAP.browse.jpg to I:\\data\\mars\\ESP_012423_0930_RGB.NOMAP.browse.jpg\n"
     ]
    },
    {
     "data": {
      "application/vnd.jupyter.widget-view+json": {
       "model_id": "7ea11c1ea0d34fe687e65cc1b351e46f",
       "version_major": 2,
       "version_minor": 0
      },
      "text/plain": [
       "  0%|          | 0/1758954 [00:00<?, ?it/s]"
      ]
     },
     "metadata": {},
     "output_type": "display_data"
    },
    {
     "name": "stdout",
     "output_type": "stream",
     "text": [
      "ESP_012423_1560/\n",
      "Downloading https://hirise-pds.lpl.arizona.edu/PDS/EXTRAS/RDR/ESP/ORB_012400_012499/ESP_012423_1560/ESP_012423_1560_RGB.NOMAP.browse.jpg to I:\\data\\mars\\ESP_012423_1560_RGB.NOMAP.browse.jpg\n"
     ]
    },
    {
     "data": {
      "application/vnd.jupyter.widget-view+json": {
       "model_id": "f3172ee6f4544895b85f6db0644ac995",
       "version_major": 2,
       "version_minor": 0
      },
      "text/plain": [
       "  0%|          | 0/852164 [00:00<?, ?it/s]"
      ]
     },
     "metadata": {},
     "output_type": "display_data"
    },
    {
     "name": "stdout",
     "output_type": "stream",
     "text": [
      "ESP_012424_1410/\n",
      "Downloading https://hirise-pds.lpl.arizona.edu/PDS/EXTRAS/RDR/ESP/ORB_012400_012499/ESP_012424_1410/ESP_012424_1410_RGB.NOMAP.browse.jpg to I:\\data\\mars\\ESP_012424_1410_RGB.NOMAP.browse.jpg\n"
     ]
    },
    {
     "data": {
      "application/vnd.jupyter.widget-view+json": {
       "model_id": "53b477db9c194672bf619a1d9a9dd1fc",
       "version_major": 2,
       "version_minor": 0
      },
      "text/plain": [
       "  0%|          | 0/1271820 [00:00<?, ?it/s]"
      ]
     },
     "metadata": {},
     "output_type": "display_data"
    },
    {
     "name": "stdout",
     "output_type": "stream",
     "text": [
      "ESP_012425_1455/\n",
      "Downloading https://hirise-pds.lpl.arizona.edu/PDS/EXTRAS/RDR/ESP/ORB_012400_012499/ESP_012425_1455/ESP_012425_1455_RGB.NOMAP.browse.jpg to I:\\data\\mars\\ESP_012425_1455_RGB.NOMAP.browse.jpg\n"
     ]
    },
    {
     "data": {
      "application/vnd.jupyter.widget-view+json": {
       "model_id": "acc1f5bee6a547c3b93d6a1a09215c58",
       "version_major": 2,
       "version_minor": 0
      },
      "text/plain": [
       "  0%|          | 0/800477 [00:00<?, ?it/s]"
      ]
     },
     "metadata": {},
     "output_type": "display_data"
    },
    {
     "name": "stdout",
     "output_type": "stream",
     "text": [
      "ESP_012425_2045/\n",
      "Downloading https://hirise-pds.lpl.arizona.edu/PDS/EXTRAS/RDR/ESP/ORB_012400_012499/ESP_012425_2045/ESP_012425_2045_RGB.NOMAP.browse.jpg to I:\\data\\mars\\ESP_012425_2045_RGB.NOMAP.browse.jpg\n"
     ]
    },
    {
     "data": {
      "application/vnd.jupyter.widget-view+json": {
       "model_id": "d6284a5f1c1541abac2cce5910ddcb03",
       "version_major": 2,
       "version_minor": 0
      },
      "text/plain": [
       "  0%|          | 0/1093247 [00:00<?, ?it/s]"
      ]
     },
     "metadata": {},
     "output_type": "display_data"
    },
    {
     "name": "stdout",
     "output_type": "stream",
     "text": [
      "ESP_012426_1490/\n",
      "Downloading https://hirise-pds.lpl.arizona.edu/PDS/EXTRAS/RDR/ESP/ORB_012400_012499/ESP_012426_1490/ESP_012426_1490_RGB.NOMAP.browse.jpg to I:\\data\\mars\\ESP_012426_1490_RGB.NOMAP.browse.jpg\n"
     ]
    },
    {
     "data": {
      "application/vnd.jupyter.widget-view+json": {
       "model_id": "2faef5095cdc4b8b92ca758a3dadf7ac",
       "version_major": 2,
       "version_minor": 0
      },
      "text/plain": [
       "  0%|          | 0/386948 [00:00<?, ?it/s]"
      ]
     },
     "metadata": {},
     "output_type": "display_data"
    },
    {
     "name": "stdout",
     "output_type": "stream",
     "text": [
      "ESP_012427_1685/\n",
      "Downloading https://hirise-pds.lpl.arizona.edu/PDS/EXTRAS/RDR/ESP/ORB_012400_012499/ESP_012427_1685/ESP_012427_1685_RGB.NOMAP.browse.jpg to I:\\data\\mars\\ESP_012427_1685_RGB.NOMAP.browse.jpg\n"
     ]
    },
    {
     "data": {
      "application/vnd.jupyter.widget-view+json": {
       "model_id": "dab6f3e3dbe54ab5a6c9bbbf91f9800d",
       "version_major": 2,
       "version_minor": 0
      },
      "text/plain": [
       "  0%|          | 0/1009233 [00:00<?, ?it/s]"
      ]
     },
     "metadata": {},
     "output_type": "display_data"
    },
    {
     "name": "stdout",
     "output_type": "stream",
     "text": [
      "ESP_012428_1390/\n",
      "Downloading https://hirise-pds.lpl.arizona.edu/PDS/EXTRAS/RDR/ESP/ORB_012400_012499/ESP_012428_1390/ESP_012428_1390_RGB.NOMAP.browse.jpg to I:\\data\\mars\\ESP_012428_1390_RGB.NOMAP.browse.jpg\n"
     ]
    },
    {
     "data": {
      "application/vnd.jupyter.widget-view+json": {
       "model_id": "9056bb4ff59d4cce80310784fa129807",
       "version_major": 2,
       "version_minor": 0
      },
      "text/plain": [
       "  0%|          | 0/448805 [00:00<?, ?it/s]"
      ]
     },
     "metadata": {},
     "output_type": "display_data"
    },
    {
     "name": "stdout",
     "output_type": "stream",
     "text": [
      "ESP_012429_1910/\n",
      "Downloading https://hirise-pds.lpl.arizona.edu/PDS/EXTRAS/RDR/ESP/ORB_012400_012499/ESP_012429_1910/ESP_012429_1910_RGB.NOMAP.browse.jpg to I:\\data\\mars\\ESP_012429_1910_RGB.NOMAP.browse.jpg\n"
     ]
    },
    {
     "data": {
      "application/vnd.jupyter.widget-view+json": {
       "model_id": "cce805134c4c4926b65fa6119bb4c221",
       "version_major": 2,
       "version_minor": 0
      },
      "text/plain": [
       "  0%|          | 0/985081 [00:00<?, ?it/s]"
      ]
     },
     "metadata": {},
     "output_type": "display_data"
    },
    {
     "name": "stdout",
     "output_type": "stream",
     "text": [
      "ESP_012431_2050/\n",
      "Downloading https://hirise-pds.lpl.arizona.edu/PDS/EXTRAS/RDR/ESP/ORB_012400_012499/ESP_012431_2050/ESP_012431_2050_RGB.NOMAP.browse.jpg to I:\\data\\mars\\ESP_012431_2050_RGB.NOMAP.browse.jpg\n"
     ]
    },
    {
     "data": {
      "application/vnd.jupyter.widget-view+json": {
       "model_id": "9e18d696e9844ecca9ee81316ce05305",
       "version_major": 2,
       "version_minor": 0
      },
      "text/plain": [
       "  0%|          | 0/1391097 [00:00<?, ?it/s]"
      ]
     },
     "metadata": {},
     "output_type": "display_data"
    },
    {
     "name": "stdout",
     "output_type": "stream",
     "text": [
      "ESP_012434_1420/\n",
      "Downloading https://hirise-pds.lpl.arizona.edu/PDS/EXTRAS/RDR/ESP/ORB_012400_012499/ESP_012434_1420/ESP_012434_1420_RGB.NOMAP.browse.jpg to I:\\data\\mars\\ESP_012434_1420_RGB.NOMAP.browse.jpg\n"
     ]
    },
    {
     "data": {
      "application/vnd.jupyter.widget-view+json": {
       "model_id": "76a9dc61e8be46c6a8ed0944cfc1b5c4",
       "version_major": 2,
       "version_minor": 0
      },
      "text/plain": [
       "  0%|          | 0/775685 [00:00<?, ?it/s]"
      ]
     },
     "metadata": {},
     "output_type": "display_data"
    },
    {
     "name": "stdout",
     "output_type": "stream",
     "text": [
      "ESP_012434_2165/\n",
      "\tfailed to find filename\n",
      "ESP_012435_1500/\n",
      "Downloading https://hirise-pds.lpl.arizona.edu/PDS/EXTRAS/RDR/ESP/ORB_012400_012499/ESP_012435_1500/ESP_012435_1500_RGB.NOMAP.browse.jpg to I:\\data\\mars\\ESP_012435_1500_RGB.NOMAP.browse.jpg\n"
     ]
    },
    {
     "data": {
      "application/vnd.jupyter.widget-view+json": {
       "model_id": "224b3a17c51a4bdf84bc4581120bf18e",
       "version_major": 2,
       "version_minor": 0
      },
      "text/plain": [
       "  0%|          | 0/921167 [00:00<?, ?it/s]"
      ]
     },
     "metadata": {},
     "output_type": "display_data"
    },
    {
     "name": "stdout",
     "output_type": "stream",
     "text": [
      "ESP_012435_2015/\n",
      "Downloading https://hirise-pds.lpl.arizona.edu/PDS/EXTRAS/RDR/ESP/ORB_012400_012499/ESP_012435_2015/ESP_012435_2015_RGB.NOMAP.browse.jpg to I:\\data\\mars\\ESP_012435_2015_RGB.NOMAP.browse.jpg\n"
     ]
    },
    {
     "data": {
      "application/vnd.jupyter.widget-view+json": {
       "model_id": "0d98a6782ce04300bbf71e588aedb4fa",
       "version_major": 2,
       "version_minor": 0
      },
      "text/plain": [
       "  0%|          | 0/806986 [00:00<?, ?it/s]"
      ]
     },
     "metadata": {},
     "output_type": "display_data"
    },
    {
     "name": "stdout",
     "output_type": "stream",
     "text": [
      "ESP_012436_0980/\n",
      "Downloading https://hirise-pds.lpl.arizona.edu/PDS/EXTRAS/RDR/ESP/ORB_012400_012499/ESP_012436_0980/ESP_012436_0980_RGB.NOMAP.browse.jpg to I:\\data\\mars\\ESP_012436_0980_RGB.NOMAP.browse.jpg\n"
     ]
    },
    {
     "data": {
      "application/vnd.jupyter.widget-view+json": {
       "model_id": "9e1a470648ea4e59939c03629d5403ec",
       "version_major": 2,
       "version_minor": 0
      },
      "text/plain": [
       "  0%|          | 0/2751134 [00:00<?, ?it/s]"
      ]
     },
     "metadata": {},
     "output_type": "display_data"
    },
    {
     "name": "stdout",
     "output_type": "stream",
     "text": [
      "ESP_012437_1845/\n",
      "Downloading https://hirise-pds.lpl.arizona.edu/PDS/EXTRAS/RDR/ESP/ORB_012400_012499/ESP_012437_1845/ESP_012437_1845_RGB.NOMAP.browse.jpg to I:\\data\\mars\\ESP_012437_1845_RGB.NOMAP.browse.jpg\n"
     ]
    },
    {
     "data": {
      "application/vnd.jupyter.widget-view+json": {
       "model_id": "0ae8d07bfbb04a029ba778d148811cf7",
       "version_major": 2,
       "version_minor": 0
      },
      "text/plain": [
       "  0%|          | 0/863386 [00:00<?, ?it/s]"
      ]
     },
     "metadata": {},
     "output_type": "display_data"
    },
    {
     "name": "stdout",
     "output_type": "stream",
     "text": [
      "ESP_012438_1795/\n",
      "Downloading https://hirise-pds.lpl.arizona.edu/PDS/EXTRAS/RDR/ESP/ORB_012400_012499/ESP_012438_1795/ESP_012438_1795_RGB.NOMAP.browse.jpg to I:\\data\\mars\\ESP_012438_1795_RGB.NOMAP.browse.jpg\n"
     ]
    },
    {
     "data": {
      "application/vnd.jupyter.widget-view+json": {
       "model_id": "7677fc8f666a44ee8ea471fc3008f7fa",
       "version_major": 2,
       "version_minor": 0
      },
      "text/plain": [
       "  0%|          | 0/587170 [00:00<?, ?it/s]"
      ]
     },
     "metadata": {},
     "output_type": "display_data"
    },
    {
     "name": "stdout",
     "output_type": "stream",
     "text": [
      "ESP_012439_1665/\n",
      "\tfailed to find filename\n",
      "ESP_012440_1735/\n",
      "Downloading https://hirise-pds.lpl.arizona.edu/PDS/EXTRAS/RDR/ESP/ORB_012400_012499/ESP_012440_1735/ESP_012440_1735_RGB.NOMAP.browse.jpg to I:\\data\\mars\\ESP_012440_1735_RGB.NOMAP.browse.jpg\n"
     ]
    },
    {
     "data": {
      "application/vnd.jupyter.widget-view+json": {
       "model_id": "9456715e4fc14e85aa4962e3c2391244",
       "version_major": 2,
       "version_minor": 0
      },
      "text/plain": [
       "  0%|          | 0/915669 [00:00<?, ?it/s]"
      ]
     },
     "metadata": {},
     "output_type": "display_data"
    },
    {
     "name": "stdout",
     "output_type": "stream",
     "text": [
      "ESP_012441_1775/\n",
      "Downloading https://hirise-pds.lpl.arizona.edu/PDS/EXTRAS/RDR/ESP/ORB_012400_012499/ESP_012441_1775/ESP_012441_1775_RGB.NOMAP.browse.jpg to I:\\data\\mars\\ESP_012441_1775_RGB.NOMAP.browse.jpg\n"
     ]
    },
    {
     "data": {
      "application/vnd.jupyter.widget-view+json": {
       "model_id": "d9cdc5b48dd64f0484090cd2f5312d43",
       "version_major": 2,
       "version_minor": 0
      },
      "text/plain": [
       "  0%|          | 0/549940 [00:00<?, ?it/s]"
      ]
     },
     "metadata": {},
     "output_type": "display_data"
    },
    {
     "name": "stdout",
     "output_type": "stream",
     "text": [
      "ESP_012444_2065/\n",
      "Downloading https://hirise-pds.lpl.arizona.edu/PDS/EXTRAS/RDR/ESP/ORB_012400_012499/ESP_012444_2065/ESP_012444_2065_RGB.NOMAP.browse.jpg to I:\\data\\mars\\ESP_012444_2065_RGB.NOMAP.browse.jpg\n"
     ]
    },
    {
     "data": {
      "application/vnd.jupyter.widget-view+json": {
       "model_id": "492c8e08499542bc89a1bb06b2520e0b",
       "version_major": 2,
       "version_minor": 0
      },
      "text/plain": [
       "  0%|          | 0/1151764 [00:00<?, ?it/s]"
      ]
     },
     "metadata": {},
     "output_type": "display_data"
    },
    {
     "name": "stdout",
     "output_type": "stream",
     "text": [
      "ESP_012445_1135/\n",
      "Downloading https://hirise-pds.lpl.arizona.edu/PDS/EXTRAS/RDR/ESP/ORB_012400_012499/ESP_012445_1135/ESP_012445_1135_RGB.NOMAP.browse.jpg to I:\\data\\mars\\ESP_012445_1135_RGB.NOMAP.browse.jpg\n"
     ]
    },
    {
     "data": {
      "application/vnd.jupyter.widget-view+json": {
       "model_id": "c3a3662c5b6c4855ac3e582056c52fc1",
       "version_major": 2,
       "version_minor": 0
      },
      "text/plain": [
       "  0%|          | 0/1788533 [00:00<?, ?it/s]"
      ]
     },
     "metadata": {},
     "output_type": "display_data"
    },
    {
     "name": "stdout",
     "output_type": "stream",
     "text": [
      "ESP_012445_1880/\n",
      "Downloading https://hirise-pds.lpl.arizona.edu/PDS/EXTRAS/RDR/ESP/ORB_012400_012499/ESP_012445_1880/ESP_012445_1880_RGB.NOMAP.browse.jpg to I:\\data\\mars\\ESP_012445_1880_RGB.NOMAP.browse.jpg\n"
     ]
    },
    {
     "data": {
      "application/vnd.jupyter.widget-view+json": {
       "model_id": "2fffc30a5b2649afbcca8aa2344a1671",
       "version_major": 2,
       "version_minor": 0
      },
      "text/plain": [
       "  0%|          | 0/489042 [00:00<?, ?it/s]"
      ]
     },
     "metadata": {},
     "output_type": "display_data"
    },
    {
     "name": "stdout",
     "output_type": "stream",
     "text": [
      "ESP_012446_1435/\n",
      "Downloading https://hirise-pds.lpl.arizona.edu/PDS/EXTRAS/RDR/ESP/ORB_012400_012499/ESP_012446_1435/ESP_012446_1435_RGB.NOMAP.browse.jpg to I:\\data\\mars\\ESP_012446_1435_RGB.NOMAP.browse.jpg\n"
     ]
    },
    {
     "data": {
      "application/vnd.jupyter.widget-view+json": {
       "model_id": "b7b4f03ea5994ebd97557a8b01f392e1",
       "version_major": 2,
       "version_minor": 0
      },
      "text/plain": [
       "  0%|          | 0/528004 [00:00<?, ?it/s]"
      ]
     },
     "metadata": {},
     "output_type": "display_data"
    },
    {
     "name": "stdout",
     "output_type": "stream",
     "text": [
      "ESP_012446_2195/\n",
      "Downloading https://hirise-pds.lpl.arizona.edu/PDS/EXTRAS/RDR/ESP/ORB_012400_012499/ESP_012446_2195/ESP_012446_2195_RGB.NOMAP.browse.jpg to I:\\data\\mars\\ESP_012446_2195_RGB.NOMAP.browse.jpg\n"
     ]
    },
    {
     "data": {
      "application/vnd.jupyter.widget-view+json": {
       "model_id": "f7b52348a940466c86d3c4e4786156ea",
       "version_major": 2,
       "version_minor": 0
      },
      "text/plain": [
       "  0%|          | 0/978043 [00:00<?, ?it/s]"
      ]
     },
     "metadata": {},
     "output_type": "display_data"
    },
    {
     "name": "stdout",
     "output_type": "stream",
     "text": [
      "ESP_012448_1240/\n",
      "Downloading https://hirise-pds.lpl.arizona.edu/PDS/EXTRAS/RDR/ESP/ORB_012400_012499/ESP_012448_1240/ESP_012448_1240_RGB.NOMAP.browse.jpg to I:\\data\\mars\\ESP_012448_1240_RGB.NOMAP.browse.jpg\n"
     ]
    },
    {
     "data": {
      "application/vnd.jupyter.widget-view+json": {
       "model_id": "f082c311786b4f62ae82db51d2c3fe31",
       "version_major": 2,
       "version_minor": 0
      },
      "text/plain": [
       "  0%|          | 0/1150701 [00:00<?, ?it/s]"
      ]
     },
     "metadata": {},
     "output_type": "display_data"
    },
    {
     "name": "stdout",
     "output_type": "stream",
     "text": [
      "ESP_012451_1505/\n",
      "Downloading https://hirise-pds.lpl.arizona.edu/PDS/EXTRAS/RDR/ESP/ORB_012400_012499/ESP_012451_1505/ESP_012451_1505_RGB.NOMAP.browse.jpg to I:\\data\\mars\\ESP_012451_1505_RGB.NOMAP.browse.jpg\n"
     ]
    },
    {
     "data": {
      "application/vnd.jupyter.widget-view+json": {
       "model_id": "e32cee5e257c427ba24d3b2b88b2528c",
       "version_major": 2,
       "version_minor": 0
      },
      "text/plain": [
       "  0%|          | 0/500899 [00:00<?, ?it/s]"
      ]
     },
     "metadata": {},
     "output_type": "display_data"
    },
    {
     "name": "stdout",
     "output_type": "stream",
     "text": [
      "ESP_012452_1380/\n",
      "Downloading https://hirise-pds.lpl.arizona.edu/PDS/EXTRAS/RDR/ESP/ORB_012400_012499/ESP_012452_1380/ESP_012452_1380_RGB.NOMAP.browse.jpg to I:\\data\\mars\\ESP_012452_1380_RGB.NOMAP.browse.jpg\n"
     ]
    },
    {
     "data": {
      "application/vnd.jupyter.widget-view+json": {
       "model_id": "5b10315b82eb44618d9483eaf84c5e77",
       "version_major": 2,
       "version_minor": 0
      },
      "text/plain": [
       "  0%|          | 0/1919052 [00:00<?, ?it/s]"
      ]
     },
     "metadata": {},
     "output_type": "display_data"
    },
    {
     "name": "stdout",
     "output_type": "stream",
     "text": [
      "ESP_012455_1290/\n",
      "Downloading https://hirise-pds.lpl.arizona.edu/PDS/EXTRAS/RDR/ESP/ORB_012400_012499/ESP_012455_1290/ESP_012455_1290_RGB.NOMAP.browse.jpg to I:\\data\\mars\\ESP_012455_1290_RGB.NOMAP.browse.jpg\n"
     ]
    },
    {
     "data": {
      "application/vnd.jupyter.widget-view+json": {
       "model_id": "9503cf4f7efc439da499824b6226f6b6",
       "version_major": 2,
       "version_minor": 0
      },
      "text/plain": [
       "  0%|          | 0/1000133 [00:00<?, ?it/s]"
      ]
     },
     "metadata": {},
     "output_type": "display_data"
    },
    {
     "name": "stdout",
     "output_type": "stream",
     "text": [
      "ESP_012456_1280/\n",
      "Downloading https://hirise-pds.lpl.arizona.edu/PDS/EXTRAS/RDR/ESP/ORB_012400_012499/ESP_012456_1280/ESP_012456_1280_RGB.NOMAP.browse.jpg to I:\\data\\mars\\ESP_012456_1280_RGB.NOMAP.browse.jpg\n"
     ]
    },
    {
     "data": {
      "application/vnd.jupyter.widget-view+json": {
       "model_id": "de742dc443044f7cbb1c752e481e0c9f",
       "version_major": 2,
       "version_minor": 0
      },
      "text/plain": [
       "  0%|          | 0/455688 [00:00<?, ?it/s]"
      ]
     },
     "metadata": {},
     "output_type": "display_data"
    },
    {
     "name": "stdout",
     "output_type": "stream",
     "text": [
      "ESP_012458_1830/\n",
      "Downloading https://hirise-pds.lpl.arizona.edu/PDS/EXTRAS/RDR/ESP/ORB_012400_012499/ESP_012458_1830/ESP_012458_1830_RGB.NOMAP.browse.jpg to I:\\data\\mars\\ESP_012458_1830_RGB.NOMAP.browse.jpg\n"
     ]
    },
    {
     "data": {
      "application/vnd.jupyter.widget-view+json": {
       "model_id": "6fbff4c37319417b8cfda2d4708c954e",
       "version_major": 2,
       "version_minor": 0
      },
      "text/plain": [
       "  0%|          | 0/1156486 [00:00<?, ?it/s]"
      ]
     },
     "metadata": {},
     "output_type": "display_data"
    },
    {
     "name": "stdout",
     "output_type": "stream",
     "text": [
      "ESP_012459_1450/\n",
      "Downloading https://hirise-pds.lpl.arizona.edu/PDS/EXTRAS/RDR/ESP/ORB_012400_012499/ESP_012459_1450/ESP_012459_1450_RGB.NOMAP.browse.jpg to I:\\data\\mars\\ESP_012459_1450_RGB.NOMAP.browse.jpg\n"
     ]
    },
    {
     "data": {
      "application/vnd.jupyter.widget-view+json": {
       "model_id": "1c13b3f3bd2141b982469e21356fd0eb",
       "version_major": 2,
       "version_minor": 0
      },
      "text/plain": [
       "  0%|          | 0/787471 [00:00<?, ?it/s]"
      ]
     },
     "metadata": {},
     "output_type": "display_data"
    },
    {
     "name": "stdout",
     "output_type": "stream",
     "text": [
      "ESP_012460_1470/\n",
      "Downloading https://hirise-pds.lpl.arizona.edu/PDS/EXTRAS/RDR/ESP/ORB_012400_012499/ESP_012460_1470/ESP_012460_1470_RGB.NOMAP.browse.jpg to I:\\data\\mars\\ESP_012460_1470_RGB.NOMAP.browse.jpg\n"
     ]
    },
    {
     "data": {
      "application/vnd.jupyter.widget-view+json": {
       "model_id": "f8d741afea6d4f229c46208f0340930a",
       "version_major": 2,
       "version_minor": 0
      },
      "text/plain": [
       "  0%|          | 0/946388 [00:00<?, ?it/s]"
      ]
     },
     "metadata": {},
     "output_type": "display_data"
    },
    {
     "name": "stdout",
     "output_type": "stream",
     "text": [
      "ESP_012461_0925/\n",
      "Downloading https://hirise-pds.lpl.arizona.edu/PDS/EXTRAS/RDR/ESP/ORB_012400_012499/ESP_012461_0925/ESP_012461_0925_RGB.NOMAP.browse.jpg to I:\\data\\mars\\ESP_012461_0925_RGB.NOMAP.browse.jpg\n"
     ]
    },
    {
     "data": {
      "application/vnd.jupyter.widget-view+json": {
       "model_id": "aabd5d80b8c8447081ccb69f4af53937",
       "version_major": 2,
       "version_minor": 0
      },
      "text/plain": [
       "  0%|          | 0/1196624 [00:00<?, ?it/s]"
      ]
     },
     "metadata": {},
     "output_type": "display_data"
    },
    {
     "name": "stdout",
     "output_type": "stream",
     "text": [
      "ESP_012461_1515/\n",
      "Downloading https://hirise-pds.lpl.arizona.edu/PDS/EXTRAS/RDR/ESP/ORB_012400_012499/ESP_012461_1515/ESP_012461_1515_RGB.NOMAP.browse.jpg to I:\\data\\mars\\ESP_012461_1515_RGB.NOMAP.browse.jpg\n"
     ]
    },
    {
     "data": {
      "application/vnd.jupyter.widget-view+json": {
       "model_id": "e7031039072d45de910d9214ec23b8a9",
       "version_major": 2,
       "version_minor": 0
      },
      "text/plain": [
       "  0%|          | 0/569366 [00:00<?, ?it/s]"
      ]
     },
     "metadata": {},
     "output_type": "display_data"
    },
    {
     "name": "stdout",
     "output_type": "stream",
     "text": [
      "ESP_012463_0930/\n",
      "Downloading https://hirise-pds.lpl.arizona.edu/PDS/EXTRAS/RDR/ESP/ORB_012400_012499/ESP_012463_0930/ESP_012463_0930_RGB.NOMAP.browse.jpg to I:\\data\\mars\\ESP_012463_0930_RGB.NOMAP.browse.jpg\n"
     ]
    },
    {
     "data": {
      "application/vnd.jupyter.widget-view+json": {
       "model_id": "c8345a22b047427a8c8e8f3c87311983",
       "version_major": 2,
       "version_minor": 0
      },
      "text/plain": [
       "  0%|          | 0/3126845 [00:00<?, ?it/s]"
      ]
     },
     "metadata": {},
     "output_type": "display_data"
    },
    {
     "name": "stdout",
     "output_type": "stream",
     "text": [
      "ESP_012463_1745/\n",
      "Downloading https://hirise-pds.lpl.arizona.edu/PDS/EXTRAS/RDR/ESP/ORB_012400_012499/ESP_012463_1745/ESP_012463_1745_RGB.NOMAP.browse.jpg to I:\\data\\mars\\ESP_012463_1745_RGB.NOMAP.browse.jpg\n"
     ]
    },
    {
     "data": {
      "application/vnd.jupyter.widget-view+json": {
       "model_id": "ba4130c54f1b40449a91b0c58159a179",
       "version_major": 2,
       "version_minor": 0
      },
      "text/plain": [
       "  0%|          | 0/753887 [00:00<?, ?it/s]"
      ]
     },
     "metadata": {},
     "output_type": "display_data"
    },
    {
     "name": "stdout",
     "output_type": "stream",
     "text": [
      "ESP_012465_1560/\n",
      "\tfailed to find filename\n",
      "ESP_012466_1295/\n",
      "Downloading https://hirise-pds.lpl.arizona.edu/PDS/EXTRAS/RDR/ESP/ORB_012400_012499/ESP_012466_1295/ESP_012466_1295_RGB.NOMAP.browse.jpg to I:\\data\\mars\\ESP_012466_1295_RGB.NOMAP.browse.jpg\n"
     ]
    },
    {
     "data": {
      "application/vnd.jupyter.widget-view+json": {
       "model_id": "60b969af0ad246d5b50f14976ef12eb9",
       "version_major": 2,
       "version_minor": 0
      },
      "text/plain": [
       "  0%|          | 0/573678 [00:00<?, ?it/s]"
      ]
     },
     "metadata": {},
     "output_type": "display_data"
    },
    {
     "name": "stdout",
     "output_type": "stream",
     "text": [
      "ESP_012466_1670/\n",
      "\tfailed to find filename\n",
      "ESP_012467_0985/\n",
      "Downloading https://hirise-pds.lpl.arizona.edu/PDS/EXTRAS/RDR/ESP/ORB_012400_012499/ESP_012467_0985/ESP_012467_0985_RGB.NOMAP.browse.jpg to I:\\data\\mars\\ESP_012467_0985_RGB.NOMAP.browse.jpg\n"
     ]
    },
    {
     "data": {
      "application/vnd.jupyter.widget-view+json": {
       "model_id": "e58450244a3f4dc6adb6d752677975a5",
       "version_major": 2,
       "version_minor": 0
      },
      "text/plain": [
       "  0%|          | 0/622500 [00:00<?, ?it/s]"
      ]
     },
     "metadata": {},
     "output_type": "display_data"
    },
    {
     "name": "stdout",
     "output_type": "stream",
     "text": [
      "ESP_012467_1700/\n",
      "\tfailed to find filename\n",
      "ESP_012468_1000/\n",
      "Downloading https://hirise-pds.lpl.arizona.edu/PDS/EXTRAS/RDR/ESP/ORB_012400_012499/ESP_012468_1000/ESP_012468_1000_RGB.NOMAP.browse.jpg to I:\\data\\mars\\ESP_012468_1000_RGB.NOMAP.browse.jpg\n"
     ]
    },
    {
     "data": {
      "application/vnd.jupyter.widget-view+json": {
       "model_id": "c35dd0d6bf294702ac54e3c027acc0b2",
       "version_major": 2,
       "version_minor": 0
      },
      "text/plain": [
       "  0%|          | 0/1138484 [00:00<?, ?it/s]"
      ]
     },
     "metadata": {},
     "output_type": "display_data"
    },
    {
     "name": "stdout",
     "output_type": "stream",
     "text": [
      "ESP_012477_1775/\n",
      "Downloading https://hirise-pds.lpl.arizona.edu/PDS/EXTRAS/RDR/ESP/ORB_012400_012499/ESP_012477_1775/ESP_012477_1775_RGB.NOMAP.browse.jpg to I:\\data\\mars\\ESP_012477_1775_RGB.NOMAP.browse.jpg\n"
     ]
    },
    {
     "data": {
      "application/vnd.jupyter.widget-view+json": {
       "model_id": "dabe1339b5e34fc296ba6be98bc29333",
       "version_major": 2,
       "version_minor": 0
      },
      "text/plain": [
       "  0%|          | 0/961462 [00:00<?, ?it/s]"
      ]
     },
     "metadata": {},
     "output_type": "display_data"
    },
    {
     "name": "stdout",
     "output_type": "stream",
     "text": [
      "ESP_012478_1915/\n",
      "Downloading https://hirise-pds.lpl.arizona.edu/PDS/EXTRAS/RDR/ESP/ORB_012400_012499/ESP_012478_1915/ESP_012478_1915_RGB.NOMAP.browse.jpg to I:\\data\\mars\\ESP_012478_1915_RGB.NOMAP.browse.jpg\n"
     ]
    },
    {
     "data": {
      "application/vnd.jupyter.widget-view+json": {
       "model_id": "f44e5138c2ce4052b73090ff5fafe045",
       "version_major": 2,
       "version_minor": 0
      },
      "text/plain": [
       "  0%|          | 0/1079510 [00:00<?, ?it/s]"
      ]
     },
     "metadata": {},
     "output_type": "display_data"
    },
    {
     "name": "stdout",
     "output_type": "stream",
     "text": [
      "ESP_012479_1710/\n",
      "Downloading https://hirise-pds.lpl.arizona.edu/PDS/EXTRAS/RDR/ESP/ORB_012400_012499/ESP_012479_1710/ESP_012479_1710_RGB.NOMAP.browse.jpg to I:\\data\\mars\\ESP_012479_1710_RGB.NOMAP.browse.jpg\n"
     ]
    },
    {
     "data": {
      "application/vnd.jupyter.widget-view+json": {
       "model_id": "8daa45c75e354bdfb623e6a89b6ff967",
       "version_major": 2,
       "version_minor": 0
      },
      "text/plain": [
       "  0%|          | 0/1253890 [00:00<?, ?it/s]"
      ]
     },
     "metadata": {},
     "output_type": "display_data"
    },
    {
     "name": "stdout",
     "output_type": "stream",
     "text": [
      "ESP_012482_2110/\n",
      "Downloading https://hirise-pds.lpl.arizona.edu/PDS/EXTRAS/RDR/ESP/ORB_012400_012499/ESP_012482_2110/ESP_012482_2110_RGB.NOMAP.browse.jpg to I:\\data\\mars\\ESP_012482_2110_RGB.NOMAP.browse.jpg\n"
     ]
    },
    {
     "data": {
      "application/vnd.jupyter.widget-view+json": {
       "model_id": "526cf03652174c929c85ac975d670cf0",
       "version_major": 2,
       "version_minor": 0
      },
      "text/plain": [
       "  0%|          | 0/814971 [00:00<?, ?it/s]"
      ]
     },
     "metadata": {},
     "output_type": "display_data"
    },
    {
     "name": "stdout",
     "output_type": "stream",
     "text": [
      "ESP_012483_1425/\n",
      "Downloading https://hirise-pds.lpl.arizona.edu/PDS/EXTRAS/RDR/ESP/ORB_012400_012499/ESP_012483_1425/ESP_012483_1425_RGB.NOMAP.browse.jpg to I:\\data\\mars\\ESP_012483_1425_RGB.NOMAP.browse.jpg\n"
     ]
    },
    {
     "data": {
      "application/vnd.jupyter.widget-view+json": {
       "model_id": "69d6d4df7889414cbd60868cac8137af",
       "version_major": 2,
       "version_minor": 0
      },
      "text/plain": [
       "  0%|          | 0/521883 [00:00<?, ?it/s]"
      ]
     },
     "metadata": {},
     "output_type": "display_data"
    },
    {
     "name": "stdout",
     "output_type": "stream",
     "text": [
      "ESP_012486_1220/\n",
      "Downloading https://hirise-pds.lpl.arizona.edu/PDS/EXTRAS/RDR/ESP/ORB_012400_012499/ESP_012486_1220/ESP_012486_1220_RGB.NOMAP.browse.jpg to I:\\data\\mars\\ESP_012486_1220_RGB.NOMAP.browse.jpg\n"
     ]
    },
    {
     "data": {
      "application/vnd.jupyter.widget-view+json": {
       "model_id": "4e22f904ee664f57ae34b15a155ef28e",
       "version_major": 2,
       "version_minor": 0
      },
      "text/plain": [
       "  0%|          | 0/793282 [00:00<?, ?it/s]"
      ]
     },
     "metadata": {},
     "output_type": "display_data"
    },
    {
     "name": "stdout",
     "output_type": "stream",
     "text": [
      "ESP_012488_0930/\n",
      "Downloading https://hirise-pds.lpl.arizona.edu/PDS/EXTRAS/RDR/ESP/ORB_012400_012499/ESP_012488_0930/ESP_012488_0930_RGB.NOMAP.browse.jpg to I:\\data\\mars\\ESP_012488_0930_RGB.NOMAP.browse.jpg\n"
     ]
    },
    {
     "data": {
      "application/vnd.jupyter.widget-view+json": {
       "model_id": "bb8a6ba9d10f4e279eff97118db83bc8",
       "version_major": 2,
       "version_minor": 0
      },
      "text/plain": [
       "  0%|          | 0/2409566 [00:00<?, ?it/s]"
      ]
     },
     "metadata": {},
     "output_type": "display_data"
    },
    {
     "name": "stdout",
     "output_type": "stream",
     "text": [
      "ESP_012490_1835/\n",
      "Downloading https://hirise-pds.lpl.arizona.edu/PDS/EXTRAS/RDR/ESP/ORB_012400_012499/ESP_012490_1835/ESP_012490_1835_RGB.NOMAP.browse.jpg to I:\\data\\mars\\ESP_012490_1835_RGB.NOMAP.browse.jpg\n"
     ]
    },
    {
     "data": {
      "application/vnd.jupyter.widget-view+json": {
       "model_id": "aa2784cf992e44a4b47459d3e0d24564",
       "version_major": 2,
       "version_minor": 0
      },
      "text/plain": [
       "  0%|          | 0/1550798 [00:00<?, ?it/s]"
      ]
     },
     "metadata": {},
     "output_type": "display_data"
    },
    {
     "name": "stdout",
     "output_type": "stream",
     "text": [
      "ESP_012491_1170/\n",
      "Downloading https://hirise-pds.lpl.arizona.edu/PDS/EXTRAS/RDR/ESP/ORB_012400_012499/ESP_012491_1170/ESP_012491_1170_RGB.NOMAP.browse.jpg to I:\\data\\mars\\ESP_012491_1170_RGB.NOMAP.browse.jpg\n"
     ]
    },
    {
     "data": {
      "application/vnd.jupyter.widget-view+json": {
       "model_id": "606d922acf9a446a8c2d4d380bfe9379",
       "version_major": 2,
       "version_minor": 0
      },
      "text/plain": [
       "  0%|          | 0/1029337 [00:00<?, ?it/s]"
      ]
     },
     "metadata": {},
     "output_type": "display_data"
    },
    {
     "name": "stdout",
     "output_type": "stream",
     "text": [
      "ESP_012493_1700/\n",
      "Downloading https://hirise-pds.lpl.arizona.edu/PDS/EXTRAS/RDR/ESP/ORB_012400_012499/ESP_012493_1700/ESP_012493_1700_RGB.NOMAP.browse.jpg to I:\\data\\mars\\ESP_012493_1700_RGB.NOMAP.browse.jpg\n"
     ]
    },
    {
     "data": {
      "application/vnd.jupyter.widget-view+json": {
       "model_id": "5aff1f6021ac4487a9af9d9e858da00e",
       "version_major": 2,
       "version_minor": 0
      },
      "text/plain": [
       "  0%|          | 0/1213655 [00:00<?, ?it/s]"
      ]
     },
     "metadata": {},
     "output_type": "display_data"
    },
    {
     "name": "stdout",
     "output_type": "stream",
     "text": [
      "ESP_012494_2050/\n",
      "Downloading https://hirise-pds.lpl.arizona.edu/PDS/EXTRAS/RDR/ESP/ORB_012400_012499/ESP_012494_2050/ESP_012494_2050_RGB.NOMAP.browse.jpg to I:\\data\\mars\\ESP_012494_2050_RGB.NOMAP.browse.jpg\n"
     ]
    },
    {
     "data": {
      "application/vnd.jupyter.widget-view+json": {
       "model_id": "1c81ba2c101b41d39ff5b667d6a0b25e",
       "version_major": 2,
       "version_minor": 0
      },
      "text/plain": [
       "  0%|          | 0/375877 [00:00<?, ?it/s]"
      ]
     },
     "metadata": {},
     "output_type": "display_data"
    },
    {
     "name": "stdout",
     "output_type": "stream",
     "text": [
      "ESP_012495_1160/\n",
      "Downloading https://hirise-pds.lpl.arizona.edu/PDS/EXTRAS/RDR/ESP/ORB_012400_012499/ESP_012495_1160/ESP_012495_1160_RGB.NOMAP.browse.jpg to I:\\data\\mars\\ESP_012495_1160_RGB.NOMAP.browse.jpg\n"
     ]
    },
    {
     "data": {
      "application/vnd.jupyter.widget-view+json": {
       "model_id": "23927a4e105f435fb2a468d75cc5488d",
       "version_major": 2,
       "version_minor": 0
      },
      "text/plain": [
       "  0%|          | 0/566014 [00:00<?, ?it/s]"
      ]
     },
     "metadata": {},
     "output_type": "display_data"
    },
    {
     "name": "stdout",
     "output_type": "stream",
     "text": [
      "ESP_012496_1410/\n",
      "Downloading https://hirise-pds.lpl.arizona.edu/PDS/EXTRAS/RDR/ESP/ORB_012400_012499/ESP_012496_1410/ESP_012496_1410_RGB.NOMAP.browse.jpg to I:\\data\\mars\\ESP_012496_1410_RGB.NOMAP.browse.jpg\n"
     ]
    },
    {
     "data": {
      "application/vnd.jupyter.widget-view+json": {
       "model_id": "75015eae645049cbafbec913a071d8c0",
       "version_major": 2,
       "version_minor": 0
      },
      "text/plain": [
       "  0%|          | 0/614304 [00:00<?, ?it/s]"
      ]
     },
     "metadata": {},
     "output_type": "display_data"
    },
    {
     "name": "stdout",
     "output_type": "stream",
     "text": [
      "ESP_012497_2235/\n",
      "Downloading https://hirise-pds.lpl.arizona.edu/PDS/EXTRAS/RDR/ESP/ORB_012400_012499/ESP_012497_2235/ESP_012497_2235_RGB.NOMAP.browse.jpg to I:\\data\\mars\\ESP_012497_2235_RGB.NOMAP.browse.jpg\n"
     ]
    },
    {
     "data": {
      "application/vnd.jupyter.widget-view+json": {
       "model_id": "2c0c880f316a4003af210b815ea82fc4",
       "version_major": 2,
       "version_minor": 0
      },
      "text/plain": [
       "  0%|          | 0/907113 [00:00<?, ?it/s]"
      ]
     },
     "metadata": {},
     "output_type": "display_data"
    },
    {
     "name": "stdout",
     "output_type": "stream",
     "text": [
      "ESP_012499_0930/\n",
      "Downloading https://hirise-pds.lpl.arizona.edu/PDS/EXTRAS/RDR/ESP/ORB_012400_012499/ESP_012499_0930/ESP_012499_0930_RGB.NOMAP.browse.jpg to I:\\data\\mars\\ESP_012499_0930_RGB.NOMAP.browse.jpg\n"
     ]
    },
    {
     "data": {
      "application/vnd.jupyter.widget-view+json": {
       "model_id": "45d367a801ec4ec387dec349359632e9",
       "version_major": 2,
       "version_minor": 0
      },
      "text/plain": [
       "  0%|          | 0/2942840 [00:00<?, ?it/s]"
      ]
     },
     "metadata": {},
     "output_type": "display_data"
    },
    {
     "name": "stdout",
     "output_type": "stream",
     "text": [
      "-------------------------------------------------- ORB_012500_012599/\n",
      "ESP_012501_0945/\n",
      "Downloading https://hirise-pds.lpl.arizona.edu/PDS/EXTRAS/RDR/ESP/ORB_012500_012599/ESP_012501_0945/ESP_012501_0945_RGB.NOMAP.browse.jpg to I:\\data\\mars\\ESP_012501_0945_RGB.NOMAP.browse.jpg\n"
     ]
    },
    {
     "data": {
      "application/vnd.jupyter.widget-view+json": {
       "model_id": "f27b121bfb0642f99c83369cd4d9a78d",
       "version_major": 2,
       "version_minor": 0
      },
      "text/plain": [
       "  0%|          | 0/1858780 [00:00<?, ?it/s]"
      ]
     },
     "metadata": {},
     "output_type": "display_data"
    },
    {
     "name": "stdout",
     "output_type": "stream",
     "text": [
      "ESP_012501_1590/\n",
      "Downloading https://hirise-pds.lpl.arizona.edu/PDS/EXTRAS/RDR/ESP/ORB_012500_012599/ESP_012501_1590/ESP_012501_1590_RGB.NOMAP.browse.jpg to I:\\data\\mars\\ESP_012501_1590_RGB.NOMAP.browse.jpg\n"
     ]
    },
    {
     "data": {
      "application/vnd.jupyter.widget-view+json": {
       "model_id": "984966e1dd2b46c2831b09f5083bb41c",
       "version_major": 2,
       "version_minor": 0
      },
      "text/plain": [
       "  0%|          | 0/756274 [00:00<?, ?it/s]"
      ]
     },
     "metadata": {},
     "output_type": "display_data"
    },
    {
     "name": "stdout",
     "output_type": "stream",
     "text": [
      "ESP_012502_2145/\n",
      "Downloading https://hirise-pds.lpl.arizona.edu/PDS/EXTRAS/RDR/ESP/ORB_012500_012599/ESP_012502_2145/ESP_012502_2145_RGB.NOMAP.browse.jpg to I:\\data\\mars\\ESP_012502_2145_RGB.NOMAP.browse.jpg\n"
     ]
    },
    {
     "data": {
      "application/vnd.jupyter.widget-view+json": {
       "model_id": "9ad7c1cf2c3f4cf49a4c729b32fb5347",
       "version_major": 2,
       "version_minor": 0
      },
      "text/plain": [
       "  0%|          | 0/2457708 [00:00<?, ?it/s]"
      ]
     },
     "metadata": {},
     "output_type": "display_data"
    },
    {
     "name": "stdout",
     "output_type": "stream",
     "text": [
      "ESP_012504_0980/\n",
      "Downloading https://hirise-pds.lpl.arizona.edu/PDS/EXTRAS/RDR/ESP/ORB_012500_012599/ESP_012504_0980/ESP_012504_0980_RGB.NOMAP.browse.jpg to I:\\data\\mars\\ESP_012504_0980_RGB.NOMAP.browse.jpg\n"
     ]
    },
    {
     "data": {
      "application/vnd.jupyter.widget-view+json": {
       "model_id": "b8616da2afd745a8afc582e65d65fc13",
       "version_major": 2,
       "version_minor": 0
      },
      "text/plain": [
       "  0%|          | 0/1615661 [00:00<?, ?it/s]"
      ]
     },
     "metadata": {},
     "output_type": "display_data"
    },
    {
     "name": "stdout",
     "output_type": "stream",
     "text": [
      "ESP_012504_1410/\n",
      "Downloading https://hirise-pds.lpl.arizona.edu/PDS/EXTRAS/RDR/ESP/ORB_012500_012599/ESP_012504_1410/ESP_012504_1410_RGB.NOMAP.browse.jpg to I:\\data\\mars\\ESP_012504_1410_RGB.NOMAP.browse.jpg\n"
     ]
    },
    {
     "data": {
      "application/vnd.jupyter.widget-view+json": {
       "model_id": "fb7437b9c09141c5b1079f3bbe5c6562",
       "version_major": 2,
       "version_minor": 0
      },
      "text/plain": [
       "  0%|          | 0/1175754 [00:00<?, ?it/s]"
      ]
     },
     "metadata": {},
     "output_type": "display_data"
    },
    {
     "name": "stdout",
     "output_type": "stream",
     "text": [
      "ESP_012505_1895/\n",
      "Downloading https://hirise-pds.lpl.arizona.edu/PDS/EXTRAS/RDR/ESP/ORB_012500_012599/ESP_012505_1895/ESP_012505_1895_RGB.NOMAP.browse.jpg to I:\\data\\mars\\ESP_012505_1895_RGB.NOMAP.browse.jpg\n"
     ]
    },
    {
     "data": {
      "application/vnd.jupyter.widget-view+json": {
       "model_id": "cd5d12d3d4be4f2b94d24df6ddfe1529",
       "version_major": 2,
       "version_minor": 0
      },
      "text/plain": [
       "  0%|          | 0/1548197 [00:00<?, ?it/s]"
      ]
     },
     "metadata": {},
     "output_type": "display_data"
    },
    {
     "name": "stdout",
     "output_type": "stream",
     "text": [
      "ESP_012506_0850/\n",
      "Downloading https://hirise-pds.lpl.arizona.edu/PDS/EXTRAS/RDR/ESP/ORB_012500_012599/ESP_012506_0850/ESP_012506_0850_RGB.NOMAP.browse.jpg to I:\\data\\mars\\ESP_012506_0850_RGB.NOMAP.browse.jpg\n"
     ]
    },
    {
     "data": {
      "application/vnd.jupyter.widget-view+json": {
       "model_id": "4ffc0aa302934bdd8f49b0a9dc67e103",
       "version_major": 2,
       "version_minor": 0
      },
      "text/plain": [
       "  0%|          | 0/1230189 [00:00<?, ?it/s]"
      ]
     },
     "metadata": {},
     "output_type": "display_data"
    },
    {
     "name": "stdout",
     "output_type": "stream",
     "text": [
      "ESP_012506_1325/\n",
      "\tfailed to find filename\n",
      "ESP_012508_1985/\n",
      "Downloading https://hirise-pds.lpl.arizona.edu/PDS/EXTRAS/RDR/ESP/ORB_012500_012599/ESP_012508_1985/ESP_012508_1985_RGB.NOMAP.browse.jpg to I:\\data\\mars\\ESP_012508_1985_RGB.NOMAP.browse.jpg\n"
     ]
    },
    {
     "data": {
      "application/vnd.jupyter.widget-view+json": {
       "model_id": "eee8f52ca41a49bc851649a52d03b7aa",
       "version_major": 2,
       "version_minor": 0
      },
      "text/plain": [
       "  0%|          | 0/1259830 [00:00<?, ?it/s]"
      ]
     },
     "metadata": {},
     "output_type": "display_data"
    },
    {
     "name": "stdout",
     "output_type": "stream",
     "text": [
      "ESP_012509_1020/\n",
      "Downloading https://hirise-pds.lpl.arizona.edu/PDS/EXTRAS/RDR/ESP/ORB_012500_012599/ESP_012509_1020/ESP_012509_1020_RGB.NOMAP.browse.jpg to I:\\data\\mars\\ESP_012509_1020_RGB.NOMAP.browse.jpg\n"
     ]
    },
    {
     "data": {
      "application/vnd.jupyter.widget-view+json": {
       "model_id": "06dcfa1253044fa1bb9608ddd0b3afd4",
       "version_major": 2,
       "version_minor": 0
      },
      "text/plain": [
       "  0%|          | 0/1306633 [00:00<?, ?it/s]"
      ]
     },
     "metadata": {},
     "output_type": "display_data"
    },
    {
     "name": "stdout",
     "output_type": "stream",
     "text": [
      "ESP_012510_1410/\n",
      "Downloading https://hirise-pds.lpl.arizona.edu/PDS/EXTRAS/RDR/ESP/ORB_012500_012599/ESP_012510_1410/ESP_012510_1410_RGB.NOMAP.browse.jpg to I:\\data\\mars\\ESP_012510_1410_RGB.NOMAP.browse.jpg\n"
     ]
    },
    {
     "data": {
      "application/vnd.jupyter.widget-view+json": {
       "model_id": "e9b9a5bac09440c699ec3391a27bfde0",
       "version_major": 2,
       "version_minor": 0
      },
      "text/plain": [
       "  0%|          | 0/1261180 [00:00<?, ?it/s]"
      ]
     },
     "metadata": {},
     "output_type": "display_data"
    },
    {
     "name": "stdout",
     "output_type": "stream",
     "text": [
      "ESP_012511_1820/\n",
      "Downloading https://hirise-pds.lpl.arizona.edu/PDS/EXTRAS/RDR/ESP/ORB_012500_012599/ESP_012511_1820/ESP_012511_1820_RGB.NOMAP.browse.jpg to I:\\data\\mars\\ESP_012511_1820_RGB.NOMAP.browse.jpg\n"
     ]
    },
    {
     "data": {
      "application/vnd.jupyter.widget-view+json": {
       "model_id": "64b44054f93645df8cfa6d09ae40d180",
       "version_major": 2,
       "version_minor": 0
      },
      "text/plain": [
       "  0%|          | 0/547205 [00:00<?, ?it/s]"
      ]
     },
     "metadata": {},
     "output_type": "display_data"
    },
    {
     "name": "stdout",
     "output_type": "stream",
     "text": [
      "ESP_012515_0980/\n",
      "Downloading https://hirise-pds.lpl.arizona.edu/PDS/EXTRAS/RDR/ESP/ORB_012500_012599/ESP_012515_0980/ESP_012515_0980_RGB.NOMAP.browse.jpg to I:\\data\\mars\\ESP_012515_0980_RGB.NOMAP.browse.jpg\n"
     ]
    },
    {
     "data": {
      "application/vnd.jupyter.widget-view+json": {
       "model_id": "1cd6128f2710459a9df6a4cf5bd3edef",
       "version_major": 2,
       "version_minor": 0
      },
      "text/plain": [
       "  0%|          | 0/2049287 [00:00<?, ?it/s]"
      ]
     },
     "metadata": {},
     "output_type": "display_data"
    },
    {
     "name": "stdout",
     "output_type": "stream",
     "text": [
      "ESP_012516_1330/\n",
      "Downloading https://hirise-pds.lpl.arizona.edu/PDS/EXTRAS/RDR/ESP/ORB_012500_012599/ESP_012516_1330/ESP_012516_1330_RGB.NOMAP.browse.jpg to I:\\data\\mars\\ESP_012516_1330_RGB.NOMAP.browse.jpg\n"
     ]
    },
    {
     "data": {
      "application/vnd.jupyter.widget-view+json": {
       "model_id": "7f0b27b628cc42019f0701a2543e9c5d",
       "version_major": 2,
       "version_minor": 0
      },
      "text/plain": [
       "  0%|          | 0/1216472 [00:00<?, ?it/s]"
      ]
     },
     "metadata": {},
     "output_type": "display_data"
    },
    {
     "name": "stdout",
     "output_type": "stream",
     "text": [
      "ESP_012517_2045/\n",
      "Downloading https://hirise-pds.lpl.arizona.edu/PDS/EXTRAS/RDR/ESP/ORB_012500_012599/ESP_012517_2045/ESP_012517_2045_RGB.NOMAP.browse.jpg to I:\\data\\mars\\ESP_012517_2045_RGB.NOMAP.browse.jpg\n"
     ]
    },
    {
     "data": {
      "application/vnd.jupyter.widget-view+json": {
       "model_id": "e0b229c14b1e427890995f1a786f9a88",
       "version_major": 2,
       "version_minor": 0
      },
      "text/plain": [
       "  0%|          | 0/1783539 [00:00<?, ?it/s]"
      ]
     },
     "metadata": {},
     "output_type": "display_data"
    },
    {
     "name": "stdout",
     "output_type": "stream",
     "text": [
      "ESP_012519_1320/\n",
      "\tfailed to find filename\n",
      "ESP_012521_1290/\n",
      "\tfailed to find filename\n",
      "ESP_012521_1905/\n",
      "\tfailed to find filename\n",
      "ESP_012524_1095/\n",
      "Downloading https://hirise-pds.lpl.arizona.edu/PDS/EXTRAS/RDR/ESP/ORB_012500_012599/ESP_012524_1095/ESP_012524_1095_RGB.NOMAP.browse.jpg to I:\\data\\mars\\ESP_012524_1095_RGB.NOMAP.browse.jpg\n"
     ]
    },
    {
     "data": {
      "application/vnd.jupyter.widget-view+json": {
       "model_id": "4c8c29d16983429dba65519b94ab7fb8",
       "version_major": 2,
       "version_minor": 0
      },
      "text/plain": [
       "  0%|          | 0/1117025 [00:00<?, ?it/s]"
      ]
     },
     "metadata": {},
     "output_type": "display_data"
    },
    {
     "name": "stdout",
     "output_type": "stream",
     "text": [
      "ESP_012524_1855/\n",
      "Downloading https://hirise-pds.lpl.arizona.edu/PDS/EXTRAS/RDR/ESP/ORB_012500_012599/ESP_012524_1855/ESP_012524_1855_RGB.NOMAP.browse.jpg to I:\\data\\mars\\ESP_012524_1855_RGB.NOMAP.browse.jpg\n"
     ]
    },
    {
     "data": {
      "application/vnd.jupyter.widget-view+json": {
       "model_id": "f94b08223e044aeabfd117ddcb47f04e",
       "version_major": 2,
       "version_minor": 0
      },
      "text/plain": [
       "  0%|          | 0/1998224 [00:00<?, ?it/s]"
      ]
     },
     "metadata": {},
     "output_type": "display_data"
    },
    {
     "name": "stdout",
     "output_type": "stream",
     "text": [
      "ESP_012527_0925/\n",
      "Downloading https://hirise-pds.lpl.arizona.edu/PDS/EXTRAS/RDR/ESP/ORB_012500_012599/ESP_012527_0925/ESP_012527_0925_RGB.NOMAP.browse.jpg to I:\\data\\mars\\ESP_012527_0925_RGB.NOMAP.browse.jpg\n"
     ]
    },
    {
     "data": {
      "application/vnd.jupyter.widget-view+json": {
       "model_id": "1d78639f91cd43c1ad644edd5ee2cc5d",
       "version_major": 2,
       "version_minor": 0
      },
      "text/plain": [
       "  0%|          | 0/1252537 [00:00<?, ?it/s]"
      ]
     },
     "metadata": {},
     "output_type": "display_data"
    },
    {
     "name": "stdout",
     "output_type": "stream",
     "text": [
      "ESP_012529_1740/\n",
      "Downloading https://hirise-pds.lpl.arizona.edu/PDS/EXTRAS/RDR/ESP/ORB_012500_012599/ESP_012529_1740/ESP_012529_1740_RGB.NOMAP.browse.jpg to I:\\data\\mars\\ESP_012529_1740_RGB.NOMAP.browse.jpg\n"
     ]
    },
    {
     "data": {
      "application/vnd.jupyter.widget-view+json": {
       "model_id": "4ab6fc76ca014613bf41ad6615097e7f",
       "version_major": 2,
       "version_minor": 0
      },
      "text/plain": [
       "  0%|          | 0/420103 [00:00<?, ?it/s]"
      ]
     },
     "metadata": {},
     "output_type": "display_data"
    },
    {
     "name": "stdout",
     "output_type": "stream",
     "text": [
      "ESP_012530_1090/\n",
      "Downloading https://hirise-pds.lpl.arizona.edu/PDS/EXTRAS/RDR/ESP/ORB_012500_012599/ESP_012530_1090/ESP_012530_1090_RGB.NOMAP.browse.jpg to I:\\data\\mars\\ESP_012530_1090_RGB.NOMAP.browse.jpg\n"
     ]
    },
    {
     "data": {
      "application/vnd.jupyter.widget-view+json": {
       "model_id": "efb5d101ed0a41b29429e956521517ca",
       "version_major": 2,
       "version_minor": 0
      },
      "text/plain": [
       "  0%|          | 0/2189006 [00:00<?, ?it/s]"
      ]
     },
     "metadata": {},
     "output_type": "display_data"
    },
    {
     "name": "stdout",
     "output_type": "stream",
     "text": [
      "ESP_012530_1815/\n",
      "Downloading https://hirise-pds.lpl.arizona.edu/PDS/EXTRAS/RDR/ESP/ORB_012500_012599/ESP_012530_1815/ESP_012530_1815_RGB.NOMAP.browse.jpg to I:\\data\\mars\\ESP_012530_1815_RGB.NOMAP.browse.jpg\n"
     ]
    },
    {
     "data": {
      "application/vnd.jupyter.widget-view+json": {
       "model_id": "6c4be643a998480e949606e21fa3a5dd",
       "version_major": 2,
       "version_minor": 0
      },
      "text/plain": [
       "  0%|          | 0/2487829 [00:00<?, ?it/s]"
      ]
     },
     "metadata": {},
     "output_type": "display_data"
    },
    {
     "name": "stdout",
     "output_type": "stream",
     "text": [
      "ESP_012531_1435/\n",
      "Downloading https://hirise-pds.lpl.arizona.edu/PDS/EXTRAS/RDR/ESP/ORB_012500_012599/ESP_012531_1435/ESP_012531_1435_RGB.NOMAP.browse.jpg to I:\\data\\mars\\ESP_012531_1435_RGB.NOMAP.browse.jpg\n"
     ]
    },
    {
     "data": {
      "application/vnd.jupyter.widget-view+json": {
       "model_id": "99e7ede2843a40729add53b2e96087ab",
       "version_major": 2,
       "version_minor": 0
      },
      "text/plain": [
       "  0%|          | 0/2919677 [00:00<?, ?it/s]"
      ]
     },
     "metadata": {},
     "output_type": "display_data"
    },
    {
     "name": "stdout",
     "output_type": "stream",
     "text": [
      "ESP_012533_0955/\n",
      "Downloading https://hirise-pds.lpl.arizona.edu/PDS/EXTRAS/RDR/ESP/ORB_012500_012599/ESP_012533_0955/ESP_012533_0955_RGB.NOMAP.browse.jpg to I:\\data\\mars\\ESP_012533_0955_RGB.NOMAP.browse.jpg\n"
     ]
    },
    {
     "data": {
      "application/vnd.jupyter.widget-view+json": {
       "model_id": "da9ef8672f134882adcf372f719eefb0",
       "version_major": 2,
       "version_minor": 0
      },
      "text/plain": [
       "  0%|          | 0/3092876 [00:00<?, ?it/s]"
      ]
     },
     "metadata": {},
     "output_type": "display_data"
    },
    {
     "name": "stdout",
     "output_type": "stream",
     "text": [
      "ESP_012534_1415/\n",
      "\tfailed to find filename\n",
      "ESP_012535_0840/\n",
      "Downloading https://hirise-pds.lpl.arizona.edu/PDS/EXTRAS/RDR/ESP/ORB_012500_012599/ESP_012535_0840/ESP_012535_0840_RGB.NOMAP.browse.jpg to I:\\data\\mars\\ESP_012535_0840_RGB.NOMAP.browse.jpg\n"
     ]
    },
    {
     "data": {
      "application/vnd.jupyter.widget-view+json": {
       "model_id": "388f3f5412c7469a94efe28729a2f8a4",
       "version_major": 2,
       "version_minor": 0
      },
      "text/plain": [
       "  0%|          | 0/1002405 [00:00<?, ?it/s]"
      ]
     },
     "metadata": {},
     "output_type": "display_data"
    },
    {
     "name": "stdout",
     "output_type": "stream",
     "text": [
      "ESP_012535_1440/\n",
      "\tfailed to find filename\n",
      "ESP_012537_1915/\n",
      "Downloading https://hirise-pds.lpl.arizona.edu/PDS/EXTRAS/RDR/ESP/ORB_012500_012599/ESP_012537_1915/ESP_012537_1915_RGB.NOMAP.browse.jpg to I:\\data\\mars\\ESP_012537_1915_RGB.NOMAP.browse.jpg\n"
     ]
    },
    {
     "data": {
      "application/vnd.jupyter.widget-view+json": {
       "model_id": "bae47ed8710248c7ac31fbc6d66a7cd5",
       "version_major": 2,
       "version_minor": 0
      },
      "text/plain": [
       "  0%|          | 0/453101 [00:00<?, ?it/s]"
      ]
     },
     "metadata": {},
     "output_type": "display_data"
    },
    {
     "name": "stdout",
     "output_type": "stream",
     "text": [
      "ESP_012538_1070/\n",
      "Downloading https://hirise-pds.lpl.arizona.edu/PDS/EXTRAS/RDR/ESP/ORB_012500_012599/ESP_012538_1070/ESP_012538_1070_RGB.NOMAP.browse.jpg to I:\\data\\mars\\ESP_012538_1070_RGB.NOMAP.browse.jpg\n"
     ]
    },
    {
     "data": {
      "application/vnd.jupyter.widget-view+json": {
       "model_id": "fcd9a33ceac247258f2d2011345a3572",
       "version_major": 2,
       "version_minor": 0
      },
      "text/plain": [
       "  0%|          | 0/1226213 [00:00<?, ?it/s]"
      ]
     },
     "metadata": {},
     "output_type": "display_data"
    },
    {
     "name": "stdout",
     "output_type": "stream",
     "text": [
      "ESP_012539_1580/\n",
      "Downloading https://hirise-pds.lpl.arizona.edu/PDS/EXTRAS/RDR/ESP/ORB_012500_012599/ESP_012539_1580/ESP_012539_1580_RGB.NOMAP.browse.jpg to I:\\data\\mars\\ESP_012539_1580_RGB.NOMAP.browse.jpg\n"
     ]
    },
    {
     "data": {
      "application/vnd.jupyter.widget-view+json": {
       "model_id": "f0a1ba9808b94476b2552ff26ff7d9f9",
       "version_major": 2,
       "version_minor": 0
      },
      "text/plain": [
       "  0%|          | 0/1564156 [00:00<?, ?it/s]"
      ]
     },
     "metadata": {},
     "output_type": "display_data"
    },
    {
     "name": "stdout",
     "output_type": "stream",
     "text": [
      "ESP_012540_0980/\n",
      "Downloading https://hirise-pds.lpl.arizona.edu/PDS/EXTRAS/RDR/ESP/ORB_012500_012599/ESP_012540_0980/ESP_012540_0980_RGB.NOMAP.browse.jpg to I:\\data\\mars\\ESP_012540_0980_RGB.NOMAP.browse.jpg\n"
     ]
    },
    {
     "data": {
      "application/vnd.jupyter.widget-view+json": {
       "model_id": "e9868fdee1d5427ab4717a34f137399b",
       "version_major": 2,
       "version_minor": 0
      },
      "text/plain": [
       "  0%|          | 0/1600666 [00:00<?, ?it/s]"
      ]
     },
     "metadata": {},
     "output_type": "display_data"
    },
    {
     "name": "stdout",
     "output_type": "stream",
     "text": [
      "ESP_012541_1010/\n",
      "Downloading https://hirise-pds.lpl.arizona.edu/PDS/EXTRAS/RDR/ESP/ORB_012500_012599/ESP_012541_1010/ESP_012541_1010_RGB.NOMAP.browse.jpg to I:\\data\\mars\\ESP_012541_1010_RGB.NOMAP.browse.jpg\n"
     ]
    },
    {
     "data": {
      "application/vnd.jupyter.widget-view+json": {
       "model_id": "35aaa3d63f8f4ba39bf090e104aa1aef",
       "version_major": 2,
       "version_minor": 0
      },
      "text/plain": [
       "  0%|          | 0/3594339 [00:00<?, ?it/s]"
      ]
     },
     "metadata": {},
     "output_type": "display_data"
    },
    {
     "name": "stdout",
     "output_type": "stream",
     "text": [
      "ESP_012541_1600/\n",
      "Downloading https://hirise-pds.lpl.arizona.edu/PDS/EXTRAS/RDR/ESP/ORB_012500_012599/ESP_012541_1600/ESP_012541_1600_RGB.NOMAP.browse.jpg to I:\\data\\mars\\ESP_012541_1600_RGB.NOMAP.browse.jpg\n"
     ]
    },
    {
     "data": {
      "application/vnd.jupyter.widget-view+json": {
       "model_id": "5c80efc60cfb4c3480fd744647d1a3ea",
       "version_major": 2,
       "version_minor": 0
      },
      "text/plain": [
       "  0%|          | 0/1193509 [00:00<?, ?it/s]"
      ]
     },
     "metadata": {},
     "output_type": "display_data"
    },
    {
     "name": "stdout",
     "output_type": "stream",
     "text": [
      "ESP_012546_0880/\n",
      "Downloading https://hirise-pds.lpl.arizona.edu/PDS/EXTRAS/RDR/ESP/ORB_012500_012599/ESP_012546_0880/ESP_012546_0880_RGB.NOMAP.browse.jpg to I:\\data\\mars\\ESP_012546_0880_RGB.NOMAP.browse.jpg\n"
     ]
    },
    {
     "data": {
      "application/vnd.jupyter.widget-view+json": {
       "model_id": "986baf3715a14f80859512f492ac66c3",
       "version_major": 2,
       "version_minor": 0
      },
      "text/plain": [
       "  0%|          | 0/641996 [00:00<?, ?it/s]"
      ]
     },
     "metadata": {},
     "output_type": "display_data"
    },
    {
     "name": "stdout",
     "output_type": "stream",
     "text": [
      "ESP_012547_2035/\n",
      "\tfailed to find filename\n",
      "ESP_012548_1980/\n",
      "Downloading https://hirise-pds.lpl.arizona.edu/PDS/EXTRAS/RDR/ESP/ORB_012500_012599/ESP_012548_1980/ESP_012548_1980_RGB.NOMAP.browse.jpg to I:\\data\\mars\\ESP_012548_1980_RGB.NOMAP.browse.jpg\n"
     ]
    },
    {
     "data": {
      "application/vnd.jupyter.widget-view+json": {
       "model_id": "589b435caf4d4669965d567c8ce7c9d0",
       "version_major": 2,
       "version_minor": 0
      },
      "text/plain": [
       "  0%|          | 0/1062458 [00:00<?, ?it/s]"
      ]
     },
     "metadata": {},
     "output_type": "display_data"
    },
    {
     "name": "stdout",
     "output_type": "stream",
     "text": [
      "ESP_012549_1420/\n",
      "Downloading https://hirise-pds.lpl.arizona.edu/PDS/EXTRAS/RDR/ESP/ORB_012500_012599/ESP_012549_1420/ESP_012549_1420_RGB.NOMAP.browse.jpg to I:\\data\\mars\\ESP_012549_1420_RGB.NOMAP.browse.jpg\n"
     ]
    },
    {
     "data": {
      "application/vnd.jupyter.widget-view+json": {
       "model_id": "93912f1fa76c471eb464d12fc0ce942e",
       "version_major": 2,
       "version_minor": 0
      },
      "text/plain": [
       "  0%|          | 0/919210 [00:00<?, ?it/s]"
      ]
     },
     "metadata": {},
     "output_type": "display_data"
    },
    {
     "name": "stdout",
     "output_type": "stream",
     "text": [
      "ESP_012550_1820/\n",
      "Downloading https://hirise-pds.lpl.arizona.edu/PDS/EXTRAS/RDR/ESP/ORB_012500_012599/ESP_012550_1820/ESP_012550_1820_RGB.NOMAP.browse.jpg to I:\\data\\mars\\ESP_012550_1820_RGB.NOMAP.browse.jpg\n"
     ]
    },
    {
     "data": {
      "application/vnd.jupyter.widget-view+json": {
       "model_id": "fa13d4a2fa2545e79b81283057ae66c7",
       "version_major": 2,
       "version_minor": 0
      },
      "text/plain": [
       "  0%|          | 0/1984339 [00:00<?, ?it/s]"
      ]
     },
     "metadata": {},
     "output_type": "display_data"
    },
    {
     "name": "stdout",
     "output_type": "stream",
     "text": [
      "ESP_012551_1750/\n",
      "Downloading https://hirise-pds.lpl.arizona.edu/PDS/EXTRAS/RDR/ESP/ORB_012500_012599/ESP_012551_1750/ESP_012551_1750_RGB.NOMAP.browse.jpg to I:\\data\\mars\\ESP_012551_1750_RGB.NOMAP.browse.jpg\n"
     ]
    },
    {
     "data": {
      "application/vnd.jupyter.widget-view+json": {
       "model_id": "82eba163cd124268a056ca41874ce396",
       "version_major": 2,
       "version_minor": 0
      },
      "text/plain": [
       "  0%|          | 0/1517468 [00:00<?, ?it/s]"
      ]
     },
     "metadata": {},
     "output_type": "display_data"
    },
    {
     "name": "stdout",
     "output_type": "stream",
     "text": [
      "ESP_012552_1220/\n",
      "\tfailed to find filename\n",
      "ESP_012555_1325/\n",
      "Downloading https://hirise-pds.lpl.arizona.edu/PDS/EXTRAS/RDR/ESP/ORB_012500_012599/ESP_012555_1325/ESP_012555_1325_RGB.NOMAP.browse.jpg to I:\\data\\mars\\ESP_012555_1325_RGB.NOMAP.browse.jpg\n"
     ]
    },
    {
     "data": {
      "application/vnd.jupyter.widget-view+json": {
       "model_id": "8f8d191bfbb64336bf70807b20a53a9b",
       "version_major": 2,
       "version_minor": 0
      },
      "text/plain": [
       "  0%|          | 0/682536 [00:00<?, ?it/s]"
      ]
     },
     "metadata": {},
     "output_type": "display_data"
    },
    {
     "name": "stdout",
     "output_type": "stream",
     "text": [
      "ESP_012556_1765/\n",
      "Downloading https://hirise-pds.lpl.arizona.edu/PDS/EXTRAS/RDR/ESP/ORB_012500_012599/ESP_012556_1765/ESP_012556_1765_RGB.NOMAP.browse.jpg to I:\\data\\mars\\ESP_012556_1765_RGB.NOMAP.browse.jpg\n"
     ]
    },
    {
     "data": {
      "application/vnd.jupyter.widget-view+json": {
       "model_id": "0683349a4bb749b38051a25052404daa",
       "version_major": 2,
       "version_minor": 0
      },
      "text/plain": [
       "  0%|          | 0/1403500 [00:00<?, ?it/s]"
      ]
     },
     "metadata": {},
     "output_type": "display_data"
    },
    {
     "name": "stdout",
     "output_type": "stream",
     "text": [
      "ESP_012557_1520/\n",
      "Downloading https://hirise-pds.lpl.arizona.edu/PDS/EXTRAS/RDR/ESP/ORB_012500_012599/ESP_012557_1520/ESP_012557_1520_RGB.NOMAP.browse.jpg to I:\\data\\mars\\ESP_012557_1520_RGB.NOMAP.browse.jpg\n"
     ]
    },
    {
     "data": {
      "application/vnd.jupyter.widget-view+json": {
       "model_id": "8ba8b1a9acb442d8b8e895937872dada",
       "version_major": 2,
       "version_minor": 0
      },
      "text/plain": [
       "  0%|          | 0/1835973 [00:00<?, ?it/s]"
      ]
     },
     "metadata": {},
     "output_type": "display_data"
    },
    {
     "name": "stdout",
     "output_type": "stream",
     "text": [
      "ESP_012558_0950/\n",
      "Downloading https://hirise-pds.lpl.arizona.edu/PDS/EXTRAS/RDR/ESP/ORB_012500_012599/ESP_012558_0950/ESP_012558_0950_RGB.NOMAP.browse.jpg to I:\\data\\mars\\ESP_012558_0950_RGB.NOMAP.browse.jpg\n"
     ]
    },
    {
     "data": {
      "application/vnd.jupyter.widget-view+json": {
       "model_id": "5a6e0559205f49219429fcc51cd0515b",
       "version_major": 2,
       "version_minor": 0
      },
      "text/plain": [
       "  0%|          | 0/1572194 [00:00<?, ?it/s]"
      ]
     },
     "metadata": {},
     "output_type": "display_data"
    },
    {
     "name": "stdout",
     "output_type": "stream",
     "text": [
      "ESP_012559_0945/\n",
      "Downloading https://hirise-pds.lpl.arizona.edu/PDS/EXTRAS/RDR/ESP/ORB_012500_012599/ESP_012559_0945/ESP_012559_0945_RGB.NOMAP.browse.jpg to I:\\data\\mars\\ESP_012559_0945_RGB.NOMAP.browse.jpg\n"
     ]
    },
    {
     "data": {
      "application/vnd.jupyter.widget-view+json": {
       "model_id": "7dd5c6a50fca42b88122dcb77dc40da8",
       "version_major": 2,
       "version_minor": 0
      },
      "text/plain": [
       "  0%|          | 0/963905 [00:00<?, ?it/s]"
      ]
     },
     "metadata": {},
     "output_type": "display_data"
    },
    {
     "name": "stdout",
     "output_type": "stream",
     "text": [
      "ESP_012560_0930/\n",
      "Downloading https://hirise-pds.lpl.arizona.edu/PDS/EXTRAS/RDR/ESP/ORB_012500_012599/ESP_012560_0930/ESP_012560_0930_RGB.NOMAP.browse.jpg to I:\\data\\mars\\ESP_012560_0930_RGB.NOMAP.browse.jpg\n"
     ]
    },
    {
     "data": {
      "application/vnd.jupyter.widget-view+json": {
       "model_id": "246f02c92c2645efad9894270beb80d8",
       "version_major": 2,
       "version_minor": 0
      },
      "text/plain": [
       "  0%|          | 0/738322 [00:00<?, ?it/s]"
      ]
     },
     "metadata": {},
     "output_type": "display_data"
    },
    {
     "name": "stdout",
     "output_type": "stream",
     "text": [
      "ESP_012560_1660/\n",
      "Downloading https://hirise-pds.lpl.arizona.edu/PDS/EXTRAS/RDR/ESP/ORB_012500_012599/ESP_012560_1660/ESP_012560_1660_RGB.NOMAP.browse.jpg to I:\\data\\mars\\ESP_012560_1660_RGB.NOMAP.browse.jpg\n"
     ]
    },
    {
     "data": {
      "application/vnd.jupyter.widget-view+json": {
       "model_id": "375d7f551f8f4671893911074463a915",
       "version_major": 2,
       "version_minor": 0
      },
      "text/plain": [
       "  0%|          | 0/354941 [00:00<?, ?it/s]"
      ]
     },
     "metadata": {},
     "output_type": "display_data"
    },
    {
     "name": "stdout",
     "output_type": "stream",
     "text": [
      "ESP_012561_1855/\n",
      "Downloading https://hirise-pds.lpl.arizona.edu/PDS/EXTRAS/RDR/ESP/ORB_012500_012599/ESP_012561_1855/ESP_012561_1855_RGB.NOMAP.browse.jpg to I:\\data\\mars\\ESP_012561_1855_RGB.NOMAP.browse.jpg\n"
     ]
    },
    {
     "data": {
      "application/vnd.jupyter.widget-view+json": {
       "model_id": "8065757663214810920ec80b9e0a3fb1",
       "version_major": 2,
       "version_minor": 0
      },
      "text/plain": [
       "  0%|          | 0/3900337 [00:00<?, ?it/s]"
      ]
     },
     "metadata": {},
     "output_type": "display_data"
    },
    {
     "name": "stdout",
     "output_type": "stream",
     "text": [
      "ESP_012562_1545/\n",
      "Downloading https://hirise-pds.lpl.arizona.edu/PDS/EXTRAS/RDR/ESP/ORB_012500_012599/ESP_012562_1545/ESP_012562_1545_RGB.NOMAP.browse.jpg to I:\\data\\mars\\ESP_012562_1545_RGB.NOMAP.browse.jpg\n"
     ]
    },
    {
     "data": {
      "application/vnd.jupyter.widget-view+json": {
       "model_id": "fb92203a0abf47c887a40c02d5edb70a",
       "version_major": 2,
       "version_minor": 0
      },
      "text/plain": [
       "  0%|          | 0/830742 [00:00<?, ?it/s]"
      ]
     },
     "metadata": {},
     "output_type": "display_data"
    },
    {
     "name": "stdout",
     "output_type": "stream",
     "text": [
      "ESP_012564_1105/\n",
      "Downloading https://hirise-pds.lpl.arizona.edu/PDS/EXTRAS/RDR/ESP/ORB_012500_012599/ESP_012564_1105/ESP_012564_1105_RGB.NOMAP.browse.jpg to I:\\data\\mars\\ESP_012564_1105_RGB.NOMAP.browse.jpg\n"
     ]
    },
    {
     "data": {
      "application/vnd.jupyter.widget-view+json": {
       "model_id": "1fc221c9b722413bbadbda9beac568db",
       "version_major": 2,
       "version_minor": 0
      },
      "text/plain": [
       "  0%|          | 0/1872636 [00:00<?, ?it/s]"
      ]
     },
     "metadata": {},
     "output_type": "display_data"
    },
    {
     "name": "stdout",
     "output_type": "stream",
     "text": [
      "ESP_012565_1590/\n",
      "Downloading https://hirise-pds.lpl.arizona.edu/PDS/EXTRAS/RDR/ESP/ORB_012500_012599/ESP_012565_1590/ESP_012565_1590_RGB.NOMAP.browse.jpg to I:\\data\\mars\\ESP_012565_1590_RGB.NOMAP.browse.jpg\n"
     ]
    },
    {
     "data": {
      "application/vnd.jupyter.widget-view+json": {
       "model_id": "351eb661e7944809930a1329efd022c9",
       "version_major": 2,
       "version_minor": 0
      },
      "text/plain": [
       "  0%|          | 0/474149 [00:00<?, ?it/s]"
      ]
     },
     "metadata": {},
     "output_type": "display_data"
    },
    {
     "name": "stdout",
     "output_type": "stream",
     "text": [
      "ESP_012567_1565/\n",
      "Downloading https://hirise-pds.lpl.arizona.edu/PDS/EXTRAS/RDR/ESP/ORB_012500_012599/ESP_012567_1565/ESP_012567_1565_RGB.NOMAP.browse.jpg to I:\\data\\mars\\ESP_012567_1565_RGB.NOMAP.browse.jpg\n"
     ]
    },
    {
     "data": {
      "application/vnd.jupyter.widget-view+json": {
       "model_id": "4885548b27df42449a3e7fbe352721ca",
       "version_major": 2,
       "version_minor": 0
      },
      "text/plain": [
       "  0%|          | 0/645798 [00:00<?, ?it/s]"
      ]
     },
     "metadata": {},
     "output_type": "display_data"
    },
    {
     "name": "stdout",
     "output_type": "stream",
     "text": [
      "ESP_012568_1560/\n",
      "Downloading https://hirise-pds.lpl.arizona.edu/PDS/EXTRAS/RDR/ESP/ORB_012500_012599/ESP_012568_1560/ESP_012568_1560_RGB.NOMAP.browse.jpg to I:\\data\\mars\\ESP_012568_1560_RGB.NOMAP.browse.jpg\n"
     ]
    },
    {
     "data": {
      "application/vnd.jupyter.widget-view+json": {
       "model_id": "ea18bb3203074433ad991b3e7a4d2c0a",
       "version_major": 2,
       "version_minor": 0
      },
      "text/plain": [
       "  0%|          | 0/2337365 [00:00<?, ?it/s]"
      ]
     },
     "metadata": {},
     "output_type": "display_data"
    },
    {
     "name": "stdout",
     "output_type": "stream",
     "text": [
      "ESP_012568_2170/\n",
      "Downloading https://hirise-pds.lpl.arizona.edu/PDS/EXTRAS/RDR/ESP/ORB_012500_012599/ESP_012568_2170/ESP_012568_2170_RGB.NOMAP.browse.jpg to I:\\data\\mars\\ESP_012568_2170_RGB.NOMAP.browse.jpg\n"
     ]
    },
    {
     "data": {
      "application/vnd.jupyter.widget-view+json": {
       "model_id": "e081a2cdf85c42ef9a60e53a2797e428",
       "version_major": 2,
       "version_minor": 0
      },
      "text/plain": [
       "  0%|          | 0/2250431 [00:00<?, ?it/s]"
      ]
     },
     "metadata": {},
     "output_type": "display_data"
    },
    {
     "name": "stdout",
     "output_type": "stream",
     "text": [
      "ESP_012569_1255/\n",
      "Downloading https://hirise-pds.lpl.arizona.edu/PDS/EXTRAS/RDR/ESP/ORB_012500_012599/ESP_012569_1255/ESP_012569_1255_RGB.NOMAP.browse.jpg to I:\\data\\mars\\ESP_012569_1255_RGB.NOMAP.browse.jpg\n"
     ]
    },
    {
     "data": {
      "application/vnd.jupyter.widget-view+json": {
       "model_id": "80ddb1dbf88f4741830ac8b3cb09e3a0",
       "version_major": 2,
       "version_minor": 0
      },
      "text/plain": [
       "  0%|          | 0/830004 [00:00<?, ?it/s]"
      ]
     },
     "metadata": {},
     "output_type": "display_data"
    },
    {
     "name": "stdout",
     "output_type": "stream",
     "text": [
      "ESP_012569_1815/\n",
      "Downloading https://hirise-pds.lpl.arizona.edu/PDS/EXTRAS/RDR/ESP/ORB_012500_012599/ESP_012569_1815/ESP_012569_1815_RGB.NOMAP.browse.jpg to I:\\data\\mars\\ESP_012569_1815_RGB.NOMAP.browse.jpg\n"
     ]
    },
    {
     "data": {
      "application/vnd.jupyter.widget-view+json": {
       "model_id": "9c31fe53f84346838b07c27bc9294bd1",
       "version_major": 2,
       "version_minor": 0
      },
      "text/plain": [
       "  0%|          | 0/3962232 [00:00<?, ?it/s]"
      ]
     },
     "metadata": {},
     "output_type": "display_data"
    },
    {
     "name": "stdout",
     "output_type": "stream",
     "text": [
      "ESP_012570_1215/\n",
      "Downloading https://hirise-pds.lpl.arizona.edu/PDS/EXTRAS/RDR/ESP/ORB_012500_012599/ESP_012570_1215/ESP_012570_1215_RGB.NOMAP.browse.jpg to I:\\data\\mars\\ESP_012570_1215_RGB.NOMAP.browse.jpg\n"
     ]
    },
    {
     "data": {
      "application/vnd.jupyter.widget-view+json": {
       "model_id": "da531f1d493c472b81cfb000c829465c",
       "version_major": 2,
       "version_minor": 0
      },
      "text/plain": [
       "  0%|          | 0/535084 [00:00<?, ?it/s]"
      ]
     },
     "metadata": {},
     "output_type": "display_data"
    },
    {
     "name": "stdout",
     "output_type": "stream",
     "text": [
      "ESP_012570_1670/\n",
      "Downloading https://hirise-pds.lpl.arizona.edu/PDS/EXTRAS/RDR/ESP/ORB_012500_012599/ESP_012570_1670/ESP_012570_1670_RGB.NOMAP.browse.jpg to I:\\data\\mars\\ESP_012570_1670_RGB.NOMAP.browse.jpg\n"
     ]
    },
    {
     "data": {
      "application/vnd.jupyter.widget-view+json": {
       "model_id": "5e63aa1c1b854ec98551ac46fe9a4c4f",
       "version_major": 2,
       "version_minor": 0
      },
      "text/plain": [
       "  0%|          | 0/930121 [00:00<?, ?it/s]"
      ]
     },
     "metadata": {},
     "output_type": "display_data"
    },
    {
     "name": "stdout",
     "output_type": "stream",
     "text": [
      "ESP_012571_0930/\n",
      "Downloading https://hirise-pds.lpl.arizona.edu/PDS/EXTRAS/RDR/ESP/ORB_012500_012599/ESP_012571_0930/ESP_012571_0930_RGB.NOMAP.browse.jpg to I:\\data\\mars\\ESP_012571_0930_RGB.NOMAP.browse.jpg\n"
     ]
    },
    {
     "data": {
      "application/vnd.jupyter.widget-view+json": {
       "model_id": "e8ca435bce354e9fab8962a73027df0c",
       "version_major": 2,
       "version_minor": 0
      },
      "text/plain": [
       "  0%|          | 0/572254 [00:00<?, ?it/s]"
      ]
     },
     "metadata": {},
     "output_type": "display_data"
    },
    {
     "name": "stdout",
     "output_type": "stream",
     "text": [
      "ESP_012571_1670/\n",
      "Downloading https://hirise-pds.lpl.arizona.edu/PDS/EXTRAS/RDR/ESP/ORB_012500_012599/ESP_012571_1670/ESP_012571_1670_RGB.NOMAP.browse.jpg to I:\\data\\mars\\ESP_012571_1670_RGB.NOMAP.browse.jpg\n"
     ]
    },
    {
     "data": {
      "application/vnd.jupyter.widget-view+json": {
       "model_id": "0ab76fdb876440bf8eabd92108a4dcfd",
       "version_major": 2,
       "version_minor": 0
      },
      "text/plain": [
       "  0%|          | 0/487032 [00:00<?, ?it/s]"
      ]
     },
     "metadata": {},
     "output_type": "display_data"
    },
    {
     "name": "stdout",
     "output_type": "stream",
     "text": [
      "ESP_012572_1685/\n",
      "Downloading https://hirise-pds.lpl.arizona.edu/PDS/EXTRAS/RDR/ESP/ORB_012500_012599/ESP_012572_1685/ESP_012572_1685_RGB.NOMAP.browse.jpg to I:\\data\\mars\\ESP_012572_1685_RGB.NOMAP.browse.jpg\n"
     ]
    },
    {
     "data": {
      "application/vnd.jupyter.widget-view+json": {
       "model_id": "984791b012864943b84773769a029cba",
       "version_major": 2,
       "version_minor": 0
      },
      "text/plain": [
       "  0%|          | 0/1119498 [00:00<?, ?it/s]"
      ]
     },
     "metadata": {},
     "output_type": "display_data"
    },
    {
     "name": "stdout",
     "output_type": "stream",
     "text": [
      "ESP_012573_1455/\n",
      "Downloading https://hirise-pds.lpl.arizona.edu/PDS/EXTRAS/RDR/ESP/ORB_012500_012599/ESP_012573_1455/ESP_012573_1455_RGB.NOMAP.browse.jpg to I:\\data\\mars\\ESP_012573_1455_RGB.NOMAP.browse.jpg\n"
     ]
    },
    {
     "data": {
      "application/vnd.jupyter.widget-view+json": {
       "model_id": "983619bfa4104041b7dff3968750dcf3",
       "version_major": 2,
       "version_minor": 0
      },
      "text/plain": [
       "  0%|          | 0/905602 [00:00<?, ?it/s]"
      ]
     },
     "metadata": {},
     "output_type": "display_data"
    },
    {
     "name": "stdout",
     "output_type": "stream",
     "text": [
      "ESP_012574_1270/\n",
      "Downloading https://hirise-pds.lpl.arizona.edu/PDS/EXTRAS/RDR/ESP/ORB_012500_012599/ESP_012574_1270/ESP_012574_1270_RGB.NOMAP.browse.jpg to I:\\data\\mars\\ESP_012574_1270_RGB.NOMAP.browse.jpg\n"
     ]
    },
    {
     "data": {
      "application/vnd.jupyter.widget-view+json": {
       "model_id": "de854cb229d04da5917819ec56bddf62",
       "version_major": 2,
       "version_minor": 0
      },
      "text/plain": [
       "  0%|          | 0/1362610 [00:00<?, ?it/s]"
      ]
     },
     "metadata": {},
     "output_type": "display_data"
    },
    {
     "name": "stdout",
     "output_type": "stream",
     "text": [
      "ESP_012575_1470/\n",
      "Downloading https://hirise-pds.lpl.arizona.edu/PDS/EXTRAS/RDR/ESP/ORB_012500_012599/ESP_012575_1470/ESP_012575_1470_RGB.NOMAP.browse.jpg to I:\\data\\mars\\ESP_012575_1470_RGB.NOMAP.browse.jpg\n"
     ]
    },
    {
     "data": {
      "application/vnd.jupyter.widget-view+json": {
       "model_id": "4ec72a1255c04f19b63df262bbd1747f",
       "version_major": 2,
       "version_minor": 0
      },
      "text/plain": [
       "  0%|          | 0/2077784 [00:00<?, ?it/s]"
      ]
     },
     "metadata": {},
     "output_type": "display_data"
    },
    {
     "name": "stdout",
     "output_type": "stream",
     "text": [
      "ESP_012576_1485/\n",
      "Downloading https://hirise-pds.lpl.arizona.edu/PDS/EXTRAS/RDR/ESP/ORB_012500_012599/ESP_012576_1485/ESP_012576_1485_RGB.NOMAP.browse.jpg to I:\\data\\mars\\ESP_012576_1485_RGB.NOMAP.browse.jpg\n"
     ]
    },
    {
     "data": {
      "application/vnd.jupyter.widget-view+json": {
       "model_id": "cd52d9c1a475493aa0e4dd132430c38b",
       "version_major": 2,
       "version_minor": 0
      },
      "text/plain": [
       "  0%|          | 0/1092730 [00:00<?, ?it/s]"
      ]
     },
     "metadata": {},
     "output_type": "display_data"
    },
    {
     "name": "stdout",
     "output_type": "stream",
     "text": [
      "ESP_012577_1815/\n",
      "Downloading https://hirise-pds.lpl.arizona.edu/PDS/EXTRAS/RDR/ESP/ORB_012500_012599/ESP_012577_1815/ESP_012577_1815_RGB.NOMAP.browse.jpg to I:\\data\\mars\\ESP_012577_1815_RGB.NOMAP.browse.jpg\n"
     ]
    },
    {
     "data": {
      "application/vnd.jupyter.widget-view+json": {
       "model_id": "e5e2232a2b974eb08c11223ea30603f2",
       "version_major": 2,
       "version_minor": 0
      },
      "text/plain": [
       "  0%|          | 0/1149533 [00:00<?, ?it/s]"
      ]
     },
     "metadata": {},
     "output_type": "display_data"
    },
    {
     "name": "stdout",
     "output_type": "stream",
     "text": [
      "ESP_012579_1420/\n",
      "\tfailed to find filename\n",
      "ESP_012583_1310/\n",
      "Downloading https://hirise-pds.lpl.arizona.edu/PDS/EXTRAS/RDR/ESP/ORB_012500_012599/ESP_012583_1310/ESP_012583_1310_RGB.NOMAP.browse.jpg to I:\\data\\mars\\ESP_012583_1310_RGB.NOMAP.browse.jpg\n"
     ]
    },
    {
     "data": {
      "application/vnd.jupyter.widget-view+json": {
       "model_id": "00be2d58057343e1a8666a9634e989e0",
       "version_major": 2,
       "version_minor": 0
      },
      "text/plain": [
       "  0%|          | 0/896142 [00:00<?, ?it/s]"
      ]
     },
     "metadata": {},
     "output_type": "display_data"
    },
    {
     "name": "stdout",
     "output_type": "stream",
     "text": [
      "ESP_012584_1265/\n",
      "Downloading https://hirise-pds.lpl.arizona.edu/PDS/EXTRAS/RDR/ESP/ORB_012500_012599/ESP_012584_1265/ESP_012584_1265_RGB.NOMAP.browse.jpg to I:\\data\\mars\\ESP_012584_1265_RGB.NOMAP.browse.jpg\n"
     ]
    },
    {
     "data": {
      "application/vnd.jupyter.widget-view+json": {
       "model_id": "8e4e3f2168cf45d7abf21259239dc375",
       "version_major": 2,
       "version_minor": 0
      },
      "text/plain": [
       "  0%|          | 0/626349 [00:00<?, ?it/s]"
      ]
     },
     "metadata": {},
     "output_type": "display_data"
    },
    {
     "name": "stdout",
     "output_type": "stream",
     "text": [
      "ESP_012584_1810/\n",
      "Downloading https://hirise-pds.lpl.arizona.edu/PDS/EXTRAS/RDR/ESP/ORB_012500_012599/ESP_012584_1810/ESP_012584_1810_RGB.NOMAP.browse.jpg to I:\\data\\mars\\ESP_012584_1810_RGB.NOMAP.browse.jpg\n"
     ]
    },
    {
     "data": {
      "application/vnd.jupyter.widget-view+json": {
       "model_id": "2f79a88f5d584e208309508058fac597",
       "version_major": 2,
       "version_minor": 0
      },
      "text/plain": [
       "  0%|          | 0/1405959 [00:00<?, ?it/s]"
      ]
     },
     "metadata": {},
     "output_type": "display_data"
    },
    {
     "name": "stdout",
     "output_type": "stream",
     "text": [
      "ESP_012585_1755/\n",
      "Downloading https://hirise-pds.lpl.arizona.edu/PDS/EXTRAS/RDR/ESP/ORB_012500_012599/ESP_012585_1755/ESP_012585_1755_RGB.NOMAP.browse.jpg to I:\\data\\mars\\ESP_012585_1755_RGB.NOMAP.browse.jpg\n"
     ]
    },
    {
     "data": {
      "application/vnd.jupyter.widget-view+json": {
       "model_id": "c2cad03c039c4a27a35d40bdcf4d5b4f",
       "version_major": 2,
       "version_minor": 0
      },
      "text/plain": [
       "  0%|          | 0/1725957 [00:00<?, ?it/s]"
      ]
     },
     "metadata": {},
     "output_type": "display_data"
    },
    {
     "name": "stdout",
     "output_type": "stream",
     "text": [
      "ESP_012587_1965/\n",
      "Downloading https://hirise-pds.lpl.arizona.edu/PDS/EXTRAS/RDR/ESP/ORB_012500_012599/ESP_012587_1965/ESP_012587_1965_RGB.NOMAP.browse.jpg to I:\\data\\mars\\ESP_012587_1965_RGB.NOMAP.browse.jpg\n"
     ]
    },
    {
     "data": {
      "application/vnd.jupyter.widget-view+json": {
       "model_id": "69b77e26ce044f559ebbbc2cc17d3827",
       "version_major": 2,
       "version_minor": 0
      },
      "text/plain": [
       "  0%|          | 0/990672 [00:00<?, ?it/s]"
      ]
     },
     "metadata": {},
     "output_type": "display_data"
    },
    {
     "name": "stdout",
     "output_type": "stream",
     "text": [
      "ESP_012588_0930/\n",
      "Downloading https://hirise-pds.lpl.arizona.edu/PDS/EXTRAS/RDR/ESP/ORB_012500_012599/ESP_012588_0930/ESP_012588_0930_RGB.NOMAP.browse.jpg to I:\\data\\mars\\ESP_012588_0930_RGB.NOMAP.browse.jpg\n"
     ]
    },
    {
     "data": {
      "application/vnd.jupyter.widget-view+json": {
       "model_id": "d88fa9348c1040a8b8dc76b65f990a2c",
       "version_major": 2,
       "version_minor": 0
      },
      "text/plain": [
       "  0%|          | 0/1153389 [00:00<?, ?it/s]"
      ]
     },
     "metadata": {},
     "output_type": "display_data"
    },
    {
     "name": "stdout",
     "output_type": "stream",
     "text": [
      "ESP_012588_1855/\n",
      "Downloading https://hirise-pds.lpl.arizona.edu/PDS/EXTRAS/RDR/ESP/ORB_012500_012599/ESP_012588_1855/ESP_012588_1855_RGB.NOMAP.browse.jpg to I:\\data\\mars\\ESP_012588_1855_RGB.NOMAP.browse.jpg\n"
     ]
    },
    {
     "data": {
      "application/vnd.jupyter.widget-view+json": {
       "model_id": "c9427010ff4f41d49afdc61dad108f77",
       "version_major": 2,
       "version_minor": 0
      },
      "text/plain": [
       "  0%|          | 0/703072 [00:00<?, ?it/s]"
      ]
     },
     "metadata": {},
     "output_type": "display_data"
    },
    {
     "name": "stdout",
     "output_type": "stream",
     "text": [
      "ESP_012589_1565/\n",
      "Downloading https://hirise-pds.lpl.arizona.edu/PDS/EXTRAS/RDR/ESP/ORB_012500_012599/ESP_012589_1565/ESP_012589_1565_RGB.NOMAP.browse.jpg to I:\\data\\mars\\ESP_012589_1565_RGB.NOMAP.browse.jpg\n"
     ]
    },
    {
     "data": {
      "application/vnd.jupyter.widget-view+json": {
       "model_id": "0100bf6a7f7646e8be4290ac9481d311",
       "version_major": 2,
       "version_minor": 0
      },
      "text/plain": [
       "  0%|          | 0/913727 [00:00<?, ?it/s]"
      ]
     },
     "metadata": {},
     "output_type": "display_data"
    },
    {
     "name": "stdout",
     "output_type": "stream",
     "text": [
      "ESP_012590_1135/\n",
      "\tfailed to find filename\n",
      "ESP_012590_1890/\n",
      "Downloading https://hirise-pds.lpl.arizona.edu/PDS/EXTRAS/RDR/ESP/ORB_012500_012599/ESP_012590_1890/ESP_012590_1890_RGB.NOMAP.browse.jpg to I:\\data\\mars\\ESP_012590_1890_RGB.NOMAP.browse.jpg\n"
     ]
    },
    {
     "data": {
      "application/vnd.jupyter.widget-view+json": {
       "model_id": "2bb63b17e96f466d85439e2a6f4d3eca",
       "version_major": 2,
       "version_minor": 0
      },
      "text/plain": [
       "  0%|          | 0/2231644 [00:00<?, ?it/s]"
      ]
     },
     "metadata": {},
     "output_type": "display_data"
    },
    {
     "name": "stdout",
     "output_type": "stream",
     "text": [
      "ESP_012591_1275/\n",
      "\tfailed to find filename\n",
      "ESP_012592_1005/\n",
      "Downloading https://hirise-pds.lpl.arizona.edu/PDS/EXTRAS/RDR/ESP/ORB_012500_012599/ESP_012592_1005/ESP_012592_1005_RGB.NOMAP.browse.jpg to I:\\data\\mars\\ESP_012592_1005_RGB.NOMAP.browse.jpg\n"
     ]
    },
    {
     "data": {
      "application/vnd.jupyter.widget-view+json": {
       "model_id": "41e332a4052049278bee5aa3288b1beb",
       "version_major": 2,
       "version_minor": 0
      },
      "text/plain": [
       "  0%|          | 0/1799180 [00:00<?, ?it/s]"
      ]
     },
     "metadata": {},
     "output_type": "display_data"
    },
    {
     "name": "stdout",
     "output_type": "stream",
     "text": [
      "ESP_012592_1405/\n",
      "Downloading https://hirise-pds.lpl.arizona.edu/PDS/EXTRAS/RDR/ESP/ORB_012500_012599/ESP_012592_1405/ESP_012592_1405_RGB.NOMAP.browse.jpg to I:\\data\\mars\\ESP_012592_1405_RGB.NOMAP.browse.jpg\n"
     ]
    },
    {
     "data": {
      "application/vnd.jupyter.widget-view+json": {
       "model_id": "96fe57f4193e4b04a42d8f4900fdd742",
       "version_major": 2,
       "version_minor": 0
      },
      "text/plain": [
       "  0%|          | 0/2018917 [00:00<?, ?it/s]"
      ]
     },
     "metadata": {},
     "output_type": "display_data"
    },
    {
     "name": "stdout",
     "output_type": "stream",
     "text": [
      "ESP_012592_2105/\n",
      "Downloading https://hirise-pds.lpl.arizona.edu/PDS/EXTRAS/RDR/ESP/ORB_012500_012599/ESP_012592_2105/ESP_012592_2105_RGB.NOMAP.browse.jpg to I:\\data\\mars\\ESP_012592_2105_RGB.NOMAP.browse.jpg\n"
     ]
    },
    {
     "data": {
      "application/vnd.jupyter.widget-view+json": {
       "model_id": "098ee73641654e6a8b0d201fbe5ffd61",
       "version_major": 2,
       "version_minor": 0
      },
      "text/plain": [
       "  0%|          | 0/2234043 [00:00<?, ?it/s]"
      ]
     },
     "metadata": {},
     "output_type": "display_data"
    },
    {
     "name": "stdout",
     "output_type": "stream",
     "text": [
      "ESP_012593_1530/\n",
      "\tfailed to find filename\n",
      "ESP_012594_0980/\n",
      "Downloading https://hirise-pds.lpl.arizona.edu/PDS/EXTRAS/RDR/ESP/ORB_012500_012599/ESP_012594_0980/ESP_012594_0980_RGB.NOMAP.browse.jpg to I:\\data\\mars\\ESP_012594_0980_RGB.NOMAP.browse.jpg\n"
     ]
    },
    {
     "data": {
      "application/vnd.jupyter.widget-view+json": {
       "model_id": "ef995213fd3c432ab4dd04f58bd60707",
       "version_major": 2,
       "version_minor": 0
      },
      "text/plain": [
       "  0%|          | 0/1969731 [00:00<?, ?it/s]"
      ]
     },
     "metadata": {},
     "output_type": "display_data"
    },
    {
     "name": "stdout",
     "output_type": "stream",
     "text": [
      "ESP_012594_1705/\n",
      "Downloading https://hirise-pds.lpl.arizona.edu/PDS/EXTRAS/RDR/ESP/ORB_012500_012599/ESP_012594_1705/ESP_012594_1705_RGB.NOMAP.browse.jpg to I:\\data\\mars\\ESP_012594_1705_RGB.NOMAP.browse.jpg\n"
     ]
    },
    {
     "data": {
      "application/vnd.jupyter.widget-view+json": {
       "model_id": "79d78c8772fb4cedad7e32154fe799f9",
       "version_major": 2,
       "version_minor": 0
      },
      "text/plain": [
       "  0%|          | 0/1342382 [00:00<?, ?it/s]"
      ]
     },
     "metadata": {},
     "output_type": "display_data"
    },
    {
     "name": "stdout",
     "output_type": "stream",
     "text": [
      "ESP_012596_1935/\n",
      "Downloading https://hirise-pds.lpl.arizona.edu/PDS/EXTRAS/RDR/ESP/ORB_012500_012599/ESP_012596_1935/ESP_012596_1935_RGB.NOMAP.browse.jpg to I:\\data\\mars\\ESP_012596_1935_RGB.NOMAP.browse.jpg\n"
     ]
    },
    {
     "data": {
      "application/vnd.jupyter.widget-view+json": {
       "model_id": "f5b9c906b68842eeb6f3bbd6bf467400",
       "version_major": 2,
       "version_minor": 0
      },
      "text/plain": [
       "  0%|          | 0/558669 [00:00<?, ?it/s]"
      ]
     },
     "metadata": {},
     "output_type": "display_data"
    },
    {
     "name": "stdout",
     "output_type": "stream",
     "text": [
      "ESP_012597_1435/\n",
      "Downloading https://hirise-pds.lpl.arizona.edu/PDS/EXTRAS/RDR/ESP/ORB_012500_012599/ESP_012597_1435/ESP_012597_1435_RGB.NOMAP.browse.jpg to I:\\data\\mars\\ESP_012597_1435_RGB.NOMAP.browse.jpg\n"
     ]
    },
    {
     "data": {
      "application/vnd.jupyter.widget-view+json": {
       "model_id": "5fb5cb68f73442c4b4458ad1ed1b4048",
       "version_major": 2,
       "version_minor": 0
      },
      "text/plain": [
       "  0%|          | 0/586783 [00:00<?, ?it/s]"
      ]
     },
     "metadata": {},
     "output_type": "display_data"
    },
    {
     "name": "stdout",
     "output_type": "stream",
     "text": [
      "ESP_012599_0925/\n",
      "Downloading https://hirise-pds.lpl.arizona.edu/PDS/EXTRAS/RDR/ESP/ORB_012500_012599/ESP_012599_0925/ESP_012599_0925_RGB.NOMAP.browse.jpg to I:\\data\\mars\\ESP_012599_0925_RGB.NOMAP.browse.jpg\n"
     ]
    },
    {
     "data": {
      "application/vnd.jupyter.widget-view+json": {
       "model_id": "a1bef1af5db74e6ca9d0a4bd61feca78",
       "version_major": 2,
       "version_minor": 0
      },
      "text/plain": [
       "  0%|          | 0/1000328 [00:00<?, ?it/s]"
      ]
     },
     "metadata": {},
     "output_type": "display_data"
    },
    {
     "name": "stdout",
     "output_type": "stream",
     "text": [
      "ESP_012599_1720/\n",
      "Downloading https://hirise-pds.lpl.arizona.edu/PDS/EXTRAS/RDR/ESP/ORB_012500_012599/ESP_012599_1720/ESP_012599_1720_RGB.NOMAP.browse.jpg to I:\\data\\mars\\ESP_012599_1720_RGB.NOMAP.browse.jpg\n"
     ]
    },
    {
     "data": {
      "application/vnd.jupyter.widget-view+json": {
       "model_id": "012b1ae237b940c89d4cdaf7cb539f8f",
       "version_major": 2,
       "version_minor": 0
      },
      "text/plain": [
       "  0%|          | 0/451201 [00:00<?, ?it/s]"
      ]
     },
     "metadata": {},
     "output_type": "display_data"
    },
    {
     "name": "stdout",
     "output_type": "stream",
     "text": [
      "-------------------------------------------------- ORB_012600_012699/\n",
      "ESP_012600_1655/\n",
      "\tfailed to find filename\n",
      "ESP_012600_2080/\n",
      "Downloading https://hirise-pds.lpl.arizona.edu/PDS/EXTRAS/RDR/ESP/ORB_012600_012699/ESP_012600_2080/ESP_012600_2080_RGB.NOMAP.browse.jpg to I:\\data\\mars\\ESP_012600_2080_RGB.NOMAP.browse.jpg\n"
     ]
    },
    {
     "data": {
      "application/vnd.jupyter.widget-view+json": {
       "model_id": "fcc5511993a54ac08693deed33d3af54",
       "version_major": 2,
       "version_minor": 0
      },
      "text/plain": [
       "  0%|          | 0/656537 [00:00<?, ?it/s]"
      ]
     },
     "metadata": {},
     "output_type": "display_data"
    },
    {
     "name": "stdout",
     "output_type": "stream",
     "text": [
      "ESP_012601_0930/\n",
      "Downloading https://hirise-pds.lpl.arizona.edu/PDS/EXTRAS/RDR/ESP/ORB_012600_012699/ESP_012601_0930/ESP_012601_0930_RGB.NOMAP.browse.jpg to I:\\data\\mars\\ESP_012601_0930_RGB.NOMAP.browse.jpg\n"
     ]
    },
    {
     "data": {
      "application/vnd.jupyter.widget-view+json": {
       "model_id": "d96005c313274fa98fa33f0cebc6ebd9",
       "version_major": 2,
       "version_minor": 0
      },
      "text/plain": [
       "  0%|          | 0/1444980 [00:00<?, ?it/s]"
      ]
     },
     "metadata": {},
     "output_type": "display_data"
    },
    {
     "name": "stdout",
     "output_type": "stream",
     "text": [
      "ESP_012601_1400/\n",
      "Downloading https://hirise-pds.lpl.arizona.edu/PDS/EXTRAS/RDR/ESP/ORB_012600_012699/ESP_012601_1400/ESP_012601_1400_RGB.NOMAP.browse.jpg to I:\\data\\mars\\ESP_012601_1400_RGB.NOMAP.browse.jpg\n"
     ]
    },
    {
     "data": {
      "application/vnd.jupyter.widget-view+json": {
       "model_id": "40f6a3e402534638b56d284bcc6ff75e",
       "version_major": 2,
       "version_minor": 0
      },
      "text/plain": [
       "  0%|          | 0/630299 [00:00<?, ?it/s]"
      ]
     },
     "metadata": {},
     "output_type": "display_data"
    },
    {
     "name": "stdout",
     "output_type": "stream",
     "text": [
      "ESP_012602_1415/\n",
      "Downloading https://hirise-pds.lpl.arizona.edu/PDS/EXTRAS/RDR/ESP/ORB_012600_012699/ESP_012602_1415/ESP_012602_1415_RGB.NOMAP.browse.jpg to I:\\data\\mars\\ESP_012602_1415_RGB.NOMAP.browse.jpg\n"
     ]
    },
    {
     "data": {
      "application/vnd.jupyter.widget-view+json": {
       "model_id": "deb4b2132715409bb84689cadff55f9f",
       "version_major": 2,
       "version_minor": 0
      },
      "text/plain": [
       "  0%|          | 0/521286 [00:00<?, ?it/s]"
      ]
     },
     "metadata": {},
     "output_type": "display_data"
    },
    {
     "name": "stdout",
     "output_type": "stream",
     "text": [
      "ESP_012602_2265/\n",
      "Downloading https://hirise-pds.lpl.arizona.edu/PDS/EXTRAS/RDR/ESP/ORB_012600_012699/ESP_012602_2265/ESP_012602_2265_RGB.NOMAP.browse.jpg to I:\\data\\mars\\ESP_012602_2265_RGB.NOMAP.browse.jpg\n"
     ]
    },
    {
     "data": {
      "application/vnd.jupyter.widget-view+json": {
       "model_id": "9848286c672e4301b1d5cb3b59ea7b5a",
       "version_major": 2,
       "version_minor": 0
      },
      "text/plain": [
       "  0%|          | 0/713357 [00:00<?, ?it/s]"
      ]
     },
     "metadata": {},
     "output_type": "display_data"
    },
    {
     "name": "stdout",
     "output_type": "stream",
     "text": [
      "ESP_012603_1300/\n",
      "Downloading https://hirise-pds.lpl.arizona.edu/PDS/EXTRAS/RDR/ESP/ORB_012600_012699/ESP_012603_1300/ESP_012603_1300_RGB.NOMAP.browse.jpg to I:\\data\\mars\\ESP_012603_1300_RGB.NOMAP.browse.jpg\n"
     ]
    },
    {
     "data": {
      "application/vnd.jupyter.widget-view+json": {
       "model_id": "418deb4aebd94f3f90d319d7bcce975f",
       "version_major": 2,
       "version_minor": 0
      },
      "text/plain": [
       "  0%|          | 0/422805 [00:00<?, ?it/s]"
      ]
     },
     "metadata": {},
     "output_type": "display_data"
    },
    {
     "name": "stdout",
     "output_type": "stream",
     "text": [
      "ESP_012604_0965/\n",
      "Downloading https://hirise-pds.lpl.arizona.edu/PDS/EXTRAS/RDR/ESP/ORB_012600_012699/ESP_012604_0965/ESP_012604_0965_RGB.NOMAP.browse.jpg to I:\\data\\mars\\ESP_012604_0965_RGB.NOMAP.browse.jpg\n"
     ]
    },
    {
     "data": {
      "application/vnd.jupyter.widget-view+json": {
       "model_id": "983d0aab590c49e9b63a0b9a03a5de4d",
       "version_major": 2,
       "version_minor": 0
      },
      "text/plain": [
       "  0%|          | 0/3743952 [00:00<?, ?it/s]"
      ]
     },
     "metadata": {},
     "output_type": "display_data"
    },
    {
     "name": "stdout",
     "output_type": "stream",
     "text": [
      "ESP_012604_1450/\n",
      "Downloading https://hirise-pds.lpl.arizona.edu/PDS/EXTRAS/RDR/ESP/ORB_012600_012699/ESP_012604_1450/ESP_012604_1450_RGB.NOMAP.browse.jpg to I:\\data\\mars\\ESP_012604_1450_RGB.NOMAP.browse.jpg\n"
     ]
    },
    {
     "data": {
      "application/vnd.jupyter.widget-view+json": {
       "model_id": "2e9ad4aec4cf47f7b4d9b08d774823e6",
       "version_major": 2,
       "version_minor": 0
      },
      "text/plain": [
       "  0%|          | 0/631330 [00:00<?, ?it/s]"
      ]
     },
     "metadata": {},
     "output_type": "display_data"
    },
    {
     "name": "stdout",
     "output_type": "stream",
     "text": [
      "ESP_012605_1685/\n",
      "Downloading https://hirise-pds.lpl.arizona.edu/PDS/EXTRAS/RDR/ESP/ORB_012600_012699/ESP_012605_1685/ESP_012605_1685_RGB.NOMAP.browse.jpg to I:\\data\\mars\\ESP_012605_1685_RGB.NOMAP.browse.jpg\n"
     ]
    },
    {
     "data": {
      "application/vnd.jupyter.widget-view+json": {
       "model_id": "1bfdfb9a31324256940f83df41038f83",
       "version_major": 2,
       "version_minor": 0
      },
      "text/plain": [
       "  0%|          | 0/723923 [00:00<?, ?it/s]"
      ]
     },
     "metadata": {},
     "output_type": "display_data"
    },
    {
     "name": "stdout",
     "output_type": "stream",
     "text": [
      "ESP_012606_1510/\n",
      "\tfailed to find filename\n",
      "ESP_012607_0980/\n",
      "Downloading https://hirise-pds.lpl.arizona.edu/PDS/EXTRAS/RDR/ESP/ORB_012600_012699/ESP_012607_0980/ESP_012607_0980_RGB.NOMAP.browse.jpg to I:\\data\\mars\\ESP_012607_0980_RGB.NOMAP.browse.jpg\n"
     ]
    },
    {
     "data": {
      "application/vnd.jupyter.widget-view+json": {
       "model_id": "05ef404c9523431488d4ccf4bb2a9e75",
       "version_major": 2,
       "version_minor": 0
      },
      "text/plain": [
       "  0%|          | 0/2487677 [00:00<?, ?it/s]"
      ]
     },
     "metadata": {},
     "output_type": "display_data"
    },
    {
     "name": "stdout",
     "output_type": "stream",
     "text": [
      "ESP_012607_1545/\n",
      "Downloading https://hirise-pds.lpl.arizona.edu/PDS/EXTRAS/RDR/ESP/ORB_012600_012699/ESP_012607_1545/ESP_012607_1545_RGB.NOMAP.browse.jpg to I:\\data\\mars\\ESP_012607_1545_RGB.NOMAP.browse.jpg\n"
     ]
    },
    {
     "data": {
      "application/vnd.jupyter.widget-view+json": {
       "model_id": "c8eeb956d25a4b129996089c56fd2c13",
       "version_major": 2,
       "version_minor": 0
      },
      "text/plain": [
       "  0%|          | 0/2660529 [00:00<?, ?it/s]"
      ]
     },
     "metadata": {},
     "output_type": "display_data"
    },
    {
     "name": "stdout",
     "output_type": "stream",
     "text": [
      "ESP_012609_1130/\n",
      "\tfailed to find filename\n",
      "ESP_012609_1570/\n",
      "Downloading https://hirise-pds.lpl.arizona.edu/PDS/EXTRAS/RDR/ESP/ORB_012600_012699/ESP_012609_1570/ESP_012609_1570_RGB.NOMAP.browse.jpg to I:\\data\\mars\\ESP_012609_1570_RGB.NOMAP.browse.jpg\n"
     ]
    },
    {
     "data": {
      "application/vnd.jupyter.widget-view+json": {
       "model_id": "5ae3d1154ceb4e82a2f2706e8563fc59",
       "version_major": 2,
       "version_minor": 0
      },
      "text/plain": [
       "  0%|          | 0/2055513 [00:00<?, ?it/s]"
      ]
     },
     "metadata": {},
     "output_type": "display_data"
    },
    {
     "name": "stdout",
     "output_type": "stream",
     "text": [
      "ESP_012610_1250/\n",
      "Downloading https://hirise-pds.lpl.arizona.edu/PDS/EXTRAS/RDR/ESP/ORB_012600_012699/ESP_012610_1250/ESP_012610_1250_RGB.NOMAP.browse.jpg to I:\\data\\mars\\ESP_012610_1250_RGB.NOMAP.browse.jpg\n"
     ]
    },
    {
     "data": {
      "application/vnd.jupyter.widget-view+json": {
       "model_id": "22197eda9c0c4b8685fed09ef4eed870",
       "version_major": 2,
       "version_minor": 0
      },
      "text/plain": [
       "  0%|          | 0/748222 [00:00<?, ?it/s]"
      ]
     },
     "metadata": {},
     "output_type": "display_data"
    },
    {
     "name": "stdout",
     "output_type": "stream",
     "text": [
      "ESP_012610_1560/\n",
      "Downloading https://hirise-pds.lpl.arizona.edu/PDS/EXTRAS/RDR/ESP/ORB_012600_012699/ESP_012610_1560/ESP_012610_1560_RGB.NOMAP.browse.jpg to I:\\data\\mars\\ESP_012610_1560_RGB.NOMAP.browse.jpg\n"
     ]
    },
    {
     "data": {
      "application/vnd.jupyter.widget-view+json": {
       "model_id": "d3d78049c1f44838b4d2339d4b881826",
       "version_major": 2,
       "version_minor": 0
      },
      "text/plain": [
       "  0%|          | 0/738180 [00:00<?, ?it/s]"
      ]
     },
     "metadata": {},
     "output_type": "display_data"
    },
    {
     "name": "stdout",
     "output_type": "stream",
     "text": [
      "ESP_012611_1650/\n",
      "Downloading https://hirise-pds.lpl.arizona.edu/PDS/EXTRAS/RDR/ESP/ORB_012600_012699/ESP_012611_1650/ESP_012611_1650_RGB.NOMAP.browse.jpg to I:\\data\\mars\\ESP_012611_1650_RGB.NOMAP.browse.jpg\n"
     ]
    },
    {
     "data": {
      "application/vnd.jupyter.widget-view+json": {
       "model_id": "2e60f223a9d445e0883625ef986e24e7",
       "version_major": 2,
       "version_minor": 0
      },
      "text/plain": [
       "  0%|          | 0/1302032 [00:00<?, ?it/s]"
      ]
     },
     "metadata": {},
     "output_type": "display_data"
    },
    {
     "name": "stdout",
     "output_type": "stream",
     "text": [
      "ESP_012611_2170/\n",
      "Downloading https://hirise-pds.lpl.arizona.edu/PDS/EXTRAS/RDR/ESP/ORB_012600_012699/ESP_012611_2170/ESP_012611_2170_RGB.NOMAP.browse.jpg to I:\\data\\mars\\ESP_012611_2170_RGB.NOMAP.browse.jpg\n"
     ]
    },
    {
     "data": {
      "application/vnd.jupyter.widget-view+json": {
       "model_id": "8e37d1623e7849da867fa5a53936a83b",
       "version_major": 2,
       "version_minor": 0
      },
      "text/plain": [
       "  0%|          | 0/895211 [00:00<?, ?it/s]"
      ]
     },
     "metadata": {},
     "output_type": "display_data"
    },
    {
     "name": "stdout",
     "output_type": "stream",
     "text": [
      "ESP_012612_1940/\n",
      "Downloading https://hirise-pds.lpl.arizona.edu/PDS/EXTRAS/RDR/ESP/ORB_012600_012699/ESP_012612_1940/ESP_012612_1940_RGB.NOMAP.browse.jpg to I:\\data\\mars\\ESP_012612_1940_RGB.NOMAP.browse.jpg\n"
     ]
    },
    {
     "data": {
      "application/vnd.jupyter.widget-view+json": {
       "model_id": "5d70054cf8a240929aa3e4ef8c1cf8db",
       "version_major": 2,
       "version_minor": 0
      },
      "text/plain": [
       "  0%|          | 0/720791 [00:00<?, ?it/s]"
      ]
     },
     "metadata": {},
     "output_type": "display_data"
    },
    {
     "name": "stdout",
     "output_type": "stream",
     "text": [
      "ESP_012614_1220/\n",
      "Downloading https://hirise-pds.lpl.arizona.edu/PDS/EXTRAS/RDR/ESP/ORB_012600_012699/ESP_012614_1220/ESP_012614_1220_RGB.NOMAP.browse.jpg to I:\\data\\mars\\ESP_012614_1220_RGB.NOMAP.browse.jpg\n"
     ]
    },
    {
     "data": {
      "application/vnd.jupyter.widget-view+json": {
       "model_id": "4b148da373d14827982e0d10c4dbb6bc",
       "version_major": 2,
       "version_minor": 0
      },
      "text/plain": [
       "  0%|          | 0/1390717 [00:00<?, ?it/s]"
      ]
     },
     "metadata": {},
     "output_type": "display_data"
    },
    {
     "name": "stdout",
     "output_type": "stream",
     "text": [
      "ESP_012616_1800/\n",
      "Downloading https://hirise-pds.lpl.arizona.edu/PDS/EXTRAS/RDR/ESP/ORB_012600_012699/ESP_012616_1800/ESP_012616_1800_RGB.NOMAP.browse.jpg to I:\\data\\mars\\ESP_012616_1800_RGB.NOMAP.browse.jpg\n"
     ]
    },
    {
     "data": {
      "application/vnd.jupyter.widget-view+json": {
       "model_id": "3a50c1347d5b4bd8812b721cec652267",
       "version_major": 2,
       "version_minor": 0
      },
      "text/plain": [
       "  0%|          | 0/5502077 [00:00<?, ?it/s]"
      ]
     },
     "metadata": {},
     "output_type": "display_data"
    },
    {
     "name": "stdout",
     "output_type": "stream",
     "text": [
      "ESP_012618_1090/\n",
      "\tfailed to find filename\n",
      "ESP_012619_1220/\n",
      "\tfailed to find filename\n",
      "ESP_012620_0975/\n",
      "Downloading https://hirise-pds.lpl.arizona.edu/PDS/EXTRAS/RDR/ESP/ORB_012600_012699/ESP_012620_0975/ESP_012620_0975_RGB.NOMAP.browse.jpg to I:\\data\\mars\\ESP_012620_0975_RGB.NOMAP.browse.jpg\n"
     ]
    },
    {
     "data": {
      "application/vnd.jupyter.widget-view+json": {
       "model_id": "4cdb58bc78e84d16acc05f2953848f30",
       "version_major": 2,
       "version_minor": 0
      },
      "text/plain": [
       "  0%|          | 0/1221592 [00:00<?, ?it/s]"
      ]
     },
     "metadata": {},
     "output_type": "display_data"
    },
    {
     "name": "stdout",
     "output_type": "stream",
     "text": [
      "ESP_012620_1540/\n",
      "Downloading https://hirise-pds.lpl.arizona.edu/PDS/EXTRAS/RDR/ESP/ORB_012600_012699/ESP_012620_1540/ESP_012620_1540_RGB.NOMAP.browse.jpg to I:\\data\\mars\\ESP_012620_1540_RGB.NOMAP.browse.jpg\n"
     ]
    },
    {
     "data": {
      "application/vnd.jupyter.widget-view+json": {
       "model_id": "0f11b649ba1a4c8aa3751004e0e01124",
       "version_major": 2,
       "version_minor": 0
      },
      "text/plain": [
       "  0%|          | 0/1824634 [00:00<?, ?it/s]"
      ]
     },
     "metadata": {},
     "output_type": "display_data"
    },
    {
     "name": "stdout",
     "output_type": "stream",
     "text": [
      "ESP_012622_1905/\n",
      "Downloading https://hirise-pds.lpl.arizona.edu/PDS/EXTRAS/RDR/ESP/ORB_012600_012699/ESP_012622_1905/ESP_012622_1905_RGB.NOMAP.browse.jpg to I:\\data\\mars\\ESP_012622_1905_RGB.NOMAP.browse.jpg\n"
     ]
    },
    {
     "data": {
      "application/vnd.jupyter.widget-view+json": {
       "model_id": "5a09ede6c303440388c6d8ac988d73df",
       "version_major": 2,
       "version_minor": 0
      },
      "text/plain": [
       "  0%|          | 0/630281 [00:00<?, ?it/s]"
      ]
     },
     "metadata": {},
     "output_type": "display_data"
    },
    {
     "name": "stdout",
     "output_type": "stream",
     "text": [
      "ESP_012623_1170/\n",
      "\tfailed to find filename\n",
      "ESP_012624_1440/\n",
      "Downloading https://hirise-pds.lpl.arizona.edu/PDS/EXTRAS/RDR/ESP/ORB_012600_012699/ESP_012624_1440/ESP_012624_1440_RGB.NOMAP.browse.jpg to I:\\data\\mars\\ESP_012624_1440_RGB.NOMAP.browse.jpg\n"
     ]
    },
    {
     "data": {
      "application/vnd.jupyter.widget-view+json": {
       "model_id": "069c16427e8a48a2b7f51afe0fa5c52a",
       "version_major": 2,
       "version_minor": 0
      },
      "text/plain": [
       "  0%|          | 0/535005 [00:00<?, ?it/s]"
      ]
     },
     "metadata": {},
     "output_type": "display_data"
    },
    {
     "name": "stdout",
     "output_type": "stream",
     "text": [
      "ESP_012625_1720/\n",
      "Downloading https://hirise-pds.lpl.arizona.edu/PDS/EXTRAS/RDR/ESP/ORB_012600_012699/ESP_012625_1720/ESP_012625_1720_RGB.NOMAP.browse.jpg to I:\\data\\mars\\ESP_012625_1720_RGB.NOMAP.browse.jpg\n"
     ]
    },
    {
     "data": {
      "application/vnd.jupyter.widget-view+json": {
       "model_id": "9dc5c7f7ff0e4bceb2b511180f36d883",
       "version_major": 2,
       "version_minor": 0
      },
      "text/plain": [
       "  0%|          | 0/769552 [00:00<?, ?it/s]"
      ]
     },
     "metadata": {},
     "output_type": "display_data"
    },
    {
     "name": "stdout",
     "output_type": "stream",
     "text": [
      "ESP_012627_1245/\n",
      "Downloading https://hirise-pds.lpl.arizona.edu/PDS/EXTRAS/RDR/ESP/ORB_012600_012699/ESP_012627_1245/ESP_012627_1245_RGB.NOMAP.browse.jpg to I:\\data\\mars\\ESP_012627_1245_RGB.NOMAP.browse.jpg\n"
     ]
    },
    {
     "data": {
      "application/vnd.jupyter.widget-view+json": {
       "model_id": "56075c72f1fe498d85933b8a032b8f82",
       "version_major": 2,
       "version_minor": 0
      },
      "text/plain": [
       "  0%|          | 0/611858 [00:00<?, ?it/s]"
      ]
     },
     "metadata": {},
     "output_type": "display_data"
    },
    {
     "name": "stdout",
     "output_type": "stream",
     "text": [
      "ESP_012627_1975/\n",
      "Downloading https://hirise-pds.lpl.arizona.edu/PDS/EXTRAS/RDR/ESP/ORB_012600_012699/ESP_012627_1975/ESP_012627_1975_RGB.NOMAP.browse.jpg to I:\\data\\mars\\ESP_012627_1975_RGB.NOMAP.browse.jpg\n"
     ]
    },
    {
     "data": {
      "application/vnd.jupyter.widget-view+json": {
       "model_id": "8da4eab88a1d43ca82426ef66810aaa4",
       "version_major": 2,
       "version_minor": 0
      },
      "text/plain": [
       "  0%|          | 0/1163252 [00:00<?, ?it/s]"
      ]
     },
     "metadata": {},
     "output_type": "display_data"
    },
    {
     "name": "stdout",
     "output_type": "stream",
     "text": [
      "ESP_012628_1390/\n",
      "Downloading https://hirise-pds.lpl.arizona.edu/PDS/EXTRAS/RDR/ESP/ORB_012600_012699/ESP_012628_1390/ESP_012628_1390_RGB.NOMAP.browse.jpg to I:\\data\\mars\\ESP_012628_1390_RGB.NOMAP.browse.jpg\n"
     ]
    },
    {
     "data": {
      "application/vnd.jupyter.widget-view+json": {
       "model_id": "df4c2ab0d4e14269a06505fc37a78d89",
       "version_major": 2,
       "version_minor": 0
      },
      "text/plain": [
       "  0%|          | 0/1381886 [00:00<?, ?it/s]"
      ]
     },
     "metadata": {},
     "output_type": "display_data"
    },
    {
     "name": "stdout",
     "output_type": "stream",
     "text": [
      "ESP_012628_1835/\n",
      "Downloading https://hirise-pds.lpl.arizona.edu/PDS/EXTRAS/RDR/ESP/ORB_012600_012699/ESP_012628_1835/ESP_012628_1835_RGB.NOMAP.browse.jpg to I:\\data\\mars\\ESP_012628_1835_RGB.NOMAP.browse.jpg\n"
     ]
    },
    {
     "data": {
      "application/vnd.jupyter.widget-view+json": {
       "model_id": "210ceec34e6044d8b462132258d427d1",
       "version_major": 2,
       "version_minor": 0
      },
      "text/plain": [
       "  0%|          | 0/1025885 [00:00<?, ?it/s]"
      ]
     },
     "metadata": {},
     "output_type": "display_data"
    },
    {
     "name": "stdout",
     "output_type": "stream",
     "text": [
      "ESP_012630_1840/\n",
      "Downloading https://hirise-pds.lpl.arizona.edu/PDS/EXTRAS/RDR/ESP/ORB_012600_012699/ESP_012630_1840/ESP_012630_1840_RGB.NOMAP.browse.jpg to I:\\data\\mars\\ESP_012630_1840_RGB.NOMAP.browse.jpg\n"
     ]
    },
    {
     "data": {
      "application/vnd.jupyter.widget-view+json": {
       "model_id": "6c9155921fec430f840f6a1cad84e710",
       "version_major": 2,
       "version_minor": 0
      },
      "text/plain": [
       "  0%|          | 0/881869 [00:00<?, ?it/s]"
      ]
     },
     "metadata": {},
     "output_type": "display_data"
    },
    {
     "name": "stdout",
     "output_type": "stream",
     "text": [
      "ESP_012631_1555/\n",
      "Downloading https://hirise-pds.lpl.arizona.edu/PDS/EXTRAS/RDR/ESP/ORB_012600_012699/ESP_012631_1555/ESP_012631_1555_RGB.NOMAP.browse.jpg to I:\\data\\mars\\ESP_012631_1555_RGB.NOMAP.browse.jpg\n"
     ]
    },
    {
     "data": {
      "application/vnd.jupyter.widget-view+json": {
       "model_id": "1eb07ba818d54656b5c4824d743476a4",
       "version_major": 2,
       "version_minor": 0
      },
      "text/plain": [
       "  0%|          | 0/1197112 [00:00<?, ?it/s]"
      ]
     },
     "metadata": {},
     "output_type": "display_data"
    },
    {
     "name": "stdout",
     "output_type": "stream",
     "text": [
      "ESP_012633_0930/\n",
      "Downloading https://hirise-pds.lpl.arizona.edu/PDS/EXTRAS/RDR/ESP/ORB_012600_012699/ESP_012633_0930/ESP_012633_0930_RGB.NOMAP.browse.jpg to I:\\data\\mars\\ESP_012633_0930_RGB.NOMAP.browse.jpg\n"
     ]
    },
    {
     "data": {
      "application/vnd.jupyter.widget-view+json": {
       "model_id": "a0511feb62124bde970c2576d9b9ed2a",
       "version_major": 2,
       "version_minor": 0
      },
      "text/plain": [
       "  0%|          | 0/2753447 [00:00<?, ?it/s]"
      ]
     },
     "metadata": {},
     "output_type": "display_data"
    },
    {
     "name": "stdout",
     "output_type": "stream",
     "text": [
      "ESP_012633_1610/\n",
      "Downloading https://hirise-pds.lpl.arizona.edu/PDS/EXTRAS/RDR/ESP/ORB_012600_012699/ESP_012633_1610/ESP_012633_1610_RGB.NOMAP.browse.jpg to I:\\data\\mars\\ESP_012633_1610_RGB.NOMAP.browse.jpg\n"
     ]
    },
    {
     "data": {
      "application/vnd.jupyter.widget-view+json": {
       "model_id": "113643b27fa44130a3c3e395cfd53eac",
       "version_major": 2,
       "version_minor": 0
      },
      "text/plain": [
       "  0%|          | 0/1144728 [00:00<?, ?it/s]"
      ]
     },
     "metadata": {},
     "output_type": "display_data"
    },
    {
     "name": "stdout",
     "output_type": "stream",
     "text": [
      "ESP_012634_0930/\n",
      "Downloading https://hirise-pds.lpl.arizona.edu/PDS/EXTRAS/RDR/ESP/ORB_012600_012699/ESP_012634_0930/ESP_012634_0930_RGB.NOMAP.browse.jpg to I:\\data\\mars\\ESP_012634_0930_RGB.NOMAP.browse.jpg\n"
     ]
    },
    {
     "data": {
      "application/vnd.jupyter.widget-view+json": {
       "model_id": "28cc67d1daa449f5b0eb389d021bccfc",
       "version_major": 2,
       "version_minor": 0
      },
      "text/plain": [
       "  0%|          | 0/4272414 [00:00<?, ?it/s]"
      ]
     },
     "metadata": {},
     "output_type": "display_data"
    },
    {
     "name": "stdout",
     "output_type": "stream",
     "text": [
      "ESP_012636_1490/\n",
      "Downloading https://hirise-pds.lpl.arizona.edu/PDS/EXTRAS/RDR/ESP/ORB_012600_012699/ESP_012636_1490/ESP_012636_1490_RGB.NOMAP.browse.jpg to I:\\data\\mars\\ESP_012636_1490_RGB.NOMAP.browse.jpg\n"
     ]
    },
    {
     "data": {
      "application/vnd.jupyter.widget-view+json": {
       "model_id": "4d8df2194d2f43528d7cf8d37c795b54",
       "version_major": 2,
       "version_minor": 0
      },
      "text/plain": [
       "  0%|          | 0/1740645 [00:00<?, ?it/s]"
      ]
     },
     "metadata": {},
     "output_type": "display_data"
    },
    {
     "name": "stdout",
     "output_type": "stream",
     "text": [
      "ESP_012637_0935/\n",
      "Downloading https://hirise-pds.lpl.arizona.edu/PDS/EXTRAS/RDR/ESP/ORB_012600_012699/ESP_012637_0935/ESP_012637_0935_RGB.NOMAP.browse.jpg to I:\\data\\mars\\ESP_012637_0935_RGB.NOMAP.browse.jpg\n"
     ]
    },
    {
     "data": {
      "application/vnd.jupyter.widget-view+json": {
       "model_id": "bec8ac5b5240403aab384f76a07c9bd7",
       "version_major": 2,
       "version_minor": 0
      },
      "text/plain": [
       "  0%|          | 0/629263 [00:00<?, ?it/s]"
      ]
     },
     "metadata": {},
     "output_type": "display_data"
    },
    {
     "name": "stdout",
     "output_type": "stream",
     "text": [
      "ESP_012637_1400/\n",
      "Downloading https://hirise-pds.lpl.arizona.edu/PDS/EXTRAS/RDR/ESP/ORB_012600_012699/ESP_012637_1400/ESP_012637_1400_RGB.NOMAP.browse.jpg to I:\\data\\mars\\ESP_012637_1400_RGB.NOMAP.browse.jpg\n"
     ]
    },
    {
     "data": {
      "application/vnd.jupyter.widget-view+json": {
       "model_id": "506043e2203b42b48f2e9be3a062e2d9",
       "version_major": 2,
       "version_minor": 0
      },
      "text/plain": [
       "  0%|          | 0/412669 [00:00<?, ?it/s]"
      ]
     },
     "metadata": {},
     "output_type": "display_data"
    },
    {
     "name": "stdout",
     "output_type": "stream",
     "text": [
      "ESP_012638_1700/\n",
      "Downloading https://hirise-pds.lpl.arizona.edu/PDS/EXTRAS/RDR/ESP/ORB_012600_012699/ESP_012638_1700/ESP_012638_1700_RGB.NOMAP.browse.jpg to I:\\data\\mars\\ESP_012638_1700_RGB.NOMAP.browse.jpg\n"
     ]
    },
    {
     "data": {
      "application/vnd.jupyter.widget-view+json": {
       "model_id": "729b082aa624444e99e34c2078519939",
       "version_major": 2,
       "version_minor": 0
      },
      "text/plain": [
       "  0%|          | 0/1687326 [00:00<?, ?it/s]"
      ]
     },
     "metadata": {},
     "output_type": "display_data"
    },
    {
     "name": "stdout",
     "output_type": "stream",
     "text": [
      "ESP_012639_1990/\n",
      "Downloading https://hirise-pds.lpl.arizona.edu/PDS/EXTRAS/RDR/ESP/ORB_012600_012699/ESP_012639_1990/ESP_012639_1990_RGB.NOMAP.browse.jpg to I:\\data\\mars\\ESP_012639_1990_RGB.NOMAP.browse.jpg\n"
     ]
    },
    {
     "data": {
      "application/vnd.jupyter.widget-view+json": {
       "model_id": "c031484309324957959e89ae83ff17fe",
       "version_major": 2,
       "version_minor": 0
      },
      "text/plain": [
       "  0%|          | 0/1388343 [00:00<?, ?it/s]"
      ]
     },
     "metadata": {},
     "output_type": "display_data"
    },
    {
     "name": "stdout",
     "output_type": "stream",
     "text": [
      "ESP_012640_1415/\n",
      "Downloading https://hirise-pds.lpl.arizona.edu/PDS/EXTRAS/RDR/ESP/ORB_012600_012699/ESP_012640_1415/ESP_012640_1415_RGB.NOMAP.browse.jpg to I:\\data\\mars\\ESP_012640_1415_RGB.NOMAP.browse.jpg\n"
     ]
    },
    {
     "data": {
      "application/vnd.jupyter.widget-view+json": {
       "model_id": "812c9749296d4bbbbd501ad219e87c9e",
       "version_major": 2,
       "version_minor": 0
      },
      "text/plain": [
       "  0%|          | 0/821484 [00:00<?, ?it/s]"
      ]
     },
     "metadata": {},
     "output_type": "display_data"
    },
    {
     "name": "stdout",
     "output_type": "stream",
     "text": [
      "ESP_012641_1495/\n",
      "Downloading https://hirise-pds.lpl.arizona.edu/PDS/EXTRAS/RDR/ESP/ORB_012600_012699/ESP_012641_1495/ESP_012641_1495_RGB.NOMAP.browse.jpg to I:\\data\\mars\\ESP_012641_1495_RGB.NOMAP.browse.jpg\n"
     ]
    },
    {
     "data": {
      "application/vnd.jupyter.widget-view+json": {
       "model_id": "d629935fabb2418fbe90ffa933d9435f",
       "version_major": 2,
       "version_minor": 0
      },
      "text/plain": [
       "  0%|          | 0/543275 [00:00<?, ?it/s]"
      ]
     },
     "metadata": {},
     "output_type": "display_data"
    },
    {
     "name": "stdout",
     "output_type": "stream",
     "text": [
      "ESP_012642_1400/\n",
      "Downloading https://hirise-pds.lpl.arizona.edu/PDS/EXTRAS/RDR/ESP/ORB_012600_012699/ESP_012642_1400/ESP_012642_1400_RGB.NOMAP.browse.jpg to I:\\data\\mars\\ESP_012642_1400_RGB.NOMAP.browse.jpg\n"
     ]
    },
    {
     "data": {
      "application/vnd.jupyter.widget-view+json": {
       "model_id": "5c4b9c9c81d3436d96f2e7240967dffa",
       "version_major": 2,
       "version_minor": 0
      },
      "text/plain": [
       "  0%|          | 0/1295556 [00:00<?, ?it/s]"
      ]
     },
     "metadata": {},
     "output_type": "display_data"
    },
    {
     "name": "stdout",
     "output_type": "stream",
     "text": [
      "ESP_012642_1895/\n",
      "Downloading https://hirise-pds.lpl.arizona.edu/PDS/EXTRAS/RDR/ESP/ORB_012600_012699/ESP_012642_1895/ESP_012642_1895_RGB.NOMAP.browse.jpg to I:\\data\\mars\\ESP_012642_1895_RGB.NOMAP.browse.jpg\n"
     ]
    },
    {
     "data": {
      "application/vnd.jupyter.widget-view+json": {
       "model_id": "3bc2bd45cd0e408f94fc4fcb133e5009",
       "version_major": 2,
       "version_minor": 0
      },
      "text/plain": [
       "  0%|          | 0/503648 [00:00<?, ?it/s]"
      ]
     },
     "metadata": {},
     "output_type": "display_data"
    },
    {
     "name": "stdout",
     "output_type": "stream",
     "text": [
      "ESP_012643_0945/\n",
      "Downloading https://hirise-pds.lpl.arizona.edu/PDS/EXTRAS/RDR/ESP/ORB_012600_012699/ESP_012643_0945/ESP_012643_0945_RGB.NOMAP.browse.jpg to I:\\data\\mars\\ESP_012643_0945_RGB.NOMAP.browse.jpg\n"
     ]
    },
    {
     "data": {
      "application/vnd.jupyter.widget-view+json": {
       "model_id": "5686615bcaef426cb4f713b1b356c5de",
       "version_major": 2,
       "version_minor": 0
      },
      "text/plain": [
       "  0%|          | 0/1587013 [00:00<?, ?it/s]"
      ]
     },
     "metadata": {},
     "output_type": "display_data"
    },
    {
     "name": "stdout",
     "output_type": "stream",
     "text": [
      "ESP_012643_1825/\n",
      "Downloading https://hirise-pds.lpl.arizona.edu/PDS/EXTRAS/RDR/ESP/ORB_012600_012699/ESP_012643_1825/ESP_012643_1825_RGB.NOMAP.browse.jpg to I:\\data\\mars\\ESP_012643_1825_RGB.NOMAP.browse.jpg\n"
     ]
    },
    {
     "data": {
      "application/vnd.jupyter.widget-view+json": {
       "model_id": "9794a73f3bf94c1eb9a1d49b1c3f2638",
       "version_major": 2,
       "version_minor": 0
      },
      "text/plain": [
       "  0%|          | 0/4839716 [00:00<?, ?it/s]"
      ]
     },
     "metadata": {},
     "output_type": "display_data"
    },
    {
     "name": "stdout",
     "output_type": "stream",
     "text": [
      "ESP_012644_1565/\n",
      "Downloading https://hirise-pds.lpl.arizona.edu/PDS/EXTRAS/RDR/ESP/ORB_012600_012699/ESP_012644_1565/ESP_012644_1565_RGB.NOMAP.browse.jpg to I:\\data\\mars\\ESP_012644_1565_RGB.NOMAP.browse.jpg\n"
     ]
    },
    {
     "data": {
      "application/vnd.jupyter.widget-view+json": {
       "model_id": "d938b1c0899c4a78928803acae288e3d",
       "version_major": 2,
       "version_minor": 0
      },
      "text/plain": [
       "  0%|          | 0/897078 [00:00<?, ?it/s]"
      ]
     },
     "metadata": {},
     "output_type": "display_data"
    },
    {
     "name": "stdout",
     "output_type": "stream",
     "text": [
      "ESP_012647_0980/\n",
      "Downloading https://hirise-pds.lpl.arizona.edu/PDS/EXTRAS/RDR/ESP/ORB_012600_012699/ESP_012647_0980/ESP_012647_0980_RGB.NOMAP.browse.jpg to I:\\data\\mars\\ESP_012647_0980_RGB.NOMAP.browse.jpg\n"
     ]
    },
    {
     "data": {
      "application/vnd.jupyter.widget-view+json": {
       "model_id": "220f597c5543419ebbce43668a869388",
       "version_major": 2,
       "version_minor": 0
      },
      "text/plain": [
       "  0%|          | 0/3194158 [00:00<?, ?it/s]"
      ]
     },
     "metadata": {},
     "output_type": "display_data"
    },
    {
     "name": "stdout",
     "output_type": "stream",
     "text": [
      "ESP_012648_0930/\n",
      "Downloading https://hirise-pds.lpl.arizona.edu/PDS/EXTRAS/RDR/ESP/ORB_012600_012699/ESP_012648_0930/ESP_012648_0930_RGB.NOMAP.browse.jpg to I:\\data\\mars\\ESP_012648_0930_RGB.NOMAP.browse.jpg\n"
     ]
    },
    {
     "data": {
      "application/vnd.jupyter.widget-view+json": {
       "model_id": "cb9fa07119944ef5b22e9f63cefd6251",
       "version_major": 2,
       "version_minor": 0
      },
      "text/plain": [
       "  0%|          | 0/837866 [00:00<?, ?it/s]"
      ]
     },
     "metadata": {},
     "output_type": "display_data"
    },
    {
     "name": "stdout",
     "output_type": "stream",
     "text": [
      "ESP_012648_1815/\n",
      "Downloading https://hirise-pds.lpl.arizona.edu/PDS/EXTRAS/RDR/ESP/ORB_012600_012699/ESP_012648_1815/ESP_012648_1815_RGB.NOMAP.browse.jpg to I:\\data\\mars\\ESP_012648_1815_RGB.NOMAP.browse.jpg\n"
     ]
    },
    {
     "data": {
      "application/vnd.jupyter.widget-view+json": {
       "model_id": "2913e19353d44693bbf7895cf53f088b",
       "version_major": 2,
       "version_minor": 0
      },
      "text/plain": [
       "  0%|          | 0/1341883 [00:00<?, ?it/s]"
      ]
     },
     "metadata": {},
     "output_type": "display_data"
    },
    {
     "name": "stdout",
     "output_type": "stream",
     "text": [
      "ESP_012649_1770/\n",
      "Downloading https://hirise-pds.lpl.arizona.edu/PDS/EXTRAS/RDR/ESP/ORB_012600_012699/ESP_012649_1770/ESP_012649_1770_RGB.NOMAP.browse.jpg to I:\\data\\mars\\ESP_012649_1770_RGB.NOMAP.browse.jpg\n"
     ]
    },
    {
     "data": {
      "application/vnd.jupyter.widget-view+json": {
       "model_id": "a224411ec3804f4f9866d0657886d52a",
       "version_major": 2,
       "version_minor": 0
      },
      "text/plain": [
       "  0%|          | 0/567813 [00:00<?, ?it/s]"
      ]
     },
     "metadata": {},
     "output_type": "display_data"
    },
    {
     "name": "stdout",
     "output_type": "stream",
     "text": [
      "ESP_012650_1780/\n",
      "Downloading https://hirise-pds.lpl.arizona.edu/PDS/EXTRAS/RDR/ESP/ORB_012600_012699/ESP_012650_1780/ESP_012650_1780_RGB.NOMAP.browse.jpg to I:\\data\\mars\\ESP_012650_1780_RGB.NOMAP.browse.jpg\n"
     ]
    },
    {
     "data": {
      "application/vnd.jupyter.widget-view+json": {
       "model_id": "248562bac20b4d2584e7f0be6f180e16",
       "version_major": 2,
       "version_minor": 0
      },
      "text/plain": [
       "  0%|          | 0/1697811 [00:00<?, ?it/s]"
      ]
     },
     "metadata": {},
     "output_type": "display_data"
    },
    {
     "name": "stdout",
     "output_type": "stream",
     "text": [
      "ESP_012650_2180/\n",
      "\tfailed to find filename\n",
      "ESP_012652_0950/\n",
      "Downloading https://hirise-pds.lpl.arizona.edu/PDS/EXTRAS/RDR/ESP/ORB_012600_012699/ESP_012652_0950/ESP_012652_0950_RGB.NOMAP.browse.jpg to I:\\data\\mars\\ESP_012652_0950_RGB.NOMAP.browse.jpg\n"
     ]
    },
    {
     "data": {
      "application/vnd.jupyter.widget-view+json": {
       "model_id": "2e421ed6a78c48e19cfff90c62fd7968",
       "version_major": 2,
       "version_minor": 0
      },
      "text/plain": [
       "  0%|          | 0/589660 [00:00<?, ?it/s]"
      ]
     },
     "metadata": {},
     "output_type": "display_data"
    },
    {
     "name": "stdout",
     "output_type": "stream",
     "text": [
      "ESP_012653_1955/\n",
      "Downloading https://hirise-pds.lpl.arizona.edu/PDS/EXTRAS/RDR/ESP/ORB_012600_012699/ESP_012653_1955/ESP_012653_1955_RGB.NOMAP.browse.jpg to I:\\data\\mars\\ESP_012653_1955_RGB.NOMAP.browse.jpg\n"
     ]
    },
    {
     "data": {
      "application/vnd.jupyter.widget-view+json": {
       "model_id": "d773ee0b0810434695c90d202087fb15",
       "version_major": 2,
       "version_minor": 0
      },
      "text/plain": [
       "  0%|          | 0/1563481 [00:00<?, ?it/s]"
      ]
     },
     "metadata": {},
     "output_type": "display_data"
    },
    {
     "name": "stdout",
     "output_type": "stream",
     "text": [
      "ESP_012654_1895/\n",
      "Downloading https://hirise-pds.lpl.arizona.edu/PDS/EXTRAS/RDR/ESP/ORB_012600_012699/ESP_012654_1895/ESP_012654_1895_RGB.NOMAP.browse.jpg to I:\\data\\mars\\ESP_012654_1895_RGB.NOMAP.browse.jpg\n"
     ]
    },
    {
     "data": {
      "application/vnd.jupyter.widget-view+json": {
       "model_id": "6fd3825e15c547a3be43842e705df375",
       "version_major": 2,
       "version_minor": 0
      },
      "text/plain": [
       "  0%|          | 0/1194298 [00:00<?, ?it/s]"
      ]
     },
     "metadata": {},
     "output_type": "display_data"
    },
    {
     "name": "stdout",
     "output_type": "stream",
     "text": [
      "ESP_012655_1510/\n",
      "Downloading https://hirise-pds.lpl.arizona.edu/PDS/EXTRAS/RDR/ESP/ORB_012600_012699/ESP_012655_1510/ESP_012655_1510_RGB.NOMAP.browse.jpg to I:\\data\\mars\\ESP_012655_1510_RGB.NOMAP.browse.jpg\n"
     ]
    },
    {
     "data": {
      "application/vnd.jupyter.widget-view+json": {
       "model_id": "a0e83d3cc29944bc93104442fb056230",
       "version_major": 2,
       "version_minor": 0
      },
      "text/plain": [
       "  0%|          | 0/796407 [00:00<?, ?it/s]"
      ]
     },
     "metadata": {},
     "output_type": "display_data"
    },
    {
     "name": "stdout",
     "output_type": "stream",
     "text": [
      "ESP_012655_2070/\n",
      "Downloading https://hirise-pds.lpl.arizona.edu/PDS/EXTRAS/RDR/ESP/ORB_012600_012699/ESP_012655_2070/ESP_012655_2070_RGB.NOMAP.browse.jpg to I:\\data\\mars\\ESP_012655_2070_RGB.NOMAP.browse.jpg\n"
     ]
    },
    {
     "data": {
      "application/vnd.jupyter.widget-view+json": {
       "model_id": "2a52d8e23bc1476093f4e283c3104c1f",
       "version_major": 2,
       "version_minor": 0
      },
      "text/plain": [
       "  0%|          | 0/1439427 [00:00<?, ?it/s]"
      ]
     },
     "metadata": {},
     "output_type": "display_data"
    },
    {
     "name": "stdout",
     "output_type": "stream",
     "text": [
      "ESP_012656_1355/\n",
      "Downloading https://hirise-pds.lpl.arizona.edu/PDS/EXTRAS/RDR/ESP/ORB_012600_012699/ESP_012656_1355/ESP_012656_1355_RGB.NOMAP.browse.jpg to I:\\data\\mars\\ESP_012656_1355_RGB.NOMAP.browse.jpg\n"
     ]
    },
    {
     "data": {
      "application/vnd.jupyter.widget-view+json": {
       "model_id": "0ac5ae29d2004408bf78cc2f1aaae027",
       "version_major": 2,
       "version_minor": 0
      },
      "text/plain": [
       "  0%|          | 0/898681 [00:00<?, ?it/s]"
      ]
     },
     "metadata": {},
     "output_type": "display_data"
    },
    {
     "name": "stdout",
     "output_type": "stream",
     "text": [
      "ESP_012656_1875/\n",
      "Downloading https://hirise-pds.lpl.arizona.edu/PDS/EXTRAS/RDR/ESP/ORB_012600_012699/ESP_012656_1875/ESP_012656_1875_RGB.NOMAP.browse.jpg to I:\\data\\mars\\ESP_012656_1875_RGB.NOMAP.browse.jpg\n"
     ]
    },
    {
     "data": {
      "application/vnd.jupyter.widget-view+json": {
       "model_id": "c29b139c98434b7c8671e77b96e49a03",
       "version_major": 2,
       "version_minor": 0
      },
      "text/plain": [
       "  0%|          | 0/1735224 [00:00<?, ?it/s]"
      ]
     },
     "metadata": {},
     "output_type": "display_data"
    },
    {
     "name": "stdout",
     "output_type": "stream",
     "text": [
      "ESP_012658_0985/\n",
      "Downloading https://hirise-pds.lpl.arizona.edu/PDS/EXTRAS/RDR/ESP/ORB_012600_012699/ESP_012658_0985/ESP_012658_0985_RGB.NOMAP.browse.jpg to I:\\data\\mars\\ESP_012658_0985_RGB.NOMAP.browse.jpg\n"
     ]
    },
    {
     "data": {
      "application/vnd.jupyter.widget-view+json": {
       "model_id": "cd674f8f074847a7bb9e5f20cb58d4a9",
       "version_major": 2,
       "version_minor": 0
      },
      "text/plain": [
       "  0%|          | 0/2011561 [00:00<?, ?it/s]"
      ]
     },
     "metadata": {},
     "output_type": "display_data"
    },
    {
     "name": "stdout",
     "output_type": "stream",
     "text": [
      "ESP_012658_1680/\n",
      "Downloading https://hirise-pds.lpl.arizona.edu/PDS/EXTRAS/RDR/ESP/ORB_012600_012699/ESP_012658_1680/ESP_012658_1680_RGB.NOMAP.browse.jpg to I:\\data\\mars\\ESP_012658_1680_RGB.NOMAP.browse.jpg\n"
     ]
    },
    {
     "data": {
      "application/vnd.jupyter.widget-view+json": {
       "model_id": "4dd579860c154c8fa1387a9deed09366",
       "version_major": 2,
       "version_minor": 0
      },
      "text/plain": [
       "  0%|          | 0/571642 [00:00<?, ?it/s]"
      ]
     },
     "metadata": {},
     "output_type": "display_data"
    },
    {
     "name": "stdout",
     "output_type": "stream",
     "text": [
      "ESP_012659_1900/\n",
      "Downloading https://hirise-pds.lpl.arizona.edu/PDS/EXTRAS/RDR/ESP/ORB_012600_012699/ESP_012659_1900/ESP_012659_1900_RGB.NOMAP.browse.jpg to I:\\data\\mars\\ESP_012659_1900_RGB.NOMAP.browse.jpg\n"
     ]
    },
    {
     "data": {
      "application/vnd.jupyter.widget-view+json": {
       "model_id": "395498f0a6754abdae7126b888197095",
       "version_major": 2,
       "version_minor": 0
      },
      "text/plain": [
       "  0%|          | 0/1628647 [00:00<?, ?it/s]"
      ]
     },
     "metadata": {},
     "output_type": "display_data"
    },
    {
     "name": "stdout",
     "output_type": "stream",
     "text": [
      "ESP_012661_1325/\n",
      "Downloading https://hirise-pds.lpl.arizona.edu/PDS/EXTRAS/RDR/ESP/ORB_012600_012699/ESP_012661_1325/ESP_012661_1325_RGB.NOMAP.browse.jpg to I:\\data\\mars\\ESP_012661_1325_RGB.NOMAP.browse.jpg\n"
     ]
    },
    {
     "data": {
      "application/vnd.jupyter.widget-view+json": {
       "model_id": "ecbba588008a4b79a4247f447127b972",
       "version_major": 2,
       "version_minor": 0
      },
      "text/plain": [
       "  0%|          | 0/662001 [00:00<?, ?it/s]"
      ]
     },
     "metadata": {},
     "output_type": "display_data"
    },
    {
     "name": "stdout",
     "output_type": "stream",
     "text": [
      "ESP_012662_1505/\n",
      "Downloading https://hirise-pds.lpl.arizona.edu/PDS/EXTRAS/RDR/ESP/ORB_012600_012699/ESP_012662_1505/ESP_012662_1505_RGB.NOMAP.browse.jpg to I:\\data\\mars\\ESP_012662_1505_RGB.NOMAP.browse.jpg\n"
     ]
    },
    {
     "data": {
      "application/vnd.jupyter.widget-view+json": {
       "model_id": "1444d97926f7429e8c0a2cf6fa24114a",
       "version_major": 2,
       "version_minor": 0
      },
      "text/plain": [
       "  0%|          | 0/471232 [00:00<?, ?it/s]"
      ]
     },
     "metadata": {},
     "output_type": "display_data"
    },
    {
     "name": "stdout",
     "output_type": "stream",
     "text": [
      "ESP_012663_1440/\n",
      "Downloading https://hirise-pds.lpl.arizona.edu/PDS/EXTRAS/RDR/ESP/ORB_012600_012699/ESP_012663_1440/ESP_012663_1440_RGB.NOMAP.browse.jpg to I:\\data\\mars\\ESP_012663_1440_RGB.NOMAP.browse.jpg\n"
     ]
    },
    {
     "data": {
      "application/vnd.jupyter.widget-view+json": {
       "model_id": "d4b42cd66d5d4930bf58e98f2a276e8b",
       "version_major": 2,
       "version_minor": 0
      },
      "text/plain": [
       "  0%|          | 0/1219108 [00:00<?, ?it/s]"
      ]
     },
     "metadata": {},
     "output_type": "display_data"
    },
    {
     "name": "stdout",
     "output_type": "stream",
     "text": [
      "ESP_012663_1960/\n",
      "Downloading https://hirise-pds.lpl.arizona.edu/PDS/EXTRAS/RDR/ESP/ORB_012600_012699/ESP_012663_1960/ESP_012663_1960_RGB.NOMAP.browse.jpg to I:\\data\\mars\\ESP_012663_1960_RGB.NOMAP.browse.jpg\n"
     ]
    },
    {
     "data": {
      "application/vnd.jupyter.widget-view+json": {
       "model_id": "287801c04c1642bebeafbbd3b7c3a42f",
       "version_major": 2,
       "version_minor": 0
      },
      "text/plain": [
       "  0%|          | 0/1987279 [00:00<?, ?it/s]"
      ]
     },
     "metadata": {},
     "output_type": "display_data"
    },
    {
     "name": "stdout",
     "output_type": "stream",
     "text": [
      "ESP_012664_1720/\n",
      "Downloading https://hirise-pds.lpl.arizona.edu/PDS/EXTRAS/RDR/ESP/ORB_012600_012699/ESP_012664_1720/ESP_012664_1720_RGB.NOMAP.browse.jpg to I:\\data\\mars\\ESP_012664_1720_RGB.NOMAP.browse.jpg\n"
     ]
    },
    {
     "data": {
      "application/vnd.jupyter.widget-view+json": {
       "model_id": "40f66e23f9ee464ba14090534658a11a",
       "version_major": 2,
       "version_minor": 0
      },
      "text/plain": [
       "  0%|          | 0/1421216 [00:00<?, ?it/s]"
      ]
     },
     "metadata": {},
     "output_type": "display_data"
    },
    {
     "name": "stdout",
     "output_type": "stream",
     "text": [
      "ESP_012665_1365/\n",
      "Downloading https://hirise-pds.lpl.arizona.edu/PDS/EXTRAS/RDR/ESP/ORB_012600_012699/ESP_012665_1365/ESP_012665_1365_RGB.NOMAP.browse.jpg to I:\\data\\mars\\ESP_012665_1365_RGB.NOMAP.browse.jpg\n"
     ]
    },
    {
     "data": {
      "application/vnd.jupyter.widget-view+json": {
       "model_id": "6667841881ba4e10bfadf956c5e61e2e",
       "version_major": 2,
       "version_minor": 0
      },
      "text/plain": [
       "  0%|          | 0/2265568 [00:00<?, ?it/s]"
      ]
     },
     "metadata": {},
     "output_type": "display_data"
    },
    {
     "name": "stdout",
     "output_type": "stream",
     "text": [
      "ESP_012667_1745/\n",
      "Downloading https://hirise-pds.lpl.arizona.edu/PDS/EXTRAS/RDR/ESP/ORB_012600_012699/ESP_012667_1745/ESP_012667_1745_RGB.NOMAP.browse.jpg to I:\\data\\mars\\ESP_012667_1745_RGB.NOMAP.browse.jpg\n"
     ]
    },
    {
     "data": {
      "application/vnd.jupyter.widget-view+json": {
       "model_id": "77e05a27e8cd415fa29b7c150d984536",
       "version_major": 2,
       "version_minor": 0
      },
      "text/plain": [
       "  0%|          | 0/1504797 [00:00<?, ?it/s]"
      ]
     },
     "metadata": {},
     "output_type": "display_data"
    },
    {
     "name": "stdout",
     "output_type": "stream",
     "text": [
      "ESP_012668_1495/\n",
      "Downloading https://hirise-pds.lpl.arizona.edu/PDS/EXTRAS/RDR/ESP/ORB_012600_012699/ESP_012668_1495/ESP_012668_1495_RGB.NOMAP.browse.jpg to I:\\data\\mars\\ESP_012668_1495_RGB.NOMAP.browse.jpg\n"
     ]
    },
    {
     "data": {
      "application/vnd.jupyter.widget-view+json": {
       "model_id": "33aea01375ea4baeb6acafd4100cf24e",
       "version_major": 2,
       "version_minor": 0
      },
      "text/plain": [
       "  0%|          | 0/316878 [00:00<?, ?it/s]"
      ]
     },
     "metadata": {},
     "output_type": "display_data"
    },
    {
     "name": "stdout",
     "output_type": "stream",
     "text": [
      "ESP_012669_1290/\n",
      "Downloading https://hirise-pds.lpl.arizona.edu/PDS/EXTRAS/RDR/ESP/ORB_012600_012699/ESP_012669_1290/ESP_012669_1290_RGB.NOMAP.browse.jpg to I:\\data\\mars\\ESP_012669_1290_RGB.NOMAP.browse.jpg\n"
     ]
    },
    {
     "data": {
      "application/vnd.jupyter.widget-view+json": {
       "model_id": "66c85679545e4cd78f2321539c1ee1f6",
       "version_major": 2,
       "version_minor": 0
      },
      "text/plain": [
       "  0%|          | 0/1314516 [00:00<?, ?it/s]"
      ]
     },
     "metadata": {},
     "output_type": "display_data"
    },
    {
     "name": "stdout",
     "output_type": "stream",
     "text": [
      "ESP_012669_1880/\n",
      "Downloading https://hirise-pds.lpl.arizona.edu/PDS/EXTRAS/RDR/ESP/ORB_012600_012699/ESP_012669_1880/ESP_012669_1880_RGB.NOMAP.browse.jpg to I:\\data\\mars\\ESP_012669_1880_RGB.NOMAP.browse.jpg\n"
     ]
    },
    {
     "data": {
      "application/vnd.jupyter.widget-view+json": {
       "model_id": "f1baa3dd114f49ce9744bb537799674d",
       "version_major": 2,
       "version_minor": 0
      },
      "text/plain": [
       "  0%|          | 0/2095602 [00:00<?, ?it/s]"
      ]
     },
     "metadata": {},
     "output_type": "display_data"
    },
    {
     "name": "stdout",
     "output_type": "stream",
     "text": [
      "ESP_012670_1055/\n",
      "Downloading https://hirise-pds.lpl.arizona.edu/PDS/EXTRAS/RDR/ESP/ORB_012600_012699/ESP_012670_1055/ESP_012670_1055_RGB.NOMAP.browse.jpg to I:\\data\\mars\\ESP_012670_1055_RGB.NOMAP.browse.jpg\n"
     ]
    },
    {
     "data": {
      "application/vnd.jupyter.widget-view+json": {
       "model_id": "22a2846c910f48fda36f872b5aeee19d",
       "version_major": 2,
       "version_minor": 0
      },
      "text/plain": [
       "  0%|          | 0/1048385 [00:00<?, ?it/s]"
      ]
     },
     "metadata": {},
     "output_type": "display_data"
    },
    {
     "name": "stdout",
     "output_type": "stream",
     "text": [
      "ESP_012670_1845/\n",
      "Downloading https://hirise-pds.lpl.arizona.edu/PDS/EXTRAS/RDR/ESP/ORB_012600_012699/ESP_012670_1845/ESP_012670_1845_RGB.NOMAP.browse.jpg to I:\\data\\mars\\ESP_012670_1845_RGB.NOMAP.browse.jpg\n"
     ]
    },
    {
     "data": {
      "application/vnd.jupyter.widget-view+json": {
       "model_id": "e96f200a5da948da9bd66e066492b910",
       "version_major": 2,
       "version_minor": 0
      },
      "text/plain": [
       "  0%|          | 0/2156092 [00:00<?, ?it/s]"
      ]
     },
     "metadata": {},
     "output_type": "display_data"
    },
    {
     "name": "stdout",
     "output_type": "stream",
     "text": [
      "ESP_012671_0930/\n",
      "Downloading https://hirise-pds.lpl.arizona.edu/PDS/EXTRAS/RDR/ESP/ORB_012600_012699/ESP_012671_0930/ESP_012671_0930_RGB.NOMAP.browse.jpg to I:\\data\\mars\\ESP_012671_0930_RGB.NOMAP.browse.jpg\n"
     ]
    },
    {
     "data": {
      "application/vnd.jupyter.widget-view+json": {
       "model_id": "7a67b4b30e7947b6a0e7ac47cf6dd668",
       "version_major": 2,
       "version_minor": 0
      },
      "text/plain": [
       "  0%|          | 0/1284064 [00:00<?, ?it/s]"
      ]
     },
     "metadata": {},
     "output_type": "display_data"
    },
    {
     "name": "stdout",
     "output_type": "stream",
     "text": [
      "ESP_012671_1795/\n",
      "Downloading https://hirise-pds.lpl.arizona.edu/PDS/EXTRAS/RDR/ESP/ORB_012600_012699/ESP_012671_1795/ESP_012671_1795_RGB.NOMAP.browse.jpg to I:\\data\\mars\\ESP_012671_1795_RGB.NOMAP.browse.jpg\n"
     ]
    },
    {
     "data": {
      "application/vnd.jupyter.widget-view+json": {
       "model_id": "809949e4a23549b3808a3add1d243554",
       "version_major": 2,
       "version_minor": 0
      },
      "text/plain": [
       "  0%|          | 0/882436 [00:00<?, ?it/s]"
      ]
     },
     "metadata": {},
     "output_type": "display_data"
    },
    {
     "name": "stdout",
     "output_type": "stream",
     "text": [
      "ESP_012672_1645/\n",
      "Downloading https://hirise-pds.lpl.arizona.edu/PDS/EXTRAS/RDR/ESP/ORB_012600_012699/ESP_012672_1645/ESP_012672_1645_RGB.NOMAP.browse.jpg to I:\\data\\mars\\ESP_012672_1645_RGB.NOMAP.browse.jpg\n"
     ]
    },
    {
     "data": {
      "application/vnd.jupyter.widget-view+json": {
       "model_id": "dfcddab8e80343b58eb966861460d581",
       "version_major": 2,
       "version_minor": 0
      },
      "text/plain": [
       "  0%|          | 0/744220 [00:00<?, ?it/s]"
      ]
     },
     "metadata": {},
     "output_type": "display_data"
    },
    {
     "name": "stdout",
     "output_type": "stream",
     "text": [
      "ESP_012673_1530/\n",
      "Downloading https://hirise-pds.lpl.arizona.edu/PDS/EXTRAS/RDR/ESP/ORB_012600_012699/ESP_012673_1530/ESP_012673_1530_RGB.NOMAP.browse.jpg to I:\\data\\mars\\ESP_012673_1530_RGB.NOMAP.browse.jpg\n"
     ]
    },
    {
     "data": {
      "application/vnd.jupyter.widget-view+json": {
       "model_id": "0404d1d3f58249d9bec659d5a0234759",
       "version_major": 2,
       "version_minor": 0
      },
      "text/plain": [
       "  0%|          | 0/832765 [00:00<?, ?it/s]"
      ]
     },
     "metadata": {},
     "output_type": "display_data"
    },
    {
     "name": "stdout",
     "output_type": "stream",
     "text": [
      "ESP_012674_1745/\n",
      "Downloading https://hirise-pds.lpl.arizona.edu/PDS/EXTRAS/RDR/ESP/ORB_012600_012699/ESP_012674_1745/ESP_012674_1745_RGB.NOMAP.browse.jpg to I:\\data\\mars\\ESP_012674_1745_RGB.NOMAP.browse.jpg\n"
     ]
    },
    {
     "data": {
      "application/vnd.jupyter.widget-view+json": {
       "model_id": "c55c2732975c448ea12b54faf5e28534",
       "version_major": 2,
       "version_minor": 0
      },
      "text/plain": [
       "  0%|          | 0/1004251 [00:00<?, ?it/s]"
      ]
     },
     "metadata": {},
     "output_type": "display_data"
    },
    {
     "name": "stdout",
     "output_type": "stream",
     "text": [
      "ESP_012675_1565/\n",
      "Downloading https://hirise-pds.lpl.arizona.edu/PDS/EXTRAS/RDR/ESP/ORB_012600_012699/ESP_012675_1565/ESP_012675_1565_RGB.NOMAP.browse.jpg to I:\\data\\mars\\ESP_012675_1565_RGB.NOMAP.browse.jpg\n"
     ]
    },
    {
     "data": {
      "application/vnd.jupyter.widget-view+json": {
       "model_id": "3e7b1edb8cf94b88bd3d6d20c14c9619",
       "version_major": 2,
       "version_minor": 0
      },
      "text/plain": [
       "  0%|          | 0/959861 [00:00<?, ?it/s]"
      ]
     },
     "metadata": {},
     "output_type": "display_data"
    },
    {
     "name": "stdout",
     "output_type": "stream",
     "text": [
      "ESP_012676_1545/\n",
      "Downloading https://hirise-pds.lpl.arizona.edu/PDS/EXTRAS/RDR/ESP/ORB_012600_012699/ESP_012676_1545/ESP_012676_1545_RGB.NOMAP.browse.jpg to I:\\data\\mars\\ESP_012676_1545_RGB.NOMAP.browse.jpg\n"
     ]
    },
    {
     "data": {
      "application/vnd.jupyter.widget-view+json": {
       "model_id": "8958fa559f90414fb34bc5d9ff0035ed",
       "version_major": 2,
       "version_minor": 0
      },
      "text/plain": [
       "  0%|          | 0/1458627 [00:00<?, ?it/s]"
      ]
     },
     "metadata": {},
     "output_type": "display_data"
    },
    {
     "name": "stdout",
     "output_type": "stream",
     "text": [
      "ESP_012677_1395/\n",
      "Downloading https://hirise-pds.lpl.arizona.edu/PDS/EXTRAS/RDR/ESP/ORB_012600_012699/ESP_012677_1395/ESP_012677_1395_RGB.NOMAP.browse.jpg to I:\\data\\mars\\ESP_012677_1395_RGB.NOMAP.browse.jpg\n"
     ]
    },
    {
     "data": {
      "application/vnd.jupyter.widget-view+json": {
       "model_id": "59580a78c87c4089808779f8ed53571d",
       "version_major": 2,
       "version_minor": 0
      },
      "text/plain": [
       "  0%|          | 0/1480430 [00:00<?, ?it/s]"
      ]
     },
     "metadata": {},
     "output_type": "display_data"
    },
    {
     "name": "stdout",
     "output_type": "stream",
     "text": [
      "ESP_012677_2035/\n",
      "Downloading https://hirise-pds.lpl.arizona.edu/PDS/EXTRAS/RDR/ESP/ORB_012600_012699/ESP_012677_2035/ESP_012677_2035_RGB.NOMAP.browse.jpg to I:\\data\\mars\\ESP_012677_2035_RGB.NOMAP.browse.jpg\n"
     ]
    },
    {
     "data": {
      "application/vnd.jupyter.widget-view+json": {
       "model_id": "7636bc36c927457e9af341acd0e8eb90",
       "version_major": 2,
       "version_minor": 0
      },
      "text/plain": [
       "  0%|          | 0/1332047 [00:00<?, ?it/s]"
      ]
     },
     "metadata": {},
     "output_type": "display_data"
    },
    {
     "name": "stdout",
     "output_type": "stream",
     "text": [
      "ESP_012679_1420/\n",
      "Downloading https://hirise-pds.lpl.arizona.edu/PDS/EXTRAS/RDR/ESP/ORB_012600_012699/ESP_012679_1420/ESP_012679_1420_RGB.NOMAP.browse.jpg to I:\\data\\mars\\ESP_012679_1420_RGB.NOMAP.browse.jpg\n"
     ]
    },
    {
     "data": {
      "application/vnd.jupyter.widget-view+json": {
       "model_id": "a891689614494679a8ceb482c6bbca56",
       "version_major": 2,
       "version_minor": 0
      },
      "text/plain": [
       "  0%|          | 0/1717647 [00:00<?, ?it/s]"
      ]
     },
     "metadata": {},
     "output_type": "display_data"
    },
    {
     "name": "stdout",
     "output_type": "stream",
     "text": [
      "ESP_012679_2040/\n",
      "Downloading https://hirise-pds.lpl.arizona.edu/PDS/EXTRAS/RDR/ESP/ORB_012600_012699/ESP_012679_2040/ESP_012679_2040_RGB.NOMAP.browse.jpg to I:\\data\\mars\\ESP_012679_2040_RGB.NOMAP.browse.jpg\n"
     ]
    },
    {
     "data": {
      "application/vnd.jupyter.widget-view+json": {
       "model_id": "74375389a8174c76803a4e66883601f0",
       "version_major": 2,
       "version_minor": 0
      },
      "text/plain": [
       "  0%|          | 0/1322845 [00:00<?, ?it/s]"
      ]
     },
     "metadata": {},
     "output_type": "display_data"
    },
    {
     "name": "stdout",
     "output_type": "stream",
     "text": [
      "ESP_012680_1000/\n",
      "Downloading https://hirise-pds.lpl.arizona.edu/PDS/EXTRAS/RDR/ESP/ORB_012600_012699/ESP_012680_1000/ESP_012680_1000_RGB.NOMAP.browse.jpg to I:\\data\\mars\\ESP_012680_1000_RGB.NOMAP.browse.jpg\n"
     ]
    },
    {
     "data": {
      "application/vnd.jupyter.widget-view+json": {
       "model_id": "f65f74080cdf42f687720e34e60bdc5d",
       "version_major": 2,
       "version_minor": 0
      },
      "text/plain": [
       "  0%|          | 0/1223508 [00:00<?, ?it/s]"
      ]
     },
     "metadata": {},
     "output_type": "display_data"
    },
    {
     "name": "stdout",
     "output_type": "stream",
     "text": [
      "ESP_012687_1385/\n",
      "Downloading https://hirise-pds.lpl.arizona.edu/PDS/EXTRAS/RDR/ESP/ORB_012600_012699/ESP_012687_1385/ESP_012687_1385_RGB.NOMAP.browse.jpg to I:\\data\\mars\\ESP_012687_1385_RGB.NOMAP.browse.jpg\n"
     ]
    },
    {
     "data": {
      "application/vnd.jupyter.widget-view+json": {
       "model_id": "20d5b7a88561489782b6836a4007c56c",
       "version_major": 2,
       "version_minor": 0
      },
      "text/plain": [
       "  0%|          | 0/2085742 [00:00<?, ?it/s]"
      ]
     },
     "metadata": {},
     "output_type": "display_data"
    },
    {
     "name": "stdout",
     "output_type": "stream",
     "text": [
      "ESP_012687_1930/\n",
      "Downloading https://hirise-pds.lpl.arizona.edu/PDS/EXTRAS/RDR/ESP/ORB_012600_012699/ESP_012687_1930/ESP_012687_1930_RGB.NOMAP.browse.jpg to I:\\data\\mars\\ESP_012687_1930_RGB.NOMAP.browse.jpg\n"
     ]
    },
    {
     "data": {
      "application/vnd.jupyter.widget-view+json": {
       "model_id": "b22612e9dab142fc9116ded6bd636366",
       "version_major": 2,
       "version_minor": 0
      },
      "text/plain": [
       "  0%|          | 0/1015954 [00:00<?, ?it/s]"
      ]
     },
     "metadata": {},
     "output_type": "display_data"
    },
    {
     "name": "stdout",
     "output_type": "stream",
     "text": [
      "ESP_012688_1155/\n",
      "Downloading https://hirise-pds.lpl.arizona.edu/PDS/EXTRAS/RDR/ESP/ORB_012600_012699/ESP_012688_1155/ESP_012688_1155_RGB.NOMAP.browse.jpg to I:\\data\\mars\\ESP_012688_1155_RGB.NOMAP.browse.jpg\n"
     ]
    },
    {
     "data": {
      "application/vnd.jupyter.widget-view+json": {
       "model_id": "c7ab834dd6ab4a8d8fae8237e0d05555",
       "version_major": 2,
       "version_minor": 0
      },
      "text/plain": [
       "  0%|          | 0/1798990 [00:00<?, ?it/s]"
      ]
     },
     "metadata": {},
     "output_type": "display_data"
    },
    {
     "name": "stdout",
     "output_type": "stream",
     "text": [
      "ESP_012688_1765/\n",
      "Downloading https://hirise-pds.lpl.arizona.edu/PDS/EXTRAS/RDR/ESP/ORB_012600_012699/ESP_012688_1765/ESP_012688_1765_RGB.NOMAP.browse.jpg to I:\\data\\mars\\ESP_012688_1765_RGB.NOMAP.browse.jpg\n"
     ]
    },
    {
     "data": {
      "application/vnd.jupyter.widget-view+json": {
       "model_id": "3dd0631083954fc7b96bd18338a13025",
       "version_major": 2,
       "version_minor": 0
      },
      "text/plain": [
       "  0%|          | 0/2103279 [00:00<?, ?it/s]"
      ]
     },
     "metadata": {},
     "output_type": "display_data"
    },
    {
     "name": "stdout",
     "output_type": "stream",
     "text": [
      "ESP_012689_1600/\n",
      "Downloading https://hirise-pds.lpl.arizona.edu/PDS/EXTRAS/RDR/ESP/ORB_012600_012699/ESP_012689_1600/ESP_012689_1600_RGB.NOMAP.browse.jpg to I:\\data\\mars\\ESP_012689_1600_RGB.NOMAP.browse.jpg\n"
     ]
    },
    {
     "data": {
      "application/vnd.jupyter.widget-view+json": {
       "model_id": "2dc9cefceaf846d29fe19c8709202f43",
       "version_major": 2,
       "version_minor": 0
      },
      "text/plain": [
       "  0%|          | 0/964273 [00:00<?, ?it/s]"
      ]
     },
     "metadata": {},
     "output_type": "display_data"
    },
    {
     "name": "stdout",
     "output_type": "stream",
     "text": [
      "ESP_012690_0940/\n",
      "Downloading https://hirise-pds.lpl.arizona.edu/PDS/EXTRAS/RDR/ESP/ORB_012600_012699/ESP_012690_0940/ESP_012690_0940_RGB.NOMAP.browse.jpg to I:\\data\\mars\\ESP_012690_0940_RGB.NOMAP.browse.jpg\n"
     ]
    },
    {
     "data": {
      "application/vnd.jupyter.widget-view+json": {
       "model_id": "dff0aee7ef404d6a9b5dd6692cb2740f",
       "version_major": 2,
       "version_minor": 0
      },
      "text/plain": [
       "  0%|          | 0/796005 [00:00<?, ?it/s]"
      ]
     },
     "metadata": {},
     "output_type": "display_data"
    },
    {
     "name": "stdout",
     "output_type": "stream",
     "text": [
      "ESP_012690_2055/\n",
      "Downloading https://hirise-pds.lpl.arizona.edu/PDS/EXTRAS/RDR/ESP/ORB_012600_012699/ESP_012690_2055/ESP_012690_2055_RGB.NOMAP.browse.jpg to I:\\data\\mars\\ESP_012690_2055_RGB.NOMAP.browse.jpg\n"
     ]
    },
    {
     "data": {
      "application/vnd.jupyter.widget-view+json": {
       "model_id": "77503823570040bca31bf6228ae744d4",
       "version_major": 2,
       "version_minor": 0
      },
      "text/plain": [
       "  0%|          | 0/1220062 [00:00<?, ?it/s]"
      ]
     },
     "metadata": {},
     "output_type": "display_data"
    },
    {
     "name": "stdout",
     "output_type": "stream",
     "text": [
      "ESP_012691_0985/\n",
      "Downloading https://hirise-pds.lpl.arizona.edu/PDS/EXTRAS/RDR/ESP/ORB_012600_012699/ESP_012691_0985/ESP_012691_0985_RGB.NOMAP.browse.jpg to I:\\data\\mars\\ESP_012691_0985_RGB.NOMAP.browse.jpg\n"
     ]
    },
    {
     "data": {
      "application/vnd.jupyter.widget-view+json": {
       "model_id": "40330a13651c43bfa5901f444c83bbc6",
       "version_major": 2,
       "version_minor": 0
      },
      "text/plain": [
       "  0%|          | 0/1436014 [00:00<?, ?it/s]"
      ]
     },
     "metadata": {},
     "output_type": "display_data"
    },
    {
     "name": "stdout",
     "output_type": "stream",
     "text": [
      "ESP_012692_1810/\n",
      "Downloading https://hirise-pds.lpl.arizona.edu/PDS/EXTRAS/RDR/ESP/ORB_012600_012699/ESP_012692_1810/ESP_012692_1810_RGB.NOMAP.browse.jpg to I:\\data\\mars\\ESP_012692_1810_RGB.NOMAP.browse.jpg\n"
     ]
    },
    {
     "data": {
      "application/vnd.jupyter.widget-view+json": {
       "model_id": "82028ac3dca14adc9c64c4e945106e2b",
       "version_major": 2,
       "version_minor": 0
      },
      "text/plain": [
       "  0%|          | 0/564474 [00:00<?, ?it/s]"
      ]
     },
     "metadata": {},
     "output_type": "display_data"
    },
    {
     "name": "stdout",
     "output_type": "stream",
     "text": [
      "ESP_012693_0950/\n",
      "Downloading https://hirise-pds.lpl.arizona.edu/PDS/EXTRAS/RDR/ESP/ORB_012600_012699/ESP_012693_0950/ESP_012693_0950_RGB.NOMAP.browse.jpg to I:\\data\\mars\\ESP_012693_0950_RGB.NOMAP.browse.jpg\n"
     ]
    },
    {
     "data": {
      "application/vnd.jupyter.widget-view+json": {
       "model_id": "81cb833f753741249c4a55850991176b",
       "version_major": 2,
       "version_minor": 0
      },
      "text/plain": [
       "  0%|          | 0/2139957 [00:00<?, ?it/s]"
      ]
     },
     "metadata": {},
     "output_type": "display_data"
    },
    {
     "name": "stdout",
     "output_type": "stream",
     "text": [
      "ESP_012693_1470/\n",
      "Downloading https://hirise-pds.lpl.arizona.edu/PDS/EXTRAS/RDR/ESP/ORB_012600_012699/ESP_012693_1470/ESP_012693_1470_RGB.NOMAP.browse.jpg to I:\\data\\mars\\ESP_012693_1470_RGB.NOMAP.browse.jpg\n"
     ]
    },
    {
     "data": {
      "application/vnd.jupyter.widget-view+json": {
       "model_id": "afd373ac0aa94897a89da11c9e7464c2",
       "version_major": 2,
       "version_minor": 0
      },
      "text/plain": [
       "  0%|          | 0/482657 [00:00<?, ?it/s]"
      ]
     },
     "metadata": {},
     "output_type": "display_data"
    },
    {
     "name": "stdout",
     "output_type": "stream",
     "text": [
      "ESP_012698_1815/\n",
      "Downloading https://hirise-pds.lpl.arizona.edu/PDS/EXTRAS/RDR/ESP/ORB_012600_012699/ESP_012698_1815/ESP_012698_1815_RGB.NOMAP.browse.jpg to I:\\data\\mars\\ESP_012698_1815_RGB.NOMAP.browse.jpg\n"
     ]
    },
    {
     "data": {
      "application/vnd.jupyter.widget-view+json": {
       "model_id": "5f7f635dbe8640409a9ae78139c7bf15",
       "version_major": 2,
       "version_minor": 0
      },
      "text/plain": [
       "  0%|          | 0/1327607 [00:00<?, ?it/s]"
      ]
     },
     "metadata": {},
     "output_type": "display_data"
    },
    {
     "name": "stdout",
     "output_type": "stream",
     "text": [
      "ESP_012699_1590/\n",
      "Downloading https://hirise-pds.lpl.arizona.edu/PDS/EXTRAS/RDR/ESP/ORB_012600_012699/ESP_012699_1590/ESP_012699_1590_RGB.NOMAP.browse.jpg to I:\\data\\mars\\ESP_012699_1590_RGB.NOMAP.browse.jpg\n"
     ]
    },
    {
     "data": {
      "application/vnd.jupyter.widget-view+json": {
       "model_id": "6c6d1b9e7f98406cb0e803cbdef02316",
       "version_major": 2,
       "version_minor": 0
      },
      "text/plain": [
       "  0%|          | 0/838966 [00:00<?, ?it/s]"
      ]
     },
     "metadata": {},
     "output_type": "display_data"
    },
    {
     "name": "stdout",
     "output_type": "stream",
     "text": [
      "-------------------------------------------------- ORB_012700_012799/\n",
      "ESP_012700_1375/\n",
      "Downloading https://hirise-pds.lpl.arizona.edu/PDS/EXTRAS/RDR/ESP/ORB_012700_012799/ESP_012700_1375/ESP_012700_1375_RGB.NOMAP.browse.jpg to I:\\data\\mars\\ESP_012700_1375_RGB.NOMAP.browse.jpg\n"
     ]
    },
    {
     "data": {
      "application/vnd.jupyter.widget-view+json": {
       "model_id": "8027ce5e256b49ea9d25c5aef93860f0",
       "version_major": 2,
       "version_minor": 0
      },
      "text/plain": [
       "  0%|          | 0/2366579 [00:00<?, ?it/s]"
      ]
     },
     "metadata": {},
     "output_type": "display_data"
    },
    {
     "name": "stdout",
     "output_type": "stream",
     "text": [
      "ESP_012700_2025/\n",
      "Downloading https://hirise-pds.lpl.arizona.edu/PDS/EXTRAS/RDR/ESP/ORB_012700_012799/ESP_012700_2025/ESP_012700_2025_RGB.NOMAP.browse.jpg to I:\\data\\mars\\ESP_012700_2025_RGB.NOMAP.browse.jpg\n"
     ]
    },
    {
     "data": {
      "application/vnd.jupyter.widget-view+json": {
       "model_id": "40656d4c26af425ea8b5ab79d11faebf",
       "version_major": 2,
       "version_minor": 0
      },
      "text/plain": [
       "  0%|          | 0/702140 [00:00<?, ?it/s]"
      ]
     },
     "metadata": {},
     "output_type": "display_data"
    },
    {
     "name": "stdout",
     "output_type": "stream",
     "text": [
      "ESP_012702_1640/\n",
      "Downloading https://hirise-pds.lpl.arizona.edu/PDS/EXTRAS/RDR/ESP/ORB_012700_012799/ESP_012702_1640/ESP_012702_1640_RGB.NOMAP.browse.jpg to I:\\data\\mars\\ESP_012702_1640_RGB.NOMAP.browse.jpg\n"
     ]
    },
    {
     "data": {
      "application/vnd.jupyter.widget-view+json": {
       "model_id": "6b370601a1534c309fce2f007667d0e1",
       "version_major": 2,
       "version_minor": 0
      },
      "text/plain": [
       "  0%|          | 0/1318631 [00:00<?, ?it/s]"
      ]
     },
     "metadata": {},
     "output_type": "display_data"
    },
    {
     "name": "stdout",
     "output_type": "stream",
     "text": [
      "ESP_012702_2055/\n",
      "Downloading https://hirise-pds.lpl.arizona.edu/PDS/EXTRAS/RDR/ESP/ORB_012700_012799/ESP_012702_2055/ESP_012702_2055_RGB.NOMAP.browse.jpg to I:\\data\\mars\\ESP_012702_2055_RGB.NOMAP.browse.jpg\n"
     ]
    },
    {
     "data": {
      "application/vnd.jupyter.widget-view+json": {
       "model_id": "ec193c5ea57d448e8adb55f2e1e6d737",
       "version_major": 2,
       "version_minor": 0
      },
      "text/plain": [
       "  0%|          | 0/2249160 [00:00<?, ?it/s]"
      ]
     },
     "metadata": {},
     "output_type": "display_data"
    },
    {
     "name": "stdout",
     "output_type": "stream",
     "text": [
      "ESP_012703_1365/\n",
      "Downloading https://hirise-pds.lpl.arizona.edu/PDS/EXTRAS/RDR/ESP/ORB_012700_012799/ESP_012703_1365/ESP_012703_1365_RGB.NOMAP.browse.jpg to I:\\data\\mars\\ESP_012703_1365_RGB.NOMAP.browse.jpg\n"
     ]
    },
    {
     "data": {
      "application/vnd.jupyter.widget-view+json": {
       "model_id": "4a03822a1bd045699b4810b22df2e47d",
       "version_major": 2,
       "version_minor": 0
      },
      "text/plain": [
       "  0%|          | 0/1006937 [00:00<?, ?it/s]"
      ]
     },
     "metadata": {},
     "output_type": "display_data"
    },
    {
     "name": "stdout",
     "output_type": "stream",
     "text": [
      "ESP_012703_1925/\n",
      "Downloading https://hirise-pds.lpl.arizona.edu/PDS/EXTRAS/RDR/ESP/ORB_012700_012799/ESP_012703_1925/ESP_012703_1925_RGB.NOMAP.browse.jpg to I:\\data\\mars\\ESP_012703_1925_RGB.NOMAP.browse.jpg\n"
     ]
    },
    {
     "data": {
      "application/vnd.jupyter.widget-view+json": {
       "model_id": "d20733e6c69d48d399f3a81073e35383",
       "version_major": 2,
       "version_minor": 0
      },
      "text/plain": [
       "  0%|          | 0/1651928 [00:00<?, ?it/s]"
      ]
     },
     "metadata": {},
     "output_type": "display_data"
    },
    {
     "name": "stdout",
     "output_type": "stream",
     "text": [
      "ESP_012704_0850/\n",
      "Downloading https://hirise-pds.lpl.arizona.edu/PDS/EXTRAS/RDR/ESP/ORB_012700_012799/ESP_012704_0850/ESP_012704_0850_RGB.NOMAP.browse.jpg to I:\\data\\mars\\ESP_012704_0850_RGB.NOMAP.browse.jpg\n"
     ]
    },
    {
     "data": {
      "application/vnd.jupyter.widget-view+json": {
       "model_id": "f773a964c9b24afaabb06fa538725d80",
       "version_major": 2,
       "version_minor": 0
      },
      "text/plain": [
       "  0%|          | 0/1456669 [00:00<?, ?it/s]"
      ]
     },
     "metadata": {},
     "output_type": "display_data"
    },
    {
     "name": "stdout",
     "output_type": "stream",
     "text": [
      "ESP_012704_1445/\n",
      "Downloading https://hirise-pds.lpl.arizona.edu/PDS/EXTRAS/RDR/ESP/ORB_012700_012799/ESP_012704_1445/ESP_012704_1445_RGB.NOMAP.browse.jpg to I:\\data\\mars\\ESP_012704_1445_RGB.NOMAP.browse.jpg\n"
     ]
    },
    {
     "data": {
      "application/vnd.jupyter.widget-view+json": {
       "model_id": "018bd33dce444faa8e3bc657c046294b",
       "version_major": 2,
       "version_minor": 0
      },
      "text/plain": [
       "  0%|          | 0/777760 [00:00<?, ?it/s]"
      ]
     },
     "metadata": {},
     "output_type": "display_data"
    },
    {
     "name": "stdout",
     "output_type": "stream",
     "text": [
      "ESP_012705_1555/\n",
      "Downloading https://hirise-pds.lpl.arizona.edu/PDS/EXTRAS/RDR/ESP/ORB_012700_012799/ESP_012705_1555/ESP_012705_1555_RGB.NOMAP.browse.jpg to I:\\data\\mars\\ESP_012705_1555_RGB.NOMAP.browse.jpg\n"
     ]
    },
    {
     "data": {
      "application/vnd.jupyter.widget-view+json": {
       "model_id": "df48d928b75f4b579592ee6424536936",
       "version_major": 2,
       "version_minor": 0
      },
      "text/plain": [
       "  0%|          | 0/780023 [00:00<?, ?it/s]"
      ]
     },
     "metadata": {},
     "output_type": "display_data"
    },
    {
     "name": "stdout",
     "output_type": "stream",
     "text": [
      "ESP_012706_1510/\n",
      "\tfailed to find filename\n",
      "ESP_012706_1995/\n",
      "Downloading https://hirise-pds.lpl.arizona.edu/PDS/EXTRAS/RDR/ESP/ORB_012700_012799/ESP_012706_1995/ESP_012706_1995_RGB.NOMAP.browse.jpg to I:\\data\\mars\\ESP_012706_1995_RGB.NOMAP.browse.jpg\n"
     ]
    },
    {
     "data": {
      "application/vnd.jupyter.widget-view+json": {
       "model_id": "a65973dafd00403bab10fcb072d0bbe5",
       "version_major": 2,
       "version_minor": 0
      },
      "text/plain": [
       "  0%|          | 0/1188358 [00:00<?, ?it/s]"
      ]
     },
     "metadata": {},
     "output_type": "display_data"
    },
    {
     "name": "stdout",
     "output_type": "stream",
     "text": [
      "ESP_012707_1445/\n",
      "Downloading https://hirise-pds.lpl.arizona.edu/PDS/EXTRAS/RDR/ESP/ORB_012700_012799/ESP_012707_1445/ESP_012707_1445_RGB.NOMAP.browse.jpg to I:\\data\\mars\\ESP_012707_1445_RGB.NOMAP.browse.jpg\n"
     ]
    },
    {
     "data": {
      "application/vnd.jupyter.widget-view+json": {
       "model_id": "58c24189ff9a4130ac397184a7b03319",
       "version_major": 2,
       "version_minor": 0
      },
      "text/plain": [
       "  0%|          | 0/1078556 [00:00<?, ?it/s]"
      ]
     },
     "metadata": {},
     "output_type": "display_data"
    },
    {
     "name": "stdout",
     "output_type": "stream",
     "text": [
      "ESP_012708_0855/\n",
      "Downloading https://hirise-pds.lpl.arizona.edu/PDS/EXTRAS/RDR/ESP/ORB_012700_012799/ESP_012708_0855/ESP_012708_0855_RGB.NOMAP.browse.jpg to I:\\data\\mars\\ESP_012708_0855_RGB.NOMAP.browse.jpg\n"
     ]
    },
    {
     "data": {
      "application/vnd.jupyter.widget-view+json": {
       "model_id": "c84364a200dd48538f43481c9ebd29c7",
       "version_major": 2,
       "version_minor": 0
      },
      "text/plain": [
       "  0%|          | 0/782468 [00:00<?, ?it/s]"
      ]
     },
     "metadata": {},
     "output_type": "display_data"
    },
    {
     "name": "stdout",
     "output_type": "stream",
     "text": [
      "ESP_012708_1450/\n",
      "Downloading https://hirise-pds.lpl.arizona.edu/PDS/EXTRAS/RDR/ESP/ORB_012700_012799/ESP_012708_1450/ESP_012708_1450_RGB.NOMAP.browse.jpg to I:\\data\\mars\\ESP_012708_1450_RGB.NOMAP.browse.jpg\n"
     ]
    },
    {
     "data": {
      "application/vnd.jupyter.widget-view+json": {
       "model_id": "a9b8be58b1644efd93756a085a82aeb6",
       "version_major": 2,
       "version_minor": 0
      },
      "text/plain": [
       "  0%|          | 0/675187 [00:00<?, ?it/s]"
      ]
     },
     "metadata": {},
     "output_type": "display_data"
    },
    {
     "name": "stdout",
     "output_type": "stream",
     "text": [
      "ESP_012708_2150/\n",
      "Downloading https://hirise-pds.lpl.arizona.edu/PDS/EXTRAS/RDR/ESP/ORB_012700_012799/ESP_012708_2150/ESP_012708_2150_RGB.NOMAP.browse.jpg to I:\\data\\mars\\ESP_012708_2150_RGB.NOMAP.browse.jpg\n"
     ]
    },
    {
     "data": {
      "application/vnd.jupyter.widget-view+json": {
       "model_id": "bdfc9cf6e8794d2a94cb0530cd71fe97",
       "version_major": 2,
       "version_minor": 0
      },
      "text/plain": [
       "  0%|          | 0/2234687 [00:00<?, ?it/s]"
      ]
     },
     "metadata": {},
     "output_type": "display_data"
    },
    {
     "name": "stdout",
     "output_type": "stream",
     "text": [
      "ESP_012709_1445/\n",
      "Downloading https://hirise-pds.lpl.arizona.edu/PDS/EXTRAS/RDR/ESP/ORB_012700_012799/ESP_012709_1445/ESP_012709_1445_RGB.NOMAP.browse.jpg to I:\\data\\mars\\ESP_012709_1445_RGB.NOMAP.browse.jpg\n"
     ]
    },
    {
     "data": {
      "application/vnd.jupyter.widget-view+json": {
       "model_id": "437298ba604344f48473dcaea333a988",
       "version_major": 2,
       "version_minor": 0
      },
      "text/plain": [
       "  0%|          | 0/1898272 [00:00<?, ?it/s]"
      ]
     },
     "metadata": {},
     "output_type": "display_data"
    },
    {
     "name": "stdout",
     "output_type": "stream",
     "text": [
      "ESP_012710_0955/\n",
      "Downloading https://hirise-pds.lpl.arizona.edu/PDS/EXTRAS/RDR/ESP/ORB_012700_012799/ESP_012710_0955/ESP_012710_0955_RGB.NOMAP.browse.jpg to I:\\data\\mars\\ESP_012710_0955_RGB.NOMAP.browse.jpg\n"
     ]
    },
    {
     "data": {
      "application/vnd.jupyter.widget-view+json": {
       "model_id": "0ad53ae1f53947098f7283dad12d28fc",
       "version_major": 2,
       "version_minor": 0
      },
      "text/plain": [
       "  0%|          | 0/2076118 [00:00<?, ?it/s]"
      ]
     },
     "metadata": {},
     "output_type": "display_data"
    },
    {
     "name": "stdout",
     "output_type": "stream",
     "text": [
      "ESP_012711_1495/\n",
      "Downloading https://hirise-pds.lpl.arizona.edu/PDS/EXTRAS/RDR/ESP/ORB_012700_012799/ESP_012711_1495/ESP_012711_1495_RGB.NOMAP.browse.jpg to I:\\data\\mars\\ESP_012711_1495_RGB.NOMAP.browse.jpg\n"
     ]
    },
    {
     "data": {
      "application/vnd.jupyter.widget-view+json": {
       "model_id": "4520ae75a29f47c7a56b0bd34e8128d0",
       "version_major": 2,
       "version_minor": 0
      },
      "text/plain": [
       "  0%|          | 0/1062261 [00:00<?, ?it/s]"
      ]
     },
     "metadata": {},
     "output_type": "display_data"
    },
    {
     "name": "stdout",
     "output_type": "stream",
     "text": [
      "ESP_012712_1980/\n",
      "Downloading https://hirise-pds.lpl.arizona.edu/PDS/EXTRAS/RDR/ESP/ORB_012700_012799/ESP_012712_1980/ESP_012712_1980_RGB.NOMAP.browse.jpg to I:\\data\\mars\\ESP_012712_1980_RGB.NOMAP.browse.jpg\n"
     ]
    },
    {
     "data": {
      "application/vnd.jupyter.widget-view+json": {
       "model_id": "5b82e9a756a547cc8655f36bdfab7c62",
       "version_major": 2,
       "version_minor": 0
      },
      "text/plain": [
       "  0%|          | 0/904558 [00:00<?, ?it/s]"
      ]
     },
     "metadata": {},
     "output_type": "display_data"
    },
    {
     "name": "stdout",
     "output_type": "stream",
     "text": [
      "ESP_012713_1675/\n",
      "Downloading https://hirise-pds.lpl.arizona.edu/PDS/EXTRAS/RDR/ESP/ORB_012700_012799/ESP_012713_1675/ESP_012713_1675_RGB.NOMAP.browse.jpg to I:\\data\\mars\\ESP_012713_1675_RGB.NOMAP.browse.jpg\n"
     ]
    },
    {
     "data": {
      "application/vnd.jupyter.widget-view+json": {
       "model_id": "2ce91000e7bc4bdb9c63fc7613bfe408",
       "version_major": 2,
       "version_minor": 0
      },
      "text/plain": [
       "  0%|          | 0/836330 [00:00<?, ?it/s]"
      ]
     },
     "metadata": {},
     "output_type": "display_data"
    },
    {
     "name": "stdout",
     "output_type": "stream",
     "text": [
      "ESP_012714_1175/\n",
      "\tfailed to find filename\n",
      "ESP_012714_1815/\n",
      "Downloading https://hirise-pds.lpl.arizona.edu/PDS/EXTRAS/RDR/ESP/ORB_012700_012799/ESP_012714_1815/ESP_012714_1815_RGB.NOMAP.browse.jpg to I:\\data\\mars\\ESP_012714_1815_RGB.NOMAP.browse.jpg\n"
     ]
    },
    {
     "data": {
      "application/vnd.jupyter.widget-view+json": {
       "model_id": "702357bcf6b94977b534bcc7ff6796da",
       "version_major": 2,
       "version_minor": 0
      },
      "text/plain": [
       "  0%|          | 0/1411552 [00:00<?, ?it/s]"
      ]
     },
     "metadata": {},
     "output_type": "display_data"
    },
    {
     "name": "stdout",
     "output_type": "stream",
     "text": [
      "ESP_012715_1740/\n",
      "Downloading https://hirise-pds.lpl.arizona.edu/PDS/EXTRAS/RDR/ESP/ORB_012700_012799/ESP_012715_1740/ESP_012715_1740_RGB.NOMAP.browse.jpg to I:\\data\\mars\\ESP_012715_1740_RGB.NOMAP.browse.jpg\n"
     ]
    },
    {
     "data": {
      "application/vnd.jupyter.widget-view+json": {
       "model_id": "cde383ffee3643b0bc4eca47df4f6d91",
       "version_major": 2,
       "version_minor": 0
      },
      "text/plain": [
       "  0%|          | 0/1148501 [00:00<?, ?it/s]"
      ]
     },
     "metadata": {},
     "output_type": "display_data"
    },
    {
     "name": "stdout",
     "output_type": "stream",
     "text": [
      "ESP_012715_1975/\n",
      "Downloading https://hirise-pds.lpl.arizona.edu/PDS/EXTRAS/RDR/ESP/ORB_012700_012799/ESP_012715_1975/ESP_012715_1975_RGB.NOMAP.browse.jpg to I:\\data\\mars\\ESP_012715_1975_RGB.NOMAP.browse.jpg\n"
     ]
    },
    {
     "data": {
      "application/vnd.jupyter.widget-view+json": {
       "model_id": "2c4d7bfaebf640d68d4a4a1475b8d275",
       "version_major": 2,
       "version_minor": 0
      },
      "text/plain": [
       "  0%|          | 0/1298032 [00:00<?, ?it/s]"
      ]
     },
     "metadata": {},
     "output_type": "display_data"
    },
    {
     "name": "stdout",
     "output_type": "stream",
     "text": [
      "ESP_012716_1885/\n",
      "Downloading https://hirise-pds.lpl.arizona.edu/PDS/EXTRAS/RDR/ESP/ORB_012700_012799/ESP_012716_1885/ESP_012716_1885_RGB.NOMAP.browse.jpg to I:\\data\\mars\\ESP_012716_1885_RGB.NOMAP.browse.jpg\n"
     ]
    },
    {
     "data": {
      "application/vnd.jupyter.widget-view+json": {
       "model_id": "87dc9610b5924357a120bb78b23be36c",
       "version_major": 2,
       "version_minor": 0
      },
      "text/plain": [
       "  0%|          | 0/1964877 [00:00<?, ?it/s]"
      ]
     },
     "metadata": {},
     "output_type": "display_data"
    },
    {
     "name": "stdout",
     "output_type": "stream",
     "text": [
      "ESP_012717_1380/\n",
      "Downloading https://hirise-pds.lpl.arizona.edu/PDS/EXTRAS/RDR/ESP/ORB_012700_012799/ESP_012717_1380/ESP_012717_1380_RGB.NOMAP.browse.jpg to I:\\data\\mars\\ESP_012717_1380_RGB.NOMAP.browse.jpg\n"
     ]
    },
    {
     "data": {
      "application/vnd.jupyter.widget-view+json": {
       "model_id": "1dafc4af7b75456e84cac56751626f67",
       "version_major": 2,
       "version_minor": 0
      },
      "text/plain": [
       "  0%|          | 0/1834129 [00:00<?, ?it/s]"
      ]
     },
     "metadata": {},
     "output_type": "display_data"
    },
    {
     "name": "stdout",
     "output_type": "stream",
     "text": [
      "ESP_012717_1910/\n",
      "Downloading https://hirise-pds.lpl.arizona.edu/PDS/EXTRAS/RDR/ESP/ORB_012700_012799/ESP_012717_1910/ESP_012717_1910_RGB.NOMAP.browse.jpg to I:\\data\\mars\\ESP_012717_1910_RGB.NOMAP.browse.jpg\n"
     ]
    },
    {
     "data": {
      "application/vnd.jupyter.widget-view+json": {
       "model_id": "d26535bad0094bfbaeb1fd4bb84fff4e",
       "version_major": 2,
       "version_minor": 0
      },
      "text/plain": [
       "  0%|          | 0/1428168 [00:00<?, ?it/s]"
      ]
     },
     "metadata": {},
     "output_type": "display_data"
    },
    {
     "name": "stdout",
     "output_type": "stream",
     "text": [
      "ESP_012718_0935/\n",
      "Downloading https://hirise-pds.lpl.arizona.edu/PDS/EXTRAS/RDR/ESP/ORB_012700_012799/ESP_012718_0935/ESP_012718_0935_RGB.NOMAP.browse.jpg to I:\\data\\mars\\ESP_012718_0935_RGB.NOMAP.browse.jpg\n"
     ]
    },
    {
     "data": {
      "application/vnd.jupyter.widget-view+json": {
       "model_id": "aaeb334d8c394b67b0abd73e00a099d3",
       "version_major": 2,
       "version_minor": 0
      },
      "text/plain": [
       "  0%|          | 0/423553 [00:00<?, ?it/s]"
      ]
     },
     "metadata": {},
     "output_type": "display_data"
    },
    {
     "name": "stdout",
     "output_type": "stream",
     "text": [
      "ESP_012721_1485/\n",
      "Downloading https://hirise-pds.lpl.arizona.edu/PDS/EXTRAS/RDR/ESP/ORB_012700_012799/ESP_012721_1485/ESP_012721_1485_RGB.NOMAP.browse.jpg to I:\\data\\mars\\ESP_012721_1485_RGB.NOMAP.browse.jpg\n"
     ]
    },
    {
     "data": {
      "application/vnd.jupyter.widget-view+json": {
       "model_id": "b144c5691d164521bf448ac94a635a5f",
       "version_major": 2,
       "version_minor": 0
      },
      "text/plain": [
       "  0%|          | 0/1631325 [00:00<?, ?it/s]"
      ]
     },
     "metadata": {},
     "output_type": "display_data"
    },
    {
     "name": "stdout",
     "output_type": "stream",
     "text": [
      "ESP_012722_0930/\n",
      "Downloading https://hirise-pds.lpl.arizona.edu/PDS/EXTRAS/RDR/ESP/ORB_012700_012799/ESP_012722_0930/ESP_012722_0930_RGB.NOMAP.browse.jpg to I:\\data\\mars\\ESP_012722_0930_RGB.NOMAP.browse.jpg\n"
     ]
    },
    {
     "data": {
      "application/vnd.jupyter.widget-view+json": {
       "model_id": "1f7ebc3a575145db93de8063addf57e6",
       "version_major": 2,
       "version_minor": 0
      },
      "text/plain": [
       "  0%|          | 0/659135 [00:00<?, ?it/s]"
      ]
     },
     "metadata": {},
     "output_type": "display_data"
    },
    {
     "name": "stdout",
     "output_type": "stream",
     "text": [
      "ESP_012722_1400/\n",
      "Downloading https://hirise-pds.lpl.arizona.edu/PDS/EXTRAS/RDR/ESP/ORB_012700_012799/ESP_012722_1400/ESP_012722_1400_RGB.NOMAP.browse.jpg to I:\\data\\mars\\ESP_012722_1400_RGB.NOMAP.browse.jpg\n"
     ]
    },
    {
     "data": {
      "application/vnd.jupyter.widget-view+json": {
       "model_id": "29d685bb04194478b443ae090da77383",
       "version_major": 2,
       "version_minor": 0
      },
      "text/plain": [
       "  0%|          | 0/1040282 [00:00<?, ?it/s]"
      ]
     },
     "metadata": {},
     "output_type": "display_data"
    },
    {
     "name": "stdout",
     "output_type": "stream",
     "text": [
      "ESP_012723_1065/\n",
      "Downloading https://hirise-pds.lpl.arizona.edu/PDS/EXTRAS/RDR/ESP/ORB_012700_012799/ESP_012723_1065/ESP_012723_1065_RGB.NOMAP.browse.jpg to I:\\data\\mars\\ESP_012723_1065_RGB.NOMAP.browse.jpg\n"
     ]
    },
    {
     "data": {
      "application/vnd.jupyter.widget-view+json": {
       "model_id": "0d4a76eb5515476da3bb9b9480eecda5",
       "version_major": 2,
       "version_minor": 0
      },
      "text/plain": [
       "  0%|          | 0/821787 [00:00<?, ?it/s]"
      ]
     },
     "metadata": {},
     "output_type": "display_data"
    },
    {
     "name": "stdout",
     "output_type": "stream",
     "text": [
      "ESP_012723_1470/\n",
      "Downloading https://hirise-pds.lpl.arizona.edu/PDS/EXTRAS/RDR/ESP/ORB_012700_012799/ESP_012723_1470/ESP_012723_1470_RGB.NOMAP.browse.jpg to I:\\data\\mars\\ESP_012723_1470_RGB.NOMAP.browse.jpg\n"
     ]
    },
    {
     "data": {
      "application/vnd.jupyter.widget-view+json": {
       "model_id": "4b1e3ed1f75c415a89c2bd12c1da5012",
       "version_major": 2,
       "version_minor": 0
      },
      "text/plain": [
       "  0%|          | 0/689096 [00:00<?, ?it/s]"
      ]
     },
     "metadata": {},
     "output_type": "display_data"
    },
    {
     "name": "stdout",
     "output_type": "stream",
     "text": [
      "ESP_012724_1915/\n",
      "Downloading https://hirise-pds.lpl.arizona.edu/PDS/EXTRAS/RDR/ESP/ORB_012700_012799/ESP_012724_1915/ESP_012724_1915_RGB.NOMAP.browse.jpg to I:\\data\\mars\\ESP_012724_1915_RGB.NOMAP.browse.jpg\n"
     ]
    },
    {
     "data": {
      "application/vnd.jupyter.widget-view+json": {
       "model_id": "6a5e05d3f2574a8da95d078ad9ca9e81",
       "version_major": 2,
       "version_minor": 0
      },
      "text/plain": [
       "  0%|          | 0/913270 [00:00<?, ?it/s]"
      ]
     },
     "metadata": {},
     "output_type": "display_data"
    },
    {
     "name": "stdout",
     "output_type": "stream",
     "text": [
      "ESP_012725_2015/\n",
      "Downloading https://hirise-pds.lpl.arizona.edu/PDS/EXTRAS/RDR/ESP/ORB_012700_012799/ESP_012725_2015/ESP_012725_2015_RGB.NOMAP.browse.jpg to I:\\data\\mars\\ESP_012725_2015_RGB.NOMAP.browse.jpg\n"
     ]
    },
    {
     "data": {
      "application/vnd.jupyter.widget-view+json": {
       "model_id": "76f3d4c6498447f48d052e0b52e5dc6f",
       "version_major": 2,
       "version_minor": 0
      },
      "text/plain": [
       "  0%|          | 0/1052181 [00:00<?, ?it/s]"
      ]
     },
     "metadata": {},
     "output_type": "display_data"
    },
    {
     "name": "stdout",
     "output_type": "stream",
     "text": [
      "ESP_012727_1540/\n",
      "Downloading https://hirise-pds.lpl.arizona.edu/PDS/EXTRAS/RDR/ESP/ORB_012700_012799/ESP_012727_1540/ESP_012727_1540_RGB.NOMAP.browse.jpg to I:\\data\\mars\\ESP_012727_1540_RGB.NOMAP.browse.jpg\n"
     ]
    },
    {
     "data": {
      "application/vnd.jupyter.widget-view+json": {
       "model_id": "114cecee5cdc419398348b71caa3a464",
       "version_major": 2,
       "version_minor": 0
      },
      "text/plain": [
       "  0%|          | 0/946175 [00:00<?, ?it/s]"
      ]
     },
     "metadata": {},
     "output_type": "display_data"
    },
    {
     "name": "stdout",
     "output_type": "stream",
     "text": [
      "ESP_012728_1070/\n",
      "Downloading https://hirise-pds.lpl.arizona.edu/PDS/EXTRAS/RDR/ESP/ORB_012700_012799/ESP_012728_1070/ESP_012728_1070_RGB.NOMAP.browse.jpg to I:\\data\\mars\\ESP_012728_1070_RGB.NOMAP.browse.jpg\n"
     ]
    },
    {
     "data": {
      "application/vnd.jupyter.widget-view+json": {
       "model_id": "cbc4bf0bed654d7aa0f2d40ccd199fcf",
       "version_major": 2,
       "version_minor": 0
      },
      "text/plain": [
       "  0%|          | 0/1907437 [00:00<?, ?it/s]"
      ]
     },
     "metadata": {},
     "output_type": "display_data"
    },
    {
     "name": "stdout",
     "output_type": "stream",
     "text": [
      "ESP_012728_1795/\n",
      "Downloading https://hirise-pds.lpl.arizona.edu/PDS/EXTRAS/RDR/ESP/ORB_012700_012799/ESP_012728_1795/ESP_012728_1795_RGB.NOMAP.browse.jpg to I:\\data\\mars\\ESP_012728_1795_RGB.NOMAP.browse.jpg\n"
     ]
    },
    {
     "data": {
      "application/vnd.jupyter.widget-view+json": {
       "model_id": "78a646b0b49a4ed1ae9e074ba68621fa",
       "version_major": 2,
       "version_minor": 0
      },
      "text/plain": [
       "  0%|          | 0/673536 [00:00<?, ?it/s]"
      ]
     },
     "metadata": {},
     "output_type": "display_data"
    },
    {
     "name": "stdout",
     "output_type": "stream",
     "text": [
      "ESP_012729_1020/\n",
      "Downloading https://hirise-pds.lpl.arizona.edu/PDS/EXTRAS/RDR/ESP/ORB_012700_012799/ESP_012729_1020/ESP_012729_1020_RGB.NOMAP.browse.jpg to I:\\data\\mars\\ESP_012729_1020_RGB.NOMAP.browse.jpg\n"
     ]
    },
    {
     "data": {
      "application/vnd.jupyter.widget-view+json": {
       "model_id": "8183140a68554b109a5d19e9c1cf219f",
       "version_major": 2,
       "version_minor": 0
      },
      "text/plain": [
       "  0%|          | 0/854081 [00:00<?, ?it/s]"
      ]
     },
     "metadata": {},
     "output_type": "display_data"
    },
    {
     "name": "stdout",
     "output_type": "stream",
     "text": [
      "ESP_012729_1830/\n",
      "Downloading https://hirise-pds.lpl.arizona.edu/PDS/EXTRAS/RDR/ESP/ORB_012700_012799/ESP_012729_1830/ESP_012729_1830_RGB.NOMAP.browse.jpg to I:\\data\\mars\\ESP_012729_1830_RGB.NOMAP.browse.jpg\n"
     ]
    },
    {
     "data": {
      "application/vnd.jupyter.widget-view+json": {
       "model_id": "ec230b3b70ef4915a03fe050a57713e2",
       "version_major": 2,
       "version_minor": 0
      },
      "text/plain": [
       "  0%|          | 0/1347289 [00:00<?, ?it/s]"
      ]
     },
     "metadata": {},
     "output_type": "display_data"
    },
    {
     "name": "stdout",
     "output_type": "stream",
     "text": [
      "ESP_012730_1475/\n",
      "Downloading https://hirise-pds.lpl.arizona.edu/PDS/EXTRAS/RDR/ESP/ORB_012700_012799/ESP_012730_1475/ESP_012730_1475_RGB.NOMAP.browse.jpg to I:\\data\\mars\\ESP_012730_1475_RGB.NOMAP.browse.jpg\n"
     ]
    },
    {
     "data": {
      "application/vnd.jupyter.widget-view+json": {
       "model_id": "346bd16816584509ad7a157dd7f04148",
       "version_major": 2,
       "version_minor": 0
      },
      "text/plain": [
       "  0%|          | 0/1478385 [00:00<?, ?it/s]"
      ]
     },
     "metadata": {},
     "output_type": "display_data"
    },
    {
     "name": "stdout",
     "output_type": "stream",
     "text": [
      "ESP_012730_2025/\n",
      "Downloading https://hirise-pds.lpl.arizona.edu/PDS/EXTRAS/RDR/ESP/ORB_012700_012799/ESP_012730_2025/ESP_012730_2025_RGB.NOMAP.browse.jpg to I:\\data\\mars\\ESP_012730_2025_RGB.NOMAP.browse.jpg\n"
     ]
    },
    {
     "data": {
      "application/vnd.jupyter.widget-view+json": {
       "model_id": "0335c3787e3949689fc6947a39b4a0c7",
       "version_major": 2,
       "version_minor": 0
      },
      "text/plain": [
       "  0%|          | 0/2157266 [00:00<?, ?it/s]"
      ]
     },
     "metadata": {},
     "output_type": "display_data"
    },
    {
     "name": "stdout",
     "output_type": "stream",
     "text": [
      "ESP_012731_1365/\n",
      "Downloading https://hirise-pds.lpl.arizona.edu/PDS/EXTRAS/RDR/ESP/ORB_012700_012799/ESP_012731_1365/ESP_012731_1365_RGB.NOMAP.browse.jpg to I:\\data\\mars\\ESP_012731_1365_RGB.NOMAP.browse.jpg\n"
     ]
    },
    {
     "data": {
      "application/vnd.jupyter.widget-view+json": {
       "model_id": "82fb81f34a3b472a95ab12924d8eaa43",
       "version_major": 2,
       "version_minor": 0
      },
      "text/plain": [
       "  0%|          | 0/2190484 [00:00<?, ?it/s]"
      ]
     },
     "metadata": {},
     "output_type": "display_data"
    },
    {
     "name": "stdout",
     "output_type": "stream",
     "text": [
      "ESP_012734_1265/\n",
      "Downloading https://hirise-pds.lpl.arizona.edu/PDS/EXTRAS/RDR/ESP/ORB_012700_012799/ESP_012734_1265/ESP_012734_1265_RGB.NOMAP.browse.jpg to I:\\data\\mars\\ESP_012734_1265_RGB.NOMAP.browse.jpg\n"
     ]
    },
    {
     "data": {
      "application/vnd.jupyter.widget-view+json": {
       "model_id": "3d55ce9391e54606b259180f18110186",
       "version_major": 2,
       "version_minor": 0
      },
      "text/plain": [
       "  0%|          | 0/1600021 [00:00<?, ?it/s]"
      ]
     },
     "metadata": {},
     "output_type": "display_data"
    },
    {
     "name": "stdout",
     "output_type": "stream",
     "text": [
      "ESP_012735_1095/\n",
      "\tfailed to find filename\n",
      "ESP_012735_1830/\n",
      "Downloading https://hirise-pds.lpl.arizona.edu/PDS/EXTRAS/RDR/ESP/ORB_012700_012799/ESP_012735_1830/ESP_012735_1830_RGB.NOMAP.browse.jpg to I:\\data\\mars\\ESP_012735_1830_RGB.NOMAP.browse.jpg\n"
     ]
    },
    {
     "data": {
      "application/vnd.jupyter.widget-view+json": {
       "model_id": "bc1c6d5cc8054bda82072d3162e3be15",
       "version_major": 2,
       "version_minor": 0
      },
      "text/plain": [
       "  0%|          | 0/1243053 [00:00<?, ?it/s]"
      ]
     },
     "metadata": {},
     "output_type": "display_data"
    },
    {
     "name": "stdout",
     "output_type": "stream",
     "text": [
      "ESP_012736_1445/\n",
      "Downloading https://hirise-pds.lpl.arizona.edu/PDS/EXTRAS/RDR/ESP/ORB_012700_012799/ESP_012736_1445/ESP_012736_1445_RGB.NOMAP.browse.jpg to I:\\data\\mars\\ESP_012736_1445_RGB.NOMAP.browse.jpg\n"
     ]
    },
    {
     "data": {
      "application/vnd.jupyter.widget-view+json": {
       "model_id": "543b199f3b164c0582c3fa82e70e7c53",
       "version_major": 2,
       "version_minor": 0
      },
      "text/plain": [
       "  0%|          | 0/1180514 [00:00<?, ?it/s]"
      ]
     },
     "metadata": {},
     "output_type": "display_data"
    },
    {
     "name": "stdout",
     "output_type": "stream",
     "text": [
      "ESP_012737_0985/\n",
      "Downloading https://hirise-pds.lpl.arizona.edu/PDS/EXTRAS/RDR/ESP/ORB_012700_012799/ESP_012737_0985/ESP_012737_0985_RGB.NOMAP.browse.jpg to I:\\data\\mars\\ESP_012737_0985_RGB.NOMAP.browse.jpg\n"
     ]
    },
    {
     "data": {
      "application/vnd.jupyter.widget-view+json": {
       "model_id": "30d4df594a1040cca642cbdf87b7de2c",
       "version_major": 2,
       "version_minor": 0
      },
      "text/plain": [
       "  0%|          | 0/1831725 [00:00<?, ?it/s]"
      ]
     },
     "metadata": {},
     "output_type": "display_data"
    },
    {
     "name": "stdout",
     "output_type": "stream",
     "text": [
      "ESP_012737_1550/\n",
      "Downloading https://hirise-pds.lpl.arizona.edu/PDS/EXTRAS/RDR/ESP/ORB_012700_012799/ESP_012737_1550/ESP_012737_1550_RGB.NOMAP.browse.jpg to I:\\data\\mars\\ESP_012737_1550_RGB.NOMAP.browse.jpg\n"
     ]
    },
    {
     "data": {
      "application/vnd.jupyter.widget-view+json": {
       "model_id": "37c6b0712a7e4193a3485267cabb87cf",
       "version_major": 2,
       "version_minor": 0
      },
      "text/plain": [
       "  0%|          | 0/1930966 [00:00<?, ?it/s]"
      ]
     },
     "metadata": {},
     "output_type": "display_data"
    },
    {
     "name": "stdout",
     "output_type": "stream",
     "text": [
      "ESP_012738_1785/\n",
      "Downloading https://hirise-pds.lpl.arizona.edu/PDS/EXTRAS/RDR/ESP/ORB_012700_012799/ESP_012738_1785/ESP_012738_1785_RGB.NOMAP.browse.jpg to I:\\data\\mars\\ESP_012738_1785_RGB.NOMAP.browse.jpg\n"
     ]
    },
    {
     "data": {
      "application/vnd.jupyter.widget-view+json": {
       "model_id": "cfe085afc0104d18a56818a2da3e8e6e",
       "version_major": 2,
       "version_minor": 0
      },
      "text/plain": [
       "  0%|          | 0/1252048 [00:00<?, ?it/s]"
      ]
     },
     "metadata": {},
     "output_type": "display_data"
    },
    {
     "name": "stdout",
     "output_type": "stream",
     "text": [
      "ESP_012739_0935/\n",
      "Downloading https://hirise-pds.lpl.arizona.edu/PDS/EXTRAS/RDR/ESP/ORB_012700_012799/ESP_012739_0935/ESP_012739_0935_RGB.NOMAP.browse.jpg to I:\\data\\mars\\ESP_012739_0935_RGB.NOMAP.browse.jpg\n"
     ]
    },
    {
     "data": {
      "application/vnd.jupyter.widget-view+json": {
       "model_id": "1f93ef675e8e4a0dbe2ddd275fec5dd3",
       "version_major": 2,
       "version_minor": 0
      },
      "text/plain": [
       "  0%|          | 0/1876886 [00:00<?, ?it/s]"
      ]
     },
     "metadata": {},
     "output_type": "display_data"
    },
    {
     "name": "stdout",
     "output_type": "stream",
     "text": [
      "ESP_012739_1560/\n",
      "Downloading https://hirise-pds.lpl.arizona.edu/PDS/EXTRAS/RDR/ESP/ORB_012700_012799/ESP_012739_1560/ESP_012739_1560_RGB.NOMAP.browse.jpg to I:\\data\\mars\\ESP_012739_1560_RGB.NOMAP.browse.jpg\n"
     ]
    },
    {
     "data": {
      "application/vnd.jupyter.widget-view+json": {
       "model_id": "9b8f90d23f4c48588347a7285453292c",
       "version_major": 2,
       "version_minor": 0
      },
      "text/plain": [
       "  0%|          | 0/839103 [00:00<?, ?it/s]"
      ]
     },
     "metadata": {},
     "output_type": "display_data"
    },
    {
     "name": "stdout",
     "output_type": "stream",
     "text": [
      "ESP_012740_1265/\n",
      "Downloading https://hirise-pds.lpl.arizona.edu/PDS/EXTRAS/RDR/ESP/ORB_012700_012799/ESP_012740_1265/ESP_012740_1265_RGB.NOMAP.browse.jpg to I:\\data\\mars\\ESP_012740_1265_RGB.NOMAP.browse.jpg\n"
     ]
    },
    {
     "data": {
      "application/vnd.jupyter.widget-view+json": {
       "model_id": "55e486c60cea468d9b69626eae0183a0",
       "version_major": 2,
       "version_minor": 0
      },
      "text/plain": [
       "  0%|          | 0/1237929 [00:00<?, ?it/s]"
      ]
     },
     "metadata": {},
     "output_type": "display_data"
    },
    {
     "name": "stdout",
     "output_type": "stream",
     "text": [
      "ESP_012741_1115/\n",
      "Downloading https://hirise-pds.lpl.arizona.edu/PDS/EXTRAS/RDR/ESP/ORB_012700_012799/ESP_012741_1115/ESP_012741_1115_RGB.NOMAP.browse.jpg to I:\\data\\mars\\ESP_012741_1115_RGB.NOMAP.browse.jpg\n"
     ]
    },
    {
     "data": {
      "application/vnd.jupyter.widget-view+json": {
       "model_id": "a0f320e5886642c68c961859cafc3e9e",
       "version_major": 2,
       "version_minor": 0
      },
      "text/plain": [
       "  0%|          | 0/975071 [00:00<?, ?it/s]"
      ]
     },
     "metadata": {},
     "output_type": "display_data"
    },
    {
     "name": "stdout",
     "output_type": "stream",
     "text": [
      "ESP_012741_1750/\n",
      "Downloading https://hirise-pds.lpl.arizona.edu/PDS/EXTRAS/RDR/ESP/ORB_012700_012799/ESP_012741_1750/ESP_012741_1750_RGB.NOMAP.browse.jpg to I:\\data\\mars\\ESP_012741_1750_RGB.NOMAP.browse.jpg\n"
     ]
    },
    {
     "data": {
      "application/vnd.jupyter.widget-view+json": {
       "model_id": "85c578f0bbbe488ab1e67bbfa71a9baf",
       "version_major": 2,
       "version_minor": 0
      },
      "text/plain": [
       "  0%|          | 0/1548978 [00:00<?, ?it/s]"
      ]
     },
     "metadata": {},
     "output_type": "display_data"
    },
    {
     "name": "stdout",
     "output_type": "stream",
     "text": [
      "ESP_012742_1435/\n",
      "Downloading https://hirise-pds.lpl.arizona.edu/PDS/EXTRAS/RDR/ESP/ORB_012700_012799/ESP_012742_1435/ESP_012742_1435_RGB.NOMAP.browse.jpg to I:\\data\\mars\\ESP_012742_1435_RGB.NOMAP.browse.jpg\n"
     ]
    },
    {
     "data": {
      "application/vnd.jupyter.widget-view+json": {
       "model_id": "878a4b39a6f648f8859fb6a8ec9b10b4",
       "version_major": 2,
       "version_minor": 0
      },
      "text/plain": [
       "  0%|          | 0/1851419 [00:00<?, ?it/s]"
      ]
     },
     "metadata": {},
     "output_type": "display_data"
    },
    {
     "name": "stdout",
     "output_type": "stream",
     "text": [
      "ESP_012743_1620/\n",
      "Downloading https://hirise-pds.lpl.arizona.edu/PDS/EXTRAS/RDR/ESP/ORB_012700_012799/ESP_012743_1620/ESP_012743_1620_RGB.NOMAP.browse.jpg to I:\\data\\mars\\ESP_012743_1620_RGB.NOMAP.browse.jpg\n"
     ]
    },
    {
     "data": {
      "application/vnd.jupyter.widget-view+json": {
       "model_id": "b896c02fa8c54e3786a51f762bfab173",
       "version_major": 2,
       "version_minor": 0
      },
      "text/plain": [
       "  0%|          | 0/1199818 [00:00<?, ?it/s]"
      ]
     },
     "metadata": {},
     "output_type": "display_data"
    },
    {
     "name": "stdout",
     "output_type": "stream",
     "text": [
      "ESP_012744_0985/\n",
      "Downloading https://hirise-pds.lpl.arizona.edu/PDS/EXTRAS/RDR/ESP/ORB_012700_012799/ESP_012744_0985/ESP_012744_0985_RGB.NOMAP.browse.jpg to I:\\data\\mars\\ESP_012744_0985_RGB.NOMAP.browse.jpg\n"
     ]
    },
    {
     "data": {
      "application/vnd.jupyter.widget-view+json": {
       "model_id": "2e3fc498943e40d3ab5c8fcc8ab4c33c",
       "version_major": 2,
       "version_minor": 0
      },
      "text/plain": [
       "  0%|          | 0/1073594 [00:00<?, ?it/s]"
      ]
     },
     "metadata": {},
     "output_type": "display_data"
    },
    {
     "name": "stdout",
     "output_type": "stream",
     "text": [
      "ESP_012744_1725/\n",
      "Downloading https://hirise-pds.lpl.arizona.edu/PDS/EXTRAS/RDR/ESP/ORB_012700_012799/ESP_012744_1725/ESP_012744_1725_RGB.NOMAP.browse.jpg to I:\\data\\mars\\ESP_012744_1725_RGB.NOMAP.browse.jpg\n"
     ]
    },
    {
     "data": {
      "application/vnd.jupyter.widget-view+json": {
       "model_id": "66abf5ea16574404991794af5debfa62",
       "version_major": 2,
       "version_minor": 0
      },
      "text/plain": [
       "  0%|          | 0/1027592 [00:00<?, ?it/s]"
      ]
     },
     "metadata": {},
     "output_type": "display_data"
    },
    {
     "name": "stdout",
     "output_type": "stream",
     "text": [
      "ESP_012745_1290/\n",
      "\tfailed to find filename\n",
      "ESP_012746_0930/\n",
      "Downloading https://hirise-pds.lpl.arizona.edu/PDS/EXTRAS/RDR/ESP/ORB_012700_012799/ESP_012746_0930/ESP_012746_0930_RGB.NOMAP.browse.jpg to I:\\data\\mars\\ESP_012746_0930_RGB.NOMAP.browse.jpg\n"
     ]
    },
    {
     "data": {
      "application/vnd.jupyter.widget-view+json": {
       "model_id": "090af904343f434d941cd0e5f7c3c510",
       "version_major": 2,
       "version_minor": 0
      },
      "text/plain": [
       "  0%|          | 0/1130896 [00:00<?, ?it/s]"
      ]
     },
     "metadata": {},
     "output_type": "display_data"
    },
    {
     "name": "stdout",
     "output_type": "stream",
     "text": [
      "ESP_012746_1810/\n",
      "Downloading https://hirise-pds.lpl.arizona.edu/PDS/EXTRAS/RDR/ESP/ORB_012700_012799/ESP_012746_1810/ESP_012746_1810_RGB.NOMAP.browse.jpg to I:\\data\\mars\\ESP_012746_1810_RGB.NOMAP.browse.jpg\n"
     ]
    },
    {
     "data": {
      "application/vnd.jupyter.widget-view+json": {
       "model_id": "eed0a0d6ced64b9b938e9a9c0ac69ff8",
       "version_major": 2,
       "version_minor": 0
      },
      "text/plain": [
       "  0%|          | 0/1215106 [00:00<?, ?it/s]"
      ]
     },
     "metadata": {},
     "output_type": "display_data"
    },
    {
     "name": "stdout",
     "output_type": "stream",
     "text": [
      "ESP_012747_1425/\n",
      "Downloading https://hirise-pds.lpl.arizona.edu/PDS/EXTRAS/RDR/ESP/ORB_012700_012799/ESP_012747_1425/ESP_012747_1425_RGB.NOMAP.browse.jpg to I:\\data\\mars\\ESP_012747_1425_RGB.NOMAP.browse.jpg\n"
     ]
    },
    {
     "data": {
      "application/vnd.jupyter.widget-view+json": {
       "model_id": "89c05c3e7ae04e73a1bdde9659dee222",
       "version_major": 2,
       "version_minor": 0
      },
      "text/plain": [
       "  0%|          | 0/2075971 [00:00<?, ?it/s]"
      ]
     },
     "metadata": {},
     "output_type": "display_data"
    },
    {
     "name": "stdout",
     "output_type": "stream",
     "text": [
      "ESP_012748_1435/\n",
      "Downloading https://hirise-pds.lpl.arizona.edu/PDS/EXTRAS/RDR/ESP/ORB_012700_012799/ESP_012748_1435/ESP_012748_1435_RGB.NOMAP.browse.jpg to I:\\data\\mars\\ESP_012748_1435_RGB.NOMAP.browse.jpg\n"
     ]
    },
    {
     "data": {
      "application/vnd.jupyter.widget-view+json": {
       "model_id": "9f8fb1a436194e759230abddfa231122",
       "version_major": 2,
       "version_minor": 0
      },
      "text/plain": [
       "  0%|          | 0/1248429 [00:00<?, ?it/s]"
      ]
     },
     "metadata": {},
     "output_type": "display_data"
    },
    {
     "name": "stdout",
     "output_type": "stream",
     "text": [
      "ESP_012748_2125/\n",
      "\tfailed to find filename\n",
      "ESP_012749_1440/\n",
      "Downloading https://hirise-pds.lpl.arizona.edu/PDS/EXTRAS/RDR/ESP/ORB_012700_012799/ESP_012749_1440/ESP_012749_1440_RGB.NOMAP.browse.jpg to I:\\data\\mars\\ESP_012749_1440_RGB.NOMAP.browse.jpg\n"
     ]
    },
    {
     "data": {
      "application/vnd.jupyter.widget-view+json": {
       "model_id": "665c19d2f8f043c291872e6596cea2a5",
       "version_major": 2,
       "version_minor": 0
      },
      "text/plain": [
       "  0%|          | 0/1341107 [00:00<?, ?it/s]"
      ]
     },
     "metadata": {},
     "output_type": "display_data"
    },
    {
     "name": "stdout",
     "output_type": "stream",
     "text": [
      "ESP_012750_1565/\n",
      "Downloading https://hirise-pds.lpl.arizona.edu/PDS/EXTRAS/RDR/ESP/ORB_012700_012799/ESP_012750_1565/ESP_012750_1565_RGB.NOMAP.browse.jpg to I:\\data\\mars\\ESP_012750_1565_RGB.NOMAP.browse.jpg\n"
     ]
    },
    {
     "data": {
      "application/vnd.jupyter.widget-view+json": {
       "model_id": "72f44045021f4f0ca6667308db868fae",
       "version_major": 2,
       "version_minor": 0
      },
      "text/plain": [
       "  0%|          | 0/605603 [00:00<?, ?it/s]"
      ]
     },
     "metadata": {},
     "output_type": "display_data"
    },
    {
     "name": "stdout",
     "output_type": "stream",
     "text": [
      "ESP_012751_0980/\n",
      "Downloading https://hirise-pds.lpl.arizona.edu/PDS/EXTRAS/RDR/ESP/ORB_012700_012799/ESP_012751_0980/ESP_012751_0980_RGB.NOMAP.browse.jpg to I:\\data\\mars\\ESP_012751_0980_RGB.NOMAP.browse.jpg\n"
     ]
    },
    {
     "data": {
      "application/vnd.jupyter.widget-view+json": {
       "model_id": "55311527e1624eba96d72be15ac37e69",
       "version_major": 2,
       "version_minor": 0
      },
      "text/plain": [
       "  0%|          | 0/1607336 [00:00<?, ?it/s]"
      ]
     },
     "metadata": {},
     "output_type": "display_data"
    },
    {
     "name": "stdout",
     "output_type": "stream",
     "text": [
      "ESP_012751_1490/\n",
      "Downloading https://hirise-pds.lpl.arizona.edu/PDS/EXTRAS/RDR/ESP/ORB_012700_012799/ESP_012751_1490/ESP_012751_1490_RGB.NOMAP.browse.jpg to I:\\data\\mars\\ESP_012751_1490_RGB.NOMAP.browse.jpg\n"
     ]
    },
    {
     "data": {
      "application/vnd.jupyter.widget-view+json": {
       "model_id": "1d1a41f8f34e412db730145b0f1893b2",
       "version_major": 2,
       "version_minor": 0
      },
      "text/plain": [
       "  0%|          | 0/1639783 [00:00<?, ?it/s]"
      ]
     },
     "metadata": {},
     "output_type": "display_data"
    },
    {
     "name": "stdout",
     "output_type": "stream",
     "text": [
      "ESP_012751_2135/\n",
      "Downloading https://hirise-pds.lpl.arizona.edu/PDS/EXTRAS/RDR/ESP/ORB_012700_012799/ESP_012751_2135/ESP_012751_2135_RGB.NOMAP.browse.jpg to I:\\data\\mars\\ESP_012751_2135_RGB.NOMAP.browse.jpg\n"
     ]
    },
    {
     "data": {
      "application/vnd.jupyter.widget-view+json": {
       "model_id": "c74b0e3d6c924415a6c56330eb11aa56",
       "version_major": 2,
       "version_minor": 0
      },
      "text/plain": [
       "  0%|          | 0/1481306 [00:00<?, ?it/s]"
      ]
     },
     "metadata": {},
     "output_type": "display_data"
    },
    {
     "name": "stdout",
     "output_type": "stream",
     "text": [
      "ESP_012752_1010/\n",
      "Downloading https://hirise-pds.lpl.arizona.edu/PDS/EXTRAS/RDR/ESP/ORB_012700_012799/ESP_012752_1010/ESP_012752_1010_RGB.NOMAP.browse.jpg to I:\\data\\mars\\ESP_012752_1010_RGB.NOMAP.browse.jpg\n"
     ]
    },
    {
     "data": {
      "application/vnd.jupyter.widget-view+json": {
       "model_id": "fc50fc9fb37245ad87cf1374ed3a0ff2",
       "version_major": 2,
       "version_minor": 0
      },
      "text/plain": [
       "  0%|          | 0/1665898 [00:00<?, ?it/s]"
      ]
     },
     "metadata": {},
     "output_type": "display_data"
    },
    {
     "name": "stdout",
     "output_type": "stream",
     "text": [
      "ESP_012752_1600/\n",
      "Downloading https://hirise-pds.lpl.arizona.edu/PDS/EXTRAS/RDR/ESP/ORB_012700_012799/ESP_012752_1600/ESP_012752_1600_RGB.NOMAP.browse.jpg to I:\\data\\mars\\ESP_012752_1600_RGB.NOMAP.browse.jpg\n"
     ]
    },
    {
     "data": {
      "application/vnd.jupyter.widget-view+json": {
       "model_id": "b3ff47e0f3b84e6ba2fd32e1f941e12e",
       "version_major": 2,
       "version_minor": 0
      },
      "text/plain": [
       "  0%|          | 0/1284580 [00:00<?, ?it/s]"
      ]
     },
     "metadata": {},
     "output_type": "display_data"
    },
    {
     "name": "stdout",
     "output_type": "stream",
     "text": [
      "ESP_012753_0950/\n",
      "Downloading https://hirise-pds.lpl.arizona.edu/PDS/EXTRAS/RDR/ESP/ORB_012700_012799/ESP_012753_0950/ESP_012753_0950_RGB.NOMAP.browse.jpg to I:\\data\\mars\\ESP_012753_0950_RGB.NOMAP.browse.jpg\n"
     ]
    },
    {
     "data": {
      "application/vnd.jupyter.widget-view+json": {
       "model_id": "2788038972714e9ea0a4e93bde692911",
       "version_major": 2,
       "version_minor": 0
      },
      "text/plain": [
       "  0%|          | 0/1885640 [00:00<?, ?it/s]"
      ]
     },
     "metadata": {},
     "output_type": "display_data"
    },
    {
     "name": "stdout",
     "output_type": "stream",
     "text": [
      "ESP_012753_1615/\n",
      "Downloading https://hirise-pds.lpl.arizona.edu/PDS/EXTRAS/RDR/ESP/ORB_012700_012799/ESP_012753_1615/ESP_012753_1615_RGB.NOMAP.browse.jpg to I:\\data\\mars\\ESP_012753_1615_RGB.NOMAP.browse.jpg\n"
     ]
    },
    {
     "data": {
      "application/vnd.jupyter.widget-view+json": {
       "model_id": "098dad3b79eb438b82c72a6769cf55e7",
       "version_major": 2,
       "version_minor": 0
      },
      "text/plain": [
       "  0%|          | 0/361913 [00:00<?, ?it/s]"
      ]
     },
     "metadata": {},
     "output_type": "display_data"
    },
    {
     "name": "stdout",
     "output_type": "stream",
     "text": [
      "ESP_012753_2160/\n",
      "Downloading https://hirise-pds.lpl.arizona.edu/PDS/EXTRAS/RDR/ESP/ORB_012700_012799/ESP_012753_2160/ESP_012753_2160_RGB.NOMAP.browse.jpg to I:\\data\\mars\\ESP_012753_2160_RGB.NOMAP.browse.jpg\n"
     ]
    },
    {
     "data": {
      "application/vnd.jupyter.widget-view+json": {
       "model_id": "49cebca0f37949bb9cfc77e49d4ad34b",
       "version_major": 2,
       "version_minor": 0
      },
      "text/plain": [
       "  0%|          | 0/3100214 [00:00<?, ?it/s]"
      ]
     },
     "metadata": {},
     "output_type": "display_data"
    },
    {
     "name": "stdout",
     "output_type": "stream",
     "text": [
      "ESP_012754_1780/\n",
      "Downloading https://hirise-pds.lpl.arizona.edu/PDS/EXTRAS/RDR/ESP/ORB_012700_012799/ESP_012754_1780/ESP_012754_1780_RGB.NOMAP.browse.jpg to I:\\data\\mars\\ESP_012754_1780_RGB.NOMAP.browse.jpg\n"
     ]
    },
    {
     "data": {
      "application/vnd.jupyter.widget-view+json": {
       "model_id": "03e02c837de246a29f1bcbe0891abd1c",
       "version_major": 2,
       "version_minor": 0
      },
      "text/plain": [
       "  0%|          | 0/577332 [00:00<?, ?it/s]"
      ]
     },
     "metadata": {},
     "output_type": "display_data"
    },
    {
     "name": "stdout",
     "output_type": "stream",
     "text": [
      "ESP_012757_1745/\n",
      "Downloading https://hirise-pds.lpl.arizona.edu/PDS/EXTRAS/RDR/ESP/ORB_012700_012799/ESP_012757_1745/ESP_012757_1745_RGB.NOMAP.browse.jpg to I:\\data\\mars\\ESP_012757_1745_RGB.NOMAP.browse.jpg\n"
     ]
    },
    {
     "data": {
      "application/vnd.jupyter.widget-view+json": {
       "model_id": "515726afa6604758be0e8a74a438bb88",
       "version_major": 2,
       "version_minor": 0
      },
      "text/plain": [
       "  0%|          | 0/901003 [00:00<?, ?it/s]"
      ]
     },
     "metadata": {},
     "output_type": "display_data"
    },
    {
     "name": "stdout",
     "output_type": "stream",
     "text": [
      "ESP_012759_1360/\n",
      "Downloading https://hirise-pds.lpl.arizona.edu/PDS/EXTRAS/RDR/ESP/ORB_012700_012799/ESP_012759_1360/ESP_012759_1360_RGB.NOMAP.browse.jpg to I:\\data\\mars\\ESP_012759_1360_RGB.NOMAP.browse.jpg\n"
     ]
    },
    {
     "data": {
      "application/vnd.jupyter.widget-view+json": {
       "model_id": "2ba7b4d9653e4d4aacdebcafbb024c10",
       "version_major": 2,
       "version_minor": 0
      },
      "text/plain": [
       "  0%|          | 0/1145189 [00:00<?, ?it/s]"
      ]
     },
     "metadata": {},
     "output_type": "display_data"
    },
    {
     "name": "stdout",
     "output_type": "stream",
     "text": [
      "ESP_012760_0930/\n",
      "\tfailed to find filename\n",
      "ESP_012760_1510/\n",
      "Downloading https://hirise-pds.lpl.arizona.edu/PDS/EXTRAS/RDR/ESP/ORB_012700_012799/ESP_012760_1510/ESP_012760_1510_RGB.NOMAP.browse.jpg to I:\\data\\mars\\ESP_012760_1510_RGB.NOMAP.browse.jpg\n"
     ]
    },
    {
     "data": {
      "application/vnd.jupyter.widget-view+json": {
       "model_id": "e3848b5011434303860d91a57ad4aa93",
       "version_major": 2,
       "version_minor": 0
      },
      "text/plain": [
       "  0%|          | 0/617447 [00:00<?, ?it/s]"
      ]
     },
     "metadata": {},
     "output_type": "display_data"
    },
    {
     "name": "stdout",
     "output_type": "stream",
     "text": [
      "ESP_012761_1430/\n",
      "Downloading https://hirise-pds.lpl.arizona.edu/PDS/EXTRAS/RDR/ESP/ORB_012700_012799/ESP_012761_1430/ESP_012761_1430_RGB.NOMAP.browse.jpg to I:\\data\\mars\\ESP_012761_1430_RGB.NOMAP.browse.jpg\n"
     ]
    },
    {
     "data": {
      "application/vnd.jupyter.widget-view+json": {
       "model_id": "178f8b9687644bf39d125e6bd1901913",
       "version_major": 2,
       "version_minor": 0
      },
      "text/plain": [
       "  0%|          | 0/1736636 [00:00<?, ?it/s]"
      ]
     },
     "metadata": {},
     "output_type": "display_data"
    },
    {
     "name": "stdout",
     "output_type": "stream",
     "text": [
      "ESP_012762_1070/\n",
      "Downloading https://hirise-pds.lpl.arizona.edu/PDS/EXTRAS/RDR/ESP/ORB_012700_012799/ESP_012762_1070/ESP_012762_1070_RGB.NOMAP.browse.jpg to I:\\data\\mars\\ESP_012762_1070_RGB.NOMAP.browse.jpg\n"
     ]
    },
    {
     "data": {
      "application/vnd.jupyter.widget-view+json": {
       "model_id": "a7d8086c54464e668433413c34b8faf1",
       "version_major": 2,
       "version_minor": 0
      },
      "text/plain": [
       "  0%|          | 0/747352 [00:00<?, ?it/s]"
      ]
     },
     "metadata": {},
     "output_type": "display_data"
    },
    {
     "name": "stdout",
     "output_type": "stream",
     "text": [
      "ESP_012764_1700/\n",
      "Downloading https://hirise-pds.lpl.arizona.edu/PDS/EXTRAS/RDR/ESP/ORB_012700_012799/ESP_012764_1700/ESP_012764_1700_RGB.NOMAP.browse.jpg to I:\\data\\mars\\ESP_012764_1700_RGB.NOMAP.browse.jpg\n"
     ]
    },
    {
     "data": {
      "application/vnd.jupyter.widget-view+json": {
       "model_id": "651e85fd50384adf9cefd9318cdfcd88",
       "version_major": 2,
       "version_minor": 0
      },
      "text/plain": [
       "  0%|          | 0/407774 [00:00<?, ?it/s]"
      ]
     },
     "metadata": {},
     "output_type": "display_data"
    },
    {
     "name": "stdout",
     "output_type": "stream",
     "text": [
      "ESP_012764_2010/\n",
      "Downloading https://hirise-pds.lpl.arizona.edu/PDS/EXTRAS/RDR/ESP/ORB_012700_012799/ESP_012764_2010/ESP_012764_2010_RGB.NOMAP.browse.jpg to I:\\data\\mars\\ESP_012764_2010_RGB.NOMAP.browse.jpg\n"
     ]
    },
    {
     "data": {
      "application/vnd.jupyter.widget-view+json": {
       "model_id": "d092c759421844c098fd88218d029412",
       "version_major": 2,
       "version_minor": 0
      },
      "text/plain": [
       "  0%|          | 0/1388116 [00:00<?, ?it/s]"
      ]
     },
     "metadata": {},
     "output_type": "display_data"
    },
    {
     "name": "stdout",
     "output_type": "stream",
     "text": [
      "ESP_012765_1535/\n",
      "Downloading https://hirise-pds.lpl.arizona.edu/PDS/EXTRAS/RDR/ESP/ORB_012700_012799/ESP_012765_1535/ESP_012765_1535_RGB.NOMAP.browse.jpg to I:\\data\\mars\\ESP_012765_1535_RGB.NOMAP.browse.jpg\n"
     ]
    },
    {
     "data": {
      "application/vnd.jupyter.widget-view+json": {
       "model_id": "b417e503676f4727a3ba73dd9d4db149",
       "version_major": 2,
       "version_minor": 0
      },
      "text/plain": [
       "  0%|          | 0/1298798 [00:00<?, ?it/s]"
      ]
     },
     "metadata": {},
     "output_type": "display_data"
    },
    {
     "name": "stdout",
     "output_type": "stream",
     "text": [
      "ESP_012766_1690/\n",
      "Downloading https://hirise-pds.lpl.arizona.edu/PDS/EXTRAS/RDR/ESP/ORB_012700_012799/ESP_012766_1690/ESP_012766_1690_RGB.NOMAP.browse.jpg to I:\\data\\mars\\ESP_012766_1690_RGB.NOMAP.browse.jpg\n"
     ]
    },
    {
     "data": {
      "application/vnd.jupyter.widget-view+json": {
       "model_id": "d0af7be007f84fbdb63e006299e16fb7",
       "version_major": 2,
       "version_minor": 0
      },
      "text/plain": [
       "  0%|          | 0/1094014 [00:00<?, ?it/s]"
      ]
     },
     "metadata": {},
     "output_type": "display_data"
    },
    {
     "name": "stdout",
     "output_type": "stream",
     "text": [
      "ESP_012767_1320/\n",
      "Downloading https://hirise-pds.lpl.arizona.edu/PDS/EXTRAS/RDR/ESP/ORB_012700_012799/ESP_012767_1320/ESP_012767_1320_RGB.NOMAP.browse.jpg to I:\\data\\mars\\ESP_012767_1320_RGB.NOMAP.browse.jpg\n"
     ]
    },
    {
     "data": {
      "application/vnd.jupyter.widget-view+json": {
       "model_id": "8bec7043572044b1a4948686050d3109",
       "version_major": 2,
       "version_minor": 0
      },
      "text/plain": [
       "  0%|          | 0/1342748 [00:00<?, ?it/s]"
      ]
     },
     "metadata": {},
     "output_type": "display_data"
    },
    {
     "name": "stdout",
     "output_type": "stream",
     "text": [
      "ESP_012768_1825/\n",
      "Downloading https://hirise-pds.lpl.arizona.edu/PDS/EXTRAS/RDR/ESP/ORB_012700_012799/ESP_012768_1825/ESP_012768_1825_RGB.NOMAP.browse.jpg to I:\\data\\mars\\ESP_012768_1825_RGB.NOMAP.browse.jpg\n"
     ]
    },
    {
     "data": {
      "application/vnd.jupyter.widget-view+json": {
       "model_id": "c774533914cc4f07adddb14d551a9411",
       "version_major": 2,
       "version_minor": 0
      },
      "text/plain": [
       "  0%|          | 0/1330870 [00:00<?, ?it/s]"
      ]
     },
     "metadata": {},
     "output_type": "display_data"
    },
    {
     "name": "stdout",
     "output_type": "stream",
     "text": [
      "ESP_012769_0935/\n",
      "Downloading https://hirise-pds.lpl.arizona.edu/PDS/EXTRAS/RDR/ESP/ORB_012700_012799/ESP_012769_0935/ESP_012769_0935_RGB.NOMAP.browse.jpg to I:\\data\\mars\\ESP_012769_0935_RGB.NOMAP.browse.jpg\n"
     ]
    },
    {
     "data": {
      "application/vnd.jupyter.widget-view+json": {
       "model_id": "231144c5117f49e3ace5e97dd092b49e",
       "version_major": 2,
       "version_minor": 0
      },
      "text/plain": [
       "  0%|          | 0/616736 [00:00<?, ?it/s]"
      ]
     },
     "metadata": {},
     "output_type": "display_data"
    },
    {
     "name": "stdout",
     "output_type": "stream",
     "text": [
      "ESP_012769_1645/\n",
      "Downloading https://hirise-pds.lpl.arizona.edu/PDS/EXTRAS/RDR/ESP/ORB_012700_012799/ESP_012769_1645/ESP_012769_1645_RGB.NOMAP.browse.jpg to I:\\data\\mars\\ESP_012769_1645_RGB.NOMAP.browse.jpg\n"
     ]
    },
    {
     "data": {
      "application/vnd.jupyter.widget-view+json": {
       "model_id": "96c85d7fc1dd4e2ead6d00bcb69778c0",
       "version_major": 2,
       "version_minor": 0
      },
      "text/plain": [
       "  0%|          | 0/1086892 [00:00<?, ?it/s]"
      ]
     },
     "metadata": {},
     "output_type": "display_data"
    },
    {
     "name": "stdout",
     "output_type": "stream",
     "text": [
      "ESP_012770_0965/\n",
      "Downloading https://hirise-pds.lpl.arizona.edu/PDS/EXTRAS/RDR/ESP/ORB_012700_012799/ESP_012770_0965/ESP_012770_0965_RGB.NOMAP.browse.jpg to I:\\data\\mars\\ESP_012770_0965_RGB.NOMAP.browse.jpg\n"
     ]
    },
    {
     "data": {
      "application/vnd.jupyter.widget-view+json": {
       "model_id": "9becfcb36c034ff5a170c8c6a83c766e",
       "version_major": 2,
       "version_minor": 0
      },
      "text/plain": [
       "  0%|          | 0/635938 [00:00<?, ?it/s]"
      ]
     },
     "metadata": {},
     "output_type": "display_data"
    },
    {
     "name": "stdout",
     "output_type": "stream",
     "text": [
      "ESP_012771_0810/\n",
      "Downloading https://hirise-pds.lpl.arizona.edu/PDS/EXTRAS/RDR/ESP/ORB_012700_012799/ESP_012771_0810/ESP_012771_0810_RGB.NOMAP.browse.jpg to I:\\data\\mars\\ESP_012771_0810_RGB.NOMAP.browse.jpg\n"
     ]
    },
    {
     "data": {
      "application/vnd.jupyter.widget-view+json": {
       "model_id": "e6096f6b5d36411c833022216e58120e",
       "version_major": 2,
       "version_minor": 0
      },
      "text/plain": [
       "  0%|          | 0/1417884 [00:00<?, ?it/s]"
      ]
     },
     "metadata": {},
     "output_type": "display_data"
    },
    {
     "name": "stdout",
     "output_type": "stream",
     "text": [
      "ESP_012771_1520/\n",
      "Downloading https://hirise-pds.lpl.arizona.edu/PDS/EXTRAS/RDR/ESP/ORB_012700_012799/ESP_012771_1520/ESP_012771_1520_RGB.NOMAP.browse.jpg to I:\\data\\mars\\ESP_012771_1520_RGB.NOMAP.browse.jpg\n"
     ]
    },
    {
     "data": {
      "application/vnd.jupyter.widget-view+json": {
       "model_id": "9a5288eff8e54912ae60d78359fd6bed",
       "version_major": 2,
       "version_minor": 0
      },
      "text/plain": [
       "  0%|          | 0/367266 [00:00<?, ?it/s]"
      ]
     },
     "metadata": {},
     "output_type": "display_data"
    },
    {
     "name": "stdout",
     "output_type": "stream",
     "text": [
      "ESP_012772_1975/\n",
      "Downloading https://hirise-pds.lpl.arizona.edu/PDS/EXTRAS/RDR/ESP/ORB_012700_012799/ESP_012772_1975/ESP_012772_1975_RGB.NOMAP.browse.jpg to I:\\data\\mars\\ESP_012772_1975_RGB.NOMAP.browse.jpg\n"
     ]
    },
    {
     "data": {
      "application/vnd.jupyter.widget-view+json": {
       "model_id": "70852c941a294fd8a7025370bf1d8e9f",
       "version_major": 2,
       "version_minor": 0
      },
      "text/plain": [
       "  0%|          | 0/731547 [00:00<?, ?it/s]"
      ]
     },
     "metadata": {},
     "output_type": "display_data"
    },
    {
     "name": "stdout",
     "output_type": "stream",
     "text": [
      "ESP_012773_1535/\n",
      "Downloading https://hirise-pds.lpl.arizona.edu/PDS/EXTRAS/RDR/ESP/ORB_012700_012799/ESP_012773_1535/ESP_012773_1535_RGB.NOMAP.browse.jpg to I:\\data\\mars\\ESP_012773_1535_RGB.NOMAP.browse.jpg\n"
     ]
    },
    {
     "data": {
      "application/vnd.jupyter.widget-view+json": {
       "model_id": "2333edad945045cfa260228e8cba2bf4",
       "version_major": 2,
       "version_minor": 0
      },
      "text/plain": [
       "  0%|          | 0/1352043 [00:00<?, ?it/s]"
      ]
     },
     "metadata": {},
     "output_type": "display_data"
    },
    {
     "name": "stdout",
     "output_type": "stream",
     "text": [
      "ESP_012774_1080/\n",
      "Downloading https://hirise-pds.lpl.arizona.edu/PDS/EXTRAS/RDR/ESP/ORB_012700_012799/ESP_012774_1080/ESP_012774_1080_RGB.NOMAP.browse.jpg to I:\\data\\mars\\ESP_012774_1080_RGB.NOMAP.browse.jpg\n"
     ]
    },
    {
     "data": {
      "application/vnd.jupyter.widget-view+json": {
       "model_id": "d9421ddcac924cafb5557511c566417d",
       "version_major": 2,
       "version_minor": 0
      },
      "text/plain": [
       "  0%|          | 0/1192624 [00:00<?, ?it/s]"
      ]
     },
     "metadata": {},
     "output_type": "display_data"
    },
    {
     "name": "stdout",
     "output_type": "stream",
     "text": [
      "ESP_012774_2240/\n",
      "Downloading https://hirise-pds.lpl.arizona.edu/PDS/EXTRAS/RDR/ESP/ORB_012700_012799/ESP_012774_2240/ESP_012774_2240_RGB.NOMAP.browse.jpg to I:\\data\\mars\\ESP_012774_2240_RGB.NOMAP.browse.jpg\n"
     ]
    },
    {
     "data": {
      "application/vnd.jupyter.widget-view+json": {
       "model_id": "18a5f8c858af4589adc4185caca0d166",
       "version_major": 2,
       "version_minor": 0
      },
      "text/plain": [
       "  0%|          | 0/1117833 [00:00<?, ?it/s]"
      ]
     },
     "metadata": {},
     "output_type": "display_data"
    },
    {
     "name": "stdout",
     "output_type": "stream",
     "text": [
      "ESP_012775_1100/\n",
      "Downloading https://hirise-pds.lpl.arizona.edu/PDS/EXTRAS/RDR/ESP/ORB_012700_012799/ESP_012775_1100/ESP_012775_1100_RGB.NOMAP.browse.jpg to I:\\data\\mars\\ESP_012775_1100_RGB.NOMAP.browse.jpg\n"
     ]
    },
    {
     "data": {
      "application/vnd.jupyter.widget-view+json": {
       "model_id": "ea1e8832956d40e6b9d3eaf031ae798d",
       "version_major": 2,
       "version_minor": 0
      },
      "text/plain": [
       "  0%|          | 0/1067132 [00:00<?, ?it/s]"
      ]
     },
     "metadata": {},
     "output_type": "display_data"
    },
    {
     "name": "stdout",
     "output_type": "stream",
     "text": [
      "ESP_012776_1090/\n",
      "Downloading https://hirise-pds.lpl.arizona.edu/PDS/EXTRAS/RDR/ESP/ORB_012700_012799/ESP_012776_1090/ESP_012776_1090_RGB.NOMAP.browse.jpg to I:\\data\\mars\\ESP_012776_1090_RGB.NOMAP.browse.jpg\n"
     ]
    },
    {
     "data": {
      "application/vnd.jupyter.widget-view+json": {
       "model_id": "0b8f672382474c0eb956d89323179e50",
       "version_major": 2,
       "version_minor": 0
      },
      "text/plain": [
       "  0%|          | 0/1991209 [00:00<?, ?it/s]"
      ]
     },
     "metadata": {},
     "output_type": "display_data"
    },
    {
     "name": "stdout",
     "output_type": "stream",
     "text": [
      "ESP_012776_1565/\n",
      "Downloading https://hirise-pds.lpl.arizona.edu/PDS/EXTRAS/RDR/ESP/ORB_012700_012799/ESP_012776_1565/ESP_012776_1565_RGB.NOMAP.browse.jpg to I:\\data\\mars\\ESP_012776_1565_RGB.NOMAP.browse.jpg\n"
     ]
    },
    {
     "data": {
      "application/vnd.jupyter.widget-view+json": {
       "model_id": "4ae51f976e5040ff9af22ff4cd70bbee",
       "version_major": 2,
       "version_minor": 0
      },
      "text/plain": [
       "  0%|          | 0/1572978 [00:00<?, ?it/s]"
      ]
     },
     "metadata": {},
     "output_type": "display_data"
    },
    {
     "name": "stdout",
     "output_type": "stream",
     "text": [
      "ESP_012778_1895/\n",
      "Downloading https://hirise-pds.lpl.arizona.edu/PDS/EXTRAS/RDR/ESP/ORB_012700_012799/ESP_012778_1895/ESP_012778_1895_RGB.NOMAP.browse.jpg to I:\\data\\mars\\ESP_012778_1895_RGB.NOMAP.browse.jpg\n"
     ]
    },
    {
     "data": {
      "application/vnd.jupyter.widget-view+json": {
       "model_id": "e30724275d5247b59d7a807b5f112d9f",
       "version_major": 2,
       "version_minor": 0
      },
      "text/plain": [
       "  0%|          | 0/510305 [00:00<?, ?it/s]"
      ]
     },
     "metadata": {},
     "output_type": "display_data"
    },
    {
     "name": "stdout",
     "output_type": "stream",
     "text": [
      "ESP_012779_0930/\n",
      "Downloading https://hirise-pds.lpl.arizona.edu/PDS/EXTRAS/RDR/ESP/ORB_012700_012799/ESP_012779_0930/ESP_012779_0930_RGB.NOMAP.browse.jpg to I:\\data\\mars\\ESP_012779_0930_RGB.NOMAP.browse.jpg\n"
     ]
    },
    {
     "data": {
      "application/vnd.jupyter.widget-view+json": {
       "model_id": "667e6a4066f4402a9b544c917dbc11ff",
       "version_major": 2,
       "version_minor": 0
      },
      "text/plain": [
       "  0%|          | 0/2556415 [00:00<?, ?it/s]"
      ]
     },
     "metadata": {},
     "output_type": "display_data"
    },
    {
     "name": "stdout",
     "output_type": "stream",
     "text": [
      "ESP_012779_1580/\n",
      "Downloading https://hirise-pds.lpl.arizona.edu/PDS/EXTRAS/RDR/ESP/ORB_012700_012799/ESP_012779_1580/ESP_012779_1580_RGB.NOMAP.browse.jpg to I:\\data\\mars\\ESP_012779_1580_RGB.NOMAP.browse.jpg\n"
     ]
    },
    {
     "data": {
      "application/vnd.jupyter.widget-view+json": {
       "model_id": "2d3cfbc7c9d54a64ae66f0529c652ea7",
       "version_major": 2,
       "version_minor": 0
      },
      "text/plain": [
       "  0%|          | 0/1273832 [00:00<?, ?it/s]"
      ]
     },
     "metadata": {},
     "output_type": "display_data"
    },
    {
     "name": "stdout",
     "output_type": "stream",
     "text": [
      "ESP_012780_1220/\n",
      "Downloading https://hirise-pds.lpl.arizona.edu/PDS/EXTRAS/RDR/ESP/ORB_012700_012799/ESP_012780_1220/ESP_012780_1220_RGB.NOMAP.browse.jpg to I:\\data\\mars\\ESP_012780_1220_RGB.NOMAP.browse.jpg\n"
     ]
    },
    {
     "data": {
      "application/vnd.jupyter.widget-view+json": {
       "model_id": "7037ec8ffb974eca9eb1e2365fc6fafc",
       "version_major": 2,
       "version_minor": 0
      },
      "text/plain": [
       "  0%|          | 0/563162 [00:00<?, ?it/s]"
      ]
     },
     "metadata": {},
     "output_type": "display_data"
    },
    {
     "name": "stdout",
     "output_type": "stream",
     "text": [
      "ESP_012781_1365/\n",
      "Downloading https://hirise-pds.lpl.arizona.edu/PDS/EXTRAS/RDR/ESP/ORB_012700_012799/ESP_012781_1365/ESP_012781_1365_RGB.NOMAP.browse.jpg to I:\\data\\mars\\ESP_012781_1365_RGB.NOMAP.browse.jpg\n"
     ]
    },
    {
     "data": {
      "application/vnd.jupyter.widget-view+json": {
       "model_id": "ae3a6561ca6a41d4892602d8f6ac35eb",
       "version_major": 2,
       "version_minor": 0
      },
      "text/plain": [
       "  0%|          | 0/1190534 [00:00<?, ?it/s]"
      ]
     },
     "metadata": {},
     "output_type": "display_data"
    },
    {
     "name": "stdout",
     "output_type": "stream",
     "text": [
      "ESP_012781_2060/\n",
      "Downloading https://hirise-pds.lpl.arizona.edu/PDS/EXTRAS/RDR/ESP/ORB_012700_012799/ESP_012781_2060/ESP_012781_2060_RGB.NOMAP.browse.jpg to I:\\data\\mars\\ESP_012781_2060_RGB.NOMAP.browse.jpg\n"
     ]
    },
    {
     "data": {
      "application/vnd.jupyter.widget-view+json": {
       "model_id": "2b6149317e6d4aabbb88b89e0b9ec2ee",
       "version_major": 2,
       "version_minor": 0
      },
      "text/plain": [
       "  0%|          | 0/1836739 [00:00<?, ?it/s]"
      ]
     },
     "metadata": {},
     "output_type": "display_data"
    },
    {
     "name": "stdout",
     "output_type": "stream",
     "text": [
      "ESP_012782_1235/\n",
      "Downloading https://hirise-pds.lpl.arizona.edu/PDS/EXTRAS/RDR/ESP/ORB_012700_012799/ESP_012782_1235/ESP_012782_1235_RGB.NOMAP.browse.jpg to I:\\data\\mars\\ESP_012782_1235_RGB.NOMAP.browse.jpg\n"
     ]
    },
    {
     "data": {
      "application/vnd.jupyter.widget-view+json": {
       "model_id": "d3b92bc6fbf8480781757470622c11a9",
       "version_major": 2,
       "version_minor": 0
      },
      "text/plain": [
       "  0%|          | 0/1867694 [00:00<?, ?it/s]"
      ]
     },
     "metadata": {},
     "output_type": "display_data"
    },
    {
     "name": "stdout",
     "output_type": "stream",
     "text": [
      "ESP_012782_1855/\n",
      "Downloading https://hirise-pds.lpl.arizona.edu/PDS/EXTRAS/RDR/ESP/ORB_012700_012799/ESP_012782_1855/ESP_012782_1855_RGB.NOMAP.browse.jpg to I:\\data\\mars\\ESP_012782_1855_RGB.NOMAP.browse.jpg\n"
     ]
    },
    {
     "data": {
      "application/vnd.jupyter.widget-view+json": {
       "model_id": "2bf4554a7fd146caa9685ad24632df42",
       "version_major": 2,
       "version_minor": 0
      },
      "text/plain": [
       "  0%|          | 0/1505782 [00:00<?, ?it/s]"
      ]
     },
     "metadata": {},
     "output_type": "display_data"
    },
    {
     "name": "stdout",
     "output_type": "stream",
     "text": [
      "ESP_012783_1705/\n",
      "Downloading https://hirise-pds.lpl.arizona.edu/PDS/EXTRAS/RDR/ESP/ORB_012700_012799/ESP_012783_1705/ESP_012783_1705_RGB.NOMAP.browse.jpg to I:\\data\\mars\\ESP_012783_1705_RGB.NOMAP.browse.jpg\n"
     ]
    },
    {
     "data": {
      "application/vnd.jupyter.widget-view+json": {
       "model_id": "0dd78375df474263ba6676ec7a468791",
       "version_major": 2,
       "version_minor": 0
      },
      "text/plain": [
       "  0%|          | 0/1117901 [00:00<?, ?it/s]"
      ]
     },
     "metadata": {},
     "output_type": "display_data"
    },
    {
     "name": "stdout",
     "output_type": "stream",
     "text": [
      "ESP_012784_0935/\n",
      "Downloading https://hirise-pds.lpl.arizona.edu/PDS/EXTRAS/RDR/ESP/ORB_012700_012799/ESP_012784_0935/ESP_012784_0935_RGB.NOMAP.browse.jpg to I:\\data\\mars\\ESP_012784_0935_RGB.NOMAP.browse.jpg\n"
     ]
    },
    {
     "data": {
      "application/vnd.jupyter.widget-view+json": {
       "model_id": "6eb92c908a294d14a96befe6017542c5",
       "version_major": 2,
       "version_minor": 0
      },
      "text/plain": [
       "  0%|          | 0/678592 [00:00<?, ?it/s]"
      ]
     },
     "metadata": {},
     "output_type": "display_data"
    },
    {
     "name": "stdout",
     "output_type": "stream",
     "text": [
      "ESP_012785_1400/\n",
      "Downloading https://hirise-pds.lpl.arizona.edu/PDS/EXTRAS/RDR/ESP/ORB_012700_012799/ESP_012785_1400/ESP_012785_1400_RGB.NOMAP.browse.jpg to I:\\data\\mars\\ESP_012785_1400_RGB.NOMAP.browse.jpg\n"
     ]
    },
    {
     "data": {
      "application/vnd.jupyter.widget-view+json": {
       "model_id": "25782734063e405d8b607c78aa57eb44",
       "version_major": 2,
       "version_minor": 0
      },
      "text/plain": [
       "  0%|          | 0/1743707 [00:00<?, ?it/s]"
      ]
     },
     "metadata": {},
     "output_type": "display_data"
    },
    {
     "name": "stdout",
     "output_type": "stream",
     "text": [
      "ESP_012786_1620/\n",
      "Downloading https://hirise-pds.lpl.arizona.edu/PDS/EXTRAS/RDR/ESP/ORB_012700_012799/ESP_012786_1620/ESP_012786_1620_RGB.NOMAP.browse.jpg to I:\\data\\mars\\ESP_012786_1620_RGB.NOMAP.browse.jpg\n"
     ]
    },
    {
     "data": {
      "application/vnd.jupyter.widget-view+json": {
       "model_id": "c4fa507b7542469bbb4951ef3885cc05",
       "version_major": 2,
       "version_minor": 0
      },
      "text/plain": [
       "  0%|          | 0/1671600 [00:00<?, ?it/s]"
      ]
     },
     "metadata": {},
     "output_type": "display_data"
    },
    {
     "name": "stdout",
     "output_type": "stream",
     "text": [
      "ESP_012787_1650/\n",
      "Downloading https://hirise-pds.lpl.arizona.edu/PDS/EXTRAS/RDR/ESP/ORB_012700_012799/ESP_012787_1650/ESP_012787_1650_RGB.NOMAP.browse.jpg to I:\\data\\mars\\ESP_012787_1650_RGB.NOMAP.browse.jpg\n"
     ]
    },
    {
     "data": {
      "application/vnd.jupyter.widget-view+json": {
       "model_id": "26795103c1ca407a9c9fba5030059e94",
       "version_major": 2,
       "version_minor": 0
      },
      "text/plain": [
       "  0%|          | 0/452457 [00:00<?, ?it/s]"
      ]
     },
     "metadata": {},
     "output_type": "display_data"
    },
    {
     "name": "stdout",
     "output_type": "stream",
     "text": [
      "ESP_012788_1365/\n",
      "Downloading https://hirise-pds.lpl.arizona.edu/PDS/EXTRAS/RDR/ESP/ORB_012700_012799/ESP_012788_1365/ESP_012788_1365_RGB.NOMAP.browse.jpg to I:\\data\\mars\\ESP_012788_1365_RGB.NOMAP.browse.jpg\n"
     ]
    },
    {
     "data": {
      "application/vnd.jupyter.widget-view+json": {
       "model_id": "dce44702f0d2456191e9b749f5f496f9",
       "version_major": 2,
       "version_minor": 0
      },
      "text/plain": [
       "  0%|          | 0/2176431 [00:00<?, ?it/s]"
      ]
     },
     "metadata": {},
     "output_type": "display_data"
    },
    {
     "name": "stdout",
     "output_type": "stream",
     "text": [
      "ESP_012788_1860/\n",
      "Downloading https://hirise-pds.lpl.arizona.edu/PDS/EXTRAS/RDR/ESP/ORB_012700_012799/ESP_012788_1860/ESP_012788_1860_RGB.NOMAP.browse.jpg to I:\\data\\mars\\ESP_012788_1860_RGB.NOMAP.browse.jpg\n"
     ]
    },
    {
     "data": {
      "application/vnd.jupyter.widget-view+json": {
       "model_id": "00e9b9899c8f43a6afc37d280e63905c",
       "version_major": 2,
       "version_minor": 0
      },
      "text/plain": [
       "  0%|          | 0/1555741 [00:00<?, ?it/s]"
      ]
     },
     "metadata": {},
     "output_type": "display_data"
    },
    {
     "name": "stdout",
     "output_type": "stream",
     "text": [
      "ESP_012790_1735/\n",
      "Downloading https://hirise-pds.lpl.arizona.edu/PDS/EXTRAS/RDR/ESP/ORB_012700_012799/ESP_012790_1735/ESP_012790_1735_RGB.NOMAP.browse.jpg to I:\\data\\mars\\ESP_012790_1735_RGB.NOMAP.browse.jpg\n"
     ]
    },
    {
     "data": {
      "application/vnd.jupyter.widget-view+json": {
       "model_id": "ee55a2762ca6408ca97476886a505145",
       "version_major": 2,
       "version_minor": 0
      },
      "text/plain": [
       "  0%|          | 0/1137367 [00:00<?, ?it/s]"
      ]
     },
     "metadata": {},
     "output_type": "display_data"
    },
    {
     "name": "stdout",
     "output_type": "stream",
     "text": [
      "ESP_012790_2150/\n",
      "Downloading https://hirise-pds.lpl.arizona.edu/PDS/EXTRAS/RDR/ESP/ORB_012700_012799/ESP_012790_2150/ESP_012790_2150_RGB.NOMAP.browse.jpg to I:\\data\\mars\\ESP_012790_2150_RGB.NOMAP.browse.jpg\n"
     ]
    },
    {
     "data": {
      "application/vnd.jupyter.widget-view+json": {
       "model_id": "3b1299cd37db4e708580a2223849c998",
       "version_major": 2,
       "version_minor": 0
      },
      "text/plain": [
       "  0%|          | 0/1223629 [00:00<?, ?it/s]"
      ]
     },
     "metadata": {},
     "output_type": "display_data"
    },
    {
     "name": "stdout",
     "output_type": "stream",
     "text": [
      "ESP_012791_1295/\n",
      "\tfailed to find filename\n",
      "ESP_012791_1910/\n",
      "Downloading https://hirise-pds.lpl.arizona.edu/PDS/EXTRAS/RDR/ESP/ORB_012700_012799/ESP_012791_1910/ESP_012791_1910_RGB.NOMAP.browse.jpg to I:\\data\\mars\\ESP_012791_1910_RGB.NOMAP.browse.jpg\n"
     ]
    },
    {
     "data": {
      "application/vnd.jupyter.widget-view+json": {
       "model_id": "3a825d61ac114c4cb8ff184cf9c8f167",
       "version_major": 2,
       "version_minor": 0
      },
      "text/plain": [
       "  0%|          | 0/1030552 [00:00<?, ?it/s]"
      ]
     },
     "metadata": {},
     "output_type": "display_data"
    },
    {
     "name": "stdout",
     "output_type": "stream",
     "text": [
      "ESP_012792_1550/\n",
      "Downloading https://hirise-pds.lpl.arizona.edu/PDS/EXTRAS/RDR/ESP/ORB_012700_012799/ESP_012792_1550/ESP_012792_1550_RGB.NOMAP.browse.jpg to I:\\data\\mars\\ESP_012792_1550_RGB.NOMAP.browse.jpg\n"
     ]
    },
    {
     "data": {
      "application/vnd.jupyter.widget-view+json": {
       "model_id": "26a27c8881da402094e4992858db28b6",
       "version_major": 2,
       "version_minor": 0
      },
      "text/plain": [
       "  0%|          | 0/2447381 [00:00<?, ?it/s]"
      ]
     },
     "metadata": {},
     "output_type": "display_data"
    },
    {
     "name": "stdout",
     "output_type": "stream",
     "text": [
      "ESP_012793_1485/\n",
      "Downloading https://hirise-pds.lpl.arizona.edu/PDS/EXTRAS/RDR/ESP/ORB_012700_012799/ESP_012793_1485/ESP_012793_1485_RGB.NOMAP.browse.jpg to I:\\data\\mars\\ESP_012793_1485_RGB.NOMAP.browse.jpg\n"
     ]
    },
    {
     "data": {
      "application/vnd.jupyter.widget-view+json": {
       "model_id": "f978c1da14644a2bb77690b5007dbe4b",
       "version_major": 2,
       "version_minor": 0
      },
      "text/plain": [
       "  0%|          | 0/486611 [00:00<?, ?it/s]"
      ]
     },
     "metadata": {},
     "output_type": "display_data"
    },
    {
     "name": "stdout",
     "output_type": "stream",
     "text": [
      "ESP_012794_1875/\n",
      "Downloading https://hirise-pds.lpl.arizona.edu/PDS/EXTRAS/RDR/ESP/ORB_012700_012799/ESP_012794_1875/ESP_012794_1875_RGB.NOMAP.browse.jpg to I:\\data\\mars\\ESP_012794_1875_RGB.NOMAP.browse.jpg\n"
     ]
    },
    {
     "data": {
      "application/vnd.jupyter.widget-view+json": {
       "model_id": "13b75bcec03d4d8bbc6e06f9a5b6b0e6",
       "version_major": 2,
       "version_minor": 0
      },
      "text/plain": [
       "  0%|          | 0/3387778 [00:00<?, ?it/s]"
      ]
     },
     "metadata": {},
     "output_type": "display_data"
    },
    {
     "name": "stdout",
     "output_type": "stream",
     "text": [
      "ESP_012795_0930/\n",
      "Downloading https://hirise-pds.lpl.arizona.edu/PDS/EXTRAS/RDR/ESP/ORB_012700_012799/ESP_012795_0930/ESP_012795_0930_RGB.NOMAP.browse.jpg to I:\\data\\mars\\ESP_012795_0930_RGB.NOMAP.browse.jpg\n"
     ]
    },
    {
     "data": {
      "application/vnd.jupyter.widget-view+json": {
       "model_id": "a29c8c32d107464daaf8c8de535a6878",
       "version_major": 2,
       "version_minor": 0
      },
      "text/plain": [
       "  0%|          | 0/436359 [00:00<?, ?it/s]"
      ]
     },
     "metadata": {},
     "output_type": "display_data"
    },
    {
     "name": "stdout",
     "output_type": "stream",
     "text": [
      "ESP_012795_1395/\n",
      "Downloading https://hirise-pds.lpl.arizona.edu/PDS/EXTRAS/RDR/ESP/ORB_012700_012799/ESP_012795_1395/ESP_012795_1395_RGB.NOMAP.browse.jpg to I:\\data\\mars\\ESP_012795_1395_RGB.NOMAP.browse.jpg\n"
     ]
    },
    {
     "data": {
      "application/vnd.jupyter.widget-view+json": {
       "model_id": "7926bde5b78e47f498f0c48e8823b5ce",
       "version_major": 2,
       "version_minor": 0
      },
      "text/plain": [
       "  0%|          | 0/1294339 [00:00<?, ?it/s]"
      ]
     },
     "metadata": {},
     "output_type": "display_data"
    },
    {
     "name": "stdout",
     "output_type": "stream",
     "text": [
      "ESP_012795_1995/\n",
      "Downloading https://hirise-pds.lpl.arizona.edu/PDS/EXTRAS/RDR/ESP/ORB_012700_012799/ESP_012795_1995/ESP_012795_1995_RGB.NOMAP.browse.jpg to I:\\data\\mars\\ESP_012795_1995_RGB.NOMAP.browse.jpg\n"
     ]
    },
    {
     "data": {
      "application/vnd.jupyter.widget-view+json": {
       "model_id": "af078d7018f14e01ac711aff32163566",
       "version_major": 2,
       "version_minor": 0
      },
      "text/plain": [
       "  0%|          | 0/1993675 [00:00<?, ?it/s]"
      ]
     },
     "metadata": {},
     "output_type": "display_data"
    },
    {
     "name": "stdout",
     "output_type": "stream",
     "text": [
      "ESP_012796_2040/\n",
      "Downloading https://hirise-pds.lpl.arizona.edu/PDS/EXTRAS/RDR/ESP/ORB_012700_012799/ESP_012796_2040/ESP_012796_2040_RGB.NOMAP.browse.jpg to I:\\data\\mars\\ESP_012796_2040_RGB.NOMAP.browse.jpg\n"
     ]
    },
    {
     "data": {
      "application/vnd.jupyter.widget-view+json": {
       "model_id": "27fa47cb193a4f5590a8dab92c11c8aa",
       "version_major": 2,
       "version_minor": 0
      },
      "text/plain": [
       "  0%|          | 0/1676029 [00:00<?, ?it/s]"
      ]
     },
     "metadata": {},
     "output_type": "display_data"
    },
    {
     "name": "stdout",
     "output_type": "stream",
     "text": [
      "ESP_012797_0820/\n",
      "Downloading https://hirise-pds.lpl.arizona.edu/PDS/EXTRAS/RDR/ESP/ORB_012700_012799/ESP_012797_0820/ESP_012797_0820_RGB.NOMAP.browse.jpg to I:\\data\\mars\\ESP_012797_0820_RGB.NOMAP.browse.jpg\n"
     ]
    },
    {
     "data": {
      "application/vnd.jupyter.widget-view+json": {
       "model_id": "6cd5ca7a278d4e798801013c73460967",
       "version_major": 2,
       "version_minor": 0
      },
      "text/plain": [
       "  0%|          | 0/1218587 [00:00<?, ?it/s]"
      ]
     },
     "metadata": {},
     "output_type": "display_data"
    },
    {
     "name": "stdout",
     "output_type": "stream",
     "text": [
      "ESP_012797_2075/\n",
      "Downloading https://hirise-pds.lpl.arizona.edu/PDS/EXTRAS/RDR/ESP/ORB_012700_012799/ESP_012797_2075/ESP_012797_2075_RGB.NOMAP.browse.jpg to I:\\data\\mars\\ESP_012797_2075_RGB.NOMAP.browse.jpg\n"
     ]
    },
    {
     "data": {
      "application/vnd.jupyter.widget-view+json": {
       "model_id": "93d7fb7bf4ac4de3a55ed5a861da8a50",
       "version_major": 2,
       "version_minor": 0
      },
      "text/plain": [
       "  0%|          | 0/718999 [00:00<?, ?it/s]"
      ]
     },
     "metadata": {},
     "output_type": "display_data"
    },
    {
     "name": "stdout",
     "output_type": "stream",
     "text": [
      "ESP_012798_1340/\n",
      "Downloading https://hirise-pds.lpl.arizona.edu/PDS/EXTRAS/RDR/ESP/ORB_012700_012799/ESP_012798_1340/ESP_012798_1340_RGB.NOMAP.browse.jpg to I:\\data\\mars\\ESP_012798_1340_RGB.NOMAP.browse.jpg\n"
     ]
    },
    {
     "data": {
      "application/vnd.jupyter.widget-view+json": {
       "model_id": "d1bca659857e47d9bafb042b0e5678a5",
       "version_major": 2,
       "version_minor": 0
      },
      "text/plain": [
       "  0%|          | 0/1388873 [00:00<?, ?it/s]"
      ]
     },
     "metadata": {},
     "output_type": "display_data"
    },
    {
     "name": "stdout",
     "output_type": "stream",
     "text": [
      "ESP_012799_1990/\n",
      "Downloading https://hirise-pds.lpl.arizona.edu/PDS/EXTRAS/RDR/ESP/ORB_012700_012799/ESP_012799_1990/ESP_012799_1990_RGB.NOMAP.browse.jpg to I:\\data\\mars\\ESP_012799_1990_RGB.NOMAP.browse.jpg\n"
     ]
    },
    {
     "data": {
      "application/vnd.jupyter.widget-view+json": {
       "model_id": "f73c8237c281466db3663dd27a3d992a",
       "version_major": 2,
       "version_minor": 0
      },
      "text/plain": [
       "  0%|          | 0/1370144 [00:00<?, ?it/s]"
      ]
     },
     "metadata": {},
     "output_type": "display_data"
    },
    {
     "name": "stdout",
     "output_type": "stream",
     "text": [
      "-------------------------------------------------- ORB_012800_012899/\n",
      "ESP_012800_1460/\n",
      "Downloading https://hirise-pds.lpl.arizona.edu/PDS/EXTRAS/RDR/ESP/ORB_012800_012899/ESP_012800_1460/ESP_012800_1460_RGB.NOMAP.browse.jpg to I:\\data\\mars\\ESP_012800_1460_RGB.NOMAP.browse.jpg\n"
     ]
    },
    {
     "data": {
      "application/vnd.jupyter.widget-view+json": {
       "model_id": "0ebc3dff66414dae95702a06f967301c",
       "version_major": 2,
       "version_minor": 0
      },
      "text/plain": [
       "  0%|          | 0/736595 [00:00<?, ?it/s]"
      ]
     },
     "metadata": {},
     "output_type": "display_data"
    },
    {
     "name": "stdout",
     "output_type": "stream",
     "text": [
      "ESP_012801_1135/\n",
      "\tfailed to find filename\n",
      "ESP_012802_1425/\n",
      "Downloading https://hirise-pds.lpl.arizona.edu/PDS/EXTRAS/RDR/ESP/ORB_012800_012899/ESP_012802_1425/ESP_012802_1425_RGB.NOMAP.browse.jpg to I:\\data\\mars\\ESP_012802_1425_RGB.NOMAP.browse.jpg\n"
     ]
    },
    {
     "data": {
      "application/vnd.jupyter.widget-view+json": {
       "model_id": "fa9dc26a64e349b081cebd0c2a936e54",
       "version_major": 2,
       "version_minor": 0
      },
      "text/plain": [
       "  0%|          | 0/630746 [00:00<?, ?it/s]"
      ]
     },
     "metadata": {},
     "output_type": "display_data"
    },
    {
     "name": "stdout",
     "output_type": "stream",
     "text": [
      "ESP_012803_1185/\n",
      "Downloading https://hirise-pds.lpl.arizona.edu/PDS/EXTRAS/RDR/ESP/ORB_012800_012899/ESP_012803_1185/ESP_012803_1185_RGB.NOMAP.browse.jpg to I:\\data\\mars\\ESP_012803_1185_RGB.NOMAP.browse.jpg\n"
     ]
    },
    {
     "data": {
      "application/vnd.jupyter.widget-view+json": {
       "model_id": "c5b6f1a573e5432884a5058f4389fa2e",
       "version_major": 2,
       "version_minor": 0
      },
      "text/plain": [
       "  0%|          | 0/1830040 [00:00<?, ?it/s]"
      ]
     },
     "metadata": {},
     "output_type": "display_data"
    },
    {
     "name": "stdout",
     "output_type": "stream",
     "text": [
      "ESP_012803_1815/\n",
      "Downloading https://hirise-pds.lpl.arizona.edu/PDS/EXTRAS/RDR/ESP/ORB_012800_012899/ESP_012803_1815/ESP_012803_1815_RGB.NOMAP.browse.jpg to I:\\data\\mars\\ESP_012803_1815_RGB.NOMAP.browse.jpg\n"
     ]
    },
    {
     "data": {
      "application/vnd.jupyter.widget-view+json": {
       "model_id": "6d248eb5743a42eb92f9c4046decb117",
       "version_major": 2,
       "version_minor": 0
      },
      "text/plain": [
       "  0%|          | 0/624044 [00:00<?, ?it/s]"
      ]
     },
     "metadata": {},
     "output_type": "display_data"
    },
    {
     "name": "stdout",
     "output_type": "stream",
     "text": [
      "ESP_012805_0980/\n",
      "Downloading https://hirise-pds.lpl.arizona.edu/PDS/EXTRAS/RDR/ESP/ORB_012800_012899/ESP_012805_0980/ESP_012805_0980_RGB.NOMAP.browse.jpg to I:\\data\\mars\\ESP_012805_0980_RGB.NOMAP.browse.jpg\n"
     ]
    },
    {
     "data": {
      "application/vnd.jupyter.widget-view+json": {
       "model_id": "7ab0d54a54c54674bedf65a4955d6d2b",
       "version_major": 2,
       "version_minor": 0
      },
      "text/plain": [
       "  0%|          | 0/1580092 [00:00<?, ?it/s]"
      ]
     },
     "metadata": {},
     "output_type": "display_data"
    },
    {
     "name": "stdout",
     "output_type": "stream",
     "text": [
      "ESP_012806_1400/\n",
      "Downloading https://hirise-pds.lpl.arizona.edu/PDS/EXTRAS/RDR/ESP/ORB_012800_012899/ESP_012806_1400/ESP_012806_1400_RGB.NOMAP.browse.jpg to I:\\data\\mars\\ESP_012806_1400_RGB.NOMAP.browse.jpg\n"
     ]
    },
    {
     "data": {
      "application/vnd.jupyter.widget-view+json": {
       "model_id": "c3da3705c5224337bfda15c5f75afff2",
       "version_major": 2,
       "version_minor": 0
      },
      "text/plain": [
       "  0%|          | 0/1588487 [00:00<?, ?it/s]"
      ]
     },
     "metadata": {},
     "output_type": "display_data"
    },
    {
     "name": "stdout",
     "output_type": "stream",
     "text": [
      "ESP_012807_1505/\n",
      "Downloading https://hirise-pds.lpl.arizona.edu/PDS/EXTRAS/RDR/ESP/ORB_012800_012899/ESP_012807_1505/ESP_012807_1505_RGB.NOMAP.browse.jpg to I:\\data\\mars\\ESP_012807_1505_RGB.NOMAP.browse.jpg\n"
     ]
    },
    {
     "data": {
      "application/vnd.jupyter.widget-view+json": {
       "model_id": "2b34ab995b034ccea78df9349fcc2a4f",
       "version_major": 2,
       "version_minor": 0
      },
      "text/plain": [
       "  0%|          | 0/1425229 [00:00<?, ?it/s]"
      ]
     },
     "metadata": {},
     "output_type": "display_data"
    },
    {
     "name": "stdout",
     "output_type": "stream",
     "text": [
      "ESP_012807_2060/\n",
      "Downloading https://hirise-pds.lpl.arizona.edu/PDS/EXTRAS/RDR/ESP/ORB_012800_012899/ESP_012807_2060/ESP_012807_2060_RGB.NOMAP.browse.jpg to I:\\data\\mars\\ESP_012807_2060_RGB.NOMAP.browse.jpg\n"
     ]
    },
    {
     "data": {
      "application/vnd.jupyter.widget-view+json": {
       "model_id": "b6127b7947434be593a63a4b61bcc84c",
       "version_major": 2,
       "version_minor": 0
      },
      "text/plain": [
       "  0%|          | 0/964341 [00:00<?, ?it/s]"
      ]
     },
     "metadata": {},
     "output_type": "display_data"
    },
    {
     "name": "stdout",
     "output_type": "stream",
     "text": [
      "ESP_012808_0945/\n",
      "Downloading https://hirise-pds.lpl.arizona.edu/PDS/EXTRAS/RDR/ESP/ORB_012800_012899/ESP_012808_0945/ESP_012808_0945_RGB.NOMAP.browse.jpg to I:\\data\\mars\\ESP_012808_0945_RGB.NOMAP.browse.jpg\n"
     ]
    },
    {
     "data": {
      "application/vnd.jupyter.widget-view+json": {
       "model_id": "57bc1b0f8205450f9b1541609915e287",
       "version_major": 2,
       "version_minor": 0
      },
      "text/plain": [
       "  0%|          | 0/781974 [00:00<?, ?it/s]"
      ]
     },
     "metadata": {},
     "output_type": "display_data"
    },
    {
     "name": "stdout",
     "output_type": "stream",
     "text": [
      "ESP_012808_1420/\n",
      "Downloading https://hirise-pds.lpl.arizona.edu/PDS/EXTRAS/RDR/ESP/ORB_012800_012899/ESP_012808_1420/ESP_012808_1420_RGB.NOMAP.browse.jpg to I:\\data\\mars\\ESP_012808_1420_RGB.NOMAP.browse.jpg\n"
     ]
    },
    {
     "data": {
      "application/vnd.jupyter.widget-view+json": {
       "model_id": "86f702748db54331b67d6773d021a7d9",
       "version_major": 2,
       "version_minor": 0
      },
      "text/plain": [
       "  0%|          | 0/1882614 [00:00<?, ?it/s]"
      ]
     },
     "metadata": {},
     "output_type": "display_data"
    },
    {
     "name": "stdout",
     "output_type": "stream",
     "text": [
      "ESP_012809_1725/\n",
      "Downloading https://hirise-pds.lpl.arizona.edu/PDS/EXTRAS/RDR/ESP/ORB_012800_012899/ESP_012809_1725/ESP_012809_1725_RGB.NOMAP.browse.jpg to I:\\data\\mars\\ESP_012809_1725_RGB.NOMAP.browse.jpg\n"
     ]
    },
    {
     "data": {
      "application/vnd.jupyter.widget-view+json": {
       "model_id": "2a14212e59e64114be11796ad7a07aa1",
       "version_major": 2,
       "version_minor": 0
      },
      "text/plain": [
       "  0%|          | 0/900918 [00:00<?, ?it/s]"
      ]
     },
     "metadata": {},
     "output_type": "display_data"
    },
    {
     "name": "stdout",
     "output_type": "stream",
     "text": [
      "ESP_012810_0925/\n",
      "Downloading https://hirise-pds.lpl.arizona.edu/PDS/EXTRAS/RDR/ESP/ORB_012800_012899/ESP_012810_0925/ESP_012810_0925_RGB.NOMAP.browse.jpg to I:\\data\\mars\\ESP_012810_0925_RGB.NOMAP.browse.jpg\n"
     ]
    },
    {
     "data": {
      "application/vnd.jupyter.widget-view+json": {
       "model_id": "d292434371a5480ab5b3489ffe324340",
       "version_major": 2,
       "version_minor": 0
      },
      "text/plain": [
       "  0%|          | 0/668311 [00:00<?, ?it/s]"
      ]
     },
     "metadata": {},
     "output_type": "display_data"
    },
    {
     "name": "stdout",
     "output_type": "stream",
     "text": [
      "ESP_012810_1735/\n",
      "Downloading https://hirise-pds.lpl.arizona.edu/PDS/EXTRAS/RDR/ESP/ORB_012800_012899/ESP_012810_1735/ESP_012810_1735_RGB.NOMAP.browse.jpg to I:\\data\\mars\\ESP_012810_1735_RGB.NOMAP.browse.jpg\n"
     ]
    },
    {
     "data": {
      "application/vnd.jupyter.widget-view+json": {
       "model_id": "c7360ecd687a4945abdd362a5a9e2138",
       "version_major": 2,
       "version_minor": 0
      },
      "text/plain": [
       "  0%|          | 0/706120 [00:00<?, ?it/s]"
      ]
     },
     "metadata": {},
     "output_type": "display_data"
    },
    {
     "name": "stdout",
     "output_type": "stream",
     "text": [
      "ESP_012812_1405/\n",
      "Downloading https://hirise-pds.lpl.arizona.edu/PDS/EXTRAS/RDR/ESP/ORB_012800_012899/ESP_012812_1405/ESP_012812_1405_RGB.NOMAP.browse.jpg to I:\\data\\mars\\ESP_012812_1405_RGB.NOMAP.browse.jpg\n"
     ]
    },
    {
     "data": {
      "application/vnd.jupyter.widget-view+json": {
       "model_id": "de9243d1a01c41a580e76722ee672e0b",
       "version_major": 2,
       "version_minor": 0
      },
      "text/plain": [
       "  0%|          | 0/1694138 [00:00<?, ?it/s]"
      ]
     },
     "metadata": {},
     "output_type": "display_data"
    },
    {
     "name": "stdout",
     "output_type": "stream",
     "text": [
      "ESP_012813_1905/\n",
      "Downloading https://hirise-pds.lpl.arizona.edu/PDS/EXTRAS/RDR/ESP/ORB_012800_012899/ESP_012813_1905/ESP_012813_1905_RGB.NOMAP.browse.jpg to I:\\data\\mars\\ESP_012813_1905_RGB.NOMAP.browse.jpg\n"
     ]
    },
    {
     "data": {
      "application/vnd.jupyter.widget-view+json": {
       "model_id": "3e83583ee00844868b41d97179d43385",
       "version_major": 2,
       "version_minor": 0
      },
      "text/plain": [
       "  0%|          | 0/803396 [00:00<?, ?it/s]"
      ]
     },
     "metadata": {},
     "output_type": "display_data"
    },
    {
     "name": "stdout",
     "output_type": "stream",
     "text": [
      "ESP_012814_1895/\n",
      "Downloading https://hirise-pds.lpl.arizona.edu/PDS/EXTRAS/RDR/ESP/ORB_012800_012899/ESP_012814_1895/ESP_012814_1895_RGB.NOMAP.browse.jpg to I:\\data\\mars\\ESP_012814_1895_RGB.NOMAP.browse.jpg\n"
     ]
    },
    {
     "data": {
      "application/vnd.jupyter.widget-view+json": {
       "model_id": "341fdabf1b7a4924b0233ba440913d0d",
       "version_major": 2,
       "version_minor": 0
      },
      "text/plain": [
       "  0%|          | 0/1021359 [00:00<?, ?it/s]"
      ]
     },
     "metadata": {},
     "output_type": "display_data"
    },
    {
     "name": "stdout",
     "output_type": "stream",
     "text": [
      "ESP_012815_1080/\n",
      "Downloading https://hirise-pds.lpl.arizona.edu/PDS/EXTRAS/RDR/ESP/ORB_012800_012899/ESP_012815_1080/ESP_012815_1080_RGB.NOMAP.browse.jpg to I:\\data\\mars\\ESP_012815_1080_RGB.NOMAP.browse.jpg\n"
     ]
    },
    {
     "data": {
      "application/vnd.jupyter.widget-view+json": {
       "model_id": "5d8971a30a374491a7cb2ede75608b9d",
       "version_major": 2,
       "version_minor": 0
      },
      "text/plain": [
       "  0%|          | 0/993828 [00:00<?, ?it/s]"
      ]
     },
     "metadata": {},
     "output_type": "display_data"
    },
    {
     "name": "stdout",
     "output_type": "stream",
     "text": [
      "ESP_012815_1670/\n",
      "Downloading https://hirise-pds.lpl.arizona.edu/PDS/EXTRAS/RDR/ESP/ORB_012800_012899/ESP_012815_1670/ESP_012815_1670_RGB.NOMAP.browse.jpg to I:\\data\\mars\\ESP_012815_1670_RGB.NOMAP.browse.jpg\n"
     ]
    },
    {
     "data": {
      "application/vnd.jupyter.widget-view+json": {
       "model_id": "250f3c5e48d74c79bfd0d6dcf9972918",
       "version_major": 2,
       "version_minor": 0
      },
      "text/plain": [
       "  0%|          | 0/1306650 [00:00<?, ?it/s]"
      ]
     },
     "metadata": {},
     "output_type": "display_data"
    },
    {
     "name": "stdout",
     "output_type": "stream",
     "text": [
      "ESP_012816_0930/\n",
      "Downloading https://hirise-pds.lpl.arizona.edu/PDS/EXTRAS/RDR/ESP/ORB_012800_012899/ESP_012816_0930/ESP_012816_0930_RGB.NOMAP.browse.jpg to I:\\data\\mars\\ESP_012816_0930_RGB.NOMAP.browse.jpg\n"
     ]
    },
    {
     "data": {
      "application/vnd.jupyter.widget-view+json": {
       "model_id": "b9db03ab2c5443a3be75d3348cbd1236",
       "version_major": 2,
       "version_minor": 0
      },
      "text/plain": [
       "  0%|          | 0/1495326 [00:00<?, ?it/s]"
      ]
     },
     "metadata": {},
     "output_type": "display_data"
    },
    {
     "name": "stdout",
     "output_type": "stream",
     "text": [
      "ESP_012817_0925/\n",
      "Downloading https://hirise-pds.lpl.arizona.edu/PDS/EXTRAS/RDR/ESP/ORB_012800_012899/ESP_012817_0925/ESP_012817_0925_RGB.NOMAP.browse.jpg to I:\\data\\mars\\ESP_012817_0925_RGB.NOMAP.browse.jpg\n"
     ]
    },
    {
     "data": {
      "application/vnd.jupyter.widget-view+json": {
       "model_id": "6773d87c183b4d4cab9e55516b55b310",
       "version_major": 2,
       "version_minor": 0
      },
      "text/plain": [
       "  0%|          | 0/2086435 [00:00<?, ?it/s]"
      ]
     },
     "metadata": {},
     "output_type": "display_data"
    },
    {
     "name": "stdout",
     "output_type": "stream",
     "text": [
      "ESP_012817_1640/\n",
      "Downloading https://hirise-pds.lpl.arizona.edu/PDS/EXTRAS/RDR/ESP/ORB_012800_012899/ESP_012817_1640/ESP_012817_1640_RGB.NOMAP.browse.jpg to I:\\data\\mars\\ESP_012817_1640_RGB.NOMAP.browse.jpg\n"
     ]
    },
    {
     "data": {
      "application/vnd.jupyter.widget-view+json": {
       "model_id": "82d9d1e8f39f4404888b3d2d0423122f",
       "version_major": 2,
       "version_minor": 0
      },
      "text/plain": [
       "  0%|          | 0/909625 [00:00<?, ?it/s]"
      ]
     },
     "metadata": {},
     "output_type": "display_data"
    },
    {
     "name": "stdout",
     "output_type": "stream",
     "text": [
      "ESP_012817_2055/\n",
      "Downloading https://hirise-pds.lpl.arizona.edu/PDS/EXTRAS/RDR/ESP/ORB_012800_012899/ESP_012817_2055/ESP_012817_2055_RGB.NOMAP.browse.jpg to I:\\data\\mars\\ESP_012817_2055_RGB.NOMAP.browse.jpg\n"
     ]
    },
    {
     "data": {
      "application/vnd.jupyter.widget-view+json": {
       "model_id": "13d6e0a8575f4aa5be470850a23a1192",
       "version_major": 2,
       "version_minor": 0
      },
      "text/plain": [
       "  0%|          | 0/916308 [00:00<?, ?it/s]"
      ]
     },
     "metadata": {},
     "output_type": "display_data"
    },
    {
     "name": "stdout",
     "output_type": "stream",
     "text": [
      "ESP_012818_1010/\n",
      "Downloading https://hirise-pds.lpl.arizona.edu/PDS/EXTRAS/RDR/ESP/ORB_012800_012899/ESP_012818_1010/ESP_012818_1010_RGB.NOMAP.browse.jpg to I:\\data\\mars\\ESP_012818_1010_RGB.NOMAP.browse.jpg\n"
     ]
    },
    {
     "data": {
      "application/vnd.jupyter.widget-view+json": {
       "model_id": "9ce910f5bbb94117bf1d1df8474e8f36",
       "version_major": 2,
       "version_minor": 0
      },
      "text/plain": [
       "  0%|          | 0/933630 [00:00<?, ?it/s]"
      ]
     },
     "metadata": {},
     "output_type": "display_data"
    },
    {
     "name": "stdout",
     "output_type": "stream",
     "text": [
      "ESP_012818_1560/\n",
      "Downloading https://hirise-pds.lpl.arizona.edu/PDS/EXTRAS/RDR/ESP/ORB_012800_012899/ESP_012818_1560/ESP_012818_1560_RGB.NOMAP.browse.jpg to I:\\data\\mars\\ESP_012818_1560_RGB.NOMAP.browse.jpg\n"
     ]
    },
    {
     "data": {
      "application/vnd.jupyter.widget-view+json": {
       "model_id": "bf7b676e33964e04836c544b5a1b5f56",
       "version_major": 2,
       "version_minor": 0
      },
      "text/plain": [
       "  0%|          | 0/1826972 [00:00<?, ?it/s]"
      ]
     },
     "metadata": {},
     "output_type": "display_data"
    },
    {
     "name": "stdout",
     "output_type": "stream",
     "text": [
      "ESP_012819_0930/\n",
      "Downloading https://hirise-pds.lpl.arizona.edu/PDS/EXTRAS/RDR/ESP/ORB_012800_012899/ESP_012819_0930/ESP_012819_0930_RGB.NOMAP.browse.jpg to I:\\data\\mars\\ESP_012819_0930_RGB.NOMAP.browse.jpg\n"
     ]
    },
    {
     "data": {
      "application/vnd.jupyter.widget-view+json": {
       "model_id": "c950aece3084497393cf6863189fbaa1",
       "version_major": 2,
       "version_minor": 0
      },
      "text/plain": [
       "  0%|          | 0/1838232 [00:00<?, ?it/s]"
      ]
     },
     "metadata": {},
     "output_type": "display_data"
    },
    {
     "name": "stdout",
     "output_type": "stream",
     "text": [
      "ESP_012819_1780/\n",
      "Downloading https://hirise-pds.lpl.arizona.edu/PDS/EXTRAS/RDR/ESP/ORB_012800_012899/ESP_012819_1780/ESP_012819_1780_RGB.NOMAP.browse.jpg to I:\\data\\mars\\ESP_012819_1780_RGB.NOMAP.browse.jpg\n"
     ]
    },
    {
     "data": {
      "application/vnd.jupyter.widget-view+json": {
       "model_id": "0f4d65adfbec4cb69e73b7311b158664",
       "version_major": 2,
       "version_minor": 0
      },
      "text/plain": [
       "  0%|          | 0/1918677 [00:00<?, ?it/s]"
      ]
     },
     "metadata": {},
     "output_type": "display_data"
    },
    {
     "name": "stdout",
     "output_type": "stream",
     "text": [
      "ESP_012820_1780/\n",
      "Downloading https://hirise-pds.lpl.arizona.edu/PDS/EXTRAS/RDR/ESP/ORB_012800_012899/ESP_012820_1780/ESP_012820_1780_RGB.NOMAP.browse.jpg to I:\\data\\mars\\ESP_012820_1780_RGB.NOMAP.browse.jpg\n"
     ]
    },
    {
     "data": {
      "application/vnd.jupyter.widget-view+json": {
       "model_id": "e75b8a0a18ee4c3fa972b919fc39bbaf",
       "version_major": 2,
       "version_minor": 0
      },
      "text/plain": [
       "  0%|          | 0/791961 [00:00<?, ?it/s]"
      ]
     },
     "metadata": {},
     "output_type": "display_data"
    },
    {
     "name": "stdout",
     "output_type": "stream",
     "text": [
      "ESP_012821_0865/\n",
      "Downloading https://hirise-pds.lpl.arizona.edu/PDS/EXTRAS/RDR/ESP/ORB_012800_012899/ESP_012821_0865/ESP_012821_0865_RGB.NOMAP.browse.jpg to I:\\data\\mars\\ESP_012821_0865_RGB.NOMAP.browse.jpg\n"
     ]
    },
    {
     "data": {
      "application/vnd.jupyter.widget-view+json": {
       "model_id": "1a35b26b2da34830b2ef8f4c807ea636",
       "version_major": 2,
       "version_minor": 0
      },
      "text/plain": [
       "  0%|          | 0/1424988 [00:00<?, ?it/s]"
      ]
     },
     "metadata": {},
     "output_type": "display_data"
    },
    {
     "name": "stdout",
     "output_type": "stream",
     "text": [
      "ESP_012821_1420/\n",
      "Downloading https://hirise-pds.lpl.arizona.edu/PDS/EXTRAS/RDR/ESP/ORB_012800_012899/ESP_012821_1420/ESP_012821_1420_RGB.NOMAP.browse.jpg to I:\\data\\mars\\ESP_012821_1420_RGB.NOMAP.browse.jpg\n"
     ]
    },
    {
     "data": {
      "application/vnd.jupyter.widget-view+json": {
       "model_id": "f07738b346084af5aedd94a858786b59",
       "version_major": 2,
       "version_minor": 0
      },
      "text/plain": [
       "  0%|          | 0/1159847 [00:00<?, ?it/s]"
      ]
     },
     "metadata": {},
     "output_type": "display_data"
    },
    {
     "name": "stdout",
     "output_type": "stream",
     "text": [
      "ESP_012821_1800/\n",
      "Downloading https://hirise-pds.lpl.arizona.edu/PDS/EXTRAS/RDR/ESP/ORB_012800_012899/ESP_012821_1800/ESP_012821_1800_RGB.NOMAP.browse.jpg to I:\\data\\mars\\ESP_012821_1800_RGB.NOMAP.browse.jpg\n"
     ]
    },
    {
     "data": {
      "application/vnd.jupyter.widget-view+json": {
       "model_id": "193f4619c2d14446903321d4b0314b09",
       "version_major": 2,
       "version_minor": 0
      },
      "text/plain": [
       "  0%|          | 0/1220007 [00:00<?, ?it/s]"
      ]
     },
     "metadata": {},
     "output_type": "display_data"
    },
    {
     "name": "stdout",
     "output_type": "stream",
     "text": [
      "ESP_012822_1650/\n",
      "Downloading https://hirise-pds.lpl.arizona.edu/PDS/EXTRAS/RDR/ESP/ORB_012800_012899/ESP_012822_1650/ESP_012822_1650_RGB.NOMAP.browse.jpg to I:\\data\\mars\\ESP_012822_1650_RGB.NOMAP.browse.jpg\n"
     ]
    },
    {
     "data": {
      "application/vnd.jupyter.widget-view+json": {
       "model_id": "080e7530310f4d2c8faf90dfe79a5dc2",
       "version_major": 2,
       "version_minor": 0
      },
      "text/plain": [
       "  0%|          | 0/1491572 [00:00<?, ?it/s]"
      ]
     },
     "metadata": {},
     "output_type": "display_data"
    },
    {
     "name": "stdout",
     "output_type": "stream",
     "text": [
      "ESP_012824_0945/\n",
      "Downloading https://hirise-pds.lpl.arizona.edu/PDS/EXTRAS/RDR/ESP/ORB_012800_012899/ESP_012824_0945/ESP_012824_0945_RGB.NOMAP.browse.jpg to I:\\data\\mars\\ESP_012824_0945_RGB.NOMAP.browse.jpg\n"
     ]
    },
    {
     "data": {
      "application/vnd.jupyter.widget-view+json": {
       "model_id": "b7e20ce2cf964da2ad1a4551237c4e67",
       "version_major": 2,
       "version_minor": 0
      },
      "text/plain": [
       "  0%|          | 0/991450 [00:00<?, ?it/s]"
      ]
     },
     "metadata": {},
     "output_type": "display_data"
    },
    {
     "name": "stdout",
     "output_type": "stream",
     "text": [
      "ESP_012824_1475/\n",
      "Downloading https://hirise-pds.lpl.arizona.edu/PDS/EXTRAS/RDR/ESP/ORB_012800_012899/ESP_012824_1475/ESP_012824_1475_RGB.NOMAP.browse.jpg to I:\\data\\mars\\ESP_012824_1475_RGB.NOMAP.browse.jpg\n"
     ]
    },
    {
     "data": {
      "application/vnd.jupyter.widget-view+json": {
       "model_id": "2ca9bab05af941f499a18449832b4eb4",
       "version_major": 2,
       "version_minor": 0
      },
      "text/plain": [
       "  0%|          | 0/2155959 [00:00<?, ?it/s]"
      ]
     },
     "metadata": {},
     "output_type": "display_data"
    },
    {
     "name": "stdout",
     "output_type": "stream",
     "text": [
      "ESP_012834_1875/\n",
      "Downloading https://hirise-pds.lpl.arizona.edu/PDS/EXTRAS/RDR/ESP/ORB_012800_012899/ESP_012834_1875/ESP_012834_1875_RGB.NOMAP.browse.jpg to I:\\data\\mars\\ESP_012834_1875_RGB.NOMAP.browse.jpg\n"
     ]
    },
    {
     "data": {
      "application/vnd.jupyter.widget-view+json": {
       "model_id": "5630049961874093b37fe35c584efe82",
       "version_major": 2,
       "version_minor": 0
      },
      "text/plain": [
       "  0%|          | 0/1782336 [00:00<?, ?it/s]"
      ]
     },
     "metadata": {},
     "output_type": "display_data"
    },
    {
     "name": "stdout",
     "output_type": "stream",
     "text": [
      "ESP_012835_0940/\n",
      "Downloading https://hirise-pds.lpl.arizona.edu/PDS/EXTRAS/RDR/ESP/ORB_012800_012899/ESP_012835_0940/ESP_012835_0940_RGB.NOMAP.browse.jpg to I:\\data\\mars\\ESP_012835_0940_RGB.NOMAP.browse.jpg\n"
     ]
    },
    {
     "data": {
      "application/vnd.jupyter.widget-view+json": {
       "model_id": "0624318765b3425ca5171716c9dcc731",
       "version_major": 2,
       "version_minor": 0
      },
      "text/plain": [
       "  0%|          | 0/282365 [00:00<?, ?it/s]"
      ]
     },
     "metadata": {},
     "output_type": "display_data"
    },
    {
     "name": "stdout",
     "output_type": "stream",
     "text": [
      "ESP_012835_1655/\n",
      "Downloading https://hirise-pds.lpl.arizona.edu/PDS/EXTRAS/RDR/ESP/ORB_012800_012899/ESP_012835_1655/ESP_012835_1655_RGB.NOMAP.browse.jpg to I:\\data\\mars\\ESP_012835_1655_RGB.NOMAP.browse.jpg\n"
     ]
    },
    {
     "data": {
      "application/vnd.jupyter.widget-view+json": {
       "model_id": "9f4f85a4f376491480dd193fb7e7772d",
       "version_major": 2,
       "version_minor": 0
      },
      "text/plain": [
       "  0%|          | 0/739874 [00:00<?, ?it/s]"
      ]
     },
     "metadata": {},
     "output_type": "display_data"
    },
    {
     "name": "stdout",
     "output_type": "stream",
     "text": [
      "ESP_012836_0850/\n",
      "Downloading https://hirise-pds.lpl.arizona.edu/PDS/EXTRAS/RDR/ESP/ORB_012800_012899/ESP_012836_0850/ESP_012836_0850_RGB.NOMAP.browse.jpg to I:\\data\\mars\\ESP_012836_0850_RGB.NOMAP.browse.jpg\n"
     ]
    },
    {
     "data": {
      "application/vnd.jupyter.widget-view+json": {
       "model_id": "a6269c2258a748838643496a227e9e89",
       "version_major": 2,
       "version_minor": 0
      },
      "text/plain": [
       "  0%|          | 0/1109187 [00:00<?, ?it/s]"
      ]
     },
     "metadata": {},
     "output_type": "display_data"
    },
    {
     "name": "stdout",
     "output_type": "stream",
     "text": [
      "ESP_012836_1720/\n",
      "Downloading https://hirise-pds.lpl.arizona.edu/PDS/EXTRAS/RDR/ESP/ORB_012800_012899/ESP_012836_1720/ESP_012836_1720_RGB.NOMAP.browse.jpg to I:\\data\\mars\\ESP_012836_1720_RGB.NOMAP.browse.jpg\n"
     ]
    },
    {
     "data": {
      "application/vnd.jupyter.widget-view+json": {
       "model_id": "82361bf71f2b4feda2542c1076854af9",
       "version_major": 2,
       "version_minor": 0
      },
      "text/plain": [
       "  0%|          | 0/1679081 [00:00<?, ?it/s]"
      ]
     },
     "metadata": {},
     "output_type": "display_data"
    },
    {
     "name": "stdout",
     "output_type": "stream",
     "text": [
      "ESP_012837_0800/\n",
      "Downloading https://hirise-pds.lpl.arizona.edu/PDS/EXTRAS/RDR/ESP/ORB_012800_012899/ESP_012837_0800/ESP_012837_0800_RGB.NOMAP.browse.jpg to I:\\data\\mars\\ESP_012837_0800_RGB.NOMAP.browse.jpg\n"
     ]
    },
    {
     "data": {
      "application/vnd.jupyter.widget-view+json": {
       "model_id": "fb3a2b76235b4f96a9727580887de6e2",
       "version_major": 2,
       "version_minor": 0
      },
      "text/plain": [
       "  0%|          | 0/2106466 [00:00<?, ?it/s]"
      ]
     },
     "metadata": {},
     "output_type": "display_data"
    },
    {
     "name": "stdout",
     "output_type": "stream",
     "text": [
      "ESP_012837_2185/\n",
      "Downloading https://hirise-pds.lpl.arizona.edu/PDS/EXTRAS/RDR/ESP/ORB_012800_012899/ESP_012837_2185/ESP_012837_2185_RGB.NOMAP.browse.jpg to I:\\data\\mars\\ESP_012837_2185_RGB.NOMAP.browse.jpg\n"
     ]
    },
    {
     "data": {
      "application/vnd.jupyter.widget-view+json": {
       "model_id": "08498915501c4f09b60d3fc32a652b8e",
       "version_major": 2,
       "version_minor": 0
      },
      "text/plain": [
       "  0%|          | 0/1034382 [00:00<?, ?it/s]"
      ]
     },
     "metadata": {},
     "output_type": "display_data"
    },
    {
     "name": "stdout",
     "output_type": "stream",
     "text": [
      "ESP_012838_0950/\n",
      "Downloading https://hirise-pds.lpl.arizona.edu/PDS/EXTRAS/RDR/ESP/ORB_012800_012899/ESP_012838_0950/ESP_012838_0950_RGB.NOMAP.browse.jpg to I:\\data\\mars\\ESP_012838_0950_RGB.NOMAP.browse.jpg\n"
     ]
    },
    {
     "data": {
      "application/vnd.jupyter.widget-view+json": {
       "model_id": "5edcd861f5514602ba9c010e9baa1e08",
       "version_major": 2,
       "version_minor": 0
      },
      "text/plain": [
       "  0%|          | 0/1340280 [00:00<?, ?it/s]"
      ]
     },
     "metadata": {},
     "output_type": "display_data"
    },
    {
     "name": "stdout",
     "output_type": "stream",
     "text": [
      "ESP_012839_1435/\n",
      "Downloading https://hirise-pds.lpl.arizona.edu/PDS/EXTRAS/RDR/ESP/ORB_012800_012899/ESP_012839_1435/ESP_012839_1435_RGB.NOMAP.browse.jpg to I:\\data\\mars\\ESP_012839_1435_RGB.NOMAP.browse.jpg\n"
     ]
    },
    {
     "data": {
      "application/vnd.jupyter.widget-view+json": {
       "model_id": "037fcbcd120048c1b67c9a499f507cd0",
       "version_major": 2,
       "version_minor": 0
      },
      "text/plain": [
       "  0%|          | 0/480592 [00:00<?, ?it/s]"
      ]
     },
     "metadata": {},
     "output_type": "display_data"
    },
    {
     "name": "stdout",
     "output_type": "stream",
     "text": [
      "ESP_012840_1080/\n",
      "Downloading https://hirise-pds.lpl.arizona.edu/PDS/EXTRAS/RDR/ESP/ORB_012800_012899/ESP_012840_1080/ESP_012840_1080_RGB.NOMAP.browse.jpg to I:\\data\\mars\\ESP_012840_1080_RGB.NOMAP.browse.jpg\n"
     ]
    },
    {
     "data": {
      "application/vnd.jupyter.widget-view+json": {
       "model_id": "a8cb4d27f01f4fc497898ebbff85791c",
       "version_major": 2,
       "version_minor": 0
      },
      "text/plain": [
       "  0%|          | 0/1012477 [00:00<?, ?it/s]"
      ]
     },
     "metadata": {},
     "output_type": "display_data"
    },
    {
     "name": "stdout",
     "output_type": "stream",
     "text": [
      "ESP_012840_1950/\n",
      "Downloading https://hirise-pds.lpl.arizona.edu/PDS/EXTRAS/RDR/ESP/ORB_012800_012899/ESP_012840_1950/ESP_012840_1950_RGB.NOMAP.browse.jpg to I:\\data\\mars\\ESP_012840_1950_RGB.NOMAP.browse.jpg\n"
     ]
    },
    {
     "data": {
      "application/vnd.jupyter.widget-view+json": {
       "model_id": "e83de724c93f4c3788a2d21e9334f578",
       "version_major": 2,
       "version_minor": 0
      },
      "text/plain": [
       "  0%|          | 0/1259397 [00:00<?, ?it/s]"
      ]
     },
     "metadata": {},
     "output_type": "display_data"
    },
    {
     "name": "stdout",
     "output_type": "stream",
     "text": [
      "ESP_012841_1750/\n",
      "Downloading https://hirise-pds.lpl.arizona.edu/PDS/EXTRAS/RDR/ESP/ORB_012800_012899/ESP_012841_1750/ESP_012841_1750_RGB.NOMAP.browse.jpg to I:\\data\\mars\\ESP_012841_1750_RGB.NOMAP.browse.jpg\n"
     ]
    },
    {
     "data": {
      "application/vnd.jupyter.widget-view+json": {
       "model_id": "f64e1301f8b7460d9a977340784dea15",
       "version_major": 2,
       "version_minor": 0
      },
      "text/plain": [
       "  0%|          | 0/1507041 [00:00<?, ?it/s]"
      ]
     },
     "metadata": {},
     "output_type": "display_data"
    },
    {
     "name": "stdout",
     "output_type": "stream",
     "text": [
      "ESP_012843_1525/\n",
      "Downloading https://hirise-pds.lpl.arizona.edu/PDS/EXTRAS/RDR/ESP/ORB_012800_012899/ESP_012843_1525/ESP_012843_1525_RGB.NOMAP.browse.jpg to I:\\data\\mars\\ESP_012843_1525_RGB.NOMAP.browse.jpg\n"
     ]
    },
    {
     "data": {
      "application/vnd.jupyter.widget-view+json": {
       "model_id": "a271b00eeb7e4fdeb2a2f1b9e770fe07",
       "version_major": 2,
       "version_minor": 0
      },
      "text/plain": [
       "  0%|          | 0/711289 [00:00<?, ?it/s]"
      ]
     },
     "metadata": {},
     "output_type": "display_data"
    },
    {
     "name": "stdout",
     "output_type": "stream",
     "text": [
      "ESP_012844_0930/\n",
      "Downloading https://hirise-pds.lpl.arizona.edu/PDS/EXTRAS/RDR/ESP/ORB_012800_012899/ESP_012844_0930/ESP_012844_0930_RGB.NOMAP.browse.jpg to I:\\data\\mars\\ESP_012844_0930_RGB.NOMAP.browse.jpg\n"
     ]
    },
    {
     "data": {
      "application/vnd.jupyter.widget-view+json": {
       "model_id": "7368d37c1a45411da60dea0d249f519f",
       "version_major": 2,
       "version_minor": 0
      },
      "text/plain": [
       "  0%|          | 0/2941327 [00:00<?, ?it/s]"
      ]
     },
     "metadata": {},
     "output_type": "display_data"
    },
    {
     "name": "stdout",
     "output_type": "stream",
     "text": [
      "ESP_012844_1535/\n",
      "Downloading https://hirise-pds.lpl.arizona.edu/PDS/EXTRAS/RDR/ESP/ORB_012800_012899/ESP_012844_1535/ESP_012844_1535_RGB.NOMAP.browse.jpg to I:\\data\\mars\\ESP_012844_1535_RGB.NOMAP.browse.jpg\n"
     ]
    },
    {
     "data": {
      "application/vnd.jupyter.widget-view+json": {
       "model_id": "6a6a379bfcf84f3e8909ac45cc99c4d6",
       "version_major": 2,
       "version_minor": 0
      },
      "text/plain": [
       "  0%|          | 0/1138513 [00:00<?, ?it/s]"
      ]
     },
     "metadata": {},
     "output_type": "display_data"
    },
    {
     "name": "stdout",
     "output_type": "stream",
     "text": [
      "ESP_012845_0950/\n",
      "Downloading https://hirise-pds.lpl.arizona.edu/PDS/EXTRAS/RDR/ESP/ORB_012800_012899/ESP_012845_0950/ESP_012845_0950_RGB.NOMAP.browse.jpg to I:\\data\\mars\\ESP_012845_0950_RGB.NOMAP.browse.jpg\n"
     ]
    },
    {
     "data": {
      "application/vnd.jupyter.widget-view+json": {
       "model_id": "779bb4c58fb74bc2a4787c296c5c3de5",
       "version_major": 2,
       "version_minor": 0
      },
      "text/plain": [
       "  0%|          | 0/1475563 [00:00<?, ?it/s]"
      ]
     },
     "metadata": {},
     "output_type": "display_data"
    },
    {
     "name": "stdout",
     "output_type": "stream",
     "text": [
      "ESP_012846_1960/\n",
      "Downloading https://hirise-pds.lpl.arizona.edu/PDS/EXTRAS/RDR/ESP/ORB_012800_012899/ESP_012846_1960/ESP_012846_1960_RGB.NOMAP.browse.jpg to I:\\data\\mars\\ESP_012846_1960_RGB.NOMAP.browse.jpg\n"
     ]
    },
    {
     "data": {
      "application/vnd.jupyter.widget-view+json": {
       "model_id": "1a2e647fef6c47dc935837a2ac4cf471",
       "version_major": 2,
       "version_minor": 0
      },
      "text/plain": [
       "  0%|          | 0/1278865 [00:00<?, ?it/s]"
      ]
     },
     "metadata": {},
     "output_type": "display_data"
    },
    {
     "name": "stdout",
     "output_type": "stream",
     "text": [
      "ESP_012847_1510/\n",
      "Downloading https://hirise-pds.lpl.arizona.edu/PDS/EXTRAS/RDR/ESP/ORB_012800_012899/ESP_012847_1510/ESP_012847_1510_RGB.NOMAP.browse.jpg to I:\\data\\mars\\ESP_012847_1510_RGB.NOMAP.browse.jpg\n"
     ]
    },
    {
     "data": {
      "application/vnd.jupyter.widget-view+json": {
       "model_id": "fc3092bb89ff46328eb21832803ded91",
       "version_major": 2,
       "version_minor": 0
      },
      "text/plain": [
       "  0%|          | 0/712755 [00:00<?, ?it/s]"
      ]
     },
     "metadata": {},
     "output_type": "display_data"
    },
    {
     "name": "stdout",
     "output_type": "stream",
     "text": [
      "ESP_012848_1235/\n",
      "Downloading https://hirise-pds.lpl.arizona.edu/PDS/EXTRAS/RDR/ESP/ORB_012800_012899/ESP_012848_1235/ESP_012848_1235_RGB.NOMAP.browse.jpg to I:\\data\\mars\\ESP_012848_1235_RGB.NOMAP.browse.jpg\n"
     ]
    },
    {
     "data": {
      "application/vnd.jupyter.widget-view+json": {
       "model_id": "e5043647f76f428facc47a8a0dc5ea04",
       "version_major": 2,
       "version_minor": 0
      },
      "text/plain": [
       "  0%|          | 0/1779996 [00:00<?, ?it/s]"
      ]
     },
     "metadata": {},
     "output_type": "display_data"
    },
    {
     "name": "stdout",
     "output_type": "stream",
     "text": [
      "ESP_012848_1705/\n",
      "Downloading https://hirise-pds.lpl.arizona.edu/PDS/EXTRAS/RDR/ESP/ORB_012800_012899/ESP_012848_1705/ESP_012848_1705_RGB.NOMAP.browse.jpg to I:\\data\\mars\\ESP_012848_1705_RGB.NOMAP.browse.jpg\n"
     ]
    },
    {
     "data": {
      "application/vnd.jupyter.widget-view+json": {
       "model_id": "9c7e6c0bc7d442d6ad23a2204930a589",
       "version_major": 2,
       "version_minor": 0
      },
      "text/plain": [
       "  0%|          | 0/2650690 [00:00<?, ?it/s]"
      ]
     },
     "metadata": {},
     "output_type": "display_data"
    },
    {
     "name": "stdout",
     "output_type": "stream",
     "text": [
      "ESP_012849_1705/\n",
      "Downloading https://hirise-pds.lpl.arizona.edu/PDS/EXTRAS/RDR/ESP/ORB_012800_012899/ESP_012849_1705/ESP_012849_1705_RGB.NOMAP.browse.jpg to I:\\data\\mars\\ESP_012849_1705_RGB.NOMAP.browse.jpg\n"
     ]
    },
    {
     "data": {
      "application/vnd.jupyter.widget-view+json": {
       "model_id": "443ee4dc4eeb4620b85f36107380a9af",
       "version_major": 2,
       "version_minor": 0
      },
      "text/plain": [
       "  0%|          | 0/1428512 [00:00<?, ?it/s]"
      ]
     },
     "metadata": {},
     "output_type": "display_data"
    },
    {
     "name": "stdout",
     "output_type": "stream",
     "text": [
      "ESP_012850_1240/\n",
      "Downloading https://hirise-pds.lpl.arizona.edu/PDS/EXTRAS/RDR/ESP/ORB_012800_012899/ESP_012850_1240/ESP_012850_1240_RGB.NOMAP.browse.jpg to I:\\data\\mars\\ESP_012850_1240_RGB.NOMAP.browse.jpg\n"
     ]
    },
    {
     "data": {
      "application/vnd.jupyter.widget-view+json": {
       "model_id": "05d4c2fa827243379faf889c7200b000",
       "version_major": 2,
       "version_minor": 0
      },
      "text/plain": [
       "  0%|          | 0/2155360 [00:00<?, ?it/s]"
      ]
     },
     "metadata": {},
     "output_type": "display_data"
    },
    {
     "name": "stdout",
     "output_type": "stream",
     "text": [
      "ESP_012851_1270/\n",
      "Downloading https://hirise-pds.lpl.arizona.edu/PDS/EXTRAS/RDR/ESP/ORB_012800_012899/ESP_012851_1270/ESP_012851_1270_RGB.NOMAP.browse.jpg to I:\\data\\mars\\ESP_012851_1270_RGB.NOMAP.browse.jpg\n"
     ]
    },
    {
     "data": {
      "application/vnd.jupyter.widget-view+json": {
       "model_id": "764812b4c9914de4bd7f537e4b861d61",
       "version_major": 2,
       "version_minor": 0
      },
      "text/plain": [
       "  0%|          | 0/1014200 [00:00<?, ?it/s]"
      ]
     },
     "metadata": {},
     "output_type": "display_data"
    },
    {
     "name": "stdout",
     "output_type": "stream",
     "text": [
      "ESP_012851_2020/\n",
      "Downloading https://hirise-pds.lpl.arizona.edu/PDS/EXTRAS/RDR/ESP/ORB_012800_012899/ESP_012851_2020/ESP_012851_2020_RGB.NOMAP.browse.jpg to I:\\data\\mars\\ESP_012851_2020_RGB.NOMAP.browse.jpg\n"
     ]
    },
    {
     "data": {
      "application/vnd.jupyter.widget-view+json": {
       "model_id": "665445a4725a4120b22a0363f46cb868",
       "version_major": 2,
       "version_minor": 0
      },
      "text/plain": [
       "  0%|          | 0/976583 [00:00<?, ?it/s]"
      ]
     },
     "metadata": {},
     "output_type": "display_data"
    },
    {
     "name": "stdout",
     "output_type": "stream",
     "text": [
      "ESP_012852_1495/\n",
      "Downloading https://hirise-pds.lpl.arizona.edu/PDS/EXTRAS/RDR/ESP/ORB_012800_012899/ESP_012852_1495/ESP_012852_1495_RGB.NOMAP.browse.jpg to I:\\data\\mars\\ESP_012852_1495_RGB.NOMAP.browse.jpg\n"
     ]
    },
    {
     "data": {
      "application/vnd.jupyter.widget-view+json": {
       "model_id": "461a4130a08540ba82255a54ff12cf3b",
       "version_major": 2,
       "version_minor": 0
      },
      "text/plain": [
       "  0%|          | 0/578795 [00:00<?, ?it/s]"
      ]
     },
     "metadata": {},
     "output_type": "display_data"
    },
    {
     "name": "stdout",
     "output_type": "stream",
     "text": [
      "ESP_012853_1480/\n",
      "Downloading https://hirise-pds.lpl.arizona.edu/PDS/EXTRAS/RDR/ESP/ORB_012800_012899/ESP_012853_1480/ESP_012853_1480_RGB.NOMAP.browse.jpg to I:\\data\\mars\\ESP_012853_1480_RGB.NOMAP.browse.jpg\n"
     ]
    },
    {
     "data": {
      "application/vnd.jupyter.widget-view+json": {
       "model_id": "5d4f9bdad6cd4c19b5f97b062f5f0505",
       "version_major": 2,
       "version_minor": 0
      },
      "text/plain": [
       "  0%|          | 0/1617699 [00:00<?, ?it/s]"
      ]
     },
     "metadata": {},
     "output_type": "display_data"
    },
    {
     "name": "stdout",
     "output_type": "stream",
     "text": [
      "ESP_012854_0945/\n",
      "Downloading https://hirise-pds.lpl.arizona.edu/PDS/EXTRAS/RDR/ESP/ORB_012800_012899/ESP_012854_0945/ESP_012854_0945_RGB.NOMAP.browse.jpg to I:\\data\\mars\\ESP_012854_0945_RGB.NOMAP.browse.jpg\n"
     ]
    },
    {
     "data": {
      "application/vnd.jupyter.widget-view+json": {
       "model_id": "70fec90adc374b3ca2efa6f59ef43263",
       "version_major": 2,
       "version_minor": 0
      },
      "text/plain": [
       "  0%|          | 0/1475823 [00:00<?, ?it/s]"
      ]
     },
     "metadata": {},
     "output_type": "display_data"
    },
    {
     "name": "stdout",
     "output_type": "stream",
     "text": [
      "ESP_012854_2070/\n",
      "Downloading https://hirise-pds.lpl.arizona.edu/PDS/EXTRAS/RDR/ESP/ORB_012800_012899/ESP_012854_2070/ESP_012854_2070_RGB.NOMAP.browse.jpg to I:\\data\\mars\\ESP_012854_2070_RGB.NOMAP.browse.jpg\n"
     ]
    },
    {
     "data": {
      "application/vnd.jupyter.widget-view+json": {
       "model_id": "14501e8f74be4d419877bf5dbf8cb903",
       "version_major": 2,
       "version_minor": 0
      },
      "text/plain": [
       "  0%|          | 0/822850 [00:00<?, ?it/s]"
      ]
     },
     "metadata": {},
     "output_type": "display_data"
    },
    {
     "name": "stdout",
     "output_type": "stream",
     "text": [
      "ESP_012855_1065/\n",
      "Downloading https://hirise-pds.lpl.arizona.edu/PDS/EXTRAS/RDR/ESP/ORB_012800_012899/ESP_012855_1065/ESP_012855_1065_RGB.NOMAP.browse.jpg to I:\\data\\mars\\ESP_012855_1065_RGB.NOMAP.browse.jpg\n"
     ]
    },
    {
     "data": {
      "application/vnd.jupyter.widget-view+json": {
       "model_id": "5833877d51144c0996273110d0a29bd0",
       "version_major": 2,
       "version_minor": 0
      },
      "text/plain": [
       "  0%|          | 0/815737 [00:00<?, ?it/s]"
      ]
     },
     "metadata": {},
     "output_type": "display_data"
    },
    {
     "name": "stdout",
     "output_type": "stream",
     "text": [
      "ESP_012856_1465/\n",
      "Downloading https://hirise-pds.lpl.arizona.edu/PDS/EXTRAS/RDR/ESP/ORB_012800_012899/ESP_012856_1465/ESP_012856_1465_RGB.NOMAP.browse.jpg to I:\\data\\mars\\ESP_012856_1465_RGB.NOMAP.browse.jpg\n"
     ]
    },
    {
     "data": {
      "application/vnd.jupyter.widget-view+json": {
       "model_id": "b11bd298b92541ac9e16748e63366c5a",
       "version_major": 2,
       "version_minor": 0
      },
      "text/plain": [
       "  0%|          | 0/1740178 [00:00<?, ?it/s]"
      ]
     },
     "metadata": {},
     "output_type": "display_data"
    },
    {
     "name": "stdout",
     "output_type": "stream",
     "text": [
      "ESP_012857_1185/\n",
      "Downloading https://hirise-pds.lpl.arizona.edu/PDS/EXTRAS/RDR/ESP/ORB_012800_012899/ESP_012857_1185/ESP_012857_1185_RGB.NOMAP.browse.jpg to I:\\data\\mars\\ESP_012857_1185_RGB.NOMAP.browse.jpg\n"
     ]
    },
    {
     "data": {
      "application/vnd.jupyter.widget-view+json": {
       "model_id": "df82fa8d492c4814a433dffdf157e124",
       "version_major": 2,
       "version_minor": 0
      },
      "text/plain": [
       "  0%|          | 0/2125329 [00:00<?, ?it/s]"
      ]
     },
     "metadata": {},
     "output_type": "display_data"
    },
    {
     "name": "stdout",
     "output_type": "stream",
     "text": [
      "ESP_012857_1910/\n",
      "Downloading https://hirise-pds.lpl.arizona.edu/PDS/EXTRAS/RDR/ESP/ORB_012800_012899/ESP_012857_1910/ESP_012857_1910_RGB.NOMAP.browse.jpg to I:\\data\\mars\\ESP_012857_1910_RGB.NOMAP.browse.jpg\n"
     ]
    },
    {
     "data": {
      "application/vnd.jupyter.widget-view+json": {
       "model_id": "47d0c12730904ccab9765036a3ecae31",
       "version_major": 2,
       "version_minor": 0
      },
      "text/plain": [
       "  0%|          | 0/835847 [00:00<?, ?it/s]"
      ]
     },
     "metadata": {},
     "output_type": "display_data"
    },
    {
     "name": "stdout",
     "output_type": "stream",
     "text": [
      "ESP_012858_0855/\n",
      "Downloading https://hirise-pds.lpl.arizona.edu/PDS/EXTRAS/RDR/ESP/ORB_012800_012899/ESP_012858_0855/ESP_012858_0855_RGB.NOMAP.browse.jpg to I:\\data\\mars\\ESP_012858_0855_RGB.NOMAP.browse.jpg\n"
     ]
    },
    {
     "data": {
      "application/vnd.jupyter.widget-view+json": {
       "model_id": "d0b2c59cc713444ab173df3f229561a2",
       "version_major": 2,
       "version_minor": 0
      },
      "text/plain": [
       "  0%|          | 0/1450701 [00:00<?, ?it/s]"
      ]
     },
     "metadata": {},
     "output_type": "display_data"
    },
    {
     "name": "stdout",
     "output_type": "stream",
     "text": [
      "ESP_012858_2165/\n",
      "Downloading https://hirise-pds.lpl.arizona.edu/PDS/EXTRAS/RDR/ESP/ORB_012800_012899/ESP_012858_2165/ESP_012858_2165_RGB.NOMAP.browse.jpg to I:\\data\\mars\\ESP_012858_2165_RGB.NOMAP.browse.jpg\n"
     ]
    },
    {
     "data": {
      "application/vnd.jupyter.widget-view+json": {
       "model_id": "8a260cd5b6a44217954310acda551b5d",
       "version_major": 2,
       "version_minor": 0
      },
      "text/plain": [
       "  0%|          | 0/1382151 [00:00<?, ?it/s]"
      ]
     },
     "metadata": {},
     "output_type": "display_data"
    },
    {
     "name": "stdout",
     "output_type": "stream",
     "text": [
      "ESP_012859_1815/\n",
      "Downloading https://hirise-pds.lpl.arizona.edu/PDS/EXTRAS/RDR/ESP/ORB_012800_012899/ESP_012859_1815/ESP_012859_1815_RGB.NOMAP.browse.jpg to I:\\data\\mars\\ESP_012859_1815_RGB.NOMAP.browse.jpg\n"
     ]
    },
    {
     "data": {
      "application/vnd.jupyter.widget-view+json": {
       "model_id": "1fa5a19264de4d9f968a98c4ea3f0535",
       "version_major": 2,
       "version_minor": 0
      },
      "text/plain": [
       "  0%|          | 0/1021184 [00:00<?, ?it/s]"
      ]
     },
     "metadata": {},
     "output_type": "display_data"
    },
    {
     "name": "stdout",
     "output_type": "stream",
     "text": [
      "ESP_012860_0980/\n",
      "Downloading https://hirise-pds.lpl.arizona.edu/PDS/EXTRAS/RDR/ESP/ORB_012800_012899/ESP_012860_0980/ESP_012860_0980_RGB.NOMAP.browse.jpg to I:\\data\\mars\\ESP_012860_0980_RGB.NOMAP.browse.jpg\n"
     ]
    },
    {
     "data": {
      "application/vnd.jupyter.widget-view+json": {
       "model_id": "90d7175769e343d39a01533d1675ede1",
       "version_major": 2,
       "version_minor": 0
      },
      "text/plain": [
       "  0%|          | 0/1854769 [00:00<?, ?it/s]"
      ]
     },
     "metadata": {},
     "output_type": "display_data"
    },
    {
     "name": "stdout",
     "output_type": "stream",
     "text": [
      "ESP_012860_1830/\n",
      "Downloading https://hirise-pds.lpl.arizona.edu/PDS/EXTRAS/RDR/ESP/ORB_012800_012899/ESP_012860_1830/ESP_012860_1830_RGB.NOMAP.browse.jpg to I:\\data\\mars\\ESP_012860_1830_RGB.NOMAP.browse.jpg\n"
     ]
    },
    {
     "data": {
      "application/vnd.jupyter.widget-view+json": {
       "model_id": "3679727ac71a4c9fb67267c13d627668",
       "version_major": 2,
       "version_minor": 0
      },
      "text/plain": [
       "  0%|          | 0/811613 [00:00<?, ?it/s]"
      ]
     },
     "metadata": {},
     "output_type": "display_data"
    },
    {
     "name": "stdout",
     "output_type": "stream",
     "text": [
      "ESP_012861_1695/\n",
      "Downloading https://hirise-pds.lpl.arizona.edu/PDS/EXTRAS/RDR/ESP/ORB_012800_012899/ESP_012861_1695/ESP_012861_1695_RGB.NOMAP.browse.jpg to I:\\data\\mars\\ESP_012861_1695_RGB.NOMAP.browse.jpg\n"
     ]
    },
    {
     "data": {
      "application/vnd.jupyter.widget-view+json": {
       "model_id": "557916c45fb34186844c6b171b587d21",
       "version_major": 2,
       "version_minor": 0
      },
      "text/plain": [
       "  0%|          | 0/1498357 [00:00<?, ?it/s]"
      ]
     },
     "metadata": {},
     "output_type": "display_data"
    },
    {
     "name": "stdout",
     "output_type": "stream",
     "text": [
      "ESP_012861_2140/\n",
      "Downloading https://hirise-pds.lpl.arizona.edu/PDS/EXTRAS/RDR/ESP/ORB_012800_012899/ESP_012861_2140/ESP_012861_2140_RGB.NOMAP.browse.jpg to I:\\data\\mars\\ESP_012861_2140_RGB.NOMAP.browse.jpg\n"
     ]
    },
    {
     "data": {
      "application/vnd.jupyter.widget-view+json": {
       "model_id": "6136a705f43d414ababf4fda05aa15b6",
       "version_major": 2,
       "version_minor": 0
      },
      "text/plain": [
       "  0%|          | 0/1473951 [00:00<?, ?it/s]"
      ]
     },
     "metadata": {},
     "output_type": "display_data"
    },
    {
     "name": "stdout",
     "output_type": "stream",
     "text": [
      "ESP_012862_1685/\n",
      "Downloading https://hirise-pds.lpl.arizona.edu/PDS/EXTRAS/RDR/ESP/ORB_012800_012899/ESP_012862_1685/ESP_012862_1685_RGB.NOMAP.browse.jpg to I:\\data\\mars\\ESP_012862_1685_RGB.NOMAP.browse.jpg\n"
     ]
    },
    {
     "data": {
      "application/vnd.jupyter.widget-view+json": {
       "model_id": "b84b905478944291af24cc8096ed7f25",
       "version_major": 2,
       "version_minor": 0
      },
      "text/plain": [
       "  0%|          | 0/1860009 [00:00<?, ?it/s]"
      ]
     },
     "metadata": {},
     "output_type": "display_data"
    },
    {
     "name": "stdout",
     "output_type": "stream",
     "text": [
      "ESP_012863_0820/\n",
      "Downloading https://hirise-pds.lpl.arizona.edu/PDS/EXTRAS/RDR/ESP/ORB_012800_012899/ESP_012863_0820/ESP_012863_0820_RGB.NOMAP.browse.jpg to I:\\data\\mars\\ESP_012863_0820_RGB.NOMAP.browse.jpg\n"
     ]
    },
    {
     "data": {
      "application/vnd.jupyter.widget-view+json": {
       "model_id": "351eb3f038af460389e17cb2cc3e652a",
       "version_major": 2,
       "version_minor": 0
      },
      "text/plain": [
       "  0%|          | 0/1276264 [00:00<?, ?it/s]"
      ]
     },
     "metadata": {},
     "output_type": "display_data"
    },
    {
     "name": "stdout",
     "output_type": "stream",
     "text": [
      "ESP_012863_1915/\n",
      "Downloading https://hirise-pds.lpl.arizona.edu/PDS/EXTRAS/RDR/ESP/ORB_012800_012899/ESP_012863_1915/ESP_012863_1915_RGB.NOMAP.browse.jpg to I:\\data\\mars\\ESP_012863_1915_RGB.NOMAP.browse.jpg\n"
     ]
    },
    {
     "data": {
      "application/vnd.jupyter.widget-view+json": {
       "model_id": "8eaa5fafd39142d1947ded569c1c933a",
       "version_major": 2,
       "version_minor": 0
      },
      "text/plain": [
       "  0%|          | 0/1718107 [00:00<?, ?it/s]"
      ]
     },
     "metadata": {},
     "output_type": "display_data"
    },
    {
     "name": "stdout",
     "output_type": "stream",
     "text": [
      "ESP_012864_1405/\n",
      "Downloading https://hirise-pds.lpl.arizona.edu/PDS/EXTRAS/RDR/ESP/ORB_012800_012899/ESP_012864_1405/ESP_012864_1405_RGB.NOMAP.browse.jpg to I:\\data\\mars\\ESP_012864_1405_RGB.NOMAP.browse.jpg\n"
     ]
    },
    {
     "data": {
      "application/vnd.jupyter.widget-view+json": {
       "model_id": "c896451aaf0f40878e2bf88939c17d30",
       "version_major": 2,
       "version_minor": 0
      },
      "text/plain": [
       "  0%|          | 0/1451583 [00:00<?, ?it/s]"
      ]
     },
     "metadata": {},
     "output_type": "display_data"
    },
    {
     "name": "stdout",
     "output_type": "stream",
     "text": [
      "ESP_012865_1475/\n",
      "Downloading https://hirise-pds.lpl.arizona.edu/PDS/EXTRAS/RDR/ESP/ORB_012800_012899/ESP_012865_1475/ESP_012865_1475_RGB.NOMAP.browse.jpg to I:\\data\\mars\\ESP_012865_1475_RGB.NOMAP.browse.jpg\n"
     ]
    },
    {
     "data": {
      "application/vnd.jupyter.widget-view+json": {
       "model_id": "4be04cee99e04463be805a6914db08c1",
       "version_major": 2,
       "version_minor": 0
      },
      "text/plain": [
       "  0%|          | 0/2082787 [00:00<?, ?it/s]"
      ]
     },
     "metadata": {},
     "output_type": "display_data"
    },
    {
     "name": "stdout",
     "output_type": "stream",
     "text": [
      "ESP_012866_1510/\n",
      "Downloading https://hirise-pds.lpl.arizona.edu/PDS/EXTRAS/RDR/ESP/ORB_012800_012899/ESP_012866_1510/ESP_012866_1510_RGB.NOMAP.browse.jpg to I:\\data\\mars\\ESP_012866_1510_RGB.NOMAP.browse.jpg\n"
     ]
    },
    {
     "data": {
      "application/vnd.jupyter.widget-view+json": {
       "model_id": "98131ca575b046719a2db8775f635c5c",
       "version_major": 2,
       "version_minor": 0
      },
      "text/plain": [
       "  0%|          | 0/853860 [00:00<?, ?it/s]"
      ]
     },
     "metadata": {},
     "output_type": "display_data"
    },
    {
     "name": "stdout",
     "output_type": "stream",
     "text": [
      "ESP_012867_1400/\n",
      "Downloading https://hirise-pds.lpl.arizona.edu/PDS/EXTRAS/RDR/ESP/ORB_012800_012899/ESP_012867_1400/ESP_012867_1400_RGB.NOMAP.browse.jpg to I:\\data\\mars\\ESP_012867_1400_RGB.NOMAP.browse.jpg\n"
     ]
    },
    {
     "data": {
      "application/vnd.jupyter.widget-view+json": {
       "model_id": "3cbea44cf4544b709cdaf223f30efeec",
       "version_major": 2,
       "version_minor": 0
      },
      "text/plain": [
       "  0%|          | 0/1038203 [00:00<?, ?it/s]"
      ]
     },
     "metadata": {},
     "output_type": "display_data"
    },
    {
     "name": "stdout",
     "output_type": "stream",
     "text": [
      "ESP_012868_1275/\n",
      "Downloading https://hirise-pds.lpl.arizona.edu/PDS/EXTRAS/RDR/ESP/ORB_012800_012899/ESP_012868_1275/ESP_012868_1275_RGB.NOMAP.browse.jpg to I:\\data\\mars\\ESP_012868_1275_RGB.NOMAP.browse.jpg\n"
     ]
    },
    {
     "data": {
      "application/vnd.jupyter.widget-view+json": {
       "model_id": "ad8122731f4b48d49d13ca5c4c0a287f",
       "version_major": 2,
       "version_minor": 0
      },
      "text/plain": [
       "  0%|          | 0/425935 [00:00<?, ?it/s]"
      ]
     },
     "metadata": {},
     "output_type": "display_data"
    },
    {
     "name": "stdout",
     "output_type": "stream",
     "text": [
      "ESP_012869_0985/\n",
      "Downloading https://hirise-pds.lpl.arizona.edu/PDS/EXTRAS/RDR/ESP/ORB_012800_012899/ESP_012869_0985/ESP_012869_0985_RGB.NOMAP.browse.jpg to I:\\data\\mars\\ESP_012869_0985_RGB.NOMAP.browse.jpg\n"
     ]
    },
    {
     "data": {
      "application/vnd.jupyter.widget-view+json": {
       "model_id": "264cce4a98494e3dac5e9df1eefe64a7",
       "version_major": 2,
       "version_minor": 0
      },
      "text/plain": [
       "  0%|          | 0/938726 [00:00<?, ?it/s]"
      ]
     },
     "metadata": {},
     "output_type": "display_data"
    },
    {
     "name": "stdout",
     "output_type": "stream",
     "text": [
      "ESP_012869_1860/\n",
      "Downloading https://hirise-pds.lpl.arizona.edu/PDS/EXTRAS/RDR/ESP/ORB_012800_012899/ESP_012869_1860/ESP_012869_1860_RGB.NOMAP.browse.jpg to I:\\data\\mars\\ESP_012869_1860_RGB.NOMAP.browse.jpg\n"
     ]
    },
    {
     "data": {
      "application/vnd.jupyter.widget-view+json": {
       "model_id": "39b1fcfc30d74b468920336af9d21c97",
       "version_major": 2,
       "version_minor": 0
      },
      "text/plain": [
       "  0%|          | 0/804990 [00:00<?, ?it/s]"
      ]
     },
     "metadata": {},
     "output_type": "display_data"
    },
    {
     "name": "stdout",
     "output_type": "stream",
     "text": [
      "ESP_012871_0980/\n",
      "Downloading https://hirise-pds.lpl.arizona.edu/PDS/EXTRAS/RDR/ESP/ORB_012800_012899/ESP_012871_0980/ESP_012871_0980_RGB.NOMAP.browse.jpg to I:\\data\\mars\\ESP_012871_0980_RGB.NOMAP.browse.jpg\n"
     ]
    },
    {
     "data": {
      "application/vnd.jupyter.widget-view+json": {
       "model_id": "6f56cb1d6f4e4be190e6a58d17c77e39",
       "version_major": 2,
       "version_minor": 0
      },
      "text/plain": [
       "  0%|          | 0/1245935 [00:00<?, ?it/s]"
      ]
     },
     "metadata": {},
     "output_type": "display_data"
    },
    {
     "name": "stdout",
     "output_type": "stream",
     "text": [
      "ESP_012871_1565/\n",
      "Downloading https://hirise-pds.lpl.arizona.edu/PDS/EXTRAS/RDR/ESP/ORB_012800_012899/ESP_012871_1565/ESP_012871_1565_RGB.NOMAP.browse.jpg to I:\\data\\mars\\ESP_012871_1565_RGB.NOMAP.browse.jpg\n"
     ]
    },
    {
     "data": {
      "application/vnd.jupyter.widget-view+json": {
       "model_id": "5a761d67b22a4c3b9bfd7fc6feb8f93e",
       "version_major": 2,
       "version_minor": 0
      },
      "text/plain": [
       "  0%|          | 0/1313269 [00:00<?, ?it/s]"
      ]
     },
     "metadata": {},
     "output_type": "display_data"
    },
    {
     "name": "stdout",
     "output_type": "stream",
     "text": [
      "ESP_012872_1865/\n",
      "Downloading https://hirise-pds.lpl.arizona.edu/PDS/EXTRAS/RDR/ESP/ORB_012800_012899/ESP_012872_1865/ESP_012872_1865_RGB.NOMAP.browse.jpg to I:\\data\\mars\\ESP_012872_1865_RGB.NOMAP.browse.jpg\n"
     ]
    },
    {
     "data": {
      "application/vnd.jupyter.widget-view+json": {
       "model_id": "759c7241491942ec9f5eca471e6af2e4",
       "version_major": 2,
       "version_minor": 0
      },
      "text/plain": [
       "  0%|          | 0/1780214 [00:00<?, ?it/s]"
      ]
     },
     "metadata": {},
     "output_type": "display_data"
    },
    {
     "name": "stdout",
     "output_type": "stream",
     "text": [
      "ESP_012873_1075/\n",
      "Downloading https://hirise-pds.lpl.arizona.edu/PDS/EXTRAS/RDR/ESP/ORB_012800_012899/ESP_012873_1075/ESP_012873_1075_RGB.NOMAP.browse.jpg to I:\\data\\mars\\ESP_012873_1075_RGB.NOMAP.browse.jpg\n"
     ]
    },
    {
     "data": {
      "application/vnd.jupyter.widget-view+json": {
       "model_id": "37bd02438681477182e215509d2cf88d",
       "version_major": 2,
       "version_minor": 0
      },
      "text/plain": [
       "  0%|          | 0/1903694 [00:00<?, ?it/s]"
      ]
     },
     "metadata": {},
     "output_type": "display_data"
    },
    {
     "name": "stdout",
     "output_type": "stream",
     "text": [
      "ESP_012873_2045/\n",
      "Downloading https://hirise-pds.lpl.arizona.edu/PDS/EXTRAS/RDR/ESP/ORB_012800_012899/ESP_012873_2045/ESP_012873_2045_RGB.NOMAP.browse.jpg to I:\\data\\mars\\ESP_012873_2045_RGB.NOMAP.browse.jpg\n"
     ]
    },
    {
     "data": {
      "application/vnd.jupyter.widget-view+json": {
       "model_id": "9c70635cec2941bda74030e25f02b6ce",
       "version_major": 2,
       "version_minor": 0
      },
      "text/plain": [
       "  0%|          | 0/1073828 [00:00<?, ?it/s]"
      ]
     },
     "metadata": {},
     "output_type": "display_data"
    },
    {
     "name": "stdout",
     "output_type": "stream",
     "text": [
      "ESP_012874_0935/\n",
      "Downloading https://hirise-pds.lpl.arizona.edu/PDS/EXTRAS/RDR/ESP/ORB_012800_012899/ESP_012874_0935/ESP_012874_0935_RGB.NOMAP.browse.jpg to I:\\data\\mars\\ESP_012874_0935_RGB.NOMAP.browse.jpg\n"
     ]
    },
    {
     "data": {
      "application/vnd.jupyter.widget-view+json": {
       "model_id": "867c30a6ccf840a5a7afed8f9fc554c8",
       "version_major": 2,
       "version_minor": 0
      },
      "text/plain": [
       "  0%|          | 0/564709 [00:00<?, ?it/s]"
      ]
     },
     "metadata": {},
     "output_type": "display_data"
    },
    {
     "name": "stdout",
     "output_type": "stream",
     "text": [
      "ESP_012874_1450/\n",
      "Downloading https://hirise-pds.lpl.arizona.edu/PDS/EXTRAS/RDR/ESP/ORB_012800_012899/ESP_012874_1450/ESP_012874_1450_RGB.NOMAP.browse.jpg to I:\\data\\mars\\ESP_012874_1450_RGB.NOMAP.browse.jpg\n"
     ]
    },
    {
     "data": {
      "application/vnd.jupyter.widget-view+json": {
       "model_id": "f1837b3862d44644b8c374837548004b",
       "version_major": 2,
       "version_minor": 0
      },
      "text/plain": [
       "  0%|          | 0/633336 [00:00<?, ?it/s]"
      ]
     },
     "metadata": {},
     "output_type": "display_data"
    },
    {
     "name": "stdout",
     "output_type": "stream",
     "text": [
      "ESP_012875_1395/\n",
      "Downloading https://hirise-pds.lpl.arizona.edu/PDS/EXTRAS/RDR/ESP/ORB_012800_012899/ESP_012875_1395/ESP_012875_1395_RGB.NOMAP.browse.jpg to I:\\data\\mars\\ESP_012875_1395_RGB.NOMAP.browse.jpg\n"
     ]
    },
    {
     "data": {
      "application/vnd.jupyter.widget-view+json": {
       "model_id": "b51ad733f51d4f5cb10ba50842b6ccb1",
       "version_major": 2,
       "version_minor": 0
      },
      "text/plain": [
       "  0%|          | 0/1899421 [00:00<?, ?it/s]"
      ]
     },
     "metadata": {},
     "output_type": "display_data"
    },
    {
     "name": "stdout",
     "output_type": "stream",
     "text": [
      "ESP_012877_0930/\n",
      "Downloading https://hirise-pds.lpl.arizona.edu/PDS/EXTRAS/RDR/ESP/ORB_012800_012899/ESP_012877_0930/ESP_012877_0930_RGB.NOMAP.browse.jpg to I:\\data\\mars\\ESP_012877_0930_RGB.NOMAP.browse.jpg\n"
     ]
    },
    {
     "data": {
      "application/vnd.jupyter.widget-view+json": {
       "model_id": "63fcfd90b69042a0863103d8fb74a6da",
       "version_major": 2,
       "version_minor": 0
      },
      "text/plain": [
       "  0%|          | 0/630730 [00:00<?, ?it/s]"
      ]
     },
     "metadata": {},
     "output_type": "display_data"
    },
    {
     "name": "stdout",
     "output_type": "stream",
     "text": [
      "ESP_012878_1480/\n",
      "Downloading https://hirise-pds.lpl.arizona.edu/PDS/EXTRAS/RDR/ESP/ORB_012800_012899/ESP_012878_1480/ESP_012878_1480_RGB.NOMAP.browse.jpg to I:\\data\\mars\\ESP_012878_1480_RGB.NOMAP.browse.jpg\n"
     ]
    },
    {
     "data": {
      "application/vnd.jupyter.widget-view+json": {
       "model_id": "aa3c623edc304b38bddbb1e3c40a62cd",
       "version_major": 2,
       "version_minor": 0
      },
      "text/plain": [
       "  0%|          | 0/1538233 [00:00<?, ?it/s]"
      ]
     },
     "metadata": {},
     "output_type": "display_data"
    },
    {
     "name": "stdout",
     "output_type": "stream",
     "text": [
      "ESP_012878_2010/\n",
      "Downloading https://hirise-pds.lpl.arizona.edu/PDS/EXTRAS/RDR/ESP/ORB_012800_012899/ESP_012878_2010/ESP_012878_2010_RGB.NOMAP.browse.jpg to I:\\data\\mars\\ESP_012878_2010_RGB.NOMAP.browse.jpg\n"
     ]
    },
    {
     "data": {
      "application/vnd.jupyter.widget-view+json": {
       "model_id": "93d155025fda4f4382ae9aab3892ea6f",
       "version_major": 2,
       "version_minor": 0
      },
      "text/plain": [
       "  0%|          | 0/1806434 [00:00<?, ?it/s]"
      ]
     },
     "metadata": {},
     "output_type": "display_data"
    },
    {
     "name": "stdout",
     "output_type": "stream",
     "text": [
      "ESP_012879_1265/\n",
      "Downloading https://hirise-pds.lpl.arizona.edu/PDS/EXTRAS/RDR/ESP/ORB_012800_012899/ESP_012879_1265/ESP_012879_1265_RGB.NOMAP.browse.jpg to I:\\data\\mars\\ESP_012879_1265_RGB.NOMAP.browse.jpg\n"
     ]
    },
    {
     "data": {
      "application/vnd.jupyter.widget-view+json": {
       "model_id": "08899a80f36d4e788ae813cb8a766c55",
       "version_major": 2,
       "version_minor": 0
      },
      "text/plain": [
       "  0%|          | 0/932919 [00:00<?, ?it/s]"
      ]
     },
     "metadata": {},
     "output_type": "display_data"
    },
    {
     "name": "stdout",
     "output_type": "stream",
     "text": [
      "ESP_012879_1960/\n",
      "Downloading https://hirise-pds.lpl.arizona.edu/PDS/EXTRAS/RDR/ESP/ORB_012800_012899/ESP_012879_1960/ESP_012879_1960_RGB.NOMAP.browse.jpg to I:\\data\\mars\\ESP_012879_1960_RGB.NOMAP.browse.jpg\n"
     ]
    },
    {
     "data": {
      "application/vnd.jupyter.widget-view+json": {
       "model_id": "f9c34159eb4b47728fe38ab189d5b157",
       "version_major": 2,
       "version_minor": 0
      },
      "text/plain": [
       "  0%|          | 0/459288 [00:00<?, ?it/s]"
      ]
     },
     "metadata": {},
     "output_type": "display_data"
    },
    {
     "name": "stdout",
     "output_type": "stream",
     "text": [
      "ESP_012880_1980/\n",
      "Downloading https://hirise-pds.lpl.arizona.edu/PDS/EXTRAS/RDR/ESP/ORB_012800_012899/ESP_012880_1980/ESP_012880_1980_RGB.NOMAP.browse.jpg to I:\\data\\mars\\ESP_012880_1980_RGB.NOMAP.browse.jpg\n"
     ]
    },
    {
     "data": {
      "application/vnd.jupyter.widget-view+json": {
       "model_id": "b16fea5b78324512926b57d38e1969bd",
       "version_major": 2,
       "version_minor": 0
      },
      "text/plain": [
       "  0%|          | 0/1558509 [00:00<?, ?it/s]"
      ]
     },
     "metadata": {},
     "output_type": "display_data"
    },
    {
     "name": "stdout",
     "output_type": "stream",
     "text": [
      "ESP_012881_1880/\n",
      "Downloading https://hirise-pds.lpl.arizona.edu/PDS/EXTRAS/RDR/ESP/ORB_012800_012899/ESP_012881_1880/ESP_012881_1880_RGB.NOMAP.browse.jpg to I:\\data\\mars\\ESP_012881_1880_RGB.NOMAP.browse.jpg\n"
     ]
    },
    {
     "data": {
      "application/vnd.jupyter.widget-view+json": {
       "model_id": "3909f21f16594e00b5a9c221e13564d5",
       "version_major": 2,
       "version_minor": 0
      },
      "text/plain": [
       "  0%|          | 0/733194 [00:00<?, ?it/s]"
      ]
     },
     "metadata": {},
     "output_type": "display_data"
    },
    {
     "name": "stdout",
     "output_type": "stream",
     "text": [
      "ESP_012882_1475/\n",
      "Downloading https://hirise-pds.lpl.arizona.edu/PDS/EXTRAS/RDR/ESP/ORB_012800_012899/ESP_012882_1475/ESP_012882_1475_RGB.NOMAP.browse.jpg to I:\\data\\mars\\ESP_012882_1475_RGB.NOMAP.browse.jpg\n"
     ]
    },
    {
     "data": {
      "application/vnd.jupyter.widget-view+json": {
       "model_id": "7b0355df8c594941b466a9512547d165",
       "version_major": 2,
       "version_minor": 0
      },
      "text/plain": [
       "  0%|          | 0/1106518 [00:00<?, ?it/s]"
      ]
     },
     "metadata": {},
     "output_type": "display_data"
    },
    {
     "name": "stdout",
     "output_type": "stream",
     "text": [
      "ESP_012883_1515/\n",
      "Downloading https://hirise-pds.lpl.arizona.edu/PDS/EXTRAS/RDR/ESP/ORB_012800_012899/ESP_012883_1515/ESP_012883_1515_RGB.NOMAP.browse.jpg to I:\\data\\mars\\ESP_012883_1515_RGB.NOMAP.browse.jpg\n"
     ]
    },
    {
     "data": {
      "application/vnd.jupyter.widget-view+json": {
       "model_id": "169ea36c7b324c97877d7b9643d60ad9",
       "version_major": 2,
       "version_minor": 0
      },
      "text/plain": [
       "  0%|          | 0/487311 [00:00<?, ?it/s]"
      ]
     },
     "metadata": {},
     "output_type": "display_data"
    },
    {
     "name": "stdout",
     "output_type": "stream",
     "text": [
      "ESP_012883_2135/\n",
      "Downloading https://hirise-pds.lpl.arizona.edu/PDS/EXTRAS/RDR/ESP/ORB_012800_012899/ESP_012883_2135/ESP_012883_2135_RGB.NOMAP.browse.jpg to I:\\data\\mars\\ESP_012883_2135_RGB.NOMAP.browse.jpg\n"
     ]
    },
    {
     "data": {
      "application/vnd.jupyter.widget-view+json": {
       "model_id": "a74153c3c41c4db9af7946c482e18b9a",
       "version_major": 2,
       "version_minor": 0
      },
      "text/plain": [
       "  0%|          | 0/2099427 [00:00<?, ?it/s]"
      ]
     },
     "metadata": {},
     "output_type": "display_data"
    },
    {
     "name": "stdout",
     "output_type": "stream",
     "text": [
      "ESP_012884_0935/\n",
      "Downloading https://hirise-pds.lpl.arizona.edu/PDS/EXTRAS/RDR/ESP/ORB_012800_012899/ESP_012884_0935/ESP_012884_0935_RGB.NOMAP.browse.jpg to I:\\data\\mars\\ESP_012884_0935_RGB.NOMAP.browse.jpg\n"
     ]
    },
    {
     "data": {
      "application/vnd.jupyter.widget-view+json": {
       "model_id": "efde3d0a6f614f49a4cd01adc73d136c",
       "version_major": 2,
       "version_minor": 0
      },
      "text/plain": [
       "  0%|          | 0/1933705 [00:00<?, ?it/s]"
      ]
     },
     "metadata": {},
     "output_type": "display_data"
    },
    {
     "name": "stdout",
     "output_type": "stream",
     "text": [
      "ESP_012884_2145/\n",
      "Downloading https://hirise-pds.lpl.arizona.edu/PDS/EXTRAS/RDR/ESP/ORB_012800_012899/ESP_012884_2145/ESP_012884_2145_RGB.NOMAP.browse.jpg to I:\\data\\mars\\ESP_012884_2145_RGB.NOMAP.browse.jpg\n"
     ]
    },
    {
     "data": {
      "application/vnd.jupyter.widget-view+json": {
       "model_id": "c9b899fa727d433bb343830807b177ce",
       "version_major": 2,
       "version_minor": 0
      },
      "text/plain": [
       "  0%|          | 0/1503589 [00:00<?, ?it/s]"
      ]
     },
     "metadata": {},
     "output_type": "display_data"
    },
    {
     "name": "stdout",
     "output_type": "stream",
     "text": [
      "ESP_012886_1475/\n",
      "Downloading https://hirise-pds.lpl.arizona.edu/PDS/EXTRAS/RDR/ESP/ORB_012800_012899/ESP_012886_1475/ESP_012886_1475_RGB.NOMAP.browse.jpg to I:\\data\\mars\\ESP_012886_1475_RGB.NOMAP.browse.jpg\n"
     ]
    },
    {
     "data": {
      "application/vnd.jupyter.widget-view+json": {
       "model_id": "0a65173fdb014aa587a524fdc7556da4",
       "version_major": 2,
       "version_minor": 0
      },
      "text/plain": [
       "  0%|          | 0/795612 [00:00<?, ?it/s]"
      ]
     },
     "metadata": {},
     "output_type": "display_data"
    },
    {
     "name": "stdout",
     "output_type": "stream",
     "text": [
      "ESP_012887_1065/\n",
      "Downloading https://hirise-pds.lpl.arizona.edu/PDS/EXTRAS/RDR/ESP/ORB_012800_012899/ESP_012887_1065/ESP_012887_1065_RGB.NOMAP.browse.jpg to I:\\data\\mars\\ESP_012887_1065_RGB.NOMAP.browse.jpg\n"
     ]
    },
    {
     "data": {
      "application/vnd.jupyter.widget-view+json": {
       "model_id": "7b1f72137dd540e5ad5ee8a2b1d3ea71",
       "version_major": 2,
       "version_minor": 0
      },
      "text/plain": [
       "  0%|          | 0/1323934 [00:00<?, ?it/s]"
      ]
     },
     "metadata": {},
     "output_type": "display_data"
    },
    {
     "name": "stdout",
     "output_type": "stream",
     "text": [
      "ESP_012887_1515/\n",
      "Downloading https://hirise-pds.lpl.arizona.edu/PDS/EXTRAS/RDR/ESP/ORB_012800_012899/ESP_012887_1515/ESP_012887_1515_RGB.NOMAP.browse.jpg to I:\\data\\mars\\ESP_012887_1515_RGB.NOMAP.browse.jpg\n"
     ]
    },
    {
     "data": {
      "application/vnd.jupyter.widget-view+json": {
       "model_id": "141344bf6d4f4cfb89f7a7a48adb8c88",
       "version_major": 2,
       "version_minor": 0
      },
      "text/plain": [
       "  0%|          | 0/2627091 [00:00<?, ?it/s]"
      ]
     },
     "metadata": {},
     "output_type": "display_data"
    },
    {
     "name": "stdout",
     "output_type": "stream",
     "text": [
      "ESP_012888_2045/\n",
      "Downloading https://hirise-pds.lpl.arizona.edu/PDS/EXTRAS/RDR/ESP/ORB_012800_012899/ESP_012888_2045/ESP_012888_2045_RGB.NOMAP.browse.jpg to I:\\data\\mars\\ESP_012888_2045_RGB.NOMAP.browse.jpg\n"
     ]
    },
    {
     "data": {
      "application/vnd.jupyter.widget-view+json": {
       "model_id": "9a377dfc2a924c10a1f4a294c558d492",
       "version_major": 2,
       "version_minor": 0
      },
      "text/plain": [
       "  0%|          | 0/1024566 [00:00<?, ?it/s]"
      ]
     },
     "metadata": {},
     "output_type": "display_data"
    },
    {
     "name": "stdout",
     "output_type": "stream",
     "text": [
      "ESP_012889_0985/\n",
      "Downloading https://hirise-pds.lpl.arizona.edu/PDS/EXTRAS/RDR/ESP/ORB_012800_012899/ESP_012889_0985/ESP_012889_0985_RGB.NOMAP.browse.jpg to I:\\data\\mars\\ESP_012889_0985_RGB.NOMAP.browse.jpg\n"
     ]
    },
    {
     "data": {
      "application/vnd.jupyter.widget-view+json": {
       "model_id": "0db179cc37784d1899c9daf493509526",
       "version_major": 2,
       "version_minor": 0
      },
      "text/plain": [
       "  0%|          | 0/1049341 [00:00<?, ?it/s]"
      ]
     },
     "metadata": {},
     "output_type": "display_data"
    },
    {
     "name": "stdout",
     "output_type": "stream",
     "text": [
      "ESP_012890_1485/\n",
      "Downloading https://hirise-pds.lpl.arizona.edu/PDS/EXTRAS/RDR/ESP/ORB_012800_012899/ESP_012890_1485/ESP_012890_1485_RGB.NOMAP.browse.jpg to I:\\data\\mars\\ESP_012890_1485_RGB.NOMAP.browse.jpg\n"
     ]
    },
    {
     "data": {
      "application/vnd.jupyter.widget-view+json": {
       "model_id": "8f7e6d2550aa46f598575f63d891c745",
       "version_major": 2,
       "version_minor": 0
      },
      "text/plain": [
       "  0%|          | 0/244746 [00:00<?, ?it/s]"
      ]
     },
     "metadata": {},
     "output_type": "display_data"
    },
    {
     "name": "stdout",
     "output_type": "stream",
     "text": [
      "ESP_012891_2065/\n",
      "Downloading https://hirise-pds.lpl.arizona.edu/PDS/EXTRAS/RDR/ESP/ORB_012800_012899/ESP_012891_2065/ESP_012891_2065_RGB.NOMAP.browse.jpg to I:\\data\\mars\\ESP_012891_2065_RGB.NOMAP.browse.jpg\n"
     ]
    },
    {
     "data": {
      "application/vnd.jupyter.widget-view+json": {
       "model_id": "05958c06ea9f4f0e9a7d758a19a2181d",
       "version_major": 2,
       "version_minor": 0
      },
      "text/plain": [
       "  0%|          | 0/1227574 [00:00<?, ?it/s]"
      ]
     },
     "metadata": {},
     "output_type": "display_data"
    },
    {
     "name": "stdout",
     "output_type": "stream",
     "text": [
      "ESP_012892_1365/\n",
      "Downloading https://hirise-pds.lpl.arizona.edu/PDS/EXTRAS/RDR/ESP/ORB_012800_012899/ESP_012892_1365/ESP_012892_1365_RGB.NOMAP.browse.jpg to I:\\data\\mars\\ESP_012892_1365_RGB.NOMAP.browse.jpg\n"
     ]
    },
    {
     "data": {
      "application/vnd.jupyter.widget-view+json": {
       "model_id": "2e9f4a6970a44b1b90adc56a05251038",
       "version_major": 2,
       "version_minor": 0
      },
      "text/plain": [
       "  0%|          | 0/2488711 [00:00<?, ?it/s]"
      ]
     },
     "metadata": {},
     "output_type": "display_data"
    },
    {
     "name": "stdout",
     "output_type": "stream",
     "text": [
      "ESP_012893_1775/\n",
      "Downloading https://hirise-pds.lpl.arizona.edu/PDS/EXTRAS/RDR/ESP/ORB_012800_012899/ESP_012893_1775/ESP_012893_1775_RGB.NOMAP.browse.jpg to I:\\data\\mars\\ESP_012893_1775_RGB.NOMAP.browse.jpg\n"
     ]
    },
    {
     "data": {
      "application/vnd.jupyter.widget-view+json": {
       "model_id": "fd18bf76044a4a65a83eef0d33dcd33e",
       "version_major": 2,
       "version_minor": 0
      },
      "text/plain": [
       "  0%|          | 0/1092678 [00:00<?, ?it/s]"
      ]
     },
     "metadata": {},
     "output_type": "display_data"
    },
    {
     "name": "stdout",
     "output_type": "stream",
     "text": [
      "ESP_012894_1845/\n",
      "Downloading https://hirise-pds.lpl.arizona.edu/PDS/EXTRAS/RDR/ESP/ORB_012800_012899/ESP_012894_1845/ESP_012894_1845_RGB.NOMAP.browse.jpg to I:\\data\\mars\\ESP_012894_1845_RGB.NOMAP.browse.jpg\n"
     ]
    },
    {
     "data": {
      "application/vnd.jupyter.widget-view+json": {
       "model_id": "3ee2de6cf75f453aa3bbbbc3c310f815",
       "version_major": 2,
       "version_minor": 0
      },
      "text/plain": [
       "  0%|          | 0/1494428 [00:00<?, ?it/s]"
      ]
     },
     "metadata": {},
     "output_type": "display_data"
    },
    {
     "name": "stdout",
     "output_type": "stream",
     "text": [
      "ESP_012895_1520/\n",
      "Downloading https://hirise-pds.lpl.arizona.edu/PDS/EXTRAS/RDR/ESP/ORB_012800_012899/ESP_012895_1520/ESP_012895_1520_RGB.NOMAP.browse.jpg to I:\\data\\mars\\ESP_012895_1520_RGB.NOMAP.browse.jpg\n"
     ]
    },
    {
     "data": {
      "application/vnd.jupyter.widget-view+json": {
       "model_id": "7c53af503ba947e1a2e050e83a9bbe12",
       "version_major": 2,
       "version_minor": 0
      },
      "text/plain": [
       "  0%|          | 0/1516348 [00:00<?, ?it/s]"
      ]
     },
     "metadata": {},
     "output_type": "display_data"
    },
    {
     "name": "stdout",
     "output_type": "stream",
     "text": [
      "ESP_012896_1015/\n",
      "Downloading https://hirise-pds.lpl.arizona.edu/PDS/EXTRAS/RDR/ESP/ORB_012800_012899/ESP_012896_1015/ESP_012896_1015_RGB.NOMAP.browse.jpg to I:\\data\\mars\\ESP_012896_1015_RGB.NOMAP.browse.jpg\n"
     ]
    },
    {
     "data": {
      "application/vnd.jupyter.widget-view+json": {
       "model_id": "8884e6f1973c48f09eb5bb897cc6682a",
       "version_major": 2,
       "version_minor": 0
      },
      "text/plain": [
       "  0%|          | 0/887045 [00:00<?, ?it/s]"
      ]
     },
     "metadata": {},
     "output_type": "display_data"
    },
    {
     "name": "stdout",
     "output_type": "stream",
     "text": [
      "ESP_012897_1010/\n",
      "Downloading https://hirise-pds.lpl.arizona.edu/PDS/EXTRAS/RDR/ESP/ORB_012800_012899/ESP_012897_1010/ESP_012897_1010_RGB.NOMAP.browse.jpg to I:\\data\\mars\\ESP_012897_1010_RGB.NOMAP.browse.jpg\n"
     ]
    },
    {
     "data": {
      "application/vnd.jupyter.widget-view+json": {
       "model_id": "d46f8a73c1b04d548df7f36d1d9f1db2",
       "version_major": 2,
       "version_minor": 0
      },
      "text/plain": [
       "  0%|          | 0/2415571 [00:00<?, ?it/s]"
      ]
     },
     "metadata": {},
     "output_type": "display_data"
    },
    {
     "name": "stdout",
     "output_type": "stream",
     "text": [
      "ESP_012897_1685/\n",
      "Downloading https://hirise-pds.lpl.arizona.edu/PDS/EXTRAS/RDR/ESP/ORB_012800_012899/ESP_012897_1685/ESP_012897_1685_RGB.NOMAP.browse.jpg to I:\\data\\mars\\ESP_012897_1685_RGB.NOMAP.browse.jpg\n"
     ]
    },
    {
     "data": {
      "application/vnd.jupyter.widget-view+json": {
       "model_id": "0ddb8178942348528cb044f2f6bd0be9",
       "version_major": 2,
       "version_minor": 0
      },
      "text/plain": [
       "  0%|          | 0/792575 [00:00<?, ?it/s]"
      ]
     },
     "metadata": {},
     "output_type": "display_data"
    },
    {
     "name": "stdout",
     "output_type": "stream",
     "text": [
      "ESP_012898_1955/\n",
      "Downloading https://hirise-pds.lpl.arizona.edu/PDS/EXTRAS/RDR/ESP/ORB_012800_012899/ESP_012898_1955/ESP_012898_1955_RGB.NOMAP.browse.jpg to I:\\data\\mars\\ESP_012898_1955_RGB.NOMAP.browse.jpg\n"
     ]
    },
    {
     "data": {
      "application/vnd.jupyter.widget-view+json": {
       "model_id": "288d9d4946c34cbba863e23d99ff78f4",
       "version_major": 2,
       "version_minor": 0
      },
      "text/plain": [
       "  0%|          | 0/1499395 [00:00<?, ?it/s]"
      ]
     },
     "metadata": {},
     "output_type": "display_data"
    },
    {
     "name": "stdout",
     "output_type": "stream",
     "text": [
      "ESP_012899_1120/\n",
      "Downloading https://hirise-pds.lpl.arizona.edu/PDS/EXTRAS/RDR/ESP/ORB_012800_012899/ESP_012899_1120/ESP_012899_1120_RGB.NOMAP.browse.jpg to I:\\data\\mars\\ESP_012899_1120_RGB.NOMAP.browse.jpg\n"
     ]
    },
    {
     "data": {
      "application/vnd.jupyter.widget-view+json": {
       "model_id": "b7395f5e243c4c4aba978aaed7955b70",
       "version_major": 2,
       "version_minor": 0
      },
      "text/plain": [
       "  0%|          | 0/569222 [00:00<?, ?it/s]"
      ]
     },
     "metadata": {},
     "output_type": "display_data"
    },
    {
     "name": "stdout",
     "output_type": "stream",
     "text": [
      "-------------------------------------------------- ORB_012900_012999/\n",
      "ESP_012900_1315/\n",
      "Downloading https://hirise-pds.lpl.arizona.edu/PDS/EXTRAS/RDR/ESP/ORB_012900_012999/ESP_012900_1315/ESP_012900_1315_RGB.NOMAP.browse.jpg to I:\\data\\mars\\ESP_012900_1315_RGB.NOMAP.browse.jpg\n"
     ]
    },
    {
     "data": {
      "application/vnd.jupyter.widget-view+json": {
       "model_id": "33d7070c1b9548858f0e9dec064c33f0",
       "version_major": 2,
       "version_minor": 0
      },
      "text/plain": [
       "  0%|          | 0/405628 [00:00<?, ?it/s]"
      ]
     },
     "metadata": {},
     "output_type": "display_data"
    },
    {
     "name": "stdout",
     "output_type": "stream",
     "text": [
      "ESP_012901_1215/\n",
      "Downloading https://hirise-pds.lpl.arizona.edu/PDS/EXTRAS/RDR/ESP/ORB_012900_012999/ESP_012901_1215/ESP_012901_1215_RGB.NOMAP.browse.jpg to I:\\data\\mars\\ESP_012901_1215_RGB.NOMAP.browse.jpg\n"
     ]
    },
    {
     "data": {
      "application/vnd.jupyter.widget-view+json": {
       "model_id": "b684834d76df4da6b69f359def2969ed",
       "version_major": 2,
       "version_minor": 0
      },
      "text/plain": [
       "  0%|          | 0/1738608 [00:00<?, ?it/s]"
      ]
     },
     "metadata": {},
     "output_type": "display_data"
    },
    {
     "name": "stdout",
     "output_type": "stream",
     "text": [
      "ESP_012902_1955/\n",
      "Downloading https://hirise-pds.lpl.arizona.edu/PDS/EXTRAS/RDR/ESP/ORB_012900_012999/ESP_012902_1955/ESP_012902_1955_RGB.NOMAP.browse.jpg to I:\\data\\mars\\ESP_012902_1955_RGB.NOMAP.browse.jpg\n"
     ]
    },
    {
     "data": {
      "application/vnd.jupyter.widget-view+json": {
       "model_id": "6f07cf76bf8948e486d6ca36bafb2580",
       "version_major": 2,
       "version_minor": 0
      },
      "text/plain": [
       "  0%|          | 0/1933708 [00:00<?, ?it/s]"
      ]
     },
     "metadata": {},
     "output_type": "display_data"
    },
    {
     "name": "stdout",
     "output_type": "stream",
     "text": [
      "ESP_012903_1850/\n",
      "Downloading https://hirise-pds.lpl.arizona.edu/PDS/EXTRAS/RDR/ESP/ORB_012900_012999/ESP_012903_1850/ESP_012903_1850_RGB.NOMAP.browse.jpg to I:\\data\\mars\\ESP_012903_1850_RGB.NOMAP.browse.jpg\n"
     ]
    },
    {
     "data": {
      "application/vnd.jupyter.widget-view+json": {
       "model_id": "b6a47b69e7014d9f89c4e540568799ec",
       "version_major": 2,
       "version_minor": 0
      },
      "text/plain": [
       "  0%|          | 0/856399 [00:00<?, ?it/s]"
      ]
     },
     "metadata": {},
     "output_type": "display_data"
    },
    {
     "name": "stdout",
     "output_type": "stream",
     "text": [
      "ESP_012904_1360/\n",
      "Downloading https://hirise-pds.lpl.arizona.edu/PDS/EXTRAS/RDR/ESP/ORB_012900_012999/ESP_012904_1360/ESP_012904_1360_RGB.NOMAP.browse.jpg to I:\\data\\mars\\ESP_012904_1360_RGB.NOMAP.browse.jpg\n"
     ]
    },
    {
     "data": {
      "application/vnd.jupyter.widget-view+json": {
       "model_id": "46da9043a1314fa999bd44c1c4254025",
       "version_major": 2,
       "version_minor": 0
      },
      "text/plain": [
       "  0%|          | 0/1148982 [00:00<?, ?it/s]"
      ]
     },
     "metadata": {},
     "output_type": "display_data"
    },
    {
     "name": "stdout",
     "output_type": "stream",
     "text": [
      "ESP_012905_1525/\n",
      "Downloading https://hirise-pds.lpl.arizona.edu/PDS/EXTRAS/RDR/ESP/ORB_012900_012999/ESP_012905_1525/ESP_012905_1525_RGB.NOMAP.browse.jpg to I:\\data\\mars\\ESP_012905_1525_RGB.NOMAP.browse.jpg\n"
     ]
    },
    {
     "data": {
      "application/vnd.jupyter.widget-view+json": {
       "model_id": "dbb033dba77045779c62daa5ae74d962",
       "version_major": 2,
       "version_minor": 0
      },
      "text/plain": [
       "  0%|          | 0/477746 [00:00<?, ?it/s]"
      ]
     },
     "metadata": {},
     "output_type": "display_data"
    },
    {
     "name": "stdout",
     "output_type": "stream",
     "text": [
      "ESP_012906_1080/\n",
      "Downloading https://hirise-pds.lpl.arizona.edu/PDS/EXTRAS/RDR/ESP/ORB_012900_012999/ESP_012906_1080/ESP_012906_1080_RGB.NOMAP.browse.jpg to I:\\data\\mars\\ESP_012906_1080_RGB.NOMAP.browse.jpg\n"
     ]
    },
    {
     "data": {
      "application/vnd.jupyter.widget-view+json": {
       "model_id": "ecfe3afdd80d41dfb7762a8e28df6b95",
       "version_major": 2,
       "version_minor": 0
      },
      "text/plain": [
       "  0%|          | 0/807121 [00:00<?, ?it/s]"
      ]
     },
     "metadata": {},
     "output_type": "display_data"
    },
    {
     "name": "stdout",
     "output_type": "stream",
     "text": [
      "ESP_012907_1745/\n",
      "Downloading https://hirise-pds.lpl.arizona.edu/PDS/EXTRAS/RDR/ESP/ORB_012900_012999/ESP_012907_1745/ESP_012907_1745_RGB.NOMAP.browse.jpg to I:\\data\\mars\\ESP_012907_1745_RGB.NOMAP.browse.jpg\n"
     ]
    },
    {
     "data": {
      "application/vnd.jupyter.widget-view+json": {
       "model_id": "55fabbc8bd864493941cf742bf76e3ff",
       "version_major": 2,
       "version_minor": 0
      },
      "text/plain": [
       "  0%|          | 0/1036911 [00:00<?, ?it/s]"
      ]
     },
     "metadata": {},
     "output_type": "display_data"
    },
    {
     "name": "stdout",
     "output_type": "stream",
     "text": [
      "ESP_012908_1035/\n",
      "Downloading https://hirise-pds.lpl.arizona.edu/PDS/EXTRAS/RDR/ESP/ORB_012900_012999/ESP_012908_1035/ESP_012908_1035_RGB.NOMAP.browse.jpg to I:\\data\\mars\\ESP_012908_1035_RGB.NOMAP.browse.jpg\n"
     ]
    },
    {
     "data": {
      "application/vnd.jupyter.widget-view+json": {
       "model_id": "6ca6c12fa13743fc93d3993da3396a72",
       "version_major": 2,
       "version_minor": 0
      },
      "text/plain": [
       "  0%|          | 0/965158 [00:00<?, ?it/s]"
      ]
     },
     "metadata": {},
     "output_type": "display_data"
    },
    {
     "name": "stdout",
     "output_type": "stream",
     "text": [
      "ESP_012908_1615/\n",
      "Downloading https://hirise-pds.lpl.arizona.edu/PDS/EXTRAS/RDR/ESP/ORB_012900_012999/ESP_012908_1615/ESP_012908_1615_RGB.NOMAP.browse.jpg to I:\\data\\mars\\ESP_012908_1615_RGB.NOMAP.browse.jpg\n"
     ]
    },
    {
     "data": {
      "application/vnd.jupyter.widget-view+json": {
       "model_id": "dcfe7c4d08b64e8cb5e98b9c113dc79b",
       "version_major": 2,
       "version_minor": 0
      },
      "text/plain": [
       "  0%|          | 0/1405574 [00:00<?, ?it/s]"
      ]
     },
     "metadata": {},
     "output_type": "display_data"
    },
    {
     "name": "stdout",
     "output_type": "stream",
     "text": [
      "ESP_012909_1680/\n",
      "Downloading https://hirise-pds.lpl.arizona.edu/PDS/EXTRAS/RDR/ESP/ORB_012900_012999/ESP_012909_1680/ESP_012909_1680_RGB.NOMAP.browse.jpg to I:\\data\\mars\\ESP_012909_1680_RGB.NOMAP.browse.jpg\n"
     ]
    },
    {
     "data": {
      "application/vnd.jupyter.widget-view+json": {
       "model_id": "f2aa76f8d595434aaf0c9c9a63909c27",
       "version_major": 2,
       "version_minor": 0
      },
      "text/plain": [
       "  0%|          | 0/1488035 [00:00<?, ?it/s]"
      ]
     },
     "metadata": {},
     "output_type": "display_data"
    },
    {
     "name": "stdout",
     "output_type": "stream",
     "text": [
      "ESP_012910_1530/\n",
      "Downloading https://hirise-pds.lpl.arizona.edu/PDS/EXTRAS/RDR/ESP/ORB_012900_012999/ESP_012910_1530/ESP_012910_1530_RGB.NOMAP.browse.jpg to I:\\data\\mars\\ESP_012910_1530_RGB.NOMAP.browse.jpg\n"
     ]
    },
    {
     "data": {
      "application/vnd.jupyter.widget-view+json": {
       "model_id": "80ed246cab0b4c14bc3e28ee7643c755",
       "version_major": 2,
       "version_minor": 0
      },
      "text/plain": [
       "  0%|          | 0/1222996 [00:00<?, ?it/s]"
      ]
     },
     "metadata": {},
     "output_type": "display_data"
    },
    {
     "name": "stdout",
     "output_type": "stream",
     "text": [
      "ESP_012910_2025/\n",
      "Downloading https://hirise-pds.lpl.arizona.edu/PDS/EXTRAS/RDR/ESP/ORB_012900_012999/ESP_012910_2025/ESP_012910_2025_RGB.NOMAP.browse.jpg to I:\\data\\mars\\ESP_012910_2025_RGB.NOMAP.browse.jpg\n"
     ]
    },
    {
     "data": {
      "application/vnd.jupyter.widget-view+json": {
       "model_id": "4216b72a294243759a9c07048e62927f",
       "version_major": 2,
       "version_minor": 0
      },
      "text/plain": [
       "  0%|          | 0/907784 [00:00<?, ?it/s]"
      ]
     },
     "metadata": {},
     "output_type": "display_data"
    },
    {
     "name": "stdout",
     "output_type": "stream",
     "text": [
      "ESP_012911_2165/\n",
      "Downloading https://hirise-pds.lpl.arizona.edu/PDS/EXTRAS/RDR/ESP/ORB_012900_012999/ESP_012911_2165/ESP_012911_2165_RGB.NOMAP.browse.jpg to I:\\data\\mars\\ESP_012911_2165_RGB.NOMAP.browse.jpg\n"
     ]
    },
    {
     "data": {
      "application/vnd.jupyter.widget-view+json": {
       "model_id": "b114f9e96b7c4e07babd150ab52c2866",
       "version_major": 2,
       "version_minor": 0
      },
      "text/plain": [
       "  0%|          | 0/582579 [00:00<?, ?it/s]"
      ]
     },
     "metadata": {},
     "output_type": "display_data"
    },
    {
     "name": "stdout",
     "output_type": "stream",
     "text": [
      "ESP_012912_1320/\n",
      "Downloading https://hirise-pds.lpl.arizona.edu/PDS/EXTRAS/RDR/ESP/ORB_012900_012999/ESP_012912_1320/ESP_012912_1320_RGB.NOMAP.browse.jpg to I:\\data\\mars\\ESP_012912_1320_RGB.NOMAP.browse.jpg\n"
     ]
    },
    {
     "data": {
      "application/vnd.jupyter.widget-view+json": {
       "model_id": "d24e41ff5e5845beb686c9debcfef160",
       "version_major": 2,
       "version_minor": 0
      },
      "text/plain": [
       "  0%|          | 0/1384249 [00:00<?, ?it/s]"
      ]
     },
     "metadata": {},
     "output_type": "display_data"
    },
    {
     "name": "stdout",
     "output_type": "stream",
     "text": [
      "ESP_012913_1710/\n",
      "Downloading https://hirise-pds.lpl.arizona.edu/PDS/EXTRAS/RDR/ESP/ORB_012900_012999/ESP_012913_1710/ESP_012913_1710_RGB.NOMAP.browse.jpg to I:\\data\\mars\\ESP_012913_1710_RGB.NOMAP.browse.jpg\n"
     ]
    },
    {
     "data": {
      "application/vnd.jupyter.widget-view+json": {
       "model_id": "ad8ae25977b0410fbc293b540f03b81c",
       "version_major": 2,
       "version_minor": 0
      },
      "text/plain": [
       "  0%|          | 0/869890 [00:00<?, ?it/s]"
      ]
     },
     "metadata": {},
     "output_type": "display_data"
    },
    {
     "name": "stdout",
     "output_type": "stream",
     "text": [
      "ESP_012914_1515/\n",
      "Downloading https://hirise-pds.lpl.arizona.edu/PDS/EXTRAS/RDR/ESP/ORB_012900_012999/ESP_012914_1515/ESP_012914_1515_RGB.NOMAP.browse.jpg to I:\\data\\mars\\ESP_012914_1515_RGB.NOMAP.browse.jpg\n"
     ]
    },
    {
     "data": {
      "application/vnd.jupyter.widget-view+json": {
       "model_id": "c6a40f329bc2401c954a19f9feda15b8",
       "version_major": 2,
       "version_minor": 0
      },
      "text/plain": [
       "  0%|          | 0/947778 [00:00<?, ?it/s]"
      ]
     },
     "metadata": {},
     "output_type": "display_data"
    },
    {
     "name": "stdout",
     "output_type": "stream",
     "text": [
      "ESP_012915_1800/\n",
      "Downloading https://hirise-pds.lpl.arizona.edu/PDS/EXTRAS/RDR/ESP/ORB_012900_012999/ESP_012915_1800/ESP_012915_1800_RGB.NOMAP.browse.jpg to I:\\data\\mars\\ESP_012915_1800_RGB.NOMAP.browse.jpg\n"
     ]
    },
    {
     "data": {
      "application/vnd.jupyter.widget-view+json": {
       "model_id": "a93115e14b3a48da8b808b5212e9af67",
       "version_major": 2,
       "version_minor": 0
      },
      "text/plain": [
       "  0%|          | 0/1681219 [00:00<?, ?it/s]"
      ]
     },
     "metadata": {},
     "output_type": "display_data"
    },
    {
     "name": "stdout",
     "output_type": "stream",
     "text": [
      "ESP_012916_0800/\n",
      "Downloading https://hirise-pds.lpl.arizona.edu/PDS/EXTRAS/RDR/ESP/ORB_012900_012999/ESP_012916_0800/ESP_012916_0800_RGB.NOMAP.browse.jpg to I:\\data\\mars\\ESP_012916_0800_RGB.NOMAP.browse.jpg\n"
     ]
    },
    {
     "data": {
      "application/vnd.jupyter.widget-view+json": {
       "model_id": "ec0e1c65f193413aa0da0edf27e43826",
       "version_major": 2,
       "version_minor": 0
      },
      "text/plain": [
       "  0%|          | 0/2069220 [00:00<?, ?it/s]"
      ]
     },
     "metadata": {},
     "output_type": "display_data"
    },
    {
     "name": "stdout",
     "output_type": "stream",
     "text": [
      "ESP_012917_1365/\n",
      "Downloading https://hirise-pds.lpl.arizona.edu/PDS/EXTRAS/RDR/ESP/ORB_012900_012999/ESP_012917_1365/ESP_012917_1365_RGB.NOMAP.browse.jpg to I:\\data\\mars\\ESP_012917_1365_RGB.NOMAP.browse.jpg\n"
     ]
    },
    {
     "data": {
      "application/vnd.jupyter.widget-view+json": {
       "model_id": "3e2516f025e94fc8aae94f68d622f868",
       "version_major": 2,
       "version_minor": 0
      },
      "text/plain": [
       "  0%|          | 0/856849 [00:00<?, ?it/s]"
      ]
     },
     "metadata": {},
     "output_type": "display_data"
    },
    {
     "name": "stdout",
     "output_type": "stream",
     "text": [
      "ESP_012918_1450/\n",
      "Downloading https://hirise-pds.lpl.arizona.edu/PDS/EXTRAS/RDR/ESP/ORB_012900_012999/ESP_012918_1450/ESP_012918_1450_RGB.NOMAP.browse.jpg to I:\\data\\mars\\ESP_012918_1450_RGB.NOMAP.browse.jpg\n"
     ]
    },
    {
     "data": {
      "application/vnd.jupyter.widget-view+json": {
       "model_id": "5d42c5513d53482f84dda8a0b52de4f5",
       "version_major": 2,
       "version_minor": 0
      },
      "text/plain": [
       "  0%|          | 0/925891 [00:00<?, ?it/s]"
      ]
     },
     "metadata": {},
     "output_type": "display_data"
    },
    {
     "name": "stdout",
     "output_type": "stream",
     "text": [
      "ESP_012919_1860/\n",
      "Downloading https://hirise-pds.lpl.arizona.edu/PDS/EXTRAS/RDR/ESP/ORB_012900_012999/ESP_012919_1860/ESP_012919_1860_RGB.NOMAP.browse.jpg to I:\\data\\mars\\ESP_012919_1860_RGB.NOMAP.browse.jpg\n"
     ]
    },
    {
     "data": {
      "application/vnd.jupyter.widget-view+json": {
       "model_id": "4a0feb696ccf407e86b262c1b0900665",
       "version_major": 2,
       "version_minor": 0
      },
      "text/plain": [
       "  0%|          | 0/1833718 [00:00<?, ?it/s]"
      ]
     },
     "metadata": {},
     "output_type": "display_data"
    },
    {
     "name": "stdout",
     "output_type": "stream",
     "text": [
      "ESP_012920_1105/\n",
      "Downloading https://hirise-pds.lpl.arizona.edu/PDS/EXTRAS/RDR/ESP/ORB_012900_012999/ESP_012920_1105/ESP_012920_1105_RGB.NOMAP.browse.jpg to I:\\data\\mars\\ESP_012920_1105_RGB.NOMAP.browse.jpg\n"
     ]
    },
    {
     "data": {
      "application/vnd.jupyter.widget-view+json": {
       "model_id": "eb5361b873134186b757723e0926bf40",
       "version_major": 2,
       "version_minor": 0
      },
      "text/plain": [
       "  0%|          | 0/2383068 [00:00<?, ?it/s]"
      ]
     },
     "metadata": {},
     "output_type": "display_data"
    },
    {
     "name": "stdout",
     "output_type": "stream",
     "text": [
      "ESP_012921_1245/\n",
      "Downloading https://hirise-pds.lpl.arizona.edu/PDS/EXTRAS/RDR/ESP/ORB_012900_012999/ESP_012921_1245/ESP_012921_1245_RGB.NOMAP.browse.jpg to I:\\data\\mars\\ESP_012921_1245_RGB.NOMAP.browse.jpg\n"
     ]
    },
    {
     "data": {
      "application/vnd.jupyter.widget-view+json": {
       "model_id": "5d898efc6eba4bd1997927db5f11938d",
       "version_major": 2,
       "version_minor": 0
      },
      "text/plain": [
       "  0%|          | 0/1275215 [00:00<?, ?it/s]"
      ]
     },
     "metadata": {},
     "output_type": "display_data"
    },
    {
     "name": "stdout",
     "output_type": "stream",
     "text": [
      "ESP_012922_1435/\n",
      "Downloading https://hirise-pds.lpl.arizona.edu/PDS/EXTRAS/RDR/ESP/ORB_012900_012999/ESP_012922_1435/ESP_012922_1435_RGB.NOMAP.browse.jpg to I:\\data\\mars\\ESP_012922_1435_RGB.NOMAP.browse.jpg\n"
     ]
    },
    {
     "data": {
      "application/vnd.jupyter.widget-view+json": {
       "model_id": "33df1bbf4627403b970d557bae2686d2",
       "version_major": 2,
       "version_minor": 0
      },
      "text/plain": [
       "  0%|          | 0/2677532 [00:00<?, ?it/s]"
      ]
     },
     "metadata": {},
     "output_type": "display_data"
    },
    {
     "name": "stdout",
     "output_type": "stream",
     "text": [
      "ESP_012923_1540/\n",
      "Downloading https://hirise-pds.lpl.arizona.edu/PDS/EXTRAS/RDR/ESP/ORB_012900_012999/ESP_012923_1540/ESP_012923_1540_RGB.NOMAP.browse.jpg to I:\\data\\mars\\ESP_012923_1540_RGB.NOMAP.browse.jpg\n"
     ]
    },
    {
     "data": {
      "application/vnd.jupyter.widget-view+json": {
       "model_id": "72edb08eeb0e4ed8939b7658373661c5",
       "version_major": 2,
       "version_minor": 0
      },
      "text/plain": [
       "  0%|          | 0/979863 [00:00<?, ?it/s]"
      ]
     },
     "metadata": {},
     "output_type": "display_data"
    },
    {
     "name": "stdout",
     "output_type": "stream",
     "text": [
      "ESP_012924_1130/\n",
      "Downloading https://hirise-pds.lpl.arizona.edu/PDS/EXTRAS/RDR/ESP/ORB_012900_012999/ESP_012924_1130/ESP_012924_1130_RGB.NOMAP.browse.jpg to I:\\data\\mars\\ESP_012924_1130_RGB.NOMAP.browse.jpg\n"
     ]
    },
    {
     "data": {
      "application/vnd.jupyter.widget-view+json": {
       "model_id": "0349beafe4a1475097f5808923dad205",
       "version_major": 2,
       "version_minor": 0
      },
      "text/plain": [
       "  0%|          | 0/1531685 [00:00<?, ?it/s]"
      ]
     },
     "metadata": {},
     "output_type": "display_data"
    },
    {
     "name": "stdout",
     "output_type": "stream",
     "text": [
      "ESP_012925_1220/\n",
      "Downloading https://hirise-pds.lpl.arizona.edu/PDS/EXTRAS/RDR/ESP/ORB_012900_012999/ESP_012925_1220/ESP_012925_1220_RGB.NOMAP.browse.jpg to I:\\data\\mars\\ESP_012925_1220_RGB.NOMAP.browse.jpg\n"
     ]
    },
    {
     "data": {
      "application/vnd.jupyter.widget-view+json": {
       "model_id": "e8e4454d400241648a7fa38e054ecf25",
       "version_major": 2,
       "version_minor": 0
      },
      "text/plain": [
       "  0%|          | 0/1319816 [00:00<?, ?it/s]"
      ]
     },
     "metadata": {},
     "output_type": "display_data"
    },
    {
     "name": "stdout",
     "output_type": "stream",
     "text": [
      "ESP_012926_1365/\n",
      "Downloading https://hirise-pds.lpl.arizona.edu/PDS/EXTRAS/RDR/ESP/ORB_012900_012999/ESP_012926_1365/ESP_012926_1365_RGB.NOMAP.browse.jpg to I:\\data\\mars\\ESP_012926_1365_RGB.NOMAP.browse.jpg\n"
     ]
    },
    {
     "data": {
      "application/vnd.jupyter.widget-view+json": {
       "model_id": "d2c79ef36f6d49a3b447f88d9582284f",
       "version_major": 2,
       "version_minor": 0
      },
      "text/plain": [
       "  0%|          | 0/2142191 [00:00<?, ?it/s]"
      ]
     },
     "metadata": {},
     "output_type": "display_data"
    },
    {
     "name": "stdout",
     "output_type": "stream",
     "text": [
      "ESP_012927_1245/\n",
      "Downloading https://hirise-pds.lpl.arizona.edu/PDS/EXTRAS/RDR/ESP/ORB_012900_012999/ESP_012927_1245/ESP_012927_1245_RGB.NOMAP.browse.jpg to I:\\data\\mars\\ESP_012927_1245_RGB.NOMAP.browse.jpg\n"
     ]
    },
    {
     "data": {
      "application/vnd.jupyter.widget-view+json": {
       "model_id": "88865fa019fa4521a57092946b0ebe2c",
       "version_major": 2,
       "version_minor": 0
      },
      "text/plain": [
       "  0%|          | 0/1146507 [00:00<?, ?it/s]"
      ]
     },
     "metadata": {},
     "output_type": "display_data"
    },
    {
     "name": "stdout",
     "output_type": "stream",
     "text": [
      "ESP_012928_1710/\n",
      "Downloading https://hirise-pds.lpl.arizona.edu/PDS/EXTRAS/RDR/ESP/ORB_012900_012999/ESP_012928_1710/ESP_012928_1710_RGB.NOMAP.browse.jpg to I:\\data\\mars\\ESP_012928_1710_RGB.NOMAP.browse.jpg\n"
     ]
    },
    {
     "data": {
      "application/vnd.jupyter.widget-view+json": {
       "model_id": "365eb2eb8773472794e710edfdeb57c6",
       "version_major": 2,
       "version_minor": 0
      },
      "text/plain": [
       "  0%|          | 0/1280791 [00:00<?, ?it/s]"
      ]
     },
     "metadata": {},
     "output_type": "display_data"
    },
    {
     "name": "stdout",
     "output_type": "stream",
     "text": [
      "ESP_012929_1910/\n",
      "Downloading https://hirise-pds.lpl.arizona.edu/PDS/EXTRAS/RDR/ESP/ORB_012900_012999/ESP_012929_1910/ESP_012929_1910_RGB.NOMAP.browse.jpg to I:\\data\\mars\\ESP_012929_1910_RGB.NOMAP.browse.jpg\n"
     ]
    },
    {
     "data": {
      "application/vnd.jupyter.widget-view+json": {
       "model_id": "93369526327549029c6843b2a1e7c786",
       "version_major": 2,
       "version_minor": 0
      },
      "text/plain": [
       "  0%|          | 0/831243 [00:00<?, ?it/s]"
      ]
     },
     "metadata": {},
     "output_type": "display_data"
    },
    {
     "name": "stdout",
     "output_type": "stream",
     "text": [
      "ESP_012930_1985/\n",
      "Downloading https://hirise-pds.lpl.arizona.edu/PDS/EXTRAS/RDR/ESP/ORB_012900_012999/ESP_012930_1985/ESP_012930_1985_RGB.NOMAP.browse.jpg to I:\\data\\mars\\ESP_012930_1985_RGB.NOMAP.browse.jpg\n"
     ]
    },
    {
     "data": {
      "application/vnd.jupyter.widget-view+json": {
       "model_id": "b461bdba30634bab979c970f9c2409cc",
       "version_major": 2,
       "version_minor": 0
      },
      "text/plain": [
       "  0%|          | 0/654331 [00:00<?, ?it/s]"
      ]
     },
     "metadata": {},
     "output_type": "display_data"
    },
    {
     "name": "stdout",
     "output_type": "stream",
     "text": [
      "ESP_012931_1685/\n",
      "Downloading https://hirise-pds.lpl.arizona.edu/PDS/EXTRAS/RDR/ESP/ORB_012900_012999/ESP_012931_1685/ESP_012931_1685_RGB.NOMAP.browse.jpg to I:\\data\\mars\\ESP_012931_1685_RGB.NOMAP.browse.jpg\n"
     ]
    },
    {
     "data": {
      "application/vnd.jupyter.widget-view+json": {
       "model_id": "8115f1791aed42178719978b3238439d",
       "version_major": 2,
       "version_minor": 0
      },
      "text/plain": [
       "  0%|          | 0/806404 [00:00<?, ?it/s]"
      ]
     },
     "metadata": {},
     "output_type": "display_data"
    },
    {
     "name": "stdout",
     "output_type": "stream",
     "text": [
      "ESP_012932_1650/\n",
      "Downloading https://hirise-pds.lpl.arizona.edu/PDS/EXTRAS/RDR/ESP/ORB_012900_012999/ESP_012932_1650/ESP_012932_1650_RGB.NOMAP.browse.jpg to I:\\data\\mars\\ESP_012932_1650_RGB.NOMAP.browse.jpg\n"
     ]
    },
    {
     "data": {
      "application/vnd.jupyter.widget-view+json": {
       "model_id": "5920357866f54d0883d068c258170e18",
       "version_major": 2,
       "version_minor": 0
      },
      "text/plain": [
       "  0%|          | 0/581614 [00:00<?, ?it/s]"
      ]
     },
     "metadata": {},
     "output_type": "display_data"
    },
    {
     "name": "stdout",
     "output_type": "stream",
     "text": [
      "ESP_012933_1405/\n",
      "Downloading https://hirise-pds.lpl.arizona.edu/PDS/EXTRAS/RDR/ESP/ORB_012900_012999/ESP_012933_1405/ESP_012933_1405_RGB.NOMAP.browse.jpg to I:\\data\\mars\\ESP_012933_1405_RGB.NOMAP.browse.jpg\n"
     ]
    },
    {
     "data": {
      "application/vnd.jupyter.widget-view+json": {
       "model_id": "4dedb3e823c3401ab2d468265c786380",
       "version_major": 2,
       "version_minor": 0
      },
      "text/plain": [
       "  0%|          | 0/472351 [00:00<?, ?it/s]"
      ]
     },
     "metadata": {},
     "output_type": "display_data"
    },
    {
     "name": "stdout",
     "output_type": "stream",
     "text": [
      "ESP_012934_1070/\n",
      "\tfailed to find filename\n",
      "ESP_012935_1415/\n",
      "Downloading https://hirise-pds.lpl.arizona.edu/PDS/EXTRAS/RDR/ESP/ORB_012900_012999/ESP_012935_1415/ESP_012935_1415_RGB.NOMAP.browse.jpg to I:\\data\\mars\\ESP_012935_1415_RGB.NOMAP.browse.jpg\n"
     ]
    },
    {
     "data": {
      "application/vnd.jupyter.widget-view+json": {
       "model_id": "262e17d17aaa417da5e7553ebf25d8c9",
       "version_major": 2,
       "version_minor": 0
      },
      "text/plain": [
       "  0%|          | 0/535380 [00:00<?, ?it/s]"
      ]
     },
     "metadata": {},
     "output_type": "display_data"
    },
    {
     "name": "stdout",
     "output_type": "stream",
     "text": [
      "ESP_012936_1855/\n",
      "Downloading https://hirise-pds.lpl.arizona.edu/PDS/EXTRAS/RDR/ESP/ORB_012900_012999/ESP_012936_1855/ESP_012936_1855_RGB.NOMAP.browse.jpg to I:\\data\\mars\\ESP_012936_1855_RGB.NOMAP.browse.jpg\n"
     ]
    },
    {
     "data": {
      "application/vnd.jupyter.widget-view+json": {
       "model_id": "4f0c0c94e8034c5a895ac48fe42ca70c",
       "version_major": 2,
       "version_minor": 0
      },
      "text/plain": [
       "  0%|          | 0/718703 [00:00<?, ?it/s]"
      ]
     },
     "metadata": {},
     "output_type": "display_data"
    },
    {
     "name": "stdout",
     "output_type": "stream",
     "text": [
      "ESP_012937_2070/\n",
      "Downloading https://hirise-pds.lpl.arizona.edu/PDS/EXTRAS/RDR/ESP/ORB_012900_012999/ESP_012937_2070/ESP_012937_2070_RGB.NOMAP.browse.jpg to I:\\data\\mars\\ESP_012937_2070_RGB.NOMAP.browse.jpg\n"
     ]
    },
    {
     "data": {
      "application/vnd.jupyter.widget-view+json": {
       "model_id": "4c6fadcfe63849d7ba3a3008a7a1c492",
       "version_major": 2,
       "version_minor": 0
      },
      "text/plain": [
       "  0%|          | 0/1028646 [00:00<?, ?it/s]"
      ]
     },
     "metadata": {},
     "output_type": "display_data"
    },
    {
     "name": "stdout",
     "output_type": "stream",
     "text": [
      "ESP_012938_1560/\n",
      "Downloading https://hirise-pds.lpl.arizona.edu/PDS/EXTRAS/RDR/ESP/ORB_012900_012999/ESP_012938_1560/ESP_012938_1560_RGB.NOMAP.browse.jpg to I:\\data\\mars\\ESP_012938_1560_RGB.NOMAP.browse.jpg\n"
     ]
    },
    {
     "data": {
      "application/vnd.jupyter.widget-view+json": {
       "model_id": "77fb67e34d2b4973aab4e16a93988a9e",
       "version_major": 2,
       "version_minor": 0
      },
      "text/plain": [
       "  0%|          | 0/574160 [00:00<?, ?it/s]"
      ]
     },
     "metadata": {},
     "output_type": "display_data"
    },
    {
     "name": "stdout",
     "output_type": "stream",
     "text": [
      "ESP_012939_0980/\n",
      "Downloading https://hirise-pds.lpl.arizona.edu/PDS/EXTRAS/RDR/ESP/ORB_012900_012999/ESP_012939_0980/ESP_012939_0980_RGB.NOMAP.browse.jpg to I:\\data\\mars\\ESP_012939_0980_RGB.NOMAP.browse.jpg\n"
     ]
    },
    {
     "data": {
      "application/vnd.jupyter.widget-view+json": {
       "model_id": "58c1098f9c054f26aabf1e2b11caf1a0",
       "version_major": 2,
       "version_minor": 0
      },
      "text/plain": [
       "  0%|          | 0/1949490 [00:00<?, ?it/s]"
      ]
     },
     "metadata": {},
     "output_type": "display_data"
    },
    {
     "name": "stdout",
     "output_type": "stream",
     "text": [
      "ESP_012939_1875/\n",
      "Downloading https://hirise-pds.lpl.arizona.edu/PDS/EXTRAS/RDR/ESP/ORB_012900_012999/ESP_012939_1875/ESP_012939_1875_RGB.NOMAP.browse.jpg to I:\\data\\mars\\ESP_012939_1875_RGB.NOMAP.browse.jpg\n"
     ]
    },
    {
     "data": {
      "application/vnd.jupyter.widget-view+json": {
       "model_id": "1f8ea5dc8a7d4e0c93405f7884cab476",
       "version_major": 2,
       "version_minor": 0
      },
      "text/plain": [
       "  0%|          | 0/2293894 [00:00<?, ?it/s]"
      ]
     },
     "metadata": {},
     "output_type": "display_data"
    },
    {
     "name": "stdout",
     "output_type": "stream",
     "text": [
      "ESP_012940_1655/\n",
      "Downloading https://hirise-pds.lpl.arizona.edu/PDS/EXTRAS/RDR/ESP/ORB_012900_012999/ESP_012940_1655/ESP_012940_1655_RGB.NOMAP.browse.jpg to I:\\data\\mars\\ESP_012940_1655_RGB.NOMAP.browse.jpg\n"
     ]
    },
    {
     "data": {
      "application/vnd.jupyter.widget-view+json": {
       "model_id": "80cafe0267b647c29bfb4eecaea93b0d",
       "version_major": 2,
       "version_minor": 0
      },
      "text/plain": [
       "  0%|          | 0/1354076 [00:00<?, ?it/s]"
      ]
     },
     "metadata": {},
     "output_type": "display_data"
    },
    {
     "name": "stdout",
     "output_type": "stream",
     "text": [
      "ESP_012941_0930/\n",
      "Downloading https://hirise-pds.lpl.arizona.edu/PDS/EXTRAS/RDR/ESP/ORB_012900_012999/ESP_012941_0930/ESP_012941_0930_RGB.NOMAP.browse.jpg to I:\\data\\mars\\ESP_012941_0930_RGB.NOMAP.browse.jpg\n"
     ]
    },
    {
     "data": {
      "application/vnd.jupyter.widget-view+json": {
       "model_id": "c36bfa1b7bc84075a401bd2eac82d06a",
       "version_major": 2,
       "version_minor": 0
      },
      "text/plain": [
       "  0%|          | 0/395606 [00:00<?, ?it/s]"
      ]
     },
     "metadata": {},
     "output_type": "display_data"
    },
    {
     "name": "stdout",
     "output_type": "stream",
     "text": [
      "ESP_012942_1680/\n",
      "Downloading https://hirise-pds.lpl.arizona.edu/PDS/EXTRAS/RDR/ESP/ORB_012900_012999/ESP_012942_1680/ESP_012942_1680_RGB.NOMAP.browse.jpg to I:\\data\\mars\\ESP_012942_1680_RGB.NOMAP.browse.jpg\n"
     ]
    },
    {
     "data": {
      "application/vnd.jupyter.widget-view+json": {
       "model_id": "629f1c4685554f7ea9de3f7a96e12f5f",
       "version_major": 2,
       "version_minor": 0
      },
      "text/plain": [
       "  0%|          | 0/496770 [00:00<?, ?it/s]"
      ]
     },
     "metadata": {},
     "output_type": "display_data"
    },
    {
     "name": "stdout",
     "output_type": "stream",
     "text": [
      "ESP_012942_2075/\n",
      "Downloading https://hirise-pds.lpl.arizona.edu/PDS/EXTRAS/RDR/ESP/ORB_012900_012999/ESP_012942_2075/ESP_012942_2075_RGB.NOMAP.browse.jpg to I:\\data\\mars\\ESP_012942_2075_RGB.NOMAP.browse.jpg\n"
     ]
    },
    {
     "data": {
      "application/vnd.jupyter.widget-view+json": {
       "model_id": "e8781ded0ae24214b810863b834b7598",
       "version_major": 2,
       "version_minor": 0
      },
      "text/plain": [
       "  0%|          | 0/709305 [00:00<?, ?it/s]"
      ]
     },
     "metadata": {},
     "output_type": "display_data"
    },
    {
     "name": "stdout",
     "output_type": "stream",
     "text": [
      "ESP_012943_1825/\n",
      "Downloading https://hirise-pds.lpl.arizona.edu/PDS/EXTRAS/RDR/ESP/ORB_012900_012999/ESP_012943_1825/ESP_012943_1825_RGB.NOMAP.browse.jpg to I:\\data\\mars\\ESP_012943_1825_RGB.NOMAP.browse.jpg\n"
     ]
    },
    {
     "data": {
      "application/vnd.jupyter.widget-view+json": {
       "model_id": "7f2c934a482a4242a725cc3b6448a4b3",
       "version_major": 2,
       "version_minor": 0
      },
      "text/plain": [
       "  0%|          | 0/623006 [00:00<?, ?it/s]"
      ]
     },
     "metadata": {},
     "output_type": "display_data"
    },
    {
     "name": "stdout",
     "output_type": "stream",
     "text": [
      "ESP_012944_1985/\n",
      "Downloading https://hirise-pds.lpl.arizona.edu/PDS/EXTRAS/RDR/ESP/ORB_012900_012999/ESP_012944_1985/ESP_012944_1985_RGB.NOMAP.browse.jpg to I:\\data\\mars\\ESP_012944_1985_RGB.NOMAP.browse.jpg\n"
     ]
    },
    {
     "data": {
      "application/vnd.jupyter.widget-view+json": {
       "model_id": "d4fea73843c44455bd2b55e250eaeb03",
       "version_major": 2,
       "version_minor": 0
      },
      "text/plain": [
       "  0%|          | 0/1262233 [00:00<?, ?it/s]"
      ]
     },
     "metadata": {},
     "output_type": "display_data"
    },
    {
     "name": "stdout",
     "output_type": "stream",
     "text": [
      "ESP_012945_1450/\n",
      "Downloading https://hirise-pds.lpl.arizona.edu/PDS/EXTRAS/RDR/ESP/ORB_012900_012999/ESP_012945_1450/ESP_012945_1450_RGB.NOMAP.browse.jpg to I:\\data\\mars\\ESP_012945_1450_RGB.NOMAP.browse.jpg\n"
     ]
    },
    {
     "data": {
      "application/vnd.jupyter.widget-view+json": {
       "model_id": "4df0e4fb2cf744fcb2c930fe66844e76",
       "version_major": 2,
       "version_minor": 0
      },
      "text/plain": [
       "  0%|          | 0/785975 [00:00<?, ?it/s]"
      ]
     },
     "metadata": {},
     "output_type": "display_data"
    },
    {
     "name": "stdout",
     "output_type": "stream",
     "text": [
      "ESP_012946_2165/\n",
      "Downloading https://hirise-pds.lpl.arizona.edu/PDS/EXTRAS/RDR/ESP/ORB_012900_012999/ESP_012946_2165/ESP_012946_2165_RGB.NOMAP.browse.jpg to I:\\data\\mars\\ESP_012946_2165_RGB.NOMAP.browse.jpg\n"
     ]
    },
    {
     "data": {
      "application/vnd.jupyter.widget-view+json": {
       "model_id": "bf6611e887b64ff0b6fb1cb854bc0130",
       "version_major": 2,
       "version_minor": 0
      },
      "text/plain": [
       "  0%|          | 0/1078157 [00:00<?, ?it/s]"
      ]
     },
     "metadata": {},
     "output_type": "display_data"
    },
    {
     "name": "stdout",
     "output_type": "stream",
     "text": [
      "ESP_012947_1275/\n",
      "Downloading https://hirise-pds.lpl.arizona.edu/PDS/EXTRAS/RDR/ESP/ORB_012900_012999/ESP_012947_1275/ESP_012947_1275_RGB.NOMAP.browse.jpg to I:\\data\\mars\\ESP_012947_1275_RGB.NOMAP.browse.jpg\n"
     ]
    },
    {
     "data": {
      "application/vnd.jupyter.widget-view+json": {
       "model_id": "6143c3d3372a4a6c8d91f4a5785f5032",
       "version_major": 2,
       "version_minor": 0
      },
      "text/plain": [
       "  0%|          | 0/439426 [00:00<?, ?it/s]"
      ]
     },
     "metadata": {},
     "output_type": "display_data"
    },
    {
     "name": "stdout",
     "output_type": "stream",
     "text": [
      "ESP_012947_1735/\n",
      "Downloading https://hirise-pds.lpl.arizona.edu/PDS/EXTRAS/RDR/ESP/ORB_012900_012999/ESP_012947_1735/ESP_012947_1735_RGB.NOMAP.browse.jpg to I:\\data\\mars\\ESP_012947_1735_RGB.NOMAP.browse.jpg\n"
     ]
    },
    {
     "data": {
      "application/vnd.jupyter.widget-view+json": {
       "model_id": "5ba41ccad33e4eee81e3929b045a2cb3",
       "version_major": 2,
       "version_minor": 0
      },
      "text/plain": [
       "  0%|          | 0/552565 [00:00<?, ?it/s]"
      ]
     },
     "metadata": {},
     "output_type": "display_data"
    },
    {
     "name": "stdout",
     "output_type": "stream",
     "text": [
      "ESP_012948_1185/\n",
      "Downloading https://hirise-pds.lpl.arizona.edu/PDS/EXTRAS/RDR/ESP/ORB_012900_012999/ESP_012948_1185/ESP_012948_1185_RGB.NOMAP.browse.jpg to I:\\data\\mars\\ESP_012948_1185_RGB.NOMAP.browse.jpg\n"
     ]
    },
    {
     "data": {
      "application/vnd.jupyter.widget-view+json": {
       "model_id": "803e6debc6d74683862e091956e8ecd4",
       "version_major": 2,
       "version_minor": 0
      },
      "text/plain": [
       "  0%|          | 0/1993166 [00:00<?, ?it/s]"
      ]
     },
     "metadata": {},
     "output_type": "display_data"
    },
    {
     "name": "stdout",
     "output_type": "stream",
     "text": [
      "ESP_012949_1580/\n",
      "Downloading https://hirise-pds.lpl.arizona.edu/PDS/EXTRAS/RDR/ESP/ORB_012900_012999/ESP_012949_1580/ESP_012949_1580_RGB.NOMAP.browse.jpg to I:\\data\\mars\\ESP_012949_1580_RGB.NOMAP.browse.jpg\n"
     ]
    },
    {
     "data": {
      "application/vnd.jupyter.widget-view+json": {
       "model_id": "330a05be73cc4f56bfe93bdd69d7b640",
       "version_major": 2,
       "version_minor": 0
      },
      "text/plain": [
       "  0%|          | 0/385450 [00:00<?, ?it/s]"
      ]
     },
     "metadata": {},
     "output_type": "display_data"
    },
    {
     "name": "stdout",
     "output_type": "stream",
     "text": [
      "ESP_012949_2030/\n",
      "Downloading https://hirise-pds.lpl.arizona.edu/PDS/EXTRAS/RDR/ESP/ORB_012900_012999/ESP_012949_2030/ESP_012949_2030_RGB.NOMAP.browse.jpg to I:\\data\\mars\\ESP_012949_2030_RGB.NOMAP.browse.jpg\n"
     ]
    },
    {
     "data": {
      "application/vnd.jupyter.widget-view+json": {
       "model_id": "1659faeba1d24fe4b14128a1c0100d1b",
       "version_major": 2,
       "version_minor": 0
      },
      "text/plain": [
       "  0%|          | 0/1060525 [00:00<?, ?it/s]"
      ]
     },
     "metadata": {},
     "output_type": "display_data"
    },
    {
     "name": "stdout",
     "output_type": "stream",
     "text": [
      "ESP_012950_1515/\n",
      "Downloading https://hirise-pds.lpl.arizona.edu/PDS/EXTRAS/RDR/ESP/ORB_012900_012999/ESP_012950_1515/ESP_012950_1515_RGB.NOMAP.browse.jpg to I:\\data\\mars\\ESP_012950_1515_RGB.NOMAP.browse.jpg\n"
     ]
    },
    {
     "data": {
      "application/vnd.jupyter.widget-view+json": {
       "model_id": "6f3f676872fd484e8db1860f39b3ef87",
       "version_major": 2,
       "version_minor": 0
      },
      "text/plain": [
       "  0%|          | 0/1164043 [00:00<?, ?it/s]"
      ]
     },
     "metadata": {},
     "output_type": "display_data"
    },
    {
     "name": "stdout",
     "output_type": "stream",
     "text": [
      "ESP_012951_1120/\n",
      "Downloading https://hirise-pds.lpl.arizona.edu/PDS/EXTRAS/RDR/ESP/ORB_012900_012999/ESP_012951_1120/ESP_012951_1120_RGB.NOMAP.browse.jpg to I:\\data\\mars\\ESP_012951_1120_RGB.NOMAP.browse.jpg\n"
     ]
    },
    {
     "data": {
      "application/vnd.jupyter.widget-view+json": {
       "model_id": "5f482699c0e449589e6fa4258004cc31",
       "version_major": 2,
       "version_minor": 0
      },
      "text/plain": [
       "  0%|          | 0/2360060 [00:00<?, ?it/s]"
      ]
     },
     "metadata": {},
     "output_type": "display_data"
    },
    {
     "name": "stdout",
     "output_type": "stream",
     "text": [
      "ESP_012952_1505/\n",
      "Downloading https://hirise-pds.lpl.arizona.edu/PDS/EXTRAS/RDR/ESP/ORB_012900_012999/ESP_012952_1505/ESP_012952_1505_RGB.NOMAP.browse.jpg to I:\\data\\mars\\ESP_012952_1505_RGB.NOMAP.browse.jpg\n"
     ]
    },
    {
     "data": {
      "application/vnd.jupyter.widget-view+json": {
       "model_id": "cfe75f8e4ca641aaa0d8a28bafd6ace1",
       "version_major": 2,
       "version_minor": 0
      },
      "text/plain": [
       "  0%|          | 0/1423836 [00:00<?, ?it/s]"
      ]
     },
     "metadata": {},
     "output_type": "display_data"
    },
    {
     "name": "stdout",
     "output_type": "stream",
     "text": [
      "ESP_012952_2085/\n",
      "Downloading https://hirise-pds.lpl.arizona.edu/PDS/EXTRAS/RDR/ESP/ORB_012900_012999/ESP_012952_2085/ESP_012952_2085_RGB.NOMAP.browse.jpg to I:\\data\\mars\\ESP_012952_2085_RGB.NOMAP.browse.jpg\n"
     ]
    },
    {
     "data": {
      "application/vnd.jupyter.widget-view+json": {
       "model_id": "56da558695dd4ee9aa989c4291e5fe08",
       "version_major": 2,
       "version_minor": 0
      },
      "text/plain": [
       "  0%|          | 0/700801 [00:00<?, ?it/s]"
      ]
     },
     "metadata": {},
     "output_type": "display_data"
    },
    {
     "name": "stdout",
     "output_type": "stream",
     "text": [
      "ESP_012953_1050/\n",
      "Downloading https://hirise-pds.lpl.arizona.edu/PDS/EXTRAS/RDR/ESP/ORB_012900_012999/ESP_012953_1050/ESP_012953_1050_RGB.NOMAP.browse.jpg to I:\\data\\mars\\ESP_012953_1050_RGB.NOMAP.browse.jpg\n"
     ]
    },
    {
     "data": {
      "application/vnd.jupyter.widget-view+json": {
       "model_id": "1427efb2dc204729b214b895e85a9d62",
       "version_major": 2,
       "version_minor": 0
      },
      "text/plain": [
       "  0%|          | 0/529559 [00:00<?, ?it/s]"
      ]
     },
     "metadata": {},
     "output_type": "display_data"
    },
    {
     "name": "stdout",
     "output_type": "stream",
     "text": [
      "ESP_012953_1525/\n",
      "Downloading https://hirise-pds.lpl.arizona.edu/PDS/EXTRAS/RDR/ESP/ORB_012900_012999/ESP_012953_1525/ESP_012953_1525_RGB.NOMAP.browse.jpg to I:\\data\\mars\\ESP_012953_1525_RGB.NOMAP.browse.jpg\n"
     ]
    },
    {
     "data": {
      "application/vnd.jupyter.widget-view+json": {
       "model_id": "f9eea402b49f49e18388495bb7c2c5aa",
       "version_major": 2,
       "version_minor": 0
      },
      "text/plain": [
       "  0%|          | 0/514243 [00:00<?, ?it/s]"
      ]
     },
     "metadata": {},
     "output_type": "display_data"
    },
    {
     "name": "stdout",
     "output_type": "stream",
     "text": [
      "ESP_012954_1725/\n",
      "Downloading https://hirise-pds.lpl.arizona.edu/PDS/EXTRAS/RDR/ESP/ORB_012900_012999/ESP_012954_1725/ESP_012954_1725_RGB.NOMAP.browse.jpg to I:\\data\\mars\\ESP_012954_1725_RGB.NOMAP.browse.jpg\n"
     ]
    },
    {
     "data": {
      "application/vnd.jupyter.widget-view+json": {
       "model_id": "2890c81ef26242ce95d3d5a324e76f12",
       "version_major": 2,
       "version_minor": 0
      },
      "text/plain": [
       "  0%|          | 0/1001876 [00:00<?, ?it/s]"
      ]
     },
     "metadata": {},
     "output_type": "display_data"
    },
    {
     "name": "stdout",
     "output_type": "stream",
     "text": [
      "ESP_012955_1340/\n",
      "Downloading https://hirise-pds.lpl.arizona.edu/PDS/EXTRAS/RDR/ESP/ORB_012900_012999/ESP_012955_1340/ESP_012955_1340_RGB.NOMAP.browse.jpg to I:\\data\\mars\\ESP_012955_1340_RGB.NOMAP.browse.jpg\n"
     ]
    },
    {
     "data": {
      "application/vnd.jupyter.widget-view+json": {
       "model_id": "b175af4f24474dc5a0c41f1c3b1f294f",
       "version_major": 2,
       "version_minor": 0
      },
      "text/plain": [
       "  0%|          | 0/830829 [00:00<?, ?it/s]"
      ]
     },
     "metadata": {},
     "output_type": "display_data"
    },
    {
     "name": "stdout",
     "output_type": "stream",
     "text": [
      "ESP_012956_1825/\n",
      "Downloading https://hirise-pds.lpl.arizona.edu/PDS/EXTRAS/RDR/ESP/ORB_012900_012999/ESP_012956_1825/ESP_012956_1825_RGB.NOMAP.browse.jpg to I:\\data\\mars\\ESP_012956_1825_RGB.NOMAP.browse.jpg\n"
     ]
    },
    {
     "data": {
      "application/vnd.jupyter.widget-view+json": {
       "model_id": "f345577157cc493ba1f4d07efcb346cb",
       "version_major": 2,
       "version_minor": 0
      },
      "text/plain": [
       "  0%|          | 0/777250 [00:00<?, ?it/s]"
      ]
     },
     "metadata": {},
     "output_type": "display_data"
    },
    {
     "name": "stdout",
     "output_type": "stream",
     "text": [
      "ESP_012957_2030/\n",
      "Downloading https://hirise-pds.lpl.arizona.edu/PDS/EXTRAS/RDR/ESP/ORB_012900_012999/ESP_012957_2030/ESP_012957_2030_RGB.NOMAP.browse.jpg to I:\\data\\mars\\ESP_012957_2030_RGB.NOMAP.browse.jpg\n"
     ]
    },
    {
     "data": {
      "application/vnd.jupyter.widget-view+json": {
       "model_id": "c1e632ccc1444edaa5282087282c0111",
       "version_major": 2,
       "version_minor": 0
      },
      "text/plain": [
       "  0%|          | 0/3596724 [00:00<?, ?it/s]"
      ]
     },
     "metadata": {},
     "output_type": "display_data"
    },
    {
     "name": "stdout",
     "output_type": "stream",
     "text": [
      "ESP_012958_1455/\n",
      "Downloading https://hirise-pds.lpl.arizona.edu/PDS/EXTRAS/RDR/ESP/ORB_012900_012999/ESP_012958_1455/ESP_012958_1455_RGB.NOMAP.browse.jpg to I:\\data\\mars\\ESP_012958_1455_RGB.NOMAP.browse.jpg\n"
     ]
    },
    {
     "data": {
      "application/vnd.jupyter.widget-view+json": {
       "model_id": "f35bdedc1a2d4052912462684d69c551",
       "version_major": 2,
       "version_minor": 0
      },
      "text/plain": [
       "  0%|          | 0/553610 [00:00<?, ?it/s]"
      ]
     },
     "metadata": {},
     "output_type": "display_data"
    },
    {
     "name": "stdout",
     "output_type": "stream",
     "text": [
      "ESP_012959_1895/\n",
      "Downloading https://hirise-pds.lpl.arizona.edu/PDS/EXTRAS/RDR/ESP/ORB_012900_012999/ESP_012959_1895/ESP_012959_1895_RGB.NOMAP.browse.jpg to I:\\data\\mars\\ESP_012959_1895_RGB.NOMAP.browse.jpg\n"
     ]
    },
    {
     "data": {
      "application/vnd.jupyter.widget-view+json": {
       "model_id": "5c2e92a350184462b23c32da512a048e",
       "version_major": 2,
       "version_minor": 0
      },
      "text/plain": [
       "  0%|          | 0/956990 [00:00<?, ?it/s]"
      ]
     },
     "metadata": {},
     "output_type": "display_data"
    },
    {
     "name": "stdout",
     "output_type": "stream",
     "text": [
      "ESP_012960_1215/\n",
      "Downloading https://hirise-pds.lpl.arizona.edu/PDS/EXTRAS/RDR/ESP/ORB_012900_012999/ESP_012960_1215/ESP_012960_1215_RGB.NOMAP.browse.jpg to I:\\data\\mars\\ESP_012960_1215_RGB.NOMAP.browse.jpg\n"
     ]
    },
    {
     "data": {
      "application/vnd.jupyter.widget-view+json": {
       "model_id": "1b8408c44eb0414087981312cef93007",
       "version_major": 2,
       "version_minor": 0
      },
      "text/plain": [
       "  0%|          | 0/1365010 [00:00<?, ?it/s]"
      ]
     },
     "metadata": {},
     "output_type": "display_data"
    },
    {
     "name": "stdout",
     "output_type": "stream",
     "text": [
      "ESP_012960_1805/\n",
      "Downloading https://hirise-pds.lpl.arizona.edu/PDS/EXTRAS/RDR/ESP/ORB_012900_012999/ESP_012960_1805/ESP_012960_1805_RGB.NOMAP.browse.jpg to I:\\data\\mars\\ESP_012960_1805_RGB.NOMAP.browse.jpg\n"
     ]
    },
    {
     "data": {
      "application/vnd.jupyter.widget-view+json": {
       "model_id": "4fa8887ad6954dddb2cc8075570de763",
       "version_major": 2,
       "version_minor": 0
      },
      "text/plain": [
       "  0%|          | 0/1566626 [00:00<?, ?it/s]"
      ]
     },
     "metadata": {},
     "output_type": "display_data"
    },
    {
     "name": "stdout",
     "output_type": "stream",
     "text": [
      "ESP_012961_1250/\n",
      "Downloading https://hirise-pds.lpl.arizona.edu/PDS/EXTRAS/RDR/ESP/ORB_012900_012999/ESP_012961_1250/ESP_012961_1250_RGB.NOMAP.browse.jpg to I:\\data\\mars\\ESP_012961_1250_RGB.NOMAP.browse.jpg\n"
     ]
    },
    {
     "data": {
      "application/vnd.jupyter.widget-view+json": {
       "model_id": "beda26bc0232485ba2aef3e130d8efe4",
       "version_major": 2,
       "version_minor": 0
      },
      "text/plain": [
       "  0%|          | 0/2752743 [00:00<?, ?it/s]"
      ]
     },
     "metadata": {},
     "output_type": "display_data"
    },
    {
     "name": "stdout",
     "output_type": "stream",
     "text": [
      "ESP_012962_1955/\n",
      "Downloading https://hirise-pds.lpl.arizona.edu/PDS/EXTRAS/RDR/ESP/ORB_012900_012999/ESP_012962_1955/ESP_012962_1955_RGB.NOMAP.browse.jpg to I:\\data\\mars\\ESP_012962_1955_RGB.NOMAP.browse.jpg\n"
     ]
    },
    {
     "data": {
      "application/vnd.jupyter.widget-view+json": {
       "model_id": "c78e755b908647349d44fe718ac5e333",
       "version_major": 2,
       "version_minor": 0
      },
      "text/plain": [
       "  0%|          | 0/1525582 [00:00<?, ?it/s]"
      ]
     },
     "metadata": {},
     "output_type": "display_data"
    },
    {
     "name": "stdout",
     "output_type": "stream",
     "text": [
      "ESP_012963_1610/\n",
      "Downloading https://hirise-pds.lpl.arizona.edu/PDS/EXTRAS/RDR/ESP/ORB_012900_012999/ESP_012963_1610/ESP_012963_1610_RGB.NOMAP.browse.jpg to I:\\data\\mars\\ESP_012963_1610_RGB.NOMAP.browse.jpg\n"
     ]
    },
    {
     "data": {
      "application/vnd.jupyter.widget-view+json": {
       "model_id": "088f13931d2b49ddaf66d8ec17cf083c",
       "version_major": 2,
       "version_minor": 0
      },
      "text/plain": [
       "  0%|          | 0/2784647 [00:00<?, ?it/s]"
      ]
     },
     "metadata": {},
     "output_type": "display_data"
    },
    {
     "name": "stdout",
     "output_type": "stream",
     "text": [
      "ESP_012964_2145/\n",
      "Downloading https://hirise-pds.lpl.arizona.edu/PDS/EXTRAS/RDR/ESP/ORB_012900_012999/ESP_012964_2145/ESP_012964_2145_RGB.NOMAP.browse.jpg to I:\\data\\mars\\ESP_012964_2145_RGB.NOMAP.browse.jpg\n"
     ]
    },
    {
     "data": {
      "application/vnd.jupyter.widget-view+json": {
       "model_id": "2948b4025c4c41d59a34a0eeaf7ede8d",
       "version_major": 2,
       "version_minor": 0
      },
      "text/plain": [
       "  0%|          | 0/2140516 [00:00<?, ?it/s]"
      ]
     },
     "metadata": {},
     "output_type": "display_data"
    },
    {
     "name": "stdout",
     "output_type": "stream",
     "text": [
      "ESP_012965_1770/\n",
      "Downloading https://hirise-pds.lpl.arizona.edu/PDS/EXTRAS/RDR/ESP/ORB_012900_012999/ESP_012965_1770/ESP_012965_1770_RGB.NOMAP.browse.jpg to I:\\data\\mars\\ESP_012965_1770_RGB.NOMAP.browse.jpg\n"
     ]
    },
    {
     "data": {
      "application/vnd.jupyter.widget-view+json": {
       "model_id": "1be7c9ced0244a0d8688e40dc225d0be",
       "version_major": 2,
       "version_minor": 0
      },
      "text/plain": [
       "  0%|          | 0/1635791 [00:00<?, ?it/s]"
      ]
     },
     "metadata": {},
     "output_type": "display_data"
    },
    {
     "name": "stdout",
     "output_type": "stream",
     "text": [
      "ESP_012966_1560/\n",
      "Downloading https://hirise-pds.lpl.arizona.edu/PDS/EXTRAS/RDR/ESP/ORB_012900_012999/ESP_012966_1560/ESP_012966_1560_RGB.NOMAP.browse.jpg to I:\\data\\mars\\ESP_012966_1560_RGB.NOMAP.browse.jpg\n"
     ]
    },
    {
     "data": {
      "application/vnd.jupyter.widget-view+json": {
       "model_id": "fec4498982df4cf08667793b56fcb7a3",
       "version_major": 2,
       "version_minor": 0
      },
      "text/plain": [
       "  0%|          | 0/1774187 [00:00<?, ?it/s]"
      ]
     },
     "metadata": {},
     "output_type": "display_data"
    },
    {
     "name": "stdout",
     "output_type": "stream",
     "text": [
      "ESP_012967_1290/\n",
      "Downloading https://hirise-pds.lpl.arizona.edu/PDS/EXTRAS/RDR/ESP/ORB_012900_012999/ESP_012967_1290/ESP_012967_1290_RGB.NOMAP.browse.jpg to I:\\data\\mars\\ESP_012967_1290_RGB.NOMAP.browse.jpg\n"
     ]
    },
    {
     "data": {
      "application/vnd.jupyter.widget-view+json": {
       "model_id": "3110ed9fd24e4ce6bef32b9cde85a7f0",
       "version_major": 2,
       "version_minor": 0
      },
      "text/plain": [
       "  0%|          | 0/625217 [00:00<?, ?it/s]"
      ]
     },
     "metadata": {},
     "output_type": "display_data"
    },
    {
     "name": "stdout",
     "output_type": "stream",
     "text": [
      "ESP_012967_1765/\n",
      "Downloading https://hirise-pds.lpl.arizona.edu/PDS/EXTRAS/RDR/ESP/ORB_012900_012999/ESP_012967_1765/ESP_012967_1765_RGB.NOMAP.browse.jpg to I:\\data\\mars\\ESP_012967_1765_RGB.NOMAP.browse.jpg\n"
     ]
    },
    {
     "data": {
      "application/vnd.jupyter.widget-view+json": {
       "model_id": "61da72327c3946f5835b3093c3acdd8a",
       "version_major": 2,
       "version_minor": 0
      },
      "text/plain": [
       "  0%|          | 0/614938 [00:00<?, ?it/s]"
      ]
     },
     "metadata": {},
     "output_type": "display_data"
    },
    {
     "name": "stdout",
     "output_type": "stream",
     "text": [
      "ESP_012968_1535/\n",
      "Downloading https://hirise-pds.lpl.arizona.edu/PDS/EXTRAS/RDR/ESP/ORB_012900_012999/ESP_012968_1535/ESP_012968_1535_RGB.NOMAP.browse.jpg to I:\\data\\mars\\ESP_012968_1535_RGB.NOMAP.browse.jpg\n"
     ]
    },
    {
     "data": {
      "application/vnd.jupyter.widget-view+json": {
       "model_id": "b386915f310d476b98a962b2dd343ce9",
       "version_major": 2,
       "version_minor": 0
      },
      "text/plain": [
       "  0%|          | 0/1545693 [00:00<?, ?it/s]"
      ]
     },
     "metadata": {},
     "output_type": "display_data"
    },
    {
     "name": "stdout",
     "output_type": "stream",
     "text": [
      "ESP_012969_1850/\n",
      "Downloading https://hirise-pds.lpl.arizona.edu/PDS/EXTRAS/RDR/ESP/ORB_012900_012999/ESP_012969_1850/ESP_012969_1850_RGB.NOMAP.browse.jpg to I:\\data\\mars\\ESP_012969_1850_RGB.NOMAP.browse.jpg\n"
     ]
    },
    {
     "data": {
      "application/vnd.jupyter.widget-view+json": {
       "model_id": "bdd063dca13449e5b211bba4b7fef2f5",
       "version_major": 2,
       "version_minor": 0
      },
      "text/plain": [
       "  0%|          | 0/697348 [00:00<?, ?it/s]"
      ]
     },
     "metadata": {},
     "output_type": "display_data"
    },
    {
     "name": "stdout",
     "output_type": "stream",
     "text": [
      "ESP_012970_1995/\n",
      "Downloading https://hirise-pds.lpl.arizona.edu/PDS/EXTRAS/RDR/ESP/ORB_012900_012999/ESP_012970_1995/ESP_012970_1995_RGB.NOMAP.browse.jpg to I:\\data\\mars\\ESP_012970_1995_RGB.NOMAP.browse.jpg\n"
     ]
    },
    {
     "data": {
      "application/vnd.jupyter.widget-view+json": {
       "model_id": "bcc7dec64651452fb0ab46f4d3cc35ea",
       "version_major": 2,
       "version_minor": 0
      },
      "text/plain": [
       "  0%|          | 0/2002556 [00:00<?, ?it/s]"
      ]
     },
     "metadata": {},
     "output_type": "display_data"
    },
    {
     "name": "stdout",
     "output_type": "stream",
     "text": [
      "ESP_012971_2015/\n",
      "Downloading https://hirise-pds.lpl.arizona.edu/PDS/EXTRAS/RDR/ESP/ORB_012900_012999/ESP_012971_2015/ESP_012971_2015_RGB.NOMAP.browse.jpg to I:\\data\\mars\\ESP_012971_2015_RGB.NOMAP.browse.jpg\n"
     ]
    },
    {
     "data": {
      "application/vnd.jupyter.widget-view+json": {
       "model_id": "52a730d3e307498d94d1f3021ceb4ee7",
       "version_major": 2,
       "version_minor": 0
      },
      "text/plain": [
       "  0%|          | 0/1344446 [00:00<?, ?it/s]"
      ]
     },
     "metadata": {},
     "output_type": "display_data"
    },
    {
     "name": "stdout",
     "output_type": "stream",
     "text": [
      "ESP_012972_1940/\n",
      "Downloading https://hirise-pds.lpl.arizona.edu/PDS/EXTRAS/RDR/ESP/ORB_012900_012999/ESP_012972_1940/ESP_012972_1940_RGB.NOMAP.browse.jpg to I:\\data\\mars\\ESP_012972_1940_RGB.NOMAP.browse.jpg\n"
     ]
    },
    {
     "data": {
      "application/vnd.jupyter.widget-view+json": {
       "model_id": "cba21f822a554c6d982013a20f732c66",
       "version_major": 2,
       "version_minor": 0
      },
      "text/plain": [
       "  0%|          | 0/2099062 [00:00<?, ?it/s]"
      ]
     },
     "metadata": {},
     "output_type": "display_data"
    },
    {
     "name": "stdout",
     "output_type": "stream",
     "text": [
      "ESP_012973_1440/\n",
      "Downloading https://hirise-pds.lpl.arizona.edu/PDS/EXTRAS/RDR/ESP/ORB_012900_012999/ESP_012973_1440/ESP_012973_1440_RGB.NOMAP.browse.jpg to I:\\data\\mars\\ESP_012973_1440_RGB.NOMAP.browse.jpg\n"
     ]
    },
    {
     "data": {
      "application/vnd.jupyter.widget-view+json": {
       "model_id": "38784d2158ea4ec09928dafffa9ecb80",
       "version_major": 2,
       "version_minor": 0
      },
      "text/plain": [
       "  0%|          | 0/689758 [00:00<?, ?it/s]"
      ]
     },
     "metadata": {},
     "output_type": "display_data"
    },
    {
     "name": "stdout",
     "output_type": "stream",
     "text": [
      "ESP_012974_1755/\n",
      "Downloading https://hirise-pds.lpl.arizona.edu/PDS/EXTRAS/RDR/ESP/ORB_012900_012999/ESP_012974_1755/ESP_012974_1755_RGB.NOMAP.browse.jpg to I:\\data\\mars\\ESP_012974_1755_RGB.NOMAP.browse.jpg\n"
     ]
    },
    {
     "data": {
      "application/vnd.jupyter.widget-view+json": {
       "model_id": "263594dcfe2b41be9bde68a62c847151",
       "version_major": 2,
       "version_minor": 0
      },
      "text/plain": [
       "  0%|          | 0/1000743 [00:00<?, ?it/s]"
      ]
     },
     "metadata": {},
     "output_type": "display_data"
    },
    {
     "name": "stdout",
     "output_type": "stream",
     "text": [
      "ESP_012975_1370/\n",
      "Downloading https://hirise-pds.lpl.arizona.edu/PDS/EXTRAS/RDR/ESP/ORB_012900_012999/ESP_012975_1370/ESP_012975_1370_RGB.NOMAP.browse.jpg to I:\\data\\mars\\ESP_012975_1370_RGB.NOMAP.browse.jpg\n"
     ]
    },
    {
     "data": {
      "application/vnd.jupyter.widget-view+json": {
       "model_id": "b2b6c538561e41a7bb9bdd2f412343d8",
       "version_major": 2,
       "version_minor": 0
      },
      "text/plain": [
       "  0%|          | 0/2526092 [00:00<?, ?it/s]"
      ]
     },
     "metadata": {},
     "output_type": "display_data"
    },
    {
     "name": "stdout",
     "output_type": "stream",
     "text": [
      "ESP_012976_0980/\n",
      "Downloading https://hirise-pds.lpl.arizona.edu/PDS/EXTRAS/RDR/ESP/ORB_012900_012999/ESP_012976_0980/ESP_012976_0980_RGB.NOMAP.browse.jpg to I:\\data\\mars\\ESP_012976_0980_RGB.NOMAP.browse.jpg\n"
     ]
    },
    {
     "data": {
      "application/vnd.jupyter.widget-view+json": {
       "model_id": "10e6e63b740c404d85d289cee4bbd3e5",
       "version_major": 2,
       "version_minor": 0
      },
      "text/plain": [
       "  0%|          | 0/1721587 [00:00<?, ?it/s]"
      ]
     },
     "metadata": {},
     "output_type": "display_data"
    },
    {
     "name": "stdout",
     "output_type": "stream",
     "text": [
      "ESP_012977_1835/\n",
      "Downloading https://hirise-pds.lpl.arizona.edu/PDS/EXTRAS/RDR/ESP/ORB_012900_012999/ESP_012977_1835/ESP_012977_1835_RGB.NOMAP.browse.jpg to I:\\data\\mars\\ESP_012977_1835_RGB.NOMAP.browse.jpg\n"
     ]
    },
    {
     "data": {
      "application/vnd.jupyter.widget-view+json": {
       "model_id": "d4d4293af03c4c9fb44e3c9f721ba1ac",
       "version_major": 2,
       "version_minor": 0
      },
      "text/plain": [
       "  0%|          | 0/1745282 [00:00<?, ?it/s]"
      ]
     },
     "metadata": {},
     "output_type": "display_data"
    },
    {
     "name": "stdout",
     "output_type": "stream",
     "text": [
      "ESP_012978_1105/\n",
      "Downloading https://hirise-pds.lpl.arizona.edu/PDS/EXTRAS/RDR/ESP/ORB_012900_012999/ESP_012978_1105/ESP_012978_1105_RGB.NOMAP.browse.jpg to I:\\data\\mars\\ESP_012978_1105_RGB.NOMAP.browse.jpg\n"
     ]
    },
    {
     "data": {
      "application/vnd.jupyter.widget-view+json": {
       "model_id": "9e254ff2c5364698b32bdc567474d65e",
       "version_major": 2,
       "version_minor": 0
      },
      "text/plain": [
       "  0%|          | 0/1803846 [00:00<?, ?it/s]"
      ]
     },
     "metadata": {},
     "output_type": "display_data"
    },
    {
     "name": "stdout",
     "output_type": "stream",
     "text": [
      "ESP_012978_2090/\n",
      "Downloading https://hirise-pds.lpl.arizona.edu/PDS/EXTRAS/RDR/ESP/ORB_012900_012999/ESP_012978_2090/ESP_012978_2090_RGB.NOMAP.browse.jpg to I:\\data\\mars\\ESP_012978_2090_RGB.NOMAP.browse.jpg\n"
     ]
    },
    {
     "data": {
      "application/vnd.jupyter.widget-view+json": {
       "model_id": "68d9bf48830e4ea48adef620fc87df40",
       "version_major": 2,
       "version_minor": 0
      },
      "text/plain": [
       "  0%|          | 0/578862 [00:00<?, ?it/s]"
      ]
     },
     "metadata": {},
     "output_type": "display_data"
    },
    {
     "name": "stdout",
     "output_type": "stream",
     "text": [
      "ESP_012979_1180/\n",
      "Downloading https://hirise-pds.lpl.arizona.edu/PDS/EXTRAS/RDR/ESP/ORB_012900_012999/ESP_012979_1180/ESP_012979_1180_RGB.NOMAP.browse.jpg to I:\\data\\mars\\ESP_012979_1180_RGB.NOMAP.browse.jpg\n"
     ]
    },
    {
     "data": {
      "application/vnd.jupyter.widget-view+json": {
       "model_id": "6e67b0813c334400a6c4faedeb29856c",
       "version_major": 2,
       "version_minor": 0
      },
      "text/plain": [
       "  0%|          | 0/1888741 [00:00<?, ?it/s]"
      ]
     },
     "metadata": {},
     "output_type": "display_data"
    },
    {
     "name": "stdout",
     "output_type": "stream",
     "text": [
      "ESP_012980_1700/\n",
      "Downloading https://hirise-pds.lpl.arizona.edu/PDS/EXTRAS/RDR/ESP/ORB_012900_012999/ESP_012980_1700/ESP_012980_1700_RGB.NOMAP.browse.jpg to I:\\data\\mars\\ESP_012980_1700_RGB.NOMAP.browse.jpg\n"
     ]
    },
    {
     "data": {
      "application/vnd.jupyter.widget-view+json": {
       "model_id": "0010433740a4465b936f331ecd7369b5",
       "version_major": 2,
       "version_minor": 0
      },
      "text/plain": [
       "  0%|          | 0/2041417 [00:00<?, ?it/s]"
      ]
     },
     "metadata": {},
     "output_type": "display_data"
    },
    {
     "name": "stdout",
     "output_type": "stream",
     "text": [
      "ESP_012981_1835/\n",
      "Downloading https://hirise-pds.lpl.arizona.edu/PDS/EXTRAS/RDR/ESP/ORB_012900_012999/ESP_012981_1835/ESP_012981_1835_RGB.NOMAP.browse.jpg to I:\\data\\mars\\ESP_012981_1835_RGB.NOMAP.browse.jpg\n"
     ]
    },
    {
     "data": {
      "application/vnd.jupyter.widget-view+json": {
       "model_id": "fe245a7e1d274c91bcfc4c2576d0e85a",
       "version_major": 2,
       "version_minor": 0
      },
      "text/plain": [
       "  0%|          | 0/864975 [00:00<?, ?it/s]"
      ]
     },
     "metadata": {},
     "output_type": "display_data"
    },
    {
     "name": "stdout",
     "output_type": "stream",
     "text": [
      "ESP_012982_2060/\n",
      "Downloading https://hirise-pds.lpl.arizona.edu/PDS/EXTRAS/RDR/ESP/ORB_012900_012999/ESP_012982_2060/ESP_012982_2060_RGB.NOMAP.browse.jpg to I:\\data\\mars\\ESP_012982_2060_RGB.NOMAP.browse.jpg\n"
     ]
    },
    {
     "data": {
      "application/vnd.jupyter.widget-view+json": {
       "model_id": "fcb0709756a04faab0f92550d08063c0",
       "version_major": 2,
       "version_minor": 0
      },
      "text/plain": [
       "  0%|          | 0/1098787 [00:00<?, ?it/s]"
      ]
     },
     "metadata": {},
     "output_type": "display_data"
    },
    {
     "name": "stdout",
     "output_type": "stream",
     "text": [
      "ESP_012983_2170/\n",
      "Downloading https://hirise-pds.lpl.arizona.edu/PDS/EXTRAS/RDR/ESP/ORB_012900_012999/ESP_012983_2170/ESP_012983_2170_RGB.NOMAP.browse.jpg to I:\\data\\mars\\ESP_012983_2170_RGB.NOMAP.browse.jpg\n"
     ]
    },
    {
     "data": {
      "application/vnd.jupyter.widget-view+json": {
       "model_id": "d0cb122c37df446e98ac9fa609bf8138",
       "version_major": 2,
       "version_minor": 0
      },
      "text/plain": [
       "  0%|          | 0/1234571 [00:00<?, ?it/s]"
      ]
     },
     "metadata": {},
     "output_type": "display_data"
    },
    {
     "name": "stdout",
     "output_type": "stream",
     "text": [
      "ESP_012984_2265/\n",
      "Downloading https://hirise-pds.lpl.arizona.edu/PDS/EXTRAS/RDR/ESP/ORB_012900_012999/ESP_012984_2265/ESP_012984_2265_RGB.NOMAP.browse.jpg to I:\\data\\mars\\ESP_012984_2265_RGB.NOMAP.browse.jpg\n"
     ]
    },
    {
     "data": {
      "application/vnd.jupyter.widget-view+json": {
       "model_id": "35294000905f4fa0815e30b20b0e9489",
       "version_major": 2,
       "version_minor": 0
      },
      "text/plain": [
       "  0%|          | 0/1993078 [00:00<?, ?it/s]"
      ]
     },
     "metadata": {},
     "output_type": "display_data"
    },
    {
     "name": "stdout",
     "output_type": "stream",
     "text": [
      "ESP_012985_1075/\n",
      "Downloading https://hirise-pds.lpl.arizona.edu/PDS/EXTRAS/RDR/ESP/ORB_012900_012999/ESP_012985_1075/ESP_012985_1075_RGB.NOMAP.browse.jpg to I:\\data\\mars\\ESP_012985_1075_RGB.NOMAP.browse.jpg\n"
     ]
    },
    {
     "data": {
      "application/vnd.jupyter.widget-view+json": {
       "model_id": "a799e12ad81448b9a2080e1acae5679d",
       "version_major": 2,
       "version_minor": 0
      },
      "text/plain": [
       "  0%|          | 0/550182 [00:00<?, ?it/s]"
      ]
     },
     "metadata": {},
     "output_type": "display_data"
    },
    {
     "name": "stdout",
     "output_type": "stream",
     "text": [
      "ESP_012985_1495/\n",
      "Downloading https://hirise-pds.lpl.arizona.edu/PDS/EXTRAS/RDR/ESP/ORB_012900_012999/ESP_012985_1495/ESP_012985_1495_RGB.NOMAP.browse.jpg to I:\\data\\mars\\ESP_012985_1495_RGB.NOMAP.browse.jpg\n"
     ]
    },
    {
     "data": {
      "application/vnd.jupyter.widget-view+json": {
       "model_id": "72796f24b3a04511b03b2bc6020a60ed",
       "version_major": 2,
       "version_minor": 0
      },
      "text/plain": [
       "  0%|          | 0/758561 [00:00<?, ?it/s]"
      ]
     },
     "metadata": {},
     "output_type": "display_data"
    },
    {
     "name": "stdout",
     "output_type": "stream",
     "text": [
      "ESP_012985_2025/\n",
      "Downloading https://hirise-pds.lpl.arizona.edu/PDS/EXTRAS/RDR/ESP/ORB_012900_012999/ESP_012985_2025/ESP_012985_2025_RGB.NOMAP.browse.jpg to I:\\data\\mars\\ESP_012985_2025_RGB.NOMAP.browse.jpg\n"
     ]
    },
    {
     "data": {
      "application/vnd.jupyter.widget-view+json": {
       "model_id": "ff2c590e8e4d4e8aaf2f6203f1ba1b43",
       "version_major": 2,
       "version_minor": 0
      },
      "text/plain": [
       "  0%|          | 0/736119 [00:00<?, ?it/s]"
      ]
     },
     "metadata": {},
     "output_type": "display_data"
    },
    {
     "name": "stdout",
     "output_type": "stream",
     "text": [
      "ESP_012986_1700/\n",
      "Downloading https://hirise-pds.lpl.arizona.edu/PDS/EXTRAS/RDR/ESP/ORB_012900_012999/ESP_012986_1700/ESP_012986_1700_RGB.NOMAP.browse.jpg to I:\\data\\mars\\ESP_012986_1700_RGB.NOMAP.browse.jpg\n"
     ]
    },
    {
     "data": {
      "application/vnd.jupyter.widget-view+json": {
       "model_id": "0f4b844688f7436faba2fd419887de29",
       "version_major": 2,
       "version_minor": 0
      },
      "text/plain": [
       "  0%|          | 0/1225107 [00:00<?, ?it/s]"
      ]
     },
     "metadata": {},
     "output_type": "display_data"
    },
    {
     "name": "stdout",
     "output_type": "stream",
     "text": [
      "ESP_012987_1600/\n",
      "Downloading https://hirise-pds.lpl.arizona.edu/PDS/EXTRAS/RDR/ESP/ORB_012900_012999/ESP_012987_1600/ESP_012987_1600_RGB.NOMAP.browse.jpg to I:\\data\\mars\\ESP_012987_1600_RGB.NOMAP.browse.jpg\n"
     ]
    },
    {
     "data": {
      "application/vnd.jupyter.widget-view+json": {
       "model_id": "d38b94d9c05a48bfb0bc3340c17be0ce",
       "version_major": 2,
       "version_minor": 0
      },
      "text/plain": [
       "  0%|          | 0/1021463 [00:00<?, ?it/s]"
      ]
     },
     "metadata": {},
     "output_type": "display_data"
    },
    {
     "name": "stdout",
     "output_type": "stream",
     "text": [
      "ESP_012988_1560/\n",
      "Downloading https://hirise-pds.lpl.arizona.edu/PDS/EXTRAS/RDR/ESP/ORB_012900_012999/ESP_012988_1560/ESP_012988_1560_RGB.NOMAP.browse.jpg to I:\\data\\mars\\ESP_012988_1560_RGB.NOMAP.browse.jpg\n"
     ]
    },
    {
     "data": {
      "application/vnd.jupyter.widget-view+json": {
       "model_id": "0954366112164fdcbcc5a3749f391d8b",
       "version_major": 2,
       "version_minor": 0
      },
      "text/plain": [
       "  0%|          | 0/1189555 [00:00<?, ?it/s]"
      ]
     },
     "metadata": {},
     "output_type": "display_data"
    },
    {
     "name": "stdout",
     "output_type": "stream",
     "text": [
      "ESP_012989_0930/\n",
      "Downloading https://hirise-pds.lpl.arizona.edu/PDS/EXTRAS/RDR/ESP/ORB_012900_012999/ESP_012989_0930/ESP_012989_0930_RGB.NOMAP.browse.jpg to I:\\data\\mars\\ESP_012989_0930_RGB.NOMAP.browse.jpg\n"
     ]
    },
    {
     "data": {
      "application/vnd.jupyter.widget-view+json": {
       "model_id": "f9836ba8443441e9a2a1c754e1ff4ed1",
       "version_major": 2,
       "version_minor": 0
      },
      "text/plain": [
       "  0%|          | 0/1715343 [00:00<?, ?it/s]"
      ]
     },
     "metadata": {},
     "output_type": "display_data"
    },
    {
     "name": "stdout",
     "output_type": "stream",
     "text": [
      "ESP_012989_1585/\n",
      "Downloading https://hirise-pds.lpl.arizona.edu/PDS/EXTRAS/RDR/ESP/ORB_012900_012999/ESP_012989_1585/ESP_012989_1585_RGB.NOMAP.browse.jpg to I:\\data\\mars\\ESP_012989_1585_RGB.NOMAP.browse.jpg\n"
     ]
    },
    {
     "data": {
      "application/vnd.jupyter.widget-view+json": {
       "model_id": "fd6b4cadab5f4e8e92a17d31e8532201",
       "version_major": 2,
       "version_minor": 0
      },
      "text/plain": [
       "  0%|          | 0/789201 [00:00<?, ?it/s]"
      ]
     },
     "metadata": {},
     "output_type": "display_data"
    },
    {
     "name": "stdout",
     "output_type": "stream",
     "text": [
      "ESP_012990_0930/\n",
      "Downloading https://hirise-pds.lpl.arizona.edu/PDS/EXTRAS/RDR/ESP/ORB_012900_012999/ESP_012990_0930/ESP_012990_0930_RGB.NOMAP.browse.jpg to I:\\data\\mars\\ESP_012990_0930_RGB.NOMAP.browse.jpg\n"
     ]
    },
    {
     "data": {
      "application/vnd.jupyter.widget-view+json": {
       "model_id": "f28e4d31c69a424eb9332abf83e0e86a",
       "version_major": 2,
       "version_minor": 0
      },
      "text/plain": [
       "  0%|          | 0/1785818 [00:00<?, ?it/s]"
      ]
     },
     "metadata": {},
     "output_type": "display_data"
    },
    {
     "name": "stdout",
     "output_type": "stream",
     "text": [
      "ESP_012991_1335/\n",
      "Downloading https://hirise-pds.lpl.arizona.edu/PDS/EXTRAS/RDR/ESP/ORB_012900_012999/ESP_012991_1335/ESP_012991_1335_RGB.NOMAP.browse.jpg to I:\\data\\mars\\ESP_012991_1335_RGB.NOMAP.browse.jpg\n"
     ]
    },
    {
     "data": {
      "application/vnd.jupyter.widget-view+json": {
       "model_id": "743fc76f30ba481eb15acc1c9c575e9f",
       "version_major": 2,
       "version_minor": 0
      },
      "text/plain": [
       "  0%|          | 0/659436 [00:00<?, ?it/s]"
      ]
     },
     "metadata": {},
     "output_type": "display_data"
    },
    {
     "name": "stdout",
     "output_type": "stream",
     "text": [
      "ESP_012992_1170/\n",
      "Downloading https://hirise-pds.lpl.arizona.edu/PDS/EXTRAS/RDR/ESP/ORB_012900_012999/ESP_012992_1170/ESP_012992_1170_RGB.NOMAP.browse.jpg to I:\\data\\mars\\ESP_012992_1170_RGB.NOMAP.browse.jpg\n"
     ]
    },
    {
     "data": {
      "application/vnd.jupyter.widget-view+json": {
       "model_id": "d3dc5c897b0e42d58a0e70a70fc73a34",
       "version_major": 2,
       "version_minor": 0
      },
      "text/plain": [
       "  0%|          | 0/1120133 [00:00<?, ?it/s]"
      ]
     },
     "metadata": {},
     "output_type": "display_data"
    },
    {
     "name": "stdout",
     "output_type": "stream",
     "text": [
      "ESP_012992_1860/\n",
      "Downloading https://hirise-pds.lpl.arizona.edu/PDS/EXTRAS/RDR/ESP/ORB_012900_012999/ESP_012992_1860/ESP_012992_1860_RGB.NOMAP.browse.jpg to I:\\data\\mars\\ESP_012992_1860_RGB.NOMAP.browse.jpg\n"
     ]
    },
    {
     "data": {
      "application/vnd.jupyter.widget-view+json": {
       "model_id": "53073310ce794346a9362264e8da9334",
       "version_major": 2,
       "version_minor": 0
      },
      "text/plain": [
       "  0%|          | 0/741279 [00:00<?, ?it/s]"
      ]
     },
     "metadata": {},
     "output_type": "display_data"
    },
    {
     "name": "stdout",
     "output_type": "stream",
     "text": [
      "ESP_012993_1080/\n",
      "Downloading https://hirise-pds.lpl.arizona.edu/PDS/EXTRAS/RDR/ESP/ORB_012900_012999/ESP_012993_1080/ESP_012993_1080_RGB.NOMAP.browse.jpg to I:\\data\\mars\\ESP_012993_1080_RGB.NOMAP.browse.jpg\n"
     ]
    },
    {
     "data": {
      "application/vnd.jupyter.widget-view+json": {
       "model_id": "53961a7753f8418bb8e7001432ddf9b4",
       "version_major": 2,
       "version_minor": 0
      },
      "text/plain": [
       "  0%|          | 0/672889 [00:00<?, ?it/s]"
      ]
     },
     "metadata": {},
     "output_type": "display_data"
    },
    {
     "name": "stdout",
     "output_type": "stream",
     "text": [
      "ESP_012993_1725/\n",
      "Downloading https://hirise-pds.lpl.arizona.edu/PDS/EXTRAS/RDR/ESP/ORB_012900_012999/ESP_012993_1725/ESP_012993_1725_RGB.NOMAP.browse.jpg to I:\\data\\mars\\ESP_012993_1725_RGB.NOMAP.browse.jpg\n"
     ]
    },
    {
     "data": {
      "application/vnd.jupyter.widget-view+json": {
       "model_id": "4e621320802542cf8c3df14d7aa80509",
       "version_major": 2,
       "version_minor": 0
      },
      "text/plain": [
       "  0%|          | 0/715968 [00:00<?, ?it/s]"
      ]
     },
     "metadata": {},
     "output_type": "display_data"
    },
    {
     "name": "stdout",
     "output_type": "stream",
     "text": [
      "ESP_012994_1700/\n",
      "Downloading https://hirise-pds.lpl.arizona.edu/PDS/EXTRAS/RDR/ESP/ORB_012900_012999/ESP_012994_1700/ESP_012994_1700_RGB.NOMAP.browse.jpg to I:\\data\\mars\\ESP_012994_1700_RGB.NOMAP.browse.jpg\n"
     ]
    },
    {
     "data": {
      "application/vnd.jupyter.widget-view+json": {
       "model_id": "08c78995725a46ec892247ded7998263",
       "version_major": 2,
       "version_minor": 0
      },
      "text/plain": [
       "  0%|          | 0/2160060 [00:00<?, ?it/s]"
      ]
     },
     "metadata": {},
     "output_type": "display_data"
    },
    {
     "name": "stdout",
     "output_type": "stream",
     "text": [
      "ESP_012995_1530/\n",
      "Downloading https://hirise-pds.lpl.arizona.edu/PDS/EXTRAS/RDR/ESP/ORB_012900_012999/ESP_012995_1530/ESP_012995_1530_RGB.NOMAP.browse.jpg to I:\\data\\mars\\ESP_012995_1530_RGB.NOMAP.browse.jpg\n"
     ]
    },
    {
     "data": {
      "application/vnd.jupyter.widget-view+json": {
       "model_id": "71cfb1d1f2464e29b0654ad7b9255dfe",
       "version_major": 2,
       "version_minor": 0
      },
      "text/plain": [
       "  0%|          | 0/900141 [00:00<?, ?it/s]"
      ]
     },
     "metadata": {},
     "output_type": "display_data"
    },
    {
     "name": "stdout",
     "output_type": "stream",
     "text": [
      "ESP_012996_1270/\n",
      "Downloading https://hirise-pds.lpl.arizona.edu/PDS/EXTRAS/RDR/ESP/ORB_012900_012999/ESP_012996_1270/ESP_012996_1270_RGB.NOMAP.browse.jpg to I:\\data\\mars\\ESP_012996_1270_RGB.NOMAP.browse.jpg\n"
     ]
    },
    {
     "data": {
      "application/vnd.jupyter.widget-view+json": {
       "model_id": "7dfb2a1d19ee46559d63bf4939861275",
       "version_major": 2,
       "version_minor": 0
      },
      "text/plain": [
       "  0%|          | 0/673644 [00:00<?, ?it/s]"
      ]
     },
     "metadata": {},
     "output_type": "display_data"
    },
    {
     "name": "stdout",
     "output_type": "stream",
     "text": [
      "ESP_012996_2145/\n",
      "Downloading https://hirise-pds.lpl.arizona.edu/PDS/EXTRAS/RDR/ESP/ORB_012900_012999/ESP_012996_2145/ESP_012996_2145_RGB.NOMAP.browse.jpg to I:\\data\\mars\\ESP_012996_2145_RGB.NOMAP.browse.jpg\n"
     ]
    },
    {
     "data": {
      "application/vnd.jupyter.widget-view+json": {
       "model_id": "532d195cb10849eaabd117be6c98f56c",
       "version_major": 2,
       "version_minor": 0
      },
      "text/plain": [
       "  0%|          | 0/1264131 [00:00<?, ?it/s]"
      ]
     },
     "metadata": {},
     "output_type": "display_data"
    },
    {
     "name": "stdout",
     "output_type": "stream",
     "text": [
      "ESP_012997_1445/\n",
      "Downloading https://hirise-pds.lpl.arizona.edu/PDS/EXTRAS/RDR/ESP/ORB_012900_012999/ESP_012997_1445/ESP_012997_1445_RGB.NOMAP.browse.jpg to I:\\data\\mars\\ESP_012997_1445_RGB.NOMAP.browse.jpg\n"
     ]
    },
    {
     "data": {
      "application/vnd.jupyter.widget-view+json": {
       "model_id": "a2dd4d8324a242d8ba5782fc8f22f2ae",
       "version_major": 2,
       "version_minor": 0
      },
      "text/plain": [
       "  0%|          | 0/416963 [00:00<?, ?it/s]"
      ]
     },
     "metadata": {},
     "output_type": "display_data"
    },
    {
     "name": "stdout",
     "output_type": "stream",
     "text": [
      "ESP_012998_1610/\n",
      "Downloading https://hirise-pds.lpl.arizona.edu/PDS/EXTRAS/RDR/ESP/ORB_012900_012999/ESP_012998_1610/ESP_012998_1610_RGB.NOMAP.browse.jpg to I:\\data\\mars\\ESP_012998_1610_RGB.NOMAP.browse.jpg\n"
     ]
    },
    {
     "data": {
      "application/vnd.jupyter.widget-view+json": {
       "model_id": "c1c76a5a1ba146c98a7b65457678c057",
       "version_major": 2,
       "version_minor": 0
      },
      "text/plain": [
       "  0%|          | 0/547269 [00:00<?, ?it/s]"
      ]
     },
     "metadata": {},
     "output_type": "display_data"
    },
    {
     "name": "stdout",
     "output_type": "stream",
     "text": [
      "ESP_012999_1225/\n",
      "Downloading https://hirise-pds.lpl.arizona.edu/PDS/EXTRAS/RDR/ESP/ORB_012900_012999/ESP_012999_1225/ESP_012999_1225_RGB.NOMAP.browse.jpg to I:\\data\\mars\\ESP_012999_1225_RGB.NOMAP.browse.jpg\n"
     ]
    },
    {
     "data": {
      "application/vnd.jupyter.widget-view+json": {
       "model_id": "7b465db1ccce4b19b57547690a9780a3",
       "version_major": 2,
       "version_minor": 0
      },
      "text/plain": [
       "  0%|          | 0/793401 [00:00<?, ?it/s]"
      ]
     },
     "metadata": {},
     "output_type": "display_data"
    },
    {
     "name": "stdout",
     "output_type": "stream",
     "text": [
      "-------------------------------------------------- ORB_013000_013099/\n",
      "ESP_013000_1395/\n",
      "Downloading https://hirise-pds.lpl.arizona.edu/PDS/EXTRAS/RDR/ESP/ORB_013000_013099/ESP_013000_1395/ESP_013000_1395_RGB.NOMAP.browse.jpg to I:\\data\\mars\\ESP_013000_1395_RGB.NOMAP.browse.jpg\n"
     ]
    },
    {
     "data": {
      "application/vnd.jupyter.widget-view+json": {
       "model_id": "2dbef1a761fa4a36a0a3f47a6c76dd72",
       "version_major": 2,
       "version_minor": 0
      },
      "text/plain": [
       "  0%|          | 0/546658 [00:00<?, ?it/s]"
      ]
     },
     "metadata": {},
     "output_type": "display_data"
    },
    {
     "name": "stdout",
     "output_type": "stream",
     "text": [
      "ESP_013001_0990/\n",
      "Downloading https://hirise-pds.lpl.arizona.edu/PDS/EXTRAS/RDR/ESP/ORB_013000_013099/ESP_013001_0990/ESP_013001_0990_RGB.NOMAP.browse.jpg to I:\\data\\mars\\ESP_013001_0990_RGB.NOMAP.browse.jpg\n"
     ]
    },
    {
     "data": {
      "application/vnd.jupyter.widget-view+json": {
       "model_id": "940ed68e96f544a0901ae10ab6978b3d",
       "version_major": 2,
       "version_minor": 0
      },
      "text/plain": [
       "  0%|          | 0/653061 [00:00<?, ?it/s]"
      ]
     },
     "metadata": {},
     "output_type": "display_data"
    },
    {
     "name": "stdout",
     "output_type": "stream",
     "text": [
      "ESP_013001_1415/\n",
      "Downloading https://hirise-pds.lpl.arizona.edu/PDS/EXTRAS/RDR/ESP/ORB_013000_013099/ESP_013001_1415/ESP_013001_1415_RGB.NOMAP.browse.jpg to I:\\data\\mars\\ESP_013001_1415_RGB.NOMAP.browse.jpg\n"
     ]
    },
    {
     "data": {
      "application/vnd.jupyter.widget-view+json": {
       "model_id": "349ece06df1e494bb7c32c48e94664d7",
       "version_major": 2,
       "version_minor": 0
      },
      "text/plain": [
       "  0%|          | 0/932708 [00:00<?, ?it/s]"
      ]
     },
     "metadata": {},
     "output_type": "display_data"
    },
    {
     "name": "stdout",
     "output_type": "stream",
     "text": [
      "ESP_013001_1820/\n",
      "Downloading https://hirise-pds.lpl.arizona.edu/PDS/EXTRAS/RDR/ESP/ORB_013000_013099/ESP_013001_1820/ESP_013001_1820_RGB.NOMAP.browse.jpg to I:\\data\\mars\\ESP_013001_1820_RGB.NOMAP.browse.jpg\n"
     ]
    },
    {
     "data": {
      "application/vnd.jupyter.widget-view+json": {
       "model_id": "206adebe02464701817700b003bc4467",
       "version_major": 2,
       "version_minor": 0
      },
      "text/plain": [
       "  0%|          | 0/694199 [00:00<?, ?it/s]"
      ]
     },
     "metadata": {},
     "output_type": "display_data"
    },
    {
     "name": "stdout",
     "output_type": "stream",
     "text": [
      "ESP_013002_1530/\n",
      "Downloading https://hirise-pds.lpl.arizona.edu/PDS/EXTRAS/RDR/ESP/ORB_013000_013099/ESP_013002_1530/ESP_013002_1530_RGB.NOMAP.browse.jpg to I:\\data\\mars\\ESP_013002_1530_RGB.NOMAP.browse.jpg\n"
     ]
    },
    {
     "data": {
      "application/vnd.jupyter.widget-view+json": {
       "model_id": "1ba888a4183248a0aa02a1a5ade02edb",
       "version_major": 2,
       "version_minor": 0
      },
      "text/plain": [
       "  0%|          | 0/592374 [00:00<?, ?it/s]"
      ]
     },
     "metadata": {},
     "output_type": "display_data"
    },
    {
     "name": "stdout",
     "output_type": "stream",
     "text": [
      "ESP_013005_1880/\n",
      "Downloading https://hirise-pds.lpl.arizona.edu/PDS/EXTRAS/RDR/ESP/ORB_013000_013099/ESP_013005_1880/ESP_013005_1880_RGB.NOMAP.browse.jpg to I:\\data\\mars\\ESP_013005_1880_RGB.NOMAP.browse.jpg\n"
     ]
    },
    {
     "data": {
      "application/vnd.jupyter.widget-view+json": {
       "model_id": "63b49a81af634660964919a2010eb391",
       "version_major": 2,
       "version_minor": 0
      },
      "text/plain": [
       "  0%|          | 0/1515503 [00:00<?, ?it/s]"
      ]
     },
     "metadata": {},
     "output_type": "display_data"
    },
    {
     "name": "stdout",
     "output_type": "stream",
     "text": [
      "ESP_013008_1825/\n",
      "Downloading https://hirise-pds.lpl.arizona.edu/PDS/EXTRAS/RDR/ESP/ORB_013000_013099/ESP_013008_1825/ESP_013008_1825_RGB.NOMAP.browse.jpg to I:\\data\\mars\\ESP_013008_1825_RGB.NOMAP.browse.jpg\n"
     ]
    },
    {
     "data": {
      "application/vnd.jupyter.widget-view+json": {
       "model_id": "d586bdb7888e414c8bea4610e57f440e",
       "version_major": 2,
       "version_minor": 0
      },
      "text/plain": [
       "  0%|          | 0/430236 [00:00<?, ?it/s]"
      ]
     },
     "metadata": {},
     "output_type": "display_data"
    },
    {
     "name": "stdout",
     "output_type": "stream",
     "text": [
      "ESP_013009_2095/\n",
      "Downloading https://hirise-pds.lpl.arizona.edu/PDS/EXTRAS/RDR/ESP/ORB_013000_013099/ESP_013009_2095/ESP_013009_2095_RGB.NOMAP.browse.jpg to I:\\data\\mars\\ESP_013009_2095_RGB.NOMAP.browse.jpg\n"
     ]
    },
    {
     "data": {
      "application/vnd.jupyter.widget-view+json": {
       "model_id": "f32fdd488cd04d90a7939c478973c7b0",
       "version_major": 2,
       "version_minor": 0
      },
      "text/plain": [
       "  0%|          | 0/262438 [00:00<?, ?it/s]"
      ]
     },
     "metadata": {},
     "output_type": "display_data"
    },
    {
     "name": "stdout",
     "output_type": "stream",
     "text": [
      "ESP_013011_1455/\n",
      "Downloading https://hirise-pds.lpl.arizona.edu/PDS/EXTRAS/RDR/ESP/ORB_013000_013099/ESP_013011_1455/ESP_013011_1455_RGB.NOMAP.browse.jpg to I:\\data\\mars\\ESP_013011_1455_RGB.NOMAP.browse.jpg\n"
     ]
    },
    {
     "data": {
      "application/vnd.jupyter.widget-view+json": {
       "model_id": "9ed5a5e11bc347059eecb453eb567047",
       "version_major": 2,
       "version_minor": 0
      },
      "text/plain": [
       "  0%|          | 0/501874 [00:00<?, ?it/s]"
      ]
     },
     "metadata": {},
     "output_type": "display_data"
    },
    {
     "name": "stdout",
     "output_type": "stream",
     "text": [
      "ESP_013012_1135/\n",
      "Downloading https://hirise-pds.lpl.arizona.edu/PDS/EXTRAS/RDR/ESP/ORB_013000_013099/ESP_013012_1135/ESP_013012_1135_RGB.NOMAP.browse.jpg to I:\\data\\mars\\ESP_013012_1135_RGB.NOMAP.browse.jpg\n"
     ]
    },
    {
     "data": {
      "application/vnd.jupyter.widget-view+json": {
       "model_id": "9f8ca1b25ae14174bd58df0cb623c922",
       "version_major": 2,
       "version_minor": 0
      },
      "text/plain": [
       "  0%|          | 0/1389014 [00:00<?, ?it/s]"
      ]
     },
     "metadata": {},
     "output_type": "display_data"
    },
    {
     "name": "stdout",
     "output_type": "stream",
     "text": [
      "ESP_013013_1080/\n",
      "Downloading https://hirise-pds.lpl.arizona.edu/PDS/EXTRAS/RDR/ESP/ORB_013000_013099/ESP_013013_1080/ESP_013013_1080_RGB.NOMAP.browse.jpg to I:\\data\\mars\\ESP_013013_1080_RGB.NOMAP.browse.jpg\n"
     ]
    },
    {
     "data": {
      "application/vnd.jupyter.widget-view+json": {
       "model_id": "8733d97821e549ada094bfcef3a5ce2b",
       "version_major": 2,
       "version_minor": 0
      },
      "text/plain": [
       "  0%|          | 0/962241 [00:00<?, ?it/s]"
      ]
     },
     "metadata": {},
     "output_type": "display_data"
    },
    {
     "name": "stdout",
     "output_type": "stream",
     "text": [
      "ESP_013014_1005/\n",
      "Downloading https://hirise-pds.lpl.arizona.edu/PDS/EXTRAS/RDR/ESP/ORB_013000_013099/ESP_013014_1005/ESP_013014_1005_RGB.NOMAP.browse.jpg to I:\\data\\mars\\ESP_013014_1005_RGB.NOMAP.browse.jpg\n"
     ]
    },
    {
     "data": {
      "application/vnd.jupyter.widget-view+json": {
       "model_id": "a43d177ab1e64240a57978f6bba763bd",
       "version_major": 2,
       "version_minor": 0
      },
      "text/plain": [
       "  0%|          | 0/1255896 [00:00<?, ?it/s]"
      ]
     },
     "metadata": {},
     "output_type": "display_data"
    },
    {
     "name": "stdout",
     "output_type": "stream",
     "text": [
      "ESP_013014_1905/\n",
      "Downloading https://hirise-pds.lpl.arizona.edu/PDS/EXTRAS/RDR/ESP/ORB_013000_013099/ESP_013014_1905/ESP_013014_1905_RGB.NOMAP.browse.jpg to I:\\data\\mars\\ESP_013014_1905_RGB.NOMAP.browse.jpg\n"
     ]
    },
    {
     "data": {
      "application/vnd.jupyter.widget-view+json": {
       "model_id": "7efa1388f40b48ffb63e5c004c6ddffb",
       "version_major": 2,
       "version_minor": 0
      },
      "text/plain": [
       "  0%|          | 0/1159713 [00:00<?, ?it/s]"
      ]
     },
     "metadata": {},
     "output_type": "display_data"
    },
    {
     "name": "stdout",
     "output_type": "stream",
     "text": [
      "ESP_013015_2000/\n",
      "Downloading https://hirise-pds.lpl.arizona.edu/PDS/EXTRAS/RDR/ESP/ORB_013000_013099/ESP_013015_2000/ESP_013015_2000_RGB.NOMAP.browse.jpg to I:\\data\\mars\\ESP_013015_2000_RGB.NOMAP.browse.jpg\n"
     ]
    },
    {
     "data": {
      "application/vnd.jupyter.widget-view+json": {
       "model_id": "60a5f72e968f4e2688920b84af7cd45c",
       "version_major": 2,
       "version_minor": 0
      },
      "text/plain": [
       "  0%|          | 0/766901 [00:00<?, ?it/s]"
      ]
     },
     "metadata": {},
     "output_type": "display_data"
    },
    {
     "name": "stdout",
     "output_type": "stream",
     "text": [
      "ESP_013016_0935/\n",
      "Downloading https://hirise-pds.lpl.arizona.edu/PDS/EXTRAS/RDR/ESP/ORB_013000_013099/ESP_013016_0935/ESP_013016_0935_RGB.NOMAP.browse.jpg to I:\\data\\mars\\ESP_013016_0935_RGB.NOMAP.browse.jpg\n"
     ]
    },
    {
     "data": {
      "application/vnd.jupyter.widget-view+json": {
       "model_id": "1d183270e35241a69c1b71055eee0a5f",
       "version_major": 2,
       "version_minor": 0
      },
      "text/plain": [
       "  0%|          | 0/2167256 [00:00<?, ?it/s]"
      ]
     },
     "metadata": {},
     "output_type": "display_data"
    },
    {
     "name": "stdout",
     "output_type": "stream",
     "text": [
      "ESP_013016_1565/\n",
      "Downloading https://hirise-pds.lpl.arizona.edu/PDS/EXTRAS/RDR/ESP/ORB_013000_013099/ESP_013016_1565/ESP_013016_1565_RGB.NOMAP.browse.jpg to I:\\data\\mars\\ESP_013016_1565_RGB.NOMAP.browse.jpg\n"
     ]
    },
    {
     "data": {
      "application/vnd.jupyter.widget-view+json": {
       "model_id": "8db7e34e962f4d038fe51113163141ad",
       "version_major": 2,
       "version_minor": 0
      },
      "text/plain": [
       "  0%|          | 0/1467981 [00:00<?, ?it/s]"
      ]
     },
     "metadata": {},
     "output_type": "display_data"
    },
    {
     "name": "stdout",
     "output_type": "stream",
     "text": [
      "ESP_013017_1325/\n",
      "Downloading https://hirise-pds.lpl.arizona.edu/PDS/EXTRAS/RDR/ESP/ORB_013000_013099/ESP_013017_1325/ESP_013017_1325_RGB.NOMAP.browse.jpg to I:\\data\\mars\\ESP_013017_1325_RGB.NOMAP.browse.jpg\n"
     ]
    },
    {
     "data": {
      "application/vnd.jupyter.widget-view+json": {
       "model_id": "449f9efcfd9042c487a0461bb5888c5f",
       "version_major": 2,
       "version_minor": 0
      },
      "text/plain": [
       "  0%|          | 0/454260 [00:00<?, ?it/s]"
      ]
     },
     "metadata": {},
     "output_type": "display_data"
    },
    {
     "name": "stdout",
     "output_type": "stream",
     "text": [
      "ESP_013017_2150/\n",
      "Downloading https://hirise-pds.lpl.arizona.edu/PDS/EXTRAS/RDR/ESP/ORB_013000_013099/ESP_013017_2150/ESP_013017_2150_RGB.NOMAP.browse.jpg to I:\\data\\mars\\ESP_013017_2150_RGB.NOMAP.browse.jpg\n"
     ]
    },
    {
     "data": {
      "application/vnd.jupyter.widget-view+json": {
       "model_id": "60af5df98dc84b42a2fdc7a68680906b",
       "version_major": 2,
       "version_minor": 0
      },
      "text/plain": [
       "  0%|          | 0/1288957 [00:00<?, ?it/s]"
      ]
     },
     "metadata": {},
     "output_type": "display_data"
    },
    {
     "name": "stdout",
     "output_type": "stream",
     "text": [
      "ESP_013018_1550/\n",
      "Downloading https://hirise-pds.lpl.arizona.edu/PDS/EXTRAS/RDR/ESP/ORB_013000_013099/ESP_013018_1550/ESP_013018_1550_RGB.NOMAP.browse.jpg to I:\\data\\mars\\ESP_013018_1550_RGB.NOMAP.browse.jpg\n"
     ]
    },
    {
     "data": {
      "application/vnd.jupyter.widget-view+json": {
       "model_id": "e86491dd01db48db883b10fbede11d8f",
       "version_major": 2,
       "version_minor": 0
      },
      "text/plain": [
       "  0%|          | 0/1400743 [00:00<?, ?it/s]"
      ]
     },
     "metadata": {},
     "output_type": "display_data"
    },
    {
     "name": "stdout",
     "output_type": "stream",
     "text": [
      "ESP_013019_1450/\n",
      "Downloading https://hirise-pds.lpl.arizona.edu/PDS/EXTRAS/RDR/ESP/ORB_013000_013099/ESP_013019_1450/ESP_013019_1450_RGB.NOMAP.browse.jpg to I:\\data\\mars\\ESP_013019_1450_RGB.NOMAP.browse.jpg\n"
     ]
    },
    {
     "data": {
      "application/vnd.jupyter.widget-view+json": {
       "model_id": "04a93a169dd54249bf1d4c0d35e079e4",
       "version_major": 2,
       "version_minor": 0
      },
      "text/plain": [
       "  0%|          | 0/823930 [00:00<?, ?it/s]"
      ]
     },
     "metadata": {},
     "output_type": "display_data"
    },
    {
     "name": "stdout",
     "output_type": "stream",
     "text": [
      "ESP_013021_0940/\n",
      "Downloading https://hirise-pds.lpl.arizona.edu/PDS/EXTRAS/RDR/ESP/ORB_013000_013099/ESP_013021_0940/ESP_013021_0940_RGB.NOMAP.browse.jpg to I:\\data\\mars\\ESP_013021_0940_RGB.NOMAP.browse.jpg\n"
     ]
    },
    {
     "data": {
      "application/vnd.jupyter.widget-view+json": {
       "model_id": "1727c2cefc854d35a19baf26d244c761",
       "version_major": 2,
       "version_minor": 0
      },
      "text/plain": [
       "  0%|          | 0/1586333 [00:00<?, ?it/s]"
      ]
     },
     "metadata": {},
     "output_type": "display_data"
    },
    {
     "name": "stdout",
     "output_type": "stream",
     "text": [
      "ESP_013022_1905/\n",
      "Downloading https://hirise-pds.lpl.arizona.edu/PDS/EXTRAS/RDR/ESP/ORB_013000_013099/ESP_013022_1905/ESP_013022_1905_RGB.NOMAP.browse.jpg to I:\\data\\mars\\ESP_013022_1905_RGB.NOMAP.browse.jpg\n"
     ]
    },
    {
     "data": {
      "application/vnd.jupyter.widget-view+json": {
       "model_id": "2e88f3f1fc924c10a97c8e59eaa48e7c",
       "version_major": 2,
       "version_minor": 0
      },
      "text/plain": [
       "  0%|          | 0/521957 [00:00<?, ?it/s]"
      ]
     },
     "metadata": {},
     "output_type": "display_data"
    },
    {
     "name": "stdout",
     "output_type": "stream",
     "text": [
      "ESP_013023_2040/\n",
      "Downloading https://hirise-pds.lpl.arizona.edu/PDS/EXTRAS/RDR/ESP/ORB_013000_013099/ESP_013023_2040/ESP_013023_2040_RGB.NOMAP.browse.jpg to I:\\data\\mars\\ESP_013023_2040_RGB.NOMAP.browse.jpg\n"
     ]
    },
    {
     "data": {
      "application/vnd.jupyter.widget-view+json": {
       "model_id": "7632253b7b96427d8e1cb7f2995eb053",
       "version_major": 2,
       "version_minor": 0
      },
      "text/plain": [
       "  0%|          | 0/2095985 [00:00<?, ?it/s]"
      ]
     },
     "metadata": {},
     "output_type": "display_data"
    },
    {
     "name": "stdout",
     "output_type": "stream",
     "text": [
      "ESP_013024_1425/\n",
      "Downloading https://hirise-pds.lpl.arizona.edu/PDS/EXTRAS/RDR/ESP/ORB_013000_013099/ESP_013024_1425/ESP_013024_1425_RGB.NOMAP.browse.jpg to I:\\data\\mars\\ESP_013024_1425_RGB.NOMAP.browse.jpg\n"
     ]
    },
    {
     "data": {
      "application/vnd.jupyter.widget-view+json": {
       "model_id": "df2d7fee575641f7b9e0bef8746563be",
       "version_major": 2,
       "version_minor": 0
      },
      "text/plain": [
       "  0%|          | 0/1801423 [00:00<?, ?it/s]"
      ]
     },
     "metadata": {},
     "output_type": "display_data"
    },
    {
     "name": "stdout",
     "output_type": "stream",
     "text": [
      "ESP_013024_2265/\n",
      "Downloading https://hirise-pds.lpl.arizona.edu/PDS/EXTRAS/RDR/ESP/ORB_013000_013099/ESP_013024_2265/ESP_013024_2265_RGB.NOMAP.browse.jpg to I:\\data\\mars\\ESP_013024_2265_RGB.NOMAP.browse.jpg\n"
     ]
    },
    {
     "data": {
      "application/vnd.jupyter.widget-view+json": {
       "model_id": "2ef5a3348ec8467ea7df53c50c841399",
       "version_major": 2,
       "version_minor": 0
      },
      "text/plain": [
       "  0%|          | 0/1889229 [00:00<?, ?it/s]"
      ]
     },
     "metadata": {},
     "output_type": "display_data"
    },
    {
     "name": "stdout",
     "output_type": "stream",
     "text": [
      "ESP_013025_1875/\n",
      "Downloading https://hirise-pds.lpl.arizona.edu/PDS/EXTRAS/RDR/ESP/ORB_013000_013099/ESP_013025_1875/ESP_013025_1875_RGB.NOMAP.browse.jpg to I:\\data\\mars\\ESP_013025_1875_RGB.NOMAP.browse.jpg\n"
     ]
    },
    {
     "data": {
      "application/vnd.jupyter.widget-view+json": {
       "model_id": "efcab65024244c8bb8bf8445c3078ed8",
       "version_major": 2,
       "version_minor": 0
      },
      "text/plain": [
       "  0%|          | 0/1300864 [00:00<?, ?it/s]"
      ]
     },
     "metadata": {},
     "output_type": "display_data"
    },
    {
     "name": "stdout",
     "output_type": "stream",
     "text": [
      "ESP_013026_1080/\n",
      "Downloading https://hirise-pds.lpl.arizona.edu/PDS/EXTRAS/RDR/ESP/ORB_013000_013099/ESP_013026_1080/ESP_013026_1080_RGB.NOMAP.browse.jpg to I:\\data\\mars\\ESP_013026_1080_RGB.NOMAP.browse.jpg\n"
     ]
    },
    {
     "data": {
      "application/vnd.jupyter.widget-view+json": {
       "model_id": "8e8512a9771f437daf2deec3cbe0533c",
       "version_major": 2,
       "version_minor": 0
      },
      "text/plain": [
       "  0%|          | 0/1812922 [00:00<?, ?it/s]"
      ]
     },
     "metadata": {},
     "output_type": "display_data"
    },
    {
     "name": "stdout",
     "output_type": "stream",
     "text": [
      "ESP_013027_1885/\n",
      "Downloading https://hirise-pds.lpl.arizona.edu/PDS/EXTRAS/RDR/ESP/ORB_013000_013099/ESP_013027_1885/ESP_013027_1885_RGB.NOMAP.browse.jpg to I:\\data\\mars\\ESP_013027_1885_RGB.NOMAP.browse.jpg\n"
     ]
    },
    {
     "data": {
      "application/vnd.jupyter.widget-view+json": {
       "model_id": "62afb3cc9df540fcbfc42780752df448",
       "version_major": 2,
       "version_minor": 0
      },
      "text/plain": [
       "  0%|          | 0/1574759 [00:00<?, ?it/s]"
      ]
     },
     "metadata": {},
     "output_type": "display_data"
    },
    {
     "name": "stdout",
     "output_type": "stream",
     "text": [
      "ESP_013028_1530/\n",
      "Downloading https://hirise-pds.lpl.arizona.edu/PDS/EXTRAS/RDR/ESP/ORB_013000_013099/ESP_013028_1530/ESP_013028_1530_RGB.NOMAP.browse.jpg to I:\\data\\mars\\ESP_013028_1530_RGB.NOMAP.browse.jpg\n"
     ]
    },
    {
     "data": {
      "application/vnd.jupyter.widget-view+json": {
       "model_id": "fd9811142436412893c3b655adbd5a14",
       "version_major": 2,
       "version_minor": 0
      },
      "text/plain": [
       "  0%|          | 0/1202740 [00:00<?, ?it/s]"
      ]
     },
     "metadata": {},
     "output_type": "display_data"
    },
    {
     "name": "stdout",
     "output_type": "stream",
     "text": [
      "ESP_013028_1955/\n",
      "Downloading https://hirise-pds.lpl.arizona.edu/PDS/EXTRAS/RDR/ESP/ORB_013000_013099/ESP_013028_1955/ESP_013028_1955_RGB.NOMAP.browse.jpg to I:\\data\\mars\\ESP_013028_1955_RGB.NOMAP.browse.jpg\n"
     ]
    },
    {
     "data": {
      "application/vnd.jupyter.widget-view+json": {
       "model_id": "96758e4da6e94346bfc64d697e77e9f0",
       "version_major": 2,
       "version_minor": 0
      },
      "text/plain": [
       "  0%|          | 0/884271 [00:00<?, ?it/s]"
      ]
     },
     "metadata": {},
     "output_type": "display_data"
    },
    {
     "name": "stdout",
     "output_type": "stream",
     "text": [
      "ESP_013029_1235/\n",
      "Downloading https://hirise-pds.lpl.arizona.edu/PDS/EXTRAS/RDR/ESP/ORB_013000_013099/ESP_013029_1235/ESP_013029_1235_RGB.NOMAP.browse.jpg to I:\\data\\mars\\ESP_013029_1235_RGB.NOMAP.browse.jpg\n"
     ]
    },
    {
     "data": {
      "application/vnd.jupyter.widget-view+json": {
       "model_id": "23ee4013059c44e1a089466e3b7d9213",
       "version_major": 2,
       "version_minor": 0
      },
      "text/plain": [
       "  0%|          | 0/866585 [00:00<?, ?it/s]"
      ]
     },
     "metadata": {},
     "output_type": "display_data"
    },
    {
     "name": "stdout",
     "output_type": "stream",
     "text": [
      "ESP_013030_0930/\n",
      "Downloading https://hirise-pds.lpl.arizona.edu/PDS/EXTRAS/RDR/ESP/ORB_013000_013099/ESP_013030_0930/ESP_013030_0930_RGB.NOMAP.browse.jpg to I:\\data\\mars\\ESP_013030_0930_RGB.NOMAP.browse.jpg\n"
     ]
    },
    {
     "data": {
      "application/vnd.jupyter.widget-view+json": {
       "model_id": "7719d08d4cc0462fac255a2072b4b554",
       "version_major": 2,
       "version_minor": 0
      },
      "text/plain": [
       "  0%|          | 0/3716081 [00:00<?, ?it/s]"
      ]
     },
     "metadata": {},
     "output_type": "display_data"
    },
    {
     "name": "stdout",
     "output_type": "stream",
     "text": [
      "ESP_013030_1750/\n",
      "Downloading https://hirise-pds.lpl.arizona.edu/PDS/EXTRAS/RDR/ESP/ORB_013000_013099/ESP_013030_1750/ESP_013030_1750_RGB.NOMAP.browse.jpg to I:\\data\\mars\\ESP_013030_1750_RGB.NOMAP.browse.jpg\n"
     ]
    },
    {
     "data": {
      "application/vnd.jupyter.widget-view+json": {
       "model_id": "b0e2fb357ced4a439b15c7e7f4c22a96",
       "version_major": 2,
       "version_minor": 0
      },
      "text/plain": [
       "  0%|          | 0/992993 [00:00<?, ?it/s]"
      ]
     },
     "metadata": {},
     "output_type": "display_data"
    },
    {
     "name": "stdout",
     "output_type": "stream",
     "text": [
      "ESP_013031_1800/\n",
      "Downloading https://hirise-pds.lpl.arizona.edu/PDS/EXTRAS/RDR/ESP/ORB_013000_013099/ESP_013031_1800/ESP_013031_1800_RGB.NOMAP.browse.jpg to I:\\data\\mars\\ESP_013031_1800_RGB.NOMAP.browse.jpg\n"
     ]
    },
    {
     "data": {
      "application/vnd.jupyter.widget-view+json": {
       "model_id": "1e9b82cad5724e8d835d05269c90be62",
       "version_major": 2,
       "version_minor": 0
      },
      "text/plain": [
       "  0%|          | 0/2024769 [00:00<?, ?it/s]"
      ]
     },
     "metadata": {},
     "output_type": "display_data"
    },
    {
     "name": "stdout",
     "output_type": "stream",
     "text": [
      "ESP_013032_1020/\n",
      "Downloading https://hirise-pds.lpl.arizona.edu/PDS/EXTRAS/RDR/ESP/ORB_013000_013099/ESP_013032_1020/ESP_013032_1020_RGB.NOMAP.browse.jpg to I:\\data\\mars\\ESP_013032_1020_RGB.NOMAP.browse.jpg\n"
     ]
    },
    {
     "data": {
      "application/vnd.jupyter.widget-view+json": {
       "model_id": "e3d675d72d05490195a829b0a03a218e",
       "version_major": 2,
       "version_minor": 0
      },
      "text/plain": [
       "  0%|          | 0/1085613 [00:00<?, ?it/s]"
      ]
     },
     "metadata": {},
     "output_type": "display_data"
    },
    {
     "name": "stdout",
     "output_type": "stream",
     "text": [
      "ESP_013033_1730/\n",
      "Downloading https://hirise-pds.lpl.arizona.edu/PDS/EXTRAS/RDR/ESP/ORB_013000_013099/ESP_013033_1730/ESP_013033_1730_RGB.NOMAP.browse.jpg to I:\\data\\mars\\ESP_013033_1730_RGB.NOMAP.browse.jpg\n"
     ]
    },
    {
     "data": {
      "application/vnd.jupyter.widget-view+json": {
       "model_id": "421e087ecbc940b094487abb8da0e543",
       "version_major": 2,
       "version_minor": 0
      },
      "text/plain": [
       "  0%|          | 0/946362 [00:00<?, ?it/s]"
      ]
     },
     "metadata": {},
     "output_type": "display_data"
    },
    {
     "name": "stdout",
     "output_type": "stream",
     "text": [
      "ESP_013034_0985/\n",
      "Downloading https://hirise-pds.lpl.arizona.edu/PDS/EXTRAS/RDR/ESP/ORB_013000_013099/ESP_013034_0985/ESP_013034_0985_RGB.NOMAP.browse.jpg to I:\\data\\mars\\ESP_013034_0985_RGB.NOMAP.browse.jpg\n"
     ]
    },
    {
     "data": {
      "application/vnd.jupyter.widget-view+json": {
       "model_id": "96092e26d451441e9310ec51a7affc8c",
       "version_major": 2,
       "version_minor": 0
      },
      "text/plain": [
       "  0%|          | 0/1638259 [00:00<?, ?it/s]"
      ]
     },
     "metadata": {},
     "output_type": "display_data"
    },
    {
     "name": "stdout",
     "output_type": "stream",
     "text": [
      "ESP_013034_2185/\n",
      "Downloading https://hirise-pds.lpl.arizona.edu/PDS/EXTRAS/RDR/ESP/ORB_013000_013099/ESP_013034_2185/ESP_013034_2185_RGB.NOMAP.browse.jpg to I:\\data\\mars\\ESP_013034_2185_RGB.NOMAP.browse.jpg\n"
     ]
    },
    {
     "data": {
      "application/vnd.jupyter.widget-view+json": {
       "model_id": "0e0bddb887ee4834bfbfd2185c1da663",
       "version_major": 2,
       "version_minor": 0
      },
      "text/plain": [
       "  0%|          | 0/439838 [00:00<?, ?it/s]"
      ]
     },
     "metadata": {},
     "output_type": "display_data"
    },
    {
     "name": "stdout",
     "output_type": "stream",
     "text": [
      "ESP_013035_1820/\n",
      "Downloading https://hirise-pds.lpl.arizona.edu/PDS/EXTRAS/RDR/ESP/ORB_013000_013099/ESP_013035_1820/ESP_013035_1820_RGB.NOMAP.browse.jpg to I:\\data\\mars\\ESP_013035_1820_RGB.NOMAP.browse.jpg\n"
     ]
    },
    {
     "data": {
      "application/vnd.jupyter.widget-view+json": {
       "model_id": "beeb23be309b4bd0a991b18f76e85a9e",
       "version_major": 2,
       "version_minor": 0
      },
      "text/plain": [
       "  0%|          | 0/606149 [00:00<?, ?it/s]"
      ]
     },
     "metadata": {},
     "output_type": "display_data"
    },
    {
     "name": "stdout",
     "output_type": "stream",
     "text": [
      "ESP_013036_1020/\n",
      "Downloading https://hirise-pds.lpl.arizona.edu/PDS/EXTRAS/RDR/ESP/ORB_013000_013099/ESP_013036_1020/ESP_013036_1020_RGB.NOMAP.browse.jpg to I:\\data\\mars\\ESP_013036_1020_RGB.NOMAP.browse.jpg\n"
     ]
    },
    {
     "data": {
      "application/vnd.jupyter.widget-view+json": {
       "model_id": "2a8ea71c24b74e7ca05b1be0c3c429f6",
       "version_major": 2,
       "version_minor": 0
      },
      "text/plain": [
       "  0%|          | 0/495173 [00:00<?, ?it/s]"
      ]
     },
     "metadata": {},
     "output_type": "display_data"
    },
    {
     "name": "stdout",
     "output_type": "stream",
     "text": [
      "ESP_013037_2055/\n",
      "Downloading https://hirise-pds.lpl.arizona.edu/PDS/EXTRAS/RDR/ESP/ORB_013000_013099/ESP_013037_2055/ESP_013037_2055_RGB.NOMAP.browse.jpg to I:\\data\\mars\\ESP_013037_2055_RGB.NOMAP.browse.jpg\n"
     ]
    },
    {
     "data": {
      "application/vnd.jupyter.widget-view+json": {
       "model_id": "5b005efc9c684a05a901b480ae8ae096",
       "version_major": 2,
       "version_minor": 0
      },
      "text/plain": [
       "  0%|          | 0/959890 [00:00<?, ?it/s]"
      ]
     },
     "metadata": {},
     "output_type": "display_data"
    },
    {
     "name": "stdout",
     "output_type": "stream",
     "text": [
      "ESP_013038_1915/\n",
      "Downloading https://hirise-pds.lpl.arizona.edu/PDS/EXTRAS/RDR/ESP/ORB_013000_013099/ESP_013038_1915/ESP_013038_1915_RGB.NOMAP.browse.jpg to I:\\data\\mars\\ESP_013038_1915_RGB.NOMAP.browse.jpg\n"
     ]
    },
    {
     "data": {
      "application/vnd.jupyter.widget-view+json": {
       "model_id": "52e4a945bc54478cb55ba1285a53eeea",
       "version_major": 2,
       "version_minor": 0
      },
      "text/plain": [
       "  0%|          | 0/891536 [00:00<?, ?it/s]"
      ]
     },
     "metadata": {},
     "output_type": "display_data"
    },
    {
     "name": "stdout",
     "output_type": "stream",
     "text": [
      "ESP_013039_2035/\n",
      "Downloading https://hirise-pds.lpl.arizona.edu/PDS/EXTRAS/RDR/ESP/ORB_013000_013099/ESP_013039_2035/ESP_013039_2035_RGB.NOMAP.browse.jpg to I:\\data\\mars\\ESP_013039_2035_RGB.NOMAP.browse.jpg\n"
     ]
    },
    {
     "data": {
      "application/vnd.jupyter.widget-view+json": {
       "model_id": "df2517accd114172a9617b6e73d02347",
       "version_major": 2,
       "version_minor": 0
      },
      "text/plain": [
       "  0%|          | 0/1483288 [00:00<?, ?it/s]"
      ]
     },
     "metadata": {},
     "output_type": "display_data"
    },
    {
     "name": "stdout",
     "output_type": "stream",
     "text": [
      "ESP_013040_1520/\n",
      "Downloading https://hirise-pds.lpl.arizona.edu/PDS/EXTRAS/RDR/ESP/ORB_013000_013099/ESP_013040_1520/ESP_013040_1520_RGB.NOMAP.browse.jpg to I:\\data\\mars\\ESP_013040_1520_RGB.NOMAP.browse.jpg\n"
     ]
    },
    {
     "data": {
      "application/vnd.jupyter.widget-view+json": {
       "model_id": "6fbb16fd8bbd41a2ac93f049e3f658e8",
       "version_major": 2,
       "version_minor": 0
      },
      "text/plain": [
       "  0%|          | 0/1003283 [00:00<?, ?it/s]"
      ]
     },
     "metadata": {},
     "output_type": "display_data"
    },
    {
     "name": "stdout",
     "output_type": "stream",
     "text": [
      "ESP_013041_1215/\n",
      "Downloading https://hirise-pds.lpl.arizona.edu/PDS/EXTRAS/RDR/ESP/ORB_013000_013099/ESP_013041_1215/ESP_013041_1215_RGB.NOMAP.browse.jpg to I:\\data\\mars\\ESP_013041_1215_RGB.NOMAP.browse.jpg\n"
     ]
    },
    {
     "data": {
      "application/vnd.jupyter.widget-view+json": {
       "model_id": "313eab8ab279484b9aa1cdcab1516535",
       "version_major": 2,
       "version_minor": 0
      },
      "text/plain": [
       "  0%|          | 0/947323 [00:00<?, ?it/s]"
      ]
     },
     "metadata": {},
     "output_type": "display_data"
    },
    {
     "name": "stdout",
     "output_type": "stream",
     "text": [
      "ESP_013041_1975/\n",
      "Downloading https://hirise-pds.lpl.arizona.edu/PDS/EXTRAS/RDR/ESP/ORB_013000_013099/ESP_013041_1975/ESP_013041_1975_RGB.NOMAP.browse.jpg to I:\\data\\mars\\ESP_013041_1975_RGB.NOMAP.browse.jpg\n"
     ]
    },
    {
     "data": {
      "application/vnd.jupyter.widget-view+json": {
       "model_id": "b90d4b786cd1411ca561a489c5683294",
       "version_major": 2,
       "version_minor": 0
      },
      "text/plain": [
       "  0%|          | 0/502609 [00:00<?, ?it/s]"
      ]
     },
     "metadata": {},
     "output_type": "display_data"
    },
    {
     "name": "stdout",
     "output_type": "stream",
     "text": [
      "ESP_013042_2055/\n",
      "Downloading https://hirise-pds.lpl.arizona.edu/PDS/EXTRAS/RDR/ESP/ORB_013000_013099/ESP_013042_2055/ESP_013042_2055_RGB.NOMAP.browse.jpg to I:\\data\\mars\\ESP_013042_2055_RGB.NOMAP.browse.jpg\n"
     ]
    },
    {
     "data": {
      "application/vnd.jupyter.widget-view+json": {
       "model_id": "33b36b07d57d4ad294a2f7a93f199505",
       "version_major": 2,
       "version_minor": 0
      },
      "text/plain": [
       "  0%|          | 0/865210 [00:00<?, ?it/s]"
      ]
     },
     "metadata": {},
     "output_type": "display_data"
    },
    {
     "name": "stdout",
     "output_type": "stream",
     "text": [
      "ESP_013043_1915/\n",
      "Downloading https://hirise-pds.lpl.arizona.edu/PDS/EXTRAS/RDR/ESP/ORB_013000_013099/ESP_013043_1915/ESP_013043_1915_RGB.NOMAP.browse.jpg to I:\\data\\mars\\ESP_013043_1915_RGB.NOMAP.browse.jpg\n"
     ]
    },
    {
     "data": {
      "application/vnd.jupyter.widget-view+json": {
       "model_id": "99090811e0bd41aa8530f4c70bd35801",
       "version_major": 2,
       "version_minor": 0
      },
      "text/plain": [
       "  0%|          | 0/951386 [00:00<?, ?it/s]"
      ]
     },
     "metadata": {},
     "output_type": "display_data"
    },
    {
     "name": "stdout",
     "output_type": "stream",
     "text": [
      "ESP_013044_1775/\n",
      "Downloading https://hirise-pds.lpl.arizona.edu/PDS/EXTRAS/RDR/ESP/ORB_013000_013099/ESP_013044_1775/ESP_013044_1775_RGB.NOMAP.browse.jpg to I:\\data\\mars\\ESP_013044_1775_RGB.NOMAP.browse.jpg\n"
     ]
    },
    {
     "data": {
      "application/vnd.jupyter.widget-view+json": {
       "model_id": "13ed7e90fe524284b283b7c0aa1b049a",
       "version_major": 2,
       "version_minor": 0
      },
      "text/plain": [
       "  0%|          | 0/807677 [00:00<?, ?it/s]"
      ]
     },
     "metadata": {},
     "output_type": "display_data"
    },
    {
     "name": "stdout",
     "output_type": "stream",
     "text": [
      "ESP_013045_1020/\n",
      "Downloading https://hirise-pds.lpl.arizona.edu/PDS/EXTRAS/RDR/ESP/ORB_013000_013099/ESP_013045_1020/ESP_013045_1020_RGB.NOMAP.browse.jpg to I:\\data\\mars\\ESP_013045_1020_RGB.NOMAP.browse.jpg\n"
     ]
    },
    {
     "data": {
      "application/vnd.jupyter.widget-view+json": {
       "model_id": "b51ebb25f2a34f139b76797a674c61ad",
       "version_major": 2,
       "version_minor": 0
      },
      "text/plain": [
       "  0%|          | 0/763179 [00:00<?, ?it/s]"
      ]
     },
     "metadata": {},
     "output_type": "display_data"
    },
    {
     "name": "stdout",
     "output_type": "stream",
     "text": [
      "ESP_013045_1615/\n",
      "Downloading https://hirise-pds.lpl.arizona.edu/PDS/EXTRAS/RDR/ESP/ORB_013000_013099/ESP_013045_1615/ESP_013045_1615_RGB.NOMAP.browse.jpg to I:\\data\\mars\\ESP_013045_1615_RGB.NOMAP.browse.jpg\n"
     ]
    },
    {
     "data": {
      "application/vnd.jupyter.widget-view+json": {
       "model_id": "f8e5e2b5bc664cf8a922a2812b080b14",
       "version_major": 2,
       "version_minor": 0
      },
      "text/plain": [
       "  0%|          | 0/1062126 [00:00<?, ?it/s]"
      ]
     },
     "metadata": {},
     "output_type": "display_data"
    },
    {
     "name": "stdout",
     "output_type": "stream",
     "text": [
      "ESP_013046_0950/\n",
      "Downloading https://hirise-pds.lpl.arizona.edu/PDS/EXTRAS/RDR/ESP/ORB_013000_013099/ESP_013046_0950/ESP_013046_0950_RGB.NOMAP.browse.jpg to I:\\data\\mars\\ESP_013046_0950_RGB.NOMAP.browse.jpg\n"
     ]
    },
    {
     "data": {
      "application/vnd.jupyter.widget-view+json": {
       "model_id": "dd149b0aba08402c9792da66cea5d0af",
       "version_major": 2,
       "version_minor": 0
      },
      "text/plain": [
       "  0%|          | 0/1432488 [00:00<?, ?it/s]"
      ]
     },
     "metadata": {},
     "output_type": "display_data"
    },
    {
     "name": "stdout",
     "output_type": "stream",
     "text": [
      "ESP_013046_1390/\n",
      "Downloading https://hirise-pds.lpl.arizona.edu/PDS/EXTRAS/RDR/ESP/ORB_013000_013099/ESP_013046_1390/ESP_013046_1390_RGB.NOMAP.browse.jpg to I:\\data\\mars\\ESP_013046_1390_RGB.NOMAP.browse.jpg\n"
     ]
    },
    {
     "data": {
      "application/vnd.jupyter.widget-view+json": {
       "model_id": "3ba12f503f9245cda20656c26c5b7969",
       "version_major": 2,
       "version_minor": 0
      },
      "text/plain": [
       "  0%|          | 0/1654778 [00:00<?, ?it/s]"
      ]
     },
     "metadata": {},
     "output_type": "display_data"
    },
    {
     "name": "stdout",
     "output_type": "stream",
     "text": [
      "ESP_013048_2045/\n",
      "Downloading https://hirise-pds.lpl.arizona.edu/PDS/EXTRAS/RDR/ESP/ORB_013000_013099/ESP_013048_2045/ESP_013048_2045_RGB.NOMAP.browse.jpg to I:\\data\\mars\\ESP_013048_2045_RGB.NOMAP.browse.jpg\n"
     ]
    },
    {
     "data": {
      "application/vnd.jupyter.widget-view+json": {
       "model_id": "24043af0e7044a0db6afc14f0bf944f9",
       "version_major": 2,
       "version_minor": 0
      },
      "text/plain": [
       "  0%|          | 0/1210130 [00:00<?, ?it/s]"
      ]
     },
     "metadata": {},
     "output_type": "display_data"
    },
    {
     "name": "stdout",
     "output_type": "stream",
     "text": [
      "ESP_013049_0950/\n"
     ]
    },
    {
     "ename": "SSLError",
     "evalue": "HTTPSConnectionPool(host='hirise-pds.lpl.arizona.edu', port=443): Max retries exceeded with url: /PDS/EXTRAS/RDR/ESP/ORB_013000_013099/ESP_013049_0950/ (Caused by SSLError(SSLZeroReturnError(6, 'TLS/SSL connection has been closed (EOF) (_ssl.c:1129)')))",
     "output_type": "error",
     "traceback": [
      "\u001b[1;31m---------------------------------------------------------------------------\u001b[0m",
      "\u001b[1;31mSSLZeroReturnError\u001b[0m                        Traceback (most recent call last)",
      "File \u001b[1;32m~\\anaconda3\\envs\\gpd\\lib\\site-packages\\urllib3\\connectionpool.py:700\u001b[0m, in \u001b[0;36mHTTPConnectionPool.urlopen\u001b[1;34m(self, method, url, body, headers, retries, redirect, assert_same_host, timeout, pool_timeout, release_conn, chunked, body_pos, **response_kw)\u001b[0m\n\u001b[0;32m    699\u001b[0m \u001b[38;5;28;01mif\u001b[39;00m is_new_proxy_conn \u001b[38;5;129;01mand\u001b[39;00m http_tunnel_required:\n\u001b[1;32m--> 700\u001b[0m     \u001b[38;5;28;43mself\u001b[39;49m\u001b[38;5;241;43m.\u001b[39;49m\u001b[43m_prepare_proxy\u001b[49m\u001b[43m(\u001b[49m\u001b[43mconn\u001b[49m\u001b[43m)\u001b[49m\n\u001b[0;32m    702\u001b[0m \u001b[38;5;66;03m# Make the request on the httplib connection object.\u001b[39;00m\n",
      "File \u001b[1;32m~\\anaconda3\\envs\\gpd\\lib\\site-packages\\urllib3\\connectionpool.py:996\u001b[0m, in \u001b[0;36mHTTPSConnectionPool._prepare_proxy\u001b[1;34m(self, conn)\u001b[0m\n\u001b[0;32m    994\u001b[0m     conn\u001b[38;5;241m.\u001b[39mtls_in_tls_required \u001b[38;5;241m=\u001b[39m \u001b[38;5;28;01mTrue\u001b[39;00m\n\u001b[1;32m--> 996\u001b[0m \u001b[43mconn\u001b[49m\u001b[38;5;241;43m.\u001b[39;49m\u001b[43mconnect\u001b[49m\u001b[43m(\u001b[49m\u001b[43m)\u001b[49m\n",
      "File \u001b[1;32m~\\anaconda3\\envs\\gpd\\lib\\site-packages\\urllib3\\connection.py:414\u001b[0m, in \u001b[0;36mHTTPSConnection.connect\u001b[1;34m(self)\u001b[0m\n\u001b[0;32m    412\u001b[0m     context\u001b[38;5;241m.\u001b[39mload_default_certs()\n\u001b[1;32m--> 414\u001b[0m \u001b[38;5;28mself\u001b[39m\u001b[38;5;241m.\u001b[39msock \u001b[38;5;241m=\u001b[39m \u001b[43mssl_wrap_socket\u001b[49m\u001b[43m(\u001b[49m\n\u001b[0;32m    415\u001b[0m \u001b[43m    \u001b[49m\u001b[43msock\u001b[49m\u001b[38;5;241;43m=\u001b[39;49m\u001b[43mconn\u001b[49m\u001b[43m,\u001b[49m\n\u001b[0;32m    416\u001b[0m \u001b[43m    \u001b[49m\u001b[43mkeyfile\u001b[49m\u001b[38;5;241;43m=\u001b[39;49m\u001b[38;5;28;43mself\u001b[39;49m\u001b[38;5;241;43m.\u001b[39;49m\u001b[43mkey_file\u001b[49m\u001b[43m,\u001b[49m\n\u001b[0;32m    417\u001b[0m \u001b[43m    \u001b[49m\u001b[43mcertfile\u001b[49m\u001b[38;5;241;43m=\u001b[39;49m\u001b[38;5;28;43mself\u001b[39;49m\u001b[38;5;241;43m.\u001b[39;49m\u001b[43mcert_file\u001b[49m\u001b[43m,\u001b[49m\n\u001b[0;32m    418\u001b[0m \u001b[43m    \u001b[49m\u001b[43mkey_password\u001b[49m\u001b[38;5;241;43m=\u001b[39;49m\u001b[38;5;28;43mself\u001b[39;49m\u001b[38;5;241;43m.\u001b[39;49m\u001b[43mkey_password\u001b[49m\u001b[43m,\u001b[49m\n\u001b[0;32m    419\u001b[0m \u001b[43m    \u001b[49m\u001b[43mca_certs\u001b[49m\u001b[38;5;241;43m=\u001b[39;49m\u001b[38;5;28;43mself\u001b[39;49m\u001b[38;5;241;43m.\u001b[39;49m\u001b[43mca_certs\u001b[49m\u001b[43m,\u001b[49m\n\u001b[0;32m    420\u001b[0m \u001b[43m    \u001b[49m\u001b[43mca_cert_dir\u001b[49m\u001b[38;5;241;43m=\u001b[39;49m\u001b[38;5;28;43mself\u001b[39;49m\u001b[38;5;241;43m.\u001b[39;49m\u001b[43mca_cert_dir\u001b[49m\u001b[43m,\u001b[49m\n\u001b[0;32m    421\u001b[0m \u001b[43m    \u001b[49m\u001b[43mca_cert_data\u001b[49m\u001b[38;5;241;43m=\u001b[39;49m\u001b[38;5;28;43mself\u001b[39;49m\u001b[38;5;241;43m.\u001b[39;49m\u001b[43mca_cert_data\u001b[49m\u001b[43m,\u001b[49m\n\u001b[0;32m    422\u001b[0m \u001b[43m    \u001b[49m\u001b[43mserver_hostname\u001b[49m\u001b[38;5;241;43m=\u001b[39;49m\u001b[43mserver_hostname\u001b[49m\u001b[43m,\u001b[49m\n\u001b[0;32m    423\u001b[0m \u001b[43m    \u001b[49m\u001b[43mssl_context\u001b[49m\u001b[38;5;241;43m=\u001b[39;49m\u001b[43mcontext\u001b[49m\u001b[43m,\u001b[49m\n\u001b[0;32m    424\u001b[0m \u001b[43m    \u001b[49m\u001b[43mtls_in_tls\u001b[49m\u001b[38;5;241;43m=\u001b[39;49m\u001b[43mtls_in_tls\u001b[49m\u001b[43m,\u001b[49m\n\u001b[0;32m    425\u001b[0m \u001b[43m\u001b[49m\u001b[43m)\u001b[49m\n\u001b[0;32m    427\u001b[0m \u001b[38;5;66;03m# If we're using all defaults and the connection\u001b[39;00m\n\u001b[0;32m    428\u001b[0m \u001b[38;5;66;03m# is TLSv1 or TLSv1.1 we throw a DeprecationWarning\u001b[39;00m\n\u001b[0;32m    429\u001b[0m \u001b[38;5;66;03m# for the host.\u001b[39;00m\n",
      "File \u001b[1;32m~\\anaconda3\\envs\\gpd\\lib\\site-packages\\urllib3\\util\\ssl_.py:449\u001b[0m, in \u001b[0;36mssl_wrap_socket\u001b[1;34m(sock, keyfile, certfile, cert_reqs, ca_certs, server_hostname, ssl_version, ciphers, ssl_context, ca_cert_dir, key_password, ca_cert_data, tls_in_tls)\u001b[0m\n\u001b[0;32m    448\u001b[0m \u001b[38;5;28;01mif\u001b[39;00m send_sni:\n\u001b[1;32m--> 449\u001b[0m     ssl_sock \u001b[38;5;241m=\u001b[39m \u001b[43m_ssl_wrap_socket_impl\u001b[49m\u001b[43m(\u001b[49m\n\u001b[0;32m    450\u001b[0m \u001b[43m        \u001b[49m\u001b[43msock\u001b[49m\u001b[43m,\u001b[49m\u001b[43m \u001b[49m\u001b[43mcontext\u001b[49m\u001b[43m,\u001b[49m\u001b[43m \u001b[49m\u001b[43mtls_in_tls\u001b[49m\u001b[43m,\u001b[49m\u001b[43m \u001b[49m\u001b[43mserver_hostname\u001b[49m\u001b[38;5;241;43m=\u001b[39;49m\u001b[43mserver_hostname\u001b[49m\n\u001b[0;32m    451\u001b[0m \u001b[43m    \u001b[49m\u001b[43m)\u001b[49m\n\u001b[0;32m    452\u001b[0m \u001b[38;5;28;01melse\u001b[39;00m:\n",
      "File \u001b[1;32m~\\anaconda3\\envs\\gpd\\lib\\site-packages\\urllib3\\util\\ssl_.py:493\u001b[0m, in \u001b[0;36m_ssl_wrap_socket_impl\u001b[1;34m(sock, ssl_context, tls_in_tls, server_hostname)\u001b[0m\n\u001b[0;32m    492\u001b[0m \u001b[38;5;28;01mif\u001b[39;00m server_hostname:\n\u001b[1;32m--> 493\u001b[0m     \u001b[38;5;28;01mreturn\u001b[39;00m \u001b[43mssl_context\u001b[49m\u001b[38;5;241;43m.\u001b[39;49m\u001b[43mwrap_socket\u001b[49m\u001b[43m(\u001b[49m\u001b[43msock\u001b[49m\u001b[43m,\u001b[49m\u001b[43m \u001b[49m\u001b[43mserver_hostname\u001b[49m\u001b[38;5;241;43m=\u001b[39;49m\u001b[43mserver_hostname\u001b[49m\u001b[43m)\u001b[49m\n\u001b[0;32m    494\u001b[0m \u001b[38;5;28;01melse\u001b[39;00m:\n",
      "File \u001b[1;32m~\\anaconda3\\envs\\gpd\\lib\\ssl.py:501\u001b[0m, in \u001b[0;36mSSLContext.wrap_socket\u001b[1;34m(self, sock, server_side, do_handshake_on_connect, suppress_ragged_eofs, server_hostname, session)\u001b[0m\n\u001b[0;32m    495\u001b[0m \u001b[38;5;28;01mdef\u001b[39;00m \u001b[38;5;21mwrap_socket\u001b[39m(\u001b[38;5;28mself\u001b[39m, sock, server_side\u001b[38;5;241m=\u001b[39m\u001b[38;5;28;01mFalse\u001b[39;00m,\n\u001b[0;32m    496\u001b[0m                 do_handshake_on_connect\u001b[38;5;241m=\u001b[39m\u001b[38;5;28;01mTrue\u001b[39;00m,\n\u001b[0;32m    497\u001b[0m                 suppress_ragged_eofs\u001b[38;5;241m=\u001b[39m\u001b[38;5;28;01mTrue\u001b[39;00m,\n\u001b[0;32m    498\u001b[0m                 server_hostname\u001b[38;5;241m=\u001b[39m\u001b[38;5;28;01mNone\u001b[39;00m, session\u001b[38;5;241m=\u001b[39m\u001b[38;5;28;01mNone\u001b[39;00m):\n\u001b[0;32m    499\u001b[0m     \u001b[38;5;66;03m# SSLSocket class handles server_hostname encoding before it calls\u001b[39;00m\n\u001b[0;32m    500\u001b[0m     \u001b[38;5;66;03m# ctx._wrap_socket()\u001b[39;00m\n\u001b[1;32m--> 501\u001b[0m     \u001b[38;5;28;01mreturn\u001b[39;00m \u001b[38;5;28;43mself\u001b[39;49m\u001b[38;5;241;43m.\u001b[39;49m\u001b[43msslsocket_class\u001b[49m\u001b[38;5;241;43m.\u001b[39;49m\u001b[43m_create\u001b[49m\u001b[43m(\u001b[49m\n\u001b[0;32m    502\u001b[0m \u001b[43m        \u001b[49m\u001b[43msock\u001b[49m\u001b[38;5;241;43m=\u001b[39;49m\u001b[43msock\u001b[49m\u001b[43m,\u001b[49m\n\u001b[0;32m    503\u001b[0m \u001b[43m        \u001b[49m\u001b[43mserver_side\u001b[49m\u001b[38;5;241;43m=\u001b[39;49m\u001b[43mserver_side\u001b[49m\u001b[43m,\u001b[49m\n\u001b[0;32m    504\u001b[0m \u001b[43m        \u001b[49m\u001b[43mdo_handshake_on_connect\u001b[49m\u001b[38;5;241;43m=\u001b[39;49m\u001b[43mdo_handshake_on_connect\u001b[49m\u001b[43m,\u001b[49m\n\u001b[0;32m    505\u001b[0m \u001b[43m        \u001b[49m\u001b[43msuppress_ragged_eofs\u001b[49m\u001b[38;5;241;43m=\u001b[39;49m\u001b[43msuppress_ragged_eofs\u001b[49m\u001b[43m,\u001b[49m\n\u001b[0;32m    506\u001b[0m \u001b[43m        \u001b[49m\u001b[43mserver_hostname\u001b[49m\u001b[38;5;241;43m=\u001b[39;49m\u001b[43mserver_hostname\u001b[49m\u001b[43m,\u001b[49m\n\u001b[0;32m    507\u001b[0m \u001b[43m        \u001b[49m\u001b[43mcontext\u001b[49m\u001b[38;5;241;43m=\u001b[39;49m\u001b[38;5;28;43mself\u001b[39;49m\u001b[43m,\u001b[49m\n\u001b[0;32m    508\u001b[0m \u001b[43m        \u001b[49m\u001b[43msession\u001b[49m\u001b[38;5;241;43m=\u001b[39;49m\u001b[43msession\u001b[49m\n\u001b[0;32m    509\u001b[0m \u001b[43m    \u001b[49m\u001b[43m)\u001b[49m\n",
      "File \u001b[1;32m~\\anaconda3\\envs\\gpd\\lib\\ssl.py:1041\u001b[0m, in \u001b[0;36mSSLSocket._create\u001b[1;34m(cls, sock, server_side, do_handshake_on_connect, suppress_ragged_eofs, server_hostname, context, session)\u001b[0m\n\u001b[0;32m   1040\u001b[0m             \u001b[38;5;28;01mraise\u001b[39;00m \u001b[38;5;167;01mValueError\u001b[39;00m(\u001b[38;5;124m\"\u001b[39m\u001b[38;5;124mdo_handshake_on_connect should not be specified for non-blocking sockets\u001b[39m\u001b[38;5;124m\"\u001b[39m)\n\u001b[1;32m-> 1041\u001b[0m         \u001b[38;5;28;43mself\u001b[39;49m\u001b[38;5;241;43m.\u001b[39;49m\u001b[43mdo_handshake\u001b[49m\u001b[43m(\u001b[49m\u001b[43m)\u001b[49m\n\u001b[0;32m   1042\u001b[0m \u001b[38;5;28;01mexcept\u001b[39;00m (\u001b[38;5;167;01mOSError\u001b[39;00m, \u001b[38;5;167;01mValueError\u001b[39;00m):\n",
      "File \u001b[1;32m~\\anaconda3\\envs\\gpd\\lib\\ssl.py:1310\u001b[0m, in \u001b[0;36mSSLSocket.do_handshake\u001b[1;34m(self, block)\u001b[0m\n\u001b[0;32m   1309\u001b[0m         \u001b[38;5;28mself\u001b[39m\u001b[38;5;241m.\u001b[39msettimeout(\u001b[38;5;28;01mNone\u001b[39;00m)\n\u001b[1;32m-> 1310\u001b[0m     \u001b[38;5;28;43mself\u001b[39;49m\u001b[38;5;241;43m.\u001b[39;49m\u001b[43m_sslobj\u001b[49m\u001b[38;5;241;43m.\u001b[39;49m\u001b[43mdo_handshake\u001b[49m\u001b[43m(\u001b[49m\u001b[43m)\u001b[49m\n\u001b[0;32m   1311\u001b[0m \u001b[38;5;28;01mfinally\u001b[39;00m:\n",
      "\u001b[1;31mSSLZeroReturnError\u001b[0m: TLS/SSL connection has been closed (EOF) (_ssl.c:1129)",
      "\nDuring handling of the above exception, another exception occurred:\n",
      "\u001b[1;31mMaxRetryError\u001b[0m                             Traceback (most recent call last)",
      "File \u001b[1;32m~\\anaconda3\\envs\\gpd\\lib\\site-packages\\requests\\adapters.py:489\u001b[0m, in \u001b[0;36mHTTPAdapter.send\u001b[1;34m(self, request, stream, timeout, verify, cert, proxies)\u001b[0m\n\u001b[0;32m    488\u001b[0m \u001b[38;5;28;01mif\u001b[39;00m \u001b[38;5;129;01mnot\u001b[39;00m chunked:\n\u001b[1;32m--> 489\u001b[0m     resp \u001b[38;5;241m=\u001b[39m \u001b[43mconn\u001b[49m\u001b[38;5;241;43m.\u001b[39;49m\u001b[43murlopen\u001b[49m\u001b[43m(\u001b[49m\n\u001b[0;32m    490\u001b[0m \u001b[43m        \u001b[49m\u001b[43mmethod\u001b[49m\u001b[38;5;241;43m=\u001b[39;49m\u001b[43mrequest\u001b[49m\u001b[38;5;241;43m.\u001b[39;49m\u001b[43mmethod\u001b[49m\u001b[43m,\u001b[49m\n\u001b[0;32m    491\u001b[0m \u001b[43m        \u001b[49m\u001b[43murl\u001b[49m\u001b[38;5;241;43m=\u001b[39;49m\u001b[43murl\u001b[49m\u001b[43m,\u001b[49m\n\u001b[0;32m    492\u001b[0m \u001b[43m        \u001b[49m\u001b[43mbody\u001b[49m\u001b[38;5;241;43m=\u001b[39;49m\u001b[43mrequest\u001b[49m\u001b[38;5;241;43m.\u001b[39;49m\u001b[43mbody\u001b[49m\u001b[43m,\u001b[49m\n\u001b[0;32m    493\u001b[0m \u001b[43m        \u001b[49m\u001b[43mheaders\u001b[49m\u001b[38;5;241;43m=\u001b[39;49m\u001b[43mrequest\u001b[49m\u001b[38;5;241;43m.\u001b[39;49m\u001b[43mheaders\u001b[49m\u001b[43m,\u001b[49m\n\u001b[0;32m    494\u001b[0m \u001b[43m        \u001b[49m\u001b[43mredirect\u001b[49m\u001b[38;5;241;43m=\u001b[39;49m\u001b[38;5;28;43;01mFalse\u001b[39;49;00m\u001b[43m,\u001b[49m\n\u001b[0;32m    495\u001b[0m \u001b[43m        \u001b[49m\u001b[43massert_same_host\u001b[49m\u001b[38;5;241;43m=\u001b[39;49m\u001b[38;5;28;43;01mFalse\u001b[39;49;00m\u001b[43m,\u001b[49m\n\u001b[0;32m    496\u001b[0m \u001b[43m        \u001b[49m\u001b[43mpreload_content\u001b[49m\u001b[38;5;241;43m=\u001b[39;49m\u001b[38;5;28;43;01mFalse\u001b[39;49;00m\u001b[43m,\u001b[49m\n\u001b[0;32m    497\u001b[0m \u001b[43m        \u001b[49m\u001b[43mdecode_content\u001b[49m\u001b[38;5;241;43m=\u001b[39;49m\u001b[38;5;28;43;01mFalse\u001b[39;49;00m\u001b[43m,\u001b[49m\n\u001b[0;32m    498\u001b[0m \u001b[43m        \u001b[49m\u001b[43mretries\u001b[49m\u001b[38;5;241;43m=\u001b[39;49m\u001b[38;5;28;43mself\u001b[39;49m\u001b[38;5;241;43m.\u001b[39;49m\u001b[43mmax_retries\u001b[49m\u001b[43m,\u001b[49m\n\u001b[0;32m    499\u001b[0m \u001b[43m        \u001b[49m\u001b[43mtimeout\u001b[49m\u001b[38;5;241;43m=\u001b[39;49m\u001b[43mtimeout\u001b[49m\u001b[43m,\u001b[49m\n\u001b[0;32m    500\u001b[0m \u001b[43m    \u001b[49m\u001b[43m)\u001b[49m\n\u001b[0;32m    502\u001b[0m \u001b[38;5;66;03m# Send the request.\u001b[39;00m\n\u001b[0;32m    503\u001b[0m \u001b[38;5;28;01melse\u001b[39;00m:\n",
      "File \u001b[1;32m~\\anaconda3\\envs\\gpd\\lib\\site-packages\\urllib3\\connectionpool.py:787\u001b[0m, in \u001b[0;36mHTTPConnectionPool.urlopen\u001b[1;34m(self, method, url, body, headers, retries, redirect, assert_same_host, timeout, pool_timeout, release_conn, chunked, body_pos, **response_kw)\u001b[0m\n\u001b[0;32m    785\u001b[0m     e \u001b[38;5;241m=\u001b[39m ProtocolError(\u001b[38;5;124m\"\u001b[39m\u001b[38;5;124mConnection aborted.\u001b[39m\u001b[38;5;124m\"\u001b[39m, e)\n\u001b[1;32m--> 787\u001b[0m retries \u001b[38;5;241m=\u001b[39m \u001b[43mretries\u001b[49m\u001b[38;5;241;43m.\u001b[39;49m\u001b[43mincrement\u001b[49m\u001b[43m(\u001b[49m\n\u001b[0;32m    788\u001b[0m \u001b[43m    \u001b[49m\u001b[43mmethod\u001b[49m\u001b[43m,\u001b[49m\u001b[43m \u001b[49m\u001b[43murl\u001b[49m\u001b[43m,\u001b[49m\u001b[43m \u001b[49m\u001b[43merror\u001b[49m\u001b[38;5;241;43m=\u001b[39;49m\u001b[43me\u001b[49m\u001b[43m,\u001b[49m\u001b[43m \u001b[49m\u001b[43m_pool\u001b[49m\u001b[38;5;241;43m=\u001b[39;49m\u001b[38;5;28;43mself\u001b[39;49m\u001b[43m,\u001b[49m\u001b[43m \u001b[49m\u001b[43m_stacktrace\u001b[49m\u001b[38;5;241;43m=\u001b[39;49m\u001b[43msys\u001b[49m\u001b[38;5;241;43m.\u001b[39;49m\u001b[43mexc_info\u001b[49m\u001b[43m(\u001b[49m\u001b[43m)\u001b[49m\u001b[43m[\u001b[49m\u001b[38;5;241;43m2\u001b[39;49m\u001b[43m]\u001b[49m\n\u001b[0;32m    789\u001b[0m \u001b[43m\u001b[49m\u001b[43m)\u001b[49m\n\u001b[0;32m    790\u001b[0m retries\u001b[38;5;241m.\u001b[39msleep()\n",
      "File \u001b[1;32m~\\anaconda3\\envs\\gpd\\lib\\site-packages\\urllib3\\util\\retry.py:592\u001b[0m, in \u001b[0;36mRetry.increment\u001b[1;34m(self, method, url, response, error, _pool, _stacktrace)\u001b[0m\n\u001b[0;32m    591\u001b[0m \u001b[38;5;28;01mif\u001b[39;00m new_retry\u001b[38;5;241m.\u001b[39mis_exhausted():\n\u001b[1;32m--> 592\u001b[0m     \u001b[38;5;28;01mraise\u001b[39;00m MaxRetryError(_pool, url, error \u001b[38;5;129;01mor\u001b[39;00m ResponseError(cause))\n\u001b[0;32m    594\u001b[0m log\u001b[38;5;241m.\u001b[39mdebug(\u001b[38;5;124m\"\u001b[39m\u001b[38;5;124mIncremented Retry for (url=\u001b[39m\u001b[38;5;124m'\u001b[39m\u001b[38;5;132;01m%s\u001b[39;00m\u001b[38;5;124m'\u001b[39m\u001b[38;5;124m): \u001b[39m\u001b[38;5;132;01m%r\u001b[39;00m\u001b[38;5;124m\"\u001b[39m, url, new_retry)\n",
      "\u001b[1;31mMaxRetryError\u001b[0m: HTTPSConnectionPool(host='hirise-pds.lpl.arizona.edu', port=443): Max retries exceeded with url: /PDS/EXTRAS/RDR/ESP/ORB_013000_013099/ESP_013049_0950/ (Caused by SSLError(SSLZeroReturnError(6, 'TLS/SSL connection has been closed (EOF) (_ssl.c:1129)')))",
      "\nDuring handling of the above exception, another exception occurred:\n",
      "\u001b[1;31mSSLError\u001b[0m                                  Traceback (most recent call last)",
      "Cell \u001b[1;32mIn[26], line 22\u001b[0m\n\u001b[0;32m     19\u001b[0m \u001b[38;5;28mprint\u001b[39m(sub_folder)\n\u001b[0;32m     20\u001b[0m sub_folder_url \u001b[38;5;241m=\u001b[39m folder_url \u001b[38;5;241m+\u001b[39m sub_folder\n\u001b[1;32m---> 22\u001b[0m r3 \u001b[38;5;241m=\u001b[39m \u001b[43mrequests\u001b[49m\u001b[38;5;241;43m.\u001b[39;49m\u001b[43mget\u001b[49m\u001b[43m(\u001b[49m\u001b[43msub_folder_url\u001b[49m\u001b[43m)\u001b[49m\n\u001b[0;32m     23\u001b[0m html3 \u001b[38;5;241m=\u001b[39m BeautifulSoup(r3\u001b[38;5;241m.\u001b[39mcontent, \u001b[38;5;124m\"\u001b[39m\u001b[38;5;124mhtml.parser\u001b[39m\u001b[38;5;124m\"\u001b[39m)\n\u001b[0;32m     24\u001b[0m a3 \u001b[38;5;241m=\u001b[39m html3\u001b[38;5;241m.\u001b[39mfindAll(\u001b[38;5;124m'\u001b[39m\u001b[38;5;124ma\u001b[39m\u001b[38;5;124m'\u001b[39m)\n",
      "File \u001b[1;32m~\\anaconda3\\envs\\gpd\\lib\\site-packages\\requests\\api.py:73\u001b[0m, in \u001b[0;36mget\u001b[1;34m(url, params, **kwargs)\u001b[0m\n\u001b[0;32m     62\u001b[0m \u001b[38;5;28;01mdef\u001b[39;00m \u001b[38;5;21mget\u001b[39m(url, params\u001b[38;5;241m=\u001b[39m\u001b[38;5;28;01mNone\u001b[39;00m, \u001b[38;5;241m*\u001b[39m\u001b[38;5;241m*\u001b[39mkwargs):\n\u001b[0;32m     63\u001b[0m \u001b[38;5;250m    \u001b[39m\u001b[38;5;124mr\u001b[39m\u001b[38;5;124;03m\"\"\"Sends a GET request.\u001b[39;00m\n\u001b[0;32m     64\u001b[0m \n\u001b[0;32m     65\u001b[0m \u001b[38;5;124;03m    :param url: URL for the new :class:`Request` object.\u001b[39;00m\n\u001b[1;32m   (...)\u001b[0m\n\u001b[0;32m     70\u001b[0m \u001b[38;5;124;03m    :rtype: requests.Response\u001b[39;00m\n\u001b[0;32m     71\u001b[0m \u001b[38;5;124;03m    \"\"\"\u001b[39;00m\n\u001b[1;32m---> 73\u001b[0m     \u001b[38;5;28;01mreturn\u001b[39;00m request(\u001b[38;5;124m\"\u001b[39m\u001b[38;5;124mget\u001b[39m\u001b[38;5;124m\"\u001b[39m, url, params\u001b[38;5;241m=\u001b[39mparams, \u001b[38;5;241m*\u001b[39m\u001b[38;5;241m*\u001b[39mkwargs)\n",
      "File \u001b[1;32m~\\anaconda3\\envs\\gpd\\lib\\site-packages\\requests\\api.py:59\u001b[0m, in \u001b[0;36mrequest\u001b[1;34m(method, url, **kwargs)\u001b[0m\n\u001b[0;32m     55\u001b[0m \u001b[38;5;66;03m# By using the 'with' statement we are sure the session is closed, thus we\u001b[39;00m\n\u001b[0;32m     56\u001b[0m \u001b[38;5;66;03m# avoid leaving sockets open which can trigger a ResourceWarning in some\u001b[39;00m\n\u001b[0;32m     57\u001b[0m \u001b[38;5;66;03m# cases, and look like a memory leak in others.\u001b[39;00m\n\u001b[0;32m     58\u001b[0m \u001b[38;5;28;01mwith\u001b[39;00m sessions\u001b[38;5;241m.\u001b[39mSession() \u001b[38;5;28;01mas\u001b[39;00m session:\n\u001b[1;32m---> 59\u001b[0m     \u001b[38;5;28;01mreturn\u001b[39;00m session\u001b[38;5;241m.\u001b[39mrequest(method\u001b[38;5;241m=\u001b[39mmethod, url\u001b[38;5;241m=\u001b[39murl, \u001b[38;5;241m*\u001b[39m\u001b[38;5;241m*\u001b[39mkwargs)\n",
      "File \u001b[1;32m~\\anaconda3\\envs\\gpd\\lib\\site-packages\\requests\\sessions.py:587\u001b[0m, in \u001b[0;36mSession.request\u001b[1;34m(self, method, url, params, data, headers, cookies, files, auth, timeout, allow_redirects, proxies, hooks, stream, verify, cert, json)\u001b[0m\n\u001b[0;32m    582\u001b[0m send_kwargs \u001b[38;5;241m=\u001b[39m {\n\u001b[0;32m    583\u001b[0m     \u001b[38;5;124m\"\u001b[39m\u001b[38;5;124mtimeout\u001b[39m\u001b[38;5;124m\"\u001b[39m: timeout,\n\u001b[0;32m    584\u001b[0m     \u001b[38;5;124m\"\u001b[39m\u001b[38;5;124mallow_redirects\u001b[39m\u001b[38;5;124m\"\u001b[39m: allow_redirects,\n\u001b[0;32m    585\u001b[0m }\n\u001b[0;32m    586\u001b[0m send_kwargs\u001b[38;5;241m.\u001b[39mupdate(settings)\n\u001b[1;32m--> 587\u001b[0m resp \u001b[38;5;241m=\u001b[39m \u001b[38;5;28mself\u001b[39m\u001b[38;5;241m.\u001b[39msend(prep, \u001b[38;5;241m*\u001b[39m\u001b[38;5;241m*\u001b[39msend_kwargs)\n\u001b[0;32m    589\u001b[0m \u001b[38;5;28;01mreturn\u001b[39;00m resp\n",
      "File \u001b[1;32m~\\anaconda3\\envs\\gpd\\lib\\site-packages\\requests\\sessions.py:701\u001b[0m, in \u001b[0;36mSession.send\u001b[1;34m(self, request, **kwargs)\u001b[0m\n\u001b[0;32m    698\u001b[0m start \u001b[38;5;241m=\u001b[39m preferred_clock()\n\u001b[0;32m    700\u001b[0m \u001b[38;5;66;03m# Send the request\u001b[39;00m\n\u001b[1;32m--> 701\u001b[0m r \u001b[38;5;241m=\u001b[39m adapter\u001b[38;5;241m.\u001b[39msend(request, \u001b[38;5;241m*\u001b[39m\u001b[38;5;241m*\u001b[39mkwargs)\n\u001b[0;32m    703\u001b[0m \u001b[38;5;66;03m# Total elapsed time of the request (approximately)\u001b[39;00m\n\u001b[0;32m    704\u001b[0m elapsed \u001b[38;5;241m=\u001b[39m preferred_clock() \u001b[38;5;241m-\u001b[39m start\n",
      "File \u001b[1;32m~\\anaconda3\\envs\\gpd\\lib\\site-packages\\requests\\adapters.py:563\u001b[0m, in \u001b[0;36mHTTPAdapter.send\u001b[1;34m(self, request, stream, timeout, verify, cert, proxies)\u001b[0m\n\u001b[0;32m    559\u001b[0m         \u001b[38;5;28;01mraise\u001b[39;00m ProxyError(e, request\u001b[38;5;241m=\u001b[39mrequest)\n\u001b[0;32m    561\u001b[0m     \u001b[38;5;28;01mif\u001b[39;00m \u001b[38;5;28misinstance\u001b[39m(e\u001b[38;5;241m.\u001b[39mreason, _SSLError):\n\u001b[0;32m    562\u001b[0m         \u001b[38;5;66;03m# This branch is for urllib3 v1.22 and later.\u001b[39;00m\n\u001b[1;32m--> 563\u001b[0m         \u001b[38;5;28;01mraise\u001b[39;00m SSLError(e, request\u001b[38;5;241m=\u001b[39mrequest)\n\u001b[0;32m    565\u001b[0m     \u001b[38;5;28;01mraise\u001b[39;00m \u001b[38;5;167;01mConnectionError\u001b[39;00m(e, request\u001b[38;5;241m=\u001b[39mrequest)\n\u001b[0;32m    567\u001b[0m \u001b[38;5;28;01mexcept\u001b[39;00m ClosedPoolError \u001b[38;5;28;01mas\u001b[39;00m e:\n",
      "\u001b[1;31mSSLError\u001b[0m: HTTPSConnectionPool(host='hirise-pds.lpl.arizona.edu', port=443): Max retries exceeded with url: /PDS/EXTRAS/RDR/ESP/ORB_013000_013099/ESP_013049_0950/ (Caused by SSLError(SSLZeroReturnError(6, 'TLS/SSL connection has been closed (EOF) (_ssl.c:1129)')))"
     ]
    }
   ],
   "source": [
    "# script to download all images\n",
    "# change iteration in first for loop to a count based method if you don't want to download the entire thing\n",
    "i=0\n",
    "for o_folder in a:\n",
    "    folder = o_folder.text\n",
    "\n",
    "    if 'ORB' in folder:        \n",
    "        print('-'*50,folder)\n",
    "        \n",
    "        \n",
    "        folder_url = url + folder\n",
    "        \n",
    "        r2 = requests.get(folder_url)\n",
    "        html2 = BeautifulSoup(r2.content, \"html.parser\")\n",
    "        a2 = html2.findAll('a')\n",
    "        for e_folder in a2:\n",
    "            sub_folder = e_folder.text\n",
    "            if 'ESP' in sub_folder:\n",
    "                print(sub_folder)\n",
    "                sub_folder_url = folder_url + sub_folder\n",
    "\n",
    "                r3 = requests.get(sub_folder_url)\n",
    "                html3 = BeautifulSoup(r3.content, \"html.parser\")\n",
    "                a3 = html3.findAll('a')\n",
    "                \n",
    "                try:\n",
    "                    file_lr = [i.text for i in a3 if '_RGB.NOMAP.browse.jpg' in i.text][0]\n",
    "                    download_url(sub_folder_url+file_lr,image_path)\n",
    "                    #print(sub_folder_url+file_lr)\n",
    "                    #!curl -sS {sub_folder_url+file_lr} > {image_path+file_lr}\n",
    "\n",
    "                except:\n",
    "                    print('\\tfailed to find filename')"
   ]
  },
  {
   "cell_type": "code",
   "execution_count": null,
   "metadata": {},
   "outputs": [],
   "source": [
    "path = Path('G:/Mars/')\n",
    "large_fnames = os.listdir(path/'full_size')"
   ]
  },
  {
   "cell_type": "code",
   "execution_count": null,
   "metadata": {},
   "outputs": [],
   "source": [
    "for f, fname in enumerate(large_fnames):\n",
    "    \n",
    "    if f%1000 == 0:\n",
    "        print(f)\n",
    "    \n",
    "    im_id = fname.split('_RGB')[0]\n",
    "    \n",
    "    im = open_image(path/'full_size'/fname)\n",
    "    im = im.rotate(180) # rotation helps avoid single color channel artifacts at the top of many images\n",
    "    data = im.data\n",
    "    if data.shape[2] >= 512:\n",
    "        patches = data.unfold(1, 512, 512).unfold(2, 512, 512)\n",
    "\n",
    "        for i in range(patches.shape[1]):\n",
    "            for j in range(patches.shape[2]):\n",
    "                patch_fname = im_id + '_' + str(i) + '_' + str(j) + '.jpg'\n",
    "                pil_im = PIL.Image.fromarray(image2np(patches[:, i, j, :, :]*255).astype('uint8'))\n",
    "                pil_im.save(path/'image_patches'/patch_fname, quality=95)\n",
    "    else:\n",
    "        print('thin image') # some images are less than 512 on the thinnest side - these are discarded"
   ]
  },
  {
   "cell_type": "code",
   "execution_count": null,
   "metadata": {},
   "outputs": [],
   "source": []
  },
  {
   "cell_type": "code",
   "execution_count": null,
   "metadata": {},
   "outputs": [],
   "source": [
    "patch_fnames = os.listdir(path/'image_patches')"
   ]
  },
  {
   "cell_type": "code",
   "execution_count": null,
   "metadata": {},
   "outputs": [],
   "source": [
    "# code to resize patches\n",
    "for f, filename in enumerate(patch_fnames):\n",
    "    if f%1000 == 0:\n",
    "        print(f)\n",
    "    \n",
    "    ims = [open_image(path/'image_patches'/filename) for i in range(6)]\n",
    "    \n",
    "    im1 = ims[0].resize((3,256,256))\n",
    "    im2 = ims[1].resize((3,128,128))    \n",
    "    im3 = ims[2].resize((3,64,64))\n",
    "    im4 = ims[3].resize((3,32,32))\n",
    "    im5 = ims[4].resize((3,16,16))\n",
    "    im6 = ims[5].resize((3,8,8))\n",
    "    \n",
    "    PIL.Image.fromarray(image2np(im1.data*255).astype(np.uint8)).save(path/'patches_256'/filename, quality=95)\n",
    "    PIL.Image.fromarray(image2np(im2.data*255).astype(np.uint8)).save(path/'patches_128'/filename, quality=95)\n",
    "    PIL.Image.fromarray(image2np(im3.data*255).astype(np.uint8)).save(path/'patches_64'/filename, quality=95)\n",
    "    PIL.Image.fromarray(image2np(im4.data*255).astype(np.uint8)).save(path/'patches_32'/filename, quality=95)\n",
    "    PIL.Image.fromarray(image2np(im5.data*255).astype(np.uint8)).save(path/'patches_16'/filename, quality=95)\n",
    "    PIL.Image.fromarray(image2np(im6.data*255).astype(np.uint8)).save(path/'patches_8'/filename, quality=95)\n",
    "    "
   ]
  },
  {
   "cell_type": "code",
   "execution_count": null,
   "metadata": {},
   "outputs": [],
   "source": []
  }
 ],
 "metadata": {
  "kernelspec": {
   "display_name": "Python 3 (ipykernel)",
   "language": "python",
   "name": "python3"
  },
  "language_info": {
   "codemirror_mode": {
    "name": "ipython",
    "version": 3
   },
   "file_extension": ".py",
   "mimetype": "text/x-python",
   "name": "python",
   "nbconvert_exporter": "python",
   "pygments_lexer": "ipython3",
   "version": "3.9.16"
  }
 },
 "nbformat": 4,
 "nbformat_minor": 4
}
