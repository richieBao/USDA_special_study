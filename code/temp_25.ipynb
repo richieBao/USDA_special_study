{
 "cells": [
  {
   "cell_type": "code",
   "execution_count": 11,
   "id": "7f6b191f-2171-42b8-ac3e-018822dee4b5",
   "metadata": {},
   "outputs": [
    {
     "name": "stdout",
     "output_type": "stream",
     "text": [
      "The autoreload extension is already loaded. To reload it, use:\n",
      "  %reload_ext autoreload\n"
     ]
    }
   ],
   "source": [
    "%load_ext autoreload \n",
    "%autoreload 2 \n",
    "import usda.mpe_realworld  as usda_mpe\n",
    "from usda.mpe_realworld.mpe import navona_v1\n",
    "import usda.utils as usda_utils\n",
    "import usda.rl as usda_rl   \n",
    "\n",
    "import matplotlib.pyplot as plt\n",
    "import mapclassify\n",
    "import matplotlib\n",
    "from IPython.display import HTML\n",
    "import supersuit as ss\n",
    "\n",
    "from stable_baselines3 import PPO\n",
    "from stable_baselines3 import A2C\n",
    "from stable_baselines3.ppo import MlpPolicy\n",
    "import os\n",
    "import rioxarray as rxr\n",
    "import numpy as np"
   ]
  },
  {
   "cell_type": "code",
   "execution_count": 12,
   "id": "688869a2-c2bb-4b74-9b73-b40b04ac0dc3",
   "metadata": {},
   "outputs": [
    {
     "name": "stdout",
     "output_type": "stream",
     "text": [
      "{0: '#fbb4ae', 1: '#fbb4ae', 2: '#b3cde3', 3: '#b3cde3', 4: '#ccebc5', 5: '#decbe4', 6: '#decbe4', 7: '#fed9a6', 8: '#fed9a6', 9: '#ffffcc', 10: '#e5d8bd', 11: '#e5d8bd', 12: '#fddaec', 13: '#fddaec', 14: '#f2f2f2', 15: '#f2f2f2'}\n"
     ]
    }
   ],
   "source": [
    "piazza_navona_shp_root=r'C:\\Users\\richie\\omen_richiebao\\omen_github\\USDA_special_study\\data\\piazza_navona_osm'\n",
    "area_node_fn=os.path.join(piazza_navona_shp_root,'navona_area_node.tif')\n",
    "navona_area_node=rxr.open_rasterio(area_node_fn)\n",
    "plat=np.stack(navona_area_node.data,axis=2)\n",
    "plat[:,:,0][plat[:,:,0]==-9999]=15   \n",
    "plat=plat[100:500,100:500:,:]\n",
    "\n",
    "plat_colors=usda_utils.cmap2hex('Pastel1',16)\n",
    "print(plat_colors)    \n",
    "cmap, norm = matplotlib.colors.from_levels_and_colors([i+1 for i in list(plat_colors.keys())],list(plat_colors.values()),extend='max') \n",
    "\n",
    "plat_rewards={\n",
    "    1:300,\n",
    "    2:-100,\n",
    "    3:-100,\n",
    "    4:-100,\n",
    "    5:-100,\n",
    "    6:-100,\n",
    "    7:-100,\n",
    "    8:-100,\n",
    "    9:-100,\n",
    "    10:-100,\n",
    "    11:10,\n",
    "    12:-100,\n",
    "    13:-100,\n",
    "    14:-100,\n",
    "    15:300}"
   ]
  },
  {
   "cell_type": "code",
   "execution_count": 13,
   "id": "fce47ab5-865f-453c-9cf5-75c886f056a5",
   "metadata": {},
   "outputs": [
    {
     "name": "stdout",
     "output_type": "stream",
     "text": [
      "Rewards:  {'agent_0': 12391.563888873456, 'agent_1': 16971.56388887344, 'agent_2': -3908.436111126584, 'agent_3': 18301.56388887342, 'agent_4': 5061.563888873428, 'agent_5': -5208.436111126575, 'agent_6': 34421.563888873374, 'agent_7': 7381.56388887345, 'agent_8': 29141.56388887337, 'agent_9': 51831.563888873476, 'agent_10': 15021.563888873447, 'agent_11': 7331.563888873428, 'agent_12': 21131.56388887334, 'agent_13': -8168.436111126562, 'agent_14': 2501.5638888734165, 'agent_15': 12881.563888873456, 'agent_16': 22061.5638888734, 'agent_17': 10301.563888873445, 'agent_18': 1586.5108055396183, 'agent_19': 641.5638888734156, 'agent_20': 16341.563888873447, 'agent_21': 11591.563888873437, 'agent_22': 26406.510805539612, 'agent_23': 50711.56388887346, 'agent_24': 13671.563888873432, 'agent_25': 35461.56388887338, 'agent_26': -5738.436111126572, 'agent_27': 25261.56388887337, 'agent_28': 31731.56388887339, 'agent_29': 27661.563888873367, 'agent_30': 23771.563888873374, 'agent_31': 36561.56388887341, 'agent_32': 17101.56388887344, 'agent_33': 10581.563888873448, 'agent_34': 22291.563888873363, 'agent_35': 1081.5638888734156, 'agent_36': 42051.563888873425, 'agent_37': 38951.56388887345, 'agent_38': -168.4361111265818, 'agent_39': 41831.563888873425, 'agent_40': 29781.56388887339, 'agent_41': 7591.56388887345, 'agent_42': 18346.51080553963, 'agent_43': -1708.4361111265837, 'agent_44': 21051.563888873425, 'agent_45': 21231.563888873363, 'agent_46': 4841.563888873423, 'agent_47': -8168.436111126562, 'agent_48': 18681.563888873425, 'agent_49': 4601.563888873416, 'agent_50': 22081.56388887343, 'agent_51': -3858.436111126584, 'agent_52': 23931.56388887339, 'agent_53': 18831.56388887341, 'agent_54': 30331.563888873392, 'agent_55': 35571.56388887339, 'agent_56': 1781.5638888734384, 'agent_57': 29291.56388887339, 'agent_58': -6098.436111126569, 'agent_59': -5438.436111126574, 'agent_60': 50241.56388887347, 'agent_61': -1168.4361111265837, 'agent_62': 33531.56388887337, 'agent_63': 35021.56388887338, 'agent_64': 24681.56388887337, 'agent_65': 19971.563888873432, 'agent_66': 2941.5638888734156, 'agent_67': 52181.563888873476, 'agent_68': 2081.5638888734156, 'agent_69': -2168.436111126584, 'agent_70': 26001.56388887336, 'agent_71': -4648.436111126579, 'agent_72': 19011.563888873443, 'agent_73': 21101.56388887342, 'agent_74': 26666.51080553962, 'agent_75': 28441.563888873377, 'agent_76': 22741.5638888734, 'agent_77': 30411.56388887337, 'agent_78': -5328.436111126575, 'agent_79': -5638.4361111265725, 'agent_80': 48031.56388887346, 'agent_81': 17706.51080553964, 'agent_82': -428.4361111265839, 'agent_83': 29751.563888873396, 'agent_84': 37291.5638888734, 'agent_85': 26961.563888873374, 'agent_86': 25251.563888873374, 'agent_87': 36831.563888873396, 'agent_88': 3941.563888873416, 'agent_89': -5168.436111126574, 'agent_90': 3941.5638888734543, 'agent_91': 22311.563888873396, 'agent_92': 28001.563888873385, 'agent_93': 40456.51080553962, 'agent_94': 3581.563888873417, 'agent_95': 36551.56388887339, 'agent_96': 11091.563888873456, 'agent_97': -2168.436111126584, 'agent_98': 10401.563888873432, 'agent_99': -2168.436111126584}\n",
      "Avg reward: 17297.560703873398\n"
     ]
    }
   ],
   "source": [
    "env=navona_v1.env(\n",
    "    render_mode=\"rgb_array\",\n",
    "    plat=plat,\n",
    "    plat_colors=plat_colors,\n",
    "    plat_rewards=plat_rewards,\n",
    "    agents_num=100,\n",
    "    nodes_radius=50,\n",
    "    group_dis=0.01,\n",
    "    max_cycles=100, \n",
    "    # continuous_actions=True,\n",
    "    )\n",
    "\n",
    "# navona_v1_PPO_path=r'../models/navona_v1_PPO.zip'\n",
    "navona_v1_PPO_path=r'C:\\Users\\richie\\omen_richiebao\\omen_temp\\navona_v1_A2C.zip'\n",
    "#model = PPO.load(navona_v1_PPO_path)\n",
    "model = A2C.load(navona_v1_PPO_path)\n",
    "\n",
    "rewards = {agent: 0 for agent in env.possible_agents}\n",
    "frames=[]\n",
    "for i in range(1):\n",
    "    env.reset(seed=i)\n",
    "    \n",
    "    for agent in env.agent_iter():\n",
    "        frames.append(env.render())\n",
    "        obs, reward, termination, truncation, info = env.last()\n",
    "        for agent in env.agents:\n",
    "            rewards[agent] += env.rewards[agent]\n",
    "        if termination or truncation:\n",
    "            break\n",
    "        else:\n",
    "            act = model.predict(obs, deterministic=True)[0]\n",
    "\n",
    "        env.step(act)\n",
    "        \n",
    "env.close()\n",
    "avg_reward = sum(rewards.values()) / len(rewards.values())\n",
    "print(\"Rewards: \", rewards)\n",
    "print(f\"Avg reward: {avg_reward}\")"
   ]
  },
  {
   "cell_type": "code",
   "execution_count": 14,
   "id": "33b8d387-62c8-4baf-a83a-3cd8ec137477",
   "metadata": {},
   "outputs": [],
   "source": [
    "matplotlib.rcParams['animation.embed_limit'] = 2**128\n",
    "\n",
    "#anim=usda_rl.plot_animation(frames,interval=1000,figsize=(10,10))\n",
    "# anim.save(filename=\"../imgs/3_9_c/navona_v1_A2C.gif\")\n",
    "#HTML(anim.to_jshtml())"
   ]
  },
  {
   "cell_type": "code",
   "execution_count": 15,
   "id": "bd3e1425-89db-4ae0-aa33-71110d915e9b",
   "metadata": {},
   "outputs": [
    {
     "name": "stderr",
     "output_type": "stream",
     "text": [
      "MovieWriter ffmpeg unavailable; using Pillow instead.\n"
     ]
    }
   ],
   "source": [
    "anim=usda_rl.plot_animation(frames,interval=100,figsize=(5,5))\n",
    "anim.save(filename=\"../imgs/3_9_c/navona_v1_A2C.gif\")"
   ]
  },
  {
   "cell_type": "code",
   "execution_count": null,
   "id": "6d6db7c0-a216-4807-9bca-28e479029edc",
   "metadata": {},
   "outputs": [],
   "source": []
  }
 ],
 "metadata": {
  "kernelspec": {
   "display_name": "Python 3 (ipykernel)",
   "language": "python",
   "name": "python3"
  },
  "language_info": {
   "codemirror_mode": {
    "name": "ipython",
    "version": 3
   },
   "file_extension": ".py",
   "mimetype": "text/x-python",
   "name": "python",
   "nbconvert_exporter": "python",
   "pygments_lexer": "ipython3",
   "version": "3.11.5"
  }
 },
 "nbformat": 4,
 "nbformat_minor": 5
}
