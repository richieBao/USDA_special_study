{
 "cells": [
  {
   "cell_type": "code",
   "execution_count": null,
   "metadata": {
    "id": "Od6iwi__6EdK"
   },
   "outputs": [],
   "source": [
    "#!pip install torchgeo\n",
    "#!pip install fastai==1.0.61"
   ]
  },
  {
   "cell_type": "code",
   "execution_count": null,
   "metadata": {
    "id": "cy8dTZNd5EQS"
   },
   "outputs": [],
   "source": [
    "%reload_ext autoreload\n",
    "%autoreload 2\n",
    "%matplotlib inline"
   ]
  },
  {
   "cell_type": "code",
   "execution_count": 2,
   "metadata": {
    "colab": {
     "base_uri": "https://localhost:8080/"
    },
    "executionInfo": {
     "elapsed": 31660,
     "status": "ok",
     "timestamp": 1680073484027,
     "user": {
      "displayName": "Ruiqing Bao",
      "userId": "07933744161628420215"
     },
     "user_tz": -480
    },
    "id": "uz9N68pp6QTs",
    "outputId": "3a8d6d2a-6d6a-47b9-f3f2-fc24dc49aa66"
   },
   "outputs": [
    {
     "name": "stdout",
     "output_type": "stream",
     "text": [
      "Mounted at /content/gdrive\n"
     ]
    }
   ],
   "source": [
    "from google.colab import drive\n",
    "drive.mount('/content/gdrive')"
   ]
  },
  {
   "cell_type": "code",
   "execution_count": 1,
   "metadata": {
    "executionInfo": {
     "elapsed": 3284,
     "status": "ok",
     "timestamp": 1680073448019,
     "user": {
      "displayName": "Ruiqing Bao",
      "userId": "07933744161628420215"
     },
     "user_tz": -480
    },
    "id": "EblUnm-2_u4l",
    "tags": []
   },
   "outputs": [],
   "source": [
    "import os\n",
    "import torch.nn as nn\n",
    "import zipfile\n",
    "\n",
    "from fastai import *\n",
    "from fastai.vision import *\n",
    "from fastai.vision.gan import *\n",
    "from fastai.callbacks import *\n",
    "import matplotlib.animation as animation\n",
    "from IPython.display import HTML"
   ]
  },
  {
   "cell_type": "code",
   "execution_count": null,
   "metadata": {
    "id": "K6rGv2TYNvpg"
   },
   "outputs": [],
   "source": [
    "naip_zip_fn='/content/gdrive/MyDrive/dataset/naip_imgs4SytleGAN/patches.zip'\n",
    "naip_unzip_fn=r'/content/naip'\n",
    "\n",
    "#zip_ref = zipfile.ZipFile(naip_zip_fn, 'r')\n",
    "#zip_ref.extractall(naip_unzip_fn)\n",
    "#zip_ref.close()"
   ]
  },
  {
   "cell_type": "code",
   "execution_count": 2,
   "metadata": {
    "executionInfo": {
     "elapsed": 3,
     "status": "ok",
     "timestamp": 1680073800746,
     "user": {
      "displayName": "Ruiqing Bao",
      "userId": "07933744161628420215"
     },
     "user_tz": -480
    },
    "id": "0QHvYXxRo-xU",
    "tags": []
   },
   "outputs": [],
   "source": [
    "def get_data(bs, size, path, num_workers, noise_size=512):\n",
    "    return (GANItemList.from_folder(path, noise_sz=noise_size)\n",
    "               .split_none()\n",
    "               .label_from_func(noop)\n",
    "               .transform(tfms=[[crop_pad(size=size, row_pct=(0,1), col_pct=(0,1))], []], size=size, tfm_y=True)\n",
    "               .databunch(bs=bs, num_workers=num_workers)\n",
    "               .normalize(stats = [torch.tensor([0.5,0.5,0.5]), torch.tensor([0.5,0.5,0.5])], do_x=False, do_y=True))"
   ]
  },
  {
   "cell_type": "code",
   "execution_count": 3,
   "metadata": {
    "executionInfo": {
     "elapsed": 2976,
     "status": "ok",
     "timestamp": 1680073879432,
     "user": {
      "displayName": "Ruiqing Bao",
      "userId": "07933744161628420215"
     },
     "user_tz": -480
    },
    "id": "9LNZrgcdo-v2",
    "tags": []
   },
   "outputs": [],
   "source": [
    "naip_unzip_fn=r'I:\\data\\NAIP4StyleGAN'\n",
    "\n",
    "workers=4\n",
    "\n",
    "data_4 = get_data(256, 4, os.path.join(naip_unzip_fn,'patches_4'), workers)\n",
    "data_8 = get_data(256, 8,  os.path.join(naip_unzip_fn,'patches_8'), workers)\n",
    "data_16 = get_data(128, 16, os.path.join(naip_unzip_fn,'patches_16'), workers)\n",
    "data_32 = get_data(128, 32, os.path.join(naip_unzip_fn,'patches_32'), workers)\n",
    "data_64 = get_data(48, 64, os.path.join(naip_unzip_fn,'patches_64'), workers)\n",
    "data_128 = get_data(22, 128,  os.path.join(naip_unzip_fn,'patches_128'), workers)\n",
    "data_256 = get_data(10, 256,  os.path.join(naip_unzip_fn,'patches_256'), workers)\n",
    "data_512 = get_data(4, 512,  os.path.join(naip_unzip_fn,'naip_512'), workers)"
   ]
  },
  {
   "cell_type": "code",
   "execution_count": 4,
   "metadata": {
    "executionInfo": {
     "elapsed": 3,
     "status": "ok",
     "timestamp": 1680073938828,
     "user": {
      "displayName": "Ruiqing Bao",
      "userId": "07933744161628420215"
     },
     "user_tz": -480
    },
    "id": "V4yaTh4e_shv",
    "tags": []
   },
   "outputs": [],
   "source": [
    "class EqualLR:\n",
    "    def __init__(self, name):\n",
    "        self.name = name\n",
    "\n",
    "    def compute_weight(self, module):\n",
    "        weight = getattr(module, self.name + '_orig')\n",
    "        fan_in = weight.data.size(1) * weight.data[0][0].numel()\n",
    "\n",
    "        return weight * math.sqrt(2 / fan_in)\n",
    "\n",
    "    @staticmethod\n",
    "    def apply(module, name):\n",
    "        fn = EqualLR(name)\n",
    "\n",
    "        weight = getattr(module, name)\n",
    "        del module._parameters[name]\n",
    "        module.register_parameter(name + '_orig', nn.Parameter(weight.data))\n",
    "        module.register_forward_pre_hook(fn)\n",
    "\n",
    "        return fn\n",
    "\n",
    "    def __call__(self, module, input):\n",
    "        weight = self.compute_weight(module)\n",
    "        setattr(module, self.name, weight)\n",
    "\n",
    "\n",
    "def equal_lr(module, name='weight'):\n",
    "    EqualLR.apply(module, name)\n",
    "\n",
    "    return module"
   ]
  },
  {
   "cell_type": "code",
   "execution_count": 5,
   "metadata": {
    "executionInfo": {
     "elapsed": 1,
     "status": "ok",
     "timestamp": 1680073939340,
     "user": {
      "displayName": "Ruiqing Bao",
      "userId": "07933744161628420215"
     },
     "user_tz": -480
    },
    "id": "hhBfDPznAk7z",
    "tags": []
   },
   "outputs": [],
   "source": [
    "class EqualConv2d(nn.Module):\n",
    "    def __init__(self, *args, **kwargs):\n",
    "        super().__init__()\n",
    "\n",
    "        conv = nn.Conv2d(*args, **kwargs)\n",
    "        conv.weight.data.normal_()\n",
    "        conv.bias.data.zero_()\n",
    "        self.conv = equal_lr(conv)\n",
    "\n",
    "    def forward(self, input):\n",
    "        return self.conv(input)\n",
    "\n",
    "\n",
    "class EqualLinear(nn.Module):\n",
    "    def __init__(self, in_dim, out_dim):\n",
    "        super().__init__()\n",
    "\n",
    "        linear = nn.Linear(in_dim, out_dim)\n",
    "        linear.weight.data.normal_()\n",
    "        linear.bias.data.zero_()\n",
    "\n",
    "        self.linear = equal_lr(linear)\n",
    "\n",
    "    def forward(self, input):\n",
    "        return self.linear(input)"
   ]
  },
  {
   "cell_type": "code",
   "execution_count": 6,
   "metadata": {
    "executionInfo": {
     "elapsed": 2,
     "status": "ok",
     "timestamp": 1680073941407,
     "user": {
      "displayName": "Ruiqing Bao",
      "userId": "07933744161628420215"
     },
     "user_tz": -480
    },
    "id": "m5TVaOscAvuR",
    "tags": []
   },
   "outputs": [],
   "source": [
    "class ConvBlock(nn.Module):\n",
    "    def __init__(\n",
    "        self,\n",
    "        in_channel,\n",
    "        out_channel,\n",
    "        kernel_size,\n",
    "        padding,\n",
    "        kernel_size2=None,\n",
    "        padding2=None,\n",
    "        pixel_norm=True,\n",
    "        spectral_norm=False,\n",
    "    ):\n",
    "        super().__init__()\n",
    "\n",
    "        pad1 = padding\n",
    "        pad2 = padding\n",
    "        if padding2 is not None:\n",
    "            pad2 = padding2\n",
    "\n",
    "        kernel1 = kernel_size\n",
    "        kernel2 = kernel_size\n",
    "        if kernel_size2 is not None:\n",
    "            kernel2 = kernel_size2\n",
    "\n",
    "        self.conv = nn.Sequential(\n",
    "            EqualConv2d(in_channel, out_channel, kernel1, padding=pad1),\n",
    "            nn.LeakyReLU(0.2),\n",
    "            EqualConv2d(out_channel, out_channel, kernel2, padding=pad2),\n",
    "            nn.LeakyReLU(0.2),\n",
    "        )\n",
    "\n",
    "    def forward(self, input):\n",
    "        out = self.conv(input)\n",
    "\n",
    "        return out"
   ]
  },
  {
   "cell_type": "code",
   "execution_count": 7,
   "metadata": {
    "executionInfo": {
     "elapsed": 2,
     "status": "ok",
     "timestamp": 1680073941916,
     "user": {
      "displayName": "Ruiqing Bao",
      "userId": "07933744161628420215"
     },
     "user_tz": -480
    },
    "id": "BEbJVlXJA7VY",
    "tags": []
   },
   "outputs": [],
   "source": [
    "class AdaptiveInstanceNorm(nn.Module):\n",
    "    def __init__(self, in_channel, style_dim):\n",
    "        super().__init__()\n",
    "\n",
    "        self.norm = nn.InstanceNorm2d(in_channel)\n",
    "        self.style = EqualLinear(style_dim, in_channel * 2)\n",
    "\n",
    "        self.style.linear.bias.data[:in_channel] = 1\n",
    "        self.style.linear.bias.data[in_channel:] = 0\n",
    "\n",
    "    def forward(self, input, style):\n",
    "        style = self.style(style).unsqueeze(2).unsqueeze(3)\n",
    "        gamma, beta = style.chunk(2, 1)\n",
    "\n",
    "        out = self.norm(input)\n",
    "        out = gamma * out + beta\n",
    "\n",
    "        return out"
   ]
  },
  {
   "cell_type": "code",
   "execution_count": 8,
   "metadata": {
    "executionInfo": {
     "elapsed": 2,
     "status": "ok",
     "timestamp": 1680073941916,
     "user": {
      "displayName": "Ruiqing Bao",
      "userId": "07933744161628420215"
     },
     "user_tz": -480
    },
    "id": "UktlUuDfBZ02",
    "tags": []
   },
   "outputs": [],
   "source": [
    "class NoiseInjection(nn.Module):\n",
    "    def __init__(self, channel):\n",
    "        super().__init__()\n",
    "\n",
    "        self.weight = nn.Parameter(torch.zeros(1, channel, 1, 1))\n",
    "\n",
    "    def forward(self, image, noise):\n",
    "        return image + self.weight * noise"
   ]
  },
  {
   "cell_type": "code",
   "execution_count": 9,
   "metadata": {
    "executionInfo": {
     "elapsed": 2,
     "status": "ok",
     "timestamp": 1680073942896,
     "user": {
      "displayName": "Ruiqing Bao",
      "userId": "07933744161628420215"
     },
     "user_tz": -480
    },
    "id": "brurlBaJBkHx",
    "tags": []
   },
   "outputs": [],
   "source": [
    "class ConstantInput(nn.Module):\n",
    "    def __init__(self, channel, size=4):\n",
    "        super().__init__()\n",
    "\n",
    "        self.input = nn.Parameter(torch.randn(1, channel, size, size))\n",
    "\n",
    "    def forward(self, input):\n",
    "        batch = input.shape[0]\n",
    "        out = self.input.repeat(batch, 1, 1, 1)\n",
    "\n",
    "        return out"
   ]
  },
  {
   "cell_type": "code",
   "execution_count": 10,
   "metadata": {
    "executionInfo": {
     "elapsed": 2,
     "status": "ok",
     "timestamp": 1680073943994,
     "user": {
      "displayName": "Ruiqing Bao",
      "userId": "07933744161628420215"
     },
     "user_tz": -480
    },
    "id": "Mgzlj80yBvrG",
    "tags": []
   },
   "outputs": [],
   "source": [
    "class StyledConvBlock(nn.Module):\n",
    "    def __init__(\n",
    "        self,\n",
    "        in_channel,\n",
    "        out_channel,\n",
    "        kernel_size=3,\n",
    "        padding=1,\n",
    "        style_dim=512,\n",
    "        initial=False,\n",
    "    ):\n",
    "        super().__init__()\n",
    "\n",
    "        if initial:\n",
    "            self.conv1 = ConstantInput(in_channel)\n",
    "\n",
    "        else:\n",
    "            self.conv1 = EqualConv2d(\n",
    "                in_channel, out_channel, kernel_size, padding=padding\n",
    "            )\n",
    "\n",
    "        self.noise1 = equal_lr(NoiseInjection(out_channel))\n",
    "        self.adain1 = AdaptiveInstanceNorm(out_channel, style_dim)\n",
    "        self.lrelu1 = nn.LeakyReLU(0.2)\n",
    "\n",
    "        self.conv2 = EqualConv2d(out_channel, out_channel, kernel_size, padding=padding)\n",
    "        self.noise2 = equal_lr(NoiseInjection(out_channel))\n",
    "        self.adain2 = AdaptiveInstanceNorm(out_channel, style_dim)\n",
    "        self.lrelu2 = nn.LeakyReLU(0.2)\n",
    "\n",
    "    def forward(self, input, style, noise):\n",
    "        out = self.conv1(input)\n",
    "        out = self.noise1(out, noise)\n",
    "        out = self.adain1(out, style)\n",
    "        out = self.lrelu1(out)\n",
    "\n",
    "        out = self.conv2(out)\n",
    "        out = self.noise2(out, noise)\n",
    "        out = self.adain2(out, style)\n",
    "        out = self.lrelu2(out)\n",
    "\n",
    "        return out"
   ]
  },
  {
   "cell_type": "code",
   "execution_count": 11,
   "metadata": {
    "executionInfo": {
     "elapsed": 3,
     "status": "ok",
     "timestamp": 1680073943995,
     "user": {
      "displayName": "Ruiqing Bao",
      "userId": "07933744161628420215"
     },
     "user_tz": -480
    },
    "id": "J9vRvkaWBzwE",
    "tags": []
   },
   "outputs": [],
   "source": [
    "class Generator(nn.Module):\n",
    "    def __init__(self, code_dim):\n",
    "        super().__init__()\n",
    "\n",
    "        self.progression = nn.ModuleList(\n",
    "            [\n",
    "                StyledConvBlock(512, 512, 3, 1, initial=True), # 4x4\n",
    "                StyledConvBlock(512, 512, 3, 1), # 8x8\n",
    "                StyledConvBlock(512, 512, 3, 1), # 16x16\n",
    "                StyledConvBlock(512, 512, 3, 1), # 32x32\n",
    "                StyledConvBlock(512, 256, 3, 1), # 64x64\n",
    "                StyledConvBlock(256, 128, 3, 1), # 128x128\n",
    "                StyledConvBlock(128, 64, 3, 1), # 256x256\n",
    "                StyledConvBlock(64, 32, 3, 1), # 512x512\n",
    "                StyledConvBlock(32, 16, 3, 1), # 1024x1024\n",
    "            ]\n",
    "        )\n",
    "\n",
    "        self.to_rgb = nn.ModuleList(\n",
    "            [\n",
    "                EqualConv2d(512, 3, 1), # 4x4\n",
    "                EqualConv2d(512, 3, 1), # 8x8\n",
    "                EqualConv2d(512, 3, 1), # 16x16\n",
    "                EqualConv2d(512, 3, 1), # 32x32\n",
    "                EqualConv2d(256, 3, 1), # 64x64\n",
    "                EqualConv2d(128, 3, 1), # 128x128\n",
    "                EqualConv2d(64, 3, 1), # 256x256\n",
    "                EqualConv2d(32, 3, 1), # 512x512\n",
    "                EqualConv2d(16, 3, 1), # 1024x1024\n",
    "            ]\n",
    "        )\n",
    "        \n",
    "    def forward(self, style, noise, step=0, alpha=-1, mixing_range=(-1, -1)):\n",
    "        out = noise[0]\n",
    "\n",
    "        if len(style) < 2:\n",
    "            inject_index = [len(self.progression) + 1]\n",
    "\n",
    "        else:\n",
    "            inject_index = random.sample(list(range(step)), len(style) - 1)\n",
    "\n",
    "        crossover = 0\n",
    "\n",
    "        for i, (conv, to_rgb) in enumerate(zip(self.progression, self.to_rgb)):\n",
    "            if mixing_range == (-1, -1):\n",
    "                if crossover < len(inject_index) and i > inject_index[crossover]:\n",
    "                    crossover = min(crossover + 1, len(style))\n",
    "\n",
    "                style_step = style[crossover]\n",
    "\n",
    "            else:\n",
    "                if mixing_range[0] <= i <= mixing_range[1]:\n",
    "                    style_step = style[1]\n",
    "\n",
    "                else:\n",
    "                    style_step = style[0]\n",
    "\n",
    "            if i > 0 and step > 0:\n",
    "                upsample = F.interpolate(\n",
    "                    out, scale_factor=2, mode='bilinear', align_corners=False\n",
    "                )\n",
    "                out = conv(upsample, style_step, noise[i])\n",
    "\n",
    "            else:\n",
    "                out = conv(out, style_step, noise[i])\n",
    "\n",
    "            if i == step:\n",
    "                out = to_rgb(out)\n",
    "\n",
    "                if i > 0 and alpha > 0:\n",
    "                    skip_rgb = self.to_rgb[i - 1](upsample)\n",
    "                    out = alpha * skip_rgb + (1 - alpha) * out\n",
    "\n",
    "                break\n",
    "\n",
    "        return out"
   ]
  },
  {
   "cell_type": "code",
   "execution_count": 12,
   "metadata": {
    "executionInfo": {
     "elapsed": 1,
     "status": "ok",
     "timestamp": 1680073945266,
     "user": {
      "displayName": "Ruiqing Bao",
      "userId": "07933744161628420215"
     },
     "user_tz": -480
    },
    "id": "7fwd7GQbCAD4",
    "tags": []
   },
   "outputs": [],
   "source": [
    "class PixelNorm(nn.Module):\n",
    "    def __init__(self):\n",
    "        super().__init__()\n",
    "\n",
    "    def forward(self, input):\n",
    "        return input / torch.sqrt(torch.mean(input ** 2, dim=1, keepdim=True) + 1e-8)"
   ]
  },
  {
   "cell_type": "code",
   "execution_count": 13,
   "metadata": {
    "executionInfo": {
     "elapsed": 3,
     "status": "ok",
     "timestamp": 1680073947474,
     "user": {
      "displayName": "Ruiqing Bao",
      "userId": "07933744161628420215"
     },
     "user_tz": -480
    },
    "id": "RdJ8r-UQCJFl",
    "tags": []
   },
   "outputs": [],
   "source": [
    "class StyledGenerator(nn.Module):\n",
    "    def __init__(self, code_dim=512, n_mlp=8):\n",
    "        super().__init__()\n",
    "\n",
    "        self.generator = Generator(code_dim)\n",
    "\n",
    "        layers = [PixelNorm()]\n",
    "        for i in range(n_mlp):\n",
    "            layers.append(EqualLinear(code_dim, code_dim))\n",
    "            layers.append(nn.LeakyReLU(0.2))\n",
    "\n",
    "        self.style = nn.Sequential(*layers)\n",
    "        \n",
    "        self.step = 0\n",
    "        self.alpha = 0\n",
    "\n",
    "    def forward(self, input, noise=None, mean_style=None, style_weight=0, mixing_range=(-1, -1), mixing=True):\n",
    "        \n",
    "        bs, ch, _, _ = input.shape\n",
    "        input = input.view(bs, ch)\n",
    "        \n",
    "        if self.step < 1:\n",
    "            mixing=False\n",
    "        \n",
    "        if mixing and random.random() < 0.9:\n",
    "            shuffle = torch.randperm(input.size(0)).to(input.device)\n",
    "            input = [input, input[shuffle]]\n",
    "        else:\n",
    "            input = [input]  \n",
    "        \n",
    "        styles = []\n",
    "\n",
    "        for i in input:\n",
    "            styles.append(self.style(i))\n",
    "\n",
    "        batch = input[0].shape[0]\n",
    "\n",
    "        if noise is None:\n",
    "            noise = []\n",
    "\n",
    "            for i in range(self.step + 1):\n",
    "                size = 4 * 2 ** i\n",
    "                noise.append(torch.randn(batch, 1, size, size, device=input[0].device))\n",
    "\n",
    "        if mean_style is not None:\n",
    "            styles_norm = []\n",
    "\n",
    "            for style in styles:\n",
    "                styles_norm.append(mean_style + style_weight * (style - mean_style))\n",
    "\n",
    "            styles = styles_norm\n",
    "\n",
    "        return self.generator(styles, noise, self.step, self.alpha, mixing_range=mixing_range)\n",
    "\n",
    "    def mean_style(self, input):\n",
    "        style = self.style(input).mean(0, keepdim=True)\n",
    "\n",
    "        return style\n",
    "        \n",
    "    def grow_model(self, step=None, alpha=None):\n",
    "        if step:\n",
    "            self.step = step\n",
    "        else:\n",
    "            self.step += 1\n",
    "            \n",
    "        if alpha is not None:\n",
    "            self.alpha = alpha\n",
    "        else:\n",
    "            self.alpha = 1"
   ]
  },
  {
   "cell_type": "code",
   "execution_count": 14,
   "metadata": {
    "executionInfo": {
     "elapsed": 2,
     "status": "ok",
     "timestamp": 1680073947474,
     "user": {
      "displayName": "Ruiqing Bao",
      "userId": "07933744161628420215"
     },
     "user_tz": -480
    },
    "id": "njOWeEjXCLc_",
    "tags": []
   },
   "outputs": [],
   "source": [
    "class Discriminator(nn.Module):\n",
    "    def __init__(self):\n",
    "        super().__init__()\n",
    "\n",
    "        self.progression = nn.ModuleList(\n",
    "            [\n",
    "                ConvBlock(16, 32, 3, 1),\n",
    "                ConvBlock(32, 64, 3, 1),\n",
    "                ConvBlock(64, 128, 3, 1),\n",
    "                ConvBlock(128, 256, 3, 1),\n",
    "                ConvBlock(256, 512, 3, 1),\n",
    "                ConvBlock(512, 512, 3, 1),\n",
    "                ConvBlock(512, 512, 3, 1),\n",
    "                ConvBlock(512, 512, 3, 1),\n",
    "                ConvBlock(513, 512, 3, 1, 4, 0),\n",
    "            ]\n",
    "        )\n",
    "\n",
    "        self.from_rgb = nn.ModuleList(\n",
    "            [\n",
    "                EqualConv2d(3, 16, 1),\n",
    "                EqualConv2d(3, 32, 1),\n",
    "                EqualConv2d(3, 64, 1),\n",
    "                EqualConv2d(3, 128, 1),\n",
    "                EqualConv2d(3, 256, 1),\n",
    "                EqualConv2d(3, 512, 1),\n",
    "                EqualConv2d(3, 512, 1),\n",
    "                EqualConv2d(3, 512, 1),\n",
    "                EqualConv2d(3, 512, 1),\n",
    "            ]\n",
    "        )\n",
    "\n",
    "\n",
    "        self.n_layer = len(self.progression)\n",
    "\n",
    "        self.linear = EqualLinear(512, 1)\n",
    "        \n",
    "        self.step = 0\n",
    "        self.alpha = 0\n",
    "\n",
    "    def forward(self, input, actual=False):\n",
    "        if actual:\n",
    "            for i in range(self.step, -1, -1):\n",
    "                index = self.n_layer - i - 1\n",
    "\n",
    "                if i == self.step:\n",
    "                    out = self.from_rgb[index](input)\n",
    "\n",
    "                if i == 0:\n",
    "                    out_std = torch.sqrt(out.var(0, unbiased=False) + 1e-8)\n",
    "                    mean_std = out_std.mean()\n",
    "                    mean_std = mean_std.expand(out.size(0), 1, 4, 4)\n",
    "                    out = torch.cat([out, mean_std], 1)\n",
    "\n",
    "                out = self.progression[index](out)\n",
    "\n",
    "                if i > 0:\n",
    "                    out = F.interpolate(\n",
    "                        out, scale_factor=0.5, mode='bilinear', align_corners=False\n",
    "                    )\n",
    "\n",
    "                    if i == self.step and self.alpha > 0:  #0 <= alpha < 1:\n",
    "                        skip_rgb = self.from_rgb[index + 1](input)\n",
    "                        skip_rgb = F.interpolate(\n",
    "                            skip_rgb, scale_factor=0.5, mode='bilinear', align_corners=False\n",
    "                        )\n",
    "\n",
    "                        out = self.alpha * skip_rgb + (1 - self.alpha) * out\n",
    "\n",
    "            out = out.squeeze(2).squeeze(2)\n",
    "            out = self.linear(out)\n",
    "\n",
    "            return (out, input)\n",
    "        else:\n",
    "            return (None, input)\n",
    "    \n",
    "    def grow_model(self, step=None, alpha=None):\n",
    "        if step:\n",
    "            self.step = step\n",
    "        else:\n",
    "            self.step += 1\n",
    "            \n",
    "        if alpha is not None:\n",
    "            self.alpha = alpha\n",
    "        else:\n",
    "            self.alpha = 1"
   ]
  },
  {
   "cell_type": "code",
   "execution_count": 15,
   "metadata": {
    "executionInfo": {
     "elapsed": 3,
     "status": "ok",
     "timestamp": 1680073947475,
     "user": {
      "displayName": "Ruiqing Bao",
      "userId": "07933744161628420215"
     },
     "user_tz": -480
    },
    "id": "U6Q0cHywCRLN",
    "tags": []
   },
   "outputs": [],
   "source": [
    "class StyleCriticLoss_R1(nn.Module):\n",
    "    \n",
    "    def forward(self, fake, gradient_predict):\n",
    "        real_predict = F.softplus(-gradient_predict[0]).mean()\n",
    "        \n",
    "        grad_real = torch.autograd.grad(outputs=gradient_predict[0].sum(), inputs=gradient_predict[1], create_graph=True)[0]\n",
    "        grad_penalty = grad_real.view(grad_real.size(0), -1).norm(2, dim=1).pow(2).mean()\n",
    "        grad_penalty = 10 / 2 * grad_penalty\n",
    "        \n",
    "        fake_predict = F.softplus(fake).mean()\n",
    "        \n",
    "        loss = real_predict + fake_predict + grad_penalty\n",
    "        \n",
    "        return loss\n",
    "    \n",
    "class StyleGenLoss_R1(nn.Module):\n",
    "    \n",
    "    def forward(self, fake_pred, *args):\n",
    "        return F.softplus(-fake_pred).mean()"
   ]
  },
  {
   "cell_type": "code",
   "execution_count": 16,
   "metadata": {
    "executionInfo": {
     "elapsed": 1,
     "status": "ok",
     "timestamp": 1680073952299,
     "user": {
      "displayName": "Ruiqing Bao",
      "userId": "07933744161628420215"
     },
     "user_tz": -480
    },
    "id": "_E7vWCFXCfry",
    "tags": []
   },
   "outputs": [],
   "source": [
    "class GANLossGradient(GANModule):\n",
    "    \"Wrapper around `loss_funcC` (for the critic) and `loss_funcG` (for the generator).\"\n",
    "    def __init__(self, loss_funcG:Callable, loss_funcC:Callable, gan_model:GANModule, grad_scale=10):\n",
    "        super().__init__()\n",
    "        self.loss_funcG,self.loss_funcC,self.gan_model = loss_funcG,loss_funcC,gan_model\n",
    "        self.grad_scale = grad_scale\n",
    "\n",
    "    def generator(self, output, target):\n",
    "        \"Evaluate the `output` with the critic then uses `self.loss_funcG` to combine it with `target`.\"\n",
    "        fake_pred = self.gan_model.critic(output, actual=True)[0]\n",
    "        return self.loss_funcG(fake_pred, target, output)\n",
    "\n",
    "    def critic(self, real_pred, input):\n",
    "        \"Create some `fake_pred` with the generator from `input` and compare them to `real_pred` in `self.loss_funcD`.\"\n",
    "        fake = self.gan_model.generator(input.requires_grad_(False)).requires_grad_(True)\n",
    "        fake_pred = self.gan_model.critic(fake, actual=True)\n",
    "        \n",
    "        real_pred[1].requires_grad = True\n",
    "        gradient_predict = self.gan_model.critic(real_pred[1], actual=True)\n",
    "        \n",
    "        return self.loss_funcC(fake_pred[0], gradient_predict)  "
   ]
  },
  {
   "cell_type": "code",
   "execution_count": 17,
   "metadata": {
    "executionInfo": {
     "elapsed": 2,
     "status": "ok",
     "timestamp": 1680073954949,
     "user": {
      "displayName": "Ruiqing Bao",
      "userId": "07933744161628420215"
     },
     "user_tz": -480
    },
    "id": "i-tkGotCDgNT",
    "tags": []
   },
   "outputs": [],
   "source": [
    "class AlphaDecay(LearnerCallback):\n",
    "    \n",
    "    def __init__(self, learn, end_batch):\n",
    "        super().__init__(learn)\n",
    "        self.end_batch = end_batch\n",
    "        self.initial_alpha = self.learn.model.generator.alpha\n",
    "        \n",
    "    def on_batch_begin(self, iteration, **kwargs):\n",
    "        if self.learn.model.generator.alpha > 0:\n",
    "            self.learn.model.generator.alpha = self.initial_alpha - iteration / self.end_batch\n",
    "            self.learn.model.critic.alpha = self.initial_alpha - iteration / self.end_batch"
   ]
  },
  {
   "cell_type": "code",
   "execution_count": 18,
   "metadata": {
    "executionInfo": {
     "elapsed": 1084,
     "status": "ok",
     "timestamp": 1680073959238,
     "user": {
      "displayName": "Ruiqing Bao",
      "userId": "07933744161628420215"
     },
     "user_tz": -480
    },
    "id": "peoR06Voba1W",
    "tags": []
   },
   "outputs": [],
   "source": [
    "class StyleGANLearner(Learner):\n",
    "    \"A `Learner` suitable for GANs.\"\n",
    "    def __init__(self, data:DataBunch, generator:nn.Module, critic:nn.Module, gen_loss_func:LossFunction,\n",
    "                 crit_loss_func:LossFunction, switcher:Callback=None, gen_first:bool=False, switch_eval:bool=True,\n",
    "                 show_img:bool=True, clip:float=None, alpha_batch=10, **learn_kwargs):\n",
    "        gan = GANModule(generator, critic)\n",
    "        loss_func = GANLossGradient(gen_loss_func, crit_loss_func, gan)\n",
    "        switcher = ifnone(switcher, partial(FixedGANSwitcher, n_crit=5, n_gen=1))\n",
    "        super().__init__(data, gan, loss_func=loss_func, callback_fns=[switcher], **learn_kwargs)\n",
    "        trainer = GANTrainer(self, clip=clip, switch_eval=switch_eval, show_img=show_img)\n",
    "        self.gan_trainer = trainer\n",
    "        self.callbacks.append(trainer)\n",
    "        self.callback_fns.append(partial(AlphaDecay, end_batch=alpha_batch))\n",
    "    \n",
    "    @classmethod\n",
    "    def stylegan_r1(cls, data:DataBunch, generator:nn.Module, critic:nn.Module, \n",
    "             switcher:Callback=None, clip:float=None, **learn_kwargs):\n",
    "        \"Create a WGAN from `data`, `generator` and `critic`.\"\n",
    "        return cls(data, generator, critic, StyleGenLoss_R1(), \n",
    "                       StyleCriticLoss_R1(), switcher=switcher, clip=clip, **learn_kwargs)\n",
    "\n",
    "    def grow_model(self, data, step=None, alpha=None, alpha_batch=None):\n",
    "        self.model.generator.grow_model(step=step, alpha=alpha)\n",
    "        self.model.critic.grow_model(step=step, alpha=alpha)\n",
    "        self.data = data\n",
    "        \n",
    "        if alpha_batch is not None:\n",
    "            self.callback_fns[-1] = partial(AlphaDecay, end_batch=alpha_batch)"
   ]
  },
  {
   "cell_type": "code",
   "execution_count": 109,
   "metadata": {
    "executionInfo": {
     "elapsed": 2,
     "status": "ok",
     "timestamp": 1680073960043,
     "user": {
      "displayName": "Ruiqing Bao",
      "userId": "07933744161628420215"
     },
     "user_tz": -480
    },
    "id": "MfeGryzXTpEu",
    "tags": []
   },
   "outputs": [],
   "source": [
    "g = StyledGenerator()\n",
    "d = Discriminator()"
   ]
  },
  {
   "cell_type": "code",
   "execution_count": 110,
   "metadata": {
    "executionInfo": {
     "elapsed": 3465,
     "status": "ok",
     "timestamp": 1680073965374,
     "user": {
      "displayName": "Ruiqing Bao",
      "userId": "07933744161628420215"
     },
     "user_tz": -480
    },
    "id": "iV2Rq3viZguN",
    "tags": []
   },
   "outputs": [],
   "source": [
    "learn = StyleGANLearner.stylegan_r1(data_4, g, d, switch_eval=False,\n",
    "                        opt_func = partial(optim.Adam, betas = (0.,0.99)), wd=0., alpha_batch=6000, clip=None,\n",
    "                              switcher=partial(FixedGANSwitcher, n_crit=2, n_gen=1))"
   ]
  },
  {
   "cell_type": "code",
   "execution_count": 111,
   "metadata": {
    "executionInfo": {
     "elapsed": 5,
     "status": "ok",
     "timestamp": 1680073965375,
     "user": {
      "displayName": "Ruiqing Bao",
      "userId": "07933744161628420215"
     },
     "user_tz": -480
    },
    "id": "s1UV65tZbMxc",
    "tags": []
   },
   "outputs": [],
   "source": [
    "def style_split(model):\n",
    "    groups = [[model.generator.style]]\n",
    "    groups += [[model.generator.generator, model.critic]]\n",
    "    return groups"
   ]
  },
  {
   "cell_type": "code",
   "execution_count": 112,
   "metadata": {
    "executionInfo": {
     "elapsed": 4,
     "status": "ok",
     "timestamp": 1680073965375,
     "user": {
      "displayName": "Ruiqing Bao",
      "userId": "07933744161628420215"
     },
     "user_tz": -480
    },
    "id": "YVsC6Ch4iVlC",
    "tags": []
   },
   "outputs": [],
   "source": [
    "learn.split(style_split);"
   ]
  },
  {
   "cell_type": "code",
   "execution_count": 113,
   "metadata": {
    "tags": []
   },
   "outputs": [],
   "source": [
    "pretrained_model_fn=r'C:\\Users\\richi\\omen_richiebao\\omen_github\\models_trained\\naip_styleGAN_32'\n",
    "learn=learn.load(pretrained_model_fn)"
   ]
  },
  {
   "cell_type": "code",
   "execution_count": 115,
   "metadata": {
    "colab": {
     "base_uri": "https://localhost:8080/",
     "height": 1000
    },
    "executionInfo": {
     "elapsed": 1034398,
     "status": "ok",
     "timestamp": 1680075153438,
     "user": {
      "displayName": "Ruiqing Bao",
      "userId": "07933744161628420215"
     },
     "user_tz": -480
    },
    "id": "Rd9lKryViXU8",
    "outputId": "1db38504-da6e-4158-fac5-649f88d063d6",
    "tags": []
   },
   "outputs": [
    {
     "data": {
      "text/html": [
       "\n",
       "<style>\n",
       "    /* Turns off some styling */\n",
       "    progress {\n",
       "        /* gets rid of default border in Firefox and Opera. */\n",
       "        border: none;\n",
       "        /* Needs to be in here for Safari polyfill so background images work as expected. */\n",
       "        background-size: auto;\n",
       "    }\n",
       "    progress:not([value]), progress:not([value])::-webkit-progress-bar {\n",
       "        background: repeating-linear-gradient(45deg, #7e7e7e, #7e7e7e 10px, #5c5c5c 10px, #5c5c5c 20px);\n",
       "    }\n",
       "    .progress-bar-interrupted, .progress-bar-interrupted::-webkit-progress-bar {\n",
       "        background: #F44336;\n",
       "    }\n",
       "</style>\n"
      ],
      "text/plain": [
       "<IPython.core.display.HTML object>"
      ]
     },
     "metadata": {},
     "output_type": "display_data"
    },
    {
     "data": {
      "text/html": [
       "<table border=\"1\" class=\"dataframe\">\n",
       "  <thead>\n",
       "    <tr style=\"text-align: left;\">\n",
       "      <th>epoch</th>\n",
       "      <th>train_loss</th>\n",
       "      <th>valid_loss</th>\n",
       "      <th>gen_loss</th>\n",
       "      <th>disc_loss</th>\n",
       "      <th>time</th>\n",
       "    </tr>\n",
       "  </thead>\n",
       "  <tbody>\n",
       "    <tr>\n",
       "      <td>0</td>\n",
       "      <td>1.146563</td>\n",
       "      <td>#na#</td>\n",
       "      <td>0.674979</td>\n",
       "      <td>1.387089</td>\n",
       "      <td>01:18</td>\n",
       "    </tr>\n",
       "  </tbody>\n",
       "</table>"
      ],
      "text/plain": [
       "<IPython.core.display.HTML object>"
      ]
     },
     "metadata": {},
     "output_type": "display_data"
    },
    {
     "data": {
      "image/png": "[encoded data removed]",
      "text/plain": [
       "<Figure size 1600x400 with 4 Axes>"
      ]
     },
     "metadata": {},
     "output_type": "display_data"
    }
   ],
   "source": [
    "learn.fit(1, 1e-3)"
   ]
  },
  {
   "cell_type": "code",
   "execution_count": 117,
   "metadata": {
    "executionInfo": {
     "elapsed": 604,
     "status": "ok",
     "timestamp": 1680075258292,
     "user": {
      "displayName": "Ruiqing Bao",
      "userId": "07933744161628420215"
     },
     "user_tz": -480
    },
    "id": "C_ZisCpuiarU",
    "tags": []
   },
   "outputs": [],
   "source": [
    "# 8x8\n",
    "learn.grow_model(data_8, alpha_batch=2600)"
   ]
  },
  {
   "cell_type": "code",
   "execution_count": 118,
   "metadata": {
    "colab": {
     "base_uri": "https://localhost:8080/",
     "height": 1000
    },
    "executionInfo": {
     "elapsed": 3563834,
     "status": "ok",
     "timestamp": 1680078828769,
     "user": {
      "displayName": "Ruiqing Bao",
      "userId": "07933744161628420215"
     },
     "user_tz": -480
    },
    "id": "jVch6K7wYZMF",
    "outputId": "1258c344-9a5d-433f-b563-bd7e3dc020e7",
    "tags": []
   },
   "outputs": [
    {
     "data": {
      "text/html": [
       "\n",
       "<style>\n",
       "    /* Turns off some styling */\n",
       "    progress {\n",
       "        /* gets rid of default border in Firefox and Opera. */\n",
       "        border: none;\n",
       "        /* Needs to be in here for Safari polyfill so background images work as expected. */\n",
       "        background-size: auto;\n",
       "    }\n",
       "    progress:not([value]), progress:not([value])::-webkit-progress-bar {\n",
       "        background: repeating-linear-gradient(45deg, #7e7e7e, #7e7e7e 10px, #5c5c5c 10px, #5c5c5c 20px);\n",
       "    }\n",
       "    .progress-bar-interrupted, .progress-bar-interrupted::-webkit-progress-bar {\n",
       "        background: #F44336;\n",
       "    }\n",
       "</style>\n"
      ],
      "text/plain": [
       "<IPython.core.display.HTML object>"
      ]
     },
     "metadata": {},
     "output_type": "display_data"
    },
    {
     "data": {
      "text/html": [
       "<table border=\"1\" class=\"dataframe\">\n",
       "  <thead>\n",
       "    <tr style=\"text-align: left;\">\n",
       "      <th>epoch</th>\n",
       "      <th>train_loss</th>\n",
       "      <th>valid_loss</th>\n",
       "      <th>gen_loss</th>\n",
       "      <th>disc_loss</th>\n",
       "      <th>time</th>\n",
       "    </tr>\n",
       "  </thead>\n",
       "  <tbody>\n",
       "    <tr>\n",
       "      <td>0</td>\n",
       "      <td>1.152452</td>\n",
       "      <td>#na#</td>\n",
       "      <td>0.698992</td>\n",
       "      <td>1.385895</td>\n",
       "      <td>01:14</td>\n",
       "    </tr>\n",
       "  </tbody>\n",
       "</table>"
      ],
      "text/plain": [
       "<IPython.core.display.HTML object>"
      ]
     },
     "metadata": {},
     "output_type": "display_data"
    },
    {
     "data": {
      "image/png": "[encoded data removed]",
      "text/plain": [
       "<Figure size 1600x400 with 4 Axes>"
      ]
     },
     "metadata": {},
     "output_type": "display_data"
    }
   ],
   "source": [
    "learn.fit(1, 1e-3)"
   ]
  },
  {
   "cell_type": "code",
   "execution_count": 120,
   "metadata": {
    "executionInfo": {
     "elapsed": 531,
     "status": "ok",
     "timestamp": 1680079152853,
     "user": {
      "displayName": "Ruiqing Bao",
      "userId": "07933744161628420215"
     },
     "user_tz": -480
    },
    "id": "Cpp3-Rw8Ya_M",
    "tags": []
   },
   "outputs": [],
   "source": [
    "# 16x16\n",
    "learn.grow_model(data_16, alpha_batch=5100)"
   ]
  },
  {
   "cell_type": "code",
   "execution_count": 121,
   "metadata": {
    "colab": {
     "base_uri": "https://localhost:8080/",
     "height": 1000
    },
    "executionInfo": {
     "elapsed": 836731,
     "status": "ok",
     "timestamp": 1680084931888,
     "user": {
      "displayName": "Ruiqing Bao",
      "userId": "07933744161628420215"
     },
     "user_tz": -480
    },
    "id": "aEHpA5p2YdA7",
    "outputId": "c6bdeece-960b-4940-9321-8a97dbfcbe72",
    "tags": []
   },
   "outputs": [
    {
     "data": {
      "text/html": [
       "\n",
       "<style>\n",
       "    /* Turns off some styling */\n",
       "    progress {\n",
       "        /* gets rid of default border in Firefox and Opera. */\n",
       "        border: none;\n",
       "        /* Needs to be in here for Safari polyfill so background images work as expected. */\n",
       "        background-size: auto;\n",
       "    }\n",
       "    progress:not([value]), progress:not([value])::-webkit-progress-bar {\n",
       "        background: repeating-linear-gradient(45deg, #7e7e7e, #7e7e7e 10px, #5c5c5c 10px, #5c5c5c 20px);\n",
       "    }\n",
       "    .progress-bar-interrupted, .progress-bar-interrupted::-webkit-progress-bar {\n",
       "        background: #F44336;\n",
       "    }\n",
       "</style>\n"
      ],
      "text/plain": [
       "<IPython.core.display.HTML object>"
      ]
     },
     "metadata": {},
     "output_type": "display_data"
    },
    {
     "data": {
      "text/html": [
       "<table border=\"1\" class=\"dataframe\">\n",
       "  <thead>\n",
       "    <tr style=\"text-align: left;\">\n",
       "      <th>epoch</th>\n",
       "      <th>train_loss</th>\n",
       "      <th>valid_loss</th>\n",
       "      <th>gen_loss</th>\n",
       "      <th>disc_loss</th>\n",
       "      <th>time</th>\n",
       "    </tr>\n",
       "  </thead>\n",
       "  <tbody>\n",
       "    <tr>\n",
       "      <td>0</td>\n",
       "      <td>1.155171</td>\n",
       "      <td>#na#</td>\n",
       "      <td>0.767090</td>\n",
       "      <td>1.366041</td>\n",
       "      <td>05:23</td>\n",
       "    </tr>\n",
       "  </tbody>\n",
       "</table>"
      ],
      "text/plain": [
       "<IPython.core.display.HTML object>"
      ]
     },
     "metadata": {},
     "output_type": "display_data"
    },
    {
     "data": {
      "image/png": "[encoded data removed]",
      "text/plain": [
       "<Figure size 1600x400 with 4 Axes>"
      ]
     },
     "metadata": {},
     "output_type": "display_data"
    }
   ],
   "source": [
    "learn.fit(1, [1e-4, 1e-3])"
   ]
  },
  {
   "cell_type": "code",
   "execution_count": 123,
   "metadata": {
    "executionInfo": {
     "elapsed": 722,
     "status": "ok",
     "timestamp": 1680084962307,
     "user": {
      "displayName": "Ruiqing Bao",
      "userId": "07933744161628420215"
     },
     "user_tz": -480
    },
    "id": "08lXk6C1YeVP",
    "tags": []
   },
   "outputs": [],
   "source": [
    "# 32x32\n",
    "learn.grow_model(data_32, alpha_batch=5100)"
   ]
  },
  {
   "cell_type": "code",
   "execution_count": 124,
   "metadata": {
    "colab": {
     "base_uri": "https://localhost:8080/",
     "height": 1000
    },
    "executionInfo": {
     "elapsed": 17141135,
     "status": "ok",
     "timestamp": 1680102111866,
     "user": {
      "displayName": "Ruiqing Bao",
      "userId": "07933744161628420215"
     },
     "user_tz": -480
    },
    "id": "csHeCNXlYgf7",
    "outputId": "ccfccea7-0211-48b1-c35a-beecf617d59e",
    "tags": []
   },
   "outputs": [
    {
     "data": {
      "text/html": [
       "\n",
       "<style>\n",
       "    /* Turns off some styling */\n",
       "    progress {\n",
       "        /* gets rid of default border in Firefox and Opera. */\n",
       "        border: none;\n",
       "        /* Needs to be in here for Safari polyfill so background images work as expected. */\n",
       "        background-size: auto;\n",
       "    }\n",
       "    progress:not([value]), progress:not([value])::-webkit-progress-bar {\n",
       "        background: repeating-linear-gradient(45deg, #7e7e7e, #7e7e7e 10px, #5c5c5c 10px, #5c5c5c 20px);\n",
       "    }\n",
       "    .progress-bar-interrupted, .progress-bar-interrupted::-webkit-progress-bar {\n",
       "        background: #F44336;\n",
       "    }\n",
       "</style>\n"
      ],
      "text/plain": [
       "<IPython.core.display.HTML object>"
      ]
     },
     "metadata": {},
     "output_type": "display_data"
    },
    {
     "data": {
      "text/html": [
       "<table border=\"1\" class=\"dataframe\">\n",
       "  <thead>\n",
       "    <tr style=\"text-align: left;\">\n",
       "      <th>epoch</th>\n",
       "      <th>train_loss</th>\n",
       "      <th>valid_loss</th>\n",
       "      <th>gen_loss</th>\n",
       "      <th>disc_loss</th>\n",
       "      <th>time</th>\n",
       "    </tr>\n",
       "  </thead>\n",
       "  <tbody>\n",
       "    <tr>\n",
       "      <td>0</td>\n",
       "      <td>1.126482</td>\n",
       "      <td>#na#</td>\n",
       "      <td>0.869020</td>\n",
       "      <td>1.304149</td>\n",
       "      <td>08:58</td>\n",
       "    </tr>\n",
       "  </tbody>\n",
       "</table>"
      ],
      "text/plain": [
       "<IPython.core.display.HTML object>"
      ]
     },
     "metadata": {},
     "output_type": "display_data"
    },
    {
     "data": {
      "image/png": "[encoded data removed]",
      "text/plain": [
       "<Figure size 1600x400 with 4 Axes>"
      ]
     },
     "metadata": {},
     "output_type": "display_data"
    }
   ],
   "source": [
    "learn.fit(1, [1e-4, 1e-3])"
   ]
  },
  {
   "cell_type": "code",
   "execution_count": 36,
   "metadata": {
    "executionInfo": {
     "elapsed": 2271,
     "status": "ok",
     "timestamp": 1680102149291,
     "user": {
      "displayName": "Ruiqing Bao",
      "userId": "07933744161628420215"
     },
     "user_tz": -480
    },
    "id": "4e6RyJ0fHfSs"
   },
   "outputs": [],
   "source": [
    "model_save_root=r'/content/gdrive/MyDrive/pretrained_model'\n",
    "learn.save(os.path.join(model_save_root,'naip_styleGAN_32'))\n",
    "#learn.save_encoder(os.path.join(model_save_root,'naip_styleGAN_32_encoder'))"
   ]
  },
  {
   "cell_type": "code",
   "execution_count": 127,
   "metadata": {
    "executionInfo": {
     "elapsed": 1109,
     "status": "ok",
     "timestamp": 1680102259927,
     "user": {
      "displayName": "Ruiqing Bao",
      "userId": "07933744161628420215"
     },
     "user_tz": -480
    },
    "id": "-SEXNK-tYh4-",
    "tags": []
   },
   "outputs": [],
   "source": [
    "# 64x64\n",
    "learn.grow_model(data_64, alpha_batch=13750)"
   ]
  },
  {
   "cell_type": "code",
   "execution_count": 128,
   "metadata": {
    "colab": {
     "base_uri": "https://localhost:8080/",
     "height": 95
    },
    "id": "dElt2ShkYkbK",
    "outputId": "58b5b44f-3358-43ae-f755-6fbaef32605b",
    "tags": []
   },
   "outputs": [
    {
     "data": {
      "text/html": [
       "\n",
       "<style>\n",
       "    /* Turns off some styling */\n",
       "    progress {\n",
       "        /* gets rid of default border in Firefox and Opera. */\n",
       "        border: none;\n",
       "        /* Needs to be in here for Safari polyfill so background images work as expected. */\n",
       "        background-size: auto;\n",
       "    }\n",
       "    progress:not([value]), progress:not([value])::-webkit-progress-bar {\n",
       "        background: repeating-linear-gradient(45deg, #7e7e7e, #7e7e7e 10px, #5c5c5c 10px, #5c5c5c 20px);\n",
       "    }\n",
       "    .progress-bar-interrupted, .progress-bar-interrupted::-webkit-progress-bar {\n",
       "        background: #F44336;\n",
       "    }\n",
       "</style>\n"
      ],
      "text/plain": [
       "<IPython.core.display.HTML object>"
      ]
     },
     "metadata": {},
     "output_type": "display_data"
    },
    {
     "data": {
      "text/html": [
       "\n",
       "    <div>\n",
       "      <progress value='0' class='' max='1' style='width:300px; height:20px; vertical-align: middle;'></progress>\n",
       "      0.00% [0/1 00:00&lt;?]\n",
       "    </div>\n",
       "    \n",
       "<table border=\"1\" class=\"dataframe\">\n",
       "  <thead>\n",
       "    <tr style=\"text-align: left;\">\n",
       "      <th>epoch</th>\n",
       "      <th>train_loss</th>\n",
       "      <th>valid_loss</th>\n",
       "      <th>gen_loss</th>\n",
       "      <th>disc_loss</th>\n",
       "      <th>time</th>\n",
       "    </tr>\n",
       "  </thead>\n",
       "  <tbody>\n",
       "  </tbody>\n",
       "</table><p>\n",
       "\n",
       "    <div>\n",
       "      <progress value='0' class='' max='416' style='width:300px; height:20px; vertical-align: middle;'></progress>\n",
       "      0.00% [0/416 00:00&lt;?]\n",
       "    </div>\n",
       "    "
      ],
      "text/plain": [
       "<IPython.core.display.HTML object>"
      ]
     },
     "metadata": {},
     "output_type": "display_data"
    },
    {
     "ename": "OutOfMemoryError",
     "evalue": "CUDA out of memory. Tried to allocate 384.00 MiB (GPU 0; 8.00 GiB total capacity; 6.20 GiB already allocated; 0 bytes free; 6.94 GiB reserved in total by PyTorch) If reserved memory is >> allocated memory try setting max_split_size_mb to avoid fragmentation.  See documentation for Memory Management and PYTORCH_CUDA_ALLOC_CONF",
     "output_type": "error",
     "traceback": [
      "\u001b[1;31m---------------------------------------------------------------------------\u001b[0m",
      "\u001b[1;31mOutOfMemoryError\u001b[0m                          Traceback (most recent call last)",
      "Cell \u001b[1;32mIn[128], line 1\u001b[0m\n\u001b[1;32m----> 1\u001b[0m \u001b[43mlearn\u001b[49m\u001b[38;5;241;43m.\u001b[39;49m\u001b[43mfit\u001b[49m\u001b[43m(\u001b[49m\u001b[38;5;241;43m1\u001b[39;49m\u001b[43m,\u001b[49m\u001b[43m \u001b[49m\u001b[43m[\u001b[49m\u001b[38;5;241;43m1e-4\u001b[39;49m\u001b[43m,\u001b[49m\u001b[43m \u001b[49m\u001b[38;5;241;43m1e-3\u001b[39;49m\u001b[43m]\u001b[49m\u001b[43m)\u001b[49m\n",
      "File \u001b[1;32m~\\anaconda3\\envs\\fastai_old\\lib\\site-packages\\fastai\\basic_train.py:200\u001b[0m, in \u001b[0;36mLearner.fit\u001b[1;34m(self, epochs, lr, wd, callbacks)\u001b[0m\n\u001b[0;32m    198\u001b[0m \u001b[38;5;28;01melse\u001b[39;00m: \u001b[38;5;28mself\u001b[39m\u001b[38;5;241m.\u001b[39mopt\u001b[38;5;241m.\u001b[39mlr,\u001b[38;5;28mself\u001b[39m\u001b[38;5;241m.\u001b[39mopt\u001b[38;5;241m.\u001b[39mwd \u001b[38;5;241m=\u001b[39m lr,wd\n\u001b[0;32m    199\u001b[0m callbacks \u001b[38;5;241m=\u001b[39m [cb(\u001b[38;5;28mself\u001b[39m) \u001b[38;5;28;01mfor\u001b[39;00m cb \u001b[38;5;129;01min\u001b[39;00m \u001b[38;5;28mself\u001b[39m\u001b[38;5;241m.\u001b[39mcallback_fns \u001b[38;5;241m+\u001b[39m listify(defaults\u001b[38;5;241m.\u001b[39mextra_callback_fns)] \u001b[38;5;241m+\u001b[39m listify(callbacks)\n\u001b[1;32m--> 200\u001b[0m \u001b[43mfit\u001b[49m\u001b[43m(\u001b[49m\u001b[43mepochs\u001b[49m\u001b[43m,\u001b[49m\u001b[43m \u001b[49m\u001b[38;5;28;43mself\u001b[39;49m\u001b[43m,\u001b[49m\u001b[43m \u001b[49m\u001b[43mmetrics\u001b[49m\u001b[38;5;241;43m=\u001b[39;49m\u001b[38;5;28;43mself\u001b[39;49m\u001b[38;5;241;43m.\u001b[39;49m\u001b[43mmetrics\u001b[49m\u001b[43m,\u001b[49m\u001b[43m \u001b[49m\u001b[43mcallbacks\u001b[49m\u001b[38;5;241;43m=\u001b[39;49m\u001b[38;5;28;43mself\u001b[39;49m\u001b[38;5;241;43m.\u001b[39;49m\u001b[43mcallbacks\u001b[49m\u001b[38;5;241;43m+\u001b[39;49m\u001b[43mcallbacks\u001b[49m\u001b[43m)\u001b[49m\n",
      "File \u001b[1;32m~\\anaconda3\\envs\\fastai_old\\lib\\site-packages\\fastai\\basic_train.py:101\u001b[0m, in \u001b[0;36mfit\u001b[1;34m(epochs, learn, callbacks, metrics)\u001b[0m\n\u001b[0;32m     99\u001b[0m \u001b[38;5;28;01mfor\u001b[39;00m xb,yb \u001b[38;5;129;01min\u001b[39;00m progress_bar(learn\u001b[38;5;241m.\u001b[39mdata\u001b[38;5;241m.\u001b[39mtrain_dl, parent\u001b[38;5;241m=\u001b[39mpbar):\n\u001b[0;32m    100\u001b[0m     xb, yb \u001b[38;5;241m=\u001b[39m cb_handler\u001b[38;5;241m.\u001b[39mon_batch_begin(xb, yb)\n\u001b[1;32m--> 101\u001b[0m     loss \u001b[38;5;241m=\u001b[39m \u001b[43mloss_batch\u001b[49m\u001b[43m(\u001b[49m\u001b[43mlearn\u001b[49m\u001b[38;5;241;43m.\u001b[39;49m\u001b[43mmodel\u001b[49m\u001b[43m,\u001b[49m\u001b[43m \u001b[49m\u001b[43mxb\u001b[49m\u001b[43m,\u001b[49m\u001b[43m \u001b[49m\u001b[43myb\u001b[49m\u001b[43m,\u001b[49m\u001b[43m \u001b[49m\u001b[43mlearn\u001b[49m\u001b[38;5;241;43m.\u001b[39;49m\u001b[43mloss_func\u001b[49m\u001b[43m,\u001b[49m\u001b[43m \u001b[49m\u001b[43mlearn\u001b[49m\u001b[38;5;241;43m.\u001b[39;49m\u001b[43mopt\u001b[49m\u001b[43m,\u001b[49m\u001b[43m \u001b[49m\u001b[43mcb_handler\u001b[49m\u001b[43m)\u001b[49m\n\u001b[0;32m    102\u001b[0m     \u001b[38;5;28;01mif\u001b[39;00m cb_handler\u001b[38;5;241m.\u001b[39mon_batch_end(loss): \u001b[38;5;28;01mbreak\u001b[39;00m\n\u001b[0;32m    104\u001b[0m \u001b[38;5;28;01mif\u001b[39;00m \u001b[38;5;129;01mnot\u001b[39;00m cb_handler\u001b[38;5;241m.\u001b[39mskip_validate \u001b[38;5;129;01mand\u001b[39;00m \u001b[38;5;129;01mnot\u001b[39;00m learn\u001b[38;5;241m.\u001b[39mdata\u001b[38;5;241m.\u001b[39mempty_val:\n",
      "File \u001b[1;32m~\\anaconda3\\envs\\fastai_old\\lib\\site-packages\\fastai\\basic_train.py:34\u001b[0m, in \u001b[0;36mloss_batch\u001b[1;34m(model, xb, yb, loss_func, opt, cb_handler)\u001b[0m\n\u001b[0;32m     32\u001b[0m \u001b[38;5;28;01mif\u001b[39;00m opt \u001b[38;5;129;01mis\u001b[39;00m \u001b[38;5;129;01mnot\u001b[39;00m \u001b[38;5;28;01mNone\u001b[39;00m:\n\u001b[0;32m     33\u001b[0m     loss,skip_bwd \u001b[38;5;241m=\u001b[39m cb_handler\u001b[38;5;241m.\u001b[39mon_backward_begin(loss)\n\u001b[1;32m---> 34\u001b[0m     \u001b[38;5;28;01mif\u001b[39;00m \u001b[38;5;129;01mnot\u001b[39;00m skip_bwd:                     \u001b[43mloss\u001b[49m\u001b[38;5;241;43m.\u001b[39;49m\u001b[43mbackward\u001b[49m\u001b[43m(\u001b[49m\u001b[43m)\u001b[49m\n\u001b[0;32m     35\u001b[0m     \u001b[38;5;28;01mif\u001b[39;00m \u001b[38;5;129;01mnot\u001b[39;00m cb_handler\u001b[38;5;241m.\u001b[39mon_backward_end(): opt\u001b[38;5;241m.\u001b[39mstep()\n\u001b[0;32m     36\u001b[0m     \u001b[38;5;28;01mif\u001b[39;00m \u001b[38;5;129;01mnot\u001b[39;00m cb_handler\u001b[38;5;241m.\u001b[39mon_step_end():     opt\u001b[38;5;241m.\u001b[39mzero_grad()\n",
      "File \u001b[1;32m~\\anaconda3\\envs\\fastai_old\\lib\\site-packages\\torch\\_tensor.py:487\u001b[0m, in \u001b[0;36mTensor.backward\u001b[1;34m(self, gradient, retain_graph, create_graph, inputs)\u001b[0m\n\u001b[0;32m    477\u001b[0m \u001b[38;5;28;01mif\u001b[39;00m has_torch_function_unary(\u001b[38;5;28mself\u001b[39m):\n\u001b[0;32m    478\u001b[0m     \u001b[38;5;28;01mreturn\u001b[39;00m handle_torch_function(\n\u001b[0;32m    479\u001b[0m         Tensor\u001b[38;5;241m.\u001b[39mbackward,\n\u001b[0;32m    480\u001b[0m         (\u001b[38;5;28mself\u001b[39m,),\n\u001b[1;32m   (...)\u001b[0m\n\u001b[0;32m    485\u001b[0m         inputs\u001b[38;5;241m=\u001b[39minputs,\n\u001b[0;32m    486\u001b[0m     )\n\u001b[1;32m--> 487\u001b[0m \u001b[43mtorch\u001b[49m\u001b[38;5;241;43m.\u001b[39;49m\u001b[43mautograd\u001b[49m\u001b[38;5;241;43m.\u001b[39;49m\u001b[43mbackward\u001b[49m\u001b[43m(\u001b[49m\n\u001b[0;32m    488\u001b[0m \u001b[43m    \u001b[49m\u001b[38;5;28;43mself\u001b[39;49m\u001b[43m,\u001b[49m\u001b[43m \u001b[49m\u001b[43mgradient\u001b[49m\u001b[43m,\u001b[49m\u001b[43m \u001b[49m\u001b[43mretain_graph\u001b[49m\u001b[43m,\u001b[49m\u001b[43m \u001b[49m\u001b[43mcreate_graph\u001b[49m\u001b[43m,\u001b[49m\u001b[43m \u001b[49m\u001b[43minputs\u001b[49m\u001b[38;5;241;43m=\u001b[39;49m\u001b[43minputs\u001b[49m\n\u001b[0;32m    489\u001b[0m \u001b[43m\u001b[49m\u001b[43m)\u001b[49m\n",
      "File \u001b[1;32m~\\anaconda3\\envs\\fastai_old\\lib\\site-packages\\torch\\autograd\\__init__.py:200\u001b[0m, in \u001b[0;36mbackward\u001b[1;34m(tensors, grad_tensors, retain_graph, create_graph, grad_variables, inputs)\u001b[0m\n\u001b[0;32m    195\u001b[0m     retain_graph \u001b[38;5;241m=\u001b[39m create_graph\n\u001b[0;32m    197\u001b[0m \u001b[38;5;66;03m# The reason we repeat same the comment below is that\u001b[39;00m\n\u001b[0;32m    198\u001b[0m \u001b[38;5;66;03m# some Python versions print out the first line of a multi-line function\u001b[39;00m\n\u001b[0;32m    199\u001b[0m \u001b[38;5;66;03m# calls in the traceback and some print out the last line\u001b[39;00m\n\u001b[1;32m--> 200\u001b[0m \u001b[43mVariable\u001b[49m\u001b[38;5;241;43m.\u001b[39;49m\u001b[43m_execution_engine\u001b[49m\u001b[38;5;241;43m.\u001b[39;49m\u001b[43mrun_backward\u001b[49m\u001b[43m(\u001b[49m\u001b[43m  \u001b[49m\u001b[38;5;66;43;03m# Calls into the C++ engine to run the backward pass\u001b[39;49;00m\n\u001b[0;32m    201\u001b[0m \u001b[43m    \u001b[49m\u001b[43mtensors\u001b[49m\u001b[43m,\u001b[49m\u001b[43m \u001b[49m\u001b[43mgrad_tensors_\u001b[49m\u001b[43m,\u001b[49m\u001b[43m \u001b[49m\u001b[43mretain_graph\u001b[49m\u001b[43m,\u001b[49m\u001b[43m \u001b[49m\u001b[43mcreate_graph\u001b[49m\u001b[43m,\u001b[49m\u001b[43m \u001b[49m\u001b[43minputs\u001b[49m\u001b[43m,\u001b[49m\n\u001b[0;32m    202\u001b[0m \u001b[43m    \u001b[49m\u001b[43mallow_unreachable\u001b[49m\u001b[38;5;241;43m=\u001b[39;49m\u001b[38;5;28;43;01mTrue\u001b[39;49;00m\u001b[43m,\u001b[49m\u001b[43m \u001b[49m\u001b[43maccumulate_grad\u001b[49m\u001b[38;5;241;43m=\u001b[39;49m\u001b[38;5;28;43;01mTrue\u001b[39;49;00m\u001b[43m)\u001b[49m\n",
      "\u001b[1;31mOutOfMemoryError\u001b[0m: CUDA out of memory. Tried to allocate 384.00 MiB (GPU 0; 8.00 GiB total capacity; 6.20 GiB already allocated; 0 bytes free; 6.94 GiB reserved in total by PyTorch) If reserved memory is >> allocated memory try setting max_split_size_mb to avoid fragmentation.  See documentation for Memory Management and PYTORCH_CUDA_ALLOC_CONF"
     ]
    }
   ],
   "source": [
    "learn.fit(1, [1e-4, 1e-3])"
   ]
  },
  {
   "cell_type": "code",
   "execution_count": null,
   "metadata": {
    "id": "D0Znjcnk5RIJ"
   },
   "outputs": [],
   "source": [
    "learn.save(os.path.join(model_save_root,'naip_styleGAN_64'))"
   ]
  },
  {
   "cell_type": "code",
   "execution_count": null,
   "metadata": {
    "id": "mx8srS3MYlyF"
   },
   "outputs": [],
   "source": [
    "# 128x128\n",
    "learn.grow_model(data_128, alpha_batch=30000)"
   ]
  },
  {
   "cell_type": "code",
   "execution_count": null,
   "metadata": {
    "colab": {
     "base_uri": "https://localhost:8080/",
     "height": 348
    },
    "executionInfo": {
     "elapsed": 1965203,
     "status": "ok",
     "timestamp": 1679915399366,
     "user": {
      "displayName": "Ruiqing Bao",
      "userId": "07933744161628420215"
     },
     "user_tz": -480
    },
    "id": "m3qTXC1eYoX0",
    "outputId": "f0975316-56ad-411f-b2c7-dea6c35db5b7"
   },
   "outputs": [
    {
     "data": {
      "text/html": [
       "\n",
       "<style>\n",
       "    /* Turns off some styling */\n",
       "    progress {\n",
       "        /* gets rid of default border in Firefox and Opera. */\n",
       "        border: none;\n",
       "        /* Needs to be in here for Safari polyfill so background images work as expected. */\n",
       "        background-size: auto;\n",
       "    }\n",
       "    progress:not([value]), progress:not([value])::-webkit-progress-bar {\n",
       "        background: repeating-linear-gradient(45deg, #7e7e7e, #7e7e7e 10px, #5c5c5c 10px, #5c5c5c 20px);\n",
       "    }\n",
       "    .progress-bar-interrupted, .progress-bar-interrupted::-webkit-progress-bar {\n",
       "        background: #F44336;\n",
       "    }\n",
       "</style>\n"
      ],
      "text/plain": [
       "<IPython.core.display.HTML object>"
      ]
     },
     "metadata": {},
     "output_type": "display_data"
    },
    {
     "data": {
      "text/html": [
       "<table border=\"1\" class=\"dataframe\">\n",
       "  <thead>\n",
       "    <tr style=\"text-align: left;\">\n",
       "      <th>epoch</th>\n",
       "      <th>train_loss</th>\n",
       "      <th>valid_loss</th>\n",
       "      <th>gen_loss</th>\n",
       "      <th>disc_loss</th>\n",
       "      <th>time</th>\n",
       "    </tr>\n",
       "  </thead>\n",
       "  <tbody>\n",
       "    <tr>\n",
       "      <td>0</td>\n",
       "      <td>4.483214</td>\n",
       "      <td>#na#</td>\n",
       "      <td>14.513872</td>\n",
       "      <td>0.317239</td>\n",
       "      <td>16:19</td>\n",
       "    </tr>\n",
       "    <tr>\n",
       "      <td>1</td>\n",
       "      <td>3.490206</td>\n",
       "      <td>#na#</td>\n",
       "      <td>10.490265</td>\n",
       "      <td>0.581500</td>\n",
       "      <td>16:24</td>\n",
       "    </tr>\n",
       "  </tbody>\n",
       "</table>"
      ],
      "text/plain": [
       "<IPython.core.display.HTML object>"
      ]
     },
     "metadata": {},
     "output_type": "display_data"
    },
    {
     "data": {
      "image/png": "[encoded data removed]",
      "text/plain": [
       "<Figure size 1152x288 with 4 Axes>"
      ]
     },
     "metadata": {},
     "output_type": "display_data"
    }
   ],
   "source": [
    "learn.fit(2, [1e-4, 1e-3])"
   ]
  },
  {
   "cell_type": "code",
   "execution_count": null,
   "metadata": {
    "id": "ZrJIfrGVYqRv"
   },
   "outputs": [],
   "source": [
    "# 256x256\n",
    "learn.grow_model(data_256, alpha_batch=66000)"
   ]
  },
  {
   "cell_type": "code",
   "execution_count": null,
   "metadata": {
    "colab": {
     "base_uri": "https://localhost:8080/",
     "height": 317
    },
    "executionInfo": {
     "elapsed": 8871,
     "status": "ok",
     "timestamp": 1679925309327,
     "user": {
      "displayName": "Ruiqing Bao",
      "userId": "07933744161628420215"
     },
     "user_tz": -480
    },
    "id": "TM5lKweHY-eF",
    "outputId": "35c2942b-c09f-45f0-e1e8-558e59d08447"
   },
   "outputs": [
    {
     "data": {
      "text/html": [
       "\n",
       "<style>\n",
       "    /* Turns off some styling */\n",
       "    progress {\n",
       "        /* gets rid of default border in Firefox and Opera. */\n",
       "        border: none;\n",
       "        /* Needs to be in here for Safari polyfill so background images work as expected. */\n",
       "        background-size: auto;\n",
       "    }\n",
       "    progress:not([value]), progress:not([value])::-webkit-progress-bar {\n",
       "        background: repeating-linear-gradient(45deg, #7e7e7e, #7e7e7e 10px, #5c5c5c 10px, #5c5c5c 20px);\n",
       "    }\n",
       "    .progress-bar-interrupted, .progress-bar-interrupted::-webkit-progress-bar {\n",
       "        background: #F44336;\n",
       "    }\n",
       "</style>\n"
      ],
      "text/plain": [
       "<IPython.core.display.HTML object>"
      ]
     },
     "metadata": {},
     "output_type": "display_data"
    },
    {
     "data": {
      "text/html": [
       "<table border=\"1\" class=\"dataframe\">\n",
       "  <thead>\n",
       "    <tr style=\"text-align: left;\">\n",
       "      <th>epoch</th>\n",
       "      <th>train_loss</th>\n",
       "      <th>valid_loss</th>\n",
       "      <th>gen_loss</th>\n",
       "      <th>disc_loss</th>\n",
       "      <th>time</th>\n",
       "    </tr>\n",
       "  </thead>\n",
       "  <tbody>\n",
       "    <tr>\n",
       "      <td>0</td>\n",
       "      <td>2.035564</td>\n",
       "      <td>#na#</td>\n",
       "      <td>6.515068</td>\n",
       "      <td>0.116472</td>\n",
       "      <td>00:08</td>\n",
       "    </tr>\n",
       "  </tbody>\n",
       "</table>"
      ],
      "text/plain": [
       "<IPython.core.display.HTML object>"
      ]
     },
     "metadata": {},
     "output_type": "display_data"
    },
    {
     "data": {
      "image/png": "[encoded data removed]",
      "text/plain": [
       "<Figure size 1152x288 with 4 Axes>"
      ]
     },
     "metadata": {},
     "output_type": "display_data"
    }
   ],
   "source": [
    "learn.fit(1, [1e-5, 1e-3])"
   ]
  },
  {
   "cell_type": "code",
   "execution_count": null,
   "metadata": {
    "colab": {
     "base_uri": "https://localhost:8080/",
     "height": 317
    },
    "executionInfo": {
     "elapsed": 9102,
     "status": "ok",
     "timestamp": 1679929634242,
     "user": {
      "displayName": "Ruiqing Bao",
      "userId": "07933744161628420215"
     },
     "user_tz": -480
    },
    "id": "vQsg2sgfY_7f",
    "outputId": "84426769-51d8-4485-f25b-434ab0488bf5"
   },
   "outputs": [
    {
     "data": {
      "text/html": [
       "\n",
       "<style>\n",
       "    /* Turns off some styling */\n",
       "    progress {\n",
       "        /* gets rid of default border in Firefox and Opera. */\n",
       "        border: none;\n",
       "        /* Needs to be in here for Safari polyfill so background images work as expected. */\n",
       "        background-size: auto;\n",
       "    }\n",
       "    progress:not([value]), progress:not([value])::-webkit-progress-bar {\n",
       "        background: repeating-linear-gradient(45deg, #7e7e7e, #7e7e7e 10px, #5c5c5c 10px, #5c5c5c 20px);\n",
       "    }\n",
       "    .progress-bar-interrupted, .progress-bar-interrupted::-webkit-progress-bar {\n",
       "        background: #F44336;\n",
       "    }\n",
       "</style>\n"
      ],
      "text/plain": [
       "<IPython.core.display.HTML object>"
      ]
     },
     "metadata": {},
     "output_type": "display_data"
    },
    {
     "data": {
      "text/html": [
       "<table border=\"1\" class=\"dataframe\">\n",
       "  <thead>\n",
       "    <tr style=\"text-align: left;\">\n",
       "      <th>epoch</th>\n",
       "      <th>train_loss</th>\n",
       "      <th>valid_loss</th>\n",
       "      <th>gen_loss</th>\n",
       "      <th>disc_loss</th>\n",
       "      <th>time</th>\n",
       "    </tr>\n",
       "  </thead>\n",
       "  <tbody>\n",
       "    <tr>\n",
       "      <td>0</td>\n",
       "      <td>2.155932</td>\n",
       "      <td>#na#</td>\n",
       "      <td>6.998212</td>\n",
       "      <td>0.106484</td>\n",
       "      <td>00:08</td>\n",
       "    </tr>\n",
       "  </tbody>\n",
       "</table>"
      ],
      "text/plain": [
       "<IPython.core.display.HTML object>"
      ]
     },
     "metadata": {},
     "output_type": "display_data"
    },
    {
     "data": {
      "image/png": "[encoded data removed]",
      "text/plain": [
       "<Figure size 1152x288 with 4 Axes>"
      ]
     },
     "metadata": {},
     "output_type": "display_data"
    }
   ],
   "source": [
    "learn.fit(1, [1e-5, 1e-3])"
   ]
  },
  {
   "cell_type": "code",
   "execution_count": null,
   "metadata": {
    "tags": []
   },
   "outputs": [],
   "source": []
  },
  {
   "cell_type": "code",
   "execution_count": 49,
   "metadata": {
    "tags": []
   },
   "outputs": [
    {
     "data": {
      "image/png": "[encoded data removed]",
      "text/plain": [
       "<Figure size 700x700 with 9 Axes>"
      ]
     },
     "metadata": {},
     "output_type": "display_data"
    }
   ],
   "source": [
    "data_32.show_batch(rows=3,figsize=(7,7))"
   ]
  },
  {
   "cell_type": "code",
   "execution_count": 51,
   "metadata": {
    "tags": []
   },
   "outputs": [
    {
     "data": {
      "text/plain": [
       "device(type='cuda', index=0)"
      ]
     },
     "execution_count": 51,
     "metadata": {},
     "output_type": "execute_result"
    }
   ],
   "source": [
    "ngpu=1\n",
    "device=torch.device(\"cuda:0\" if (torch.cuda.is_available() and ngpu > 0) else \"cpu\") # Decide which device we want to run on\n",
    "device"
   ]
  },
  {
   "cell_type": "code",
   "execution_count": 84,
   "metadata": {
    "executionInfo": {
     "elapsed": 2,
     "status": "ok",
     "timestamp": 1680073960043,
     "user": {
      "displayName": "Ruiqing Bao",
      "userId": "07933744161628420215"
     },
     "user_tz": -480
    },
    "id": "MfeGryzXTpEu",
    "tags": []
   },
   "outputs": [],
   "source": [
    "g = StyledGenerator()\n",
    "d = Discriminator()"
   ]
  },
  {
   "cell_type": "code",
   "execution_count": 85,
   "metadata": {
    "executionInfo": {
     "elapsed": 3465,
     "status": "ok",
     "timestamp": 1680073965374,
     "user": {
      "displayName": "Ruiqing Bao",
      "userId": "07933744161628420215"
     },
     "user_tz": -480
    },
    "id": "iV2Rq3viZguN",
    "tags": []
   },
   "outputs": [],
   "source": [
    "learn = StyleGANLearner.stylegan_r1(data_32, g, d, switch_eval=False,\n",
    "                        opt_func = partial(optim.Adam, betas = (0.,0.99)), wd=0., alpha_batch=6000, clip=None,\n",
    "                              switcher=partial(FixedGANSwitcher, n_crit=2, n_gen=1))"
   ]
  },
  {
   "cell_type": "code",
   "execution_count": 86,
   "metadata": {
    "executionInfo": {
     "elapsed": 5,
     "status": "ok",
     "timestamp": 1680073965375,
     "user": {
      "displayName": "Ruiqing Bao",
      "userId": "07933744161628420215"
     },
     "user_tz": -480
    },
    "id": "s1UV65tZbMxc",
    "tags": []
   },
   "outputs": [],
   "source": [
    "def style_split(model):\n",
    "    groups = [[model.generator.style]]\n",
    "    groups += [[model.generator.generator, model.critic]]\n",
    "    return groups"
   ]
  },
  {
   "cell_type": "code",
   "execution_count": 87,
   "metadata": {
    "executionInfo": {
     "elapsed": 4,
     "status": "ok",
     "timestamp": 1680073965375,
     "user": {
      "displayName": "Ruiqing Bao",
      "userId": "07933744161628420215"
     },
     "user_tz": -480
    },
    "id": "YVsC6Ch4iVlC",
    "tags": []
   },
   "outputs": [],
   "source": [
    "learn.split(style_split);"
   ]
  },
  {
   "cell_type": "code",
   "execution_count": 88,
   "metadata": {
    "tags": []
   },
   "outputs": [],
   "source": [
    "pretrained_model_fn=r'C:\\Users\\richi\\omen_richiebao\\omen_github\\models_trained\\naip_styleGAN_32'\n",
    "learn=learn.load(pretrained_model_fn)"
   ]
  },
  {
   "cell_type": "code",
   "execution_count": 105,
   "metadata": {
    "tags": []
   },
   "outputs": [
    {
     "data": {
      "text/plain": [
       "torch.Size([1, 3, 32, 32])"
      ]
     },
     "execution_count": 105,
     "metadata": {},
     "output_type": "execute_result"
    }
   ],
   "source": [
    "latents = torch.randn(1,3,32,32, device=device)\n",
    "latents.shape"
   ]
  },
  {
   "cell_type": "code",
   "execution_count": 90,
   "metadata": {
    "tags": []
   },
   "outputs": [
    {
     "name": "stdout",
     "output_type": "stream",
     "text": [
      "torch.Size([1, 3, 32, 32])\n"
     ]
    }
   ],
   "source": [
    "fixed_noise = torch.randn(1,3,32,32,  device=device)\n",
    "print(fixed_noise.shape)"
   ]
  },
  {
   "cell_type": "code",
   "execution_count": 126,
   "metadata": {
    "colab": {
     "base_uri": "https://localhost:8080/",
     "height": 1000
    },
    "executionInfo": {
     "elapsed": 2510,
     "status": "ok",
     "timestamp": 1680102221848,
     "user": {
      "displayName": "Ruiqing Bao",
      "userId": "07933744161628420215"
     },
     "user_tz": -480
    },
    "id": "uo4t_yEIafUK",
    "outputId": "8d5c4065-986a-4779-d8b0-e931491af5ce",
    "tags": []
   },
   "outputs": [
    {
     "data": {
      "image/png": "[encoded data removed]",
      "text/plain": [
       "<Figure size 1600x1600 with 9 Axes>"
      ]
     },
     "metadata": {},
     "output_type": "display_data"
    }
   ],
   "source": [
    "learn.gan_trainer.switch(gen_mode=True)\n",
    "learn.show_results(ds_type=DatasetType.Train, rows=3, figsize=(16,16))"
   ]
  },
  {
   "cell_type": "code",
   "execution_count": 37,
   "metadata": {
    "colab": {
     "base_uri": "https://localhost:8080/",
     "height": 1000
    },
    "executionInfo": {
     "elapsed": 2510,
     "status": "ok",
     "timestamp": 1680102221848,
     "user": {
      "displayName": "Ruiqing Bao",
      "userId": "07933744161628420215"
     },
     "user_tz": -480
    },
    "id": "uo4t_yEIafUK",
    "outputId": "8d5c4065-986a-4779-d8b0-e931491af5ce"
   },
   "outputs": [
    {
     "data": {
      "image/png": "[encoded data removed]",
      "text/plain": [
       "<Figure size 1152x1152 with 9 Axes>"
      ]
     },
     "metadata": {
      "needs_background": "light"
     },
     "output_type": "display_data"
    }
   ],
   "source": [
    "learn.gan_trainer.switch(gen_mode=True)\n",
    "learn.show_results(ds_type=DatasetType.Train, rows=3, figsize=(16,16))"
   ]
  },
  {
   "cell_type": "code",
   "execution_count": 27,
   "metadata": {
    "colab": {
     "base_uri": "https://localhost:8080/"
    },
    "executionInfo": {
     "elapsed": 11684,
     "status": "ok",
     "timestamp": 1679919206872,
     "user": {
      "displayName": "Ruiqing Bao",
      "userId": "07933744161628420215"
     },
     "user_tz": -480
    },
    "id": "KvsFOgWAanIk",
    "outputId": "50f9a558-87ee-46f6-8c0c-26f36b63f117",
    "tags": []
   },
   "outputs": [],
   "source": [
    "#!zip -r /content/file.zip /content/naip_imgs"
   ]
  },
  {
   "cell_type": "code",
   "execution_count": null,
   "metadata": {
    "colab": {
     "base_uri": "https://localhost:8080/",
     "height": 17
    },
    "executionInfo": {
     "elapsed": 451,
     "status": "ok",
     "timestamp": 1679919279451,
     "user": {
      "displayName": "Ruiqing Bao",
      "userId": "07933744161628420215"
     },
     "user_tz": -480
    },
    "id": "8EPNllp6_KIH",
    "outputId": "1602330d-e14d-49ea-9984-94dd66b0edc7"
   },
   "outputs": [
    {
     "data": {
      "application/javascript": [
       "\n",
       "    async function download(id, filename, size) {\n",
       "      if (!google.colab.kernel.accessAllowed) {\n",
       "        return;\n",
       "      }\n",
       "      const div = document.createElement('div');\n",
       "      const label = document.createElement('label');\n",
       "      label.textContent = `Downloading \"${filename}\": `;\n",
       "      div.appendChild(label);\n",
       "      const progress = document.createElement('progress');\n",
       "      progress.max = size;\n",
       "      div.appendChild(progress);\n",
       "      document.body.appendChild(div);\n",
       "\n",
       "      const buffers = [];\n",
       "      let downloaded = 0;\n",
       "\n",
       "      const channel = await google.colab.kernel.comms.open(id);\n",
       "      // Send a message to notify the kernel that we're ready.\n",
       "      channel.send({})\n",
       "\n",
       "      for await (const message of channel.messages) {\n",
       "        // Send a message to notify the kernel that we're ready.\n",
       "        channel.send({})\n",
       "        if (message.buffers) {\n",
       "          for (const buffer of message.buffers) {\n",
       "            buffers.push(buffer);\n",
       "            downloaded += buffer.byteLength;\n",
       "            progress.value = downloaded;\n",
       "          }\n",
       "        }\n",
       "      }\n",
       "      const blob = new Blob(buffers, {type: 'application/binary'});\n",
       "      const a = document.createElement('a');\n",
       "      a.href = window.URL.createObjectURL(blob);\n",
       "      a.download = filename;\n",
       "      div.appendChild(a);\n",
       "      a.click();\n",
       "      div.remove();\n",
       "    }\n",
       "  "
      ],
      "text/plain": [
       "<IPython.core.display.Javascript object>"
      ]
     },
     "metadata": {},
     "output_type": "display_data"
    },
    {
     "data": {
      "application/javascript": [
       "download(\"download_072c29fa-e552-4b70-ba44-91d0edf8d114\", \"file.zip\", 280601109)"
      ],
      "text/plain": [
       "<IPython.core.display.Javascript object>"
      ]
     },
     "metadata": {},
     "output_type": "display_data"
    }
   ],
   "source": [
    "from google.colab import files\n",
    "files.download(\"/content/file.zip\")"
   ]
  },
  {
   "cell_type": "code",
   "execution_count": null,
   "metadata": {
    "id": "Dc0t31g2_emc"
   },
   "outputs": [],
   "source": []
  }
 ],
 "metadata": {
  "accelerator": "GPU",
  "colab": {
   "authorship_tag": "ABX9TyOjXlkXybYTsTd2C/90NjP7",
   "machine_shape": "hm",
   "provenance": []
  },
  "gpuClass": "standard",
  "kernelspec": {
   "display_name": "Python 3 (ipykernel)",
   "language": "python",
   "name": "python3"
  },
  "language_info": {
   "codemirror_mode": {
    "name": "ipython",
    "version": 3
   },
   "file_extension": ".py",
   "mimetype": "text/x-python",
   "name": "python",
   "nbconvert_exporter": "python",
   "pygments_lexer": "ipython3",
   "version": "3.9.16"
  }
 },
 "nbformat": 4,
 "nbformat_minor": 4
}
